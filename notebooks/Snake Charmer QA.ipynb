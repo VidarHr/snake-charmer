{
 "metadata": {
  "name": "",
  "signature": "sha256:f8f4dcef3df41f37d49000e64053fb4e4b59f00c5863469ac8ca8c619705a8b5"
 },
 "nbformat": 3,
 "nbformat_minor": 0,
 "worksheets": [
  {
   "cells": [
    {
     "cell_type": "markdown",
     "metadata": {},
     "source": [
      "# Snake Charmer Quality Assurance Dept.\n",
      "## _\"All Your Eggs In One Basket\"_\n",
      "\n",
      "Welcome to the Quality Assurance Department. Here you can run tests against Snake Charmer's components, in parallel, using as many vCPUs as you assigned to the VM.\n",
      "\n",
      "**Warning:** This will take some time, even with lots of vCPUs, as some of the components' test suites take hours by themselves.\n",
      "\n",
      "The results will be written to `log/<hostname>/test_output` (relative to your `snake-charmer` directory)."
     ]
    },
    {
     "cell_type": "markdown",
     "metadata": {},
     "source": [
      "### Initialization"
     ]
    },
    {
     "cell_type": "code",
     "collapsed": false,
     "input": [
      "import subprocess\n",
      "import functools\n",
      "from concurrent.futures import ThreadPoolExecutor as Pool\n",
      "import os\n",
      "import shutil\n",
      "\n",
      "pool = Pool(os.cpu_count())\n",
      "# pool = Pool(2)\n",
      "\n",
      "outdir = '/srv/log/test_output'\n",
      "python = 'python3.4' # FIXME get this automatically\n",
      "\n",
      "shutil.rmtree(outdir, ignore_errors=True)\n",
      "os.makedirs(outdir, exist_ok=True)\n",
      "\n",
      "# TODO don't run as root\n",
      "\n",
      "# TODO ipython and numba\n",
      "\n",
      "# TODO check if we need pymc.text('full') etc.\n",
      "\n",
      "test_commands = [\n",
      "    ('pytables', '$PYTHON /usr/local/lib/$PYTHON/dist-packages/tables/tests/test_all.py --heavy'),\n",
      "    ('sympy', '$PYTHON `which nosetests` --exe sympy'),\n",
      "    ('pymc', '$PYTHON -c \"import pymc; pymc.test()\"'),\n",
      "    ('theano', '$PYTHON `which theano-nose` --batch=100 --theano'),\n",
      "    ('matplotlib', '$PYTHON -c \"import matplotlib; matplotlib.test()\"'),\n",
      "    ('numpy', '$PYTHON -c \"import numpy; numpy.test()\"'),\n",
      "    ('scipy', '$PYTHON -c \"import scipy; scipy.test()\"'),\n",
      "    ('pandas', '$PYTHON `which nosetests` pandas'),\n",
      "    ('sklearn', '$PYTHON `which nosetests` sklearn --exe'),\n",
      "    ('joblib', '$PYTHON `which nosetests` joblib'),\n",
      "    ('pillow', '(cd /tmp && ln -s /srv/cache/src/Pillow/Images . && $PYTHON /srv/cache/src/Pillow/selftest.py --installed)'),\n",
      "    ('nltk', '$PYTHON /usr/local/lib/$PYTHON/dist-packages/nltk/test/runtests.py'),\n",
      "    ('gensim', '(cd /srv/cache/src/gensim && $PYTHON setup.py test)'),\n",
      "    ('cython', '(cd /srv/cache/src/Cython/ && $PYTHON runtests.py -vv)'),\n",
      "    ('bottleneck', '$PYTHON -c \"import bottleneck as bn; bn.test()\"'),\n",
      "    ('statsmodels', '$PYTHON -c \"import statsmodels as sm; sm.test()\"'),\n",
      "    ('numexpr', '$PYTHON `which nosetests` numexpr'),\n",
      "    ('patsy', '$PYTHON `which nosetests` patsy')\n",
      "]"
     ],
     "language": "python",
     "metadata": {},
     "outputs": [],
     "prompt_number": 9
    },
    {
     "cell_type": "code",
     "collapsed": false,
     "input": [
      "def on_complete(name, future):\n",
      "    if future.exception() is not None:\n",
      "        print('\\n\\n%s FAILED!\\n\\n%s' % (name, future.exception()))\n",
      "    else:\n",
      "        print('\\n\\n%s completed with status %s' % (name, str(future.result())))\n",
      "\n",
      "for name, command in test_commands:\n",
      "    cmd_line = '%s > %s/%s.out 2>&1' % (command.replace('$PYTHON', python), outdir, name)\n",
      "    print('Submitted %s:\\t%s' % (name, cmd_line))\n",
      "    pool.submit(\n",
      "        subprocess.call, cmd_line, shell=True, executable='/bin/bash'\n",
      "    ).add_done_callback(\n",
      "        functools.partial(on_complete, name))\n",
      "\n",
      "pool.shutdown(wait=True)\n",
      "\n",
      "# TODO would be nice to get progress indicator as we go along"
     ],
     "language": "python",
     "metadata": {},
     "outputs": [
      {
       "output_type": "stream",
       "stream": "stdout",
       "text": [
        "Submitting python3.4 -c \"import statsmodels as sm; sm.test()\" > /srv/log/test_output/statsmodels.out 2>&1\n",
        "Submitting python3.4 `which nosetests` numexpr > /srv/log/test_output/numexpr.out 2>&1\n",
        "Submitting python3.4 `which nosetests` patsy > /srv/log/test_output/patsy.out 2>&1\n",
        "\n",
        "\n",
        "numexpr completed with status 0\n",
        "\n",
        "\n",
        "\n",
        "\n",
        "patsy completed with status 0\n",
        "\n",
        "\n",
        "\n",
        "\n",
        "statsmodels completed with status 143\n",
        "\n",
        "\n"
       ]
      }
     ],
     "prompt_number": 10
    }
   ],
   "metadata": {}
  }
 ]
}