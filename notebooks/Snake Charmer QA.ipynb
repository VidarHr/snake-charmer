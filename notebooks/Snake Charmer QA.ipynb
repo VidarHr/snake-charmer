{
 "metadata": {
  "name": "",
  "signature": "sha256:d8c8b1960b3024659e7b330ec632f607528a637018bc7193efb963749061775e"
 },
 "nbformat": 3,
 "nbformat_minor": 0,
 "worksheets": [
  {
   "cells": [
    {
     "cell_type": "markdown",
     "metadata": {},
     "source": [
      "# Snake Charmer Quality Assurance Dept.\n",
      "## _\"All Your Eggs In One Basket\"_\n",
      "\n",
      "### FIXME\n",
      "\n",
      "Welcome to the Quality Assurance Department. Here you can run tests against Snake Charmer's components, using this VM's IPython cluster to spread the load between vCPUs. You'll need to start up the default cluster in order to do this -- see the [Clusters tab](/tree#clusters) of the notebook homepage. Give it plenty of engines, but not more than the number of vCPUs assigned to this VM.\n",
      "\n",
      "If you start too many tests for the VM to handle at once, it will queue them up and process them when an engine becomes available."
     ]
    },
    {
     "cell_type": "markdown",
     "metadata": {},
     "source": [
      "### Initialization"
     ]
    },
    {
     "cell_type": "code",
     "collapsed": false,
     "input": [
      "import subprocess\n",
      "import functools\n",
      "from concurrent.futures import ThreadPoolExecutor as Pool\n",
      "import os\n",
      "\n",
      "# FIXME\n",
      "# pool = Pool(os.cpu_count())\n",
      "pool = Pool(2)\n",
      "\n",
      "outdir = '/srv/log/test_output' # FIXME empty out; add hostname\n",
      "python = 'python3.4' # FIXME get this automatically\n",
      "\n",
      "# TODO don't run as root\n",
      "\n",
      "# TODO ipython and numba\n",
      "\n",
      "# TODO check if we need pymc.text('full') etc.\n",
      "\n",
      "test_commands = [\n",
      "    ('pytables', '$PYTHON /usr/local/lib/$PYTHON/dist-packages/tables/tests/test_all.py --heavy'),\n",
      "    ('sympy', '$PYTHON `which nosetests` --exe sympy'),\n",
      "    ('pymc', '$PYTHON -c \"import pymc; pymc.test()\"'),\n",
      "    ('theano', '$PYTHON `which theano-nose` --batch=100 --theano'),\n",
      "    ('matplotlib', '$PYTHON -c \"import matplotlib; matplotlib.test()\"'),\n",
      "    ('numpy', '$PYTHON -c \"import numpy; numpy.test()\"'),\n",
      "    ('scipy', '$PYTHON -c \"import scipy; scipy.test()\"'),\n",
      "    ('pandas', '$PYTHON `which nosetests` pandas'),\n",
      "    ('sklearn', '$PYTHON `which nosetests` sklearn --exe'),\n",
      "    ('joblib', '$PYTHON `which nosetests` joblib'),\n",
      "    ('pillow', '(cd /tmp && ln -s /srv/cache/src/Pillow/Images . && $PYTHON /srv/cache/src/Pillow/selftest.py --installed)'),\n",
      "    ('nltk', '$PYTHON /usr/local/lib/$PYTHON/dist-packages/nltk/test/runtests.py'),\n",
      "    ('gensim', '(cd /srv/cache/src/gensim && $PYTHON setup.py test)'),\n",
      "    ('cython', '(cd /srv/cache/src/Cython/ && $PYTHON runtests.py -vv)'),\n",
      "    ('bottleneck', '$PYTHON -c \"import bottleneck as bn; bn.test()\"'),\n",
      "    ('statsmodels', '$PYTHON -c \"import statsmodels as sm; sm.test()\"'),\n",
      "    ('numexpr', '$PYTHON `which nosetests` numexpr'),\n",
      "    ('patsy', '$PYTHON `which nosetests` patsy')\n",
      "]"
     ],
     "language": "python",
     "metadata": {},
     "outputs": [],
     "prompt_number": 15
    },
    {
     "cell_type": "code",
     "collapsed": false,
     "input": [
      "def on_complete(name, future):\n",
      "    if future.exception() is not None:\n",
      "        print('\\n\\n%s FAILED!\\n\\n%s\\n\\n' % (name, future.exception()))\n",
      "    else:\n",
      "        print('\\n\\n%s completed with status %s\\n\\n' % (name, str(future.result())))"
     ],
     "language": "python",
     "metadata": {},
     "outputs": [],
     "prompt_number": 16
    },
    {
     "cell_type": "code",
     "collapsed": false,
     "input": [
      "def start(command):\n",
      "    cmd_line = '%s > %s/%s.out 2>&1' % (command, outdir, name)\n",
      "    print('\\t\\t%s' % cmd_line)\n",
      "    return subprocess.call(cmd_line, shell=True, executable='/bin/bash')"
     ],
     "language": "python",
     "metadata": {},
     "outputs": [],
     "prompt_number": 17
    },
    {
     "cell_type": "code",
     "collapsed": false,
     "input": [
      "test_commands = [\n",
      "    ('statsmodels', '$PYTHON -c \"import statsmodels as sm; sm.test()\"'),\n",
      "    ('numexpr', '$PYTHON `which nosetests` numexpr'),\n",
      "    ('patsy', '$PYTHON `which nosetests` patsy')\n",
      "] # FIXME use whole set\n",
      "\n",
      "for name, command in test_commands:\n",
      "    command = command.replace('$PYTHON', python)\n",
      "    print('Starting %s:\\n\\t%s' % (name, command))\n",
      "    pool.submit(start, command).add_done_callback(\n",
      "        functools.partial(on_complete, name))\n",
      "\n",
      "pool.shutdown(wait=False)\n",
      "\n",
      "# FIXME output is getting swallowed somewhere"
     ],
     "language": "python",
     "metadata": {},
     "outputs": [
      {
       "output_type": "stream",
       "stream": "stdout",
       "text": [
        "Starting statsmodels:\n",
        "\tpython3.4 -c \"import statsmodels as sm; sm.test()\"\n",
        "\t\tpython3.4 -c \"import statsmodels as sm; sm.test()\" > /srv/log/test_output/statsmodels.out 2>&1\n",
        "Starting numexpr:\n",
        "\tpython3.4 `which nosetests` numexpr\n",
        "\t\tpython3.4 `which nosetests` numexpr > /srv/log/test_output/numexpr.out 2>&1\n",
        "Starting patsy:\n",
        "\tpython3.4 `which nosetests` patsy\n"
       ]
      }
     ],
     "prompt_number": 18
    }
   ],
   "metadata": {}
  }
 ]
}