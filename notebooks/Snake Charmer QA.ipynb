{
 "metadata": {
  "name": "",
  "signature": "sha256:3fd839aafab588fbc108c4ae10a1f8faa17da1310cad5f6c22c2d750a8955347"
 },
 "nbformat": 3,
 "nbformat_minor": 0,
 "worksheets": [
  {
   "cells": [
    {
     "cell_type": "markdown",
     "metadata": {},
     "source": [
      "# Snake Charmer Quality Assurance Dept.\n",
      "## _\"All Your Eggs In One Basket\"_\n",
      "\n",
      "Welcome to the Quality Assurance Department. Here you can run tests against Snake Charmer's components, in parallel, using as many workers as you have vCPUs assigned to the VM.\n",
      "\n",
      "The results will be written to `log/<hostname>/test_output` (relative to your `snake-charmer` directory).\n",
      "\n",
      "**Warning:** Running the whole suite will take quite some time, even with lots of vCPUs, as some of the components' test suites take hours by themselves."
     ]
    },
    {
     "cell_type": "markdown",
     "metadata": {},
     "source": [
      "### Initialization and helper functions"
     ]
    },
    {
     "cell_type": "code",
     "collapsed": false,
     "input": [
      "import subprocess\n",
      "import functools\n",
      "from concurrent import futures\n",
      "import os\n",
      "import shutil\n",
      "import math\n",
      "from itertools import *\n",
      "import sys\n",
      "import datetime\n",
      "\n",
      "# TODO we'll need to use this for earlier versions of Python: https://pypi.python.org/pypi/futures\n",
      "\n",
      "cpus = os.cpu_count()\n",
      "workers = cpus\n",
      "\n",
      "outdir = '/srv/log/test_output'\n",
      "python = 'python3.4' # FIXME get this automatically\n",
      "\n",
      "shutil.rmtree(outdir, ignore_errors=True)\n",
      "os.makedirs(outdir, exist_ok=True)\n",
      "\n",
      "def flush():\n",
      "    sys.stdout.flush()\n",
      "    sys.stderr.flush()\n",
      "\n",
      "def get_immediate_subdirectories(dir):\n",
      "    return [name for name in os.listdir(dir)\n",
      "            if os.path.isdir(os.path.join(dir, name))]\n",
      "\n",
      "def make_cmd_line(name, command):\n",
      "    return '%s > %s/%s.out 2>&1' % (command.replace('$PYTHON', python), outdir, name)"
     ],
     "language": "python",
     "metadata": {},
     "outputs": [],
     "prompt_number": 1
    },
    {
     "cell_type": "markdown",
     "metadata": {},
     "source": [
      "### Build lists of test commands and execution functions\n",
      "\n",
      "#### TODO Simple timestamping of output starts/ends/duration\n",
      "#### TODO Use logs instead of print"
     ]
    },
    {
     "cell_type": "code",
     "collapsed": false,
     "input": [
      "serial_test_commands = [\n",
      "    ('ipython', '$PYTHON `which iptest3` --all -j'),\n",
      "    ('joblib', '$PYTHON `which nosetests` joblib'),\n",
      "    ('numba', '$PYTHON -c \"import numba; numba.testing.multitest()\"')\n",
      "]\n",
      "\n",
      "# Generate individual submodule tests for sympy and pytables, as they take forever if run in one process\n",
      "\n",
      "def make_sympy_test_cmd(submod):\n",
      "    name = 'sympy_%s' % submod\n",
      "    cmd = '$PYTHON -c \"import sympy; sympy.test(\\'/%s\\')\"' % submod\n",
      "    return (name, cmd)\n",
      "\n",
      "sympy_test_commands = (make_sympy_test_cmd(submod)\n",
      "                       for submod in get_immediate_subdirectories('/usr/local/lib/%s/dist-packages/sympy' % python)\n",
      "                       if not submod.startswith('_'))\n",
      "\n",
      "def make_pytables_test_cmd(script, test_dir):\n",
      "    name = script.replace('test_', 'pytables_').replace('.py', '')\n",
      "    cmd = '$PYTHON %s/%s --heavy' % (test_dir, script)\n",
      "    return (name, cmd)\n",
      "\n",
      "pytables_test_dir = '/usr/local/lib/%s/dist-packages/tables/tests' % python\n",
      "pytables_test_commands = [make_pytables_test_cmd(script, pytables_test_dir)\n",
      "                          for script in os.listdir(pytables_test_dir)\n",
      "                          if script.startswith('test_') and script.endswith('.py') and script != 'test_all.py']\n",
      "\n",
      "# Make sure test_queries.py is at the start, as it's a monster!\n",
      "\n",
      "def pred(elem):\n",
      "    return elem[0] != 'pytables_queries'\n",
      "\n",
      "pytables_test_commands_reordered = chain(dropwhile(pred, pytables_test_commands),\n",
      "                                         takewhile(pred, pytables_test_commands))\n",
      "\n",
      "misc_test_commands = [\n",
      "    ('cython', '(cd /srv/cache/src/Cython/ && $PYTHON runtests.py -vv)'),\n",
      "    ('pymc', '$PYTHON -c \"import pymc; pymc.test(\\'full\\')\"'),\n",
      "    ('theano', '$PYTHON `which theano-nose` --batch=100 --theano'),\n",
      "    ('matplotlib', '$PYTHON -c \"import matplotlib; matplotlib.test()\"'),\n",
      "    ('numpy', '$PYTHON -c \"import numpy; numpy.test(\\'full\\')\"'),\n",
      "    ('scipy', '$PYTHON -c \"import scipy; scipy.test(\\'full\\')\"'),\n",
      "    ('pandas', '$PYTHON `which nosetests` pandas'),\n",
      "    ('sklearn', '$PYTHON `which nosetests` sklearn --exe'),\n",
      "    ('pillow', '(cd /tmp && rm -f Images && ln -s /srv/cache/src/Pillow/Images . && $PYTHON /srv/cache/src/Pillow/selftest.py --installed)'),\n",
      "    ('nltk', '$PYTHON /usr/local/lib/$PYTHON/dist-packages/nltk/test/runtests.py'),\n",
      "    ('gensim', '(cd /srv/cache/src/gensim && $PYTHON setup.py test)'),\n",
      "    ('bottleneck', '$PYTHON -c \"import bottleneck as bn; bn.test(\\'full\\')\"'),\n",
      "    ('statsmodels', '$PYTHON -c \"import matplotlib as mpl; mpl.use(\\'Agg\\'); import statsmodels as sm; sm.test()\"'),\n",
      "    ('numexpr', '$PYTHON `which nosetests` numexpr'),\n",
      "    ('patsy', '$PYTHON `which nosetests` patsy'),\n",
      "    ('prettyplotlib', '(cd /srv/cache/src/prettyplotlib/tests && for py in $(ls test_*.py); do $PYTHON $py; done)')\n",
      "]\n",
      "\n",
      "# Interleave these three command lists, to (attempt to) get good balance of CPU and IO heavy tasks\n",
      "\n",
      "parallel_test_commands = list(filter(None,\n",
      "                                     chain(*zip_longest(pytables_test_commands_reordered,\n",
      "                                                        misc_test_commands,\n",
      "                                                        sympy_test_commands))))\n",
      "\n",
      "def run_serial_tests(*args):\n",
      "    if len(args) > 0:\n",
      "        names = set(args)\n",
      "        num = len(names)\n",
      "    else:\n",
      "        names = None\n",
      "        num = len(serial_test_commands)\n",
      "    print('Running %d tests\\n' % num)\n",
      "    for name, command in serial_test_commands:\n",
      "        flush()\n",
      "        if not names or name in names:\n",
      "            cmd_line = make_cmd_line(name, command)\n",
      "            print('%s: %s\\n' % (name, cmd_line))\n",
      "            flush()\n",
      "            rc = subprocess.call(cmd_line, shell=True, executable='/bin/bash')\n",
      "            if rc == 0:\n",
      "                print('%s: Completed\\n' % name)\n",
      "            else:\n",
      "                print('%s: **** FAILED! Exited with status %d\\n' % (name, rc))\n",
      "\n",
      "def run_parallel_tests(*args):\n",
      "    names = set(args) if len(args) > 0 else None\n",
      "    with futures.ThreadPoolExecutor(max_workers=workers) as pool:\n",
      "        print('Submitting tasks to pool of %d workers\\n' % workers)\n",
      "        flush()\n",
      "        cmd_lines = [(name, make_cmd_line(name, command))\n",
      "                     for name, command in parallel_test_commands]\n",
      "        \n",
      "        task_data = []\n",
      "        for name, cmd_line in cmd_lines:\n",
      "            if not names or name in names:\n",
      "                print('Submitting %s: %s\\n' % (name, cmd_line))\n",
      "                flush()\n",
      "                task_data.append((pool.submit(subprocess.call,\n",
      "                                     cmd_line,\n",
      "                                     shell=True,\n",
      "                                     executable='/bin/bash'),\n",
      "                                  (name, cmd_line)))\n",
      "        futures_map = dict(task_data)\n",
      "        expected = len(futures_map)\n",
      "\n",
      "        completed = 0\n",
      "        for future in futures.as_completed(futures_map):\n",
      "            completed += 1\n",
      "            name = futures_map[future][0]\n",
      "            if future.exception() is not None:\n",
      "                print('%s (%d of %d): **** FAILED!\\n\\n%s\\n' %\n",
      "                      (name, completed, expected, repr(future.exception())))\n",
      "            elif future.result() != 0:\n",
      "                print('%s (%d of %d): **** FAILED! Exited with status %d\\n' %\n",
      "                      (name, completed, expected, future.result()))\n",
      "            else:\n",
      "                print('%s (%d of %d): Completed\\n' %\n",
      "                      (name, completed, expected))\n",
      "            flush()"
     ],
     "language": "python",
     "metadata": {},
     "outputs": [],
     "prompt_number": 2
    },
    {
     "cell_type": "markdown",
     "metadata": {},
     "source": [
      "### Run serial tests\n",
      "\n",
      "These are tests to run in serial, as they handle their own parallelism internally. Each one will use as many vCPUs as it can get its hands on, so we let each one monopolize the VM until it's finished.\n",
      "\n",
      "When tests are started or completed, status messages appear below the next cell. If a test causes an exception or returns a non-zero exit code, check the corresponding output file in `log/<hostname>/test_output`.\n",
      "\n",
      "You can optionally provide one or more test names, to execute those tests only."
     ]
    },
    {
     "cell_type": "code",
     "collapsed": false,
     "input": [
      "run_serial_tests()\n",
      "# Optionally, give a subset to run, e.g.:\n",
      "# run_serial_tests('joblib', 'ipython')"
     ],
     "language": "python",
     "metadata": {},
     "outputs": []
    },
    {
     "cell_type": "markdown",
     "metadata": {},
     "source": [
      "### Parallel tests\n",
      "\n",
      "These are tests to run in parallel explicitly, after the serial tests have finished. Each one runs in a separate isolated Python process. They are coordinated by a thread pool within the parent process, so that no more than `workers` processes are running at once, but in some cases a test may use more than a whole vCPU, because of starting helper threads or subprocesses.\n",
      "\n",
      "In general we try to start the slower-running tests earlier.\n",
      "\n",
      "When jobs are submitted or completed, status messages appear below the next cell. If a test causes an exception or returns a non-zero exit code, check the corresponding output file in `log/<hostname>/test_output`.\n",
      "\n",
      "You can optionally provide one or more test names, to execute those tests only."
     ]
    },
    {
     "cell_type": "code",
     "collapsed": false,
     "input": [
      "run_parallel_tests()\n",
      "# Optionally, give a subset to run, e.g.:\n",
      "# run_parallel_tests('pillow', 'sympy_physics', 'pytables_links')"
     ],
     "language": "python",
     "metadata": {},
     "outputs": [
      {
       "output_type": "stream",
       "stream": "stdout",
       "text": [
        "Submitting tasks to pool of 12 workers\n",
        "\n"
       ]
      },
      {
       "output_type": "stream",
       "stream": "stdout",
       "text": [
        "Submitting pytables_queries: python3.4 /usr/local/lib/python3.4/dist-packages/tables/tests/test_queries.py --heavy > /srv/log/test_output/pytables_queries.out 2>&1\n",
        "\n"
       ]
      },
      {
       "output_type": "stream",
       "stream": "stdout",
       "text": [
        "Submitting cython: (cd /srv/cache/src/Cython/ && python3.4 runtests.py -vv) > /srv/log/test_output/cython.out 2>&1\n",
        "\n"
       ]
      },
      {
       "output_type": "stream",
       "stream": "stdout",
       "text": [
        "Submitting sympy_utilities: python3.4 -c \"import sympy; sympy.test('/utilities')\" > /srv/log/test_output/sympy_utilities.out 2>&1\n",
        "\n"
       ]
      },
      {
       "output_type": "stream",
       "stream": "stdout",
       "text": [
        "Submitting pytables_attributes: python3.4 /usr/local/lib/python3.4/dist-packages/tables/tests/test_attributes.py --heavy > /srv/log/test_output/pytables_attributes.out 2>&1\n",
        "\n"
       ]
      },
      {
       "output_type": "stream",
       "stream": "stdout",
       "text": [
        "Submitting pymc: python3.4 -c \"import pymc; pymc.test('full')\" > /srv/log/test_output/pymc.out 2>&1\n",
        "\n"
       ]
      },
      {
       "output_type": "stream",
       "stream": "stdout",
       "text": [
        "Submitting sympy_series: python3.4 -c \"import sympy; sympy.test('/series')\" > /srv/log/test_output/sympy_series.out 2>&1\n",
        "\n"
       ]
      },
      {
       "output_type": "stream",
       "stream": "stdout",
       "text": [
        "Submitting pytables_index_backcompat: python3.4 /usr/local/lib/python3.4/dist-packages/tables/tests/test_index_backcompat.py --heavy > /srv/log/test_output/pytables_index_backcompat.out 2>&1\n",
        "\n"
       ]
      },
      {
       "output_type": "stream",
       "stream": "stdout",
       "text": [
        "Submitting theano: python3.4 `which theano-nose` --batch=100 --theano > /srv/log/test_output/theano.out 2>&1\n",
        "\n"
       ]
      },
      {
       "output_type": "stream",
       "stream": "stdout",
       "text": [
        "Submitting sympy_sets: python3.4 -c \"import sympy; sympy.test('/sets')\" > /srv/log/test_output/sympy_sets.out 2>&1\n",
        "\n"
       ]
      },
      {
       "output_type": "stream",
       "stream": "stdout",
       "text": [
        "Submitting pytables_numpy: python3.4 /usr/local/lib/python3.4/dist-packages/tables/tests/test_numpy.py --heavy > /srv/log/test_output/pytables_numpy.out 2>&1\n",
        "\n"
       ]
      },
      {
       "output_type": "stream",
       "stream": "stdout",
       "text": [
        "Submitting matplotlib: python3.4 -c \"import matplotlib; matplotlib.test()\" > /srv/log/test_output/matplotlib.out 2>&1\n",
        "\n"
       ]
      },
      {
       "output_type": "stream",
       "stream": "stdout",
       "text": [
        "Submitting sympy_plotting: python3.4 -c \"import sympy; sympy.test('/plotting')\" > /srv/log/test_output/sympy_plotting.out 2>&1\n",
        "\n"
       ]
      },
      {
       "output_type": "stream",
       "stream": "stdout",
       "text": [
        "Submitting pytables_garbage: python3.4 /usr/local/lib/python3.4/dist-packages/tables/tests/test_garbage.py --heavy > /srv/log/test_output/pytables_garbage.out 2>&1\n",
        "\n"
       ]
      },
      {
       "output_type": "stream",
       "stream": "stdout",
       "text": [
        "Submitting numpy: python3.4 -c \"import numpy; numpy.test('full')\" > /srv/log/test_output/numpy.out 2>&1\n",
        "\n"
       ]
      },
      {
       "output_type": "stream",
       "stream": "stdout",
       "text": [
        "Submitting sympy_integrals: python3.4 -c \"import sympy; sympy.test('/integrals')\" > /srv/log/test_output/sympy_integrals.out 2>&1\n",
        "\n"
       ]
      },
      {
       "output_type": "stream",
       "stream": "stdout",
       "text": [
        "Submitting pytables_timetype: python3.4 /usr/local/lib/python3.4/dist-packages/tables/tests/test_timetype.py --heavy > /srv/log/test_output/pytables_timetype.out 2>&1\n",
        "\n"
       ]
      },
      {
       "output_type": "stream",
       "stream": "stdout",
       "text": [
        "Submitting scipy: python3.4 -c \"import scipy; scipy.test('full')\" > /srv/log/test_output/scipy.out 2>&1\n",
        "\n"
       ]
      },
      {
       "output_type": "stream",
       "stream": "stdout",
       "text": [
        "Submitting sympy_external: python3.4 -c \"import sympy; sympy.test('/external')\" > /srv/log/test_output/sympy_external.out 2>&1\n",
        "\n"
       ]
      },
      {
       "output_type": "stream",
       "stream": "stdout",
       "text": [
        "Submitting pytables_indexvalues: python3.4 /usr/local/lib/python3.4/dist-packages/tables/tests/test_indexvalues.py --heavy > /srv/log/test_output/pytables_indexvalues.out 2>&1\n",
        "\n"
       ]
      },
      {
       "output_type": "stream",
       "stream": "stdout",
       "text": [
        "Submitting pandas: python3.4 `which nosetests` pandas > /srv/log/test_output/pandas.out 2>&1\n",
        "\n"
       ]
      },
      {
       "output_type": "stream",
       "stream": "stdout",
       "text": [
        "Submitting sympy_mpmath: python3.4 -c \"import sympy; sympy.test('/mpmath')\" > /srv/log/test_output/sympy_mpmath.out 2>&1\n",
        "\n"
       ]
      },
      {
       "output_type": "stream",
       "stream": "stdout",
       "text": [
        "Submitting pytables_expression: python3.4 /usr/local/lib/python3.4/dist-packages/tables/tests/test_expression.py --heavy > /srv/log/test_output/pytables_expression.out 2>&1\n",
        "\n"
       ]
      },
      {
       "output_type": "stream",
       "stream": "stdout",
       "text": [
        "Submitting sklearn: python3.4 `which nosetests` sklearn --exe > /srv/log/test_output/sklearn.out 2>&1\n",
        "\n"
       ]
      },
      {
       "output_type": "stream",
       "stream": "stdout",
       "text": [
        "Submitting sympy_logic: python3.4 -c \"import sympy; sympy.test('/logic')\" > /srv/log/test_output/sympy_logic.out 2>&1\n",
        "\n"
       ]
      },
      {
       "output_type": "stream",
       "stream": "stdout",
       "text": [
        "Submitting pytables_types: python3.4 /usr/local/lib/python3.4/dist-packages/tables/tests/test_types.py --heavy > /srv/log/test_output/pytables_types.out 2>&1\n",
        "\n"
       ]
      },
      {
       "output_type": "stream",
       "stream": "stdout",
       "text": [
        "Submitting pillow: (cd /tmp && rm -f Images && ln -s /srv/cache/src/Pillow/Images . && python3.4 /srv/cache/src/Pillow/selftest.py --installed) > /srv/log/test_output/pillow.out 2>&1\n",
        "\n"
       ]
      },
      {
       "output_type": "stream",
       "stream": "stdout",
       "text": [
        "Submitting sympy_calculus: python3.4 -c \"import sympy; sympy.test('/calculus')\" > /srv/log/test_output/sympy_calculus.out 2>&1\n",
        "\n"
       ]
      },
      {
       "output_type": "stream",
       "stream": "stdout",
       "text": [
        "Submitting pytables_vlarray: python3.4 /usr/local/lib/python3.4/dist-packages/tables/tests/test_vlarray.py --heavy > /srv/log/test_output/pytables_vlarray.out 2>&1\n",
        "\n"
       ]
      },
      {
       "output_type": "stream",
       "stream": "stdout",
       "text": [
        "Submitting nltk: python3.4 /usr/local/lib/python3.4/dist-packages/nltk/test/runtests.py > /srv/log/test_output/nltk.out 2>&1\n",
        "\n"
       ]
      },
      {
       "output_type": "stream",
       "stream": "stdout",
       "text": [
        "Submitting sympy_ntheory: python3.4 -c \"import sympy; sympy.test('/ntheory')\" > /srv/log/test_output/sympy_ntheory.out 2>&1\n",
        "\n"
       ]
      },
      {
       "output_type": "stream",
       "stream": "stdout",
       "text": [
        "Submitting pytables_nestedtypes: python3.4 /usr/local/lib/python3.4/dist-packages/tables/tests/test_nestedtypes.py --heavy > /srv/log/test_output/pytables_nestedtypes.out 2>&1\n",
        "\n"
       ]
      },
      {
       "output_type": "stream",
       "stream": "stdout",
       "text": [
        "Submitting gensim: (cd /srv/cache/src/gensim && python3.4 setup.py test) > /srv/log/test_output/gensim.out 2>&1\n",
        "\n"
       ]
      },
      {
       "output_type": "stream",
       "stream": "stdout",
       "text": [
        "Submitting sympy_printing: python3.4 -c \"import sympy; sympy.test('/printing')\" > /srv/log/test_output/sympy_printing.out 2>&1\n",
        "\n"
       ]
      },
      {
       "output_type": "stream",
       "stream": "stdout",
       "text": [
        "Submitting pytables_carray: python3.4 /usr/local/lib/python3.4/dist-packages/tables/tests/test_carray.py --heavy > /srv/log/test_output/pytables_carray.out 2>&1\n",
        "\n"
       ]
      },
      {
       "output_type": "stream",
       "stream": "stdout",
       "text": [
        "Submitting bottleneck: python3.4 -c \"import bottleneck as bn; bn.test('full')\" > /srv/log/test_output/bottleneck.out 2>&1\n",
        "\n"
       ]
      },
      {
       "output_type": "stream",
       "stream": "stdout",
       "text": [
        "Submitting sympy_galgebra: python3.4 -c \"import sympy; sympy.test('/galgebra')\" > /srv/log/test_output/sympy_galgebra.out 2>&1\n",
        "\n"
       ]
      },
      {
       "output_type": "stream",
       "stream": "stdout",
       "text": [
        "Submitting pytables_tablesMD: python3.4 /usr/local/lib/python3.4/dist-packages/tables/tests/test_tablesMD.py --heavy > /srv/log/test_output/pytables_tablesMD.out 2>&1\n",
        "\n"
       ]
      },
      {
       "output_type": "stream",
       "stream": "stdout",
       "text": [
        "Submitting statsmodels: python3.4 -c \"import matplotlib as mpl; mpl.use('Agg'); import statsmodels as sm; sm.test()\" > /srv/log/test_output/statsmodels.out 2>&1\n",
        "\n"
       ]
      },
      {
       "output_type": "stream",
       "stream": "stdout",
       "text": [
        "Submitting sympy_solvers: python3.4 -c \"import sympy; sympy.test('/solvers')\" > /srv/log/test_output/sympy_solvers.out 2>&1\n",
        "\n"
       ]
      },
      {
       "output_type": "stream",
       "stream": "stdout",
       "text": [
        "Submitting pytables_tables: python3.4 /usr/local/lib/python3.4/dist-packages/tables/tests/test_tables.py --heavy > /srv/log/test_output/pytables_tables.out 2>&1\n",
        "\n"
       ]
      },
      {
       "output_type": "stream",
       "stream": "stdout",
       "text": [
        "Submitting numexpr: python3.4 `which nosetests` numexpr > /srv/log/test_output/numexpr.out 2>&1\n",
        "\n"
       ]
      },
      {
       "output_type": "stream",
       "stream": "stdout",
       "text": [
        "Submitting sympy_categories: python3.4 -c \"import sympy; sympy.test('/categories')\" > /srv/log/test_output/sympy_categories.out 2>&1\n",
        "\n"
       ]
      },
      {
       "output_type": "stream",
       "stream": "stdout",
       "text": [
        "Submitting pytables_indexes: python3.4 /usr/local/lib/python3.4/dist-packages/tables/tests/test_indexes.py --heavy > /srv/log/test_output/pytables_indexes.out 2>&1\n",
        "\n"
       ]
      },
      {
       "output_type": "stream",
       "stream": "stdout",
       "text": [
        "Submitting patsy: python3.4 `which nosetests` patsy > /srv/log/test_output/patsy.out 2>&1\n",
        "\n"
       ]
      },
      {
       "output_type": "stream",
       "stream": "stdout",
       "text": [
        "Submitting sympy_functions: python3.4 -c \"import sympy; sympy.test('/functions')\" > /srv/log/test_output/sympy_functions.out 2>&1\n",
        "\n"
       ]
      },
      {
       "output_type": "stream",
       "stream": "stdout",
       "text": [
        "Submitting pytables_array: python3.4 /usr/local/lib/python3.4/dist-packages/tables/tests/test_array.py --heavy > /srv/log/test_output/pytables_array.out 2>&1\n",
        "\n"
       ]
      },
      {
       "output_type": "stream",
       "stream": "stdout",
       "text": [
        "Submitting prettyplotlib: (cd /srv/cache/src/prettyplotlib/tests && for py in $(ls test_*.py); do python3.4 $py; done) > /srv/log/test_output/prettyplotlib.out 2>&1\n",
        "\n"
       ]
      },
      {
       "output_type": "stream",
       "stream": "stdout",
       "text": [
        "Submitting sympy_diffgeom: python3.4 -c \"import sympy; sympy.test('/diffgeom')\" > /srv/log/test_output/sympy_diffgeom.out 2>&1\n",
        "\n"
       ]
      },
      {
       "output_type": "stream",
       "stream": "stdout",
       "text": [
        "Submitting pytables_do_undo: python3.4 /usr/local/lib/python3.4/dist-packages/tables/tests/test_do_undo.py --heavy > /srv/log/test_output/pytables_do_undo.out 2>&1\n",
        "\n"
       ]
      },
      {
       "output_type": "stream",
       "stream": "stdout",
       "text": [
        "Submitting sympy_strategies: python3.4 -c \"import sympy; sympy.test('/strategies')\" > /srv/log/test_output/sympy_strategies.out 2>&1\n",
        "\n"
       ]
      },
      {
       "output_type": "stream",
       "stream": "stdout",
       "text": [
        "Submitting pytables_links: python3.4 /usr/local/lib/python3.4/dist-packages/tables/tests/test_links.py --heavy > /srv/log/test_output/pytables_links.out 2>&1\n",
        "\n"
       ]
      },
      {
       "output_type": "stream",
       "stream": "stdout",
       "text": [
        "Submitting sympy_crypto: python3.4 -c \"import sympy; sympy.test('/crypto')\" > /srv/log/test_output/sympy_crypto.out 2>&1\n",
        "\n"
       ]
      },
      {
       "output_type": "stream",
       "stream": "stdout",
       "text": [
        "Submitting pytables_earray: python3.4 /usr/local/lib/python3.4/dist-packages/tables/tests/test_earray.py --heavy > /srv/log/test_output/pytables_earray.out 2>&1\n",
        "\n"
       ]
      },
      {
       "output_type": "stream",
       "stream": "stdout",
       "text": [
        "Submitting sympy_interactive: python3.4 -c \"import sympy; sympy.test('/interactive')\" > /srv/log/test_output/sympy_interactive.out 2>&1\n",
        "\n"
       ]
      },
      {
       "output_type": "stream",
       "stream": "stdout",
       "text": [
        "Submitting pytables_create: python3.4 /usr/local/lib/python3.4/dist-packages/tables/tests/test_create.py --heavy > /srv/log/test_output/pytables_create.out 2>&1\n",
        "\n"
       ]
      },
      {
       "output_type": "stream",
       "stream": "stdout",
       "text": [
        "Submitting sympy_polys: python3.4 -c \"import sympy; sympy.test('/polys')\" > /srv/log/test_output/sympy_polys.out 2>&1\n",
        "\n"
       ]
      },
      {
       "output_type": "stream",
       "stream": "stdout",
       "text": [
        "Submitting pytables_enum: python3.4 /usr/local/lib/python3.4/dist-packages/tables/tests/test_enum.py --heavy > /srv/log/test_output/pytables_enum.out 2>&1\n",
        "\n"
       ]
      },
      {
       "output_type": "stream",
       "stream": "stdout",
       "text": [
        "Submitting sympy_stats: python3.4 -c \"import sympy; sympy.test('/stats')\" > /srv/log/test_output/sympy_stats.out 2>&1\n",
        "\n"
       ]
      },
      {
       "output_type": "stream",
       "stream": "stdout",
       "text": [
        "Submitting pytables_tree: python3.4 /usr/local/lib/python3.4/dist-packages/tables/tests/test_tree.py --heavy > /srv/log/test_output/pytables_tree.out 2>&1\n",
        "\n"
       ]
      },
      {
       "output_type": "stream",
       "stream": "stdout",
       "text": [
        "Submitting sympy_concrete: python3.4 -c \"import sympy; sympy.test('/concrete')\" > /srv/log/test_output/sympy_concrete.out 2>&1\n",
        "\n"
       ]
      },
      {
       "output_type": "stream",
       "stream": "stdout",
       "text": [
        "Submitting pytables_lists: python3.4 /usr/local/lib/python3.4/dist-packages/tables/tests/test_lists.py --heavy > /srv/log/test_output/pytables_lists.out 2>&1\n",
        "\n"
       ]
      },
      {
       "output_type": "stream",
       "stream": "stdout",
       "text": [
        "Submitting sympy_unify: python3.4 -c \"import sympy; sympy.test('/unify')\" > /srv/log/test_output/sympy_unify.out 2>&1\n",
        "\n"
       ]
      },
      {
       "output_type": "stream",
       "stream": "stdout",
       "text": [
        "Submitting pytables_basics: python3.4 /usr/local/lib/python3.4/dist-packages/tables/tests/test_basics.py --heavy > /srv/log/test_output/pytables_basics.out 2>&1\n",
        "\n"
       ]
      },
      {
       "output_type": "stream",
       "stream": "stdout",
       "text": [
        "Submitting sympy_core: python3.4 -c \"import sympy; sympy.test('/core')\" > /srv/log/test_output/sympy_core.out 2>&1\n",
        "\n"
       ]
      },
      {
       "output_type": "stream",
       "stream": "stdout",
       "text": [
        "Submitting pytables_hdf5compat: python3.4 /usr/local/lib/python3.4/dist-packages/tables/tests/test_hdf5compat.py --heavy > /srv/log/test_output/pytables_hdf5compat.out 2>&1\n",
        "\n"
       ]
      },
      {
       "output_type": "stream",
       "stream": "stdout",
       "text": [
        "Submitting sympy_combinatorics: python3.4 -c \"import sympy; sympy.test('/combinatorics')\" > /srv/log/test_output/sympy_combinatorics.out 2>&1\n",
        "\n"
       ]
      },
      {
       "output_type": "stream",
       "stream": "stdout",
       "text": [
        "Submitting pytables_backcompat: python3.4 /usr/local/lib/python3.4/dist-packages/tables/tests/test_backcompat.py --heavy > /srv/log/test_output/pytables_backcompat.out 2>&1\n",
        "\n"
       ]
      },
      {
       "output_type": "stream",
       "stream": "stdout",
       "text": [
        "Submitting sympy_simplify: python3.4 -c \"import sympy; sympy.test('/simplify')\" > /srv/log/test_output/sympy_simplify.out 2>&1\n",
        "\n"
       ]
      },
      {
       "output_type": "stream",
       "stream": "stdout",
       "text": [
        "Submitting sympy_assumptions: python3.4 -c \"import sympy; sympy.test('/assumptions')\" > /srv/log/test_output/sympy_assumptions.out 2>&1\n",
        "\n"
       ]
      },
      {
       "output_type": "stream",
       "stream": "stdout",
       "text": [
        "Submitting sympy_matrices: python3.4 -c \"import sympy; sympy.test('/matrices')\" > /srv/log/test_output/sympy_matrices.out 2>&1\n",
        "\n"
       ]
      },
      {
       "output_type": "stream",
       "stream": "stdout",
       "text": [
        "Submitting sympy_physics: python3.4 -c \"import sympy; sympy.test('/physics')\" > /srv/log/test_output/sympy_physics.out 2>&1\n",
        "\n"
       ]
      },
      {
       "output_type": "stream",
       "stream": "stdout",
       "text": [
        "Submitting sympy_geometry: python3.4 -c \"import sympy; sympy.test('/geometry')\" > /srv/log/test_output/sympy_geometry.out 2>&1\n",
        "\n"
       ]
      },
      {
       "output_type": "stream",
       "stream": "stdout",
       "text": [
        "Submitting sympy_liealgebras: python3.4 -c \"import sympy; sympy.test('/liealgebras')\" > /srv/log/test_output/sympy_liealgebras.out 2>&1\n",
        "\n"
       ]
      },
      {
       "output_type": "stream",
       "stream": "stdout",
       "text": [
        "Submitting sympy_tensor: python3.4 -c \"import sympy; sympy.test('/tensor')\" > /srv/log/test_output/sympy_tensor.out 2>&1\n",
        "\n"
       ]
      },
      {
       "output_type": "stream",
       "stream": "stdout",
       "text": [
        "Submitting sympy_parsing: python3.4 -c \"import sympy; sympy.test('/parsing')\" > /srv/log/test_output/sympy_parsing.out 2>&1\n",
        "\n"
       ]
      },
      {
       "output_type": "stream",
       "stream": "stdout",
       "text": [
        "pytables_index_backcompat (1 of 75): Completed\n",
        "\n"
       ]
      },
      {
       "output_type": "stream",
       "stream": "stdout",
       "text": [
        "pytables_garbage (2 of 75): Completed\n",
        "\n"
       ]
      },
      {
       "output_type": "stream",
       "stream": "stdout",
       "text": [
        "sympy_plotting (3 of 75): Completed\n",
        "\n"
       ]
      },
      {
       "output_type": "stream",
       "stream": "stdout",
       "text": [
        "sympy_sets (4 of 75): Completed\n",
        "\n"
       ]
      },
      {
       "output_type": "stream",
       "stream": "stdout",
       "text": [
        "pytables_attributes (5 of 75): Completed\n",
        "\n"
       ]
      },
      {
       "output_type": "stream",
       "stream": "stdout",
       "text": [
        "pytables_numpy (6 of 75): Completed\n",
        "\n"
       ]
      },
      {
       "output_type": "stream",
       "stream": "stdout",
       "text": [
        "pytables_timetype (7 of 75): Completed\n",
        "\n"
       ]
      },
      {
       "output_type": "stream",
       "stream": "stdout",
       "text": [
        "sympy_utilities (8 of 75): Completed\n",
        "\n"
       ]
      },
      {
       "output_type": "stream",
       "stream": "stdout",
       "text": [
        "sympy_external (9 of 75): Completed\n",
        "\n"
       ]
      }
     ]
    }
   ],
   "metadata": {}
  }
 ]
}