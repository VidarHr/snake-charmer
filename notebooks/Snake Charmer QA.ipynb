{
 "metadata": {
  "name": "",
  "signature": "sha256:c6981be4c2ff0b2a6b56ee01d4f1f23b2e14a6c586a3c73582826259ab087c9f"
 },
 "nbformat": 3,
 "nbformat_minor": 0,
 "worksheets": [
  {
   "cells": [
    {
     "cell_type": "markdown",
     "metadata": {},
     "source": [
      "# Snake Charmer Quality Assurance Dept.\n",
      "## _\"All Your Eggs In One Basket\"_\n",
      "\n",
      "Welcome to the Quality Assurance Department. Here you can run tests against Snake Charmer's components, in parallel, using roughly as many workers as you have vCPUs assigned to the VM. Actually, in practice we reduce this number slightly, as some test scripts start additional threads/processes themselves.\n",
      "\n",
      "**Warning:** This will take some time, even with lots of vCPUs, as some of the components' test suites take hours by themselves.\n",
      "\n",
      "The results will be written to `log/<hostname>/test_output` (relative to your `snake-charmer` directory)."
     ]
    },
    {
     "cell_type": "markdown",
     "metadata": {},
     "source": [
      "### Initialization"
     ]
    },
    {
     "cell_type": "code",
     "collapsed": false,
     "input": [
      "import subprocess\n",
      "import functools\n",
      "from concurrent.futures import ThreadPoolExecutor as Pool\n",
      "import os\n",
      "import shutil\n",
      "\n",
      "# TODO we'll need to use this for earlier versions of Python: https://pypi.python.org/pypi/futures\n",
      "\n",
      "cpus = os.cpu_count()\n",
      "\n",
      "if cpus < 3:\n",
      "    workers = 1\n",
      "elif cpus == 3:\n",
      "    workers = 2\n",
      "else:\n",
      "    workers = int(math.sqrt(cpus)) - 1\n",
      "\n",
      "pool = Pool(workers)\n",
      "\n",
      "outdir = '/srv/log/test_output'\n",
      "python = 'python3.4' # FIXME get this automatically\n",
      "\n",
      "shutil.rmtree(outdir, ignore_errors=True)\n",
      "os.makedirs(outdir, exist_ok=True)\n",
      "\n",
      "def make_cmd_line(name, command):\n",
      "    return '%s > %s/%s.out 2>&1' % (command.replace('$PYTHON', python), outdir, name)\n",
      "\n",
      "# These are tests to run in serial, as they handle their own parallelism perfectly well\n",
      "\n",
      "# TODO work out how to make numba tests pass without sudo\n",
      "\n",
      "serial_test_commands = [\n",
      "    ('ipython', '$PYTHON `which iptest3` --all -j'),\n",
      "    ('joblib', '$PYTHON `which nosetests` joblib'),\n",
      "    ('numba', 'sudo $PYTHON -c \"import numba; numba.testing.multitest()\"')\n",
      "]\n",
      "\n",
      "# These are tests to run in parallel explicitly, after the serial tests have finished\n",
      "\n",
      "parallel_test_commands = [\n",
      "    ('pytables', '$PYTHON /usr/local/lib/$PYTHON/dist-packages/tables/tests/test_all.py --heavy'),\n",
      "    ('sympy', '$PYTHON -c \"import sympy; sympy.test()\"'),\n",
      "    ('pymc', '$PYTHON -c \"import pymc; pymc.test(\\'full\\')\"'),\n",
      "    ('theano', '$PYTHON `which theano-nose` --batch=100 --theano'),\n",
      "    ('matplotlib', '$PYTHON -c \"import matplotlib; matplotlib.test()\"'),\n",
      "    ('numpy', '$PYTHON -c \"import numpy; numpy.test(\\'full\\')\"'),\n",
      "    ('scipy', '$PYTHON -c \"import scipy; scipy.test(\\'full\\')\"'),\n",
      "    ('pandas', '$PYTHON `which nosetests` pandas'),\n",
      "    ('sklearn', '$PYTHON `which nosetests` sklearn --exe'),\n",
      "    ('pillow', '(cd /tmp && rm Images && ln -s /srv/cache/src/Pillow/Images . && $PYTHON /srv/cache/src/Pillow/selftest.py --installed)'),\n",
      "    ('nltk', '$PYTHON /usr/local/lib/$PYTHON/dist-packages/nltk/test/runtests.py'),\n",
      "    ('gensim', '(cd /srv/cache/src/gensim && $PYTHON setup.py test)'),\n",
      "    ('cython', '(cd /srv/cache/src/Cython/ && $PYTHON runtests.py -vv)'),\n",
      "    ('bottleneck', '$PYTHON -c \"import bottleneck as bn; bn.test(\\'full\\')\"'),\n",
      "    ('statsmodels', '$PYTHON -c \"import statsmodels as sm; sm.test()\"'),\n",
      "    ('numexpr', '$PYTHON `which nosetests` numexpr'),\n",
      "    ('patsy', '$PYTHON `which nosetests` patsy'),\n",
      "    ('prettyplotlib', '(cd /srv/cache/src/prettyplotlib/tests && for py in $(ls test_*.py); do python3.4 $py; done)')\n",
      "]"
     ],
     "language": "python",
     "metadata": {},
     "outputs": []
    },
    {
     "cell_type": "markdown",
     "metadata": {},
     "source": [
      "### Serial tests"
     ]
    },
    {
     "cell_type": "code",
     "collapsed": false,
     "input": [
      "for name, command in serial_test_commands:\n",
      "    cmd_line = make_cmd_line(name, command)\n",
      "    print('\\n\\nExecuting %s:\\t%s' % (name, cmd_line))\n",
      "    rc = subprocess.call(cmd_line, shell=True, executable='/bin/bash')\n",
      "    print('\\n\\n%s completed with status %d' % (name, rc))"
     ],
     "language": "python",
     "metadata": {},
     "outputs": []
    },
    {
     "cell_type": "markdown",
     "metadata": {},
     "source": [
      "### Parallel tests"
     ]
    },
    {
     "cell_type": "code",
     "collapsed": false,
     "input": [
      "def on_complete(name, future):\n",
      "    if future.exception() is not None:\n",
      "        print('\\n\\n%s FAILED!\\n\\n%s' % (name, future.exception()))\n",
      "    else:\n",
      "        print('\\n\\n%s completed with status %s' % (name, str(future.result())))\n",
      "    # FIXME do these messages even go anywhere?\n",
      "\n",
      "for name, command in parallel_test_commands:\n",
      "    cmd_line = make_cmd_line(name, command)\n",
      "    pool.submit(\n",
      "        subprocess.call, cmd_line, shell=True, executable='/bin/bash'\n",
      "    ).add_done_callback(\n",
      "        functools.partial(on_complete, name))\n",
      "    print('\\n\\nSubmitted %s:\\t%s' % (name, cmd_line))\n",
      "\n",
      "pool.shutdown(wait=True)\n",
      "\n",
      "# TODO would be nice to get progress indicator as we go along"
     ],
     "language": "python",
     "metadata": {},
     "outputs": []
    }
   ],
   "metadata": {}
  }
 ]
}