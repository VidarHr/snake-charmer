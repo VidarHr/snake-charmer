{
 "metadata": {
  "name": "",
  "signature": "sha256:93512215f2573b340f3bacd792916ed3a936ce45800541c92b886335d4d6a392"
 },
 "nbformat": 3,
 "nbformat_minor": 0,
 "worksheets": [
  {
   "cells": [
    {
     "cell_type": "markdown",
     "metadata": {},
     "source": [
      "# Snake Charmer Quality Assurance Dept.\n",
      "## _\"All Your Eggs In One Basket\"_\n",
      "\n",
      "Welcome to the Quality Assurance Department. Here you can run tests against Snake Charmer's components, in parallel, using as many workers as you have vCPUs assigned to the VM.\n",
      "\n",
      "The results will be written to `log/<hostname>/test_output` (relative to your `snake-charmer` directory).\n",
      "\n",
      "**Warning:** Running the whole suite will take quite some time, even with lots of vCPUs, as some of the components' test suites take well over an hour each."
     ]
    },
    {
     "cell_type": "markdown",
     "metadata": {},
     "source": [
      "### Initialization and helper functions"
     ]
    },
    {
     "cell_type": "code",
     "collapsed": false,
     "input": [
      "import subprocess\n",
      "import functools\n",
      "from concurrent import futures\n",
      "import os\n",
      "import shutil\n",
      "import math\n",
      "from itertools import *\n",
      "import sys\n",
      "import datetime\n",
      "import re\n",
      "from time import asctime as now\n",
      "\n",
      "# TODO we'll need to use this for earlier versions of Python: https://pypi.python.org/pypi/futures\n",
      "\n",
      "cpus = os.cpu_count()\n",
      "workers = cpus\n",
      "\n",
      "outdir = '/srv/log/test_output'\n",
      "python = 'python3.4' # FIXME get this automatically\n",
      "\n",
      "shutil.rmtree(outdir, ignore_errors=True)\n",
      "os.makedirs(outdir, exist_ok=True)\n",
      "\n",
      "def log(string, f):\n",
      "    msg = '%s %s' % (now(), string)\n",
      "    print(msg, flush=True)\n",
      "    print(msg, flush=True, file=f)\n",
      "\n",
      "def get_immediate_subdirectories(dir):\n",
      "    return [name for name in os.listdir(dir)\n",
      "            if os.path.isdir(os.path.join(dir, name))]\n",
      "\n",
      "def make_cmd_line(name, command):\n",
      "    return '%s > %s/%s.out 2>&1' % (command.replace('$PYTHON', python), outdir, name)"
     ],
     "language": "python",
     "metadata": {},
     "outputs": [],
     "prompt_number": 2
    },
    {
     "cell_type": "markdown",
     "metadata": {},
     "source": [
      "### Build lists of test commands and execution functions"
     ]
    },
    {
     "cell_type": "code",
     "collapsed": false,
     "input": [
      "serial_test_commands = [\n",
      "    ('ipython', '$PYTHON `which iptest3` --all -j'),\n",
      "    ('joblib', '$PYTHON `which nosetests` joblib'),\n",
      "    ('numba', '$PYTHON -c \"import numba; assert numba.testing.multitest()\"')\n",
      "]\n",
      "\n",
      "# Generate individual submodule tests for sympy, pytables, pystan and theano, as they take forever if run in one process\n",
      "\n",
      "def make_sympy_test_cmd(submod):\n",
      "    name = 'sympy_%s' % submod\n",
      "    cmd = '$PYTHON -c \"import sympy; sympy.test(\\'/%s\\')\"' % submod\n",
      "    return (name, cmd)\n",
      "\n",
      "sympy_test_commands = (make_sympy_test_cmd(submod)\n",
      "                       for submod in get_immediate_subdirectories('/usr/local/lib/%s/dist-packages/sympy' % python)\n",
      "                       if not submod.startswith('_'))\n",
      "\n",
      "name_re = re.compile('theano.*')\n",
      "def make_theano_test_cmd(script, test_dir):\n",
      "    path = '%s/%s' % (test_dir, script)\n",
      "    match = name_re.search(path)\n",
      "    if match is None:\n",
      "        raise(RuntimeError('regex failed on string %s' % path))\n",
      "    name = match.group(0).replace('/', '_').replace('.py', '')\n",
      "    test_cache = '/tmp/' + name\n",
      "    cmd = 'rm -rf %s && THEANO_FLAGS=\"compiledir=%s\" $PYTHON `which theano-nose` %s' % (test_cache, test_cache, path)\n",
      "    return (name, cmd)\n",
      "\n",
      "theano_dir = '/usr/local/lib/%s/dist-packages/theano' % python\n",
      "theano_test_commands = [make_theano_test_cmd(script, location[0])\n",
      "                        for location in os.walk(theano_dir)\n",
      "                        for script in location[2]\n",
      "                        if script.startswith('test_')\n",
      "                        and script.endswith('.py')\n",
      "                        and '/typed_list' not in location[0]]\n",
      "\n",
      "def make_pystan_test_cmd(script, test_dir):\n",
      "    name = script.replace('test_', 'pystan_').replace('.py', '')\n",
      "    cmd = \"(export JOBLIB_MULTIPROCESSING=0; $PYTHON `which nosetests` %s/%s)\" % (test_dir, script)\n",
      "    return (name, cmd)\n",
      "\n",
      "pystan_test_dir = '/usr/local/lib/%s/dist-packages/pystan/tests' % python\n",
      "pystan_test_commands = [make_pystan_test_cmd(script, pystan_test_dir)\n",
      "                        for script in os.listdir(pystan_test_dir)\n",
      "                        if script.startswith('test_') and script.endswith('.py')]\n",
      "\n",
      "# Run all pytables tests in --heavy mode, except test_queries.py\n",
      "# as it literally takes hours\n",
      "\n",
      "def make_pytables_test_cmd(script, test_dir):\n",
      "    name = script.replace('test_', 'pytables_').replace('.py', '')\n",
      "    options = '' if name == 'pytables_queries' else '--heavy'\n",
      "    cmd = '$PYTHON %s/%s %s' % (test_dir, script, options)\n",
      "    return (name, cmd)\n",
      "\n",
      "pytables_test_dir = '/usr/local/lib/%s/dist-packages/tables/tests' % python\n",
      "pytables_test_commands = [make_pytables_test_cmd(script, pytables_test_dir)\n",
      "                          for script in os.listdir(pytables_test_dir)\n",
      "                          if script.startswith('test_') and script.endswith('.py') and script != 'test_all.py']\n",
      "\n",
      "# Make sure test_queries.py is at the start... Although this\n",
      "# probably isn't necessary with --heavy disabled\n",
      "\n",
      "def pred(elem):\n",
      "    return elem[0] != 'pytables_queries'\n",
      "\n",
      "pytables_test_commands_reordered = chain(dropwhile(pred, pytables_test_commands),\n",
      "                                         takewhile(pred, pytables_test_commands))\n",
      "\n",
      "misc_test_commands = [\n",
      "    ('cython', '(cd /srv/cache/src/Cython/ && $PYTHON runtests.py -vv)'),\n",
      "    ('pymc', '$PYTHON -c \"import pymc; assert pymc.test(\\'full\\').wasSuccessful()\"'),\n",
      "    ('matplotlib', '($PYTHON -c \"import matplotlib; assert matplotlib.test()\"; rm -rf /home/vagrant/notebooks/result_images)'),\n",
      "    ('numpy', '$PYTHON -c \"import numpy; assert numpy.test(\\'full\\').wasSuccessful()\"'),\n",
      "    ('scipy', '$PYTHON -c \"import scipy; assert scipy.test(\\'full\\').wasSuccessful()\"'),\n",
      "    ('pandas', '$PYTHON `which nosetests` pandas'),\n",
      "    ('sklearn', '$PYTHON `which nosetests` sklearn --exe'),\n",
      "    ('pillow', '(cd /tmp && rm -f Images && ln -s /srv/cache/src/Pillow/Images . && $PYTHON /srv/cache/src/Pillow/selftest.py --installed)'),\n",
      "    ('nltk', '$PYTHON /usr/local/lib/$PYTHON/dist-packages/nltk/test/runtests.py'),\n",
      "    ('gensim', '(cd /srv/cache/src/gensim && $PYTHON setup.py test)'),\n",
      "    ('bottleneck', '$PYTHON -c \"import bottleneck as bn; assert bn.test(\\'full\\').wasSuccessful()\"'),\n",
      "    ('statsmodels', '$PYTHON -c \"import statsmodels as sm; assert sm.test().wasSuccessful()\"'),\n",
      "    ('numexpr', '$PYTHON `which nosetests` numexpr'),\n",
      "    ('patsy', '$PYTHON `which nosetests` patsy'),\n",
      "    ('prettyplotlib', '(cd /srv/cache/src/prettyplotlib/tests && for py in $(ls test_*.py); do $PYTHON $py; done)'),\n",
      "    ('emcee', '$PYTHON `which nosetests` emcee')\n",
      "]\n",
      "\n",
      "# Interleave these four command lists, to (attempt to) get good balance of CPU and IO heavy tasks\n",
      "\n",
      "parallel_test_commands = list(filter(None,\n",
      "                                     chain(*zip_longest(pytables_test_commands_reordered,\n",
      "                                                        pystan_test_commands,\n",
      "                                                        theano_test_commands,\n",
      "                                                        misc_test_commands,\n",
      "                                                        sympy_test_commands))))\n",
      "\n",
      "def run_serial_tests(*args, logfile):\n",
      "    if len(args) > 0:\n",
      "        names = set(args)\n",
      "        num = len(names)\n",
      "    else:\n",
      "        names = None\n",
      "        num = len(serial_test_commands)\n",
      "    log('Running %d tests\\n' % num, logfile)\n",
      "    for name, command in serial_test_commands:\n",
      "        if not names or name in names:\n",
      "            cmd_line = make_cmd_line(name, command)\n",
      "            log('%s: %s\\n' % (name, cmd_line), logfile)\n",
      "            rc = subprocess.call(cmd_line, shell=True, executable='/bin/bash')\n",
      "            if rc == 0:\n",
      "                log('%s: Completed\\n' % name, logfile)\n",
      "            else:\n",
      "                log('%s: **** FAILED! Exited with status %d\\n' % (name, rc), logfile)\n",
      "\n",
      "def run_parallel_tests(*args, logfile):\n",
      "    names = set(args) if len(args) > 0 else None\n",
      "    with futures.ThreadPoolExecutor(max_workers=workers) as pool:\n",
      "        log('Submitting tasks to pool of %d workers\\n' % workers, logfile)\n",
      "        cmd_lines = [(name, make_cmd_line(name, command))\n",
      "                     for name, command in parallel_test_commands]\n",
      "        \n",
      "        task_data = []\n",
      "        for name, cmd_line in cmd_lines:\n",
      "            if not names or name in names:\n",
      "                log('Submitting %s: %s\\n' % (name, cmd_line), logfile)\n",
      "                task_data.append((pool.submit(subprocess.call,\n",
      "                                     cmd_line,\n",
      "                                     shell=True,\n",
      "                                     executable='/bin/bash'),\n",
      "                                  (name, cmd_line)))\n",
      "        futures_map = dict(task_data)\n",
      "        expected = len(futures_map)\n",
      "\n",
      "        completed = 0\n",
      "        for future in futures.as_completed(futures_map):\n",
      "            completed += 1\n",
      "            name = futures_map[future][0]\n",
      "            if future.exception() is not None:\n",
      "                log('%s (%d of %d): **** FAILED!\\n\\n%s\\n' %\n",
      "                      (name, completed, expected, repr(future.exception())),\n",
      "                      logfile)\n",
      "            elif future.result() != 0:\n",
      "                log('%s (%d of %d): **** FAILED! Exited with status %d\\n' %\n",
      "                      (name, completed, expected, future.result()),\n",
      "                      logfile)\n",
      "            else:\n",
      "                log('%s (%d of %d): Completed\\n' %\n",
      "                      (name, completed, expected),\n",
      "                      logfile)"
     ],
     "language": "python",
     "metadata": {},
     "outputs": [],
     "prompt_number": 3
    },
    {
     "cell_type": "markdown",
     "metadata": {},
     "source": [
      "### Run serial tests\n",
      "\n",
      "These are tests to run in serial, as they handle their own parallelism internally. Each one will use as many vCPUs as it can get its hands on, so we let each one monopolize the VM until it's finished.\n",
      "\n",
      "When tests are started or completed, status messages appear below the next cell. If a test causes an exception or returns a non-zero exit code, check the corresponding output file in `log/<hostname>/test_output`. A summary of the test run will appear in `log/<hostname>/test_output/serial.log`.\n",
      "\n",
      "You can optionally provide one or more test names, to execute those tests only."
     ]
    },
    {
     "cell_type": "code",
     "collapsed": false,
     "input": [
      "with open(outdir + '/serial.log', 'w') as f:\n",
      "    run_serial_tests(logfile=f)\n",
      "# Optionally, give a subset to run, e.g.:\n",
      "# run_serial_tests('joblib', 'ipython', logfile=f)"
     ],
     "language": "python",
     "metadata": {},
     "outputs": []
    },
    {
     "cell_type": "markdown",
     "metadata": {},
     "source": [
      "### Parallel tests\n",
      "\n",
      "These are tests to run in parallel explicitly, after the serial tests have finished. Each one runs in a separate isolated Python process. They are coordinated by a thread pool within the parent process, so that no more than `workers` processes are running at once, but in some cases a test may use more than a whole vCPU, because of starting helper threads or subprocesses.\n",
      "\n",
      "In general we try to start the slower-running tests earlier.\n",
      "\n",
      "When jobs are submitted or completed, status messages appear below the next cell. If a test causes an exception or returns a non-zero exit code, check the corresponding output file in `log/<hostname>/test_output`. A summary of the test run will appear in `log/<hostname>/test_output/parallel.log`.\n",
      "\n",
      "You can optionally provide one or more test names, to execute those tests only."
     ]
    },
    {
     "cell_type": "code",
     "collapsed": false,
     "input": [
      "with open(outdir + '/parallel.log', 'w') as f:\n",
      "    run_parallel_tests(logfile=f)\n",
      "# Optionally, give a subset to run, e.g.:\n",
      "# run_parallel_tests('pillow', 'sympy_physics', 'pytables_links', logfile=f)"
     ],
     "language": "python",
     "metadata": {},
     "outputs": [
      {
       "output_type": "stream",
       "stream": "stdout",
       "text": [
        "Sun Jun 15 08:08:38 2014 Submitting tasks to pool of 12 workers\n",
        "\n"
       ]
      },
      {
       "output_type": "stream",
       "stream": "stdout",
       "text": [
        "Sun Jun 15 08:08:38 2014 Submitting pytables_queries: python3.4 /usr/local/lib/python3.4/dist-packages/tables/tests/test_queries.py  > /srv/log/test_output/pytables_queries.out 2>&1\n",
        "\n"
       ]
      },
      {
       "output_type": "stream",
       "stream": "stdout",
       "text": [
        "Sun Jun 15 08:08:39 2014 Submitting pystan_linear_regression: (export JOBLIB_MULTIPROCESSING=0; python3.4 `which nosetests` /usr/local/lib/python3.4/dist-packages/pystan/tests/test_linear_regression.py) > /srv/log/test_output/pystan_linear_regression.out 2>&1\n",
        "\n"
       ]
      },
      {
       "output_type": "stream",
       "stream": "stdout",
       "text": [
        "Sun Jun 15 08:08:39 2014 Submitting theano_scan_module_tests_test_scan_opt: rm -rf /tmp/theano_scan_module_tests_test_scan_opt && THEANO_FLAGS=\"compiledir=/tmp/theano_scan_module_tests_test_scan_opt\" python3.4 `which theano-nose` /usr/local/lib/python3.4/dist-packages/theano/scan_module/tests/test_scan_opt.py > /srv/log/test_output/theano_scan_module_tests_test_scan_opt.out 2>&1\n",
        "\n"
       ]
      },
      {
       "output_type": "stream",
       "stream": "stdout",
       "text": [
        "Sun Jun 15 08:08:39 2014 Submitting cython: (cd /srv/cache/src/Cython/ && python3.4 runtests.py -vv) > /srv/log/test_output/cython.out 2>&1\n",
        "\n"
       ]
      },
      {
       "output_type": "stream",
       "stream": "stdout",
       "text": [
        "Sun Jun 15 08:08:39 2014 Submitting sympy_utilities: python3.4 -c \"import sympy; sympy.test('/utilities')\" > /srv/log/test_output/sympy_utilities.out 2>&1\n",
        "\n"
       ]
      },
      {
       "output_type": "stream",
       "stream": "stdout",
       "text": [
        "Sun Jun 15 08:08:39 2014 Submitting pytables_attributes: python3.4 /usr/local/lib/python3.4/dist-packages/tables/tests/test_attributes.py --heavy > /srv/log/test_output/pytables_attributes.out 2>&1\n",
        "\n"
       ]
      },
      {
       "output_type": "stream",
       "stream": "stdout",
       "text": [
        "Sun Jun 15 08:08:39 2014 Submitting pystan_stanc: (export JOBLIB_MULTIPROCESSING=0; python3.4 `which nosetests` /usr/local/lib/python3.4/dist-packages/pystan/tests/test_stanc.py) > /srv/log/test_output/pystan_stanc.out 2>&1\n",
        "\n"
       ]
      },
      {
       "output_type": "stream",
       "stream": "stdout",
       "text": [
        "Sun Jun 15 08:08:39 2014 Submitting theano_scan_module_tests_test_scan: rm -rf /tmp/theano_scan_module_tests_test_scan && THEANO_FLAGS=\"compiledir=/tmp/theano_scan_module_tests_test_scan\" python3.4 `which theano-nose` /usr/local/lib/python3.4/dist-packages/theano/scan_module/tests/test_scan.py > /srv/log/test_output/theano_scan_module_tests_test_scan.out 2>&1\n",
        "\n"
       ]
      },
      {
       "output_type": "stream",
       "stream": "stdout",
       "text": [
        "Sun Jun 15 08:08:39 2014 Submitting pymc: python3.4 -c \"import pymc; assert pymc.test('full').wasSuccessful()\" > /srv/log/test_output/pymc.out 2>&1\n",
        "\n"
       ]
      },
      {
       "output_type": "stream",
       "stream": "stdout",
       "text": [
        "Sun Jun 15 08:08:39 2014 Submitting sympy_series: python3.4 -c \"import sympy; sympy.test('/series')\" > /srv/log/test_output/sympy_series.out 2>&1\n",
        "\n"
       ]
      },
      {
       "output_type": "stream",
       "stream": "stdout",
       "text": [
        "Sun Jun 15 08:08:39 2014 Submitting pytables_index_backcompat: python3.4 /usr/local/lib/python3.4/dist-packages/tables/tests/test_index_backcompat.py --heavy > /srv/log/test_output/pytables_index_backcompat.out 2>&1\n",
        "\n"
       ]
      },
      {
       "output_type": "stream",
       "stream": "stdout",
       "text": [
        "Sun Jun 15 08:08:39 2014 Submitting pystan_basic_matrix: (export JOBLIB_MULTIPROCESSING=0; python3.4 `which nosetests` /usr/local/lib/python3.4/dist-packages/pystan/tests/test_basic_matrix.py) > /srv/log/test_output/pystan_basic_matrix.out 2>&1\n",
        "\n"
       ]
      },
      {
       "output_type": "stream",
       "stream": "stdout",
       "text": [
        "Sun Jun 15 08:08:39 2014 Submitting theano_sandbox_test_multinomial: rm -rf /tmp/theano_sandbox_test_multinomial && THEANO_FLAGS=\"compiledir=/tmp/theano_sandbox_test_multinomial\" python3.4 `which theano-nose` /usr/local/lib/python3.4/dist-packages/theano/sandbox/test_multinomial.py > /srv/log/test_output/theano_sandbox_test_multinomial.out 2>&1\n",
        "\n"
       ]
      },
      {
       "output_type": "stream",
       "stream": "stdout",
       "text": [
        "Sun Jun 15 08:08:39 2014 Submitting matplotlib: (python3.4 -c \"import matplotlib; assert matplotlib.test()\"; rm -rf /home/vagrant/notebooks/result_images) > /srv/log/test_output/matplotlib.out 2>&1\n",
        "\n"
       ]
      },
      {
       "output_type": "stream",
       "stream": "stdout",
       "text": [
        "Sun Jun 15 08:08:39 2014 Submitting sympy_sets: python3.4 -c \"import sympy; sympy.test('/sets')\" > /srv/log/test_output/sympy_sets.out 2>&1\n",
        "\n"
       ]
      },
      {
       "output_type": "stream",
       "stream": "stdout",
       "text": [
        "Sun Jun 15 08:08:39 2014 Submitting pytables_numpy: python3.4 /usr/local/lib/python3.4/dist-packages/tables/tests/test_numpy.py --heavy > /srv/log/test_output/pytables_numpy.out 2>&1\n",
        "\n"
       ]
      },
      {
       "output_type": "stream",
       "stream": "stdout",
       "text": [
        "Sun Jun 15 08:08:39 2014 Submitting pystan_parallel: (export JOBLIB_MULTIPROCESSING=0; python3.4 `which nosetests` /usr/local/lib/python3.4/dist-packages/pystan/tests/test_parallel.py) > /srv/log/test_output/pystan_parallel.out 2>&1\n",
        "\n"
       ]
      },
      {
       "output_type": "stream",
       "stream": "stdout",
       "text": [
        "Sun Jun 15 08:08:39 2014 Submitting theano_sandbox_test_neighbours: rm -rf /tmp/theano_sandbox_test_neighbours && THEANO_FLAGS=\"compiledir=/tmp/theano_sandbox_test_neighbours\" python3.4 `which theano-nose` /usr/local/lib/python3.4/dist-packages/theano/sandbox/test_neighbours.py > /srv/log/test_output/theano_sandbox_test_neighbours.out 2>&1\n",
        "\n"
       ]
      },
      {
       "output_type": "stream",
       "stream": "stdout",
       "text": [
        "Sun Jun 15 08:08:39 2014 Submitting numpy: python3.4 -c \"import numpy; assert numpy.test('full').wasSuccessful()\" > /srv/log/test_output/numpy.out 2>&1\n",
        "\n"
       ]
      },
      {
       "output_type": "stream",
       "stream": "stdout",
       "text": [
        "Sun Jun 15 08:08:39 2014 Submitting sympy_plotting: python3.4 -c \"import sympy; sympy.test('/plotting')\" > /srv/log/test_output/sympy_plotting.out 2>&1\n",
        "\n"
       ]
      },
      {
       "output_type": "stream",
       "stream": "stdout",
       "text": [
        "Sun Jun 15 08:08:39 2014 Submitting pytables_garbage: python3.4 /usr/local/lib/python3.4/dist-packages/tables/tests/test_garbage.py --heavy > /srv/log/test_output/pytables_garbage.out 2>&1\n",
        "\n"
       ]
      },
      {
       "output_type": "stream",
       "stream": "stdout",
       "text": [
        "Sun Jun 15 08:08:39 2014 Submitting pystan_rstan_stan_args: (export JOBLIB_MULTIPROCESSING=0; python3.4 `which nosetests` /usr/local/lib/python3.4/dist-packages/pystan/tests/test_rstan_stan_args.py) > /srv/log/test_output/pystan_rstan_stan_args.out 2>&1\n",
        "\n"
       ]
      },
      {
       "output_type": "stream",
       "stream": "stdout",
       "text": [
        "Sun Jun 15 08:08:39 2014 Submitting theano_sandbox_test_neighbourhoods: rm -rf /tmp/theano_sandbox_test_neighbourhoods && THEANO_FLAGS=\"compiledir=/tmp/theano_sandbox_test_neighbourhoods\" python3.4 `which theano-nose` /usr/local/lib/python3.4/dist-packages/theano/sandbox/test_neighbourhoods.py > /srv/log/test_output/theano_sandbox_test_neighbourhoods.out 2>&1\n",
        "\n"
       ]
      },
      {
       "output_type": "stream",
       "stream": "stdout",
       "text": [
        "Sun Jun 15 08:08:39 2014 Submitting scipy: python3.4 -c \"import scipy; assert scipy.test('full').wasSuccessful()\" > /srv/log/test_output/scipy.out 2>&1\n",
        "\n"
       ]
      },
      {
       "output_type": "stream",
       "stream": "stdout",
       "text": [
        "Sun Jun 15 08:08:39 2014 Submitting sympy_integrals: python3.4 -c \"import sympy; sympy.test('/integrals')\" > /srv/log/test_output/sympy_integrals.out 2>&1\n",
        "\n"
       ]
      },
      {
       "output_type": "stream",
       "stream": "stdout",
       "text": [
        "Sun Jun 15 08:08:39 2014 Submitting pytables_timetype: python3.4 /usr/local/lib/python3.4/dist-packages/tables/tests/test_timetype.py --heavy > /srv/log/test_output/pytables_timetype.out 2>&1\n",
        "\n"
       ]
      },
      {
       "output_type": "stream",
       "stream": "stdout",
       "text": [
        "Sun Jun 15 08:08:39 2014 Submitting pystan_extract: (export JOBLIB_MULTIPROCESSING=0; python3.4 `which nosetests` /usr/local/lib/python3.4/dist-packages/pystan/tests/test_extract.py) > /srv/log/test_output/pystan_extract.out 2>&1\n",
        "\n"
       ]
      },
      {
       "output_type": "stream",
       "stream": "stdout",
       "text": [
        "Sun Jun 15 08:08:39 2014 Submitting theano_sandbox_test_scan: rm -rf /tmp/theano_sandbox_test_scan && THEANO_FLAGS=\"compiledir=/tmp/theano_sandbox_test_scan\" python3.4 `which theano-nose` /usr/local/lib/python3.4/dist-packages/theano/sandbox/test_scan.py > /srv/log/test_output/theano_sandbox_test_scan.out 2>&1\n",
        "\n"
       ]
      },
      {
       "output_type": "stream",
       "stream": "stdout",
       "text": [
        "Sun Jun 15 08:08:39 2014 Submitting pandas: python3.4 `which nosetests` pandas > /srv/log/test_output/pandas.out 2>&1\n",
        "\n"
       ]
      },
      {
       "output_type": "stream",
       "stream": "stdout",
       "text": [
        "Sun Jun 15 08:08:39 2014 Submitting sympy_external: python3.4 -c \"import sympy; sympy.test('/external')\" > /srv/log/test_output/sympy_external.out 2>&1\n",
        "\n"
       ]
      },
      {
       "output_type": "stream",
       "stream": "stdout",
       "text": [
        "Sun Jun 15 08:08:39 2014 Submitting pytables_indexvalues: python3.4 /usr/local/lib/python3.4/dist-packages/tables/tests/test_indexvalues.py --heavy > /srv/log/test_output/pytables_indexvalues.out 2>&1\n",
        "\n"
       ]
      },
      {
       "output_type": "stream",
       "stream": "stdout",
       "text": [
        "Sun Jun 15 08:08:39 2014 Submitting pystan_rstan_getting_started: (export JOBLIB_MULTIPROCESSING=0; python3.4 `which nosetests` /usr/local/lib/python3.4/dist-packages/pystan/tests/test_rstan_getting_started.py) > /srv/log/test_output/pystan_rstan_getting_started.out 2>&1\n",
        "\n"
       ]
      },
      {
       "output_type": "stream",
       "stream": "stdout",
       "text": [
        "Sun Jun 15 08:08:39 2014 Submitting theano_sandbox_test_theano_object: rm -rf /tmp/theano_sandbox_test_theano_object && THEANO_FLAGS=\"compiledir=/tmp/theano_sandbox_test_theano_object\" python3.4 `which theano-nose` /usr/local/lib/python3.4/dist-packages/theano/sandbox/test_theano_object.py > /srv/log/test_output/theano_sandbox_test_theano_object.out 2>&1\n",
        "\n"
       ]
      },
      {
       "output_type": "stream",
       "stream": "stdout",
       "text": [
        "Sun Jun 15 08:08:39 2014 Submitting sklearn: python3.4 `which nosetests` sklearn --exe > /srv/log/test_output/sklearn.out 2>&1\n",
        "\n"
       ]
      },
      {
       "output_type": "stream",
       "stream": "stdout",
       "text": [
        "Sun Jun 15 08:08:39 2014 Submitting sympy_mpmath: python3.4 -c \"import sympy; sympy.test('/mpmath')\" > /srv/log/test_output/sympy_mpmath.out 2>&1\n",
        "\n"
       ]
      },
      {
       "output_type": "stream",
       "stream": "stdout",
       "text": [
        "Sun Jun 15 08:08:39 2014 Submitting pytables_expression: python3.4 /usr/local/lib/python3.4/dist-packages/tables/tests/test_expression.py --heavy > /srv/log/test_output/pytables_expression.out 2>&1\n",
        "\n"
       ]
      },
      {
       "output_type": "stream",
       "stream": "stdout",
       "text": [
        "Sun Jun 15 08:08:39 2014 Submitting pystan_basic_array: (export JOBLIB_MULTIPROCESSING=0; python3.4 `which nosetests` /usr/local/lib/python3.4/dist-packages/pystan/tests/test_basic_array.py) > /srv/log/test_output/pystan_basic_array.out 2>&1\n",
        "\n"
       ]
      },
      {
       "output_type": "stream",
       "stream": "stdout",
       "text": [
        "Sun Jun 15 08:08:39 2014 Submitting theano_sandbox_test_rng_mrg: rm -rf /tmp/theano_sandbox_test_rng_mrg && THEANO_FLAGS=\"compiledir=/tmp/theano_sandbox_test_rng_mrg\" python3.4 `which theano-nose` /usr/local/lib/python3.4/dist-packages/theano/sandbox/test_rng_mrg.py > /srv/log/test_output/theano_sandbox_test_rng_mrg.out 2>&1\n",
        "\n"
       ]
      },
      {
       "output_type": "stream",
       "stream": "stdout",
       "text": [
        "Sun Jun 15 08:08:39 2014 Submitting pillow: (cd /tmp && rm -f Images && ln -s /srv/cache/src/Pillow/Images . && python3.4 /srv/cache/src/Pillow/selftest.py --installed) > /srv/log/test_output/pillow.out 2>&1\n",
        "\n"
       ]
      },
      {
       "output_type": "stream",
       "stream": "stdout",
       "text": [
        "Sun Jun 15 08:08:39 2014 Submitting sympy_logic: python3.4 -c \"import sympy; sympy.test('/logic')\" > /srv/log/test_output/sympy_logic.out 2>&1\n",
        "\n"
       ]
      },
      {
       "output_type": "stream",
       "stream": "stdout",
       "text": [
        "Sun Jun 15 08:08:39 2014 Submitting pytables_types: python3.4 /usr/local/lib/python3.4/dist-packages/tables/tests/test_types.py --heavy > /srv/log/test_output/pytables_types.out 2>&1\n",
        "\n"
       ]
      },
      {
       "output_type": "stream",
       "stream": "stdout",
       "text": [
        "Sun Jun 15 08:08:39 2014 Submitting pystan_basic_pars: (export JOBLIB_MULTIPROCESSING=0; python3.4 `which nosetests` /usr/local/lib/python3.4/dist-packages/pystan/tests/test_basic_pars.py) > /srv/log/test_output/pystan_basic_pars.out 2>&1\n",
        "\n"
       ]
      },
      {
       "output_type": "stream",
       "stream": "stdout",
       "text": [
        "Sun Jun 15 08:08:39 2014 Submitting theano_sandbox_linalg_tests_test_kron: rm -rf /tmp/theano_sandbox_linalg_tests_test_kron && THEANO_FLAGS=\"compiledir=/tmp/theano_sandbox_linalg_tests_test_kron\" python3.4 `which theano-nose` /usr/local/lib/python3.4/dist-packages/theano/sandbox/linalg/tests/test_kron.py > /srv/log/test_output/theano_sandbox_linalg_tests_test_kron.out 2>&1\n",
        "\n"
       ]
      },
      {
       "output_type": "stream",
       "stream": "stdout",
       "text": [
        "Sun Jun 15 08:08:39 2014 Submitting nltk: python3.4 /usr/local/lib/python3.4/dist-packages/nltk/test/runtests.py > /srv/log/test_output/nltk.out 2>&1\n",
        "\n"
       ]
      },
      {
       "output_type": "stream",
       "stream": "stdout",
       "text": [
        "Sun Jun 15 08:08:39 2014 Submitting sympy_calculus: python3.4 -c \"import sympy; sympy.test('/calculus')\" > /srv/log/test_output/sympy_calculus.out 2>&1\n",
        "\n"
       ]
      },
      {
       "output_type": "stream",
       "stream": "stdout",
       "text": [
        "Sun Jun 15 08:08:39 2014 Submitting pytables_vlarray: python3.4 /usr/local/lib/python3.4/dist-packages/tables/tests/test_vlarray.py --heavy > /srv/log/test_output/pytables_vlarray.out 2>&1\n",
        "\n"
       ]
      },
      {
       "output_type": "stream",
       "stream": "stdout",
       "text": [
        "Sun Jun 15 08:08:39 2014 Submitting pystan_user_inits: (export JOBLIB_MULTIPROCESSING=0; python3.4 `which nosetests` /usr/local/lib/python3.4/dist-packages/pystan/tests/test_user_inits.py) > /srv/log/test_output/pystan_user_inits.out 2>&1\n",
        "\n"
       ]
      },
      {
       "output_type": "stream",
       "stream": "stdout",
       "text": [
        "Sun Jun 15 08:08:39 2014 Submitting theano_sandbox_linalg_tests_test_linalg: rm -rf /tmp/theano_sandbox_linalg_tests_test_linalg && THEANO_FLAGS=\"compiledir=/tmp/theano_sandbox_linalg_tests_test_linalg\" python3.4 `which theano-nose` /usr/local/lib/python3.4/dist-packages/theano/sandbox/linalg/tests/test_linalg.py > /srv/log/test_output/theano_sandbox_linalg_tests_test_linalg.out 2>&1\n",
        "\n"
       ]
      },
      {
       "output_type": "stream",
       "stream": "stdout",
       "text": [
        "Sun Jun 15 08:08:39 2014 Submitting gensim: (cd /srv/cache/src/gensim && python3.4 setup.py test) > /srv/log/test_output/gensim.out 2>&1\n",
        "\n"
       ]
      },
      {
       "output_type": "stream",
       "stream": "stdout",
       "text": [
        "Sun Jun 15 08:08:39 2014 Submitting sympy_ntheory: python3.4 -c \"import sympy; sympy.test('/ntheory')\" > /srv/log/test_output/sympy_ntheory.out 2>&1\n",
        "\n"
       ]
      },
      {
       "output_type": "stream",
       "stream": "stdout",
       "text": [
        "Sun Jun 15 08:08:39 2014 Submitting pytables_nestedtypes: python3.4 /usr/local/lib/python3.4/dist-packages/tables/tests/test_nestedtypes.py --heavy > /srv/log/test_output/pytables_nestedtypes.out 2>&1\n",
        "\n"
       ]
      },
      {
       "output_type": "stream",
       "stream": "stdout",
       "text": [
        "Sun Jun 15 08:08:39 2014 Submitting pystan_rstan_stanfit: (export JOBLIB_MULTIPROCESSING=0; python3.4 `which nosetests` /usr/local/lib/python3.4/dist-packages/pystan/tests/test_rstan_stanfit.py) > /srv/log/test_output/pystan_rstan_stanfit.out 2>&1\n",
        "\n"
       ]
      },
      {
       "output_type": "stream",
       "stream": "stdout",
       "text": [
        "Sun Jun 15 08:08:39 2014 Submitting theano_sandbox_gpuarray_tests_test_subtensor: rm -rf /tmp/theano_sandbox_gpuarray_tests_test_subtensor && THEANO_FLAGS=\"compiledir=/tmp/theano_sandbox_gpuarray_tests_test_subtensor\" python3.4 `which theano-nose` /usr/local/lib/python3.4/dist-packages/theano/sandbox/gpuarray/tests/test_subtensor.py > /srv/log/test_output/theano_sandbox_gpuarray_tests_test_subtensor.out 2>&1\n",
        "\n"
       ]
      },
      {
       "output_type": "stream",
       "stream": "stdout",
       "text": [
        "Sun Jun 15 08:08:39 2014 Submitting bottleneck: python3.4 -c \"import bottleneck as bn; assert bn.test('full').wasSuccessful()\" > /srv/log/test_output/bottleneck.out 2>&1\n",
        "\n"
       ]
      },
      {
       "output_type": "stream",
       "stream": "stdout",
       "text": [
        "Sun Jun 15 08:08:39 2014 Submitting sympy_printing: python3.4 -c \"import sympy; sympy.test('/printing')\" > /srv/log/test_output/sympy_printing.out 2>&1\n",
        "\n"
       ]
      },
      {
       "output_type": "stream",
       "stream": "stdout",
       "text": [
        "Sun Jun 15 08:08:39 2014 Submitting pytables_carray: python3.4 /usr/local/lib/python3.4/dist-packages/tables/tests/test_carray.py --heavy > /srv/log/test_output/pytables_carray.out 2>&1\n",
        "\n"
       ]
      },
      {
       "output_type": "stream",
       "stream": "stdout",
       "text": [
        "Sun Jun 15 08:08:39 2014 Submitting pystan_misc: (export JOBLIB_MULTIPROCESSING=0; python3.4 `which nosetests` /usr/local/lib/python3.4/dist-packages/pystan/tests/test_misc.py) > /srv/log/test_output/pystan_misc.out 2>&1\n",
        "\n"
       ]
      },
      {
       "output_type": "stream",
       "stream": "stdout",
       "text": [
        "Sun Jun 15 08:08:39 2014 Submitting theano_sandbox_gpuarray_tests_test_basic_ops: rm -rf /tmp/theano_sandbox_gpuarray_tests_test_basic_ops && THEANO_FLAGS=\"compiledir=/tmp/theano_sandbox_gpuarray_tests_test_basic_ops\" python3.4 `which theano-nose` /usr/local/lib/python3.4/dist-packages/theano/sandbox/gpuarray/tests/test_basic_ops.py > /srv/log/test_output/theano_sandbox_gpuarray_tests_test_basic_ops.out 2>&1\n",
        "\n"
       ]
      },
      {
       "output_type": "stream",
       "stream": "stdout",
       "text": [
        "Sun Jun 15 08:08:39 2014 Submitting statsmodels: python3.4 -c \"import statsmodels as sm; assert sm.test().wasSuccessful()\" > /srv/log/test_output/statsmodels.out 2>&1\n",
        "\n"
       ]
      },
      {
       "output_type": "stream",
       "stream": "stdout",
       "text": [
        "Sun Jun 15 08:08:39 2014 Submitting sympy_galgebra: python3.4 -c \"import sympy; sympy.test('/galgebra')\" > /srv/log/test_output/sympy_galgebra.out 2>&1\n",
        "\n"
       ]
      },
      {
       "output_type": "stream",
       "stream": "stdout",
       "text": [
        "Sun Jun 15 08:08:39 2014 Submitting pytables_tablesMD: python3.4 /usr/local/lib/python3.4/dist-packages/tables/tests/test_tablesMD.py --heavy > /srv/log/test_output/pytables_tablesMD.out 2>&1\n",
        "\n"
       ]
      },
      {
       "output_type": "stream",
       "stream": "stdout",
       "text": [
        "Sun Jun 15 08:08:39 2014 Submitting pystan_stan_file_io: (export JOBLIB_MULTIPROCESSING=0; python3.4 `which nosetests` /usr/local/lib/python3.4/dist-packages/pystan/tests/test_stan_file_io.py) > /srv/log/test_output/pystan_stan_file_io.out 2>&1\n",
        "\n"
       ]
      },
      {
       "output_type": "stream",
       "stream": "stdout",
       "text": [
        "Sun Jun 15 08:08:39 2014 Submitting theano_sandbox_gpuarray_tests_test_elemwise: rm -rf /tmp/theano_sandbox_gpuarray_tests_test_elemwise && THEANO_FLAGS=\"compiledir=/tmp/theano_sandbox_gpuarray_tests_test_elemwise\" python3.4 `which theano-nose` /usr/local/lib/python3.4/dist-packages/theano/sandbox/gpuarray/tests/test_elemwise.py > /srv/log/test_output/theano_sandbox_gpuarray_tests_test_elemwise.out 2>&1\n",
        "\n"
       ]
      },
      {
       "output_type": "stream",
       "stream": "stdout",
       "text": [
        "Sun Jun 15 08:08:39 2014 Submitting numexpr: python3.4 `which nosetests` numexpr > /srv/log/test_output/numexpr.out 2>&1\n",
        "\n"
       ]
      },
      {
       "output_type": "stream",
       "stream": "stdout",
       "text": [
        "Sun Jun 15 08:08:39 2014 Submitting sympy_solvers: python3.4 -c \"import sympy; sympy.test('/solvers')\" > /srv/log/test_output/sympy_solvers.out 2>&1\n",
        "\n"
       ]
      },
      {
       "output_type": "stream",
       "stream": "stdout",
       "text": [
        "Sun Jun 15 08:08:39 2014 Submitting pytables_tables: python3.4 /usr/local/lib/python3.4/dist-packages/tables/tests/test_tables.py --heavy > /srv/log/test_output/pytables_tables.out 2>&1\n",
        "\n"
       ]
      },
      {
       "output_type": "stream",
       "stream": "stdout",
       "text": [
        "Sun Jun 15 08:08:39 2014 Submitting pystan_rstan_test8schools: (export JOBLIB_MULTIPROCESSING=0; python3.4 `which nosetests` /usr/local/lib/python3.4/dist-packages/pystan/tests/test_rstan_test8schools.py) > /srv/log/test_output/pystan_rstan_test8schools.out 2>&1\n",
        "\n"
       ]
      },
      {
       "output_type": "stream",
       "stream": "stdout",
       "text": [
        "Sun Jun 15 08:08:39 2014 Submitting theano_sandbox_gpuarray_tests_test_type: rm -rf /tmp/theano_sandbox_gpuarray_tests_test_type && THEANO_FLAGS=\"compiledir=/tmp/theano_sandbox_gpuarray_tests_test_type\" python3.4 `which theano-nose` /usr/local/lib/python3.4/dist-packages/theano/sandbox/gpuarray/tests/test_type.py > /srv/log/test_output/theano_sandbox_gpuarray_tests_test_type.out 2>&1\n",
        "\n"
       ]
      },
      {
       "output_type": "stream",
       "stream": "stdout",
       "text": [
        "Sun Jun 15 08:08:39 2014 Submitting patsy: python3.4 `which nosetests` patsy > /srv/log/test_output/patsy.out 2>&1\n",
        "\n"
       ]
      },
      {
       "output_type": "stream",
       "stream": "stdout",
       "text": [
        "Sun Jun 15 08:08:39 2014 Submitting sympy_categories: python3.4 -c \"import sympy; sympy.test('/categories')\" > /srv/log/test_output/sympy_categories.out 2>&1\n",
        "\n"
       ]
      },
      {
       "output_type": "stream",
       "stream": "stdout",
       "text": [
        "Sun Jun 15 08:08:39 2014 Submitting pytables_indexes: python3.4 /usr/local/lib/python3.4/dist-packages/tables/tests/test_indexes.py --heavy > /srv/log/test_output/pytables_indexes.out 2>&1\n",
        "\n"
       ]
      },
      {
       "output_type": "stream",
       "stream": "stdout",
       "text": [
        "Sun Jun 15 08:08:39 2014 Submitting pystan_rstan_zerolen: (export JOBLIB_MULTIPROCESSING=0; python3.4 `which nosetests` /usr/local/lib/python3.4/dist-packages/pystan/tests/test_rstan_zerolen.py) > /srv/log/test_output/pystan_rstan_zerolen.out 2>&1\n",
        "\n"
       ]
      },
      {
       "output_type": "stream",
       "stream": "stdout",
       "text": [
        "Sun Jun 15 08:08:39 2014 Submitting theano_sandbox_gpuarray_tests_test_neighbours: rm -rf /tmp/theano_sandbox_gpuarray_tests_test_neighbours && THEANO_FLAGS=\"compiledir=/tmp/theano_sandbox_gpuarray_tests_test_neighbours\" python3.4 `which theano-nose` /usr/local/lib/python3.4/dist-packages/theano/sandbox/gpuarray/tests/test_neighbours.py > /srv/log/test_output/theano_sandbox_gpuarray_tests_test_neighbours.out 2>&1\n",
        "\n"
       ]
      },
      {
       "output_type": "stream",
       "stream": "stdout",
       "text": [
        "Sun Jun 15 08:08:39 2014 Submitting prettyplotlib: (cd /srv/cache/src/prettyplotlib/tests && for py in $(ls test_*.py); do python3.4 $py; done) > /srv/log/test_output/prettyplotlib.out 2>&1\n",
        "\n"
       ]
      },
      {
       "output_type": "stream",
       "stream": "stdout",
       "text": [
        "Sun Jun 15 08:08:40 2014 Submitting sympy_functions: python3.4 -c \"import sympy; sympy.test('/functions')\" > /srv/log/test_output/sympy_functions.out 2>&1\n",
        "\n"
       ]
      },
      {
       "output_type": "stream",
       "stream": "stdout",
       "text": [
        "Sun Jun 15 08:08:40 2014 Submitting pytables_array: python3.4 /usr/local/lib/python3.4/dist-packages/tables/tests/test_array.py --heavy > /srv/log/test_output/pytables_array.out 2>&1\n",
        "\n"
       ]
      },
      {
       "output_type": "stream",
       "stream": "stdout",
       "text": [
        "Sun Jun 15 08:08:40 2014 Submitting pystan_basic: (export JOBLIB_MULTIPROCESSING=0; python3.4 `which nosetests` /usr/local/lib/python3.4/dist-packages/pystan/tests/test_basic.py) > /srv/log/test_output/pystan_basic.out 2>&1\n",
        "\n"
       ]
      },
      {
       "output_type": "stream",
       "stream": "stdout",
       "text": [
        "Sun Jun 15 08:08:40 2014 Submitting theano_sandbox_gpuarray_tests_test_conv_cuda_ndarray: rm -rf /tmp/theano_sandbox_gpuarray_tests_test_conv_cuda_ndarray && THEANO_FLAGS=\"compiledir=/tmp/theano_sandbox_gpuarray_tests_test_conv_cuda_ndarray\" python3.4 `which theano-nose` /usr/local/lib/python3.4/dist-packages/theano/sandbox/gpuarray/tests/test_conv_cuda_ndarray.py > /srv/log/test_output/theano_sandbox_gpuarray_tests_test_conv_cuda_ndarray.out 2>&1\n",
        "\n"
       ]
      },
      {
       "output_type": "stream",
       "stream": "stdout",
       "text": [
        "Sun Jun 15 08:08:40 2014 Submitting emcee: python3.4 `which nosetests` emcee > /srv/log/test_output/emcee.out 2>&1\n",
        "\n"
       ]
      },
      {
       "output_type": "stream",
       "stream": "stdout",
       "text": [
        "Sun Jun 15 08:08:40 2014 Submitting sympy_diffgeom: python3.4 -c \"import sympy; sympy.test('/diffgeom')\" > /srv/log/test_output/sympy_diffgeom.out 2>&1\n",
        "\n"
       ]
      },
      {
       "output_type": "stream",
       "stream": "stdout",
       "text": [
        "Sun Jun 15 08:08:40 2014 Submitting pytables_do_undo: python3.4 /usr/local/lib/python3.4/dist-packages/tables/tests/test_do_undo.py --heavy > /srv/log/test_output/pytables_do_undo.out 2>&1\n",
        "\n"
       ]
      },
      {
       "output_type": "stream",
       "stream": "stdout",
       "text": [
        "Sun Jun 15 08:08:40 2014 Submitting pystan_pickle: (export JOBLIB_MULTIPROCESSING=0; python3.4 `which nosetests` /usr/local/lib/python3.4/dist-packages/pystan/tests/test_pickle.py) > /srv/log/test_output/pystan_pickle.out 2>&1\n",
        "\n"
       ]
      },
      {
       "output_type": "stream",
       "stream": "stdout",
       "text": [
        "Sun Jun 15 08:08:40 2014 Submitting theano_sandbox_gpuarray_tests_test_nnet: rm -rf /tmp/theano_sandbox_gpuarray_tests_test_nnet && THEANO_FLAGS=\"compiledir=/tmp/theano_sandbox_gpuarray_tests_test_nnet\" python3.4 `which theano-nose` /usr/local/lib/python3.4/dist-packages/theano/sandbox/gpuarray/tests/test_nnet.py > /srv/log/test_output/theano_sandbox_gpuarray_tests_test_nnet.out 2>&1\n",
        "\n"
       ]
      },
      {
       "output_type": "stream",
       "stream": "stdout",
       "text": [
        "Sun Jun 15 08:08:40 2014 Submitting sympy_strategies: python3.4 -c \"import sympy; sympy.test('/strategies')\" > /srv/log/test_output/sympy_strategies.out 2>&1\n",
        "\n"
       ]
      },
      {
       "output_type": "stream",
       "stream": "stdout",
       "text": [
        "Sun Jun 15 08:08:40 2014 Submitting pytables_links: python3.4 /usr/local/lib/python3.4/dist-packages/tables/tests/test_links.py --heavy > /srv/log/test_output/pytables_links.out 2>&1\n",
        "\n"
       ]
      },
      {
       "output_type": "stream",
       "stream": "stdout",
       "text": [
        "Sun Jun 15 08:08:40 2014 Submitting pystan_chains: (export JOBLIB_MULTIPROCESSING=0; python3.4 `which nosetests` /usr/local/lib/python3.4/dist-packages/pystan/tests/test_chains.py) > /srv/log/test_output/pystan_chains.out 2>&1\n",
        "\n"
       ]
      },
      {
       "output_type": "stream",
       "stream": "stdout",
       "text": [
        "Sun Jun 15 08:08:40 2014 Submitting theano_sandbox_gpuarray_tests_test_scan: rm -rf /tmp/theano_sandbox_gpuarray_tests_test_scan && THEANO_FLAGS=\"compiledir=/tmp/theano_sandbox_gpuarray_tests_test_scan\" python3.4 `which theano-nose` /usr/local/lib/python3.4/dist-packages/theano/sandbox/gpuarray/tests/test_scan.py > /srv/log/test_output/theano_sandbox_gpuarray_tests_test_scan.out 2>&1\n",
        "\n"
       ]
      },
      {
       "output_type": "stream",
       "stream": "stdout",
       "text": [
        "Sun Jun 15 08:08:40 2014 Submitting sympy_crypto: python3.4 -c \"import sympy; sympy.test('/crypto')\" > /srv/log/test_output/sympy_crypto.out 2>&1\n",
        "\n"
       ]
      },
      {
       "output_type": "stream",
       "stream": "stdout",
       "text": [
        "Sun Jun 15 08:08:40 2014 Submitting pytables_earray: python3.4 /usr/local/lib/python3.4/dist-packages/tables/tests/test_earray.py --heavy > /srv/log/test_output/pytables_earray.out 2>&1\n",
        "\n"
       ]
      },
      {
       "output_type": "stream",
       "stream": "stdout",
       "text": [
        "Sun Jun 15 08:08:40 2014 Submitting pystan_rstan_testoptim: (export JOBLIB_MULTIPROCESSING=0; python3.4 `which nosetests` /usr/local/lib/python3.4/dist-packages/pystan/tests/test_rstan_testoptim.py) > /srv/log/test_output/pystan_rstan_testoptim.out 2>&1\n",
        "\n"
       ]
      },
      {
       "output_type": "stream",
       "stream": "stdout",
       "text": [
        "Sun Jun 15 08:08:40 2014 Submitting theano_sandbox_gpuarray_tests_test_opt: rm -rf /tmp/theano_sandbox_gpuarray_tests_test_opt && THEANO_FLAGS=\"compiledir=/tmp/theano_sandbox_gpuarray_tests_test_opt\" python3.4 `which theano-nose` /usr/local/lib/python3.4/dist-packages/theano/sandbox/gpuarray/tests/test_opt.py > /srv/log/test_output/theano_sandbox_gpuarray_tests_test_opt.out 2>&1\n",
        "\n"
       ]
      },
      {
       "output_type": "stream",
       "stream": "stdout",
       "text": [
        "Sun Jun 15 08:08:40 2014 Submitting sympy_interactive: python3.4 -c \"import sympy; sympy.test('/interactive')\" > /srv/log/test_output/sympy_interactive.out 2>&1\n",
        "\n"
       ]
      },
      {
       "output_type": "stream",
       "stream": "stdout",
       "text": [
        "Sun Jun 15 08:08:40 2014 Submitting pytables_create: python3.4 /usr/local/lib/python3.4/dist-packages/tables/tests/test_create.py --heavy > /srv/log/test_output/pytables_create.out 2>&1\n",
        "\n"
       ]
      },
      {
       "output_type": "stream",
       "stream": "stdout",
       "text": [
        "Sun Jun 15 08:08:40 2014 Submitting pystan_rstan_test8schools2: (export JOBLIB_MULTIPROCESSING=0; python3.4 `which nosetests` /usr/local/lib/python3.4/dist-packages/pystan/tests/test_rstan_test8schools2.py) > /srv/log/test_output/pystan_rstan_test8schools2.out 2>&1\n",
        "\n"
       ]
      },
      {
       "output_type": "stream",
       "stream": "stdout",
       "text": [
        "Sun Jun 15 08:08:40 2014 Submitting theano_sandbox_gpuarray_tests_test_blas: rm -rf /tmp/theano_sandbox_gpuarray_tests_test_blas && THEANO_FLAGS=\"compiledir=/tmp/theano_sandbox_gpuarray_tests_test_blas\" python3.4 `which theano-nose` /usr/local/lib/python3.4/dist-packages/theano/sandbox/gpuarray/tests/test_blas.py > /srv/log/test_output/theano_sandbox_gpuarray_tests_test_blas.out 2>&1\n",
        "\n"
       ]
      },
      {
       "output_type": "stream",
       "stream": "stdout",
       "text": [
        "Sun Jun 15 08:08:40 2014 Submitting sympy_polys: python3.4 -c \"import sympy; sympy.test('/polys')\" > /srv/log/test_output/sympy_polys.out 2>&1\n",
        "\n"
       ]
      },
      {
       "output_type": "stream",
       "stream": "stdout",
       "text": [
        "Sun Jun 15 08:08:40 2014 Submitting pytables_enum: python3.4 /usr/local/lib/python3.4/dist-packages/tables/tests/test_enum.py --heavy > /srv/log/test_output/pytables_enum.out 2>&1\n",
        "\n"
       ]
      },
      {
       "output_type": "stream",
       "stream": "stdout",
       "text": [
        "Sun Jun 15 08:08:40 2014 Submitting theano_sandbox_scan_module_tests_test_scan: rm -rf /tmp/theano_sandbox_scan_module_tests_test_scan && THEANO_FLAGS=\"compiledir=/tmp/theano_sandbox_scan_module_tests_test_scan\" python3.4 `which theano-nose` /usr/local/lib/python3.4/dist-packages/theano/sandbox/scan_module/tests/test_scan.py > /srv/log/test_output/theano_sandbox_scan_module_tests_test_scan.out 2>&1\n",
        "\n"
       ]
      },
      {
       "output_type": "stream",
       "stream": "stdout",
       "text": [
        "Sun Jun 15 08:08:40 2014 Submitting sympy_stats: python3.4 -c \"import sympy; sympy.test('/stats')\" > /srv/log/test_output/sympy_stats.out 2>&1\n",
        "\n"
       ]
      },
      {
       "output_type": "stream",
       "stream": "stdout",
       "text": [
        "Sun Jun 15 08:08:40 2014 Submitting pytables_tree: python3.4 /usr/local/lib/python3.4/dist-packages/tables/tests/test_tree.py --heavy > /srv/log/test_output/pytables_tree.out 2>&1\n",
        "\n"
       ]
      },
      {
       "output_type": "stream",
       "stream": "stdout",
       "text": [
        "Sun Jun 15 08:08:40 2014 Submitting theano_sandbox_scan_module_tests_test_utils: rm -rf /tmp/theano_sandbox_scan_module_tests_test_utils && THEANO_FLAGS=\"compiledir=/tmp/theano_sandbox_scan_module_tests_test_utils\" python3.4 `which theano-nose` /usr/local/lib/python3.4/dist-packages/theano/sandbox/scan_module/tests/test_utils.py > /srv/log/test_output/theano_sandbox_scan_module_tests_test_utils.out 2>&1\n",
        "\n"
       ]
      },
      {
       "output_type": "stream",
       "stream": "stdout",
       "text": [
        "Sun Jun 15 08:08:40 2014 Submitting sympy_concrete: python3.4 -c \"import sympy; sympy.test('/concrete')\" > /srv/log/test_output/sympy_concrete.out 2>&1\n",
        "\n"
       ]
      },
      {
       "output_type": "stream",
       "stream": "stdout",
       "text": [
        "Sun Jun 15 08:08:40 2014 Submitting pytables_lists: python3.4 /usr/local/lib/python3.4/dist-packages/tables/tests/test_lists.py --heavy > /srv/log/test_output/pytables_lists.out 2>&1\n",
        "\n"
       ]
      },
      {
       "output_type": "stream",
       "stream": "stdout",
       "text": [
        "Sun Jun 15 08:08:40 2014 Submitting theano_sandbox_cuda_tests_test_memory: rm -rf /tmp/theano_sandbox_cuda_tests_test_memory && THEANO_FLAGS=\"compiledir=/tmp/theano_sandbox_cuda_tests_test_memory\" python3.4 `which theano-nose` /usr/local/lib/python3.4/dist-packages/theano/sandbox/cuda/tests/test_memory.py > /srv/log/test_output/theano_sandbox_cuda_tests_test_memory.out 2>&1\n",
        "\n"
       ]
      },
      {
       "output_type": "stream",
       "stream": "stdout",
       "text": [
        "Sun Jun 15 08:08:40 2014 Submitting sympy_unify: python3.4 -c \"import sympy; sympy.test('/unify')\" > /srv/log/test_output/sympy_unify.out 2>&1\n",
        "\n"
       ]
      },
      {
       "output_type": "stream",
       "stream": "stdout",
       "text": [
        "Sun Jun 15 08:08:40 2014 Submitting pytables_basics: python3.4 /usr/local/lib/python3.4/dist-packages/tables/tests/test_basics.py --heavy > /srv/log/test_output/pytables_basics.out 2>&1\n",
        "\n"
       ]
      },
      {
       "output_type": "stream",
       "stream": "stdout",
       "text": [
        "Sun Jun 15 08:08:40 2014 Submitting theano_sandbox_cuda_tests_test_basic_ops: rm -rf /tmp/theano_sandbox_cuda_tests_test_basic_ops && THEANO_FLAGS=\"compiledir=/tmp/theano_sandbox_cuda_tests_test_basic_ops\" python3.4 `which theano-nose` /usr/local/lib/python3.4/dist-packages/theano/sandbox/cuda/tests/test_basic_ops.py > /srv/log/test_output/theano_sandbox_cuda_tests_test_basic_ops.out 2>&1\n",
        "\n"
       ]
      },
      {
       "output_type": "stream",
       "stream": "stdout",
       "text": [
        "Sun Jun 15 08:08:40 2014 Submitting sympy_core: python3.4 -c \"import sympy; sympy.test('/core')\" > /srv/log/test_output/sympy_core.out 2>&1\n",
        "\n"
       ]
      },
      {
       "output_type": "stream",
       "stream": "stdout",
       "text": [
        "Sun Jun 15 08:08:40 2014 Submitting pytables_hdf5compat: python3.4 /usr/local/lib/python3.4/dist-packages/tables/tests/test_hdf5compat.py --heavy > /srv/log/test_output/pytables_hdf5compat.out 2>&1\n",
        "\n"
       ]
      },
      {
       "output_type": "stream",
       "stream": "stdout",
       "text": [
        "Sun Jun 15 08:08:40 2014 Submitting theano_sandbox_cuda_tests_test_cuda_ndarray: rm -rf /tmp/theano_sandbox_cuda_tests_test_cuda_ndarray && THEANO_FLAGS=\"compiledir=/tmp/theano_sandbox_cuda_tests_test_cuda_ndarray\" python3.4 `which theano-nose` /usr/local/lib/python3.4/dist-packages/theano/sandbox/cuda/tests/test_cuda_ndarray.py > /srv/log/test_output/theano_sandbox_cuda_tests_test_cuda_ndarray.out 2>&1\n",
        "\n"
       ]
      },
      {
       "output_type": "stream",
       "stream": "stdout",
       "text": [
        "Sun Jun 15 08:08:40 2014 Submitting sympy_combinatorics: python3.4 -c \"import sympy; sympy.test('/combinatorics')\" > /srv/log/test_output/sympy_combinatorics.out 2>&1\n",
        "\n"
       ]
      },
      {
       "output_type": "stream",
       "stream": "stdout",
       "text": [
        "Sun Jun 15 08:08:40 2014 Submitting pytables_backcompat: python3.4 /usr/local/lib/python3.4/dist-packages/tables/tests/test_backcompat.py --heavy > /srv/log/test_output/pytables_backcompat.out 2>&1\n",
        "\n"
       ]
      },
      {
       "output_type": "stream",
       "stream": "stdout",
       "text": [
        "Sun Jun 15 08:08:40 2014 Submitting theano_sandbox_cuda_tests_test_type: rm -rf /tmp/theano_sandbox_cuda_tests_test_type && THEANO_FLAGS=\"compiledir=/tmp/theano_sandbox_cuda_tests_test_type\" python3.4 `which theano-nose` /usr/local/lib/python3.4/dist-packages/theano/sandbox/cuda/tests/test_type.py > /srv/log/test_output/theano_sandbox_cuda_tests_test_type.out 2>&1\n",
        "\n"
       ]
      },
      {
       "output_type": "stream",
       "stream": "stdout",
       "text": [
        "Sun Jun 15 08:08:40 2014 Submitting sympy_simplify: python3.4 -c \"import sympy; sympy.test('/simplify')\" > /srv/log/test_output/sympy_simplify.out 2>&1\n",
        "\n"
       ]
      },
      {
       "output_type": "stream",
       "stream": "stdout",
       "text": [
        "Sun Jun 15 08:08:40 2014 Submitting theano_sandbox_cuda_tests_test_gradient: rm -rf /tmp/theano_sandbox_cuda_tests_test_gradient && THEANO_FLAGS=\"compiledir=/tmp/theano_sandbox_cuda_tests_test_gradient\" python3.4 `which theano-nose` /usr/local/lib/python3.4/dist-packages/theano/sandbox/cuda/tests/test_gradient.py > /srv/log/test_output/theano_sandbox_cuda_tests_test_gradient.out 2>&1\n",
        "\n"
       ]
      },
      {
       "output_type": "stream",
       "stream": "stdout",
       "text": [
        "Sun Jun 15 08:08:40 2014 Submitting sympy_assumptions: python3.4 -c \"import sympy; sympy.test('/assumptions')\" > /srv/log/test_output/sympy_assumptions.out 2>&1\n",
        "\n"
       ]
      },
      {
       "output_type": "stream",
       "stream": "stdout",
       "text": [
        "Sun Jun 15 08:08:40 2014 Submitting theano_sandbox_cuda_tests_test_rng_curand: rm -rf /tmp/theano_sandbox_cuda_tests_test_rng_curand && THEANO_FLAGS=\"compiledir=/tmp/theano_sandbox_cuda_tests_test_rng_curand\" python3.4 `which theano-nose` /usr/local/lib/python3.4/dist-packages/theano/sandbox/cuda/tests/test_rng_curand.py > /srv/log/test_output/theano_sandbox_cuda_tests_test_rng_curand.out 2>&1\n",
        "\n"
       ]
      },
      {
       "output_type": "stream",
       "stream": "stdout",
       "text": [
        "Sun Jun 15 08:08:40 2014 Submitting sympy_matrices: python3.4 -c \"import sympy; sympy.test('/matrices')\" > /srv/log/test_output/sympy_matrices.out 2>&1\n",
        "\n"
       ]
      },
      {
       "output_type": "stream",
       "stream": "stdout",
       "text": [
        "Sun Jun 15 08:08:40 2014 Submitting theano_sandbox_cuda_tests_test_viewop: rm -rf /tmp/theano_sandbox_cuda_tests_test_viewop && THEANO_FLAGS=\"compiledir=/tmp/theano_sandbox_cuda_tests_test_viewop\" python3.4 `which theano-nose` /usr/local/lib/python3.4/dist-packages/theano/sandbox/cuda/tests/test_viewop.py > /srv/log/test_output/theano_sandbox_cuda_tests_test_viewop.out 2>&1\n",
        "\n"
       ]
      },
      {
       "output_type": "stream",
       "stream": "stdout",
       "text": [
        "Sun Jun 15 08:08:40 2014 Submitting sympy_physics: python3.4 -c \"import sympy; sympy.test('/physics')\" > /srv/log/test_output/sympy_physics.out 2>&1\n",
        "\n"
       ]
      },
      {
       "output_type": "stream",
       "stream": "stdout",
       "text": [
        "Sun Jun 15 08:08:40 2014 Submitting theano_sandbox_cuda_tests_test_neighbours: rm -rf /tmp/theano_sandbox_cuda_tests_test_neighbours && THEANO_FLAGS=\"compiledir=/tmp/theano_sandbox_cuda_tests_test_neighbours\" python3.4 `which theano-nose` /usr/local/lib/python3.4/dist-packages/theano/sandbox/cuda/tests/test_neighbours.py > /srv/log/test_output/theano_sandbox_cuda_tests_test_neighbours.out 2>&1\n",
        "\n"
       ]
      },
      {
       "output_type": "stream",
       "stream": "stdout",
       "text": [
        "Sun Jun 15 08:08:40 2014 Submitting sympy_geometry: python3.4 -c \"import sympy; sympy.test('/geometry')\" > /srv/log/test_output/sympy_geometry.out 2>&1\n",
        "\n"
       ]
      },
      {
       "output_type": "stream",
       "stream": "stdout",
       "text": [
        "Sun Jun 15 08:08:40 2014 Submitting theano_sandbox_cuda_tests_test_fftconv: rm -rf /tmp/theano_sandbox_cuda_tests_test_fftconv && THEANO_FLAGS=\"compiledir=/tmp/theano_sandbox_cuda_tests_test_fftconv\" python3.4 `which theano-nose` /usr/local/lib/python3.4/dist-packages/theano/sandbox/cuda/tests/test_fftconv.py > /srv/log/test_output/theano_sandbox_cuda_tests_test_fftconv.out 2>&1\n",
        "\n"
       ]
      },
      {
       "output_type": "stream",
       "stream": "stdout",
       "text": [
        "Sun Jun 15 08:08:40 2014 Submitting sympy_liealgebras: python3.4 -c \"import sympy; sympy.test('/liealgebras')\" > /srv/log/test_output/sympy_liealgebras.out 2>&1\n",
        "\n"
       ]
      },
      {
       "output_type": "stream",
       "stream": "stdout",
       "text": [
        "Sun Jun 15 08:08:40 2014 Submitting theano_sandbox_cuda_tests_test_bench_loopfusion: rm -rf /tmp/theano_sandbox_cuda_tests_test_bench_loopfusion && THEANO_FLAGS=\"compiledir=/tmp/theano_sandbox_cuda_tests_test_bench_loopfusion\" python3.4 `which theano-nose` /usr/local/lib/python3.4/dist-packages/theano/sandbox/cuda/tests/test_bench_loopfusion.py > /srv/log/test_output/theano_sandbox_cuda_tests_test_bench_loopfusion.out 2>&1\n",
        "\n"
       ]
      },
      {
       "output_type": "stream",
       "stream": "stdout",
       "text": [
        "Sun Jun 15 08:08:40 2014 Submitting sympy_tensor: python3.4 -c \"import sympy; sympy.test('/tensor')\" > /srv/log/test_output/sympy_tensor.out 2>&1\n",
        "\n"
       ]
      },
      {
       "output_type": "stream",
       "stream": "stdout",
       "text": [
        "Sun Jun 15 08:08:40 2014 Submitting theano_sandbox_cuda_tests_test_conv_cuda_ndarray: rm -rf /tmp/theano_sandbox_cuda_tests_test_conv_cuda_ndarray && THEANO_FLAGS=\"compiledir=/tmp/theano_sandbox_cuda_tests_test_conv_cuda_ndarray\" python3.4 `which theano-nose` /usr/local/lib/python3.4/dist-packages/theano/sandbox/cuda/tests/test_conv_cuda_ndarray.py > /srv/log/test_output/theano_sandbox_cuda_tests_test_conv_cuda_ndarray.out 2>&1\n",
        "\n"
       ]
      },
      {
       "output_type": "stream",
       "stream": "stdout",
       "text": [
        "Sun Jun 15 08:08:40 2014 Submitting sympy_parsing: python3.4 -c \"import sympy; sympy.test('/parsing')\" > /srv/log/test_output/sympy_parsing.out 2>&1\n",
        "\n"
       ]
      },
      {
       "output_type": "stream",
       "stream": "stdout",
       "text": [
        "Sun Jun 15 08:08:40 2014 Submitting theano_sandbox_cuda_tests_test_nnet: rm -rf /tmp/theano_sandbox_cuda_tests_test_nnet && THEANO_FLAGS=\"compiledir=/tmp/theano_sandbox_cuda_tests_test_nnet\" python3.4 `which theano-nose` /usr/local/lib/python3.4/dist-packages/theano/sandbox/cuda/tests/test_nnet.py > /srv/log/test_output/theano_sandbox_cuda_tests_test_nnet.out 2>&1\n",
        "\n"
       ]
      },
      {
       "output_type": "stream",
       "stream": "stdout",
       "text": [
        "Sun Jun 15 08:08:40 2014 Submitting theano_sandbox_cuda_tests_test_tensor_op: rm -rf /tmp/theano_sandbox_cuda_tests_test_tensor_op && THEANO_FLAGS=\"compiledir=/tmp/theano_sandbox_cuda_tests_test_tensor_op\" python3.4 `which theano-nose` /usr/local/lib/python3.4/dist-packages/theano/sandbox/cuda/tests/test_tensor_op.py > /srv/log/test_output/theano_sandbox_cuda_tests_test_tensor_op.out 2>&1\n",
        "\n"
       ]
      },
      {
       "output_type": "stream",
       "stream": "stdout",
       "text": [
        "Sun Jun 15 08:08:40 2014 Submitting theano_sandbox_cuda_tests_test_opt: rm -rf /tmp/theano_sandbox_cuda_tests_test_opt && THEANO_FLAGS=\"compiledir=/tmp/theano_sandbox_cuda_tests_test_opt\" python3.4 `which theano-nose` /usr/local/lib/python3.4/dist-packages/theano/sandbox/cuda/tests/test_opt.py > /srv/log/test_output/theano_sandbox_cuda_tests_test_opt.out 2>&1\n",
        "\n"
       ]
      },
      {
       "output_type": "stream",
       "stream": "stdout",
       "text": [
        "Sun Jun 15 08:08:40 2014 Submitting theano_sandbox_cuda_tests_test_blas: rm -rf /tmp/theano_sandbox_cuda_tests_test_blas && THEANO_FLAGS=\"compiledir=/tmp/theano_sandbox_cuda_tests_test_blas\" python3.4 `which theano-nose` /usr/local/lib/python3.4/dist-packages/theano/sandbox/cuda/tests/test_blas.py > /srv/log/test_output/theano_sandbox_cuda_tests_test_blas.out 2>&1\n",
        "\n"
       ]
      },
      {
       "output_type": "stream",
       "stream": "stdout",
       "text": [
        "Sun Jun 15 08:08:40 2014 Submitting theano_sandbox_cuda_tests_test_var: rm -rf /tmp/theano_sandbox_cuda_tests_test_var && THEANO_FLAGS=\"compiledir=/tmp/theano_sandbox_cuda_tests_test_var\" python3.4 `which theano-nose` /usr/local/lib/python3.4/dist-packages/theano/sandbox/cuda/tests/test_var.py > /srv/log/test_output/theano_sandbox_cuda_tests_test_var.out 2>&1\n",
        "\n"
       ]
      },
      {
       "output_type": "stream",
       "stream": "stdout",
       "text": [
        "Sun Jun 15 08:08:40 2014 Submitting theano_sandbox_cuda_tests_test_mlp: rm -rf /tmp/theano_sandbox_cuda_tests_test_mlp && THEANO_FLAGS=\"compiledir=/tmp/theano_sandbox_cuda_tests_test_mlp\" python3.4 `which theano-nose` /usr/local/lib/python3.4/dist-packages/theano/sandbox/cuda/tests/test_mlp.py > /srv/log/test_output/theano_sandbox_cuda_tests_test_mlp.out 2>&1\n",
        "\n"
       ]
      },
      {
       "output_type": "stream",
       "stream": "stdout",
       "text": [
        "Sun Jun 15 08:08:40 2014 Submitting theano_sandbox_cuda_tests_test_driver: rm -rf /tmp/theano_sandbox_cuda_tests_test_driver && THEANO_FLAGS=\"compiledir=/tmp/theano_sandbox_cuda_tests_test_driver\" python3.4 `which theano-nose` /usr/local/lib/python3.4/dist-packages/theano/sandbox/cuda/tests/test_driver.py > /srv/log/test_output/theano_sandbox_cuda_tests_test_driver.out 2>&1\n",
        "\n"
       ]
      },
      {
       "output_type": "stream",
       "stream": "stdout",
       "text": [
        "Sun Jun 15 08:08:40 2014 Submitting theano_compile_tests_test_modes: rm -rf /tmp/theano_compile_tests_test_modes && THEANO_FLAGS=\"compiledir=/tmp/theano_compile_tests_test_modes\" python3.4 `which theano-nose` /usr/local/lib/python3.4/dist-packages/theano/compile/tests/test_modes.py > /srv/log/test_output/theano_compile_tests_test_modes.out 2>&1\n",
        "\n"
       ]
      },
      {
       "output_type": "stream",
       "stream": "stdout",
       "text": [
        "Sun Jun 15 08:08:40 2014 Submitting theano_compile_tests_test_pfunc: rm -rf /tmp/theano_compile_tests_test_pfunc && THEANO_FLAGS=\"compiledir=/tmp/theano_compile_tests_test_pfunc\" python3.4 `which theano-nose` /usr/local/lib/python3.4/dist-packages/theano/compile/tests/test_pfunc.py > /srv/log/test_output/theano_compile_tests_test_pfunc.out 2>&1\n",
        "\n"
       ]
      },
      {
       "output_type": "stream",
       "stream": "stdout",
       "text": [
        "Sun Jun 15 08:08:40 2014 Submitting theano_compile_tests_test_debugmode: rm -rf /tmp/theano_compile_tests_test_debugmode && THEANO_FLAGS=\"compiledir=/tmp/theano_compile_tests_test_debugmode\" python3.4 `which theano-nose` /usr/local/lib/python3.4/dist-packages/theano/compile/tests/test_debugmode.py > /srv/log/test_output/theano_compile_tests_test_debugmode.out 2>&1\n",
        "\n"
       ]
      },
      {
       "output_type": "stream",
       "stream": "stdout",
       "text": [
        "Sun Jun 15 08:08:40 2014 Submitting theano_compile_tests_test_module: rm -rf /tmp/theano_compile_tests_test_module && THEANO_FLAGS=\"compiledir=/tmp/theano_compile_tests_test_module\" python3.4 `which theano-nose` /usr/local/lib/python3.4/dist-packages/theano/compile/tests/test_module.py > /srv/log/test_output/theano_compile_tests_test_module.out 2>&1\n",
        "\n"
       ]
      },
      {
       "output_type": "stream",
       "stream": "stdout",
       "text": [
        "Sun Jun 15 08:08:40 2014 Submitting theano_compile_tests_test_shared: rm -rf /tmp/theano_compile_tests_test_shared && THEANO_FLAGS=\"compiledir=/tmp/theano_compile_tests_test_shared\" python3.4 `which theano-nose` /usr/local/lib/python3.4/dist-packages/theano/compile/tests/test_shared.py > /srv/log/test_output/theano_compile_tests_test_shared.out 2>&1\n",
        "\n"
       ]
      },
      {
       "output_type": "stream",
       "stream": "stdout",
       "text": [
        "Sun Jun 15 08:08:40 2014 Submitting theano_compile_tests_test_inplace_opt_for_value: rm -rf /tmp/theano_compile_tests_test_inplace_opt_for_value && THEANO_FLAGS=\"compiledir=/tmp/theano_compile_tests_test_inplace_opt_for_value\" python3.4 `which theano-nose` /usr/local/lib/python3.4/dist-packages/theano/compile/tests/test_inplace_opt_for_value.py > /srv/log/test_output/theano_compile_tests_test_inplace_opt_for_value.out 2>&1\n",
        "\n"
       ]
      },
      {
       "output_type": "stream",
       "stream": "stdout",
       "text": [
        "Sun Jun 15 08:08:40 2014 Submitting theano_compile_tests_test_misc: rm -rf /tmp/theano_compile_tests_test_misc && THEANO_FLAGS=\"compiledir=/tmp/theano_compile_tests_test_misc\" python3.4 `which theano-nose` /usr/local/lib/python3.4/dist-packages/theano/compile/tests/test_misc.py > /srv/log/test_output/theano_compile_tests_test_misc.out 2>&1\n",
        "\n"
       ]
      },
      {
       "output_type": "stream",
       "stream": "stdout",
       "text": [
        "Sun Jun 15 08:08:40 2014 Submitting theano_compile_tests_test_ops: rm -rf /tmp/theano_compile_tests_test_ops && THEANO_FLAGS=\"compiledir=/tmp/theano_compile_tests_test_ops\" python3.4 `which theano-nose` /usr/local/lib/python3.4/dist-packages/theano/compile/tests/test_ops.py > /srv/log/test_output/theano_compile_tests_test_ops.out 2>&1\n",
        "\n"
       ]
      },
      {
       "output_type": "stream",
       "stream": "stdout",
       "text": [
        "Sun Jun 15 08:08:40 2014 Submitting theano_compile_tests_test_builders: rm -rf /tmp/theano_compile_tests_test_builders && THEANO_FLAGS=\"compiledir=/tmp/theano_compile_tests_test_builders\" python3.4 `which theano-nose` /usr/local/lib/python3.4/dist-packages/theano/compile/tests/test_builders.py > /srv/log/test_output/theano_compile_tests_test_builders.out 2>&1\n",
        "\n"
       ]
      },
      {
       "output_type": "stream",
       "stream": "stdout",
       "text": [
        "Sun Jun 15 08:08:40 2014 Submitting theano_compile_tests_test_function_module: rm -rf /tmp/theano_compile_tests_test_function_module && THEANO_FLAGS=\"compiledir=/tmp/theano_compile_tests_test_function_module\" python3.4 `which theano-nose` /usr/local/lib/python3.4/dist-packages/theano/compile/tests/test_function_module.py > /srv/log/test_output/theano_compile_tests_test_function_module.out 2>&1\n",
        "\n"
       ]
      },
      {
       "output_type": "stream",
       "stream": "stdout",
       "text": [
        "Sun Jun 15 08:08:40 2014 Submitting theano_compile_tests_test_monitormode: rm -rf /tmp/theano_compile_tests_test_monitormode && THEANO_FLAGS=\"compiledir=/tmp/theano_compile_tests_test_monitormode\" python3.4 `which theano-nose` /usr/local/lib/python3.4/dist-packages/theano/compile/tests/test_monitormode.py > /srv/log/test_output/theano_compile_tests_test_monitormode.out 2>&1\n",
        "\n"
       ]
      },
      {
       "output_type": "stream",
       "stream": "stdout",
       "text": [
        "Sun Jun 15 08:08:40 2014 Submitting theano_tests_test_config: rm -rf /tmp/theano_tests_test_config && THEANO_FLAGS=\"compiledir=/tmp/theano_tests_test_config\" python3.4 `which theano-nose` /usr/local/lib/python3.4/dist-packages/theano/tests/test_config.py > /srv/log/test_output/theano_tests_test_config.out 2>&1\n",
        "\n"
       ]
      },
      {
       "output_type": "stream",
       "stream": "stdout",
       "text": [
        "Sun Jun 15 08:08:40 2014 Submitting theano_tests_test_ifelse: rm -rf /tmp/theano_tests_test_ifelse && THEANO_FLAGS=\"compiledir=/tmp/theano_tests_test_ifelse\" python3.4 `which theano-nose` /usr/local/lib/python3.4/dist-packages/theano/tests/test_ifelse.py > /srv/log/test_output/theano_tests_test_ifelse.out 2>&1\n",
        "\n"
       ]
      },
      {
       "output_type": "stream",
       "stream": "stdout",
       "text": [
        "Sun Jun 15 08:08:40 2014 Submitting theano_tests_test_gradient: rm -rf /tmp/theano_tests_test_gradient && THEANO_FLAGS=\"compiledir=/tmp/theano_tests_test_gradient\" python3.4 `which theano-nose` /usr/local/lib/python3.4/dist-packages/theano/tests/test_gradient.py > /srv/log/test_output/theano_tests_test_gradient.out 2>&1\n",
        "\n"
       ]
      },
      {
       "output_type": "stream",
       "stream": "stdout",
       "text": [
        "Sun Jun 15 08:08:40 2014 Submitting theano_tests_test_printing: rm -rf /tmp/theano_tests_test_printing && THEANO_FLAGS=\"compiledir=/tmp/theano_tests_test_printing\" python3.4 `which theano-nose` /usr/local/lib/python3.4/dist-packages/theano/tests/test_printing.py > /srv/log/test_output/theano_tests_test_printing.out 2>&1\n",
        "\n"
       ]
      },
      {
       "output_type": "stream",
       "stream": "stdout",
       "text": [
        "Sun Jun 15 08:08:40 2014 Submitting theano_tests_test_tutorial: rm -rf /tmp/theano_tests_test_tutorial && THEANO_FLAGS=\"compiledir=/tmp/theano_tests_test_tutorial\" python3.4 `which theano-nose` /usr/local/lib/python3.4/dist-packages/theano/tests/test_tutorial.py > /srv/log/test_output/theano_tests_test_tutorial.out 2>&1\n",
        "\n"
       ]
      },
      {
       "output_type": "stream",
       "stream": "stdout",
       "text": [
        "Sun Jun 15 08:08:40 2014 Submitting theano_tests_test_determinism: rm -rf /tmp/theano_tests_test_determinism && THEANO_FLAGS=\"compiledir=/tmp/theano_tests_test_determinism\" python3.4 `which theano-nose` /usr/local/lib/python3.4/dist-packages/theano/tests/test_determinism.py > /srv/log/test_output/theano_tests_test_determinism.out 2>&1\n",
        "\n"
       ]
      },
      {
       "output_type": "stream",
       "stream": "stdout",
       "text": [
        "Sun Jun 15 08:08:40 2014 Submitting theano_tests_test_2nd_order_grads: rm -rf /tmp/theano_tests_test_2nd_order_grads && THEANO_FLAGS=\"compiledir=/tmp/theano_tests_test_2nd_order_grads\" python3.4 `which theano-nose` /usr/local/lib/python3.4/dist-packages/theano/tests/test_2nd_order_grads.py > /srv/log/test_output/theano_tests_test_2nd_order_grads.out 2>&1\n",
        "\n"
       ]
      },
      {
       "output_type": "stream",
       "stream": "stdout",
       "text": [
        "Sun Jun 15 08:08:40 2014 Submitting theano_tests_test_rop: rm -rf /tmp/theano_tests_test_rop && THEANO_FLAGS=\"compiledir=/tmp/theano_tests_test_rop\" python3.4 `which theano-nose` /usr/local/lib/python3.4/dist-packages/theano/tests/test_rop.py > /srv/log/test_output/theano_tests_test_rop.out 2>&1\n",
        "\n"
       ]
      },
      {
       "output_type": "stream",
       "stream": "stdout",
       "text": [
        "Sun Jun 15 08:08:40 2014 Submitting theano_tests_test_updates: rm -rf /tmp/theano_tests_test_updates && THEANO_FLAGS=\"compiledir=/tmp/theano_tests_test_updates\" python3.4 `which theano-nose` /usr/local/lib/python3.4/dist-packages/theano/tests/test_updates.py > /srv/log/test_output/theano_tests_test_updates.out 2>&1\n",
        "\n"
       ]
      },
      {
       "output_type": "stream",
       "stream": "stdout",
       "text": [
        "Sun Jun 15 08:08:40 2014 Submitting theano_sparse_sandbox_test_sp: rm -rf /tmp/theano_sparse_sandbox_test_sp && THEANO_FLAGS=\"compiledir=/tmp/theano_sparse_sandbox_test_sp\" python3.4 `which theano-nose` /usr/local/lib/python3.4/dist-packages/theano/sparse/sandbox/test_sp.py > /srv/log/test_output/theano_sparse_sandbox_test_sp.out 2>&1\n",
        "\n"
       ]
      },
      {
       "output_type": "stream",
       "stream": "stdout",
       "text": [
        "Sun Jun 15 08:08:40 2014 Submitting theano_sparse_tests_test_sp2: rm -rf /tmp/theano_sparse_tests_test_sp2 && THEANO_FLAGS=\"compiledir=/tmp/theano_sparse_tests_test_sp2\" python3.4 `which theano-nose` /usr/local/lib/python3.4/dist-packages/theano/sparse/tests/test_sp2.py > /srv/log/test_output/theano_sparse_tests_test_sp2.out 2>&1\n",
        "\n"
       ]
      },
      {
       "output_type": "stream",
       "stream": "stdout",
       "text": [
        "Sun Jun 15 08:08:40 2014 Submitting theano_sparse_tests_test_opt: rm -rf /tmp/theano_sparse_tests_test_opt && THEANO_FLAGS=\"compiledir=/tmp/theano_sparse_tests_test_opt\" python3.4 `which theano-nose` /usr/local/lib/python3.4/dist-packages/theano/sparse/tests/test_opt.py > /srv/log/test_output/theano_sparse_tests_test_opt.out 2>&1\n",
        "\n"
       ]
      },
      {
       "output_type": "stream",
       "stream": "stdout",
       "text": [
        "Sun Jun 15 08:08:40 2014 Submitting theano_sparse_tests_test_basic: rm -rf /tmp/theano_sparse_tests_test_basic && THEANO_FLAGS=\"compiledir=/tmp/theano_sparse_tests_test_basic\" python3.4 `which theano-nose` /usr/local/lib/python3.4/dist-packages/theano/sparse/tests/test_basic.py > /srv/log/test_output/theano_sparse_tests_test_basic.out 2>&1\n",
        "\n"
       ]
      },
      {
       "output_type": "stream",
       "stream": "stdout",
       "text": [
        "Sun Jun 15 08:08:40 2014 Submitting theano_sparse_tests_test_utils: rm -rf /tmp/theano_sparse_tests_test_utils && THEANO_FLAGS=\"compiledir=/tmp/theano_sparse_tests_test_utils\" python3.4 `which theano-nose` /usr/local/lib/python3.4/dist-packages/theano/sparse/tests/test_utils.py > /srv/log/test_output/theano_sparse_tests_test_utils.out 2>&1\n",
        "\n"
       ]
      },
      {
       "output_type": "stream",
       "stream": "stdout",
       "text": [
        "Sun Jun 15 08:08:40 2014 Submitting theano_gof_tests_test_fg: rm -rf /tmp/theano_gof_tests_test_fg && THEANO_FLAGS=\"compiledir=/tmp/theano_gof_tests_test_fg\" python3.4 `which theano-nose` /usr/local/lib/python3.4/dist-packages/theano/gof/tests/test_fg.py > /srv/log/test_output/theano_gof_tests_test_fg.out 2>&1\n",
        "\n"
       ]
      },
      {
       "output_type": "stream",
       "stream": "stdout",
       "text": [
        "Sun Jun 15 08:08:40 2014 Submitting theano_gof_tests_test_optdb: rm -rf /tmp/theano_gof_tests_test_optdb && THEANO_FLAGS=\"compiledir=/tmp/theano_gof_tests_test_optdb\" python3.4 `which theano-nose` /usr/local/lib/python3.4/dist-packages/theano/gof/tests/test_optdb.py > /srv/log/test_output/theano_gof_tests_test_optdb.out 2>&1\n",
        "\n"
       ]
      },
      {
       "output_type": "stream",
       "stream": "stdout",
       "text": [
        "Sun Jun 15 08:08:40 2014 Submitting theano_gof_tests_test_toolbox: rm -rf /tmp/theano_gof_tests_test_toolbox && THEANO_FLAGS=\"compiledir=/tmp/theano_gof_tests_test_toolbox\" python3.4 `which theano-nose` /usr/local/lib/python3.4/dist-packages/theano/gof/tests/test_toolbox.py > /srv/log/test_output/theano_gof_tests_test_toolbox.out 2>&1\n",
        "\n"
       ]
      },
      {
       "output_type": "stream",
       "stream": "stdout",
       "text": [
        "Sun Jun 15 08:08:40 2014 Submitting theano_gof_tests_test_vm: rm -rf /tmp/theano_gof_tests_test_vm && THEANO_FLAGS=\"compiledir=/tmp/theano_gof_tests_test_vm\" python3.4 `which theano-nose` /usr/local/lib/python3.4/dist-packages/theano/gof/tests/test_vm.py > /srv/log/test_output/theano_gof_tests_test_vm.out 2>&1\n",
        "\n"
       ]
      },
      {
       "output_type": "stream",
       "stream": "stdout",
       "text": [
        "Sun Jun 15 08:08:40 2014 Submitting theano_gof_tests_test_opt: rm -rf /tmp/theano_gof_tests_test_opt && THEANO_FLAGS=\"compiledir=/tmp/theano_gof_tests_test_opt\" python3.4 `which theano-nose` /usr/local/lib/python3.4/dist-packages/theano/gof/tests/test_opt.py > /srv/log/test_output/theano_gof_tests_test_opt.out 2>&1\n",
        "\n"
       ]
      },
      {
       "output_type": "stream",
       "stream": "stdout",
       "text": [
        "Sun Jun 15 08:08:40 2014 Submitting theano_gof_tests_test_cc: rm -rf /tmp/theano_gof_tests_test_cc && THEANO_FLAGS=\"compiledir=/tmp/theano_gof_tests_test_cc\" python3.4 `which theano-nose` /usr/local/lib/python3.4/dist-packages/theano/gof/tests/test_cc.py > /srv/log/test_output/theano_gof_tests_test_cc.out 2>&1\n",
        "\n"
       ]
      },
      {
       "output_type": "stream",
       "stream": "stdout",
       "text": [
        "Sun Jun 15 08:08:40 2014 Submitting theano_gof_tests_test_cmodule: rm -rf /tmp/theano_gof_tests_test_cmodule && THEANO_FLAGS=\"compiledir=/tmp/theano_gof_tests_test_cmodule\" python3.4 `which theano-nose` /usr/local/lib/python3.4/dist-packages/theano/gof/tests/test_cmodule.py > /srv/log/test_output/theano_gof_tests_test_cmodule.out 2>&1\n",
        "\n"
       ]
      },
      {
       "output_type": "stream",
       "stream": "stdout",
       "text": [
        "Sun Jun 15 08:08:40 2014 Submitting theano_gof_tests_test_sched: rm -rf /tmp/theano_gof_tests_test_sched && THEANO_FLAGS=\"compiledir=/tmp/theano_gof_tests_test_sched\" python3.4 `which theano-nose` /usr/local/lib/python3.4/dist-packages/theano/gof/tests/test_sched.py > /srv/log/test_output/theano_gof_tests_test_sched.out 2>&1\n",
        "\n"
       ]
      },
      {
       "output_type": "stream",
       "stream": "stdout",
       "text": [
        "Sun Jun 15 08:08:40 2014 Submitting theano_gof_tests_test_types: rm -rf /tmp/theano_gof_tests_test_types && THEANO_FLAGS=\"compiledir=/tmp/theano_gof_tests_test_types\" python3.4 `which theano-nose` /usr/local/lib/python3.4/dist-packages/theano/gof/tests/test_types.py > /srv/log/test_output/theano_gof_tests_test_types.out 2>&1\n",
        "\n"
       ]
      },
      {
       "output_type": "stream",
       "stream": "stdout",
       "text": [
        "Sun Jun 15 08:08:40 2014 Submitting theano_gof_tests_test_op: rm -rf /tmp/theano_gof_tests_test_op && THEANO_FLAGS=\"compiledir=/tmp/theano_gof_tests_test_op\" python3.4 `which theano-nose` /usr/local/lib/python3.4/dist-packages/theano/gof/tests/test_op.py > /srv/log/test_output/theano_gof_tests_test_op.out 2>&1\n",
        "\n"
       ]
      },
      {
       "output_type": "stream",
       "stream": "stdout",
       "text": [
        "Sun Jun 15 08:08:41 2014 Submitting theano_gof_tests_test_link: rm -rf /tmp/theano_gof_tests_test_link && THEANO_FLAGS=\"compiledir=/tmp/theano_gof_tests_test_link\" python3.4 `which theano-nose` /usr/local/lib/python3.4/dist-packages/theano/gof/tests/test_link.py > /srv/log/test_output/theano_gof_tests_test_link.out 2>&1\n",
        "\n"
       ]
      },
      {
       "output_type": "stream",
       "stream": "stdout",
       "text": [
        "Sun Jun 15 08:08:41 2014 Submitting theano_gof_tests_test_lazy: rm -rf /tmp/theano_gof_tests_test_lazy && THEANO_FLAGS=\"compiledir=/tmp/theano_gof_tests_test_lazy\" python3.4 `which theano-nose` /usr/local/lib/python3.4/dist-packages/theano/gof/tests/test_lazy.py > /srv/log/test_output/theano_gof_tests_test_lazy.out 2>&1\n",
        "\n"
       ]
      },
      {
       "output_type": "stream",
       "stream": "stdout",
       "text": [
        "Sun Jun 15 08:08:41 2014 Submitting theano_gof_tests_test_compute_test_value: rm -rf /tmp/theano_gof_tests_test_compute_test_value && THEANO_FLAGS=\"compiledir=/tmp/theano_gof_tests_test_compute_test_value\" python3.4 `which theano-nose` /usr/local/lib/python3.4/dist-packages/theano/gof/tests/test_compute_test_value.py > /srv/log/test_output/theano_gof_tests_test_compute_test_value.out 2>&1\n",
        "\n"
       ]
      },
      {
       "output_type": "stream",
       "stream": "stdout",
       "text": [
        "Sun Jun 15 08:08:41 2014 Submitting theano_gof_tests_test_utils: rm -rf /tmp/theano_gof_tests_test_utils && THEANO_FLAGS=\"compiledir=/tmp/theano_gof_tests_test_utils\" python3.4 `which theano-nose` /usr/local/lib/python3.4/dist-packages/theano/gof/tests/test_utils.py > /srv/log/test_output/theano_gof_tests_test_utils.out 2>&1\n",
        "\n"
       ]
      },
      {
       "output_type": "stream",
       "stream": "stdout",
       "text": [
        "Sun Jun 15 08:08:41 2014 Submitting theano_gof_tests_test_destroyhandler: rm -rf /tmp/theano_gof_tests_test_destroyhandler && THEANO_FLAGS=\"compiledir=/tmp/theano_gof_tests_test_destroyhandler\" python3.4 `which theano-nose` /usr/local/lib/python3.4/dist-packages/theano/gof/tests/test_destroyhandler.py > /srv/log/test_output/theano_gof_tests_test_destroyhandler.out 2>&1\n",
        "\n"
       ]
      },
      {
       "output_type": "stream",
       "stream": "stdout",
       "text": [
        "Sun Jun 15 08:08:41 2014 Submitting theano_gof_tests_test_graph: rm -rf /tmp/theano_gof_tests_test_graph && THEANO_FLAGS=\"compiledir=/tmp/theano_gof_tests_test_graph\" python3.4 `which theano-nose` /usr/local/lib/python3.4/dist-packages/theano/gof/tests/test_graph.py > /srv/log/test_output/theano_gof_tests_test_graph.out 2>&1\n",
        "\n"
       ]
      },
      {
       "output_type": "stream",
       "stream": "stdout",
       "text": [
        "Sun Jun 15 08:08:41 2014 Submitting theano_scalar_tests_test_basic_sympy: rm -rf /tmp/theano_scalar_tests_test_basic_sympy && THEANO_FLAGS=\"compiledir=/tmp/theano_scalar_tests_test_basic_sympy\" python3.4 `which theano-nose` /usr/local/lib/python3.4/dist-packages/theano/scalar/tests/test_basic_sympy.py > /srv/log/test_output/theano_scalar_tests_test_basic_sympy.out 2>&1\n",
        "\n"
       ]
      },
      {
       "output_type": "stream",
       "stream": "stdout",
       "text": [
        "Sun Jun 15 08:08:41 2014 Submitting theano_scalar_tests_test_basic: rm -rf /tmp/theano_scalar_tests_test_basic && THEANO_FLAGS=\"compiledir=/tmp/theano_scalar_tests_test_basic\" python3.4 `which theano-nose` /usr/local/lib/python3.4/dist-packages/theano/scalar/tests/test_basic.py > /srv/log/test_output/theano_scalar_tests_test_basic.out 2>&1\n",
        "\n"
       ]
      },
      {
       "output_type": "stream",
       "stream": "stdout",
       "text": [
        "Sun Jun 15 08:08:41 2014 Submitting theano_tensor_deprecated_test_rmodule: rm -rf /tmp/theano_tensor_deprecated_test_rmodule && THEANO_FLAGS=\"compiledir=/tmp/theano_tensor_deprecated_test_rmodule\" python3.4 `which theano-nose` /usr/local/lib/python3.4/dist-packages/theano/tensor/deprecated/test_rmodule.py > /srv/log/test_output/theano_tensor_deprecated_test_rmodule.out 2>&1\n",
        "\n"
       ]
      },
      {
       "output_type": "stream",
       "stream": "stdout",
       "text": [
        "Sun Jun 15 08:08:41 2014 Submitting theano_tensor_tests_test_xlogx: rm -rf /tmp/theano_tensor_tests_test_xlogx && THEANO_FLAGS=\"compiledir=/tmp/theano_tensor_tests_test_xlogx\" python3.4 `which theano-nose` /usr/local/lib/python3.4/dist-packages/theano/tensor/tests/test_xlogx.py > /srv/log/test_output/theano_tensor_tests_test_xlogx.out 2>&1\n",
        "\n"
       ]
      },
      {
       "output_type": "stream",
       "stream": "stdout",
       "text": [
        "Sun Jun 15 08:08:41 2014 Submitting theano_tensor_tests_test_subtensor: rm -rf /tmp/theano_tensor_tests_test_subtensor && THEANO_FLAGS=\"compiledir=/tmp/theano_tensor_tests_test_subtensor\" python3.4 `which theano-nose` /usr/local/lib/python3.4/dist-packages/theano/tensor/tests/test_subtensor.py > /srv/log/test_output/theano_tensor_tests_test_subtensor.out 2>&1\n",
        "\n"
       ]
      },
      {
       "output_type": "stream",
       "stream": "stdout",
       "text": [
        "Sun Jun 15 08:08:41 2014 Submitting theano_tensor_tests_test_randomstreams: rm -rf /tmp/theano_tensor_tests_test_randomstreams && THEANO_FLAGS=\"compiledir=/tmp/theano_tensor_tests_test_randomstreams\" python3.4 `which theano-nose` /usr/local/lib/python3.4/dist-packages/theano/tensor/tests/test_randomstreams.py > /srv/log/test_output/theano_tensor_tests_test_randomstreams.out 2>&1\n",
        "\n"
       ]
      },
      {
       "output_type": "stream",
       "stream": "stdout",
       "text": [
        "Sun Jun 15 08:08:41 2014 Submitting theano_tensor_tests_test_casting: rm -rf /tmp/theano_tensor_tests_test_casting && THEANO_FLAGS=\"compiledir=/tmp/theano_tensor_tests_test_casting\" python3.4 `which theano-nose` /usr/local/lib/python3.4/dist-packages/theano/tensor/tests/test_casting.py > /srv/log/test_output/theano_tensor_tests_test_casting.out 2>&1\n",
        "\n"
       ]
      },
      {
       "output_type": "stream",
       "stream": "stdout",
       "text": [
        "Sun Jun 15 08:08:41 2014 Submitting theano_tensor_tests_test_elemwise: rm -rf /tmp/theano_tensor_tests_test_elemwise && THEANO_FLAGS=\"compiledir=/tmp/theano_tensor_tests_test_elemwise\" python3.4 `which theano-nose` /usr/local/lib/python3.4/dist-packages/theano/tensor/tests/test_elemwise.py > /srv/log/test_output/theano_tensor_tests_test_elemwise.out 2>&1\n",
        "\n"
       ]
      },
      {
       "output_type": "stream",
       "stream": "stdout",
       "text": [
        "Sun Jun 15 08:08:41 2014 Submitting theano_tensor_tests_test_sharedvar: rm -rf /tmp/theano_tensor_tests_test_sharedvar && THEANO_FLAGS=\"compiledir=/tmp/theano_tensor_tests_test_sharedvar\" python3.4 `which theano-nose` /usr/local/lib/python3.4/dist-packages/theano/tensor/tests/test_sharedvar.py > /srv/log/test_output/theano_tensor_tests_test_sharedvar.out 2>&1\n",
        "\n"
       ]
      },
      {
       "output_type": "stream",
       "stream": "stdout",
       "text": [
        "Sun Jun 15 08:08:41 2014 Submitting theano_tensor_tests_test_merge: rm -rf /tmp/theano_tensor_tests_test_merge && THEANO_FLAGS=\"compiledir=/tmp/theano_tensor_tests_test_merge\" python3.4 `which theano-nose` /usr/local/lib/python3.4/dist-packages/theano/tensor/tests/test_merge.py > /srv/log/test_output/theano_tensor_tests_test_merge.out 2>&1\n",
        "\n"
       ]
      },
      {
       "output_type": "stream",
       "stream": "stdout",
       "text": [
        "Sun Jun 15 08:08:41 2014 Submitting theano_tensor_tests_test_mpi: rm -rf /tmp/theano_tensor_tests_test_mpi && THEANO_FLAGS=\"compiledir=/tmp/theano_tensor_tests_test_mpi\" python3.4 `which theano-nose` /usr/local/lib/python3.4/dist-packages/theano/tensor/tests/test_mpi.py > /srv/log/test_output/theano_tensor_tests_test_mpi.out 2>&1\n",
        "\n"
       ]
      },
      {
       "output_type": "stream",
       "stream": "stdout",
       "text": [
        "Sun Jun 15 08:08:41 2014 Submitting theano_tensor_tests_test_fourier: rm -rf /tmp/theano_tensor_tests_test_fourier && THEANO_FLAGS=\"compiledir=/tmp/theano_tensor_tests_test_fourier\" python3.4 `which theano-nose` /usr/local/lib/python3.4/dist-packages/theano/tensor/tests/test_fourier.py > /srv/log/test_output/theano_tensor_tests_test_fourier.out 2>&1\n",
        "\n"
       ]
      },
      {
       "output_type": "stream",
       "stream": "stdout",
       "text": [
        "Sun Jun 15 08:08:41 2014 Submitting theano_tensor_tests_test_raw_random: rm -rf /tmp/theano_tensor_tests_test_raw_random && THEANO_FLAGS=\"compiledir=/tmp/theano_tensor_tests_test_raw_random\" python3.4 `which theano-nose` /usr/local/lib/python3.4/dist-packages/theano/tensor/tests/test_raw_random.py > /srv/log/test_output/theano_tensor_tests_test_raw_random.out 2>&1\n",
        "\n"
       ]
      },
      {
       "output_type": "stream",
       "stream": "stdout",
       "text": [
        "Sun Jun 15 08:08:41 2014 Submitting theano_tensor_tests_test_blas_scipy: rm -rf /tmp/theano_tensor_tests_test_blas_scipy && THEANO_FLAGS=\"compiledir=/tmp/theano_tensor_tests_test_blas_scipy\" python3.4 `which theano-nose` /usr/local/lib/python3.4/dist-packages/theano/tensor/tests/test_blas_scipy.py > /srv/log/test_output/theano_tensor_tests_test_blas_scipy.out 2>&1\n",
        "\n"
       ]
      },
      {
       "output_type": "stream",
       "stream": "stdout",
       "text": [
        "Sun Jun 15 08:08:41 2014 Submitting theano_tensor_tests_test_naacl09: rm -rf /tmp/theano_tensor_tests_test_naacl09 && THEANO_FLAGS=\"compiledir=/tmp/theano_tensor_tests_test_naacl09\" python3.4 `which theano-nose` /usr/local/lib/python3.4/dist-packages/theano/tensor/tests/test_naacl09.py > /srv/log/test_output/theano_tensor_tests_test_naacl09.out 2>&1\n",
        "\n"
       ]
      },
      {
       "output_type": "stream",
       "stream": "stdout",
       "text": [
        "Sun Jun 15 08:08:41 2014 Submitting theano_tensor_tests_test_shared_randomstreams: rm -rf /tmp/theano_tensor_tests_test_shared_randomstreams && THEANO_FLAGS=\"compiledir=/tmp/theano_tensor_tests_test_shared_randomstreams\" python3.4 `which theano-nose` /usr/local/lib/python3.4/dist-packages/theano/tensor/tests/test_shared_randomstreams.py > /srv/log/test_output/theano_tensor_tests_test_shared_randomstreams.out 2>&1\n",
        "\n"
       ]
      },
      {
       "output_type": "stream",
       "stream": "stdout",
       "text": [
        "Sun Jun 15 08:08:41 2014 Submitting theano_tensor_tests_test_gc: rm -rf /tmp/theano_tensor_tests_test_gc && THEANO_FLAGS=\"compiledir=/tmp/theano_tensor_tests_test_gc\" python3.4 `which theano-nose` /usr/local/lib/python3.4/dist-packages/theano/tensor/tests/test_gc.py > /srv/log/test_output/theano_tensor_tests_test_gc.out 2>&1\n",
        "\n"
       ]
      },
      {
       "output_type": "stream",
       "stream": "stdout",
       "text": [
        "Sun Jun 15 08:08:41 2014 Submitting theano_tensor_tests_test_opt_uncanonicalize: rm -rf /tmp/theano_tensor_tests_test_opt_uncanonicalize && THEANO_FLAGS=\"compiledir=/tmp/theano_tensor_tests_test_opt_uncanonicalize\" python3.4 `which theano-nose` /usr/local/lib/python3.4/dist-packages/theano/tensor/tests/test_opt_uncanonicalize.py > /srv/log/test_output/theano_tensor_tests_test_opt_uncanonicalize.out 2>&1\n",
        "\n"
       ]
      },
      {
       "output_type": "stream",
       "stream": "stdout",
       "text": [
        "Sun Jun 15 08:08:41 2014 Submitting theano_tensor_tests_test_blas_c: rm -rf /tmp/theano_tensor_tests_test_blas_c && THEANO_FLAGS=\"compiledir=/tmp/theano_tensor_tests_test_blas_c\" python3.4 `which theano-nose` /usr/local/lib/python3.4/dist-packages/theano/tensor/tests/test_blas_c.py > /srv/log/test_output/theano_tensor_tests_test_blas_c.out 2>&1\n",
        "\n"
       ]
      },
      {
       "output_type": "stream",
       "stream": "stdout",
       "text": [
        "Sun Jun 15 08:08:41 2014 Submitting theano_tensor_tests_test_misc: rm -rf /tmp/theano_tensor_tests_test_misc && THEANO_FLAGS=\"compiledir=/tmp/theano_tensor_tests_test_misc\" python3.4 `which theano-nose` /usr/local/lib/python3.4/dist-packages/theano/tensor/tests/test_misc.py > /srv/log/test_output/theano_tensor_tests_test_misc.out 2>&1\n",
        "\n"
       ]
      },
      {
       "output_type": "stream",
       "stream": "stdout",
       "text": [
        "Sun Jun 15 08:08:41 2014 Submitting theano_tensor_tests_test_complex: rm -rf /tmp/theano_tensor_tests_test_complex && THEANO_FLAGS=\"compiledir=/tmp/theano_tensor_tests_test_complex\" python3.4 `which theano-nose` /usr/local/lib/python3.4/dist-packages/theano/tensor/tests/test_complex.py > /srv/log/test_output/theano_tensor_tests_test_complex.out 2>&1\n",
        "\n"
       ]
      },
      {
       "output_type": "stream",
       "stream": "stdout",
       "text": [
        "Sun Jun 15 08:08:41 2014 Submitting theano_tensor_tests_test_opt: rm -rf /tmp/theano_tensor_tests_test_opt && THEANO_FLAGS=\"compiledir=/tmp/theano_tensor_tests_test_opt\" python3.4 `which theano-nose` /usr/local/lib/python3.4/dist-packages/theano/tensor/tests/test_opt.py > /srv/log/test_output/theano_tensor_tests_test_opt.out 2>&1\n",
        "\n"
       ]
      },
      {
       "output_type": "stream",
       "stream": "stdout",
       "text": [
        "Sun Jun 15 08:08:41 2014 Submitting theano_tensor_tests_test_sort: rm -rf /tmp/theano_tensor_tests_test_sort && THEANO_FLAGS=\"compiledir=/tmp/theano_tensor_tests_test_sort\" python3.4 `which theano-nose` /usr/local/lib/python3.4/dist-packages/theano/tensor/tests/test_sort.py > /srv/log/test_output/theano_tensor_tests_test_sort.out 2>&1\n",
        "\n"
       ]
      },
      {
       "output_type": "stream",
       "stream": "stdout",
       "text": [
        "Sun Jun 15 08:08:41 2014 Submitting theano_tensor_tests_test_io: rm -rf /tmp/theano_tensor_tests_test_io && THEANO_FLAGS=\"compiledir=/tmp/theano_tensor_tests_test_io\" python3.4 `which theano-nose` /usr/local/lib/python3.4/dist-packages/theano/tensor/tests/test_io.py > /srv/log/test_output/theano_tensor_tests_test_io.out 2>&1\n",
        "\n"
       ]
      },
      {
       "output_type": "stream",
       "stream": "stdout",
       "text": [
        "Sun Jun 15 08:08:41 2014 Submitting theano_tensor_tests_test_blas: rm -rf /tmp/theano_tensor_tests_test_blas && THEANO_FLAGS=\"compiledir=/tmp/theano_tensor_tests_test_blas\" python3.4 `which theano-nose` /usr/local/lib/python3.4/dist-packages/theano/tensor/tests/test_blas.py > /srv/log/test_output/theano_tensor_tests_test_blas.out 2>&1\n",
        "\n"
       ]
      },
      {
       "output_type": "stream",
       "stream": "stdout",
       "text": [
        "Sun Jun 15 08:08:41 2014 Submitting theano_tensor_tests_test_keepdims: rm -rf /tmp/theano_tensor_tests_test_keepdims && THEANO_FLAGS=\"compiledir=/tmp/theano_tensor_tests_test_keepdims\" python3.4 `which theano-nose` /usr/local/lib/python3.4/dist-packages/theano/tensor/tests/test_keepdims.py > /srv/log/test_output/theano_tensor_tests_test_keepdims.out 2>&1\n",
        "\n"
       ]
      },
      {
       "output_type": "stream",
       "stream": "stdout",
       "text": [
        "Sun Jun 15 08:08:41 2014 Submitting theano_tensor_tests_test_basic: rm -rf /tmp/theano_tensor_tests_test_basic && THEANO_FLAGS=\"compiledir=/tmp/theano_tensor_tests_test_basic\" python3.4 `which theano-nose` /usr/local/lib/python3.4/dist-packages/theano/tensor/tests/test_basic.py > /srv/log/test_output/theano_tensor_tests_test_basic.out 2>&1\n",
        "\n"
       ]
      },
      {
       "output_type": "stream",
       "stream": "stdout",
       "text": [
        "Sun Jun 15 08:08:41 2014 Submitting theano_tensor_tests_test_utils: rm -rf /tmp/theano_tensor_tests_test_utils && THEANO_FLAGS=\"compiledir=/tmp/theano_tensor_tests_test_utils\" python3.4 `which theano-nose` /usr/local/lib/python3.4/dist-packages/theano/tensor/tests/test_utils.py > /srv/log/test_output/theano_tensor_tests_test_utils.out 2>&1\n",
        "\n"
       ]
      },
      {
       "output_type": "stream",
       "stream": "stdout",
       "text": [
        "Sun Jun 15 08:08:41 2014 Submitting theano_tensor_tests_test_extra_ops: rm -rf /tmp/theano_tensor_tests_test_extra_ops && THEANO_FLAGS=\"compiledir=/tmp/theano_tensor_tests_test_extra_ops\" python3.4 `which theano-nose` /usr/local/lib/python3.4/dist-packages/theano/tensor/tests/test_extra_ops.py > /srv/log/test_output/theano_tensor_tests_test_extra_ops.out 2>&1\n",
        "\n"
       ]
      },
      {
       "output_type": "stream",
       "stream": "stdout",
       "text": [
        "Sun Jun 15 08:08:41 2014 Submitting theano_tensor_tests_test_inc_subtensor: rm -rf /tmp/theano_tensor_tests_test_inc_subtensor && THEANO_FLAGS=\"compiledir=/tmp/theano_tensor_tests_test_inc_subtensor\" python3.4 `which theano-nose` /usr/local/lib/python3.4/dist-packages/theano/tensor/tests/test_inc_subtensor.py > /srv/log/test_output/theano_tensor_tests_test_inc_subtensor.out 2>&1\n",
        "\n"
       ]
      },
      {
       "output_type": "stream",
       "stream": "stdout",
       "text": [
        "Sun Jun 15 08:08:41 2014 Submitting theano_tensor_signal_tests_test_downsample: rm -rf /tmp/theano_tensor_signal_tests_test_downsample && THEANO_FLAGS=\"compiledir=/tmp/theano_tensor_signal_tests_test_downsample\" python3.4 `which theano-nose` /usr/local/lib/python3.4/dist-packages/theano/tensor/signal/tests/test_downsample.py > /srv/log/test_output/theano_tensor_signal_tests_test_downsample.out 2>&1\n",
        "\n"
       ]
      },
      {
       "output_type": "stream",
       "stream": "stdout",
       "text": [
        "Sun Jun 15 08:08:41 2014 Submitting theano_tensor_signal_tests_test_conv: rm -rf /tmp/theano_tensor_signal_tests_test_conv && THEANO_FLAGS=\"compiledir=/tmp/theano_tensor_signal_tests_test_conv\" python3.4 `which theano-nose` /usr/local/lib/python3.4/dist-packages/theano/tensor/signal/tests/test_conv.py > /srv/log/test_output/theano_tensor_signal_tests_test_conv.out 2>&1\n",
        "\n"
       ]
      },
      {
       "output_type": "stream",
       "stream": "stdout",
       "text": [
        "Sun Jun 15 08:08:41 2014 Submitting theano_tensor_nnet_tests_test_conv: rm -rf /tmp/theano_tensor_nnet_tests_test_conv && THEANO_FLAGS=\"compiledir=/tmp/theano_tensor_nnet_tests_test_conv\" python3.4 `which theano-nose` /usr/local/lib/python3.4/dist-packages/theano/tensor/nnet/tests/test_conv.py > /srv/log/test_output/theano_tensor_nnet_tests_test_conv.out 2>&1\n",
        "\n"
       ]
      },
      {
       "output_type": "stream",
       "stream": "stdout",
       "text": [
        "Sun Jun 15 08:08:41 2014 Submitting theano_tensor_nnet_tests_test_nnet: rm -rf /tmp/theano_tensor_nnet_tests_test_nnet && THEANO_FLAGS=\"compiledir=/tmp/theano_tensor_nnet_tests_test_nnet\" python3.4 `which theano-nose` /usr/local/lib/python3.4/dist-packages/theano/tensor/nnet/tests/test_nnet.py > /srv/log/test_output/theano_tensor_nnet_tests_test_nnet.out 2>&1\n",
        "\n"
       ]
      },
      {
       "output_type": "stream",
       "stream": "stdout",
       "text": [
        "Sun Jun 15 08:08:41 2014 Submitting theano_tensor_nnet_tests_test_conv3d2d: rm -rf /tmp/theano_tensor_nnet_tests_test_conv3d2d && THEANO_FLAGS=\"compiledir=/tmp/theano_tensor_nnet_tests_test_conv3d2d\" python3.4 `which theano-nose` /usr/local/lib/python3.4/dist-packages/theano/tensor/nnet/tests/test_conv3d2d.py > /srv/log/test_output/theano_tensor_nnet_tests_test_conv3d2d.out 2>&1\n",
        "\n"
       ]
      },
      {
       "output_type": "stream",
       "stream": "stdout",
       "text": [
        "Sun Jun 15 08:08:41 2014 Submitting theano_tensor_nnet_tests_test_conv3d: rm -rf /tmp/theano_tensor_nnet_tests_test_conv3d && THEANO_FLAGS=\"compiledir=/tmp/theano_tensor_nnet_tests_test_conv3d\" python3.4 `which theano-nose` /usr/local/lib/python3.4/dist-packages/theano/tensor/nnet/tests/test_conv3d.py > /srv/log/test_output/theano_tensor_nnet_tests_test_conv3d.out 2>&1\n",
        "\n"
       ]
      },
      {
       "output_type": "stream",
       "stream": "stdout",
       "text": [
        "Sun Jun 15 08:08:41 2014 Submitting theano_tensor_nnet_tests_test_sigm: rm -rf /tmp/theano_tensor_nnet_tests_test_sigm && THEANO_FLAGS=\"compiledir=/tmp/theano_tensor_nnet_tests_test_sigm\" python3.4 `which theano-nose` /usr/local/lib/python3.4/dist-packages/theano/tensor/nnet/tests/test_sigm.py > /srv/log/test_output/theano_tensor_nnet_tests_test_sigm.out 2>&1\n",
        "\n"
       ]
      },
      {
       "output_type": "stream",
       "stream": "stdout",
       "text": [
        "Sun Jun 15 08:08:41 2014 Submitting theano_misc_tests_test_cudamat_utils: rm -rf /tmp/theano_misc_tests_test_cudamat_utils && THEANO_FLAGS=\"compiledir=/tmp/theano_misc_tests_test_cudamat_utils\" python3.4 `which theano-nose` /usr/local/lib/python3.4/dist-packages/theano/misc/tests/test_cudamat_utils.py > /srv/log/test_output/theano_misc_tests_test_cudamat_utils.out 2>&1\n",
        "\n"
       ]
      },
      {
       "output_type": "stream",
       "stream": "stdout",
       "text": [
        "Sun Jun 15 08:08:41 2014 Submitting theano_misc_tests_test_pycuda_example: rm -rf /tmp/theano_misc_tests_test_pycuda_example && THEANO_FLAGS=\"compiledir=/tmp/theano_misc_tests_test_pycuda_example\" python3.4 `which theano-nose` /usr/local/lib/python3.4/dist-packages/theano/misc/tests/test_pycuda_example.py > /srv/log/test_output/theano_misc_tests_test_pycuda_example.out 2>&1\n",
        "\n"
       ]
      },
      {
       "output_type": "stream",
       "stream": "stdout",
       "text": [
        "Sun Jun 15 08:08:41 2014 Submitting theano_misc_tests_test_may_share_memory: rm -rf /tmp/theano_misc_tests_test_may_share_memory && THEANO_FLAGS=\"compiledir=/tmp/theano_misc_tests_test_may_share_memory\" python3.4 `which theano-nose` /usr/local/lib/python3.4/dist-packages/theano/misc/tests/test_may_share_memory.py > /srv/log/test_output/theano_misc_tests_test_may_share_memory.out 2>&1\n",
        "\n"
       ]
      },
      {
       "output_type": "stream",
       "stream": "stdout",
       "text": [
        "Sun Jun 15 08:08:41 2014 Submitting theano_misc_tests_test_gnumpy_utils: rm -rf /tmp/theano_misc_tests_test_gnumpy_utils && THEANO_FLAGS=\"compiledir=/tmp/theano_misc_tests_test_gnumpy_utils\" python3.4 `which theano-nose` /usr/local/lib/python3.4/dist-packages/theano/misc/tests/test_gnumpy_utils.py > /srv/log/test_output/theano_misc_tests_test_gnumpy_utils.out 2>&1\n",
        "\n"
       ]
      },
      {
       "output_type": "stream",
       "stream": "stdout",
       "text": [
        "Sun Jun 15 08:08:41 2014 Submitting theano_misc_tests_test_pycuda_utils: rm -rf /tmp/theano_misc_tests_test_pycuda_utils && THEANO_FLAGS=\"compiledir=/tmp/theano_misc_tests_test_pycuda_utils\" python3.4 `which theano-nose` /usr/local/lib/python3.4/dist-packages/theano/misc/tests/test_pycuda_utils.py > /srv/log/test_output/theano_misc_tests_test_pycuda_utils.out 2>&1\n",
        "\n"
       ]
      },
      {
       "output_type": "stream",
       "stream": "stdout",
       "text": [
        "Sun Jun 15 08:08:41 2014 Submitting theano_misc_tests_test_pycuda_theano_simple: rm -rf /tmp/theano_misc_tests_test_pycuda_theano_simple && THEANO_FLAGS=\"compiledir=/tmp/theano_misc_tests_test_pycuda_theano_simple\" python3.4 `which theano-nose` /usr/local/lib/python3.4/dist-packages/theano/misc/tests/test_pycuda_theano_simple.py > /srv/log/test_output/theano_misc_tests_test_pycuda_theano_simple.out 2>&1\n",
        "\n"
       ]
      },
      {
       "output_type": "stream",
       "stream": "stdout",
       "text": [
        "Sun Jun 15 08:08:44 2014 pystan_stanc (1 of 219): Completed\n",
        "\n"
       ]
      },
      {
       "output_type": "stream",
       "stream": "stdout",
       "text": [
        "Sun Jun 15 08:08:44 2014 pytables_index_backcompat (2 of 219): Completed\n",
        "\n"
       ]
      },
      {
       "output_type": "stream",
       "stream": "stdout",
       "text": [
        "Sun Jun 15 08:08:53 2014 pytables_attributes (3 of 219): Completed\n",
        "\n"
       ]
      },
      {
       "output_type": "stream",
       "stream": "stdout",
       "text": [
        "Sun Jun 15 08:08:53 2014 theano_sandbox_test_multinomial (4 of 219): Completed\n",
        "\n"
       ]
      },
      {
       "output_type": "stream",
       "stream": "stdout",
       "text": [
        "Sun Jun 15 08:09:03 2014 sympy_sets (5 of 219): Completed\n",
        "\n"
       ]
      },
      {
       "output_type": "stream",
       "stream": "stdout",
       "text": [
        "Sun Jun 15 08:09:03 2014 pytables_numpy (6 of 219): Completed\n",
        "\n"
       ]
      },
      {
       "output_type": "stream",
       "stream": "stdout",
       "text": [
        "Sun Jun 15 08:09:11 2014 sympy_utilities (7 of 219): Completed\n",
        "\n"
       ]
      }
     ]
    }
   ],
   "metadata": {}
  }
 ]
}