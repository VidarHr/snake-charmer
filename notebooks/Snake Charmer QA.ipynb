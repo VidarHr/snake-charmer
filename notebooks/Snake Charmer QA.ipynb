{
 "metadata": {
  "name": "",
  "signature": "sha256:a76cd1879439dbd69add265e7193cbb32afc7bcbba50c2671711e29d3cbb0100"
 },
 "nbformat": 3,
 "nbformat_minor": 0,
 "worksheets": [
  {
   "cells": [
    {
     "cell_type": "markdown",
     "metadata": {},
     "source": [
      "# Snake Charmer Quality Assurance Dept.\n",
      "## _\"All Your Eggs In One Basket\"_\n",
      "\n",
      "Welcome to the Quality Assurance Department. Here you can run tests against Snake Charmer's components, in parallel, using roughly as many workers as you have vCPUs assigned to the VM. Actually, in practice we reduce this number slightly, as some test scripts start additional threads/processes themselves.\n",
      "\n",
      "The results will be written to `log/<hostname>/test_output` (relative to your `snake-charmer` directory).\n",
      "\n",
      "**Warning:** Running the whole suite will take quite some time, even with lots of vCPUs, as some of the components' test suites take hours by themselves."
     ]
    },
    {
     "cell_type": "markdown",
     "metadata": {},
     "source": [
      "### Initialization"
     ]
    },
    {
     "cell_type": "code",
     "collapsed": false,
     "input": [
      "import subprocess\n",
      "import functools\n",
      "from concurrent.futures import ThreadPoolExecutor as Pool\n",
      "import os\n",
      "import shutil\n",
      "import math\n",
      "import queue\n",
      "\n",
      "# TODO we'll need to use this for earlier versions of Python: https://pypi.python.org/pypi/futures\n",
      "\n",
      "cpus = os.cpu_count()\n",
      "workers = max(int(cpus * 0.75), 1)\n",
      "pool = Pool(workers)\n",
      "messages = queue.Queue()\n",
      "\n",
      "outdir = '/srv/log/test_output'\n",
      "python = 'python3.4' # FIXME get this automatically\n",
      "\n",
      "shutil.rmtree(outdir, ignore_errors=True)\n",
      "os.makedirs(outdir, exist_ok=True)\n",
      "\n",
      "def get_immediate_subdirectories(dir):\n",
      "    return [name for name in os.listdir(dir)\n",
      "            if os.path.isdir(os.path.join(dir, name))]\n",
      "\n",
      "def make_cmd_line(name, command):\n",
      "    return '%s > %s/%s.out 2>&1' % (command.replace('$PYTHON', python), outdir, name)\n",
      "\n",
      "# TODO work out how to make numba tests pass without sudo\n",
      "\n",
      "serial_test_commands = [\n",
      "    ('ipython', '$PYTHON `which iptest3` --all -j'),\n",
      "    ('joblib', '$PYTHON `which nosetests` joblib'),\n",
      "    ('numba', 'sudo $PYTHON -c \"import numba; numba.testing.multitest()\"')\n",
      "]\n",
      "\n",
      "# Generate individual submodule tests for sympy and pytables, as they take forever if run in one process\n",
      "\n",
      "def make_sympy_test_cmd(submod):\n",
      "    name = 'sympy_%s' % submod\n",
      "    cmd = '$PYTHON -c \"import sympy; sympy.test(\\'/%s\\')\"' % submod\n",
      "    return (name, cmd)\n",
      "\n",
      "sympy_test_commands = [make_sympy_test_cmd(submod)\n",
      "                       for submod in get_immediate_subdirectories('/usr/local/lib/%s/dist-packages/sympy' % python)\n",
      "                       if not submod.startswith('_')]\n",
      "\n",
      "def make_pytables_test_cmd(script, test_dir):\n",
      "    name = script.replace('test_', 'pytables_').replace('.py', '')\n",
      "    cmd = '$PYTHON %s/%s --heavy' % (test_dir, script)\n",
      "    return (name, cmd)\n",
      "\n",
      "pytables_test_dir = '/usr/local/lib/%s/dist-packages/tables/tests' % python\n",
      "pytables_test_commands = [make_pytables_test_cmd(script, pytables_test_dir)\n",
      "                          for script in os.listdir(pytables_test_dir)\n",
      "                          if script.startswith('test_') and script.endswith('.py')]\n",
      "\n",
      "parallel_test_commands = [\n",
      "    ('cython', '(cd /srv/cache/src/Cython/ && $PYTHON runtests.py -vv)'),\n",
      "    ('pymc', '$PYTHON -c \"import pymc; pymc.test(\\'full\\')\"'),\n",
      "    ('theano', '$PYTHON `which theano-nose` --batch=100 --theano'),\n",
      "    ('matplotlib', '$PYTHON -c \"import matplotlib; matplotlib.test()\"'),\n",
      "    ('numpy', '$PYTHON -c \"import numpy; numpy.test(\\'full\\')\"'),\n",
      "    ('scipy', '$PYTHON -c \"import scipy; scipy.test(\\'full\\')\"'),\n",
      "    ('pandas', '$PYTHON `which nosetests` pandas'),\n",
      "    ('sklearn', '$PYTHON `which nosetests` sklearn --exe'),\n",
      "    ('pillow', '(cd /tmp && rm -f Images && ln -s /srv/cache/src/Pillow/Images . && $PYTHON /srv/cache/src/Pillow/selftest.py --installed)'),\n",
      "    ('nltk', '$PYTHON /usr/local/lib/$PYTHON/dist-packages/nltk/test/runtests.py'),\n",
      "    ('gensim', '(cd /srv/cache/src/gensim && $PYTHON setup.py test)'),\n",
      "    ('bottleneck', '$PYTHON -c \"import bottleneck as bn; bn.test(\\'full\\')\"'),\n",
      "    ('statsmodels', '$PYTHON -c \"import statsmodels as sm; sm.test()\"'),\n",
      "    ('numexpr', '$PYTHON `which nosetests` numexpr'),\n",
      "    ('patsy', '$PYTHON `which nosetests` patsy'),\n",
      "    ('prettyplotlib', '(cd /srv/cache/src/prettyplotlib/tests && for py in $(ls test_*.py); do $PYTHON $py; done)')\n",
      "] + pytables_test_commands + sympy_test_commands"
     ],
     "language": "python",
     "metadata": {},
     "outputs": []
    },
    {
     "cell_type": "markdown",
     "metadata": {},
     "source": [
      "### Serial tests\n",
      "\n",
      "These are tests to run in serial, as they handle their own parallelism internally. Each one will use as many vCPUs as it can get its hands on, so we let each one monopolize the VM until it's finished.\n",
      "\n",
      "When tests are started or completed, status messages appear below the next cell. If a test causes an exception or returns a non-zero exit code, check the corresponding output file in `log/<hostname>/test_output`."
     ]
    },
    {
     "cell_type": "code",
     "collapsed": false,
     "input": [
      "for name, command in serial_test_commands:\n",
      "    cmd_line = make_cmd_line(name, command)\n",
      "    print('%s: %s\\n' % (name, cmd_line))\n",
      "    rc = subprocess.call(cmd_line, shell=True, executable='/bin/bash')\n",
      "    alert = ' **** FAILED!' if rc != 0 else ''\n",
      "    print('%s:%s Completed with status %d\\n' % (name, alert, rc))"
     ],
     "language": "python",
     "metadata": {},
     "outputs": []
    },
    {
     "cell_type": "markdown",
     "metadata": {},
     "source": [
      "### Parallel tests\n",
      "\n",
      "These are tests to run in parallel explicitly, after the serial tests have finished. Each one runs in a separate isolated Python process. They are coordinated by a thread pool within the parent process, so that no more than `workers` processes are running at once, but in some cases a test may use more than a whole vCPU, because of starting helper threads or subprocesses.\n",
      "\n",
      "We start the slower-running ones like Cython and PyMC first -- depending on how many vCPUs you have, these may also be the last to finish.\n",
      "\n",
      "When jobs are submitted or completed, status messages appear below the next cell. If a test causes an exception or returns a non-zero exit code, check the corresponding output file in `log/<hostname>/test_output`."
     ]
    },
    {
     "cell_type": "code",
     "collapsed": false,
     "input": [
      "def on_complete(name, future):\n",
      "    if future.exception() is not None:\n",
      "        messages.put((name, '**** FAILED!\\n\\n%s' % repr(future.exception())))\n",
      "    elif future.result() != 0:\n",
      "        messages.put((name, '**** FAILED! Completed with status %d' % future.result()))\n",
      "    else:\n",
      "        messages.put((name, 'Completed with status %d' % future.result()))\n",
      "\n",
      "expected = 0\n",
      "for name, command in parallel_test_commands:\n",
      "    cmd_line = make_cmd_line(name, command)\n",
      "    pool.submit(\n",
      "        subprocess.call, cmd_line, shell=True, executable='/bin/bash'\n",
      "    ).add_done_callback(\n",
      "        functools.partial(on_complete, name))\n",
      "    messages.put((name, cmd_line))\n",
      "    expected = expected + 2 # One submit message, one completion message\n",
      "\n",
      "received = 0\n",
      "while received < expected:\n",
      "    name, message = messages.get()\n",
      "    received = received + 1\n",
      "    print('%s: %s\\n' % (name, message))\n",
      "    if received < expected:\n",
      "        print('\\tWaiting for %d more messages.\\n' % (expected - received))\n",
      "    else:\n",
      "        print('\\tAll jobs finished.\\n')\n",
      "\n",
      "pool.shutdown(wait=True)"
     ],
     "language": "python",
     "metadata": {},
     "outputs": []
    }
   ],
   "metadata": {}
  }
 ]
}