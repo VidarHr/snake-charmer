{
 "metadata": {
  "name": "",
  "signature": "sha256:1c52107aff230ae70460907872cfa2f5c5c612208796f4740f2f8c3eaee307e6"
 },
 "nbformat": 3,
 "nbformat_minor": 0,
 "worksheets": [
  {
   "cells": [
    {
     "cell_type": "markdown",
     "metadata": {},
     "source": [
      "# Snake Charmer Quality Assurance Dept.\n",
      "## _\"All Your Eggs In One Basket\"_\n",
      "\n",
      "Welcome to the Quality Assurance Department. Here you can run tests against Snake Charmer's components, in parallel, using roughly as many workers as you have vCPUs assigned to the VM. Actually, in practice we reduce this number slightly, as some test scripts start additional threads/processes themselves.\n",
      "\n",
      "The results will be written to `log/<hostname>/test_output` (relative to your `snake-charmer` directory).\n",
      "\n",
      "**Warning:** Running the whole suite will take quite some time, even with lots of vCPUs, as some of the components' test suites take hours by themselves."
     ]
    },
    {
     "cell_type": "markdown",
     "metadata": {},
     "source": [
      "### Initialization"
     ]
    },
    {
     "cell_type": "code",
     "collapsed": false,
     "input": [
      "import subprocess\n",
      "import functools\n",
      "from concurrent.futures import ThreadPoolExecutor as Pool\n",
      "import os\n",
      "import shutil\n",
      "import math\n",
      "import queue\n",
      "from itertools import *\n",
      "\n",
      "# TODO we'll need to use this for earlier versions of Python: https://pypi.python.org/pypi/futures\n",
      "\n",
      "cpus = os.cpu_count()\n",
      "workers = cpus\n",
      "pool = Pool(workers)\n",
      "messages = queue.Queue()\n",
      "\n",
      "outdir = '/srv/log/test_output'\n",
      "python = 'python3.4' # FIXME get this automatically\n",
      "\n",
      "shutil.rmtree(outdir, ignore_errors=True)\n",
      "os.makedirs(outdir, exist_ok=True)\n",
      "\n",
      "def get_immediate_subdirectories(dir):\n",
      "    return [name for name in os.listdir(dir)\n",
      "            if os.path.isdir(os.path.join(dir, name))]\n",
      "\n",
      "def make_cmd_line(name, command):\n",
      "    return '%s > %s/%s.out 2>&1' % (command.replace('$PYTHON', python), outdir, name)\n",
      "\n",
      "serial_test_commands = [\n",
      "    ('ipython', '$PYTHON `which iptest3` --all -j'),\n",
      "    ('joblib', '$PYTHON `which nosetests` joblib'),\n",
      "    ('numba', '$PYTHON -c \"import numba; numba.testing.multitest()\"')\n",
      "]\n",
      "\n",
      "# Generate individual submodule tests for sympy and pytables, as they take forever if run in one process\n",
      "\n",
      "def make_sympy_test_cmd(submod):\n",
      "    name = 'sympy_%s' % submod\n",
      "    cmd = '$PYTHON -c \"import sympy; sympy.test(\\'/%s\\')\"' % submod\n",
      "    return (name, cmd)\n",
      "\n",
      "sympy_test_commands = (make_sympy_test_cmd(submod)\n",
      "                       for submod in get_immediate_subdirectories('/usr/local/lib/%s/dist-packages/sympy' % python)\n",
      "                       if not submod.startswith('_'))\n",
      "\n",
      "def make_pytables_test_cmd(script, test_dir):\n",
      "    name = script.replace('test_', 'pytables_').replace('.py', '')\n",
      "    cmd = '$PYTHON %s/%s --heavy' % (test_dir, script)\n",
      "    return (name, cmd)\n",
      "\n",
      "pytables_test_dir = '/usr/local/lib/%s/dist-packages/tables/tests' % python\n",
      "pytables_test_commands = (make_pytables_test_cmd(script, pytables_test_dir)\n",
      "                          for script in os.listdir(pytables_test_dir)\n",
      "                          if script.startswith('test_') and script.endswith('.py') and script != 'test_all.py')\n",
      "\n",
      "# Make sure test_queries.py is at the start, as it's a monster!\n",
      "\n",
      "def pred(elem):\n",
      "    elem[0] != 'pytables_queries'\n",
      "\n",
      "pytables_test_commands_reordered = chain(dropwhile(pred, pytables_test_commands),\n",
      "                                         takewhile(pred, pytables_test_commands))\n",
      "\n",
      "misc_test_commands = [\n",
      "    ('cython', '(cd /srv/cache/src/Cython/ && $PYTHON runtests.py -vv)'),\n",
      "    ('pymc', '$PYTHON -c \"import pymc; pymc.test(\\'full\\')\"'),\n",
      "    ('theano', '$PYTHON `which theano-nose` --batch=100 --theano'),\n",
      "    ('matplotlib', '$PYTHON -c \"import matplotlib; matplotlib.test()\"'),\n",
      "    ('numpy', '$PYTHON -c \"import numpy; numpy.test(\\'full\\')\"'),\n",
      "    ('scipy', '$PYTHON -c \"import scipy; scipy.test(\\'full\\')\"'),\n",
      "    ('pandas', '$PYTHON `which nosetests` pandas'),\n",
      "    ('sklearn', '$PYTHON `which nosetests` sklearn --exe'),\n",
      "    ('pillow', '(cd /tmp && rm -f Images && ln -s /srv/cache/src/Pillow/Images . && $PYTHON /srv/cache/src/Pillow/selftest.py --installed)'),\n",
      "    ('nltk', '$PYTHON /usr/local/lib/$PYTHON/dist-packages/nltk/test/runtests.py'),\n",
      "    ('gensim', '(cd /srv/cache/src/gensim && $PYTHON setup.py test)'),\n",
      "    ('bottleneck', '$PYTHON -c \"import bottleneck as bn; bn.test(\\'full\\')\"'),\n",
      "    ('statsmodels', '$PYTHON -c \"import matplotlib as mpl; mpl.use(\\'Agg\\'); import statsmodels as sm; sm.test()\"'),\n",
      "    ('numexpr', '$PYTHON `which nosetests` numexpr'),\n",
      "    ('patsy', '$PYTHON `which nosetests` patsy'),\n",
      "    ('prettyplotlib', '(cd /srv/cache/src/prettyplotlib/tests && for py in $(ls test_*.py); do $PYTHON $py; done)')\n",
      "]\n",
      "\n",
      "# Interleave these three command lists, to (attempt to) get good balance of CPU and IO heavy tasks\n",
      "\n",
      "parallel_test_commands = filter(None,\n",
      "                           zip_longest(pytables_test_commands_reordered,\n",
      "                                       misc_test_commands,\n",
      "                                       sympy_test_commands))"
     ],
     "language": "python",
     "metadata": {},
     "outputs": [],
     "prompt_number": 1
    },
    {
     "cell_type": "markdown",
     "metadata": {},
     "source": [
      "### Serial tests\n",
      "\n",
      "These are tests to run in serial, as they handle their own parallelism internally. Each one will use as many vCPUs as it can get its hands on, so we let each one monopolize the VM until it's finished.\n",
      "\n",
      "When tests are started or completed, status messages appear below the next cell. If a test causes an exception or returns a non-zero exit code, check the corresponding output file in `log/<hostname>/test_output`."
     ]
    },
    {
     "cell_type": "code",
     "collapsed": false,
     "input": [
      "for name, command in serial_test_commands:\n",
      "    cmd_line = make_cmd_line(name, command)\n",
      "    print('%s: %s\\n' % (name, cmd_line))\n",
      "    rc = subprocess.call(cmd_line, shell=True, executable='/bin/bash')\n",
      "    alert = ' **** FAILED!' if rc != 0 else ''\n",
      "    print('%s:%s Completed with status %d\\n' % (name, alert, rc))"
     ],
     "language": "python",
     "metadata": {},
     "outputs": [
      {
       "output_type": "stream",
       "stream": "stdout",
       "text": [
        "ipython: python3.4 `which iptest3` --all -j > /srv/log/test_output/ipython.out 2>&1\n",
        "\n",
        "ipython: Completed with status 0\n"
       ]
      },
      {
       "output_type": "stream",
       "stream": "stdout",
       "text": [
        "\n",
        "joblib: python3.4 `which nosetests` joblib > /srv/log/test_output/joblib.out 2>&1\n",
        "\n",
        "joblib: Completed with status 0\n"
       ]
      },
      {
       "output_type": "stream",
       "stream": "stdout",
       "text": [
        "\n",
        "numba: python3.4 -c \"import numba; numba.testing.multitest()\" > /srv/log/test_output/numba.out 2>&1\n",
        "\n",
        "numba: Completed with status 0\n"
       ]
      },
      {
       "output_type": "stream",
       "stream": "stdout",
       "text": [
        "\n"
       ]
      }
     ],
     "prompt_number": 2
    },
    {
     "cell_type": "markdown",
     "metadata": {},
     "source": [
      "### Parallel tests\n",
      "\n",
      "These are tests to run in parallel explicitly, after the serial tests have finished. Each one runs in a separate isolated Python process. They are coordinated by a thread pool within the parent process, so that no more than `workers` processes are running at once, but in some cases a test may use more than a whole vCPU, because of starting helper threads or subprocesses.\n",
      "\n",
      "In general we try to start the slower-running tests earlier.\n",
      "\n",
      "When jobs are submitted or completed, status messages appear below the next cell. If a test causes an exception or returns a non-zero exit code, check the corresponding output file in `log/<hostname>/test_output`."
     ]
    },
    {
     "cell_type": "code",
     "collapsed": false,
     "input": [
      "def on_complete(name, future):\n",
      "    if future.exception() is not None:\n",
      "        messages.put((name, '**** FAILED!\\n\\n%s' % repr(future.exception())))\n",
      "    elif future.result() != 0:\n",
      "        messages.put((name, '**** FAILED! Completed with status %d' % future.result()))\n",
      "    else:\n",
      "        messages.put((name, 'Completed with status %d' % future.result()))\n",
      "\n",
      "expected = 0\n",
      "for name, command in parallel_test_commands:\n",
      "    cmd_line = make_cmd_line(name, command)\n",
      "    pool.submit(\n",
      "        subprocess.call, cmd_line, shell=True, executable='/bin/bash'\n",
      "    ).add_done_callback(\n",
      "        functools.partial(on_complete, name))\n",
      "    messages.put((name, cmd_line))\n",
      "    expected = expected + 2 # One submit message, one completion message\n",
      "\n",
      "received = 0\n",
      "while received < expected:\n",
      "    name, message = messages.get()\n",
      "    received = received + 1\n",
      "    print('%s: %s\\n' % (name, message))\n",
      "    if received < expected:\n",
      "        print('\\tWaiting for %d more messages.\\n' % (expected - received))\n",
      "    else:\n",
      "        print('\\tAll jobs finished.\\n')\n",
      "\n",
      "pool.shutdown(wait=True)"
     ],
     "language": "python",
     "metadata": {},
     "outputs": [
      {
       "output_type": "stream",
       "stream": "stdout",
       "text": [
        "pytables_vlarray: python3.4 /usr/local/lib/python3.4/dist-packages/tables/tests/test_vlarray.py --heavy > /srv/log/test_output/pytables_vlarray.out 2>&1\n",
        "\n",
        "\tWaiting for 149 more messages.\n",
        "\n",
        "pytables_types: python3.4 /usr/local/lib/python3.4/dist-packages/tables/tests/test_types.py --heavy > /srv/log/test_output/pytables_types.out 2>&1\n",
        "\n",
        "\tWaiting for 148 more messages.\n",
        "\n",
        "pytables_tree: python3.4 /usr/local/lib/python3.4/dist-packages/tables/tests/test_tree.py --heavy > /srv/log/test_output/pytables_tree.out 2>&1\n",
        "\n",
        "\tWaiting for 147 more messages.\n",
        "\n",
        "pytables_timetype: python3.4 /usr/local/lib/python3.4/dist-packages/tables/tests/test_timetype.py --heavy > /srv/log/test_output/pytables_timetype.out 2>&1\n",
        "\n",
        "\tWaiting for 146 more messages.\n",
        "\n",
        "pytables_tablesMD: python3.4 /usr/local/lib/python3.4/dist-packages/tables/tests/test_tablesMD.py --heavy > /srv/log/test_output/pytables_tablesMD.out 2>&1\n",
        "\n",
        "\tWaiting for 145 more messages.\n",
        "\n",
        "pytables_tables: python3.4 /usr/local/lib/python3.4/dist-packages/tables/tests/test_tables.py --heavy > /srv/log/test_output/pytables_tables.out 2>&1\n",
        "\n",
        "\tWaiting for 144 more messages.\n",
        "\n",
        "pytables_queries: python3.4 /usr/local/lib/python3.4/dist-packages/tables/tests/test_queries.py --heavy > /srv/log/test_output/pytables_queries.out 2>&1\n",
        "\n",
        "\tWaiting for 143 more messages.\n",
        "\n",
        "pytables_numpy: python3.4 /usr/local/lib/python3.4/dist-packages/tables/tests/test_numpy.py --heavy > /srv/log/test_output/pytables_numpy.out 2>&1\n",
        "\n",
        "\tWaiting for 142 more messages.\n",
        "\n",
        "pytables_nestedtypes: python3.4 /usr/local/lib/python3.4/dist-packages/tables/tests/test_nestedtypes.py --heavy > /srv/log/test_output/pytables_nestedtypes.out 2>&1\n",
        "\n",
        "\tWaiting for 141 more messages.\n",
        "\n",
        "pytables_lists: python3.4 /usr/local/lib/python3.4/dist-packages/tables/tests/test_lists.py --heavy > /srv/log/test_output/pytables_lists.out 2>&1\n",
        "\n",
        "\tWaiting for 140 more messages.\n",
        "\n",
        "pytables_links: python3.4 /usr/local/lib/python3.4/dist-packages/tables/tests/test_links.py --heavy > /srv/log/test_output/pytables_links.out 2>&1\n",
        "\n",
        "\tWaiting for 139 more messages.\n",
        "\n",
        "pytables_indexvalues: python3.4 /usr/local/lib/python3.4/dist-packages/tables/tests/test_indexvalues.py --heavy > /srv/log/test_output/pytables_indexvalues.out 2>&1\n",
        "\n",
        "\tWaiting for 138 more messages.\n",
        "\n",
        "pytables_indexes: python3.4 /usr/local/lib/python3.4/dist-packages/tables/tests/test_indexes.py --heavy > /srv/log/test_output/pytables_indexes.out 2>&1\n",
        "\n",
        "\tWaiting for 137 more messages.\n",
        "\n",
        "pytables_index_backcompat: python3.4 /usr/local/lib/python3.4/dist-packages/tables/tests/test_index_backcompat.py --heavy > /srv/log/test_output/pytables_index_backcompat.out 2>&1\n",
        "\n",
        "\tWaiting for 136 more messages.\n",
        "\n",
        "pytables_hdf5compat: python3.4 /usr/local/lib/python3.4/dist-packages/tables/tests/test_hdf5compat.py --heavy > /srv/log/test_output/pytables_hdf5compat.out 2>&1\n",
        "\n",
        "\tWaiting for 135 more messages.\n",
        "\n",
        "pytables_garbage: python3.4 /usr/local/lib/python3.4/dist-packages/tables/tests/test_garbage.py --heavy > /srv/log/test_output/pytables_garbage.out 2>&1\n",
        "\n",
        "\tWaiting for 134 more messages.\n",
        "\n",
        "pytables_expression: python3.4 /usr/local/lib/python3.4/dist-packages/tables/tests/test_expression.py --heavy > /srv/log/test_output/pytables_expression.out 2>&1\n",
        "\n",
        "\tWaiting for 133 more messages.\n",
        "\n",
        "pytables_enum: python3.4 /usr/local/lib/python3.4/dist-packages/tables/tests/test_enum.py --heavy > /srv/log/test_output/pytables_enum.out 2>&1\n",
        "\n",
        "\tWaiting for 132 more messages.\n",
        "\n",
        "pytables_earray: python3.4 /usr/local/lib/python3.4/dist-packages/tables/tests/test_earray.py --heavy > /srv/log/test_output/pytables_earray.out 2>&1\n",
        "\n",
        "\tWaiting for 131 more messages.\n",
        "\n",
        "pytables_do_undo: python3.4 /usr/local/lib/python3.4/dist-packages/tables/tests/test_do_undo.py --heavy > /srv/log/test_output/pytables_do_undo.out 2>&1\n",
        "\n",
        "\tWaiting for 130 more messages.\n",
        "\n",
        "pytables_create: python3.4 /usr/local/lib/python3.4/dist-packages/tables/tests/test_create.py --heavy > /srv/log/test_output/pytables_create.out 2>&1\n",
        "\n",
        "\tWaiting for 129 more messages.\n",
        "\n",
        "pytables_carray: python3.4 /usr/local/lib/python3.4/dist-packages/tables/tests/test_carray.py --heavy > /srv/log/test_output/pytables_carray.out 2>&1\n",
        "\n",
        "\tWaiting for 128 more messages.\n",
        "\n",
        "pytables_basics: python3.4 /usr/local/lib/python3.4/dist-packages/tables/tests/test_basics.py --heavy > /srv/log/test_output/pytables_basics.out 2>&1\n",
        "\n",
        "\tWaiting for 127 more messages.\n",
        "\n",
        "pytables_backcompat: python3.4 /usr/local/lib/python3.4/dist-packages/tables/tests/test_backcompat.py --heavy > /srv/log/test_output/pytables_backcompat.out 2>&1\n",
        "\n",
        "\tWaiting for 126 more messages.\n",
        "\n",
        "pytables_attributes: python3.4 /usr/local/lib/python3.4/dist-packages/tables/tests/test_attributes.py --heavy > /srv/log/test_output/pytables_attributes.out 2>&1\n",
        "\n",
        "\tWaiting for 125 more messages.\n",
        "\n",
        "pytables_array: python3.4 /usr/local/lib/python3.4/dist-packages/tables/tests/test_array.py --heavy > /srv/log/test_output/pytables_array.out 2>&1\n",
        "\n",
        "\tWaiting for 124 more messages.\n",
        "\n",
        "cython: (cd /srv/cache/src/Cython/ && python3.4 runtests.py -vv) > /srv/log/test_output/cython.out 2>&1\n",
        "\n",
        "\tWaiting for 123 more messages.\n",
        "\n",
        "pymc: python3.4 -c \"import pymc; pymc.test('full')\" > /srv/log/test_output/pymc.out 2>&1\n",
        "\n",
        "\tWaiting for 122 more messages.\n",
        "\n",
        "theano: python3.4 `which theano-nose` --batch=100 --theano > /srv/log/test_output/theano.out 2>&1\n",
        "\n",
        "\tWaiting for 121 more messages.\n",
        "\n",
        "matplotlib: python3.4 -c \"import matplotlib; matplotlib.test()\" > /srv/log/test_output/matplotlib.out 2>&1\n",
        "\n",
        "\tWaiting for 120 more messages.\n",
        "\n",
        "numpy: python3.4 -c \"import numpy; numpy.test('full')\" > /srv/log/test_output/numpy.out 2>&1\n",
        "\n",
        "\tWaiting for 119 more messages.\n",
        "\n",
        "scipy: python3.4 -c \"import scipy; scipy.test('full')\" > /srv/log/test_output/scipy.out 2>&1\n",
        "\n",
        "\tWaiting for 118 more messages.\n",
        "\n",
        "pandas: python3.4 `which nosetests` pandas > /srv/log/test_output/pandas.out 2>&1\n",
        "\n",
        "\tWaiting for 117 more messages.\n",
        "\n",
        "sklearn: python3.4 `which nosetests` sklearn --exe > /srv/log/test_output/sklearn.out 2>&1\n",
        "\n",
        "\tWaiting for 116 more messages.\n",
        "\n",
        "pillow: (cd /tmp && rm -f Images && ln -s /srv/cache/src/Pillow/Images . && python3.4 /srv/cache/src/Pillow/selftest.py --installed) > /srv/log/test_output/pillow.out 2>&1\n",
        "\n",
        "\tWaiting for 115 more messages.\n",
        "\n",
        "nltk: python3.4 /usr/local/lib/python3.4/dist-packages/nltk/test/runtests.py > /srv/log/test_output/nltk.out 2>&1\n",
        "\n",
        "\tWaiting for 114 more messages.\n",
        "\n",
        "gensim: (cd /srv/cache/src/gensim && python3.4 setup.py test) > /srv/log/test_output/gensim.out 2>&1\n",
        "\n",
        "\tWaiting for 113 more messages.\n",
        "\n",
        "bottleneck: python3.4 -c \"import bottleneck as bn; bn.test('full')\" > /srv/log/test_output/bottleneck.out 2>&1\n",
        "\n",
        "\tWaiting for 112 more messages.\n",
        "\n",
        "statsmodels: python3.4 -c \"import matplotlib as mpl; mpl.use('Agg'); import statsmodels as sm; sm.test()\" > /srv/log/test_output/statsmodels.out 2>&1\n",
        "\n",
        "\tWaiting for 111 more messages.\n",
        "\n",
        "numexpr: python3.4 `which nosetests` numexpr > /srv/log/test_output/numexpr.out 2>&1\n",
        "\n",
        "\tWaiting for 110 more messages.\n",
        "\n",
        "patsy: python3.4 `which nosetests` patsy > /srv/log/test_output/patsy.out 2>&1\n",
        "\n",
        "\tWaiting for 109 more messages.\n",
        "\n",
        "prettyplotlib: (cd /srv/cache/src/prettyplotlib/tests && for py in $(ls test_*.py); do python3.4 $py; done) > /srv/log/test_output/prettyplotlib.out 2>&1\n",
        "\n",
        "\tWaiting for 108 more messages.\n",
        "\n",
        "sympy_utilities: python3.4 -c \"import sympy; sympy.test('/utilities')\" > /srv/log/test_output/sympy_utilities.out 2>&1\n",
        "\n",
        "\tWaiting for 107 more messages.\n",
        "\n",
        "sympy_series: python3.4 -c \"import sympy; sympy.test('/series')\" > /srv/log/test_output/sympy_series.out 2>&1\n",
        "\n",
        "\tWaiting for 106 more messages.\n",
        "\n",
        "sympy_sets: python3.4 -c \"import sympy; sympy.test('/sets')\" > /srv/log/test_output/sympy_sets.out 2>&1\n",
        "\n",
        "\tWaiting for 105 more messages.\n",
        "\n",
        "sympy_plotting: python3.4 -c \"import sympy; sympy.test('/plotting')\" > /srv/log/test_output/sympy_plotting.out 2>&1\n",
        "\n",
        "\tWaiting for 104 more messages.\n",
        "\n",
        "sympy_integrals: python3.4 -c \"import sympy; sympy.test('/integrals')\" > /srv/log/test_output/sympy_integrals.out 2>&1\n",
        "\n",
        "\tWaiting for 103 more messages.\n",
        "\n",
        "sympy_external: python3.4 -c \"import sympy; sympy.test('/external')\" > /srv/log/test_output/sympy_external.out 2>&1\n",
        "\n",
        "\tWaiting for 102 more messages.\n",
        "\n",
        "sympy_mpmath: python3.4 -c \"import sympy; sympy.test('/mpmath')\" > /srv/log/test_output/sympy_mpmath.out 2>&1\n",
        "\n",
        "\tWaiting for 101 more messages.\n",
        "\n",
        "sympy_logic: python3.4 -c \"import sympy; sympy.test('/logic')\" > /srv/log/test_output/sympy_logic.out 2>&1\n",
        "\n",
        "\tWaiting for 100 more messages.\n",
        "\n",
        "sympy_calculus: python3.4 -c \"import sympy; sympy.test('/calculus')\" > /srv/log/test_output/sympy_calculus.out 2>&1\n",
        "\n",
        "\tWaiting for 99 more messages.\n",
        "\n",
        "sympy_ntheory: python3.4 -c \"import sympy; sympy.test('/ntheory')\" > /srv/log/test_output/sympy_ntheory.out 2>&1\n",
        "\n",
        "\tWaiting for 98 more messages.\n",
        "\n",
        "sympy_printing: python3.4 -c \"import sympy; sympy.test('/printing')\" > /srv/log/test_output/sympy_printing.out 2>&1\n",
        "\n",
        "\tWaiting for 97 more messages.\n",
        "\n",
        "sympy_galgebra: python3.4 -c \"import sympy; sympy.test('/galgebra')\" > /srv/log/test_output/sympy_galgebra.out 2>&1\n",
        "\n",
        "\tWaiting for 96 more messages.\n",
        "\n",
        "sympy_solvers: python3.4 -c \"import sympy; sympy.test('/solvers')\" > /srv/log/test_output/sympy_solvers.out 2>&1\n",
        "\n",
        "\tWaiting for 95 more messages.\n",
        "\n",
        "sympy_categories: python3.4 -c \"import sympy; sympy.test('/categories')\" > /srv/log/test_output/sympy_categories.out 2>&1\n",
        "\n",
        "\tWaiting for 94 more messages.\n",
        "\n",
        "sympy_functions: python3.4 -c \"import sympy; sympy.test('/functions')\" > /srv/log/test_output/sympy_functions.out 2>&1\n",
        "\n",
        "\tWaiting for 93 more messages.\n",
        "\n",
        "sympy_diffgeom: python3.4 -c \"import sympy; sympy.test('/diffgeom')\" > /srv/log/test_output/sympy_diffgeom.out 2>&1\n",
        "\n",
        "\tWaiting for 92 more messages.\n",
        "\n",
        "sympy_strategies: python3.4 -c \"import sympy; sympy.test('/strategies')\" > /srv/log/test_output/sympy_strategies.out 2>&1\n",
        "\n",
        "\tWaiting for 91 more messages.\n",
        "\n",
        "sympy_crypto: python3.4 -c \"import sympy; sympy.test('/crypto')\" > /srv/log/test_output/sympy_crypto.out 2>&1\n",
        "\n",
        "\tWaiting for 90 more messages.\n",
        "\n",
        "sympy_interactive: python3.4 -c \"import sympy; sympy.test('/interactive')\" > /srv/log/test_output/sympy_interactive.out 2>&1\n",
        "\n",
        "\tWaiting for 89 more messages.\n",
        "\n",
        "sympy_polys: python3.4 -c \"import sympy; sympy.test('/polys')\" > /srv/log/test_output/sympy_polys.out 2>&1\n",
        "\n",
        "\tWaiting for 88 more messages.\n",
        "\n",
        "sympy_stats: python3.4 -c \"import sympy; sympy.test('/stats')\" > /srv/log/test_output/sympy_stats.out 2>&1\n",
        "\n",
        "\tWaiting for 87 more messages.\n",
        "\n",
        "sympy_concrete: python3.4 -c \"import sympy; sympy.test('/concrete')\" > /srv/log/test_output/sympy_concrete.out 2>&1\n",
        "\n",
        "\tWaiting for 86 more messages.\n",
        "\n",
        "sympy_unify: python3.4 -c \"import sympy; sympy.test('/unify')\" > /srv/log/test_output/sympy_unify.out 2>&1\n",
        "\n",
        "\tWaiting for 85 more messages.\n",
        "\n",
        "sympy_core: python3.4 -c \"import sympy; sympy.test('/core')\" > /srv/log/test_output/sympy_core.out 2>&1\n",
        "\n",
        "\tWaiting for 84 more messages.\n",
        "\n",
        "sympy_combinatorics: python3.4 -c \"import sympy; sympy.test('/combinatorics')\" > /srv/log/test_output/sympy_combinatorics.out 2>&1\n",
        "\n",
        "\tWaiting for 83 more messages.\n",
        "\n",
        "sympy_simplify: python3.4 -c \"import sympy; sympy.test('/simplify')\" > /srv/log/test_output/sympy_simplify.out 2>&1\n",
        "\n",
        "\tWaiting for 82 more messages.\n",
        "\n",
        "sympy_assumptions: python3.4 -c \"import sympy; sympy.test('/assumptions')\" > /srv/log/test_output/sympy_assumptions.out 2>&1\n",
        "\n",
        "\tWaiting for 81 more messages.\n",
        "\n",
        "sympy_matrices: python3.4 -c \"import sympy; sympy.test('/matrices')\" > /srv/log/test_output/sympy_matrices.out 2>&1\n",
        "\n",
        "\tWaiting for 80 more messages.\n",
        "\n",
        "sympy_physics: python3.4 -c \"import sympy; sympy.test('/physics')\" > /srv/log/test_output/sympy_physics.out 2>&1\n",
        "\n",
        "\tWaiting for 79 more messages.\n",
        "\n",
        "sympy_geometry: python3.4 -c \"import sympy; sympy.test('/geometry')\" > /srv/log/test_output/sympy_geometry.out 2>&1\n",
        "\n",
        "\tWaiting for 78 more messages.\n",
        "\n",
        "sympy_liealgebras: python3.4 -c \"import sympy; sympy.test('/liealgebras')\" > /srv/log/test_output/sympy_liealgebras.out 2>&1\n",
        "\n",
        "\tWaiting for 77 more messages.\n",
        "\n",
        "sympy_tensor: python3.4 -c \"import sympy; sympy.test('/tensor')\" > /srv/log/test_output/sympy_tensor.out 2>&1\n",
        "\n",
        "\tWaiting for 76 more messages.\n",
        "\n",
        "sympy_parsing: python3.4 -c \"import sympy; sympy.test('/parsing')\" > /srv/log/test_output/sympy_parsing.out 2>&1\n",
        "\n",
        "\tWaiting for 75 more messages.\n",
        "\n",
        "pytables_types: Completed with status 0\n"
       ]
      },
      {
       "output_type": "stream",
       "stream": "stdout",
       "text": [
        "\n",
        "\tWaiting for 74 more messages.\n",
        "\n",
        "pytables_lists: Completed with status 0\n"
       ]
      },
      {
       "output_type": "stream",
       "stream": "stdout",
       "text": [
        "\n",
        "\tWaiting for 73 more messages.\n",
        "\n",
        "pytables_links: Completed with status 0\n"
       ]
      },
      {
       "output_type": "stream",
       "stream": "stdout",
       "text": [
        "\n",
        "\tWaiting for 72 more messages.\n",
        "\n",
        "pytables_timetype: Completed with status 0\n"
       ]
      },
      {
       "output_type": "stream",
       "stream": "stdout",
       "text": [
        "\n",
        "\tWaiting for 71 more messages.\n",
        "\n",
        "pytables_nestedtypes: Completed with status 0\n"
       ]
      },
      {
       "output_type": "stream",
       "stream": "stdout",
       "text": [
        "\n",
        "\tWaiting for 70 more messages.\n",
        "\n",
        "pytables_index_backcompat: Completed with status 0\n"
       ]
      },
      {
       "output_type": "stream",
       "stream": "stdout",
       "text": [
        "\n",
        "\tWaiting for 69 more messages.\n",
        "\n",
        "pytables_hdf5compat: Completed with status 0\n"
       ]
      },
      {
       "output_type": "stream",
       "stream": "stdout",
       "text": [
        "\n",
        "\tWaiting for 68 more messages.\n",
        "\n",
        "pytables_garbage: Completed with status 0\n"
       ]
      },
      {
       "output_type": "stream",
       "stream": "stdout",
       "text": [
        "\n",
        "\tWaiting for 67 more messages.\n",
        "\n",
        "pytables_numpy: Completed with status 0\n"
       ]
      },
      {
       "output_type": "stream",
       "stream": "stdout",
       "text": [
        "\n",
        "\tWaiting for 66 more messages.\n",
        "\n",
        "pytables_vlarray: Completed with status 0\n"
       ]
      },
      {
       "output_type": "stream",
       "stream": "stdout",
       "text": [
        "\n",
        "\tWaiting for 65 more messages.\n",
        "\n",
        "pytables_enum: Completed with status 0\n"
       ]
      },
      {
       "output_type": "stream",
       "stream": "stdout",
       "text": [
        "\n",
        "\tWaiting for 64 more messages.\n",
        "\n",
        "pytables_tablesMD: Completed with status 0\n"
       ]
      },
      {
       "output_type": "stream",
       "stream": "stdout",
       "text": [
        "\n",
        "\tWaiting for 63 more messages.\n",
        "\n",
        "pytables_do_undo: Completed with status 0\n"
       ]
      },
      {
       "output_type": "stream",
       "stream": "stdout",
       "text": [
        "\n",
        "\tWaiting for 62 more messages.\n"
       ]
      },
      {
       "output_type": "stream",
       "stream": "stdout",
       "text": [
        "\n",
        "pytables_earray: Completed with status 0\n"
       ]
      },
      {
       "output_type": "stream",
       "stream": "stdout",
       "text": [
        "\n",
        "\tWaiting for 61 more messages.\n",
        "\n",
        "pytables_carray: Completed with status 0\n"
       ]
      },
      {
       "output_type": "stream",
       "stream": "stdout",
       "text": [
        "\n",
        "\tWaiting for 60 more messages.\n",
        "\n",
        "pytables_backcompat: Completed with status 0\n"
       ]
      },
      {
       "output_type": "stream",
       "stream": "stdout",
       "text": [
        "\n",
        "\tWaiting for 59 more messages.\n",
        "\n",
        "pytables_attributes: Completed with status 0\n"
       ]
      },
      {
       "output_type": "stream",
       "stream": "stdout",
       "text": [
        "\n",
        "\tWaiting for 58 more messages.\n"
       ]
      },
      {
       "output_type": "stream",
       "stream": "stdout",
       "text": [
        "\n",
        "pytables_basics: Completed with status 0\n"
       ]
      },
      {
       "output_type": "stream",
       "stream": "stdout",
       "text": [
        "\n",
        "\tWaiting for 57 more messages.\n",
        "\n",
        "pytables_tree: Completed with status 0\n"
       ]
      },
      {
       "output_type": "stream",
       "stream": "stdout",
       "text": [
        "\n",
        "\tWaiting for 56 more messages.\n",
        "\n",
        "pytables_create: Completed with status 0\n"
       ]
      },
      {
       "output_type": "stream",
       "stream": "stdout",
       "text": [
        "\n",
        "\tWaiting for 55 more messages.\n",
        "\n",
        "pytables_tables: Completed with status 0\n"
       ]
      },
      {
       "output_type": "stream",
       "stream": "stdout",
       "text": [
        "\n",
        "\tWaiting for 54 more messages.\n",
        "\n",
        "pytables_array: Completed with status 0\n"
       ]
      },
      {
       "output_type": "stream",
       "stream": "stdout",
       "text": [
        "\n",
        "\tWaiting for 53 more messages.\n",
        "\n",
        "pytables_indexes: Completed with status 0\n"
       ]
      },
      {
       "output_type": "stream",
       "stream": "stdout",
       "text": [
        "\n",
        "\tWaiting for 52 more messages.\n",
        "\n",
        "numpy: Completed with status 0\n"
       ]
      },
      {
       "output_type": "stream",
       "stream": "stdout",
       "text": [
        "\n",
        "\tWaiting for 51 more messages.\n",
        "\n",
        "pytables_expression: Completed with status 0\n"
       ]
      },
      {
       "output_type": "stream",
       "stream": "stdout",
       "text": [
        "\n",
        "\tWaiting for 50 more messages.\n",
        "\n",
        "scipy: Completed with status 0\n"
       ]
      },
      {
       "output_type": "stream",
       "stream": "stdout",
       "text": [
        "\n",
        "\tWaiting for 49 more messages.\n",
        "\n",
        "pillow: Completed with status 0\n"
       ]
      },
      {
       "output_type": "stream",
       "stream": "stdout",
       "text": [
        "\n",
        "\tWaiting for 48 more messages.\n",
        "\n",
        "sklearn: Completed with status 0\n"
       ]
      },
      {
       "output_type": "stream",
       "stream": "stdout",
       "text": [
        "\n",
        "\tWaiting for 47 more messages.\n",
        "\n",
        "pandas: **** FAILED! Completed with status 1\n"
       ]
      },
      {
       "output_type": "stream",
       "stream": "stdout",
       "text": [
        "\n",
        "\tWaiting for 46 more messages.\n",
        "\n",
        "gensim: Completed with status 0\n"
       ]
      },
      {
       "output_type": "stream",
       "stream": "stdout",
       "text": [
        "\n",
        "\tWaiting for 45 more messages.\n",
        "\n",
        "bottleneck: Completed with status 0\n"
       ]
      },
      {
       "output_type": "stream",
       "stream": "stdout",
       "text": [
        "\n",
        "\tWaiting for 44 more messages.\n",
        "\n",
        "numexpr: Completed with status 0\n"
       ]
      }
     ]
    }
   ],
   "metadata": {}
  }
 ]
}