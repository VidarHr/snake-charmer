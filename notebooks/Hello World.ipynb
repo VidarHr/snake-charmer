{
 "metadata": {
  "name": "",
  "signature": "sha256:b385549ffbada96541e76ca5768491391e29f674ef8a86908276e3c39308fa79"
 },
 "nbformat": 3,
 "nbformat_minor": 0,
 "worksheets": [
  {
   "cells": [
    {
     "cell_type": "markdown",
     "metadata": {},
     "source": [
      "# Welcome to Snake Charmer"
     ]
    },
    {
     "cell_type": "markdown",
     "metadata": {},
     "source": [
      "## Run this for basic system information"
     ]
    },
    {
     "cell_type": "code",
     "collapsed": false,
     "input": [
      "import sys\n",
      "%load_ext rmagic\n",
      "%load_ext octavemagic\n",
      "print('Python version %s\\n' % (sys.version))\n",
      "!cat /proc/version; echo; cat /etc/*-release; echo; free -m; echo\n",
      "!echo -n \"Last Github \"; cat ~/notebooks/last_commit.txt; echo\n",
      "%R -o rVer rVer = R.version$version.string\n",
      "print(rVer[0])\n",
      "%octave disp(['Octave v' (v = ver())(1).Version]);"
     ],
     "language": "python",
     "metadata": {},
     "outputs": []
    },
    {
     "cell_type": "markdown",
     "metadata": {},
     "source": [
      "## Run this for a list of installed Python packages"
     ]
    },
    {
     "cell_type": "code",
     "collapsed": false,
     "input": [
      "# Same as \"pip list\" for current interpreter's pip. Std. library excluded.\n",
      "from pip.util import get_installed_distributions\n",
      "print('\\n'.join(str(x)\n",
      "                for x in sorted(get_installed_distributions(),\n",
      "                                key=lambda dist: dist.project_name.lower())))"
     ],
     "language": "python",
     "metadata": {},
     "outputs": []
    },
    {
     "cell_type": "markdown",
     "metadata": {},
     "source": [
      "## Run this for a list of installed Ubuntu packages"
     ]
    },
    {
     "cell_type": "code",
     "collapsed": false,
     "input": [
      "!dpkg -l"
     ],
     "language": "python",
     "metadata": {},
     "outputs": []
    },
    {
     "cell_type": "markdown",
     "metadata": {},
     "source": [
      "## Run this for a graph"
     ]
    },
    {
     "cell_type": "code",
     "collapsed": false,
     "input": [
      "import numpy as np\n",
      "import prettyplotlib as ppl\n",
      "np.random.seed(12)\n",
      "fig, ax = ppl.plt.subplots(1)\n",
      "ppl.hist(ax, np.random.randn(1000))"
     ],
     "language": "python",
     "metadata": {},
     "outputs": []
    }
   ],
   "metadata": {}
  }
 ]
}