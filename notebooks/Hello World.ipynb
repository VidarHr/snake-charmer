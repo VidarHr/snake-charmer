{
 "metadata": {
  "name": "",
  "signature": "sha256:01e41813e9b190ff30b6d27b0468f3c1069893b3a96e24d482cc4a0906c65a23"
 },
 "nbformat": 3,
 "nbformat_minor": 0,
 "worksheets": [
  {
   "cells": [
    {
     "cell_type": "markdown",
     "metadata": {},
     "source": [
      "# Welcome to Snake Charmer"
     ]
    },
    {
     "cell_type": "markdown",
     "metadata": {},
     "source": [
      "## Run this for basic system information"
     ]
    },
    {
     "cell_type": "code",
     "collapsed": false,
     "input": [
      "import sys\n",
      "print('Python version %s\\n' % (sys.version))\n",
      "!cat /proc/version; echo; cat /etc/*-release; echo; free -m; echo\n",
      "!echo -n \"Last Github \"; cd /vagrant; git log -n 1"
     ],
     "language": "python",
     "metadata": {},
     "outputs": []
    },
    {
     "cell_type": "markdown",
     "metadata": {},
     "source": [
      "## Run this for a list of installed Python packages"
     ]
    },
    {
     "cell_type": "code",
     "collapsed": false,
     "input": [
      "# Same as \"pip list\" for current interpreter's pip. Std. library excluded.\n",
      "from pip.util import get_installed_distributions\n",
      "print('\\n'.join(str(x)\n",
      "                for x in sorted(get_installed_distributions(),\n",
      "                                key=lambda dist: dist.project_name.lower())))"
     ],
     "language": "python",
     "metadata": {},
     "outputs": []
    },
    {
     "cell_type": "markdown",
     "metadata": {},
     "source": [
      "## Run this for a list of installed Ubuntu packages"
     ]
    },
    {
     "cell_type": "code",
     "collapsed": false,
     "input": [
      "!dpkg -l"
     ],
     "language": "python",
     "metadata": {},
     "outputs": []
    },
    {
     "cell_type": "markdown",
     "metadata": {},
     "source": [
      "## Run this for a graph"
     ]
    },
    {
     "cell_type": "code",
     "collapsed": false,
     "input": [
      "np.random.seed(12)\n",
      "fig, ax = plt.subplots(1)\n",
      "ppl.hist(ax, np.random.randn(1000))"
     ],
     "language": "python",
     "metadata": {},
     "outputs": []
    }
   ],
   "metadata": {}
  }
 ]
}