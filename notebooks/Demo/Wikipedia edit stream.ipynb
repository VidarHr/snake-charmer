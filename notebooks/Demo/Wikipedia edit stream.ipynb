{
 "metadata": {
  "name": "",
  "signature": "sha256:f7b6844a5a5b2f145a6ebd06fbf9fa33b2b8013a21c1c949cbc48741f565f34a"
 },
 "nbformat": 3,
 "nbformat_minor": 0,
 "worksheets": [
  {
   "cells": [
    {
     "cell_type": "markdown",
     "metadata": {},
     "source": [
      "# Wikipedia edit stream demo\n",
      "\n",
      "A demo of [Snake Charmer](https://github.com/snake-charmer-devs/snake-charmer), originally presented at a [PyData London meetup](http://www.meetup.com/PyData-London-Meetup/) in August 2014, showing:\n",
      "\n",
      "* Reading data from a [WebSockets](https://www.websocket.org/) stream in real time, in a background thread\n",
      "* Pulling this data into [Pandas](http://pandas.pydata.org/) for analysis and visualization\n",
      "* Training a [Vowpal Wabbit](https://github.com/JohnLangford/vowpal_wabbit) language classifier on this stream, in real time\n",
      "* Visualizing the classifier's behaviour using [Matplotlib](http://matplotlib.org/) and [D3](http://d3js.org/)\n",
      "\n",
      "The demo is designed to be run using Snake Charmer [release a18945d](https://github.com/snake-charmer-devs/snake-charmer/tree/b86184ecd92cd785b443163f6ecef4366548f591) or later.\n",
      "\n",
      "Wikipedia streaming is powered by the `wikipedia_updates` function, which is based on the [stream.py](https://github.com/edsu/wikistream/blob/master/stream.py) script provided with [edsu/wikistream](https://github.com/edsu/wikistream)."
     ]
    },
    {
     "cell_type": "code",
     "collapsed": false,
     "input": [
      "import re\n",
      "import json\n",
      "import time\n",
      "import threading\n",
      "\n",
      "from collections import defaultdict, Counter\n",
      "from itertools import chain\n",
      "from requests import post, get\n",
      "from math import sqrt\n",
      "\n",
      "from wabbit_wappa import VW, Namespace\n",
      "\n",
      "import numpy as np\n",
      "\n",
      "import pandas as pd\n",
      "pd.options.display.mpl_style = 'default'\n",
      "\n",
      "import seaborn as sb\n",
      "import matplotlib.pylab as pylab\n",
      "import matplotlib.pyplot as plt\n",
      "pylab.rcParams['figure.figsize'] = (12.0, 8.0)\n",
      "pylab.rcParams['font.family'] = 'Bitstream Vera Sans'"
     ],
     "language": "python",
     "metadata": {},
     "outputs": [],
     "prompt_number": 1
    },
    {
     "cell_type": "markdown",
     "metadata": {},
     "source": [
      "## wikipedia_updates\n",
      "\n",
      "This function talks to the `wikistream` server, which provides push notifications of Wikipedia edits via [Socket.io](http://socket.io/).\n",
      "\n",
      "Call it with a callback function of your own devising, that takes a single argument. Every time a Wikipedia edit occurs, your callback will be called, with a dict containing the details of the edit, e.g.:\n",
      "\n",
      "```\n",
      "{'flag': '',\n",
      " 'namespace': 'article',\n",
      " 'userUrl': 'http://en.wikipedia.org/wiki/User:137.44.83.167',\n",
      " 'url': 'http://en.wikipedia.org/w/index.php?diff=619400522&oldid=618259633',\n",
      " 'wikipediaLong': 'English Wikipedia',\n",
      " 'wikipediaShort': 'en',\n",
      " 'user': '137.44.83.167',\n",
      " 'comment': '',\n",
      " 'newPage': False,\n",
      " 'pageUrl': 'http://en.wikipedia.org/wiki/Battle_of_Trafalgar',\n",
      " 'unpatrolled': False,\n",
      " 'robot': False,\n",
      " 'anonymous': True,\n",
      " 'delta': 2,\n",
      " 'channel': '#en.wikipedia',\n",
      " 'wikipediaUrl': 'http://en.wikipedia.org',\n",
      " 'wikipedia': 'English Wikipedia',\n",
      " 'page': 'Battle of Trafalgar'}\n",
      "```\n",
      "\n",
      "Your callback should return `True` if it wants to keep receiving edits, or `False` to stop."
     ]
    },
    {
     "cell_type": "code",
     "collapsed": false,
     "input": [
      "def wikipedia_updates(callback):\n",
      "    endpoint = \"http://wikistream.inkdroid.org/socket.io/1\"\n",
      "    session_id = post(endpoint).content.decode('utf-8').split(':')[0]\n",
      "    xhr_endpoint = \"/\".join((endpoint, \"xhr-polling\", session_id))\n",
      "\n",
      "    while True:\n",
      "        t = time.time() * 1000000\n",
      "        response = get(xhr_endpoint, params={'t': t}).content.decode('utf-8')\n",
      "\n",
      "        chunks = re.split(u'\\ufffd[0-9]+\\ufffd', response)\n",
      "        for chunk in chunks:\n",
      "            parts = chunk.split(':', 3)\n",
      "            if len(parts) == 4:\n",
      "                try:\n",
      "                    payload = json.loads(parts[3])['args'][0]\n",
      "                except:\n",
      "                    raise ValueError('Received non-json data: ' + chunk)\n",
      "                if not callback(payload):\n",
      "                    return"
     ],
     "language": "python",
     "metadata": {},
     "outputs": [],
     "prompt_number": 2
    },
    {
     "cell_type": "markdown",
     "metadata": {},
     "source": [
      "## Watching stream activity in real time\n",
      "\n",
      "This is a callback function that collects the edits into a list called `edits`, for offline analysis later. It runs until `max_edits` edits have been received.\n",
      "\n",
      "A `timestamp` field is added to each edit, as they don't have this by default.\n",
      "\n",
      "Run this cell to start gathering the data in the background.\n",
      "\n",
      "### Note\n",
      "\n",
      "If at any point you get an error message about non-json data, wait a few seconds, then restart the IPython kernel and retry from the first cell. This seems to be an intermittent problem with the server -- or possibly the requests library?"
     ]
    },
    {
     "cell_type": "code",
     "collapsed": false,
     "input": [
      "max_edits = 500\n",
      "edits = []\n",
      "\n",
      "def simple_callback(edit):\n",
      "    edit['timestamp'] = time.time()\n",
      "    edits.append(edit)\n",
      "    return len(edits) < max_edits\n",
      "\n",
      "thr = threading.Thread(target=wikipedia_updates, args=(simple_callback,))\n",
      "thr.start()"
     ],
     "language": "python",
     "metadata": {},
     "outputs": [],
     "prompt_number": 3
    },
    {
     "cell_type": "markdown",
     "metadata": {},
     "source": [
      "We can watch the data as it arrives. Run the following cell repeatedly, until it tells you it has finished."
     ]
    },
    {
     "cell_type": "code",
     "collapsed": false,
     "input": [
      "reg = re.compile(r'^.*wiki/(.*)')\n",
      "\n",
      "c = len(edits)\n",
      "n = min(5, c)\n",
      "print('Last %d of %d edits...\\n' % (n, c))\n",
      "for edit in edits[-n:]:\n",
      "    wiki_name = edit['wikipediaLong']\n",
      "    page_name = reg.match(edit['pageUrl']).group(1)\n",
      "    comment = edit['comment']\n",
      "    print('\\t'.join((wiki_name, page_name, comment)), '\\n', flush=True)\n",
      "if c == max_edits:\n",
      "    print('Done.\\n')\n",
      "else:\n",
      "    print('Still streaming.\\n')"
     ],
     "language": "python",
     "metadata": {},
     "outputs": [
      {
       "output_type": "stream",
       "stream": "stdout",
       "text": [
        "Last 5 of 500 edits...\n",
        "\n",
        "Wikidata\tQ5537909\t/* wbcreateclaim-create:1| */ [[Property:P69]]: [[Q3760670]] \n",
        "\n"
       ]
      },
      {
       "output_type": "stream",
       "stream": "stdout",
       "text": [
        "Wikidata\tQ2696784\t/* wbsetsitelink-add:1|fawiki */ Bot: Importing article from Persian Wikipedia \n",
        "\n"
       ]
      },
      {
       "output_type": "stream",
       "stream": "stdout",
       "text": [
        "Polish Wikipedia\tDyskusja:Jan_Manuel_(ksi\u0105\u017c\u0119_Portugalii)\t[[Dyskusja:Jan Manuel (ksi\u0105\u017c\u0119 Portugalii)|\u2192]] Robot zg\u0142asza niedost\u0119pny link zewn\u0119trzny \n",
        "\n"
       ]
      },
      {
       "output_type": "stream",
       "stream": "stdout",
       "text": [
        "German Wikipedia\tSpezial:Log/delete\tdeleted \"[[\u000302Datei:ASAC Concorde.png\u000310]]\": [[Wikipedia:Urheberrechte beachten|Urheberrechtsverletzung]] (keine [[WP:TV|Freigabe]] ersichtlich) \n",
        "\n"
       ]
      },
      {
       "output_type": "stream",
       "stream": "stdout",
       "text": [
        "Wikimedia Commons\tFile:2014_US_Open_(Tennis)_-_Qualifying_Rounds_-_Jan_Mertl_(14826129637).jpg\t[[Help:Cat-a-lot|Cat-a-lot]]: Moving from [[Category:2014 US Open (tennis)]] to [[Category:2014 US Open (tennis) Qualifying Tournament]] \n",
        "\n"
       ]
      },
      {
       "output_type": "stream",
       "stream": "stdout",
       "text": [
        "Done.\n",
        "\n"
       ]
      }
     ],
     "prompt_number": 16
    },
    {
     "cell_type": "code",
     "collapsed": false,
     "input": [
      "# Save this data -- backup in case of problems when giving demo\n",
      "# with open('edits.json', 'w') as f:\n",
      "#    json.dump(edits, f)"
     ],
     "language": "python",
     "metadata": {},
     "outputs": []
    },
    {
     "cell_type": "code",
     "collapsed": false,
     "input": [
      "# Save this data -- backup in case of problems when giving demo\n",
      "#with open('edits.json') as f:\n",
      "#    edits = json.load(f)"
     ],
     "language": "python",
     "metadata": {},
     "outputs": []
    },
    {
     "cell_type": "markdown",
     "metadata": {},
     "source": [
      "## Import into pandas\n",
      "\n",
      "Let's add all these edits into a `DataFrame` to make them easier to work with."
     ]
    },
    {
     "cell_type": "code",
     "collapsed": false,
     "input": [
      "df = pd.DataFrame(edits)\n",
      "df['timestamp'] = pd.to_datetime(df['timestamp'], unit='s')\n",
      "df.head()"
     ],
     "language": "python",
     "metadata": {},
     "outputs": [
      {
       "html": [
        "<div style=\"max-height:1000px;max-width:1500px;overflow:auto;\">\n",
        "<table border=\"1\" class=\"dataframe\">\n",
        "  <thead>\n",
        "    <tr style=\"text-align: right;\">\n",
        "      <th></th>\n",
        "      <th>anonymous</th>\n",
        "      <th>channel</th>\n",
        "      <th>comment</th>\n",
        "      <th>delta</th>\n",
        "      <th>flag</th>\n",
        "      <th>namespace</th>\n",
        "      <th>newPage</th>\n",
        "      <th>page</th>\n",
        "      <th>pageUrl</th>\n",
        "      <th>robot</th>\n",
        "      <th>timestamp</th>\n",
        "      <th>unpatrolled</th>\n",
        "      <th>url</th>\n",
        "      <th>user</th>\n",
        "      <th>userUrl</th>\n",
        "      <th>wikipedia</th>\n",
        "      <th>wikipediaLong</th>\n",
        "      <th>wikipediaShort</th>\n",
        "      <th>wikipediaUrl</th>\n",
        "    </tr>\n",
        "  </thead>\n",
        "  <tbody>\n",
        "    <tr>\n",
        "      <th>0</th>\n",
        "      <td> False</td>\n",
        "      <td>       #en.wikipedia</td>\n",
        "      <td>                               /* Current squad */</td>\n",
        "      <td>-118</td>\n",
        "      <td>  </td>\n",
        "      <td> article</td>\n",
        "      <td> False</td>\n",
        "      <td>              FC Neftekhimik Nizhnekamsk</td>\n",
        "      <td> http://en.wikipedia.org/wiki/FC_Neftekhimik_Ni...</td>\n",
        "      <td> False</td>\n",
        "      <td>2014-08-30 20:40:57.503277</td>\n",
        "      <td> False</td>\n",
        "      <td> http://en.wikipedia.org/w/index.php?diff=62348...</td>\n",
        "      <td>     Geregen2</td>\n",
        "      <td>     http://en.wikipedia.org/wiki/User:Geregen2</td>\n",
        "      <td> English Wikipedia</td>\n",
        "      <td> English Wikipedia</td>\n",
        "      <td> en</td>\n",
        "      <td> http://en.wikipedia.org</td>\n",
        "    </tr>\n",
        "    <tr>\n",
        "      <th>1</th>\n",
        "      <td>  True</td>\n",
        "      <td>       #es.wikipedia</td>\n",
        "      <td>                          /* M\u00e1ximos goleadores */</td>\n",
        "      <td>  65</td>\n",
        "      <td>  </td>\n",
        "      <td> article</td>\n",
        "      <td> False</td>\n",
        "      <td>      Primera Divisi\u00f3n de Espa\u00f1a 1929/30</td>\n",
        "      <td> http://es.wikipedia.org/wiki/Primera_Divisi\u00f3n_...</td>\n",
        "      <td> False</td>\n",
        "      <td>2014-08-30 20:40:57.503299</td>\n",
        "      <td> False</td>\n",
        "      <td> http://es.wikipedia.org/w/index.php?diff=76681...</td>\n",
        "      <td> 186.129.7.37</td>\n",
        "      <td> http://es.wikipedia.org/wiki/User:186.129.7.37</td>\n",
        "      <td> Spanish Wikipedia</td>\n",
        "      <td> Spanish Wikipedia</td>\n",
        "      <td> es</td>\n",
        "      <td> http://es.wikipedia.org</td>\n",
        "    </tr>\n",
        "    <tr>\n",
        "      <th>2</th>\n",
        "      <td> False</td>\n",
        "      <td>       #en.wikipedia</td>\n",
        "      <td> added [[Category:Year of birth missing (living...</td>\n",
        "      <td>  51</td>\n",
        "      <td>  </td>\n",
        "      <td> article</td>\n",
        "      <td> False</td>\n",
        "      <td>                             Zoe Shipton</td>\n",
        "      <td>          http://en.wikipedia.org/wiki/Zoe_Shipton</td>\n",
        "      <td> False</td>\n",
        "      <td>2014-08-30 20:40:57.760354</td>\n",
        "      <td> False</td>\n",
        "      <td> http://en.wikipedia.org/w/index.php?diff=62348...</td>\n",
        "      <td>        Wgolf</td>\n",
        "      <td>        http://en.wikipedia.org/wiki/User:Wgolf</td>\n",
        "      <td> English Wikipedia</td>\n",
        "      <td> English Wikipedia</td>\n",
        "      <td> en</td>\n",
        "      <td> http://en.wikipedia.org</td>\n",
        "    </tr>\n",
        "    <tr>\n",
        "      <th>3</th>\n",
        "      <td> False</td>\n",
        "      <td> #wikidata.wikipedia</td>\n",
        "      <td> /* wbcreateclaim-create:1| */ [[Property:P69]]...</td>\n",
        "      <td> 389</td>\n",
        "      <td>  </td>\n",
        "      <td> article</td>\n",
        "      <td> False</td>\n",
        "      <td>                                Q5386021</td>\n",
        "      <td>                 http://wikidata.org/wiki/Q5386021</td>\n",
        "      <td> False</td>\n",
        "      <td>2014-08-30 20:40:57.760379</td>\n",
        "      <td> False</td>\n",
        "      <td> http://www.wikidata.org/w/index.php?diff=15444...</td>\n",
        "      <td>      GerardM</td>\n",
        "      <td>          http://wikidata.org/wiki/User:GerardM</td>\n",
        "      <td>          Wikidata</td>\n",
        "      <td>          Wikidata</td>\n",
        "      <td> wd</td>\n",
        "      <td>     http://wikidata.org</td>\n",
        "    </tr>\n",
        "    <tr>\n",
        "      <th>4</th>\n",
        "      <td> False</td>\n",
        "      <td>       #en.wikipedia</td>\n",
        "      <td> most recent results, added 4, removed 6, total 52</td>\n",
        "      <td>-642</td>\n",
        "      <td> B</td>\n",
        "      <td>    user</td>\n",
        "      <td> False</td>\n",
        "      <td> User:AlexNewArtBot/MalaysiaSearchResult</td>\n",
        "      <td> http://en.wikipedia.org/wiki/User:AlexNewArtBo...</td>\n",
        "      <td>  True</td>\n",
        "      <td>2014-08-30 20:40:57.997191</td>\n",
        "      <td> False</td>\n",
        "      <td> http://en.wikipedia.org/w/index.php?diff=62348...</td>\n",
        "      <td> InceptionBot</td>\n",
        "      <td> http://en.wikipedia.org/wiki/User:InceptionBot</td>\n",
        "      <td> English Wikipedia</td>\n",
        "      <td> English Wikipedia</td>\n",
        "      <td> en</td>\n",
        "      <td> http://en.wikipedia.org</td>\n",
        "    </tr>\n",
        "  </tbody>\n",
        "</table>\n",
        "</div>"
       ],
       "metadata": {},
       "output_type": "pyout",
       "prompt_number": 17,
       "text": [
        "  anonymous              channel  \\\n",
        "0     False        #en.wikipedia   \n",
        "1      True        #es.wikipedia   \n",
        "2     False        #en.wikipedia   \n",
        "3     False  #wikidata.wikipedia   \n",
        "4     False        #en.wikipedia   \n",
        "\n",
        "                                             comment  delta flag namespace  \\\n",
        "0                                /* Current squad */   -118        article   \n",
        "1                           /* M\u00e1ximos goleadores */     65        article   \n",
        "2  added [[Category:Year of birth missing (living...     51        article   \n",
        "3  /* wbcreateclaim-create:1| */ [[Property:P69]]...    389        article   \n",
        "4  most recent results, added 4, removed 6, total 52   -642    B      user   \n",
        "\n",
        "  newPage                                     page  \\\n",
        "0   False               FC Neftekhimik Nizhnekamsk   \n",
        "1   False       Primera Divisi\u00f3n de Espa\u00f1a 1929/30   \n",
        "2   False                              Zoe Shipton   \n",
        "3   False                                 Q5386021   \n",
        "4   False  User:AlexNewArtBot/MalaysiaSearchResult   \n",
        "\n",
        "                                             pageUrl  robot  \\\n",
        "0  http://en.wikipedia.org/wiki/FC_Neftekhimik_Ni...  False   \n",
        "1  http://es.wikipedia.org/wiki/Primera_Divisi\u00f3n_...  False   \n",
        "2           http://en.wikipedia.org/wiki/Zoe_Shipton  False   \n",
        "3                  http://wikidata.org/wiki/Q5386021  False   \n",
        "4  http://en.wikipedia.org/wiki/User:AlexNewArtBo...   True   \n",
        "\n",
        "                   timestamp unpatrolled  \\\n",
        "0 2014-08-30 20:40:57.503277       False   \n",
        "1 2014-08-30 20:40:57.503299       False   \n",
        "2 2014-08-30 20:40:57.760354       False   \n",
        "3 2014-08-30 20:40:57.760379       False   \n",
        "4 2014-08-30 20:40:57.997191       False   \n",
        "\n",
        "                                                 url          user  \\\n",
        "0  http://en.wikipedia.org/w/index.php?diff=62348...      Geregen2   \n",
        "1  http://es.wikipedia.org/w/index.php?diff=76681...  186.129.7.37   \n",
        "2  http://en.wikipedia.org/w/index.php?diff=62348...         Wgolf   \n",
        "3  http://www.wikidata.org/w/index.php?diff=15444...       GerardM   \n",
        "4  http://en.wikipedia.org/w/index.php?diff=62348...  InceptionBot   \n",
        "\n",
        "                                          userUrl          wikipedia  \\\n",
        "0      http://en.wikipedia.org/wiki/User:Geregen2  English Wikipedia   \n",
        "1  http://es.wikipedia.org/wiki/User:186.129.7.37  Spanish Wikipedia   \n",
        "2         http://en.wikipedia.org/wiki/User:Wgolf  English Wikipedia   \n",
        "3           http://wikidata.org/wiki/User:GerardM           Wikidata   \n",
        "4  http://en.wikipedia.org/wiki/User:InceptionBot  English Wikipedia   \n",
        "\n",
        "       wikipediaLong wikipediaShort             wikipediaUrl  \n",
        "0  English Wikipedia             en  http://en.wikipedia.org  \n",
        "1  Spanish Wikipedia             es  http://es.wikipedia.org  \n",
        "2  English Wikipedia             en  http://en.wikipedia.org  \n",
        "3           Wikidata             wd      http://wikidata.org  \n",
        "4  English Wikipedia             en  http://en.wikipedia.org  "
       ]
      }
     ],
     "prompt_number": 17
    },
    {
     "cell_type": "markdown",
     "metadata": {},
     "source": [
      "## Visualizing the total number of edits in each wiki\n",
      "\n",
      "This is a one-liner in pandas!"
     ]
    },
    {
     "cell_type": "code",
     "collapsed": false,
     "input": [
      "p = df.wikipedia.value_counts().plot(kind='barh')"
     ],
     "language": "python",
     "metadata": {},
     "outputs": [
      {
       "metadata": {},
       "output_type": "display_data",
       "png": "[encoded data removed]",
       "text": [
        "<matplotlib.figure.Figure at 0x7faae2021208>"
       ]
      }
     ],
     "prompt_number": 18
    },
    {
     "cell_type": "markdown",
     "metadata": {},
     "source": [
      "## Checking and filtering bot activity\n",
      "\n",
      "Wikidata is very busy -- is it all bots?"
     ]
    },
    {
     "cell_type": "code",
     "collapsed": false,
     "input": [
      "df[df.wikipediaShort=='wd'].robot.value_counts()"
     ],
     "language": "python",
     "metadata": {},
     "outputs": [
      {
       "metadata": {},
       "output_type": "pyout",
       "prompt_number": 20,
       "text": [
        "True     56\n",
        "False    43\n",
        "dtype: int64"
       ]
      }
     ],
     "prompt_number": 20
    },
    {
     "cell_type": "markdown",
     "metadata": {},
     "source": [
      "## Time series analysis\n",
      "\n",
      "To make time series analysis easier, let's turn the raw edits into counts per second.\n",
      "\n",
      "We can use a bit of a trick here. Pivot the dataframe, keeping the timestamp as the index, making the wiki short names the new columns, and the value of the `delta` field for the cells. **What is delta?** That doesn't actually matter! We'll see why, shortly.\n",
      "\n",
      "### Usage note\n",
      "\n",
      "The following cell originally used\n",
      "\n",
      "```\n",
      "pivot(index='timestamp',\n",
      "      columns='wikipediaShort',\n",
      "      values='delta')\n",
      "```\n",
      "\n",
      "but this doesn't allow duplicates in the field to be used as the index. So if you're unlucky enough to get two edits in the same microsecond, it'll fail.\n",
      "\n",
      "`pivot_table`, however, handles these properly."
     ]
    },
    {
     "cell_type": "code",
     "collapsed": false,
     "input": [
      "ts = pd.pivot_table(df, values='delta', index='timestamp', columns='wikipediaShort')\n",
      "ts.head()"
     ],
     "language": "python",
     "metadata": {},
     "outputs": [
      {
       "html": [
        "<div style=\"max-height:1000px;max-width:1500px;overflow:auto;\">\n",
        "<table border=\"1\" class=\"dataframe\">\n",
        "  <thead>\n",
        "    <tr style=\"text-align: right;\">\n",
        "      <th>wikipediaShort</th>\n",
        "      <th>ar</th>\n",
        "      <th>bg</th>\n",
        "      <th>co</th>\n",
        "      <th>de</th>\n",
        "      <th>el</th>\n",
        "      <th>en</th>\n",
        "      <th>eo</th>\n",
        "      <th>es</th>\n",
        "      <th>fa</th>\n",
        "      <th>fr</th>\n",
        "      <th>...</th>\n",
        "      <th>nl</th>\n",
        "      <th>pl</th>\n",
        "      <th>pt</th>\n",
        "      <th>ro</th>\n",
        "      <th>ru</th>\n",
        "      <th>sv</th>\n",
        "      <th>tr</th>\n",
        "      <th>uk</th>\n",
        "      <th>wd</th>\n",
        "      <th>zh</th>\n",
        "    </tr>\n",
        "    <tr>\n",
        "      <th>timestamp</th>\n",
        "      <th></th>\n",
        "      <th></th>\n",
        "      <th></th>\n",
        "      <th></th>\n",
        "      <th></th>\n",
        "      <th></th>\n",
        "      <th></th>\n",
        "      <th></th>\n",
        "      <th></th>\n",
        "      <th></th>\n",
        "      <th></th>\n",
        "      <th></th>\n",
        "      <th></th>\n",
        "      <th></th>\n",
        "      <th></th>\n",
        "      <th></th>\n",
        "      <th></th>\n",
        "      <th></th>\n",
        "      <th></th>\n",
        "      <th></th>\n",
        "      <th></th>\n",
        "    </tr>\n",
        "  </thead>\n",
        "  <tbody>\n",
        "    <tr>\n",
        "      <th>2014-08-30 20:40:57.503277</th>\n",
        "      <td>NaN</td>\n",
        "      <td>NaN</td>\n",
        "      <td>NaN</td>\n",
        "      <td>NaN</td>\n",
        "      <td>NaN</td>\n",
        "      <td>-118</td>\n",
        "      <td>NaN</td>\n",
        "      <td>NaN</td>\n",
        "      <td>NaN</td>\n",
        "      <td>NaN</td>\n",
        "      <td>...</td>\n",
        "      <td>NaN</td>\n",
        "      <td>NaN</td>\n",
        "      <td>NaN</td>\n",
        "      <td>NaN</td>\n",
        "      <td>NaN</td>\n",
        "      <td>NaN</td>\n",
        "      <td>NaN</td>\n",
        "      <td>NaN</td>\n",
        "      <td> NaN</td>\n",
        "      <td>NaN</td>\n",
        "    </tr>\n",
        "    <tr>\n",
        "      <th>2014-08-30 20:40:57.503299</th>\n",
        "      <td>NaN</td>\n",
        "      <td>NaN</td>\n",
        "      <td>NaN</td>\n",
        "      <td>NaN</td>\n",
        "      <td>NaN</td>\n",
        "      <td> NaN</td>\n",
        "      <td>NaN</td>\n",
        "      <td> 65</td>\n",
        "      <td>NaN</td>\n",
        "      <td>NaN</td>\n",
        "      <td>...</td>\n",
        "      <td>NaN</td>\n",
        "      <td>NaN</td>\n",
        "      <td>NaN</td>\n",
        "      <td>NaN</td>\n",
        "      <td>NaN</td>\n",
        "      <td>NaN</td>\n",
        "      <td>NaN</td>\n",
        "      <td>NaN</td>\n",
        "      <td> NaN</td>\n",
        "      <td>NaN</td>\n",
        "    </tr>\n",
        "    <tr>\n",
        "      <th>2014-08-30 20:40:57.760354</th>\n",
        "      <td>NaN</td>\n",
        "      <td>NaN</td>\n",
        "      <td>NaN</td>\n",
        "      <td>NaN</td>\n",
        "      <td>NaN</td>\n",
        "      <td>  51</td>\n",
        "      <td>NaN</td>\n",
        "      <td>NaN</td>\n",
        "      <td>NaN</td>\n",
        "      <td>NaN</td>\n",
        "      <td>...</td>\n",
        "      <td>NaN</td>\n",
        "      <td>NaN</td>\n",
        "      <td>NaN</td>\n",
        "      <td>NaN</td>\n",
        "      <td>NaN</td>\n",
        "      <td>NaN</td>\n",
        "      <td>NaN</td>\n",
        "      <td>NaN</td>\n",
        "      <td> NaN</td>\n",
        "      <td>NaN</td>\n",
        "    </tr>\n",
        "    <tr>\n",
        "      <th>2014-08-30 20:40:57.760379</th>\n",
        "      <td>NaN</td>\n",
        "      <td>NaN</td>\n",
        "      <td>NaN</td>\n",
        "      <td>NaN</td>\n",
        "      <td>NaN</td>\n",
        "      <td> NaN</td>\n",
        "      <td>NaN</td>\n",
        "      <td>NaN</td>\n",
        "      <td>NaN</td>\n",
        "      <td>NaN</td>\n",
        "      <td>...</td>\n",
        "      <td>NaN</td>\n",
        "      <td>NaN</td>\n",
        "      <td>NaN</td>\n",
        "      <td>NaN</td>\n",
        "      <td>NaN</td>\n",
        "      <td>NaN</td>\n",
        "      <td>NaN</td>\n",
        "      <td>NaN</td>\n",
        "      <td> 389</td>\n",
        "      <td>NaN</td>\n",
        "    </tr>\n",
        "    <tr>\n",
        "      <th>2014-08-30 20:40:57.997191</th>\n",
        "      <td>NaN</td>\n",
        "      <td>NaN</td>\n",
        "      <td>NaN</td>\n",
        "      <td>NaN</td>\n",
        "      <td>NaN</td>\n",
        "      <td>-642</td>\n",
        "      <td>NaN</td>\n",
        "      <td>NaN</td>\n",
        "      <td>NaN</td>\n",
        "      <td>NaN</td>\n",
        "      <td>...</td>\n",
        "      <td>NaN</td>\n",
        "      <td>NaN</td>\n",
        "      <td>NaN</td>\n",
        "      <td>NaN</td>\n",
        "      <td>NaN</td>\n",
        "      <td>NaN</td>\n",
        "      <td>NaN</td>\n",
        "      <td>NaN</td>\n",
        "      <td> NaN</td>\n",
        "      <td>NaN</td>\n",
        "    </tr>\n",
        "  </tbody>\n",
        "</table>\n",
        "<p>5 rows \u00d7 25 columns</p>\n",
        "</div>"
       ],
       "metadata": {},
       "output_type": "pyout",
       "prompt_number": 21,
       "text": [
        "wikipediaShort              ar  bg  co  de  el   en  eo  es  fa  fr ...  nl  \\\n",
        "timestamp                                                           ...       \n",
        "2014-08-30 20:40:57.503277 NaN NaN NaN NaN NaN -118 NaN NaN NaN NaN ... NaN   \n",
        "2014-08-30 20:40:57.503299 NaN NaN NaN NaN NaN  NaN NaN  65 NaN NaN ... NaN   \n",
        "2014-08-30 20:40:57.760354 NaN NaN NaN NaN NaN   51 NaN NaN NaN NaN ... NaN   \n",
        "2014-08-30 20:40:57.760379 NaN NaN NaN NaN NaN  NaN NaN NaN NaN NaN ... NaN   \n",
        "2014-08-30 20:40:57.997191 NaN NaN NaN NaN NaN -642 NaN NaN NaN NaN ... NaN   \n",
        "\n",
        "wikipediaShort              pl  pt  ro  ru  sv  tr  uk   wd  zh  \n",
        "timestamp                                                        \n",
        "2014-08-30 20:40:57.503277 NaN NaN NaN NaN NaN NaN NaN  NaN NaN  \n",
        "2014-08-30 20:40:57.503299 NaN NaN NaN NaN NaN NaN NaN  NaN NaN  \n",
        "2014-08-30 20:40:57.760354 NaN NaN NaN NaN NaN NaN NaN  NaN NaN  \n",
        "2014-08-30 20:40:57.760379 NaN NaN NaN NaN NaN NaN NaN  389 NaN  \n",
        "2014-08-30 20:40:57.997191 NaN NaN NaN NaN NaN NaN NaN  NaN NaN  \n",
        "\n",
        "[5 rows x 25 columns]"
       ]
      }
     ],
     "prompt_number": 21
    },
    {
     "cell_type": "markdown",
     "metadata": {},
     "source": [
      "Then, by resampling the time series to second resolution, and applying the `count` aggregate, we get edits-per-second.\n",
      "\n",
      "We used the `delta` field as the value to be placed into each cell, not because we care about delta, but because the `resample` method only works on numerics. "
     ]
    },
    {
     "cell_type": "code",
     "collapsed": false,
     "input": [
      "sec_counts = ts.resample('s', how='count')\n",
      "sec_counts.head()"
     ],
     "language": "python",
     "metadata": {},
     "outputs": [
      {
       "html": [
        "<div style=\"max-height:1000px;max-width:1500px;overflow:auto;\">\n",
        "<table border=\"1\" class=\"dataframe\">\n",
        "  <thead>\n",
        "    <tr style=\"text-align: right;\">\n",
        "      <th>wikipediaShort</th>\n",
        "      <th>ar</th>\n",
        "      <th>bg</th>\n",
        "      <th>co</th>\n",
        "      <th>de</th>\n",
        "      <th>el</th>\n",
        "      <th>en</th>\n",
        "      <th>eo</th>\n",
        "      <th>es</th>\n",
        "      <th>fa</th>\n",
        "      <th>fr</th>\n",
        "      <th>...</th>\n",
        "      <th>nl</th>\n",
        "      <th>pl</th>\n",
        "      <th>pt</th>\n",
        "      <th>ro</th>\n",
        "      <th>ru</th>\n",
        "      <th>sv</th>\n",
        "      <th>tr</th>\n",
        "      <th>uk</th>\n",
        "      <th>wd</th>\n",
        "      <th>zh</th>\n",
        "    </tr>\n",
        "    <tr>\n",
        "      <th>timestamp</th>\n",
        "      <th></th>\n",
        "      <th></th>\n",
        "      <th></th>\n",
        "      <th></th>\n",
        "      <th></th>\n",
        "      <th></th>\n",
        "      <th></th>\n",
        "      <th></th>\n",
        "      <th></th>\n",
        "      <th></th>\n",
        "      <th></th>\n",
        "      <th></th>\n",
        "      <th></th>\n",
        "      <th></th>\n",
        "      <th></th>\n",
        "      <th></th>\n",
        "      <th></th>\n",
        "      <th></th>\n",
        "      <th></th>\n",
        "      <th></th>\n",
        "      <th></th>\n",
        "    </tr>\n",
        "  </thead>\n",
        "  <tbody>\n",
        "    <tr>\n",
        "      <th>2014-08-30 20:40:57</th>\n",
        "      <td> 0</td>\n",
        "      <td> 0</td>\n",
        "      <td> 0</td>\n",
        "      <td> 0</td>\n",
        "      <td> 0</td>\n",
        "      <td> 3</td>\n",
        "      <td> 0</td>\n",
        "      <td> 1</td>\n",
        "      <td> 0</td>\n",
        "      <td> 0</td>\n",
        "      <td>...</td>\n",
        "      <td> 0</td>\n",
        "      <td> 0</td>\n",
        "      <td> 0</td>\n",
        "      <td> 0</td>\n",
        "      <td> 0</td>\n",
        "      <td> 0</td>\n",
        "      <td> 0</td>\n",
        "      <td> 0</td>\n",
        "      <td> 1</td>\n",
        "      <td> 0</td>\n",
        "    </tr>\n",
        "    <tr>\n",
        "      <th>2014-08-30 20:40:58</th>\n",
        "      <td> 0</td>\n",
        "      <td> 0</td>\n",
        "      <td> 1</td>\n",
        "      <td> 0</td>\n",
        "      <td> 0</td>\n",
        "      <td> 0</td>\n",
        "      <td> 0</td>\n",
        "      <td> 0</td>\n",
        "      <td> 0</td>\n",
        "      <td> 0</td>\n",
        "      <td>...</td>\n",
        "      <td> 0</td>\n",
        "      <td> 1</td>\n",
        "      <td> 0</td>\n",
        "      <td> 0</td>\n",
        "      <td> 1</td>\n",
        "      <td> 0</td>\n",
        "      <td> 0</td>\n",
        "      <td> 0</td>\n",
        "      <td> 1</td>\n",
        "      <td> 0</td>\n",
        "    </tr>\n",
        "    <tr>\n",
        "      <th>2014-08-30 20:40:59</th>\n",
        "      <td> 0</td>\n",
        "      <td> 0</td>\n",
        "      <td> 0</td>\n",
        "      <td> 0</td>\n",
        "      <td> 2</td>\n",
        "      <td> 2</td>\n",
        "      <td> 0</td>\n",
        "      <td> 0</td>\n",
        "      <td> 0</td>\n",
        "      <td> 0</td>\n",
        "      <td>...</td>\n",
        "      <td> 0</td>\n",
        "      <td> 0</td>\n",
        "      <td> 0</td>\n",
        "      <td> 1</td>\n",
        "      <td> 0</td>\n",
        "      <td> 0</td>\n",
        "      <td> 0</td>\n",
        "      <td> 0</td>\n",
        "      <td> 0</td>\n",
        "      <td> 0</td>\n",
        "    </tr>\n",
        "    <tr>\n",
        "      <th>2014-08-30 20:41:00</th>\n",
        "      <td> 1</td>\n",
        "      <td> 0</td>\n",
        "      <td> 1</td>\n",
        "      <td> 0</td>\n",
        "      <td> 0</td>\n",
        "      <td> 2</td>\n",
        "      <td> 0</td>\n",
        "      <td> 0</td>\n",
        "      <td> 0</td>\n",
        "      <td> 1</td>\n",
        "      <td>...</td>\n",
        "      <td> 1</td>\n",
        "      <td> 0</td>\n",
        "      <td> 0</td>\n",
        "      <td> 0</td>\n",
        "      <td> 0</td>\n",
        "      <td> 0</td>\n",
        "      <td> 0</td>\n",
        "      <td> 0</td>\n",
        "      <td> 1</td>\n",
        "      <td> 0</td>\n",
        "    </tr>\n",
        "    <tr>\n",
        "      <th>2014-08-30 20:41:01</th>\n",
        "      <td> 0</td>\n",
        "      <td> 0</td>\n",
        "      <td> 1</td>\n",
        "      <td> 1</td>\n",
        "      <td> 1</td>\n",
        "      <td> 2</td>\n",
        "      <td> 0</td>\n",
        "      <td> 0</td>\n",
        "      <td> 0</td>\n",
        "      <td> 1</td>\n",
        "      <td>...</td>\n",
        "      <td> 0</td>\n",
        "      <td> 1</td>\n",
        "      <td> 0</td>\n",
        "      <td> 0</td>\n",
        "      <td> 0</td>\n",
        "      <td> 0</td>\n",
        "      <td> 0</td>\n",
        "      <td> 0</td>\n",
        "      <td> 0</td>\n",
        "      <td> 0</td>\n",
        "    </tr>\n",
        "  </tbody>\n",
        "</table>\n",
        "<p>5 rows \u00d7 25 columns</p>\n",
        "</div>"
       ],
       "metadata": {},
       "output_type": "pyout",
       "prompt_number": 22,
       "text": [
        "wikipediaShort       ar  bg  co  de  el  en  eo  es  fa  fr ...  nl  pl  pt  \\\n",
        "timestamp                                                   ...               \n",
        "2014-08-30 20:40:57   0   0   0   0   0   3   0   1   0   0 ...   0   0   0   \n",
        "2014-08-30 20:40:58   0   0   1   0   0   0   0   0   0   0 ...   0   1   0   \n",
        "2014-08-30 20:40:59   0   0   0   0   2   2   0   0   0   0 ...   0   0   0   \n",
        "2014-08-30 20:41:00   1   0   1   0   0   2   0   0   0   1 ...   1   0   0   \n",
        "2014-08-30 20:41:01   0   0   1   1   1   2   0   0   0   1 ...   0   1   0   \n",
        "\n",
        "wikipediaShort       ro  ru  sv  tr  uk  wd  zh  \n",
        "timestamp                                        \n",
        "2014-08-30 20:40:57   0   0   0   0   0   1   0  \n",
        "2014-08-30 20:40:58   0   1   0   0   0   1   0  \n",
        "2014-08-30 20:40:59   1   0   0   0   0   0   0  \n",
        "2014-08-30 20:41:00   0   0   0   0   0   1   0  \n",
        "2014-08-30 20:41:01   0   0   0   0   0   0   0  \n",
        "\n",
        "[5 rows x 25 columns]"
       ]
      }
     ],
     "prompt_number": 22
    },
    {
     "cell_type": "markdown",
     "metadata": {},
     "source": [
      "## Visualizing activity over time\n",
      "\n",
      "This is easy, now we have the data in the right format."
     ]
    },
    {
     "cell_type": "code",
     "collapsed": false,
     "input": [
      "p = sec_counts.plot()"
     ],
     "language": "python",
     "metadata": {},
     "outputs": [
      {
       "metadata": {},
       "output_type": "display_data",
       "png": "[encoded data removed]",
       "text": [
        "<matplotlib.figure.Figure at 0x7faae1f45710>"
       ]
      }
     ],
     "prompt_number": 23
    },
    {
     "cell_type": "markdown",
     "metadata": {},
     "source": [
      "Not so easy to read! (Even without taking into account the terrible default legend placement.)\n",
      "\n",
      "What if we make it a cumulative sum instead, so we can see how activity 'mounts up' over time?\n",
      "\n",
      "That's much nicer. Although you'd really want to select just the most active or interesting wikis and show those, because with 20+ lines, the colours become hard to tell apart. This is left as an exercise :-)"
     ]
    },
    {
     "cell_type": "code",
     "collapsed": false,
     "input": [
      "p = sec_counts.cumsum().plot()"
     ],
     "language": "python",
     "metadata": {},
     "outputs": [
      {
       "metadata": {},
       "output_type": "display_data",
       "png": "[encoded data removed]",
       "text": [
        "<matplotlib.figure.Figure at 0x7faaf5adda58>"
       ]
      }
     ],
     "prompt_number": 24
    },
    {
     "cell_type": "markdown",
     "metadata": {},
     "source": [
      "## Training a model in real time with Vowpal Wabbit\n",
      "\n",
      "Here's the fun bit. We're going to restart the stream, and as the data comes in, we're going to feed it to [Vowpal Wabbit](https://github.com/JohnLangford/vowpal_wabbit) to incrementally train a language recognizer. Or more strictly, a wiki recognizer, as we want to teach it to distinguish e.g. French Wikipedia articles from Polish Wikipedia articles -- using only the distribution of characters, and character n-grams, in their titles.\n",
      "\n",
      "**Jargon buster:** Character n-grams, sometimes called shingles, are subsequences of length `n`. So if `n == 2`, it's all the consecutive pairs of characters in the input string.\n",
      "\n",
      "We'll use an adaptive online learning approach: only update the model when we find an example that it can't correctly identify already. VW makes this very efficient and effective.\n",
      "\n",
      "First let's define a helper function to generate character n-grams, for `n` from `n1` to `n2`. That is, if `n1 == 2` and `n2 == 4`, then you'll get bigrams, trigrams and tetragrams (is that a word?). If `n1 == 1`, as in the example below, you'll get all the individual characters too. Also, if you set `include_words=True`, it will include all the complete words yielded by splitting the string on whitespace.\n",
      "\n",
      "The function returns an iterator over all the resulting n-grams. Any which consist purely of space characters are dropped."
     ]
    },
    {
     "cell_type": "code",
     "collapsed": false,
     "input": [
      "# Helper function to get all length-n ngrams\n",
      "def _ngrams(text, n):\n",
      "    return (text[i:i+n]\n",
      "            for i in range(len(text) - (n-1)))\n",
      "\n",
      "# Helper function to get all words, padded by a space on either side\n",
      "def _words(text):\n",
      "    return (s.center(len(s) + 2)\n",
      "            for s in text.split())\n",
      "\n",
      "# Helper function to filter out tokens that are all whitespace or numerals\n",
      "def _filter(word):\n",
      "    return (not word.strip().isspace()) and (not word.strip().isnumeric())\n",
      "\n",
      "# Get all ngrams for n1...n2, and optionally whole words\n",
      "def ngrams(text, n1, n2, include_words=False):\n",
      "    if n1 < 1:\n",
      "        raise ValueError('n1 must be 1 or more')\n",
      "    if n2 < n1:\n",
      "        raise ValueError('n2 must not be less than n1')\n",
      "    return filter(_filter,\n",
      "                  chain(_words(text) if include_words else (),\n",
      "                        chain.from_iterable(_ngrams(text, n)\n",
      "                                            for n in range(n1, n2+1))))\n",
      "\n",
      "print(list(ngrams(' the quick brown fox 1997', 1, 2, include_words=True)))"
     ],
     "language": "python",
     "metadata": {},
     "outputs": [
      {
       "output_type": "stream",
       "stream": "stdout",
       "text": [
        "[' the ', ' quick ', ' brown ', ' fox ', ' ', 't', 'h', 'e', ' ', 'q', 'u', 'i', 'c', 'k', ' ', 'b', 'r', 'o', 'w', 'n', ' ', 'f', 'o', 'x', ' ', ' t', 'th', 'he', 'e ', ' q', 'qu', 'ui', 'ic', 'ck', 'k ', ' b', 'br', 'ro', 'ow', 'wn', 'n ', ' f', 'fo', 'ox', 'x ']\n"
       ]
      }
     ],
     "prompt_number": 10
    },
    {
     "cell_type": "markdown",
     "metadata": {},
     "source": [
      "# TODO remove this"
     ]
    },
    {
     "cell_type": "code",
     "collapsed": false,
     "input": [
      "def sqrt_counts(counts):\n",
      "    return ((k, sqrt(v)) for k, v in counts.items())\n",
      "\n",
      "print(list(sqrt_counts({'foo': 1, 'bar': 2, 'baz': 3})))"
     ],
     "language": "python",
     "metadata": {},
     "outputs": [
      {
       "output_type": "stream",
       "stream": "stdout",
       "text": [
        "[('bar', 1.4142135623730951), ('foo', 1.0), ('baz', 1.7320508075688772)]\n"
       ]
      }
     ],
     "prompt_number": 75
    },
    {
     "cell_type": "markdown",
     "metadata": {},
     "source": [
      "The next function contains filtering logic, defining what kinds of edit we are interested in. It also performs some simple cleaning of the input data.\n",
      "\n",
      "We'll filter out Wikidata edits (wd), as these just have IDs, as well as Commons files (co), non-article pages like user homepages, and also English Wikipedia (en) -- to keep things interesting.\n",
      "\n",
      "The function returns just the page name if it's one we want to keep, or `False` if it's not. Parentheses and commas are removed, and hyphens and underscores replaced by spaces. A space is added at the start and end of the name, to help with ngram generation later."
     ]
    },
    {
     "cell_type": "code",
     "collapsed": false,
     "input": [
      "skip_reg = re.compile(r'[(),]+')\n",
      "split_reg = re.compile(r'[ _-]+')\n",
      "\n",
      "def page_name(edit):\n",
      "    if edit['wikipediaShort'] == 'wd' or \\\n",
      "        edit['wikipediaShort'] == 'en' or \\\n",
      "        edit['wikipediaShort'] == 'co' or \\\n",
      "        edit['namespace'] != 'article':\n",
      "            return False\n",
      "    name = split_reg.sub(' ', skip_reg.sub('', edit['page'].lower().strip()))\n",
      "    return name.center(len(name) + 2)\n",
      "\n",
      "test_edit = {'wikipediaShort': 'xx', 'namespace': 'article', 'page': 'Testing, Testing_ (one-two) '}\n",
      "print(page_name(test_edit))"
     ],
     "language": "python",
     "metadata": {},
     "outputs": [
      {
       "output_type": "stream",
       "stream": "stdout",
       "text": [
        " testing testing one two \n"
       ]
      }
     ],
     "prompt_number": 4
    },
    {
     "cell_type": "markdown",
     "metadata": {},
     "source": [
      "We'll use a [ringbuffer](http://en.wikipedia.org/wiki/Circular_buffer) to keep track of predictions and actual values over the last `k` tests. In this kind of online learning scenario, we don't really worry how much about how the model *was* performing on historical data -- we just want to know that it *is* performing well on current data.\n",
      "\n",
      "Here are a few convenience functions for dealing with the ringbuffer, which is implemented as a Numpy array with `k` rows, and a column each for the actual and predicted values. It's initialized with -1 in every cell, so we can tell when a row has yet to be filled in.\n",
      "\n",
      "`add_entry` uses a Numpy trick (`np.roll`) to redefine the start and end of an array, while copying as little data as possible."
     ]
    },
    {
     "cell_type": "code",
     "collapsed": false,
     "input": [
      "# Create a new ringbuffer for the given number of predictions\n",
      "def new_ringbuffer(capacity):\n",
      "    return np.zeros((capacity, 2), dtype=np.int8) - 1\n",
      "\n",
      "# Calculate accuracy (% correct predictions) over those rows which have been filled in\n",
      "def accuracy(ringbuffer):\n",
      "    # Filter identifying rows which have been filled in\n",
      "    valid = np.sum(ringbuffer, axis=1) >= 0\n",
      "    # Filter identifying rows where prediction == correct value\n",
      "    matched = ringbuffer[:,0] == ringbuffer[:,1]\n",
      "    # Accuracy is number of rows which are valid AND matched, over number of valid rows\n",
      "    return np.sum(np.logical_and(valid, matched)) / np.sum(valid)\n",
      "\n",
      "# Return the number of valid (filled-in) rows\n",
      "def valid_size(ringbuffer):\n",
      "    return np.sum(np.sum(ringbuffer, axis=1) >= 0)\n",
      "\n",
      "# Add a new test result to the ringbuffer, deleting the oldest entry if necessary,\n",
      "# and returning a reference to the modified buffer\n",
      "def add_entry(ringbuffer, actual, predicted):\n",
      "    capacity = len(ringbuffer)\n",
      "    # Overwrite the bottom row of the array\n",
      "    ringbuffer[capacity-1, :] = (actual, predicted)\n",
      "    # Roll the newest entry around to the top of the array, pushing the rest down\n",
      "    return np.roll(ringbuffer, 1, axis=0)"
     ],
     "language": "python",
     "metadata": {},
     "outputs": [],
     "prompt_number": 5
    },
    {
     "cell_type": "markdown",
     "metadata": {},
     "source": [
      "All the action happens in the next cell.\n",
      "\n",
      "It starts the VW server with the appropriate options. If you get a memory allocation error, reduce the value of `hashbits`, although this may impact accuracy.\n",
      "\n",
      "It also defines and starts a new callback, which breaks the title of each page into n-grams, and tests them against the current model. If the model classified this edit's language correctly, we don't change it. But if it classifies incorrectly, we pass it the same edit as a training instance.\n",
      "\n",
      "The reported accuracy might fluctuate to begin with, but then should settle, and gradually rise (not necessarily in a monotonic way) as data comes in.\n",
      "\n",
      "*This may be an over-estimate of accuracy if multiple edits to the same page appear within the last `k` edits. For a more conservative estimate, we should filter out duplicates. But this is just a demo...*\n",
      "\n",
      "You can set a maximum number of training instances to process, or just **interrupt the kernel if you get bored of waiting**."
     ]
    },
    {
     "cell_type": "code",
     "collapsed": false,
     "input": [
      "# How many classes to allow in the model (must be provided up front)\n",
      "max_expected_classes = 30\n",
      "\n",
      "# When to stop, if not interrupted\n",
      "max_edits = 5000\n",
      "\n",
      "# How many tests to calculate score over\n",
      "k = 500\n",
      "\n",
      "# Ringbuffer to hold results of each test\n",
      "rb = new_ringbuffer(k)\n",
      "\n",
      "# How many bits in range of VW hash function:\n",
      "# larger = potentially better accuracy but more memory\n",
      "hashbits = 28\n",
      "\n",
      "# Dummy namespace to force triple-hashing of features, as described in p23 of\n",
      "# https://github.com/JohnLangford/vowpal_wabbit/wiki/v7.0_tutorial.pdf\n",
      "dummy_ns = Namespace('d', features=('a', 'b', 'c'))\n",
      "\n",
      "# How many edits we've received, and trained on, respectively\n",
      "received = 0\n",
      "trained = 0\n",
      "\n",
      "# List of the wiki names we've seen, to be populated as we go along\n",
      "labels = []\n",
      "\n",
      "# Maps each wiki name -> its index in labels list\n",
      "label_to_idx = {}\n",
      "\n",
      "def vw_callback(edit):\n",
      "    \n",
      "    name = page_name(edit)\n",
      "    if not name:\n",
      "        return True\n",
      "\n",
      "    global rb, received, trained\n",
      "    received += 1\n",
      "    \n",
      "    # Set up mappings for this wiki if this is the first time we've seen it\n",
      "    label = edit['wikipedia'].replace(' Wikipedia', '')\n",
      "    if label in label_to_idx:\n",
      "        idx = label_to_idx[label]\n",
      "    else:\n",
      "        # If we have exhausted our preset class limit, just skip it! Bit kludgey...\n",
      "        if len(labels) == max_expected_classes:\n",
      "            print(\"Ignoring class %d\" % len(labels))\n",
      "            return True\n",
      "        labels.append(label)\n",
      "        idx = len(labels) - 1\n",
      "        label_to_idx[label] = idx\n",
      "\n",
      "    # Generate features -- weighted counts of unigrams, bigrams, trigrams, and whole words\n",
      "#    features = sqrt_counts(Counter(ngrams(name, 1, 3,\n",
      "#                                          include_words=True)))\n",
      "    features = set(ngrams(name, 1, 3, include_words=True))\n",
      "\n",
      "    # Test example first -- does model get it right?\n",
      "    ns = Namespace('n', features=features)\n",
      "    raw_line = vw.make_line(namespaces=(dummy_ns, ns))\n",
      "#    print(raw_line)\n",
      "    response = vw.send_line(raw_line)\n",
      "    result = response.prediction\n",
      "    prediction = int(result) - 1 # NB VW FEATURE LABELS START AT 1\n",
      "\n",
      "    # Add prediction to ringbuffer\n",
      "    rb = add_entry(rb, idx, prediction)\n",
      "    \n",
      "    # Train on this example only if prediction was wrong\n",
      "    if idx == prediction:\n",
      "        print('%s [%s] OK' % (name, labels[idx]), flush=True)\n",
      "    else:\n",
      "        tested = valid_size(rb)\n",
      "        print('%s [%s] Failed!\\nPrediction: %s, Received: %d, Trained: %d, Last-%d Accuracy: %0.3f'\n",
      "              % (name, labels[idx], labels[prediction], received, trained, tested, accuracy(rb)),\n",
      "              flush=True)\n",
      "        raw_line = vw.make_line(idx+1, namespaces=(dummy_ns, ns))\n",
      "        vw.send_line(raw_line)\n",
      "        trained += 1\n",
      "\n",
      "    # Stop if we've hit max_edits\n",
      "    return received < max_edits\n",
      "\n",
      "# Start up local VW process\n",
      "vw = VW(loss_function='logistic', b=hashbits, ect=max_expected_classes, hash='all', q='dn')\n",
      "print(vw.command)\n",
      "\n",
      "try:\n",
      "    wikipedia_updates(vw_callback)\n",
      "finally:\n",
      "    vw.close()"
     ],
     "language": "python",
     "metadata": {},
     "outputs": [
      {
       "output_type": "stream",
       "stream": "stdout",
       "text": [
        "vw --quiet -q dn --hash all --ect 30 --predictions /dev/stdout -b 28 --save_resume --loss_function logistic\n",
        " mella stemodioides  [Swedish] OK"
       ]
      },
      {
       "output_type": "stream",
       "stream": "stdout",
       "text": [
        "\n"
       ]
      },
      {
       "output_type": "stream",
       "stream": "stdout",
       "text": [
        " gaecheonjeol  [Spanish] Failed!\n",
        "Prediction: Swedish, Received: 2, Trained: 0, Last-2 Accuracy: 0.500\n"
       ]
      },
      {
       "output_type": "stream",
       "stream": "stdout",
       "text": [
        " \u0641\u0644\u0648\u0631\u0646\u0633\u0627  [Arabic] Failed!\n",
        "Prediction: Spanish, Received: 3, Trained: 1, Last-3 Accuracy: 0.333\n"
       ]
      },
      {
       "output_type": "stream",
       "stream": "stdout",
       "text": [
        " reprezentacja s\u0142owacji na mistrzostwach \u015bwiata w narciarstwie klasycznym 2009  [Polish] Failed!\n",
        "Prediction: Spanish, Received: 4, Trained: 2, Last-4 Accuracy: 0.250\n"
       ]
      },
      {
       "output_type": "stream",
       "stream": "stdout",
       "text": [
        " sabelv\u00e4ppling  [Swedish] Failed!\n",
        "Prediction: Spanish, Received: 5, Trained: 3, Last-5 Accuracy: 0.200\n"
       ]
      },
      {
       "output_type": "stream",
       "stream": "stdout",
       "text": [
        " \u0438\u0434\u0435\u043d\u0442\u0438\u0444\u0438\u043a\u0430\u0446\u0438\u043e\u043d\u043d\u044b\u0439 \u043d\u043e\u043c\u0435\u0440 \u043d\u0430\u043b\u043e\u0433\u043e\u043f\u043b\u0430\u0442\u0435\u043b\u044c\u0449\u0438\u043a\u0430  [Russian] Failed!\n",
        "Prediction: Spanish, Received: 6, Trained: 4, Last-6 Accuracy: 0.167\n"
       ]
      },
      {
       "output_type": "stream",
       "stream": "stdout",
       "text": [
        " louise attaque album  [French] Failed!\n",
        "Prediction: Spanish, Received: 7, Trained: 5, Last-7 Accuracy: 0.143\n"
       ]
      },
      {
       "output_type": "stream",
       "stream": "stdout",
       "text": [
        " la roux \u00e1lbum  [Portuguese] Failed!\n",
        "Prediction: Spanish, Received: 8, Trained: 6, Last-8 Accuracy: 0.125\n"
       ]
      },
      {
       "output_type": "stream",
       "stream": "stdout",
       "text": [
        " svante sj\u00f6berg  [Swedish] Failed!\n",
        "Prediction: Spanish, Received: 9, Trained: 7, Last-9 Accuracy: 0.111\n"
       ]
      },
      {
       "output_type": "stream",
       "stream": "stdout",
       "text": [
        " albrecht schubert  [French] Failed!\n",
        "Prediction: Spanish, Received: 10, Trained: 8, Last-10 Accuracy: 0.100\n"
       ]
      },
      {
       "output_type": "stream",
       "stream": "stdout",
       "text": [
        " rei\u00dfeck h\u00f6henbahn  [German] Failed!\n",
        "Prediction: Spanish, Received: 11, Trained: 9, Last-11 Accuracy: 0.091\n"
       ]
      },
      {
       "output_type": "stream",
       "stream": "stdout",
       "text": [
        " 1932 \u0433\u043e\u0434 \u0432 \u0441\u043f\u043e\u0440\u0442\u0435  [Russian] OK\n"
       ]
      },
      {
       "output_type": "stream",
       "stream": "stdout",
       "text": [
        " \u0430\u0431\u0443 \u043c\u0438\u0445\u043d\u0430\u0444  [Russian] OK\n"
       ]
      },
      {
       "output_type": "stream",
       "stream": "stdout",
       "text": [
        " federica mogherini  [German] Failed!\n",
        "Prediction: Spanish, Received: 14, Trained: 10, Last-14 Accuracy: 0.214\n"
       ]
      },
      {
       "output_type": "stream",
       "stream": "stdout",
       "text": [
        " \u5e7f\u5dde\u4e1c\u5357\u897f\u73af\u9ad8\u901f\u516c\u8def\u6709\u9650\u516c\u53f8  [Chinese] Failed!\n",
        "Prediction: Spanish, Received: 15, Trained: 11, Last-15 Accuracy: 0.200\n"
       ]
      },
      {
       "output_type": "stream",
       "stream": "stdout",
       "text": [
        " beto stocker  [Spanish] Failed!\n",
        "Prediction: French, Received: 16, Trained: 12, Last-16 Accuracy: 0.188\n"
       ]
      },
      {
       "output_type": "stream",
       "stream": "stdout",
       "text": [
        " diocesi di aire e dax  [Italian] Failed!\n",
        "Prediction: German, Received: 17, Trained: 13, Last-17 Accuracy: 0.176\n"
       ]
      },
      {
       "output_type": "stream",
       "stream": "stdout",
       "text": [
        " \u05e8\u05d0\u05dc\u05e3 \u05d4\u05d4\u05d5\u05e8\u05e1  [Hebrew] Failed!\n",
        "Prediction: Spanish, Received: 18, Trained: 14, Last-18 Accuracy: 0.167\n"
       ]
      },
      {
       "output_type": "stream",
       "stream": "stdout",
       "text": [
        " dekanat s\u0142upsk zach\u00f3d  [Polish] Failed!\n",
        "Prediction: Spanish, Received: 19, Trained: 15, Last-19 Accuracy: 0.158\n"
       ]
      },
      {
       "output_type": "stream",
       "stream": "stdout",
       "text": [
        " luis mart\u00edn gil  [Spanish] Failed!\n",
        "Prediction: German, Received: 20, Trained: 16, Last-20 Accuracy: 0.150\n"
       ]
      },
      {
       "output_type": "stream",
       "stream": "stdout",
       "text": [
        " ch\u00e2teau homonymie  [French] Failed!\n",
        "Prediction: Spanish, Received: 21, Trained: 17, Last-21 Accuracy: 0.143\n"
       ]
      },
      {
       "output_type": "stream",
       "stream": "stdout",
       "text": [
        " n\u00e5n slags verklighet  [Swedish] Failed!\n",
        "Prediction: Spanish, Received: 22, Trained: 18, Last-22 Accuracy: 0.136\n"
       ]
      },
      {
       "output_type": "stream",
       "stream": "stdout",
       "text": [
        " bacopa stemodioides  [Swedish] Failed!\n",
        "Prediction: Spanish, Received: 23, Trained: 19, Last-23 Accuracy: 0.130\n"
       ]
      },
      {
       "output_type": "stream",
       "stream": "stdout",
       "text": [
        " mistrzostwa \u015bwiata w koszyk\u00f3wce m\u0119\u017cczyzn 2014  [Polish] OK\n"
       ]
      },
      {
       "output_type": "stream",
       "stream": "stdout",
       "text": [
        " \uc720\ub77c  [Korean] Failed!\n",
        "Prediction: Spanish, Received: 25, Trained: 20, Last-25 Accuracy: 0.160\n"
       ]
      },
      {
       "output_type": "stream",
       "stream": "stdout",
       "text": [
        " krzysztof kwiatkowski aktor  [Polish] Failed!\n",
        "Prediction: Spanish, Received: 26, Trained: 21, Last-26 Accuracy: 0.154\n"
       ]
      },
      {
       "output_type": "stream",
       "stream": "stdout",
       "text": [
        " mathias r. samuelsen  [Norwegian] Failed!\n",
        "Prediction: Swedish, Received: 27, Trained: 22, Last-27 Accuracy: 0.148\n"
       ]
      },
      {
       "output_type": "stream",
       "stream": "stdout",
       "text": [
        " mikrobiologo  [Esperanto] Failed!\n",
        "Prediction: Spanish, Received: 28, Trained: 23, Last-28 Accuracy: 0.143\n"
       ]
      },
      {
       "output_type": "stream",
       "stream": "stdout",
       "text": [
        " \u0633\u0627\u0634\u0627 \u0628\u0627\u0631\u0648\u0646 \u06a9\u0648\u0647\u0646  [Farsi] Failed!\n",
        "Prediction: Arabic, Received: 29, Trained: 24, Last-29 Accuracy: 0.138\n"
       ]
      },
      {
       "output_type": "stream",
       "stream": "stdout",
       "text": [
        " assiculus punctatus  [Euskara] Failed!\n",
        "Prediction: Spanish, Received: 30, Trained: 25, Last-30 Accuracy: 0.133\n"
       ]
      },
      {
       "output_type": "stream",
       "stream": "stdout",
       "text": [
        " dani mart\u00edn  [Spanish] OK\n"
       ]
      },
      {
       "output_type": "stream",
       "stream": "stdout",
       "text": [
        " teorie spiskowe o \u015bmierci papie\u017ca jana paw\u0142a ii  [Polish] Failed!\n",
        "Prediction: Swedish, Received: 32, Trained: 26, Last-32 Accuracy: 0.156\n"
       ]
      },
      {
       "output_type": "stream",
       "stream": "stdout",
       "text": [
        " sahrijar mamedjarov  [Hungarian] Failed!\n",
        "Prediction: Swedish, Received: 33, Trained: 27, Last-33 Accuracy: 0.152\n"
       ]
      },
      {
       "output_type": "stream",
       "stream": "stdout",
       "text": [
        " \u30ae\u30e3\u30fc\u30c8\u30eb\u30ba  [Japanese] Failed!\n",
        "Prediction: Spanish, Received: 34, Trained: 28, Last-34 Accuracy: 0.147\n"
       ]
      },
      {
       "output_type": "stream",
       "stream": "stdout",
       "text": [
        " \u3053\u3046\u306e\u304d\u3088\u3057  [Japanese] Failed!\n",
        "Prediction: Spanish, Received: 35, Trained: 29, Last-35 Accuracy: 0.143\n"
       ]
      },
      {
       "output_type": "stream",
       "stream": "stdout",
       "text": [
        " bacopa valerii  [Swedish] OK\n"
       ]
      },
      {
       "output_type": "stream",
       "stream": "stdout",
       "text": [
        " provincia del new jersey  [Italian] Failed!\n",
        "Prediction: Swedish, Received: 37, Trained: 30, Last-37 Accuracy: 0.162\n"
       ]
      },
      {
       "output_type": "stream",
       "stream": "stdout",
       "text": [
        " frise des comiques  [French] OK\n"
       ]
      },
      {
       "output_type": "stream",
       "stream": "stdout",
       "text": [
        " asfrid  [German] Failed!\n",
        "Prediction: Swedish, Received: 39, Trained: 31, Last-39 Accuracy: 0.179\n"
       ]
      },
      {
       "output_type": "stream",
       "stream": "stdout",
       "text": [
        " b\u00fcy\u00fck menderes nehri  [Turkish] Failed!\n",
        "Prediction: Swedish, Received: 40, Trained: 32, Last-40 Accuracy: 0.175\n"
       ]
      },
      {
       "output_type": "stream",
       "stream": "stdout",
       "text": [
        " \u0644\u0627 \u062a\u0633\u0623\u0644\u0646\u0649 \u0645\u0646 \u0623\u0646\u0627 \u0641\u064a\u0644\u0645  [Arabic] OK\n"
       ]
      },
      {
       "output_type": "stream",
       "stream": "stdout",
       "text": [
        " \u043f\u043e\u043a\u0430\u044f\u043d\u0438\u0435 \u0444\u0438\u043b\u044c\u043c  [Russian] OK\n"
       ]
      },
      {
       "output_type": "stream",
       "stream": "stdout",
       "text": [
        " brigitte cuypers  [French] Failed!\n",
        "Prediction: Swedish, Received: 43, Trained: 33, Last-43 Accuracy: 0.209\n"
       ]
      },
      {
       "output_type": "stream",
       "stream": "stdout",
       "text": [
        " s  [German] Failed!\n",
        "Prediction: Swedish, Received: 44, Trained: 34, Last-44 Accuracy: 0.205\n"
       ]
      },
      {
       "output_type": "stream",
       "stream": "stdout",
       "text": [
        " bacopa pedersenii  [Swedish] OK\n"
       ]
      },
      {
       "output_type": "stream",
       "stream": "stdout",
       "text": [
        " 1931 \u0433\u043e\u0434 \u0432 \u0441\u043f\u043e\u0440\u0442\u0435  [Russian] OK\n"
       ]
      },
      {
       "output_type": "stream",
       "stream": "stdout",
       "text": [
        " \u71b1\u5e36\u4f4e\u6c23\u58d3.  [Chinese] Failed!\n",
        "Prediction: Italian, Received: 47, Trained: 35, Last-47 Accuracy: 0.234\n"
       ]
      },
      {
       "output_type": "stream",
       "stream": "stdout",
       "text": [
        " \u5e7f\u5dde\u4e1c\u5357\u897f\u73af\u9ad8\u901f\u516c\u8def\u6709\u9650\u516c\u53f8  [Chinese] OK\n"
       ]
      },
      {
       "output_type": "stream",
       "stream": "stdout",
       "text": [
        " \u043c\u0435\u0436\u0434\u0443\u043d\u0430\u0440\u043e\u0434\u043d\u044b\u0439 \u0441\u0443\u0434 \u043e\u043e\u043d  [Russian] OK\n"
       ]
      },
      {
       "output_type": "stream",
       "stream": "stdout",
       "text": [
        " che guevara  [Italian] Failed!\n",
        "Prediction: Spanish, Received: 50, Trained: 36, Last-50 Accuracy: 0.260\n"
       ]
      },
      {
       "output_type": "stream",
       "stream": "stdout",
       "text": [
        " \u0440\u0435\u043d\u0456\u0432  [Ukrainian] Failed!\n",
        "Prediction: Russian, Received: 51, Trained: 37, Last-51 Accuracy: 0.255\n"
       ]
      },
      {
       "output_type": "stream",
       "stream": "stdout",
       "text": [
        " robert clau\u00df  [German] Failed!\n",
        "Prediction: French, Received: 52, Trained: 38, Last-52 Accuracy: 0.250\n"
       ]
      },
      {
       "output_type": "stream",
       "stream": "stdout",
       "text": [
        " \u043a\u043e\u043c\u0438\u0442\u0435\u0442 \u0433\u043e\u0441\u0443\u0434\u0430\u0440\u0441\u0442\u0432\u0435\u043d\u043d\u043e\u0439 \u0431\u0435\u0437\u043e\u043f\u0430\u0441\u043d\u043e\u0441\u0442\u0438 \u0441\u0441\u0441\u0440  [Russian] OK\n"
       ]
      },
      {
       "output_type": "stream",
       "stream": "stdout",
       "text": [
        " region nordosten mazedonien  [German] Failed!\n",
        "Prediction: Spanish, Received: 54, Trained: 39, Last-54 Accuracy: 0.259\n"
       ]
      },
      {
       "output_type": "stream",
       "stream": "stdout",
       "text": [
        " \u0441\u0435\u0432\u0435\u0440\u043d\u044b\u0439 \u0441\u0442\u0430\u0434\u0438\u043e\u043d \u043d\u0438\u0436\u043d\u0438\u0439 \u043d\u043e\u0432\u0433\u043e\u0440\u043e\u0434  [Russian] OK\n"
       ]
      },
      {
       "output_type": "stream",
       "stream": "stdout",
       "text": [
        " \u043a\u043e\u043c\u043f\u0430\u0439 \u0441\u0435\u0433\u0443\u043d\u0434\u043e  [Ukrainian] Failed!\n",
        "Prediction: Russian, Received: 56, Trained: 40, Last-56 Accuracy: 0.268\n"
       ]
      },
      {
       "output_type": "stream",
       "stream": "stdout",
       "text": [
        " s  [German] Failed!\n",
        "Prediction: Swedish, Received: 57, Trained: 41, Last-57 Accuracy: 0.263\n"
       ]
      },
      {
       "output_type": "stream",
       "stream": "stdout",
       "text": [
        " absidokapelaro  [Esperanto] Failed!\n",
        "Prediction: German, Received: 58, Trained: 42, Last-58 Accuracy: 0.259\n"
       ]
      },
      {
       "output_type": "stream",
       "stream": "stdout",
       "text": [
        " championnat de c\u00f4te d'ivoire de football 2012  [French] Failed!\n",
        "Prediction: German, Received: 59, Trained: 43, Last-59 Accuracy: 0.254\n"
       ]
      },
      {
       "output_type": "stream",
       "stream": "stdout",
       "text": [
        " chelsea fc in het seizoen 2014/15  [Dutch] Failed!\n",
        "Prediction: German, Received: 60, Trained: 44, Last-60 Accuracy: 0.250\n"
       ]
      },
      {
       "output_type": "stream",
       "stream": "stdout",
       "text": [
        " caconapea verticillata  [Swedish] Failed!\n",
        "Prediction: German, Received: 61, Trained: 45, Last-61 Accuracy: 0.246\n"
       ]
      },
      {
       "output_type": "stream",
       "stream": "stdout",
       "text": [
        " francesco d'assisi  [Italian] Failed!\n",
        "Prediction: German, Received: 62, Trained: 46, Last-62 Accuracy: 0.242\n"
       ]
      },
      {
       "output_type": "stream",
       "stream": "stdout",
       "text": [
        " visent  [Swedish] OK\n"
       ]
      },
      {
       "output_type": "stream",
       "stream": "stdout",
       "text": [
        " kurtlar vadisi dizi  [Turkish] Failed!\n",
        "Prediction: Swedish, Received: 64, Trained: 47, Last-64 Accuracy: 0.250\n"
       ]
      },
      {
       "output_type": "stream",
       "stream": "stdout",
       "text": [
        " alexandre opekouchine  [French] OK\n"
       ]
      },
      {
       "output_type": "stream",
       "stream": "stdout",
       "text": [
        " \u0622\u0632\u0627\u062f\u0631\u0627\u0647 \u0627\u0645\u06f1\u06f8\u06f0  [Farsi] Failed!\n",
        "Prediction: Arabic, Received: 66, Trained: 48, Last-66 Accuracy: 0.258\n"
       ]
      },
      {
       "output_type": "stream",
       "stream": "stdout",
       "text": [
        " lijst van voetbalinterlands burkina faso mali  [Dutch] Failed!\n",
        "Prediction: Swedish, Received: 67, Trained: 49, Last-67 Accuracy: 0.254\n"
       ]
      },
      {
       "output_type": "stream",
       "stream": "stdout",
       "text": [
        " opletn\u00edk plotn\u00ed  [Czech] Failed!\n",
        "Prediction: Swedish, Received: 68, Trained: 50, Last-68 Accuracy: 0.250\n"
       ]
      },
      {
       "output_type": "stream",
       "stream": "stdout",
       "text": [
        " assassin's creed: unity  [Czech] Failed!\n",
        "Prediction: German, Received: 69, Trained: 51, Last-69 Accuracy: 0.246\n"
       ]
      },
      {
       "output_type": "stream",
       "stream": "stdout",
       "text": [
        " orchestes fagi  [French] Failed!\n",
        "Prediction: Swedish, Received: 70, Trained: 52, Last-70 Accuracy: 0.243\n"
       ]
      },
      {
       "output_type": "stream",
       "stream": "stdout",
       "text": [
        " cant\u00f3 d'angers nord  [Catalan] Failed!\n",
        "Prediction: German, Received: 71, Trained: 53, Last-71 Accuracy: 0.239\n"
       ]
      },
      {
       "output_type": "stream",
       "stream": "stdout",
       "text": [
        " alexandre parfenovitch kouroch  [French] OK\n"
       ]
      },
      {
       "output_type": "stream",
       "stream": "stdout",
       "text": [
        " \u30d2\u30ca\u30e2\u30ea  [Japanese] Failed!\n",
        "Prediction: German, Received: 73, Trained: 54, Last-73 Accuracy: 0.247\n"
       ]
      },
      {
       "output_type": "stream",
       "stream": "stdout",
       "text": [
        " bacopa verticillata  [Swedish] OK\n"
       ]
      },
      {
       "output_type": "stream",
       "stream": "stdout",
       "text": [
        " \u0432\u043e\u0437\u0432\u0440\u0430\u0442\u0430 \u043d\u0435\u0442 \u0444\u0438\u043b\u044c\u043c 1973  [Russian] OK\n"
       ]
      },
      {
       "output_type": "stream",
       "stream": "stdout",
       "text": [
        " kettering ohio  [French] OK\n"
       ]
      },
      {
       "output_type": "stream",
       "stream": "stdout",
       "text": [
        " \u0431\u0443\u0440\u044f\u043a \u0440\u0456\u0434  [Ukrainian] OK\n"
       ]
      },
      {
       "output_type": "stream",
       "stream": "stdout",
       "text": [
        " pale cream  [German] Failed!\n",
        "Prediction: French, Received: 78, Trained: 55, Last-78 Accuracy: 0.282\n"
       ]
      },
      {
       "output_type": "stream",
       "stream": "stdout",
       "text": [
        " przewodnicz\u0105cy rady europejskiej  [Polish] Failed!\n",
        "Prediction: German, Received: 79, Trained: 56, Last-79 Accuracy: 0.278\n"
       ]
      },
      {
       "output_type": "stream",
       "stream": "stdout",
       "text": [
        " onychocephalus acutus  [French] OK\n"
       ]
      },
      {
       "output_type": "stream",
       "stream": "stdout",
       "text": [
        " \u044e\u0434\u0438\u043d\u0430 \u043c\u0430\u0440\u0438\u044f \u0432\u0435\u043d\u0438\u0430\u043c\u0438\u043d\u043e\u0432\u043d\u0430  [Russian] Failed!\n",
        "Prediction: Ukrainian, Received: 81, Trained: 57, Last-81 Accuracy: 0.284\n"
       ]
      },
      {
       "output_type": "stream",
       "stream": "stdout",
       "text": [
        " mistrzostwa polski w szermierce  [Polish] OK\n"
       ]
      },
      {
       "output_type": "stream",
       "stream": "stdout",
       "text": [
        " cant\u00f3 d'angers nord est  [Catalan] OK\n"
       ]
      },
      {
       "output_type": "stream",
       "stream": "stdout",
       "text": [
        " trauma psychologie  [German] Failed!\n",
        "Prediction: French, Received: 84, Trained: 58, Last-84 Accuracy: 0.298\n"
       ]
      },
      {
       "output_type": "stream",
       "stream": "stdout",
       "text": [
        " 18 \u043a\u0438\u043b\u043e\u043c\u0435\u0442\u0440  [Russian] OK\n"
       ]
      },
      {
       "output_type": "stream",
       "stream": "stdout",
       "text": [
        " \u0645\u062d\u0645\u062f \u0623\u063a \u0643\u0627\u0648\u0635\u0646  [Arabic] Failed!\n",
        "Prediction: Farsi, Received: 86, Trained: 59, Last-86 Accuracy: 0.302\n"
       ]
      },
      {
       "output_type": "stream",
       "stream": "stdout",
       "text": [
        " zapatistisch nationaal bevrijdingsleger  [Dutch] Failed!\n",
        "Prediction: Swedish, Received: 87, Trained: 60, Last-87 Accuracy: 0.299\n"
       ]
      },
      {
       "output_type": "stream",
       "stream": "stdout",
       "text": [
        " robert rebitsch  [German] OK\n"
       ]
      },
      {
       "output_type": "stream",
       "stream": "stdout",
       "text": [
        " bacopa amplexicaulis  [Swedish] Failed!\n",
        "Prediction: German, Received: 89, Trained: 61, Last-89 Accuracy: 0.303\n"
       ]
      },
      {
       "output_type": "stream",
       "stream": "stdout",
       "text": [
        " alexandre svanidz\u00e9  [French] Failed!\n",
        "Prediction: German, Received: 90, Trained: 62, Last-90 Accuracy: 0.300\n"
       ]
      },
      {
       "output_type": "stream",
       "stream": "stdout",
       "text": [
        " \u7947\u5712\u796d  [Japanese] Failed!\n",
        "Prediction: German, Received: 91, Trained: 63, Last-91 Accuracy: 0.297\n"
       ]
      },
      {
       "output_type": "stream",
       "stream": "stdout",
       "text": [
        " science fiction jahr 2006  [German] OK\n"
       ]
      },
      {
       "output_type": "stream",
       "stream": "stdout",
       "text": [
        " \u30b8\u30e7\u30b7\u30e5\u30fb\u30a2\u30a6\u30c8\u30de\u30f3  [Japanese] Failed!\n",
        "Prediction: German, Received: 93, Trained: 64, Last-93 Accuracy: 0.301\n"
       ]
      },
      {
       "output_type": "stream",
       "stream": "stdout",
       "text": [
        " natalja wladimirowna poklonskaja  [German] Failed!\n",
        "Prediction: Polish, Received: 94, Trained: 65, Last-94 Accuracy: 0.298\n"
       ]
      },
      {
       "output_type": "stream",
       "stream": "stdout",
       "text": [
        " martin henry fischer  [German] OK\n"
       ]
      },
      {
       "output_type": "stream",
       "stream": "stdout",
       "text": [
        " bagy personaggio  [Italian] Failed!\n",
        "Prediction: German, Received: 96, Trained: 66, Last-96 Accuracy: 0.302\n"
       ]
      },
      {
       "output_type": "stream",
       "stream": "stdout",
       "text": [
        " \u8096\u65ed  [Chinese] Failed!\n",
        "Prediction: German, Received: 97, Trained: 67, Last-97 Accuracy: 0.299\n"
       ]
      },
      {
       "output_type": "stream",
       "stream": "stdout",
       "text": [
        " monument valley computerspiel  [German] Failed!\n",
        "Prediction: French, Received: 98, Trained: 68, Last-98 Accuracy: 0.296\n"
       ]
      },
      {
       "output_type": "stream",
       "stream": "stdout",
       "text": [
        " blennodesmus scapularis  [Euskara] Failed!\n",
        "Prediction: German, Received: 99, Trained: 69, Last-99 Accuracy: 0.293\n"
       ]
      },
      {
       "output_type": "stream",
       "stream": "stdout",
       "text": [
        " \u0441\u043f\u0438\u0441\u043e\u043a \u0433\u043e\u0441\u0443\u0434\u0430\u0440\u0441\u0442\u0432\u0435\u043d\u043d\u044b\u0445 \u044f\u0437\u044b\u043a\u043e\u0432  [Russian] OK\n"
       ]
      },
      {
       "output_type": "stream",
       "stream": "stdout",
       "text": [
        " bacopa marginata  [Swedish] OK\n"
       ]
      },
      {
       "output_type": "stream",
       "stream": "stdout",
       "text": [
        " \u4e03\u702c\u30ab\u30a4  [Japanese] Failed!\n",
        "Prediction: German, Received: 102, Trained: 70, Last-102 Accuracy: 0.304\n"
       ]
      },
      {
       "output_type": "stream",
       "stream": "stdout",
       "text": [
        " ikea  [Italian] Failed!\n",
        "Prediction: German, Received: 103, Trained: 71, Last-103 Accuracy: 0.301\n"
       ]
      },
      {
       "output_type": "stream",
       "stream": "stdout",
       "text": [
        " hist\u00f2ria d'andorra  [Catalan] Failed!\n",
        "Prediction: German, Received: 104, Trained: 72, Last-104 Accuracy: 0.298\n"
       ]
      },
      {
       "output_type": "stream",
       "stream": "stdout",
       "text": [
        " \u0441\u0442\u0443\u043f\u043a\u0430 \u043e\u0441\u0442\u0430\u043f \u0431\u043e\u0433\u0434\u0430\u043d\u043e\u0432\u0438\u0447  [Ukrainian] Failed!\n",
        "Prediction: Russian, Received: 105, Trained: 73, Last-105 Accuracy: 0.295\n"
       ]
      },
      {
       "output_type": "stream",
       "stream": "stdout",
       "text": [
        " \u062c\u0627\u062f\u0647 \u0627\u06cc\u06f1\u06f9  [Farsi] OK\n"
       ]
      },
      {
       "output_type": "stream",
       "stream": "stdout",
       "text": [
        " rhinotyphlops acutus  [French] Failed!\n",
        "Prediction: German, Received: 107, Trained: 74, Last-107 Accuracy: 0.299\n"
       ]
      },
      {
       "output_type": "stream",
       "stream": "stdout",
       "text": [
        " damme d\u00fcmmer  [German] OK\n"
       ]
      },
      {
       "output_type": "stream",
       "stream": "stdout",
       "text": [
        " il sorriso vincente  [Italian] Failed!\n",
        "Prediction: German, Received: 109, Trained: 75, Last-109 Accuracy: 0.303\n"
       ]
      },
      {
       "output_type": "stream",
       "stream": "stdout",
       "text": [
        " federico ferdinando di schleswig holstein sonderburg gl\u00fccksburg  [Italian] Failed!\n",
        "Prediction: German, Received: 110, Trained: 76, Last-110 Accuracy: 0.300\n"
       ]
      },
      {
       "output_type": "stream",
       "stream": "stdout",
       "text": [
        " luis jes\u00fas weckmann mu\u00f1oz  [German] OK\n"
       ]
      },
      {
       "output_type": "stream",
       "stream": "stdout",
       "text": [
        " \u0443\u0447\u0438\u0442\u0435\u043b\u044c \u0430\u043b\u0435\u043a\u0441\u0435\u0439 \u0435\u0444\u0438\u043c\u043e\u0432\u0438\u0447  [Russian] Failed!\n",
        "Prediction: Ukrainian, Received: 112, Trained: 77, Last-112 Accuracy: 0.304\n"
       ]
      },
      {
       "output_type": "stream",
       "stream": "stdout",
       "text": [
        " bosnia ja hertsegovina  [Finnish] Failed!\n",
        "Prediction: German, Received: 113, Trained: 78, Last-113 Accuracy: 0.301\n"
       ]
      },
      {
       "output_type": "stream",
       "stream": "stdout",
       "text": [
        " cant\u00f3 d'angers nord oest  [Catalan] OK\n"
       ]
      },
      {
       "output_type": "stream",
       "stream": "stdout",
       "text": [
        " wettringen m\u00fcnsterland  [German] OK\n"
       ]
      },
      {
       "output_type": "stream",
       "stream": "stdout",
       "text": [
        " alexe\u00ef sergue\u00efevitch iermolov  [French] OK\n"
       ]
      },
      {
       "output_type": "stream",
       "stream": "stdout",
       "text": [
        " sacr\u00e9 c\u0153ur  [French] Failed!\n",
        "Prediction: German, Received: 117, Trained: 79, Last-117 Accuracy: 0.316\n"
       ]
      },
      {
       "output_type": "stream",
       "stream": "stdout",
       "text": [
        " \u0432\u0443\u0441\u0430\u0447 \u043f\u0443\u0440\u043f\u0443\u0440\u043e\u043d\u0430\u0434\u043a\u0440\u0438\u043b \u043a\u0435\u0433\u043b\u0435\u0440\u0430  [Ukrainian] Failed!\n",
        "Prediction: Russian, Received: 118, Trained: 80, Last-118 Accuracy: 0.314\n"
       ]
      },
      {
       "output_type": "stream",
       "stream": "stdout",
       "text": [
        " \u5c90\u95dc\u8eca\u8def  [Chinese] OK\n"
       ]
      },
      {
       "output_type": "stream",
       "stream": "stdout",
       "text": [
        " herpestis amplexicaulis  [Swedish] Failed!\n",
        "Prediction: French, Received: 120, Trained: 81, Last-120 Accuracy: 0.317\n"
       ]
      },
      {
       "output_type": "stream",
       "stream": "stdout",
       "text": [
        " \u9ed1\u5b50\u7684\u7c43\u7403  [Chinese] Failed!\n",
        "Prediction: Italian, Received: 121, Trained: 82, Last-121 Accuracy: 0.314\n"
       ]
      },
      {
       "output_type": "stream",
       "stream": "stdout",
       "text": [
        " 1930 \u0433\u043e\u0434 \u0432 \u0441\u043f\u043e\u0440\u0442\u0435  [Russian] Failed!\n",
        "Prediction: Ukrainian, Received: 122, Trained: 83, Last-122 Accuracy: 0.311\n"
       ]
      },
      {
       "output_type": "stream",
       "stream": "stdout",
       "text": [
        " \u0435\u043b\u0438\u0437\u0430\u0432\u0435\u0442\u0438\u043d\u0441\u043a\u0430\u044f \u0431\u0438\u0431\u043b\u0438\u044f  [Russian] OK\n"
       ]
      },
      {
       "output_type": "stream",
       "stream": "stdout",
       "text": [
        " \u043f\u043e\u043a\u0430\u044f\u043d\u0438\u0435 \u0444\u0438\u043b\u044c\u043c  [Russian] OK\n"
       ]
      },
      {
       "output_type": "stream",
       "stream": "stdout",
       "text": [
        " \u0631\u0634\u064a\u062f \u0645\u062f\u064a\u0646\u0629  [Arabic] OK\n"
       ]
      },
      {
       "output_type": "stream",
       "stream": "stdout",
       "text": [
        " disturbo depressivo  [Italian] OK\n"
       ]
      },
      {
       "output_type": "stream",
       "stream": "stdout",
       "text": [
        " francesco d'assisi  [Italian] OK\n"
       ]
      },
      {
       "output_type": "stream",
       "stream": "stdout",
       "text": [
        " konservismo  [Esperanto] Failed!\n",
        "Prediction: German, Received: 128, Trained: 84, Last-128 Accuracy: 0.336\n"
       ]
      },
      {
       "output_type": "stream",
       "stream": "stdout",
       "text": [
        " \u9ad8\u7aaa\u70ad\u9271  [Japanese] Failed!\n",
        "Prediction: Chinese, Received: 129, Trained: 85, Last-129 Accuracy: 0.333\n"
       ]
      },
      {
       "output_type": "stream",
       "stream": "stdout",
       "text": [
        " herpestis caroliniana  [Swedish] OK\n"
       ]
      },
      {
       "output_type": "stream",
       "stream": "stdout",
       "text": [
        " letheobia acutus  [French] OK\n"
       ]
      },
      {
       "output_type": "stream",
       "stream": "stdout",
       "text": [
        " scinax duartei  [Catalan] Failed!\n",
        "Prediction: Italian, Received: 132, Trained: 86, Last-132 Accuracy: 0.341\n"
       ]
      },
      {
       "output_type": "stream",
       "stream": "stdout",
       "text": [
        " alfred barnard  [French] Failed!\n",
        "Prediction: German, Received: 133, Trained: 87, Last-133 Accuracy: 0.338\n"
       ]
      },
      {
       "output_type": "stream",
       "stream": "stdout",
       "text": [
        " \u71b1\u5e36\u4f4e\u6c23\u58d3.  [Chinese] OK\n"
       ]
      },
      {
       "output_type": "stream",
       "stream": "stdout",
       "text": [
        " giorgia marin  [Indonesian] Failed!\n",
        "Prediction: Italian, Received: 135, Trained: 88, Last-135 Accuracy: 0.341\n"
       ]
      },
      {
       "output_type": "stream",
       "stream": "stdout",
       "text": [
        " xviii \u0441\u0442\u043e\u043b\u0456\u0442\u0442\u044f  [Ukrainian] Failed!\n",
        "Prediction: Russian, Received: 136, Trained: 89, Last-136 Accuracy: 0.338\n"
       ]
      },
      {
       "output_type": "stream",
       "stream": "stdout",
       "text": [
        " \u4e2d\u83ef\u6c11\u570b\u6f5b\u8266  [Chinese] OK\n"
       ]
      },
      {
       "output_type": "stream",
       "stream": "stdout",
       "text": [
        " cant\u00f3 d'angers oest  [Catalan] OK\n"
       ]
      },
      {
       "output_type": "stream",
       "stream": "stdout",
       "text": [
        " pensamiento cr\u00edtico  [Spanish] Failed!\n",
        "Prediction: German, Received: 139, Trained: 90, Last-139 Accuracy: 0.345\n"
       ]
      },
      {
       "output_type": "stream",
       "stream": "stdout",
       "text": [
        " herpestis marginata  [Swedish] OK\n"
       ]
      },
      {
       "output_type": "stream",
       "stream": "stdout",
       "text": [
        " sabiaceae  [Swedish] Failed!\n",
        "Prediction: French, Received: 141, Trained: 91, Last-141 Accuracy: 0.348\n"
       ]
      },
      {
       "output_type": "stream",
       "stream": "stdout",
       "text": [
        " \u062c\u0627\u062f\u0647 \u0627\u06cc\u06f1\u06f8 \u0627\u0646\u06af\u0644\u0633\u062a\u0627\u0646  [Farsi] OK\n"
       ]
      },
      {
       "output_type": "stream",
       "stream": "stdout",
       "text": [
        " transformers: wiek zag\u0142ady  [Polish] Failed!\n",
        "Prediction: German, Received: 143, Trained: 92, Last-143 Accuracy: 0.350\n"
       ]
      },
      {
       "output_type": "stream",
       "stream": "stdout",
       "text": [
        " westsomalische befreiungsfront  [German] Failed!\n",
        "Prediction: French, Received: 144, Trained: 93, Last-144 Accuracy: 0.347\n"
       ]
      },
      {
       "output_type": "stream",
       "stream": "stdout",
       "text": [
        " heli sievinen  [Finnish] Failed!\n",
        "Prediction: Italian, Received: 145, Trained: 94, Last-145 Accuracy: 0.345\n"
       ]
      },
      {
       "output_type": "stream",
       "stream": "stdout",
       "text": [
        " \u6770\u7c73\u00b7\u949f  [Chinese] Failed!\n",
        "Prediction: German, Received: 146, Trained: 95, Last-146 Accuracy: 0.342\n"
       ]
      },
      {
       "output_type": "stream",
       "stream": "stdout",
       "text": [
        " johann christoph egedacher  [German] Failed!\n",
        "Prediction: Spanish, Received: 147, Trained: 96, Last-147 Accuracy: 0.340\n"
       ]
      },
      {
       "output_type": "stream",
       "stream": "stdout",
       "text": [
        " marisol vera guerra  [Spanish] Failed!\n",
        "Prediction: Italian, Received: 148, Trained: 97, Last-148 Accuracy: 0.338\n"
       ]
      },
      {
       "output_type": "stream",
       "stream": "stdout",
       "text": [
        " luis mart\u00edn gil  [Spanish] OK\n"
       ]
      },
      {
       "output_type": "stream",
       "stream": "stdout",
       "text": [
        " typhlops acutus  [French] OK\n"
       ]
      },
      {
       "output_type": "stream",
       "stream": "stdout",
       "text": [
        " eker\u00f6 sommarstad  [Swedish] Failed!\n",
        "Prediction: Spanish, Received: 151, Trained: 98, Last-151 Accuracy: 0.344\n"
       ]
      },
      {
       "output_type": "stream",
       "stream": "stdout",
       "text": [
        " hydrotrida caroliniana  [Swedish] Failed!\n",
        "Prediction: German, Received: 152, Trained: 99, Last-152 Accuracy: 0.342\n"
       ]
      },
      {
       "output_type": "stream",
       "stream": "stdout",
       "text": [
        " liste der l\u00e4nderspiele der fu\u00dfballauswahl von r\u00e9union  [German] OK\n"
       ]
      },
      {
       "output_type": "stream",
       "stream": "stdout",
       "text": [
        " philippe gurdjian  [French] Failed!\n",
        "Prediction: Swedish, Received: 154, Trained: 100, Last-154 Accuracy: 0.344\n"
       ]
      },
      {
       "output_type": "stream",
       "stream": "stdout",
       "text": [
        " service des transports en commun de l'agglom\u00e9ration rennaise  [French] Failed!\n",
        "Prediction: German, Received: 155, Trained: 101, Last-155 Accuracy: 0.342\n"
       ]
      },
      {
       "output_type": "stream",
       "stream": "stdout",
       "text": [
        " 1929 \u0433\u043e\u0434 \u0432 \u0441\u043f\u043e\u0440\u0442\u0435  [Russian] OK\n"
       ]
      },
      {
       "output_type": "stream",
       "stream": "stdout",
       "text": [
        " \u67f3\u6c5f\u770c  [Japanese] Failed!\n",
        "Prediction: German, Received: 157, Trained: 102, Last-157 Accuracy: 0.344\n"
       ]
      },
      {
       "output_type": "stream",
       "stream": "stdout",
       "text": [
        " cant\u00f3 d'angers sud  [Catalan] OK\n"
       ]
      },
      {
       "output_type": "stream",
       "stream": "stdout",
       "text": [
        " jarice  [French] Failed!\n",
        "Prediction: German, Received: 159, Trained: 103, Last-159 Accuracy: 0.346\n"
       ]
      },
      {
       "output_type": "stream",
       "stream": "stdout",
       "text": [
        " \u304c\u304b\u5ea7\u30d9\u30fc\u30bf\u661f  [Japanese] Failed!\n",
        "Prediction: German, Received: 160, Trained: 104, Last-160 Accuracy: 0.344\n"
       ]
      },
      {
       "output_type": "stream",
       "stream": "stdout",
       "text": [
        " ringbahn n\u00fcrnberg  [German] OK\n"
       ]
      },
      {
       "output_type": "stream",
       "stream": "stdout",
       "text": [
        " macuillamia amplexicaulis  [Swedish] OK\n"
       ]
      },
      {
       "output_type": "stream",
       "stream": "stdout",
       "text": [
        " transformers: wiek zag\u0142ady  [Polish] OK\n"
       ]
      },
      {
       "output_type": "stream",
       "stream": "stdout",
       "text": [
        " culture club  [French] OK\n"
       ]
      },
      {
       "output_type": "stream",
       "stream": "stdout",
       "text": [
        " \u0641\u064a\u0631\u0648\u0633  [Arabic] OK\n"
       ]
      },
      {
       "output_type": "stream",
       "stream": "stdout",
       "text": [
        " john f. kennedy school of government  [Swedish] Failed!\n",
        "Prediction: German, Received: 166, Trained: 105, Last-166 Accuracy: 0.361\n"
       ]
      },
      {
       "output_type": "stream",
       "stream": "stdout",
       "text": [
        " \u062c\u0627\u06cc\u0632\u0647 \u0646\u0648\u0628\u0644  [Farsi] Failed!\n",
        "Prediction: Arabic, Received: 167, Trained: 106, Last-167 Accuracy: 0.359\n"
       ]
      },
      {
       "output_type": "stream",
       "stream": "stdout",
       "text": [
        " cattedrali in francia  [Italian] Failed!\n",
        "Prediction: French, Received: 168, Trained: 107, Last-168 Accuracy: 0.357\n"
       ]
      },
      {
       "output_type": "stream",
       "stream": "stdout",
       "text": [
        " \u571f\u66dc\u30c8\u30c3\u30d7\u30b9\u30da\u30b7\u30e3\u30eb  [Japanese] OK\n"
       ]
      },
      {
       "output_type": "stream",
       "stream": "stdout",
       "text": [
        " festival di sanremo 1986  [Italian] Failed!\n",
        "Prediction: French, Received: 170, Trained: 108, Last-170 Accuracy: 0.359\n"
       ]
      },
      {
       "output_type": "stream",
       "stream": "stdout",
       "text": [
        " monniera amplexicaulis  [Swedish] OK\n"
       ]
      },
      {
       "output_type": "stream",
       "stream": "stdout",
       "text": [
        " mathias r. samuelsen  [Norwegian] OK\n"
       ]
      },
      {
       "output_type": "stream",
       "stream": "stdout",
       "text": [
        " dekanat s\u0142upski  [Polish] OK\n"
       ]
      },
      {
       "output_type": "stream",
       "stream": "stdout",
       "text": [
        " ludwig wittgenstein  [Polish] Failed!\n",
        "Prediction: French, Received: 174, Trained: 109, Last-174 Accuracy: 0.368\n"
       ]
      },
      {
       "output_type": "stream",
       "stream": "stdout",
       "text": [
        " \u043c\u0456\u0454\u043e\u043d  [Ukrainian] Failed!\n",
        "Prediction: Russian, Received: 175, Trained: 110, Last-175 Accuracy: 0.366\n"
       ]
      },
      {
       "output_type": "stream",
       "stream": "stdout",
       "text": [
        " \u30c1\u30ef\u30ef \u66d6\u6627\u3055\u56de\u907f  [Japanese] Failed!\n",
        "Prediction: German, Received: 176, Trained: 111, Last-176 Accuracy: 0.364\n"
       ]
      },
      {
       "output_type": "stream",
       "stream": "stdout",
       "text": [
        " \u897f\u5f62\u307e\u3044  [Japanese] Failed!\n",
        "Prediction: Chinese, Received: 177, Trained: 112, Last-177 Accuracy: 0.362\n"
       ]
      },
      {
       "output_type": "stream",
       "stream": "stdout",
       "text": [
        " karl gustav jung  [German] Failed!\n",
        "Prediction: Swedish, Received: 178, Trained: 113, Last-178 Accuracy: 0.360\n"
       ]
      },
      {
       "output_type": "stream",
       "stream": "stdout",
       "text": [
        " allocateurs c++  [French] OK\n"
       ]
      },
      {
       "output_type": "stream",
       "stream": "stdout",
       "text": [
        " legenda haj\u00f3  [Hungarian] Failed!\n",
        "Prediction: German, Received: 180, Trained: 114, Last-180 Accuracy: 0.361\n"
       ]
      },
      {
       "output_type": "stream",
       "stream": "stdout",
       "text": [
        " 31 es busz debrecen  [Hungarian] Failed!\n",
        "Prediction: French, Received: 181, Trained: 115, Last-181 Accuracy: 0.359\n"
       ]
      },
      {
       "output_type": "stream",
       "stream": "stdout",
       "text": [
        " monniera caroliniana  [Swedish] OK\n"
       ]
      },
      {
       "output_type": "stream",
       "stream": "stdout",
       "text": [
        " cant\u00f3 d'angers tr\u00e9laz\u00e9  [Catalan] Failed!\n",
        "Prediction: French, Received: 183, Trained: 116, Last-183 Accuracy: 0.361\n"
       ]
      },
      {
       "output_type": "stream",
       "stream": "stdout",
       "text": [
        " shinji kagawa  [Spanish] Failed!\n",
        "Prediction: Swedish, Received: 184, Trained: 117, Last-184 Accuracy: 0.359\n"
       ]
      },
      {
       "output_type": "stream",
       "stream": "stdout",
       "text": [
        " onychocephalus unilineatus  [French] OK\n"
       ]
      },
      {
       "output_type": "stream",
       "stream": "stdout",
       "text": [
        " dnipropetrowsk  [German] Failed!\n",
        "Prediction: Polish, Received: 186, Trained: 118, Last-186 Accuracy: 0.360\n"
       ]
      },
      {
       "output_type": "stream",
       "stream": "stdout",
       "text": [
        " papierboote  [German] Failed!\n",
        "Prediction: French, Received: 187, Trained: 119, Last-187 Accuracy: 0.358\n"
       ]
      },
      {
       "output_type": "stream",
       "stream": "stdout",
       "text": [
        " foo fighters  [Spanish] Failed!\n",
        "Prediction: French, Received: 188, Trained: 120, Last-188 Accuracy: 0.356\n"
       ]
      },
      {
       "output_type": "stream",
       "stream": "stdout",
       "text": [
        " \u043a\u043e\u043b\u043e\u043d\u043d\u0430 \u043f\u043e\u0441\u0442\u0440\u043e\u0435\u043d\u0438\u0435  [Russian] Failed!\n",
        "Prediction: Ukrainian, Received: 189, Trained: 121, Last-189 Accuracy: 0.354\n"
       ]
      },
      {
       "output_type": "stream",
       "stream": "stdout",
       "text": [
        " quemada  [Spanish] Failed!\n",
        "Prediction: German, Received: 190, Trained: 122, Last-190 Accuracy: 0.353\n"
       ]
      },
      {
       "output_type": "stream",
       "stream": "stdout",
       "text": [
        " ordre de saint andr\u00e9 f\u00e9d\u00e9ration de russie  [French] OK\n"
       ]
      },
      {
       "output_type": "stream",
       "stream": "stdout",
       "text": [
        " \u71b1\u5e36\u4f4e\u6c23\u58d3.  [Chinese] OK\n"
       ]
      },
      {
       "output_type": "stream",
       "stream": "stdout",
       "text": [
        " \u043a\u043e\u043c\u0438\u0442\u0435\u0442 \u0433\u043e\u0441\u0443\u0434\u0430\u0440\u0441\u0442\u0432\u0435\u043d\u043d\u043e\u0439 \u0431\u0435\u0437\u043e\u043f\u0430\u0441\u043d\u043e\u0441\u0442\u0438 \u0441\u0441\u0441\u0440  [Russian] OK\n"
       ]
      },
      {
       "output_type": "stream",
       "stream": "stdout",
       "text": [
        " christuskirche j\u00fclich  [German] OK\n"
       ]
      },
      {
       "output_type": "stream",
       "stream": "stdout",
       "text": [
        " sea life abenteuer park  [German] Failed!\n",
        "Prediction: Swedish, Received: 195, Trained: 123, Last-195 Accuracy: 0.364\n"
       ]
      },
      {
       "output_type": "stream",
       "stream": "stdout",
       "text": [
        " vincenz m\u00fcller  [German] OK\n"
       ]
      },
      {
       "output_type": "stream",
       "stream": "stdout",
       "text": [
        " \ud504\ub77c\uc784 \ud2b8\ub79c\uc2a4\ud3ec\uba38  [Korean] Failed!\n",
        "Prediction: Chinese, Received: 197, Trained: 124, Last-197 Accuracy: 0.365\n"
       ]
      },
      {
       "output_type": "stream",
       "stream": "stdout",
       "text": [
        " \u043f\u0430\u043f\u043e\u0440\u043e\u0442\u043d\u043e\u0435 \u0436\u043b\u043e\u0431\u0438\u043d\u0441\u043a\u0438\u0439 \u0440\u0430\u0439\u043e\u043d  [Russian] OK\n"
       ]
      },
      {
       "output_type": "stream",
       "stream": "stdout",
       "text": [
        " esporte clube bahia  [Portuguese] Failed!\n",
        "Prediction: French, Received: 199, Trained: 125, Last-199 Accuracy: 0.367\n"
       ]
      },
      {
       "output_type": "stream",
       "stream": "stdout",
       "text": [
        " provincia del new jersey  [Italian] OK\n"
       ]
      },
      {
       "output_type": "stream",
       "stream": "stdout",
       "text": [
        " septilia caroliniana  [Swedish] OK\n"
       ]
      },
      {
       "output_type": "stream",
       "stream": "stdout",
       "text": [
        " \u062c\u0627\u062f\u0647 \u0626\u06cc\u06f2\u06f2 \u0627\u0631\u0648\u067e\u0627  [Farsi] OK\n"
       ]
      },
      {
       "output_type": "stream",
       "stream": "stdout",
       "text": [
        " goseck  [German] OK\n"
       ]
      },
      {
       "output_type": "stream",
       "stream": "stdout",
       "text": [
        " \u30ab\u30d0\u30cd  [Japanese] Failed!\n",
        "Prediction: German, Received: 204, Trained: 126, Last-204 Accuracy: 0.377\n"
       ]
      },
      {
       "output_type": "stream",
       "stream": "stdout",
       "text": [
        " rei\u00dfeck h\u00f6henbahn  [German] OK\n"
       ]
      },
      {
       "output_type": "stream",
       "stream": "stdout",
       "text": [
        " \u0432\u0442\u0440\u0430\u0442\u0438 \u0441\u0438\u043b\u043e\u0432\u0438\u0445 \u0441\u0442\u0440\u0443\u043a\u0442\u0443\u0440 \u0432\u043d\u0430\u0441\u043b\u0456\u0434\u043e\u043a \u0440\u043e\u0441\u0456\u0439\u0441\u044c\u043a\u043e\u0433\u043e \u0432\u0442\u043e\u0440\u0433\u043d\u0435\u043d\u043d\u044f \u0432 \u0443\u043a\u0440\u0430\u0457\u043d\u0443 2014  [Ukrainian] OK\n"
       ]
      },
      {
       "output_type": "stream",
       "stream": "stdout",
       "text": [
        " eker\u00f6 sommarstad v\u00e4stra delen  [Swedish] OK\n"
       ]
      },
      {
       "output_type": "stream",
       "stream": "stdout",
       "text": [
        " cant\u00f3 d'angles  [Catalan] OK\n"
       ]
      },
      {
       "output_type": "stream",
       "stream": "stdout",
       "text": [
        " typhlops unilineatus  [French] OK\n"
       ]
      },
      {
       "output_type": "stream",
       "stream": "stdout",
       "text": [
        " nazareo  [Spanish] OK\n"
       ]
      },
      {
       "output_type": "stream",
       "stream": "stdout",
       "text": [
        " once upon a time s\u00e9rie t\u00e9l\u00e9vis\u00e9e  [French] Failed!\n",
        "Prediction: German, Received: 211, Trained: 127, Last-211 Accuracy: 0.393\n"
       ]
      },
      {
       "output_type": "stream",
       "stream": "stdout",
       "text": [
        " \u30b8\u30e7\u30b7\u30e5\u30fb\u30a2\u30a6\u30c8\u30de\u30f3  [Japanese] OK\n"
       ]
      },
      {
       "output_type": "stream",
       "stream": "stdout",
       "text": [
        " komunumoj en distrikto timi\u0219  [Esperanto] Failed!\n",
        "Prediction: German, Received: 213, Trained: 128, Last-213 Accuracy: 0.394\n"
       ]
      },
      {
       "output_type": "stream",
       "stream": "stdout",
       "text": [
        " \u0432\u043e\u0437\u0432\u0440\u0430\u0442\u0430 \u043d\u0435\u0442 \u0444\u0438\u043b\u044c\u043c 1973  [Russian] OK\n"
       ]
      },
      {
       "output_type": "stream",
       "stream": "stdout",
       "text": [
        " \u5927\u962a\u5e02\u7acb\u6771\u9ad8\u7b49\u5b66\u6821  [Japanese] Failed!\n",
        "Prediction: Chinese, Received: 215, Trained: 129, Last-215 Accuracy: 0.395\n"
       ]
      },
      {
       "output_type": "stream",
       "stream": "stdout",
       "text": [
        " \u7d05\u5370\u82b1\u52a0\u84cb\u66ab\u4f5c\u90f5\u7968  [Chinese] Failed!\n",
        "Prediction: German, Received: 216, Trained: 130, Last-216 Accuracy: 0.394\n"
       ]
      },
      {
       "output_type": "stream",
       "stream": "stdout",
       "text": [
        " best seller wodehouse  [Italian] Failed!\n",
        "Prediction: German, Received: 217, Trained: 131, Last-217 Accuracy: 0.392\n"
       ]
      },
      {
       "output_type": "stream",
       "stream": "stdout",
       "text": [
        " oswald spengler  [French] Failed!\n",
        "Prediction: German, Received: 218, Trained: 132, Last-218 Accuracy: 0.390\n"
       ]
      },
      {
       "output_type": "stream",
       "stream": "stdout",
       "text": [
        " \u59da\u6df3\u8000  [Chinese] Failed!\n",
        "Prediction: German, Received: 219, Trained: 133, Last-219 Accuracy: 0.388\n"
       ]
      },
      {
       "output_type": "stream",
       "stream": "stdout",
       "text": [
        " nazar/diskografie  [German] OK\n"
       ]
      },
      {
       "output_type": "stream",
       "stream": "stdout",
       "text": [
        " \u0442\u0430\u0432\u043e\u043b\u0435\u0442\u0442\u0430  [Russian] OK\n"
       ]
      },
      {
       "output_type": "stream",
       "stream": "stdout",
       "text": [
        " beijing schmidt ccd asteroid program  [Spanish] Failed!\n",
        "Prediction: German, Received: 222, Trained: 134, Last-222 Accuracy: 0.392\n"
       ]
      },
      {
       "output_type": "stream",
       "stream": "stdout",
       "text": [
        " ayrton senna  [Hungarian] Failed!\n",
        "Prediction: German, Received: 223, Trained: 135, Last-223 Accuracy: 0.390\n"
       ]
      },
      {
       "output_type": "stream",
       "stream": "stdout",
       "text": [
        " ebola  [Danish] Failed!\n",
        "Prediction: German, Received: 224, Trained: 136, Last-224 Accuracy: 0.388\n"
       ]
      },
      {
       "output_type": "stream",
       "stream": "stdout",
       "text": [
        " harvard kennedy school  [Swedish] OK\n"
       ]
      },
      {
       "output_type": "stream",
       "stream": "stdout",
       "text": [
        " rwby  [Chinese] Failed!\n",
        "Prediction: German, Received: 226, Trained: 137, Last-226 Accuracy: 0.389\n"
       ]
      },
      {
       "output_type": "stream",
       "stream": "stdout",
       "text": [
        " bacopa caroliniana  [Swedish] OK\n"
       ]
      },
      {
       "output_type": "stream",
       "stream": "stdout",
       "text": [
        " \u0441\u043e\u0432\u0440\u0435\u043c\u0435\u043d\u043d\u043e\u0435 \u0438\u0441\u043a\u0443\u0441\u0441\u0442\u0432\u043e \u0438 \u043e\u0431\u0440\u0430\u0437\u043e\u0432\u0430\u043d\u0438\u0435 \u043c\u0443\u0437\u044b \u043c\u0438\u0440\u0430  [Russian] OK\n"
       ]
      },
      {
       "output_type": "stream",
       "stream": "stdout",
       "text": [
        " \u0622\u0632\u0627\u062f\u0631\u0627\u0647 \u0627\u0645\u06f1\u06f8 \u0628\u0631\u06cc\u062a\u0627\u0646\u06cc\u0627  [Farsi] OK\n"
       ]
      },
      {
       "output_type": "stream",
       "stream": "stdout",
       "text": [
        " championnat de france de rink hockey n1 2014 2015  [French] OK\n"
       ]
      },
      {
       "output_type": "stream",
       "stream": "stdout",
       "text": [
        " grypotyphlops unilineatus  [French] OK\n"
       ]
      },
      {
       "output_type": "stream",
       "stream": "stdout",
       "text": [
        " \u5e7f\u5dde\u5e02\u798f\u6ee1\u5bb6\u4fbf\u5229\u5e97\u6709\u9650\u516c\u53f8  [Chinese] OK\n"
       ]
      },
      {
       "output_type": "stream",
       "stream": "stdout",
       "text": [
        " \u043d\u0435\u0440\u0447\u0438\u043d\u0441\u043a\u0438\u0439 \u0437\u0430\u0432\u043e\u0434  [Russian] OK\n"
       ]
      },
      {
       "output_type": "stream",
       "stream": "stdout",
       "text": [
        " cant\u00f3 d'anglet nord  [Catalan] OK\n"
       ]
      },
      {
       "output_type": "stream",
       "stream": "stdout",
       "text": [
        " festival di sanremo 1986  [Italian] OK\n"
       ]
      },
      {
       "output_type": "stream",
       "stream": "stdout",
       "text": [
        " \u00e9quipe cycliste bmc development  [French] Failed!\n",
        "Prediction: German, Received: 236, Trained: 138, Last-236 Accuracy: 0.411\n"
       ]
      },
      {
       "output_type": "stream",
       "stream": "stdout",
       "text": [
        " \u65b0\u50b3\u5a92\u96fb\u8996\u5287\u5217\u8868 2010\u5e74\u4ee3  [Chinese] OK\n"
       ]
      },
      {
       "output_type": "stream",
       "stream": "stdout",
       "text": [
        " j\u00e9r\u00f4me pauwels  [French] Failed!\n",
        "Prediction: German, Received: 238, Trained: 139, Last-238 Accuracy: 0.412\n"
       ]
      },
      {
       "output_type": "stream",
       "stream": "stdout",
       "text": [
        " claudio mistrangelo  [Italian] Failed!\n",
        "Prediction: German, Received: 239, Trained: 140, Last-239 Accuracy: 0.410\n"
       ]
      },
      {
       "output_type": "stream",
       "stream": "stdout",
       "text": [
        " lijst van voetbalinterlands china mali  [Dutch] OK\n"
       ]
      },
      {
       "output_type": "stream",
       "stream": "stdout",
       "text": [
        " \u0432\u043e\u0435\u043d\u043d\u044b\u0435 \u043f\u043e\u0445\u043e\u0440\u043e\u043d\u044b  [Russian] OK\n"
       ]
      },
      {
       "output_type": "stream",
       "stream": "stdout",
       "text": [
        " typhlops russellii  [French] OK\n"
       ]
      },
      {
       "output_type": "stream",
       "stream": "stdout",
       "text": [
        " amy adams  [Finnish] Failed!\n",
        "Prediction: Swedish, Received: 243, Trained: 141, Last-243 Accuracy: 0.416\n"
       ]
      },
      {
       "output_type": "stream",
       "stream": "stdout",
       "text": [
        " kingsley coman  [French] Failed!\n",
        "Prediction: German, Received: 244, Trained: 142, Last-244 Accuracy: 0.414\n"
       ]
      },
      {
       "output_type": "stream",
       "stream": "stdout",
       "text": [
        " \u4eba\u985e\u8eab\u9ad8  [Chinese] OK\n"
       ]
      },
      {
       "output_type": "stream",
       "stream": "stdout",
       "text": [
        " elateridae  [French] Failed!\n",
        "Prediction: German, Received: 246, Trained: 143, Last-246 Accuracy: 0.415\n"
       ]
      },
      {
       "output_type": "stream",
       "stream": "stdout",
       "text": [
        " \u0627\u0646\u062a\u062d\u0627\u0631  [Arabic] Failed!\n",
        "Prediction: Farsi, Received: 247, Trained: 144, Last-247 Accuracy: 0.413\n"
       ]
      },
      {
       "output_type": "stream",
       "stream": "stdout",
       "text": [
        " 1928 \u0433\u043e\u0434 \u0432 \u0441\u043f\u043e\u0440\u0442\u0435  [Russian] OK\n"
       ]
      },
      {
       "output_type": "stream",
       "stream": "stdout",
       "text": [
        " \uae40\ud760\ub3cc\uc758 \ub09c  [Korean] Failed!\n",
        "Prediction: Chinese, Received: 249, Trained: 145, Last-249 Accuracy: 0.414\n"
       ]
      },
      {
       "output_type": "stream",
       "stream": "stdout",
       "text": [
        " \u0431\u0443\u0440\u044f\u043a \u0440\u0456\u0434  [Ukrainian] OK\n"
       ]
      },
      {
       "output_type": "stream",
       "stream": "stdout",
       "text": [
        " luis mart\u00edn gil  [Spanish] OK\n"
       ]
      },
      {
       "output_type": "stream",
       "stream": "stdout",
       "text": [
        " \u043f\u043e\u0431\u0435\u0434\u0430 \u0441\u0442\u0430\u043d\u0446\u0438\u044f \u043c\u0435\u0442\u0440\u043e \u0445\u0430\u0440\u044c\u043a\u043e\u0432  [Russian] OK\n"
       ]
      },
      {
       "output_type": "stream",
       "stream": "stdout",
       "text": [
        " cant\u00f3 d'anglet sud  [Catalan] OK\n"
       ]
      },
      {
       "output_type": "stream",
       "stream": "stdout",
       "text": [
        " fu\u00dfball weltmeisterschaft 2002/belgien  [German] Failed!\n",
        "Prediction: French, Received: 254, Trained: 146, Last-254 Accuracy: 0.421\n"
       ]
      },
      {
       "output_type": "stream",
       "stream": "stdout",
       "text": [
        " region skopje  [German] OK\n"
       ]
      },
      {
       "output_type": "stream",
       "stream": "stdout",
       "text": [
        " \uc124\uacbd\uad6c  [Korean] Failed!\n",
        "Prediction: Chinese, Received: 256, Trained: 147, Last-256 Accuracy: 0.422\n"
       ]
      },
      {
       "output_type": "stream",
       "stream": "stdout",
       "text": [
        " herpestis egensis  [Swedish] OK\n"
       ]
      },
      {
       "output_type": "stream",
       "stream": "stdout",
       "text": [
        " ann margret  [French] Failed!\n",
        "Prediction: German, Received: 258, Trained: 148, Last-258 Accuracy: 0.422\n"
       ]
      },
      {
       "output_type": "stream",
       "stream": "stdout",
       "text": [
        " chelsea fc in het seizoen 2014/15  [Dutch] OK\n"
       ]
      },
      {
       "output_type": "stream",
       "stream": "stdout",
       "text": [
        " mark ricks  [Swedish] Failed!\n",
        "Prediction: German, Received: 260, Trained: 149, Last-260 Accuracy: 0.423\n"
       ]
      },
      {
       "output_type": "stream",
       "stream": "stdout",
       "text": [
        " abdoulay diaby  [Dutch] Failed!\n",
        "Prediction: Italian, Received: 261, Trained: 150, Last-261 Accuracy: 0.421\n"
       ]
      },
      {
       "output_type": "stream",
       "stream": "stdout",
       "text": [
        " liste der landesstra\u00dfen im regierungsbezirk arnsberg  [German] OK\n"
       ]
      },
      {
       "output_type": "stream",
       "stream": "stdout",
       "text": [
        " \u9ad8\u7aaa\u70ad\u9271  [Japanese] OK\n"
       ]
      },
      {
       "output_type": "stream",
       "stream": "stdout",
       "text": [
        " onychocephalus westermanni  [French] OK\n"
       ]
      },
      {
       "output_type": "stream",
       "stream": "stdout",
       "text": [
        " kamal ol molk  [French] Failed!\n",
        "Prediction: German, Received: 265, Trained: 151, Last-265 Accuracy: 0.426\n"
       ]
      },
      {
       "output_type": "stream",
       "stream": "stdout",
       "text": [
        " dorothea di danimarca 1546 1617  [Italian] Failed!\n",
        "Prediction: French, Received: 266, Trained: 152, Last-266 Accuracy: 0.425\n"
       ]
      },
      {
       "output_type": "stream",
       "stream": "stdout",
       "text": [
        " hydranthelium egense  [Swedish] Failed!\n",
        "Prediction: French, Received: 267, Trained: 153, Last-267 Accuracy: 0.423\n"
       ]
      },
      {
       "output_type": "stream",
       "stream": "stdout",
       "text": [
        " pam\u00e4tn\u00edk franc\u00fazskym partiz\u00e1nom  [Slovak] Failed!\n",
        "Prediction: German, Received: 268, Trained: 154, Last-268 Accuracy: 0.422\n"
       ]
      },
      {
       "output_type": "stream",
       "stream": "stdout",
       "text": [
        " bassemberg  [French] Failed!\n",
        "Prediction: Swedish, Received: 269, Trained: 155, Last-269 Accuracy: 0.420\n"
       ]
      },
      {
       "output_type": "stream",
       "stream": "stdout",
       "text": [
        " \u0431\u043e\u0435\u0432\u043e\u0439 \u043a\u043b\u0438\u0447  [Russian] Failed!\n",
        "Prediction: Ukrainian, Received: 270, Trained: 156, Last-270 Accuracy: 0.419\n"
       ]
      },
      {
       "output_type": "stream",
       "stream": "stdout",
       "text": [
        " michael adams  [Hungarian] Failed!\n",
        "Prediction: French, Received: 271, Trained: 157, Last-271 Accuracy: 0.417\n"
       ]
      },
      {
       "output_type": "stream",
       "stream": "stdout",
       "text": [
        " \u0437\u043b\u043e\u0432\u0435\u0449\u0430\u044f \u0448\u0435\u0441\u0442\u0451\u0440\u043a\u0430  [Russian] OK\n"
       ]
      },
      {
       "output_type": "stream",
       "stream": "stdout",
       "text": [
        " \u904a\u6232\u738b\uff0d\u602a\u7378\u4e4b\u6c7a\u9b25  [Chinese] OK\n"
       ]
      },
      {
       "output_type": "stream",
       "stream": "stdout",
       "text": [
        " \ub300\ud55c\ubbfc\uad6d \ubbfc\ubc95 \uc81c106\uc870  [Korean] Failed!\n",
        "Prediction: Chinese, Received: 274, Trained: 158, Last-274 Accuracy: 0.420\n"
       ]
      },
      {
       "output_type": "stream",
       "stream": "stdout",
       "text": [
        " \u5e7f\u5dde\u5e02\u798f\u6ee1\u5bb6\u4fbf\u5229\u5e97\u6709\u9650\u516c\u53f8  [Chinese] OK\n"
       ]
      },
      {
       "output_type": "stream",
       "stream": "stdout",
       "text": [
        " damme d\u00fcmmer  [German] Failed!\n",
        "Prediction: French, Received: 276, Trained: 159, Last-276 Accuracy: 0.420\n"
       ]
      },
      {
       "output_type": "stream",
       "stream": "stdout",
       "text": [
        " 1927 \u0433\u043e\u0434 \u0432 \u0441\u043f\u043e\u0440\u0442\u0435  [Russian] OK\n"
       ]
      },
      {
       "output_type": "stream",
       "stream": "stdout",
       "text": [
        " barbara geiser  [German] Failed!\n",
        "Prediction: French, Received: 278, Trained: 160, Last-278 Accuracy: 0.421\n"
       ]
      },
      {
       "output_type": "stream",
       "stream": "stdout",
       "text": [
        " cant\u00f3 d'anglure  [Catalan] Failed!\n",
        "Prediction: French, Received: 279, Trained: 161, Last-279 Accuracy: 0.419\n"
       ]
      },
      {
       "output_type": "stream",
       "stream": "stdout",
       "text": [
        " xviii secolo  [Italian] OK\n"
       ]
      },
      {
       "output_type": "stream",
       "stream": "stdout",
       "text": [
        " liste des \u00e9pisodes de dragon ball z kai  [French] OK\n"
       ]
      },
      {
       "output_type": "stream",
       "stream": "stdout",
       "text": [
        " \u043e\u0439\u0440\u0430  [Russian] OK\n"
       ]
      },
      {
       "output_type": "stream",
       "stream": "stdout",
       "text": [
        " anastasia begriffskl\u00e4rung  [German] OK\n"
       ]
      },
      {
       "output_type": "stream",
       "stream": "stdout",
       "text": [
        " s  [German] OK\n"
       ]
      },
      {
       "output_type": "stream",
       "stream": "stdout",
       "text": [
        " adrianstua  [Norwegian] Failed!\n",
        "Prediction: French, Received: 285, Trained: 162, Last-285 Accuracy: 0.428\n"
       ]
      },
      {
       "output_type": "stream",
       "stream": "stdout",
       "text": [
        " radiotelevisione svizzera di lingua italiana  [French] OK\n"
       ]
      },
      {
       "output_type": "stream",
       "stream": "stdout",
       "text": [
        " erich m\u00fchsam  [German] OK\n"
       ]
      },
      {
       "output_type": "stream",
       "stream": "stdout",
       "text": [
        " bacopa egensis  [Swedish] OK\n"
       ]
      },
      {
       "output_type": "stream",
       "stream": "stdout",
       "text": [
        " saison 2014 2015 du stade toulousain  [French] OK\n"
       ]
      },
      {
       "output_type": "stream",
       "stream": "stdout",
       "text": [
        " \u8d8a\u5357  [Chinese] OK\n"
       ]
      },
      {
       "output_type": "stream",
       "stream": "stdout",
       "text": [
        " \u677e\u5ca1\u7d00\u96c4  [Japanese] Failed!\n",
        "Prediction: Chinese, Received: 291, Trained: 163, Last-291 Accuracy: 0.436\n"
       ]
      },
      {
       "output_type": "stream",
       "stream": "stdout",
       "text": [
        " edoardo bosio  [Italian] OK\n"
       ]
      },
      {
       "output_type": "stream",
       "stream": "stdout",
       "text": [
        " \u0441\u043e\u0432\u0440\u0435\u043c\u0435\u043d\u043d\u043e\u0435 \u0438\u0441\u043a\u0443\u0441\u0441\u0442\u0432\u043e \u0438 \u043e\u0431\u0440\u0430\u0437\u043e\u0432\u0430\u043d\u0438\u0435 \u043c\u0443\u0437\u044b \u043c\u0438\u0440\u0430  [Russian] OK\n"
       ]
      },
      {
       "output_type": "stream",
       "stream": "stdout",
       "text": [
        " dfl televisi\u00f3n  [Spanish] Failed!\n",
        "Prediction: Italian, Received: 294, Trained: 164, Last-294 Accuracy: 0.439\n"
       ]
      },
      {
       "output_type": "stream",
       "stream": "stdout",
       "text": [
        " \u043d\u0430\u0445\u0447\u0430\u043c\u0430\u0442\u044c\u044f\u043d\u0435  [Russian] OK\n"
       ]
      },
      {
       "output_type": "stream",
       "stream": "stdout",
       "text": [
        " \u043f\u043b\u0430\u0442\u043e\u043d\u043e\u0432 \u0430\u043d\u0434\u0440\u0435\u0439 \u043f\u043b\u0430\u0442\u043e\u043d\u043e\u0432\u0438\u0447  [Russian] OK\n"
       ]
      },
      {
       "output_type": "stream",
       "stream": "stdout",
       "text": [
        " \u043f\u0438\u0441\u044c\u043c\u043e \u0430\u0440\u0438\u0441\u0442\u0435\u044f  [Russian] OK\n"
       ]
      },
      {
       "output_type": "stream",
       "stream": "stdout",
       "text": [
        " italienische fu\u00dfballnationalmannschaft  [German] OK\n"
       ]
      },
      {
       "output_type": "stream",
       "stream": "stdout",
       "text": [
        " l'astronomie  [French] OK\n"
       ]
      },
      {
       "output_type": "stream",
       "stream": "stdout",
       "text": [
        " cant\u00f3 d'angulema est  [Catalan] OK\n"
       ]
      },
      {
       "output_type": "stream",
       "stream": "stdout",
       "text": [
        " dorotea di danimarca  [Italian] OK\n"
       ]
      },
      {
       "output_type": "stream",
       "stream": "stdout",
       "text": [
        " chris evert  [French] OK\n"
       ]
      },
      {
       "output_type": "stream",
       "stream": "stdout",
       "text": [
        " no logo: el poder de las marcas  [Spanish] Failed!\n",
        "Prediction: French, Received: 303, Trained: 165, Last-303 Accuracy: 0.452\n"
       ]
      },
      {
       "output_type": "stream",
       "stream": "stdout",
       "text": [
        " \u55f6\u54e9\u55f6\u54e9  [Japanese] Failed!\n",
        "Prediction: Chinese, Received: 304, Trained: 166, Last-304 Accuracy: 0.451\n"
       ]
      },
      {
       "output_type": "stream",
       "stream": "stdout",
       "text": [
        " typhlops excipiens  [French] OK\n"
       ]
      },
      {
       "output_type": "stream",
       "stream": "stdout",
       "text": [
        " herpestis eiseni  [Swedish] OK\n"
       ]
      },
      {
       "output_type": "stream",
       "stream": "stdout",
       "text": [
        " la roux \u00e1lbum  [Portuguese] OK\n"
       ]
      },
      {
       "output_type": "stream",
       "stream": "stdout",
       "text": [
        " piove luce  [Italian] Failed!\n",
        "Prediction: French, Received: 308, Trained: 167, Last-308 Accuracy: 0.455\n"
       ]
      },
      {
       "output_type": "stream",
       "stream": "stdout",
       "text": [
        " arsat 2  [Portuguese] Failed!\n",
        "Prediction: French, Received: 309, Trained: 168, Last-309 Accuracy: 0.453\n"
       ]
      },
      {
       "output_type": "stream",
       "stream": "stdout",
       "text": [
        " palazzo ducale venezia  [Italian] Failed!\n",
        "Prediction: German, Received: 310, Trained: 169, Last-310 Accuracy: 0.452\n"
       ]
      },
      {
       "output_type": "stream",
       "stream": "stdout",
       "text": [
        " isabel ii de espanha  [Portuguese] Failed!\n",
        "Prediction: German, Received: 311, Trained: 170, Last-311 Accuracy: 0.450\n"
       ]
      },
      {
       "output_type": "stream",
       "stream": "stdout",
       "text": [
        " \u65b0\u50b3\u5a92\u96fb\u8996\u5287\u5217\u8868 2010\u5e74\u4ee3  [Chinese] OK\n"
       ]
      },
      {
       "output_type": "stream",
       "stream": "stdout",
       "text": [
        " teresa s\u00e1nchez l\u00f3pez  [Spanish] Failed!\n",
        "Prediction: French, Received: 313, Trained: 171, Last-313 Accuracy: 0.450\n"
       ]
      },
      {
       "output_type": "stream",
       "stream": "stdout",
       "text": [
        " macuillamia eiseni  [Swedish] Failed!\n",
        "Prediction: German, Received: 314, Trained: 172, Last-314 Accuracy: 0.449\n"
       ]
      },
      {
       "output_type": "stream",
       "stream": "stdout",
       "text": [
        " \u0645\u064a \u0632\u064a\u0627\u062f\u0629  [Arabic] Failed!\n",
        "Prediction: Chinese, Received: 315, Trained: 173, Last-315 Accuracy: 0.448\n"
       ]
      },
      {
       "output_type": "stream",
       "stream": "stdout",
       "text": [
        " typhlops psittacus  [French] OK\n"
       ]
      },
      {
       "output_type": "stream",
       "stream": "stdout",
       "text": [
        " gustav mahler  [Italian] Failed!\n",
        "Prediction: German, Received: 317, Trained: 174, Last-317 Accuracy: 0.448\n"
       ]
      },
      {
       "output_type": "stream",
       "stream": "stdout",
       "text": [
        " cant\u00f3 d'angulema nord  [Catalan] OK\n"
       ]
      },
      {
       "output_type": "stream",
       "stream": "stdout",
       "text": [
        " kirkeklokke  [Danish] Failed!\n",
        "Prediction: French, Received: 319, Trained: 175, Last-319 Accuracy: 0.448\n"
       ]
      },
      {
       "output_type": "stream",
       "stream": "stdout",
       "text": [
        " \u043c\u0430\u0440\u0435\u043d\u0430 \u0432\u0430\u043b\u0435\u0446\u044c\u043a\u043e\u0433\u043e  [Ukrainian] Failed!\n",
        "Prediction: Russian, Received: 320, Trained: 176, Last-320 Accuracy: 0.447\n"
       ]
      },
      {
       "output_type": "stream",
       "stream": "stdout",
       "text": [
        " are you gonna go my way canci\u00f3n  [Spanish] Failed!\n",
        "Prediction: French, Received: 321, Trained: 177, Last-321 Accuracy: 0.445\n"
       ]
      },
      {
       "output_type": "stream",
       "stream": "stdout",
       "text": [
        " ranapalus eisenii  [Swedish] Failed!\n",
        "Prediction: German, Received: 322, Trained: 178, Last-322 Accuracy: 0.444\n"
       ]
      },
      {
       "output_type": "stream",
       "stream": "stdout",
       "text": [
        " jan du\u0161ek skladatel  [Czech] Failed!\n",
        "Prediction: Spanish, Received: 323, Trained: 179, Last-323 Accuracy: 0.443\n"
       ]
      },
      {
       "output_type": "stream",
       "stream": "stdout",
       "text": [
        " \u043c\u0430\u0439\u0440 \u0430\u0445\u043b\u0430\u0439\u0442\u043d\u0435\u0440 \u043f\u0430\u0442\u0440\u0438\u0446\u0438\u044f  [Russian] OK\n"
       ]
      },
      {
       "output_type": "stream",
       "stream": "stdout",
       "text": [
        " seno narkotek  [Italian] Failed!\n",
        "Prediction: Swedish, Received: 325, Trained: 180, Last-325 Accuracy: 0.443\n"
       ]
      },
      {
       "output_type": "stream",
       "stream": "stdout",
       "text": [
        " \u0633\u0627\u0646\u062f\u0631 \u067e\u06cc\u0686\u0627\u06cc  [Farsi] Failed!\n",
        "Prediction: Arabic, Received: 326, Trained: 181, Last-326 Accuracy: 0.442\n"
       ]
      },
      {
       "output_type": "stream",
       "stream": "stdout",
       "text": [
        " jilboobs  [Indonesian] Failed!\n",
        "Prediction: German, Received: 327, Trained: 182, Last-327 Accuracy: 0.440\n"
       ]
      },
      {
       "output_type": "stream",
       "stream": "stdout",
       "text": [
        " john markovski  [French] Failed!\n",
        "Prediction: Swedish, Received: 328, Trained: 183, Last-328 Accuracy: 0.439\n"
       ]
      },
      {
       "output_type": "stream",
       "stream": "stdout",
       "text": [
        " 21 septembre  [French] OK\n"
       ]
      },
      {
       "output_type": "stream",
       "stream": "stdout",
       "text": [
        " \u6771\u4eac\u30a2\u30ca\u30a6\u30f3\u30b9\u30a2\u30ab\u30c7\u30df\u30fc  [Japanese] OK\n"
       ]
      },
      {
       "output_type": "stream",
       "stream": "stdout",
       "text": [
        " flags of our fathers pel\u00edcula  [Spanish] OK\n"
       ]
      },
      {
       "output_type": "stream",
       "stream": "stdout",
       "text": [
        " wjatscheslaw michailowitsch molotow  [German] Failed!\n",
        "Prediction: French, Received: 332, Trained: 184, Last-332 Accuracy: 0.443\n"
       ]
      },
      {
       "output_type": "stream",
       "stream": "stdout",
       "text": [
        " \u03b5\u03c41  [Greek] Failed!\n",
        "Prediction: Chinese, Received: 333, Trained: 185, Last-333 Accuracy: 0.441\n"
       ]
      },
      {
       "output_type": "stream",
       "stream": "stdout",
       "text": [
        " \u05d9\u05e0\u05d5\u05df \u05de\u05d9\u05dc\u05e1  [Hebrew] Failed!\n",
        "Prediction: Chinese, Received: 334, Trained: 186, Last-334 Accuracy: 0.440\n"
       ]
      },
      {
       "output_type": "stream",
       "stream": "stdout",
       "text": [
        " \u043e\u0440\u0443\u0434\u0438\u0439\u043d\u044b\u0439 \u043b\u0430\u0444\u0435\u0442  [Russian] OK\n"
       ]
      },
      {
       "output_type": "stream",
       "stream": "stdout",
       "text": [
        " region polog  [German] OK\n"
       ]
      },
      {
       "output_type": "stream",
       "stream": "stdout",
       "text": [
        " manuel pertegaz  [Spanish] Failed!\n",
        "Prediction: French, Received: 337, Trained: 187, Last-337 Accuracy: 0.442\n"
       ]
      },
      {
       "output_type": "stream",
       "stream": "stdout",
       "text": [
        " h\u00fcfingen  [German] Failed!\n",
        "Prediction: Finnish, Received: 338, Trained: 188, Last-338 Accuracy: 0.441\n"
       ]
      },
      {
       "output_type": "stream",
       "stream": "stdout",
       "text": [
        " \u0432\u044b\u0447\u0430  [Russian] OK\n"
       ]
      },
      {
       "output_type": "stream",
       "stream": "stdout",
       "text": [
        " ostafrikafeldzug  [German] OK\n"
       ]
      },
      {
       "output_type": "stream",
       "stream": "stdout",
       "text": [
        " marie simon pierre  [French] OK\n"
       ]
      },
      {
       "output_type": "stream",
       "stream": "stdout",
       "text": [
        " 1926 \u0433\u043e\u0434 \u0432 \u0441\u043f\u043e\u0440\u0442\u0435  [Russian] OK\n"
       ]
      },
      {
       "output_type": "stream",
       "stream": "stdout",
       "text": [
        " \u03c0\u03bf\u03cd\u03bd\u03c4\u03c3\u03b1\u03ba \u03c4\u03b6\u03ac\u03b3\u03b9\u03b1  [Greek] Failed!\n",
        "Prediction: Chinese, Received: 343, Trained: 189, Last-343 Accuracy: 0.446\n"
       ]
      },
      {
       "output_type": "stream",
       "stream": "stdout",
       "text": [
        " bacopa eisenii  [Swedish] OK\n"
       ]
      },
      {
       "output_type": "stream",
       "stream": "stdout",
       "text": [
        " \u0441\u043f\u0438\u0441\u043e\u043a \u043f\u043e\u0440\u0442\u043e\u0432 \u043f\u043e \u043a\u043e\u043d\u0442\u0435\u0439\u043d\u0435\u0440\u043d\u043e\u043c\u0443 \u0433\u0440\u0443\u0437\u043e\u043e\u0431\u043e\u0440\u043e\u0442\u0443  [Russian] OK\n"
       ]
      },
      {
       "output_type": "stream",
       "stream": "stdout",
       "text": [
        " cant\u00f3 d'angulema oest  [Catalan] OK\n"
       ]
      },
      {
       "output_type": "stream",
       "stream": "stdout",
       "text": [
        " \u4e2d\u83ef\u4eba\u6c11\u5171\u548c\u570b\uff0d\u5370\u5ea6\u95dc\u4fc2  [Chinese] OK\n"
       ]
      },
      {
       "output_type": "stream",
       "stream": "stdout",
       "text": [
        " stricnina nella minestra  [Italian] Failed!\n",
        "Prediction: Swedish, Received: 348, Trained: 190, Last-348 Accuracy: 0.451\n"
       ]
      },
      {
       "output_type": "stream",
       "stream": "stdout",
       "text": [
        " fran\u00e7ois ren\u00e9 de chateaubriand  [Esperanto] Failed!\n",
        "Prediction: French, Received: 349, Trained: 191, Last-349 Accuracy: 0.450\n"
       ]
      },
      {
       "output_type": "stream",
       "stream": "stdout",
       "text": [
        " mattin najafi  [Swedish] Failed!\n",
        "Prediction: German, Received: 350, Trained: 192, Last-350 Accuracy: 0.449\n"
       ]
      },
      {
       "output_type": "stream",
       "stream": "stdout",
       "text": [
        " ii universiade invernale  [Italian] Failed!\n",
        "Prediction: French, Received: 351, Trained: 193, Last-351 Accuracy: 0.447\n"
       ]
      },
      {
       "output_type": "stream",
       "stream": "stdout",
       "text": [
        " spreeweg berlin  [German] Failed!\n",
        "Prediction: Swedish, Received: 352, Trained: 194, Last-352 Accuracy: 0.446\n"
       ]
      },
      {
       "output_type": "stream",
       "stream": "stdout",
       "text": [
        " 10 gruppen  [Italian] Failed!\n",
        "Prediction: French, Received: 353, Trained: 195, Last-353 Accuracy: 0.445\n"
       ]
      },
      {
       "output_type": "stream",
       "stream": "stdout",
       "text": [
        " \u6211\u4eec\u90fd\u7231\u7b11  [Chinese] OK\n"
       ]
      },
      {
       "output_type": "stream",
       "stream": "stdout",
       "text": [
        " abdul baset al sarout  [Polish] Failed!\n",
        "Prediction: French, Received: 355, Trained: 196, Last-355 Accuracy: 0.445\n"
       ]
      },
      {
       "output_type": "stream",
       "stream": "stdout",
       "text": [
        " brixlegg  [German] OK\n"
       ]
      },
      {
       "output_type": "stream",
       "stream": "stdout",
       "text": [
        " le professeur foldingue  [French] Failed!\n",
        "Prediction: German, Received: 357, Trained: 197, Last-357 Accuracy: 0.445\n"
       ]
      },
      {
       "output_type": "stream",
       "stream": "stdout",
       "text": [
        " hongerwinter  [Dutch] Failed!\n",
        "Prediction: German, Received: 358, Trained: 198, Last-358 Accuracy: 0.444\n"
       ]
      },
      {
       "output_type": "stream",
       "stream": "stdout",
       "text": [
        " anisocalyx limnanthiflorus  [Swedish] Failed!\n",
        "Prediction: French, Received: 359, Trained: 199, Last-359 Accuracy: 0.443\n"
       ]
      },
      {
       "output_type": "stream",
       "stream": "stdout",
       "text": [
        " \u043a\u0440\u0430\u0441\u043d\u043e\u0433\u043e\u0440\u0441\u043a  [Russian] Failed!\n",
        "Prediction: Ukrainian, Received: 360, Trained: 200, Last-360 Accuracy: 0.442\n"
       ]
      },
      {
       "output_type": "stream",
       "stream": "stdout",
       "text": [
        " \u0645\u0633\u0627\u0628\u0642\u0627\u062a \u062c\u0647\u0627\u0646\u06cc \u0698\u06cc\u0645\u0646\u0627\u0633\u062a\u06cc\u06a9 \u0647\u0646\u0631\u06cc \u062a\u06cc\u0645\u06cc \u06f1\u06f9\u06f9\u06f4  [Farsi] OK\n"
       ]
      },
      {
       "output_type": "stream",
       "stream": "stdout",
       "text": [
        " liste der landesstra\u00dfen im regierungsbezirk detmold  [German] OK\n"
       ]
      },
      {
       "output_type": "stream",
       "stream": "stdout",
       "text": [
        " malattia itai itai  [Italian] Failed!\n",
        "Prediction: Swedish, Received: 363, Trained: 201, Last-363 Accuracy: 0.444\n"
       ]
      },
      {
       "output_type": "stream",
       "stream": "stdout",
       "text": [
        " cant\u00f3 d'anhan  [Catalan] OK\n"
       ]
      },
      {
       "output_type": "stream",
       "stream": "stdout",
       "text": [
        " \u4e2d\u570b\u96fb\u529b\u570b\u969b\u767c\u5c55  [Chinese] OK\n"
       ]
      },
      {
       "output_type": "stream",
       "stream": "stdout",
       "text": [
        " \u9280\u6cb3\u63a2\u67fb2100\u5e74 \u30dc\u30fc\u30c0\u30fc\u30d7\u30e9\u30cd\u30c3\u30c8  [Japanese] OK\n"
       ]
      },
      {
       "output_type": "stream",
       "stream": "stdout",
       "text": [
        " hans zimmer  [Hungarian] Failed!\n",
        "Prediction: German, Received: 367, Trained: 202, Last-367 Accuracy: 0.447\n"
       ]
      },
      {
       "output_type": "stream",
       "stream": "stdout",
       "text": [
        " orangutan  [German] Failed!\n",
        "Prediction: French, Received: 368, Trained: 203, Last-368 Accuracy: 0.446\n"
       ]
      },
      {
       "output_type": "stream",
       "stream": "stdout",
       "text": [
        " hist\u00f2ria d'andorra  [Catalan] OK\n"
       ]
      },
      {
       "output_type": "stream",
       "stream": "stdout",
       "text": [
        " 1925 \u0433\u043e\u0434 \u0432 \u0441\u043f\u043e\u0440\u0442\u0435  [Russian] OK\n"
       ]
      },
      {
       "output_type": "stream",
       "stream": "stdout",
       "text": [
        " bacopa monnieria  [Swedish] Failed!\n",
        "Prediction: German, Received: 371, Trained: 204, Last-371 Accuracy: 0.447\n"
       ]
      },
      {
       "output_type": "stream",
       "stream": "stdout",
       "text": [
        " amauriciens  [French] Failed!\n",
        "Prediction: Swedish, Received: 372, Trained: 205, Last-372 Accuracy: 0.446\n"
       ]
      },
      {
       "output_type": "stream",
       "stream": "stdout",
       "text": [
        " \u0434\u043e\u0431\u0435\u043b\u0435  [Russian] OK\n"
       ]
      },
      {
       "output_type": "stream",
       "stream": "stdout",
       "text": [
        " alij\u00e0 mustafina  [Italian] Failed!\n",
        "Prediction: German, Received: 374, Trained: 206, Last-374 Accuracy: 0.447\n"
       ]
      },
      {
       "output_type": "stream",
       "stream": "stdout",
       "text": [
        " charles d'angennes  [French] Failed!\n",
        "Prediction: Catalan, Received: 375, Trained: 207, Last-375 Accuracy: 0.445\n"
       ]
      },
      {
       "output_type": "stream",
       "stream": "stdout",
       "text": [
        " \u77f3\u5ddd\u770c\u7acb\u5de5\u696d\u9ad8\u7b49\u5b66\u6821  [Japanese] OK\n"
       ]
      },
      {
       "output_type": "stream",
       "stream": "stdout",
       "text": [
        " marcel dubois  [French] Failed!\n",
        "Prediction: Spanish, Received: 377, Trained: 208, Last-377 Accuracy: 0.446\n"
       ]
      },
      {
       "output_type": "stream",
       "stream": "stdout",
       "text": [
        " \u0430\u0434\u0430\u043c  [Russian] OK\n"
       ]
      },
      {
       "output_type": "stream",
       "stream": "stdout",
       "text": [
        " science fiction jahr 2007  [German] Failed!\n",
        "Prediction: French, Received: 379, Trained: 209, Last-379 Accuracy: 0.446\n"
       ]
      },
      {
       "output_type": "stream",
       "stream": "stdout",
       "text": [
        " \u043e\u043b\u044c\u0448\u0430\u043d\u0441\u043a\u0438\u0439 \u0430\u043b\u0435\u043a\u0441\u0430\u043d\u0434\u0440 \u0438\u0433\u043e\u0440\u0435\u0432\u0438\u0447  [Russian] OK\n"
       ]
      },
      {
       "output_type": "stream",
       "stream": "stdout",
       "text": [
        " bramia indica  [Swedish] Failed!\n",
        "Prediction: Italian, Received: 381, Trained: 210, Last-381 Accuracy: 0.446\n"
       ]
      },
      {
       "output_type": "stream",
       "stream": "stdout",
       "text": [
        " reservoir dogs \u2013 wilde hunde  [German] Failed!\n",
        "Prediction: French, Received: 382, Trained: 211, Last-382 Accuracy: 0.445\n"
       ]
      },
      {
       "output_type": "stream",
       "stream": "stdout",
       "text": [
        " \u0627\u0644\u0625\u0646\u062a\u0631\u0646\u062a \u0641\u064a \u0627\u0644\u064a\u0645\u0646  [Arabic] OK\n"
       ]
      },
      {
       "output_type": "stream",
       "stream": "stdout",
       "text": [
        " braten gericht  [German] OK\n"
       ]
      },
      {
       "output_type": "stream",
       "stream": "stdout",
       "text": [
        " \u0441\u0442\u0443\u043f\u043a\u0430 \u043e\u0441\u0442\u0430\u043f \u0431\u043e\u0433\u0434\u0430\u043d\u043e\u0432\u0438\u0447  [Ukrainian] OK\n"
       ]
      },
      {
       "output_type": "stream",
       "stream": "stdout",
       "text": [
        " piove luce  [Italian] OK\n"
       ]
      },
      {
       "output_type": "stream",
       "stream": "stdout",
       "text": [
        " disini ada tuyul  [Indonesian] Failed!\n",
        "Prediction: Swedish, Received: 387, Trained: 212, Last-387 Accuracy: 0.450\n"
       ]
      },
      {
       "output_type": "stream",
       "stream": "stdout",
       "text": [
        " miroslav bulesic  [French] Failed!\n",
        "Prediction: German, Received: 388, Trained: 213, Last-388 Accuracy: 0.448\n"
       ]
      },
      {
       "output_type": "stream",
       "stream": "stdout",
       "text": [
        " cant\u00f3 d'anizy le ch\u00e2teau  [Catalan] Failed!\n",
        "Prediction: French, Received: 389, Trained: 214, Last-389 Accuracy: 0.447\n"
       ]
      },
      {
       "output_type": "stream",
       "stream": "stdout",
       "text": [
        " verband der deutschen filmkritik  [German] OK\n"
       ]
      },
      {
       "output_type": "stream",
       "stream": "stdout",
       "text": [
        " 2014\u201315\u5e74\u9999\u6e2f\u7532\u7d44\u8db3\u7403\u806f\u8cfd  [Chinese] OK\n"
       ]
      },
      {
       "output_type": "stream",
       "stream": "stdout",
       "text": [
        " javier espinosa  [Dutch] Failed!\n",
        "Prediction: German, Received: 392, Trained: 215, Last-392 Accuracy: 0.449\n"
       ]
      },
      {
       "output_type": "stream",
       "stream": "stdout",
       "text": [
        " \u4e2d\u570b\u96fb\u529b\u570b\u969b\u767c\u5c55  [Chinese] OK\n"
       ]
      },
      {
       "output_type": "stream",
       "stream": "stdout",
       "text": [
        " \u30c4\u30dc\u30af\u30b5  [Japanese] Failed!\n",
        "Prediction: Chinese, Received: 394, Trained: 216, Last-394 Accuracy: 0.449\n"
       ]
      },
      {
       "output_type": "stream",
       "stream": "stdout",
       "text": [
        " \u0440\u0438\u0447\u0430\u0440\u0434 \u0443\u043e\u043b\u043b\u0438\u043d\u0433\u0444\u043e\u0440\u0434\u0441\u043a\u0438\u0439  [Russian] OK\n"
       ]
      },
      {
       "output_type": "stream",
       "stream": "stdout",
       "text": [
        " bramia monniera  [Swedish] OK\n"
       ]
      },
      {
       "output_type": "stream",
       "stream": "stdout",
       "text": [
        " m\u00fcbahele  [Turkish] Failed!\n",
        "Prediction: German, Received: 397, Trained: 217, Last-397 Accuracy: 0.451\n"
       ]
      },
      {
       "output_type": "stream",
       "stream": "stdout",
       "text": [
        " ginecologia e vida intima  [Spanish] Failed!\n",
        "Prediction: Swedish, Received: 398, Trained: 218, Last-398 Accuracy: 0.450\n"
       ]
      },
      {
       "output_type": "stream",
       "stream": "stdout",
       "text": [
        " \u043f\u043e\u0431\u0435\u0434\u0430 \u0441\u0442\u0430\u043d\u0446\u0438\u044f \u043c\u0435\u0442\u0440\u043e \u0445\u0430\u0440\u044c\u043a\u043e\u0432  [Russian] Failed!\n",
        "Prediction: Ukrainian, Received: 399, Trained: 219, Last-399 Accuracy: 0.449\n"
       ]
      },
      {
       "output_type": "stream",
       "stream": "stdout",
       "text": [
        " johann christoph egedacher  [German] OK\n"
       ]
      },
      {
       "output_type": "stream",
       "stream": "stdout",
       "text": [
        " liste der baudenkm\u00e4ler in sankt englmar  [German] Failed!\n",
        "Prediction: French, Received: 401, Trained: 220, Last-401 Accuracy: 0.449\n"
       ]
      },
      {
       "output_type": "stream",
       "stream": "stdout",
       "text": [
        " ambrogio borgognone  [French] OK\n"
       ]
      },
      {
       "output_type": "stream",
       "stream": "stdout",
       "text": [
        " penyahgaraman  [Malaysian] Failed!\n",
        "Prediction: French, Received: 403, Trained: 221, Last-403 Accuracy: 0.449\n"
       ]
      },
      {
       "output_type": "stream",
       "stream": "stdout",
       "text": [
        " \u0440\u0443\u0441\u0441\u043a\u0438\u0435 \u043f\u0435\u0440\u0435\u0432\u043e\u0434\u044b \u0431\u0438\u0431\u043b\u0438\u0438  [Russian] OK\n"
       ]
      },
      {
       "output_type": "stream",
       "stream": "stdout",
       "text": [
        " \u0431\u0443\u0440\u043e\u0432 \u0432\u0438\u043a\u0442\u043e\u0440 \u043d\u0438\u043a\u043e\u043b\u0430\u0435\u0432\u0438\u0447  [Russian] OK\n"
       ]
      },
      {
       "output_type": "stream",
       "stream": "stdout",
       "text": [
        " james rodr\u00edguez  [Italian] Failed!\n",
        "Prediction: French, Received: 406, Trained: 222, Last-406 Accuracy: 0.451\n"
       ]
      },
      {
       "output_type": "stream",
       "stream": "stdout",
       "text": [
        " \u0645\u062d\u0645\u062f \u0623\u063a \u0643\u0627\u0648\u0635\u0646  [Arabic] OK\n"
       ]
      },
      {
       "output_type": "stream",
       "stream": "stdout",
       "text": [
        " coupe du monde de football f\u00e9minin des moins de 20 ans 2014  [French] OK\n"
       ]
      },
      {
       "output_type": "stream",
       "stream": "stdout",
       "text": [
        " suzhou ladies open 2014  [Italian] Failed!\n",
        "Prediction: French, Received: 409, Trained: 223, Last-409 Accuracy: 0.452\n"
       ]
      },
      {
       "output_type": "stream",
       "stream": "stdout",
       "text": [
        " mitsubishi outlander  [Italian] Failed!\n",
        "Prediction: German, Received: 410, Trained: 224, Last-410 Accuracy: 0.451\n"
       ]
      },
      {
       "output_type": "stream",
       "stream": "stdout",
       "text": [
        " \u5f17\u6717\u8328\u00b7\u5361\u592b\u5361  [Chinese] OK\n"
       ]
      },
      {
       "output_type": "stream",
       "stream": "stdout",
       "text": [
        " bramia monnieri  [Swedish] OK\n"
       ]
      },
      {
       "output_type": "stream",
       "stream": "stdout",
       "text": [
        " eparchia wo\u0142y\u0144ska patriarchat moskiewski  [Polish] Failed!\n",
        "Prediction: German, Received: 413, Trained: 225, Last-413 Accuracy: 0.453\n"
       ]
      },
      {
       "output_type": "stream",
       "stream": "stdout",
       "text": [
        " lagrabe  [Euskara] Failed!\n",
        "Prediction: German, Received: 414, Trained: 226, Last-414 Accuracy: 0.452\n"
       ]
      },
      {
       "output_type": "stream",
       "stream": "stdout",
       "text": [
        " liste der diplomatischen vertretungen in bonn  [German] OK\n"
       ]
      },
      {
       "output_type": "stream",
       "stream": "stdout",
       "text": [
        " liste der l\u00e4nderspiele der fu\u00dfballauswahl von r\u00e9union  [German] OK\n"
       ]
      },
      {
       "output_type": "stream",
       "stream": "stdout",
       "text": [
        " american academy of achievement  [French] Failed!\n",
        "Prediction: Swedish, Received: 417, Trained: 227, Last-417 Accuracy: 0.453\n"
       ]
      },
      {
       "output_type": "stream",
       "stream": "stdout",
       "text": [
        " cant\u00f3 d'annecy centre  [Catalan] OK\n"
       ]
      },
      {
       "output_type": "stream",
       "stream": "stdout",
       "text": [
        " \u4e2d\u570b\u96fb\u529b\u570b\u969b\u767c\u5c55  [Chinese] OK\n"
       ]
      },
      {
       "output_type": "stream",
       "stream": "stdout",
       "text": [
        " \u0641\u0644\u0648\u0631\u0646\u0633\u0627  [Arabic] OK\n"
       ]
      },
      {
       "output_type": "stream",
       "stream": "stdout",
       "text": [
        " \u043a\u043e\u043c\u043f\u0430\u0439 \u0441\u0435\u0433\u0443\u043d\u0434\u043e  [Ukrainian] OK\n"
       ]
      },
      {
       "output_type": "stream",
       "stream": "stdout",
       "text": [
        " grunge  [Turkish] Failed!\n",
        "Prediction: German, Received: 422, Trained: 228, Last-422 Accuracy: 0.457\n"
       ]
      },
      {
       "output_type": "stream",
       "stream": "stdout",
       "text": [
        " gaecheonjeol  [Spanish] OK\n"
       ]
      },
      {
       "output_type": "stream",
       "stream": "stdout",
       "text": [
        " laurent delahousse  [French] Failed!\n",
        "Prediction: Italian, Received: 424, Trained: 229, Last-424 Accuracy: 0.458\n"
       ]
      },
      {
       "output_type": "stream",
       "stream": "stdout",
       "text": [
        " jos\u00e9 rodolfo pires ribeiro  [Italian] Failed!\n",
        "Prediction: French, Received: 425, Trained: 230, Last-425 Accuracy: 0.456\n"
       ]
      },
      {
       "output_type": "stream",
       "stream": "stdout",
       "text": [
        " capraria monnieria  [Swedish] OK\n"
       ]
      },
      {
       "output_type": "stream",
       "stream": "stdout",
       "text": [
        " kettering ohio  [French] OK\n"
       ]
      },
      {
       "output_type": "stream",
       "stream": "stdout",
       "text": [
        " sacr\u00e9 c\u0153ur  [French] OK\n"
       ]
      },
      {
       "output_type": "stream",
       "stream": "stdout",
       "text": [
        " atomowe amazonki  [Polish] Failed!\n",
        "Prediction: French, Received: 429, Trained: 231, Last-429 Accuracy: 0.459\n"
       ]
      },
      {
       "output_type": "stream",
       "stream": "stdout",
       "text": [
        " goseck  [German] Failed!\n",
        "Prediction: Spanish, Received: 430, Trained: 232, Last-430 Accuracy: 0.458\n"
       ]
      },
      {
       "output_type": "stream",
       "stream": "stdout",
       "text": [
        " ayrton senna  [Hungarian] OK\n"
       ]
      },
      {
       "output_type": "stream",
       "stream": "stdout",
       "text": [
        " fabian lenk  [German] Failed!\n",
        "Prediction: French, Received: 432, Trained: 233, Last-432 Accuracy: 0.458\n"
       ]
      },
      {
       "output_type": "stream",
       "stream": "stdout",
       "text": [
        " gratiola monnieria  [Swedish] OK\n"
       ]
      },
      {
       "output_type": "stream",
       "stream": "stdout",
       "text": [
        " schlacht am assam  [German] Failed!\n",
        "Prediction: French, Received: 434, Trained: 234, Last-434 Accuracy: 0.459\n"
       ]
      },
      {
       "output_type": "stream",
       "stream": "stdout",
       "text": [
        " \u043f\u0430\u043f\u043e\u0440\u043e\u0442\u043d\u043e\u0435 \u0436\u043b\u043e\u0431\u0438\u043d\u0441\u043a\u0438\u0439 \u0440\u0430\u0439\u043e\u043d  [Russian] OK\n"
       ]
      },
      {
       "output_type": "stream",
       "stream": "stdout",
       "text": [
        " cant\u00f3 d'annecy nord est  [Catalan] OK\n"
       ]
      },
      {
       "output_type": "stream",
       "stream": "stdout",
       "text": [
        " \u6211\u4eec\u90fd\u7231\u7b11  [Chinese] OK\n"
       ]
      },
      {
       "output_type": "stream",
       "stream": "stdout",
       "text": [
        " american anti slavery society  [French] OK\n"
       ]
      },
      {
       "output_type": "stream",
       "stream": "stdout",
       "text": [
        " \u8d85\u529b\u6226\u968a\u30aa\u30fc\u30ec\u30f3\u30b8\u30e3\u30fc  [Japanese] OK\n"
       ]
      },
      {
       "output_type": "stream",
       "stream": "stdout",
       "text": [
        " blender programvare  [Norwegian] Failed!\n",
        "Prediction: German, Received: 440, Trained: 235, Last-440 Accuracy: 0.464\n"
       ]
      },
      {
       "output_type": "stream",
       "stream": "stdout",
       "text": [
        " luis mart\u00edn gil  [Spanish] OK\n"
       ]
      },
      {
       "output_type": "stream",
       "stream": "stdout",
       "text": [
        " \u4e2d\u83ef\u4eba\u6c11\u5171\u548c\u570b\uff0d\u5370\u5ea6\u95dc\u4fc2  [Chinese] OK\n"
       ]
      },
      {
       "output_type": "stream",
       "stream": "stdout",
       "text": [
        " \u06af\u0631\u0628\u0647  [Farsi] Failed!\n",
        "Prediction: Chinese, Received: 443, Trained: 236, Last-443 Accuracy: 0.465\n"
       ]
      },
      {
       "output_type": "stream",
       "stream": "stdout",
       "text": [
        " gratiola parviflora  [Swedish] Failed!\n",
        "Prediction: German, Received: 444, Trained: 237, Last-444 Accuracy: 0.464\n"
       ]
      },
      {
       "output_type": "stream",
       "stream": "stdout",
       "text": [
        " le boeuf \u00e9corch\u00e9  [French] OK\n"
       ]
      },
      {
       "output_type": "stream",
       "stream": "stdout",
       "text": [
        " ban jin ba liang  [Polish] Failed!\n",
        "Prediction: German, Received: 446, Trained: 238, Last-446 Accuracy: 0.464\n"
       ]
      },
      {
       "output_type": "stream",
       "stream": "stdout",
       "text": [
        " mimolette  [French] OK\n"
       ]
      },
      {
       "output_type": "stream",
       "stream": "stdout",
       "text": [
        " sport in israel  [German] OK\n"
       ]
      },
      {
       "output_type": "stream",
       "stream": "stdout",
       "text": [
        " marceline desbordes valmore  [French] OK\n"
       ]
      },
      {
       "output_type": "stream",
       "stream": "stdout",
       "text": [
        " dallas/fort worth international airport  [Norwegian] Failed!\n",
        "Prediction: German, Received: 450, Trained: 239, Last-450 Accuracy: 0.467\n"
       ]
      },
      {
       "output_type": "stream",
       "stream": "stdout",
       "text": [
        " 1924 \u0433\u043e\u0434 \u0432 \u0441\u043f\u043e\u0440\u0442\u0435  [Russian] OK\n"
       ]
      },
      {
       "output_type": "stream",
       "stream": "stdout",
       "text": [
        " gratiola portulacacea  [Swedish] OK\n"
       ]
      },
      {
       "output_type": "stream",
       "stream": "stdout",
       "text": [
        " \u6797\u4f51\u5a01  [Chinese] OK\n"
       ]
      },
      {
       "output_type": "stream",
       "stream": "stdout",
       "text": [
        " stitch! avaruuskoe 626  [Finnish] Failed!\n",
        "Prediction: Italian, Received: 454, Trained: 240, Last-454 Accuracy: 0.469\n"
       ]
      },
      {
       "output_type": "stream",
       "stream": "stdout",
       "text": [
        " \u0433\u043e\u0441\u0444\u043b\u0430\u0433  [Russian] OK\n"
       ]
      },
      {
       "output_type": "stream",
       "stream": "stdout",
       "text": [
        " \u201e\u0430\u201c \u0444\u0443\u0442\u0431\u043e\u043b\u043d\u0430 \u0433\u0440\u0443\u043f\u0430 2014/15  [Bulgarian] Failed!\n",
        "Prediction: Ukrainian, Received: 456, Trained: 241, Last-456 Accuracy: 0.469\n"
       ]
      },
      {
       "output_type": "stream",
       "stream": "stdout",
       "text": [
        " american association of state highway and transportation officials  [French] OK\n"
       ]
      },
      {
       "output_type": "stream",
       "stream": "stdout",
       "text": [
        " ikea  [Italian] OK\n"
       ]
      },
      {
       "output_type": "stream",
       "stream": "stdout",
       "text": [
        " universidad nacional de la matanza  [Spanish] Failed!\n",
        "Prediction: Swedish, Received: 459, Trained: 242, Last-459 Accuracy: 0.471\n"
       ]
      },
      {
       "output_type": "stream",
       "stream": "stdout",
       "text": [
        " baka pyramide  [German] Failed!\n",
        "Prediction: Swedish, Received: 460, Trained: 243, Last-460 Accuracy: 0.470\n"
       ]
      },
      {
       "output_type": "stream",
       "stream": "stdout",
       "text": [
        " theodor k\u00f6rner preis  [German] OK\n"
       ]
      },
      {
       "output_type": "stream",
       "stream": "stdout",
       "text": [
        " cant\u00f3 d'annecy nord oest  [Catalan] OK\n"
       ]
      },
      {
       "output_type": "stream",
       "stream": "stdout",
       "text": [
        " forme substantielle  [French] Failed!\n",
        "Prediction: German, Received: 463, Trained: 244, Last-463 Accuracy: 0.471\n"
       ]
      },
      {
       "output_type": "stream",
       "stream": "stdout",
       "text": [
        " \u30e2\u30c3\u30d7\u30ac\u30fc\u30eb  [Japanese] OK\n"
       ]
      },
      {
       "output_type": "stream",
       "stream": "stdout",
       "text": [
        " kostol sv\u00e4t\u00e9ho kr\u00ed\u017ea dev\u00edn  [Slovak] Failed!\n",
        "Prediction: Spanish, Received: 465, Trained: 245, Last-465 Accuracy: 0.471\n"
       ]
      },
      {
       "output_type": "stream",
       "stream": "stdout",
       "text": [
        " gratiola tetrandra  [Swedish] OK\n"
       ]
      },
      {
       "output_type": "stream",
       "stream": "stdout",
       "text": [
        " clavec\u00edn  [Spanish] Failed!\n",
        "Prediction: German, Received: 467, Trained: 246, Last-467 Accuracy: 0.471\n"
       ]
      },
      {
       "output_type": "stream",
       "stream": "stdout",
       "text": [
        " bezwzgl\u0119dna gra  [Polish] Failed!\n",
        "Prediction: Spanish, Received: 468, Trained: 247, Last-468 Accuracy: 0.470\n"
       ]
      },
      {
       "output_type": "stream",
       "stream": "stdout",
       "text": [
        " amiral kornilov  [French] OK\n"
       ]
      },
      {
       "output_type": "stream",
       "stream": "stdout",
       "text": [
        " les triplettes de belleville  [Portuguese] Failed!\n",
        "Prediction: French, Received: 470, Trained: 248, Last-470 Accuracy: 0.470\n"
       ]
      },
      {
       "output_type": "stream",
       "stream": "stdout",
       "text": [
        " nintendo 3ds  [French] Failed!\n",
        "Prediction: Dutch, Received: 471, Trained: 249, Last-471 Accuracy: 0.469\n"
       ]
      },
      {
       "output_type": "stream",
       "stream": "stdout",
       "text": [
        " \u67f3\u5bb6\u6771\u4e09\u697c  [Japanese] OK\n"
       ]
      },
      {
       "output_type": "stream",
       "stream": "stdout",
       "text": [
        " estadio municipal de el plant\u00edo  [Spanish] Failed!\n",
        "Prediction: French, Received: 473, Trained: 250, Last-473 Accuracy: 0.469\n"
       ]
      },
      {
       "output_type": "stream",
       "stream": "stdout",
       "text": [
        " borisz gelfand  [Hungarian] Failed!\n",
        "Prediction: German, Received: 474, Trained: 251, Last-474 Accuracy: 0.468\n"
       ]
      },
      {
       "output_type": "stream",
       "stream": "stdout",
       "text": [
        " \u03bd\u03b5\u03c4  [Greek] Failed!\n",
        "Prediction: Japanese, Received: 475, Trained: 252, Last-475 Accuracy: 0.467\n"
       ]
      },
      {
       "output_type": "stream",
       "stream": "stdout",
       "text": [
        " \u53e3\u888b\u5996\u602a\u7cfb\u5217  [Chinese] OK\n"
       ]
      },
      {
       "output_type": "stream",
       "stream": "stdout",
       "text": [
        " habershamia cuneifolia  [Swedish] OK\n"
       ]
      },
      {
       "output_type": "stream",
       "stream": "stdout",
       "text": [
        " assoziierungsabkommen zwischen der europ\u00e4ischen union und der ukraine  [German] OK\n"
       ]
      },
      {
       "output_type": "stream",
       "stream": "stdout",
       "text": [
        " \u0432\u043e\u0437\u0432\u0440\u0430\u0442\u0430 \u043d\u0435\u0442 \u0444\u0438\u043b\u044c\u043c 1973  [Russian] OK\n"
       ]
      },
      {
       "output_type": "stream",
       "stream": "stdout",
       "text": [
        " muntanya d'hamiguitan  [Catalan] Failed!\n",
        "Prediction: French, Received: 480, Trained: 253, Last-480 Accuracy: 0.471\n"
       ]
      },
      {
       "output_type": "stream",
       "stream": "stdout",
       "text": [
        " isabel ii de espa\u00f1a  [Spanish] Failed!\n",
        "Prediction: Portuguese, Received: 481, Trained: 254, Last-481 Accuracy: 0.470\n"
       ]
      },
      {
       "output_type": "stream",
       "stream": "stdout",
       "text": [
        " cant\u00f3 d'annecy le vieux  [Catalan] OK\n"
       ]
      },
      {
       "output_type": "stream",
       "stream": "stdout",
       "text": [
        " minneapolis  [Swedish] OK\n"
       ]
      },
      {
       "output_type": "stream",
       "stream": "stdout",
       "text": [
        " mistrzostwa \u015bwiata w narciarstwie alpejskim 2011 rywalizacja dru\u017cynowa  [Polish] OK\n"
       ]
      },
      {
       "output_type": "stream",
       "stream": "stdout",
       "text": [
        " \u9999\u5ddd\u7167\u4e4b  [Japanese] Failed!\n",
        "Prediction: Chinese, Received: 485, Trained: 255, Last-485 Accuracy: 0.472\n"
       ]
      },
      {
       "output_type": "stream",
       "stream": "stdout",
       "text": [
        " \u4e2d\u570b\u96fb\u529b\u6295\u8cc7\u96c6\u5718  [Chinese] OK\n"
       ]
      },
      {
       "output_type": "stream",
       "stream": "stdout",
       "text": [
        " \ud55c\ud64d\uad6c  [Korean] Failed!\n",
        "Prediction: Chinese, Received: 487, Trained: 256, Last-487 Accuracy: 0.472\n"
       ]
      },
      {
       "output_type": "stream",
       "stream": "stdout",
       "text": [
        " \u0431\u043e\u0440\u043a\u0438 \u0431\u0443\u0440\u044f\u0442\u0438\u044f  [Russian] OK\n"
       ]
      },
      {
       "output_type": "stream",
       "stream": "stdout",
       "text": [
        " \u0622\u0632\u0627\u062f\u0631\u0627\u0647 \u0627\u0645\u06f1\u06f8 \u0628\u0631\u06cc\u062a\u0627\u0646\u06cc\u0627  [Farsi] OK\n"
       ]
      },
      {
       "output_type": "stream",
       "stream": "stdout",
       "text": [
        " metodo di calcolo contributivo a capitalizzazione simulata  [Italian] Failed!\n",
        "Prediction: Spanish, Received: 490, Trained: 257, Last-490 Accuracy: 0.473\n"
       ]
      },
      {
       "output_type": "stream",
       "stream": "stdout",
       "text": [
        " \u062c\u0627\u062f\u0647 \u0627\u06cc\u06f1\u06f9  [Farsi] OK\n"
       ]
      },
      {
       "output_type": "stream",
       "stream": "stdout",
       "text": [
        " martin charles gobrecht  [French] OK\n"
       ]
      },
      {
       "output_type": "stream",
       "stream": "stdout",
       "text": [
        " \u062c\u0627\u062f\u0647 \u0627\u06cc\u06f1\u06f8 \u0627\u0646\u06af\u0644\u0633\u062a\u0627\u0646  [Farsi] OK\n"
       ]
      },
      {
       "output_type": "stream",
       "stream": "stdout",
       "text": [
        " \u0431\u0443\u0440\u044f\u043a \u0440\u0456\u0434  [Ukrainian] OK\n"
       ]
      },
      {
       "output_type": "stream",
       "stream": "stdout",
       "text": [
        " herpestis africana  [Swedish] OK\n"
       ]
      },
      {
       "output_type": "stream",
       "stream": "stdout",
       "text": [
        " \u0430\u0434\u0456\u0430\u043d\u0442 \u0432\u0435\u043d\u0435\u0440\u0438\u043d \u0432\u043e\u043b\u043e\u0441  [Ukrainian] Failed!\n",
        "Prediction: Russian, Received: 496, Trained: 258, Last-496 Accuracy: 0.478\n"
       ]
      },
      {
       "output_type": "stream",
       "stream": "stdout",
       "text": [
        " gran premi d'espanya de motocr\u00f2s 250cc 1979  [Catalan] Failed!\n",
        "Prediction: German, Received: 497, Trained: 259, Last-497 Accuracy: 0.477\n"
       ]
      },
      {
       "output_type": "stream",
       "stream": "stdout",
       "text": [
        " bli\u017aniacze smoki  [Polish] Failed!\n",
        "Prediction: Swedish, Received: 498, Trained: 260, Last-498 Accuracy: 0.476\n"
       ]
      },
      {
       "output_type": "stream",
       "stream": "stdout",
       "text": [
        " alexis tomassian  [French] OK\n"
       ]
      },
      {
       "output_type": "stream",
       "stream": "stdout",
       "text": [
        " \u0622\u0632\u0627\u062f\u0631\u0627\u0647 \u0627\u0645\u06f1\u06f8\u06f0  [Farsi] OK\n"
       ]
      },
      {
       "output_type": "stream",
       "stream": "stdout",
       "text": [
        " grumpy cat  [Swedish] OK\n"
       ]
      },
      {
       "output_type": "stream",
       "stream": "stdout",
       "text": [
        " \u81fa\u7063\u6843\u5712\u570b\u969b\u6a5f\u5834  [Chinese] OK\n"
       ]
      },
      {
       "output_type": "stream",
       "stream": "stdout",
       "text": [
        " v\u00e1mos \u00e1gnes  [Hungarian] Failed!\n",
        "Prediction: Spanish, Received: 503, Trained: 261, Last-500 Accuracy: 0.480\n"
       ]
      },
      {
       "output_type": "stream",
       "stream": "stdout",
       "text": [
        " 1923 \u0433\u043e\u0434 \u0432 \u0441\u043f\u043e\u0440\u0442\u0435  [Russian] OK\n"
       ]
      },
      {
       "output_type": "stream",
       "stream": "stdout",
       "text": [
        " f\u00f6rr eller senare  [Swedish] Failed!\n",
        "Prediction: French, Received: 505, Trained: 262, Last-500 Accuracy: 0.482\n"
       ]
      },
      {
       "output_type": "stream",
       "stream": "stdout",
       "text": [
        " liste der landesstra\u00dfen im regierungsbezirk d\u00fcsseldorf  [German] OK\n"
       ]
      },
      {
       "output_type": "stream",
       "stream": "stdout",
       "text": [
        " \u5929\u4e3b\u6559\u5d07\u5fb7\u82f1\u6587\u66f8\u9662  [Chinese] OK\n"
       ]
      },
      {
       "output_type": "stream",
       "stream": "stdout",
       "text": [
        " foo fighters  [Spanish] OK\n"
       ]
      },
      {
       "output_type": "stream",
       "stream": "stdout",
       "text": [
        " herpestis brownei  [Swedish] OK\n"
       ]
      },
      {
       "output_type": "stream",
       "stream": "stdout",
       "text": [
        " \u65b0\u50b3\u5a92\u96fb\u8996\u5287\u5217\u8868 2010\u5e74\u4ee3  [Chinese] OK\n"
       ]
      },
      {
       "output_type": "stream",
       "stream": "stdout",
       "text": [
        " sacr\u00e9 c\u0153ur  [French] OK\n"
       ]
      },
      {
       "output_type": "stream",
       "stream": "stdout",
       "text": [
        " lilo & stitch 2  [Finnish] Failed!\n",
        "Prediction: Spanish, Received: 512, Trained: 263, Last-500 Accuracy: 0.492\n"
       ]
      },
      {
       "output_type": "stream",
       "stream": "stdout",
       "text": [
        " the new twilight zone\u2014aflevering 15  [Dutch] Failed!\n",
        "Prediction: Spanish, Received: 513, Trained: 264, Last-500 Accuracy: 0.490\n"
       ]
      },
      {
       "output_type": "stream",
       "stream": "stdout",
       "text": [
        " selena gomez  [French] Failed!\n",
        "Prediction: Spanish, Received: 514, Trained: 265, Last-500 Accuracy: 0.490\n"
       ]
      },
      {
       "output_type": "stream",
       "stream": "stdout",
       "text": [
        " \u0430\u043b\u044c\u0442\u0430\u0438\u0440  [Russian] OK\n"
       ]
      },
      {
       "output_type": "stream",
       "stream": "stdout",
       "text": [
        " \u0434\u0440\u0438\u0431\u0438\u043d  [Russian] Failed!\n",
        "Prediction: Ukrainian, Received: 516, Trained: 266, Last-500 Accuracy: 0.492\n"
       ]
      },
      {
       "output_type": "stream",
       "stream": "stdout",
       "text": [
        " cant\u00f3 d'annemasse nord  [Catalan] OK\n"
       ]
      },
      {
       "output_type": "stream",
       "stream": "stdout",
       "text": [
        " amiral kornilov  [French] OK\n"
       ]
      },
      {
       "output_type": "stream",
       "stream": "stdout",
       "text": [
        " \u043f\u0435\u0442\u0440\u0443\u043d\u043a\u0435\u0432\u0438\u0447 \u0438\u0432\u0430\u043d \u0438\u043b\u044c\u0438\u0447  [Russian] OK\n"
       ]
      },
      {
       "output_type": "stream",
       "stream": "stdout",
       "text": [
        " \u5409\u5d0e\u9054\u5f66  [Japanese] Failed!\n",
        "Prediction: Chinese, Received: 520, Trained: 267, Last-500 Accuracy: 0.498\n"
       ]
      },
      {
       "output_type": "stream",
       "stream": "stdout",
       "text": [
        " \u03bd\u03b5\u03c4  [Greek] OK\n"
       ]
      },
      {
       "output_type": "stream",
       "stream": "stdout",
       "text": [
        " supernatural  [Turkish] Failed!\n",
        "Prediction: French, Received: 522, Trained: 268, Last-500 Accuracy: 0.500\n"
       ]
      },
      {
       "output_type": "stream",
       "stream": "stdout",
       "text": [
        " herpestis calytriplex  [Swedish] OK\n"
       ]
      },
      {
       "output_type": "stream",
       "stream": "stdout",
       "text": [
        " prayer in c  [German] Failed!\n",
        "Prediction: Dutch, Received: 524, Trained: 269, Last-500 Accuracy: 0.500\n"
       ]
      },
      {
       "output_type": "stream",
       "stream": "stdout",
       "text": [
        " hans zimmer  [Hungarian] OK\n"
       ]
      },
      {
       "output_type": "stream",
       "stream": "stdout",
       "text": [
        " \u0627\u0644\u0627 \u0641\u06cc\u062a\u0632\u062c\u0631\u0627\u0644\u062f  [Farsi] Failed!\n",
        "Prediction: Arabic, Received: 526, Trained: 270, Last-500 Accuracy: 0.502\n"
       ]
      },
      {
       "output_type": "stream",
       "stream": "stdout",
       "text": [
        " \u547d\u9898\u903b\u8f91  [Chinese] OK\n"
       ]
      },
      {
       "output_type": "stream",
       "stream": "stdout",
       "text": [
        " amiral nakhimov 1885  [French] OK\n"
       ]
      },
      {
       "output_type": "stream",
       "stream": "stdout",
       "text": [
        " \u062c\u0627\u062f\u0647 \u0626\u06cc\u06f2\u06f2 \u0627\u0631\u0648\u067e\u0627  [Farsi] OK\n"
       ]
      },
      {
       "output_type": "stream",
       "stream": "stdout",
       "text": [
        " \u043c\u0430\u0442\u0440\u0438\u0430\u0440\u0445\u0430\u0442 \u0444\u0438\u043b\u043c  [Bulgarian] Failed!\n",
        "Prediction: Russian, Received: 530, Trained: 271, Last-500 Accuracy: 0.508\n"
       ]
      },
      {
       "output_type": "stream",
       "stream": "stdout",
       "text": [
        " \u304b\u306b\u5ea755\u756a\u661f  [Japanese] OK\n"
       ]
      },
      {
       "output_type": "stream",
       "stream": "stdout",
       "text": [
        " \u9ad8\u7aaa\u70ad\u9271  [Japanese] OK\n"
       ]
      },
      {
       "output_type": "stream",
       "stream": "stdout",
       "text": [
        " marc burg  [French] OK\n"
       ]
      },
      {
       "output_type": "stream",
       "stream": "stdout",
       "text": [
        " \ud504\ub77c\uc784 \ud2b8\ub79c\uc2a4\ud3ec\uba38  [Korean] OK\n"
       ]
      },
      {
       "output_type": "stream",
       "stream": "stdout",
       "text": [
        " orde van de arbeidkhorezm sovjet volksrepubliek  [Dutch] Failed!\n",
        "Prediction: German, Received: 535, Trained: 272, Last-500 Accuracy: 0.514\n"
       ]
      },
      {
       "output_type": "stream",
       "stream": "stdout",
       "text": [
        " fabio spagnoli  [Italian] Failed!\n",
        "Prediction: Swedish, Received: 536, Trained: 273, Last-500 Accuracy: 0.512\n"
       ]
      },
      {
       "output_type": "stream",
       "stream": "stdout",
       "text": [
        " mattin najafi  [Swedish] OK\n"
       ]
      },
      {
       "output_type": "stream",
       "stream": "stdout",
       "text": [
        " herpestis cuneifolia  [Swedish] OK\n"
       ]
      },
      {
       "output_type": "stream",
       "stream": "stdout",
       "text": [
        " askja  [German] OK\n"
       ]
      },
      {
       "output_type": "stream",
       "stream": "stdout",
       "text": [
        " \u0441\u0432\u044f\u0449\u0435\u043d\u043d\u043e\u0435 \u043f\u0438\u0441\u0430\u043d\u0438\u0435 \u2014 \u043f\u0435\u0440\u0435\u0432\u043e\u0434 \u043d\u043e\u0432\u043e\u0433\u043e \u043c\u0438\u0440\u0430  [Russian] OK\n"
       ]
      },
      {
       "output_type": "stream",
       "stream": "stdout",
       "text": [
        " janusz jagrym maleszewski  [Polish] OK\n"
       ]
      },
      {
       "output_type": "stream",
       "stream": "stdout",
       "text": [
        " james polk  [Polish] Failed!\n",
        "Prediction: French, Received: 542, Trained: 274, Last-500 Accuracy: 0.516\n"
       ]
      },
      {
       "output_type": "stream",
       "stream": "stdout",
       "text": [
        " amiral nakhimov 1885  [French] Failed!\n",
        "Prediction: Spanish, Received: 543, Trained: 275, Last-500 Accuracy: 0.516\n"
       ]
      },
      {
       "output_type": "stream",
       "stream": "stdout",
       "text": [
        " katharina von siena  [German] Failed!\n",
        "Prediction: Dutch, Received: 544, Trained: 276, Last-500 Accuracy: 0.516\n"
       ]
      },
      {
       "output_type": "stream",
       "stream": "stdout",
       "text": [
        " cant\u00f3 d'annemasse sud  [Catalan] OK\n"
       ]
      },
      {
       "output_type": "stream",
       "stream": "stdout",
       "text": [
        " \u4e2d\u570b\u96fb\u529b\u6295\u8cc7\u96c6\u5718  [Chinese] OK\n"
       ]
      },
      {
       "output_type": "stream",
       "stream": "stdout",
       "text": [
        " \u062c\u0627\u0645\u0639\u0629 \u0622\u0644 \u0627\u0644\u0628\u064a\u062a  [Arabic] Failed!\n",
        "Prediction: Farsi, Received: 547, Trained: 277, Last-500 Accuracy: 0.516\n"
       ]
      },
      {
       "output_type": "stream",
       "stream": "stdout",
       "text": [
        " \u0445\u0430\u0440\u0438\u043b\u0430\u043e\u0441 \u0442\u0440\u0438\u043a\u0443\u043f\u0438\u0441  [Bulgarian] Failed!\n",
        "Prediction: Ukrainian, Received: 548, Trained: 278, Last-500 Accuracy: 0.514\n"
       ]
      },
      {
       "output_type": "stream",
       "stream": "stdout",
       "text": [
        " coupe du monde de natation fina 2014  [French] Failed!\n",
        "Prediction: German, Received: 549, Trained: 279, Last-500 Accuracy: 0.512\n"
       ]
      },
      {
       "output_type": "stream",
       "stream": "stdout",
       "text": [
        " \u043e\u0431\u0440\u0430\u0442\u043d\u0430 \u0432\u0440\u044a\u0437\u043a\u0430  [Bulgarian] Failed!\n",
        "Prediction: Ukrainian, Received: 550, Trained: 280, Last-500 Accuracy: 0.512\n"
       ]
      },
      {
       "output_type": "stream",
       "stream": "stdout",
       "text": [
        " herpestis monnieri  [Swedish] OK\n"
       ]
      },
      {
       "output_type": "stream",
       "stream": "stdout",
       "text": [
        " \u0430\u0431\u0443 \u0445\u0430\u043d\u0438\u0444\u0430 \u0430\u0434 \u0434\u0438\u043d\u0430\u0432\u0430\u0440\u0438  [Russian] Failed!\n",
        "Prediction: Ukrainian, Received: 552, Trained: 281, Last-500 Accuracy: 0.514\n"
       ]
      },
      {
       "output_type": "stream",
       "stream": "stdout",
       "text": [
        " \u0446\u0435\u043d\u0437\u0443\u0440\u0430 \u0432 \u043f\u043e\u0441\u0442\u0441\u043e\u0432\u0435\u0442\u0441\u043a\u043e\u0439 \u0440\u043e\u0441\u0441\u0438\u0438  [Russian] Failed!\n",
        "Prediction: Ukrainian, Received: 553, Trained: 282, Last-500 Accuracy: 0.512\n"
       ]
      },
      {
       "output_type": "stream",
       "stream": "stdout",
       "text": [
        " ribnik r\u00e9publique serbe de bosnie  [French] Failed!\n",
        "Prediction: German, Received: 554, Trained: 283, Last-500 Accuracy: 0.512\n"
       ]
      },
      {
       "output_type": "stream",
       "stream": "stdout",
       "text": [
        " abdul baset al sarout  [Polish] OK\n"
       ]
      },
      {
       "output_type": "stream",
       "stream": "stdout",
       "text": [
        " gibraltar  [Polish] Failed!\n",
        "Prediction: German, Received: 556, Trained: 284, Last-500 Accuracy: 0.512\n"
       ]
      },
      {
       "output_type": "stream",
       "stream": "stdout",
       "text": [
        " sweet november film 2001  [French] Failed!\n",
        "Prediction: German, Received: 557, Trained: 285, Last-500 Accuracy: 0.512\n"
       ]
      },
      {
       "output_type": "stream",
       "stream": "stdout",
       "text": [
        " ray kelly priester  [German] OK\n"
       ]
      },
      {
       "output_type": "stream",
       "stream": "stdout",
       "text": [
        " sk\u00ed\u00f0ar\u00edma  [Spanish] OK\n"
       ]
      },
      {
       "output_type": "stream",
       "stream": "stdout",
       "text": [
        " \u0440\u0443\u0434\u043e\u043b\u044c\u0444 \u043a\u0440\u0438\u0441\u0442\u043e\u0444  [Russian] Failed!\n",
        "Prediction: Ukrainian, Received: 560, Trained: 286, Last-500 Accuracy: 0.516\n"
       ]
      },
      {
       "output_type": "stream",
       "stream": "stdout",
       "text": [
        " science fiction jahr 2007  [German] OK\n"
       ]
      },
      {
       "output_type": "stream",
       "stream": "stdout",
       "text": [
        " herpestis monnieria  [Swedish] OK\n"
       ]
      },
      {
       "output_type": "stream",
       "stream": "stdout",
       "text": [
        " \ubd80\uc0b0 \ub3c4\uc2dc\ucca0\ub3c4  [Korean] Failed!\n",
        "Prediction: French, Received: 563, Trained: 287, Last-500 Accuracy: 0.518\n"
       ]
      },
      {
       "output_type": "stream",
       "stream": "stdout",
       "text": [
        " jetblue airways  [Polish] Failed!\n",
        "Prediction: French, Received: 564, Trained: 288, Last-500 Accuracy: 0.518\n"
       ]
      },
      {
       "output_type": "stream",
       "stream": "stdout",
       "text": [
        " monument valley computerspiel  [German] OK\n"
       ]
      },
      {
       "output_type": "stream",
       "stream": "stdout",
       "text": [
        "Ignoring class 30\n",
        " manuel pertegaz  [Spanish] OK\n"
       ]
      },
      {
       "output_type": "stream",
       "stream": "stdout",
       "text": [
        " leroy & stitch  [Finnish] OK\n"
       ]
      },
      {
       "output_type": "stream",
       "stream": "stdout",
       "text": [
        " schlacht von debre abbay  [German] OK\n"
       ]
      },
      {
       "output_type": "stream",
       "stream": "stdout",
       "text": [
        " allison williams  [French] Failed!\n",
        "Prediction: Swedish, Received: 570, Trained: 289, Last-500 Accuracy: 0.524\n"
       ]
      },
      {
       "output_type": "stream",
       "stream": "stdout",
       "text": [
        " la pioggia \u00e8 uno stato d'animo  [Italian] Failed!\n",
        "Prediction: Spanish, Received: 571, Trained: 290, Last-500 Accuracy: 0.524\n"
       ]
      },
      {
       "output_type": "stream",
       "stream": "stdout",
       "text": [
        " \u0434\u043e\u043c\u0435\u043d\u0438\u043a\u043e \u0441\u043a\u0430\u0440\u043b\u0430\u0442\u0438  [Bulgarian] Failed!\n",
        "Prediction: Russian, Received: 572, Trained: 291, Last-500 Accuracy: 0.524\n"
       ]
      },
      {
       "output_type": "stream",
       "stream": "stdout",
       "text": [
        " cant\u00f3 d'anonai nord  [Catalan] OK\n"
       ]
      },
      {
       "output_type": "stream",
       "stream": "stdout",
       "text": [
        " \u30e0\u30ea\u30ad \u30b5\u30c3\u30ab\u30fc\u9078\u624b  [Japanese] OK\n"
       ]
      },
      {
       "output_type": "stream",
       "stream": "stdout",
       "text": [
        " checotah  [Portuguese] Failed!\n",
        "Prediction: French, Received: 575, Trained: 292, Last-500 Accuracy: 0.524\n"
       ]
      },
      {
       "output_type": "stream",
       "stream": "stdout",
       "text": [
        " fort boyard jeu t\u00e9l\u00e9vis\u00e9  [French] OK\n"
       ]
      },
      {
       "output_type": "stream",
       "stream": "stdout",
       "text": [
        " \u0430\u0441 \u0441\u0430\u0430\u043b\u0438\u0431\u0438  [Russian] OK\n"
       ]
      },
      {
       "output_type": "stream",
       "stream": "stdout",
       "text": [
        " aleksandra wi\u015bnik  [Polish] Failed!\n",
        "Prediction: French, Received: 578, Trained: 293, Last-500 Accuracy: 0.522\n"
       ]
      },
      {
       "output_type": "stream",
       "stream": "stdout",
       "text": [
        " juan ortiz de z\u00e1rate  [Spanish] Failed!\n",
        "Prediction: French, Received: 579, Trained: 294, Last-500 Accuracy: 0.522\n"
       ]
      },
      {
       "output_type": "stream",
       "stream": "stdout",
       "text": [
        " \u30aa\u30eb\u30e9\u30f3\u30c9\u30fb\u30b5\u30ea\u30c9  [Japanese] OK\n"
       ]
      },
      {
       "output_type": "stream",
       "stream": "stdout",
       "text": [
        " \ub300\ud55c\ubbfc\uad6d \ubbfc\ubc95 \uc81c106\uc870  [Korean] OK\n"
       ]
      },
      {
       "output_type": "stream",
       "stream": "stdout",
       "text": [
        " herpestis moranensis  [Swedish] OK\n"
       ]
      },
      {
       "output_type": "stream",
       "stream": "stdout",
       "text": [
        " \u0440\u043e\u0431\u043e\u0440\u0442\u0435\u043b\u043b\u043e \u0444\u0440\u0430\u043d\u0446\u0438\u0441\u043a  [Russian] OK\n"
       ]
      },
      {
       "output_type": "stream",
       "stream": "stdout",
       "text": [
        " kostol sv\u00e4t\u00e9ho ladislava bratislava  [Slovak] Failed!\n",
        "Prediction: Spanish, Received: 584, Trained: 295, Last-500 Accuracy: 0.524\n"
       ]
      },
      {
       "output_type": "stream",
       "stream": "stdout",
       "text": [
        " liste der byzantinischen kaiser  [German] OK\n"
       ]
      },
      {
       "output_type": "stream",
       "stream": "stdout",
       "text": [
        " modellbahnfreunde glattfelden  [German] Failed!\n",
        "Prediction: French, Received: 586, Trained: 296, Last-500 Accuracy: 0.524\n"
       ]
      },
      {
       "output_type": "stream",
       "stream": "stdout",
       "text": [
        " sanit\u00e4tsdienst heer  [German] OK\n"
       ]
      },
      {
       "output_type": "stream",
       "stream": "stdout",
       "text": [
        " herpestis pedunculosa  [Swedish] Failed!\n",
        "Prediction: Spanish, Received: 588, Trained: 297, Last-500 Accuracy: 0.526\n"
       ]
      },
      {
       "output_type": "stream",
       "stream": "stdout",
       "text": [
        " \u0430\u0440\u0442\u0438\u043b\u043b\u0435\u0440\u0438\u0439\u0441\u043a\u0438\u0439 \u0441\u0430\u043b\u044e\u0442  [Russian] Failed!\n",
        "Prediction: Ukrainian, Received: 589, Trained: 298, Last-500 Accuracy: 0.524\n"
       ]
      },
      {
       "output_type": "stream",
       "stream": "stdout",
       "text": [
        " crash che botte!  [Polish] Failed!\n",
        "Prediction: German, Received: 590, Trained: 299, Last-500 Accuracy: 0.524\n"
       ]
      },
      {
       "output_type": "stream",
       "stream": "stdout",
       "text": [
        " morolo  [Italian] Failed!\n",
        "Prediction: French, Received: 591, Trained: 300, Last-500 Accuracy: 0.524\n"
       ]
      },
      {
       "output_type": "stream",
       "stream": "stdout",
       "text": [
        " doornenkroon dier  [Dutch] Failed!\n",
        "Prediction: German, Received: 592, Trained: 301, Last-500 Accuracy: 0.524\n"
       ]
      },
      {
       "output_type": "stream",
       "stream": "stdout",
       "text": [
        " \u043f\u0435\u043b\u044c\u0448\u0435  [Russian] OK\n"
       ]
      },
      {
       "output_type": "stream",
       "stream": "stdout",
       "text": [
        " f\u00f6rr eller senare  [Swedish] OK\n"
       ]
      },
      {
       "output_type": "stream",
       "stream": "stdout",
       "text": [
        " \u0430\u0440\u0430\u043a\u0435\u043b \u0441\u044e\u043d\u0435\u0446\u0438  [Russian] OK\n"
       ]
      },
      {
       "output_type": "stream",
       "stream": "stdout",
       "text": [
        " la famille foldingue  [French] OK\n"
       ]
      },
      {
       "output_type": "stream",
       "stream": "stdout",
       "text": [
        " bags' groove  [Czech] Failed!\n",
        "Prediction: Swedish, Received: 597, Trained: 302, Last-500 Accuracy: 0.528\n"
       ]
      },
      {
       "output_type": "stream",
       "stream": "stdout",
       "text": [
        " madame bintje  [French] Failed!\n",
        "Prediction: Spanish, Received: 598, Trained: 303, Last-500 Accuracy: 0.528\n"
       ]
      },
      {
       "output_type": "stream",
       "stream": "stdout",
       "text": [
        " damme d\u00fcmmer  [German] OK\n"
       ]
      },
      {
       "output_type": "stream",
       "stream": "stdout",
       "text": [
        " \u043c\u0443\u0436\u0441\u043a\u0430\u044f \u0441\u0431\u043e\u0440\u043d\u0430\u044f \u0434\u043e\u043c\u0438\u043d\u0438\u043a\u0430\u043d\u0441\u043a\u043e\u0439 \u0440\u0435\u0441\u043f\u0443\u0431\u043b\u0438\u043a\u0438 \u043f\u043e \u0431\u0430\u0441\u043a\u0435\u0442\u0431\u043e\u043b\u0443  [Russian] OK\n"
       ]
      },
      {
       "output_type": "stream",
       "stream": "stdout",
       "text": [
        " amiral spiridov  [French] OK\n"
       ]
      },
      {
       "output_type": "stream",
       "stream": "stdout",
       "text": [
        " 1922 \u0433\u043e\u0434 \u0432 \u0441\u043f\u043e\u0440\u0442\u0435  [Russian] OK\n"
       ]
      },
      {
       "output_type": "stream",
       "stream": "stdout",
       "text": [
        " bistum mondo\u00f1edo ferrol  [German] Failed!\n",
        "Prediction: French, Received: 603, Trained: 304, Last-500 Accuracy: 0.532\n"
       ]
      },
      {
       "output_type": "stream",
       "stream": "stdout",
       "text": [
        " hist\u00f2ria d'andorra  [Catalan] OK\n"
       ]
      },
      {
       "output_type": "stream",
       "stream": "stdout",
       "text": [
        " herpestis procumbens  [Swedish] OK\n"
       ]
      },
      {
       "output_type": "stream",
       "stream": "stdout",
       "text": [
        " cant\u00f3 d'anonai sud  [Catalan] OK\n"
       ]
      },
      {
       "output_type": "stream",
       "stream": "stdout",
       "text": [
        " \u0431\u0443\u0440\u044f\u043a \u0440\u0456\u0434  [Ukrainian] Failed!\n",
        "Prediction: Russian, Received: 607, Trained: 305, Last-500 Accuracy: 0.536\n"
       ]
      },
      {
       "output_type": "stream",
       "stream": "stdout",
       "text": [
        " schlacht von gondar  [German] OK\n"
       ]
      },
      {
       "output_type": "stream",
       "stream": "stdout",
       "text": [
        " united nations transitional authority in cambodia  [German] Failed!\n",
        "Prediction: Swedish, Received: 609, Trained: 306, Last-500 Accuracy: 0.536\n"
       ]
      },
      {
       "output_type": "stream",
       "stream": "stdout",
       "text": [
        " \u0433\u0440\u0438\u0433\u043e\u0440 \u0445\u043b\u0430\u0442\u0435\u0446\u0438  [Russian] OK\n"
       ]
      },
      {
       "output_type": "stream",
       "stream": "stdout",
       "text": [
        " \uc720\ub7fd \uccad\uc18c\ub144 \uc57c\uad6c \uc120\uc218\uad8c \ub300\ud68c 15\uc138 \uc774\ud558  [Korean] OK\n"
       ]
      },
      {
       "output_type": "stream",
       "stream": "stdout",
       "text": [
        " piombino  [Italian] OK\n"
       ]
      },
      {
       "output_type": "stream",
       "stream": "stdout",
       "text": [
        " vitali dyakov  [French] Failed!\n",
        "Prediction: Finnish, Received: 613, Trained: 307, Last-500 Accuracy: 0.540\n"
       ]
      },
      {
       "output_type": "stream",
       "stream": "stdout",
       "text": [
        " avanti un altro!  [Italian] Failed!\n",
        "Prediction: French, Received: 614, Trained: 308, Last-500 Accuracy: 0.540\n"
       ]
      },
      {
       "output_type": "stream",
       "stream": "stdout",
       "text": [
        " partido socialista de navarra  [Spanish] OK\n"
       ]
      },
      {
       "output_type": "stream",
       "stream": "stdout",
       "text": [
        " nordin amrabat  [Dutch] Failed!\n",
        "Prediction: German, Received: 616, Trained: 309, Last-500 Accuracy: 0.538\n"
       ]
      },
      {
       "output_type": "stream",
       "stream": "stdout",
       "text": [
        " domenico scarlatti  [Czech] Failed!\n",
        "Prediction: Swedish, Received: 617, Trained: 310, Last-500 Accuracy: 0.536\n"
       ]
      },
      {
       "output_type": "stream",
       "stream": "stdout",
       "text": [
        " \u043a\u043e\u0432\u0430\u043b\u044c\u043e\u0432 \u043e\u043b\u0435\u043a\u0441\u0430\u043d\u0434\u0440 \u0441\u0435\u043c\u0435\u043d\u043e\u0432\u0438\u0447  [Ukrainian] Failed!\n",
        "Prediction: Russian, Received: 618, Trained: 311, Last-500 Accuracy: 0.536\n"
       ]
      },
      {
       "output_type": "stream",
       "stream": "stdout",
       "text": [
        " superlambanana  [German] Failed!\n",
        "Prediction: French, Received: 619, Trained: 312, Last-500 Accuracy: 0.536\n"
       ]
      },
      {
       "output_type": "stream",
       "stream": "stdout",
       "text": [
        " ched evans  [Portuguese] Failed!\n",
        "Prediction: French, Received: 620, Trained: 313, Last-500 Accuracy: 0.534\n"
       ]
      },
      {
       "output_type": "stream",
       "stream": "stdout",
       "text": [
        " czas ucieka  [Polish] OK\n"
       ]
      },
      {
       "output_type": "stream",
       "stream": "stdout",
       "text": [
        " federico di schleswig holstein sonderburg gl\u00fccksburg  [Italian] OK\n"
       ]
      },
      {
       "output_type": "stream",
       "stream": "stdout",
       "text": [
        " mattin najafi  [Swedish] OK\n"
       ]
      },
      {
       "output_type": "stream",
       "stream": "stdout",
       "text": [
        " f\u00fcrstenaufstand  [German] OK\n"
       ]
      },
      {
       "output_type": "stream",
       "stream": "stdout",
       "text": [
        " herpestis spathulata  [Swedish] OK\n"
       ]
      },
      {
       "output_type": "stream",
       "stream": "stdout",
       "text": [
        " \u30dc\u30af\u3089\u306e\u6642\u4ee3  [Japanese] OK\n"
       ]
      },
      {
       "output_type": "stream",
       "stream": "stdout",
       "text": [
        " \u4e2d\u570b\u96fb\u529b\u65b0\u80fd\u6e90  [Chinese] Failed!\n",
        "Prediction: German, Received: 627, Trained: 314, Last-500 Accuracy: 0.538\n"
       ]
      },
      {
       "output_type": "stream",
       "stream": "stdout",
       "text": [
        " le boeuf \u00e9corch\u00e9  [French] OK\n"
       ]
      },
      {
       "output_type": "stream",
       "stream": "stdout",
       "text": [
        " \u5343\u8449\u5927\u5b66\u306e\u4eba\u7269\u4e00\u89a7  [Japanese] OK\n"
       ]
      },
      {
       "output_type": "stream",
       "stream": "stdout",
       "text": [
        " fifa bal\u00f3n de oro  [Spanish] Failed!\n",
        "Prediction: German, Received: 630, Trained: 315, Last-500 Accuracy: 0.540\n"
       ]
      },
      {
       "output_type": "stream",
       "stream": "stdout",
       "text": [
        " supercentenario  [Spanish] Failed!\n",
        "Prediction: French, Received: 631, Trained: 316, Last-500 Accuracy: 0.538\n"
       ]
      },
      {
       "output_type": "stream",
       "stream": "stdout",
       "text": [
        " cant\u00f3 d'anse  [Catalan] OK\n"
       ]
      },
      {
       "output_type": "stream",
       "stream": "stdout",
       "text": [
        " \u043f\u0440\u0435\u0442\u043e\u0440\u0438\u0443\u0441 \u0438\u043e\u0433\u0430\u043d\u043d  [Russian] Failed!\n",
        "Prediction: Ukrainian, Received: 633, Trained: 317, Last-500 Accuracy: 0.538\n"
       ]
      },
      {
       "output_type": "stream",
       "stream": "stdout",
       "text": [
        " bochotnica  [German] Failed!\n",
        "Prediction: Swedish, Received: 634, Trained: 318, Last-500 Accuracy: 0.538\n"
       ]
      },
      {
       "output_type": "stream",
       "stream": "stdout",
       "text": [
        " johann christoph egedacher  [German] OK\n"
       ]
      },
      {
       "output_type": "stream",
       "stream": "stdout",
       "text": [
        " hydrotrida beccabunga  [Swedish] OK\n"
       ]
      },
      {
       "output_type": "stream",
       "stream": "stdout",
       "text": [
        " \u0441\u043f\u0438\u0441\u043e\u043a \u043d\u0430\u0447\u0430\u043b\u044c\u043d\u0438\u043a\u043e\u0432 \u0441\u043e\u0432\u0435\u0442\u0441\u043a\u043e\u0439 \u0438 \u0440\u043e\u0441\u0441\u0438\u0439\u0441\u043a\u043e\u0439 \u0432\u043d\u0435\u0448\u043d\u0435\u0439 \u0440\u0430\u0437\u0432\u0435\u0434\u043a\u0438  [Russian] OK\n"
       ]
      },
      {
       "output_type": "stream",
       "stream": "stdout",
       "text": [
        " franz schubert  [French] Failed!\n",
        "Prediction: German, Received: 638, Trained: 319, Last-500 Accuracy: 0.540\n"
       ]
      },
      {
       "output_type": "stream",
       "stream": "stdout",
       "text": [
        " marie bourette  [French] OK\n"
       ]
      },
      {
       "output_type": "stream",
       "stream": "stdout",
       "text": [
        " 1921 \u0433\u043e\u0434 \u0432 \u0441\u043f\u043e\u0440\u0442\u0435  [Russian] OK\n"
       ]
      },
      {
       "output_type": "stream",
       "stream": "stdout",
       "text": [
        " d\u00e9canation 2014  [French] Failed!\n",
        "Prediction: Dutch, Received: 641, Trained: 320, Last-500 Accuracy: 0.540\n"
       ]
      },
      {
       "output_type": "stream",
       "stream": "stdout",
       "text": [
        " frise des comiques  [French] OK\n"
       ]
      },
      {
       "output_type": "stream",
       "stream": "stdout",
       "text": [
        " midi en france  [French] Failed!\n",
        "Prediction: Italian, Received: 643, Trained: 321, Last-500 Accuracy: 0.540\n"
       ]
      },
      {
       "output_type": "stream",
       "stream": "stdout",
       "text": [
        " 20 000 \u043b\u044c\u0451 \u043f\u043e\u0434 \u0432\u043e\u0434\u043e\u0439 \u0444\u0438\u043b\u044c\u043c 1997  [Russian] OK\n"
       ]
      },
      {
       "output_type": "stream",
       "stream": "stdout",
       "text": [
        " lysimachia monnieri  [Swedish] Failed!\n",
        "Prediction: German, Received: 645, Trained: 322, Last-500 Accuracy: 0.542\n"
       ]
      },
      {
       "output_type": "stream",
       "stream": "stdout",
       "text": [
        " alexandre pato  [Turkish] Failed!\n",
        "Prediction: French, Received: 646, Trained: 323, Last-500 Accuracy: 0.542\n"
       ]
      },
      {
       "output_type": "stream",
       "stream": "stdout",
       "text": [
        " stezzano  [Italian] Failed!\n",
        "Prediction: Spanish, Received: 647, Trained: 324, Last-500 Accuracy: 0.542\n"
       ]
      },
      {
       "output_type": "stream",
       "stream": "stdout",
       "text": [
        " schlacht von bacente  [German] OK\n"
       ]
      },
      {
       "output_type": "stream",
       "stream": "stdout",
       "text": [
        " luigi malice  [Italian] Failed!\n",
        "Prediction: French, Received: 649, Trained: 325, Last-500 Accuracy: 0.544\n"
       ]
      },
      {
       "output_type": "stream",
       "stream": "stdout",
       "text": [
        " festival di sanremo 1979  [Italian] OK\n"
       ]
      },
      {
       "output_type": "stream",
       "stream": "stdout",
       "text": [
        " \u8001\u6b8b\u6e38\u8bb0  [Chinese] Failed!\n",
        "Prediction: French, Received: 651, Trained: 326, Last-500 Accuracy: 0.542\n"
       ]
      },
      {
       "output_type": "stream",
       "stream": "stdout",
       "text": [
        " cant\u00f3 d'antony  [Catalan] OK\n"
       ]
      },
      {
       "output_type": "stream",
       "stream": "stdout",
       "text": [
        " illustres bergers  [French] Failed!\n",
        "Prediction: German, Received: 653, Trained: 327, Last-500 Accuracy: 0.544\n"
       ]
      },
      {
       "output_type": "stream",
       "stream": "stdout",
       "text": [
        " \u0645\u064a \u0632\u064a\u0627\u062f\u0629  [Arabic] OK\n"
       ]
      },
      {
       "output_type": "stream",
       "stream": "stdout",
       "text": [
        " higurashi no naku koro ni  [French] Failed!\n",
        "Prediction: Spanish, Received: 655, Trained: 328, Last-500 Accuracy: 0.544\n"
       ]
      },
      {
       "output_type": "stream",
       "stream": "stdout",
       "text": [
        " ranking fivb  [Polish] Failed!\n",
        "Prediction: German, Received: 656, Trained: 329, Last-500 Accuracy: 0.544\n"
       ]
      },
      {
       "output_type": "stream",
       "stream": "stdout",
       "text": [
        " monniera africana  [Swedish] Failed!\n",
        "Prediction: French, Received: 657, Trained: 330, Last-500 Accuracy: 0.542\n"
       ]
      },
      {
       "output_type": "stream",
       "stream": "stdout",
       "text": [
        " \u6148\u6fdf\u57fa\u91d1\u6703  [Chinese] Failed!\n",
        "Prediction: French, Received: 658, Trained: 331, Last-500 Accuracy: 0.542\n"
       ]
      },
      {
       "output_type": "stream",
       "stream": "stdout",
       "text": [
        " mf 01  [French] OK\n"
       ]
      },
      {
       "output_type": "stream",
       "stream": "stdout",
       "text": [
        " \u306f\u3084\u3076\u30552  [Japanese] Failed!\n",
        "Prediction: Chinese, Received: 660, Trained: 332, Last-500 Accuracy: 0.542\n"
       ]
      },
      {
       "output_type": "stream",
       "stream": "stdout",
       "text": [
        " saint rambert en bugey  [French] OK\n"
       ]
      },
      {
       "output_type": "stream",
       "stream": "stdout",
       "text": [
        " \u0434\u043e\u0441\u0442\u043e\u0447\u0442\u0438\u043c\u044b\u0439 \u043c\u0430\u0441\u0442\u0435\u0440  [Russian] OK\n"
       ]
      },
      {
       "output_type": "stream",
       "stream": "stdout",
       "text": [
        " \u05e4\u05dc\u05d8\u05d9\u05d4\u05d5 \u05d1\u05df \u05d1\u05e0\u05d9\u05d4\u05d5  [Hebrew] OK\n"
       ]
      },
      {
       "output_type": "stream",
       "stream": "stdout",
       "text": [
        " gran premi d'espanya de motocr\u00f2s 250cc 1979  [Catalan] OK\n"
       ]
      },
      {
       "output_type": "stream",
       "stream": "stdout",
       "text": [
        "Ignoring class 30\n",
        " klooster van horomos  [Dutch] Failed!\n",
        "Prediction: German, Received: 666, Trained: 333, Last-500 Accuracy: 0.542\n"
       ]
      },
      {
       "output_type": "stream",
       "stream": "stdout",
       "text": [
        " region s\u00fcdosten mazedonien  [German] OK\n"
       ]
      },
      {
       "output_type": "stream",
       "stream": "stdout",
       "text": [
        " lepink\u00e4iset  [Finnish] Failed!\n",
        "Prediction: French, Received: 668, Trained: 334, Last-500 Accuracy: 0.542\n"
       ]
      },
      {
       "output_type": "stream",
       "stream": "stdout",
       "text": [
        " \u043b\u0435\u0441\u0433\u0430\u0444\u0442 \u0444\u0440\u0430\u043d\u0446 \u0444\u0440\u0430\u043d\u0446\u0435\u0432\u0438\u0447  [Russian] Failed!\n",
        "Prediction: Ukrainian, Received: 669, Trained: 335, Last-500 Accuracy: 0.542\n"
       ]
      },
      {
       "output_type": "stream",
       "stream": "stdout",
       "text": [
        " exit tunes presents vocalogenesis feat.\u521d\u97f3\u30df\u30af  [Japanese] Failed!\n",
        "Prediction: German, Received: 670, Trained: 336, Last-500 Accuracy: 0.542\n"
       ]
      },
      {
       "output_type": "stream",
       "stream": "stdout",
       "text": [
        " monniera brownei  [Swedish] OK\n"
       ]
      },
      {
       "output_type": "stream",
       "stream": "stdout",
       "text": [
        " \u4e2d\u570b\u96fb\u529b\u65b0\u80fd\u6e90  [Chinese] OK\n"
       ]
      },
      {
       "output_type": "stream",
       "stream": "stdout",
       "text": [
        " pam\u00e4tn\u00edk franc\u00fazskym partiz\u00e1nom  [Slovak] OK\n"
       ]
      },
      {
       "output_type": "stream",
       "stream": "stdout",
       "text": [
        " \u03c0\u03bf\u03cd\u03bd\u03c4\u03c3\u03b1\u03ba \u03c4\u03b6\u03ac\u03b3\u03b9\u03b1  [Greek] OK\n"
       ]
      },
      {
       "output_type": "stream",
       "stream": "stdout",
       "text": [
        " liste der bisch\u00f6fe von mondo\u00f1edo  [German] OK\n"
       ]
      },
      {
       "output_type": "stream",
       "stream": "stdout",
       "text": [
        " monotremata  [Spanish] Failed!\n",
        "Prediction: French, Received: 676, Trained: 337, Last-500 Accuracy: 0.544\n"
       ]
      },
      {
       "output_type": "stream",
       "stream": "stdout",
       "text": [
        " service des transports en commun de l'agglom\u00e9ration rennaise  [French] OK\n"
       ]
      },
      {
       "output_type": "stream",
       "stream": "stdout",
       "text": [
        " lijst van voetbalinterlands congo brazzaville mali  [Dutch] Failed!\n",
        "Prediction: French, Received: 678, Trained: 338, Last-500 Accuracy: 0.546\n"
       ]
      },
      {
       "output_type": "stream",
       "stream": "stdout",
       "text": [
        " \u81fa\u7063\u6843\u5712\u570b\u969b\u6a5f\u5834  [Chinese] OK\n"
       ]
      },
      {
       "output_type": "stream",
       "stream": "stdout",
       "text": [
        " cant\u00f3 d'antrain  [Catalan] OK\n"
       ]
      },
      {
       "output_type": "stream",
       "stream": "stdout",
       "text": [
        " kouban  [French] OK\n"
       ]
      },
      {
       "output_type": "stream",
       "stream": "stdout",
       "text": [
        " diego marani atleta  [Italian] Failed!\n",
        "Prediction: Spanish, Received: 682, Trained: 339, Last-500 Accuracy: 0.550\n"
       ]
      },
      {
       "output_type": "stream",
       "stream": "stdout",
       "text": [
        " cigarette \u00e9lectronique  [French] OK\n"
       ]
      },
      {
       "output_type": "stream",
       "stream": "stdout",
       "text": [
        " denton texas  [Norwegian] Failed!\n",
        "Prediction: Hungarian, Received: 684, Trained: 340, Last-500 Accuracy: 0.550\n"
       ]
      },
      {
       "output_type": "stream",
       "stream": "stdout",
       "text": [
        " dianne fromholtz  [French] OK\n"
       ]
      },
      {
       "output_type": "stream",
       "stream": "stdout",
       "text": [
        " michael boatman  [French] OK\n"
       ]
      },
      {
       "output_type": "stream",
       "stream": "stdout",
       "text": [
        " liste der landesstra\u00dfen im regierungsbezirk k\u00f6ln  [German] OK\n"
       ]
      },
      {
       "output_type": "stream",
       "stream": "stdout",
       "text": [
        " grunge  [Turkish] OK\n"
       ]
      },
      {
       "output_type": "stream",
       "stream": "stdout",
       "text": [
        " monniera cuneifolia  [Swedish] OK\n"
       ]
      },
      {
       "output_type": "stream",
       "stream": "stdout",
       "text": [
        " c 17 globemaster iii  [Malaysian] Failed!\n",
        "Prediction: German, Received: 690, Trained: 341, Last-500 Accuracy: 0.558\n"
       ]
      },
      {
       "output_type": "stream",
       "stream": "stdout",
       "text": [
        " gigi 1958  [German] Failed!\n",
        "Prediction: Polish, Received: 691, Trained: 342, Last-500 Accuracy: 0.558\n"
       ]
      },
      {
       "output_type": "stream",
       "stream": "stdout",
       "text": [
        " karl gustav jung  [German] OK\n"
       ]
      },
      {
       "output_type": "stream",
       "stream": "stdout",
       "text": [
        " \u4e2d\u570b\u96fb\u529b\u65b0\u80fd\u6e90  [Chinese] OK\n"
       ]
      },
      {
       "output_type": "stream",
       "stream": "stdout",
       "text": [
        " \u6843\u5712\u7e23\u5927\u5c08\u9662\u6821\u5217\u8868  [Chinese] Failed!\n",
        "Prediction: Japanese, Received: 694, Trained: 343, Last-500 Accuracy: 0.558\n"
       ]
      },
      {
       "output_type": "stream",
       "stream": "stdout",
       "text": [
        " m3u  [Japanese] Failed!\n",
        "Prediction: French, Received: 695, Trained: 344, Last-500 Accuracy: 0.556\n"
       ]
      },
      {
       "output_type": "stream",
       "stream": "stdout",
       "text": [
        " \u4e2d\u4e8c\u75c5\u3067\u3082\u604b\u304c\u3057\u305f\u3044!  [Japanese] OK\n"
       ]
      },
      {
       "output_type": "stream",
       "stream": "stdout",
       "text": [
        " schlacht von wayna daga  [German] OK\n"
       ]
      },
      {
       "output_type": "stream",
       "stream": "stdout",
       "text": [
        " aufw\u00e4rtshaken  [German] OK\n"
       ]
      },
      {
       "output_type": "stream",
       "stream": "stdout",
       "text": [
        " donald duck personage  [Dutch] Failed!\n",
        "Prediction: French, Received: 699, Trained: 345, Last-500 Accuracy: 0.558\n"
       ]
      },
      {
       "output_type": "stream",
       "stream": "stdout",
       "text": [
        " federico guglielmo di schleswig holstein sonderburg gl\u00fccksburg  [Italian] OK\n"
       ]
      },
      {
       "output_type": "stream",
       "stream": "stdout",
       "text": [
        " monniera monniera  [Swedish] OK\n"
       ]
      },
      {
       "output_type": "stream",
       "stream": "stdout",
       "text": [
        " ruine waldau k\u00f6nigsfeld  [German] Failed!\n",
        "Prediction: French, Received: 702, Trained: 346, Last-500 Accuracy: 0.558\n"
       ]
      },
      {
       "output_type": "stream",
       "stream": "stdout",
       "text": [
        " domenico scarlatti  [Esperanto] Failed!\n",
        "Prediction: Czech, Received: 703, Trained: 347, Last-500 Accuracy: 0.556\n"
       ]
      },
      {
       "output_type": "stream",
       "stream": "stdout",
       "text": [
        " \u043a\u043b\u0430\u0441\u0441\u0435\u043d \u0434\u044d\u0432\u0438  [Russian] OK\n"
       ]
      },
      {
       "output_type": "stream",
       "stream": "stdout",
       "text": [
        " st. james\u2019s day fight  [German] Failed!\n",
        "Prediction: French, Received: 705, Trained: 348, Last-500 Accuracy: 0.554\n"
       ]
      },
      {
       "output_type": "stream",
       "stream": "stdout",
       "text": [
        " cant\u00f3 d'ant\u00edbol centre  [Catalan] OK\n"
       ]
      },
      {
       "output_type": "stream",
       "stream": "stdout",
       "text": [
        " konservismo  [Esperanto] OK\n"
       ]
      },
      {
       "output_type": "stream",
       "stream": "stdout",
       "text": [
        " fiba asien  [German] OK\n"
       ]
      },
      {
       "output_type": "stream",
       "stream": "stdout",
       "text": [
        " derby calcistici in campania  [Italian] Failed!\n",
        "Prediction: Swedish, Received: 709, Trained: 349, Last-500 Accuracy: 0.554\n"
       ]
      },
      {
       "output_type": "stream",
       "stream": "stdout",
       "text": [
        " isabel ii de espa\u00f1a  [Spanish] OK\n"
       ]
      },
      {
       "output_type": "stream",
       "stream": "stdout",
       "text": [
        " monniera pedunculosa  [Swedish] OK\n"
       ]
      },
      {
       "output_type": "stream",
       "stream": "stdout",
       "text": [
        " \u0441\u043e\u0432\u0440\u0435\u043c\u0435\u043d\u043d\u043e\u0435 \u0438\u0441\u043a\u0443\u0441\u0441\u0442\u0432\u043e \u0438 \u043e\u0431\u0440\u0430\u0437\u043e\u0432\u0430\u043d\u0438\u0435 \u043c\u0443\u0437\u044b \u043c\u0438\u0440\u0430  [Russian] Failed!\n",
        "Prediction: Ukrainian, Received: 712, Trained: 350, Last-500 Accuracy: 0.552\n"
       ]
      },
      {
       "output_type": "stream",
       "stream": "stdout",
       "text": [
        " orestiada  [German] Failed!\n",
        "Prediction: Dutch, Received: 713, Trained: 351, Last-500 Accuracy: 0.552\n"
       ]
      },
      {
       "output_type": "stream",
       "stream": "stdout",
       "text": [
        " \u0627\u0644\u0623\u0641\u0643\u0627\u0631 \u0641\u064a \u0633\u064a\u0631 \u0645\u0627\u064a\u0627 \u0623\u0646\u062c\u064a\u0644\u0648 \u0627\u0644\u0630\u0627\u062a\u064a\u0629  [Arabic] OK\n"
       ]
      },
      {
       "output_type": "stream",
       "stream": "stdout",
       "text": [
        " \u677e\u5ca1\u7d00\u96c4  [Japanese] OK\n"
       ]
      },
      {
       "output_type": "stream",
       "stream": "stdout",
       "text": [
        " aaron paul  [Finnish] Failed!\n",
        "Prediction: German, Received: 716, Trained: 352, Last-500 Accuracy: 0.552\n"
       ]
      },
      {
       "output_type": "stream",
       "stream": "stdout",
       "text": [
        " \u043c\u0430\u0439\u0440 \u0430\u0445\u043b\u0430\u0439\u0442\u043d\u0435\u0440 \u043f\u0430\u0442\u0440\u0438\u0446\u0438\u044f  [Russian] OK\n"
       ]
      },
      {
       "output_type": "stream",
       "stream": "stdout",
       "text": [
        " m60\u6a5f\u95a2\u9283  [Japanese] Failed!\n",
        "Prediction: Italian, Received: 718, Trained: 353, Last-500 Accuracy: 0.554\n"
       ]
      },
      {
       "output_type": "stream",
       "stream": "stdout",
       "text": [
        " liste der byzantinischen kaiser  [German] OK\n"
       ]
      },
      {
       "output_type": "stream",
       "stream": "stdout",
       "text": [
        " \u6050\u7adc\u6226\u968a\u30b8\u30e5\u30a6\u30ec\u30f3\u30b8\u30e3\u30fc  [Japanese] OK\n"
       ]
      },
      {
       "output_type": "stream",
       "stream": "stdout",
       "text": [
        " eskadrille 721  [Danish] Failed!\n",
        "Prediction: German, Received: 721, Trained: 354, Last-500 Accuracy: 0.558\n"
       ]
      },
      {
       "output_type": "stream",
       "stream": "stdout",
       "text": [
        " an/sps 29  [Japanese] Failed!\n",
        "Prediction: French, Received: 722, Trained: 355, Last-500 Accuracy: 0.556\n"
       ]
      },
      {
       "output_type": "stream",
       "stream": "stdout",
       "text": [
        " dungeons & dragons  [Catalan] OK\n"
       ]
      },
      {
       "output_type": "stream",
       "stream": "stdout",
       "text": [
        " zoznam kult\u00farnych pamiatok v obci stre\u010dno  [Slovak] Failed!\n",
        "Prediction: Spanish, Received: 724, Trained: 356, Last-500 Accuracy: 0.556\n"
       ]
      },
      {
       "output_type": "stream",
       "stream": "stdout",
       "text": [
        " ert world  [Greek] Failed!\n",
        "Prediction: German, Received: 725, Trained: 357, Last-500 Accuracy: 0.556\n"
       ]
      },
      {
       "output_type": "stream",
       "stream": "stdout",
       "text": [
        " bacopa monnieri  [Swedish] OK\n"
       ]
      },
      {
       "output_type": "stream",
       "stream": "stdout",
       "text": [
        " luis mart\u00edn gil  [Spanish] OK\n"
       ]
      },
      {
       "output_type": "stream",
       "stream": "stdout",
       "text": [
        " liga act  [Spanish] Failed!\n",
        "Prediction: Swedish, Received: 728, Trained: 358, Last-500 Accuracy: 0.558\n"
       ]
      },
      {
       "output_type": "stream",
       "stream": "stdout",
       "text": [
        " \u043a\u043e\u0432\u0430\u043b\u044c\u043e\u0432 \u043e\u043b\u0435\u043a\u0441\u0430\u043d\u0434\u0440 \u0441\u0435\u043c\u0435\u043d\u043e\u0432\u0438\u0447  [Ukrainian] OK\n"
       ]
      },
      {
       "output_type": "stream",
       "stream": "stdout",
       "text": [
        " puk t\u00e4smennyssivu  [Finnish] Failed!\n",
        "Prediction: Dutch, Received: 730, Trained: 359, Last-500 Accuracy: 0.556\n"
       ]
      },
      {
       "output_type": "stream",
       "stream": "stdout",
       "text": [
        " n\u00e5lens \u00f6ga  [Swedish] Failed!\n",
        "Prediction: Spanish, Received: 731, Trained: 360, Last-500 Accuracy: 0.554\n"
       ]
      },
      {
       "output_type": "stream",
       "stream": "stdout",
       "text": [
        " monique thierry  [French] OK\n"
       ]
      },
      {
       "output_type": "stream",
       "stream": "stdout",
       "text": [
        " \u0441\u0435\u043f\u0442\u0443\u0430\u0433\u0438\u043d\u0442\u0430  [Russian] Failed!\n",
        "Prediction: Ukrainian, Received: 733, Trained: 361, Last-500 Accuracy: 0.552\n"
       ]
      },
      {
       "output_type": "stream",
       "stream": "stdout",
       "text": [
        " kupper  [German] OK\n"
       ]
      },
      {
       "output_type": "stream",
       "stream": "stdout",
       "text": [
        " \uc815\uc7ac\uc601  [Korean] Failed!\n",
        "Prediction: Chinese, Received: 735, Trained: 362, Last-500 Accuracy: 0.550\n"
       ]
      },
      {
       "output_type": "stream",
       "stream": "stdout",
       "text": [
        " cheers  [Portuguese] Failed!\n",
        "Prediction: German, Received: 736, Trained: 363, Last-500 Accuracy: 0.548\n"
       ]
      },
      {
       "output_type": "stream",
       "stream": "stdout",
       "text": [
        " \u30ef\u65cf  [Japanese] Failed!\n",
        "Prediction: Chinese, Received: 737, Trained: 364, Last-500 Accuracy: 0.546\n"
       ]
      },
      {
       "output_type": "stream",
       "stream": "stdout",
       "text": [
        " litet tjockblad  [Swedish] Failed!\n",
        "Prediction: Spanish, Received: 738, Trained: 365, Last-500 Accuracy: 0.546\n"
       ]
      },
      {
       "output_type": "stream",
       "stream": "stdout",
       "text": [
        " ginecologia e vida intima  [Spanish] OK\n"
       ]
      },
      {
       "output_type": "stream",
       "stream": "stdout",
       "text": [
        " 1920 \u0433\u043e\u0434 \u0432 \u0441\u043f\u043e\u0440\u0442\u0435  [Russian] OK\n"
       ]
      },
      {
       "output_type": "stream",
       "stream": "stdout",
       "text": [
        " \u03c0\u03bf\u03cd\u03bd\u03c4\u03c3\u03b1\u03ba \u03c4\u03b6\u03ac\u03b3\u03b9\u03b1  [Greek] OK\n"
       ]
      },
      {
       "output_type": "stream",
       "stream": "stdout",
       "text": [
        " \u30d7\u30ed\u30ec\u30b9\u30ea\u30f3\u30b0wave  [Japanese] Failed!\n",
        "Prediction: Spanish, Received: 742, Trained: 366, Last-500 Accuracy: 0.548\n"
       ]
      },
      {
       "output_type": "stream",
       "stream": "stdout",
       "text": [
        " cant\u00f3 d'ant\u00edbol bi\u00f2t  [Catalan] OK\n"
       ]
      },
      {
       "output_type": "stream",
       "stream": "stdout",
       "text": [
        " ogadenkrieg  [German] OK\n"
       ]
      },
      {
       "output_type": "stream",
       "stream": "stdout",
       "text": [
        " \u9ad8\u7aaa\u70ad\u9271  [Japanese] OK\n"
       ]
      },
      {
       "output_type": "stream",
       "stream": "stdout",
       "text": [
        " strup\u010dice rozhledna  [Czech] Failed!\n",
        "Prediction: German, Received: 746, Trained: 367, Last-500 Accuracy: 0.550\n"
       ]
      },
      {
       "output_type": "stream",
       "stream": "stdout",
       "text": [
        " m\u00fcbahele  [Turkish] OK\n"
       ]
      },
      {
       "output_type": "stream",
       "stream": "stdout",
       "text": [
        " orden van de soevereine sovjet republieken  [Dutch] OK\n"
       ]
      },
      {
       "output_type": "stream",
       "stream": "stdout",
       "text": [
        " masaru emoto  [German] Failed!\n",
        "Prediction: Spanish, Received: 749, Trained: 368, Last-500 Accuracy: 0.552\n"
       ]
      },
      {
       "output_type": "stream",
       "stream": "stdout",
       "text": [
        " \u0431\u0443\u0440\u044f\u043a \u0440\u0456\u0434  [Ukrainian] OK\n"
       ]
      },
      {
       "output_type": "stream",
       "stream": "stdout",
       "text": [
        " \uacbd\uc81c \ud611\ub825 \uac1c\ubc1c \uae30\uad6c  [Korean] OK\n"
       ]
      },
      {
       "output_type": "stream",
       "stream": "stdout",
       "text": [
        " \uc544\uc774\uc2a4 \ubc84\ud0b7 \ucc4c\ub9b0\uc9c0 \ucc38\uac00\uc790 \ubaa9\ub85d  [Korean] Failed!\n",
        "Prediction: Chinese, Received: 752, Trained: 369, Last-500 Accuracy: 0.552\n"
       ]
      },
      {
       "output_type": "stream",
       "stream": "stdout",
       "text": [
        " rafael garc\u00eda  [Italian] Failed!\n",
        "Prediction: Spanish, Received: 753, Trained: 370, Last-500 Accuracy: 0.550\n"
       ]
      },
      {
       "output_type": "stream",
       "stream": "stdout",
       "text": [
        " grabouillon s\u00e9rie t\u00e9l\u00e9vis\u00e9e d'animation  [French] OK\n"
       ]
      },
      {
       "output_type": "stream",
       "stream": "stdout",
       "text": [
        " \u0641\u0644\u0648\u0631\u0646\u0633\u0627  [Arabic] OK\n"
       ]
      },
      {
       "output_type": "stream",
       "stream": "stdout",
       "text": [
        " arte menor  [Spanish] Failed!\n",
        "Prediction: Dutch, Received: 756, Trained: 371, Last-500 Accuracy: 0.550\n"
       ]
      },
      {
       "output_type": "stream",
       "stream": "stdout",
       "text": [
        " superlambanana  [German] OK\n"
       ]
      },
      {
       "output_type": "stream",
       "stream": "stdout",
       "text": [
        " cant\u00f3 d'anzin  [Catalan] OK\n"
       ]
      },
      {
       "output_type": "stream",
       "stream": "stdout",
       "text": [
        " seno narkotek  [Italian] Failed!\n",
        "Prediction: Swedish, Received: 759, Trained: 372, Last-500 Accuracy: 0.550\n"
       ]
      },
      {
       "output_type": "stream",
       "stream": "stdout",
       "text": [
        " mattin najafi  [Swedish] OK\n"
       ]
      },
      {
       "output_type": "stream",
       "stream": "stdout",
       "text": [
        " gran premi d'espanya de motocr\u00f2s 250cc 1979  [Catalan] OK\n"
       ]
      },
      {
       "output_type": "stream",
       "stream": "stdout",
       "text": [
        " \u97f3\u901f\u5c0f\u5b50x  [Chinese] OK\n"
       ]
      },
      {
       "output_type": "stream",
       "stream": "stdout",
       "text": [
        " \u0433\u0435\u0440\u0446\u043e\u0433 \u0444\u0451\u0434\u043e\u0440 \u0438\u0432\u0430\u043d\u043e\u0432\u0438\u0447  [Russian] OK\n"
       ]
      },
      {
       "output_type": "stream",
       "stream": "stdout",
       "text": [
        " hist\u00f2ria d'andorra  [Catalan] OK\n"
       ]
      },
      {
       "output_type": "stream",
       "stream": "stdout",
       "text": [
        " bacopa curtipes  [Swedish] OK\n"
       ]
      },
      {
       "output_type": "stream",
       "stream": "stdout",
       "text": [
        " \u4e2d\u570b\u96fb\u529b \u65e5\u672c  [Chinese] OK\n"
       ]
      },
      {
       "output_type": "stream",
       "stream": "stdout",
       "text": [
        " arluno  [Italian] OK\n"
       ]
      },
      {
       "output_type": "stream",
       "stream": "stdout",
       "text": [
        " silverstone circuit  [German] Failed!\n",
        "Prediction: French, Received: 768, Trained: 373, Last-500 Accuracy: 0.558\n"
       ]
      },
      {
       "output_type": "stream",
       "stream": "stdout",
       "text": [
        " teresa s\u00e1nchez l\u00f3pez  [Spanish] OK\n"
       ]
      },
      {
       "output_type": "stream",
       "stream": "stdout",
       "text": [
        " hartmut von hentig  [German] OK\n"
       ]
      },
      {
       "output_type": "stream",
       "stream": "stdout",
       "text": [
        " bodine  [German] Failed!\n",
        "Prediction: Dutch, Received: 771, Trained: 374, Last-500 Accuracy: 0.562\n"
       ]
      },
      {
       "output_type": "stream",
       "stream": "stdout",
       "text": [
        " castle serie televisiva  [Italian] Failed!\n",
        "Prediction: German, Received: 772, Trained: 375, Last-500 Accuracy: 0.562\n"
       ]
      },
      {
       "output_type": "stream",
       "stream": "stdout",
       "text": [
        " \u0430\u0440\u0445\u0430\u043d\u0433\u0435\u043b\u044c\u0441\u043a  [Russian] OK\n"
       ]
      },
      {
       "output_type": "stream",
       "stream": "stdout",
       "text": [
        " \u043d\u0430\u0440\u0431\u0443\u0442 \u0438\u0443\u0441\u0442\u0438\u043d  [Russian] OK\n"
       ]
      },
      {
       "output_type": "stream",
       "stream": "stdout",
       "text": [
        " muntanya d'hamiguitan  [Catalan] OK\n"
       ]
      },
      {
       "output_type": "stream",
       "stream": "stdout",
       "text": [
        " lacon  [French] Failed!\n",
        "Prediction: Spanish, Received: 776, Trained: 376, Last-500 Accuracy: 0.564\n"
       ]
      },
      {
       "output_type": "stream",
       "stream": "stdout",
       "text": [
        " xviii secolo  [Italian] OK\n"
       ]
      },
      {
       "output_type": "stream",
       "stream": "stdout",
       "text": [
        " sankta filiberto  [Esperanto] Failed!\n",
        "Prediction: Spanish, Received: 778, Trained: 377, Last-500 Accuracy: 0.564\n"
       ]
      },
      {
       "output_type": "stream",
       "stream": "stdout",
       "text": [
        " \u5317\u6761\u8c9e\u6642  [Japanese] Failed!\n",
        "Prediction: Chinese, Received: 779, Trained: 378, Last-500 Accuracy: 0.562\n"
       ]
      },
      {
       "output_type": "stream",
       "stream": "stdout",
       "text": [
        " bacopa cyclophylla  [Swedish] OK\n"
       ]
      },
      {
       "output_type": "stream",
       "stream": "stdout",
       "text": [
        " 1919 \u0433\u043e\u0434 \u0432 \u0441\u043f\u043e\u0440\u0442\u0435  [Russian] OK\n"
       ]
      },
      {
       "output_type": "stream",
       "stream": "stdout",
       "text": [
        " joan \u00e1ngel rom\u00e1n  [Dutch] Failed!\n",
        "Prediction: German, Received: 782, Trained: 379, Last-500 Accuracy: 0.564\n"
       ]
      },
      {
       "output_type": "stream",
       "stream": "stdout",
       "text": [
        " elizabeth vlotman  [French] Failed!\n",
        "Prediction: Spanish, Received: 783, Trained: 380, Last-500 Accuracy: 0.562\n"
       ]
      },
      {
       "output_type": "stream",
       "stream": "stdout",
       "text": [
        " orestiada  [German] OK\n"
       ]
      },
      {
       "output_type": "stream",
       "stream": "stdout",
       "text": [
        " saccharum alopecuroides  [Swedish] Failed!\n",
        "Prediction: French, Received: 785, Trained: 381, Last-500 Accuracy: 0.560\n"
       ]
      },
      {
       "output_type": "stream",
       "stream": "stdout",
       "text": [
        " \u043a\u0430\u0440\u043d\u0430\u043b\u043b\u0438\u0442  [Russian] OK\n"
       ]
      },
      {
       "output_type": "stream",
       "stream": "stdout",
       "text": [
        " cant\u00f3 d'an\u00f2t  [Catalan] OK\n"
       ]
      },
      {
       "output_type": "stream",
       "stream": "stdout",
       "text": [
        " herzogtum friedland  [German] OK\n"
       ]
      },
      {
       "output_type": "stream",
       "stream": "stdout",
       "text": [
        " liste des \u00e9pisodes de dragon ball z kai  [French] OK\n"
       ]
      },
      {
       "output_type": "stream",
       "stream": "stdout",
       "text": [
        " ert world  [Greek] OK\n"
       ]
      },
      {
       "output_type": "stream",
       "stream": "stdout",
       "text": [
        " reprezentacja w\u0142och na mistrzostwach \u015bwiata w narciarstwie klasycznym 2007  [Polish] OK\n"
       ]
      },
      {
       "output_type": "stream",
       "stream": "stdout",
       "text": [
        " forme substantielle  [French] OK\n"
       ]
      },
      {
       "output_type": "stream",
       "stream": "stdout",
       "text": [
        " \u043a\u0430\u0440\u0430\u0447\u0430\u0435\u0432\u0441\u043a\u0430\u044f \u043b\u043e\u0448\u0430\u0434\u044c  [Russian] OK\n"
       ]
      },
      {
       "output_type": "stream",
       "stream": "stdout",
       "text": [
        " guglielmo federico di schleswig holstein  [Italian] OK\n"
       ]
      },
      {
       "output_type": "stream",
       "stream": "stdout",
       "text": [
        " \u5929\u4e3b\u6559\u5d07\u5fb7\u82f1\u6587\u66f8\u9662  [Chinese] OK\n"
       ]
      },
      {
       "output_type": "stream",
       "stream": "stdout",
       "text": [
        " \u0441\u043f\u0438\u0441\u043e\u043a \u043c\u0438\u043d\u0438\u0441\u0442\u0440\u043e\u0432 \u0432\u043d\u0443\u0442\u0440\u0435\u043d\u043d\u0438\u0445 \u0434\u0435\u043b \u0443\u043a\u0440\u0430\u0438\u043d\u044b  [Russian] OK\n"
       ]
      },
      {
       "output_type": "stream",
       "stream": "stdout",
       "text": [
        " bacopa micromonnieria  [Swedish] OK\n"
       ]
      },
      {
       "output_type": "stream",
       "stream": "stdout",
       "text": [
        " \u0431\u0440\u0430\u043d\u0438\u043c\u0438\u0440 \u043e\u0440\u043c\u0430\u043d\u043e\u0432  [Bulgarian] Failed!\n",
        "Prediction: Russian, Received: 798, Trained: 382, Last-500 Accuracy: 0.564\n"
       ]
      },
      {
       "output_type": "stream",
       "stream": "stdout",
       "text": [
        " kurdistanin is\u00e4nmaallinen liitto  [Finnish] Failed!\n",
        "Prediction: German, Received: 799, Trained: 383, Last-500 Accuracy: 0.562\n"
       ]
      },
      {
       "output_type": "stream",
       "stream": "stdout",
       "text": [
        " intermedia films  [Swedish] Failed!\n",
        "Prediction: German, Received: 800, Trained: 384, Last-500 Accuracy: 0.560\n"
       ]
      },
      {
       "output_type": "stream",
       "stream": "stdout",
       "text": [
        " saccharum angustifolium  [Swedish] OK\n"
       ]
      },
      {
       "output_type": "stream",
       "stream": "stdout",
       "text": [
        " story musgrave  [French] Failed!\n",
        "Prediction: Italian, Received: 802, Trained: 385, Last-500 Accuracy: 0.558\n"
       ]
      },
      {
       "output_type": "stream",
       "stream": "stdout",
       "text": [
        " transjakarta  [Indonesian] Failed!\n",
        "Prediction: Spanish, Received: 803, Trained: 386, Last-500 Accuracy: 0.556\n"
       ]
      },
      {
       "output_type": "stream",
       "stream": "stdout",
       "text": [
        " kostol sv\u00e4t\u00e9ho \u0161tefana bratislava  [Slovak] OK\n"
       ]
      },
      {
       "output_type": "stream",
       "stream": "stdout",
       "text": [
        " el \u043a\u0440\u0430\u0432\u0447\u0443\u043a  [Ukrainian] Failed!\n",
        "Prediction: Russian, Received: 805, Trained: 387, Last-500 Accuracy: 0.556\n"
       ]
      },
      {
       "output_type": "stream",
       "stream": "stdout",
       "text": [
        " taekwondo  [Swedish] Failed!\n",
        "Prediction: Italian, Received: 806, Trained: 388, Last-500 Accuracy: 0.556\n"
       ]
      },
      {
       "output_type": "stream",
       "stream": "stdout",
       "text": [
        " bacopa stragula  [Swedish] OK\n"
       ]
      },
      {
       "output_type": "stream",
       "stream": "stdout",
       "text": [
        " saccharum arundinaceum  [Swedish] Failed!\n",
        "Prediction: German, Received: 808, Trained: 389, Last-500 Accuracy: 0.554\n"
       ]
      },
      {
       "output_type": "stream",
       "stream": "stdout",
       "text": [
        " regina di wave\u738b\u5ea7  [Japanese] Failed!\n",
        "Prediction: German, Received: 809, Trained: 390, Last-500 Accuracy: 0.552\n"
       ]
      },
      {
       "output_type": "stream",
       "stream": "stdout",
       "text": [
        " liste der landesstra\u00dfen im regierungsbezirk m\u00fcnster  [German] OK\n"
       ]
      },
      {
       "output_type": "stream",
       "stream": "stdout",
       "text": [
        " \u0633\u0627\u0646\u062f\u0631 \u067e\u06cc\u0686\u0627\u06cc  [Farsi] OK\n"
       ]
      },
      {
       "output_type": "stream",
       "stream": "stdout",
       "text": [
        " edvard bene\u0161  [Spanish] Failed!\n",
        "Prediction: Hungarian, Received: 812, Trained: 391, Last-500 Accuracy: 0.556\n"
       ]
      },
      {
       "output_type": "stream",
       "stream": "stdout",
       "text": [
        " \u062c\u06a9 \u0627\u0633\u062a\u0631\u0627  [Farsi] OK\n"
       ]
      },
      {
       "output_type": "stream",
       "stream": "stdout",
       "text": [
        " \u043e\u0432\u0430\u043d\u0435\u0441 \u043e\u043b\u043e\u0432  [Russian] Failed!\n",
        "Prediction: Ukrainian, Received: 814, Trained: 392, Last-500 Accuracy: 0.556\n"
       ]
      },
      {
       "output_type": "stream",
       "stream": "stdout",
       "text": [
        " cant\u00f3 d'approuague kaw  [Catalan] Failed!\n",
        "Prediction: French, Received: 815, Trained: 393, Last-500 Accuracy: 0.556\n"
       ]
      },
      {
       "output_type": "stream",
       "stream": "stdout",
       "text": [
        " 1966\u30ab\u30eb\u30c6\u30c3\u30c8  [Japanese] OK\n"
       ]
      },
      {
       "output_type": "stream",
       "stream": "stdout",
       "text": [
        " schlacht um den amba alagi  [German] OK\n"
       ]
      },
      {
       "output_type": "stream",
       "stream": "stdout",
       "text": [
        " ibn othman al maknassi  [French] OK\n"
       ]
      },
      {
       "output_type": "stream",
       "stream": "stdout",
       "text": [
        " amir hamzah  [Indonesian] Failed!\n",
        "Prediction: German, Received: 819, Trained: 394, Last-500 Accuracy: 0.560\n"
       ]
      },
      {
       "output_type": "stream",
       "stream": "stdout",
       "text": [
        " bramia micromonnieria  [Swedish] OK\n"
       ]
      },
      {
       "output_type": "stream",
       "stream": "stdout",
       "text": [
        " saccharum asperum  [Swedish] OK\n"
       ]
      },
      {
       "output_type": "stream",
       "stream": "stdout",
       "text": [
        " \u0437\u0430\u0441\u043e\u0440\u0438\u043d \u0438\u0433\u043e\u0440\u044c \u043f\u0435\u0442\u0440\u043e\u0432\u0438\u0447  [Russian] OK\n"
       ]
      },
      {
       "output_type": "stream",
       "stream": "stdout",
       "text": [
        " montescourt lizerolles  [French] OK\n"
       ]
      },
      {
       "output_type": "stream",
       "stream": "stdout",
       "text": [
        " rayleigh streuung  [German] OK\n"
       ]
      },
      {
       "output_type": "stream",
       "stream": "stdout",
       "text": [
        " \u0434\u043e\u0431\u0435\u043b\u0435  [Russian] OK\n"
       ]
      },
      {
       "output_type": "stream",
       "stream": "stdout",
       "text": [
        " gran premi d'espanya de motocr\u00f2s 250cc 1979  [Catalan] OK\n"
       ]
      },
      {
       "output_type": "stream",
       "stream": "stdout",
       "text": [
        " \u0434\u0430\u043d\u0438\u043d\u0438 \u0435\u0432\u0433\u0435\u043d\u0438\u0439 \u0441\u0438\u043b\u044c\u0432\u0438\u0435\u0432\u0438\u0447  [Russian] OK\n"
       ]
      },
      {
       "output_type": "stream",
       "stream": "stdout",
       "text": [
        " \u5ee3\u5357kk\u8d85\u7d1a\u5e02\u5834  [Chinese] Failed!\n",
        "Prediction: Japanese, Received: 828, Trained: 395, Last-500 Accuracy: 0.572\n"
       ]
      },
      {
       "output_type": "stream",
       "stream": "stdout",
       "text": [
        " lacon punctatus  [French] OK\n"
       ]
      },
      {
       "output_type": "stream",
       "stream": "stdout",
       "text": [
        " \u043a\u0443\u0437\u044c\u043c\u0438\u043d\u043e\u0432 \u0431\u043e\u0440\u0438\u0441 \u0434\u043c\u0438\u0442\u0440\u0438\u0435\u0432\u0438\u0447  [Russian] OK\n"
       ]
      },
      {
       "output_type": "stream",
       "stream": "stdout",
       "text": [
        " conobea innominata  [Swedish] OK\n"
       ]
      },
      {
       "output_type": "stream",
       "stream": "stdout",
       "text": [
        " saccharum beccarii  [Swedish] OK\n"
       ]
      },
      {
       "output_type": "stream",
       "stream": "stdout",
       "text": [
        " franz schubert  [French] OK\n"
       ]
      },
      {
       "output_type": "stream",
       "stream": "stdout",
       "text": [
        " derby calcistici in campania  [Italian] OK\n"
       ]
      },
      {
       "output_type": "stream",
       "stream": "stdout",
       "text": [
        " cheetah chrome  [Portuguese] Failed!\n",
        "Prediction: German, Received: 835, Trained: 396, Last-500 Accuracy: 0.578\n"
       ]
      },
      {
       "output_type": "stream",
       "stream": "stdout",
       "text": [
        " \u30b9\u30fc\u30d1\u30fc\u30b9\u30ea\u30fc  [Japanese] OK\n"
       ]
      },
      {
       "output_type": "stream",
       "stream": "stdout",
       "text": [
        " \u043f\u043e\u0440\u0442\u0443 \u0444\u0443\u0442\u0431\u043e\u043b\u044c\u043d\u044b\u0439 \u043a\u043b\u0443\u0431  [Russian] OK\n"
       ]
      },
      {
       "output_type": "stream",
       "stream": "stdout",
       "text": [
        " episodi di mario seconda stagione  [Italian] Failed!\n",
        "Prediction: Spanish, Received: 838, Trained: 397, Last-500 Accuracy: 0.578\n"
       ]
      },
      {
       "output_type": "stream",
       "stream": "stdout",
       "text": [
        " geschichte der sowjetunion  [German] OK\n"
       ]
      },
      {
       "output_type": "stream",
       "stream": "stdout",
       "text": [
        " cant\u00f3 d'arbois  [Catalan] OK\n"
       ]
      },
      {
       "output_type": "stream",
       "stream": "stdout",
       "text": [
        " schweiz  [German] OK\n"
       ]
      },
      {
       "output_type": "stream",
       "stream": "stdout",
       "text": [
        " mondo\u00f1edo  [German] OK\n"
       ]
      },
      {
       "output_type": "stream",
       "stream": "stdout",
       "text": [
        " \u0447\u0435\u0448\u0441\u043a\u0438\u0435 \u043f\u0435\u0440\u0435\u0432\u043e\u0434\u044b \u0431\u0438\u0431\u043b\u0438\u0438  [Russian] OK\n"
       ]
      },
      {
       "output_type": "stream",
       "stream": "stdout",
       "text": [
        " chorus album d'erasure  [French] OK\n"
       ]
      },
      {
       "output_type": "stream",
       "stream": "stdout",
       "text": [
        " gratiola repens  [Swedish] OK\n"
       ]
      },
      {
       "output_type": "stream",
       "stream": "stdout",
       "text": [
        " \u6211\u4eec\u90fd\u7231\u7b11  [Chinese] OK\n"
       ]
      },
      {
       "output_type": "stream",
       "stream": "stdout",
       "text": [
        " sea life abenteuer park  [German] OK\n"
       ]
      },
      {
       "output_type": "stream",
       "stream": "stdout",
       "text": [
        " coupe du monde de basket ball masculin 2014  [French] OK\n"
       ]
      },
      {
       "output_type": "stream",
       "stream": "stdout",
       "text": [
        " saccharum bengalense  [Swedish] OK\n"
       ]
      },
      {
       "output_type": "stream",
       "stream": "stdout",
       "text": [
        " hist\u00f2ria d'andorra  [Catalan] OK\n"
       ]
      },
      {
       "output_type": "stream",
       "stream": "stdout",
       "text": [
        " \u0627\u0644\u0643\u0644\u0627\u0633\u064a\u0643\u0648  [Arabic] OK\n"
       ]
      },
      {
       "output_type": "stream",
       "stream": "stdout",
       "text": [
        " pietro di schleswig holstein  [Italian] OK\n"
       ]
      },
      {
       "output_type": "stream",
       "stream": "stdout",
       "text": [
        " \u043b\u043e\u0440\u044c\u044f\u043d \u0444\u0443\u0442\u0431\u043e\u043b\u044c\u043d\u044b\u0439 \u043a\u043b\u0443\u0431  [Russian] OK\n"
       ]
      },
      {
       "output_type": "stream",
       "stream": "stdout",
       "text": [
        " said alpsoy  [Turkish] Failed!\n",
        "Prediction: Swedish, Received: 854, Trained: 398, Last-500 Accuracy: 0.592\n"
       ]
      },
      {
       "output_type": "stream",
       "stream": "stdout",
       "text": [
        " \uc720\ubcd1\uc5b8  [Korean] Failed!\n",
        "Prediction: Chinese, Received: 855, Trained: 399, Last-500 Accuracy: 0.592\n"
       ]
      },
      {
       "output_type": "stream",
       "stream": "stdout",
       "text": [
        " liste der resolutionen des un sicherheitsrates 1992  [German] OK\n"
       ]
      },
      {
       "output_type": "stream",
       "stream": "stdout",
       "text": [
        " \u043f\u043e\u0440\u0442\u043d\u044f\u0433\u0438\u043d \u044e\u0440\u0438\u0439 \u0438\u0432\u0430\u043d\u043e\u0432\u0438\u0447  [Russian] OK\n"
       ]
      },
      {
       "output_type": "stream",
       "stream": "stdout",
       "text": [
        " schlacht von gallabat  [German] OK\n"
       ]
      },
      {
       "output_type": "stream",
       "stream": "stdout",
       "text": [
        " herpestis micromonnieria  [Swedish] OK\n"
       ]
      },
      {
       "output_type": "stream",
       "stream": "stdout",
       "text": [
        " saccharum brevibarbe  [Swedish] Failed!\n",
        "Prediction: German, Received: 860, Trained: 400, Last-500 Accuracy: 0.596\n"
       ]
      },
      {
       "output_type": "stream",
       "stream": "stdout",
       "text": [
        " viertageschlacht  [German] OK\n"
       ]
      },
      {
       "output_type": "stream",
       "stream": "stdout",
       "text": [
        " insane clown posse  [French] Failed!\n",
        "Prediction: German, Received: 862, Trained: 401, Last-500 Accuracy: 0.598\n"
       ]
      },
      {
       "output_type": "stream",
       "stream": "stdout",
       "text": [
        " rifaksymina  [Polish] Failed!\n",
        "Prediction: German, Received: 863, Trained: 402, Last-500 Accuracy: 0.596\n"
       ]
      },
      {
       "output_type": "stream",
       "stream": "stdout",
       "text": [
        " ogr\u00f3d chi\u0144ski w \u0142azienkach  [Polish] OK\n"
       ]
      },
      {
       "output_type": "stream",
       "stream": "stdout",
       "text": [
        " hans joachim beeskow  [German] OK\n"
       ]
      },
      {
       "output_type": "stream",
       "stream": "stdout",
       "text": [
        " cant\u00f3 d'arc en barrois  [Catalan] OK\n"
       ]
      },
      {
       "output_type": "stream",
       "stream": "stdout",
       "text": [
        " \u0430\u043d\u0442\u043e\u043d\u043e\u0432 \u0430\u043b\u0435\u043a\u0441\u0430\u043d\u0434\u0440 \u0432\u043b\u0430\u0434\u0438\u043c\u0438\u0440\u043e\u0432\u0438\u0447  [Russian] Failed!\n",
        "Prediction: Ukrainian, Received: 867, Trained: 403, Last-500 Accuracy: 0.596\n"
       ]
      },
      {
       "output_type": "stream",
       "stream": "stdout",
       "text": [
        " domenico scarlatti  [Hungarian] Failed!\n",
        "Prediction: Esperanto, Received: 868, Trained: 404, Last-500 Accuracy: 0.594\n"
       ]
      },
      {
       "output_type": "stream",
       "stream": "stdout",
       "text": [
        " \u05db\u05d9\u05e4\u05ea \u05d1\u05e8\u05d6\u05dc  [Hebrew] Failed!\n",
        "Prediction: Chinese, Received: 869, Trained: 405, Last-500 Accuracy: 0.594\n"
       ]
      },
      {
       "output_type": "stream",
       "stream": "stdout",
       "text": [
        " \ubc88\ucc3d\uc6b4\uc218  [Korean] Failed!\n",
        "Prediction: Chinese, Received: 870, Trained: 406, Last-500 Accuracy: 0.594\n"
       ]
      },
      {
       "output_type": "stream",
       "stream": "stdout",
       "text": [
        " saccharum coarctatum  [Swedish] OK\n"
       ]
      },
      {
       "output_type": "stream",
       "stream": "stdout",
       "text": [
        " herpestis repens  [Swedish] OK\n"
       ]
      },
      {
       "output_type": "stream",
       "stream": "stdout",
       "text": [
        " \u010d\u00edrka  [Czech] Failed!\n",
        "Prediction: Swedish, Received: 873, Trained: 407, Last-500 Accuracy: 0.594\n"
       ]
      },
      {
       "output_type": "stream",
       "stream": "stdout",
       "text": [
        " k\u00f6rnyezettechnika  [Hungarian] Failed!\n",
        "Prediction: Swedish, Received: 874, Trained: 408, Last-500 Accuracy: 0.594\n"
       ]
      },
      {
       "output_type": "stream",
       "stream": "stdout",
       "text": [
        " \u0441\u0442\u0443\u043c\u0431\u0443\u0440 \u044d\u0434\u0432\u0438\u043d \u0430\u043b\u0435\u043a\u0441\u0430\u043d\u0434\u0440\u043e\u0432\u0438\u0447  [Russian] OK\n"
       ]
      },
      {
       "output_type": "stream",
       "stream": "stdout",
       "text": [
        " egg energy  [French] Failed!\n",
        "Prediction: German, Received: 876, Trained: 409, Last-500 Accuracy: 0.594\n"
       ]
      },
      {
       "output_type": "stream",
       "stream": "stdout",
       "text": [
        " humvee versions chinoises  [French] OK\n"
       ]
      },
      {
       "output_type": "stream",
       "stream": "stdout",
       "text": [
        " dams  [Dutch] Failed!\n",
        "Prediction: Hungarian, Received: 878, Trained: 410, Last-500 Accuracy: 0.594\n"
       ]
      },
      {
       "output_type": "stream",
       "stream": "stdout",
       "text": [
        " 1918 \u0433\u043e\u0434 \u0432 \u0441\u043f\u043e\u0440\u0442\u0435  [Russian] OK\n"
       ]
      },
      {
       "output_type": "stream",
       "stream": "stdout",
       "text": [
        " saccharum contortum  [Swedish] OK\n"
       ]
      },
      {
       "output_type": "stream",
       "stream": "stdout",
       "text": [
        " schlacht von gallabat  [German] OK\n"
       ]
      },
      {
       "output_type": "stream",
       "stream": "stdout",
       "text": [
        " herpestis rotundifolia  [Swedish] OK\n"
       ]
      },
      {
       "output_type": "stream",
       "stream": "stdout",
       "text": [
        " \uc720\ub7fd \uccad\uc18c\ub144 \uc57c\uad6c \uc120\uc218\uad8c \ub300\ud68c 15\uc138 \uc774\ud558  [Korean] OK\n"
       ]
      },
      {
       "output_type": "stream",
       "stream": "stdout",
       "text": [
        " wapen van beuningen  [Dutch] Failed!\n",
        "Prediction: German, Received: 884, Trained: 411, Last-500 Accuracy: 0.600\n"
       ]
      },
      {
       "output_type": "stream",
       "stream": "stdout",
       "text": [
        " konservismo  [Esperanto] OK\n"
       ]
      },
      {
       "output_type": "stream",
       "stream": "stdout",
       "text": [
        " \u062e\u0627\u0645\u064a\u0633 \u0631\u0648\u062f\u0631\u064a\u063a\u064a\u0632  [Arabic] Failed!\n",
        "Prediction: Farsi, Received: 886, Trained: 412, Last-500 Accuracy: 0.598\n"
       ]
      },
      {
       "output_type": "stream",
       "stream": "stdout",
       "text": [
        " \u0441\u0430\u0437\u043e\u043d\u043e\u0432 \u0430\u043b\u0435\u043a\u0441\u0435\u0439 \u0444\u0451\u0434\u043e\u0440\u043e\u0432\u0438\u0447  [Russian] OK\n"
       ]
      },
      {
       "output_type": "stream",
       "stream": "stdout",
       "text": [
        " marija wladimirowna romanowa  [German] OK\n"
       ]
      },
      {
       "output_type": "stream",
       "stream": "stdout",
       "text": [
        " \u03c0\u03bf\u03cd\u03bd\u03c4\u03c3\u03b1\u03ba \u03c4\u03b6\u03ac\u03b3\u03b9\u03b1  [Greek] OK\n"
       ]
      },
      {
       "output_type": "stream",
       "stream": "stdout",
       "text": [
        " \u0431\u0435\u0440\u043d\u0430\u0440\u0434 \u043b\u0438\u043f\u043f\u0435 \u0431\u0438\u0441\u0442\u0435\u0440\u0444\u0435\u043b\u044c\u0434\u0441\u043a\u0438\u0439 1872\u20141934  [Russian] OK\n"
       ]
      },
      {
       "output_type": "stream",
       "stream": "stdout",
       "text": [
        " landesstra\u00dfen in nordrhein westfalen  [German] OK\n"
       ]
      },
      {
       "output_type": "stream",
       "stream": "stdout",
       "text": [
        " orestiada  [German] OK\n"
       ]
      },
      {
       "output_type": "stream",
       "stream": "stdout",
       "text": [
        " saccharum fallax  [Swedish] OK\n"
       ]
      },
      {
       "output_type": "stream",
       "stream": "stdout",
       "text": [
        " cant\u00f3 d'arcaishon  [Catalan] OK\n"
       ]
      },
      {
       "output_type": "stream",
       "stream": "stdout",
       "text": [
        " chef  [Portuguese] OK\n"
       ]
      },
      {
       "output_type": "stream",
       "stream": "stdout",
       "text": [
        " lu\u00eds filipe i de fran\u00e7a  [Portuguese] Failed!\n",
        "Prediction: Spanish, Received: 896, Trained: 413, Last-500 Accuracy: 0.606\n"
       ]
      },
      {
       "output_type": "stream",
       "stream": "stdout",
       "text": [
        " hydranthelium repens  [Swedish] OK\n"
       ]
      },
      {
       "output_type": "stream",
       "stream": "stdout",
       "text": [
        " monument valley computerspiel  [German] OK\n"
       ]
      },
      {
       "output_type": "stream",
       "stream": "stdout",
       "text": [
        " staf am  [Malaysian] Failed!\n",
        "Prediction: German, Received: 899, Trained: 414, Last-500 Accuracy: 0.606\n"
       ]
      },
      {
       "output_type": "stream",
       "stream": "stdout",
       "text": [
        " \u80e1\u5b87\u5a01  [Chinese] OK\n"
       ]
      },
      {
       "output_type": "stream",
       "stream": "stdout",
       "text": [
        " \u30aa\u30ea\u30aa\u30f3\u5ea7\u30ab\u30a41\u661f  [Japanese] OK\n"
       ]
      },
      {
       "output_type": "stream",
       "stream": "stdout",
       "text": [
        " estnische sprache  [German] OK\n"
       ]
      },
      {
       "output_type": "stream",
       "stream": "stdout",
       "text": [
        " evonne goolagong  [French] Failed!\n",
        "Prediction: Spanish, Received: 903, Trained: 415, Last-500 Accuracy: 0.610\n"
       ]
      },
      {
       "output_type": "stream",
       "stream": "stdout",
       "text": [
        " \u043a\u043e\u043b\u043e\u043d\u0438\u044f \u0438\u043c\u0435\u043d\u0438 \u0433\u043e\u0440\u044c\u043a\u043e\u0433\u043e  [Russian] OK\n"
       ]
      },
      {
       "output_type": "stream",
       "stream": "stdout",
       "text": [
        " \u043b\u0430\u0443\u0434\u0435\u0440 \u0441\u0438\u043c\u043e\u043d\u0430  [Russian] OK\n"
       ]
      },
      {
       "output_type": "stream",
       "stream": "stdout",
       "text": [
        " janusz ka\u0142u\u017cny  [Polish] Failed!\n",
        "Prediction: Dutch, Received: 906, Trained: 416, Last-500 Accuracy: 0.610\n"
       ]
      },
      {
       "output_type": "stream",
       "stream": "stdout",
       "text": [
        " christophe louis l\u00e9on juchault de lamorici\u00e8re  [French] Failed!\n",
        "Prediction: German, Received: 907, Trained: 417, Last-500 Accuracy: 0.608\n"
       ]
      },
      {
       "output_type": "stream",
       "stream": "stdout",
       "text": [
        " metodo di calcolo contributivo a capitalizzazione simulata  [Italian] OK\n"
       ]
      },
      {
       "output_type": "stream",
       "stream": "stdout",
       "text": [
        " \ucd5c\ub2e4\ud638  [Korean] Failed!\n",
        "Prediction: Chinese, Received: 909, Trained: 418, Last-500 Accuracy: 0.608\n"
       ]
      },
      {
       "output_type": "stream",
       "stream": "stdout",
       "text": [
        " saccharum filifolium  [Swedish] OK\n"
       ]
      },
      {
       "output_type": "stream",
       "stream": "stdout",
       "text": [
        " \u043f\u0440\u0430\u043f\u043e\u0440 \u0430\u0440\u0438\u0437\u043e\u043d\u0438  [Ukrainian] Failed!\n",
        "Prediction: Russian, Received: 911, Trained: 419, Last-500 Accuracy: 0.608\n"
       ]
      },
      {
       "output_type": "stream",
       "stream": "stdout",
       "text": [
        " macuillamia obovata  [Swedish] OK\n"
       ]
      },
      {
       "output_type": "stream",
       "stream": "stdout",
       "text": [
        " inter media  [Swedish] Failed!\n",
        "Prediction: Dutch, Received: 913, Trained: 420, Last-500 Accuracy: 0.608\n"
       ]
      },
      {
       "output_type": "stream",
       "stream": "stdout",
       "text": [
        " liste der byzantinischen kaiser  [German] OK\n"
       ]
      },
      {
       "output_type": "stream",
       "stream": "stdout",
       "text": [
        " 1917 \u0433\u043e\u0434 \u0432 \u0441\u043f\u043e\u0440\u0442\u0435  [Russian] OK\n"
       ]
      },
      {
       "output_type": "stream",
       "stream": "stdout",
       "text": [
        " \u0645\u062f\u064a\u0646\u0629 \u0627\u0644\u062c\u064a\u0632\u0629  [Arabic] OK\n"
       ]
      },
      {
       "output_type": "stream",
       "stream": "stdout",
       "text": [
        " gokar  [Indonesian] Failed!\n",
        "Prediction: German, Received: 917, Trained: 421, Last-500 Accuracy: 0.610\n"
       ]
      },
      {
       "output_type": "stream",
       "stream": "stdout",
       "text": [
        " carlo di schleswig holstein sonderburg gl\u00fccksburg  [Italian] OK\n"
       ]
      },
      {
       "output_type": "stream",
       "stream": "stdout",
       "text": [
        " schlacht um den amba alagi  [German] OK\n"
       ]
      },
      {
       "output_type": "stream",
       "stream": "stdout",
       "text": [
        " einwilligung  [German] Failed!\n",
        "Prediction: Swedish, Received: 920, Trained: 422, Last-500 Accuracy: 0.610\n"
       ]
      },
      {
       "output_type": "stream",
       "stream": "stdout",
       "text": [
        " \u00f6gonsk\u00f6ldpadda  [Swedish] OK\n"
       ]
      },
      {
       "output_type": "stream",
       "stream": "stdout",
       "text": [
        " \u043d\u0430\u0442\u0445\u043e \u0431\u0438\u0431\u0440\u0430\u0441  [Russian] OK\n"
       ]
      },
      {
       "output_type": "stream",
       "stream": "stdout",
       "text": [
        " joan \u00e1ngel rom\u00e1n  [Dutch] OK\n"
       ]
      },
      {
       "output_type": "stream",
       "stream": "stdout",
       "text": [
        " saccharum formosanum  [Swedish] OK\n"
       ]
      },
      {
       "output_type": "stream",
       "stream": "stdout",
       "text": [
        " \u9ad8\u7aaa\u70ad\u9271  [Japanese] OK\n"
       ]
      },
      {
       "output_type": "stream",
       "stream": "stdout",
       "text": [
        " egg energy  [French] OK\n"
       ]
      },
      {
       "output_type": "stream",
       "stream": "stdout",
       "text": [
        " macuillamia repens  [Swedish] OK\n"
       ]
      },
      {
       "output_type": "stream",
       "stream": "stdout",
       "text": [
        " franz schubert  [French] OK\n"
       ]
      },
      {
       "output_type": "stream",
       "stream": "stdout",
       "text": [
        " serradella  [German] Failed!\n",
        "Prediction: Italian, Received: 929, Trained: 423, Last-500 Accuracy: 0.614\n"
       ]
      },
      {
       "output_type": "stream",
       "stream": "stdout",
       "text": [
        " \u0645\u063a\u0632  [Farsi] Failed!\n",
        "Prediction: Arabic, Received: 930, Trained: 424, Last-500 Accuracy: 0.612\n"
       ]
      },
      {
       "output_type": "stream",
       "stream": "stdout",
       "text": [
        " \u0434\u043e\u0441\u0442\u043e\u0447\u0442\u0438\u043c\u044b\u0439 \u043c\u0430\u0441\u0442\u0435\u0440  [Russian] OK\n"
       ]
      },
      {
       "output_type": "stream",
       "stream": "stdout",
       "text": [
        " saccharum giganteum  [Swedish] OK\n"
       ]
      },
      {
       "output_type": "stream",
       "stream": "stdout",
       "text": [
        " silnik wankla  [Polish] OK\n"
       ]
      },
      {
       "output_type": "stream",
       "stream": "stdout",
       "text": [
        " mar\u00eda rosa gallo  [Spanish] OK\n"
       ]
      },
      {
       "output_type": "stream",
       "stream": "stdout",
       "text": [
        " derby calcistici in campania  [Italian] OK\n"
       ]
      },
      {
       "output_type": "stream",
       "stream": "stdout",
       "text": [
        " monniera micromonniera  [Swedish] OK\n"
       ]
      },
      {
       "output_type": "stream",
       "stream": "stdout",
       "text": [
        " carol reed  [German] OK\n"
       ]
      },
      {
       "output_type": "stream",
       "stream": "stdout",
       "text": [
        " gran premi d'espanya de motocr\u00f2s 250cc 1979  [Catalan] OK\n"
       ]
      },
      {
       "output_type": "stream",
       "stream": "stdout",
       "text": [
        " \u0142asin  [Polish] Failed!\n",
        "Prediction: Dutch, Received: 939, Trained: 425, Last-500 Accuracy: 0.618\n"
       ]
      },
      {
       "output_type": "stream",
       "stream": "stdout",
       "text": [
        " akl\u00e9  [German] Failed!\n",
        "Prediction: French, Received: 940, Trained: 426, Last-500 Accuracy: 0.616\n"
       ]
      },
      {
       "output_type": "stream",
       "stream": "stdout",
       "text": [
        " waschmaschine  [German] OK\n"
       ]
      },
      {
       "output_type": "stream",
       "stream": "stdout",
       "text": [
        " apocalypse now  [German] Failed!\n",
        "Prediction: French, Received: 942, Trained: 427, Last-500 Accuracy: 0.616\n"
       ]
      },
      {
       "output_type": "stream",
       "stream": "stdout",
       "text": [
        " \u0641\u0644\u0648\u0631\u0646\u0633\u0627  [Arabic] OK\n"
       ]
      },
      {
       "output_type": "stream",
       "stream": "stdout",
       "text": [
        " \u0633\u0627\u0646\u062f\u0631 \u067e\u06cc\u0686\u0627\u06cc  [Farsi] OK\n"
       ]
      },
      {
       "output_type": "stream",
       "stream": "stdout",
       "text": [
        " irak  [Indonesian] Failed!\n",
        "Prediction: German, Received: 945, Trained: 428, Last-500 Accuracy: 0.616\n"
       ]
      },
      {
       "output_type": "stream",
       "stream": "stdout",
       "text": [
        " \u06af\u0631\u0628\u0647  [Farsi] OK\n"
       ]
      },
      {
       "output_type": "stream",
       "stream": "stdout",
       "text": [
        " severin von sachsen  [German] OK\n"
       ]
      },
      {
       "output_type": "stream",
       "stream": "stdout",
       "text": [
        " chef boutonne  [Portuguese] Failed!\n",
        "Prediction: German, Received: 948, Trained: 429, Last-500 Accuracy: 0.618\n"
       ]
      },
      {
       "output_type": "stream",
       "stream": "stdout",
       "text": [
        " monniera repens  [Swedish] OK\n"
       ]
      },
      {
       "output_type": "stream",
       "stream": "stdout",
       "text": [
        " saccharum griffithii  [Swedish] OK\n"
       ]
      },
      {
       "output_type": "stream",
       "stream": "stdout",
       "text": [
        " region s\u00fcdwesten mazedonien  [German] OK\n"
       ]
      },
      {
       "output_type": "stream",
       "stream": "stdout",
       "text": [
        " forme substantielle  [French] OK\n"
       ]
      },
      {
       "output_type": "stream",
       "stream": "stdout",
       "text": [
        " fi rel\u00e9  [Hungarian] Failed!\n",
        "Prediction: German, Received: 953, Trained: 430, Last-500 Accuracy: 0.618\n"
       ]
      },
      {
       "output_type": "stream",
       "stream": "stdout",
       "text": [
        " \u043f\u043b\u0430\u0442\u043e\u043d\u043e\u0432 \u0430\u043d\u0434\u0440\u0435\u0439 \u043f\u043b\u0430\u0442\u043e\u043d\u043e\u0432\u0438\u0447  [Russian] OK\n"
       ]
      },
      {
       "output_type": "stream",
       "stream": "stdout",
       "text": [
        " the buzzer  [German] OK\n"
       ]
      },
      {
       "output_type": "stream",
       "stream": "stdout",
       "text": [
        "Ignoring class 30\n",
        " rapha\u00ebl montoya  [French] Failed!\n",
        "Prediction: Swedish, Received: 957, Trained: 431, Last-500 Accuracy: 0.618\n"
       ]
      },
      {
       "output_type": "stream",
       "stream": "stdout",
       "text": [
        " caune de l'arago  [French] OK\n"
       ]
      },
      {
       "output_type": "stream",
       "stream": "stdout",
       "text": [
        " hohenm\u00f6lsen  [German] Failed!\n",
        "Prediction: Dutch, Received: 959, Trained: 432, Last-500 Accuracy: 0.618\n"
       ]
      },
      {
       "output_type": "stream",
       "stream": "stdout",
       "text": [
        " heiligkreuzkirche vieselbach  [German] OK\n"
       ]
      },
      {
       "output_type": "stream",
       "stream": "stdout",
       "text": [
        " paul  [Spanish] Failed!\n",
        "Prediction: Swedish, Received: 961, Trained: 433, Last-500 Accuracy: 0.616\n"
       ]
      },
      {
       "output_type": "stream",
       "stream": "stdout",
       "text": [
        " septas repens  [Swedish] Failed!\n",
        "Prediction: German, Received: 962, Trained: 434, Last-500 Accuracy: 0.616\n"
       ]
      },
      {
       "output_type": "stream",
       "stream": "stdout",
       "text": [
        " \u043e\u043b\u044c\u0448\u0430\u043d\u0441\u043a\u0438\u0439 \u0430\u043b\u0435\u043a\u0441\u0430\u043d\u0434\u0440 \u0438\u0433\u043e\u0440\u0435\u0432\u0438\u0447  [Russian] OK\n"
       ]
      },
      {
       "output_type": "stream",
       "stream": "stdout",
       "text": [
        " saccharum hildebrandtii  [Swedish] OK\n"
       ]
      },
      {
       "output_type": "stream",
       "stream": "stdout",
       "text": [
        " \u043b\u043e\u0440\u044c\u044f\u043d \u0444\u0443\u0442\u0431\u043e\u043b\u044c\u043d\u044b\u0439 \u043a\u043b\u0443\u0431  [Russian] OK\n"
       ]
      },
      {
       "output_type": "stream",
       "stream": "stdout",
       "text": [
        " \u0432\u043e\u0435\u043d\u043d\u044b\u0435 \u043f\u043e\u0445\u043e\u0440\u043e\u043d\u044b  [Russian] OK\n"
       ]
      },
      {
       "output_type": "stream",
       "stream": "stdout",
       "text": [
        " zweden  [Dutch] Failed!\n",
        "Prediction: German, Received: 967, Trained: 435, Last-500 Accuracy: 0.618\n"
       ]
      },
      {
       "output_type": "stream",
       "stream": "stdout",
       "text": [
        " orestiada  [German] OK\n"
       ]
      },
      {
       "output_type": "stream",
       "stream": "stdout",
       "text": [
        " cant\u00f3 d'archiac  [Catalan] OK\n"
       ]
      },
      {
       "output_type": "stream",
       "stream": "stdout",
       "text": [
        " royal college of music  [Polish] Failed!\n",
        "Prediction: French, Received: 970, Trained: 436, Last-500 Accuracy: 0.620\n"
       ]
      },
      {
       "output_type": "stream",
       "stream": "stdout",
       "text": [
        " polnischer fu\u00dfballpokal 1985/86  [German] OK\n"
       ]
      },
      {
       "output_type": "stream",
       "stream": "stdout",
       "text": [
        " 23. juli  [German] Failed!\n",
        "Prediction: Swedish, Received: 972, Trained: 437, Last-500 Accuracy: 0.620\n"
       ]
      },
      {
       "output_type": "stream",
       "stream": "stdout",
       "text": [
        " \uc5c4\ud0dc\uc6c5  [Korean] Failed!\n",
        "Prediction: German, Received: 973, Trained: 438, Last-500 Accuracy: 0.620\n"
       ]
      },
      {
       "output_type": "stream",
       "stream": "stdout",
       "text": [
        " \u043c\u043e\u0433\u0435\u0440\u0438\u043d\u0438 \u0444\u0435\u0434\u0435\u0440\u0438\u043a\u0430  [Russian] OK\n"
       ]
      },
      {
       "output_type": "stream",
       "stream": "stdout",
       "text": [
        " \u03b5\u03c43  [Greek] OK\n"
       ]
      },
      {
       "output_type": "stream",
       "stream": "stdout",
       "text": [
        " septilia repens  [Swedish] OK\n"
       ]
      },
      {
       "output_type": "stream",
       "stream": "stdout",
       "text": [
        " \u5409\u672c\u5b9f\u6182  [Japanese] OK\n"
       ]
      },
      {
       "output_type": "stream",
       "stream": "stdout",
       "text": [
        " fran\u00e7oise cadol  [French] Failed!\n",
        "Prediction: German, Received: 978, Trained: 439, Last-500 Accuracy: 0.626\n"
       ]
      },
      {
       "output_type": "stream",
       "stream": "stdout",
       "text": [
        " saccharum kajkaiense  [Swedish] OK\n"
       ]
      },
      {
       "output_type": "stream",
       "stream": "stdout",
       "text": [
        " hans zimmer  [Hungarian] OK\n"
       ]
      },
      {
       "output_type": "stream",
       "stream": "stdout",
       "text": [
        " \uc720\ubcd1\uc5b8  [Korean] OK\n"
       ]
      },
      {
       "output_type": "stream",
       "stream": "stdout",
       "text": [
        " schlacht um magdala  [German] OK\n"
       ]
      },
      {
       "output_type": "stream",
       "stream": "stdout",
       "text": [
        " liste der nummer eins hits in der schweiz 2014  [German] OK\n"
       ]
      },
      {
       "output_type": "stream",
       "stream": "stdout",
       "text": [
        " rafael fernando fuentes boettiger  [German] OK\n"
       ]
      },
      {
       "output_type": "stream",
       "stream": "stdout",
       "text": [
        " vernando sibarani  [Indonesian] Failed!\n",
        "Prediction: Swedish, Received: 985, Trained: 440, Last-500 Accuracy: 0.628\n"
       ]
      },
      {
       "output_type": "stream",
       "stream": "stdout",
       "text": [
        " cant\u00f3 d'arcis sur aube  [Catalan] OK\n"
       ]
      },
      {
       "output_type": "stream",
       "stream": "stdout",
       "text": [
        " \u06a9\u0627\u0644\u06cc\u0641\u0631\u0646\u06cc\u0627  [Farsi] OK\n"
       ]
      },
      {
       "output_type": "stream",
       "stream": "stdout",
       "text": [
        " saccharum kanashiroi  [Swedish] OK\n"
       ]
      },
      {
       "output_type": "stream",
       "stream": "stdout",
       "text": [
        " sinobacopa aquatica  [Swedish] OK\n"
       ]
      },
      {
       "output_type": "stream",
       "stream": "stdout",
       "text": [
        " \u05db\u05d9\u05e4\u05ea \u05d1\u05e8\u05d6\u05dc  [Hebrew] OK\n"
       ]
      },
      {
       "output_type": "stream",
       "stream": "stdout",
       "text": [
        " pierre louis basse  [French] OK\n"
       ]
      },
      {
       "output_type": "stream",
       "stream": "stdout",
       "text": [
        " \u5fb7\u570b\u570b\u5bb6\u8db3\u7403\u968a  [Chinese] OK\n"
       ]
      },
      {
       "output_type": "stream",
       "stream": "stdout",
       "text": [
        " chef haut  [Portuguese] OK\n"
       ]
      },
      {
       "output_type": "stream",
       "stream": "stdout",
       "text": [
        " \u0431\u0440\u0430\u043d\u0438\u043c\u0438\u0440 \u043e\u0440\u043c\u0430\u043d\u043e\u0432  [Bulgarian] OK\n"
       ]
      },
      {
       "output_type": "stream",
       "stream": "stdout",
       "text": [
        " \uc720\ub7fd \uccad\uc18c\ub144 \uc57c\uad6c \uc120\uc218\uad8c \ub300\ud68c 15\uc138 \uc774\ud558  [Korean] OK\n"
       ]
      },
      {
       "output_type": "stream",
       "stream": "stdout",
       "text": [
        " \u0630\u0648 \u0627\u0644\u0641\u0642\u0627\u0631 \u0633\u064a\u0641  [Arabic] OK\n"
       ]
      },
      {
       "output_type": "stream",
       "stream": "stdout",
       "text": [
        " kostol najsv\u00e4tej\u0161ieho spasite\u013ea bratislava  [Slovak] OK\n"
       ]
      },
      {
       "output_type": "stream",
       "stream": "stdout",
       "text": [
        " \u82b1\u5ac1\u306e\u308c\u3093  [Japanese] Failed!\n",
        "Prediction: Chinese, Received: 998, Trained: 441, Last-500 Accuracy: 0.632\n"
       ]
      },
      {
       "output_type": "stream",
       "stream": "stdout",
       "text": [
        " schleswig holstein sonderburg gl\u00fccksburg  [Italian] Failed!\n",
        "Prediction: German, Received: 999, Trained: 442, Last-500 Accuracy: 0.632\n"
       ]
      },
      {
       "output_type": "stream",
       "stream": "stdout",
       "text": [
        " saccharum longisetosum  [Swedish] OK\n"
       ]
      },
      {
       "output_type": "stream",
       "stream": "stdout",
       "text": [
        " 1916 \u0433\u043e\u0434 \u0432 \u0441\u043f\u043e\u0440\u0442\u0435  [Russian] OK\n"
       ]
      },
      {
       "output_type": "stream",
       "stream": "stdout",
       "text": [
        " principato ecclesiastico di bressanone  [Italian] Failed!\n",
        "Prediction: Spanish, Received: 1002, Trained: 443, Last-500 Accuracy: 0.634\n"
       ]
      },
      {
       "output_type": "stream",
       "stream": "stdout",
       "text": [
        " \u4e2d\u570b\u9280\u884c\uff08\u9999\u6e2f\uff09  [Chinese] OK\n"
       ]
      },
      {
       "output_type": "stream",
       "stream": "stdout",
       "text": [
        " gran premi d'espanya de motocr\u00f2s 250cc 1979  [Catalan] OK\n"
       ]
      },
      {
       "output_type": "stream",
       "stream": "stdout",
       "text": [
        " prison break  [Turkish] Failed!\n",
        "Prediction: German, Received: 1005, Trained: 444, Last-500 Accuracy: 0.632\n"
       ]
      },
      {
       "output_type": "stream",
       "stream": "stdout",
       "text": [
        " \u0447\u0435\u0448\u0441\u043a\u0438\u0435 \u043f\u0435\u0440\u0435\u0432\u043e\u0434\u044b \u0431\u0438\u0431\u043b\u0438\u0438  [Russian] OK\n"
       ]
      },
      {
       "output_type": "stream",
       "stream": "stdout",
       "text": [
        " \u043f\u0440\u0443\u0434\u0445\u043e\u0437 \u0432\u043e\u0441\u0442\u043e\u0447\u043d\u043e \u043a\u0430\u0437\u0430\u0445\u0441\u0442\u0430\u043d\u0441\u043a\u0430\u044f \u043e\u0431\u043b\u0430\u0441\u0442\u044c  [Russian] OK\n"
       ]
      },
      {
       "output_type": "stream",
       "stream": "stdout",
       "text": [
        " \u30d2\u30ca\u30e2\u30ea  [Japanese] OK\n"
       ]
      },
      {
       "output_type": "stream",
       "stream": "stdout",
       "text": [
        " micha\u0142 efir  [Polish] Failed!\n",
        "Prediction: German, Received: 1009, Trained: 445, Last-500 Accuracy: 0.634\n"
       ]
      },
      {
       "output_type": "stream",
       "stream": "stdout",
       "text": [
        " region s\u00fcdosten mazedonien  [German] OK\n"
       ]
      },
      {
       "output_type": "stream",
       "stream": "stdout",
       "text": [
        " \u0432\u043e\u043e\u0440\u0443\u0436\u0451\u043d\u043d\u044b\u0439 \u043a\u043e\u043d\u0444\u043b\u0438\u043a\u0442 \u043d\u0430 \u0432\u043e\u0441\u0442\u043e\u043a\u0435 \u0443\u043a\u0440\u0430\u0438\u043d\u044b 2014  [Russian] OK\n"
       ]
      },
      {
       "output_type": "stream",
       "stream": "stdout",
       "text": [
        " wilhelm schmidt  [German] OK\n"
       ]
      },
      {
       "output_type": "stream",
       "stream": "stdout",
       "text": [
        " saccharum maximum  [Swedish] OK\n"
       ]
      },
      {
       "output_type": "stream",
       "stream": "stdout",
       "text": [
        " cant\u00f3 d'arcueil  [Catalan] OK\n"
       ]
      },
      {
       "output_type": "stream",
       "stream": "stdout",
       "text": [
        " tom saintfiet  [Dutch] Failed!\n",
        "Prediction: Swedish, Received: 1015, Trained: 446, Last-500 Accuracy: 0.634\n"
       ]
      },
      {
       "output_type": "stream",
       "stream": "stdout",
       "text": [
        " pawe\u0142 tamborski  [Polish] OK\n"
       ]
      },
      {
       "output_type": "stream",
       "stream": "stdout",
       "text": [
        " bacopa repens  [Swedish] OK\n"
       ]
      },
      {
       "output_type": "stream",
       "stream": "stdout",
       "text": [
        " \u063a\u0627\u062f\u0629 \u0639\u0648\u064a\u0633  [Arabic] OK\n"
       ]
      },
      {
       "output_type": "stream",
       "stream": "stdout",
       "text": [
        " \u043a\u0440\u044a\u0441\u0442\u044c\u043e \u043c\u0430\u043d\u0447\u0435\u0432  [Bulgarian] Failed!\n",
        "Prediction: Ukrainian, Received: 1019, Trained: 447, Last-500 Accuracy: 0.638\n"
       ]
      },
      {
       "output_type": "stream",
       "stream": "stdout",
       "text": [
        "Ignoring class 30\n",
        " the x factor tizenegyedik \u00e9vad  [Hungarian] Failed!\n",
        "Prediction: Swedish, Received: 1021, Trained: 448, Last-500 Accuracy: 0.636\n"
       ]
      },
      {
       "output_type": "stream",
       "stream": "stdout",
       "text": [
        " \u653b\u58f3\u673a\u52a8\u961f s.a.c. 2nd gig  [Chinese] Failed!\n",
        "Prediction: German, Received: 1022, Trained: 449, Last-500 Accuracy: 0.634\n"
       ]
      },
      {
       "output_type": "stream",
       "stream": "stdout",
       "text": [
        " \u0432\u0442\u0440\u0430\u0442\u0438 \u0441\u0438\u043b\u043e\u0432\u0438\u0445 \u0441\u0442\u0440\u0443\u043a\u0442\u0443\u0440 \u0432\u043d\u0430\u0441\u043b\u0456\u0434\u043e\u043a \u0440\u043e\u0441\u0456\u0439\u0441\u044c\u043a\u043e\u0433\u043e \u0432\u0442\u043e\u0440\u0433\u043d\u0435\u043d\u043d\u044f \u0432 \u0443\u043a\u0440\u0430\u0457\u043d\u0443 2014  [Ukrainian] OK\n"
       ]
      },
      {
       "output_type": "stream",
       "stream": "stdout",
       "text": [
        " saccharum narenga  [Swedish] OK\n"
       ]
      },
      {
       "output_type": "stream",
       "stream": "stdout",
       "text": [
        " dams  [Dutch] OK\n"
       ]
      },
      {
       "output_type": "stream",
       "stream": "stdout",
       "text": [
        " andrzej so\u0142tan astronom  [Polish] Failed!\n",
        "Prediction: Dutch, Received: 1026, Trained: 450, Last-500 Accuracy: 0.636\n"
       ]
      },
      {
       "output_type": "stream",
       "stream": "stdout",
       "text": [
        " \u0627\u0644\u062d\u0632\u0628 \u0627\u0644\u0634\u064a\u0648\u0639\u064a \u0627\u0644\u0633\u0648\u0631\u064a  [Arabic] OK\n"
       ]
      },
      {
       "output_type": "stream",
       "stream": "stdout",
       "text": [
        " 1915 \u0433\u043e\u0434 \u0432 \u0441\u043f\u043e\u0440\u0442\u0435  [Russian] OK\n"
       ]
      },
      {
       "output_type": "stream",
       "stream": "stdout",
       "text": [
        " bacopa limosa  [Swedish] OK\n"
       ]
      },
      {
       "output_type": "stream",
       "stream": "stdout",
       "text": [
        " chef du pont  [Portuguese] OK\n"
       ]
      },
      {
       "output_type": "stream",
       "stream": "stdout",
       "text": [
        " bubbling  [Dutch] Failed!\n",
        "Prediction: French, Received: 1031, Trained: 451, Last-500 Accuracy: 0.638\n"
       ]
      },
      {
       "output_type": "stream",
       "stream": "stdout",
       "text": [
        " saccharum perrieri  [Swedish] OK\n"
       ]
      },
      {
       "output_type": "stream",
       "stream": "stdout",
       "text": [
        " \u9ad8\u7aaa\u70ad\u9271  [Japanese] OK\n"
       ]
      },
      {
       "output_type": "stream",
       "stream": "stdout",
       "text": [
        " cant\u00f3 d'ardentes  [Catalan] OK\n"
       ]
      },
      {
       "output_type": "stream",
       "stream": "stdout",
       "text": [
        " \u03b5\u03c41  [Greek] OK\n"
       ]
      },
      {
       "output_type": "stream",
       "stream": "stdout",
       "text": [
        " faliscos  [Spanish] Failed!\n",
        "Prediction: French, Received: 1036, Trained: 452, Last-500 Accuracy: 0.638\n"
       ]
      },
      {
       "output_type": "stream",
       "stream": "stdout",
       "text": [
        " schlacht von adua  [German] OK\n"
       ]
      },
      {
       "output_type": "stream",
       "stream": "stdout",
       "text": [
        " \u0441\u043f\u0438\u0441\u043e\u043a \u0441\u0442\u0430\u043d\u0446\u0438\u0439 \u0441\u0430\u043c\u0430\u0440\u0441\u043a\u043e\u0433\u043e \u043c\u0435\u0442\u0440\u043e\u043f\u043e\u043b\u0438\u0442\u0435\u043d\u0430  [Russian] OK\n"
       ]
      },
      {
       "output_type": "stream",
       "stream": "stdout",
       "text": [
        " mountain mile  [Dutch] Failed!\n",
        "Prediction: French, Received: 1039, Trained: 453, Last-500 Accuracy: 0.638\n"
       ]
      },
      {
       "output_type": "stream",
       "stream": "stdout",
       "text": [
        " m\u00fcbahele  [Turkish] OK\n"
       ]
      },
      {
       "output_type": "stream",
       "stream": "stdout",
       "text": [
        " ma\u0142gorzata fuszara  [Polish] OK\n"
       ]
      },
      {
       "output_type": "stream",
       "stream": "stdout",
       "text": [
        " \u0430\u0445\u043c\u0438\u0440\u043e\u0432\u043e  [Russian] OK\n"
       ]
      },
      {
       "output_type": "stream",
       "stream": "stdout",
       "text": [
        " wiggenbeen  [Dutch] Failed!\n",
        "Prediction: German, Received: 1043, Trained: 454, Last-500 Accuracy: 0.638\n"
       ]
      },
      {
       "output_type": "stream",
       "stream": "stdout",
       "text": [
        " plan\u00e8te extragalactique  [French] Failed!\n",
        "Prediction: Spanish, Received: 1044, Trained: 455, Last-500 Accuracy: 0.636\n"
       ]
      },
      {
       "output_type": "stream",
       "stream": "stdout",
       "text": [
        " bacopa nobsiana  [Swedish] OK\n"
       ]
      },
      {
       "output_type": "stream",
       "stream": "stdout",
       "text": [
        " saccharum procerum  [Swedish] OK\n"
       ]
      },
      {
       "output_type": "stream",
       "stream": "stdout",
       "text": [
        " juan manuel mu\u00f1oz gambero  [Spanish] OK\n"
       ]
      },
      {
       "output_type": "stream",
       "stream": "stdout",
       "text": [
        " dassault neuron  [Finnish] Failed!\n",
        "Prediction: French, Received: 1048, Trained: 456, Last-500 Accuracy: 0.640\n"
       ]
      },
      {
       "output_type": "stream",
       "stream": "stdout",
       "text": [
        " \u8d8a\u5357  [Chinese] OK\n"
       ]
      },
      {
       "output_type": "stream",
       "stream": "stdout",
       "text": [
        " \u0433\u0438\u043c\u0440\u0430\u043d  [Russian] Failed!\n",
        "Prediction: Ukrainian, Received: 1050, Trained: 457, Last-500 Accuracy: 0.638\n"
       ]
      },
      {
       "output_type": "stream",
       "stream": "stdout",
       "text": [
        " bacopa obovata  [Swedish] OK\n"
       ]
      },
      {
       "output_type": "stream",
       "stream": "stdout",
       "text": [
        " cath\u00e9drale saint paul de londres  [French] OK\n"
       ]
      },
      {
       "output_type": "stream",
       "stream": "stdout",
       "text": [
        " \u8881\u827e\u83f2  [Chinese] OK\n"
       ]
      },
      {
       "output_type": "stream",
       "stream": "stdout",
       "text": [
        " saccharum ravennae  [Swedish] OK\n"
       ]
      },
      {
       "output_type": "stream",
       "stream": "stdout",
       "text": [
        " \u4f0a\u826f\u6e56\u5cac\u706f\u53f0  [Japanese] Failed!\n",
        "Prediction: Chinese, Received: 1055, Trained: 458, Last-500 Accuracy: 0.644\n"
       ]
      },
      {
       "output_type": "stream",
       "stream": "stdout",
       "text": [
        " cant\u00f3 d'ardes  [Catalan] OK\n"
       ]
      },
      {
       "output_type": "stream",
       "stream": "stdout",
       "text": [
        " ernst & young  [Ukrainian] Failed!\n",
        "Prediction: Dutch, Received: 1057, Trained: 459, Last-500 Accuracy: 0.646\n"
       ]
      },
      {
       "output_type": "stream",
       "stream": "stdout",
       "text": [
        " \u30cf\u30f3\u30f4\u30a3\u30fc\u306b\u95a2\u9023\u3059\u308b\u4f5c\u54c1\u306e\u4e00\u89a7  [Japanese] OK\n"
       ]
      },
      {
       "output_type": "stream",
       "stream": "stdout",
       "text": [
        " schlacht von debre tabor  [German] OK\n"
       ]
      },
      {
       "output_type": "stream",
       "stream": "stdout",
       "text": [
        " bacopa simulans  [Swedish] OK\n"
       ]
      },
      {
       "output_type": "stream",
       "stream": "stdout",
       "text": [
        " hei man hayley chan  [Norwegian] Failed!\n",
        "Prediction: Dutch, Received: 1061, Trained: 460, Last-500 Accuracy: 0.650\n"
       ]
      },
      {
       "output_type": "stream",
       "stream": "stdout",
       "text": [
        " luis mart\u00edn gil  [Spanish] OK\n"
       ]
      },
      {
       "output_type": "stream",
       "stream": "stdout",
       "text": [
        " \u4e2d\u9280\u9999\u6e2f\uff08\u63a7\u80a1\uff09  [Chinese] OK\n"
       ]
      },
      {
       "output_type": "stream",
       "stream": "stdout",
       "text": [
        " \u0430\u043d\u043d\u0430 \u0430\u043b\u0443\u0441\u0438\u0430\u043d  [Bulgarian] Failed!\n",
        "Prediction: Russian, Received: 1064, Trained: 461, Last-500 Accuracy: 0.650\n"
       ]
      },
      {
       "output_type": "stream",
       "stream": "stdout",
       "text": [
        " saccharum robustum  [Swedish] OK\n"
       ]
      },
      {
       "output_type": "stream",
       "stream": "stdout",
       "text": [
        " arturo toscanini  [Italian] Failed!\n",
        "Prediction: Finnish, Received: 1066, Trained: 462, Last-500 Accuracy: 0.648\n"
       ]
      },
      {
       "output_type": "stream",
       "stream": "stdout",
       "text": [
        " akl\u00e9  [German] OK\n"
       ]
      },
      {
       "output_type": "stream",
       "stream": "stdout",
       "text": [
        " westjet  [Polish] Failed!\n",
        "Prediction: German, Received: 1068, Trained: 463, Last-500 Accuracy: 0.650\n"
       ]
      },
      {
       "output_type": "stream",
       "stream": "stdout",
       "text": [
        " \u30b3\u30ea  [Japanese] OK\n"
       ]
      },
      {
       "output_type": "stream",
       "stream": "stdout",
       "text": [
        " parrocchie dell'arcidiocesi di messina lipari santa lucia del mela  [Italian] Failed!\n",
        "Prediction: Swedish, Received: 1070, Trained: 464, Last-500 Accuracy: 0.648\n"
       ]
      },
      {
       "output_type": "stream",
       "stream": "stdout",
       "text": [
        " rapha\u00ebl montoya  [French] OK\n"
       ]
      },
      {
       "output_type": "stream",
       "stream": "stdout",
       "text": [
        " bacopa tweediei  [Swedish] OK\n"
       ]
      },
      {
       "output_type": "stream",
       "stream": "stdout",
       "text": [
        " \u0644\u0627 \u062a\u0633\u0623\u0644\u0646\u0649 \u0645\u0646 \u0623\u0646\u0627 \u0641\u064a\u0644\u0645  [Arabic] OK\n"
       ]
      },
      {
       "output_type": "stream",
       "stream": "stdout",
       "text": [
        " giardiasis  [German] Failed!\n",
        "Prediction: Swedish, Received: 1074, Trained: 465, Last-500 Accuracy: 0.650\n"
       ]
      },
      {
       "output_type": "stream",
       "stream": "stdout",
       "text": [
        " massimo cunegatti  [Italian] OK\n"
       ]
      },
      {
       "output_type": "stream",
       "stream": "stdout",
       "text": [
        " saccharum rufipilum  [Swedish] OK\n"
       ]
      },
      {
       "output_type": "stream",
       "stream": "stdout",
       "text": [
        " plajda  [Turkish] Failed!\n",
        "Prediction: Spanish, Received: 1077, Trained: 466, Last-500 Accuracy: 0.650\n"
       ]
      },
      {
       "output_type": "stream",
       "stream": "stdout",
       "text": [
        " k\u00f6rnyezettechnika  [Hungarian] OK\n"
       ]
      },
      {
       "output_type": "stream",
       "stream": "stdout",
       "text": [
        " cant\u00f3 d'ardres  [Catalan] OK\n"
       ]
      },
      {
       "output_type": "stream",
       "stream": "stdout",
       "text": [
        " project cars  [Polish] Failed!\n",
        "Prediction: Spanish, Received: 1080, Trained: 467, Last-500 Accuracy: 0.650\n"
       ]
      },
      {
       "output_type": "stream",
       "stream": "stdout",
       "text": [
        " sanit\u00e4tsdienst heer  [German] Failed!\n",
        "Prediction: Dutch, Received: 1081, Trained: 468, Last-500 Accuracy: 0.650\n"
       ]
      },
      {
       "output_type": "stream",
       "stream": "stdout",
       "text": [
        " erich m\u00fchsam  [German] OK\n"
       ]
      },
      {
       "output_type": "stream",
       "stream": "stdout",
       "text": [
        " festival di sanremo 1981  [Italian] OK\n"
       ]
      },
      {
       "output_type": "stream",
       "stream": "stdout",
       "text": [
        " bramia rotundifolia  [Swedish] OK\n"
       ]
      },
      {
       "output_type": "stream",
       "stream": "stdout",
       "text": [
        " quinteto santa fe  [Spanish] OK\n"
       ]
      },
      {
       "output_type": "stream",
       "stream": "stdout",
       "text": [
        " saccharum sikkimense  [Swedish] OK\n"
       ]
      },
      {
       "output_type": "stream",
       "stream": "stdout",
       "text": [
        " chr\u00e1m sv\u00e4t\u00e9ho mikul\u00e1\u0161a star\u00e9 mesto  [Slovak] Failed!\n",
        "Prediction: German, Received: 1087, Trained: 469, Last-500 Accuracy: 0.652\n"
       ]
      },
      {
       "output_type": "stream",
       "stream": "stdout",
       "text": [
        " said alpsoy  [Turkish] OK\n"
       ]
      },
      {
       "output_type": "stream",
       "stream": "stdout",
       "text": [
        " \u30df\u30af\u30ea\u30c3\u30c4\u75c5  [Japanese] OK\n"
       ]
      },
      {
       "output_type": "stream",
       "stream": "stdout",
       "text": [
        " herpestis obovata  [Swedish] OK\n"
       ]
      },
      {
       "output_type": "stream",
       "stream": "stdout",
       "text": [
        " hovg\u00e5rden  [Swedish] Failed!\n",
        "Prediction: Dutch, Received: 1091, Trained: 470, Last-500 Accuracy: 0.654\n"
       ]
      },
      {
       "output_type": "stream",
       "stream": "stdout",
       "text": [
        " couleur des cheveux  [French] OK\n"
       ]
      },
      {
       "output_type": "stream",
       "stream": "stdout",
       "text": [
        " saccharum sinense  [Swedish] OK\n"
       ]
      },
      {
       "output_type": "stream",
       "stream": "stdout",
       "text": [
        " 1914 \u0433\u043e\u0434 \u0432 \u0441\u043f\u043e\u0440\u0442\u0435  [Russian] OK\n"
       ]
      },
      {
       "output_type": "stream",
       "stream": "stdout",
       "text": [
        " cant\u00f3 d'argel\u00e8rs de gas\u00f2st  [Catalan] OK\n"
       ]
      },
      {
       "output_type": "stream",
       "stream": "stdout",
       "text": [
        " \u30e0\u30ea\u30ad \u30b5\u30c3\u30ab\u30fc\u9078\u624b  [Japanese] OK\n"
       ]
      },
      {
       "output_type": "stream",
       "stream": "stdout",
       "text": [
        " \u5927\u539f\u5927\u6b21\u90ce  [Japanese] Failed!\n",
        "Prediction: Chinese, Received: 1097, Trained: 471, Last-500 Accuracy: 0.660\n"
       ]
      },
      {
       "output_type": "stream",
       "stream": "stdout",
       "text": [
        " \u0434\u0435\u0432\u0438\u043d  [Bulgarian] Failed!\n",
        "Prediction: Russian, Received: 1098, Trained: 472, Last-500 Accuracy: 0.658\n"
       ]
      },
      {
       "output_type": "stream",
       "stream": "stdout",
       "text": [
        " \u0430\u043d\u043d\u0430 \u0434\u0438\u043e\u0433\u0435\u043d\u0438\u0441\u0430  [Bulgarian] Failed!\n",
        "Prediction: Russian, Received: 1099, Trained: 473, Last-500 Accuracy: 0.656\n"
       ]
      },
      {
       "output_type": "stream",
       "stream": "stdout",
       "text": [
        " \u043d\u0435\u0444\u0442\u044f\u043d\u0438\u043a \u0441\u0442\u0430\u0434\u0438\u043e\u043d \u0443\u0444\u0430  [Russian] Failed!\n",
        "Prediction: Ukrainian, Received: 1100, Trained: 474, Last-500 Accuracy: 0.656\n"
       ]
      },
      {
       "output_type": "stream",
       "stream": "stdout",
       "text": [
        " arca de no\u00e8  [Catalan] Failed!\n",
        "Prediction: German, Received: 1101, Trained: 475, Last-500 Accuracy: 0.656\n"
       ]
      },
      {
       "output_type": "stream",
       "stream": "stdout",
       "text": [
        " herpestis tweediei  [Swedish] OK\n"
       ]
      },
      {
       "output_type": "stream",
       "stream": "stdout",
       "text": [
        " \u0644\u0627\u06a9\u062a\u0627\u062a \u062f\u0647\u06cc\u062f\u0631\u0648\u0698\u0646\u0627\u0632  [Farsi] OK\n"
       ]
      },
      {
       "output_type": "stream",
       "stream": "stdout",
       "text": [
        " flatulencia  [Spanish] Failed!\n",
        "Prediction: Italian, Received: 1104, Trained: 476, Last-500 Accuracy: 0.654\n"
       ]
      },
      {
       "output_type": "stream",
       "stream": "stdout",
       "text": [
        " saccharum spontaneum  [Swedish] OK\n"
       ]
      },
      {
       "output_type": "stream",
       "stream": "stdout",
       "text": [
        " mirco saggiorato  [French] Failed!\n",
        "Prediction: Italian, Received: 1106, Trained: 477, Last-500 Accuracy: 0.654\n"
       ]
      },
      {
       "output_type": "stream",
       "stream": "stdout",
       "text": [
        " sherbrooke  [French] Failed!\n",
        "Prediction: German, Received: 1107, Trained: 478, Last-500 Accuracy: 0.652\n"
       ]
      },
      {
       "output_type": "stream",
       "stream": "stdout",
       "text": [
        " hans zimmer  [Hungarian] OK\n"
       ]
      },
      {
       "output_type": "stream",
       "stream": "stdout",
       "text": [
        " \u0644\u0627 \u062a\u0633\u0623\u0644\u0646\u0649 \u0645\u0646 \u0623\u0646\u0627 \u0641\u064a\u0644\u0645  [Arabic] OK\n"
       ]
      },
      {
       "output_type": "stream",
       "stream": "stdout",
       "text": [
        " hammarg\u00e5rden  [Swedish] Failed!\n",
        "Prediction: German, Received: 1110, Trained: 479, Last-500 Accuracy: 0.652\n"
       ]
      },
      {
       "output_type": "stream",
       "stream": "stdout",
       "text": [
        " \u4e2d\u9280\u96c6\u5718\u4eba\u58fd  [Chinese] OK\n"
       ]
      },
      {
       "output_type": "stream",
       "stream": "stdout",
       "text": [
        " \u611b\u570b\u6b4c \u5927\u97d3\u6c11\u570b  [Chinese] Failed!\n",
        "Prediction: Japanese, Received: 1112, Trained: 480, Last-500 Accuracy: 0.652\n"
       ]
      },
      {
       "output_type": "stream",
       "stream": "stdout",
       "text": [
        " jon beason  [French] Failed!\n",
        "Prediction: German, Received: 1113, Trained: 481, Last-500 Accuracy: 0.650\n"
       ]
      },
      {
       "output_type": "stream",
       "stream": "stdout",
       "text": [
        " 18 \u043a\u0438\u043b\u043e\u043c\u0435\u0442\u0440  [Russian] OK\n"
       ]
      },
      {
       "output_type": "stream",
       "stream": "stdout",
       "text": [
        " m3u  [Japanese] OK\n"
       ]
      },
      {
       "output_type": "stream",
       "stream": "stdout",
       "text": [
        " johann christoph egedacher  [German] OK\n"
       ]
      },
      {
       "output_type": "stream",
       "stream": "stdout",
       "text": [
        " schlacht von mek'el\u0113  [German] Failed!\n",
        "Prediction: French, Received: 1117, Trained: 482, Last-500 Accuracy: 0.652\n"
       ]
      },
      {
       "output_type": "stream",
       "stream": "stdout",
       "text": [
        " hydranthelium obovatum  [Swedish] OK\n"
       ]
      },
      {
       "output_type": "stream",
       "stream": "stdout",
       "text": [
        " gairah binal  [Indonesian] Failed!\n",
        "Prediction: German, Received: 1119, Trained: 483, Last-500 Accuracy: 0.652\n"
       ]
      },
      {
       "output_type": "stream",
       "stream": "stdout",
       "text": [
        " saccharum stewartii  [Swedish] OK\n"
       ]
      },
      {
       "output_type": "stream",
       "stream": "stdout",
       "text": [
        " haller damenstift  [German] OK\n"
       ]
      },
      {
       "output_type": "stream",
       "stream": "stdout",
       "text": [
        " \u043c\u043e\u0433\u0435\u0440\u0438\u043d\u0438 \u0444\u0435\u0434\u0435\u0440\u0438\u043a\u0430  [Russian] Failed!\n",
        "Prediction: Bulgarian, Received: 1122, Trained: 484, Last-500 Accuracy: 0.656\n"
       ]
      },
      {
       "output_type": "stream",
       "stream": "stdout",
       "text": [
        " the x factor egyes\u00fclt kir\u00e1lys\u00e1g  [Hungarian] Failed!\n",
        "Prediction: German, Received: 1123, Trained: 485, Last-500 Accuracy: 0.656\n"
       ]
      },
      {
       "output_type": "stream",
       "stream": "stdout",
       "text": [
        " cant\u00f3 d'argent sur sauldre  [Catalan] OK\n"
       ]
      },
      {
       "output_type": "stream",
       "stream": "stdout",
       "text": [
        " andre\u00e9 jeglertz  [Swedish] Failed!\n",
        "Prediction: Hungarian, Received: 1125, Trained: 486, Last-500 Accuracy: 0.654\n"
       ]
      },
      {
       "output_type": "stream",
       "stream": "stdout",
       "text": [
        " jos\u00e9 manuel reina  [French] Failed!\n",
        "Prediction: Spanish, Received: 1126, Trained: 487, Last-500 Accuracy: 0.652\n"
       ]
      },
      {
       "output_type": "stream",
       "stream": "stdout",
       "text": [
        " \u30a4\u30b7\u30b3\u30ea\u30c9\u30e1  [Japanese] OK\n"
       ]
      },
      {
       "output_type": "stream",
       "stream": "stdout",
       "text": [
        " hydranthelium rotundifolium  [Swedish] OK\n"
       ]
      },
      {
       "output_type": "stream",
       "stream": "stdout",
       "text": [
        " 1913 \u0433\u043e\u0434 \u0432 \u0441\u043f\u043e\u0440\u0442\u0435  [Russian] OK\n"
       ]
      },
      {
       "output_type": "stream",
       "stream": "stdout",
       "text": [
        " \u0645\u062c\u0644\u0633 \u0627\u0644\u0648\u0632\u0631\u0627\u0621 \u0627\u0644\u0646\u0631\u0648\u064a\u062c  [Arabic] OK\n"
       ]
      },
      {
       "output_type": "stream",
       "stream": "stdout",
       "text": [
        " saccharum strictum  [Swedish] OK\n"
       ]
      },
      {
       "output_type": "stream",
       "stream": "stdout",
       "text": [
        " \u0628\u0637\u0648\u0644\u0627\u062a \u0646\u0627\u062f\u064a \u0628\u0631\u0634\u0644\u0648\u0646\u0629  [Arabic] OK\n"
       ]
      },
      {
       "output_type": "stream",
       "stream": "stdout",
       "text": [
        " ert world  [Greek] OK\n"
       ]
      },
      {
       "output_type": "stream",
       "stream": "stdout",
       "text": [
        " \u043f\u0443\u044d\u0440\u0442\u043e \u0431\u0435\u043b\u044c\u0433\u0440\u0430\u043d\u043e  [Russian] OK\n"
       ]
      },
      {
       "output_type": "stream",
       "stream": "stdout",
       "text": [
        " expert opinion on drug safety  [German] Failed!\n",
        "Prediction: French, Received: 1135, Trained: 488, Last-500 Accuracy: 0.656\n"
       ]
      },
      {
       "output_type": "stream",
       "stream": "stdout",
       "text": [
        " 626 notburga  [German] Failed!\n",
        "Prediction: French, Received: 1136, Trained: 489, Last-500 Accuracy: 0.656\n"
       ]
      },
      {
       "output_type": "stream",
       "stream": "stdout",
       "text": [
        " nikon d7100  [Russian] Failed!\n",
        "Prediction: Dutch, Received: 1137, Trained: 490, Last-500 Accuracy: 0.656\n"
       ]
      },
      {
       "output_type": "stream",
       "stream": "stdout",
       "text": [
        " los deportes  [Spanish] Failed!\n",
        "Prediction: French, Received: 1138, Trained: 491, Last-500 Accuracy: 0.654\n"
       ]
      },
      {
       "output_type": "stream",
       "stream": "stdout",
       "text": [
        " donald reignoux  [French] Failed!\n",
        "Prediction: Dutch, Received: 1139, Trained: 492, Last-500 Accuracy: 0.652\n"
       ]
      },
      {
       "output_type": "stream",
       "stream": "stdout",
       "text": [
        " macuillamia limosa  [Swedish] OK\n"
       ]
      },
      {
       "output_type": "stream",
       "stream": "stdout",
       "text": [
        " orestiada  [German] OK\n"
       ]
      },
      {
       "output_type": "stream",
       "stream": "stdout",
       "text": [
        " \u0432\u043e\u0438\u043d\u0441\u043a\u0438\u0435 \u043f\u043e\u0447\u0435\u0441\u0442\u0438  [Russian] OK\n"
       ]
      },
      {
       "output_type": "stream",
       "stream": "stdout",
       "text": [
        " saccharum viguieri  [Swedish] OK\n"
       ]
      },
      {
       "output_type": "stream",
       "stream": "stdout",
       "text": [
        " sankta filiberto  [Esperanto] Failed!\n",
        "Prediction: Swedish, Received: 1144, Trained: 493, Last-500 Accuracy: 0.654\n"
       ]
      },
      {
       "output_type": "stream",
       "stream": "stdout",
       "text": [
        " spicejet  [Polish] OK\n"
       ]
      },
      {
       "output_type": "stream",
       "stream": "stdout",
       "text": [
        " \u0431\u0438\u0433 \u043c\u0430\u043a  [Russian] Failed!\n",
        "Prediction: Ukrainian, Received: 1146, Trained: 494, Last-500 Accuracy: 0.654\n"
       ]
      },
      {
       "output_type": "stream",
       "stream": "stdout",
       "text": [
        " frise des comiques  [French] OK\n"
       ]
      },
      {
       "output_type": "stream",
       "stream": "stdout",
       "text": [
        " \u0627\u0644\u062d\u0632\u0628 \u0627\u0644\u0634\u064a\u0648\u0639\u064a \u0627\u0644\u0633\u0648\u0631\u064a  [Arabic] OK\n"
       ]
      },
      {
       "output_type": "stream",
       "stream": "stdout",
       "text": [
        " stridsplanet galactica  [Swedish] OK\n"
       ]
      },
      {
       "output_type": "stream",
       "stream": "stdout",
       "text": [
        " um\u011bn\u00ed prav\u011bku  [Czech] Failed!\n",
        "Prediction: Japanese, Received: 1150, Trained: 495, Last-500 Accuracy: 0.658\n"
       ]
      },
      {
       "output_type": "stream",
       "stream": "stdout",
       "text": [
        " \u4e2d\u9280\u96c6\u5718\u4eba\u58fd  [Chinese] OK\n"
       ]
      },
      {
       "output_type": "stream",
       "stream": "stdout",
       "text": [
        " macuillamia rotundifolia  [Swedish] OK\n"
       ]
      },
      {
       "output_type": "stream",
       "stream": "stdout",
       "text": [
        " 28th milestone  [Dutch] Failed!\n",
        "Prediction: French, Received: 1153, Trained: 496, Last-500 Accuracy: 0.658\n"
       ]
      },
      {
       "output_type": "stream",
       "stream": "stdout",
       "text": [
        " saccharum villosum  [Swedish] OK\n"
       ]
      },
      {
       "output_type": "stream",
       "stream": "stdout",
       "text": [
        " couleur des cheveux  [French] OK\n"
       ]
      },
      {
       "output_type": "stream",
       "stream": "stdout",
       "text": [
        " \u0434\u043e\u0441\u0442\u043e\u0447\u0442\u0438\u043c\u044b\u0439 \u043c\u0430\u0441\u0442\u0435\u0440  [Russian] OK\n"
       ]
      },
      {
       "output_type": "stream",
       "stream": "stdout",
       "text": [
        " \u0441\u0430\u0437\u043e\u043d\u043e\u0432 \u0430\u043b\u0435\u043a\u0441\u0435\u0439 \u0444\u0451\u0434\u043e\u0440\u043e\u0432\u0438\u0447  [Russian] OK\n"
       ]
      },
      {
       "output_type": "stream",
       "stream": "stdout",
       "text": [
        " micha\u0142 r\u00f3\u017cyczka  [Polish] OK\n"
       ]
      },
      {
       "output_type": "stream",
       "stream": "stdout",
       "text": [
        " d\u00e9couverte de neptune  [French] OK\n"
       ]
      },
      {
       "output_type": "stream",
       "stream": "stdout",
       "text": [
        " 2014\u5e74\u306e\u65e5\u672c\u7af6\u99ac  [Japanese] OK\n"
       ]
      },
      {
       "output_type": "stream",
       "stream": "stdout",
       "text": [
        " montr\u00e9al aude  [French] OK\n"
       ]
      },
      {
       "output_type": "stream",
       "stream": "stdout",
       "text": [
        " irak  [Indonesian] OK\n"
       ]
      },
      {
       "output_type": "stream",
       "stream": "stdout",
       "text": [
        " \u0441\u0442\u0440\u0430\u0439\u043a\u0431\u043e\u043b  [Russian] OK\n"
       ]
      },
      {
       "output_type": "stream",
       "stream": "stdout",
       "text": [
        " region vardar  [German] Failed!\n",
        "Prediction: Hungarian, Received: 1164, Trained: 497, Last-500 Accuracy: 0.670\n"
       ]
      },
      {
       "output_type": "stream",
       "stream": "stdout",
       "text": [
        " cant\u00f3 d'argentan est  [Catalan] OK\n"
       ]
      },
      {
       "output_type": "stream",
       "stream": "stdout",
       "text": [
        " saccharum wardii  [Swedish] OK\n"
       ]
      },
      {
       "output_type": "stream",
       "stream": "stdout",
       "text": [
        " \u0434\u0435\u043b\u0430\u0439 \u043d\u043e\u0433\u0438 2  [Russian] OK\n"
       ]
      },
      {
       "output_type": "stream",
       "stream": "stdout",
       "text": [
        " consenso desambiguaci\u00f3n  [Spanish] OK\n"
       ]
      },
      {
       "output_type": "stream",
       "stream": "stdout",
       "text": [
        " monniera obovata  [Swedish] OK\n"
       ]
      },
      {
       "output_type": "stream",
       "stream": "stdout",
       "text": [
        " heather moody  [Swedish] Failed!\n",
        "Prediction: German, Received: 1170, Trained: 498, Last-500 Accuracy: 0.672\n"
       ]
      },
      {
       "output_type": "stream",
       "stream": "stdout",
       "text": [
        " auf dem wasser zu singen  [French] Failed!\n",
        "Prediction: German, Received: 1171, Trained: 499, Last-500 Accuracy: 0.672\n"
       ]
      },
      {
       "output_type": "stream",
       "stream": "stdout",
       "text": [
        " tembienschlacht  [German] OK\n"
       ]
      },
      {
       "output_type": "stream",
       "stream": "stdout",
       "text": [
        " \u043d\u043e\u0432\u043e \u0430\u0445\u043c\u0438\u0440\u043e\u0432\u043e  [Russian] OK\n"
       ]
      },
      {
       "output_type": "stream",
       "stream": "stdout",
       "text": [
        " pawe\u0142 tamborski  [Polish] OK\n"
       ]
      },
      {
       "output_type": "stream",
       "stream": "stdout",
       "text": [
        " \u0441\u043f\u0438\u0441\u043e\u043a \u043c\u0438\u043d\u0438\u0441\u0442\u0440\u043e\u0432 \u0432\u043d\u0443\u0442\u0440\u0435\u043d\u043d\u0438\u0445 \u0434\u0435\u043b \u0443\u043a\u0440\u0430\u0438\u043d\u044b  [Russian] OK\n"
       ]
      },
      {
       "output_type": "stream",
       "stream": "stdout",
       "text": [
        " cant\u00f3 d'argentan oest  [Catalan] OK\n"
       ]
      },
      {
       "output_type": "stream",
       "stream": "stdout",
       "text": [
        " pot\u00e1pka osoba  [Czech] Failed!\n",
        "Prediction: German, Received: 1177, Trained: 500, Last-500 Accuracy: 0.672\n"
       ]
      },
      {
       "output_type": "stream",
       "stream": "stdout",
       "text": [
        " saccharum williamsii  [Swedish] OK\n"
       ]
      },
      {
       "output_type": "stream",
       "stream": "stdout",
       "text": [
        " marie bourette  [French] OK\n"
       ]
      },
      {
       "output_type": "stream",
       "stream": "stdout",
       "text": [
        " asteroid  [Swedish] OK\n"
       ]
      },
      {
       "output_type": "stream",
       "stream": "stdout",
       "text": [
        " hans joachim beeskow  [German] OK\n"
       ]
      },
      {
       "output_type": "stream",
       "stream": "stdout",
       "text": [
        " monniera rotundifolia  [Swedish] OK\n"
       ]
      },
      {
       "output_type": "stream",
       "stream": "stdout",
       "text": [
        " \u03c0\u03bf\u03cd\u03bd\u03c4\u03c3\u03b1\u03ba \u03c4\u03b6\u03ac\u03b3\u03b9\u03b1  [Greek] OK\n"
       ]
      },
      {
       "output_type": "stream",
       "stream": "stdout",
       "text": [
        " \ud5c8\uc900\ud638  [Korean] OK\n"
       ]
      },
      {
       "output_type": "stream",
       "stream": "stdout",
       "text": [
        " boris michailowitsch schaposchnikow  [German] OK\n"
       ]
      },
      {
       "output_type": "stream",
       "stream": "stdout",
       "text": [
        " \u0639\u0644\u0648\u0645 \u0627\u0644\u0623\u0631\u0636  [Arabic] OK\n"
       ]
      },
      {
       "output_type": "stream",
       "stream": "stdout",
       "text": [
        " \u0436\u043e\u0440\u043e \u0438\u0433\u043d\u0430\u0442\u043e\u0432  [Bulgarian] Failed!\n",
        "Prediction: Russian, Received: 1187, Trained: 501, Last-500 Accuracy: 0.678\n"
       ]
      },
      {
       "output_type": "stream",
       "stream": "stdout",
       "text": [
        " episodi di big bang theory sesta stagione  [Italian] Failed!\n",
        "Prediction: German, Received: 1188, Trained: 502, Last-500 Accuracy: 0.676\n"
       ]
      },
      {
       "output_type": "stream",
       "stream": "stdout",
       "text": [
        " \u0438\u0441\u0438\u0438 \u0441\u0438\u0440\u043e  [Russian] OK\n"
       ]
      },
      {
       "output_type": "stream",
       "stream": "stdout",
       "text": [
        " foo fighters  [Spanish] OK\n"
       ]
      },
      {
       "output_type": "stream",
       "stream": "stdout",
       "text": [
        " festival di sanremo 1981  [Italian] OK\n"
       ]
      },
      {
       "output_type": "stream",
       "stream": "stdout",
       "text": [
        " monniera tweedii  [Swedish] OK\n"
       ]
      },
      {
       "output_type": "stream",
       "stream": "stdout",
       "text": [
        " sacciolepis  [Swedish] OK\n"
       ]
      },
      {
       "output_type": "stream",
       "stream": "stdout",
       "text": [
        " hermann hallwich  [German] OK\n"
       ]
      },
      {
       "output_type": "stream",
       "stream": "stdout",
       "text": [
        " campeonato mundial de remo de 2014  [Spanish] OK\n"
       ]
      },
      {
       "output_type": "stream",
       "stream": "stdout",
       "text": [
        " \u4e2d\u56fd\u5de6\u7ffc\u4f5c\u5bb6\u8054\u76df  [Chinese] OK\n"
       ]
      },
      {
       "output_type": "stream",
       "stream": "stdout",
       "text": [
        " cant\u00f3 d'argentat  [Catalan] OK\n"
       ]
      },
      {
       "output_type": "stream",
       "stream": "stdout",
       "text": [
        " cadmio  [Italian] OK\n"
       ]
      },
      {
       "output_type": "stream",
       "stream": "stdout",
       "text": [
        " schloss werdenberg  [German] OK\n"
       ]
      },
      {
       "output_type": "stream",
       "stream": "stdout",
       "text": [
        " mai fu  [Polish] Failed!\n",
        "Prediction: French, Received: 1200, Trained: 503, Last-500 Accuracy: 0.682\n"
       ]
      },
      {
       "output_type": "stream",
       "stream": "stdout",
       "text": [
        " \u043d\u043e\u0432\u043e \u0442\u0440\u043e\u0438\u0446\u043a\u043e\u0435 \u0432\u043e\u0441\u0442\u043e\u0447\u043d\u043e \u043a\u0430\u0437\u0430\u0445\u0441\u0442\u0430\u043d\u0441\u043a\u0430\u044f \u043e\u0431\u043b\u0430\u0441\u0442\u044c  [Russian] OK\n"
       ]
      },
      {
       "output_type": "stream",
       "stream": "stdout",
       "text": [
        " harakiri album  [Italian] Failed!\n",
        "Prediction: French, Received: 1202, Trained: 504, Last-500 Accuracy: 0.682\n"
       ]
      },
      {
       "output_type": "stream",
       "stream": "stdout",
       "text": [
        " ranapalus rotundifolius  [Swedish] OK\n"
       ]
      },
      {
       "output_type": "stream",
       "stream": "stdout",
       "text": [
        " \u00f6gonsk\u00f6ldpadda  [Swedish] OK\n"
       ]
      },
      {
       "output_type": "stream",
       "stream": "stdout",
       "text": [
        " sacciolepis africana  [Swedish] OK\n"
       ]
      },
      {
       "output_type": "stream",
       "stream": "stdout",
       "text": [
        " valentino rossi  [Indonesian] Failed!\n",
        "Prediction: Italian, Received: 1206, Trained: 505, Last-500 Accuracy: 0.684\n"
       ]
      },
      {
       "output_type": "stream",
       "stream": "stdout",
       "text": [
        " gnu/linux  [Norwegian] Failed!\n",
        "Prediction: German, Received: 1207, Trained: 506, Last-500 Accuracy: 0.684\n"
       ]
      },
      {
       "output_type": "stream",
       "stream": "stdout",
       "text": [
        " xviii secolo  [Italian] OK\n"
       ]
      },
      {
       "output_type": "stream",
       "stream": "stdout",
       "text": [
        " \u05d1\u05e8\u05e0\u05df  [Hebrew] OK\n"
       ]
      },
      {
       "output_type": "stream",
       "stream": "stdout",
       "text": [
        " obi mikel  [Spanish] Failed!\n",
        "Prediction: Italian, Received: 1210, Trained: 507, Last-500 Accuracy: 0.682\n"
       ]
      },
      {
       "output_type": "stream",
       "stream": "stdout",
       "text": [
        " \u043b\u043e\u0440\u044c\u044f\u043d \u0444\u0443\u0442\u0431\u043e\u043b\u044c\u043d\u044b\u0439 \u043a\u043b\u0443\u0431  [Russian] OK\n"
       ]
      },
      {
       "output_type": "stream",
       "stream": "stdout",
       "text": [
        " pec zwolle  [Dutch] Failed!\n",
        "Prediction: Spanish, Received: 1212, Trained: 508, Last-500 Accuracy: 0.682\n"
       ]
      },
      {
       "output_type": "stream",
       "stream": "stdout",
       "text": [
        " le chant du cygne  [French] OK\n"
       ]
      },
      {
       "output_type": "stream",
       "stream": "stdout",
       "text": [
        " \u0142asin  [Polish] OK\n"
       ]
      },
      {
       "output_type": "stream",
       "stream": "stdout",
       "text": [
        " reprezentacja bia\u0142orusi na mistrzostwach \u015bwiata w narciarstwie klasycznym 2009  [Polish] OK\n"
       ]
      },
      {
       "output_type": "stream",
       "stream": "stdout",
       "text": [
        " \u304c\u3063\u3061\u308a\u30de\u30f3\u30c7\u30fc!!  [Japanese] OK\n"
       ]
      },
      {
       "output_type": "stream",
       "stream": "stdout",
       "text": [
        " \u03b5\u03c1\u03bd\u03ad\u03c3\u03c4\u03bf \u03c4\u03c3\u03b5 \u03b3\u03ba\u03b5\u03b2\u03ac\u03c1\u03b1  [Greek] OK\n"
       ]
      },
      {
       "output_type": "stream",
       "stream": "stdout",
       "text": [
        " philippe gurdjian  [French] OK\n"
       ]
      },
      {
       "output_type": "stream",
       "stream": "stdout",
       "text": [
        " liste der nummer eins hits in der schweiz 2013  [German] OK\n"
       ]
      },
      {
       "output_type": "stream",
       "stream": "stdout",
       "text": [
        " sacciolepis angustissima  [Swedish] OK\n"
       ]
      },
      {
       "output_type": "stream",
       "stream": "stdout",
       "text": [
        " brze\u017anica ksi\u0105\u017c\u0119ca  [Polish] OK\n"
       ]
      },
      {
       "output_type": "stream",
       "stream": "stdout",
       "text": [
        " \u043f\u043b\u0430\u0442\u043e\u043d\u043e\u0432 \u0430\u043d\u0434\u0440\u0435\u0439 \u043f\u043b\u0430\u0442\u043e\u043d\u043e\u0432\u0438\u0447  [Russian] OK\n"
       ]
      },
      {
       "output_type": "stream",
       "stream": "stdout",
       "text": [
        " ang\u00e9lus homonymie  [French] OK\n"
       ]
      },
      {
       "output_type": "stream",
       "stream": "stdout",
       "text": [
        " diego marani atleta  [Italian] OK\n"
       ]
      },
      {
       "output_type": "stream",
       "stream": "stdout",
       "text": [
        " bacopa rotundifolia  [Swedish] OK\n"
       ]
      },
      {
       "output_type": "stream",
       "stream": "stdout",
       "text": [
        " 1912 \u0433\u043e\u0434 \u0432 \u0441\u043f\u043e\u0440\u0442\u0435  [Russian] OK\n"
       ]
      },
      {
       "output_type": "stream",
       "stream": "stdout",
       "text": [
        " cant\u00f3 d'argenteuil est  [Catalan] OK\n"
       ]
      },
      {
       "output_type": "stream",
       "stream": "stdout",
       "text": [
        " hks  [Swedish] OK\n"
       ]
      },
      {
       "output_type": "stream",
       "stream": "stdout",
       "text": [
        " sacciolepis arenaria  [Swedish] OK\n"
       ]
      },
      {
       "output_type": "stream",
       "stream": "stdout",
       "text": [
        " deathlok  [Italian] Failed!\n",
        "Prediction: Dutch, Received: 1230, Trained: 509, Last-500 Accuracy: 0.698\n"
       ]
      },
      {
       "output_type": "stream",
       "stream": "stdout",
       "text": [
        " federica mogherini  [Italian] Failed!\n",
        "Prediction: German, Received: 1231, Trained: 510, Last-500 Accuracy: 0.696\n"
       ]
      },
      {
       "output_type": "stream",
       "stream": "stdout",
       "text": [
        " \u7b49\u4e00\u500b\u4eba\u5496\u5561 \u96fb\u5f71  [Chinese] OK\n"
       ]
      },
      {
       "output_type": "stream",
       "stream": "stdout",
       "text": [
        " \u83ef\u5c71\u8ad6\u528d  [Chinese] OK\n"
       ]
      },
      {
       "output_type": "stream",
       "stream": "stdout",
       "text": [
        " choqueuse les b\u00e9nards  [French] OK\n"
       ]
      },
      {
       "output_type": "stream",
       "stream": "stdout",
       "text": [
        " sacciolepis catumbensis  [Swedish] OK\n"
       ]
      },
      {
       "output_type": "stream",
       "stream": "stdout",
       "text": [
        " louise weiss  [French] OK\n"
       ]
      },
      {
       "output_type": "stream",
       "stream": "stdout",
       "text": [
        " \u05d1\u05e8\u05e0\u05e1  [Hebrew] OK\n"
       ]
      },
      {
       "output_type": "stream",
       "stream": "stdout",
       "text": [
        " 8\u670831\u65e5  [Japanese] Failed!\n",
        "Prediction: Chinese, Received: 1238, Trained: 511, Last-500 Accuracy: 0.704\n"
       ]
      },
      {
       "output_type": "stream",
       "stream": "stdout",
       "text": [
        " bacopa domingensis  [Swedish] OK\n"
       ]
      },
      {
       "output_type": "stream",
       "stream": "stdout",
       "text": [
        " syndrome du choc acoustique  [French] OK\n"
       ]
      },
      {
       "output_type": "stream",
       "stream": "stdout",
       "text": [
        " greystoke la leggenda di tarzan il signore delle scimmie  [Italian] Failed!\n",
        "Prediction: French, Received: 1241, Trained: 512, Last-500 Accuracy: 0.706\n"
       ]
      },
      {
       "output_type": "stream",
       "stream": "stdout",
       "text": [
        " hist\u00f2ria d'andorra  [Catalan] OK\n"
       ]
      },
      {
       "output_type": "stream",
       "stream": "stdout",
       "text": [
        " \uc774\ub9d0\ub144  [Korean] Failed!\n",
        "Prediction: Chinese, Received: 1243, Trained: 513, Last-500 Accuracy: 0.704\n"
       ]
      },
      {
       "output_type": "stream",
       "stream": "stdout",
       "text": [
        " cant\u00f3 d'argenteuil nord  [Catalan] OK\n"
       ]
      },
      {
       "output_type": "stream",
       "stream": "stdout",
       "text": [
        " schwanengesang  [French] Failed!\n",
        "Prediction: German, Received: 1245, Trained: 514, Last-500 Accuracy: 0.704\n"
       ]
      },
      {
       "output_type": "stream",
       "stream": "stdout",
       "text": [
        " berizky \u010de\u010de\u013enycki  [Slovak] Failed!\n",
        "Prediction: Polish, Received: 1246, Trained: 515, Last-500 Accuracy: 0.702\n"
       ]
      },
      {
       "output_type": "stream",
       "stream": "stdout",
       "text": [
        " pok\u00e9mon spiele  [German] Failed!\n",
        "Prediction: French, Received: 1247, Trained: 516, Last-500 Accuracy: 0.700\n"
       ]
      },
      {
       "output_type": "stream",
       "stream": "stdout",
       "text": [
        " arr\u00eatez moi  [French] Failed!\n",
        "Prediction: Spanish, Received: 1248, Trained: 517, Last-500 Accuracy: 0.700\n"
       ]
      },
      {
       "output_type": "stream",
       "stream": "stdout",
       "text": [
        " carol reed  [German] OK\n"
       ]
      },
      {
       "output_type": "stream",
       "stream": "stdout",
       "text": [
        " sacciolepis chevalieri  [Swedish] OK\n"
       ]
      },
      {
       "output_type": "stream",
       "stream": "stdout",
       "text": [
        " \u0645\u0627\u0631\u0643\u0648 \u0631\u0648\u064a\u0633  [Arabic] OK\n"
       ]
      },
      {
       "output_type": "stream",
       "stream": "stdout",
       "text": [
        " bacopa elongata  [Swedish] OK\n"
       ]
      },
      {
       "output_type": "stream",
       "stream": "stdout",
       "text": [
        " meteren nederland  [Dutch] OK\n"
       ]
      },
      {
       "output_type": "stream",
       "stream": "stdout",
       "text": [
        " bergamo  [Italian] Failed!\n",
        "Prediction: French, Received: 1254, Trained: 518, Last-500 Accuracy: 0.702\n"
       ]
      },
      {
       "output_type": "stream",
       "stream": "stdout",
       "text": [
        " h\u00fcfingen  [German] OK\n"
       ]
      },
      {
       "output_type": "stream",
       "stream": "stdout",
       "text": [
        " 1911 \u0433\u043e\u0434 \u0432 \u0441\u043f\u043e\u0440\u0442\u0435  [Russian] OK\n"
       ]
      },
      {
       "output_type": "stream",
       "stream": "stdout",
       "text": [
        " fernando casas alem\u00e1n  [German] Failed!\n",
        "Prediction: French, Received: 1257, Trained: 519, Last-500 Accuracy: 0.702\n"
       ]
      },
      {
       "output_type": "stream",
       "stream": "stdout",
       "text": [
        " \u062c\u0633\u06cc\u06a9\u0627 \u062c\u06cc\u0645\u0632  [Farsi] OK\n"
       ]
      },
      {
       "output_type": "stream",
       "stream": "stdout",
       "text": [
        " \u67f3\u57ce\u770c  [Japanese] OK\n"
       ]
      },
      {
       "output_type": "stream",
       "stream": "stdout",
       "text": [
        " \u30ab\u30c3\u30d7\u6226  [Japanese] OK\n"
       ]
      },
      {
       "output_type": "stream",
       "stream": "stdout",
       "text": [
        " sacciolepis ciliocincta  [Swedish] OK\n"
       ]
      },
      {
       "output_type": "stream",
       "stream": "stdout",
       "text": [
        " bits of love  [German] Failed!\n",
        "Prediction: French, Received: 1262, Trained: 520, Last-500 Accuracy: 0.704\n"
       ]
      },
      {
       "output_type": "stream",
       "stream": "stdout",
       "text": [
        " \u304a\u3068\u3081\u5ea7\u30d9\u30fc\u30bf\u661f  [Japanese] OK\n"
       ]
      },
      {
       "output_type": "stream",
       "stream": "stdout",
       "text": [
        " bacopa monosticta  [Swedish] OK\n"
       ]
      },
      {
       "output_type": "stream",
       "stream": "stdout",
       "text": [
        " fatal bazooka  [French] Failed!\n",
        "Prediction: Polish, Received: 1265, Trained: 521, Last-500 Accuracy: 0.702\n"
       ]
      },
      {
       "output_type": "stream",
       "stream": "stdout",
       "text": [
        "Ignoring class 30\n",
        " salomon kalou  [Italian] Failed!\n",
        "Prediction: French, Received: 1267, Trained: 522, Last-500 Accuracy: 0.700\n"
       ]
      },
      {
       "output_type": "stream",
       "stream": "stdout",
       "text": [
        " \u0631\u064a\u0627\u0644 \u0645\u062f\u0631\u064a\u062f  [Arabic] OK\n"
       ]
      },
      {
       "output_type": "stream",
       "stream": "stdout",
       "text": [
        " \u043a\u0440\u0430\u043c\u043c \u0430\u0440\u043c\u0433\u0430\u0440\u0434 \u0444\u043e\u043d  [Russian] Failed!\n",
        "Prediction: Ukrainian, Received: 1269, Trained: 523, Last-500 Accuracy: 0.698\n"
       ]
      },
      {
       "output_type": "stream",
       "stream": "stdout",
       "text": [
        " cant\u00f3 d'argenteuil oest  [Catalan] OK\n"
       ]
      },
      {
       "output_type": "stream",
       "stream": "stdout",
       "text": [
        " david l\u00f3pez silva  [Italian] Failed!\n",
        "Prediction: Spanish, Received: 1271, Trained: 524, Last-500 Accuracy: 0.698\n"
       ]
      },
      {
       "output_type": "stream",
       "stream": "stdout",
       "text": [
        " cheffes  [Portuguese] OK\n"
       ]
      },
      {
       "output_type": "stream",
       "stream": "stdout",
       "text": [
        " sacciolepis cingularis  [Swedish] OK\n"
       ]
      },
      {
       "output_type": "stream",
       "stream": "stdout",
       "text": [
        " jan du\u0161ek skladatel  [Czech] OK\n"
       ]
      },
      {
       "output_type": "stream",
       "stream": "stdout",
       "text": [
        " \u05d1\u05e8\u05e0\u05e2  [Hebrew] Failed!\n",
        "Prediction: Korean, Received: 1275, Trained: 525, Last-500 Accuracy: 0.700\n"
       ]
      },
      {
       "output_type": "stream",
       "stream": "stdout",
       "text": [
        " \u043c\u0430\u0439\u043a\u044a\u043b \u0432\u0430\u0440\u0442\u0430\u043d  [Bulgarian] OK\n"
       ]
      },
      {
       "output_type": "stream",
       "stream": "stdout",
       "text": [
        " serce powie\u015b\u0107  [Polish] Failed!\n",
        "Prediction: German, Received: 1277, Trained: 526, Last-500 Accuracy: 0.698\n"
       ]
      },
      {
       "output_type": "stream",
       "stream": "stdout",
       "text": [
        " nintendo 3ds  [French] OK\n"
       ]
      },
      {
       "output_type": "stream",
       "stream": "stdout",
       "text": [
        " caconapea stricta  [Swedish] OK\n"
       ]
      },
      {
       "output_type": "stream",
       "stream": "stdout",
       "text": [
        " inna piosenkarka  [Polish] Failed!\n",
        "Prediction: German, Received: 1280, Trained: 527, Last-500 Accuracy: 0.698\n"
       ]
      },
      {
       "output_type": "stream",
       "stream": "stdout",
       "text": [
        " \u043d\u043e\u0432\u043e \u044f\u0432\u043b\u0435\u043d\u043a\u0430  [Russian] OK\n"
       ]
      },
      {
       "output_type": "stream",
       "stream": "stdout",
       "text": [
        " der erlk\u00f6nig  [French] Failed!\n",
        "Prediction: German, Received: 1282, Trained: 528, Last-500 Accuracy: 0.700\n"
       ]
      },
      {
       "output_type": "stream",
       "stream": "stdout",
       "text": [
        " liste der st\u00e4dteregionsstra\u00dfen in der st\u00e4dteregion aachen  [German] OK\n"
       ]
      },
      {
       "output_type": "stream",
       "stream": "stdout",
       "text": [
        " sacciolepis clatrata  [Swedish] OK\n"
       ]
      },
      {
       "output_type": "stream",
       "stream": "stdout",
       "text": [
        " \u0622\u0644\u06a9\u0627\u0646  [Farsi] Failed!\n",
        "Prediction: Arabic, Received: 1285, Trained: 529, Last-500 Accuracy: 0.700\n"
       ]
      },
      {
       "output_type": "stream",
       "stream": "stdout",
       "text": [
        "Ignoring class 30\n",
        " \u0432\u043e\u043e\u0440\u0443\u0436\u0451\u043d\u043d\u044b\u0439 \u043a\u043e\u043d\u0444\u043b\u0438\u043a\u0442 \u043d\u0430 \u0432\u043e\u0441\u0442\u043e\u043a\u0435 \u0443\u043a\u0440\u0430\u0438\u043d\u044b 2014  [Russian] OK\n"
       ]
      },
      {
       "output_type": "stream",
       "stream": "stdout",
       "text": [
        " \u7f85\u6dd1\u857e  [Chinese] OK\n"
       ]
      },
      {
       "output_type": "stream",
       "stream": "stdout",
       "text": [
        " spanische badmintonmeisterschaft 2008  [German] OK\n"
       ]
      },
      {
       "output_type": "stream",
       "stream": "stdout",
       "text": [
        " bedtime story  [Spanish] Failed!\n",
        "Prediction: French, Received: 1290, Trained: 530, Last-500 Accuracy: 0.702\n"
       ]
      },
      {
       "output_type": "stream",
       "stream": "stdout",
       "text": [
        " liste der baudenkm\u00e4ler in aidhausen  [German] OK\n"
       ]
      },
      {
       "output_type": "stream",
       "stream": "stdout",
       "text": [
        " asiatyphlopinae  [French] OK\n"
       ]
      },
      {
       "output_type": "stream",
       "stream": "stdout",
       "text": [
        " herpestis diffusa  [Swedish] OK\n"
       ]
      },
      {
       "output_type": "stream",
       "stream": "stdout",
       "text": [
        " \u0628\u0648\u0643\u064a\u0645\u0648\u0646 \u0623\u0646\u0645\u064a  [Arabic] OK\n"
       ]
      },
      {
       "output_type": "stream",
       "stream": "stdout",
       "text": [
        " dorje shugden  [German] Failed!\n",
        "Prediction: French, Received: 1295, Trained: 531, Last-500 Accuracy: 0.700\n"
       ]
      },
      {
       "output_type": "stream",
       "stream": "stdout",
       "text": [
        " trauma psychologie  [German] OK\n"
       ]
      },
      {
       "output_type": "stream",
       "stream": "stdout",
       "text": [
        " cant\u00f3 d'argenton les vall\u00e9es  [Catalan] OK\n"
       ]
      },
      {
       "output_type": "stream",
       "stream": "stdout",
       "text": [
        " sacciolepis curvata  [Swedish] OK\n"
       ]
      },
      {
       "output_type": "stream",
       "stream": "stdout",
       "text": [
        " frise des comiques  [French] OK\n"
       ]
      },
      {
       "output_type": "stream",
       "stream": "stdout",
       "text": [
        " antonio carafa  [Esperanto] Failed!\n",
        "Prediction: Italian, Received: 1300, Trained: 532, Last-500 Accuracy: 0.698\n"
       ]
      },
      {
       "output_type": "stream",
       "stream": "stdout",
       "text": [
        " stephanie bart  [German] OK\n"
       ]
      },
      {
       "output_type": "stream",
       "stream": "stdout",
       "text": [
        " johnny depp  [German] Failed!\n",
        "Prediction: French, Received: 1302, Trained: 533, Last-500 Accuracy: 0.698\n"
       ]
      },
      {
       "output_type": "stream",
       "stream": "stdout",
       "text": [
        " herpestis domingensis  [Swedish] Failed!\n",
        "Prediction: German, Received: 1303, Trained: 534, Last-500 Accuracy: 0.698\n"
       ]
      },
      {
       "output_type": "stream",
       "stream": "stdout",
       "text": [
        " moon to  [Polish] Failed!\n",
        "Prediction: French, Received: 1304, Trained: 535, Last-500 Accuracy: 0.698\n"
       ]
      },
      {
       "output_type": "stream",
       "stream": "stdout",
       "text": [
        " cheffois  [Portuguese] Failed!\n",
        "Prediction: German, Received: 1305, Trained: 536, Last-500 Accuracy: 0.696\n"
       ]
      },
      {
       "output_type": "stream",
       "stream": "stdout",
       "text": [
        " sacciolepis cymbiandra  [Swedish] OK\n"
       ]
      },
      {
       "output_type": "stream",
       "stream": "stdout",
       "text": [
        " brockessches haus  [German] OK\n"
       ]
      },
      {
       "output_type": "stream",
       "stream": "stdout",
       "text": [
        " roberto y\u00e1\u00f1ez  [German] OK\n"
       ]
      },
      {
       "output_type": "stream",
       "stream": "stdout",
       "text": [
        " \u30d3\u30c3\u30b0\u30aa\u30fc\u30c0\u30fc  [Japanese] Failed!\n",
        "Prediction: Chinese, Received: 1309, Trained: 537, Last-500 Accuracy: 0.700\n"
       ]
      },
      {
       "output_type": "stream",
       "stream": "stdout",
       "text": [
        " reprezentacja norwegii na mistrzostwach \u015bwiata w narciarstwie klasycznym 2013  [Polish] OK\n"
       ]
      },
      {
       "output_type": "stream",
       "stream": "stdout",
       "text": [
        " dronningm\u00f8lle station  [Danish] Failed!\n",
        "Prediction: French, Received: 1311, Trained: 538, Last-500 Accuracy: 0.700\n"
       ]
      },
      {
       "output_type": "stream",
       "stream": "stdout",
       "text": [
        " rush  [Polish] Failed!\n",
        "Prediction: German, Received: 1312, Trained: 539, Last-500 Accuracy: 0.700\n"
       ]
      },
      {
       "output_type": "stream",
       "stream": "stdout",
       "text": [
        " \u5929\u4e3b\u6559\u5d07\u5fb7\u82f1\u6587\u66f8\u9662  [Chinese] OK\n"
       ]
      },
      {
       "output_type": "stream",
       "stream": "stdout",
       "text": [
        " herpestis elongata  [Swedish] OK\n"
       ]
      },
      {
       "output_type": "stream",
       "stream": "stdout",
       "text": [
        " danielle campbell  [French] Failed!\n",
        "Prediction: German, Received: 1315, Trained: 540, Last-500 Accuracy: 0.700\n"
       ]
      },
      {
       "output_type": "stream",
       "stream": "stdout",
       "text": [
        " seno narkotek  [Italian] OK\n"
       ]
      },
      {
       "output_type": "stream",
       "stream": "stdout",
       "text": [
        " sacciolepis fenestrata  [Swedish] OK\n"
       ]
      },
      {
       "output_type": "stream",
       "stream": "stdout",
       "text": [
        " \u05d1\u05e8\u05e0\u05e8  [Hebrew] OK\n"
       ]
      },
      {
       "output_type": "stream",
       "stream": "stdout",
       "text": [
        " ellens dritter gesang  [French] OK\n"
       ]
      },
      {
       "output_type": "stream",
       "stream": "stdout",
       "text": [
        " ascain  [French] Failed!\n",
        "Prediction: Italian, Received: 1320, Trained: 541, Last-500 Accuracy: 0.704\n"
       ]
      },
      {
       "output_type": "stream",
       "stream": "stdout",
       "text": [
        " palazzo ducale venezia  [Italian] OK\n"
       ]
      },
      {
       "output_type": "stream",
       "stream": "stdout",
       "text": [
        " dion cassius  [French] Failed!\n",
        "Prediction: Italian, Received: 1322, Trained: 542, Last-500 Accuracy: 0.702\n"
       ]
      },
      {
       "output_type": "stream",
       "stream": "stdout",
       "text": [
        " \u5168\u54e1\u9003\u8d70\u4e2d\u5404\u8a71\u5217\u8868  [Chinese] OK\n"
       ]
      },
      {
       "output_type": "stream",
       "stream": "stdout",
       "text": [
        " hans zimmer  [Hungarian] OK\n"
       ]
      },
      {
       "output_type": "stream",
       "stream": "stdout",
       "text": [
        " i\"s  [Italian] Failed!\n",
        "Prediction: German, Received: 1325, Trained: 543, Last-500 Accuracy: 0.702\n"
       ]
      },
      {
       "output_type": "stream",
       "stream": "stdout",
       "text": [
        " herpestis monosticta  [Swedish] OK\n"
       ]
      },
      {
       "output_type": "stream",
       "stream": "stdout",
       "text": [
        " sacciolepis indica  [Swedish] OK\n"
       ]
      },
      {
       "output_type": "stream",
       "stream": "stdout",
       "text": [
        " danny queck  [German] Failed!\n",
        "Prediction: French, Received: 1328, Trained: 544, Last-500 Accuracy: 0.700\n"
       ]
      },
      {
       "output_type": "stream",
       "stream": "stdout",
       "text": [
        " gerstlauer  [Dutch] Failed!\n",
        "Prediction: German, Received: 1329, Trained: 545, Last-500 Accuracy: 0.698\n"
       ]
      },
      {
       "output_type": "stream",
       "stream": "stdout",
       "text": [
        " \u0431\u0443\u0440\u044f\u043a \u0440\u0456\u0434  [Ukrainian] OK\n"
       ]
      },
      {
       "output_type": "stream",
       "stream": "stdout",
       "text": [
        " introduction \u00e0 la m\u00e9taphysique  [French] OK\n"
       ]
      },
      {
       "output_type": "stream",
       "stream": "stdout",
       "text": [
        " \u05d7\u05d9\u05dc\u05d9\u05e7 \u05e4\u05e8\u05e0\u05e7  [Hebrew] OK\n"
       ]
      },
      {
       "output_type": "stream",
       "stream": "stdout",
       "text": [
        " steve tesich  [French] OK\n"
       ]
      },
      {
       "output_type": "stream",
       "stream": "stdout",
       "text": [
        "Ignoring class 30\n",
        " tigre du platane  [French] OK\n"
       ]
      },
      {
       "output_type": "stream",
       "stream": "stdout",
       "text": [
        " \u0433\u0430\u043c\u0437\u0430\u0442\u043e\u0432 \u0440\u0430\u0441\u0443\u043b \u0433\u0430\u043c\u0437\u0430\u0442\u043e\u0432\u0438\u0447  [Russian] OK\n"
       ]
      },
      {
       "output_type": "stream",
       "stream": "stdout",
       "text": [
        " cant\u00f3 d'argenton sur creuse  [Catalan] OK\n"
       ]
      },
      {
       "output_type": "stream",
       "stream": "stdout",
       "text": [
        " zamzam  [Indonesian] OK\n"
       ]
      },
      {
       "output_type": "stream",
       "stream": "stdout",
       "text": [
        " wintarnaht  [German] OK\n"
       ]
      },
      {
       "output_type": "stream",
       "stream": "stdout",
       "text": [
        " curdist\u00e3o  [Portuguese] Failed!\n",
        "Prediction: German, Received: 1340, Trained: 546, Last-500 Accuracy: 0.700\n"
       ]
      },
      {
       "output_type": "stream",
       "stream": "stdout",
       "text": [
        " antonio mar\u00eda esquivel  [Spanish] OK\n"
       ]
      },
      {
       "output_type": "stream",
       "stream": "stdout",
       "text": [
        " cheffreville tonnencourt  [Portuguese] OK\n"
       ]
      },
      {
       "output_type": "stream",
       "stream": "stdout",
       "text": [
        " herpestis polyantha  [Swedish] OK\n"
       ]
      },
      {
       "output_type": "stream",
       "stream": "stdout",
       "text": [
        " sacciolepis interrupta  [Swedish] OK\n"
       ]
      },
      {
       "output_type": "stream",
       "stream": "stdout",
       "text": [
        " italienisch \u00e4thiopischer krieg 1935\u20131936  [German] OK\n"
       ]
      },
      {
       "output_type": "stream",
       "stream": "stdout",
       "text": [
        " valsonne  [French] OK\n"
       ]
      },
      {
       "output_type": "stream",
       "stream": "stdout",
       "text": [
        " l\u00e9k\u00f3 p\u00e9ter  [Hungarian] Failed!\n",
        "Prediction: Dutch, Received: 1347, Trained: 547, Last-500 Accuracy: 0.700\n"
       ]
      },
      {
       "output_type": "stream",
       "stream": "stdout",
       "text": [
        " \u0441\u0430\u043c\u0441\u043e\u043d\u043e\u0432\u043a\u0430 \u0432\u043e\u0441\u0442\u043e\u0447\u043d\u043e \u043a\u0430\u0437\u0430\u0445\u0441\u0442\u0430\u043d\u0441\u043a\u0430\u044f \u043e\u0431\u043b\u0430\u0441\u0442\u044c  [Russian] OK\n"
       ]
      },
      {
       "output_type": "stream",
       "stream": "stdout",
       "text": [
        " herpestis stricta  [Swedish] OK\n"
       ]
      },
      {
       "output_type": "stream",
       "stream": "stdout",
       "text": [
        " \u043c\u0430\u0444\u0443\u0441\u0430\u0438\u043b  [Russian] Failed!\n",
        "Prediction: Bulgarian, Received: 1350, Trained: 548, Last-500 Accuracy: 0.698\n"
       ]
      },
      {
       "output_type": "stream",
       "stream": "stdout",
       "text": [
        " \u0431\u0435\u0440\u043d\u0430\u0440\u0434 \u043b\u0438\u043f\u043f\u0435 \u0431\u0438\u0441\u0442\u0435\u0440\u0444\u0435\u043b\u044c\u0434\u0441\u043a\u0438\u0439 1872\u20141934  [Russian] OK\n"
       ]
      },
      {
       "output_type": "stream",
       "stream": "stdout",
       "text": [
        " sacciolepis leptorrhachis  [Swedish] OK\n"
       ]
      },
      {
       "output_type": "stream",
       "stream": "stdout",
       "text": [
        " fc viktoria plze\u0148  [Czech] Failed!\n",
        "Prediction: Spanish, Received: 1353, Trained: 549, Last-500 Accuracy: 0.696\n"
       ]
      },
      {
       "output_type": "stream",
       "stream": "stdout",
       "text": [
        " oxonium  [German] Failed!\n",
        "Prediction: French, Received: 1354, Trained: 550, Last-500 Accuracy: 0.694\n"
       ]
      },
      {
       "output_type": "stream",
       "stream": "stdout",
       "text": [
        " belfried saint elois  [German] Failed!\n",
        "Prediction: French, Received: 1355, Trained: 551, Last-500 Accuracy: 0.692\n"
       ]
      },
      {
       "output_type": "stream",
       "stream": "stdout",
       "text": [
        " \u0440\u043e\u0441\u0442\u0430\u043d \u0433\u0440\u0430\u0444 \u0436\u0438\u0440\u043e\u043d\u044b  [Russian] OK\n"
       ]
      },
      {
       "output_type": "stream",
       "stream": "stdout",
       "text": [
        " william carvalho  [French] Failed!\n",
        "Prediction: German, Received: 1357, Trained: 552, Last-500 Accuracy: 0.690\n"
       ]
      },
      {
       "output_type": "stream",
       "stream": "stdout",
       "text": [
        " \u30ab\u30d0\u30cd  [Japanese] OK\n"
       ]
      },
      {
       "output_type": "stream",
       "stream": "stdout",
       "text": [
        " cant\u00f3 d'argentr\u00e9  [Catalan] OK\n"
       ]
      },
      {
       "output_type": "stream",
       "stream": "stdout",
       "text": [
        " \u0441\u0430\u043c\u043e\u043b\u0451\u0442\u044b \u043c\u0443\u043b\u044c\u0442\u0444\u0438\u043b\u044c\u043c  [Russian] OK\n"
       ]
      },
      {
       "output_type": "stream",
       "stream": "stdout",
       "text": [
        " federica mogherini  [Italian] Failed!\n",
        "Prediction: German, Received: 1361, Trained: 553, Last-500 Accuracy: 0.692\n"
       ]
      },
      {
       "output_type": "stream",
       "stream": "stdout",
       "text": [
        " monniera stricta  [Swedish] OK\n"
       ]
      },
      {
       "output_type": "stream",
       "stream": "stdout",
       "text": [
        " colline de l\u00e9menc  [French] OK\n"
       ]
      },
      {
       "output_type": "stream",
       "stream": "stdout",
       "text": [
        " sacciolepis micrococca  [Swedish] OK\n"
       ]
      },
      {
       "output_type": "stream",
       "stream": "stdout",
       "text": [
        " \u0628\u064a \u0625\u0646 \u0633\u0628\u0648\u0631\u062a \u0627\u0644\u0641\u0631\u0646\u0633\u064a\u0629  [Arabic] OK\n"
       ]
      },
      {
       "output_type": "stream",
       "stream": "stdout",
       "text": [
        " hist\u00f2ria d'andorra  [Catalan] OK\n"
       ]
      },
      {
       "output_type": "stream",
       "stream": "stdout",
       "text": [
        " les tontons farceurs  [French] OK\n"
       ]
      },
      {
       "output_type": "stream",
       "stream": "stdout",
       "text": [
        " \u043a\u043e\u0440\u043e\u043b\u044c\u043a\u043e\u0432 \u0432\u043b\u0430\u0434\u0438\u043c\u0438\u0440 \u0430\u043b\u0435\u043a\u0441\u0430\u043d\u0434\u0440\u043e\u0432\u0438\u0447  [Russian] OK\n"
       ]
      },
      {
       "output_type": "stream",
       "stream": "stdout",
       "text": [
        " \u65e5\u672c\u306e\u706f\u53f050\u9078  [Japanese] OK\n"
       ]
      },
      {
       "output_type": "stream",
       "stream": "stdout",
       "text": [
        " cant\u00f3 d'argentr\u00e9 du plessis  [Catalan] OK\n"
       ]
      },
      {
       "output_type": "stream",
       "stream": "stdout",
       "text": [
        " nikon d7100  [Russian] Failed!\n",
        "Prediction: French, Received: 1371, Trained: 554, Last-500 Accuracy: 0.696\n"
       ]
      },
      {
       "output_type": "stream",
       "stream": "stdout",
       "text": [
        " sacciolepis myosuroides  [Swedish] OK\n"
       ]
      },
      {
       "output_type": "stream",
       "stream": "stdout",
       "text": [
        " \u0434\u043e\u0433\u0430 \u0435\u0432\u0433\u0435\u043d\u0438\u0439 \u0434\u043c\u0438\u0442\u0440\u0438\u0435\u0432\u0438\u0447  [Russian] OK\n"
       ]
      },
      {
       "output_type": "stream",
       "stream": "stdout",
       "text": [
        " the walking dead: season two  [Russian] Failed!\n",
        "Prediction: French, Received: 1374, Trained: 555, Last-500 Accuracy: 0.700\n"
       ]
      },
      {
       "output_type": "stream",
       "stream": "stdout",
       "text": [
        " \u0432\u043e\u0439\u043d\u0430  [Russian] OK\n"
       ]
      },
      {
       "output_type": "stream",
       "stream": "stdout",
       "text": [
        " no logo: el poder de las marcas  [Spanish] OK\n"
       ]
      },
      {
       "output_type": "stream",
       "stream": "stdout",
       "text": [
        " kimori toshiyuki  [Russian] Failed!\n",
        "Prediction: French, Received: 1377, Trained: 556, Last-500 Accuracy: 0.700\n"
       ]
      },
      {
       "output_type": "stream",
       "stream": "stdout",
       "text": [
        " ludwig van beethoven  [French] Failed!\n",
        "Prediction: German, Received: 1378, Trained: 557, Last-500 Accuracy: 0.700\n"
       ]
      },
      {
       "output_type": "stream",
       "stream": "stdout",
       "text": [
        " bacopa stricta  [Swedish] OK\n"
       ]
      },
      {
       "output_type": "stream",
       "stream": "stdout",
       "text": [
        " sacciolepis myuros  [Swedish] OK\n"
       ]
      },
      {
       "output_type": "stream",
       "stream": "stdout",
       "text": [
        " \u8d85\u51e0\u4f55\u51fd\u6570  [Chinese] OK\n"
       ]
      },
      {
       "output_type": "stream",
       "stream": "stdout",
       "text": [
        " fran\u00e7ois creton  [French] OK\n"
       ]
      },
      {
       "output_type": "stream",
       "stream": "stdout",
       "text": [
        " jean claude van damme  [French] OK\n"
       ]
      },
      {
       "output_type": "stream",
       "stream": "stdout",
       "text": [
        " courtney mathewson  [Swedish] Failed!\n",
        "Prediction: French, Received: 1384, Trained: 558, Last-500 Accuracy: 0.704\n"
       ]
      },
      {
       "output_type": "stream",
       "stream": "stdout",
       "text": [
        " fi rel\u00e9  [Hungarian] Failed!\n",
        "Prediction: German, Received: 1385, Trained: 559, Last-500 Accuracy: 0.702\n"
       ]
      },
      {
       "output_type": "stream",
       "stream": "stdout",
       "text": [
        " consenso desambiguaci\u00f3n  [Spanish] OK\n"
       ]
      },
      {
       "output_type": "stream",
       "stream": "stdout",
       "text": [
        " cristiano ronaldo  [Indonesian] Failed!\n",
        "Prediction: German, Received: 1387, Trained: 560, Last-500 Accuracy: 0.700\n"
       ]
      },
      {
       "output_type": "stream",
       "stream": "stdout",
       "text": [
        " \u5927\u97e9\u6c11\u56fd  [Chinese] OK\n"
       ]
      },
      {
       "output_type": "stream",
       "stream": "stdout",
       "text": [
        " air deccan  [Polish] Failed!\n",
        "Prediction: French, Received: 1389, Trained: 561, Last-500 Accuracy: 0.700\n"
       ]
      },
      {
       "output_type": "stream",
       "stream": "stdout",
       "text": [
        " pok\u00e9mon spiele  [German] OK\n"
       ]
      },
      {
       "output_type": "stream",
       "stream": "stdout",
       "text": [
        " \u9752\u6625\u6d3e  [Chinese] Failed!\n",
        "Prediction: Russian, Received: 1391, Trained: 562, Last-500 Accuracy: 0.700\n"
       ]
      },
      {
       "output_type": "stream",
       "stream": "stdout",
       "text": [
        " f\u00e9nycsatorna  [Hungarian] OK\n"
       ]
      },
      {
       "output_type": "stream",
       "stream": "stdout",
       "text": [
        " cant\u00f3 d'argueil  [Catalan] OK\n"
       ]
      },
      {
       "output_type": "stream",
       "stream": "stdout",
       "text": [
        " a gonosz \u00e1larca  [Hungarian] Failed!\n",
        "Prediction: Spanish, Received: 1394, Trained: 563, Last-500 Accuracy: 0.698\n"
       ]
      },
      {
       "output_type": "stream",
       "stream": "stdout",
       "text": [
        " antonio ferrara  [French] Failed!\n",
        "Prediction: Italian, Received: 1395, Trained: 564, Last-500 Accuracy: 0.696\n"
       ]
      },
      {
       "output_type": "stream",
       "stream": "stdout",
       "text": [
        " miguel ba\u00f1uz  [Dutch] Failed!\n",
        "Prediction: French, Received: 1396, Trained: 565, Last-500 Accuracy: 0.694\n"
       ]
      },
      {
       "output_type": "stream",
       "stream": "stdout",
       "text": [
        " \u30b8\u30e5\u30fc\u30f3\u30fb\u30a2\u30ea\u30bd\u30f3  [Japanese] OK\n"
       ]
      },
      {
       "output_type": "stream",
       "stream": "stdout",
       "text": [
        " ltv a 7 corsair ii  [Russian] Failed!\n",
        "Prediction: German, Received: 1398, Trained: 566, Last-500 Accuracy: 0.692\n"
       ]
      },
      {
       "output_type": "stream",
       "stream": "stdout",
       "text": [
        " diederik boer  [Dutch] Failed!\n",
        "Prediction: German, Received: 1399, Trained: 567, Last-500 Accuracy: 0.690\n"
       ]
      },
      {
       "output_type": "stream",
       "stream": "stdout",
       "text": [
        " domenico scarlatti  [Euskara] Failed!\n",
        "Prediction: Esperanto, Received: 1400, Trained: 568, Last-500 Accuracy: 0.688\n"
       ]
      },
      {
       "output_type": "stream",
       "stream": "stdout",
       "text": [
        " bilboko bandera  [Euskara] Failed!\n",
        "Prediction: German, Received: 1401, Trained: 569, Last-500 Accuracy: 0.688\n"
       ]
      },
      {
       "output_type": "stream",
       "stream": "stdout",
       "text": [
        "Ignoring class 30\n",
        " ingfried henze  [German] OK\n"
       ]
      },
      {
       "output_type": "stream",
       "stream": "stdout",
       "text": [
        " manuel bandeira  [Portuguese] Failed!\n",
        "Prediction: French, Received: 1404, Trained: 570, Last-500 Accuracy: 0.686\n"
       ]
      },
      {
       "output_type": "stream",
       "stream": "stdout",
       "text": [
        " stephen walt  [Swedish] Failed!\n",
        "Prediction: German, Received: 1405, Trained: 571, Last-500 Accuracy: 0.686\n"
       ]
      },
      {
       "output_type": "stream",
       "stream": "stdout",
       "text": [
        " kerncentrale embalse  [Dutch] Failed!\n",
        "Prediction: French, Received: 1406, Trained: 572, Last-500 Accuracy: 0.684\n"
       ]
      },
      {
       "output_type": "stream",
       "stream": "stdout",
       "text": [
        " cant\u00f3 d'arinthod  [Catalan] OK\n"
       ]
      },
      {
       "output_type": "stream",
       "stream": "stdout",
       "text": [
        " sanit\u00e4tsdienst heer  [German] OK\n"
       ]
      },
      {
       "output_type": "stream",
       "stream": "stdout",
       "text": [
        " exo  [Chinese] Failed!\n",
        "Prediction: French, Received: 1409, Trained: 573, Last-500 Accuracy: 0.684\n"
       ]
      },
      {
       "output_type": "stream",
       "stream": "stdout",
       "text": [
        " obi mikel  [Spanish] OK\n"
       ]
      },
      {
       "output_type": "stream",
       "stream": "stdout",
       "text": [
        " 2014\u5e74\u306e\u65e5\u672c\u7af6\u99ac  [Japanese] OK\n"
       ]
      },
      {
       "output_type": "stream",
       "stream": "stdout",
       "text": [
        " \u30a2\u30b9\u30bf\u30b3\u30a4\u30c7\u30b9\u30ce\u30b3\u30ae\u30ea\u30af\u30ef\u30ac\u30bf  [Japanese] OK\n"
       ]
      },
      {
       "output_type": "stream",
       "stream": "stdout",
       "text": [
        " \u043a\u0440\u0438\u0441\u0442\u043e\u0444\u044a\u0440 \u0444\u0430\u0443\u043b\u044a\u0440  [Bulgarian] Failed!\n",
        "Prediction: Russian, Received: 1413, Trained: 574, Last-500 Accuracy: 0.686\n"
       ]
      },
      {
       "output_type": "stream",
       "stream": "stdout",
       "text": [
        " italienisch \u00e4thiopischer krieg 1895\u20131896  [German] OK\n"
       ]
      },
      {
       "output_type": "stream",
       "stream": "stdout",
       "text": [
        " \u0447\u0435\u043c\u043f\u0438\u043e\u043d\u0430\u0442 \u0435\u0432\u0440\u043e\u043f\u044b \u043f\u043e \u0431\u0430\u0441\u043a\u0435\u0442\u0431\u043e\u043b\u0443 \u044e\u043d\u043e\u0448\u0438 \u0434\u043e 16 \u043b\u0435\u0442  [Russian] Failed!\n",
        "Prediction: Bulgarian, Received: 1415, Trained: 575, Last-500 Accuracy: 0.686\n"
       ]
      },
      {
       "output_type": "stream",
       "stream": "stdout",
       "text": [
        " adolph thiem  [German] Failed!\n",
        "Prediction: French, Received: 1416, Trained: 576, Last-500 Accuracy: 0.684\n"
       ]
      },
      {
       "output_type": "stream",
       "stream": "stdout",
       "text": [
        " \u897f\u91ce\u30ab\u30ca\u306e\u4f5c\u54c1  [Japanese] OK\n"
       ]
      },
      {
       "output_type": "stream",
       "stream": "stdout",
       "text": [
        " \u30b5\u30a4\u30b5\u30f3  [Japanese] OK\n"
       ]
      },
      {
       "output_type": "stream",
       "stream": "stdout",
       "text": [
        " \uc720\ubcd1\uc5b8  [Korean] OK\n"
       ]
      },
      {
       "output_type": "stream",
       "stream": "stdout",
       "text": [
        " auguste louis philippe emmanuel de cro\u00ff  [French] OK\n"
       ]
      },
      {
       "output_type": "stream",
       "stream": "stdout",
       "text": [
        " \u0438\u0432\u0430\u043d\u043e\u0432\u043e  [Russian] OK\n"
       ]
      },
      {
       "output_type": "stream",
       "stream": "stdout",
       "text": [
        " microtus cabrerae  [Catalan] Failed!\n",
        "Prediction: French, Received: 1422, Trained: 577, Last-500 Accuracy: 0.686\n"
       ]
      },
      {
       "output_type": "stream",
       "stream": "stdout",
       "text": [
        " \u05e4\u05dc\u05d8\u05d9\u05d4\u05d5 \u05d1\u05df \u05d1\u05e0\u05d9\u05d4\u05d5  [Hebrew] OK\n"
       ]
      },
      {
       "output_type": "stream",
       "stream": "stdout",
       "text": [
        " sacciolepis otachyrioides  [Swedish] OK\n"
       ]
      },
      {
       "output_type": "stream",
       "stream": "stdout",
       "text": [
        " pueri cantores  [German] Failed!\n",
        "Prediction: French, Received: 1425, Trained: 578, Last-500 Accuracy: 0.686\n"
       ]
      },
      {
       "output_type": "stream",
       "stream": "stdout",
       "text": [
        " avaleresses du moulin  [French] OK\n"
       ]
      },
      {
       "output_type": "stream",
       "stream": "stdout",
       "text": [
        " \u0430\u0439\u0433\u044b\u0440\u0436\u0430\u043b \u0432\u043e\u0441\u0442\u043e\u0447\u043d\u043e \u043a\u0430\u0437\u0430\u0445\u0441\u0442\u0430\u043d\u0441\u043a\u0430\u044f \u043e\u0431\u043b\u0430\u0441\u0442\u044c  [Russian] Failed!\n",
        "Prediction: Bulgarian, Received: 1427, Trained: 579, Last-500 Accuracy: 0.686\n"
       ]
      },
      {
       "output_type": "stream",
       "stream": "stdout",
       "text": [
        " cant\u00f3 d'arlanc  [Catalan] OK\n"
       ]
      },
      {
       "output_type": "stream",
       "stream": "stdout",
       "text": [
        " \u30db\u30bd\u30af\u30ef\u30ac\u30bf\u5c5e  [Japanese] OK\n"
       ]
      },
      {
       "output_type": "stream",
       "stream": "stdout",
       "text": [
        " interlands maltees voetbalelftal 1970 1979  [Dutch] OK\n"
       ]
      },
      {
       "output_type": "stream",
       "stream": "stdout",
       "text": [
        " d\u011bjiny um\u011bn\u00ed  [Czech] OK\n"
       ]
      },
      {
       "output_type": "stream",
       "stream": "stdout",
       "text": [
        " schweiz  [German] Failed!\n",
        "Prediction: French, Received: 1432, Trained: 580, Last-500 Accuracy: 0.684\n"
       ]
      },
      {
       "output_type": "stream",
       "stream": "stdout",
       "text": [
        " zamzam  [Indonesian] OK\n"
       ]
      },
      {
       "output_type": "stream",
       "stream": "stdout",
       "text": [
        " \u0645\u0646\u062a\u062e\u0628 \u0647\u0648\u0644\u0646\u062f\u0627 \u0644\u0643\u0631\u0629 \u0627\u0644\u0642\u062f\u0645  [Arabic] OK\n"
       ]
      },
      {
       "output_type": "stream",
       "stream": "stdout",
       "text": [
        " \u5317\u6d77\u9053\u30de\u30e9\u30bd\u30f3  [Japanese] OK\n"
       ]
      },
      {
       "output_type": "stream",
       "stream": "stdout",
       "text": [
        " jan du\u0161ek skladatel  [Czech] OK\n"
       ]
      },
      {
       "output_type": "stream",
       "stream": "stdout",
       "text": [
        " sacciolepis seslerioides  [Swedish] OK\n"
       ]
      },
      {
       "output_type": "stream",
       "stream": "stdout",
       "text": [
        " \u30a2\u30c3\u30b3\u306b\u304a\u307e\u304b\u305b!  [Japanese] OK\n"
       ]
      },
      {
       "output_type": "stream",
       "stream": "stdout",
       "text": [
        " avaleresses \u00e9lisabeth dahi\u00e9  [French] OK\n"
       ]
      },
      {
       "output_type": "stream",
       "stream": "stdout",
       "text": [
        " \u4e2d\u570b\uff0d\u5370\u5ea6\u95dc\u4fc2  [Chinese] OK\n"
       ]
      },
      {
       "output_type": "stream",
       "stream": "stdout",
       "text": [
        " coucy le ch\u00e2teau auffrique  [French] OK\n"
       ]
      },
      {
       "output_type": "stream",
       "stream": "stdout",
       "text": [
        " \u043f\u0435\u0440\u0435\u0432\u043e\u0434\u044b \u0431\u0438\u0431\u043b\u0438\u0438  [Russian] OK\n"
       ]
      },
      {
       "output_type": "stream",
       "stream": "stdout",
       "text": [
        " nemo schiffman  [French] OK\n"
       ]
      },
      {
       "output_type": "stream",
       "stream": "stdout",
       "text": [
        " ar\u00e1nyi egy\u00e9rtelm\u0171s\u00edt\u0151 lap  [Hungarian] Failed!\n",
        "Prediction: German, Received: 1444, Trained: 581, Last-500 Accuracy: 0.686\n"
       ]
      },
      {
       "output_type": "stream",
       "stream": "stdout",
       "text": [
        " \u043c\u0443\u0445\u0438\u043d \u0432\u043b\u0430\u0434\u0438\u043c\u0438\u0440 \u0432\u0438\u043a\u0442\u043e\u0440\u043e\u0432\u0438\u0447  [Russian] OK\n"
       ]
      },
      {
       "output_type": "stream",
       "stream": "stdout",
       "text": [
        " pewnej nocy w mongkoku  [Polish] Failed!\n",
        "Prediction: French, Received: 1446, Trained: 582, Last-500 Accuracy: 0.688\n"
       ]
      },
      {
       "output_type": "stream",
       "stream": "stdout",
       "text": [
        " coupe du monde de natation fina 2014  [French] OK\n"
       ]
      },
      {
       "output_type": "stream",
       "stream": "stdout",
       "text": [
        " ram\u00f3n beteta  [German] Failed!\n",
        "Prediction: Spanish, Received: 1448, Trained: 583, Last-500 Accuracy: 0.688\n"
       ]
      },
      {
       "output_type": "stream",
       "stream": "stdout",
       "text": [
        " deathlok  [Italian] OK\n"
       ]
      },
      {
       "output_type": "stream",
       "stream": "stdout",
       "text": [
        " sacciolepis striata  [Swedish] OK\n"
       ]
      },
      {
       "output_type": "stream",
       "stream": "stdout",
       "text": [
        "Ignoring class 30\n",
        " 1914  [Hungarian] Failed!\n",
        "Prediction: German, Received: 1452, Trained: 584, Last-500 Accuracy: 0.688\n"
       ]
      },
      {
       "output_type": "stream",
       "stream": "stdout",
       "text": [
        " kr\u00e1\u013eovsk\u00fd pal\u00e1c na bratislavskom hrade  [Slovak] Failed!\n",
        "Prediction: German, Received: 1453, Trained: 585, Last-500 Accuracy: 0.686\n"
       ]
      },
      {
       "output_type": "stream",
       "stream": "stdout",
       "text": [
        " \ud558\uba5c\ub978\uc758 \uc950\uc7a1\uc774  [Korean] OK\n"
       ]
      },
      {
       "output_type": "stream",
       "stream": "stdout",
       "text": [
        " layserotte  [Euskara] Failed!\n",
        "Prediction: German, Received: 1455, Trained: 586, Last-500 Accuracy: 0.686\n"
       ]
      },
      {
       "output_type": "stream",
       "stream": "stdout",
       "text": [
        " \u062e\u0631\u0645\u062f\u0634\u062a  [Farsi] Failed!\n",
        "Prediction: Arabic, Received: 1456, Trained: 587, Last-500 Accuracy: 0.684\n"
       ]
      },
      {
       "output_type": "stream",
       "stream": "stdout",
       "text": [
        " cant\u00f3 d'arle est  [Catalan] OK\n"
       ]
      },
      {
       "output_type": "stream",
       "stream": "stdout",
       "text": [
        " \u0431\u0440\u044f\u043d\u0441\u043a\u043e\u0435 \u0431\u0430\u0445\u0447\u0438\u0441\u0430\u0440\u0430\u0439\u0441\u043a\u0438\u0439 \u0440\u0430\u0439\u043e\u043d  [Russian] OK\n"
       ]
      },
      {
       "output_type": "stream",
       "stream": "stdout",
       "text": [
        " domenico scarlatti  [Italian] Failed!\n",
        "Prediction: Euskara, Received: 1459, Trained: 588, Last-500 Accuracy: 0.682\n"
       ]
      },
      {
       "output_type": "stream",
       "stream": "stdout",
       "text": [
        " indigo airlines  [Polish] Failed!\n",
        "Prediction: Italian, Received: 1460, Trained: 589, Last-500 Accuracy: 0.682\n"
       ]
      },
      {
       "output_type": "stream",
       "stream": "stdout",
       "text": [
        " jos\u00e9 mar\u00eda figueres  [Swedish] Failed!\n",
        "Prediction: French, Received: 1461, Trained: 590, Last-500 Accuracy: 0.680\n"
       ]
      },
      {
       "output_type": "stream",
       "stream": "stdout",
       "text": [
        " \u304a\u3068\u3081\u5ea7\u30ab\u30a4\u661f  [Japanese] OK\n"
       ]
      },
      {
       "output_type": "stream",
       "stream": "stdout",
       "text": [
        " chefresne  [Portuguese] OK\n"
       ]
      },
      {
       "output_type": "stream",
       "stream": "stdout",
       "text": [
        " sacciolepis tenuissima  [Swedish] OK\n"
       ]
      },
      {
       "output_type": "stream",
       "stream": "stdout",
       "text": [
        " hilfsgemeinschaft auf gegenseitigkeit der angeh\u00f6rigen der ehemaligen waffen ss  [German] OK\n"
       ]
      },
      {
       "output_type": "stream",
       "stream": "stdout",
       "text": [
        " hms n\u00e4cken  [Swedish] Failed!\n",
        "Prediction: German, Received: 1466, Trained: 591, Last-500 Accuracy: 0.682\n"
       ]
      },
      {
       "output_type": "stream",
       "stream": "stdout",
       "text": [
        " \u05de\u05d5\u05d0\u05e0\u05e1 \u05d3\u05d0\u05d1\u05d5\u05e8  [Hebrew] OK\n"
       ]
      },
      {
       "output_type": "stream",
       "stream": "stdout",
       "text": [
        " \u5c71\u7530\u8015\u7b70  [Japanese] Failed!\n",
        "Prediction: Chinese, Received: 1468, Trained: 592, Last-500 Accuracy: 0.684\n"
       ]
      },
      {
       "output_type": "stream",
       "stream": "stdout",
       "text": [
        " championnats de suisse de cyclisme sur route  [French] OK\n"
       ]
      },
      {
       "output_type": "stream",
       "stream": "stdout",
       "text": [
        "Ignoring class 30\n",
        " sacciolepis transbarbata  [Swedish] OK\n"
       ]
      },
      {
       "output_type": "stream",
       "stream": "stdout",
       "text": [
        " special boat service  [German] Failed!\n",
        "Prediction: French, Received: 1472, Trained: 593, Last-500 Accuracy: 0.682\n"
       ]
      },
      {
       "output_type": "stream",
       "stream": "stdout",
       "text": [
        " \u044f\u0432\u0440\u043e\u043d\u044c\u0433\u0430  [Russian] OK\n"
       ]
      },
      {
       "output_type": "stream",
       "stream": "stdout",
       "text": [
        " hondarribia arraun elkartea  [Euskara] Failed!\n",
        "Prediction: German, Received: 1474, Trained: 594, Last-500 Accuracy: 0.682\n"
       ]
      },
      {
       "output_type": "stream",
       "stream": "stdout",
       "text": [
        "Ignoring class 30\n",
        " \u0435\u0433\u0438\u0437\u043a\u044b\u0437\u044b\u043b  [Russian] OK\n"
       ]
      },
      {
       "output_type": "stream",
       "stream": "stdout",
       "text": [
        " sacciolepis typhura  [Swedish] OK\n"
       ]
      },
      {
       "output_type": "stream",
       "stream": "stdout",
       "text": [
        " \u662f\u5143\u4ecb  [Chinese] OK\n"
       ]
      },
      {
       "output_type": "stream",
       "stream": "stdout",
       "text": [
        " cant\u00f3 d'arle oest  [Catalan] OK\n"
       ]
      },
      {
       "output_type": "stream",
       "stream": "stdout",
       "text": [
        " bram van polen  [Dutch] OK\n"
       ]
      },
      {
       "output_type": "stream",
       "stream": "stdout",
       "text": [
        " \u0645\u0627\u0631\u0643\u0648 \u0631\u0648\u064a\u0633  [Arabic] OK\n"
       ]
      },
      {
       "output_type": "stream",
       "stream": "stdout",
       "text": [
        " eritrea \u00e4thiopien krieg  [German] OK\n"
       ]
      },
      {
       "output_type": "stream",
       "stream": "stdout",
       "text": [
        " jean rieul  [French] OK\n"
       ]
      },
      {
       "output_type": "stream",
       "stream": "stdout",
       "text": [
        " surf  [Dutch] Failed!\n",
        "Prediction: German, Received: 1484, Trained: 595, Last-500 Accuracy: 0.686\n"
       ]
      },
      {
       "output_type": "stream",
       "stream": "stdout",
       "text": [
        " dichterliebe  [French] Failed!\n",
        "Prediction: German, Received: 1485, Trained: 596, Last-500 Accuracy: 0.684\n"
       ]
      },
      {
       "output_type": "stream",
       "stream": "stdout",
       "text": [
        " luigi malice  [Italian] Failed!\n",
        "Prediction: French, Received: 1486, Trained: 597, Last-500 Accuracy: 0.684\n"
       ]
      },
      {
       "output_type": "stream",
       "stream": "stdout",
       "text": [
        " \u0645\u062d\u0645\u062f \u0623\u063a \u0643\u0627\u0648\u0635\u0646  [Arabic] OK\n"
       ]
      },
      {
       "output_type": "stream",
       "stream": "stdout",
       "text": [
        " sacciolepis viguieri  [Swedish] OK\n"
       ]
      },
      {
       "output_type": "stream",
       "stream": "stdout",
       "text": [
        " sin city: a dame to kill for  [Swedish] Failed!\n",
        "Prediction: French, Received: 1489, Trained: 598, Last-500 Accuracy: 0.682\n"
       ]
      },
      {
       "output_type": "stream",
       "stream": "stdout",
       "text": [
        " \u0627\u0644\u0643\u0644\u0627\u0633\u064a\u0643\u0648  [Arabic] OK\n"
       ]
      },
      {
       "output_type": "stream",
       "stream": "stdout",
       "text": [
        " l'eredit\u00e0 programma televisivo  [Italian] Failed!\n",
        "Prediction: Spanish, Received: 1491, Trained: 599, Last-500 Accuracy: 0.680\n"
       ]
      },
      {
       "output_type": "stream",
       "stream": "stdout",
       "text": [
        " pizza  [Portuguese] Failed!\n",
        "Prediction: Italian, Received: 1492, Trained: 600, Last-500 Accuracy: 0.678\n"
       ]
      },
      {
       "output_type": "stream",
       "stream": "stdout",
       "text": [
        " frise des comiques  [French] OK\n"
       ]
      },
      {
       "output_type": "stream",
       "stream": "stdout",
       "text": [
        " krzysztof kwiatkowski aktor  [Polish] OK\n"
       ]
      },
      {
       "output_type": "stream",
       "stream": "stdout",
       "text": [
        " sacciolepis vilvoides  [Swedish] OK\n"
       ]
      },
      {
       "output_type": "stream",
       "stream": "stdout",
       "text": [
        " \u0142awra poczajowska  [Polish] OK\n"
       ]
      },
      {
       "output_type": "stream",
       "stream": "stdout",
       "text": [
        " aspremontov letn\u00fd pal\u00e1c  [Slovak] Failed!\n",
        "Prediction: German, Received: 1497, Trained: 601, Last-500 Accuracy: 0.678\n"
       ]
      },
      {
       "output_type": "stream",
       "stream": "stdout",
       "text": [
        " opera italiana  [Italian] Failed!\n",
        "Prediction: Swedish, Received: 1498, Trained: 602, Last-500 Accuracy: 0.676\n"
       ]
      },
      {
       "output_type": "stream",
       "stream": "stdout",
       "text": [
        " alliance air  [Polish] Failed!\n",
        "Prediction: French, Received: 1499, Trained: 603, Last-500 Accuracy: 0.674\n"
       ]
      },
      {
       "output_type": "stream",
       "stream": "stdout",
       "text": [
        " cant\u00f3 d'arleux  [Catalan] OK\n"
       ]
      },
      {
       "output_type": "stream",
       "stream": "stdout",
       "text": [
        " \u30cf\u30d4\u30cd\u30b9\u30c1\u30e3\u30fc\u30b8\u30d7\u30ea\u30ad\u30e5\u30a2!  [Japanese] OK\n"
       ]
      },
      {
       "output_type": "stream",
       "stream": "stdout",
       "text": [
        " liste des guerres d'isra\u00ebl  [French] OK\n"
       ]
      },
      {
       "output_type": "stream",
       "stream": "stdout",
       "text": [
        " callitriche  [Swedish] Failed!\n",
        "Prediction: German, Received: 1503, Trained: 604, Last-500 Accuracy: 0.672\n"
       ]
      },
      {
       "output_type": "stream",
       "stream": "stdout",
       "text": [
        " k\u00f6rfez sava\u015f\u0131  [Turkish] Failed!\n",
        "Prediction: German, Received: 1504, Trained: 605, Last-500 Accuracy: 0.670\n"
       ]
      },
      {
       "output_type": "stream",
       "stream": "stdout",
       "text": [
        " \u0645\u0631\u062f\u0645\u200c\u0633\u0627\u0644\u0627\u0631\u06cc \u0633\u0648\u0634\u06cc\u0627\u0644  [Farsi] OK\n"
       ]
      },
      {
       "output_type": "stream",
       "stream": "stdout",
       "text": [
        " luis mart\u00edn gil  [Spanish] OK\n"
       ]
      },
      {
       "output_type": "stream",
       "stream": "stdout",
       "text": [
        " 31 ao\u00fbt en sport  [French] Failed!\n",
        "Prediction: German, Received: 1507, Trained: 606, Last-500 Accuracy: 0.672\n"
       ]
      },
      {
       "output_type": "stream",
       "stream": "stdout",
       "text": [
        " saccobasis polita  [Swedish] OK\n"
       ]
      },
      {
       "output_type": "stream",
       "stream": "stdout",
       "text": [
        " \u0441\u043e\u0432\u0440\u0435\u043c\u0435\u043d\u043d\u043e\u0435 \u0438\u0441\u043a\u0443\u0441\u0441\u0442\u0432\u043e \u0438 \u043e\u0431\u0440\u0430\u0437\u043e\u0432\u0430\u043d\u0438\u0435 \u043c\u0443\u0437\u044b \u043c\u0438\u0440\u0430  [Russian] OK\n"
       ]
      },
      {
       "output_type": "stream",
       "stream": "stdout",
       "text": [
        " og\u00f3lnopolski festiwal piosenki im. bogus\u0142awa klimczuka  [Polish] OK\n"
       ]
      },
      {
       "output_type": "stream",
       "stream": "stdout",
       "text": [
        " \ub300\ud55c\ubbfc\uad6d \ubbfc\ubc95 \uc81c764\uc870  [Korean] OK\n"
       ]
      },
      {
       "output_type": "stream",
       "stream": "stdout",
       "text": [
        " la gu\u00e9ville  [French] OK\n"
       ]
      },
      {
       "output_type": "stream",
       "stream": "stdout",
       "text": [
        " les copains d'abord album  [French] OK\n"
       ]
      },
      {
       "output_type": "stream",
       "stream": "stdout",
       "text": [
        " l\u00e5nkar v\u00e4xter  [Swedish] Failed!\n",
        "Prediction: Dutch, Received: 1514, Trained: 607, Last-500 Accuracy: 0.674\n"
       ]
      },
      {
       "output_type": "stream",
       "stream": "stdout",
       "text": [
        "Ignoring class 30\n",
        "Ignoring class 30\n",
        " policyjna opowie\u015b\u0107  [Polish] OK\n"
       ]
      },
      {
       "output_type": "stream",
       "stream": "stdout",
       "text": [
        " \u0438\u0441\u0442\u043e\u0440\u0438\u044f \u0432\u0430\u0440\u0448\u0430\u0432\u044b  [Russian] OK\n"
       ]
      },
      {
       "output_type": "stream",
       "stream": "stdout",
       "text": [
        " karthago  [Swedish] OK\n"
       ]
      },
      {
       "output_type": "stream",
       "stream": "stdout",
       "text": [
        " \u0436\u0438\u043b\u0430\u043d\u0434\u044b \u0432\u043e\u0441\u0442\u043e\u0447\u043d\u043e \u043a\u0430\u0437\u0430\u0445\u0441\u0442\u0430\u043d\u0441\u043a\u0430\u044f \u043e\u0431\u043b\u0430\u0441\u0442\u044c  [Russian] OK\n"
       ]
      },
      {
       "output_type": "stream",
       "stream": "stdout",
       "text": [
        " exo  [Chinese] OK\n"
       ]
      },
      {
       "output_type": "stream",
       "stream": "stdout",
       "text": [
        " cant\u00f3 d'armenti\u00e8res  [Catalan] OK\n"
       ]
      },
      {
       "output_type": "stream",
       "stream": "stdout",
       "text": [
        " bistum ibiza  [German] OK\n"
       ]
      },
      {
       "output_type": "stream",
       "stream": "stdout",
       "text": [
        " jan walc  [Polish] Failed!\n",
        "Prediction: French, Received: 1524, Trained: 608, Last-500 Accuracy: 0.674\n"
       ]
      },
      {
       "output_type": "stream",
       "stream": "stdout",
       "text": [
        " sindernbach  [German] OK\n"
       ]
      },
      {
       "output_type": "stream",
       "stream": "stdout",
       "text": [
        " \u5929\u4e3b\u6559\u5d07\u5fb7\u82f1\u6587\u66f8\u9662  [Chinese] OK\n"
       ]
      },
      {
       "output_type": "stream",
       "stream": "stdout",
       "text": [
        " ascain  [French] OK\n"
       ]
      },
      {
       "output_type": "stream",
       "stream": "stdout",
       "text": [
        " \u6771\u4eac\u58f0\u512a\u30a2\u30ab\u30c7\u30df\u30fc  [Japanese] OK\n"
       ]
      },
      {
       "output_type": "stream",
       "stream": "stdout",
       "text": [
        " danielle campbell  [French] OK\n"
       ]
      },
      {
       "output_type": "stream",
       "stream": "stdout",
       "text": [
        " hans zimmer  [Hungarian] OK\n"
       ]
      },
      {
       "output_type": "stream",
       "stream": "stdout",
       "text": [
        " henri barb\u00e9  [French] Failed!\n",
        "Prediction: German, Received: 1531, Trained: 609, Last-500 Accuracy: 0.680\n"
       ]
      },
      {
       "output_type": "stream",
       "stream": "stdout",
       "text": [
        " \u0442\u0435\u0440\u0440\u0430\u0441\u0430 \u043d\u0430 \u043f\u0440\u043e\u0441\u043f\u0435\u043a\u0442\u0435 25 \u0433\u043e \u043e\u043a\u0442\u044f\u0431\u0440\u044f  [Russian] OK\n"
       ]
      },
      {
       "output_type": "stream",
       "stream": "stdout",
       "text": [
        " \u0627\u0644\u0639\u0631\u0642 \u0627\u0644\u0639\u0631\u0628\u064a  [Arabic] OK\n"
       ]
      },
      {
       "output_type": "stream",
       "stream": "stdout",
       "text": [
        " gairah binal  [Indonesian] Failed!\n",
        "Prediction: German, Received: 1534, Trained: 610, Last-500 Accuracy: 0.678\n"
       ]
      },
      {
       "output_type": "stream",
       "stream": "stdout",
       "text": [
        " eritreischer unabh\u00e4ngigkeitskrieg  [German] OK\n"
       ]
      },
      {
       "output_type": "stream",
       "stream": "stdout",
       "text": [
        " arluno  [Italian] OK\n"
       ]
      },
      {
       "output_type": "stream",
       "stream": "stdout",
       "text": [
        " \u043c\u0443\u0437\u0438\u043a\u0430\u043d\u0442  [Ukrainian] Failed!\n",
        "Prediction: Russian, Received: 1537, Trained: 611, Last-500 Accuracy: 0.678\n"
       ]
      },
      {
       "output_type": "stream",
       "stream": "stdout",
       "text": [
        " bahnhof aachen west  [German] OK\n"
       ]
      },
      {
       "output_type": "stream",
       "stream": "stdout",
       "text": [
        " avaleresses ponchelet  [French] OK\n"
       ]
      },
      {
       "output_type": "stream",
       "stream": "stdout",
       "text": [
        " noisecontrollers  [German] OK\n"
       ]
      },
      {
       "output_type": "stream",
       "stream": "stdout",
       "text": [
        " dschiwan gasparjan  [German] OK\n"
       ]
      },
      {
       "output_type": "stream",
       "stream": "stdout",
       "text": [
        " cant\u00f3 d'arnay le duc  [Catalan] OK\n"
       ]
      },
      {
       "output_type": "stream",
       "stream": "stdout",
       "text": [
        " cristobal fernandez de vallodolid  [French] Failed!\n",
        "Prediction: German, Received: 1543, Trained: 612, Last-500 Accuracy: 0.678\n"
       ]
      },
      {
       "output_type": "stream",
       "stream": "stdout",
       "text": [
        " peter szvidler  [Hungarian] Failed!\n",
        "Prediction: Swedish, Received: 1544, Trained: 613, Last-500 Accuracy: 0.676\n"
       ]
      },
      {
       "output_type": "stream",
       "stream": "stdout",
       "text": [
        " association des donneurs de voix  [French] OK\n"
       ]
      },
      {
       "output_type": "stream",
       "stream": "stdout",
       "text": [
        " atletica leggera ai vi giochi del mediterraneo  [Italian] Failed!\n",
        "Prediction: Swedish, Received: 1546, Trained: 614, Last-500 Accuracy: 0.676\n"
       ]
      },
      {
       "output_type": "stream",
       "stream": "stdout",
       "text": [
        " j\u00e9r\u00e9my huyghebaert  [Dutch] Failed!\n",
        "Prediction: French, Received: 1547, Trained: 615, Last-500 Accuracy: 0.674\n"
       ]
      },
      {
       "output_type": "stream",
       "stream": "stdout",
       "text": [
        " 737  [Italian] Failed!\n",
        "Prediction: Chinese, Received: 1548, Trained: 616, Last-500 Accuracy: 0.674\n"
       ]
      },
      {
       "output_type": "stream",
       "stream": "stdout",
       "text": [
        " real club deportivo mallorca  [Spanish] OK\n"
       ]
      },
      {
       "output_type": "stream",
       "stream": "stdout",
       "text": [
        " \u4eca\u4e95\u9ebb\u7f8e  [Japanese] Failed!\n",
        "Prediction: Chinese, Received: 1550, Trained: 617, Last-500 Accuracy: 0.672\n"
       ]
      },
      {
       "output_type": "stream",
       "stream": "stdout",
       "text": [
        " policyjna opowie\u015b\u0107 4: projekt s  [Polish] OK\n"
       ]
      },
      {
       "output_type": "stream",
       "stream": "stdout",
       "text": [
        " \u0644\u0627\u06a9\u062a\u0627\u062a \u062f\u0647\u06cc\u062f\u0631\u0648\u0698\u0646\u0627\u0632  [Farsi] OK\n"
       ]
      },
      {
       "output_type": "stream",
       "stream": "stdout",
       "text": [
        " callitriche alata  [Swedish] OK\n"
       ]
      },
      {
       "output_type": "stream",
       "stream": "stdout",
       "text": [
        " gare de dreux  [French] OK\n"
       ]
      },
      {
       "output_type": "stream",
       "stream": "stdout",
       "text": [
        " mistrovstv\u00ed sv\u011bta v alpsk\u00e9m ly\u017eov\u00e1n\u00ed 2011 slalom \u017een  [Czech] Failed!\n",
        "Prediction: Dutch, Received: 1555, Trained: 618, Last-500 Accuracy: 0.674\n"
       ]
      },
      {
       "output_type": "stream",
       "stream": "stdout",
       "text": [
        " liste der kreisstra\u00dfen im kreis borken  [German] OK\n"
       ]
      },
      {
       "output_type": "stream",
       "stream": "stdout",
       "text": [
        " bart van hintum  [Dutch] OK\n"
       ]
      },
      {
       "output_type": "stream",
       "stream": "stdout",
       "text": [
        " \u0441\u0442\u0443\u043f\u043a\u0430 \u043e\u0441\u0442\u0430\u043f \u0431\u043e\u0433\u0434\u0430\u043d\u043e\u0432\u0438\u0447  [Ukrainian] OK\n"
       ]
      },
      {
       "output_type": "stream",
       "stream": "stdout",
       "text": [
        " gretchen am spinnrade  [French] Failed!\n",
        "Prediction: German, Received: 1559, Trained: 619, Last-500 Accuracy: 0.676\n"
       ]
      },
      {
       "output_type": "stream",
       "stream": "stdout",
       "text": [
        " liste der kreisstra\u00dfen im kreis coesfeld  [German] OK\n"
       ]
      },
      {
       "output_type": "stream",
       "stream": "stdout",
       "text": [
        " wapen van beuningen  [Dutch] OK\n"
       ]
      },
      {
       "output_type": "stream",
       "stream": "stdout",
       "text": [
        " dorotea di danimarca disambigua  [Italian] OK\n"
       ]
      },
      {
       "output_type": "stream",
       "stream": "stdout",
       "text": [
        " avaleresses point du jour  [French] OK\n"
       ]
      },
      {
       "output_type": "stream",
       "stream": "stdout",
       "text": [
        " rei\u00dfeck h\u00f6henbahn  [German] OK\n"
       ]
      },
      {
       "output_type": "stream",
       "stream": "stdout",
       "text": [
        " polnischer fu\u00dfballpokal 1984/85  [German] OK\n"
       ]
      },
      {
       "output_type": "stream",
       "stream": "stdout",
       "text": [
        "Ignoring class 30\n",
        " \u0444\u0430\u0432\u043e\u0440\u0441\u043a\u0438\u0439 \u0441\u0432\u0435\u0442  [Russian] OK\n"
       ]
      },
      {
       "output_type": "stream",
       "stream": "stdout",
       "text": [
        " cant\u00f3 d'arpajon  [Catalan] OK\n"
       ]
      },
      {
       "output_type": "stream",
       "stream": "stdout",
       "text": [
        " \u0441\u0430\u0437\u043e\u043d\u043e\u0432 \u0430\u043b\u0435\u043a\u0441\u0435\u0439 \u0444\u0451\u0434\u043e\u0440\u043e\u0432\u0438\u0447  [Russian] OK\n"
       ]
      },
      {
       "output_type": "stream",
       "stream": "stdout",
       "text": [
        " aspartame  [Indonesian] Failed!\n",
        "Prediction: French, Received: 1570, Trained: 620, Last-500 Accuracy: 0.678\n"
       ]
      },
      {
       "output_type": "stream",
       "stream": "stdout",
       "text": [
        " dronningm\u00f8lle station  [Danish] OK\n"
       ]
      },
      {
       "output_type": "stream",
       "stream": "stdout",
       "text": [
        " johann christian g\u00f6tze  [German] OK\n"
       ]
      },
      {
       "output_type": "stream",
       "stream": "stdout",
       "text": [
        " callitriche albomarginata  [Swedish] Failed!\n",
        "Prediction: French, Received: 1573, Trained: 621, Last-500 Accuracy: 0.678\n"
       ]
      },
      {
       "output_type": "stream",
       "stream": "stdout",
       "text": [
        " ao\u00fbt 2008  [French] OK\n"
       ]
      },
      {
       "output_type": "stream",
       "stream": "stdout",
       "text": [
        " lisa carrington  [Italian] Failed!\n",
        "Prediction: French, Received: 1575, Trained: 622, Last-500 Accuracy: 0.678\n"
       ]
      },
      {
       "output_type": "stream",
       "stream": "stdout",
       "text": [
        " robert van koesveld  [Dutch] OK\n"
       ]
      },
      {
       "output_type": "stream",
       "stream": "stdout",
       "text": [
        " sp\u00e4her  [German] OK\n"
       ]
      },
      {
       "output_type": "stream",
       "stream": "stdout",
       "text": [
        " \u05d1\u05d9\u05d1\u05e8\u05e1 \u05e0\u05d0\u05ea\u05db\u05d5  [Hebrew] OK\n"
       ]
      },
      {
       "output_type": "stream",
       "stream": "stdout",
       "text": [
        " beffroi de dunkerque  [German] Failed!\n",
        "Prediction: French, Received: 1579, Trained: 623, Last-500 Accuracy: 0.680\n"
       ]
      },
      {
       "output_type": "stream",
       "stream": "stdout",
       "text": [
        " \u0645\u0642\u0627\u0648\u0645\u0629 \u0627\u0644\u0637\u0648\u0627\u0631\u0642 \u0644\u0644\u0627\u0633\u062a\u0639\u0645\u0627\u0631 \u0627\u0644\u0641\u0631\u0646\u0633\u064a  [Arabic] OK\n"
       ]
      },
      {
       "output_type": "stream",
       "stream": "stdout",
       "text": [
        " hist\u00f2ria d'andorra  [Catalan] OK\n"
       ]
      },
      {
       "output_type": "stream",
       "stream": "stdout",
       "text": [
        " michal eli\u00e1\u0161  [Slovak] Failed!\n",
        "Prediction: Swedish, Received: 1582, Trained: 624, Last-500 Accuracy: 0.680\n"
       ]
      },
      {
       "output_type": "stream",
       "stream": "stdout",
       "text": [
        " air india express  [Polish] OK\n"
       ]
      },
      {
       "output_type": "stream",
       "stream": "stdout",
       "text": [
        " martin henry fischer  [German] Failed!\n",
        "Prediction: Swedish, Received: 1584, Trained: 625, Last-500 Accuracy: 0.680\n"
       ]
      },
      {
       "output_type": "stream",
       "stream": "stdout",
       "text": [
        " deathlok  [Italian] OK\n"
       ]
      },
      {
       "output_type": "stream",
       "stream": "stdout",
       "text": [
        " homo heidelbergensis  [Czech] Failed!\n",
        "Prediction: German, Received: 1586, Trained: 626, Last-500 Accuracy: 0.678\n"
       ]
      },
      {
       "output_type": "stream",
       "stream": "stdout",
       "text": [
        " sanit\u00e4tsdienst heer  [German] OK\n"
       ]
      },
      {
       "output_type": "stream",
       "stream": "stdout",
       "text": [
        " \u043a\u0440\u0438\u0441\u0442\u043e\u0444\u044a\u0440 \u0444\u0430\u0443\u043b\u044a\u0440  [Bulgarian] OK\n"
       ]
      },
      {
       "output_type": "stream",
       "stream": "stdout",
       "text": [
        " 31 ao\u00fbt en sport  [French] OK\n"
       ]
      },
      {
       "output_type": "stream",
       "stream": "stdout",
       "text": [
        " callitriche anisoptera  [Swedish] OK\n"
       ]
      },
      {
       "output_type": "stream",
       "stream": "stdout",
       "text": [
        " liste der kulturg\u00fcter in egg zh  [German] OK\n"
       ]
      },
      {
       "output_type": "stream",
       "stream": "stdout",
       "text": [
        " liste der kreisstra\u00dfen im kreis d\u00fcren  [German] OK\n"
       ]
      },
      {
       "output_type": "stream",
       "stream": "stdout",
       "text": [
        " \ub300\ud55c\ubbfc\uad6d \ubbfc\ubc95 \uc81c764\uc870  [Korean] OK\n"
       ]
      },
      {
       "output_type": "stream",
       "stream": "stdout",
       "text": [
        " cant\u00f3 d'arpajon de cera  [Catalan] OK\n"
       ]
      },
      {
       "output_type": "stream",
       "stream": "stdout",
       "text": [
        " bubba watson  [Italian] Failed!\n",
        "Prediction: German, Received: 1595, Trained: 627, Last-500 Accuracy: 0.682\n"
       ]
      },
      {
       "output_type": "stream",
       "stream": "stdout",
       "text": [
        " der hirt auf dem felsen  [French] OK\n"
       ]
      },
      {
       "output_type": "stream",
       "stream": "stdout",
       "text": [
        " wadelincourt ardennes  [French] Failed!\n",
        "Prediction: Swedish, Received: 1597, Trained: 628, Last-500 Accuracy: 0.682\n"
       ]
      },
      {
       "output_type": "stream",
       "stream": "stdout",
       "text": [
        " callitriche antarctica  [Swedish] OK\n"
       ]
      },
      {
       "output_type": "stream",
       "stream": "stdout",
       "text": [
        " xviii secolo  [Italian] OK\n"
       ]
      },
      {
       "output_type": "stream",
       "stream": "stdout",
       "text": [
        "Ignoring class 30\n",
        " f\u00e9nycsatorna  [Hungarian] OK"
       ]
      },
      {
       "output_type": "stream",
       "stream": "stdout",
       "text": [
        "\n"
       ]
      },
      {
       "output_type": "stream",
       "stream": "stdout",
       "text": [
        " \u30e0\u30ea\u30ad \u30b5\u30c3\u30ab\u30fc\u9078\u624b  [Japanese] OK\n"
       ]
      },
      {
       "output_type": "stream",
       "stream": "stdout",
       "text": [
        " artpop  [Hungarian] Failed!\n",
        "Prediction: French, Received: 1603, Trained: 629, Last-500 Accuracy: 0.682\n"
       ]
      },
      {
       "output_type": "stream",
       "stream": "stdout",
       "text": [
        " timon von phleius  [German] Failed!\n",
        "Prediction: French, Received: 1604, Trained: 630, Last-500 Accuracy: 0.680\n"
       ]
      },
      {
       "output_type": "stream",
       "stream": "stdout",
       "text": [
        " patsy nakell  [Swedish] OK\n"
       ]
      },
      {
       "output_type": "stream",
       "stream": "stdout",
       "text": [
        " malattia itai itai  [Italian] OK\n"
       ]
      },
      {
       "output_type": "stream",
       "stream": "stdout",
       "text": [
        " siegfried altmann  [German] OK\n"
       ]
      },
      {
       "output_type": "stream",
       "stream": "stdout",
       "text": [
        " \u89aa\u5b66\u63a8\u9032\u5354\u4f1a  [Japanese] Failed!\n",
        "Prediction: Chinese, Received: 1608, Trained: 631, Last-500 Accuracy: 0.680\n"
       ]
      },
      {
       "output_type": "stream",
       "stream": "stdout",
       "text": [
        " trauma psychologie  [German] OK\n"
       ]
      },
      {
       "output_type": "stream",
       "stream": "stdout",
       "text": [
        " holy fashion group  [German] Failed!\n",
        "Prediction: French, Received: 1610, Trained: 632, Last-500 Accuracy: 0.682\n"
       ]
      },
      {
       "output_type": "stream",
       "stream": "stdout",
       "text": [
        " \u5927\u5716\u66f8\u9928\u7684\u7267\u7f8a\u4eba  [Chinese] OK\n"
       ]
      },
      {
       "output_type": "stream",
       "stream": "stdout",
       "text": [
        " carol reed  [German] OK\n"
       ]
      },
      {
       "output_type": "stream",
       "stream": "stdout",
       "text": [
        " miamisburg  [French] OK\n"
       ]
      },
      {
       "output_type": "stream",
       "stream": "stdout",
       "text": [
        " pal\u00e1c mote\u0161ick\u00fdch  [Slovak] OK\n"
       ]
      },
      {
       "output_type": "stream",
       "stream": "stdout",
       "text": [
        " \u674e\u570b\u6bc5  [Chinese] OK\n"
       ]
      },
      {
       "output_type": "stream",
       "stream": "stdout",
       "text": [
        " callitriche aucklandica  [Swedish] OK\n"
       ]
      },
      {
       "output_type": "stream",
       "stream": "stdout",
       "text": [
        " saccoglossum  [Swedish] OK\n"
       ]
      },
      {
       "output_type": "stream",
       "stream": "stdout",
       "text": [
        " cant\u00f3 d'arques  [Catalan] OK\n"
       ]
      },
      {
       "output_type": "stream",
       "stream": "stdout",
       "text": [
        " chancelade  [French] OK\n"
       ]
      },
      {
       "output_type": "stream",
       "stream": "stdout",
       "text": [
        " luuk de jong  [Dutch] Failed!\n",
        "Prediction: French, Received: 1620, Trained: 633, Last-500 Accuracy: 0.690\n"
       ]
      },
      {
       "output_type": "stream",
       "stream": "stdout",
       "text": [
        " segundo viaje del hms beagle  [Spanish] Failed!\n",
        "Prediction: French, Received: 1621, Trained: 634, Last-500 Accuracy: 0.690\n"
       ]
      },
      {
       "output_type": "stream",
       "stream": "stdout",
       "text": [
        " \u0431\u0435\u043b\u044b\u0435 \u0446\u044b\u043f\u043e\u0447\u043a\u0438  [Russian] OK\n"
       ]
      },
      {
       "output_type": "stream",
       "stream": "stdout",
       "text": [
        " sophistes  [German] OK\n"
       ]
      },
      {
       "output_type": "stream",
       "stream": "stdout",
       "text": [
        " callitriche bolusiana  [Swedish] OK\n"
       ]
      },
      {
       "output_type": "stream",
       "stream": "stdout",
       "text": [
        " \u05e4\u05dc\u05d8\u05d9\u05d4\u05d5 \u05d1\u05df \u05d1\u05e0\u05d9\u05d4\u05d5  [Hebrew] OK\n"
       ]
      },
      {
       "output_type": "stream",
       "stream": "stdout",
       "text": [
        "Ignoring class 30\n",
        " \u9811\u5f35\u308c\u65e5\u672c!\u5168\u56fd\u884c\u52d5\u59d4\u54e1\u4f1a  [Japanese] OK\n"
       ]
      },
      {
       "output_type": "stream",
       "stream": "stdout",
       "text": [
        " bogdan chazan  [Polish] Failed!\n",
        "Prediction: German, Received: 1628, Trained: 635, Last-500 Accuracy: 0.692\n"
       ]
      },
      {
       "output_type": "stream",
       "stream": "stdout",
       "text": [
        " \u0686\u0627\u0631\u0644\u06cc \u067e\u0627\u0631\u06a9\u0631  [Farsi] OK\n"
       ]
      },
      {
       "output_type": "stream",
       "stream": "stdout",
       "text": [
        " \u00e1ngel di mar\u00eda  [French] Failed!\n",
        "Prediction: Dutch, Received: 1630, Trained: 636, Last-500 Accuracy: 0.692\n"
       ]
      },
      {
       "output_type": "stream",
       "stream": "stdout",
       "text": [
        " mariano armend\u00e1riz del castillo  [German] Failed!\n",
        "Prediction: Spanish, Received: 1631, Trained: 637, Last-500 Accuracy: 0.692\n"
       ]
      },
      {
       "output_type": "stream",
       "stream": "stdout",
       "text": [
        "Ignoring class 30\n",
        " saccoglossum lanceolatum  [Swedish] OK\n"
       ]
      },
      {
       "output_type": "stream",
       "stream": "stdout",
       "text": [
        " thomas lam  [Dutch] Failed!\n",
        "Prediction: German, Received: 1634, Trained: 638, Last-500 Accuracy: 0.690\n"
       ]
      },
      {
       "output_type": "stream",
       "stream": "stdout",
       "text": [
        " \u795e\u5175\u7384\u5947  [Chinese] OK\n"
       ]
      },
      {
       "output_type": "stream",
       "stream": "stdout",
       "text": [
        " \u0645\u0642\u0627\u0648\u0645\u0629 \u0627\u0644\u0637\u0648\u0627\u0631\u0642 \u0644\u0644\u0627\u0633\u062a\u0639\u0645\u0627\u0631 \u0627\u0644\u0641\u0631\u0646\u0633\u064a  [Arabic] OK\n"
       ]
      },
      {
       "output_type": "stream",
       "stream": "stdout",
       "text": [
        " seth gueko  [French] Failed!\n",
        "Prediction: Italian, Received: 1637, Trained: 639, Last-500 Accuracy: 0.692\n"
       ]
      },
      {
       "output_type": "stream",
       "stream": "stdout",
       "text": [
        " hertha bsc  [Polish] Failed!\n",
        "Prediction: German, Received: 1638, Trained: 640, Last-500 Accuracy: 0.692\n"
       ]
      },
      {
       "output_type": "stream",
       "stream": "stdout",
       "text": [
        " \u00f6ris  [Swedish] Failed!\n",
        "Prediction: German, Received: 1639, Trained: 641, Last-500 Accuracy: 0.692\n"
       ]
      },
      {
       "output_type": "stream",
       "stream": "stdout",
       "text": [
        " le petit dinosaure et la vall\u00e9e des merveilles  [French] OK\n"
       ]
      },
      {
       "output_type": "stream",
       "stream": "stdout",
       "text": [
        " nostradamus  [Polish] Failed!\n",
        "Prediction: Dutch, Received: 1641, Trained: 642, Last-500 Accuracy: 0.690\n"
       ]
      },
      {
       "output_type": "stream",
       "stream": "stdout",
       "text": [
        " die sch\u00f6ne m\u00fcllerin  [French] Failed!\n",
        "Prediction: German, Received: 1642, Trained: 643, Last-500 Accuracy: 0.688\n"
       ]
      },
      {
       "output_type": "stream",
       "stream": "stdout",
       "text": [
        " episodi di hawaii five 0 quarta stagione  [Italian] OK\n"
       ]
      },
      {
       "output_type": "stream",
       "stream": "stdout",
       "text": [
        " motomondiale 2014  [Italian] Failed!\n",
        "Prediction: German, Received: 1644, Trained: 644, Last-500 Accuracy: 0.686\n"
       ]
      },
      {
       "output_type": "stream",
       "stream": "stdout",
       "text": [
        " lou ! journal infime  [French] OK\n"
       ]
      },
      {
       "output_type": "stream",
       "stream": "stdout",
       "text": [
        " \u8d85\u51e0\u4f55\u51fd\u6570  [Chinese] OK\n"
       ]
      },
      {
       "output_type": "stream",
       "stream": "stdout",
       "text": [
        " pflegebed\u00fcrftigkeit  [German] Failed!\n",
        "Prediction: Dutch, Received: 1647, Trained: 645, Last-500 Accuracy: 0.684\n"
       ]
      },
      {
       "output_type": "stream",
       "stream": "stdout",
       "text": [
        " callitriche bolusii  [Swedish] OK\n"
       ]
      },
      {
       "output_type": "stream",
       "stream": "stdout",
       "text": [
        " saccoglossum maculatum  [Swedish] OK\n"
       ]
      },
      {
       "output_type": "stream",
       "stream": "stdout",
       "text": [
        " \u30dd\u30b9\u30c8\u30b7\u30fc\u30ba\u30f3  [Japanese] OK\n"
       ]
      },
      {
       "output_type": "stream",
       "stream": "stdout",
       "text": [
        " constantin savitski  [French] OK\n"
       ]
      },
      {
       "output_type": "stream",
       "stream": "stdout",
       "text": [
        " region skopje  [German] OK\n"
       ]
      },
      {
       "output_type": "stream",
       "stream": "stdout",
       "text": [
        " cant\u00f3 d'arracourt  [Catalan] OK\n"
       ]
      },
      {
       "output_type": "stream",
       "stream": "stdout",
       "text": [
        " lista \u00f6ver ub\u00e5tsklasser  [Swedish] Failed!\n",
        "Prediction: German, Received: 1654, Trained: 646, Last-500 Accuracy: 0.692\n"
       ]
      },
      {
       "output_type": "stream",
       "stream": "stdout",
       "text": [
        " tallboda  [Swedish] Failed!\n",
        "Prediction: German, Received: 1655, Trained: 647, Last-500 Accuracy: 0.690\n"
       ]
      },
      {
       "output_type": "stream",
       "stream": "stdout",
       "text": [
        " antonio carafa  [Esperanto] OK\n"
       ]
      },
      {
       "output_type": "stream",
       "stream": "stdout",
       "text": [
        " \ud0c4\uc18c 13  [Korean] Failed!\n",
        "Prediction: German, Received: 1657, Trained: 648, Last-500 Accuracy: 0.690\n"
       ]
      },
      {
       "output_type": "stream",
       "stream": "stdout",
       "text": [
        " jurassic park  [German] OK\n"
       ]
      },
      {
       "output_type": "stream",
       "stream": "stdout",
       "text": [
        " denton texas  [Norwegian] Failed!\n",
        "Prediction: French, Received: 1659, Trained: 649, Last-500 Accuracy: 0.690\n"
       ]
      },
      {
       "output_type": "stream",
       "stream": "stdout",
       "text": [
        " alex tagliani  [Portuguese] Failed!\n",
        "Prediction: Italian, Received: 1660, Trained: 650, Last-500 Accuracy: 0.688\n"
       ]
      },
      {
       "output_type": "stream",
       "stream": "stdout",
       "text": [
        " saccoglossum papuanum  [Swedish] OK\n"
       ]
      },
      {
       "output_type": "stream",
       "stream": "stdout",
       "text": [
        " ljubine ribnik  [French] OK\n"
       ]
      },
      {
       "output_type": "stream",
       "stream": "stdout",
       "text": [
        " \u062a\u0648\u062d\u062f  [Arabic] OK\n"
       ]
      },
      {
       "output_type": "stream",
       "stream": "stdout",
       "text": [
        " schwarzarbeit  [German] OK\n"
       ]
      },
      {
       "output_type": "stream",
       "stream": "stdout",
       "text": [
        " callitriche brachycarpa  [Swedish] OK\n"
       ]
      },
      {
       "output_type": "stream",
       "stream": "stdout",
       "text": [
        " krytyka kwartalnik  [Polish] OK\n"
       ]
      },
      {
       "output_type": "stream",
       "stream": "stdout",
       "text": [
        " \u0434\u043e\u0441\u0442\u043e\u0447\u0442\u0438\u043c\u044b\u0439 \u043c\u0430\u0441\u0442\u0435\u0440  [Russian] OK\n"
       ]
      },
      {
       "output_type": "stream",
       "stream": "stdout",
       "text": [
        " hist\u00f2ria d'andorra  [Catalan] OK\n"
       ]
      },
      {
       "output_type": "stream",
       "stream": "stdout",
       "text": [
        " \u0447\u0435\u0448\u0441\u043a\u0438\u0435 \u043f\u0435\u0440\u0435\u0432\u043e\u0434\u044b \u0431\u0438\u0431\u043b\u0438\u0438  [Russian] OK\n"
       ]
      },
      {
       "output_type": "stream",
       "stream": "stdout",
       "text": [
        " d\u00e9canation 2014  [French] OK\n"
       ]
      },
      {
       "output_type": "stream",
       "stream": "stdout",
       "text": [
        " przest\u0119pcza opowie\u015b\u0107  [Polish] OK\n"
       ]
      },
      {
       "output_type": "stream",
       "stream": "stdout",
       "text": [
        " cristobal fernandez de vallodolid  [French] OK\n"
       ]
      },
      {
       "output_type": "stream",
       "stream": "stdout",
       "text": [
        " \ud788\uad6c\uce58 \uc9c0\uc5d0\ucf54  [Korean] OK\n"
       ]
      },
      {
       "output_type": "stream",
       "stream": "stdout",
       "text": [
        " canton d'ingr\u00e9  [French] OK\n"
       ]
      },
      {
       "output_type": "stream",
       "stream": "stdout",
       "text": [
        " \u0433\u0440\u0443\u0448\u0435\u0446\u043a\u0438\u0439 \u0432\u0430\u0441\u0438\u043b\u0438\u0439 \u0432\u043b\u0430\u0434\u0438\u043c\u0438\u0440\u043e\u0432\u0438\u0447  [Russian] OK\n"
       ]
      },
      {
       "output_type": "stream",
       "stream": "stdout",
       "text": [
        " saccoglossum takeuchii  [Swedish] OK\n"
       ]
      },
      {
       "output_type": "stream",
       "stream": "stdout",
       "text": [
        " ska jazz  [Spanish] Failed!\n",
        "Prediction: Polish, Received: 1677, Trained: 651, Last-500 Accuracy: 0.692\n"
       ]
      },
      {
       "output_type": "stream",
       "stream": "stdout",
       "text": [
        " liste der kreisstra\u00dfen im ennepe ruhr kreis  [German] OK\n"
       ]
      },
      {
       "output_type": "stream",
       "stream": "stdout",
       "text": [
        " cant\u00f3 d'arr\u00e0s nord  [Catalan] OK\n"
       ]
      },
      {
       "output_type": "stream",
       "stream": "stdout",
       "text": [
        " luis mart\u00edn gil  [Spanish] OK\n"
       ]
      },
      {
       "output_type": "stream",
       "stream": "stdout",
       "text": [
        " kingpin: life of crime  [Russian] Failed!\n",
        "Prediction: French, Received: 1681, Trained: 652, Last-500 Accuracy: 0.690\n"
       ]
      },
      {
       "output_type": "stream",
       "stream": "stdout",
       "text": [
        " \u5730\u6708\u7cfb  [Chinese] OK\n"
       ]
      },
      {
       "output_type": "stream",
       "stream": "stdout",
       "text": [
        " callitriche brevistyla  [Swedish] OK\n"
       ]
      },
      {
       "output_type": "stream",
       "stream": "stdout",
       "text": [
        " \u4e2d\u570b\u5408\u5925\u4eba  [Chinese] OK\n"
       ]
      },
      {
       "output_type": "stream",
       "stream": "stdout",
       "text": [
        " 2014\u5e74\u306e\u30c6\u30ec\u30d3\u7279\u5225\u756a\u7d44\u4e00\u89a7  [Japanese] OK\n"
       ]
      },
      {
       "output_type": "stream",
       "stream": "stdout",
       "text": [
        " saccoglossum verrucosum  [Swedish] OK\n"
       ]
      },
      {
       "output_type": "stream",
       "stream": "stdout",
       "text": [
        " ingfried henze  [German] OK\n"
       ]
      },
      {
       "output_type": "stream",
       "stream": "stdout",
       "text": [
        " \u043a\u0430\u0448\u0442\u0430\u043d \u043f\u043e\u0435\u0437\u0434  [Russian] OK\n"
       ]
      },
      {
       "output_type": "stream",
       "stream": "stdout",
       "text": [
        " patrick demarchelier  [German] Failed!\n",
        "Prediction: Swedish, Received: 1689, Trained: 653, Last-500 Accuracy: 0.692\n"
       ]
      },
      {
       "output_type": "stream",
       "stream": "stdout",
       "text": [
        " sergi g\u00f3mez  [Dutch] Failed!\n",
        "Prediction: French, Received: 1690, Trained: 654, Last-500 Accuracy: 0.692\n"
       ]
      },
      {
       "output_type": "stream",
       "stream": "stdout",
       "text": [
        " \u304a\u304a\u3059\u307f \u8f38\u9001\u8266\u30fb2\u4ee3  [Japanese] Failed!\n",
        "Prediction: Chinese, Received: 1691, Trained: 655, Last-500 Accuracy: 0.690\n"
       ]
      },
      {
       "output_type": "stream",
       "stream": "stdout",
       "text": [
        " \u30b9\u30c8\u30ed\u30f3\u30b0\u30de\u30f3  [Japanese] OK\n"
       ]
      },
      {
       "output_type": "stream",
       "stream": "stdout",
       "text": [
        " dv\u00e4rgl\u00e5nke  [Swedish] OK\n"
       ]
      },
      {
       "output_type": "stream",
       "stream": "stdout",
       "text": [
        " r\u0119ka \u015bmierci  [Polish] OK\n"
       ]
      },
      {
       "output_type": "stream",
       "stream": "stdout",
       "text": [
        " gustav mahler  [Italian] Failed!\n",
        "Prediction: German, Received: 1695, Trained: 656, Last-500 Accuracy: 0.688\n"
       ]
      },
      {
       "output_type": "stream",
       "stream": "stdout",
       "text": [
        " 31 ao\u00fbt en sport  [French] OK\n"
       ]
      },
      {
       "output_type": "stream",
       "stream": "stdout",
       "text": [
        " anciens indicatifs t\u00e9l\u00e9phoniques r\u00e9gionaux en france  [French] OK\n"
       ]
      },
      {
       "output_type": "stream",
       "stream": "stdout",
       "text": [
        " \u043c\u0430\u043a\u043d\u0438 \u043f\u0430\u0442\u0440\u0438\u043a  [Russian] OK\n"
       ]
      },
      {
       "output_type": "stream",
       "stream": "stdout",
       "text": [
        " \u30e4\u30de\u30cf\u30fbox99 11  [Japanese] Failed!\n",
        "Prediction: Chinese, Received: 1699, Trained: 657, Last-500 Accuracy: 0.686\n"
       ]
      },
      {
       "output_type": "stream",
       "stream": "stdout",
       "text": [
        " \u0441\u043e\u0432\u0440\u0435\u043c\u0435\u043d\u043d\u043e\u0435 \u0438\u0441\u043a\u0443\u0441\u0441\u0442\u0432\u043e \u0438 \u043e\u0431\u0440\u0430\u0437\u043e\u0432\u0430\u043d\u0438\u0435 \u043c\u0443\u0437\u044b \u043c\u0438\u0440\u0430  [Russian] OK\n"
       ]
      },
      {
       "output_type": "stream",
       "stream": "stdout",
       "text": [
        " consenso desambiguaci\u00f3n  [Spanish] OK\n"
       ]
      },
      {
       "output_type": "stream",
       "stream": "stdout",
       "text": [
        " club atl\u00e9tico osasuna  [Spanish] Failed!\n",
        "Prediction: French, Received: 1702, Trained: 658, Last-500 Accuracy: 0.688\n"
       ]
      },
      {
       "output_type": "stream",
       "stream": "stdout",
       "text": [
        "Ignoring class 30\n",
        " cant\u00f3 d'arr\u00e0s oest  [Catalan] OK\n"
       ]
      },
      {
       "output_type": "stream",
       "stream": "stdout",
       "text": [
        " \u9e7f\u5be8\u770c  [Japanese] OK\n"
       ]
      },
      {
       "output_type": "stream",
       "stream": "stdout",
       "text": [
        " der tod und das m\u00e4dchen  [French] Failed!\n",
        "Prediction: German, Received: 1706, Trained: 659, Last-500 Accuracy: 0.686\n"
       ]
      },
      {
       "output_type": "stream",
       "stream": "stdout",
       "text": [
        " chr\u00e1m sv\u00e4t\u00e9ho mikul\u00e1\u0161a star\u00e9 mesto  [Slovak] OK\n"
       ]
      },
      {
       "output_type": "stream",
       "stream": "stdout",
       "text": [
        " callitriche christensenii  [Swedish] OK\n"
       ]
      },
      {
       "output_type": "stream",
       "stream": "stdout",
       "text": [
        " art de la rome antique  [French] OK\n"
       ]
      },
      {
       "output_type": "stream",
       "stream": "stdout",
       "text": [
        " chien d'assistance  [French] OK\n"
       ]
      },
      {
       "output_type": "stream",
       "stream": "stdout",
       "text": [
        " sofi flink  [Finnish] Failed!\n",
        "Prediction: Swedish, Received: 1711, Trained: 660, Last-500 Accuracy: 0.684\n"
       ]
      },
      {
       "output_type": "stream",
       "stream": "stdout",
       "text": [
        " \u0645\u0642\u0627\u0648\u0645\u0629 \u0627\u0644\u0637\u0648\u0627\u0631\u0642 \u0644\u0644\u0627\u0633\u062a\u0639\u0645\u0627\u0631 \u0627\u0644\u0641\u0631\u0646\u0633\u064a  [Arabic] OK\n"
       ]
      },
      {
       "output_type": "stream",
       "stream": "stdout",
       "text": [
        " mistrovstv\u00ed sv\u011bta v alpsk\u00e9m ly\u017eov\u00e1n\u00ed 2011 ob\u0159\u00ed slalom \u017een  [Czech] OK\n"
       ]
      },
      {
       "output_type": "stream",
       "stream": "stdout",
       "text": [
        " sei dai tinwong  [Polish] Failed!\n",
        "Prediction: German, Received: 1714, Trained: 661, Last-500 Accuracy: 0.684\n"
       ]
      },
      {
       "output_type": "stream",
       "stream": "stdout",
       "text": [
        " \u0432\u043e\u043e\u0440\u0443\u0436\u0451\u043d\u043d\u044b\u0439 \u043a\u043e\u043d\u0444\u043b\u0438\u043a\u0442 \u043d\u0430 \u0432\u043e\u0441\u0442\u043e\u043a\u0435 \u0443\u043a\u0440\u0430\u0438\u043d\u044b 2014  [Russian] OK\n"
       ]
      },
      {
       "output_type": "stream",
       "stream": "stdout",
       "text": [
        " soug\u00e9 loir et cher  [French] Failed!\n",
        "Prediction: German, Received: 1716, Trained: 662, Last-500 Accuracy: 0.684\n"
       ]
      },
      {
       "output_type": "stream",
       "stream": "stdout",
       "text": [
        " \u0430\u0431\u0443\u0431\u0430\u043a\u0430\u0440 \u0432\u0435\u043d\u0441\u0430\u043d  [Russian] OK\n"
       ]
      },
      {
       "output_type": "stream",
       "stream": "stdout",
       "text": [
        " drongen  [Dutch] OK\n"
       ]
      },
      {
       "output_type": "stream",
       "stream": "stdout",
       "text": [
        " callitriche compressa  [Swedish] Failed!\n",
        "Prediction: German, Received: 1719, Trained: 663, Last-500 Accuracy: 0.682\n"
       ]
      },
      {
       "output_type": "stream",
       "stream": "stdout",
       "text": [
        " cant\u00f3 d'arr\u00e0s sud  [Catalan] OK\n"
       ]
      },
      {
       "output_type": "stream",
       "stream": "stdout",
       "text": [
        " dion cassius  [French] OK\n"
       ]
      },
      {
       "output_type": "stream",
       "stream": "stdout",
       "text": [
        " dispneo  [Esperanto] Failed!\n",
        "Prediction: Italian, Received: 1722, Trained: 664, Last-500 Accuracy: 0.684\n"
       ]
      },
      {
       "output_type": "stream",
       "stream": "stdout",
       "text": [
        " xviii secolo  [Italian] OK\n"
       ]
      },
      {
       "output_type": "stream",
       "stream": "stdout",
       "text": [
        " trent sainsbury  [Dutch] Failed!\n",
        "Prediction: French, Received: 1724, Trained: 665, Last-500 Accuracy: 0.684\n"
       ]
      },
      {
       "output_type": "stream",
       "stream": "stdout",
       "text": [
        " science fiction jahr 2001  [German] OK\n"
       ]
      },
      {
       "output_type": "stream",
       "stream": "stdout",
       "text": [
        " saccogyna viticulosa  [Swedish] OK\n"
       ]
      },
      {
       "output_type": "stream",
       "stream": "stdout",
       "text": [
        " wesendonck lieder  [French] Failed!\n",
        "Prediction: German, Received: 1727, Trained: 666, Last-500 Accuracy: 0.684\n"
       ]
      },
      {
       "output_type": "stream",
       "stream": "stdout",
       "text": [
        " elektronik m\u00fczik  [Turkish] Failed!\n",
        "Prediction: Dutch, Received: 1728, Trained: 667, Last-500 Accuracy: 0.682\n"
       ]
      },
      {
       "output_type": "stream",
       "stream": "stdout",
       "text": [
        " region s\u00fcdwesten mazedonien  [German] OK\n"
       ]
      },
      {
       "output_type": "stream",
       "stream": "stdout",
       "text": [
        " \u043f\u043e\u0441\u043e\u043b\u044c\u0441\u043a\u043e\u0435  [Russian] OK\n"
       ]
      },
      {
       "output_type": "stream",
       "stream": "stdout",
       "text": [
        " hovg\u00e5rden ort  [Swedish] OK\n"
       ]
      },
      {
       "output_type": "stream",
       "stream": "stdout",
       "text": [
        " \u0432\u0430\u0440\u0448\u0430\u0432\u0430 \u0432\u0441\u0445\u043e\u0434\u043d\u044f  [Russian] OK\n"
       ]
      },
      {
       "output_type": "stream",
       "stream": "stdout",
       "text": [
        " 17 idrossicorticosteroide  [Italian] Failed!\n",
        "Prediction: Swedish, Received: 1733, Trained: 668, Last-500 Accuracy: 0.680\n"
       ]
      },
      {
       "output_type": "stream",
       "stream": "stdout",
       "text": [
        " callitriche cribrosa  [Swedish] OK\n"
       ]
      },
      {
       "output_type": "stream",
       "stream": "stdout",
       "text": [
        " saccogynidium australe  [Swedish] Failed!\n",
        "Prediction: French, Received: 1735, Trained: 669, Last-500 Accuracy: 0.678\n"
       ]
      },
      {
       "output_type": "stream",
       "stream": "stdout",
       "text": [
        " beffroi saint eloi  [German] OK\n"
       ]
      },
      {
       "output_type": "stream",
       "stream": "stdout",
       "text": [
        " kysylsuu kaxgar  [German] OK\n"
       ]
      },
      {
       "output_type": "stream",
       "stream": "stdout",
       "text": [
        " assassin's creed unity  [Hebrew] Failed!\n",
        "Prediction: Czech, Received: 1738, Trained: 670, Last-500 Accuracy: 0.676\n"
       ]
      },
      {
       "output_type": "stream",
       "stream": "stdout",
       "text": [
        " doornenkroon dier  [Dutch] OK\n"
       ]
      },
      {
       "output_type": "stream",
       "stream": "stdout",
       "text": [
        " saccolabiopsis  [Swedish] OK\n"
       ]
      },
      {
       "output_type": "stream",
       "stream": "stdout",
       "text": [
        " derby calcistici in campania  [Italian] OK\n"
       ]
      },
      {
       "output_type": "stream",
       "stream": "stdout",
       "text": [
        " championnats de suisse de cyclisme sur route  [French] OK\n"
       ]
      },
      {
       "output_type": "stream",
       "stream": "stdout",
       "text": [
        " bilyj kami\u0148 \u010de\u010de\u013enyck\u00fd raj\u00f3n  [Slovak] OK\n"
       ]
      },
      {
       "output_type": "stream",
       "stream": "stdout",
       "text": [
        " cant\u00f3 d'ars en r\u00e9  [Catalan] OK\n"
       ]
      },
      {
       "output_type": "stream",
       "stream": "stdout",
       "text": [
        " callitriche cycloptera  [Swedish] OK\n"
       ]
      },
      {
       "output_type": "stream",
       "stream": "stdout",
       "text": [
        " stadion im. edwarda jancarza  [Polish] Failed!\n",
        "Prediction: Swedish, Received: 1746, Trained: 671, Last-500 Accuracy: 0.678\n"
       ]
      },
      {
       "output_type": "stream",
       "stream": "stdout",
       "text": [
        " elecciones al parlamento europeo de 2014  [Spanish] OK\n"
       ]
      },
      {
       "output_type": "stream",
       "stream": "stdout",
       "text": [
        " sindernbach  [German] OK\n"
       ]
      },
      {
       "output_type": "stream",
       "stream": "stdout",
       "text": [
        " double dames aux championnats du monde de badminton 2014  [French] OK\n"
       ]
      },
      {
       "output_type": "stream",
       "stream": "stdout",
       "text": [
        " saccolabiopsis alata  [Swedish] OK\n"
       ]
      },
      {
       "output_type": "stream",
       "stream": "stdout",
       "text": [
        " deathlok  [Italian] OK\n"
       ]
      },
      {
       "output_type": "stream",
       "stream": "stdout",
       "text": [
        " rebitsch  [German] OK\n"
       ]
      },
      {
       "output_type": "stream",
       "stream": "stdout",
       "text": [
        " bayerische staatsbank  [German] OK\n"
       ]
      },
      {
       "output_type": "stream",
       "stream": "stdout",
       "text": [
        " \u0628\u0686\u0647 \u06af\u0631\u0628\u0647  [Farsi] OK\n"
       ]
      },
      {
       "output_type": "stream",
       "stream": "stdout",
       "text": [
        " \u043d\u043e\u0432\u043e\u0443\u043b\u044c\u044f\u043d\u043e\u0432\u043a\u0430 \u0431\u0430\u0445\u0447\u0438\u0441\u0430\u0440\u0430\u0439\u0441\u043a\u0438\u0439 \u0440\u0430\u0439\u043e\u043d  [Russian] OK\n"
       ]
      },
      {
       "output_type": "stream",
       "stream": "stdout",
       "text": [
        " scalaire physique  [French] OK\n"
       ]
      },
      {
       "output_type": "stream",
       "stream": "stdout",
       "text": [
        " callitriche deflexa  [Swedish] OK\n"
       ]
      },
      {
       "output_type": "stream",
       "stream": "stdout",
       "text": [
        " saccolabiopsis armitii  [Swedish] OK\n"
       ]
      },
      {
       "output_type": "stream",
       "stream": "stdout",
       "text": [
        " lou ! journal infime  [French] OK\n"
       ]
      },
      {
       "output_type": "stream",
       "stream": "stdout",
       "text": [
        " \u4e2d\u570b\uff0d\u5370\u5ea6\u95dc\u4fc2  [Chinese] OK\n"
       ]
      },
      {
       "output_type": "stream",
       "stream": "stdout",
       "text": [
        " cant\u00f3 d'ars sur moselle  [Catalan] OK\n"
       ]
      },
      {
       "output_type": "stream",
       "stream": "stdout",
       "text": [
        " \u4e2d\u570b\u5408\u5925\u4eba  [Chinese] OK\n"
       ]
      },
      {
       "output_type": "stream",
       "stream": "stdout",
       "text": [
        " chancelade  [French] OK\n"
       ]
      },
      {
       "output_type": "stream",
       "stream": "stdout",
       "text": [
        " saccolabiopsis bakhuizenii  [Swedish] OK\n"
       ]
      },
      {
       "output_type": "stream",
       "stream": "stdout",
       "text": [
        " liste der kreisstra\u00dfen im kreis euskirchen  [German] Failed!\n",
        "Prediction: French, Received: 1765, Trained: 672, Last-500 Accuracy: 0.690\n"
       ]
      },
      {
       "output_type": "stream",
       "stream": "stdout",
       "text": [
        " callitriche favargeri  [Swedish] OK\n"
       ]
      },
      {
       "output_type": "stream",
       "stream": "stdout",
       "text": [
        " \u6851\u85e4\u7f8e\u6a39  [Japanese] Failed!\n",
        "Prediction: Chinese, Received: 1767, Trained: 673, Last-500 Accuracy: 0.688\n"
       ]
      },
      {
       "output_type": "stream",
       "stream": "stdout",
       "text": [
        " \u05d0\u05dc\u05e4\u05d5\u05e0\u05e1 \u05d1\u05e8\u05d8\u05d9\u05d5\u05df  [Hebrew] OK\n"
       ]
      },
      {
       "output_type": "stream",
       "stream": "stdout",
       "text": [
        " \u5929\u4e3b\u6559\u5d07\u5fb7\u82f1\u6587\u66f8\u9662  [Chinese] OK\n"
       ]
      },
      {
       "output_type": "stream",
       "stream": "stdout",
       "text": [
        " saccolabiopsis gillespiei  [Swedish] OK\n"
       ]
      },
      {
       "output_type": "stream",
       "stream": "stdout",
       "text": [
        " modification corporelle  [French] OK\n"
       ]
      },
      {
       "output_type": "stream",
       "stream": "stdout",
       "text": [
        " vaszil mihajlovics ivancsuk  [Hungarian] Failed!\n",
        "Prediction: Spanish, Received: 1772, Trained: 674, Last-500 Accuracy: 0.690\n"
       ]
      },
      {
       "output_type": "stream",
       "stream": "stdout",
       "text": [
        " hartmut von hentig  [German] OK\n"
       ]
      },
      {
       "output_type": "stream",
       "stream": "stdout",
       "text": [
        " calzadilla de la cueza  [German] Failed!\n",
        "Prediction: French, Received: 1774, Trained: 675, Last-500 Accuracy: 0.688\n"
       ]
      },
      {
       "output_type": "stream",
       "stream": "stdout",
       "text": [
        " der hirt auf dem felsen  [French] OK\n"
       ]
      },
      {
       "output_type": "stream",
       "stream": "stdout",
       "text": [
        " schweiz  [German] OK\n"
       ]
      },
      {
       "output_type": "stream",
       "stream": "stdout",
       "text": [
        " maikel van der werff  [Dutch] Failed!\n",
        "Prediction: French, Received: 1777, Trained: 676, Last-500 Accuracy: 0.688\n"
       ]
      },
      {
       "output_type": "stream",
       "stream": "stdout",
       "text": [
        " callitriche fehmedianii  [Swedish] OK\n"
       ]
      },
      {
       "output_type": "stream",
       "stream": "stdout",
       "text": [
        " k.\u00f6.st.v. sternkorona hall  [German] Failed!\n",
        "Prediction: Swedish, Received: 1779, Trained: 677, Last-500 Accuracy: 0.688\n"
       ]
      },
      {
       "output_type": "stream",
       "stream": "stdout",
       "text": [
        " cant\u00f3 d'arsac e arrasiguet  [Catalan] Failed!\n",
        "Prediction: French, Received: 1780, Trained: 678, Last-500 Accuracy: 0.688\n"
       ]
      },
      {
       "output_type": "stream",
       "stream": "stdout",
       "text": [
        " saccolabiopsis microphyton  [Swedish] OK\n"
       ]
      },
      {
       "output_type": "stream",
       "stream": "stdout",
       "text": [
        " d\u00e9c\u00e8s en ao\u00fbt 2014  [French] OK\n"
       ]
      },
      {
       "output_type": "stream",
       "stream": "stdout",
       "text": [
        " \u6d77\u4e91\u53f0\u6d77\u6ee9  [Chinese] OK\n"
       ]
      },
      {
       "output_type": "stream",
       "stream": "stdout",
       "text": [
        " f.c. de kampioenen: kampioen zijn blijft plezant  [Dutch] Failed!\n",
        "Prediction: French, Received: 1784, Trained: 679, Last-500 Accuracy: 0.690\n"
       ]
      },
      {
       "output_type": "stream",
       "stream": "stdout",
       "text": [
        " \u8c4a\u81e3\u79c0\u5409  [Japanese] Failed!\n",
        "Prediction: Chinese, Received: 1785, Trained: 680, Last-500 Accuracy: 0.688\n"
       ]
      },
      {
       "output_type": "stream",
       "stream": "stdout",
       "text": [
        "Ignoring class 30\n",
        " \u043e\u043b\u044c\u0448\u0430\u043d\u0441\u043a\u0438\u0439  [Russian] OK"
       ]
      },
      {
       "output_type": "stream",
       "stream": "stdout",
       "text": [
        "\n"
       ]
      },
      {
       "output_type": "stream",
       "stream": "stdout",
       "text": [
        " miamisburg  [French] OK\n"
       ]
      },
      {
       "output_type": "stream",
       "stream": "stdout",
       "text": [
        " \u043a\u0443\u0440\u0441\u043a  [Russian] OK\n"
       ]
      },
      {
       "output_type": "stream",
       "stream": "stdout",
       "text": [
        " saccolabiopsis papuana  [Swedish] OK\n"
       ]
      },
      {
       "output_type": "stream",
       "stream": "stdout",
       "text": [
        " callitriche fuscicarpa  [Swedish] OK\n"
       ]
      },
      {
       "output_type": "stream",
       "stream": "stdout",
       "text": [
        " william carvalho  [French] OK\n"
       ]
      },
      {
       "output_type": "stream",
       "stream": "stdout",
       "text": [
        " \u0431\u0438\u0431\u043b\u0438\u044f \u043a\u043e\u0440\u043e\u043b\u044f \u044f\u043a\u043e\u0432\u0430  [Russian] OK\n"
       ]
      },
      {
       "output_type": "stream",
       "stream": "stdout",
       "text": [
        " \u9ad8\u7aaa\u70ad\u9271  [Japanese] OK\n"
       ]
      },
      {
       "output_type": "stream",
       "stream": "stdout",
       "text": [
        " bahnstrecke aachen\u2013m\u00f6nchengladbach  [German] OK\n"
       ]
      },
      {
       "output_type": "stream",
       "stream": "stdout",
       "text": [
        " humvee versions chinoises  [French] OK\n"
       ]
      },
      {
       "output_type": "stream",
       "stream": "stdout",
       "text": [
        " i24news  [French] Failed!\n",
        "Prediction: Polish, Received: 1797, Trained: 681, Last-500 Accuracy: 0.694\n"
       ]
      },
      {
       "output_type": "stream",
       "stream": "stdout",
       "text": [
        " saccolabiopsis pumila  [Swedish] OK\n"
       ]
      },
      {
       "output_type": "stream",
       "stream": "stdout",
       "text": [
        " \u541b\u4e4b\u4ee3  [Chinese] Failed!\n",
        "Prediction: Japanese, Received: 1799, Trained: 682, Last-500 Accuracy: 0.694\n"
       ]
      },
      {
       "output_type": "stream",
       "stream": "stdout",
       "text": [
        " \u30d5\u30ed\u30c3\u30ac\u30fc \u30b2\u30fc\u30e0  [Japanese] OK\n"
       ]
      },
      {
       "output_type": "stream",
       "stream": "stdout",
       "text": [
        " cant\u00f3 d'artenay  [Catalan] OK\n"
       ]
      },
      {
       "output_type": "stream",
       "stream": "stdout",
       "text": [
        " order \u015bwi\u0119tego andrzeja powo\u0142a\u0144ca  [Polish] OK\n"
       ]
      },
      {
       "output_type": "stream",
       "stream": "stdout",
       "text": [
        " \u0623\u0648\u064a\u0627 \u0628\u064a\u062f\u0631  [Arabic] OK\n"
       ]
      },
      {
       "output_type": "stream",
       "stream": "stdout",
       "text": [
        "Ignoring class 30\n",
        " saccolabiopsis pusilla  [Swedish] OK"
       ]
      },
      {
       "output_type": "stream",
       "stream": "stdout",
       "text": [
        "\n"
       ]
      },
      {
       "output_type": "stream",
       "stream": "stdout",
       "text": [
        " callitriche glareosa  [Swedish] OK\n"
       ]
      },
      {
       "output_type": "stream",
       "stream": "stdout",
       "text": [
        " real club deportivo mallorca  [Spanish] OK\n"
       ]
      },
      {
       "output_type": "stream",
       "stream": "stdout",
       "text": [
        " \u0434\u043e\u0441\u0442\u043e\u0447\u0442\u0438\u043c\u044b\u0439 \u043c\u0430\u0441\u0442\u0435\u0440  [Russian] OK\n"
       ]
      },
      {
       "output_type": "stream",
       "stream": "stdout",
       "text": [
        " hans zimmer  [Hungarian] OK\n"
       ]
      },
      {
       "output_type": "stream",
       "stream": "stdout",
       "text": [
        " catherine rouvel  [French] Failed!\n",
        "Prediction: German, Received: 1810, Trained: 683, Last-500 Accuracy: 0.696\n"
       ]
      },
      {
       "output_type": "stream",
       "stream": "stdout",
       "text": [
        " midi en france  [French] OK\n"
       ]
      },
      {
       "output_type": "stream",
       "stream": "stdout",
       "text": [
        " \u9f4b\u85e4\u5bb6 \u6a2a\u9808\u8cc0  [Japanese] Failed!\n",
        "Prediction: Chinese, Received: 1812, Trained: 684, Last-500 Accuracy: 0.694\n"
       ]
      },
      {
       "output_type": "stream",
       "stream": "stdout",
       "text": [
        " wesendonck lieder  [French] OK\n"
       ]
      },
      {
       "output_type": "stream",
       "stream": "stdout",
       "text": [
        " 31 ao\u00fbt en sport  [French] OK\n"
       ]
      },
      {
       "output_type": "stream",
       "stream": "stdout",
       "text": [
        " helen gourlay  [French] Failed!\n",
        "Prediction: Dutch, Received: 1815, Trained: 685, Last-500 Accuracy: 0.694\n"
       ]
      },
      {
       "output_type": "stream",
       "stream": "stdout",
       "text": [
        " \u7fc1\u6ecb\u8513  [Chinese] OK\n"
       ]
      },
      {
       "output_type": "stream",
       "stream": "stdout",
       "text": [
        " \u0430\u0431\u0443\u0431\u0430\u043a\u0430\u0440 \u0432\u0435\u043d\u0441\u0430\u043d  [Russian] OK\n"
       ]
      },
      {
       "output_type": "stream",
       "stream": "stdout",
       "text": [
        " \u7a62\u7ffc\u7684\u5c24\u65af\u8482\u5a6d  [Chinese] OK\n"
       ]
      },
      {
       "output_type": "stream",
       "stream": "stdout",
       "text": [
        " danny welbeck  [Norwegian] Failed!\n",
        "Prediction: German, Received: 1819, Trained: 686, Last-500 Accuracy: 0.700\n"
       ]
      },
      {
       "output_type": "stream",
       "stream": "stdout",
       "text": [
        " gairah binal  [Indonesian] OK\n"
       ]
      },
      {
       "output_type": "stream",
       "stream": "stdout",
       "text": [
        " gammakorrektur  [German] Failed!\n",
        "Prediction: French, Received: 1821, Trained: 687, Last-500 Accuracy: 0.698\n"
       ]
      },
      {
       "output_type": "stream",
       "stream": "stdout",
       "text": [
        " saccolabiopsis rara  [Swedish] OK\n"
       ]
      },
      {
       "output_type": "stream",
       "stream": "stdout",
       "text": [
        " tsilla chelton  [French] Failed!\n",
        "Prediction: German, Received: 1823, Trained: 688, Last-500 Accuracy: 0.698\n"
       ]
      },
      {
       "output_type": "stream",
       "stream": "stdout",
       "text": [
        " hubert deschamps acteur  [French] OK\n"
       ]
      },
      {
       "output_type": "stream",
       "stream": "stdout",
       "text": [
        " callitriche hedbergiorum  [Swedish] Failed!\n",
        "Prediction: German, Received: 1825, Trained: 689, Last-500 Accuracy: 0.698\n"
       ]
      },
      {
       "output_type": "stream",
       "stream": "stdout",
       "text": [
        " cant\u00f3 d'art\u00e9s de biarn  [Catalan] OK\n"
       ]
      },
      {
       "output_type": "stream",
       "stream": "stdout",
       "text": [
        " lou ! journal infime  [French] OK\n"
       ]
      },
      {
       "output_type": "stream",
       "stream": "stdout",
       "text": [
        " christian marin  [French] Failed!\n",
        "Prediction: German, Received: 1828, Trained: 690, Last-500 Accuracy: 0.698\n"
       ]
      },
      {
       "output_type": "stream",
       "stream": "stdout",
       "text": [
        "Ignoring class 30\n",
        " liste der kreisstra\u00dfen im kreis g\u00fctersloh  [German] OK"
       ]
      },
      {
       "output_type": "stream",
       "stream": "stdout",
       "text": [
        "\n"
       ]
      },
      {
       "output_type": "stream",
       "stream": "stdout",
       "text": [
        " jacques balutin  [French] Failed!\n",
        "Prediction: Swedish, Received: 1831, Trained: 691, Last-500 Accuracy: 0.698\n"
       ]
      },
      {
       "output_type": "stream",
       "stream": "stdout",
       "text": [
        " \u30b8\u30e7\u30b7\u30e5\u30fb\u30a2\u30a6\u30c8\u30de\u30f3  [Japanese] OK\n"
       ]
      },
      {
       "output_type": "stream",
       "stream": "stdout",
       "text": [
        " saccolabiopsis rectifolia  [Swedish] OK\n"
       ]
      },
      {
       "output_type": "stream",
       "stream": "stdout",
       "text": [
        " an/sps 29  [Japanese] OK\n"
       ]
      },
      {
       "output_type": "stream",
       "stream": "stdout",
       "text": [
        " cheignieu la balme  [Portuguese] Failed!\n",
        "Prediction: French, Received: 1835, Trained: 692, Last-500 Accuracy: 0.698\n"
       ]
      },
      {
       "output_type": "stream",
       "stream": "stdout",
       "text": [
        " jean lefebvre  [French] OK\n"
       ]
      },
      {
       "output_type": "stream",
       "stream": "stdout",
       "text": [
        " callitriche heteropoda  [Swedish] OK\n"
       ]
      },
      {
       "output_type": "stream",
       "stream": "stdout",
       "text": [
        " saccolabiopsis selebica  [Swedish] OK\n"
       ]
      },
      {
       "output_type": "stream",
       "stream": "stdout",
       "text": [
        " micro onde  [French] Failed!\n",
        "Prediction: Italian, Received: 1839, Trained: 693, Last-500 Accuracy: 0.698\n"
       ]
      },
      {
       "output_type": "stream",
       "stream": "stdout",
       "text": [
        " los sims 4  [Spanish] Failed!\n",
        "Prediction: Swedish, Received: 1840, Trained: 694, Last-500 Accuracy: 0.698\n"
       ]
      },
      {
       "output_type": "stream",
       "stream": "stdout",
       "text": [
        " geldkarte  [German] Failed!\n",
        "Prediction: French, Received: 1841, Trained: 695, Last-500 Accuracy: 0.696\n"
       ]
      },
      {
       "output_type": "stream",
       "stream": "stdout",
       "text": [
        " carles planas  [Dutch] Failed!\n",
        "Prediction: French, Received: 1842, Trained: 696, Last-500 Accuracy: 0.694\n"
       ]
      },
      {
       "output_type": "stream",
       "stream": "stdout",
       "text": [
        " limit  [Italian] Failed!\n",
        "Prediction: French, Received: 1843, Trained: 697, Last-500 Accuracy: 0.694\n"
       ]
      },
      {
       "output_type": "stream",
       "stream": "stdout",
       "text": [
        " championnats de suisse de cyclisme sur route  [French] OK\n"
       ]
      },
      {
       "output_type": "stream",
       "stream": "stdout",
       "text": [
        " \u6728\u6d25\u5ddd\u5e02\u7acb\u5dde\u898b\u53f0\u5c0f\u5b66\u6821  [Japanese] OK\n"
       ]
      },
      {
       "output_type": "stream",
       "stream": "stdout",
       "text": [
        " cant\u00f3 d'arzano  [Catalan] OK\n"
       ]
      },
      {
       "output_type": "stream",
       "stream": "stdout",
       "text": [
        " julio madero gonz\u00e1lez  [German] Failed!\n",
        "Prediction: French, Received: 1847, Trained: 698, Last-500 Accuracy: 0.694\n"
       ]
      },
      {
       "output_type": "stream",
       "stream": "stdout",
       "text": [
        " callitriche nana  [Swedish] OK\n"
       ]
      },
      {
       "output_type": "stream",
       "stream": "stdout",
       "text": [
        " alex tagliani  [Portuguese] OK\n"
       ]
      },
      {
       "output_type": "stream",
       "stream": "stdout",
       "text": [
        " saccolabiopsis taiwaniana  [Swedish] OK\n"
       ]
      },
      {
       "output_type": "stream",
       "stream": "stdout",
       "text": [
        " \u5317\u4f0a\u4e88\u7ad9  [Chinese] Failed!\n",
        "Prediction: Japanese, Received: 1851, Trained: 699, Last-500 Accuracy: 0.692\n"
       ]
      },
      {
       "output_type": "stream",
       "stream": "stdout",
       "text": [
        " jesper drost  [Dutch] Failed!\n",
        "Prediction: German, Received: 1852, Trained: 700, Last-500 Accuracy: 0.690\n"
       ]
      },
      {
       "output_type": "stream",
       "stream": "stdout",
       "text": [
        " fi rel\u00e9  [Hungarian] OK\n"
       ]
      },
      {
       "output_type": "stream",
       "stream": "stdout",
       "text": [
        "Ignoring class 30\n",
        " mirbachov pal\u00e1c  [Slovak] OK"
       ]
      },
      {
       "output_type": "stream",
       "stream": "stdout",
       "text": [
        "\n"
       ]
      },
      {
       "output_type": "stream",
       "stream": "stdout",
       "text": [
        " stift stams  [German] Failed!\n",
        "Prediction: Swedish, Received: 1856, Trained: 701, Last-500 Accuracy: 0.690\n"
       ]
      },
      {
       "output_type": "stream",
       "stream": "stdout",
       "text": [
        " region polog  [German] OK\n"
       ]
      },
      {
       "output_type": "stream",
       "stream": "stdout",
       "text": [
        " la horde sauvage film 1969  [French] Failed!\n",
        "Prediction: German, Received: 1858, Trained: 702, Last-500 Accuracy: 0.688\n"
       ]
      },
      {
       "output_type": "stream",
       "stream": "stdout",
       "text": [
        " saccolabiopsis tenella  [Swedish] OK\n"
       ]
      },
      {
       "output_type": "stream",
       "stream": "stdout",
       "text": [
        " cheilly l\u00e8s maranges  [Portuguese] Failed!\n",
        "Prediction: French, Received: 1860, Trained: 703, Last-500 Accuracy: 0.686\n"
       ]
      },
      {
       "output_type": "stream",
       "stream": "stdout",
       "text": [
        " callitriche japonica  [Swedish] OK\n"
       ]
      },
      {
       "output_type": "stream",
       "stream": "stdout",
       "text": [
        " liste der kreisstra\u00dfen im kreis heinsberg  [German] OK\n"
       ]
      },
      {
       "output_type": "stream",
       "stream": "stdout",
       "text": [
        " aksaray  [Turkish] Failed!\n",
        "Prediction: German, Received: 1863, Trained: 704, Last-500 Accuracy: 0.686\n"
       ]
      },
      {
       "output_type": "stream",
       "stream": "stdout",
       "text": [
        " osmanska riket  [Swedish] Failed!\n",
        "Prediction: French, Received: 1864, Trained: 705, Last-500 Accuracy: 0.684\n"
       ]
      },
      {
       "output_type": "stream",
       "stream": "stdout",
       "text": [
        " cant\u00f3 d'ar\u00e0mits  [Catalan] OK\n"
       ]
      },
      {
       "output_type": "stream",
       "stream": "stdout",
       "text": [
        " saccolabiopsis viridiflora  [Swedish] OK\n"
       ]
      },
      {
       "output_type": "stream",
       "stream": "stdout",
       "text": [
        " f\u00e9nycsatorna  [Hungarian] OK\n"
       ]
      },
      {
       "output_type": "stream",
       "stream": "stdout",
       "text": [
        " 5 seconds of summer  [Danish] Failed!\n",
        "Prediction: French, Received: 1868, Trained: 706, Last-500 Accuracy: 0.686\n"
       ]
      },
      {
       "output_type": "stream",
       "stream": "stdout",
       "text": [
        " \u043e\u043b\u044c\u0448\u0430\u043d\u0441\u043a\u0438\u0439 \u0430\u043b\u0435\u043a\u0441\u0430\u043d\u0434\u0440 \u0438\u0433\u043e\u0440\u0435\u0432\u0438\u0447  [Russian] OK\n"
       ]
      },
      {
       "output_type": "stream",
       "stream": "stdout",
       "text": [
        " al\u00e9m do horizonte telenovela  [Portuguese] Failed!\n",
        "Prediction: French, Received: 1870, Trained: 707, Last-500 Accuracy: 0.688\n"
       ]
      },
      {
       "output_type": "stream",
       "stream": "stdout",
       "text": [
        " \u30e9\u30d6\u30e9\u30a4\u30d6!  [Japanese] Failed!\n",
        "Prediction: Chinese, Received: 1871, Trained: 708, Last-500 Accuracy: 0.686\n"
       ]
      },
      {
       "output_type": "stream",
       "stream": "stdout",
       "text": [
        " de nollen  [Dutch] Failed!\n",
        "Prediction: French, Received: 1872, Trained: 709, Last-500 Accuracy: 0.686\n"
       ]
      },
      {
       "output_type": "stream",
       "stream": "stdout",
       "text": [
        " liste des \u00e9pisodes de dragon ball z kai  [French] OK\n"
       ]
      },
      {
       "output_type": "stream",
       "stream": "stdout",
       "text": [
        " \ud53c\ub2c8\uc640 \ud37c\ube0c  [Korean] Failed!\n",
        "Prediction: Chinese, Received: 1874, Trained: 710, Last-500 Accuracy: 0.684\n"
       ]
      },
      {
       "output_type": "stream",
       "stream": "stdout",
       "text": [
        " \u30a8\u30ea\u30c0\u30cc\u30b9\u5ea740\u756a\u661f  [Japanese] OK\n"
       ]
      },
      {
       "output_type": "stream",
       "stream": "stdout",
       "text": [
        " kov\u00e1cs \u201et\u00fccsi\u201d mih\u00e1ly  [Hungarian] OK\n"
       ]
      },
      {
       "output_type": "stream",
       "stream": "stdout",
       "text": [
        " cal\u00edrroe sat\u00e9lite  [Spanish] Failed!\n",
        "Prediction: French, Received: 1877, Trained: 711, Last-500 Accuracy: 0.684\n"
       ]
      },
      {
       "output_type": "stream",
       "stream": "stdout",
       "text": [
        " jasmine villegas  [French] OK\n"
       ]
      },
      {
       "output_type": "stream",
       "stream": "stdout",
       "text": [
        " callitriche keniensis  [Swedish] OK\n"
       ]
      },
      {
       "output_type": "stream",
       "stream": "stdout",
       "text": [
        " zweiter weltkrieg  [German] OK\n"
       ]
      },
      {
       "output_type": "stream",
       "stream": "stdout",
       "text": [
        " hans zimmer  [Hungarian] OK\n"
       ]
      },
      {
       "output_type": "stream",
       "stream": "stdout",
       "text": [
        " coralba  [German] Failed!\n",
        "Prediction: French, Received: 1882, Trained: 712, Last-500 Accuracy: 0.682\n"
       ]
      },
      {
       "output_type": "stream",
       "stream": "stdout",
       "text": [
        " saccolabium  [Swedish] OK\n"
       ]
      },
      {
       "output_type": "stream",
       "stream": "stdout",
       "text": [
        " rudolf abel  [German] OK\n"
       ]
      },
      {
       "output_type": "stream",
       "stream": "stdout",
       "text": [
        " microsoft paint  [Japanese] Failed!\n",
        "Prediction: Dutch, Received: 1885, Trained: 713, Last-500 Accuracy: 0.680\n"
       ]
      },
      {
       "output_type": "stream",
       "stream": "stdout",
       "text": [
        " borax  [German] OK\n"
       ]
      },
      {
       "output_type": "stream",
       "stream": "stdout",
       "text": [
        " jasmine villegas  [French] OK\n"
       ]
      },
      {
       "output_type": "stream",
       "stream": "stdout",
       "text": [
        " malattia itai itai  [Italian] OK\n"
       ]
      },
      {
       "output_type": "stream",
       "stream": "stdout",
       "text": [
        " callitriche autumnalis  [Swedish] OK\n"
       ]
      },
      {
       "output_type": "stream",
       "stream": "stdout",
       "text": [
        " \u0627\u0644\u0623\u0641\u0643\u0627\u0631 \u0641\u064a \u0633\u064a\u0631 \u0645\u0627\u064a\u0627 \u0623\u0646\u062c\u064a\u0644\u0648 \u0627\u0644\u0630\u0627\u062a\u064a\u0629  [Arabic] OK\n"
       ]
      },
      {
       "output_type": "stream",
       "stream": "stdout",
       "text": [
        " cant\u00f3 d'asfeld  [Catalan] OK\n"
       ]
      },
      {
       "output_type": "stream",
       "stream": "stdout",
       "text": [
        " kriologia  [Polish] Failed!\n",
        "Prediction: Italian, Received: 1892, Trained: 714, Last-500 Accuracy: 0.684\n"
       ]
      },
      {
       "output_type": "stream",
       "stream": "stdout",
       "text": [
        " saccolabium congestum  [Swedish] OK\n"
       ]
      },
      {
       "output_type": "stream",
       "stream": "stdout",
       "text": [
        " \u30d8\u30f4\u30f3\u30ea\u30fc  [Japanese] OK\n"
       ]
      },
      {
       "output_type": "stream",
       "stream": "stdout",
       "text": [
        " nikon d7100  [Russian] OK\n"
       ]
      },
      {
       "output_type": "stream",
       "stream": "stdout",
       "text": [
        " callitriche marginata var. lechleri  [Swedish] OK\n"
       ]
      },
      {
       "output_type": "stream",
       "stream": "stdout",
       "text": [
        " ilana kloss  [French] OK\n"
       ]
      },
      {
       "output_type": "stream",
       "stream": "stdout",
       "text": [
        " gone home  [Swedish] Failed!\n",
        "Prediction: French, Received: 1898, Trained: 715, Last-500 Accuracy: 0.684\n"
       ]
      },
      {
       "output_type": "stream",
       "stream": "stdout",
       "text": [
        " ssc napoli  [Polish] OK\n"
       ]
      },
      {
       "output_type": "stream",
       "stream": "stdout",
       "text": [
        " lou ! journal infime  [French] OK\n"
       ]
      },
      {
       "output_type": "stream",
       "stream": "stdout",
       "text": [
        " saccolabium longicaule  [Swedish] OK\n"
       ]
      },
      {
       "output_type": "stream",
       "stream": "stdout",
       "text": [
        " grafenau niederbayern  [German] OK\n"
       ]
      },
      {
       "output_type": "stream",
       "stream": "stdout",
       "text": [
        " seth  [French] OK\n"
       ]
      },
      {
       "output_type": "stream",
       "stream": "stdout",
       "text": [
        " martin henry fischer  [German] OK\n"
       ]
      },
      {
       "output_type": "stream",
       "stream": "stdout",
       "text": [
        " \u0432\u043e\u043e\u0440\u0443\u0436\u0451\u043d\u043d\u044b\u0439 \u043a\u043e\u043d\u0444\u043b\u0438\u043a\u0442 \u043d\u0430 \u0432\u043e\u0441\u0442\u043e\u043a\u0435 \u0443\u043a\u0440\u0430\u0438\u043d\u044b 2014  [Russian] OK\n"
       ]
      },
      {
       "output_type": "stream",
       "stream": "stdout",
       "text": [
        " cheill\u00e9  [Portuguese] OK\n"
       ]
      },
      {
       "output_type": "stream",
       "stream": "stdout",
       "text": [
        " wej\u015bcie smoka  [Polish] OK\n"
       ]
      },
      {
       "output_type": "stream",
       "stream": "stdout",
       "text": [
        " callitriche oblongicarpa  [Swedish] OK\n"
       ]
      },
      {
       "output_type": "stream",
       "stream": "stdout",
       "text": [
        " pflegebedarf  [German] OK\n"
       ]
      },
      {
       "output_type": "stream",
       "stream": "stdout",
       "text": [
        " ljubine  [French] OK\n"
       ]
      },
      {
       "output_type": "stream",
       "stream": "stdout",
       "text": [
        " les levine  [German] Failed!\n",
        "Prediction: Dutch, Received: 1911, Trained: 716, Last-500 Accuracy: 0.698\n"
       ]
      },
      {
       "output_type": "stream",
       "stream": "stdout",
       "text": [
        " saccolabium pusillum  [Swedish] OK\n"
       ]
      },
      {
       "output_type": "stream",
       "stream": "stdout",
       "text": [
        " cant\u00f3 d'asni\u00e8res sur seine nord  [Catalan] OK\n"
       ]
      },
      {
       "output_type": "stream",
       "stream": "stdout",
       "text": [
        " malattia itai itai  [Italian] OK\n"
       ]
      },
      {
       "output_type": "stream",
       "stream": "stdout",
       "text": [
        " persona gram\u00e0tica  [Catalan] Failed!\n",
        "Prediction: Swedish, Received: 1915, Trained: 717, Last-500 Accuracy: 0.702\n"
       ]
      },
      {
       "output_type": "stream",
       "stream": "stdout",
       "text": [
        " kniffel  [German] OK\n"
       ]
      },
      {
       "output_type": "stream",
       "stream": "stdout",
       "text": [
        " hartmut von hentig  [German] OK\n"
       ]
      },
      {
       "output_type": "stream",
       "stream": "stdout",
       "text": [
        " stefan nijland  [Dutch] Failed!\n",
        "Prediction: German, Received: 1918, Trained: 718, Last-500 Accuracy: 0.704\n"
       ]
      },
      {
       "output_type": "stream",
       "stream": "stdout",
       "text": [
        " alejandro grimaldo  [Dutch] Failed!\n",
        "Prediction: French, Received: 1919, Trained: 719, Last-500 Accuracy: 0.704\n"
       ]
      },
      {
       "output_type": "stream",
       "stream": "stdout",
       "text": [
        " \u6771\u6025\u30d0\u30b9\u9752\u8449\u53f0\u55b6\u696d\u6240  [Japanese] OK\n"
       ]
      },
      {
       "output_type": "stream",
       "stream": "stdout",
       "text": [
        " british academy film awards 1972  [German] Failed!\n",
        "Prediction: French, Received: 1921, Trained: 720, Last-500 Accuracy: 0.704\n"
       ]
      },
      {
       "output_type": "stream",
       "stream": "stdout",
       "text": [
        " saccolabium rantii  [Swedish] OK\n"
       ]
      },
      {
       "output_type": "stream",
       "stream": "stdout",
       "text": [
        " stefan peter greiner  [German] Failed!\n",
        "Prediction: Dutch, Received: 1923, Trained: 721, Last-500 Accuracy: 0.704\n"
       ]
      },
      {
       "output_type": "stream",
       "stream": "stdout",
       "text": [
        " \u304b\u3081\u3084\u672c\u5e97  [Japanese] OK\n"
       ]
      },
      {
       "output_type": "stream",
       "stream": "stdout",
       "text": [
        " \u7a62\u7ffc\u7684\u5c24\u65af\u8482\u5a6d  [Chinese] OK\n"
       ]
      },
      {
       "output_type": "stream",
       "stream": "stdout",
       "text": [
        " alligatoren  [German] Failed!\n",
        "Prediction: French, Received: 1926, Trained: 722, Last-500 Accuracy: 0.702\n"
       ]
      },
      {
       "output_type": "stream",
       "stream": "stdout",
       "text": [
        "Ignoring class 30\n",
        " callitriche lechleri  [Swedish] OK\n"
       ]
      },
      {
       "output_type": "stream",
       "stream": "stdout",
       "text": [
        " i\u0307nternet siteleri  [Turkish] Failed!\n",
        "Prediction: German, Received: 1929, Trained: 723, Last-500 Accuracy: 0.702\n"
       ]
      },
      {
       "output_type": "stream",
       "stream": "stdout",
       "text": [
        " saccolabium sigmoideum  [Swedish] OK\n"
       ]
      },
      {
       "output_type": "stream",
       "stream": "stdout",
       "text": [
        " \u738b\u5c0e  [Japanese] Failed!\n",
        "Prediction: Chinese, Received: 1931, Trained: 724, Last-500 Accuracy: 0.704\n"
       ]
      },
      {
       "output_type": "stream",
       "stream": "stdout",
       "text": [
        " miamisburg  [French] OK\n"
       ]
      },
      {
       "output_type": "stream",
       "stream": "stdout",
       "text": [
        " cant\u00f3 d'asni\u00e8res sur seine sud  [Catalan] OK\n"
       ]
      },
      {
       "output_type": "stream",
       "stream": "stdout",
       "text": [
        " limit  [Italian] Failed!\n",
        "Prediction: German, Received: 1934, Trained: 725, Last-500 Accuracy: 0.702\n"
       ]
      },
      {
       "output_type": "stream",
       "stream": "stdout",
       "text": [
        " callitriche lenisulca  [Swedish] OK\n"
       ]
      },
      {
       "output_type": "stream",
       "stream": "stdout",
       "text": [
        " malattia itai itai  [Italian] OK\n"
       ]
      },
      {
       "output_type": "stream",
       "stream": "stdout",
       "text": [
        " \u9577\u4e95\u8c9e\u79c0  [Japanese] OK\n"
       ]
      },
      {
       "output_type": "stream",
       "stream": "stdout",
       "text": [
        " \u767d\u4e95\u82f1\u6cbb  [Japanese] Failed!\n",
        "Prediction: German, Received: 1938, Trained: 726, Last-500 Accuracy: 0.702\n"
       ]
      },
      {
       "output_type": "stream",
       "stream": "stdout",
       "text": [
        " \ub300\ud55c\ubbfc\uad6d \ubbfc\ubc95 \uc81c764\uc870  [Korean] OK\n"
       ]
      },
      {
       "output_type": "stream",
       "stream": "stdout",
       "text": [
        " luigi malice  [Italian] OK\n"
       ]
      },
      {
       "output_type": "stream",
       "stream": "stdout",
       "text": [
        " liste der kreisstra\u00dfen im kreis herford  [German] OK\n"
       ]
      },
      {
       "output_type": "stream",
       "stream": "stdout",
       "text": [
        " saison 2014 2015 du stade toulousain  [French] OK\n"
       ]
      },
      {
       "output_type": "stream",
       "stream": "stdout",
       "text": [
        " \u05d7\u05d1\u05e8\u05ea \u05d5\u05d5\u05dc\u05d8 \u05d3\u05d9\u05e1\u05e0\u05d9  [Hebrew] OK\n"
       ]
      },
      {
       "output_type": "stream",
       "stream": "stdout",
       "text": [
        " callitriche hermaphroditica subsp. clausonis  [Swedish] OK\n"
       ]
      },
      {
       "output_type": "stream",
       "stream": "stdout",
       "text": [
        " volksverteidigungseinheiten  [German] OK\n"
       ]
      },
      {
       "output_type": "stream",
       "stream": "stdout",
       "text": [
        " the lego movie  [Italian] Failed!\n",
        "Prediction: German, Received: 1946, Trained: 727, Last-500 Accuracy: 0.704\n"
       ]
      },
      {
       "output_type": "stream",
       "stream": "stdout",
       "text": [
        " saison 5 de fbi : duo tr\u00e8s sp\u00e9cial  [French] OK\n"
       ]
      },
      {
       "output_type": "stream",
       "stream": "stdout",
       "text": [
        " gromada kulista  [Polish] Failed!\n",
        "Prediction: German, Received: 1948, Trained: 728, Last-500 Accuracy: 0.704\n"
       ]
      },
      {
       "output_type": "stream",
       "stream": "stdout",
       "text": [
        " wapen van beuningen  [Dutch] OK\n"
       ]
      },
      {
       "output_type": "stream",
       "stream": "stdout",
       "text": [
        " \u043c\u0456\u0436\u043d\u0430\u0440\u043e\u0434\u043d\u0435 \u0432\u0438\u0437\u043d\u0430\u043d\u043d\u044f \u0440\u0435\u0441\u043f\u0443\u0431\u043b\u0456\u043a\u0438 \u043a\u043e\u0441\u043e\u0432\u043e  [Ukrainian] OK\n"
       ]
      },
      {
       "output_type": "stream",
       "stream": "stdout",
       "text": [
        " saccoloma  [Swedish] OK\n"
       ]
      },
      {
       "output_type": "stream",
       "stream": "stdout",
       "text": [
        " associazione sportiva dilettantistica citt\u00e0 di giulianova 1924  [Italian] Failed!\n",
        "Prediction: German, Received: 1952, Trained: 729, Last-500 Accuracy: 0.702\n"
       ]
      },
      {
       "output_type": "stream",
       "stream": "stdout",
       "text": [
        " cant\u00f3 d'aspres de bu\u00e8ch  [Catalan] OK\n"
       ]
      },
      {
       "output_type": "stream",
       "stream": "stdout",
       "text": [
        " \u0436\u0435\u043d\u0435\u0432\u0441\u043a\u0430\u044f \u0431\u0438\u0431\u043b\u0438\u044f  [Russian] OK\n"
       ]
      },
      {
       "output_type": "stream",
       "stream": "stdout",
       "text": [
        " otto hahn begriffskl\u00e4rung  [German] OK\n"
       ]
      },
      {
       "output_type": "stream",
       "stream": "stdout",
       "text": [
        " wallenstein  [German] OK\n"
       ]
      },
      {
       "output_type": "stream",
       "stream": "stdout",
       "text": [
        " callitriche lusitanica  [Swedish] OK\n"
       ]
      },
      {
       "output_type": "stream",
       "stream": "stdout",
       "text": [
        " \u9752\u6625\u6d3e  [Chinese] OK\n"
       ]
      },
      {
       "output_type": "stream",
       "stream": "stdout",
       "text": [
        " \ud0c4\uc131\ud30c  [Korean] OK\n"
       ]
      },
      {
       "output_type": "stream",
       "stream": "stdout",
       "text": [
        " campeonato mundial de b\u00e1dminton de 2014  [Spanish] Failed!\n",
        "Prediction: French, Received: 1960, Trained: 730, Last-500 Accuracy: 0.702\n"
       ]
      },
      {
       "output_type": "stream",
       "stream": "stdout",
       "text": [
        " kostol a kl\u00e1\u0161tor sv\u00e4tej al\u017ebety bratislava  [Slovak] OK\n"
       ]
      },
      {
       "output_type": "stream",
       "stream": "stdout",
       "text": [
        " saccoloma chartaceum  [Swedish] OK\n"
       ]
      },
      {
       "output_type": "stream",
       "stream": "stdout",
       "text": [
        " congolacerta  [Dutch] Failed!\n",
        "Prediction: Swedish, Received: 1963, Trained: 731, Last-500 Accuracy: 0.704\n"
       ]
      },
      {
       "output_type": "stream",
       "stream": "stdout",
       "text": [
        " joyce barclay  [French] Failed!\n",
        "Prediction: German, Received: 1964, Trained: 732, Last-500 Accuracy: 0.702\n"
       ]
      },
      {
       "output_type": "stream",
       "stream": "stdout",
       "text": [
        " \u0634\u06cc\u0634\u0647  [Farsi] Failed!\n",
        "Prediction: Chinese, Received: 1965, Trained: 733, Last-500 Accuracy: 0.700\n"
       ]
      },
      {
       "output_type": "stream",
       "stream": "stdout",
       "text": [
        " callitriche mathezii  [Swedish] OK\n"
       ]
      },
      {
       "output_type": "stream",
       "stream": "stdout",
       "text": [
        " \u0625\u0628\u0631\u0627\u0647\u064a\u0645 \u0627\u0644\u0639\u0631\u0627\u0628\u064a  [Arabic] Failed!\n",
        "Prediction: Farsi, Received: 1967, Trained: 734, Last-500 Accuracy: 0.702\n"
       ]
      },
      {
       "output_type": "stream",
       "stream": "stdout",
       "text": [
        " altsteinzeit  [German] OK\n"
       ]
      },
      {
       "output_type": "stream",
       "stream": "stdout",
       "text": [
        " saccoloma domingense  [Swedish] OK\n"
       ]
      },
      {
       "output_type": "stream",
       "stream": "stdout",
       "text": [
        " vaszil mihajlovics ivancsuk  [Hungarian] OK\n"
       ]
      },
      {
       "output_type": "stream",
       "stream": "stdout",
       "text": [
        " \u043e\u0433  [Russian] OK\n"
       ]
      },
      {
       "output_type": "stream",
       "stream": "stdout",
       "text": [
        " cant\u00f3 d'astaf\u00f2rt  [Catalan] OK\n"
       ]
      },
      {
       "output_type": "stream",
       "stream": "stdout",
       "text": [
        " saccoloma elegans  [Swedish] OK\n"
       ]
      },
      {
       "output_type": "stream",
       "stream": "stdout",
       "text": [
        " campo valongo  [Portuguese] Failed!\n",
        "Prediction: French, Received: 1974, Trained: 735, Last-500 Accuracy: 0.708\n"
       ]
      },
      {
       "output_type": "stream",
       "stream": "stdout",
       "text": [
        " \u4e00\u689d\u548c\u77e2  [Chinese] OK\n"
       ]
      },
      {
       "output_type": "stream",
       "stream": "stdout",
       "text": [
        " dj cosmix  [German] Failed!\n",
        "Prediction: Spanish, Received: 1976, Trained: 736, Last-500 Accuracy: 0.708\n"
       ]
      },
      {
       "output_type": "stream",
       "stream": "stdout",
       "text": [
        " \u0431\u0438\u0433 \u043c\u0430\u043a  [Russian] OK\n"
       ]
      },
      {
       "output_type": "stream",
       "stream": "stdout",
       "text": [
        " callitriche mouterdei  [Swedish] OK\n"
       ]
      },
      {
       "output_type": "stream",
       "stream": "stdout",
       "text": [
        " kabelfehlerortung  [German] OK\n"
       ]
      },
      {
       "output_type": "stream",
       "stream": "stdout",
       "text": [
        " \ucf00\uc774\uc628!  [Korean] Failed!\n",
        "Prediction: Chinese, Received: 1980, Trained: 737, Last-500 Accuracy: 0.708\n"
       ]
      },
      {
       "output_type": "stream",
       "stream": "stdout",
       "text": [
        " william carvalho  [French] OK\n"
       ]
      },
      {
       "output_type": "stream",
       "stream": "stdout",
       "text": [
        " grand prix de plouay f\u00e9minin  [French] Failed!\n",
        "Prediction: German, Received: 1982, Trained: 738, Last-500 Accuracy: 0.708\n"
       ]
      },
      {
       "output_type": "stream",
       "stream": "stdout",
       "text": [
        " \u5458\u5c97\u7ad9  [Chinese] OK\n"
       ]
      },
      {
       "output_type": "stream",
       "stream": "stdout",
       "text": [
        " herman von hohenhausen  [Swedish] Failed!\n",
        "Prediction: German, Received: 1984, Trained: 739, Last-500 Accuracy: 0.706\n"
       ]
      },
      {
       "output_type": "stream",
       "stream": "stdout",
       "text": [
        " san nicol\u00e1s del real camino  [German] Failed!\n",
        "Prediction: French, Received: 1985, Trained: 740, Last-500 Accuracy: 0.706\n"
       ]
      },
      {
       "output_type": "stream",
       "stream": "stdout",
       "text": [
        " ben rienstra  [Dutch] Failed!\n",
        "Prediction: German, Received: 1986, Trained: 741, Last-500 Accuracy: 0.704\n"
       ]
      },
      {
       "output_type": "stream",
       "stream": "stdout",
       "text": [
        " saccoloma galeottii  [Swedish] OK\n"
       ]
      },
      {
       "output_type": "stream",
       "stream": "stdout",
       "text": [
        " the last ship s\u00e9rie t\u00e9l\u00e9vis\u00e9e  [French] OK\n"
       ]
      },
      {
       "output_type": "stream",
       "stream": "stdout",
       "text": [
        " les copains film 1964  [French] Failed!\n",
        "Prediction: German, Received: 1989, Trained: 742, Last-500 Accuracy: 0.704\n"
       ]
      },
      {
       "output_type": "stream",
       "stream": "stdout",
       "text": [
        " callitriche macropteryx  [Swedish] OK\n"
       ]
      },
      {
       "output_type": "stream",
       "stream": "stdout",
       "text": [
        " hans zimmer  [Hungarian] OK\n"
       ]
      },
      {
       "output_type": "stream",
       "stream": "stdout",
       "text": [
        " guerre du donbass  [French] Failed!\n",
        "Prediction: German, Received: 1992, Trained: 743, Last-500 Accuracy: 0.702\n"
       ]
      },
      {
       "output_type": "stream",
       "stream": "stdout",
       "text": [
        " cant\u00f3 d'ate  [Catalan] OK\n"
       ]
      },
      {
       "output_type": "stream",
       "stream": "stdout",
       "text": [
        " kov\u00e1cs \u201et\u00fccsi\u201d mih\u00e1ly  [Hungarian] OK\n"
       ]
      },
      {
       "output_type": "stream",
       "stream": "stdout",
       "text": [
        " les copains film 1964  [French] OK\n"
       ]
      },
      {
       "output_type": "stream",
       "stream": "stdout",
       "text": [
        " nelly baumann  [German] OK\n"
       ]
      },
      {
       "output_type": "stream",
       "stream": "stdout",
       "text": [
        " jan przykling  [Polish] Failed!\n",
        "Prediction: Dutch, Received: 1997, Trained: 744, Last-500 Accuracy: 0.704\n"
       ]
      },
      {
       "output_type": "stream",
       "stream": "stdout",
       "text": [
        " partito per la giustizia e lo sviluppo  [Italian] Failed!\n",
        "Prediction: Spanish, Received: 1998, Trained: 745, Last-500 Accuracy: 0.704\n"
       ]
      },
      {
       "output_type": "stream",
       "stream": "stdout",
       "text": [
        " kaltenweide  [German] OK\n"
       ]
      },
      {
       "output_type": "stream",
       "stream": "stdout",
       "text": [
        " wyb\u00f3r mafii  [Polish] OK\n"
       ]
      },
      {
       "output_type": "stream",
       "stream": "stdout",
       "text": [
        " saccoloma inaequale  [Swedish] OK\n"
       ]
      },
      {
       "output_type": "stream",
       "stream": "stdout",
       "text": [
        " diego corrientes  [Spanish] Failed!\n",
        "Prediction: German, Received: 2002, Trained: 746, Last-500 Accuracy: 0.704\n"
       ]
      },
      {
       "output_type": "stream",
       "stream": "stdout",
       "text": [
        " callitriche microphylla  [Swedish] OK\n"
       ]
      },
      {
       "output_type": "stream",
       "stream": "stdout",
       "text": [
        " millionenlinie  [German] Failed!\n",
        "Prediction: French, Received: 2004, Trained: 747, Last-500 Accuracy: 0.706\n"
       ]
      },
      {
       "output_type": "stream",
       "stream": "stdout",
       "text": [
        " saccoloma laxum  [Swedish] OK\n"
       ]
      },
      {
       "output_type": "stream",
       "stream": "stdout",
       "text": [
        " chancelade  [French] OK\n"
       ]
      },
      {
       "output_type": "stream",
       "stream": "stdout",
       "text": [
        " carlos t\u00e9vez  [Italian] Failed!\n",
        "Prediction: French, Received: 2007, Trained: 748, Last-500 Accuracy: 0.704\n"
       ]
      },
      {
       "output_type": "stream",
       "stream": "stdout",
       "text": [
        " vera m\u00f3nica  [Portuguese] Failed!\n",
        "Prediction: Swedish, Received: 2008, Trained: 749, Last-500 Accuracy: 0.702\n"
       ]
      },
      {
       "output_type": "stream",
       "stream": "stdout",
       "text": [
        " karbulovo  [German] OK\n"
       ]
      },
      {
       "output_type": "stream",
       "stream": "stdout",
       "text": [
        " auf dem wasser zu singen  [French] OK\n"
       ]
      },
      {
       "output_type": "stream",
       "stream": "stdout",
       "text": [
        " tarl\u00f3s istv\u00e1n  [Hungarian] Failed!\n",
        "Prediction: Dutch, Received: 2011, Trained: 750, Last-500 Accuracy: 0.706\n"
       ]
      },
      {
       "output_type": "stream",
       "stream": "stdout",
       "text": [
        " reprezentacja finlandii na mistrzostwach \u015bwiata w narciarstwie klasycznym 2007  [Polish] OK\n"
       ]
      },
      {
       "output_type": "stream",
       "stream": "stdout",
       "text": [
        " cant\u00f3 d'atharratze sorhol\u00fcze  [Catalan] OK\n"
       ]
      },
      {
       "output_type": "stream",
       "stream": "stdout",
       "text": [
        " callitriche muelleri  [Swedish] OK\n"
       ]
      },
      {
       "output_type": "stream",
       "stream": "stdout",
       "text": [
        " rh\u00f6nblick  [German] OK\n"
       ]
      },
      {
       "output_type": "stream",
       "stream": "stdout",
       "text": [
        " \u0430\u0431\u0443\u0431\u0430\u043a\u0430\u0440 \u0432\u0435\u043d\u0441\u0430\u043d  [Russian] OK\n"
       ]
      },
      {
       "output_type": "stream",
       "stream": "stdout",
       "text": [
        " b\u00e9guinages saint vaast et saint nicolas  [French] OK\n"
       ]
      },
      {
       "output_type": "stream",
       "stream": "stdout",
       "text": [
        " ludwig weber pilot  [German] OK\n"
       ]
      },
      {
       "output_type": "stream",
       "stream": "stdout",
       "text": [
        " \u4e80\u307e\u3093\u3058\u3085\u3046  [Japanese] OK\n"
       ]
      },
      {
       "output_type": "stream",
       "stream": "stdout",
       "text": [
        " saccoloma membranaceum  [Swedish] OK\n"
       ]
      },
      {
       "output_type": "stream",
       "stream": "stdout",
       "text": [
        " liste der kreisstra\u00dfen im hochsauerlandkreis  [German] OK\n"
       ]
      },
      {
       "output_type": "stream",
       "stream": "stdout",
       "text": [
        " \u043d\u0438\u043a\u043e\u043b\u0430 \u043a\u043e\u043c\u0438\u0442  [Bulgarian] OK\n"
       ]
      },
      {
       "output_type": "stream",
       "stream": "stdout",
       "text": [
        " \u0436\u0435\u043d\u0435\u0432\u0441\u043a\u0430\u044f \u0431\u0438\u0431\u043b\u0438\u044f  [Russian] OK\n"
       ]
      },
      {
       "output_type": "stream",
       "stream": "stdout",
       "text": [
        " happiness charge \u5149\u4e4b\u7f8e\u5c11\u5973\uff01  [Chinese] Failed!\n",
        "Prediction: French, Received: 2024, Trained: 751, Last-500 Accuracy: 0.710\n"
       ]
      },
      {
       "output_type": "stream",
       "stream": "stdout",
       "text": [
        " hartmut von hentig  [German] OK\n"
       ]
      },
      {
       "output_type": "stream",
       "stream": "stdout",
       "text": [
        " vaihdokkaat  [Finnish] Failed!\n",
        "Prediction: Dutch, Received: 2026, Trained: 752, Last-500 Accuracy: 0.710\n"
       ]
      },
      {
       "output_type": "stream",
       "stream": "stdout",
       "text": [
        " b\u00e9guinage notre dame  [French] OK\n"
       ]
      },
      {
       "output_type": "stream",
       "stream": "stdout",
       "text": [
        " saison 5 de fbi : duo tr\u00e8s sp\u00e9cial  [French] OK\n"
       ]
      },
      {
       "output_type": "stream",
       "stream": "stdout",
       "text": [
        " \u30c0\u30cb\u30fc\u30fb\u30d0\u30ec\u30f3\u30b7\u30a2  [Japanese] OK\n"
       ]
      },
      {
       "output_type": "stream",
       "stream": "stdout",
       "text": [
        " \u4e2d\u5ddd\u674f\u5948  [Japanese] Failed!\n",
        "Prediction: Chinese, Received: 2030, Trained: 753, Last-500 Accuracy: 0.708\n"
       ]
      },
      {
       "output_type": "stream",
       "stream": "stdout",
       "text": [
        " callitriche nafiolskyi  [Swedish] OK\n"
       ]
      },
      {
       "output_type": "stream",
       "stream": "stdout",
       "text": [
        " zasada nr 1 film 2008  [Polish] Failed!\n",
        "Prediction: German, Received: 2032, Trained: 754, Last-500 Accuracy: 0.706\n"
       ]
      },
      {
       "output_type": "stream",
       "stream": "stdout",
       "text": [
        " hans piesker  [German] OK\n"
       ]
      },
      {
       "output_type": "stream",
       "stream": "stdout",
       "text": [
        " a 10\u306b\u95a2\u9023\u3059\u308b\u4f5c\u54c1\u306e\u4e00\u89a7  [Japanese] Failed!\n",
        "Prediction: Italian, Received: 2034, Trained: 755, Last-500 Accuracy: 0.706\n"
       ]
      },
      {
       "output_type": "stream",
       "stream": "stdout",
       "text": [
        " elecciones al parlamento europeo de 2014  [Spanish] Failed!\n",
        "Prediction: German, Received: 2035, Trained: 756, Last-500 Accuracy: 0.704\n"
       ]
      },
      {
       "output_type": "stream",
       "stream": "stdout",
       "text": [
        " saccoloma nigrescens  [Swedish] OK\n"
       ]
      },
      {
       "output_type": "stream",
       "stream": "stdout",
       "text": [
        " otto de la rocha  [Spanish] Failed!\n",
        "Prediction: Italian, Received: 2037, Trained: 757, Last-500 Accuracy: 0.702\n"
       ]
      },
      {
       "output_type": "stream",
       "stream": "stdout",
       "text": [
        " \u0441\u0442\u0430\u0434\u0438\u043e\u043d \u043d\u0430 \u0442\u0440\u0435\u0442\u044c\u0435\u0439 \u043f\u0435\u0441\u0447\u0430\u043d\u043e\u0439 \u0443\u043b\u0438\u0446\u0435  [Russian] OK\n"
       ]
      },
      {
       "output_type": "stream",
       "stream": "stdout",
       "text": [
        " campeonato mundial de b\u00e1dminton de 2014  [Spanish] OK\n"
       ]
      },
      {
       "output_type": "stream",
       "stream": "stdout",
       "text": [
        " k\u00f6nig ludwig schlossbrauerei kaltenberg  [German] Failed!\n",
        "Prediction: French, Received: 2040, Trained: 758, Last-500 Accuracy: 0.700\n"
       ]
      },
      {
       "output_type": "stream",
       "stream": "stdout",
       "text": [
        " \u5929\u306b\u3072\u3073\u304d  [Japanese] OK\n"
       ]
      },
      {
       "output_type": "stream",
       "stream": "stdout",
       "text": [
        " cant\u00f3 d'athis mons  [Catalan] OK\n"
       ]
      },
      {
       "output_type": "stream",
       "stream": "stdout",
       "text": [
        " \uc548\ud76c\uc815  [Korean] Failed!\n",
        "Prediction: Chinese, Received: 2043, Trained: 759, Last-500 Accuracy: 0.700\n"
       ]
      },
      {
       "output_type": "stream",
       "stream": "stdout",
       "text": [
        " \u79d8\u5bc6\u82b1\u5712 \u97d3\u570b\u96fb\u8996\u5287  [Chinese] OK\n"
       ]
      },
      {
       "output_type": "stream",
       "stream": "stdout",
       "text": [
        " callitriche nubigena  [Swedish] OK\n"
       ]
      },
      {
       "output_type": "stream",
       "stream": "stdout",
       "text": [
        " otto hahn  [German] Failed!\n",
        "Prediction: Spanish, Received: 2046, Trained: 760, Last-500 Accuracy: 0.700\n"
       ]
      },
      {
       "output_type": "stream",
       "stream": "stdout",
       "text": [
        " filippo di schleswig holstein sonderburg gl\u00fccksburg  [Italian] OK\n"
       ]
      },
      {
       "output_type": "stream",
       "stream": "stdout",
       "text": [
        " saccoloma quadripinnatum  [Swedish] OK\n"
       ]
      },
      {
       "output_type": "stream",
       "stream": "stdout",
       "text": [
        " mustafa saymak  [Dutch] Failed!\n",
        "Prediction: Polish, Received: 2049, Trained: 761, Last-500 Accuracy: 0.700\n"
       ]
      },
      {
       "output_type": "stream",
       "stream": "stdout",
       "text": [
        " \u043d\u0438\u043d\u0434\u0437\u044f  [Russian] OK\n"
       ]
      },
      {
       "output_type": "stream",
       "stream": "stdout",
       "text": [
        " marionettes inc.  [Dutch] Failed!\n",
        "Prediction: Swedish, Received: 2051, Trained: 762, Last-500 Accuracy: 0.698\n"
       ]
      },
      {
       "output_type": "stream",
       "stream": "stdout",
       "text": [
        " vaszil mihajlovics ivancsuk  [Hungarian] OK\n"
       ]
      },
      {
       "output_type": "stream",
       "stream": "stdout",
       "text": [
        " auf dem wasser zu singen  [French] OK\n"
       ]
      },
      {
       "output_type": "stream",
       "stream": "stdout",
       "text": [
        " biblioth\u00e8que des sciences de l'antiquit\u00e9  [French] OK\n"
       ]
      },
      {
       "output_type": "stream",
       "stream": "stdout",
       "text": [
        " foo fighters  [Spanish] OK\n"
       ]
      },
      {
       "output_type": "stream",
       "stream": "stdout",
       "text": [
        " \u81fa\u5317\u6377\u904b  [Chinese] OK\n"
       ]
      },
      {
       "output_type": "stream",
       "stream": "stdout",
       "text": [
        " trait\u00e9 de coop\u00e9ration sur les brevets  [French] OK\n"
       ]
      },
      {
       "output_type": "stream",
       "stream": "stdout",
       "text": [
        " saccoloma squamosum  [Swedish] OK\n"
       ]
      },
      {
       "output_type": "stream",
       "stream": "stdout",
       "text": [
        " pos\u0142owie na sejm rzeczypospolitej polskiej vii kadencji  [Polish] OK\n"
       ]
      },
      {
       "output_type": "stream",
       "stream": "stdout",
       "text": [
        " callitriche nuttallii  [Swedish] OK\n"
       ]
      },
      {
       "output_type": "stream",
       "stream": "stdout",
       "text": [
        " bourse d'\u00e9tude  [French] OK\n"
       ]
      },
      {
       "output_type": "stream",
       "stream": "stdout",
       "text": [
        " colline de l\u00e9menc  [French] OK\n"
       ]
      },
      {
       "output_type": "stream",
       "stream": "stdout",
       "text": [
        " cant\u00f3 d'athis de l'orne  [Catalan] OK\n"
       ]
      },
      {
       "output_type": "stream",
       "stream": "stdout",
       "text": [
        " \ud0c4\uc131\ud30c  [Korean] OK\n"
       ]
      },
      {
       "output_type": "stream",
       "stream": "stdout",
       "text": [
        " callitriche palustris subsp. obtusangula  [Swedish] OK\n"
       ]
      },
      {
       "output_type": "stream",
       "stream": "stdout",
       "text": [
        " service des transports en commun de l'agglom\u00e9ration rennaise  [French] OK\n"
       ]
      },
      {
       "output_type": "stream",
       "stream": "stdout",
       "text": [
        " saccoloma sunduei  [Swedish] OK\n"
       ]
      },
      {
       "output_type": "stream",
       "stream": "stdout",
       "text": [
        " \u7ea6\u7ff0\u4e00\u4e16 \u541b\u58eb\u5766\u4e01\u5821\u7267\u9996  [Chinese] OK\n"
       ]
      },
      {
       "output_type": "stream",
       "stream": "stdout",
       "text": [
        " nelly baumann  [German] OK\n"
       ]
      },
      {
       "output_type": "stream",
       "stream": "stdout",
       "text": [
        " kari mond  [German] OK\n"
       ]
      },
      {
       "output_type": "stream",
       "stream": "stdout",
       "text": [
        " lucy hale  [French] Failed!\n",
        "Prediction: German, Received: 2071, Trained: 763, Last-500 Accuracy: 0.712\n"
       ]
      },
      {
       "output_type": "stream",
       "stream": "stdout",
       "text": [
        " schloss au hallertau  [German] OK\n"
       ]
      },
      {
       "output_type": "stream",
       "stream": "stdout",
       "text": [
        " \u0161koda 742  [Czech] Failed!\n",
        "Prediction: Polish, Received: 2073, Trained: 764, Last-500 Accuracy: 0.710\n"
       ]
      },
      {
       "output_type": "stream",
       "stream": "stdout",
       "text": [
        " neil armstrong  [French] Failed!\n",
        "Prediction: Dutch, Received: 2074, Trained: 765, Last-500 Accuracy: 0.708\n"
       ]
      },
      {
       "output_type": "stream",
       "stream": "stdout",
       "text": [
        " \u0622\u062c\u062f\u0627 \u067e\u0642\u0627\u0646  [Arabic] Failed!\n",
        "Prediction: Farsi, Received: 2075, Trained: 766, Last-500 Accuracy: 0.706\n"
       ]
      },
      {
       "output_type": "stream",
       "stream": "stdout",
       "text": [
        " belchite  [Italian] Failed!\n",
        "Prediction: Portuguese, Received: 2076, Trained: 767, Last-500 Accuracy: 0.704\n"
       ]
      },
      {
       "output_type": "stream",
       "stream": "stdout",
       "text": [
        " der erlk\u00f6nig  [French] OK\n"
       ]
      },
      {
       "output_type": "stream",
       "stream": "stdout",
       "text": [
        " \u56fd\u6b4c  [Japanese] Failed!\n",
        "Prediction: Chinese, Received: 2078, Trained: 768, Last-500 Accuracy: 0.702\n"
       ]
      },
      {
       "output_type": "stream",
       "stream": "stdout",
       "text": [
        " b\u00e9ghin say  [French] OK\n"
       ]
      },
      {
       "output_type": "stream",
       "stream": "stdout",
       "text": [
        " ken garraway  [Italian] Failed!\n",
        "Prediction: Swedish, Received: 2080, Trained: 769, Last-500 Accuracy: 0.702\n"
       ]
      },
      {
       "output_type": "stream",
       "stream": "stdout",
       "text": [
        " alex tagliani  [Portuguese] OK\n"
       ]
      },
      {
       "output_type": "stream",
       "stream": "stdout",
       "text": [
        " saccolomataceae  [Swedish] OK\n"
       ]
      },
      {
       "output_type": "stream",
       "stream": "stdout",
       "text": [
        " pflegebedarf  [German] OK\n"
       ]
      },
      {
       "output_type": "stream",
       "stream": "stdout",
       "text": [
        " callitriche obtusangula  [Swedish] OK\n"
       ]
      },
      {
       "output_type": "stream",
       "stream": "stdout",
       "text": [
        " ngc 7084  [Polish] Failed!\n",
        "Prediction: Dutch, Received: 2085, Trained: 770, Last-500 Accuracy: 0.704\n"
       ]
      },
      {
       "output_type": "stream",
       "stream": "stdout",
       "text": [
        " wapen van beuningen  [Dutch] OK\n"
       ]
      },
      {
       "output_type": "stream",
       "stream": "stdout",
       "text": [
        " cant\u00f3 d'attichy  [Catalan] OK\n"
       ]
      },
      {
       "output_type": "stream",
       "stream": "stdout",
       "text": [
        " primaci\u00e1lny pal\u00e1c  [Slovak] Failed!\n",
        "Prediction: Hungarian, Received: 2088, Trained: 771, Last-500 Accuracy: 0.704\n"
       ]
      },
      {
       "output_type": "stream",
       "stream": "stdout",
       "text": [
        " cheirodon kiliani  [Portuguese] OK\n"
       ]
      },
      {
       "output_type": "stream",
       "stream": "stdout",
       "text": [
        " east jesus nowhere  [Greek] Failed!\n",
        "Prediction: Swedish, Received: 2090, Trained: 772, Last-500 Accuracy: 0.702\n"
       ]
      },
      {
       "output_type": "stream",
       "stream": "stdout",
       "text": [
        " liste der kreisstra\u00dfen im kreis h\u00f6xter  [German] OK\n"
       ]
      },
      {
       "output_type": "stream",
       "stream": "stdout",
       "text": [
        " inversionswetterlage  [German] Failed!\n",
        "Prediction: French, Received: 2092, Trained: 773, Last-500 Accuracy: 0.702\n"
       ]
      },
      {
       "output_type": "stream",
       "stream": "stdout",
       "text": [
        " f\u00e5gels\u00e5ng olika betydelser  [Swedish] Failed!\n",
        "Prediction: German, Received: 2093, Trained: 774, Last-500 Accuracy: 0.702\n"
       ]
      },
      {
       "output_type": "stream",
       "stream": "stdout",
       "text": [
        " charles mangin  [German] Failed!\n",
        "Prediction: French, Received: 2094, Trained: 775, Last-500 Accuracy: 0.700\n"
       ]
      },
      {
       "output_type": "stream",
       "stream": "stdout",
       "text": [
        " rj mitte  [Finnish] Failed!\n",
        "Prediction: German, Received: 2095, Trained: 776, Last-500 Accuracy: 0.700\n"
       ]
      },
      {
       "output_type": "stream",
       "stream": "stdout",
       "text": [
        " callitriche occidentalis  [Swedish] OK\n"
       ]
      },
      {
       "output_type": "stream",
       "stream": "stdout",
       "text": [
        " science fiction jahr 2005  [German] OK\n"
       ]
      },
      {
       "output_type": "stream",
       "stream": "stdout",
       "text": [
        " congolacerta  [Dutch] Failed!\n",
        "Prediction: Swedish, Received: 2098, Trained: 777, Last-500 Accuracy: 0.698\n"
       ]
      },
      {
       "output_type": "stream",
       "stream": "stdout",
       "text": [
        " immacolata e concetta l'altra gelosia  [Italian] Failed!\n",
        "Prediction: Swedish, Received: 2099, Trained: 778, Last-500 Accuracy: 0.696\n"
       ]
      },
      {
       "output_type": "stream",
       "stream": "stdout",
       "text": [
        " schlo\u00dfbrauerei schwarzbach  [German] OK\n"
       ]
      },
      {
       "output_type": "stream",
       "stream": "stdout",
       "text": [
        " tupac shakur/diskografie  [German] OK\n"
       ]
      },
      {
       "output_type": "stream",
       "stream": "stdout",
       "text": [
        " \u304a\u304a\u3059\u307f\u885d\u7a81\u4e8b\u6545  [Japanese] OK\n"
       ]
      },
      {
       "output_type": "stream",
       "stream": "stdout",
       "text": [
        " \u0448\u043c\u0443\u043b\u043e\u0432\u0438\u0437\u043d\u0430  [Russian] Failed!\n",
        "Prediction: Ukrainian, Received: 2103, Trained: 779, Last-500 Accuracy: 0.694\n"
       ]
      },
      {
       "output_type": "stream",
       "stream": "stdout",
       "text": [
        " \u0436\u0435\u043d\u0435\u0432\u0441\u043a\u0430\u044f \u0431\u0438\u0431\u043b\u0438\u044f  [Russian] OK\n"
       ]
      },
      {
       "output_type": "stream",
       "stream": "stdout",
       "text": [
        " tsv1860\u30df\u30e5\u30f3\u30d8\u30f3  [Japanese] OK\n"
       ]
      },
      {
       "output_type": "stream",
       "stream": "stdout",
       "text": [
        " cant\u00f3 d'attigny  [Catalan] OK\n"
       ]
      },
      {
       "output_type": "stream",
       "stream": "stdout",
       "text": [
        " callitriche oreophila  [Swedish] OK\n"
       ]
      },
      {
       "output_type": "stream",
       "stream": "stdout",
       "text": [
        " \ud0c4\uc131\ud30c  [Korean] OK\n"
       ]
      },
      {
       "output_type": "stream",
       "stream": "stdout",
       "text": [
        " \u0625\u0628\u0631\u0627\u0647\u064a\u0645 \u0627\u0644\u0639\u0631\u0627\u0628\u064a  [Arabic] OK\n"
       ]
      },
      {
       "output_type": "stream",
       "stream": "stdout",
       "text": [
        " deathlok  [Italian] OK\n"
       ]
      },
      {
       "output_type": "stream",
       "stream": "stdout",
       "text": [
        " manjra  [French] Failed!\n",
        "Prediction: Swedish, Received: 2111, Trained: 780, Last-500 Accuracy: 0.698\n"
       ]
      },
      {
       "output_type": "stream",
       "stream": "stdout",
       "text": [
        " \u4e00\u689d\u548c\u77e2  [Chinese] OK\n"
       ]
      },
      {
       "output_type": "stream",
       "stream": "stdout",
       "text": [
        " \u30b8\u30e3\u30d1\u30cd\u30c3\u30c8\u305f\u304b\u305f  [Japanese] OK\n"
       ]
      },
      {
       "output_type": "stream",
       "stream": "stdout",
       "text": [
        " manuel maples arce  [German] Failed!\n",
        "Prediction: French, Received: 2114, Trained: 781, Last-500 Accuracy: 0.698\n"
       ]
      },
      {
       "output_type": "stream",
       "stream": "stdout",
       "text": [
        " malattia itai itai  [Italian] OK\n"
       ]
      },
      {
       "output_type": "stream",
       "stream": "stdout",
       "text": [
        " schlo\u00dfbrauerei rheder  [German] OK\n"
       ]
      },
      {
       "output_type": "stream",
       "stream": "stdout",
       "text": [
        " grunge  [Turkish] OK\n"
       ]
      },
      {
       "output_type": "stream",
       "stream": "stdout",
       "text": [
        " saison 1 de the last ship  [French] Failed!\n",
        "Prediction: German, Received: 2118, Trained: 782, Last-500 Accuracy: 0.700\n"
       ]
      },
      {
       "output_type": "stream",
       "stream": "stdout",
       "text": [
        " tom\u00e1\u0161 necid  [Dutch] OK\n"
       ]
      },
      {
       "output_type": "stream",
       "stream": "stdout",
       "text": [
        " callitriche petriei  [Swedish] OK\n"
       ]
      },
      {
       "output_type": "stream",
       "stream": "stdout",
       "text": [
        " d\u00e9canation 2014  [French] OK\n"
       ]
      },
      {
       "output_type": "stream",
       "stream": "stdout",
       "text": [
        " limit  [Italian] OK\n"
       ]
      },
      {
       "output_type": "stream",
       "stream": "stdout",
       "text": [
        " cant\u00f3 d'aubanha est  [Catalan] OK\n"
       ]
      },
      {
       "output_type": "stream",
       "stream": "stdout",
       "text": [
        " bratislava mestsk\u00e1 \u010das\u0165 dev\u00ednska nov\u00e1 ves  [Slovak] Failed!\n",
        "Prediction: Dutch, Received: 2124, Trained: 783, Last-500 Accuracy: 0.698\n"
       ]
      },
      {
       "output_type": "stream",
       "stream": "stdout",
       "text": [
        " \u0627\u0644\u0648\u0631\u062f\u0629 \u0627\u0644\u062d\u0645\u0631\u0627\u0621 \u0641\u064a\u0644\u0645  [Arabic] OK\n"
       ]
      },
      {
       "output_type": "stream",
       "stream": "stdout",
       "text": [
        " 2 es metr\u00f3 sz\u00f6ul  [Hungarian] OK\n"
       ]
      },
      {
       "output_type": "stream",
       "stream": "stdout",
       "text": [
        " campeonato mundial de b\u00e1dminton de 2014  [Spanish] OK\n"
       ]
      },
      {
       "output_type": "stream",
       "stream": "stdout",
       "text": [
        " brett rogers  [Swedish] Failed!\n",
        "Prediction: Dutch, Received: 2128, Trained: 784, Last-500 Accuracy: 0.698\n"
       ]
      },
      {
       "output_type": "stream",
       "stream": "stdout",
       "text": [
        " michael vii.  [German] OK\n"
       ]
      },
      {
       "output_type": "stream",
       "stream": "stdout",
       "text": [
        " callitriche pulchra  [Swedish] OK\n"
       ]
      },
      {
       "output_type": "stream",
       "stream": "stdout",
       "text": [
        " \u5927\u97e9\u6c11\u56fd  [Chinese] Failed!\n",
        "Prediction: Japanese, Received: 2131, Trained: 785, Last-500 Accuracy: 0.698\n"
       ]
      },
      {
       "output_type": "stream",
       "stream": "stdout",
       "text": [
        " \u05de\u05e9\u05d4 \u05d0\u05d9\u05e8\u05e0\u05e9\u05d8\u05d9\u05d9\u05df  [Hebrew] OK\n"
       ]
      },
      {
       "output_type": "stream",
       "stream": "stdout",
       "text": [
        " gibson explorer  [Russian] Failed!\n",
        "Prediction: German, Received: 2133, Trained: 786, Last-500 Accuracy: 0.696\n"
       ]
      },
      {
       "output_type": "stream",
       "stream": "stdout",
       "text": [
        " johannebergskyrkan  [Swedish] Failed!\n",
        "Prediction: French, Received: 2134, Trained: 787, Last-500 Accuracy: 0.694\n"
       ]
      },
      {
       "output_type": "stream",
       "stream": "stdout",
       "text": [
        " provincia del new jersey  [Italian] OK\n"
       ]
      },
      {
       "output_type": "stream",
       "stream": "stdout",
       "text": [
        " schlossbrauerei sandersdorf  [German] OK\n"
       ]
      },
      {
       "output_type": "stream",
       "stream": "stdout",
       "text": [
        " liste der kreisstra\u00dfen im kreis kleve  [German] OK\n"
       ]
      },
      {
       "output_type": "stream",
       "stream": "stdout",
       "text": [
        " sanit\u00e4tsdienst heer  [German] OK\n"
       ]
      },
      {
       "output_type": "stream",
       "stream": "stdout",
       "text": [
        " cheirodon pisciculus  [Portuguese] Failed!\n",
        "Prediction: German, Received: 2139, Trained: 788, Last-500 Accuracy: 0.698\n"
       ]
      },
      {
       "output_type": "stream",
       "stream": "stdout",
       "text": [
        " gizeh  [German] OK\n"
       ]
      },
      {
       "output_type": "stream",
       "stream": "stdout",
       "text": [
        " \u0432\u0435\u043b\u0438\u043a\u0430\u044f \u0445\u0430\u0440\u0442\u0438\u044f \u0432\u043e\u043b\u044c\u043d\u043e\u0441\u0442\u0435\u0439  [Russian] OK\n"
       ]
      },
      {
       "output_type": "stream",
       "stream": "stdout",
       "text": [
        " callitriche quindiensis  [Swedish] OK\n"
       ]
      },
      {
       "output_type": "stream",
       "stream": "stdout",
       "text": [
        " cant\u00f3 d'aubanha oest  [Catalan] OK\n"
       ]
      },
      {
       "output_type": "stream",
       "stream": "stdout",
       "text": [
        " bettina antoni  [French] Failed!\n",
        "Prediction: Swedish, Received: 2144, Trained: 789, Last-500 Accuracy: 0.702\n"
       ]
      },
      {
       "output_type": "stream",
       "stream": "stdout",
       "text": [
        " \u9ad8\u7aaa\u70ad\u9271  [Japanese] OK\n"
       ]
      },
      {
       "output_type": "stream",
       "stream": "stdout",
       "text": [
        " arraia azpilun  [Euskara] Failed!\n",
        "Prediction: Italian, Received: 2146, Trained: 790, Last-500 Accuracy: 0.702\n"
       ]
      },
      {
       "output_type": "stream",
       "stream": "stdout",
       "text": [
        " \u0442\u043e\u0440\u0440\u0435\u0441 \u0444\u0435\u0440\u043d\u0430\u043d\u0434\u043e  [Russian] OK\n"
       ]
      },
      {
       "output_type": "stream",
       "stream": "stdout",
       "text": [
        " \u5927\u5716\u66f8\u9928\u7684\u7267\u7f8a\u4eba  [Chinese] OK\n"
       ]
      },
      {
       "output_type": "stream",
       "stream": "stdout",
       "text": [
        " animelo summer live  [Chinese] Failed!\n",
        "Prediction: French, Received: 2149, Trained: 791, Last-500 Accuracy: 0.704\n"
       ]
      },
      {
       "output_type": "stream",
       "stream": "stdout",
       "text": [
        " baguette paysanne \u00e0 la moutarde  [French] Failed!\n",
        "Prediction: German, Received: 2150, Trained: 792, Last-500 Accuracy: 0.704\n"
       ]
      },
      {
       "output_type": "stream",
       "stream": "stdout",
       "text": [
        " 2014 \u05d1\u05d9\u05e9\u05e8\u05d0\u05dc  [Hebrew] OK\n"
       ]
      },
      {
       "output_type": "stream",
       "stream": "stdout",
       "text": [
        " \u0435\u043a\u0430\u0442\u0435\u0440\u0438\u043d\u0431\u0443\u0440\u0433  [Russian] OK\n"
       ]
      },
      {
       "output_type": "stream",
       "stream": "stdout",
       "text": [
        " einzelgrabkultur  [German] OK\n"
       ]
      },
      {
       "output_type": "stream",
       "stream": "stdout",
       "text": [
        " felipe vi d'espagne  [French] Failed!\n",
        "Prediction: German, Received: 2154, Trained: 793, Last-500 Accuracy: 0.704\n"
       ]
      },
      {
       "output_type": "stream",
       "stream": "stdout",
       "text": [
        " callitriche raveniana  [Swedish] OK\n"
       ]
      },
      {
       "output_type": "stream",
       "stream": "stdout",
       "text": [
        " \u30b0\u30eb\u30ab \u66d6\u6627\u3055\u56de\u907f  [Japanese] OK\n"
       ]
      },
      {
       "output_type": "stream",
       "stream": "stdout",
       "text": [
        " \u05d4\u05de\u05e4\u05dc\u05d2\u05d4 \u05d4\u05d3\u05de\u05d5\u05e7\u05e8\u05d8\u05d9\u05ea \u05d0\u05d9\u05d8\u05dc\u05d9\u05d4  [Hebrew] OK\n"
       ]
      },
      {
       "output_type": "stream",
       "stream": "stdout",
       "text": [
        " chlidichthys abruptus  [Euskara] Failed!\n",
        "Prediction: German, Received: 2158, Trained: 794, Last-500 Accuracy: 0.702\n"
       ]
      },
      {
       "output_type": "stream",
       "stream": "stdout",
       "text": [
        " saison 2014 2015 du dijon fco  [French] OK\n"
       ]
      },
      {
       "output_type": "stream",
       "stream": "stdout",
       "text": [
        " marpessa dawn  [French] Failed!\n",
        "Prediction: Swedish, Received: 2160, Trained: 795, Last-500 Accuracy: 0.702\n"
       ]
      },
      {
       "output_type": "stream",
       "stream": "stdout",
       "text": [
        " schlossbrauerei neunkirchen  [German] OK\n"
       ]
      },
      {
       "output_type": "stream",
       "stream": "stdout",
       "text": [
        " sindernbach  [German] OK\n"
       ]
      },
      {
       "output_type": "stream",
       "stream": "stdout",
       "text": [
        " intj  [Italian] Failed!\n",
        "Prediction: Polish, Received: 2163, Trained: 796, Last-500 Accuracy: 0.704\n"
       ]
      },
      {
       "output_type": "stream",
       "stream": "stdout",
       "text": [
        " gaja  [French] Failed!\n",
        "Prediction: Spanish, Received: 2164, Trained: 797, Last-500 Accuracy: 0.702\n"
       ]
      },
      {
       "output_type": "stream",
       "stream": "stdout",
       "text": [
        " cant\u00f3 d'aubaterra  [Catalan] OK\n"
       ]
      },
      {
       "output_type": "stream",
       "stream": "stdout",
       "text": [
        " hans zimmer  [Hungarian] OK\n"
       ]
      },
      {
       "output_type": "stream",
       "stream": "stdout",
       "text": [
        " \uc624\ucf00\uc774\ubc84\uc2a4  [Korean] OK\n"
       ]
      },
      {
       "output_type": "stream",
       "stream": "stdout",
       "text": [
        " callitriche regis jubae  [Swedish] OK\n"
       ]
      },
      {
       "output_type": "stream",
       "stream": "stdout",
       "text": [
        " ellens dritter gesang  [French] Failed!\n",
        "Prediction: German, Received: 2169, Trained: 798, Last-500 Accuracy: 0.704\n"
       ]
      },
      {
       "output_type": "stream",
       "stream": "stdout",
       "text": [
        " bataillon alpin de forteresse  [French] OK\n"
       ]
      },
      {
       "output_type": "stream",
       "stream": "stdout",
       "text": [
        " mutaci\u00f3n  [Spanish] OK\n"
       ]
      },
      {
       "output_type": "stream",
       "stream": "stdout",
       "text": [
        " elbit hermes 450  [Russian] Failed!\n",
        "Prediction: German, Received: 2172, Trained: 799, Last-500 Accuracy: 0.702\n"
       ]
      },
      {
       "output_type": "stream",
       "stream": "stdout",
       "text": [
        " dion cassius  [French] OK\n"
       ]
      },
      {
       "output_type": "stream",
       "stream": "stdout",
       "text": [
        " \u044f\u0440\u043e\u0441\u043b\u0430\u0432 \u043f\u043e\u0443\u0437\u0430\u0440  [Ukrainian] Failed!\n",
        "Prediction: Russian, Received: 2174, Trained: 800, Last-500 Accuracy: 0.700\n"
       ]
      },
      {
       "output_type": "stream",
       "stream": "stdout",
       "text": [
        " grands arr\u00eats du conseil d'\u00e9tat france  [French] OK\n"
       ]
      },
      {
       "output_type": "stream",
       "stream": "stdout",
       "text": [
        " \u043a\u0440\u044a\u0441\u0442\u044c\u043e \u043c\u0430\u043d\u0447\u0435\u0432  [Bulgarian] OK\n"
       ]
      },
      {
       "output_type": "stream",
       "stream": "stdout",
       "text": [
        " superpotenza  [Italian] Failed!\n",
        "Prediction: German, Received: 2177, Trained: 801, Last-500 Accuracy: 0.698\n"
       ]
      },
      {
       "output_type": "stream",
       "stream": "stdout",
       "text": [
        " sea life abenteuer park  [German] OK\n"
       ]
      },
      {
       "output_type": "stream",
       "stream": "stdout",
       "text": [
        " \u043a\u0430\u0431\u0443\u043a\u0438  [Russian] OK\n"
       ]
      },
      {
       "output_type": "stream",
       "stream": "stdout",
       "text": [
        " kostol a kl\u00e1\u0161tor klarisiek bratislava  [Slovak] OK\n"
       ]
      },
      {
       "output_type": "stream",
       "stream": "stdout",
       "text": [
        " callitriche rimosa  [Swedish] OK\n"
       ]
      },
      {
       "output_type": "stream",
       "stream": "stdout",
       "text": [
        " tyska orden  [Swedish] Failed!\n",
        "Prediction: German, Received: 2182, Trained: 802, Last-500 Accuracy: 0.696\n"
       ]
      },
      {
       "output_type": "stream",
       "stream": "stdout",
       "text": [
        " schlossbrauerei eichhofen  [German] OK\n"
       ]
      },
      {
       "output_type": "stream",
       "stream": "stdout",
       "text": [
        " grands arrets du conseil d'etat france  [French] OK\n"
       ]
      },
      {
       "output_type": "stream",
       "stream": "stdout",
       "text": [
        " beto stocker  [Spanish] OK\n"
       ]
      },
      {
       "output_type": "stream",
       "stream": "stdout",
       "text": [
        " cant\u00f3 d'aubenton  [Catalan] OK\n"
       ]
      },
      {
       "output_type": "stream",
       "stream": "stdout",
       "text": [
        " biotopo marocche di dro  [Italian] OK\n"
       ]
      },
      {
       "output_type": "stream",
       "stream": "stdout",
       "text": [
        " der erlk\u00f6nig  [French] OK\n"
       ]
      },
      {
       "output_type": "stream",
       "stream": "stdout",
       "text": [
        " frauke petry  [German] Failed!\n",
        "Prediction: French, Received: 2189, Trained: 803, Last-500 Accuracy: 0.698\n"
       ]
      },
      {
       "output_type": "stream",
       "stream": "stdout",
       "text": [
        " \u05de\u05e9\u05d4 \u05d0\u05d9\u05e8\u05e0\u05e9\u05d8\u05d9\u05d9\u05df  [Hebrew] OK\n"
       ]
      },
      {
       "output_type": "stream",
       "stream": "stdout",
       "text": [
        " 1910 \u0433\u043e\u0434 \u0432 \u0441\u043f\u043e\u0440\u0442\u0435  [Russian] OK\n"
       ]
      },
      {
       "output_type": "stream",
       "stream": "stdout",
       "text": [
        " \u6797\u5bb6\u3053\u3093\u5e73  [Japanese] OK\n"
       ]
      },
      {
       "output_type": "stream",
       "stream": "stdout",
       "text": [
        " callitriche capricorni  [Swedish] OK\n"
       ]
      },
      {
       "output_type": "stream",
       "stream": "stdout",
       "text": [
        " schweiz  [German] OK\n"
       ]
      },
      {
       "output_type": "stream",
       "stream": "stdout",
       "text": [
        " \u4e00\u689d\u548c\u77e2  [Chinese] OK\n"
       ]
      },
      {
       "output_type": "stream",
       "stream": "stdout",
       "text": [
        " fran\u00e7oise cadol  [French] OK\n"
       ]
      },
      {
       "output_type": "stream",
       "stream": "stdout",
       "text": [
        " consenso desambiguaci\u00f3n  [Spanish] OK\n"
       ]
      },
      {
       "output_type": "stream",
       "stream": "stdout",
       "text": [
        " arraia begitxiki  [Euskara] Failed!\n",
        "Prediction: Polish, Received: 2198, Trained: 804, Last-500 Accuracy: 0.702\n"
       ]
      },
      {
       "output_type": "stream",
       "stream": "stdout",
       "text": [
        " arr\u00eat pariset  [French] OK\n"
       ]
      },
      {
       "output_type": "stream",
       "stream": "stdout",
       "text": [
        " elecciones al parlamento europeo de 2014  [Spanish] OK\n"
       ]
      },
      {
       "output_type": "stream",
       "stream": "stdout",
       "text": [
        " \u56fd\u5bb6\u79d8\u5bc6 \u4e66  [Chinese] Failed!\n",
        "Prediction: Japanese, Received: 2201, Trained: 805, Last-500 Accuracy: 0.702\n"
       ]
      },
      {
       "output_type": "stream",
       "stream": "stdout",
       "text": [
        " hj\u00e4rtat sitter till v\u00e4nster utst\u00e4llning  [Swedish] Failed!\n",
        "Prediction: German, Received: 2202, Trained: 806, Last-500 Accuracy: 0.700\n"
       ]
      },
      {
       "output_type": "stream",
       "stream": "stdout",
       "text": [
        " sergio juste  [Dutch] Failed!\n",
        "Prediction: French, Received: 2203, Trained: 807, Last-500 Accuracy: 0.698\n"
       ]
      },
      {
       "output_type": "stream",
       "stream": "stdout",
       "text": [
        " otto de la rocha  [Spanish] OK\n"
       ]
      },
      {
       "output_type": "stream",
       "stream": "stdout",
       "text": [
        " ellens dritter gesang  [French] OK\n"
       ]
      },
      {
       "output_type": "stream",
       "stream": "stdout",
       "text": [
        " \u0432\u043e\u043e\u0440\u0443\u0436\u0451\u043d\u043d\u044b\u0439 \u043a\u043e\u043d\u0444\u043b\u0438\u043a\u0442 \u043d\u0430 \u0432\u043e\u0441\u0442\u043e\u043a\u0435 \u0443\u043a\u0440\u0430\u0438\u043d\u044b 2014  [Russian] OK\n"
       ]
      },
      {
       "output_type": "stream",
       "stream": "stdout",
       "text": [
        " fabricants de semoules de france  [French] OK\n"
       ]
      },
      {
       "output_type": "stream",
       "stream": "stdout",
       "text": [
        " callitriche sonderi  [Swedish] OK\n"
       ]
      },
      {
       "output_type": "stream",
       "stream": "stdout",
       "text": [
        " cant\u00f3 d'auben\u00e0s  [Catalan] OK\n"
       ]
      },
      {
       "output_type": "stream",
       "stream": "stdout",
       "text": [
        " foo fighters  [Spanish] OK\n"
       ]
      },
      {
       "output_type": "stream",
       "stream": "stdout",
       "text": [
        " hiob ludolf  [German] OK\n"
       ]
      },
      {
       "output_type": "stream",
       "stream": "stdout",
       "text": [
        " antonio silva  [Swedish] Failed!\n",
        "Prediction: Italian, Received: 2212, Trained: 808, Last-500 Accuracy: 0.702\n"
       ]
      },
      {
       "output_type": "stream",
       "stream": "stdout",
       "text": [
        " chlidichthys auratus  [Euskara] Failed!\n",
        "Prediction: French, Received: 2213, Trained: 809, Last-500 Accuracy: 0.700\n"
       ]
      },
      {
       "output_type": "stream",
       "stream": "stdout",
       "text": [
        " arraia azpilun  [Euskara] OK\n"
       ]
      },
      {
       "output_type": "stream",
       "stream": "stdout",
       "text": [
        " histoire du cin\u00e9ma fran\u00e7ais  [French] OK\n"
       ]
      },
      {
       "output_type": "stream",
       "stream": "stdout",
       "text": [
        " coupe de la ligue de hockey sur glace 2014 2015  [French] OK\n"
       ]
      },
      {
       "output_type": "stream",
       "stream": "stdout",
       "text": [
        " 1909 \u0433\u043e\u0434 \u0432 \u0441\u043f\u043e\u0440\u0442\u0435  [Russian] OK\n"
       ]
      },
      {
       "output_type": "stream",
       "stream": "stdout",
       "text": [
        " truppen\u00fcbungsplatz bergen  [German] OK\n"
       ]
      },
      {
       "output_type": "stream",
       "stream": "stdout",
       "text": [
        " der tod und das m\u00e4dchen  [French] OK\n"
       ]
      },
      {
       "output_type": "stream",
       "stream": "stdout",
       "text": [
        " partito per la giustizia e lo sviluppo  [Italian] OK\n"
       ]
      },
      {
       "output_type": "stream",
       "stream": "stdout",
       "text": [
        " 1 wrze\u015bnia  [Polish] OK\n"
       ]
      },
      {
       "output_type": "stream",
       "stream": "stdout",
       "text": [
        " arr\u00eat syndicat national des fabricants de semoules de france  [French] OK\n"
       ]
      },
      {
       "output_type": "stream",
       "stream": "stdout",
       "text": [
        " real club deportivo mallorca  [Spanish] Failed!\n",
        "Prediction: German, Received: 2223, Trained: 810, Last-500 Accuracy: 0.704\n"
       ]
      },
      {
       "output_type": "stream",
       "stream": "stdout",
       "text": [
        " dieterode  [German] Failed!\n",
        "Prediction: Italian, Received: 2224, Trained: 811, Last-500 Accuracy: 0.704\n"
       ]
      },
      {
       "output_type": "stream",
       "stream": "stdout",
       "text": [
        " lorca erdbeben 2011  [German] Failed!\n",
        "Prediction: French, Received: 2225, Trained: 812, Last-500 Accuracy: 0.702\n"
       ]
      },
      {
       "output_type": "stream",
       "stream": "stdout",
       "text": [
        " callitriche stenoptera  [Swedish] OK\n"
       ]
      },
      {
       "output_type": "stream",
       "stream": "stdout",
       "text": [
        " coupe de france de handball f\u00e9minin 2000 2001  [French] OK\n"
       ]
      },
      {
       "output_type": "stream",
       "stream": "stdout",
       "text": [
        " indonesia mencari bakat 4  [Indonesian] Failed!\n",
        "Prediction: German, Received: 2228, Trained: 813, Last-500 Accuracy: 0.702\n"
       ]
      },
      {
       "output_type": "stream",
       "stream": "stdout",
       "text": [
        " \u5168\u54e1\u9003\u8d70\u4e2d\u5404\u8a71\u5217\u8868  [Chinese] OK\n"
       ]
      },
      {
       "output_type": "stream",
       "stream": "stdout",
       "text": [
        " \uac8c\uc774\uc0e4  [Korean] OK\n"
       ]
      },
      {
       "output_type": "stream",
       "stream": "stdout",
       "text": [
        " \u65ed\u5ddd\u5e02\u65ed\u5c71\u52d5\u7269\u5712  [Japanese] OK\n"
       ]
      },
      {
       "output_type": "stream",
       "stream": "stdout",
       "text": [
        " \u677e\u5ca1\u7d00\u96c4  [Japanese] OK\n"
       ]
      },
      {
       "output_type": "stream",
       "stream": "stdout",
       "text": [
        " open d'afrique du sud 1984  [French] OK\n"
       ]
      },
      {
       "output_type": "stream",
       "stream": "stdout",
       "text": [
        " sachokiella macrochlamys  [Swedish] Failed!\n",
        "Prediction: German, Received: 2234, Trained: 814, Last-500 Accuracy: 0.706\n"
       ]
      },
      {
       "output_type": "stream",
       "stream": "stdout",
       "text": [
        " cant\u00f3 d'aubergenville  [Catalan] Failed!\n",
        "Prediction: Dutch, Received: 2235, Trained: 815, Last-500 Accuracy: 0.704\n"
       ]
      },
      {
       "output_type": "stream",
       "stream": "stdout",
       "text": [
        " liste der kreisstra\u00dfen im m\u00e4rkischen kreis  [German] OK\n"
       ]
      },
      {
       "output_type": "stream",
       "stream": "stdout",
       "text": [
        " episodi di mario seconda stagione  [Italian] OK\n"
       ]
      },
      {
       "output_type": "stream",
       "stream": "stdout",
       "text": [
        " liste der kreisstra\u00dfen im kreis lippe  [German] OK\n"
       ]
      },
      {
       "output_type": "stream",
       "stream": "stdout",
       "text": [
        " dog fashion disco  [Portuguese] Failed!\n",
        "Prediction: French, Received: 2239, Trained: 816, Last-500 Accuracy: 0.704\n"
       ]
      },
      {
       "output_type": "stream",
       "stream": "stdout",
       "text": [
        " roommate  [Chinese] Failed!\n",
        "Prediction: Swedish, Received: 2240, Trained: 817, Last-500 Accuracy: 0.704\n"
       ]
      },
      {
       "output_type": "stream",
       "stream": "stdout",
       "text": [
        " \ubc15\uad11\uc628  [Korean] Failed!\n",
        "Prediction: Chinese, Received: 2241, Trained: 818, Last-500 Accuracy: 0.702\n"
       ]
      },
      {
       "output_type": "stream",
       "stream": "stdout",
       "text": [
        " callitriche transvolgensis  [Swedish] OK\n"
       ]
      },
      {
       "output_type": "stream",
       "stream": "stdout",
       "text": [
        " melanoma  [Italian] Failed!\n",
        "Prediction: French, Received: 2243, Trained: 819, Last-500 Accuracy: 0.702\n"
       ]
      },
      {
       "output_type": "stream",
       "stream": "stdout",
       "text": [
        " lou ! journal infime  [French] OK\n"
       ]
      },
      {
       "output_type": "stream",
       "stream": "stdout",
       "text": [
        " pipo gresse du mythe \u00e0 la r\u00e9alit\u00e9  [French] OK\n"
       ]
      },
      {
       "output_type": "stream",
       "stream": "stdout",
       "text": [
        " schlossbrauerei ellingen  [German] OK\n"
       ]
      },
      {
       "output_type": "stream",
       "stream": "stdout",
       "text": [
        " \u6fc0\u6230 \u96fb\u5f71  [Chinese] OK\n"
       ]
      },
      {
       "output_type": "stream",
       "stream": "stdout",
       "text": [
        " \u043f\u043e\u0440\u043d\u043e\u0433\u0440\u0430\u0444\u0438\u044f  [Russian] OK\n"
       ]
      },
      {
       "output_type": "stream",
       "stream": "stdout",
       "text": [
        " trompier gravier  [French] Failed!\n",
        "Prediction: German, Received: 2249, Trained: 820, Last-500 Accuracy: 0.700\n"
       ]
      },
      {
       "output_type": "stream",
       "stream": "stdout",
       "text": [
        " pipo gresse du mythe \u00e0 la r\u00e9alit\u00e9  [French] OK\n"
       ]
      },
      {
       "output_type": "stream",
       "stream": "stdout",
       "text": [
        " arraia begitxiki  [Euskara] OK\n"
       ]
      },
      {
       "output_type": "stream",
       "stream": "stdout",
       "text": [
        " der tod und das m\u00e4dchen  [French] OK\n"
       ]
      },
      {
       "output_type": "stream",
       "stream": "stdout",
       "text": [
        " \u0641\u0631\u062f\u0648\u0633 \u062d\u0627\u062c\u06cc\u0627\u0646  [Farsi] Failed!\n",
        "Prediction: Arabic, Received: 2253, Trained: 821, Last-500 Accuracy: 0.700\n"
       ]
      },
      {
       "output_type": "stream",
       "stream": "stdout",
       "text": [
        " gibson explorer  [Russian] OK\n"
       ]
      },
      {
       "output_type": "stream",
       "stream": "stdout",
       "text": [
        " callitriche truncata  [Swedish] OK\n"
       ]
      },
      {
       "output_type": "stream",
       "stream": "stdout",
       "text": [
        " cigarette \u00e9lectronique  [French] OK\n"
       ]
      },
      {
       "output_type": "stream",
       "stream": "stdout",
       "text": [
        " andronikos dukas mitkaiser  [German] Failed!\n",
        "Prediction: French, Received: 2257, Trained: 822, Last-500 Accuracy: 0.698\n"
       ]
      },
      {
       "output_type": "stream",
       "stream": "stdout",
       "text": [
        " grands arr\u00eats de la jurisprudence administrative  [French] OK\n"
       ]
      },
      {
       "output_type": "stream",
       "stream": "stdout",
       "text": [
        " het drama van ...  [Dutch] Failed!\n",
        "Prediction: German, Received: 2259, Trained: 823, Last-500 Accuracy: 0.696\n"
       ]
      },
      {
       "output_type": "stream",
       "stream": "stdout",
       "text": [
        " cant\u00f3 d'auberive  [Catalan] OK\n"
       ]
      },
      {
       "output_type": "stream",
       "stream": "stdout",
       "text": [
        " r\u00e4uber und gendarm  [German] Failed!\n",
        "Prediction: French, Received: 2261, Trained: 824, Last-500 Accuracy: 0.694\n"
       ]
      },
      {
       "output_type": "stream",
       "stream": "stdout",
       "text": [
        " disturbo depressivo  [Italian] OK\n"
       ]
      },
      {
       "output_type": "stream",
       "stream": "stdout",
       "text": [
        " kabupaten tegal  [Indonesian] Failed!\n",
        "Prediction: Spanish, Received: 2263, Trained: 825, Last-500 Accuracy: 0.692\n"
       ]
      },
      {
       "output_type": "stream",
       "stream": "stdout",
       "text": [
        " diego marani atleta  [Italian] OK\n"
       ]
      },
      {
       "output_type": "stream",
       "stream": "stdout",
       "text": [
        " \ud0c4\uc131\ud30c  [Korean] OK\n"
       ]
      },
      {
       "output_type": "stream",
       "stream": "stdout",
       "text": [
        " callitriche cyclocarpa  [Swedish] OK\n"
       ]
      },
      {
       "output_type": "stream",
       "stream": "stdout",
       "text": [
        " cheirogaleus major  [Portuguese] OK\n"
       ]
      },
      {
       "output_type": "stream",
       "stream": "stdout",
       "text": [
        " \u0431\u0430\u043d\u0434\u0435\u0440\u043e\u0432\u0446\u044b  [Russian] OK\n"
       ]
      },
      {
       "output_type": "stream",
       "stream": "stdout",
       "text": [
        " schlossbrauerei naabeck  [German] OK\n"
       ]
      },
      {
       "output_type": "stream",
       "stream": "stdout",
       "text": [
        " chlidichthys bibulus  [Euskara] OK\n"
       ]
      },
      {
       "output_type": "stream",
       "stream": "stdout",
       "text": [
        " kerry reid  [French] Failed!\n",
        "Prediction: German, Received: 2271, Trained: 826, Last-500 Accuracy: 0.692\n"
       ]
      },
      {
       "output_type": "stream",
       "stream": "stdout",
       "text": [
        " arr\u00eat soulier  [French] OK\n"
       ]
      },
      {
       "output_type": "stream",
       "stream": "stdout",
       "text": [
        " winterreise  [French] Failed!\n",
        "Prediction: German, Received: 2273, Trained: 827, Last-500 Accuracy: 0.692\n"
       ]
      },
      {
       "output_type": "stream",
       "stream": "stdout",
       "text": [
        " helmuth liesegang  [German] Failed!\n",
        "Prediction: French, Received: 2274, Trained: 828, Last-500 Accuracy: 0.690\n"
       ]
      },
      {
       "output_type": "stream",
       "stream": "stdout",
       "text": [
        " \u0442\u043e\u043c\u044c \u0444\u0443\u0442\u0431\u043e\u043b\u044c\u043d\u044b\u0439 \u043a\u043b\u0443\u0431  [Russian] OK\n"
       ]
      },
      {
       "output_type": "stream",
       "stream": "stdout",
       "text": [
        " johannes ude  [German] Failed!\n",
        "Prediction: French, Received: 2276, Trained: 829, Last-500 Accuracy: 0.688\n"
       ]
      },
      {
       "output_type": "stream",
       "stream": "stdout",
       "text": [
        " pedro p\u00e1ez  [German] Failed!\n",
        "Prediction: Italian, Received: 2277, Trained: 830, Last-500 Accuracy: 0.688\n"
       ]
      },
      {
       "output_type": "stream",
       "stream": "stdout",
       "text": [
        " \u0431\u0438\u0431\u043b\u0438\u044f \u0432\u0435\u043d\u0446\u0435\u0441\u043b\u0430\u0432\u0430  [Russian] OK\n"
       ]
      },
      {
       "output_type": "stream",
       "stream": "stdout",
       "text": [
        " catal\u00e0 septentrional  [Catalan] Failed!\n",
        "Prediction: Swedish, Received: 2279, Trained: 831, Last-500 Accuracy: 0.688\n"
       ]
      },
      {
       "output_type": "stream",
       "stream": "stdout",
       "text": [
        " lov\u00f6 pr\u00e4stvik  [Swedish] Failed!\n",
        "Prediction: Dutch, Received: 2280, Trained: 832, Last-500 Accuracy: 0.686\n"
       ]
      },
      {
       "output_type": "stream",
       "stream": "stdout",
       "text": [
        " \u795e\u7530\u6731\u672a\u306e\u308f\u305f\u3057\u306e\u3059\u304d\u306a\u3053\u3068\u3002  [Japanese] OK\n"
       ]
      },
      {
       "output_type": "stream",
       "stream": "stdout",
       "text": [
        " callitriche umbonata  [Swedish] OK\n"
       ]
      },
      {
       "output_type": "stream",
       "stream": "stdout",
       "text": [
        " arr\u00eat dame lamotte  [French] OK\n"
       ]
      },
      {
       "output_type": "stream",
       "stream": "stdout",
       "text": [
        " cant\u00f3 d'aubervilliers est  [Catalan] OK\n"
       ]
      },
      {
       "output_type": "stream",
       "stream": "stdout",
       "text": [
        " \u5927\u97e9\u6c11\u56fd  [Chinese] OK\n"
       ]
      },
      {
       "output_type": "stream",
       "stream": "stdout",
       "text": [
        " \u0438\u0441\u0442\u043e\u0440\u0438\u044f \u043a\u0430\u0437\u0430\u0445\u0441\u0442\u0430\u043d\u0430  [Russian] OK\n"
       ]
      },
      {
       "output_type": "stream",
       "stream": "stdout",
       "text": [
        " \u30ad\u30e3\u30d7\u30c6\u30f3\u30fb\u30a2\u30e1\u30ea\u30ab  [Japanese] OK\n"
       ]
      },
      {
       "output_type": "stream",
       "stream": "stdout",
       "text": [
        " \u0431\u0440\u0443\u0445\u0437\u0430\u043b\u044c  [Ukrainian] Failed!\n",
        "Prediction: Russian, Received: 2288, Trained: 833, Last-500 Accuracy: 0.690\n"
       ]
      },
      {
       "output_type": "stream",
       "stream": "stdout",
       "text": [
        " schlossbrauerei herrngiersdorf  [German] OK\n"
       ]
      },
      {
       "output_type": "stream",
       "stream": "stdout",
       "text": [
        " 18 \u0430\u0432\u0433\u0443\u0441\u0442\u0430  [Russian] OK\n"
       ]
      },
      {
       "output_type": "stream",
       "stream": "stdout",
       "text": [
        " berlin  [German] OK\n"
       ]
      },
      {
       "output_type": "stream",
       "stream": "stdout",
       "text": [
        " jordania  [Polish] Failed!\n",
        "Prediction: German, Received: 2292, Trained: 834, Last-500 Accuracy: 0.692\n"
       ]
      },
      {
       "output_type": "stream",
       "stream": "stdout",
       "text": [
        " 1908 \u0433\u043e\u0434 \u0432 \u0441\u043f\u043e\u0440\u0442\u0435  [Russian] OK\n"
       ]
      },
      {
       "output_type": "stream",
       "stream": "stdout",
       "text": [
        " place des jacobins lyon  [French] OK\n"
       ]
      },
      {
       "output_type": "stream",
       "stream": "stdout",
       "text": [
        " \u05d4\u05e1\u05db\u05de\u05d9 \u05d0\u05d5\u05e1\u05dc\u05d5  [Hebrew] OK\n"
       ]
      },
      {
       "output_type": "stream",
       "stream": "stdout",
       "text": [
        " sorath  [Czech] Failed!\n",
        "Prediction: German, Received: 2296, Trained: 835, Last-500 Accuracy: 0.690\n"
       ]
      },
      {
       "output_type": "stream",
       "stream": "stdout",
       "text": [
        " liste des sites pal\u00e9olithiques de la charente  [French] Failed!\n",
        "Prediction: German, Received: 2297, Trained: 836, Last-500 Accuracy: 0.688\n"
       ]
      },
      {
       "output_type": "stream",
       "stream": "stdout",
       "text": [
        " grands arr\u00eats de la jurisprudence administrative  [French] OK\n"
       ]
      },
      {
       "output_type": "stream",
       "stream": "stdout",
       "text": [
        " \ucf00\uc774\uc628!  [Korean] OK\n"
       ]
      },
      {
       "output_type": "stream",
       "stream": "stdout",
       "text": [
        " \u06a9\u0644\u0645\u0646 \u0647\u0627\u0648\u06a9\u06cc\u0646\u0632  [Farsi] OK\n"
       ]
      },
      {
       "output_type": "stream",
       "stream": "stdout",
       "text": [
        " callitriche vigens  [Swedish] OK\n"
       ]
      },
      {
       "output_type": "stream",
       "stream": "stdout",
       "text": [
        " \u0434\u0435\u0439\u043d\u0435\u043a\u0430 \u043e\u043b\u0435\u0433 \u0432\u043e\u043b\u043e\u0434\u0438\u043c\u0438\u0440\u043e\u0432\u0438\u0447  [Ukrainian] Failed!\n",
        "Prediction: Russian, Received: 2302, Trained: 837, Last-500 Accuracy: 0.688\n"
       ]
      },
      {
       "output_type": "stream",
       "stream": "stdout",
       "text": [
        " emanuel litvinoff  [Finnish] Failed!\n",
        "Prediction: German, Received: 2303, Trained: 838, Last-500 Accuracy: 0.688\n"
       ]
      },
      {
       "output_type": "stream",
       "stream": "stdout",
       "text": [
        " mai 40 : les 30 jours du d\u00e9sastre documentaire  [French] OK\n"
       ]
      },
      {
       "output_type": "stream",
       "stream": "stdout",
       "text": [
        " hans zimmer  [Hungarian] OK\n"
       ]
      },
      {
       "output_type": "stream",
       "stream": "stdout",
       "text": [
        " cant\u00f3 d'aubervilliers oest  [Catalan] OK\n"
       ]
      },
      {
       "output_type": "stream",
       "stream": "stdout",
       "text": [
        " oxidative phosphorylierung  [German] OK\n"
       ]
      },
      {
       "output_type": "stream",
       "stream": "stdout",
       "text": [
        " \u0645\u0646\u0638\u0645\u0629 \u0634\u0647\u064a\u062f \u0645\u0639\u0631\u0629 \u0627\u0644\u0646\u0639\u0645\u0627\u0646  [Arabic] OK\n"
       ]
      },
      {
       "output_type": "stream",
       "stream": "stdout",
       "text": [
        " nikulitzas delphinas  [German] Failed!\n",
        "Prediction: French, Received: 2309, Trained: 839, Last-500 Accuracy: 0.686\n"
       ]
      },
      {
       "output_type": "stream",
       "stream": "stdout",
       "text": [
        " \u0441\u0442\u0443\u043f\u043a\u0430 \u043e\u0441\u0442\u0430\u043f \u0431\u043e\u0433\u0434\u0430\u043d\u043e\u0432\u0438\u0447  [Ukrainian] OK\n"
       ]
      },
      {
       "output_type": "stream",
       "stream": "stdout",
       "text": [
        " sharon kovacs  [Dutch] Failed!\n",
        "Prediction: French, Received: 2311, Trained: 840, Last-500 Accuracy: 0.684\n"
       ]
      },
      {
       "output_type": "stream",
       "stream": "stdout",
       "text": [
        " callitriche vulcanicola  [Swedish] OK\n"
       ]
      },
      {
       "output_type": "stream",
       "stream": "stdout",
       "text": [
        " \u0431\u0438\u0433 \u043c\u0430\u043a  [Russian] OK\n"
       ]
      },
      {
       "output_type": "stream",
       "stream": "stdout",
       "text": [
        " grand prix polski na \u017cu\u017clu 2014  [Polish] Failed!\n",
        "Prediction: French, Received: 2314, Trained: 841, Last-500 Accuracy: 0.684\n"
       ]
      },
      {
       "output_type": "stream",
       "stream": "stdout",
       "text": [
        " gustav iii olika betydelser  [Swedish] Failed!\n",
        "Prediction: German, Received: 2315, Trained: 842, Last-500 Accuracy: 0.684\n"
       ]
      },
      {
       "output_type": "stream",
       "stream": "stdout",
       "text": [
        " \u0442\u0435\u0440\u0440\u0430\u0441\u0430 \u043d\u0430 \u043f\u0440\u043e\u0441\u043f\u0435\u043a\u0442\u0435 25 \u0433\u043e \u043e\u043a\u0442\u044f\u0431\u0440\u044f  [Russian] OK\n"
       ]
      },
      {
       "output_type": "stream",
       "stream": "stdout",
       "text": [
        " tatooine  [French] OK\n"
       ]
      },
      {
       "output_type": "stream",
       "stream": "stdout",
       "text": [
        " schlossbrauerei hirschau  [German] OK\n"
       ]
      },
      {
       "output_type": "stream",
       "stream": "stdout",
       "text": [
        " winterreise  [French] OK\n"
       ]
      },
      {
       "output_type": "stream",
       "stream": "stdout",
       "text": [
        " \u5e7f\u5dde\u6052\u5927\u6dd8\u5b9d\u8db3\u7403\u4ff1\u4e50\u90e8  [Chinese] OK\n"
       ]
      },
      {
       "output_type": "stream",
       "stream": "stdout",
       "text": [
        " 1907 \u0433\u043e\u0434 \u0432 \u0441\u043f\u043e\u0440\u0442\u0435  [Russian] OK\n"
       ]
      },
      {
       "output_type": "stream",
       "stream": "stdout",
       "text": [
        " \u56fd\u6b4c  [Japanese] OK\n"
       ]
      },
      {
       "output_type": "stream",
       "stream": "stdout",
       "text": [
        " neymar  [Turkish] Failed!\n",
        "Prediction: French, Received: 2323, Trained: 843, Last-500 Accuracy: 0.686\n"
       ]
      },
      {
       "output_type": "stream",
       "stream": "stdout",
       "text": [
        " cisi i g\u0119gacze czyli bal u prezydenta  [Polish] Failed!\n",
        "Prediction: Swedish, Received: 2324, Trained: 844, Last-500 Accuracy: 0.686\n"
       ]
      },
      {
       "output_type": "stream",
       "stream": "stdout",
       "text": [
        " saison 1 de the last ship  [French] OK\n"
       ]
      },
      {
       "output_type": "stream",
       "stream": "stdout",
       "text": [
        " liste over spillere i manchester united fc  [Norwegian] Failed!\n",
        "Prediction: German, Received: 2326, Trained: 845, Last-500 Accuracy: 0.686\n"
       ]
      },
      {
       "output_type": "stream",
       "stream": "stdout",
       "text": [
        " lucas gafarot  [Dutch] Failed!\n",
        "Prediction: German, Received: 2327, Trained: 846, Last-500 Accuracy: 0.684\n"
       ]
      },
      {
       "output_type": "stream",
       "stream": "stdout",
       "text": [
        " \u96fb\u6483!! \u30b9\u30c8\u30e9\u30c05  [Japanese] OK\n"
       ]
      },
      {
       "output_type": "stream",
       "stream": "stdout",
       "text": [
        " \uccad\uc0ac\uc9c4  [Korean] Failed!\n",
        "Prediction: Chinese, Received: 2329, Trained: 847, Last-500 Accuracy: 0.684\n"
       ]
      },
      {
       "output_type": "stream",
       "stream": "stdout",
       "text": [
        " youtube  [Italian] Failed!\n",
        "Prediction: French, Received: 2330, Trained: 848, Last-500 Accuracy: 0.682\n"
       ]
      },
      {
       "output_type": "stream",
       "stream": "stdout",
       "text": [
        " karibische gemeinschaft  [German] OK\n"
       ]
      },
      {
       "output_type": "stream",
       "stream": "stdout",
       "text": [
        "Ignoring class 30\n",
        " cant\u00f3 d'aubigny en artois  [Catalan] OK\n"
       ]
      },
      {
       "output_type": "stream",
       "stream": "stdout",
       "text": [
        " 1991 vg  [French] Failed!\n",
        "Prediction: Swedish, Received: 2334, Trained: 849, Last-500 Accuracy: 0.684\n"
       ]
      },
      {
       "output_type": "stream",
       "stream": "stdout",
       "text": [
        " callitriche brutia  [Swedish] OK\n"
       ]
      },
      {
       "output_type": "stream",
       "stream": "stdout",
       "text": [
        " mim 104 \u05e4\u05d8\u05e8\u05d9\u05d5\u05d8  [Hebrew] Failed!\n",
        "Prediction: French, Received: 2336, Trained: 850, Last-500 Accuracy: 0.682\n"
       ]
      },
      {
       "output_type": "stream",
       "stream": "stdout",
       "text": [
        " chlidichthys cacatuoides  [Euskara] OK\n"
       ]
      },
      {
       "output_type": "stream",
       "stream": "stdout",
       "text": [
        " \u0432\u043e\u043e\u0440\u0443\u0436\u0451\u043d\u043d\u044b\u0439 \u043a\u043e\u043d\u0444\u043b\u0438\u043a\u0442 \u043d\u0430 \u0432\u043e\u0441\u0442\u043e\u043a\u0435 \u0443\u043a\u0440\u0430\u0438\u043d\u044b 2014  [Russian] OK\n"
       ]
      },
      {
       "output_type": "stream",
       "stream": "stdout",
       "text": [
        " bits of love  [German] OK\n"
       ]
      },
      {
       "output_type": "stream",
       "stream": "stdout",
       "text": [
        " partie polityczne polski  [Polish] OK\n"
       ]
      },
      {
       "output_type": "stream",
       "stream": "stdout",
       "text": [
        " przewodnicz\u0105cy rady europejskiej  [Polish] OK\n"
       ]
      },
      {
       "output_type": "stream",
       "stream": "stdout",
       "text": [
        " 2014\u5e74\u4e16\u754c\u76c3\u8db3\u7403\u8cfd\u6c7a\u8cfd\u9031b\u7d44  [Chinese] OK\n"
       ]
      },
      {
       "output_type": "stream",
       "stream": "stdout",
       "text": [
        " skaftl\u00e5nke  [Swedish] OK\n"
       ]
      },
      {
       "output_type": "stream",
       "stream": "stdout",
       "text": [
        " \uc624\ucf00\uc774\ubc84\uc2a4  [Korean] OK\n"
       ]
      },
      {
       "output_type": "stream",
       "stream": "stdout",
       "text": [
        " laura dupont  [French] OK\n"
       ]
      },
      {
       "output_type": "stream",
       "stream": "stdout",
       "text": [
        " rende  [Catalan] Failed!\n",
        "Prediction: German, Received: 2346, Trained: 851, Last-500 Accuracy: 0.692\n"
       ]
      },
      {
       "output_type": "stream",
       "stream": "stdout",
       "text": [
        " histoire de la prostitution  [French] Failed!\n",
        "Prediction: German, Received: 2347, Trained: 852, Last-500 Accuracy: 0.690\n"
       ]
      },
      {
       "output_type": "stream",
       "stream": "stdout",
       "text": [
        " iranolacerta  [Dutch] OK\n"
       ]
      },
      {
       "output_type": "stream",
       "stream": "stdout",
       "text": [
        " prav\u011bk\u00e9 socha\u0159stv\u00ed a architektura  [Czech] Failed!\n",
        "Prediction: French, Received: 2349, Trained: 853, Last-500 Accuracy: 0.688\n"
       ]
      },
      {
       "output_type": "stream",
       "stream": "stdout",
       "text": [
        " karl anton vogt  [German] OK\n"
       ]
      },
      {
       "output_type": "stream",
       "stream": "stdout",
       "text": [
        " \u0432\u044b\u0441\u043e\u0446\u043a\u0438\u0439 \u0432\u043b\u0430\u0434\u0438\u043c\u0438\u0440 \u0441\u0435\u043c\u0451\u043d\u043e\u0432\u0438\u0447  [Russian] OK\n"
       ]
      },
      {
       "output_type": "stream",
       "stream": "stdout",
       "text": [
        " liste der kreisstra\u00dfen im kreis mettmann  [German] OK\n"
       ]
      },
      {
       "output_type": "stream",
       "stream": "stdout",
       "text": [
        " talsperre von puentes  [German] OK\n"
       ]
      },
      {
       "output_type": "stream",
       "stream": "stdout",
       "text": [
        " limit  [Italian] OK\n"
       ]
      },
      {
       "output_type": "stream",
       "stream": "stdout",
       "text": [
        " lijst van voetbalinterlands malta turkije  [Dutch] OK\n"
       ]
      },
      {
       "output_type": "stream",
       "stream": "stdout",
       "text": [
        " schlossbrauerei  [German] OK\n"
       ]
      },
      {
       "output_type": "stream",
       "stream": "stdout",
       "text": [
        " \u0622\u0631\u0634 \u0628\u0631\u0647\u0627\u0646\u06cc  [Farsi] OK\n"
       ]
      },
      {
       "output_type": "stream",
       "stream": "stdout",
       "text": [
        " sacoglottis  [Swedish] OK\n"
       ]
      },
      {
       "output_type": "stream",
       "stream": "stdout",
       "text": [
        "Ignoring class 30\n",
        " biotopo marocche di dro  [Italian] OK\n"
       ]
      },
      {
       "output_type": "stream",
       "stream": "stdout",
       "text": [
        " carel van mander  [French] Failed!\n",
        "Prediction: Dutch, Received: 2361, Trained: 854, Last-500 Accuracy: 0.696\n"
       ]
      },
      {
       "output_type": "stream",
       "stream": "stdout",
       "text": [
        " \u0443\u0438\u043b\u044c\u044f\u043c\u0441 \u0432\u0430\u043d\u0435\u0441\u0441\u0430  [Russian] OK\n"
       ]
      },
      {
       "output_type": "stream",
       "stream": "stdout",
       "text": [
        " liste von gartenbahnanlagen  [German] OK\n"
       ]
      },
      {
       "output_type": "stream",
       "stream": "stdout",
       "text": [
        " cant\u00f3 d'aubigny sur n\u00e8re  [Catalan] OK\n"
       ]
      },
      {
       "output_type": "stream",
       "stream": "stdout",
       "text": [
        " katedr\u00e1la sv\u00e4t\u00e9ho martina bratislava  [Slovak] OK\n"
       ]
      },
      {
       "output_type": "stream",
       "stream": "stdout",
       "text": [
        " hans zimmer  [Hungarian] OK\n"
       ]
      },
      {
       "output_type": "stream",
       "stream": "stdout",
       "text": [
        " arraia biribil  [Euskara] OK\n"
       ]
      },
      {
       "output_type": "stream",
       "stream": "stdout",
       "text": [
        " \u0627\u0644\u0643\u0631\u062e  [Arabic] OK\n"
       ]
      },
      {
       "output_type": "stream",
       "stream": "stdout",
       "text": [
        " \u05de\u05e9\u05d4 \u05d0\u05d9\u05e8\u05e0\u05e9\u05d8\u05d9\u05d9\u05df  [Hebrew] OK\n"
       ]
      },
      {
       "output_type": "stream",
       "stream": "stdout",
       "text": [
        " sacoglottis amazonica  [Swedish] OK\n"
       ]
      },
      {
       "output_type": "stream",
       "stream": "stdout",
       "text": [
        " alarm f\u00fcr cobra 11 \u2013 die autobahnpolizei/episodenliste  [German] OK\n"
       ]
      },
      {
       "output_type": "stream",
       "stream": "stdout",
       "text": [
        " d\u00e9canation 2014  [French] OK\n"
       ]
      },
      {
       "output_type": "stream",
       "stream": "stdout",
       "text": [
        " \u878d\u5b89\u770c  [Japanese] OK\n"
       ]
      },
      {
       "output_type": "stream",
       "stream": "stdout",
       "text": [
        " serbia  [Norwegian] Failed!\n",
        "Prediction: Italian, Received: 2374, Trained: 855, Last-500 Accuracy: 0.706\n"
       ]
      },
      {
       "output_type": "stream",
       "stream": "stdout",
       "text": [
        " \u0431\u0438\u0431\u043b\u0438\u044f \u043b\u044e\u0442\u0435\u0440\u0430  [Russian] OK\n"
       ]
      },
      {
       "output_type": "stream",
       "stream": "stdout",
       "text": [
        " ford tourneo  [Italian] Failed!\n",
        "Prediction: French, Received: 2376, Trained: 856, Last-500 Accuracy: 0.706\n"
       ]
      },
      {
       "output_type": "stream",
       "stream": "stdout",
       "text": [
        " der hirt auf dem felsen  [French] OK\n"
       ]
      },
      {
       "output_type": "stream",
       "stream": "stdout",
       "text": [
        " \u0646\u0627\u0635\u0631 \u0645\u06a9\u0627\u0631\u0645 \u0634\u06cc\u0631\u0627\u0632\u06cc  [Farsi] OK\n"
       ]
      },
      {
       "output_type": "stream",
       "stream": "stdout",
       "text": [
        " \u06a9\u0648\u0646\u0644 \u0627\u0648\u062f\u0646\u0644\u0627\u0645\u06cc  [Farsi] OK\n"
       ]
      },
      {
       "output_type": "stream",
       "stream": "stdout",
       "text": [
        " hj\u00e4rtat sitter till v\u00e4nster utst\u00e4llning  [Swedish] OK\n"
       ]
      },
      {
       "output_type": "stream",
       "stream": "stdout",
       "text": [
        "Ignoring class 30\n",
        " sacoglottis ceratocarpa  [Swedish] OK\n"
       ]
      },
      {
       "output_type": "stream",
       "stream": "stdout",
       "text": [
        " \u6cd5\u8f6e\u529f  [Chinese] OK\n"
       ]
      },
      {
       "output_type": "stream",
       "stream": "stdout",
       "text": [
        " \u0441\u043f\u0438\u0441\u043e\u043a \u0441\u0435\u0440\u0438\u0439 \u0442\u0435\u043b\u0435\u0441\u0435\u0440\u0438\u0430\u043b\u0430 \u00ab\u0434\u043e\u043a\u0442\u043e\u0440 \u043a\u0442\u043e\u00bb  [Russian] OK\n"
       ]
      },
      {
       "output_type": "stream",
       "stream": "stdout",
       "text": [
        " chlidichthys chagosensis  [Euskara] Failed!\n",
        "Prediction: Swedish, Received: 2385, Trained: 857, Last-500 Accuracy: 0.708\n"
       ]
      },
      {
       "output_type": "stream",
       "stream": "stdout",
       "text": [
        " \u0441\u0442\u0430\u0434\u0438\u043e\u043d \u043d\u0430 \u0442\u0440\u0435\u0442\u044c\u0435\u0439 \u043f\u0435\u0441\u0447\u0430\u043d\u043e\u0439 \u0443\u043b\u0438\u0446\u0435  [Russian] OK\n"
       ]
      },
      {
       "output_type": "stream",
       "stream": "stdout",
       "text": [
        " \u4e09\u7acb\u90fd\u6703\u53f0  [Chinese] Failed!\n",
        "Prediction: Japanese, Received: 2387, Trained: 858, Last-500 Accuracy: 0.708\n"
       ]
      },
      {
       "output_type": "stream",
       "stream": "stdout",
       "text": [
        " \u05d4\u05de\u05e4\u05dc\u05d2\u05d4 \u05d4\u05d3\u05de\u05d5\u05e7\u05e8\u05d8\u05d9\u05ea \u05d0\u05d9\u05d8\u05dc\u05d9\u05d4  [Hebrew] OK\n"
       ]
      },
      {
       "output_type": "stream",
       "stream": "stdout",
       "text": [
        " stadi europei per capienza  [Italian] Failed!\n",
        "Prediction: German, Received: 2389, Trained: 859, Last-500 Accuracy: 0.708\n"
       ]
      },
      {
       "output_type": "stream",
       "stream": "stdout",
       "text": [
        " liste des sites pal\u00e9olithiques de la charente  [French] OK\n"
       ]
      },
      {
       "output_type": "stream",
       "stream": "stdout",
       "text": [
        " \u9673\u4e43\u69ae  [Chinese] OK\n"
       ]
      },
      {
       "output_type": "stream",
       "stream": "stdout",
       "text": [
        " cant\u00f3 d'aubinh  [Catalan] OK\n"
       ]
      },
      {
       "output_type": "stream",
       "stream": "stdout",
       "text": [
        " sacoglottis cydonioides  [Swedish] OK\n"
       ]
      },
      {
       "output_type": "stream",
       "stream": "stdout",
       "text": [
        " wapen van beuningen  [Dutch] OK\n"
       ]
      },
      {
       "output_type": "stream",
       "stream": "stdout",
       "text": [
        " r\u00e9serve \u00e9cologique des grands ormes  [French] OK\n"
       ]
      },
      {
       "output_type": "stream",
       "stream": "stdout",
       "text": [
        " jack greene  [Turkish] Failed!\n",
        "Prediction: French, Received: 2396, Trained: 860, Last-500 Accuracy: 0.708\n"
       ]
      },
      {
       "output_type": "stream",
       "stream": "stdout",
       "text": [
        " zilveren bal 1953  [Dutch] OK\n"
       ]
      },
      {
       "output_type": "stream",
       "stream": "stdout",
       "text": [
        " konstantinos mitroglou  [Spanish] Failed!\n",
        "Prediction: French, Received: 2398, Trained: 861, Last-500 Accuracy: 0.706\n"
       ]
      },
      {
       "output_type": "stream",
       "stream": "stdout",
       "text": [
        " uefa europa league 2014 2015 fase a gironi  [Italian] Failed!\n",
        "Prediction: French, Received: 2399, Trained: 862, Last-500 Accuracy: 0.704\n"
       ]
      },
      {
       "output_type": "stream",
       "stream": "stdout",
       "text": [
        " \u05de\u05e9\u05d4 \u05d0\u05d9\u05e8\u05e0\u05e9\u05d8\u05d9\u05d9\u05df  [Hebrew] OK\n"
       ]
      },
      {
       "output_type": "stream",
       "stream": "stdout",
       "text": [
        " surface football magazine  [French] OK\n"
       ]
      },
      {
       "output_type": "stream",
       "stream": "stdout",
       "text": [
        " sacoglottis gabonensis  [Swedish] OK\n"
       ]
      },
      {
       "output_type": "stream",
       "stream": "stdout",
       "text": [
        " \u0430\u0431\u0443\u0431\u0430\u043a\u0430\u0440 \u0432\u0435\u043d\u0441\u0430\u043d  [Russian] Failed!\n",
        "Prediction: Ukrainian, Received: 2403, Trained: 863, Last-500 Accuracy: 0.704\n"
       ]
      },
      {
       "output_type": "stream",
       "stream": "stdout",
       "text": [
        " \u062a\u0633\u06cc\u067e\u06cc \u0644\u06cc\u0648\u0646\u06cc  [Farsi] OK\n"
       ]
      },
      {
       "output_type": "stream",
       "stream": "stdout",
       "text": [
        " cheiry  [Portuguese] OK\n"
       ]
      },
      {
       "output_type": "stream",
       "stream": "stdout",
       "text": [
        "Ignoring class 30\n",
        " 2014\u5e74\u4e16\u754c\u76c3\u8db3\u7403\u8cfd  [Chinese] OK\n"
       ]
      },
      {
       "output_type": "stream",
       "stream": "stdout",
       "text": [
        " commodore\u2019s messenger organization  [German] Failed!\n",
        "Prediction: French, Received: 2408, Trained: 864, Last-500 Accuracy: 0.702\n"
       ]
      },
      {
       "output_type": "stream",
       "stream": "stdout",
       "text": [
        "Ignoring class 30\n",
        " cant\u00f3 d'aubi\u00e8ra  [Catalan] OK\n"
       ]
      },
      {
       "output_type": "stream",
       "stream": "stdout",
       "text": [
        " sacoglottis guianensis  [Swedish] OK\n"
       ]
      },
      {
       "output_type": "stream",
       "stream": "stdout",
       "text": [
        " committee of soldiers' mothers of russia  [Norwegian] Failed!\n",
        "Prediction: German, Received: 2412, Trained: 865, Last-500 Accuracy: 0.700\n"
       ]
      },
      {
       "output_type": "stream",
       "stream": "stdout",
       "text": [
        "Ignoring class 30\n",
        " \u0432\u043e\u0437\u0432\u0440\u0430\u0442\u0430 \u043d\u0435\u0442 \u0444\u0438\u043b\u044c\u043c 1973  [Russian] OK\n"
       ]
      },
      {
       "output_type": "stream",
       "stream": "stdout",
       "text": [
        " \u043a\u0440\u044a\u0441\u0442\u044c\u043e \u043c\u0430\u043d\u0447\u0435\u0432  [Bulgarian] OK\n"
       ]
      },
      {
       "output_type": "stream",
       "stream": "stdout",
       "text": [
        " saison 2014 2015 du stade toulousain  [French] OK\n"
       ]
      },
      {
       "output_type": "stream",
       "stream": "stdout",
       "text": [
        " 2014\u5e74\u592a\u5e73\u6d0b\u98b6\u98a8\u5b63  [Chinese] OK\n"
       ]
      },
      {
       "output_type": "stream",
       "stream": "stdout",
       "text": [
        " widooie  [Dutch] Failed!\n",
        "Prediction: French, Received: 2418, Trained: 866, Last-500 Accuracy: 0.700\n"
       ]
      },
      {
       "output_type": "stream",
       "stream": "stdout",
       "text": [
        " sacoglottis holdridgei  [Swedish] OK\n"
       ]
      },
      {
       "output_type": "stream",
       "stream": "stdout",
       "text": [
        " nasrollah entezam  [German] OK\n"
       ]
      },
      {
       "output_type": "stream",
       "stream": "stdout",
       "text": [
        " 1906 \u0433\u043e\u0434 \u0432 \u0441\u043f\u043e\u0440\u0442\u0435  [Russian] OK\n"
       ]
      },
      {
       "output_type": "stream",
       "stream": "stdout",
       "text": [
        " johannebergskyrkan  [Swedish] OK\n"
       ]
      },
      {
       "output_type": "stream",
       "stream": "stdout",
       "text": [
        " k\ub9ac\uadf8 \ucc4c\ub9b0\uc9c0 2014  [Korean] OK\n"
       ]
      },
      {
       "output_type": "stream",
       "stream": "stdout",
       "text": [
        " \u30ec\u30b8\u30a7\u30f3\u30c0\u30ea\u30fc\u30fb\u30d4\u30af\u30c1\u30e3\u30fc\u30ba  [Japanese] OK\n"
       ]
      },
      {
       "output_type": "stream",
       "stream": "stdout",
       "text": [
        " 12 heures de sepang  [French] OK\n"
       ]
      },
      {
       "output_type": "stream",
       "stream": "stdout",
       "text": [
        " colt python  [Russian] Failed!\n",
        "Prediction: French, Received: 2426, Trained: 867, Last-500 Accuracy: 0.704\n"
       ]
      },
      {
       "output_type": "stream",
       "stream": "stdout",
       "text": [
        " double dames aux championnats du monde de badminton 2014  [French] OK\n"
       ]
      },
      {
       "output_type": "stream",
       "stream": "stdout",
       "text": [
        " pxe  [Russian] Failed!\n",
        "Prediction: German, Received: 2428, Trained: 868, Last-500 Accuracy: 0.704\n"
       ]
      },
      {
       "output_type": "stream",
       "stream": "stdout",
       "text": [
        " hartmut von hentig  [German] OK\n"
       ]
      },
      {
       "output_type": "stream",
       "stream": "stdout",
       "text": [
        " \u738b\u5d07  [Japanese] OK\n"
       ]
      },
      {
       "output_type": "stream",
       "stream": "stdout",
       "text": [
        " \u6751\u7530\u82f1\u96c4  [Japanese] OK\n"
       ]
      },
      {
       "output_type": "stream",
       "stream": "stdout",
       "text": [
        " pacifi\u010dt\u00ed ostrovan\u00e9  [Czech] Failed!\n",
        "Prediction: Dutch, Received: 2432, Trained: 869, Last-500 Accuracy: 0.704\n"
       ]
      },
      {
       "output_type": "stream",
       "stream": "stdout",
       "text": [
        " konpa dir\u00e8k  [Spanish] Failed!\n",
        "Prediction: Dutch, Received: 2433, Trained: 870, Last-500 Accuracy: 0.704\n"
       ]
      },
      {
       "output_type": "stream",
       "stream": "stdout",
       "text": [
        " cant\u00f3 d'auchel  [Catalan] OK\n"
       ]
      },
      {
       "output_type": "stream",
       "stream": "stdout",
       "text": [
        " paco mart\u00ednez soria  [Spanish] OK\n"
       ]
      },
      {
       "output_type": "stream",
       "stream": "stdout",
       "text": [
        " sacoglottis maguirei  [Swedish] OK\n"
       ]
      },
      {
       "output_type": "stream",
       "stream": "stdout",
       "text": [
        " \u7d42\u6975x\u5bbf\u820d  [Chinese] OK\n"
       ]
      },
      {
       "output_type": "stream",
       "stream": "stdout",
       "text": [
        " phoenicolacerta  [Dutch] Failed!\n",
        "Prediction: Swedish, Received: 2438, Trained: 871, Last-500 Accuracy: 0.706\n"
       ]
      },
      {
       "output_type": "stream",
       "stream": "stdout",
       "text": [
        "Ignoring class 30\n",
        " pierre versteegh  [German] OK\n"
       ]
      },
      {
       "output_type": "stream",
       "stream": "stdout",
       "text": [
        " billboard music awards  [Russian] Failed!\n",
        "Prediction: German, Received: 2441, Trained: 872, Last-500 Accuracy: 0.706\n"
       ]
      },
      {
       "output_type": "stream",
       "stream": "stdout",
       "text": [
        " person of interest  [French] OK\n"
       ]
      },
      {
       "output_type": "stream",
       "stream": "stdout",
       "text": [
        " chlidichthys clibanarius  [Euskara] OK\n"
       ]
      },
      {
       "output_type": "stream",
       "stream": "stdout",
       "text": [
        " \u0434\u0435\u0439\u043b\u0456 \u0431\u043b\u0456\u043d\u0434  [Ukrainian] OK\n"
       ]
      },
      {
       "output_type": "stream",
       "stream": "stdout",
       "text": [
        "Ignoring class 30\n",
        " \u0633\u0627\u0646\u062f\u0631 \u067e\u06cc\u0686\u0627\u06cc  [Farsi] OK\n"
       ]
      },
      {
       "output_type": "stream",
       "stream": "stdout",
       "text": [
        " as roma  [Polish] Failed!\n",
        "Prediction: Swedish, Received: 2447, Trained: 873, Last-500 Accuracy: 0.706\n"
       ]
      },
      {
       "output_type": "stream",
       "stream": "stdout",
       "text": [
        " sacoglottis mattogrossensis  [Swedish] OK\n"
       ]
      },
      {
       "output_type": "stream",
       "stream": "stdout",
       "text": [
        " discographie de mike oldfield  [French] OK\n"
       ]
      },
      {
       "output_type": "stream",
       "stream": "stdout",
       "text": [
        " \u3046\u304a\u5ea7\u30ac\u30f3\u30de\u661f  [Japanese] OK\n"
       ]
      },
      {
       "output_type": "stream",
       "stream": "stdout",
       "text": [
        " \u0643\u0631\u0648\u0646\u0629 \u0646\u0631\u0648\u062c\u064a\u0629  [Arabic] OK\n"
       ]
      },
      {
       "output_type": "stream",
       "stream": "stdout",
       "text": [
        " foo fighters  [Spanish] OK\n"
       ]
      },
      {
       "output_type": "stream",
       "stream": "stdout",
       "text": [
        " \u55e3\u6c38\u6843\u5b50  [Japanese] Failed!\n",
        "Prediction: Chinese, Received: 2453, Trained: 874, Last-500 Accuracy: 0.704\n"
       ]
      },
      {
       "output_type": "stream",
       "stream": "stdout",
       "text": [
        " place des jacobins lyon  [French] OK\n"
       ]
      },
      {
       "output_type": "stream",
       "stream": "stdout",
       "text": [
        " hefeteig  [German] OK\n"
       ]
      },
      {
       "output_type": "stream",
       "stream": "stdout",
       "text": [
        "Ignoring class 30\n",
        " \u0622\u062c\u062f\u0627 \u067e\u0642\u0627\u0646  [Arabic] OK\n"
       ]
      },
      {
       "output_type": "stream",
       "stream": "stdout",
       "text": [
        " 2014\u5e74\u4e16\u754c\u76c3\u8db3\u7403\u8cfd\u6c7a\u8cfd\u9031b\u7d44  [Chinese] OK\n"
       ]
      },
      {
       "output_type": "stream",
       "stream": "stdout",
       "text": [
        " liste der kreisstra\u00dfen im kreis minden l\u00fcbbecke  [German] OK\n"
       ]
      },
      {
       "output_type": "stream",
       "stream": "stdout",
       "text": [
        " sacoglottis ovicarpa  [Swedish] OK\n"
       ]
      },
      {
       "output_type": "stream",
       "stream": "stdout",
       "text": [
        " die sch\u00f6ne m\u00fcllerin  [French] OK\n"
       ]
      },
      {
       "output_type": "stream",
       "stream": "stdout",
       "text": [
        " cant\u00f3 d'aucun  [Catalan] OK\n"
       ]
      },
      {
       "output_type": "stream",
       "stream": "stdout",
       "text": [
        " persona gram\u00e0tica  [Catalan] OK\n"
       ]
      },
      {
       "output_type": "stream",
       "stream": "stdout",
       "text": [
        " wo\u0142odymyr boszczuk  [Polish] Failed!\n",
        "Prediction: Dutch, Received: 2464, Trained: 875, Last-500 Accuracy: 0.708\n"
       ]
      },
      {
       "output_type": "stream",
       "stream": "stdout",
       "text": [
        " 1905 \u0433\u043e\u0434 \u0432 \u0441\u043f\u043e\u0440\u0442\u0435  [Russian] OK\n"
       ]
      },
      {
       "output_type": "stream",
       "stream": "stdout",
       "text": [
        " region pelagonien  [German] OK\n"
       ]
      },
      {
       "output_type": "stream",
       "stream": "stdout",
       "text": [
        " \u043d\u0435\u0440\u0447\u0438\u043d\u0441\u043a\u0438\u0439 \u0434\u043e\u0433\u043e\u0432\u043e\u0440  [Russian] OK\n"
       ]
      },
      {
       "output_type": "stream",
       "stream": "stdout",
       "text": [
        " \u5927\u97e9\u6c11\u56fd  [Chinese] OK\n"
       ]
      },
      {
       "output_type": "stream",
       "stream": "stdout",
       "text": [
        " sejm rzeczypospolitej polskiej  [Polish] OK\n"
       ]
      },
      {
       "output_type": "stream",
       "stream": "stdout",
       "text": [
        " cheissoux  [Portuguese] OK\n"
       ]
      },
      {
       "output_type": "stream",
       "stream": "stdout",
       "text": [
        " callitriche fassettii  [Swedish] OK\n"
       ]
      },
      {
       "output_type": "stream",
       "stream": "stdout",
       "text": [
        " sacoglottis trichogyna  [Swedish] OK\n"
       ]
      },
      {
       "output_type": "stream",
       "stream": "stdout",
       "text": [
        " samsung galaxy s iii  [Russian] Failed!\n",
        "Prediction: German, Received: 2473, Trained: 876, Last-500 Accuracy: 0.712\n"
       ]
      },
      {
       "output_type": "stream",
       "stream": "stdout",
       "text": [
        " tokamak  [German] Failed!\n",
        "Prediction: Indonesian, Received: 2474, Trained: 877, Last-500 Accuracy: 0.712\n"
       ]
      },
      {
       "output_type": "stream",
       "stream": "stdout",
       "text": [
        " coupe de france de handball f\u00e9minin 2002 2003  [French] OK\n"
       ]
      },
      {
       "output_type": "stream",
       "stream": "stdout",
       "text": [
        " \u0431\u0438\u0431\u043b\u0438\u044f \u043c\u0435\u043d\u0442\u0435\u043b\u0438\u043d\u0430  [Russian] OK\n"
       ]
      },
      {
       "output_type": "stream",
       "stream": "stdout",
       "text": [
        " canoa/kayak ai xvi giochi del mediterraneo  [Italian] OK\n"
       ]
      },
      {
       "output_type": "stream",
       "stream": "stdout",
       "text": [
        " \u0432\u043e\u043e\u0440\u0443\u0436\u0451\u043d\u043d\u044b\u0439 \u043a\u043e\u043d\u0444\u043b\u0438\u043a\u0442 \u043d\u0430 \u0432\u043e\u0441\u0442\u043e\u043a\u0435 \u0443\u043a\u0440\u0430\u0438\u043d\u044b 2014  [Russian] OK\n"
       ]
      },
      {
       "output_type": "stream",
       "stream": "stdout",
       "text": [
        " \ub300\ud55c\ubbfc\uad6d \ubbfc\ubc95 \uc81c751\uc870  [Korean] OK\n"
       ]
      },
      {
       "output_type": "stream",
       "stream": "stdout",
       "text": [
        " cin\u00e9ma comique fran\u00e7ais  [French] OK\n"
       ]
      },
      {
       "output_type": "stream",
       "stream": "stdout",
       "text": [
        " \u822a\u7a7a\u5b87\u5b99\u8ecd\u53f2  [Japanese] Failed!\n",
        "Prediction: Chinese, Received: 2481, Trained: 878, Last-500 Accuracy: 0.712\n"
       ]
      },
      {
       "output_type": "stream",
       "stream": "stdout",
       "text": [
        " \u05de\u05e9\u05d4 \u05d0\u05d9\u05e8\u05e0\u05e9\u05d8\u05d9\u05d9\u05df  [Hebrew] OK\n"
       ]
      },
      {
       "output_type": "stream",
       "stream": "stdout",
       "text": [
        " liste der baudenkm\u00e4ler in sankt englmar  [German] OK\n"
       ]
      },
      {
       "output_type": "stream",
       "stream": "stdout",
       "text": [
        " aachen  [German] OK\n"
       ]
      },
      {
       "output_type": "stream",
       "stream": "stdout",
       "text": [
        " jan piwnik  [Polish] OK\n"
       ]
      },
      {
       "output_type": "stream",
       "stream": "stdout",
       "text": [
        " sacoila  [Swedish] OK\n"
       ]
      },
      {
       "output_type": "stream",
       "stream": "stdout",
       "text": [
        " humvee versions chinoises  [French] Failed!\n",
        "Prediction: German, Received: 2487, Trained: 879, Last-500 Accuracy: 0.714\n"
       ]
      },
      {
       "output_type": "stream",
       "stream": "stdout",
       "text": [
        " matheus d\u00f3ria macedo  [French] Failed!\n",
        "Prediction: Norwegian, Received: 2488, Trained: 880, Last-500 Accuracy: 0.712\n"
       ]
      },
      {
       "output_type": "stream",
       "stream": "stdout",
       "text": [
        " cant\u00f3 d'audenja  [Catalan] OK\n"
       ]
      },
      {
       "output_type": "stream",
       "stream": "stdout",
       "text": [
        " \u9759\u5ca1\u770c\u5bcc\u58eb\u6c34\u6cf3\u5834  [Japanese] Failed!\n",
        "Prediction: Chinese, Received: 2490, Trained: 881, Last-500 Accuracy: 0.712\n"
       ]
      },
      {
       "output_type": "stream",
       "stream": "stdout",
       "text": [
        " die sch\u00f6ne m\u00fcllerin  [French] OK\n"
       ]
      },
      {
       "output_type": "stream",
       "stream": "stdout",
       "text": [
        " berizky \u010de\u010de\u013enycki  [Slovak] OK\n"
       ]
      },
      {
       "output_type": "stream",
       "stream": "stdout",
       "text": [
        " ahmad ibn ibrahim al ghazi  [German] Failed!\n",
        "Prediction: French, Received: 2493, Trained: 882, Last-500 Accuracy: 0.714\n"
       ]
      },
      {
       "output_type": "stream",
       "stream": "stdout",
       "text": [
        " \uc544\ud640\ub85c\ud2c0  [Korean] Failed!\n",
        "Prediction: Chinese, Received: 2494, Trained: 883, Last-500 Accuracy: 0.714\n"
       ]
      },
      {
       "output_type": "stream",
       "stream": "stdout",
       "text": [
        " wakana nagahara  [German] Failed!\n",
        "Prediction: Polish, Received: 2495, Trained: 884, Last-500 Accuracy: 0.714\n"
       ]
      },
      {
       "output_type": "stream",
       "stream": "stdout",
       "text": [
        " giovanni di schleswig holstein sonderburg  [Italian] OK\n"
       ]
      },
      {
       "output_type": "stream",
       "stream": "stdout",
       "text": [
        " \u0627\u0633\u0645\u0627\u0639\u064a\u0644 \u062a\u0645\u064a\u0645  [Arabic] OK\n"
       ]
      },
      {
       "output_type": "stream",
       "stream": "stdout",
       "text": [
        " hidden britse televisieserie  [Dutch] Failed!\n",
        "Prediction: French, Received: 2498, Trained: 885, Last-500 Accuracy: 0.714\n"
       ]
      },
      {
       "output_type": "stream",
       "stream": "stdout",
       "text": [
        " sacoila argentina  [Swedish] OK\n"
       ]
      },
      {
       "output_type": "stream",
       "stream": "stdout",
       "text": [
        " callitriche heterophylla  [Swedish] OK\n"
       ]
      },
      {
       "output_type": "stream",
       "stream": "stdout",
       "text": [
        " batterie elektrotechnik  [German] OK\n"
       ]
      },
      {
       "output_type": "stream",
       "stream": "stdout",
       "text": [
        " sivriada  [German] Failed!\n",
        "Prediction: Italian, Received: 2502, Trained: 886, Last-500 Accuracy: 0.714\n"
       ]
      },
      {
       "output_type": "stream",
       "stream": "stdout",
       "text": [
        " \u6c37\u3068\u708e\u306e\u6b4c\u306e\u7528\u8a9e\u96c6  [Japanese] OK\n"
       ]
      },
      {
       "output_type": "stream",
       "stream": "stdout",
       "text": [
        "Ignoring class 30\n",
        " cheix  [Portuguese] OK"
       ]
      },
      {
       "output_type": "stream",
       "stream": "stdout",
       "text": [
        "\n"
       ]
      },
      {
       "output_type": "stream",
       "stream": "stdout",
       "text": [
        " \uc720\ub7fd \uc5b4\ub9b0\uc774 \uc57c\uad6c \uc120\uc218\uad8c \ub300\ud68c 12\uc138 \uc774\ud558  [Korean] OK\n"
       ]
      },
      {
       "output_type": "stream",
       "stream": "stdout",
       "text": [
        " f\u00e5gels\u00e5ng olika betydelser  [Swedish] OK\n"
       ]
      },
      {
       "output_type": "stream",
       "stream": "stdout",
       "text": [
        " sacoila duseniana  [Swedish] OK\n"
       ]
      },
      {
       "output_type": "stream",
       "stream": "stdout",
       "text": [
        " chlidichthys foudioides  [Euskara] OK\n"
       ]
      },
      {
       "output_type": "stream",
       "stream": "stdout",
       "text": [
        "Ignoring class 30\n",
        " \u8fea\u58eb\u5c3c\u516c\u4e3b  [Chinese] OK\n"
       ]
      },
      {
       "output_type": "stream",
       "stream": "stdout",
       "text": [
        " winsen luhe  [German] Failed!\n",
        "Prediction: French, Received: 2512, Trained: 887, Last-500 Accuracy: 0.716\n"
       ]
      },
      {
       "output_type": "stream",
       "stream": "stdout",
       "text": [
        " cant\u00f3 d'audeux  [Catalan] OK\n"
       ]
      },
      {
       "output_type": "stream",
       "stream": "stdout",
       "text": [
        " apathya  [Dutch] Failed!\n",
        "Prediction: Euskara, Received: 2514, Trained: 888, Last-500 Accuracy: 0.716\n"
       ]
      },
      {
       "output_type": "stream",
       "stream": "stdout",
       "text": [
        " \u043b\u0438\u0441\u0430\u043d\u0434\u0440  [Russian] OK\n"
       ]
      },
      {
       "output_type": "stream",
       "stream": "stdout",
       "text": [
        " maynor suazo  [Italian] Failed!\n",
        "Prediction: Spanish, Received: 2516, Trained: 889, Last-500 Accuracy: 0.716\n"
       ]
      },
      {
       "output_type": "stream",
       "stream": "stdout",
       "text": [
        " football club internazionale milano 2014 2015  [Italian] Failed!\n",
        "Prediction: French, Received: 2517, Trained: 890, Last-500 Accuracy: 0.714\n"
       ]
      },
      {
       "output_type": "stream",
       "stream": "stdout",
       "text": [
        " \u0434\u0438\u0434\u0430 \u0432\u0440\u0430\u0442\u0430\u0440\u044c  [Russian] OK\n"
       ]
      },
      {
       "output_type": "stream",
       "stream": "stdout",
       "text": [
        " \u30e6\u30cb\u30aa\u30f3\u30d7\u30ed\u30ec\u30b9  [Japanese] OK\n"
       ]
      },
      {
       "output_type": "stream",
       "stream": "stdout",
       "text": [
        " sacoila foliosa  [Swedish] OK\n"
       ]
      },
      {
       "output_type": "stream",
       "stream": "stdout",
       "text": [
        " \u0431\u0456\u043b\u043e\u043a\u043e\u043b\u043e\u0441 \u0454\u0432\u0433\u0435\u043d \u0434\u043c\u0438\u0442\u0440\u043e\u0432\u0438\u0447  [Ukrainian] OK\n"
       ]
      },
      {
       "output_type": "stream",
       "stream": "stdout",
       "text": [
        " carlos acostamilian  [Spanish] Failed!\n",
        "Prediction: Swedish, Received: 2522, Trained: 891, Last-500 Accuracy: 0.718\n"
       ]
      },
      {
       "output_type": "stream",
       "stream": "stdout",
       "text": [
        " helmuth liesegang  [German] OK\n"
       ]
      },
      {
       "output_type": "stream",
       "stream": "stdout",
       "text": [
        " volksbank g\u00f6ppingen  [German] OK\n"
       ]
      },
      {
       "output_type": "stream",
       "stream": "stdout",
       "text": [
        " \u738b\u50b3\u4e00  [Chinese] Failed!\n",
        "Prediction: Japanese, Received: 2525, Trained: 892, Last-500 Accuracy: 0.716\n"
       ]
      },
      {
       "output_type": "stream",
       "stream": "stdout",
       "text": [
        "Ignoring class 30\n",
        " stuart price  [Italian] OK\n"
       ]
      },
      {
       "output_type": "stream",
       "stream": "stdout",
       "text": [
        " \u4e95\u4e0a\u9ebb\u91cc\u5948  [Japanese] OK\n"
       ]
      },
      {
       "output_type": "stream",
       "stream": "stdout",
       "text": [
        " \u05d7\u05d1\u05e8\u05ea \u05d5\u05d5\u05dc\u05d8 \u05d3\u05d9\u05e1\u05e0\u05d9  [Hebrew] OK\n"
       ]
      },
      {
       "output_type": "stream",
       "stream": "stdout",
       "text": [
        " mu\u011fla  [Turkish] Failed!\n",
        "Prediction: Italian, Received: 2530, Trained: 893, Last-500 Accuracy: 0.714\n"
       ]
      },
      {
       "output_type": "stream",
       "stream": "stdout",
       "text": [
        " steven rooks  [French] Failed!\n",
        "Prediction: German, Received: 2531, Trained: 894, Last-500 Accuracy: 0.712\n"
       ]
      },
      {
       "output_type": "stream",
       "stream": "stdout",
       "text": [
        " ath\u00e9n\u00e9e auteur grec  [French] OK\n"
       ]
      },
      {
       "output_type": "stream",
       "stream": "stdout",
       "text": [
        " alfred vestlund fiktiv person  [Swedish] Failed!\n",
        "Prediction: French, Received: 2533, Trained: 895, Last-500 Accuracy: 0.710\n"
       ]
      },
      {
       "output_type": "stream",
       "stream": "stdout",
       "text": [
        " callitriche longipedunculata  [Swedish] OK\n"
       ]
      },
      {
       "output_type": "stream",
       "stream": "stdout",
       "text": [
        " sookee  [German] Failed!\n",
        "Prediction: French, Received: 2535, Trained: 896, Last-500 Accuracy: 0.708\n"
       ]
      },
      {
       "output_type": "stream",
       "stream": "stdout",
       "text": [
        " frise des comiques  [French] OK\n"
       ]
      },
      {
       "output_type": "stream",
       "stream": "stdout",
       "text": [
        " liste der kreisstra\u00dfen im oberbergischen kreis  [German] OK\n"
       ]
      },
      {
       "output_type": "stream",
       "stream": "stdout",
       "text": [
        " ilie s\u00e1nchez  [Dutch] Failed!\n",
        "Prediction: French, Received: 2538, Trained: 897, Last-500 Accuracy: 0.710\n"
       ]
      },
      {
       "output_type": "stream",
       "stream": "stdout",
       "text": [
        " am brunnen vor dem tore  [French] OK\n"
       ]
      },
      {
       "output_type": "stream",
       "stream": "stdout",
       "text": [
        " \u0443\u0438\u043b\u044c\u044f\u043c\u0441 \u0432\u0430\u043d\u0435\u0441\u0441\u0430  [Russian] OK\n"
       ]
      },
      {
       "output_type": "stream",
       "stream": "stdout",
       "text": [
        " sacoila hassleri  [Swedish] Failed!\n",
        "Prediction: French, Received: 2541, Trained: 898, Last-500 Accuracy: 0.708\n"
       ]
      },
      {
       "output_type": "stream",
       "stream": "stdout",
       "text": [
        " luigi novarese  [French] Failed!\n",
        "Prediction: Italian, Received: 2542, Trained: 899, Last-500 Accuracy: 0.708\n"
       ]
      },
      {
       "output_type": "stream",
       "stream": "stdout",
       "text": [
        " li ling seiler  [Norwegian] Failed!\n",
        "Prediction: French, Received: 2543, Trained: 900, Last-500 Accuracy: 0.706\n"
       ]
      },
      {
       "output_type": "stream",
       "stream": "stdout",
       "text": [
        " \u0643\u0631\u0648\u0646\u0629 \u0646\u0631\u0648\u062c\u064a\u0629  [Arabic] OK\n"
       ]
      },
      {
       "output_type": "stream",
       "stream": "stdout",
       "text": [
        " adam svanell  [Swedish] Failed!\n",
        "Prediction: French, Received: 2545, Trained: 901, Last-500 Accuracy: 0.706\n"
       ]
      },
      {
       "output_type": "stream",
       "stream": "stdout",
       "text": [
        " \u0431\u0430\u043d\u0434\u0435\u0440\u043e\u0444\u043e\u0431\u0456\u044f  [Ukrainian] Failed!\n",
        "Prediction: Russian, Received: 2546, Trained: 902, Last-500 Accuracy: 0.706\n"
       ]
      },
      {
       "output_type": "stream",
       "stream": "stdout",
       "text": [
        " jane austen  [Swedish] Failed!\n",
        "Prediction: French, Received: 2547, Trained: 903, Last-500 Accuracy: 0.706\n"
       ]
      },
      {
       "output_type": "stream",
       "stream": "stdout",
       "text": [
        " olympique d'al\u00e8s en c\u00e9vennes  [French] OK\n"
       ]
      },
      {
       "output_type": "stream",
       "stream": "stdout",
       "text": [
        " kostol zvestovania p\u00e1na bratislava  [Slovak] OK\n"
       ]
      },
      {
       "output_type": "stream",
       "stream": "stdout",
       "text": [
        " place des jacobins lyon  [French] OK\n"
       ]
      },
      {
       "output_type": "stream",
       "stream": "stdout",
       "text": [
        " lilla magellanska molnet  [Swedish] OK\n"
       ]
      },
      {
       "output_type": "stream",
       "stream": "stdout",
       "text": [
        " lorca deportiva  [German] Failed!\n",
        "Prediction: Spanish, Received: 2552, Trained: 904, Last-500 Accuracy: 0.708\n"
       ]
      },
      {
       "output_type": "stream",
       "stream": "stdout",
       "text": [
        " sacoila lanceolata  [Swedish] OK\n"
       ]
      },
      {
       "output_type": "stream",
       "stream": "stdout",
       "text": [
        " \u063a\u0648\u064a\u0631\u0627\u0646  [Arabic] OK\n"
       ]
      },
      {
       "output_type": "stream",
       "stream": "stdout",
       "text": [
        " cheix en retz  [Portuguese] Failed!\n",
        "Prediction: German, Received: 2555, Trained: 905, Last-500 Accuracy: 0.708\n"
       ]
      },
      {
       "output_type": "stream",
       "stream": "stdout",
       "text": [
        " callitriche sepulta  [Swedish] OK\n"
       ]
      },
      {
       "output_type": "stream",
       "stream": "stdout",
       "text": [
        " pec zwolle in het seizoen 2014/15  [Dutch] OK\n"
       ]
      },
      {
       "output_type": "stream",
       "stream": "stdout",
       "text": [
        " \u0430\u0434\u044b\u0433\u0438  [Russian] OK\n"
       ]
      },
      {
       "output_type": "stream",
       "stream": "stdout",
       "text": [
        " perawan  [Indonesian] Failed!\n",
        "Prediction: German, Received: 2559, Trained: 906, Last-500 Accuracy: 0.708\n"
       ]
      },
      {
       "output_type": "stream",
       "stream": "stdout",
       "text": [
        " ezra koenig  [Swedish] Failed!\n",
        "Prediction: German, Received: 2560, Trained: 907, Last-500 Accuracy: 0.706\n"
       ]
      },
      {
       "output_type": "stream",
       "stream": "stdout",
       "text": [
        " n\u00e4ckrosdammen  [Swedish] OK\n"
       ]
      },
      {
       "output_type": "stream",
       "stream": "stdout",
       "text": [
        " \u044f\u043d\u044f \u043f\u0440\u0438\u0442\u043e\u043a \u043f\u043b\u044e\u0441\u0441\u044b  [Russian] OK\n"
       ]
      },
      {
       "output_type": "stream",
       "stream": "stdout",
       "text": [
        " \u03c0\u03bf\u03cd\u03bd\u03c4\u03c3\u03b1\u03ba \u03c4\u03b6\u03ac\u03b3\u03b9\u03b1  [Greek] OK\n"
       ]
      },
      {
       "output_type": "stream",
       "stream": "stdout",
       "text": [
        " sacoila pedicellata  [Swedish] OK\n"
       ]
      },
      {
       "output_type": "stream",
       "stream": "stdout",
       "text": [
        " 24\u6642\u9593\u30c6\u30ec\u30d3 \u300c\u611b\u306f\u5730\u7403\u3092\u6551\u3046\u300d  [Japanese] OK\n"
       ]
      },
      {
       "output_type": "stream",
       "stream": "stdout",
       "text": [
        " \u05d0\u05dc\u05e4\u05d5\u05e0\u05e1 \u05d1\u05e8\u05d8\u05d9\u05d5\u05df  [Hebrew] OK\n"
       ]
      },
      {
       "output_type": "stream",
       "stream": "stdout",
       "text": [
        " cant\u00f3 d'audincourt  [Catalan] OK\n"
       ]
      },
      {
       "output_type": "stream",
       "stream": "stdout",
       "text": [
        " jacques g. ruelland  [French] OK\n"
       ]
      },
      {
       "output_type": "stream",
       "stream": "stdout",
       "text": [
        " \u0430\u0431\u0443\u0431\u0430\u043a\u0430\u0440 \u0432\u0435\u043d\u0441\u0430\u043d  [Russian] OK\n"
       ]
      },
      {
       "output_type": "stream",
       "stream": "stdout",
       "text": [
        " frumentius  [German] OK\n"
       ]
      },
      {
       "output_type": "stream",
       "stream": "stdout",
       "text": [
        " chlidichthys inornatus  [Euskara] OK\n"
       ]
      },
      {
       "output_type": "stream",
       "stream": "stdout",
       "text": [
        " liste des plus gros succ\u00e8s du box office en france  [French] OK\n"
       ]
      },
      {
       "output_type": "stream",
       "stream": "stdout",
       "text": [
        " cata e i misteri della sfera  [Italian] OK\n"
       ]
      },
      {
       "ename": "KeyboardInterrupt",
       "evalue": "",
       "output_type": "pyerr",
       "traceback": [
        "\u001b[1;31m---------------------------------------------------------------------------\u001b[0m\n\u001b[1;31mKeyboardInterrupt\u001b[0m                         Traceback (most recent call last)",
        "\u001b[1;32m<ipython-input-12-c95b134969a8>\u001b[0m in \u001b[0;36m<module>\u001b[1;34m()\u001b[0m\n\u001b[0;32m     87\u001b[0m \u001b[1;33m\u001b[0m\u001b[0m\n\u001b[0;32m     88\u001b[0m \u001b[1;32mtry\u001b[0m\u001b[1;33m:\u001b[0m\u001b[1;33m\u001b[0m\u001b[0m\n\u001b[1;32m---> 89\u001b[1;33m     \u001b[0mwikipedia_updates\u001b[0m\u001b[1;33m(\u001b[0m\u001b[0mvw_callback\u001b[0m\u001b[1;33m)\u001b[0m\u001b[1;33m\u001b[0m\u001b[0m\n\u001b[0m\u001b[0;32m     90\u001b[0m \u001b[1;32mfinally\u001b[0m\u001b[1;33m:\u001b[0m\u001b[1;33m\u001b[0m\u001b[0m\n\u001b[0;32m     91\u001b[0m     \u001b[0mvw\u001b[0m\u001b[1;33m.\u001b[0m\u001b[0mclose\u001b[0m\u001b[1;33m(\u001b[0m\u001b[1;33m)\u001b[0m\u001b[1;33m\u001b[0m\u001b[0m\n",
        "\u001b[1;32m<ipython-input-2-8f89edad8682>\u001b[0m in \u001b[0;36mwikipedia_updates\u001b[1;34m(callback)\u001b[0m\n\u001b[0;32m      6\u001b[0m     \u001b[1;32mwhile\u001b[0m \u001b[1;32mTrue\u001b[0m\u001b[1;33m:\u001b[0m\u001b[1;33m\u001b[0m\u001b[0m\n\u001b[0;32m      7\u001b[0m         \u001b[0mt\u001b[0m \u001b[1;33m=\u001b[0m \u001b[0mtime\u001b[0m\u001b[1;33m.\u001b[0m\u001b[0mtime\u001b[0m\u001b[1;33m(\u001b[0m\u001b[1;33m)\u001b[0m \u001b[1;33m*\u001b[0m \u001b[1;36m1000000\u001b[0m\u001b[1;33m\u001b[0m\u001b[0m\n\u001b[1;32m----> 8\u001b[1;33m         \u001b[0mresponse\u001b[0m \u001b[1;33m=\u001b[0m \u001b[0mget\u001b[0m\u001b[1;33m(\u001b[0m\u001b[0mxhr_endpoint\u001b[0m\u001b[1;33m,\u001b[0m \u001b[0mparams\u001b[0m\u001b[1;33m=\u001b[0m\u001b[1;33m{\u001b[0m\u001b[1;34m't'\u001b[0m\u001b[1;33m:\u001b[0m \u001b[0mt\u001b[0m\u001b[1;33m}\u001b[0m\u001b[1;33m)\u001b[0m\u001b[1;33m.\u001b[0m\u001b[0mcontent\u001b[0m\u001b[1;33m.\u001b[0m\u001b[0mdecode\u001b[0m\u001b[1;33m(\u001b[0m\u001b[1;34m'utf-8'\u001b[0m\u001b[1;33m)\u001b[0m\u001b[1;33m\u001b[0m\u001b[0m\n\u001b[0m\u001b[0;32m      9\u001b[0m \u001b[1;33m\u001b[0m\u001b[0m\n\u001b[0;32m     10\u001b[0m         \u001b[0mchunks\u001b[0m \u001b[1;33m=\u001b[0m \u001b[0mre\u001b[0m\u001b[1;33m.\u001b[0m\u001b[0msplit\u001b[0m\u001b[1;33m(\u001b[0m\u001b[1;34mu'\\ufffd[0-9]+\\ufffd'\u001b[0m\u001b[1;33m,\u001b[0m \u001b[0mresponse\u001b[0m\u001b[1;33m)\u001b[0m\u001b[1;33m\u001b[0m\u001b[0m\n",
        "\u001b[1;32m/usr/local/lib/python3.4/dist-packages/requests/api.py\u001b[0m in \u001b[0;36mget\u001b[1;34m(url, **kwargs)\u001b[0m\n\u001b[0;32m     53\u001b[0m \u001b[1;33m\u001b[0m\u001b[0m\n\u001b[0;32m     54\u001b[0m     \u001b[0mkwargs\u001b[0m\u001b[1;33m.\u001b[0m\u001b[0msetdefault\u001b[0m\u001b[1;33m(\u001b[0m\u001b[1;34m'allow_redirects'\u001b[0m\u001b[1;33m,\u001b[0m \u001b[1;32mTrue\u001b[0m\u001b[1;33m)\u001b[0m\u001b[1;33m\u001b[0m\u001b[0m\n\u001b[1;32m---> 55\u001b[1;33m     \u001b[1;32mreturn\u001b[0m \u001b[0mrequest\u001b[0m\u001b[1;33m(\u001b[0m\u001b[1;34m'get'\u001b[0m\u001b[1;33m,\u001b[0m \u001b[0murl\u001b[0m\u001b[1;33m,\u001b[0m \u001b[1;33m**\u001b[0m\u001b[0mkwargs\u001b[0m\u001b[1;33m)\u001b[0m\u001b[1;33m\u001b[0m\u001b[0m\n\u001b[0m\u001b[0;32m     56\u001b[0m \u001b[1;33m\u001b[0m\u001b[0m\n\u001b[0;32m     57\u001b[0m \u001b[1;33m\u001b[0m\u001b[0m\n",
        "\u001b[1;32m/usr/local/lib/python3.4/dist-packages/requests/api.py\u001b[0m in \u001b[0;36mrequest\u001b[1;34m(method, url, **kwargs)\u001b[0m\n\u001b[0;32m     42\u001b[0m \u001b[1;33m\u001b[0m\u001b[0m\n\u001b[0;32m     43\u001b[0m     \u001b[0msession\u001b[0m \u001b[1;33m=\u001b[0m \u001b[0msessions\u001b[0m\u001b[1;33m.\u001b[0m\u001b[0mSession\u001b[0m\u001b[1;33m(\u001b[0m\u001b[1;33m)\u001b[0m\u001b[1;33m\u001b[0m\u001b[0m\n\u001b[1;32m---> 44\u001b[1;33m     \u001b[1;32mreturn\u001b[0m \u001b[0msession\u001b[0m\u001b[1;33m.\u001b[0m\u001b[0mrequest\u001b[0m\u001b[1;33m(\u001b[0m\u001b[0mmethod\u001b[0m\u001b[1;33m=\u001b[0m\u001b[0mmethod\u001b[0m\u001b[1;33m,\u001b[0m \u001b[0murl\u001b[0m\u001b[1;33m=\u001b[0m\u001b[0murl\u001b[0m\u001b[1;33m,\u001b[0m \u001b[1;33m**\u001b[0m\u001b[0mkwargs\u001b[0m\u001b[1;33m)\u001b[0m\u001b[1;33m\u001b[0m\u001b[0m\n\u001b[0m\u001b[0;32m     45\u001b[0m \u001b[1;33m\u001b[0m\u001b[0m\n\u001b[0;32m     46\u001b[0m \u001b[1;33m\u001b[0m\u001b[0m\n",
        "\u001b[1;32m/usr/local/lib/python3.4/dist-packages/requests/sessions.py\u001b[0m in \u001b[0;36mrequest\u001b[1;34m(self, method, url, params, data, headers, cookies, files, auth, timeout, allow_redirects, proxies, hooks, stream, verify, cert)\u001b[0m\n\u001b[0;32m    454\u001b[0m             \u001b[1;34m'allow_redirects'\u001b[0m\u001b[1;33m:\u001b[0m \u001b[0mallow_redirects\u001b[0m\u001b[1;33m,\u001b[0m\u001b[1;33m\u001b[0m\u001b[0m\n\u001b[0;32m    455\u001b[0m         }\n\u001b[1;32m--> 456\u001b[1;33m         \u001b[0mresp\u001b[0m \u001b[1;33m=\u001b[0m \u001b[0mself\u001b[0m\u001b[1;33m.\u001b[0m\u001b[0msend\u001b[0m\u001b[1;33m(\u001b[0m\u001b[0mprep\u001b[0m\u001b[1;33m,\u001b[0m \u001b[1;33m**\u001b[0m\u001b[0msend_kwargs\u001b[0m\u001b[1;33m)\u001b[0m\u001b[1;33m\u001b[0m\u001b[0m\n\u001b[0m\u001b[0;32m    457\u001b[0m \u001b[1;33m\u001b[0m\u001b[0m\n\u001b[0;32m    458\u001b[0m         \u001b[1;32mreturn\u001b[0m \u001b[0mresp\u001b[0m\u001b[1;33m\u001b[0m\u001b[0m\n",
        "\u001b[1;32m/usr/local/lib/python3.4/dist-packages/requests/sessions.py\u001b[0m in \u001b[0;36msend\u001b[1;34m(self, request, **kwargs)\u001b[0m\n\u001b[0;32m    583\u001b[0m \u001b[1;33m\u001b[0m\u001b[0m\n\u001b[0;32m    584\u001b[0m         \u001b[1;31m# Resolve redirects if allowed.\u001b[0m\u001b[1;33m\u001b[0m\u001b[1;33m\u001b[0m\u001b[0m\n\u001b[1;32m--> 585\u001b[1;33m         \u001b[0mhistory\u001b[0m \u001b[1;33m=\u001b[0m \u001b[1;33m[\u001b[0m\u001b[0mresp\u001b[0m \u001b[1;32mfor\u001b[0m \u001b[0mresp\u001b[0m \u001b[1;32min\u001b[0m \u001b[0mgen\u001b[0m\u001b[1;33m]\u001b[0m \u001b[1;32mif\u001b[0m \u001b[0mallow_redirects\u001b[0m \u001b[1;32melse\u001b[0m \u001b[1;33m[\u001b[0m\u001b[1;33m]\u001b[0m\u001b[1;33m\u001b[0m\u001b[0m\n\u001b[0m\u001b[0;32m    586\u001b[0m \u001b[1;33m\u001b[0m\u001b[0m\n\u001b[0;32m    587\u001b[0m         \u001b[1;31m# Shuffle things around if there's history.\u001b[0m\u001b[1;33m\u001b[0m\u001b[1;33m\u001b[0m\u001b[0m\n",
        "\u001b[1;32m/usr/local/lib/python3.4/dist-packages/requests/sessions.py\u001b[0m in \u001b[0;36m<listcomp>\u001b[1;34m(.0)\u001b[0m\n\u001b[0;32m    583\u001b[0m \u001b[1;33m\u001b[0m\u001b[0m\n\u001b[0;32m    584\u001b[0m         \u001b[1;31m# Resolve redirects if allowed.\u001b[0m\u001b[1;33m\u001b[0m\u001b[1;33m\u001b[0m\u001b[0m\n\u001b[1;32m--> 585\u001b[1;33m         \u001b[0mhistory\u001b[0m \u001b[1;33m=\u001b[0m \u001b[1;33m[\u001b[0m\u001b[0mresp\u001b[0m \u001b[1;32mfor\u001b[0m \u001b[0mresp\u001b[0m \u001b[1;32min\u001b[0m \u001b[0mgen\u001b[0m\u001b[1;33m]\u001b[0m \u001b[1;32mif\u001b[0m \u001b[0mallow_redirects\u001b[0m \u001b[1;32melse\u001b[0m \u001b[1;33m[\u001b[0m\u001b[1;33m]\u001b[0m\u001b[1;33m\u001b[0m\u001b[0m\n\u001b[0m\u001b[0;32m    586\u001b[0m \u001b[1;33m\u001b[0m\u001b[0m\n\u001b[0;32m    587\u001b[0m         \u001b[1;31m# Shuffle things around if there's history.\u001b[0m\u001b[1;33m\u001b[0m\u001b[1;33m\u001b[0m\u001b[0m\n",
        "\u001b[1;32m/usr/local/lib/python3.4/dist-packages/requests/sessions.py\u001b[0m in \u001b[0;36mresolve_redirects\u001b[1;34m(self, resp, req, stream, timeout, verify, cert, proxies)\u001b[0m\n\u001b[0;32m    177\u001b[0m                 \u001b[0mcert\u001b[0m\u001b[1;33m=\u001b[0m\u001b[0mcert\u001b[0m\u001b[1;33m,\u001b[0m\u001b[1;33m\u001b[0m\u001b[0m\n\u001b[0;32m    178\u001b[0m                 \u001b[0mproxies\u001b[0m\u001b[1;33m=\u001b[0m\u001b[0mproxies\u001b[0m\u001b[1;33m,\u001b[0m\u001b[1;33m\u001b[0m\u001b[0m\n\u001b[1;32m--> 179\u001b[1;33m                 \u001b[0mallow_redirects\u001b[0m\u001b[1;33m=\u001b[0m\u001b[1;32mFalse\u001b[0m\u001b[1;33m,\u001b[0m\u001b[1;33m\u001b[0m\u001b[0m\n\u001b[0m\u001b[0;32m    180\u001b[0m             )\n\u001b[0;32m    181\u001b[0m \u001b[1;33m\u001b[0m\u001b[0m\n",
        "\u001b[1;32m/usr/local/lib/python3.4/dist-packages/requests/sessions.py\u001b[0m in \u001b[0;36msend\u001b[1;34m(self, request, **kwargs)\u001b[0m\n\u001b[0;32m    557\u001b[0m \u001b[1;33m\u001b[0m\u001b[0m\n\u001b[0;32m    558\u001b[0m         \u001b[1;31m# Send the request\u001b[0m\u001b[1;33m\u001b[0m\u001b[1;33m\u001b[0m\u001b[0m\n\u001b[1;32m--> 559\u001b[1;33m         \u001b[0mr\u001b[0m \u001b[1;33m=\u001b[0m \u001b[0madapter\u001b[0m\u001b[1;33m.\u001b[0m\u001b[0msend\u001b[0m\u001b[1;33m(\u001b[0m\u001b[0mrequest\u001b[0m\u001b[1;33m,\u001b[0m \u001b[1;33m**\u001b[0m\u001b[0mkwargs\u001b[0m\u001b[1;33m)\u001b[0m\u001b[1;33m\u001b[0m\u001b[0m\n\u001b[0m\u001b[0;32m    560\u001b[0m \u001b[1;33m\u001b[0m\u001b[0m\n\u001b[0;32m    561\u001b[0m         \u001b[1;31m# Total elapsed time of the request (approximately)\u001b[0m\u001b[1;33m\u001b[0m\u001b[1;33m\u001b[0m\u001b[0m\n",
        "\u001b[1;32m/usr/local/lib/python3.4/dist-packages/requests/adapters.py\u001b[0m in \u001b[0;36msend\u001b[1;34m(self, request, stream, timeout, verify, cert, proxies)\u001b[0m\n\u001b[0;32m    325\u001b[0m                     \u001b[0mdecode_content\u001b[0m\u001b[1;33m=\u001b[0m\u001b[1;32mFalse\u001b[0m\u001b[1;33m,\u001b[0m\u001b[1;33m\u001b[0m\u001b[0m\n\u001b[0;32m    326\u001b[0m                     \u001b[0mretries\u001b[0m\u001b[1;33m=\u001b[0m\u001b[0mself\u001b[0m\u001b[1;33m.\u001b[0m\u001b[0mmax_retries\u001b[0m\u001b[1;33m,\u001b[0m\u001b[1;33m\u001b[0m\u001b[0m\n\u001b[1;32m--> 327\u001b[1;33m                     \u001b[0mtimeout\u001b[0m\u001b[1;33m=\u001b[0m\u001b[0mtimeout\u001b[0m\u001b[1;33m\u001b[0m\u001b[0m\n\u001b[0m\u001b[0;32m    328\u001b[0m                 )\n\u001b[0;32m    329\u001b[0m \u001b[1;33m\u001b[0m\u001b[0m\n",
        "\u001b[1;32m/usr/local/lib/python3.4/dist-packages/requests/packages/urllib3/connectionpool.py\u001b[0m in \u001b[0;36murlopen\u001b[1;34m(self, method, url, body, headers, retries, redirect, assert_same_host, timeout, pool_timeout, release_conn, **response_kw)\u001b[0m\n\u001b[0;32m    491\u001b[0m             httplib_response = self._make_request(conn, method, url,\n\u001b[0;32m    492\u001b[0m                                                   \u001b[0mtimeout\u001b[0m\u001b[1;33m=\u001b[0m\u001b[0mtimeout\u001b[0m\u001b[1;33m,\u001b[0m\u001b[1;33m\u001b[0m\u001b[0m\n\u001b[1;32m--> 493\u001b[1;33m                                                   body=body, headers=headers)\n\u001b[0m\u001b[0;32m    494\u001b[0m \u001b[1;33m\u001b[0m\u001b[0m\n\u001b[0;32m    495\u001b[0m             \u001b[1;31m# If we're going to release the connection in ``finally:``, then\u001b[0m\u001b[1;33m\u001b[0m\u001b[1;33m\u001b[0m\u001b[0m\n",
        "\u001b[1;32m/usr/local/lib/python3.4/dist-packages/requests/packages/urllib3/connectionpool.py\u001b[0m in \u001b[0;36m_make_request\u001b[1;34m(self, conn, method, url, timeout, **httplib_request_kw)\u001b[0m\n\u001b[0;32m    289\u001b[0m             \u001b[1;31m# conn.request() calls httplib.*.request, not the method in\u001b[0m\u001b[1;33m\u001b[0m\u001b[1;33m\u001b[0m\u001b[0m\n\u001b[0;32m    290\u001b[0m             \u001b[1;31m# urllib3.request. It also calls makefile (recv) on the socket.\u001b[0m\u001b[1;33m\u001b[0m\u001b[1;33m\u001b[0m\u001b[0m\n\u001b[1;32m--> 291\u001b[1;33m             \u001b[0mconn\u001b[0m\u001b[1;33m.\u001b[0m\u001b[0mrequest\u001b[0m\u001b[1;33m(\u001b[0m\u001b[0mmethod\u001b[0m\u001b[1;33m,\u001b[0m \u001b[0murl\u001b[0m\u001b[1;33m,\u001b[0m \u001b[1;33m**\u001b[0m\u001b[0mhttplib_request_kw\u001b[0m\u001b[1;33m)\u001b[0m\u001b[1;33m\u001b[0m\u001b[0m\n\u001b[0m\u001b[0;32m    292\u001b[0m         \u001b[1;32mexcept\u001b[0m \u001b[0mSocketTimeout\u001b[0m\u001b[1;33m:\u001b[0m\u001b[1;33m\u001b[0m\u001b[0m\n\u001b[0;32m    293\u001b[0m             raise ConnectTimeoutError(\n",
        "\u001b[1;32m/usr/lib/python3.4/http/client.py\u001b[0m in \u001b[0;36mrequest\u001b[1;34m(self, method, url, body, headers)\u001b[0m\n\u001b[0;32m   1088\u001b[0m     \u001b[1;32mdef\u001b[0m \u001b[0mrequest\u001b[0m\u001b[1;33m(\u001b[0m\u001b[0mself\u001b[0m\u001b[1;33m,\u001b[0m \u001b[0mmethod\u001b[0m\u001b[1;33m,\u001b[0m \u001b[0murl\u001b[0m\u001b[1;33m,\u001b[0m \u001b[0mbody\u001b[0m\u001b[1;33m=\u001b[0m\u001b[1;32mNone\u001b[0m\u001b[1;33m,\u001b[0m \u001b[0mheaders\u001b[0m\u001b[1;33m=\u001b[0m\u001b[1;33m{\u001b[0m\u001b[1;33m}\u001b[0m\u001b[1;33m)\u001b[0m\u001b[1;33m:\u001b[0m\u001b[1;33m\u001b[0m\u001b[0m\n\u001b[0;32m   1089\u001b[0m         \u001b[1;34m\"\"\"Send a complete request to the server.\"\"\"\u001b[0m\u001b[1;33m\u001b[0m\u001b[0m\n\u001b[1;32m-> 1090\u001b[1;33m         \u001b[0mself\u001b[0m\u001b[1;33m.\u001b[0m\u001b[0m_send_request\u001b[0m\u001b[1;33m(\u001b[0m\u001b[0mmethod\u001b[0m\u001b[1;33m,\u001b[0m \u001b[0murl\u001b[0m\u001b[1;33m,\u001b[0m \u001b[0mbody\u001b[0m\u001b[1;33m,\u001b[0m \u001b[0mheaders\u001b[0m\u001b[1;33m)\u001b[0m\u001b[1;33m\u001b[0m\u001b[0m\n\u001b[0m\u001b[0;32m   1091\u001b[0m \u001b[1;33m\u001b[0m\u001b[0m\n\u001b[0;32m   1092\u001b[0m     \u001b[1;32mdef\u001b[0m \u001b[0m_set_content_length\u001b[0m\u001b[1;33m(\u001b[0m\u001b[0mself\u001b[0m\u001b[1;33m,\u001b[0m \u001b[0mbody\u001b[0m\u001b[1;33m)\u001b[0m\u001b[1;33m:\u001b[0m\u001b[1;33m\u001b[0m\u001b[0m\n",
        "\u001b[1;32m/usr/lib/python3.4/http/client.py\u001b[0m in \u001b[0;36m_send_request\u001b[1;34m(self, method, url, body, headers)\u001b[0m\n\u001b[0;32m   1126\u001b[0m             \u001b[1;31m# default charset of iso-8859-1.\u001b[0m\u001b[1;33m\u001b[0m\u001b[1;33m\u001b[0m\u001b[0m\n\u001b[0;32m   1127\u001b[0m             \u001b[0mbody\u001b[0m \u001b[1;33m=\u001b[0m \u001b[0mbody\u001b[0m\u001b[1;33m.\u001b[0m\u001b[0mencode\u001b[0m\u001b[1;33m(\u001b[0m\u001b[1;34m'iso-8859-1'\u001b[0m\u001b[1;33m)\u001b[0m\u001b[1;33m\u001b[0m\u001b[0m\n\u001b[1;32m-> 1128\u001b[1;33m         \u001b[0mself\u001b[0m\u001b[1;33m.\u001b[0m\u001b[0mendheaders\u001b[0m\u001b[1;33m(\u001b[0m\u001b[0mbody\u001b[0m\u001b[1;33m)\u001b[0m\u001b[1;33m\u001b[0m\u001b[0m\n\u001b[0m\u001b[0;32m   1129\u001b[0m \u001b[1;33m\u001b[0m\u001b[0m\n\u001b[0;32m   1130\u001b[0m     \u001b[1;32mdef\u001b[0m \u001b[0mgetresponse\u001b[0m\u001b[1;33m(\u001b[0m\u001b[0mself\u001b[0m\u001b[1;33m)\u001b[0m\u001b[1;33m:\u001b[0m\u001b[1;33m\u001b[0m\u001b[0m\n",
        "\u001b[1;32m/usr/lib/python3.4/http/client.py\u001b[0m in \u001b[0;36mendheaders\u001b[1;34m(self, message_body)\u001b[0m\n\u001b[0;32m   1084\u001b[0m         \u001b[1;32melse\u001b[0m\u001b[1;33m:\u001b[0m\u001b[1;33m\u001b[0m\u001b[0m\n\u001b[0;32m   1085\u001b[0m             \u001b[1;32mraise\u001b[0m \u001b[0mCannotSendHeader\u001b[0m\u001b[1;33m(\u001b[0m\u001b[1;33m)\u001b[0m\u001b[1;33m\u001b[0m\u001b[0m\n\u001b[1;32m-> 1086\u001b[1;33m         \u001b[0mself\u001b[0m\u001b[1;33m.\u001b[0m\u001b[0m_send_output\u001b[0m\u001b[1;33m(\u001b[0m\u001b[0mmessage_body\u001b[0m\u001b[1;33m)\u001b[0m\u001b[1;33m\u001b[0m\u001b[0m\n\u001b[0m\u001b[0;32m   1087\u001b[0m \u001b[1;33m\u001b[0m\u001b[0m\n\u001b[0;32m   1088\u001b[0m     \u001b[1;32mdef\u001b[0m \u001b[0mrequest\u001b[0m\u001b[1;33m(\u001b[0m\u001b[0mself\u001b[0m\u001b[1;33m,\u001b[0m \u001b[0mmethod\u001b[0m\u001b[1;33m,\u001b[0m \u001b[0murl\u001b[0m\u001b[1;33m,\u001b[0m \u001b[0mbody\u001b[0m\u001b[1;33m=\u001b[0m\u001b[1;32mNone\u001b[0m\u001b[1;33m,\u001b[0m \u001b[0mheaders\u001b[0m\u001b[1;33m=\u001b[0m\u001b[1;33m{\u001b[0m\u001b[1;33m}\u001b[0m\u001b[1;33m)\u001b[0m\u001b[1;33m:\u001b[0m\u001b[1;33m\u001b[0m\u001b[0m\n",
        "\u001b[1;32m/usr/lib/python3.4/http/client.py\u001b[0m in \u001b[0;36m_send_output\u001b[1;34m(self, message_body)\u001b[0m\n\u001b[0;32m    922\u001b[0m             \u001b[0mmsg\u001b[0m \u001b[1;33m+=\u001b[0m \u001b[0mmessage_body\u001b[0m\u001b[1;33m\u001b[0m\u001b[0m\n\u001b[0;32m    923\u001b[0m             \u001b[0mmessage_body\u001b[0m \u001b[1;33m=\u001b[0m \u001b[1;32mNone\u001b[0m\u001b[1;33m\u001b[0m\u001b[0m\n\u001b[1;32m--> 924\u001b[1;33m         \u001b[0mself\u001b[0m\u001b[1;33m.\u001b[0m\u001b[0msend\u001b[0m\u001b[1;33m(\u001b[0m\u001b[0mmsg\u001b[0m\u001b[1;33m)\u001b[0m\u001b[1;33m\u001b[0m\u001b[0m\n\u001b[0m\u001b[0;32m    925\u001b[0m         \u001b[1;32mif\u001b[0m \u001b[0mmessage_body\u001b[0m \u001b[1;32mis\u001b[0m \u001b[1;32mnot\u001b[0m \u001b[1;32mNone\u001b[0m\u001b[1;33m:\u001b[0m\u001b[1;33m\u001b[0m\u001b[0m\n\u001b[0;32m    926\u001b[0m             \u001b[1;31m# message_body was not a string (i.e. it is a file), and\u001b[0m\u001b[1;33m\u001b[0m\u001b[1;33m\u001b[0m\u001b[0m\n",
        "\u001b[1;32m/usr/lib/python3.4/http/client.py\u001b[0m in \u001b[0;36msend\u001b[1;34m(self, data)\u001b[0m\n\u001b[0;32m    857\u001b[0m         \u001b[1;32mif\u001b[0m \u001b[0mself\u001b[0m\u001b[1;33m.\u001b[0m\u001b[0msock\u001b[0m \u001b[1;32mis\u001b[0m \u001b[1;32mNone\u001b[0m\u001b[1;33m:\u001b[0m\u001b[1;33m\u001b[0m\u001b[0m\n\u001b[0;32m    858\u001b[0m             \u001b[1;32mif\u001b[0m \u001b[0mself\u001b[0m\u001b[1;33m.\u001b[0m\u001b[0mauto_open\u001b[0m\u001b[1;33m:\u001b[0m\u001b[1;33m\u001b[0m\u001b[0m\n\u001b[1;32m--> 859\u001b[1;33m                 \u001b[0mself\u001b[0m\u001b[1;33m.\u001b[0m\u001b[0mconnect\u001b[0m\u001b[1;33m(\u001b[0m\u001b[1;33m)\u001b[0m\u001b[1;33m\u001b[0m\u001b[0m\n\u001b[0m\u001b[0;32m    860\u001b[0m             \u001b[1;32melse\u001b[0m\u001b[1;33m:\u001b[0m\u001b[1;33m\u001b[0m\u001b[0m\n\u001b[0;32m    861\u001b[0m                 \u001b[1;32mraise\u001b[0m \u001b[0mNotConnected\u001b[0m\u001b[1;33m(\u001b[0m\u001b[1;33m)\u001b[0m\u001b[1;33m\u001b[0m\u001b[0m\n",
        "\u001b[1;32m/usr/local/lib/python3.4/dist-packages/requests/packages/urllib3/connection.py\u001b[0m in \u001b[0;36mconnect\u001b[1;34m(self)\u001b[0m\n\u001b[0;32m    104\u001b[0m \u001b[1;33m\u001b[0m\u001b[0m\n\u001b[0;32m    105\u001b[0m     \u001b[1;32mdef\u001b[0m \u001b[0mconnect\u001b[0m\u001b[1;33m(\u001b[0m\u001b[0mself\u001b[0m\u001b[1;33m)\u001b[0m\u001b[1;33m:\u001b[0m\u001b[1;33m\u001b[0m\u001b[0m\n\u001b[1;32m--> 106\u001b[1;33m         \u001b[0mconn\u001b[0m \u001b[1;33m=\u001b[0m \u001b[0mself\u001b[0m\u001b[1;33m.\u001b[0m\u001b[0m_new_conn\u001b[0m\u001b[1;33m(\u001b[0m\u001b[1;33m)\u001b[0m\u001b[1;33m\u001b[0m\u001b[0m\n\u001b[0m\u001b[0;32m    107\u001b[0m         \u001b[0mself\u001b[0m\u001b[1;33m.\u001b[0m\u001b[0m_prepare_conn\u001b[0m\u001b[1;33m(\u001b[0m\u001b[0mconn\u001b[0m\u001b[1;33m)\u001b[0m\u001b[1;33m\u001b[0m\u001b[0m\n\u001b[0;32m    108\u001b[0m \u001b[1;33m\u001b[0m\u001b[0m\n",
        "\u001b[1;32m/usr/local/lib/python3.4/dist-packages/requests/packages/urllib3/connection.py\u001b[0m in \u001b[0;36m_new_conn\u001b[1;34m(self)\u001b[0m\n\u001b[0;32m     88\u001b[0m \u001b[1;33m\u001b[0m\u001b[0m\n\u001b[0;32m     89\u001b[0m         conn = socket.create_connection(\n\u001b[1;32m---> 90\u001b[1;33m             (self.host, self.port), self.timeout, *extra_args)\n\u001b[0m\u001b[0;32m     91\u001b[0m         conn.setsockopt(\n\u001b[0;32m     92\u001b[0m             socket.IPPROTO_TCP, socket.TCP_NODELAY, self.tcp_nodelay)\n",
        "\u001b[1;32m/usr/lib/python3.4/socket.py\u001b[0m in \u001b[0;36mcreate_connection\u001b[1;34m(address, timeout, source_address)\u001b[0m\n\u001b[0;32m    498\u001b[0m             \u001b[1;32mif\u001b[0m \u001b[0msource_address\u001b[0m\u001b[1;33m:\u001b[0m\u001b[1;33m\u001b[0m\u001b[0m\n\u001b[0;32m    499\u001b[0m                 \u001b[0msock\u001b[0m\u001b[1;33m.\u001b[0m\u001b[0mbind\u001b[0m\u001b[1;33m(\u001b[0m\u001b[0msource_address\u001b[0m\u001b[1;33m)\u001b[0m\u001b[1;33m\u001b[0m\u001b[0m\n\u001b[1;32m--> 500\u001b[1;33m             \u001b[0msock\u001b[0m\u001b[1;33m.\u001b[0m\u001b[0mconnect\u001b[0m\u001b[1;33m(\u001b[0m\u001b[0msa\u001b[0m\u001b[1;33m)\u001b[0m\u001b[1;33m\u001b[0m\u001b[0m\n\u001b[0m\u001b[0;32m    501\u001b[0m             \u001b[1;32mreturn\u001b[0m \u001b[0msock\u001b[0m\u001b[1;33m\u001b[0m\u001b[0m\n\u001b[0;32m    502\u001b[0m \u001b[1;33m\u001b[0m\u001b[0m\n",
        "\u001b[1;31mKeyboardInterrupt\u001b[0m: "
       ]
      }
     ],
     "prompt_number": 12
    },
    {
     "cell_type": "markdown",
     "metadata": {},
     "source": [
      "## Visualizing language similarity\n",
      "\n",
      "When the model mispredicts, which wikis is it most likely to get confused?\n",
      "\n",
      "This could give us some measure of the similarity of those languages -- in the limited domain of \"Wikipedia pages\" at least.\n",
      "\n",
      "If we visualize these relationships, do they roughly match what we'd expect from a non-expert idea of language similarity? Or do they reflect noise in the model -- artefacts of VW's feature hashing process?\n",
      "\n",
      "First do some preprocessing to get a dense confusion matrix, sorted so more popular wikis come first."
     ]
    },
    {
     "cell_type": "code",
     "collapsed": false,
     "input": [
      "confusion = np.zeros((len(labels), len(labels)))\n",
      "for (x, y) in rb:\n",
      "    confusion[x,y] += 1\n",
      "samples_per_wiki = np.asarray(confusion.sum(axis=1))\n",
      "sorted_idxs = np.argsort(samples_per_wiki)[::-1]\n",
      "sorted_confusion = confusion[sorted_idxs,:][:,sorted_idxs]\n",
      "sorted_confusion.shape"
     ],
     "language": "python",
     "metadata": {},
     "outputs": [
      {
       "metadata": {},
       "output_type": "pyout",
       "prompt_number": 28,
       "text": [
        "(29, 29)"
       ]
      }
     ],
     "prompt_number": 28
    },
    {
     "cell_type": "markdown",
     "metadata": {},
     "source": [
      "Visualize the confusion matrix in Matplotlib.\n",
      "\n",
      "The left edge represents the pages' real languages, the bottom edge shows what the model identified them as, at least in its last `k` tests. So, shading along the diagonal represents correct predictions, and shading off the diagonal represents errors.\n",
      "\n",
      "The values are absolute counts, so this shows the relative popularity of each wiki as well as the error distribution."
     ]
    },
    {
     "cell_type": "code",
     "collapsed": false,
     "input": [
      "fig, ax = plt.subplots(1)\n",
      "\n",
      "p = ax.pcolormesh(sorted_confusion, cmap='Reds')\n",
      "fig.colorbar(p)\n",
      "ax.set_yticks(np.arange(sorted_confusion.shape[0])+0.5, minor=False)\n",
      "ax.set_xticks(np.arange(sorted_confusion.shape[1])+0.5, minor=False)\n",
      "ax.set_xticklabels(labels[sorted_idxs], minor=False) \n",
      "ax.set_yticklabels(labels[sorted_idxs], minor=False)\n",
      "plt.xticks(rotation=90)\n",
      "plt.show()"
     ],
     "language": "python",
     "metadata": {},
     "outputs": [
      {
       "metadata": {},
       "output_type": "display_data",
       "png": "[encoded data removed]",
       "text": [
        "<matplotlib.figure.Figure at 0x7f9df453ceb8>"
       ]
      }
     ],
     "prompt_number": 29
    },
    {
     "cell_type": "markdown",
     "metadata": {},
     "source": [
      "Alternatively, we can turn it into a labelled list of edge weights, write it out to a CSV, and render it in D3.\n",
      "\n",
      "For this visualization, let's normalize by the number of actual occurrences of each wiki in the test set, so the weights indicate the proportion of the samples for each wiki `source` that were mistakenly predicted for `target` instead. Also we'll need to set the diagonal to 0 to remove loops from the visualization.\n",
      "\n",
      "**Mouseover the nodes in the graph to see the wiki name. Drag the nodes to rearrange the graph.**"
     ]
    },
    {
     "cell_type": "code",
     "collapsed": false,
     "input": [
      "normalized = sorted_confusion / sorted_confusion.sum(axis=1)\n",
      "np.fill_diagonal(normalized, 0)\n",
      "edge_weights = pd.DataFrame(data=normalized, index=labels[sorted_idxs], columns=labels[sorted_idxs]).stack()\n",
      "edge_weights.index.names = ('source', 'target')\n",
      "edge_weights.name = 'value'\n",
      "edge_weights.iloc[edge_weights.nonzero()].to_csv('cm.csv', header=True, index=True)\n",
      "from IPython.lib.display import IFrame\n",
      "IFrame('graph.html', 650, 650)"
     ],
     "language": "python",
     "metadata": {},
     "outputs": [
      {
       "html": [
        "\n",
        "        <iframe\n",
        "            width=\"650\"\n",
        "            height=650\"\n",
        "            src=\"graph.html\"\n",
        "            frameborder=\"0\"\n",
        "            allowfullscreen\n",
        "        ></iframe>\n",
        "        "
       ],
       "metadata": {},
       "output_type": "pyout",
       "prompt_number": 30,
       "text": [
        "<IPython.lib.display.IFrame at 0x7f9df4542ef0>"
       ]
      }
     ],
     "prompt_number": 30
    }
   ],
   "metadata": {}
  }
 ]
}