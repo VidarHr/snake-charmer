{
 "metadata": {
  "name": "",
  "signature": "sha256:4c68f90fcebb91bd175f0f733e11bf82e969c1dfc5f2c40eaea9972f363ec43f"
 },
 "nbformat": 3,
 "nbformat_minor": 0,
 "worksheets": [
  {
   "cells": [
    {
     "cell_type": "markdown",
     "metadata": {},
     "source": [
      "# Wikipedia edit stream demo\n",
      "\n",
      "A demo of [Snake Charmer](https://github.com/snake-charmer-devs/snake-charmer), originally presented at a [PyData London meetup](http://www.meetup.com/PyData-London-Meetup/) in August 2014, showing:\n",
      "\n",
      "* Reading data from a [WebSockets](https://www.websocket.org/) stream in real time, in a background thread\n",
      "* Pulling this data into [Pandas](http://pandas.pydata.org/) for analysis and visualization\n",
      "* Training a [Vowpal Wabbit](https://github.com/JohnLangford/vowpal_wabbit) language classifier on this stream, in real time\n",
      "* Visualizing the classifier's behaviour using [Matplotlib](http://matplotlib.org/) and [D3](http://d3js.org/)\n",
      "\n",
      "The demo is designed to be run using Snake Charmer [release a18945d](https://github.com/snake-charmer-devs/snake-charmer/tree/b86184ecd92cd785b443163f6ecef4366548f591) or later.\n",
      "\n",
      "Wikipedia streaming is powered by the `wikipedia_updates` function, which is based on the [stream.py](https://github.com/edsu/wikistream/blob/master/stream.py) script provided with [edsu/wikistream](https://github.com/edsu/wikistream)."
     ]
    },
    {
     "cell_type": "code",
     "collapsed": false,
     "input": [
      "import re\n",
      "import json\n",
      "import time\n",
      "import threading\n",
      "\n",
      "from collections import defaultdict\n",
      "from itertools import chain\n",
      "from requests import post, get\n",
      "\n",
      "from wabbit_wappa import VW\n",
      "\n",
      "import numpy as np\n",
      "\n",
      "import pandas as pd\n",
      "pd.options.display.mpl_style = 'default'\n",
      "\n",
      "import seaborn as sb\n",
      "import matplotlib.pylab as pylab\n",
      "import matplotlib.pyplot as plt\n",
      "pylab.rcParams['figure.figsize'] = (12.0, 8.0)\n",
      "pylab.rcParams['font.family'] = 'Bitstream Vera Sans'"
     ],
     "language": "python",
     "metadata": {},
     "outputs": [],
     "prompt_number": 1
    },
    {
     "cell_type": "markdown",
     "metadata": {},
     "source": [
      "## wikipedia_updates\n",
      "\n",
      "This function talks to the `wikistream` server, which provides push notifications of Wikipedia edits via [Socket.io](http://socket.io/).\n",
      "\n",
      "Call it with a callback function of your own devising, that takes a single argument. Every time a Wikipedia edit occurs, your callback will be called, with a dict containing the details of the edit, e.g.:\n",
      "\n",
      "```\n",
      "{'flag': '',\n",
      " 'namespace': 'article',\n",
      " 'userUrl': 'http://en.wikipedia.org/wiki/User:137.44.83.167',\n",
      " 'url': 'http://en.wikipedia.org/w/index.php?diff=619400522&oldid=618259633',\n",
      " 'wikipediaLong': 'English Wikipedia',\n",
      " 'wikipediaShort': 'en',\n",
      " 'user': '137.44.83.167',\n",
      " 'comment': '',\n",
      " 'newPage': False,\n",
      " 'pageUrl': 'http://en.wikipedia.org/wiki/Battle_of_Trafalgar',\n",
      " 'unpatrolled': False,\n",
      " 'robot': False,\n",
      " 'anonymous': True,\n",
      " 'delta': 2,\n",
      " 'channel': '#en.wikipedia',\n",
      " 'wikipediaUrl': 'http://en.wikipedia.org',\n",
      " 'wikipedia': 'English Wikipedia',\n",
      " 'page': 'Battle of Trafalgar'}\n",
      "```\n",
      "\n",
      "Your callback should return `True` if it wants to keep receiving edits, or `False` to stop."
     ]
    },
    {
     "cell_type": "code",
     "collapsed": false,
     "input": [
      "def wikipedia_updates(callback):\n",
      "    endpoint = \"http://wikistream.inkdroid.org/socket.io/1\"\n",
      "    session_id = post(endpoint).content.decode('utf-8').split(':')[0]\n",
      "    xhr_endpoint = \"/\".join((endpoint, \"xhr-polling\", session_id))\n",
      "\n",
      "    while True:\n",
      "        t = time.time() * 1000000\n",
      "        response = get(xhr_endpoint, params={'t': t}).content.decode('utf-8')\n",
      "\n",
      "        chunks = re.split(u'\\ufffd[0-9]+\\ufffd', response)\n",
      "        for chunk in chunks:\n",
      "            parts = chunk.split(':', 3)\n",
      "            if len(parts) == 4:\n",
      "                try:\n",
      "                    payload = json.loads(parts[3])['args'][0]\n",
      "                except:\n",
      "                    raise ValueError('Received non-json data: ' + str(parts))\n",
      "                if not callback(payload):\n",
      "                    return"
     ],
     "language": "python",
     "metadata": {},
     "outputs": [],
     "prompt_number": 2
    },
    {
     "cell_type": "markdown",
     "metadata": {},
     "source": [
      "## Watching stream activity in real time\n",
      "\n",
      "This is a callback function that collects the edits into a list called `edits`, for offline analysis later. It runs until `max_edits` edits have been received.\n",
      "\n",
      "A `timestamp` field is added to each edit, as they don't have this by default.\n",
      "\n",
      "Run this cell to start gathering the data in the background.\n",
      "\n",
      "### Note\n",
      "\n",
      "If at any point you get an error message about non-json data, wait a few seconds, then restart the IPython kernel and retry from the first cell. This seems to be an intermittent problem with the server."
     ]
    },
    {
     "cell_type": "code",
     "collapsed": false,
     "input": [
      "max_edits = 500\n",
      "edits = []\n",
      "\n",
      "reg = re.compile(r'^.*wiki/(.*)')\n",
      "\n",
      "def simple_callback(edit):\n",
      "    edit['timestamp'] = time.time()\n",
      "    edits.append(edit)\n",
      "    return len(edits) < max_edits\n",
      "\n",
      "thr = threading.Thread(target=wikipedia_updates, args=(simple_callback,))\n",
      "thr.start()"
     ],
     "language": "python",
     "metadata": {},
     "outputs": [],
     "prompt_number": 29
    },
    {
     "cell_type": "markdown",
     "metadata": {},
     "source": [
      "We can watch the data as it arrives. Run the following cell repeatedly, until it tells you it has finished."
     ]
    },
    {
     "cell_type": "code",
     "collapsed": false,
     "input": [
      "c = len(edits)\n",
      "n = min(5, c)\n",
      "print('Last %d of %d edits...\\n' % (n, c))\n",
      "for edit in edits[-n:]:\n",
      "    wiki_name = edit['wikipediaLong']\n",
      "    page_name = reg.match(edit['pageUrl']).group(1)\n",
      "    comment = edit['comment']\n",
      "    print('\\t'.join((wiki_name, page_name, comment)), '\\n', flush=True)\n",
      "if c == max_edits:\n",
      "    print('Done.\\n')\n",
      "else:\n",
      "    print('Still streaming.\\n')"
     ],
     "language": "python",
     "metadata": {},
     "outputs": [
      {
       "output_type": "stream",
       "stream": "stdout",
       "text": [
        "Last 5 of 500 edits...\n",
        "\n",
        "Spanish Wikipedia\tEspecial:Log/newusers\tNew user account \n",
        "\n"
       ]
      },
      {
       "output_type": "stream",
       "stream": "stdout",
       "text": [
        "Wikidata\tQ10671104\t/* wbcreateclaim-create:1| */ [[Property:P17]]: [[Q34]] \n",
        "\n"
       ]
      },
      {
       "output_type": "stream",
       "stream": "stdout",
       "text": [
        "Ukrainian Wikipedia\t\u0425\u043e\u043c\u0447\u0430\u043a_\u0420\u0443\u0441\u043b\u0430\u043d_\u0411\u043e\u0440\u0438\u0441\u043e\u0432\u0438\u0447\t \n",
        "\n"
       ]
      },
      {
       "output_type": "stream",
       "stream": "stdout",
       "text": [
        "Danish Wikipedia\tRobin_C_Taylor\tsyntax fix \n",
        "\n"
       ]
      },
      {
       "output_type": "stream",
       "stream": "stdout",
       "text": [
        "English Wikipedia\tAsh_Taylor\t/* Aberdeen */  - Add Information \n",
        "\n"
       ]
      },
      {
       "output_type": "stream",
       "stream": "stdout",
       "text": [
        "Done.\n",
        "\n"
       ]
      }
     ],
     "prompt_number": 33
    },
    {
     "cell_type": "code",
     "collapsed": false,
     "input": [
      "# Save this data -- backup in case of problems when giving demo\n",
      "# with open('edits.json', 'w') as f:\n",
      "#    json.dump(edits, f)"
     ],
     "language": "python",
     "metadata": {},
     "outputs": []
    },
    {
     "cell_type": "code",
     "collapsed": false,
     "input": [
      "# Save this data -- backup in case of problems when giving demo\n",
      "#with open('edits.json') as f:\n",
      "#    edits = json.load(f)"
     ],
     "language": "python",
     "metadata": {},
     "outputs": []
    },
    {
     "cell_type": "markdown",
     "metadata": {},
     "source": [
      "## Import into pandas\n",
      "\n",
      "Let's add all these edits into a `DataFrame` to make them easier to work with."
     ]
    },
    {
     "cell_type": "code",
     "collapsed": false,
     "input": [
      "df = pd.DataFrame(edits)\n",
      "df['timestamp'] = pd.to_datetime(df['timestamp'], unit='s')\n",
      "df.head()"
     ],
     "language": "python",
     "metadata": {},
     "outputs": [
      {
       "html": [
        "<div style=\"max-height:1000px;max-width:1500px;overflow:auto;\">\n",
        "<table border=\"1\" class=\"dataframe\">\n",
        "  <thead>\n",
        "    <tr style=\"text-align: right;\">\n",
        "      <th></th>\n",
        "      <th>anonymous</th>\n",
        "      <th>channel</th>\n",
        "      <th>comment</th>\n",
        "      <th>delta</th>\n",
        "      <th>flag</th>\n",
        "      <th>namespace</th>\n",
        "      <th>newPage</th>\n",
        "      <th>page</th>\n",
        "      <th>pageUrl</th>\n",
        "      <th>robot</th>\n",
        "      <th>timestamp</th>\n",
        "      <th>unpatrolled</th>\n",
        "      <th>url</th>\n",
        "      <th>user</th>\n",
        "      <th>userUrl</th>\n",
        "      <th>wikipedia</th>\n",
        "      <th>wikipediaLong</th>\n",
        "      <th>wikipediaShort</th>\n",
        "      <th>wikipediaUrl</th>\n",
        "    </tr>\n",
        "  </thead>\n",
        "  <tbody>\n",
        "    <tr>\n",
        "      <th>0</th>\n",
        "      <td> False</td>\n",
        "      <td> #wikidata.wikipedia</td>\n",
        "      <td> /* wbcreateclaim-create:1| */ [[Property:P353]...</td>\n",
        "      <td> 343</td>\n",
        "      <td>  B</td>\n",
        "      <td>  article</td>\n",
        "      <td> False</td>\n",
        "      <td>          Q17709567</td>\n",
        "      <td>              http://wikidata.org/wiki/Q17709567</td>\n",
        "      <td>  True</td>\n",
        "      <td>2014-08-30 19:22:21.626373</td>\n",
        "      <td> False</td>\n",
        "      <td> http://www.wikidata.org/w/index.php?diff=15443...</td>\n",
        "      <td>            ProteinBoxBot</td>\n",
        "      <td>       http://wikidata.org/wiki/User:ProteinBoxBot</td>\n",
        "      <td>          Wikidata</td>\n",
        "      <td>          Wikidata</td>\n",
        "      <td> wd</td>\n",
        "      <td>     http://wikidata.org</td>\n",
        "    </tr>\n",
        "    <tr>\n",
        "      <th>1</th>\n",
        "      <td> False</td>\n",
        "      <td>       #da.wikipedia</td>\n",
        "      <td>                      /* Top 100 DJs */ syntax fix</td>\n",
        "      <td>  -9</td>\n",
        "      <td> !M</td>\n",
        "      <td>  article</td>\n",
        "      <td> False</td>\n",
        "      <td>        DJ Magazine</td>\n",
        "      <td>        http://da.wikipedia.org/wiki/DJ_Magazine</td>\n",
        "      <td> False</td>\n",
        "      <td>2014-08-30 19:22:21.854521</td>\n",
        "      <td>  True</td>\n",
        "      <td> http://da.wikipedia.org/w/index.php?diff=77537...</td>\n",
        "      <td>                 Hanne123</td>\n",
        "      <td>        http://da.wikipedia.org/wiki/User:Hanne123</td>\n",
        "      <td>  Danish Wikipedia</td>\n",
        "      <td>  Danish Wikipedia</td>\n",
        "      <td> da</td>\n",
        "      <td> http://da.wikipedia.org</td>\n",
        "    </tr>\n",
        "    <tr>\n",
        "      <th>2</th>\n",
        "      <td> False</td>\n",
        "      <td>       #en.wikipedia</td>\n",
        "      <td> Posting status of Bureaucrat related areas. (B...</td>\n",
        "      <td>   0</td>\n",
        "      <td>  B</td>\n",
        "      <td> template</td>\n",
        "      <td> False</td>\n",
        "      <td> Template:Cratstats</td>\n",
        "      <td> http://en.wikipedia.org/wiki/Template:Cratstats</td>\n",
        "      <td>  True</td>\n",
        "      <td>2014-08-30 19:22:22.097937</td>\n",
        "      <td> False</td>\n",
        "      <td> http://en.wikipedia.org/w/index.php?diff=62348...</td>\n",
        "      <td>               Cyberbot I</td>\n",
        "      <td>      http://en.wikipedia.org/wiki/User:Cyberbot I</td>\n",
        "      <td> English Wikipedia</td>\n",
        "      <td> English Wikipedia</td>\n",
        "      <td> en</td>\n",
        "      <td> http://en.wikipedia.org</td>\n",
        "    </tr>\n",
        "    <tr>\n",
        "      <th>3</th>\n",
        "      <td> False</td>\n",
        "      <td>       #fr.wikipedia</td>\n",
        "      <td> [[WP:WPC|WPCleaner]] v1.33 - Correction des li...</td>\n",
        "      <td>   6</td>\n",
        "      <td>  M</td>\n",
        "      <td>  article</td>\n",
        "      <td> False</td>\n",
        "      <td>      Guy Bedouelle</td>\n",
        "      <td>      http://fr.wikipedia.org/wiki/Guy_Bedouelle</td>\n",
        "      <td> False</td>\n",
        "      <td>2014-08-30 19:22:22.097962</td>\n",
        "      <td> False</td>\n",
        "      <td> http://fr.wikipedia.org/w/index.php?diff=10701...</td>\n",
        "      <td>                    Vlaam</td>\n",
        "      <td>           http://fr.wikipedia.org/wiki/User:Vlaam</td>\n",
        "      <td>  French Wikipedia</td>\n",
        "      <td>  French Wikipedia</td>\n",
        "      <td> fr</td>\n",
        "      <td> http://fr.wikipedia.org</td>\n",
        "    </tr>\n",
        "    <tr>\n",
        "      <th>4</th>\n",
        "      <td> False</td>\n",
        "      <td>       #fr.wikipedia</td>\n",
        "      <td>                                                  </td>\n",
        "      <td>   0</td>\n",
        "      <td>   </td>\n",
        "      <td>  article</td>\n",
        "      <td> False</td>\n",
        "      <td>   Marouane Chamakh</td>\n",
        "      <td>   http://fr.wikipedia.org/wiki/Marouane_Chamakh</td>\n",
        "      <td> False</td>\n",
        "      <td>2014-08-30 19:22:22.332535</td>\n",
        "      <td> False</td>\n",
        "      <td> http://fr.wikipedia.org/w/index.php?diff=10701...</td>\n",
        "      <td> \u0639\u0627\u0634\u0642 \u0627\u0644\u062e\u064a\u0644 \u0627\u0644\u0639\u0631\u0628\u064a \u0627\u0644\u0623\u0635\u064a\u0644</td>\n",
        "      <td> http://fr.wikipedia.org/wiki/User:\u0639\u0627\u0634\u0642 \u0627\u0644\u062e\u064a\u0644 \u0627...</td>\n",
        "      <td>  French Wikipedia</td>\n",
        "      <td>  French Wikipedia</td>\n",
        "      <td> fr</td>\n",
        "      <td> http://fr.wikipedia.org</td>\n",
        "    </tr>\n",
        "  </tbody>\n",
        "</table>\n",
        "</div>"
       ],
       "metadata": {},
       "output_type": "pyout",
       "prompt_number": 13,
       "text": [
        "  anonymous              channel  \\\n",
        "0     False  #wikidata.wikipedia   \n",
        "1     False        #da.wikipedia   \n",
        "2     False        #en.wikipedia   \n",
        "3     False        #fr.wikipedia   \n",
        "4     False        #fr.wikipedia   \n",
        "\n",
        "                                             comment  delta flag namespace  \\\n",
        "0  /* wbcreateclaim-create:1| */ [[Property:P353]...    343    B   article   \n",
        "1                       /* Top 100 DJs */ syntax fix     -9   !M   article   \n",
        "2  Posting status of Bureaucrat related areas. (B...      0    B  template   \n",
        "3  [[WP:WPC|WPCleaner]] v1.33 - Correction des li...      6    M   article   \n",
        "4                                                         0        article   \n",
        "\n",
        "  newPage                page  \\\n",
        "0   False           Q17709567   \n",
        "1   False         DJ Magazine   \n",
        "2   False  Template:Cratstats   \n",
        "3   False       Guy Bedouelle   \n",
        "4   False    Marouane Chamakh   \n",
        "\n",
        "                                           pageUrl  robot  \\\n",
        "0               http://wikidata.org/wiki/Q17709567   True   \n",
        "1         http://da.wikipedia.org/wiki/DJ_Magazine  False   \n",
        "2  http://en.wikipedia.org/wiki/Template:Cratstats   True   \n",
        "3       http://fr.wikipedia.org/wiki/Guy_Bedouelle  False   \n",
        "4    http://fr.wikipedia.org/wiki/Marouane_Chamakh  False   \n",
        "\n",
        "                   timestamp unpatrolled  \\\n",
        "0 2014-08-30 19:22:21.626373       False   \n",
        "1 2014-08-30 19:22:21.854521        True   \n",
        "2 2014-08-30 19:22:22.097937       False   \n",
        "3 2014-08-30 19:22:22.097962       False   \n",
        "4 2014-08-30 19:22:22.332535       False   \n",
        "\n",
        "                                                 url  \\\n",
        "0  http://www.wikidata.org/w/index.php?diff=15443...   \n",
        "1  http://da.wikipedia.org/w/index.php?diff=77537...   \n",
        "2  http://en.wikipedia.org/w/index.php?diff=62348...   \n",
        "3  http://fr.wikipedia.org/w/index.php?diff=10701...   \n",
        "4  http://fr.wikipedia.org/w/index.php?diff=10701...   \n",
        "\n",
        "                       user  \\\n",
        "0             ProteinBoxBot   \n",
        "1                  Hanne123   \n",
        "2                Cyberbot I   \n",
        "3                     Vlaam   \n",
        "4  \u0639\u0627\u0634\u0642 \u0627\u0644\u062e\u064a\u0644 \u0627\u0644\u0639\u0631\u0628\u064a \u0627\u0644\u0623\u0635\u064a\u0644   \n",
        "\n",
        "                                             userUrl          wikipedia  \\\n",
        "0        http://wikidata.org/wiki/User:ProteinBoxBot           Wikidata   \n",
        "1         http://da.wikipedia.org/wiki/User:Hanne123   Danish Wikipedia   \n",
        "2       http://en.wikipedia.org/wiki/User:Cyberbot I  English Wikipedia   \n",
        "3            http://fr.wikipedia.org/wiki/User:Vlaam   French Wikipedia   \n",
        "4  http://fr.wikipedia.org/wiki/User:\u0639\u0627\u0634\u0642 \u0627\u0644\u062e\u064a\u0644 \u0627...   French Wikipedia   \n",
        "\n",
        "       wikipediaLong wikipediaShort             wikipediaUrl  \n",
        "0           Wikidata             wd      http://wikidata.org  \n",
        "1   Danish Wikipedia             da  http://da.wikipedia.org  \n",
        "2  English Wikipedia             en  http://en.wikipedia.org  \n",
        "3   French Wikipedia             fr  http://fr.wikipedia.org  \n",
        "4   French Wikipedia             fr  http://fr.wikipedia.org  "
       ]
      }
     ],
     "prompt_number": 13
    },
    {
     "cell_type": "markdown",
     "metadata": {},
     "source": [
      "## Visualizing the total number of edits in each wiki\n",
      "\n",
      "This is a one-liner in pandas!"
     ]
    },
    {
     "cell_type": "code",
     "collapsed": false,
     "input": [
      "p = df.wikipedia.value_counts().plot(kind='barh')"
     ],
     "language": "python",
     "metadata": {},
     "outputs": [
      {
       "metadata": {},
       "output_type": "display_data",
       "png": "[encoded data removed]",
       "text": [
        "<matplotlib.figure.Figure at 0x7f04cb9da390>"
       ]
      }
     ],
     "prompt_number": 14
    },
    {
     "cell_type": "markdown",
     "metadata": {},
     "source": [
      "## Checking and filtering bot activity\n",
      "\n",
      "Wikidata is very busy -- is it all bots?"
     ]
    },
    {
     "cell_type": "code",
     "collapsed": false,
     "input": [
      "df[df.wikipediaShort=='wd'].robot.value_counts()"
     ],
     "language": "python",
     "metadata": {},
     "outputs": [
      {
       "metadata": {},
       "output_type": "pyout",
       "prompt_number": 15,
       "text": [
        "True     60\n",
        "False    48\n",
        "dtype: int64"
       ]
      }
     ],
     "prompt_number": 15
    },
    {
     "cell_type": "markdown",
     "metadata": {},
     "source": [
      "## Time series analysis\n",
      "\n",
      "To make time series analysis easier, let's turn the raw edits into counts per second.\n",
      "\n",
      "We can use a bit of a trick here. Pivot the dataframe, keeping the timestamp as the index, making the wiki short names the new columns, and the value of the `delta` field for the cells. **What is delta?** That doesn't actually matter! We'll see why, shortly.\n",
      "\n",
      "### Usage note\n",
      "\n",
      "The following cell originally used\n",
      "\n",
      "```\n",
      "pivot(index='timestamp',\n",
      "      columns='wikipediaShort',\n",
      "      values='delta')\n",
      "```\n",
      "\n",
      "but this doesn't allow duplicates in the field to be used as the index. So if you're unlucky enough to get two edits in the same microsecond, it'll fail.\n",
      "\n",
      "`pivot_table`, however, handles these properly."
     ]
    },
    {
     "cell_type": "code",
     "collapsed": false,
     "input": [
      "ts = pd.pivot_table(df, values='delta', index='timestamp', columns='wikipediaShort')\n",
      "ts.head()"
     ],
     "language": "python",
     "metadata": {},
     "outputs": [
      {
       "html": [
        "<div style=\"max-height:1000px;max-width:1500px;overflow:auto;\">\n",
        "<table border=\"1\" class=\"dataframe\">\n",
        "  <thead>\n",
        "    <tr style=\"text-align: right;\">\n",
        "      <th>wikipediaShort</th>\n",
        "      <th>ar</th>\n",
        "      <th>ca</th>\n",
        "      <th>co</th>\n",
        "      <th>cs</th>\n",
        "      <th>da</th>\n",
        "      <th>de</th>\n",
        "      <th>el</th>\n",
        "      <th>en</th>\n",
        "      <th>es</th>\n",
        "      <th>fa</th>\n",
        "      <th>...</th>\n",
        "      <th>pl</th>\n",
        "      <th>pt</th>\n",
        "      <th>ro</th>\n",
        "      <th>ru</th>\n",
        "      <th>sv</th>\n",
        "      <th>tr</th>\n",
        "      <th>uk</th>\n",
        "      <th>vi</th>\n",
        "      <th>wd</th>\n",
        "      <th>zh</th>\n",
        "    </tr>\n",
        "    <tr>\n",
        "      <th>timestamp</th>\n",
        "      <th></th>\n",
        "      <th></th>\n",
        "      <th></th>\n",
        "      <th></th>\n",
        "      <th></th>\n",
        "      <th></th>\n",
        "      <th></th>\n",
        "      <th></th>\n",
        "      <th></th>\n",
        "      <th></th>\n",
        "      <th></th>\n",
        "      <th></th>\n",
        "      <th></th>\n",
        "      <th></th>\n",
        "      <th></th>\n",
        "      <th></th>\n",
        "      <th></th>\n",
        "      <th></th>\n",
        "      <th></th>\n",
        "      <th></th>\n",
        "      <th></th>\n",
        "    </tr>\n",
        "  </thead>\n",
        "  <tbody>\n",
        "    <tr>\n",
        "      <th>2014-08-30 19:22:21.626373</th>\n",
        "      <td>NaN</td>\n",
        "      <td>NaN</td>\n",
        "      <td>NaN</td>\n",
        "      <td>NaN</td>\n",
        "      <td>NaN</td>\n",
        "      <td>NaN</td>\n",
        "      <td>NaN</td>\n",
        "      <td>NaN</td>\n",
        "      <td>NaN</td>\n",
        "      <td>NaN</td>\n",
        "      <td>...</td>\n",
        "      <td>NaN</td>\n",
        "      <td>NaN</td>\n",
        "      <td>NaN</td>\n",
        "      <td>NaN</td>\n",
        "      <td>NaN</td>\n",
        "      <td>NaN</td>\n",
        "      <td>NaN</td>\n",
        "      <td>NaN</td>\n",
        "      <td> 343</td>\n",
        "      <td>NaN</td>\n",
        "    </tr>\n",
        "    <tr>\n",
        "      <th>2014-08-30 19:22:21.854521</th>\n",
        "      <td>NaN</td>\n",
        "      <td>NaN</td>\n",
        "      <td>NaN</td>\n",
        "      <td>NaN</td>\n",
        "      <td> -9</td>\n",
        "      <td>NaN</td>\n",
        "      <td>NaN</td>\n",
        "      <td>NaN</td>\n",
        "      <td>NaN</td>\n",
        "      <td>NaN</td>\n",
        "      <td>...</td>\n",
        "      <td>NaN</td>\n",
        "      <td>NaN</td>\n",
        "      <td>NaN</td>\n",
        "      <td>NaN</td>\n",
        "      <td>NaN</td>\n",
        "      <td>NaN</td>\n",
        "      <td>NaN</td>\n",
        "      <td>NaN</td>\n",
        "      <td> NaN</td>\n",
        "      <td>NaN</td>\n",
        "    </tr>\n",
        "    <tr>\n",
        "      <th>2014-08-30 19:22:22.097937</th>\n",
        "      <td>NaN</td>\n",
        "      <td>NaN</td>\n",
        "      <td>NaN</td>\n",
        "      <td>NaN</td>\n",
        "      <td>NaN</td>\n",
        "      <td>NaN</td>\n",
        "      <td>NaN</td>\n",
        "      <td>  0</td>\n",
        "      <td>NaN</td>\n",
        "      <td>NaN</td>\n",
        "      <td>...</td>\n",
        "      <td>NaN</td>\n",
        "      <td>NaN</td>\n",
        "      <td>NaN</td>\n",
        "      <td>NaN</td>\n",
        "      <td>NaN</td>\n",
        "      <td>NaN</td>\n",
        "      <td>NaN</td>\n",
        "      <td>NaN</td>\n",
        "      <td> NaN</td>\n",
        "      <td>NaN</td>\n",
        "    </tr>\n",
        "    <tr>\n",
        "      <th>2014-08-30 19:22:22.097962</th>\n",
        "      <td>NaN</td>\n",
        "      <td>NaN</td>\n",
        "      <td>NaN</td>\n",
        "      <td>NaN</td>\n",
        "      <td>NaN</td>\n",
        "      <td>NaN</td>\n",
        "      <td>NaN</td>\n",
        "      <td>NaN</td>\n",
        "      <td>NaN</td>\n",
        "      <td>NaN</td>\n",
        "      <td>...</td>\n",
        "      <td>NaN</td>\n",
        "      <td>NaN</td>\n",
        "      <td>NaN</td>\n",
        "      <td>NaN</td>\n",
        "      <td>NaN</td>\n",
        "      <td>NaN</td>\n",
        "      <td>NaN</td>\n",
        "      <td>NaN</td>\n",
        "      <td> NaN</td>\n",
        "      <td>NaN</td>\n",
        "    </tr>\n",
        "    <tr>\n",
        "      <th>2014-08-30 19:22:22.332535</th>\n",
        "      <td>NaN</td>\n",
        "      <td>NaN</td>\n",
        "      <td>NaN</td>\n",
        "      <td>NaN</td>\n",
        "      <td>NaN</td>\n",
        "      <td>NaN</td>\n",
        "      <td>NaN</td>\n",
        "      <td>NaN</td>\n",
        "      <td>NaN</td>\n",
        "      <td>NaN</td>\n",
        "      <td>...</td>\n",
        "      <td>NaN</td>\n",
        "      <td>NaN</td>\n",
        "      <td>NaN</td>\n",
        "      <td>NaN</td>\n",
        "      <td>NaN</td>\n",
        "      <td>NaN</td>\n",
        "      <td>NaN</td>\n",
        "      <td>NaN</td>\n",
        "      <td> NaN</td>\n",
        "      <td>NaN</td>\n",
        "    </tr>\n",
        "  </tbody>\n",
        "</table>\n",
        "<p>5 rows \u00d7 28 columns</p>\n",
        "</div>"
       ],
       "metadata": {},
       "output_type": "pyout",
       "prompt_number": 16,
       "text": [
        "wikipediaShort              ar  ca  co  cs  da  de  el  en  es  fa ...  pl  \\\n",
        "timestamp                                                          ...       \n",
        "2014-08-30 19:22:21.626373 NaN NaN NaN NaN NaN NaN NaN NaN NaN NaN ... NaN   \n",
        "2014-08-30 19:22:21.854521 NaN NaN NaN NaN  -9 NaN NaN NaN NaN NaN ... NaN   \n",
        "2014-08-30 19:22:22.097937 NaN NaN NaN NaN NaN NaN NaN   0 NaN NaN ... NaN   \n",
        "2014-08-30 19:22:22.097962 NaN NaN NaN NaN NaN NaN NaN NaN NaN NaN ... NaN   \n",
        "2014-08-30 19:22:22.332535 NaN NaN NaN NaN NaN NaN NaN NaN NaN NaN ... NaN   \n",
        "\n",
        "wikipediaShort              pt  ro  ru  sv  tr  uk  vi   wd  zh  \n",
        "timestamp                                                        \n",
        "2014-08-30 19:22:21.626373 NaN NaN NaN NaN NaN NaN NaN  343 NaN  \n",
        "2014-08-30 19:22:21.854521 NaN NaN NaN NaN NaN NaN NaN  NaN NaN  \n",
        "2014-08-30 19:22:22.097937 NaN NaN NaN NaN NaN NaN NaN  NaN NaN  \n",
        "2014-08-30 19:22:22.097962 NaN NaN NaN NaN NaN NaN NaN  NaN NaN  \n",
        "2014-08-30 19:22:22.332535 NaN NaN NaN NaN NaN NaN NaN  NaN NaN  \n",
        "\n",
        "[5 rows x 28 columns]"
       ]
      }
     ],
     "prompt_number": 16
    },
    {
     "cell_type": "markdown",
     "metadata": {},
     "source": [
      "Then, by resampling the time series to second resolution, and applying the `count` aggregate, we get edits-per-second.\n",
      "\n",
      "We used the `delta` field as the value to be placed into each cell, not because we care about delta, but because the `resample` method only works on numerics. "
     ]
    },
    {
     "cell_type": "code",
     "collapsed": false,
     "input": [
      "sec_counts = ts.resample('s', how='count')\n",
      "sec_counts.head()"
     ],
     "language": "python",
     "metadata": {},
     "outputs": [
      {
       "html": [
        "<div style=\"max-height:1000px;max-width:1500px;overflow:auto;\">\n",
        "<table border=\"1\" class=\"dataframe\">\n",
        "  <thead>\n",
        "    <tr style=\"text-align: right;\">\n",
        "      <th>wikipediaShort</th>\n",
        "      <th>ar</th>\n",
        "      <th>ca</th>\n",
        "      <th>co</th>\n",
        "      <th>cs</th>\n",
        "      <th>da</th>\n",
        "      <th>de</th>\n",
        "      <th>el</th>\n",
        "      <th>en</th>\n",
        "      <th>es</th>\n",
        "      <th>fa</th>\n",
        "      <th>...</th>\n",
        "      <th>pl</th>\n",
        "      <th>pt</th>\n",
        "      <th>ro</th>\n",
        "      <th>ru</th>\n",
        "      <th>sv</th>\n",
        "      <th>tr</th>\n",
        "      <th>uk</th>\n",
        "      <th>vi</th>\n",
        "      <th>wd</th>\n",
        "      <th>zh</th>\n",
        "    </tr>\n",
        "    <tr>\n",
        "      <th>timestamp</th>\n",
        "      <th></th>\n",
        "      <th></th>\n",
        "      <th></th>\n",
        "      <th></th>\n",
        "      <th></th>\n",
        "      <th></th>\n",
        "      <th></th>\n",
        "      <th></th>\n",
        "      <th></th>\n",
        "      <th></th>\n",
        "      <th></th>\n",
        "      <th></th>\n",
        "      <th></th>\n",
        "      <th></th>\n",
        "      <th></th>\n",
        "      <th></th>\n",
        "      <th></th>\n",
        "      <th></th>\n",
        "      <th></th>\n",
        "      <th></th>\n",
        "      <th></th>\n",
        "    </tr>\n",
        "  </thead>\n",
        "  <tbody>\n",
        "    <tr>\n",
        "      <th>2014-08-30 19:22:21</th>\n",
        "      <td> 0</td>\n",
        "      <td> 0</td>\n",
        "      <td> 0</td>\n",
        "      <td> 0</td>\n",
        "      <td> 1</td>\n",
        "      <td> 0</td>\n",
        "      <td> 0</td>\n",
        "      <td> 0</td>\n",
        "      <td> 0</td>\n",
        "      <td> 0</td>\n",
        "      <td>...</td>\n",
        "      <td> 0</td>\n",
        "      <td> 0</td>\n",
        "      <td> 0</td>\n",
        "      <td> 0</td>\n",
        "      <td> 0</td>\n",
        "      <td> 0</td>\n",
        "      <td> 0</td>\n",
        "      <td> 0</td>\n",
        "      <td> 1</td>\n",
        "      <td> 0</td>\n",
        "    </tr>\n",
        "    <tr>\n",
        "      <th>2014-08-30 19:22:22</th>\n",
        "      <td> 0</td>\n",
        "      <td> 0</td>\n",
        "      <td> 0</td>\n",
        "      <td> 0</td>\n",
        "      <td> 0</td>\n",
        "      <td> 0</td>\n",
        "      <td> 0</td>\n",
        "      <td> 1</td>\n",
        "      <td> 1</td>\n",
        "      <td> 0</td>\n",
        "      <td>...</td>\n",
        "      <td> 0</td>\n",
        "      <td> 0</td>\n",
        "      <td> 0</td>\n",
        "      <td> 0</td>\n",
        "      <td> 0</td>\n",
        "      <td> 0</td>\n",
        "      <td> 0</td>\n",
        "      <td> 0</td>\n",
        "      <td> 3</td>\n",
        "      <td> 0</td>\n",
        "    </tr>\n",
        "    <tr>\n",
        "      <th>2014-08-30 19:22:23</th>\n",
        "      <td> 0</td>\n",
        "      <td> 0</td>\n",
        "      <td> 0</td>\n",
        "      <td> 0</td>\n",
        "      <td> 0</td>\n",
        "      <td> 0</td>\n",
        "      <td> 0</td>\n",
        "      <td> 2</td>\n",
        "      <td> 0</td>\n",
        "      <td> 0</td>\n",
        "      <td>...</td>\n",
        "      <td> 0</td>\n",
        "      <td> 0</td>\n",
        "      <td> 0</td>\n",
        "      <td> 0</td>\n",
        "      <td> 0</td>\n",
        "      <td> 0</td>\n",
        "      <td> 0</td>\n",
        "      <td> 0</td>\n",
        "      <td> 2</td>\n",
        "      <td> 0</td>\n",
        "    </tr>\n",
        "    <tr>\n",
        "      <th>2014-08-30 19:22:24</th>\n",
        "      <td> 0</td>\n",
        "      <td> 0</td>\n",
        "      <td> 0</td>\n",
        "      <td> 0</td>\n",
        "      <td> 0</td>\n",
        "      <td> 1</td>\n",
        "      <td> 0</td>\n",
        "      <td> 1</td>\n",
        "      <td> 1</td>\n",
        "      <td> 0</td>\n",
        "      <td>...</td>\n",
        "      <td> 0</td>\n",
        "      <td> 0</td>\n",
        "      <td> 0</td>\n",
        "      <td> 2</td>\n",
        "      <td> 0</td>\n",
        "      <td> 0</td>\n",
        "      <td> 0</td>\n",
        "      <td> 0</td>\n",
        "      <td> 0</td>\n",
        "      <td> 0</td>\n",
        "    </tr>\n",
        "    <tr>\n",
        "      <th>2014-08-30 19:22:25</th>\n",
        "      <td> 1</td>\n",
        "      <td> 0</td>\n",
        "      <td> 0</td>\n",
        "      <td> 0</td>\n",
        "      <td> 0</td>\n",
        "      <td> 0</td>\n",
        "      <td> 0</td>\n",
        "      <td> 1</td>\n",
        "      <td> 0</td>\n",
        "      <td> 0</td>\n",
        "      <td>...</td>\n",
        "      <td> 0</td>\n",
        "      <td> 0</td>\n",
        "      <td> 0</td>\n",
        "      <td> 0</td>\n",
        "      <td> 0</td>\n",
        "      <td> 0</td>\n",
        "      <td> 0</td>\n",
        "      <td> 0</td>\n",
        "      <td> 1</td>\n",
        "      <td> 0</td>\n",
        "    </tr>\n",
        "  </tbody>\n",
        "</table>\n",
        "<p>5 rows \u00d7 28 columns</p>\n",
        "</div>"
       ],
       "metadata": {},
       "output_type": "pyout",
       "prompt_number": 17,
       "text": [
        "wikipediaShort       ar  ca  co  cs  da  de  el  en  es  fa ...  pl  pt  ro  \\\n",
        "timestamp                                                   ...               \n",
        "2014-08-30 19:22:21   0   0   0   0   1   0   0   0   0   0 ...   0   0   0   \n",
        "2014-08-30 19:22:22   0   0   0   0   0   0   0   1   1   0 ...   0   0   0   \n",
        "2014-08-30 19:22:23   0   0   0   0   0   0   0   2   0   0 ...   0   0   0   \n",
        "2014-08-30 19:22:24   0   0   0   0   0   1   0   1   1   0 ...   0   0   0   \n",
        "2014-08-30 19:22:25   1   0   0   0   0   0   0   1   0   0 ...   0   0   0   \n",
        "\n",
        "wikipediaShort       ru  sv  tr  uk  vi  wd  zh  \n",
        "timestamp                                        \n",
        "2014-08-30 19:22:21   0   0   0   0   0   1   0  \n",
        "2014-08-30 19:22:22   0   0   0   0   0   3   0  \n",
        "2014-08-30 19:22:23   0   0   0   0   0   2   0  \n",
        "2014-08-30 19:22:24   2   0   0   0   0   0   0  \n",
        "2014-08-30 19:22:25   0   0   0   0   0   1   0  \n",
        "\n",
        "[5 rows x 28 columns]"
       ]
      }
     ],
     "prompt_number": 17
    },
    {
     "cell_type": "markdown",
     "metadata": {},
     "source": [
      "## Visualizing activity over time\n",
      "\n",
      "This is easy, now we have the data in the right format."
     ]
    },
    {
     "cell_type": "code",
     "collapsed": false,
     "input": [
      "p = sec_counts.plot()"
     ],
     "language": "python",
     "metadata": {},
     "outputs": [
      {
       "metadata": {},
       "output_type": "display_data",
       "png": "[encoded data removed]",
       "text": [
        "<matplotlib.figure.Figure at 0x7f04cb891860>"
       ]
      }
     ],
     "prompt_number": 18
    },
    {
     "cell_type": "markdown",
     "metadata": {},
     "source": [
      "Not so easy to read! (Even without taking into account the terrible default legend placement.)\n",
      "\n",
      "What if we make it a cumulative sum instead, so we can see how activity 'mounts up' over time?\n",
      "\n",
      "That's much nicer. Although you'd really want to select just the most active wikis and show those, because with 20+ lines, the colours become hard to tell apart. This is left as an exercise :-)"
     ]
    },
    {
     "cell_type": "code",
     "collapsed": false,
     "input": [
      "p = sec_counts.cumsum().plot()"
     ],
     "language": "python",
     "metadata": {},
     "outputs": [
      {
       "metadata": {},
       "output_type": "display_data",
       "png": "[encoded data removed]",
       "text": [
        "<matplotlib.figure.Figure at 0x7f04cc68d8d0>"
       ]
      }
     ],
     "prompt_number": 19
    },
    {
     "cell_type": "markdown",
     "metadata": {},
     "source": [
      "## Training a model in real time with Vowpal Wabbit\n",
      "\n",
      "Here's the fun bit. We're going to restart the stream, and as the data comes in, we're going to feed it to [Vowpal Wabbit](https://github.com/JohnLangford/vowpal_wabbit) to incrementally train a language recognizer. Or more strictly, a wiki recognizer, as we want to teach it to distinguish e.g. French Wikipedia articles from Polish Wikipedia articles -- using only the distribution of characters, and character n-grams, in their titles.\n",
      "\n",
      "**Jargon buster:** Character n-grams, sometimes called shingles, are subsequences of length `n`. So if `n == 2`, it's all the consecutive pairs of characters in the input string.\n",
      "\n",
      "We'll use an adaptive online learning approach: only update the model when we find an example that it can't correctly identify already. VW makes this very efficient and effective.\n",
      "\n",
      "First let's define a helper function to generate character n-grams, for `n` from `n1` to `n2`. That is, if `n1 == 2` and `n2 == 4`, then you'll get bigrams, trigrams and tetragrams (is that a word?). If `n1 == 1`, as in the example below, you'll get all the individual characters too.\n",
      "\n",
      "The function returns an iterator over all the n-grams."
     ]
    },
    {
     "cell_type": "code",
     "collapsed": false,
     "input": [
      "def ngrams(text, k1, k2):\n",
      "    if k1 < 1:\n",
      "        raise ValueError('k1 must be 1 or more')\n",
      "    if k2 < k1:\n",
      "        raise ValueError('k2 must may not be less than k1')\n",
      "    return chain.from_iterable((text[i:i+n]\n",
      "                                for i in range(len(text) - (n-1)))\n",
      "                               for n in range(k1, k2+1))\n",
      "\n",
      "print(list(ngrams('the quick brown fox', 1, 2)))"
     ],
     "language": "python",
     "metadata": {},
     "outputs": [
      {
       "output_type": "stream",
       "stream": "stdout",
       "text": [
        "['t', 'h', 'e', ' ', 'q', 'u', 'i', 'c', 'k', ' ', 'b', 'r', 'o', 'w', 'n', ' ', 'f', 'o', 'x', 'th', 'he', 'e ', ' q', 'qu', 'ui', 'ic', 'ck', 'k ', ' b', 'br', 'ro', 'ow', 'wn', 'n ', ' f', 'fo', 'ox']\n"
       ]
      }
     ],
     "prompt_number": 36
    },
    {
     "cell_type": "markdown",
     "metadata": {},
     "source": [
      "The next function contains filtering logic, defining what kinds of edit we are interested in.\n",
      "\n",
      "We'll filter out Wikidata edits (wd), as these just have IDs, as well as Commons files (co), non-article pages like user homepages, and also English Wikipedia (en) -- to keep things interesting."
     ]
    },
    {
     "cell_type": "code",
     "collapsed": false,
     "input": [
      "# Parse page name, or return False if it's from Wikidata or English Wikipedia,\n",
      "# a file from Commons, a non-article, or a 0- or 1-length name\n",
      "def page_name(edit):\n",
      "    if edit['wikipediaShort'] == 'wd' or \\\n",
      "        edit['wikipediaShort'] == 'en' or \\\n",
      "        edit['wikipediaShort'] == 'co' or \\\n",
      "        edit['namespace'] == 'article':\n",
      "            return False\n",
      "    page_name = reg.match(edit['pageUrl']).group(1).lower()\n",
      "    size = len(page_name)\n",
      "    if size < 2:\n",
      "        return False\n",
      "    return page_name"
     ],
     "language": "python",
     "metadata": {},
     "outputs": [],
     "prompt_number": 37
    },
    {
     "cell_type": "markdown",
     "metadata": {},
     "source": [
      "We'll use a [ringbuffer](http://en.wikipedia.org/wiki/Circular_buffer) to keep track of predictions and actual values over the last `k` tests. In this kind of online learning scenario, we don't really worry how much about how the model *was* performing on historical data -- we just want to know that it *is* performing well on current data.\n",
      "\n",
      "Here are a few convenience functions for dealing with the ringbuffer, which is implemented as a Numpy array with `k` rows, and a column each for the actual and predicted values. It's initialized with -1 in every cell, so we can tell when a row has yet to be filled in.\n",
      "\n",
      "`add_entry` uses a Numpy trick (`np.roll`) to redefine the start and end of an array, while copying as little data as possible."
     ]
    },
    {
     "cell_type": "code",
     "collapsed": false,
     "input": [
      "# Create a new ringbuffer for the given number of predictions\n",
      "def new_ringbuffer(capacity):\n",
      "    return np.zeros((capacity, 2), dtype=np.int8) - 1\n",
      "\n",
      "# Calculate accuracy (% correct predictions) over those rows which have been filled in\n",
      "def accuracy(ringbuffer):\n",
      "    # Filter identifying rows which have been filled in\n",
      "    valid = np.sum(ringbuffer, axis=1) >= 0\n",
      "    # Filter identifying rows where prediction == correct value\n",
      "    matched = ringbuffer[:,0] == ringbuffer[:,1]\n",
      "    # Accuracy is number of rows which are valid AND matched, over number of valid rows\n",
      "    return np.sum(np.logical_and(valid, matched)) / np.sum(valid)\n",
      "\n",
      "# Return the number of valid (filled-in) rows\n",
      "def valid_size(ringbuffer):\n",
      "    return np.sum(np.sum(ringbuffer, axis=1) >= 0)\n",
      "\n",
      "# Add a new test result to the ringbuffer, deleting the oldest entry if necessary,\n",
      "# and returning a reference to the modified buffer\n",
      "def add_entry(ringbuffer, actual, predicted):\n",
      "    capacity = len(ringbuffer)\n",
      "    # Overwrite the bottom row of the array\n",
      "    ringbuffer[capacity-1, :] = (actual, predicted)\n",
      "    # Roll the newest entry around to the top of the array, pushing the rest down\n",
      "    return np.roll(ringbuffer, 1, axis=0)"
     ],
     "language": "python",
     "metadata": {},
     "outputs": [],
     "prompt_number": 38
    },
    {
     "cell_type": "markdown",
     "metadata": {},
     "source": [
      "All the action happens in the next cell.\n",
      "\n",
      "It starts the VW server with the appropriate options. If you get a memory allocation error, reduce the value of `hashbits`, although this may impact accuracy.\n",
      "\n",
      "It also defines and starts a new callback, which breaks the title of each page into n-grams, and tests them against the current model. If the model classified this edit's language correctly, we don't change it. But if it classifies incorrectly, we pass it the same edit as a training instance.\n",
      "\n",
      "The reported accuracy might fluctuate to begin with, but then should settle, and gradually rise (not necessarily in a monotonic way) as data comes in.\n",
      "\n",
      "*This may be an over-estimate of accuracy if multiple edits to the same page appear within the last `k` edits. For a more conservative estimate, we should filter out duplicates. But this is just a demo...*\n",
      "\n",
      "You can set a maximum number of training instances to process, or just **interrupt the kernel if you get bored of waiting**..."
     ]
    },
    {
     "cell_type": "code",
     "collapsed": false,
     "input": [
      "# How many classes to allow in the model (must be provided up front)\n",
      "max_expected_classes = 30\n",
      "\n",
      "# When to stop, if not interrupted\n",
      "max_edits = 1000\n",
      "\n",
      "# How many tests to calculate score over\n",
      "k = 500\n",
      "\n",
      "# Ringbuffer to hold results of each test\n",
      "rb = new_ringbuffer(k)\n",
      "\n",
      "# How many bits in range of VW hash function:\n",
      "# larger = potentially better accuracy but more memory\n",
      "hashbits = 24\n",
      "\n",
      "# How many edits we've processed\n",
      "edits = 0\n",
      "\n",
      "# List of the wiki names we've seen, to be populated as we go along\n",
      "labels = []\n",
      "\n",
      "# Maps each wiki name -> its index in labels list\n",
      "label_to_idx = {}\n",
      "\n",
      "def vw_callback(edit):\n",
      "    \n",
      "    name = page_name(edit)\n",
      "    if not name:\n",
      "        return True\n",
      "    \n",
      "    # Set up mappings for this wiki if this is the first time we've seen it\n",
      "    label = edit['wikipedia']\n",
      "    if label in label_to_idx:\n",
      "        idx = label_to_idx[label]\n",
      "    else:\n",
      "        # If we have exhausted our preset class limit, just skip it! Bit kludgey...\n",
      "        if len(labels) == max_expected_classes:\n",
      "            print(\"Ignoring class %d\" % len(labels))\n",
      "            return True\n",
      "        labels.append(label)\n",
      "        idx = len(labels) - 1\n",
      "        label_to_idx[label] = idx\n",
      "\n",
      "    # Generate features -- currently char unigrams and bigrams\n",
      "    features = list(ngrams(name, 1, 2))\n",
      "\n",
      "    # Test example first -- does model get it right? If not, train on it\n",
      "    prediction = int(vw.get_prediction(features=features).prediction) - 1 # NB VW FEATURE LABELS START AT 1\n",
      "    \n",
      "    # Add prediction to ringbuffer\n",
      "    global rb\n",
      "    rb = add_entry(rb, idx, prediction)\n",
      "    \n",
      "    # If prediction was wrong, train on this example\n",
      "    if idx != prediction:\n",
      "\n",
      "        global edits\n",
      "        tests_run = valid_size(rb)\n",
      "        print('Trained: %d, Tested: %d, Prediction: %s, Actual: %s, Last-%d Accuracy: %0.3f'\n",
      "              % (edits, tests_run, labels[prediction], labels[idx], tests_run, accuracy(rb)))\n",
      "        \n",
      "        raw_line = vw.make_line(idx+1, features=features) # NB VW FEATURE LABELS START AT 1\n",
      "        vw.send_line(raw_line)\n",
      "        edits += 1\n",
      "\n",
      "        # Stop if we've hit max_edits\n",
      "        return edits < max_edits\n",
      "    \n",
      "    return True\n",
      "\n",
      "# Start up local VW process\n",
      "vw = VW(loss_function='logistic', b=hashbits, ect=max_expected_classes, hash='all')\n",
      "print(vw.command)\n",
      "\n",
      "wikipedia_updates(vw_callback)"
     ],
     "language": "python",
     "metadata": {},
     "outputs": [
      {
       "output_type": "stream",
       "stream": "stdout",
       "text": [
        "vw --hash all -b 24 --quiet --save_resume --predictions /dev/stdout --ect 30 --loss_function logistic\n",
        "Trained: 0, Tested: 2, Prediction: Hebrew Wikipedia, Actual: Polish Wikipedia, Last-2 Accuracy: 0.500"
       ]
      },
      {
       "output_type": "stream",
       "stream": "stdout",
       "text": [
        "\n",
        "Trained: 1, Tested: 3, Prediction: Polish Wikipedia, Actual: Hebrew Wikipedia, Last-3 Accuracy: 0.333"
       ]
      },
      {
       "output_type": "stream",
       "stream": "stdout",
       "text": [
        "\n",
        "Trained: 2, Tested: 4, Prediction: Polish Wikipedia, Actual: German Wikipedia, Last-4 Accuracy: 0.250"
       ]
      },
      {
       "output_type": "stream",
       "stream": "stdout",
       "text": [
        "\n",
        "Trained: 3, Tested: 5, Prediction: Hebrew Wikipedia, Actual: Russian Wikipedia, Last-5 Accuracy: 0.200"
       ]
      },
      {
       "output_type": "stream",
       "stream": "stdout",
       "text": [
        "\n",
        "Trained: 4, Tested: 6, Prediction: German Wikipedia, Actual: Polish Wikipedia, Last-6 Accuracy: 0.167"
       ]
      },
      {
       "output_type": "stream",
       "stream": "stdout",
       "text": [
        "\n",
        "Trained: 5, Tested: 7, Prediction: Polish Wikipedia, Actual: French Wikipedia, Last-7 Accuracy: 0.143"
       ]
      },
      {
       "output_type": "stream",
       "stream": "stdout",
       "text": [
        "\n",
        "Trained: 6, Tested: 9, Prediction: Polish Wikipedia, Actual: Portuguese Wikipedia, Last-9 Accuracy: 0.222"
       ]
      },
      {
       "output_type": "stream",
       "stream": "stdout",
       "text": [
        "\n",
        "Trained: 7, Tested: 10, Prediction: Polish Wikipedia, Actual: Turkish Wikipedia, Last-10 Accuracy: 0.200"
       ]
      },
      {
       "output_type": "stream",
       "stream": "stdout",
       "text": [
        "\n",
        "Trained: 8, Tested: 11, Prediction: Polish Wikipedia, Actual: Arabic Wikipedia, Last-11 Accuracy: 0.182"
       ]
      },
      {
       "output_type": "stream",
       "stream": "stdout",
       "text": [
        "\n",
        "Trained: 9, Tested: 13, Prediction: Turkish Wikipedia, Actual: Japanese Wikipedia, Last-13 Accuracy: 0.231"
       ]
      },
      {
       "output_type": "stream",
       "stream": "stdout",
       "text": [
        "\n",
        "Trained: 10, Tested: 14, Prediction: French Wikipedia, Actual: Japanese Wikipedia, Last-14 Accuracy: 0.214"
       ]
      },
      {
       "output_type": "stream",
       "stream": "stdout",
       "text": [
        "\n",
        "Trained: 11, Tested: 16, Prediction: Polish Wikipedia, Actual: Hebrew Wikipedia, Last-16 Accuracy: 0.250"
       ]
      },
      {
       "output_type": "stream",
       "stream": "stdout",
       "text": [
        "\n",
        "Trained: 12, Tested: 18, Prediction: Portuguese Wikipedia, Actual: Spanish Wikipedia, Last-18 Accuracy: 0.278"
       ]
      },
      {
       "output_type": "stream",
       "stream": "stdout",
       "text": [
        "\n",
        "Trained: 13, Tested: 19, Prediction: Turkish Wikipedia, Actual: Dutch Wikipedia, Last-19 Accuracy: 0.263"
       ]
      },
      {
       "output_type": "stream",
       "stream": "stdout",
       "text": [
        "\n",
        "Trained: 14, Tested: 20, Prediction: Arabic Wikipedia, Actual: Romanian Wikipedia, Last-20 Accuracy: 0.250"
       ]
      },
      {
       "output_type": "stream",
       "stream": "stdout",
       "text": [
        "\n",
        "Trained: 15, Tested: 21, Prediction: French Wikipedia, Actual: German Wikipedia, Last-21 Accuracy: 0.238"
       ]
      },
      {
       "output_type": "stream",
       "stream": "stdout",
       "text": [
        "\n",
        "Trained: 16, Tested: 22, Prediction: Polish Wikipedia, Actual: German Wikipedia, Last-22 Accuracy: 0.227"
       ]
      },
      {
       "output_type": "stream",
       "stream": "stdout",
       "text": [
        "\n",
        "Trained: 17, Tested: 23, Prediction: German Wikipedia, Actual: Italian Wikipedia, Last-23 Accuracy: 0.217"
       ]
      },
      {
       "output_type": "stream",
       "stream": "stdout",
       "text": [
        "\n",
        "Trained: 18, Tested: 25, Prediction: Dutch Wikipedia, Actual: French Wikipedia, Last-25 Accuracy: 0.240"
       ]
      },
      {
       "output_type": "stream",
       "stream": "stdout",
       "text": [
        "\n",
        "Trained: 19, Tested: 27, Prediction: French Wikipedia, Actual: Spanish Wikipedia, Last-27 Accuracy: 0.259"
       ]
      },
      {
       "output_type": "stream",
       "stream": "stdout",
       "text": [
        "\n",
        "Trained: 20, Tested: 28, Prediction: Polish Wikipedia, Actual: Spanish Wikipedia, Last-28 Accuracy: 0.250\n",
        "Trained: 21, Tested: 29, Prediction: Spanish Wikipedia, Actual: Finnish Wikipedia, Last-29 Accuracy: 0.241"
       ]
      },
      {
       "output_type": "stream",
       "stream": "stdout",
       "text": [
        "\n",
        "Trained: 22, Tested: 30, Prediction: Spanish Wikipedia, Actual: French Wikipedia, Last-30 Accuracy: 0.233"
       ]
      },
      {
       "output_type": "stream",
       "stream": "stdout",
       "text": [
        "\n",
        "Trained: 23, Tested: 32, Prediction: Spanish Wikipedia, Actual: Catalan Wikipedia, Last-32 Accuracy: 0.250"
       ]
      },
      {
       "output_type": "stream",
       "stream": "stdout",
       "text": [
        "\n",
        "Trained: 24, Tested: 33, Prediction: German Wikipedia, Actual: French Wikipedia, Last-33 Accuracy: 0.242"
       ]
      },
      {
       "output_type": "stream",
       "stream": "stdout",
       "text": [
        "\n",
        "Trained: 25, Tested: 34, Prediction: Finnish Wikipedia, Actual: Japanese Wikipedia, Last-34 Accuracy: 0.235"
       ]
      },
      {
       "output_type": "stream",
       "stream": "stdout",
       "text": [
        "\n",
        "Trained: 26, Tested: 37, Prediction: Spanish Wikipedia, Actual: Portuguese Wikipedia, Last-37 Accuracy: 0.270"
       ]
      },
      {
       "output_type": "stream",
       "stream": "stdout",
       "text": [
        "\n",
        "Trained: 27, Tested: 38, Prediction: Japanese Wikipedia, Actual: Turkish Wikipedia, Last-38 Accuracy: 0.263"
       ]
      },
      {
       "output_type": "stream",
       "stream": "stdout",
       "text": [
        "\n",
        "Trained: 28, Tested: 39, Prediction: Portuguese Wikipedia, Actual: Farsi Wikipedia, Last-39 Accuracy: 0.256\n",
        "Trained: 29, Tested: 42, Prediction: French Wikipedia, Actual: German Wikipedia, Last-42 Accuracy: 0.286"
       ]
      },
      {
       "output_type": "stream",
       "stream": "stdout",
       "text": [
        "\n",
        "Trained: 30, Tested: 43, Prediction: Japanese Wikipedia, Actual: Arabic Wikipedia, Last-43 Accuracy: 0.279"
       ]
      },
      {
       "output_type": "stream",
       "stream": "stdout",
       "text": [
        "\n",
        "Trained: 31, Tested: 46, Prediction: German Wikipedia, Actual: Polish Wikipedia, Last-46 Accuracy: 0.304"
       ]
      },
      {
       "output_type": "stream",
       "stream": "stdout",
       "text": [
        "\n",
        "Trained: 32, Tested: 47, Prediction: Spanish Wikipedia, Actual: French Wikipedia, Last-47 Accuracy: 0.298"
       ]
      },
      {
       "output_type": "stream",
       "stream": "stdout",
       "text": [
        "\n",
        "Trained: 33, Tested: 48, Prediction: French Wikipedia, Actual: Portuguese Wikipedia, Last-48 Accuracy: 0.292"
       ]
      },
      {
       "output_type": "stream",
       "stream": "stdout",
       "text": [
        "\n",
        "Trained: 34, Tested: 49, Prediction: Portuguese Wikipedia, Actual: Spanish Wikipedia, Last-49 Accuracy: 0.286"
       ]
      },
      {
       "output_type": "stream",
       "stream": "stdout",
       "text": [
        "\n",
        "Trained: 35, Tested: 50, Prediction: French Wikipedia, Actual: Russian Wikipedia, Last-50 Accuracy: 0.280"
       ]
      },
      {
       "output_type": "stream",
       "stream": "stdout",
       "text": [
        "\n",
        "Trained: 36, Tested: 51, Prediction: French Wikipedia, Actual: German Wikipedia, Last-51 Accuracy: 0.275"
       ]
      },
      {
       "output_type": "stream",
       "stream": "stdout",
       "text": [
        "\n",
        "Trained: 37, Tested: 53, Prediction: Russian Wikipedia, Actual: Ukrainian Wikipedia, Last-53 Accuracy: 0.283"
       ]
      },
      {
       "output_type": "stream",
       "stream": "stdout",
       "text": [
        "\n",
        "Trained: 38, Tested: 55, Prediction: Portuguese Wikipedia, Actual: Spanish Wikipedia, Last-55 Accuracy: 0.291"
       ]
      },
      {
       "output_type": "stream",
       "stream": "stdout",
       "text": [
        "\n",
        "Trained: 39, Tested: 59, Prediction: Spanish Wikipedia, Actual: Portuguese Wikipedia, Last-59 Accuracy: 0.322"
       ]
      },
      {
       "output_type": "stream",
       "stream": "stdout",
       "text": [
        "\n",
        "Trained: 40, Tested: 60, Prediction: Portuguese Wikipedia, Actual: German Wikipedia, Last-60 Accuracy: 0.317"
       ]
      },
      {
       "output_type": "stream",
       "stream": "stdout",
       "text": [
        "\n",
        "Trained: 41, Tested: 61, Prediction: Portuguese Wikipedia, Actual: Dutch Wikipedia, Last-61 Accuracy: 0.311"
       ]
      },
      {
       "output_type": "stream",
       "stream": "stdout",
       "text": [
        "\n",
        "Trained: 42, Tested: 62, Prediction: German Wikipedia, Actual: Portuguese Wikipedia, Last-62 Accuracy: 0.306\n",
        "Trained: 43, Tested: 63, Prediction: Portuguese Wikipedia, Actual: French Wikipedia, Last-63 Accuracy: 0.302"
       ]
      },
      {
       "output_type": "stream",
       "stream": "stdout",
       "text": [
        "\n",
        "Trained: 44, Tested: 65, Prediction: Portuguese Wikipedia, Actual: Italian Wikipedia, Last-65 Accuracy: 0.308"
       ]
      },
      {
       "output_type": "stream",
       "stream": "stdout",
       "text": [
        "\n",
        "Trained: 45, Tested: 67, Prediction: Portuguese Wikipedia, Actual: French Wikipedia, Last-67 Accuracy: 0.313"
       ]
      },
      {
       "output_type": "stream",
       "stream": "stdout",
       "text": [
        "\n",
        "Trained: 46, Tested: 68, Prediction: Portuguese Wikipedia, Actual: German Wikipedia, Last-68 Accuracy: 0.309"
       ]
      },
      {
       "output_type": "stream",
       "stream": "stdout",
       "text": [
        "\n",
        "Trained: 47, Tested: 71, Prediction: French Wikipedia, Actual: Japanese Wikipedia, Last-71 Accuracy: 0.324"
       ]
      },
      {
       "output_type": "stream",
       "stream": "stdout",
       "text": [
        "\n",
        "Trained: 48, Tested: 73, Prediction: German Wikipedia, Actual: Polish Wikipedia, Last-73 Accuracy: 0.329"
       ]
      },
      {
       "output_type": "stream",
       "stream": "stdout",
       "text": [
        "\n",
        "Trained: 49, Tested: 74, Prediction: Portuguese Wikipedia, Actual: Italian Wikipedia, Last-74 Accuracy: 0.324"
       ]
      },
      {
       "output_type": "stream",
       "stream": "stdout",
       "text": [
        "\n",
        "Trained: 50, Tested: 75, Prediction: French Wikipedia, Actual: German Wikipedia, Last-75 Accuracy: 0.320"
       ]
      },
      {
       "output_type": "stream",
       "stream": "stdout",
       "text": [
        "\n",
        "Trained: 51, Tested: 76, Prediction: German Wikipedia, Actual: Russian Wikipedia, Last-76 Accuracy: 0.316"
       ]
      },
      {
       "output_type": "stream",
       "stream": "stdout",
       "text": [
        "\n",
        "Trained: 52, Tested: 79, Prediction: Portuguese Wikipedia, Actual: Romanian Wikipedia, Last-79 Accuracy: 0.329"
       ]
      },
      {
       "output_type": "stream",
       "stream": "stdout",
       "text": [
        "\n",
        "Trained: 53, Tested: 80, Prediction: German Wikipedia, Actual: Spanish Wikipedia, Last-80 Accuracy: 0.325"
       ]
      },
      {
       "output_type": "stream",
       "stream": "stdout",
       "text": [
        "\n",
        "Trained: 54, Tested: 81, Prediction: Spanish Wikipedia, Actual: Portuguese Wikipedia, Last-81 Accuracy: 0.321\n",
        "Trained: 55, Tested: 82, Prediction: Spanish Wikipedia, Actual: French Wikipedia, Last-82 Accuracy: 0.317"
       ]
      },
      {
       "output_type": "stream",
       "stream": "stdout",
       "text": [
        "\n",
        "Trained: 56, Tested: 83, Prediction: Portuguese Wikipedia, Actual: Spanish Wikipedia, Last-83 Accuracy: 0.313\n",
        "Trained: 57, Tested: 84, Prediction: German Wikipedia, Actual: Dutch Wikipedia, Last-84 Accuracy: 0.310"
       ]
      },
      {
       "output_type": "stream",
       "stream": "stdout",
       "text": [
        "\n",
        "Trained: 58, Tested: 85, Prediction: French Wikipedia, Actual: German Wikipedia, Last-85 Accuracy: 0.306"
       ]
      },
      {
       "output_type": "stream",
       "stream": "stdout",
       "text": [
        "\n",
        "Trained: 59, Tested: 86, Prediction: Dutch Wikipedia, Actual: Portuguese Wikipedia, Last-86 Accuracy: 0.302"
       ]
      },
      {
       "output_type": "stream",
       "stream": "stdout",
       "text": [
        "\n",
        "Trained: 60, Tested: 87, Prediction: German Wikipedia, Actual: Italian Wikipedia, Last-87 Accuracy: 0.299\n",
        "Trained: 61, Tested: 93, Prediction: German Wikipedia, Actual: Ukrainian Wikipedia, Last-93 Accuracy: 0.333"
       ]
      },
      {
       "output_type": "stream",
       "stream": "stdout",
       "text": [
        "\n",
        "Trained: 62, Tested: 96, Prediction: French Wikipedia, Actual: German Wikipedia, Last-96 Accuracy: 0.344"
       ]
      },
      {
       "output_type": "stream",
       "stream": "stdout",
       "text": [
        "\n",
        "Trained: 63, Tested: 97, Prediction: Russian Wikipedia, Actual: Ukrainian Wikipedia, Last-97 Accuracy: 0.340"
       ]
      },
      {
       "output_type": "stream",
       "stream": "stdout",
       "text": [
        "\n",
        "Trained: 64, Tested: 98, Prediction: German Wikipedia, Actual: Czech Wikipedia, Last-98 Accuracy: 0.337"
       ]
      },
      {
       "output_type": "stream",
       "stream": "stdout",
       "text": [
        "\n",
        "Trained: 65, Tested: 100, Prediction: German Wikipedia, Actual: Polish Wikipedia, Last-100 Accuracy: 0.340"
       ]
      },
      {
       "output_type": "stream",
       "stream": "stdout",
       "text": [
        "\n",
        "Trained: 66, Tested: 103, Prediction: Portuguese Wikipedia, Actual: French Wikipedia, Last-103 Accuracy: 0.350"
       ]
      },
      {
       "output_type": "stream",
       "stream": "stdout",
       "text": [
        "\n",
        "Trained: 67, Tested: 107, Prediction: German Wikipedia, Actual: French Wikipedia, Last-107 Accuracy: 0.364"
       ]
      },
      {
       "output_type": "stream",
       "stream": "stdout",
       "text": [
        "\n",
        "Trained: 68, Tested: 108, Prediction: French Wikipedia, Actual: Turkish Wikipedia, Last-108 Accuracy: 0.361"
       ]
      },
      {
       "output_type": "stream",
       "stream": "stdout",
       "text": [
        "\n",
        "Trained: 69, Tested: 110, Prediction: Portuguese Wikipedia, Actual: Italian Wikipedia, Last-110 Accuracy: 0.364"
       ]
      },
      {
       "output_type": "stream",
       "stream": "stdout",
       "text": [
        "\n",
        "Trained: 70, Tested: 113, Prediction: French Wikipedia, Actual: Romanian Wikipedia, Last-113 Accuracy: 0.372"
       ]
      },
      {
       "output_type": "stream",
       "stream": "stdout",
       "text": [
        "\n",
        "Trained: 71, Tested: 119, Prediction: French Wikipedia, Actual: German Wikipedia, Last-119 Accuracy: 0.395"
       ]
      },
      {
       "output_type": "stream",
       "stream": "stdout",
       "text": [
        "\n",
        "Trained: 72, Tested: 121, Prediction: French Wikipedia, Actual: Japanese Wikipedia, Last-121 Accuracy: 0.397"
       ]
      },
      {
       "output_type": "stream",
       "stream": "stdout",
       "text": [
        "\n",
        "Trained: 73, Tested: 122, Prediction: Portuguese Wikipedia, Actual: Dutch Wikipedia, Last-122 Accuracy: 0.393"
       ]
      },
      {
       "output_type": "stream",
       "stream": "stdout",
       "text": [
        "\n",
        "Trained: 74, Tested: 130, Prediction: German Wikipedia, Actual: Portuguese Wikipedia, Last-130 Accuracy: 0.423"
       ]
      },
      {
       "output_type": "stream",
       "stream": "stdout",
       "text": [
        "\n",
        "Trained: 75, Tested: 131, Prediction: German Wikipedia, Actual: Swedish Wikipedia, Last-131 Accuracy: 0.420\n",
        "Trained: 76, Tested: 133, Prediction: Ukrainian Wikipedia, Actual: Russian Wikipedia, Last-133 Accuracy: 0.421"
       ]
      },
      {
       "output_type": "stream",
       "stream": "stdout",
       "text": [
        "\n",
        "Trained: 77, Tested: 134, Prediction: Romanian Wikipedia, Actual: Spanish Wikipedia, Last-134 Accuracy: 0.418"
       ]
      },
      {
       "output_type": "stream",
       "stream": "stdout",
       "text": [
        "\n",
        "Trained: 78, Tested: 135, Prediction: Portuguese Wikipedia, Actual: French Wikipedia, Last-135 Accuracy: 0.415"
       ]
      },
      {
       "output_type": "stream",
       "stream": "stdout",
       "text": [
        "\n",
        "Trained: 79, Tested: 137, Prediction: Spanish Wikipedia, Actual: German Wikipedia, Last-137 Accuracy: 0.416"
       ]
      },
      {
       "output_type": "stream",
       "stream": "stdout",
       "text": [
        "\n",
        "Trained: 80, Tested: 141, Prediction: Ukrainian Wikipedia, Actual: Russian Wikipedia, Last-141 Accuracy: 0.426"
       ]
      },
      {
       "output_type": "stream",
       "stream": "stdout",
       "text": [
        "\n",
        "Trained: 81, Tested: 144, Prediction: French Wikipedia, Actual: Polish Wikipedia, Last-144 Accuracy: 0.431"
       ]
      },
      {
       "output_type": "stream",
       "stream": "stdout",
       "text": [
        "\n",
        "Trained: 82, Tested: 145, Prediction: French Wikipedia, Actual: Hebrew Wikipedia, Last-145 Accuracy: 0.428"
       ]
      },
      {
       "output_type": "stream",
       "stream": "stdout",
       "text": [
        "\n",
        "Trained: 83, Tested: 150, Prediction: Arabic Wikipedia, Actual: Korean Wikipedia, Last-150 Accuracy: 0.440"
       ]
      },
      {
       "output_type": "stream",
       "stream": "stdout",
       "text": [
        "\n",
        "Trained: 84, Tested: 153, Prediction: Portuguese Wikipedia, Actual: Dutch Wikipedia, Last-153 Accuracy: 0.444"
       ]
      },
      {
       "output_type": "stream",
       "stream": "stdout",
       "text": [
        "\n",
        "Trained: 85, Tested: 158, Prediction: German Wikipedia, Actual: French Wikipedia, Last-158 Accuracy: 0.456"
       ]
      },
      {
       "output_type": "stream",
       "stream": "stdout",
       "text": [
        "\n",
        "Trained: 86, Tested: 161, Prediction: German Wikipedia, Actual: Spanish Wikipedia, Last-161 Accuracy: 0.460"
       ]
      },
      {
       "output_type": "stream",
       "stream": "stdout",
       "text": [
        "\n",
        "Trained: 87, Tested: 162, Prediction: French Wikipedia, Actual: Italian Wikipedia, Last-162 Accuracy: 0.457\n",
        "Trained: 88, Tested: 165, Prediction: German Wikipedia, Actual: Indonesian Wikipedia, Last-165 Accuracy: 0.461"
       ]
      },
      {
       "output_type": "stream",
       "stream": "stdout",
       "text": [
        "\n",
        "Trained: 89, Tested: 167, Prediction: German Wikipedia, Actual: Italian Wikipedia, Last-167 Accuracy: 0.461"
       ]
      },
      {
       "output_type": "stream",
       "stream": "stdout",
       "text": [
        "\n",
        "Trained: 90, Tested: 168, Prediction: Spanish Wikipedia, Actual: German Wikipedia, Last-168 Accuracy: 0.458"
       ]
      },
      {
       "output_type": "stream",
       "stream": "stdout",
       "text": [
        "\n",
        "Trained: 91, Tested: 169, Prediction: Italian Wikipedia, Actual: Finnish Wikipedia, Last-169 Accuracy: 0.456"
       ]
      },
      {
       "output_type": "stream",
       "stream": "stdout",
       "text": [
        "\n",
        "Trained: 92, Tested: 173, Prediction: Italian Wikipedia, Actual: Spanish Wikipedia, Last-173 Accuracy: 0.462"
       ]
      },
      {
       "output_type": "stream",
       "stream": "stdout",
       "text": [
        "\n",
        "Trained: 93, Tested: 176, Prediction: German Wikipedia, Actual: Turkish Wikipedia, Last-176 Accuracy: 0.466"
       ]
      },
      {
       "output_type": "stream",
       "stream": "stdout",
       "text": [
        "\n",
        "Trained: 94, Tested: 177, Prediction: Spanish Wikipedia, Actual: Italian Wikipedia, Last-177 Accuracy: 0.463"
       ]
      },
      {
       "output_type": "stream",
       "stream": "stdout",
       "text": [
        "\n",
        "Trained: 95, Tested: 178, Prediction: Spanish Wikipedia, Actual: Norwegian Wikipedia, Last-178 Accuracy: 0.461"
       ]
      },
      {
       "output_type": "stream",
       "stream": "stdout",
       "text": [
        "\n",
        "Trained: 96, Tested: 180, Prediction: French Wikipedia, Actual: German Wikipedia, Last-180 Accuracy: 0.461"
       ]
      },
      {
       "output_type": "stream",
       "stream": "stdout",
       "text": [
        "\n",
        "Trained: 97, Tested: 185, Prediction: Russian Wikipedia, Actual: Ukrainian Wikipedia, Last-185 Accuracy: 0.470"
       ]
      },
      {
       "output_type": "stream",
       "stream": "stdout",
       "text": [
        "\n",
        "Trained: 98, Tested: 188, Prediction: French Wikipedia, Actual: Arabic Wikipedia, Last-188 Accuracy: 0.473"
       ]
      },
      {
       "output_type": "stream",
       "stream": "stdout",
       "text": [
        "\n",
        "Trained: 99, Tested: 191, Prediction: Polish Wikipedia, Actual: Japanese Wikipedia, Last-191 Accuracy: 0.476"
       ]
      },
      {
       "output_type": "stream",
       "stream": "stdout",
       "text": [
        "\n",
        "Trained: 100, Tested: 192, Prediction: Turkish Wikipedia, Actual: Arabic Wikipedia, Last-192 Accuracy: 0.474"
       ]
      },
      {
       "output_type": "stream",
       "stream": "stdout",
       "text": [
        "\n",
        "Trained: 101, Tested: 195, Prediction: German Wikipedia, Actual: Danish Wikipedia, Last-195 Accuracy: 0.477"
       ]
      },
      {
       "output_type": "stream",
       "stream": "stdout",
       "text": [
        "\n",
        "Trained: 102, Tested: 196, Prediction: German Wikipedia, Actual: Turkish Wikipedia, Last-196 Accuracy: 0.474"
       ]
      },
      {
       "output_type": "stream",
       "stream": "stdout",
       "text": [
        "\n",
        "Trained: 103, Tested: 199, Prediction: Spanish Wikipedia, Actual: Italian Wikipedia, Last-199 Accuracy: 0.477"
       ]
      },
      {
       "output_type": "stream",
       "stream": "stdout",
       "text": [
        "\n",
        "Trained: 104, Tested: 200, Prediction: Romanian Wikipedia, Actual: Italian Wikipedia, Last-200 Accuracy: 0.475"
       ]
      },
      {
       "output_type": "stream",
       "stream": "stdout",
       "text": [
        "\n",
        "Trained: 105, Tested: 204, Prediction: French Wikipedia, Actual: German Wikipedia, Last-204 Accuracy: 0.480"
       ]
      },
      {
       "output_type": "stream",
       "stream": "stdout",
       "text": [
        "\n",
        "Trained: 106, Tested: 208, Prediction: Italian Wikipedia, Actual: Spanish Wikipedia, Last-208 Accuracy: 0.486"
       ]
      },
      {
       "output_type": "stream",
       "stream": "stdout",
       "text": [
        "\n",
        "Trained: 107, Tested: 211, Prediction: Italian Wikipedia, Actual: Polish Wikipedia, Last-211 Accuracy: 0.488"
       ]
      },
      {
       "output_type": "stream",
       "stream": "stdout",
       "text": [
        "\n",
        "Trained: 108, Tested: 212, Prediction: Polish Wikipedia, Actual: Finnish Wikipedia, Last-212 Accuracy: 0.486"
       ]
      },
      {
       "output_type": "stream",
       "stream": "stdout",
       "text": [
        "\n",
        "Trained: 109, Tested: 214, Prediction: Italian Wikipedia, Actual: German Wikipedia, Last-214 Accuracy: 0.486"
       ]
      },
      {
       "output_type": "stream",
       "stream": "stdout",
       "text": [
        "\n",
        "Trained: 110, Tested: 219, Prediction: German Wikipedia, Actual: Russian Wikipedia, Last-219 Accuracy: 0.493"
       ]
      },
      {
       "output_type": "stream",
       "stream": "stdout",
       "text": [
        "\n",
        "Trained: 111, Tested: 223, Prediction: German Wikipedia, Actual: Spanish Wikipedia, Last-223 Accuracy: 0.498"
       ]
      },
      {
       "output_type": "stream",
       "stream": "stdout",
       "text": [
        "\n",
        "Trained: 112, Tested: 228, Prediction: German Wikipedia, Actual: Polish Wikipedia, Last-228 Accuracy: 0.504"
       ]
      },
      {
       "output_type": "stream",
       "stream": "stdout",
       "text": [
        "\n",
        "Trained: 113, Tested: 229, Prediction: French Wikipedia, Actual: Polish Wikipedia, Last-229 Accuracy: 0.502"
       ]
      },
      {
       "output_type": "stream",
       "stream": "stdout",
       "text": [
        "\n",
        "Trained: 114, Tested: 231, Prediction: German Wikipedia, Actual: Dutch Wikipedia, Last-231 Accuracy: 0.502"
       ]
      },
      {
       "output_type": "stream",
       "stream": "stdout",
       "text": [
        "\n",
        "Trained: 115, Tested: 232, Prediction: German Wikipedia, Actual: Czech Wikipedia, Last-232 Accuracy: 0.500\n",
        "Trained: 116, Tested: 234, Prediction: Spanish Wikipedia, Actual: Dutch Wikipedia, Last-234 Accuracy: 0.500"
       ]
      },
      {
       "output_type": "stream",
       "stream": "stdout",
       "text": [
        "\n",
        "Trained: 117, Tested: 235, Prediction: Dutch Wikipedia, Actual: Spanish Wikipedia, Last-235 Accuracy: 0.498"
       ]
      },
      {
       "output_type": "stream",
       "stream": "stdout",
       "text": [
        "\n",
        "Trained: 118, Tested: 241, Prediction: Spanish Wikipedia, Actual: French Wikipedia, Last-241 Accuracy: 0.506"
       ]
      },
      {
       "output_type": "stream",
       "stream": "stdout",
       "text": [
        "\n",
        "Trained: 119, Tested: 242, Prediction: Spanish Wikipedia, Actual: French Wikipedia, Last-242 Accuracy: 0.504"
       ]
      },
      {
       "output_type": "stream",
       "stream": "stdout",
       "text": [
        "\n",
        "Trained: 120, Tested: 244, Prediction: German Wikipedia, Actual: French Wikipedia, Last-244 Accuracy: 0.504"
       ]
      },
      {
       "output_type": "stream",
       "stream": "stdout",
       "text": [
        "\n",
        "Trained: 121, Tested: 247, Prediction: German Wikipedia, Actual: Dutch Wikipedia, Last-247 Accuracy: 0.506"
       ]
      },
      {
       "output_type": "stream",
       "stream": "stdout",
       "text": [
        "\n",
        "Trained: 122, Tested: 251, Prediction: Spanish Wikipedia, Actual: Farsi Wikipedia, Last-251 Accuracy: 0.510"
       ]
      },
      {
       "output_type": "stream",
       "stream": "stdout",
       "text": [
        "\n",
        "Trained: 123, Tested: 253, Prediction: French Wikipedia, Actual: Portuguese Wikipedia, Last-253 Accuracy: 0.510"
       ]
      },
      {
       "output_type": "stream",
       "stream": "stdout",
       "text": [
        "\n",
        "Trained: 124, Tested: 256, Prediction: Russian Wikipedia, Actual: Bulgarian Wikipedia, Last-256 Accuracy: 0.512"
       ]
      },
      {
       "output_type": "stream",
       "stream": "stdout",
       "text": [
        "\n",
        "Trained: 125, Tested: 258, Prediction: Dutch Wikipedia, Actual: Chinese Wikipedia, Last-258 Accuracy: 0.512"
       ]
      },
      {
       "output_type": "stream",
       "stream": "stdout",
       "text": [
        "\n",
        "Trained: 126, Tested: 264, Prediction: French Wikipedia, Actual: German Wikipedia, Last-264 Accuracy: 0.519"
       ]
      },
      {
       "output_type": "stream",
       "stream": "stdout",
       "text": [
        "\n",
        "Trained: 127, Tested: 268, Prediction: Dutch Wikipedia, Actual: Portuguese Wikipedia, Last-268 Accuracy: 0.522"
       ]
      },
      {
       "output_type": "stream",
       "stream": "stdout",
       "text": [
        "\n",
        "Trained: 128, Tested: 269, Prediction: Spanish Wikipedia, Actual: Romanian Wikipedia, Last-269 Accuracy: 0.520"
       ]
      },
      {
       "output_type": "stream",
       "stream": "stdout",
       "text": [
        "\n",
        "Trained: 129, Tested: 270, Prediction: Spanish Wikipedia, Actual: Portuguese Wikipedia, Last-270 Accuracy: 0.519"
       ]
      },
      {
       "output_type": "stream",
       "stream": "stdout",
       "text": [
        "\n",
        "Trained: 130, Tested: 274, Prediction: Dutch Wikipedia, Actual: Italian Wikipedia, Last-274 Accuracy: 0.522"
       ]
      },
      {
       "output_type": "stream",
       "stream": "stdout",
       "text": [
        "\n",
        "Trained: 131, Tested: 279, Prediction: French Wikipedia, Actual: Hungarian Wikipedia, Last-279 Accuracy: 0.527"
       ]
      },
      {
       "output_type": "stream",
       "stream": "stdout",
       "text": [
        "\n",
        "Trained: 132, Tested: 281, Prediction: German Wikipedia, Actual: Hungarian Wikipedia, Last-281 Accuracy: 0.527"
       ]
      },
      {
       "output_type": "stream",
       "stream": "stdout",
       "text": [
        "\n",
        "Trained: 133, Tested: 284, Prediction: Portuguese Wikipedia, Actual: German Wikipedia, Last-284 Accuracy: 0.528"
       ]
      },
      {
       "output_type": "stream",
       "stream": "stdout",
       "text": [
        "\n",
        "Trained: 134, Tested: 288, Prediction: Portuguese Wikipedia, Actual: Spanish Wikipedia, Last-288 Accuracy: 0.531"
       ]
      },
      {
       "output_type": "stream",
       "stream": "stdout",
       "text": [
        "\n",
        "Trained: 135, Tested: 291, Prediction: Portuguese Wikipedia, Actual: Italian Wikipedia, Last-291 Accuracy: 0.533"
       ]
      },
      {
       "output_type": "stream",
       "stream": "stdout",
       "text": [
        "\n",
        "Trained: 136, Tested: 294, Prediction: Spanish Wikipedia, Actual: Chinese Wikipedia, Last-294 Accuracy: 0.534"
       ]
      },
      {
       "output_type": "stream",
       "stream": "stdout",
       "text": [
        "\n",
        "Trained: 137, Tested: 297, Prediction: Czech Wikipedia, Actual: Japanese Wikipedia, Last-297 Accuracy: 0.535"
       ]
      },
      {
       "output_type": "stream",
       "stream": "stdout",
       "text": [
        "\n",
        "Trained: 138, Tested: 302, Prediction: Dutch Wikipedia, Actual: Polish Wikipedia, Last-302 Accuracy: 0.540"
       ]
      },
      {
       "output_type": "stream",
       "stream": "stdout",
       "text": [
        "\n",
        "Trained: 139, Tested: 305, Prediction: Spanish Wikipedia, Actual: Dutch Wikipedia, Last-305 Accuracy: 0.541"
       ]
      },
      {
       "output_type": "stream",
       "stream": "stdout",
       "text": [
        "\n",
        "Trained: 140, Tested: 310, Prediction: Dutch Wikipedia, Actual: Italian Wikipedia, Last-310 Accuracy: 0.545"
       ]
      },
      {
       "output_type": "stream",
       "stream": "stdout",
       "text": [
        "\n",
        "Trained: 141, Tested: 311, Prediction: Ukrainian Wikipedia, Actual: Russian Wikipedia, Last-311 Accuracy: 0.543"
       ]
      },
      {
       "output_type": "stream",
       "stream": "stdout",
       "text": [
        "\n",
        "Trained: 142, Tested: 312, Prediction: German Wikipedia, Actual: Turkish Wikipedia, Last-312 Accuracy: 0.542\n",
        "Trained: 143, Tested: 314, Prediction: Portuguese Wikipedia, Actual: Hebrew Wikipedia, Last-314 Accuracy: 0.541"
       ]
      },
      {
       "output_type": "stream",
       "stream": "stdout",
       "text": [
        "\n",
        "Trained: 144, Tested: 315, Prediction: Portuguese Wikipedia, Actual: French Wikipedia, Last-315 Accuracy: 0.540"
       ]
      },
      {
       "output_type": "stream",
       "stream": "stdout",
       "text": [
        "\n",
        "Trained: 145, Tested: 320, Prediction: German Wikipedia, Actual: Dutch Wikipedia, Last-320 Accuracy: 0.544"
       ]
      },
      {
       "output_type": "stream",
       "stream": "stdout",
       "text": [
        "\n",
        "Trained: 146, Tested: 324, Prediction: Dutch Wikipedia, Actual: Portuguese Wikipedia, Last-324 Accuracy: 0.546"
       ]
      },
      {
       "output_type": "stream",
       "stream": "stdout",
       "text": [
        "\n",
        "Trained: 147, Tested: 329, Prediction: Polish Wikipedia, Actual: German Wikipedia, Last-329 Accuracy: 0.550"
       ]
      },
      {
       "output_type": "stream",
       "stream": "stdout",
       "text": [
        "\n",
        "Trained: 148, Tested: 333, Prediction: Ukrainian Wikipedia, Actual: Russian Wikipedia, Last-333 Accuracy: 0.553"
       ]
      },
      {
       "output_type": "stream",
       "stream": "stdout",
       "text": [
        "\n",
        "Trained: 149, Tested: 337, Prediction: Portuguese Wikipedia, Actual: Spanish Wikipedia, Last-337 Accuracy: 0.555"
       ]
      },
      {
       "output_type": "stream",
       "stream": "stdout",
       "text": [
        "\n",
        "Trained: 150, Tested: 345, Prediction: Portuguese Wikipedia, Actual: Hungarian Wikipedia, Last-345 Accuracy: 0.562"
       ]
      },
      {
       "output_type": "stream",
       "stream": "stdout",
       "text": [
        "\n",
        "Trained: 151, Tested: 348, Prediction: German Wikipedia, Actual: Dutch Wikipedia, Last-348 Accuracy: 0.563"
       ]
      },
      {
       "output_type": "stream",
       "stream": "stdout",
       "text": [
        "\n",
        "Trained: 152, Tested: 355, Prediction: Portuguese Wikipedia, Actual: Spanish Wikipedia, Last-355 Accuracy: 0.569"
       ]
      },
      {
       "output_type": "stream",
       "stream": "stdout",
       "text": [
        "\n",
        "Trained: 153, Tested: 357, Prediction: Spanish Wikipedia, Actual: French Wikipedia, Last-357 Accuracy: 0.569"
       ]
      },
      {
       "output_type": "stream",
       "stream": "stdout",
       "text": [
        "\n",
        "Trained: 154, Tested: 359, Prediction: Turkish Wikipedia, Actual: Farsi Wikipedia, Last-359 Accuracy: 0.568"
       ]
      },
      {
       "output_type": "stream",
       "stream": "stdout",
       "text": [
        "\n",
        "Trained: 155, Tested: 363, Prediction: Portuguese Wikipedia, Actual: German Wikipedia, Last-363 Accuracy: 0.570"
       ]
      },
      {
       "output_type": "stream",
       "stream": "stdout",
       "text": [
        "\n",
        "Trained: 156, Tested: 364, Prediction: Polish Wikipedia, Actual: Hungarian Wikipedia, Last-364 Accuracy: 0.569"
       ]
      },
      {
       "output_type": "stream",
       "stream": "stdout",
       "text": [
        "\n",
        "Trained: 157, Tested: 378, Prediction: Dutch Wikipedia, Actual: Spanish Wikipedia, Last-378 Accuracy: 0.582"
       ]
      },
      {
       "output_type": "stream",
       "stream": "stdout",
       "text": [
        "\n",
        "Trained: 158, Tested: 390, Prediction: Italian Wikipedia, Actual: Farsi Wikipedia, Last-390 Accuracy: 0.592"
       ]
      },
      {
       "output_type": "stream",
       "stream": "stdout",
       "text": [
        "\n",
        "Trained: 159, Tested: 392, Prediction: Dutch Wikipedia, Actual: Portuguese Wikipedia, Last-392 Accuracy: 0.592"
       ]
      },
      {
       "output_type": "stream",
       "stream": "stdout",
       "text": [
        "\n",
        "Trained: 160, Tested: 393, Prediction: French Wikipedia, Actual: Arabic Wikipedia, Last-393 Accuracy: 0.590"
       ]
      },
      {
       "output_type": "stream",
       "stream": "stdout",
       "text": [
        "\n",
        "Trained: 161, Tested: 395, Prediction: Portuguese Wikipedia, Actual: Spanish Wikipedia, Last-395 Accuracy: 0.590"
       ]
      },
      {
       "output_type": "stream",
       "stream": "stdout",
       "text": [
        "\n",
        "Trained: 162, Tested: 397, Prediction: Portuguese Wikipedia, Actual: Spanish Wikipedia, Last-397 Accuracy: 0.589"
       ]
      },
      {
       "output_type": "stream",
       "stream": "stdout",
       "text": [
        "\n",
        "Trained: 163, Tested: 402, Prediction: Dutch Wikipedia, Actual: Polish Wikipedia, Last-402 Accuracy: 0.592"
       ]
      },
      {
       "output_type": "stream",
       "stream": "stdout",
       "text": [
        "\n",
        "Trained: 164, Tested: 404, Prediction: Spanish Wikipedia, Actual: Portuguese Wikipedia, Last-404 Accuracy: 0.592"
       ]
      },
      {
       "output_type": "stream",
       "stream": "stdout",
       "text": [
        "\n",
        "Trained: 165, Tested: 410, Prediction: Spanish Wikipedia, Actual: Czech Wikipedia, Last-410 Accuracy: 0.595"
       ]
      },
      {
       "output_type": "stream",
       "stream": "stdout",
       "text": [
        "\n",
        "Trained: 166, Tested: 412, Prediction: French Wikipedia, Actual: Dutch Wikipedia, Last-412 Accuracy: 0.595"
       ]
      },
      {
       "output_type": "stream",
       "stream": "stdout",
       "text": [
        "\n",
        "Trained: 167, Tested: 418, Prediction: Portuguese Wikipedia, Actual: Spanish Wikipedia, Last-418 Accuracy: 0.598"
       ]
      },
      {
       "output_type": "stream",
       "stream": "stdout",
       "text": [
        "\n",
        "Trained: 168, Tested: 420, Prediction: Spanish Wikipedia, Actual: Portuguese Wikipedia, Last-420 Accuracy: 0.598"
       ]
      },
      {
       "output_type": "stream",
       "stream": "stdout",
       "text": [
        "\n",
        "Trained: 169, Tested: 423, Prediction: Spanish Wikipedia, Actual: Italian Wikipedia, Last-423 Accuracy: 0.598"
       ]
      },
      {
       "output_type": "stream",
       "stream": "stdout",
       "text": [
        "\n",
        "Trained: 170, Tested: 426, Prediction: Ukrainian Wikipedia, Actual: Russian Wikipedia, Last-426 Accuracy: 0.599"
       ]
      },
      {
       "output_type": "stream",
       "stream": "stdout",
       "text": [
        "\n",
        "Trained: 171, Tested: 430, Prediction: Portuguese Wikipedia, Actual: French Wikipedia, Last-430 Accuracy: 0.600"
       ]
      },
      {
       "output_type": "stream",
       "stream": "stdout",
       "text": [
        "\n",
        "Trained: 172, Tested: 432, Prediction: French Wikipedia, Actual: German Wikipedia, Last-432 Accuracy: 0.600"
       ]
      },
      {
       "output_type": "stream",
       "stream": "stdout",
       "text": [
        "\n",
        "Trained: 173, Tested: 435, Prediction: Dutch Wikipedia, Actual: Danish Wikipedia, Last-435 Accuracy: 0.600"
       ]
      },
      {
       "output_type": "stream",
       "stream": "stdout",
       "text": [
        "\n",
        "Trained: 174, Tested: 436, Prediction: French Wikipedia, Actual: Spanish Wikipedia, Last-436 Accuracy: 0.599"
       ]
      },
      {
       "output_type": "stream",
       "stream": "stdout",
       "text": [
        "\n",
        "Trained: 175, Tested: 443, Prediction: French Wikipedia, Actual: Spanish Wikipedia, Last-443 Accuracy: 0.603"
       ]
      },
      {
       "output_type": "stream",
       "stream": "stdout",
       "text": [
        "\n",
        "Trained: 176, Tested: 444, Prediction: Spanish Wikipedia, Actual: French Wikipedia, Last-444 Accuracy: 0.601"
       ]
      },
      {
       "output_type": "stream",
       "stream": "stdout",
       "text": [
        "\n",
        "Trained: 177, Tested: 445, Prediction: Polish Wikipedia, Actual: Turkish Wikipedia, Last-445 Accuracy: 0.600"
       ]
      },
      {
       "output_type": "stream",
       "stream": "stdout",
       "text": [
        "\n",
        "Trained: 178, Tested: 447, Prediction: Spanish Wikipedia, Actual: Slovak Wikipedia, Last-447 Accuracy: 0.600"
       ]
      },
      {
       "output_type": "stream",
       "stream": "stdout",
       "text": [
        "\n",
        "Trained: 179, Tested: 458, Prediction: German Wikipedia, Actual: Danish Wikipedia, Last-458 Accuracy: 0.607"
       ]
      },
      {
       "output_type": "stream",
       "stream": "stdout",
       "text": [
        "\n",
        "Trained: 180, Tested: 466, Prediction: Spanish Wikipedia, Actual: Japanese Wikipedia, Last-466 Accuracy: 0.612"
       ]
      },
      {
       "output_type": "stream",
       "stream": "stdout",
       "text": [
        "\n",
        "Trained: 181, Tested: 468, Prediction: Danish Wikipedia, Actual: French Wikipedia, Last-468 Accuracy: 0.611"
       ]
      },
      {
       "output_type": "stream",
       "stream": "stdout",
       "text": [
        "\n",
        "Trained: 182, Tested: 469, Prediction: French Wikipedia, Actual: German Wikipedia, Last-469 Accuracy: 0.610"
       ]
      },
      {
       "output_type": "stream",
       "stream": "stdout",
       "text": [
        "\n",
        "Trained: 183, Tested: 471, Prediction: Russian Wikipedia, Actual: Ukrainian Wikipedia, Last-471 Accuracy: 0.609"
       ]
      },
      {
       "output_type": "stream",
       "stream": "stdout",
       "text": [
        "\n",
        "Trained: 184, Tested: 478, Prediction: German Wikipedia, Actual: Hungarian Wikipedia, Last-478 Accuracy: 0.613"
       ]
      },
      {
       "output_type": "stream",
       "stream": "stdout",
       "text": [
        "\n",
        "Trained: 185, Tested: 483, Prediction: Danish Wikipedia, Actual: Norwegian Wikipedia, Last-483 Accuracy: 0.615"
       ]
      },
      {
       "output_type": "stream",
       "stream": "stdout",
       "text": [
        "\n",
        "Trained: 186, Tested: 484, Prediction: Portuguese Wikipedia, Actual: Japanese Wikipedia, Last-484 Accuracy: 0.614"
       ]
      },
      {
       "output_type": "stream",
       "stream": "stdout",
       "text": [
        "\n",
        "Trained: 187, Tested: 487, Prediction: Hungarian Wikipedia, Actual: Polish Wikipedia, Last-487 Accuracy: 0.614"
       ]
      },
      {
       "output_type": "stream",
       "stream": "stdout",
       "text": [
        "\n",
        "Trained: 188, Tested: 489, Prediction: Danish Wikipedia, Actual: German Wikipedia, Last-489 Accuracy: 0.613"
       ]
      },
      {
       "output_type": "stream",
       "stream": "stdout",
       "text": [
        "\n",
        "Trained: 189, Tested: 491, Prediction: Spanish Wikipedia, Actual: Italian Wikipedia, Last-491 Accuracy: 0.613"
       ]
      },
      {
       "output_type": "stream",
       "stream": "stdout",
       "text": [
        "\n",
        "Trained: 190, Tested: 493, Prediction: Spanish Wikipedia, Actual: Italian Wikipedia, Last-493 Accuracy: 0.613"
       ]
      },
      {
       "output_type": "stream",
       "stream": "stdout",
       "text": [
        "\n",
        "Trained: 191, Tested: 500, Prediction: German Wikipedia, Actual: Italian Wikipedia, Last-500 Accuracy: 0.618"
       ]
      },
      {
       "output_type": "stream",
       "stream": "stdout",
       "text": [
        "\n",
        "Trained: 192, Tested: 500, Prediction: Spanish Wikipedia, Actual: French Wikipedia, Last-500 Accuracy: 0.622"
       ]
      },
      {
       "output_type": "stream",
       "stream": "stdout",
       "text": [
        "\n",
        "Trained: 193, Tested: 500, Prediction: French Wikipedia, Actual: Chinese Wikipedia, Last-500 Accuracy: 0.626"
       ]
      },
      {
       "output_type": "stream",
       "stream": "stdout",
       "text": [
        "\n",
        "Trained: 194, Tested: 500, Prediction: German Wikipedia, Actual: Danish Wikipedia, Last-500 Accuracy: 0.626"
       ]
      },
      {
       "output_type": "stream",
       "stream": "stdout",
       "text": [
        "\n",
        "Trained: 195, Tested: 500, Prediction: Polish Wikipedia, Actual: Hebrew Wikipedia, Last-500 Accuracy: 0.628"
       ]
      },
      {
       "output_type": "stream",
       "stream": "stdout",
       "text": [
        "\n",
        "Trained: 196, Tested: 500, Prediction: Hungarian Wikipedia, Actual: Chinese Wikipedia, Last-500 Accuracy: 0.628\n",
        "Trained: 197, Tested: 500, Prediction: Spanish Wikipedia, Actual: Italian Wikipedia, Last-500 Accuracy: 0.628"
       ]
      },
      {
       "output_type": "stream",
       "stream": "stdout",
       "text": [
        "\n",
        "Trained: 198, Tested: 500, Prediction: German Wikipedia, Actual: Chinese Wikipedia, Last-500 Accuracy: 0.628"
       ]
      },
      {
       "output_type": "stream",
       "stream": "stdout",
       "text": [
        "\n",
        "Trained: 199, Tested: 500, Prediction: Spanish Wikipedia, Actual: Dutch Wikipedia, Last-500 Accuracy: 0.636"
       ]
      },
      {
       "output_type": "stream",
       "stream": "stdout",
       "text": [
        "\n",
        "Trained: 200, Tested: 500, Prediction: Norwegian Wikipedia, Actual: German Wikipedia, Last-500 Accuracy: 0.642"
       ]
      },
      {
       "output_type": "stream",
       "stream": "stdout",
       "text": [
        "\n",
        "Trained: 201, Tested: 500, Prediction: Dutch Wikipedia, Actual: Italian Wikipedia, Last-500 Accuracy: 0.648"
       ]
      },
      {
       "output_type": "stream",
       "stream": "stdout",
       "text": [
        "\n",
        "Trained: 202, Tested: 500, Prediction: Italian Wikipedia, Actual: Finnish Wikipedia, Last-500 Accuracy: 0.658"
       ]
      },
      {
       "output_type": "stream",
       "stream": "stdout",
       "text": [
        "\n",
        "Trained: 203, Tested: 500, Prediction: Italian Wikipedia, Actual: French Wikipedia, Last-500 Accuracy: 0.666"
       ]
      },
      {
       "output_type": "stream",
       "stream": "stdout",
       "text": [
        "\n",
        "Trained: 204, Tested: 500, Prediction: French Wikipedia, Actual: Hebrew Wikipedia, Last-500 Accuracy: 0.666"
       ]
      },
      {
       "output_type": "stream",
       "stream": "stdout",
       "text": [
        "\n",
        "Trained: 205, Tested: 500, Prediction: Spanish Wikipedia, Actual: Dutch Wikipedia, Last-500 Accuracy: 0.674"
       ]
      },
      {
       "output_type": "stream",
       "stream": "stdout",
       "text": [
        "\n",
        "Trained: 206, Tested: 500, Prediction: Danish Wikipedia, Actual: Dutch Wikipedia, Last-500 Accuracy: 0.674"
       ]
      },
      {
       "output_type": "stream",
       "stream": "stdout",
       "text": [
        "\n",
        "Trained: 207, Tested: 500, Prediction: Japanese Wikipedia, Actual: Chinese Wikipedia, Last-500 Accuracy: 0.674"
       ]
      },
      {
       "output_type": "stream",
       "stream": "stdout",
       "text": [
        "\n",
        "Trained: 208, Tested: 500, Prediction: German Wikipedia, Actual: Russian Wikipedia, Last-500 Accuracy: 0.692"
       ]
      },
      {
       "output_type": "stream",
       "stream": "stdout",
       "text": [
        "\n",
        "Trained: 209, Tested: 500, Prediction: French Wikipedia, Actual: Hungarian Wikipedia, Last-500 Accuracy: 0.712"
       ]
      },
      {
       "output_type": "stream",
       "stream": "stdout",
       "text": [
        "\n",
        "Trained: 210, Tested: 500, Prediction: Turkish Wikipedia, Actual: Arabic Wikipedia, Last-500 Accuracy: 0.712"
       ]
      },
      {
       "output_type": "stream",
       "stream": "stdout",
       "text": [
        "\n",
        "Trained: 211, Tested: 500, Prediction: Dutch Wikipedia, Actual: Portuguese Wikipedia, Last-500 Accuracy: 0.714"
       ]
      },
      {
       "output_type": "stream",
       "stream": "stdout",
       "text": [
        "\n",
        "Trained: 212, Tested: 500, Prediction: Spanish Wikipedia, Actual: Dutch Wikipedia, Last-500 Accuracy: 0.716"
       ]
      },
      {
       "output_type": "stream",
       "stream": "stdout",
       "text": [
        "\n",
        "Trained: 213, Tested: 500, Prediction: German Wikipedia, Actual: Hungarian Wikipedia, Last-500 Accuracy: 0.720"
       ]
      },
      {
       "output_type": "stream",
       "stream": "stdout",
       "text": [
        "\n",
        "Trained: 214, Tested: 500, Prediction: Italian Wikipedia, Actual: Chinese Wikipedia, Last-500 Accuracy: 0.730"
       ]
      },
      {
       "output_type": "stream",
       "stream": "stdout",
       "text": [
        "\n",
        "Trained: 215, Tested: 500, Prediction: Hungarian Wikipedia, Actual: Polish Wikipedia, Last-500 Accuracy: 0.730"
       ]
      },
      {
       "output_type": "stream",
       "stream": "stdout",
       "text": [
        "\n",
        "Trained: 216, Tested: 500, Prediction: French Wikipedia, Actual: German Wikipedia, Last-500 Accuracy: 0.732"
       ]
      },
      {
       "output_type": "stream",
       "stream": "stdout",
       "text": [
        "\n",
        "Trained: 217, Tested: 500, Prediction: German Wikipedia, Actual: Hebrew Wikipedia, Last-500 Accuracy: 0.734"
       ]
      },
      {
       "output_type": "stream",
       "stream": "stdout",
       "text": [
        "\n",
        "Trained: 218, Tested: 500, Prediction: Dutch Wikipedia, Actual: German Wikipedia, Last-500 Accuracy: 0.734\n"
       ]
      },
      {
       "ename": "KeyboardInterrupt",
       "evalue": "",
       "output_type": "pyerr",
       "traceback": [
        "\u001b[1;31m---------------------------------------------------------------------------\u001b[0m\n\u001b[1;31mKeyboardInterrupt\u001b[0m                         Traceback (most recent call last)",
        "\u001b[1;32m<ipython-input-39-97f8dea525f2>\u001b[0m in \u001b[0;36m<module>\u001b[1;34m()\u001b[0m\n\u001b[0;32m     74\u001b[0m \u001b[0mprint\u001b[0m\u001b[1;33m(\u001b[0m\u001b[0mvw\u001b[0m\u001b[1;33m.\u001b[0m\u001b[0mcommand\u001b[0m\u001b[1;33m)\u001b[0m\u001b[1;33m\u001b[0m\u001b[0m\n\u001b[0;32m     75\u001b[0m \u001b[1;33m\u001b[0m\u001b[0m\n\u001b[1;32m---> 76\u001b[1;33m \u001b[0mwikipedia_updates\u001b[0m\u001b[1;33m(\u001b[0m\u001b[0mvw_callback\u001b[0m\u001b[1;33m)\u001b[0m\u001b[1;33m\u001b[0m\u001b[0m\n\u001b[0m",
        "\u001b[1;32m<ipython-input-2-00367d5650c7>\u001b[0m in \u001b[0;36mwikipedia_updates\u001b[1;34m(callback)\u001b[0m\n\u001b[0;32m      6\u001b[0m     \u001b[1;32mwhile\u001b[0m \u001b[1;32mTrue\u001b[0m\u001b[1;33m:\u001b[0m\u001b[1;33m\u001b[0m\u001b[0m\n\u001b[0;32m      7\u001b[0m         \u001b[0mt\u001b[0m \u001b[1;33m=\u001b[0m \u001b[0mtime\u001b[0m\u001b[1;33m.\u001b[0m\u001b[0mtime\u001b[0m\u001b[1;33m(\u001b[0m\u001b[1;33m)\u001b[0m \u001b[1;33m*\u001b[0m \u001b[1;36m1000000\u001b[0m\u001b[1;33m\u001b[0m\u001b[0m\n\u001b[1;32m----> 8\u001b[1;33m         \u001b[0mresponse\u001b[0m \u001b[1;33m=\u001b[0m \u001b[0mget\u001b[0m\u001b[1;33m(\u001b[0m\u001b[0mxhr_endpoint\u001b[0m\u001b[1;33m,\u001b[0m \u001b[0mparams\u001b[0m\u001b[1;33m=\u001b[0m\u001b[1;33m{\u001b[0m\u001b[1;34m't'\u001b[0m\u001b[1;33m:\u001b[0m \u001b[0mt\u001b[0m\u001b[1;33m}\u001b[0m\u001b[1;33m)\u001b[0m\u001b[1;33m.\u001b[0m\u001b[0mcontent\u001b[0m\u001b[1;33m.\u001b[0m\u001b[0mdecode\u001b[0m\u001b[1;33m(\u001b[0m\u001b[1;34m'utf-8'\u001b[0m\u001b[1;33m)\u001b[0m\u001b[1;33m\u001b[0m\u001b[0m\n\u001b[0m\u001b[0;32m      9\u001b[0m \u001b[1;33m\u001b[0m\u001b[0m\n\u001b[0;32m     10\u001b[0m         \u001b[0mchunks\u001b[0m \u001b[1;33m=\u001b[0m \u001b[0mre\u001b[0m\u001b[1;33m.\u001b[0m\u001b[0msplit\u001b[0m\u001b[1;33m(\u001b[0m\u001b[1;34mu'\\ufffd[0-9]+\\ufffd'\u001b[0m\u001b[1;33m,\u001b[0m \u001b[0mresponse\u001b[0m\u001b[1;33m)\u001b[0m\u001b[1;33m\u001b[0m\u001b[0m\n",
        "\u001b[1;32m/usr/local/lib/python3.4/dist-packages/requests/api.py\u001b[0m in \u001b[0;36mget\u001b[1;34m(url, **kwargs)\u001b[0m\n\u001b[0;32m     53\u001b[0m \u001b[1;33m\u001b[0m\u001b[0m\n\u001b[0;32m     54\u001b[0m     \u001b[0mkwargs\u001b[0m\u001b[1;33m.\u001b[0m\u001b[0msetdefault\u001b[0m\u001b[1;33m(\u001b[0m\u001b[1;34m'allow_redirects'\u001b[0m\u001b[1;33m,\u001b[0m \u001b[1;32mTrue\u001b[0m\u001b[1;33m)\u001b[0m\u001b[1;33m\u001b[0m\u001b[0m\n\u001b[1;32m---> 55\u001b[1;33m     \u001b[1;32mreturn\u001b[0m \u001b[0mrequest\u001b[0m\u001b[1;33m(\u001b[0m\u001b[1;34m'get'\u001b[0m\u001b[1;33m,\u001b[0m \u001b[0murl\u001b[0m\u001b[1;33m,\u001b[0m \u001b[1;33m**\u001b[0m\u001b[0mkwargs\u001b[0m\u001b[1;33m)\u001b[0m\u001b[1;33m\u001b[0m\u001b[0m\n\u001b[0m\u001b[0;32m     56\u001b[0m \u001b[1;33m\u001b[0m\u001b[0m\n\u001b[0;32m     57\u001b[0m \u001b[1;33m\u001b[0m\u001b[0m\n",
        "\u001b[1;32m/usr/local/lib/python3.4/dist-packages/requests/api.py\u001b[0m in \u001b[0;36mrequest\u001b[1;34m(method, url, **kwargs)\u001b[0m\n\u001b[0;32m     42\u001b[0m \u001b[1;33m\u001b[0m\u001b[0m\n\u001b[0;32m     43\u001b[0m     \u001b[0msession\u001b[0m \u001b[1;33m=\u001b[0m \u001b[0msessions\u001b[0m\u001b[1;33m.\u001b[0m\u001b[0mSession\u001b[0m\u001b[1;33m(\u001b[0m\u001b[1;33m)\u001b[0m\u001b[1;33m\u001b[0m\u001b[0m\n\u001b[1;32m---> 44\u001b[1;33m     \u001b[1;32mreturn\u001b[0m \u001b[0msession\u001b[0m\u001b[1;33m.\u001b[0m\u001b[0mrequest\u001b[0m\u001b[1;33m(\u001b[0m\u001b[0mmethod\u001b[0m\u001b[1;33m=\u001b[0m\u001b[0mmethod\u001b[0m\u001b[1;33m,\u001b[0m \u001b[0murl\u001b[0m\u001b[1;33m=\u001b[0m\u001b[0murl\u001b[0m\u001b[1;33m,\u001b[0m \u001b[1;33m**\u001b[0m\u001b[0mkwargs\u001b[0m\u001b[1;33m)\u001b[0m\u001b[1;33m\u001b[0m\u001b[0m\n\u001b[0m\u001b[0;32m     45\u001b[0m \u001b[1;33m\u001b[0m\u001b[0m\n\u001b[0;32m     46\u001b[0m \u001b[1;33m\u001b[0m\u001b[0m\n",
        "\u001b[1;32m/usr/local/lib/python3.4/dist-packages/requests/sessions.py\u001b[0m in \u001b[0;36mrequest\u001b[1;34m(self, method, url, params, data, headers, cookies, files, auth, timeout, allow_redirects, proxies, hooks, stream, verify, cert)\u001b[0m\n\u001b[0;32m    454\u001b[0m             \u001b[1;34m'allow_redirects'\u001b[0m\u001b[1;33m:\u001b[0m \u001b[0mallow_redirects\u001b[0m\u001b[1;33m,\u001b[0m\u001b[1;33m\u001b[0m\u001b[0m\n\u001b[0;32m    455\u001b[0m         }\n\u001b[1;32m--> 456\u001b[1;33m         \u001b[0mresp\u001b[0m \u001b[1;33m=\u001b[0m \u001b[0mself\u001b[0m\u001b[1;33m.\u001b[0m\u001b[0msend\u001b[0m\u001b[1;33m(\u001b[0m\u001b[0mprep\u001b[0m\u001b[1;33m,\u001b[0m \u001b[1;33m**\u001b[0m\u001b[0msend_kwargs\u001b[0m\u001b[1;33m)\u001b[0m\u001b[1;33m\u001b[0m\u001b[0m\n\u001b[0m\u001b[0;32m    457\u001b[0m \u001b[1;33m\u001b[0m\u001b[0m\n\u001b[0;32m    458\u001b[0m         \u001b[1;32mreturn\u001b[0m \u001b[0mresp\u001b[0m\u001b[1;33m\u001b[0m\u001b[0m\n",
        "\u001b[1;32m/usr/local/lib/python3.4/dist-packages/requests/sessions.py\u001b[0m in \u001b[0;36msend\u001b[1;34m(self, request, **kwargs)\u001b[0m\n\u001b[0;32m    583\u001b[0m \u001b[1;33m\u001b[0m\u001b[0m\n\u001b[0;32m    584\u001b[0m         \u001b[1;31m# Resolve redirects if allowed.\u001b[0m\u001b[1;33m\u001b[0m\u001b[1;33m\u001b[0m\u001b[0m\n\u001b[1;32m--> 585\u001b[1;33m         \u001b[0mhistory\u001b[0m \u001b[1;33m=\u001b[0m \u001b[1;33m[\u001b[0m\u001b[0mresp\u001b[0m \u001b[1;32mfor\u001b[0m \u001b[0mresp\u001b[0m \u001b[1;32min\u001b[0m \u001b[0mgen\u001b[0m\u001b[1;33m]\u001b[0m \u001b[1;32mif\u001b[0m \u001b[0mallow_redirects\u001b[0m \u001b[1;32melse\u001b[0m \u001b[1;33m[\u001b[0m\u001b[1;33m]\u001b[0m\u001b[1;33m\u001b[0m\u001b[0m\n\u001b[0m\u001b[0;32m    586\u001b[0m \u001b[1;33m\u001b[0m\u001b[0m\n\u001b[0;32m    587\u001b[0m         \u001b[1;31m# Shuffle things around if there's history.\u001b[0m\u001b[1;33m\u001b[0m\u001b[1;33m\u001b[0m\u001b[0m\n",
        "\u001b[1;32m/usr/local/lib/python3.4/dist-packages/requests/sessions.py\u001b[0m in \u001b[0;36m<listcomp>\u001b[1;34m(.0)\u001b[0m\n\u001b[0;32m    583\u001b[0m \u001b[1;33m\u001b[0m\u001b[0m\n\u001b[0;32m    584\u001b[0m         \u001b[1;31m# Resolve redirects if allowed.\u001b[0m\u001b[1;33m\u001b[0m\u001b[1;33m\u001b[0m\u001b[0m\n\u001b[1;32m--> 585\u001b[1;33m         \u001b[0mhistory\u001b[0m \u001b[1;33m=\u001b[0m \u001b[1;33m[\u001b[0m\u001b[0mresp\u001b[0m \u001b[1;32mfor\u001b[0m \u001b[0mresp\u001b[0m \u001b[1;32min\u001b[0m \u001b[0mgen\u001b[0m\u001b[1;33m]\u001b[0m \u001b[1;32mif\u001b[0m \u001b[0mallow_redirects\u001b[0m \u001b[1;32melse\u001b[0m \u001b[1;33m[\u001b[0m\u001b[1;33m]\u001b[0m\u001b[1;33m\u001b[0m\u001b[0m\n\u001b[0m\u001b[0;32m    586\u001b[0m \u001b[1;33m\u001b[0m\u001b[0m\n\u001b[0;32m    587\u001b[0m         \u001b[1;31m# Shuffle things around if there's history.\u001b[0m\u001b[1;33m\u001b[0m\u001b[1;33m\u001b[0m\u001b[0m\n",
        "\u001b[1;32m/usr/local/lib/python3.4/dist-packages/requests/sessions.py\u001b[0m in \u001b[0;36mresolve_redirects\u001b[1;34m(self, resp, req, stream, timeout, verify, cert, proxies)\u001b[0m\n\u001b[0;32m    177\u001b[0m                 \u001b[0mcert\u001b[0m\u001b[1;33m=\u001b[0m\u001b[0mcert\u001b[0m\u001b[1;33m,\u001b[0m\u001b[1;33m\u001b[0m\u001b[0m\n\u001b[0;32m    178\u001b[0m                 \u001b[0mproxies\u001b[0m\u001b[1;33m=\u001b[0m\u001b[0mproxies\u001b[0m\u001b[1;33m,\u001b[0m\u001b[1;33m\u001b[0m\u001b[0m\n\u001b[1;32m--> 179\u001b[1;33m                 \u001b[0mallow_redirects\u001b[0m\u001b[1;33m=\u001b[0m\u001b[1;32mFalse\u001b[0m\u001b[1;33m,\u001b[0m\u001b[1;33m\u001b[0m\u001b[0m\n\u001b[0m\u001b[0;32m    180\u001b[0m             )\n\u001b[0;32m    181\u001b[0m \u001b[1;33m\u001b[0m\u001b[0m\n",
        "\u001b[1;32m/usr/local/lib/python3.4/dist-packages/requests/sessions.py\u001b[0m in \u001b[0;36msend\u001b[1;34m(self, request, **kwargs)\u001b[0m\n\u001b[0;32m    557\u001b[0m \u001b[1;33m\u001b[0m\u001b[0m\n\u001b[0;32m    558\u001b[0m         \u001b[1;31m# Send the request\u001b[0m\u001b[1;33m\u001b[0m\u001b[1;33m\u001b[0m\u001b[0m\n\u001b[1;32m--> 559\u001b[1;33m         \u001b[0mr\u001b[0m \u001b[1;33m=\u001b[0m \u001b[0madapter\u001b[0m\u001b[1;33m.\u001b[0m\u001b[0msend\u001b[0m\u001b[1;33m(\u001b[0m\u001b[0mrequest\u001b[0m\u001b[1;33m,\u001b[0m \u001b[1;33m**\u001b[0m\u001b[0mkwargs\u001b[0m\u001b[1;33m)\u001b[0m\u001b[1;33m\u001b[0m\u001b[0m\n\u001b[0m\u001b[0;32m    560\u001b[0m \u001b[1;33m\u001b[0m\u001b[0m\n\u001b[0;32m    561\u001b[0m         \u001b[1;31m# Total elapsed time of the request (approximately)\u001b[0m\u001b[1;33m\u001b[0m\u001b[1;33m\u001b[0m\u001b[0m\n",
        "\u001b[1;32m/usr/local/lib/python3.4/dist-packages/requests/adapters.py\u001b[0m in \u001b[0;36msend\u001b[1;34m(self, request, stream, timeout, verify, cert, proxies)\u001b[0m\n\u001b[0;32m    325\u001b[0m                     \u001b[0mdecode_content\u001b[0m\u001b[1;33m=\u001b[0m\u001b[1;32mFalse\u001b[0m\u001b[1;33m,\u001b[0m\u001b[1;33m\u001b[0m\u001b[0m\n\u001b[0;32m    326\u001b[0m                     \u001b[0mretries\u001b[0m\u001b[1;33m=\u001b[0m\u001b[0mself\u001b[0m\u001b[1;33m.\u001b[0m\u001b[0mmax_retries\u001b[0m\u001b[1;33m,\u001b[0m\u001b[1;33m\u001b[0m\u001b[0m\n\u001b[1;32m--> 327\u001b[1;33m                     \u001b[0mtimeout\u001b[0m\u001b[1;33m=\u001b[0m\u001b[0mtimeout\u001b[0m\u001b[1;33m\u001b[0m\u001b[0m\n\u001b[0m\u001b[0;32m    328\u001b[0m                 )\n\u001b[0;32m    329\u001b[0m \u001b[1;33m\u001b[0m\u001b[0m\n",
        "\u001b[1;32m/usr/local/lib/python3.4/dist-packages/requests/packages/urllib3/connectionpool.py\u001b[0m in \u001b[0;36murlopen\u001b[1;34m(self, method, url, body, headers, retries, redirect, assert_same_host, timeout, pool_timeout, release_conn, **response_kw)\u001b[0m\n\u001b[0;32m    491\u001b[0m             httplib_response = self._make_request(conn, method, url,\n\u001b[0;32m    492\u001b[0m                                                   \u001b[0mtimeout\u001b[0m\u001b[1;33m=\u001b[0m\u001b[0mtimeout\u001b[0m\u001b[1;33m,\u001b[0m\u001b[1;33m\u001b[0m\u001b[0m\n\u001b[1;32m--> 493\u001b[1;33m                                                   body=body, headers=headers)\n\u001b[0m\u001b[0;32m    494\u001b[0m \u001b[1;33m\u001b[0m\u001b[0m\n\u001b[0;32m    495\u001b[0m             \u001b[1;31m# If we're going to release the connection in ``finally:``, then\u001b[0m\u001b[1;33m\u001b[0m\u001b[1;33m\u001b[0m\u001b[0m\n",
        "\u001b[1;32m/usr/local/lib/python3.4/dist-packages/requests/packages/urllib3/connectionpool.py\u001b[0m in \u001b[0;36m_make_request\u001b[1;34m(self, conn, method, url, timeout, **httplib_request_kw)\u001b[0m\n\u001b[0;32m    319\u001b[0m                 \u001b[0mhttplib_response\u001b[0m \u001b[1;33m=\u001b[0m \u001b[0mconn\u001b[0m\u001b[1;33m.\u001b[0m\u001b[0mgetresponse\u001b[0m\u001b[1;33m(\u001b[0m\u001b[0mbuffering\u001b[0m\u001b[1;33m=\u001b[0m\u001b[1;32mTrue\u001b[0m\u001b[1;33m)\u001b[0m\u001b[1;33m\u001b[0m\u001b[0m\n\u001b[0;32m    320\u001b[0m             \u001b[1;32mexcept\u001b[0m \u001b[0mTypeError\u001b[0m\u001b[1;33m:\u001b[0m \u001b[1;31m# Python 2.6 and older\u001b[0m\u001b[1;33m\u001b[0m\u001b[0m\n\u001b[1;32m--> 321\u001b[1;33m                 \u001b[0mhttplib_response\u001b[0m \u001b[1;33m=\u001b[0m \u001b[0mconn\u001b[0m\u001b[1;33m.\u001b[0m\u001b[0mgetresponse\u001b[0m\u001b[1;33m(\u001b[0m\u001b[1;33m)\u001b[0m\u001b[1;33m\u001b[0m\u001b[0m\n\u001b[0m\u001b[0;32m    322\u001b[0m         \u001b[1;32mexcept\u001b[0m \u001b[0mSocketTimeout\u001b[0m\u001b[1;33m:\u001b[0m\u001b[1;33m\u001b[0m\u001b[0m\n\u001b[0;32m    323\u001b[0m             raise ReadTimeoutError(\n",
        "\u001b[1;32m/usr/lib/python3.4/http/client.py\u001b[0m in \u001b[0;36mgetresponse\u001b[1;34m(self)\u001b[0m\n\u001b[0;32m   1170\u001b[0m             \u001b[0mresponse\u001b[0m \u001b[1;33m=\u001b[0m \u001b[0mself\u001b[0m\u001b[1;33m.\u001b[0m\u001b[0mresponse_class\u001b[0m\u001b[1;33m(\u001b[0m\u001b[0mself\u001b[0m\u001b[1;33m.\u001b[0m\u001b[0msock\u001b[0m\u001b[1;33m,\u001b[0m \u001b[0mmethod\u001b[0m\u001b[1;33m=\u001b[0m\u001b[0mself\u001b[0m\u001b[1;33m.\u001b[0m\u001b[0m_method\u001b[0m\u001b[1;33m)\u001b[0m\u001b[1;33m\u001b[0m\u001b[0m\n\u001b[0;32m   1171\u001b[0m \u001b[1;33m\u001b[0m\u001b[0m\n\u001b[1;32m-> 1172\u001b[1;33m         \u001b[0mresponse\u001b[0m\u001b[1;33m.\u001b[0m\u001b[0mbegin\u001b[0m\u001b[1;33m(\u001b[0m\u001b[1;33m)\u001b[0m\u001b[1;33m\u001b[0m\u001b[0m\n\u001b[0m\u001b[0;32m   1173\u001b[0m         \u001b[1;32massert\u001b[0m \u001b[0mresponse\u001b[0m\u001b[1;33m.\u001b[0m\u001b[0mwill_close\u001b[0m \u001b[1;33m!=\u001b[0m \u001b[0m_UNKNOWN\u001b[0m\u001b[1;33m\u001b[0m\u001b[0m\n\u001b[0;32m   1174\u001b[0m         \u001b[0mself\u001b[0m\u001b[1;33m.\u001b[0m\u001b[0m__state\u001b[0m \u001b[1;33m=\u001b[0m \u001b[0m_CS_IDLE\u001b[0m\u001b[1;33m\u001b[0m\u001b[0m\n",
        "\u001b[1;32m/usr/lib/python3.4/http/client.py\u001b[0m in \u001b[0;36mbegin\u001b[1;34m(self)\u001b[0m\n\u001b[0;32m    349\u001b[0m         \u001b[1;31m# read until we get a non-100 response\u001b[0m\u001b[1;33m\u001b[0m\u001b[1;33m\u001b[0m\u001b[0m\n\u001b[0;32m    350\u001b[0m         \u001b[1;32mwhile\u001b[0m \u001b[1;32mTrue\u001b[0m\u001b[1;33m:\u001b[0m\u001b[1;33m\u001b[0m\u001b[0m\n\u001b[1;32m--> 351\u001b[1;33m             \u001b[0mversion\u001b[0m\u001b[1;33m,\u001b[0m \u001b[0mstatus\u001b[0m\u001b[1;33m,\u001b[0m \u001b[0mreason\u001b[0m \u001b[1;33m=\u001b[0m \u001b[0mself\u001b[0m\u001b[1;33m.\u001b[0m\u001b[0m_read_status\u001b[0m\u001b[1;33m(\u001b[0m\u001b[1;33m)\u001b[0m\u001b[1;33m\u001b[0m\u001b[0m\n\u001b[0m\u001b[0;32m    352\u001b[0m             \u001b[1;32mif\u001b[0m \u001b[0mstatus\u001b[0m \u001b[1;33m!=\u001b[0m \u001b[0mCONTINUE\u001b[0m\u001b[1;33m:\u001b[0m\u001b[1;33m\u001b[0m\u001b[0m\n\u001b[0;32m    353\u001b[0m                 \u001b[1;32mbreak\u001b[0m\u001b[1;33m\u001b[0m\u001b[0m\n",
        "\u001b[1;32m/usr/lib/python3.4/http/client.py\u001b[0m in \u001b[0;36m_read_status\u001b[1;34m(self)\u001b[0m\n\u001b[0;32m    311\u001b[0m \u001b[1;33m\u001b[0m\u001b[0m\n\u001b[0;32m    312\u001b[0m     \u001b[1;32mdef\u001b[0m \u001b[0m_read_status\u001b[0m\u001b[1;33m(\u001b[0m\u001b[0mself\u001b[0m\u001b[1;33m)\u001b[0m\u001b[1;33m:\u001b[0m\u001b[1;33m\u001b[0m\u001b[0m\n\u001b[1;32m--> 313\u001b[1;33m         \u001b[0mline\u001b[0m \u001b[1;33m=\u001b[0m \u001b[0mstr\u001b[0m\u001b[1;33m(\u001b[0m\u001b[0mself\u001b[0m\u001b[1;33m.\u001b[0m\u001b[0mfp\u001b[0m\u001b[1;33m.\u001b[0m\u001b[0mreadline\u001b[0m\u001b[1;33m(\u001b[0m\u001b[0m_MAXLINE\u001b[0m \u001b[1;33m+\u001b[0m \u001b[1;36m1\u001b[0m\u001b[1;33m)\u001b[0m\u001b[1;33m,\u001b[0m \u001b[1;34m\"iso-8859-1\"\u001b[0m\u001b[1;33m)\u001b[0m\u001b[1;33m\u001b[0m\u001b[0m\n\u001b[0m\u001b[0;32m    314\u001b[0m         \u001b[1;32mif\u001b[0m \u001b[0mlen\u001b[0m\u001b[1;33m(\u001b[0m\u001b[0mline\u001b[0m\u001b[1;33m)\u001b[0m \u001b[1;33m>\u001b[0m \u001b[0m_MAXLINE\u001b[0m\u001b[1;33m:\u001b[0m\u001b[1;33m\u001b[0m\u001b[0m\n\u001b[0;32m    315\u001b[0m             \u001b[1;32mraise\u001b[0m \u001b[0mLineTooLong\u001b[0m\u001b[1;33m(\u001b[0m\u001b[1;34m\"status line\"\u001b[0m\u001b[1;33m)\u001b[0m\u001b[1;33m\u001b[0m\u001b[0m\n",
        "\u001b[1;32m/usr/lib/python3.4/socket.py\u001b[0m in \u001b[0;36mreadinto\u001b[1;34m(self, b)\u001b[0m\n\u001b[0;32m    369\u001b[0m         \u001b[1;32mwhile\u001b[0m \u001b[1;32mTrue\u001b[0m\u001b[1;33m:\u001b[0m\u001b[1;33m\u001b[0m\u001b[0m\n\u001b[0;32m    370\u001b[0m             \u001b[1;32mtry\u001b[0m\u001b[1;33m:\u001b[0m\u001b[1;33m\u001b[0m\u001b[0m\n\u001b[1;32m--> 371\u001b[1;33m                 \u001b[1;32mreturn\u001b[0m \u001b[0mself\u001b[0m\u001b[1;33m.\u001b[0m\u001b[0m_sock\u001b[0m\u001b[1;33m.\u001b[0m\u001b[0mrecv_into\u001b[0m\u001b[1;33m(\u001b[0m\u001b[0mb\u001b[0m\u001b[1;33m)\u001b[0m\u001b[1;33m\u001b[0m\u001b[0m\n\u001b[0m\u001b[0;32m    372\u001b[0m             \u001b[1;32mexcept\u001b[0m \u001b[0mtimeout\u001b[0m\u001b[1;33m:\u001b[0m\u001b[1;33m\u001b[0m\u001b[0m\n\u001b[0;32m    373\u001b[0m                 \u001b[0mself\u001b[0m\u001b[1;33m.\u001b[0m\u001b[0m_timeout_occurred\u001b[0m \u001b[1;33m=\u001b[0m \u001b[1;32mTrue\u001b[0m\u001b[1;33m\u001b[0m\u001b[0m\n",
        "\u001b[1;31mKeyboardInterrupt\u001b[0m: "
       ]
      }
     ],
     "prompt_number": 39
    },
    {
     "cell_type": "code",
     "collapsed": false,
     "input": [
      "vw.close()"
     ],
     "language": "python",
     "metadata": {},
     "outputs": [],
     "prompt_number": 40
    },
    {
     "cell_type": "markdown",
     "metadata": {},
     "source": [
      "## Visualizing language similarity\n",
      "\n",
      "When the model mispredicts, which wikis is it most likely to get confused?\n",
      "\n",
      "This could give us some measure of the similarity of those languages -- in the limited domain of \"Wikipedia pages\" at least.\n",
      "\n",
      "If we visualize these relationships, do they roughly match what we'd expect from a non-expert idea of language similarity? Or do they reflect noise in the model -- artefacts of VW's feature hashing process?\n",
      "\n",
      "First do some preprocessing to get a dense confusion matrix, sorted so more popular wikis come first."
     ]
    },
    {
     "cell_type": "code",
     "collapsed": false,
     "input": [
      "labels = np.array([s.replace(' Wikipedia', '') for s in labels])\n",
      "confusion = np.zeros((len(labels), len(labels)))\n",
      "for (x, y) in rb:\n",
      "    confusion[x,y] += 1\n",
      "samples_per_wiki = np.asarray(confusion.sum(axis=1))\n",
      "sorted_idxs = np.argsort(samples_per_wiki)[::-1]\n",
      "sorted_confusion = confusion[sorted_idxs,:][:,sorted_idxs]\n",
      "sorted_confusion.shape"
     ],
     "language": "python",
     "metadata": {},
     "outputs": [
      {
       "metadata": {},
       "output_type": "pyout",
       "prompt_number": 41,
       "text": [
        "(27, 27)"
       ]
      }
     ],
     "prompt_number": 41
    },
    {
     "cell_type": "markdown",
     "metadata": {},
     "source": [
      "Visualize the confusion matrix in Matplotlib.\n",
      "\n",
      "The left edge represents real pages' languages, the bottom edge shows what the model identified them as, at least in its last `k` tests. So, shading along the diagonal represents correct predictions, and shading off the diagonal represents errors.\n",
      "\n",
      "The values are absolute counts, so this shows the relative popularity of each wiki as well as the error distribution."
     ]
    },
    {
     "cell_type": "code",
     "collapsed": false,
     "input": [
      "fig, ax = plt.subplots(1)\n",
      "\n",
      "p = ax.pcolormesh(sorted_confusion, cmap='Reds')\n",
      "fig.colorbar(p)\n",
      "ax.set_yticks(np.arange(sorted_confusion.shape[0])+0.5, minor=False)\n",
      "ax.set_xticks(np.arange(sorted_confusion.shape[1])+0.5, minor=False)\n",
      "ax.set_xticklabels(labels[sorted_idxs], minor=False) \n",
      "ax.set_yticklabels(labels[sorted_idxs], minor=False)\n",
      "plt.xticks(rotation=90)\n",
      "plt.show()"
     ],
     "language": "python",
     "metadata": {},
     "outputs": [
      {
       "metadata": {},
       "output_type": "display_data",
       "png": "[encoded data removed]",
       "text": [
        "<matplotlib.figure.Figure at 0x7f04cb9f8c18>"
       ]
      }
     ],
     "prompt_number": 42
    },
    {
     "cell_type": "markdown",
     "metadata": {},
     "source": [
      "Alternatively, we can turn it into a labelled list of edge weights, write it out to a CSV, and render it in D3.\n",
      "\n",
      "For this visualization, let's normalize by the number of actual occurrences of each wiki in the test set, so the weights indicate the proportion of the samples for each wiki `source` that were mistakenly predicted for `target` instead. Also we'll need to set the diagonal to 0 to remove loops from the visualization.\n",
      "\n",
      "**Mouseover the nodes in the graph to see the wiki name. Drag the nodes to rearrange the graph.**"
     ]
    },
    {
     "cell_type": "code",
     "collapsed": false,
     "input": [
      "normalized = sorted_confusion / sorted_confusion.sum(axis=1)\n",
      "np.fill_diagonal(normalized, 0)\n",
      "edge_weights = pd.DataFrame(data=normalized, index=labels[sorted_idxs], columns=labels[sorted_idxs]).stack()\n",
      "edge_weights.index.names = ('source', 'target')\n",
      "edge_weights.name = 'value'\n",
      "edge_weights.iloc[edge_weights.nonzero()].to_csv('cm.csv', header=True, index=True)\n",
      "from IPython.lib.display import IFrame\n",
      "IFrame('graph.html', 650, 650)"
     ],
     "language": "python",
     "metadata": {},
     "outputs": [
      {
       "html": [
        "\n",
        "        <iframe\n",
        "            width=\"650\"\n",
        "            height=650\"\n",
        "            src=\"graph.html\"\n",
        "            frameborder=\"0\"\n",
        "            allowfullscreen\n",
        "        ></iframe>\n",
        "        "
       ],
       "metadata": {},
       "output_type": "pyout",
       "prompt_number": 43,
       "text": [
        "<IPython.lib.display.IFrame at 0x7f04cb8a4908>"
       ]
      }
     ],
     "prompt_number": 43
    }
   ],
   "metadata": {}
  }
 ]
}