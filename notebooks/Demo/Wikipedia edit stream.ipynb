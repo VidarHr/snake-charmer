{
 "metadata": {
  "name": "",
  "signature": "sha256:84f421b1bfa65da781daee4e026da417bbc16c6c3e6627a34a5a1682f731244a"
 },
 "nbformat": 3,
 "nbformat_minor": 0,
 "worksheets": [
  {
   "cells": [
    {
     "cell_type": "markdown",
     "metadata": {},
     "source": [
      "# Wikipedia edit stream demo\n",
      "\n",
      "A demo of [Snake Charmer](https://github.com/snake-charmer-devs/snake-charmer), originally presented at a [PyData London meetup](http://www.meetup.com/PyData-London-Meetup/) in August 2014, showing:\n",
      "\n",
      "* Reading data from a [WebSockets](https://www.websocket.org/) stream in real time, in a background thread\n",
      "* Pulling this data into [Pandas](http://pandas.pydata.org/) for analysis and visualization\n",
      "* Training a [Vowpal Wabbit](https://github.com/JohnLangford/vowpal_wabbit) language classifier on this stream, in real time\n",
      "* Visualizing the classifier's behaviour using [Matplotlib](http://matplotlib.org/) and [D3](http://d3js.org/)\n",
      "\n",
      "The demo is designed to be run using Snake Charmer [release a18945d](https://github.com/snake-charmer-devs/snake-charmer/tree/b86184ecd92cd785b443163f6ecef4366548f591) or later.\n",
      "\n",
      "Wikipedia streaming is powered by the `wikipedia_updates` function, which is based on the [stream.py](https://github.com/edsu/wikistream/blob/master/stream.py) script provided with [edsu/wikistream](https://github.com/edsu/wikistream)."
     ]
    },
    {
     "cell_type": "code",
     "collapsed": false,
     "input": [
      "import re\n",
      "import json\n",
      "import time\n",
      "import threading\n",
      "\n",
      "from collections import defaultdict\n",
      "from itertools import chain\n",
      "from requests import post, get\n",
      "\n",
      "from wabbit_wappa import VW\n",
      "\n",
      "import numpy as np\n",
      "\n",
      "import pandas as pd\n",
      "pd.options.display.mpl_style = 'default'\n",
      "\n",
      "import seaborn as sb\n",
      "import matplotlib.pylab as pylab\n",
      "import matplotlib.pyplot as plt\n",
      "pylab.rcParams['figure.figsize'] = (12.0, 8.0)\n",
      "pylab.rcParams['font.family'] = 'Bitstream Vera Sans'"
     ],
     "language": "python",
     "metadata": {},
     "outputs": [],
     "prompt_number": 1
    },
    {
     "cell_type": "markdown",
     "metadata": {},
     "source": [
      "## wikipedia_updates\n",
      "\n",
      "This function talks to the `wikistream` server, which provides push notifications of Wikipedia edits via [Socket.io](http://socket.io/).\n",
      "\n",
      "Call it with a callback function of your own devising, that takes a single argument. Every time a Wikipedia edit occurs, your callback will be called, with a dict containing the details of the edit, e.g.:\n",
      "\n",
      "```\n",
      "{'flag': '',\n",
      " 'namespace': 'article',\n",
      " 'userUrl': 'http://en.wikipedia.org/wiki/User:137.44.83.167',\n",
      " 'url': 'http://en.wikipedia.org/w/index.php?diff=619400522&oldid=618259633',\n",
      " 'wikipediaLong': 'English Wikipedia',\n",
      " 'wikipediaShort': 'en',\n",
      " 'user': '137.44.83.167',\n",
      " 'comment': '',\n",
      " 'newPage': False,\n",
      " 'pageUrl': 'http://en.wikipedia.org/wiki/Battle_of_Trafalgar',\n",
      " 'unpatrolled': False,\n",
      " 'robot': False,\n",
      " 'anonymous': True,\n",
      " 'delta': 2,\n",
      " 'channel': '#en.wikipedia',\n",
      " 'wikipediaUrl': 'http://en.wikipedia.org',\n",
      " 'wikipedia': 'English Wikipedia',\n",
      " 'page': 'Battle of Trafalgar'}\n",
      "```\n",
      "\n",
      "Your callback should return `True` if it wants to keep receiving edits, or `False` to stop."
     ]
    },
    {
     "cell_type": "code",
     "collapsed": false,
     "input": [
      "def wikipedia_updates(callback):\n",
      "    endpoint = \"http://wikistream.inkdroid.org/socket.io/1\"\n",
      "    session_id = post(endpoint).content.decode('utf-8').split(':')[0]\n",
      "    xhr_endpoint = \"/\".join((endpoint, \"xhr-polling\", session_id))\n",
      "\n",
      "    while True:\n",
      "        t = time.time() * 1000000\n",
      "        response = get(xhr_endpoint, params={'t': t}).content.decode('utf-8')\n",
      "\n",
      "        chunks = re.split(u'\\ufffd[0-9]+\\ufffd', response)\n",
      "        for chunk in chunks:\n",
      "            parts = chunk.split(':', 3)\n",
      "            if len(parts) == 4:\n",
      "                try:\n",
      "                    payload = json.loads(parts[3])['args'][0]\n",
      "                except:\n",
      "                    raise ValueError('Received non-json data: ' + str(parts))\n",
      "                if not callback(payload):\n",
      "                    return"
     ],
     "language": "python",
     "metadata": {},
     "outputs": [],
     "prompt_number": 2
    },
    {
     "cell_type": "markdown",
     "metadata": {},
     "source": [
      "## Watching stream activity in real time\n",
      "\n",
      "This is a callback function that collects the edits into a list called `edits`, for offline analysis later. It runs until `max_edits` edits have been received.\n",
      "\n",
      "A `timestamp` field is added to each edit, as they don't have this by default.\n",
      "\n",
      "Run this cell to start gathering the data in the background.\n",
      "\n",
      "### Note\n",
      "\n",
      "If at any point you get an error message about non-json data, wait a few seconds, then restart the IPython kernel and retry from the first cell. This seems to be an intermittent problem with the server -- or possibly the requests library?"
     ]
    },
    {
     "cell_type": "code",
     "collapsed": false,
     "input": [
      "max_edits = 500\n",
      "edits = []\n",
      "\n",
      "reg = re.compile(r'^.*wiki/(.*)')\n",
      "\n",
      "def simple_callback(edit):\n",
      "    edit['timestamp'] = time.time()\n",
      "    edits.append(edit)\n",
      "    return len(edits) < max_edits\n",
      "\n",
      "thr = threading.Thread(target=wikipedia_updates, args=(simple_callback,))\n",
      "thr.start()"
     ],
     "language": "python",
     "metadata": {},
     "outputs": [],
     "prompt_number": 3
    },
    {
     "cell_type": "markdown",
     "metadata": {},
     "source": [
      "We can watch the data as it arrives. Run the following cell repeatedly, until it tells you it has finished."
     ]
    },
    {
     "cell_type": "code",
     "collapsed": false,
     "input": [
      "c = len(edits)\n",
      "n = min(5, c)\n",
      "print('Last %d of %d edits...\\n' % (n, c))\n",
      "for edit in edits[-n:]:\n",
      "    wiki_name = edit['wikipediaLong']\n",
      "    page_name = reg.match(edit['pageUrl']).group(1)\n",
      "    comment = edit['comment']\n",
      "    print('\\t'.join((wiki_name, page_name, comment)), '\\n', flush=True)\n",
      "if c == max_edits:\n",
      "    print('Done.\\n')\n",
      "else:\n",
      "    print('Still streaming.\\n')"
     ],
     "language": "python",
     "metadata": {},
     "outputs": [
      {
       "output_type": "stream",
       "stream": "stdout",
       "text": [
        "Last 5 of 500 edits...\n",
        "\n",
        "Wikidata\tQ5537909\t/* wbcreateclaim-create:1| */ [[Property:P69]]: [[Q3760670]] \n",
        "\n"
       ]
      },
      {
       "output_type": "stream",
       "stream": "stdout",
       "text": [
        "Wikidata\tQ2696784\t/* wbsetsitelink-add:1|fawiki */ Bot: Importing article from Persian Wikipedia \n",
        "\n"
       ]
      },
      {
       "output_type": "stream",
       "stream": "stdout",
       "text": [
        "Polish Wikipedia\tDyskusja:Jan_Manuel_(ksi\u0105\u017c\u0119_Portugalii)\t[[Dyskusja:Jan Manuel (ksi\u0105\u017c\u0119 Portugalii)|\u2192]] Robot zg\u0142asza niedost\u0119pny link zewn\u0119trzny \n",
        "\n"
       ]
      },
      {
       "output_type": "stream",
       "stream": "stdout",
       "text": [
        "German Wikipedia\tSpezial:Log/delete\tdeleted \"[[\u000302Datei:ASAC Concorde.png\u000310]]\": [[Wikipedia:Urheberrechte beachten|Urheberrechtsverletzung]] (keine [[WP:TV|Freigabe]] ersichtlich) \n",
        "\n"
       ]
      },
      {
       "output_type": "stream",
       "stream": "stdout",
       "text": [
        "Wikimedia Commons\tFile:2014_US_Open_(Tennis)_-_Qualifying_Rounds_-_Jan_Mertl_(14826129637).jpg\t[[Help:Cat-a-lot|Cat-a-lot]]: Moving from [[Category:2014 US Open (tennis)]] to [[Category:2014 US Open (tennis) Qualifying Tournament]] \n",
        "\n"
       ]
      },
      {
       "output_type": "stream",
       "stream": "stdout",
       "text": [
        "Done.\n",
        "\n"
       ]
      }
     ],
     "prompt_number": 16
    },
    {
     "cell_type": "code",
     "collapsed": false,
     "input": [
      "# Save this data -- backup in case of problems when giving demo\n",
      "# with open('edits.json', 'w') as f:\n",
      "#    json.dump(edits, f)"
     ],
     "language": "python",
     "metadata": {},
     "outputs": []
    },
    {
     "cell_type": "code",
     "collapsed": false,
     "input": [
      "# Save this data -- backup in case of problems when giving demo\n",
      "#with open('edits.json') as f:\n",
      "#    edits = json.load(f)"
     ],
     "language": "python",
     "metadata": {},
     "outputs": []
    },
    {
     "cell_type": "markdown",
     "metadata": {},
     "source": [
      "## Import into pandas\n",
      "\n",
      "Let's add all these edits into a `DataFrame` to make them easier to work with."
     ]
    },
    {
     "cell_type": "code",
     "collapsed": false,
     "input": [
      "df = pd.DataFrame(edits)\n",
      "df['timestamp'] = pd.to_datetime(df['timestamp'], unit='s')\n",
      "df.head()"
     ],
     "language": "python",
     "metadata": {},
     "outputs": [
      {
       "html": [
        "<div style=\"max-height:1000px;max-width:1500px;overflow:auto;\">\n",
        "<table border=\"1\" class=\"dataframe\">\n",
        "  <thead>\n",
        "    <tr style=\"text-align: right;\">\n",
        "      <th></th>\n",
        "      <th>anonymous</th>\n",
        "      <th>channel</th>\n",
        "      <th>comment</th>\n",
        "      <th>delta</th>\n",
        "      <th>flag</th>\n",
        "      <th>namespace</th>\n",
        "      <th>newPage</th>\n",
        "      <th>page</th>\n",
        "      <th>pageUrl</th>\n",
        "      <th>robot</th>\n",
        "      <th>timestamp</th>\n",
        "      <th>unpatrolled</th>\n",
        "      <th>url</th>\n",
        "      <th>user</th>\n",
        "      <th>userUrl</th>\n",
        "      <th>wikipedia</th>\n",
        "      <th>wikipediaLong</th>\n",
        "      <th>wikipediaShort</th>\n",
        "      <th>wikipediaUrl</th>\n",
        "    </tr>\n",
        "  </thead>\n",
        "  <tbody>\n",
        "    <tr>\n",
        "      <th>0</th>\n",
        "      <td> False</td>\n",
        "      <td>       #en.wikipedia</td>\n",
        "      <td>                               /* Current squad */</td>\n",
        "      <td>-118</td>\n",
        "      <td>  </td>\n",
        "      <td> article</td>\n",
        "      <td> False</td>\n",
        "      <td>              FC Neftekhimik Nizhnekamsk</td>\n",
        "      <td> http://en.wikipedia.org/wiki/FC_Neftekhimik_Ni...</td>\n",
        "      <td> False</td>\n",
        "      <td>2014-08-30 20:40:57.503277</td>\n",
        "      <td> False</td>\n",
        "      <td> http://en.wikipedia.org/w/index.php?diff=62348...</td>\n",
        "      <td>     Geregen2</td>\n",
        "      <td>     http://en.wikipedia.org/wiki/User:Geregen2</td>\n",
        "      <td> English Wikipedia</td>\n",
        "      <td> English Wikipedia</td>\n",
        "      <td> en</td>\n",
        "      <td> http://en.wikipedia.org</td>\n",
        "    </tr>\n",
        "    <tr>\n",
        "      <th>1</th>\n",
        "      <td>  True</td>\n",
        "      <td>       #es.wikipedia</td>\n",
        "      <td>                          /* M\u00e1ximos goleadores */</td>\n",
        "      <td>  65</td>\n",
        "      <td>  </td>\n",
        "      <td> article</td>\n",
        "      <td> False</td>\n",
        "      <td>      Primera Divisi\u00f3n de Espa\u00f1a 1929/30</td>\n",
        "      <td> http://es.wikipedia.org/wiki/Primera_Divisi\u00f3n_...</td>\n",
        "      <td> False</td>\n",
        "      <td>2014-08-30 20:40:57.503299</td>\n",
        "      <td> False</td>\n",
        "      <td> http://es.wikipedia.org/w/index.php?diff=76681...</td>\n",
        "      <td> 186.129.7.37</td>\n",
        "      <td> http://es.wikipedia.org/wiki/User:186.129.7.37</td>\n",
        "      <td> Spanish Wikipedia</td>\n",
        "      <td> Spanish Wikipedia</td>\n",
        "      <td> es</td>\n",
        "      <td> http://es.wikipedia.org</td>\n",
        "    </tr>\n",
        "    <tr>\n",
        "      <th>2</th>\n",
        "      <td> False</td>\n",
        "      <td>       #en.wikipedia</td>\n",
        "      <td> added [[Category:Year of birth missing (living...</td>\n",
        "      <td>  51</td>\n",
        "      <td>  </td>\n",
        "      <td> article</td>\n",
        "      <td> False</td>\n",
        "      <td>                             Zoe Shipton</td>\n",
        "      <td>          http://en.wikipedia.org/wiki/Zoe_Shipton</td>\n",
        "      <td> False</td>\n",
        "      <td>2014-08-30 20:40:57.760354</td>\n",
        "      <td> False</td>\n",
        "      <td> http://en.wikipedia.org/w/index.php?diff=62348...</td>\n",
        "      <td>        Wgolf</td>\n",
        "      <td>        http://en.wikipedia.org/wiki/User:Wgolf</td>\n",
        "      <td> English Wikipedia</td>\n",
        "      <td> English Wikipedia</td>\n",
        "      <td> en</td>\n",
        "      <td> http://en.wikipedia.org</td>\n",
        "    </tr>\n",
        "    <tr>\n",
        "      <th>3</th>\n",
        "      <td> False</td>\n",
        "      <td> #wikidata.wikipedia</td>\n",
        "      <td> /* wbcreateclaim-create:1| */ [[Property:P69]]...</td>\n",
        "      <td> 389</td>\n",
        "      <td>  </td>\n",
        "      <td> article</td>\n",
        "      <td> False</td>\n",
        "      <td>                                Q5386021</td>\n",
        "      <td>                 http://wikidata.org/wiki/Q5386021</td>\n",
        "      <td> False</td>\n",
        "      <td>2014-08-30 20:40:57.760379</td>\n",
        "      <td> False</td>\n",
        "      <td> http://www.wikidata.org/w/index.php?diff=15444...</td>\n",
        "      <td>      GerardM</td>\n",
        "      <td>          http://wikidata.org/wiki/User:GerardM</td>\n",
        "      <td>          Wikidata</td>\n",
        "      <td>          Wikidata</td>\n",
        "      <td> wd</td>\n",
        "      <td>     http://wikidata.org</td>\n",
        "    </tr>\n",
        "    <tr>\n",
        "      <th>4</th>\n",
        "      <td> False</td>\n",
        "      <td>       #en.wikipedia</td>\n",
        "      <td> most recent results, added 4, removed 6, total 52</td>\n",
        "      <td>-642</td>\n",
        "      <td> B</td>\n",
        "      <td>    user</td>\n",
        "      <td> False</td>\n",
        "      <td> User:AlexNewArtBot/MalaysiaSearchResult</td>\n",
        "      <td> http://en.wikipedia.org/wiki/User:AlexNewArtBo...</td>\n",
        "      <td>  True</td>\n",
        "      <td>2014-08-30 20:40:57.997191</td>\n",
        "      <td> False</td>\n",
        "      <td> http://en.wikipedia.org/w/index.php?diff=62348...</td>\n",
        "      <td> InceptionBot</td>\n",
        "      <td> http://en.wikipedia.org/wiki/User:InceptionBot</td>\n",
        "      <td> English Wikipedia</td>\n",
        "      <td> English Wikipedia</td>\n",
        "      <td> en</td>\n",
        "      <td> http://en.wikipedia.org</td>\n",
        "    </tr>\n",
        "  </tbody>\n",
        "</table>\n",
        "</div>"
       ],
       "metadata": {},
       "output_type": "pyout",
       "prompt_number": 17,
       "text": [
        "  anonymous              channel  \\\n",
        "0     False        #en.wikipedia   \n",
        "1      True        #es.wikipedia   \n",
        "2     False        #en.wikipedia   \n",
        "3     False  #wikidata.wikipedia   \n",
        "4     False        #en.wikipedia   \n",
        "\n",
        "                                             comment  delta flag namespace  \\\n",
        "0                                /* Current squad */   -118        article   \n",
        "1                           /* M\u00e1ximos goleadores */     65        article   \n",
        "2  added [[Category:Year of birth missing (living...     51        article   \n",
        "3  /* wbcreateclaim-create:1| */ [[Property:P69]]...    389        article   \n",
        "4  most recent results, added 4, removed 6, total 52   -642    B      user   \n",
        "\n",
        "  newPage                                     page  \\\n",
        "0   False               FC Neftekhimik Nizhnekamsk   \n",
        "1   False       Primera Divisi\u00f3n de Espa\u00f1a 1929/30   \n",
        "2   False                              Zoe Shipton   \n",
        "3   False                                 Q5386021   \n",
        "4   False  User:AlexNewArtBot/MalaysiaSearchResult   \n",
        "\n",
        "                                             pageUrl  robot  \\\n",
        "0  http://en.wikipedia.org/wiki/FC_Neftekhimik_Ni...  False   \n",
        "1  http://es.wikipedia.org/wiki/Primera_Divisi\u00f3n_...  False   \n",
        "2           http://en.wikipedia.org/wiki/Zoe_Shipton  False   \n",
        "3                  http://wikidata.org/wiki/Q5386021  False   \n",
        "4  http://en.wikipedia.org/wiki/User:AlexNewArtBo...   True   \n",
        "\n",
        "                   timestamp unpatrolled  \\\n",
        "0 2014-08-30 20:40:57.503277       False   \n",
        "1 2014-08-30 20:40:57.503299       False   \n",
        "2 2014-08-30 20:40:57.760354       False   \n",
        "3 2014-08-30 20:40:57.760379       False   \n",
        "4 2014-08-30 20:40:57.997191       False   \n",
        "\n",
        "                                                 url          user  \\\n",
        "0  http://en.wikipedia.org/w/index.php?diff=62348...      Geregen2   \n",
        "1  http://es.wikipedia.org/w/index.php?diff=76681...  186.129.7.37   \n",
        "2  http://en.wikipedia.org/w/index.php?diff=62348...         Wgolf   \n",
        "3  http://www.wikidata.org/w/index.php?diff=15444...       GerardM   \n",
        "4  http://en.wikipedia.org/w/index.php?diff=62348...  InceptionBot   \n",
        "\n",
        "                                          userUrl          wikipedia  \\\n",
        "0      http://en.wikipedia.org/wiki/User:Geregen2  English Wikipedia   \n",
        "1  http://es.wikipedia.org/wiki/User:186.129.7.37  Spanish Wikipedia   \n",
        "2         http://en.wikipedia.org/wiki/User:Wgolf  English Wikipedia   \n",
        "3           http://wikidata.org/wiki/User:GerardM           Wikidata   \n",
        "4  http://en.wikipedia.org/wiki/User:InceptionBot  English Wikipedia   \n",
        "\n",
        "       wikipediaLong wikipediaShort             wikipediaUrl  \n",
        "0  English Wikipedia             en  http://en.wikipedia.org  \n",
        "1  Spanish Wikipedia             es  http://es.wikipedia.org  \n",
        "2  English Wikipedia             en  http://en.wikipedia.org  \n",
        "3           Wikidata             wd      http://wikidata.org  \n",
        "4  English Wikipedia             en  http://en.wikipedia.org  "
       ]
      }
     ],
     "prompt_number": 17
    },
    {
     "cell_type": "markdown",
     "metadata": {},
     "source": [
      "## Visualizing the total number of edits in each wiki\n",
      "\n",
      "This is a one-liner in pandas!"
     ]
    },
    {
     "cell_type": "code",
     "collapsed": false,
     "input": [
      "p = df.wikipedia.value_counts().plot(kind='barh')"
     ],
     "language": "python",
     "metadata": {},
     "outputs": [
      {
       "metadata": {},
       "output_type": "display_data",
       "png": "[encoded data removed]",
       "text": [
        "<matplotlib.figure.Figure at 0x7faae2021208>"
       ]
      }
     ],
     "prompt_number": 18
    },
    {
     "cell_type": "markdown",
     "metadata": {},
     "source": [
      "## Checking and filtering bot activity\n",
      "\n",
      "Wikidata is very busy -- is it all bots?"
     ]
    },
    {
     "cell_type": "code",
     "collapsed": false,
     "input": [
      "df[df.wikipediaShort=='wd'].robot.value_counts()"
     ],
     "language": "python",
     "metadata": {},
     "outputs": [
      {
       "metadata": {},
       "output_type": "pyout",
       "prompt_number": 20,
       "text": [
        "True     56\n",
        "False    43\n",
        "dtype: int64"
       ]
      }
     ],
     "prompt_number": 20
    },
    {
     "cell_type": "markdown",
     "metadata": {},
     "source": [
      "## Time series analysis\n",
      "\n",
      "To make time series analysis easier, let's turn the raw edits into counts per second.\n",
      "\n",
      "We can use a bit of a trick here. Pivot the dataframe, keeping the timestamp as the index, making the wiki short names the new columns, and the value of the `delta` field for the cells. **What is delta?** That doesn't actually matter! We'll see why, shortly.\n",
      "\n",
      "### Usage note\n",
      "\n",
      "The following cell originally used\n",
      "\n",
      "```\n",
      "pivot(index='timestamp',\n",
      "      columns='wikipediaShort',\n",
      "      values='delta')\n",
      "```\n",
      "\n",
      "but this doesn't allow duplicates in the field to be used as the index. So if you're unlucky enough to get two edits in the same microsecond, it'll fail.\n",
      "\n",
      "`pivot_table`, however, handles these properly."
     ]
    },
    {
     "cell_type": "code",
     "collapsed": false,
     "input": [
      "ts = pd.pivot_table(df, values='delta', index='timestamp', columns='wikipediaShort')\n",
      "ts.head()"
     ],
     "language": "python",
     "metadata": {},
     "outputs": [
      {
       "html": [
        "<div style=\"max-height:1000px;max-width:1500px;overflow:auto;\">\n",
        "<table border=\"1\" class=\"dataframe\">\n",
        "  <thead>\n",
        "    <tr style=\"text-align: right;\">\n",
        "      <th>wikipediaShort</th>\n",
        "      <th>ar</th>\n",
        "      <th>bg</th>\n",
        "      <th>co</th>\n",
        "      <th>de</th>\n",
        "      <th>el</th>\n",
        "      <th>en</th>\n",
        "      <th>eo</th>\n",
        "      <th>es</th>\n",
        "      <th>fa</th>\n",
        "      <th>fr</th>\n",
        "      <th>...</th>\n",
        "      <th>nl</th>\n",
        "      <th>pl</th>\n",
        "      <th>pt</th>\n",
        "      <th>ro</th>\n",
        "      <th>ru</th>\n",
        "      <th>sv</th>\n",
        "      <th>tr</th>\n",
        "      <th>uk</th>\n",
        "      <th>wd</th>\n",
        "      <th>zh</th>\n",
        "    </tr>\n",
        "    <tr>\n",
        "      <th>timestamp</th>\n",
        "      <th></th>\n",
        "      <th></th>\n",
        "      <th></th>\n",
        "      <th></th>\n",
        "      <th></th>\n",
        "      <th></th>\n",
        "      <th></th>\n",
        "      <th></th>\n",
        "      <th></th>\n",
        "      <th></th>\n",
        "      <th></th>\n",
        "      <th></th>\n",
        "      <th></th>\n",
        "      <th></th>\n",
        "      <th></th>\n",
        "      <th></th>\n",
        "      <th></th>\n",
        "      <th></th>\n",
        "      <th></th>\n",
        "      <th></th>\n",
        "      <th></th>\n",
        "    </tr>\n",
        "  </thead>\n",
        "  <tbody>\n",
        "    <tr>\n",
        "      <th>2014-08-30 20:40:57.503277</th>\n",
        "      <td>NaN</td>\n",
        "      <td>NaN</td>\n",
        "      <td>NaN</td>\n",
        "      <td>NaN</td>\n",
        "      <td>NaN</td>\n",
        "      <td>-118</td>\n",
        "      <td>NaN</td>\n",
        "      <td>NaN</td>\n",
        "      <td>NaN</td>\n",
        "      <td>NaN</td>\n",
        "      <td>...</td>\n",
        "      <td>NaN</td>\n",
        "      <td>NaN</td>\n",
        "      <td>NaN</td>\n",
        "      <td>NaN</td>\n",
        "      <td>NaN</td>\n",
        "      <td>NaN</td>\n",
        "      <td>NaN</td>\n",
        "      <td>NaN</td>\n",
        "      <td> NaN</td>\n",
        "      <td>NaN</td>\n",
        "    </tr>\n",
        "    <tr>\n",
        "      <th>2014-08-30 20:40:57.503299</th>\n",
        "      <td>NaN</td>\n",
        "      <td>NaN</td>\n",
        "      <td>NaN</td>\n",
        "      <td>NaN</td>\n",
        "      <td>NaN</td>\n",
        "      <td> NaN</td>\n",
        "      <td>NaN</td>\n",
        "      <td> 65</td>\n",
        "      <td>NaN</td>\n",
        "      <td>NaN</td>\n",
        "      <td>...</td>\n",
        "      <td>NaN</td>\n",
        "      <td>NaN</td>\n",
        "      <td>NaN</td>\n",
        "      <td>NaN</td>\n",
        "      <td>NaN</td>\n",
        "      <td>NaN</td>\n",
        "      <td>NaN</td>\n",
        "      <td>NaN</td>\n",
        "      <td> NaN</td>\n",
        "      <td>NaN</td>\n",
        "    </tr>\n",
        "    <tr>\n",
        "      <th>2014-08-30 20:40:57.760354</th>\n",
        "      <td>NaN</td>\n",
        "      <td>NaN</td>\n",
        "      <td>NaN</td>\n",
        "      <td>NaN</td>\n",
        "      <td>NaN</td>\n",
        "      <td>  51</td>\n",
        "      <td>NaN</td>\n",
        "      <td>NaN</td>\n",
        "      <td>NaN</td>\n",
        "      <td>NaN</td>\n",
        "      <td>...</td>\n",
        "      <td>NaN</td>\n",
        "      <td>NaN</td>\n",
        "      <td>NaN</td>\n",
        "      <td>NaN</td>\n",
        "      <td>NaN</td>\n",
        "      <td>NaN</td>\n",
        "      <td>NaN</td>\n",
        "      <td>NaN</td>\n",
        "      <td> NaN</td>\n",
        "      <td>NaN</td>\n",
        "    </tr>\n",
        "    <tr>\n",
        "      <th>2014-08-30 20:40:57.760379</th>\n",
        "      <td>NaN</td>\n",
        "      <td>NaN</td>\n",
        "      <td>NaN</td>\n",
        "      <td>NaN</td>\n",
        "      <td>NaN</td>\n",
        "      <td> NaN</td>\n",
        "      <td>NaN</td>\n",
        "      <td>NaN</td>\n",
        "      <td>NaN</td>\n",
        "      <td>NaN</td>\n",
        "      <td>...</td>\n",
        "      <td>NaN</td>\n",
        "      <td>NaN</td>\n",
        "      <td>NaN</td>\n",
        "      <td>NaN</td>\n",
        "      <td>NaN</td>\n",
        "      <td>NaN</td>\n",
        "      <td>NaN</td>\n",
        "      <td>NaN</td>\n",
        "      <td> 389</td>\n",
        "      <td>NaN</td>\n",
        "    </tr>\n",
        "    <tr>\n",
        "      <th>2014-08-30 20:40:57.997191</th>\n",
        "      <td>NaN</td>\n",
        "      <td>NaN</td>\n",
        "      <td>NaN</td>\n",
        "      <td>NaN</td>\n",
        "      <td>NaN</td>\n",
        "      <td>-642</td>\n",
        "      <td>NaN</td>\n",
        "      <td>NaN</td>\n",
        "      <td>NaN</td>\n",
        "      <td>NaN</td>\n",
        "      <td>...</td>\n",
        "      <td>NaN</td>\n",
        "      <td>NaN</td>\n",
        "      <td>NaN</td>\n",
        "      <td>NaN</td>\n",
        "      <td>NaN</td>\n",
        "      <td>NaN</td>\n",
        "      <td>NaN</td>\n",
        "      <td>NaN</td>\n",
        "      <td> NaN</td>\n",
        "      <td>NaN</td>\n",
        "    </tr>\n",
        "  </tbody>\n",
        "</table>\n",
        "<p>5 rows \u00d7 25 columns</p>\n",
        "</div>"
       ],
       "metadata": {},
       "output_type": "pyout",
       "prompt_number": 21,
       "text": [
        "wikipediaShort              ar  bg  co  de  el   en  eo  es  fa  fr ...  nl  \\\n",
        "timestamp                                                           ...       \n",
        "2014-08-30 20:40:57.503277 NaN NaN NaN NaN NaN -118 NaN NaN NaN NaN ... NaN   \n",
        "2014-08-30 20:40:57.503299 NaN NaN NaN NaN NaN  NaN NaN  65 NaN NaN ... NaN   \n",
        "2014-08-30 20:40:57.760354 NaN NaN NaN NaN NaN   51 NaN NaN NaN NaN ... NaN   \n",
        "2014-08-30 20:40:57.760379 NaN NaN NaN NaN NaN  NaN NaN NaN NaN NaN ... NaN   \n",
        "2014-08-30 20:40:57.997191 NaN NaN NaN NaN NaN -642 NaN NaN NaN NaN ... NaN   \n",
        "\n",
        "wikipediaShort              pl  pt  ro  ru  sv  tr  uk   wd  zh  \n",
        "timestamp                                                        \n",
        "2014-08-30 20:40:57.503277 NaN NaN NaN NaN NaN NaN NaN  NaN NaN  \n",
        "2014-08-30 20:40:57.503299 NaN NaN NaN NaN NaN NaN NaN  NaN NaN  \n",
        "2014-08-30 20:40:57.760354 NaN NaN NaN NaN NaN NaN NaN  NaN NaN  \n",
        "2014-08-30 20:40:57.760379 NaN NaN NaN NaN NaN NaN NaN  389 NaN  \n",
        "2014-08-30 20:40:57.997191 NaN NaN NaN NaN NaN NaN NaN  NaN NaN  \n",
        "\n",
        "[5 rows x 25 columns]"
       ]
      }
     ],
     "prompt_number": 21
    },
    {
     "cell_type": "markdown",
     "metadata": {},
     "source": [
      "Then, by resampling the time series to second resolution, and applying the `count` aggregate, we get edits-per-second.\n",
      "\n",
      "We used the `delta` field as the value to be placed into each cell, not because we care about delta, but because the `resample` method only works on numerics. "
     ]
    },
    {
     "cell_type": "code",
     "collapsed": false,
     "input": [
      "sec_counts = ts.resample('s', how='count')\n",
      "sec_counts.head()"
     ],
     "language": "python",
     "metadata": {},
     "outputs": [
      {
       "html": [
        "<div style=\"max-height:1000px;max-width:1500px;overflow:auto;\">\n",
        "<table border=\"1\" class=\"dataframe\">\n",
        "  <thead>\n",
        "    <tr style=\"text-align: right;\">\n",
        "      <th>wikipediaShort</th>\n",
        "      <th>ar</th>\n",
        "      <th>bg</th>\n",
        "      <th>co</th>\n",
        "      <th>de</th>\n",
        "      <th>el</th>\n",
        "      <th>en</th>\n",
        "      <th>eo</th>\n",
        "      <th>es</th>\n",
        "      <th>fa</th>\n",
        "      <th>fr</th>\n",
        "      <th>...</th>\n",
        "      <th>nl</th>\n",
        "      <th>pl</th>\n",
        "      <th>pt</th>\n",
        "      <th>ro</th>\n",
        "      <th>ru</th>\n",
        "      <th>sv</th>\n",
        "      <th>tr</th>\n",
        "      <th>uk</th>\n",
        "      <th>wd</th>\n",
        "      <th>zh</th>\n",
        "    </tr>\n",
        "    <tr>\n",
        "      <th>timestamp</th>\n",
        "      <th></th>\n",
        "      <th></th>\n",
        "      <th></th>\n",
        "      <th></th>\n",
        "      <th></th>\n",
        "      <th></th>\n",
        "      <th></th>\n",
        "      <th></th>\n",
        "      <th></th>\n",
        "      <th></th>\n",
        "      <th></th>\n",
        "      <th></th>\n",
        "      <th></th>\n",
        "      <th></th>\n",
        "      <th></th>\n",
        "      <th></th>\n",
        "      <th></th>\n",
        "      <th></th>\n",
        "      <th></th>\n",
        "      <th></th>\n",
        "      <th></th>\n",
        "    </tr>\n",
        "  </thead>\n",
        "  <tbody>\n",
        "    <tr>\n",
        "      <th>2014-08-30 20:40:57</th>\n",
        "      <td> 0</td>\n",
        "      <td> 0</td>\n",
        "      <td> 0</td>\n",
        "      <td> 0</td>\n",
        "      <td> 0</td>\n",
        "      <td> 3</td>\n",
        "      <td> 0</td>\n",
        "      <td> 1</td>\n",
        "      <td> 0</td>\n",
        "      <td> 0</td>\n",
        "      <td>...</td>\n",
        "      <td> 0</td>\n",
        "      <td> 0</td>\n",
        "      <td> 0</td>\n",
        "      <td> 0</td>\n",
        "      <td> 0</td>\n",
        "      <td> 0</td>\n",
        "      <td> 0</td>\n",
        "      <td> 0</td>\n",
        "      <td> 1</td>\n",
        "      <td> 0</td>\n",
        "    </tr>\n",
        "    <tr>\n",
        "      <th>2014-08-30 20:40:58</th>\n",
        "      <td> 0</td>\n",
        "      <td> 0</td>\n",
        "      <td> 1</td>\n",
        "      <td> 0</td>\n",
        "      <td> 0</td>\n",
        "      <td> 0</td>\n",
        "      <td> 0</td>\n",
        "      <td> 0</td>\n",
        "      <td> 0</td>\n",
        "      <td> 0</td>\n",
        "      <td>...</td>\n",
        "      <td> 0</td>\n",
        "      <td> 1</td>\n",
        "      <td> 0</td>\n",
        "      <td> 0</td>\n",
        "      <td> 1</td>\n",
        "      <td> 0</td>\n",
        "      <td> 0</td>\n",
        "      <td> 0</td>\n",
        "      <td> 1</td>\n",
        "      <td> 0</td>\n",
        "    </tr>\n",
        "    <tr>\n",
        "      <th>2014-08-30 20:40:59</th>\n",
        "      <td> 0</td>\n",
        "      <td> 0</td>\n",
        "      <td> 0</td>\n",
        "      <td> 0</td>\n",
        "      <td> 2</td>\n",
        "      <td> 2</td>\n",
        "      <td> 0</td>\n",
        "      <td> 0</td>\n",
        "      <td> 0</td>\n",
        "      <td> 0</td>\n",
        "      <td>...</td>\n",
        "      <td> 0</td>\n",
        "      <td> 0</td>\n",
        "      <td> 0</td>\n",
        "      <td> 1</td>\n",
        "      <td> 0</td>\n",
        "      <td> 0</td>\n",
        "      <td> 0</td>\n",
        "      <td> 0</td>\n",
        "      <td> 0</td>\n",
        "      <td> 0</td>\n",
        "    </tr>\n",
        "    <tr>\n",
        "      <th>2014-08-30 20:41:00</th>\n",
        "      <td> 1</td>\n",
        "      <td> 0</td>\n",
        "      <td> 1</td>\n",
        "      <td> 0</td>\n",
        "      <td> 0</td>\n",
        "      <td> 2</td>\n",
        "      <td> 0</td>\n",
        "      <td> 0</td>\n",
        "      <td> 0</td>\n",
        "      <td> 1</td>\n",
        "      <td>...</td>\n",
        "      <td> 1</td>\n",
        "      <td> 0</td>\n",
        "      <td> 0</td>\n",
        "      <td> 0</td>\n",
        "      <td> 0</td>\n",
        "      <td> 0</td>\n",
        "      <td> 0</td>\n",
        "      <td> 0</td>\n",
        "      <td> 1</td>\n",
        "      <td> 0</td>\n",
        "    </tr>\n",
        "    <tr>\n",
        "      <th>2014-08-30 20:41:01</th>\n",
        "      <td> 0</td>\n",
        "      <td> 0</td>\n",
        "      <td> 1</td>\n",
        "      <td> 1</td>\n",
        "      <td> 1</td>\n",
        "      <td> 2</td>\n",
        "      <td> 0</td>\n",
        "      <td> 0</td>\n",
        "      <td> 0</td>\n",
        "      <td> 1</td>\n",
        "      <td>...</td>\n",
        "      <td> 0</td>\n",
        "      <td> 1</td>\n",
        "      <td> 0</td>\n",
        "      <td> 0</td>\n",
        "      <td> 0</td>\n",
        "      <td> 0</td>\n",
        "      <td> 0</td>\n",
        "      <td> 0</td>\n",
        "      <td> 0</td>\n",
        "      <td> 0</td>\n",
        "    </tr>\n",
        "  </tbody>\n",
        "</table>\n",
        "<p>5 rows \u00d7 25 columns</p>\n",
        "</div>"
       ],
       "metadata": {},
       "output_type": "pyout",
       "prompt_number": 22,
       "text": [
        "wikipediaShort       ar  bg  co  de  el  en  eo  es  fa  fr ...  nl  pl  pt  \\\n",
        "timestamp                                                   ...               \n",
        "2014-08-30 20:40:57   0   0   0   0   0   3   0   1   0   0 ...   0   0   0   \n",
        "2014-08-30 20:40:58   0   0   1   0   0   0   0   0   0   0 ...   0   1   0   \n",
        "2014-08-30 20:40:59   0   0   0   0   2   2   0   0   0   0 ...   0   0   0   \n",
        "2014-08-30 20:41:00   1   0   1   0   0   2   0   0   0   1 ...   1   0   0   \n",
        "2014-08-30 20:41:01   0   0   1   1   1   2   0   0   0   1 ...   0   1   0   \n",
        "\n",
        "wikipediaShort       ro  ru  sv  tr  uk  wd  zh  \n",
        "timestamp                                        \n",
        "2014-08-30 20:40:57   0   0   0   0   0   1   0  \n",
        "2014-08-30 20:40:58   0   1   0   0   0   1   0  \n",
        "2014-08-30 20:40:59   1   0   0   0   0   0   0  \n",
        "2014-08-30 20:41:00   0   0   0   0   0   1   0  \n",
        "2014-08-30 20:41:01   0   0   0   0   0   0   0  \n",
        "\n",
        "[5 rows x 25 columns]"
       ]
      }
     ],
     "prompt_number": 22
    },
    {
     "cell_type": "markdown",
     "metadata": {},
     "source": [
      "## Visualizing activity over time\n",
      "\n",
      "This is easy, now we have the data in the right format."
     ]
    },
    {
     "cell_type": "code",
     "collapsed": false,
     "input": [
      "p = sec_counts.plot()"
     ],
     "language": "python",
     "metadata": {},
     "outputs": [
      {
       "metadata": {},
       "output_type": "display_data",
       "png": "[encoded data removed]",
       "text": [
        "<matplotlib.figure.Figure at 0x7faae1f45710>"
       ]
      }
     ],
     "prompt_number": 23
    },
    {
     "cell_type": "markdown",
     "metadata": {},
     "source": [
      "Not so easy to read! (Even without taking into account the terrible default legend placement.)\n",
      "\n",
      "What if we make it a cumulative sum instead, so we can see how activity 'mounts up' over time?\n",
      "\n",
      "That's much nicer. Although you'd really want to select just the most active or interesting wikis and show those, because with 20+ lines, the colours become hard to tell apart. This is left as an exercise :-)"
     ]
    },
    {
     "cell_type": "code",
     "collapsed": false,
     "input": [
      "p = sec_counts.cumsum().plot()"
     ],
     "language": "python",
     "metadata": {},
     "outputs": [
      {
       "metadata": {},
       "output_type": "display_data",
       "png": "[encoded data removed]",
       "text": [
        "<matplotlib.figure.Figure at 0x7faaf5adda58>"
       ]
      }
     ],
     "prompt_number": 24
    },
    {
     "cell_type": "markdown",
     "metadata": {},
     "source": [
      "## Training a model in real time with Vowpal Wabbit\n",
      "\n",
      "Here's the fun bit. We're going to restart the stream, and as the data comes in, we're going to feed it to [Vowpal Wabbit](https://github.com/JohnLangford/vowpal_wabbit) to incrementally train a language recognizer. Or more strictly, a wiki recognizer, as we want to teach it to distinguish e.g. French Wikipedia articles from Polish Wikipedia articles -- using only the distribution of characters, and character n-grams, in their titles.\n",
      "\n",
      "**Jargon buster:** Character n-grams, sometimes called shingles, are subsequences of length `n`. So if `n == 2`, it's all the consecutive pairs of characters in the input string.\n",
      "\n",
      "We'll use an adaptive online learning approach: only update the model when we find an example that it can't correctly identify already. VW makes this very efficient and effective.\n",
      "\n",
      "First let's define a helper function to generate character n-grams, for `n` from `n1` to `n2`. That is, if `n1 == 2` and `n2 == 4`, then you'll get bigrams, trigrams and tetragrams (is that a word?). If `n1 == 1`, as in the example below, you'll get all the individual characters too.\n",
      "\n",
      "The function returns an iterator over all the n-grams."
     ]
    },
    {
     "cell_type": "code",
     "collapsed": false,
     "input": [
      "def ngrams(text, k1, k2):\n",
      "    if k1 < 1:\n",
      "        raise ValueError('k1 must be 1 or more')\n",
      "    if k2 < k1:\n",
      "        raise ValueError('k2 must may not be less than k1')\n",
      "    return chain.from_iterable((text[i:i+n]\n",
      "                                for i in range(len(text) - (n-1)))\n",
      "                               for n in range(k1, k2+1))\n",
      "\n",
      "print(list(ngrams('the quick brown fox', 1, 2)))"
     ],
     "language": "python",
     "metadata": {},
     "outputs": [
      {
       "output_type": "stream",
       "stream": "stdout",
       "text": [
        "['t', 'h', 'e', ' ', 'q', 'u', 'i', 'c', 'k', ' ', 'b', 'r', 'o', 'w', 'n', ' ', 'f', 'o', 'x', 'th', 'he', 'e ', ' q', 'qu', 'ui', 'ic', 'ck', 'k ', ' b', 'br', 'ro', 'ow', 'wn', 'n ', ' f', 'fo', 'ox']\n"
       ]
      }
     ],
     "prompt_number": 25
    },
    {
     "cell_type": "markdown",
     "metadata": {},
     "source": [
      "The next function contains filtering logic, defining what kinds of edit we are interested in.\n",
      "\n",
      "We'll filter out Wikidata edits (wd), as these just have IDs, as well as Commons files (co), non-article pages like user homepages, and also English Wikipedia (en) -- to keep things interesting.\n",
      "\n",
      "The function returns just the page name (extracted from the URL) if it's one we want to keep, or `False` if it's not."
     ]
    },
    {
     "cell_type": "code",
     "collapsed": false,
     "input": [
      "def page_name(edit):\n",
      "    if edit['wikipediaShort'] == 'wd' or \\\n",
      "        edit['wikipediaShort'] == 'en' or \\\n",
      "        edit['wikipediaShort'] == 'co' or \\\n",
      "        edit['namespace'] == 'article':\n",
      "            return False\n",
      "    page_name = reg.match(edit['pageUrl']).group(1).lower()\n",
      "    size = len(page_name)\n",
      "    if size < 2:\n",
      "        return False\n",
      "    return page_name"
     ],
     "language": "python",
     "metadata": {},
     "outputs": [],
     "prompt_number": 28
    },
    {
     "cell_type": "markdown",
     "metadata": {},
     "source": [
      "We'll use a [ringbuffer](http://en.wikipedia.org/wiki/Circular_buffer) to keep track of predictions and actual values over the last `k` tests. In this kind of online learning scenario, we don't really worry how much about how the model *was* performing on historical data -- we just want to know that it *is* performing well on current data.\n",
      "\n",
      "Here are a few convenience functions for dealing with the ringbuffer, which is implemented as a Numpy array with `k` rows, and a column each for the actual and predicted values. It's initialized with -1 in every cell, so we can tell when a row has yet to be filled in.\n",
      "\n",
      "`add_entry` uses a Numpy trick (`np.roll`) to redefine the start and end of an array, while copying as little data as possible."
     ]
    },
    {
     "cell_type": "code",
     "collapsed": false,
     "input": [
      "# Create a new ringbuffer for the given number of predictions\n",
      "def new_ringbuffer(capacity):\n",
      "    return np.zeros((capacity, 2), dtype=np.int8) - 1\n",
      "\n",
      "# Calculate accuracy (% correct predictions) over those rows which have been filled in\n",
      "def accuracy(ringbuffer):\n",
      "    # Filter identifying rows which have been filled in\n",
      "    valid = np.sum(ringbuffer, axis=1) >= 0\n",
      "    # Filter identifying rows where prediction == correct value\n",
      "    matched = ringbuffer[:,0] == ringbuffer[:,1]\n",
      "    # Accuracy is number of rows which are valid AND matched, over number of valid rows\n",
      "    return np.sum(np.logical_and(valid, matched)) / np.sum(valid)\n",
      "\n",
      "# Return the number of valid (filled-in) rows\n",
      "def valid_size(ringbuffer):\n",
      "    return np.sum(np.sum(ringbuffer, axis=1) >= 0)\n",
      "\n",
      "# Add a new test result to the ringbuffer, deleting the oldest entry if necessary,\n",
      "# and returning a reference to the modified buffer\n",
      "def add_entry(ringbuffer, actual, predicted):\n",
      "    capacity = len(ringbuffer)\n",
      "    # Overwrite the bottom row of the array\n",
      "    ringbuffer[capacity-1, :] = (actual, predicted)\n",
      "    # Roll the newest entry around to the top of the array, pushing the rest down\n",
      "    return np.roll(ringbuffer, 1, axis=0)"
     ],
     "language": "python",
     "metadata": {},
     "outputs": [],
     "prompt_number": 29
    },
    {
     "cell_type": "markdown",
     "metadata": {},
     "source": [
      "All the action happens in the next cell.\n",
      "\n",
      "It starts the VW server with the appropriate options. If you get a memory allocation error, reduce the value of `hashbits`, although this may impact accuracy.\n",
      "\n",
      "It also defines and starts a new callback, which breaks the title of each page into n-grams, and tests them against the current model. If the model classified this edit's language correctly, we don't change it. But if it classifies incorrectly, we pass it the same edit as a training instance.\n",
      "\n",
      "The reported accuracy might fluctuate to begin with, but then should settle, and gradually rise (not necessarily in a monotonic way) as data comes in.\n",
      "\n",
      "*This may be an over-estimate of accuracy if multiple edits to the same page appear within the last `k` edits. For a more conservative estimate, we should filter out duplicates. But this is just a demo...*\n",
      "\n",
      "You can set a maximum number of training instances to process, or just **interrupt the kernel if you get bored of waiting**..."
     ]
    },
    {
     "cell_type": "code",
     "collapsed": false,
     "input": [
      "# How many classes to allow in the model (must be provided up front)\n",
      "max_expected_classes = 30\n",
      "\n",
      "# When to stop, if not interrupted\n",
      "max_edits = 1000\n",
      "\n",
      "# How many tests to calculate score over\n",
      "k = 500\n",
      "\n",
      "# Ringbuffer to hold results of each test\n",
      "rb = new_ringbuffer(k)\n",
      "\n",
      "# How many bits in range of VW hash function:\n",
      "# larger = potentially better accuracy but more memory\n",
      "hashbits = 24\n",
      "\n",
      "# How many edits we've processed\n",
      "edits = 0\n",
      "\n",
      "# List of the wiki names we've seen, to be populated as we go along\n",
      "labels = []\n",
      "\n",
      "# Maps each wiki name -> its index in labels list\n",
      "label_to_idx = {}\n",
      "\n",
      "def vw_callback(edit):\n",
      "    \n",
      "    name = page_name(edit)\n",
      "    if not name:\n",
      "        return True\n",
      "    \n",
      "    # Set up mappings for this wiki if this is the first time we've seen it\n",
      "    label = edit['wikipedia']\n",
      "    if label in label_to_idx:\n",
      "        idx = label_to_idx[label]\n",
      "    else:\n",
      "        # If we have exhausted our preset class limit, just skip it! Bit kludgey...\n",
      "        if len(labels) == max_expected_classes:\n",
      "            print(\"Ignoring class %d\" % len(labels))\n",
      "            return True\n",
      "        labels.append(label)\n",
      "        idx = len(labels) - 1\n",
      "        label_to_idx[label] = idx\n",
      "\n",
      "    # Generate features -- currently char unigrams and bigrams\n",
      "    features = list(ngrams(name, 1, 2))\n",
      "\n",
      "    # Test example first -- does model get it right? If not, train on it\n",
      "    prediction = int(vw.get_prediction(features=features).prediction) - 1 # NB VW FEATURE LABELS START AT 1\n",
      "    \n",
      "    # Add prediction to ringbuffer\n",
      "    global rb\n",
      "    rb = add_entry(rb, idx, prediction)\n",
      "    \n",
      "    # If prediction was wrong, train on this example\n",
      "    if idx != prediction:\n",
      "\n",
      "        global edits\n",
      "        tests_run = valid_size(rb)\n",
      "        print('Trained: %d, Tested: %d, Prediction: %s, Actual: %s, Last-%d Accuracy: %0.3f'\n",
      "              % (edits, tests_run, labels[prediction], labels[idx], tests_run, accuracy(rb)))\n",
      "        \n",
      "        raw_line = vw.make_line(idx+1, features=features) # NB VW FEATURE LABELS START AT 1\n",
      "        vw.send_line(raw_line)\n",
      "        edits += 1\n",
      "\n",
      "        # Stop if we've hit max_edits\n",
      "        return edits < max_edits\n",
      "    \n",
      "    return True\n",
      "\n",
      "# Start up local VW process\n",
      "vw = VW(loss_function='logistic', b=hashbits, ect=max_expected_classes, hash='all')\n",
      "print(vw.command)\n",
      "\n",
      "wikipedia_updates(vw_callback)"
     ],
     "language": "python",
     "metadata": {},
     "outputs": [
      {
       "output_type": "stream",
       "stream": "stdout",
       "text": [
        "vw --save_resume --loss_function logistic --hash all -b 24 --quiet --predictions /dev/stdout --ect 30\n",
        "Trained: 0, Tested: 2, Prediction: Farsi Wikipedia, Actual: Finnish Wikipedia, Last-2 Accuracy: 0.500"
       ]
      },
      {
       "output_type": "stream",
       "stream": "stdout",
       "text": [
        "\n",
        "Trained: 1, Tested: 3, Prediction: Finnish Wikipedia, Actual: Portuguese Wikipedia, Last-3 Accuracy: 0.333\n",
        "Trained: 2, Tested: 4, Prediction: Portuguese Wikipedia, Actual: Polish Wikipedia, Last-4 Accuracy: 0.250"
       ]
      },
      {
       "output_type": "stream",
       "stream": "stdout",
       "text": [
        "\n",
        "Trained: 3, Tested: 5, Prediction: Polish Wikipedia, Actual: Hebrew Wikipedia, Last-5 Accuracy: 0.200"
       ]
      },
      {
       "output_type": "stream",
       "stream": "stdout",
       "text": [
        "\n",
        "Trained: 4, Tested: 6, Prediction: Finnish Wikipedia, Actual: Russian Wikipedia, Last-6 Accuracy: 0.167"
       ]
      },
      {
       "output_type": "stream",
       "stream": "stdout",
       "text": [
        "\n",
        "Trained: 5, Tested: 7, Prediction: Portuguese Wikipedia, Actual: German Wikipedia, Last-7 Accuracy: 0.143"
       ]
      },
      {
       "output_type": "stream",
       "stream": "stdout",
       "text": [
        "\n",
        "Trained: 6, Tested: 8, Prediction: Portuguese Wikipedia, Actual: German Wikipedia, Last-8 Accuracy: 0.125"
       ]
      },
      {
       "output_type": "stream",
       "stream": "stdout",
       "text": [
        "\n",
        "Trained: 7, Tested: 9, Prediction: Portuguese Wikipedia, Actual: Spanish Wikipedia, Last-9 Accuracy: 0.111"
       ]
      },
      {
       "output_type": "stream",
       "stream": "stdout",
       "text": [
        "\n",
        "Trained: 8, Tested: 10, Prediction: Portuguese Wikipedia, Actual: French Wikipedia, Last-10 Accuracy: 0.100"
       ]
      },
      {
       "output_type": "stream",
       "stream": "stdout",
       "text": [
        "\n",
        "Trained: 9, Tested: 11, Prediction: German Wikipedia, Actual: Italian Wikipedia, Last-11 Accuracy: 0.091"
       ]
      },
      {
       "output_type": "stream",
       "stream": "stdout",
       "text": [
        "\n",
        "Trained: 10, Tested: 12, Prediction: German Wikipedia, Actual: Turkish Wikipedia, Last-12 Accuracy: 0.083"
       ]
      },
      {
       "output_type": "stream",
       "stream": "stdout",
       "text": [
        "\n",
        "Trained: 11, Tested: 18, Prediction: Italian Wikipedia, Actual: German Wikipedia, Last-18 Accuracy: 0.333"
       ]
      },
      {
       "output_type": "stream",
       "stream": "stdout",
       "text": [
        "\n",
        "Trained: 12, Tested: 23, Prediction: German Wikipedia, Actual: Italian Wikipedia, Last-23 Accuracy: 0.435"
       ]
      },
      {
       "output_type": "stream",
       "stream": "stdout",
       "text": [
        "\n",
        "Trained: 13, Tested: 24, Prediction: German Wikipedia, Actual: Swedish Wikipedia, Last-24 Accuracy: 0.417"
       ]
      },
      {
       "output_type": "stream",
       "stream": "stdout",
       "text": [
        "\n",
        "Trained: 14, Tested: 25, Prediction: Portuguese Wikipedia, Actual: French Wikipedia, Last-25 Accuracy: 0.400"
       ]
      },
      {
       "output_type": "stream",
       "stream": "stdout",
       "text": [
        "\n",
        "Trained: 15, Tested: 26, Prediction: Italian Wikipedia, Actual: French Wikipedia, Last-26 Accuracy: 0.385"
       ]
      },
      {
       "output_type": "stream",
       "stream": "stdout",
       "text": [
        "\n",
        "Trained: 16, Tested: 27, Prediction: French Wikipedia, Actual: Farsi Wikipedia, Last-27 Accuracy: 0.370"
       ]
      },
      {
       "output_type": "stream",
       "stream": "stdout",
       "text": [
        "\n",
        "Trained: 17, Tested: 28, Prediction: Italian Wikipedia, Actual: German Wikipedia, Last-28 Accuracy: 0.357"
       ]
      },
      {
       "output_type": "stream",
       "stream": "stdout",
       "text": [
        "\n",
        "Trained: 18, Tested: 29, Prediction: German Wikipedia, Actual: Hungarian Wikipedia, Last-29 Accuracy: 0.345"
       ]
      },
      {
       "output_type": "stream",
       "stream": "stdout",
       "text": [
        "\n",
        "Trained: 19, Tested: 34, Prediction: German Wikipedia, Actual: French Wikipedia, Last-34 Accuracy: 0.412"
       ]
      },
      {
       "output_type": "stream",
       "stream": "stdout",
       "text": [
        "\n",
        "Trained: 20, Tested: 35, Prediction: German Wikipedia, Actual: Russian Wikipedia, Last-35 Accuracy: 0.400"
       ]
      },
      {
       "output_type": "stream",
       "stream": "stdout",
       "text": [
        "\n",
        "Trained: 21, Tested: 36, Prediction: Italian Wikipedia, Actual: Dutch Wikipedia, Last-36 Accuracy: 0.389"
       ]
      },
      {
       "output_type": "stream",
       "stream": "stdout",
       "text": [
        "\n",
        "Trained: 22, Tested: 37, Prediction: French Wikipedia, Actual: Spanish Wikipedia, Last-37 Accuracy: 0.378"
       ]
      },
      {
       "output_type": "stream",
       "stream": "stdout",
       "text": [
        "\n",
        "Trained: 23, Tested: 38, Prediction: Dutch Wikipedia, Actual: Portuguese Wikipedia, Last-38 Accuracy: 0.368"
       ]
      },
      {
       "output_type": "stream",
       "stream": "stdout",
       "text": [
        "\n",
        "Trained: 24, Tested: 41, Prediction: Portuguese Wikipedia, Actual: German Wikipedia, Last-41 Accuracy: 0.390"
       ]
      },
      {
       "output_type": "stream",
       "stream": "stdout",
       "text": [
        "\n",
        "Trained: 25, Tested: 42, Prediction: Russian Wikipedia, Actual: Greek Wikipedia, Last-42 Accuracy: 0.381"
       ]
      },
      {
       "output_type": "stream",
       "stream": "stdout",
       "text": [
        "\n",
        "Trained: 26, Tested: 43, Prediction: Portuguese Wikipedia, Actual: French Wikipedia, Last-43 Accuracy: 0.372"
       ]
      },
      {
       "output_type": "stream",
       "stream": "stdout",
       "text": [
        "\n",
        "Trained: 27, Tested: 45, Prediction: German Wikipedia, Actual: Italian Wikipedia, Last-45 Accuracy: 0.378"
       ]
      },
      {
       "output_type": "stream",
       "stream": "stdout",
       "text": [
        "\n",
        "Trained: 28, Tested: 46, Prediction: Portuguese Wikipedia, Actual: Polish Wikipedia, Last-46 Accuracy: 0.370"
       ]
      },
      {
       "output_type": "stream",
       "stream": "stdout",
       "text": [
        "\n",
        "Trained: 29, Tested: 47, Prediction: Portuguese Wikipedia, Actual: German Wikipedia, Last-47 Accuracy: 0.362"
       ]
      },
      {
       "output_type": "stream",
       "stream": "stdout",
       "text": [
        "\n",
        "Trained: 30, Tested: 48, Prediction: Portuguese Wikipedia, Actual: Finnish Wikipedia, Last-48 Accuracy: 0.354\n",
        "Trained: 31, Tested: 50, Prediction: Finnish Wikipedia, Actual: Romanian Wikipedia, Last-50 Accuracy: 0.360"
       ]
      },
      {
       "output_type": "stream",
       "stream": "stdout",
       "text": [
        "\n",
        "Trained: 32, Tested: 53, Prediction: Portuguese Wikipedia, Actual: Japanese Wikipedia, Last-53 Accuracy: 0.377"
       ]
      },
      {
       "output_type": "stream",
       "stream": "stdout",
       "text": [
        "\n",
        "Trained: 33, Tested: 55, Prediction: Romanian Wikipedia, Actual: French Wikipedia, Last-55 Accuracy: 0.382"
       ]
      },
      {
       "output_type": "stream",
       "stream": "stdout",
       "text": [
        "\n",
        "Trained: 34, Tested: 56, Prediction: Romanian Wikipedia, Actual: Italian Wikipedia, Last-56 Accuracy: 0.375"
       ]
      },
      {
       "output_type": "stream",
       "stream": "stdout",
       "text": [
        "\n",
        "Trained: 35, Tested: 58, Prediction: Italian Wikipedia, Actual: Turkish Wikipedia, Last-58 Accuracy: 0.379"
       ]
      },
      {
       "output_type": "stream",
       "stream": "stdout",
       "text": [
        "\n",
        "Trained: 36, Tested: 61, Prediction: Russian Wikipedia, Actual: Ukrainian Wikipedia, Last-61 Accuracy: 0.393"
       ]
      },
      {
       "output_type": "stream",
       "stream": "stdout",
       "text": [
        "\n",
        "Trained: 37, Tested: 65, Prediction: Portuguese Wikipedia, Actual: Polish Wikipedia, Last-65 Accuracy: 0.415"
       ]
      },
      {
       "output_type": "stream",
       "stream": "stdout",
       "text": [
        "\n",
        "Trained: 38, Tested: 66, Prediction: Portuguese Wikipedia, Actual: Spanish Wikipedia, Last-66 Accuracy: 0.409"
       ]
      },
      {
       "output_type": "stream",
       "stream": "stdout",
       "text": [
        "\n",
        "Trained: 39, Tested: 69, Prediction: Portuguese Wikipedia, Actual: Arabic Wikipedia, Last-69 Accuracy: 0.420"
       ]
      },
      {
       "output_type": "stream",
       "stream": "stdout",
       "text": [
        "\n",
        "Trained: 40, Tested: 71, Prediction: Polish Wikipedia, Actual: German Wikipedia, Last-71 Accuracy: 0.423"
       ]
      },
      {
       "output_type": "stream",
       "stream": "stdout",
       "text": [
        "\n",
        "Trained: 41, Tested: 72, Prediction: Russian Wikipedia, Actual: Ukrainian Wikipedia, Last-72 Accuracy: 0.417"
       ]
      },
      {
       "output_type": "stream",
       "stream": "stdout",
       "text": [
        "\n",
        "Trained: 42, Tested: 73, Prediction: German Wikipedia, Actual: French Wikipedia, Last-73 Accuracy: 0.411"
       ]
      },
      {
       "output_type": "stream",
       "stream": "stdout",
       "text": [
        "\n",
        "Trained: 43, Tested: 76, Prediction: German Wikipedia, Actual: Chinese Wikipedia, Last-76 Accuracy: 0.421"
       ]
      },
      {
       "output_type": "stream",
       "stream": "stdout",
       "text": [
        "\n",
        "Trained: 44, Tested: 78, Prediction: Portuguese Wikipedia, Actual: Farsi Wikipedia, Last-78 Accuracy: 0.423"
       ]
      },
      {
       "output_type": "stream",
       "stream": "stdout",
       "text": [
        "\n",
        "Trained: 45, Tested: 79, Prediction: German Wikipedia, Actual: Spanish Wikipedia, Last-79 Accuracy: 0.418"
       ]
      },
      {
       "output_type": "stream",
       "stream": "stdout",
       "text": [
        "\n",
        "Trained: 46, Tested: 82, Prediction: Spanish Wikipedia, Actual: Swedish Wikipedia, Last-82 Accuracy: 0.427"
       ]
      },
      {
       "output_type": "stream",
       "stream": "stdout",
       "text": [
        "\n",
        "Trained: 47, Tested: 84, Prediction: Polish Wikipedia, Actual: Spanish Wikipedia, Last-84 Accuracy: 0.429"
       ]
      },
      {
       "output_type": "stream",
       "stream": "stdout",
       "text": [
        "\n",
        "Trained: 48, Tested: 89, Prediction: German Wikipedia, Actual: Polish Wikipedia, Last-89 Accuracy: 0.449"
       ]
      },
      {
       "output_type": "stream",
       "stream": "stdout",
       "text": [
        "\n",
        "Trained: 49, Tested: 90, Prediction: Spanish Wikipedia, Actual: Swedish Wikipedia, Last-90 Accuracy: 0.444"
       ]
      },
      {
       "output_type": "stream",
       "stream": "stdout",
       "text": [
        "\n",
        "Trained: 50, Tested: 91, Prediction: Spanish Wikipedia, Actual: German Wikipedia, Last-91 Accuracy: 0.440"
       ]
      },
      {
       "output_type": "stream",
       "stream": "stdout",
       "text": [
        "\n",
        "Trained: 51, Tested: 92, Prediction: Portuguese Wikipedia, Actual: French Wikipedia, Last-92 Accuracy: 0.435"
       ]
      },
      {
       "output_type": "stream",
       "stream": "stdout",
       "text": [
        "\n",
        "Trained: 52, Tested: 96, Prediction: French Wikipedia, Actual: Portuguese Wikipedia, Last-96 Accuracy: 0.448"
       ]
      },
      {
       "output_type": "stream",
       "stream": "stdout",
       "text": [
        "\n",
        "Trained: 53, Tested: 98, Prediction: Portuguese Wikipedia, Actual: Turkish Wikipedia, Last-98 Accuracy: 0.449"
       ]
      },
      {
       "output_type": "stream",
       "stream": "stdout",
       "text": [
        "\n",
        "Trained: 54, Tested: 100, Prediction: German Wikipedia, Actual: French Wikipedia, Last-100 Accuracy: 0.450"
       ]
      },
      {
       "output_type": "stream",
       "stream": "stdout",
       "text": [
        "\n",
        "Trained: 55, Tested: 101, Prediction: French Wikipedia, Actual: German Wikipedia, Last-101 Accuracy: 0.446"
       ]
      },
      {
       "output_type": "stream",
       "stream": "stdout",
       "text": [
        "\n",
        "Trained: 56, Tested: 105, Prediction: German Wikipedia, Actual: Dutch Wikipedia, Last-105 Accuracy: 0.457"
       ]
      },
      {
       "output_type": "stream",
       "stream": "stdout",
       "text": [
        "\n",
        "Trained: 57, Tested: 111, Prediction: French Wikipedia, Actual: Portuguese Wikipedia, Last-111 Accuracy: 0.477"
       ]
      },
      {
       "output_type": "stream",
       "stream": "stdout",
       "text": [
        "\n",
        "Trained: 58, Tested: 122, Prediction: Portuguese Wikipedia, Actual: Japanese Wikipedia, Last-122 Accuracy: 0.516"
       ]
      },
      {
       "output_type": "stream",
       "stream": "stdout",
       "text": [
        "\n",
        "Trained: 59, Tested: 127, Prediction: Portuguese Wikipedia, Actual: German Wikipedia, Last-127 Accuracy: 0.528"
       ]
      },
      {
       "output_type": "stream",
       "stream": "stdout",
       "text": [
        "\n",
        "Trained: 60, Tested: 129, Prediction: French Wikipedia, Actual: Spanish Wikipedia, Last-129 Accuracy: 0.527"
       ]
      },
      {
       "output_type": "stream",
       "stream": "stdout",
       "text": [
        "\n",
        "Trained: 61, Tested: 130, Prediction: Portuguese Wikipedia, Actual: Spanish Wikipedia, Last-130 Accuracy: 0.523\n",
        "Trained: 62, Tested: 131, Prediction: Spanish Wikipedia, Actual: French Wikipedia, Last-131 Accuracy: 0.519"
       ]
      },
      {
       "output_type": "stream",
       "stream": "stdout",
       "text": [
        "\n",
        "Trained: 63, Tested: 135, Prediction: French Wikipedia, Actual: Catalan Wikipedia, Last-135 Accuracy: 0.526"
       ]
      },
      {
       "output_type": "stream",
       "stream": "stdout",
       "text": [
        "\n",
        "Trained: 64, Tested: 136, Prediction: German Wikipedia, Actual: Finnish Wikipedia, Last-136 Accuracy: 0.522"
       ]
      },
      {
       "output_type": "stream",
       "stream": "stdout",
       "text": [
        "\n",
        "Trained: 65, Tested: 138, Prediction: Spanish Wikipedia, Actual: Turkish Wikipedia, Last-138 Accuracy: 0.522"
       ]
      },
      {
       "output_type": "stream",
       "stream": "stdout",
       "text": [
        "\n",
        "Trained: 66, Tested: 140, Prediction: French Wikipedia, Actual: Italian Wikipedia, Last-140 Accuracy: 0.521"
       ]
      },
      {
       "output_type": "stream",
       "stream": "stdout",
       "text": [
        "\n",
        "Trained: 67, Tested: 141, Prediction: Ukrainian Wikipedia, Actual: Russian Wikipedia, Last-141 Accuracy: 0.518\n",
        "Trained: 68, Tested: 143, Prediction: Spanish Wikipedia, Actual: Swedish Wikipedia, Last-143 Accuracy: 0.517"
       ]
      },
      {
       "output_type": "stream",
       "stream": "stdout",
       "text": [
        "\n",
        "Trained: 69, Tested: 144, Prediction: Italian Wikipedia, Actual: German Wikipedia, Last-144 Accuracy: 0.514"
       ]
      },
      {
       "output_type": "stream",
       "stream": "stdout",
       "text": [
        "\n",
        "Trained: 70, Tested: 146, Prediction: Spanish Wikipedia, Actual: Catalan Wikipedia, Last-146 Accuracy: 0.514"
       ]
      },
      {
       "output_type": "stream",
       "stream": "stdout",
       "text": [
        "\n",
        "Trained: 71, Tested: 147, Prediction: German Wikipedia, Actual: Bulgarian Wikipedia, Last-147 Accuracy: 0.510"
       ]
      },
      {
       "output_type": "stream",
       "stream": "stdout",
       "text": [
        "\n",
        "Trained: 72, Tested: 150, Prediction: German Wikipedia, Actual: Dutch Wikipedia, Last-150 Accuracy: 0.513"
       ]
      },
      {
       "output_type": "stream",
       "stream": "stdout",
       "text": [
        "\n",
        "Trained: 73, Tested: 153, Prediction: German Wikipedia, Actual: Italian Wikipedia, Last-153 Accuracy: 0.516"
       ]
      },
      {
       "output_type": "stream",
       "stream": "stdout",
       "text": [
        "\n",
        "Trained: 74, Tested: 154, Prediction: Spanish Wikipedia, Actual: Portuguese Wikipedia, Last-154 Accuracy: 0.513"
       ]
      },
      {
       "output_type": "stream",
       "stream": "stdout",
       "text": [
        "\n",
        "Trained: 75, Tested: 155, Prediction: Swedish Wikipedia, Actual: German Wikipedia, Last-155 Accuracy: 0.510"
       ]
      },
      {
       "output_type": "stream",
       "stream": "stdout",
       "text": [
        "\n",
        "Trained: 76, Tested: 156, Prediction: German Wikipedia, Actual: Russian Wikipedia, Last-156 Accuracy: 0.506"
       ]
      },
      {
       "output_type": "stream",
       "stream": "stdout",
       "text": [
        "\n",
        "Trained: 77, Tested: 158, Prediction: German Wikipedia, Actual: Slovak Wikipedia, Last-158 Accuracy: 0.506"
       ]
      },
      {
       "output_type": "stream",
       "stream": "stdout",
       "text": [
        "\n",
        "Trained: 78, Tested: 160, Prediction: German Wikipedia, Actual: Hungarian Wikipedia, Last-160 Accuracy: 0.506"
       ]
      },
      {
       "output_type": "stream",
       "stream": "stdout",
       "text": [
        "\n",
        "Trained: 79, Tested: 161, Prediction: Swedish Wikipedia, Actual: Italian Wikipedia, Last-161 Accuracy: 0.503"
       ]
      },
      {
       "output_type": "stream",
       "stream": "stdout",
       "text": [
        "\n",
        "Trained: 80, Tested: 162, Prediction: Portuguese Wikipedia, Actual: Danish Wikipedia, Last-162 Accuracy: 0.500"
       ]
      },
      {
       "output_type": "stream",
       "stream": "stdout",
       "text": [
        "\n",
        "Trained: 81, Tested: 167, Prediction: Italian Wikipedia, Actual: German Wikipedia, Last-167 Accuracy: 0.509"
       ]
      },
      {
       "output_type": "stream",
       "stream": "stdout",
       "text": [
        "\n",
        "Trained: 82, Tested: 168, Prediction: German Wikipedia, Actual: Chinese Wikipedia, Last-168 Accuracy: 0.506"
       ]
      },
      {
       "output_type": "stream",
       "stream": "stdout",
       "text": [
        "\n",
        "Trained: 83, Tested: 171, Prediction: Italian Wikipedia, Actual: French Wikipedia, Last-171 Accuracy: 0.509"
       ]
      },
      {
       "output_type": "stream",
       "stream": "stdout",
       "text": [
        "\n",
        "Trained: 84, Tested: 172, Prediction: Spanish Wikipedia, Actual: Portuguese Wikipedia, Last-172 Accuracy: 0.506\n",
        "Trained: 85, Tested: 175, Prediction: German Wikipedia, Actual: Spanish Wikipedia, Last-175 Accuracy: 0.509"
       ]
      },
      {
       "output_type": "stream",
       "stream": "stdout",
       "text": [
        "\n",
        "Trained: 86, Tested: 178, Prediction: Catalan Wikipedia, Actual: Portuguese Wikipedia, Last-178 Accuracy: 0.511"
       ]
      },
      {
       "output_type": "stream",
       "stream": "stdout",
       "text": [
        "\n",
        "Trained: 87, Tested: 179, Prediction: Portuguese Wikipedia, Actual: Polish Wikipedia, Last-179 Accuracy: 0.508"
       ]
      },
      {
       "output_type": "stream",
       "stream": "stdout",
       "text": [
        "\n",
        "Trained: 88, Tested: 184, Prediction: German Wikipedia, Actual: Arabic Wikipedia, Last-184 Accuracy: 0.516"
       ]
      },
      {
       "output_type": "stream",
       "stream": "stdout",
       "text": [
        "\n",
        "Trained: 89, Tested: 185, Prediction: German Wikipedia, Actual: French Wikipedia, Last-185 Accuracy: 0.514"
       ]
      },
      {
       "output_type": "stream",
       "stream": "stdout",
       "text": [
        "\n",
        "Trained: 90, Tested: 186, Prediction: Portuguese Wikipedia, Actual: Polish Wikipedia, Last-186 Accuracy: 0.511"
       ]
      },
      {
       "output_type": "stream",
       "stream": "stdout",
       "text": [
        "\n",
        "Trained: 91, Tested: 187, Prediction: Portuguese Wikipedia, Actual: Italian Wikipedia, Last-187 Accuracy: 0.508"
       ]
      },
      {
       "output_type": "stream",
       "stream": "stdout",
       "text": [
        "\n",
        "Trained: 92, Tested: 188, Prediction: Polish Wikipedia, Actual: German Wikipedia, Last-188 Accuracy: 0.505"
       ]
      },
      {
       "output_type": "stream",
       "stream": "stdout",
       "text": [
        "\n",
        "Trained: 93, Tested: 195, Prediction: Portuguese Wikipedia, Actual: Italian Wikipedia, Last-195 Accuracy: 0.518"
       ]
      },
      {
       "output_type": "stream",
       "stream": "stdout",
       "text": [
        "\n",
        "Trained: 94, Tested: 196, Prediction: French Wikipedia, Actual: German Wikipedia, Last-196 Accuracy: 0.515"
       ]
      },
      {
       "output_type": "stream",
       "stream": "stdout",
       "text": [
        "\n",
        "Trained: 95, Tested: 197, Prediction: German Wikipedia, Actual: Portuguese Wikipedia, Last-197 Accuracy: 0.513"
       ]
      },
      {
       "output_type": "stream",
       "stream": "stdout",
       "text": [
        "\n",
        "Trained: 96, Tested: 201, Prediction: Portuguese Wikipedia, Actual: Polish Wikipedia, Last-201 Accuracy: 0.517"
       ]
      },
      {
       "output_type": "stream",
       "stream": "stdout",
       "text": [
        "\n",
        "Trained: 97, Tested: 202, Prediction: Portuguese Wikipedia, Actual: Spanish Wikipedia, Last-202 Accuracy: 0.515"
       ]
      },
      {
       "output_type": "stream",
       "stream": "stdout",
       "text": [
        "\n",
        "Trained: 98, Tested: 205, Prediction: German Wikipedia, Actual: Finnish Wikipedia, Last-205 Accuracy: 0.517"
       ]
      },
      {
       "output_type": "stream",
       "stream": "stdout",
       "text": [
        "\n",
        "Trained: 99, Tested: 208, Prediction: Polish Wikipedia, Actual: Farsi Wikipedia, Last-208 Accuracy: 0.519"
       ]
      },
      {
       "output_type": "stream",
       "stream": "stdout",
       "text": [
        "\n",
        "Trained: 100, Tested: 211, Prediction: Portuguese Wikipedia, Actual: French Wikipedia, Last-211 Accuracy: 0.521"
       ]
      },
      {
       "output_type": "stream",
       "stream": "stdout",
       "text": [
        "\n",
        "Trained: 101, Tested: 212, Prediction: French Wikipedia, Actual: German Wikipedia, Last-212 Accuracy: 0.519"
       ]
      },
      {
       "output_type": "stream",
       "stream": "stdout",
       "text": [
        "\n",
        "Trained: 102, Tested: 214, Prediction: Portuguese Wikipedia, Actual: Spanish Wikipedia, Last-214 Accuracy: 0.519\n",
        "Trained: 103, Tested: 216, Prediction: Italian Wikipedia, Actual: French Wikipedia, Last-216 Accuracy: 0.519"
       ]
      },
      {
       "output_type": "stream",
       "stream": "stdout",
       "text": [
        "\n",
        "Trained: 104, Tested: 223, Prediction: Portuguese Wikipedia, Actual: Hungarian Wikipedia, Last-223 Accuracy: 0.529"
       ]
      },
      {
       "output_type": "stream",
       "stream": "stdout",
       "text": [
        "\n",
        "Trained: 105, Tested: 226, Prediction: Spanish Wikipedia, Actual: French Wikipedia, Last-226 Accuracy: 0.531"
       ]
      },
      {
       "output_type": "stream",
       "stream": "stdout",
       "text": [
        "\n",
        "Trained: 106, Tested: 227, Prediction: Portuguese Wikipedia, Actual: Lithuanian Wikipedia, Last-227 Accuracy: 0.529"
       ]
      },
      {
       "output_type": "stream",
       "stream": "stdout",
       "text": [
        "\n",
        "Trained: 107, Tested: 228, Prediction: Spanish Wikipedia, Actual: Russian Wikipedia, Last-228 Accuracy: 0.526"
       ]
      },
      {
       "output_type": "stream",
       "stream": "stdout",
       "text": [
        "\n",
        "Trained: 108, Tested: 230, Prediction: Portuguese Wikipedia, Actual: Swedish Wikipedia, Last-230 Accuracy: 0.526"
       ]
      },
      {
       "output_type": "stream",
       "stream": "stdout",
       "text": [
        "\n",
        "Trained: 109, Tested: 237, Prediction: Portuguese Wikipedia, Actual: Norwegian Wikipedia, Last-237 Accuracy: 0.536"
       ]
      },
      {
       "output_type": "stream",
       "stream": "stdout",
       "text": [
        "\n",
        "Trained: 110, Tested: 243, Prediction: Spanish Wikipedia, Actual: French Wikipedia, Last-243 Accuracy: 0.543"
       ]
      },
      {
       "output_type": "stream",
       "stream": "stdout",
       "text": [
        "\n",
        "Trained: 111, Tested: 261, Prediction: Polish Wikipedia, Actual: Indonesian Wikipedia, Last-261 Accuracy: 0.571"
       ]
      },
      {
       "output_type": "stream",
       "stream": "stdout",
       "text": [
        "\n",
        "Trained: 112, Tested: 262, Prediction: Spanish Wikipedia, Actual: Portuguese Wikipedia, Last-262 Accuracy: 0.569"
       ]
      },
      {
       "output_type": "stream",
       "stream": "stdout",
       "text": [
        "\n",
        "Trained: 113, Tested: 264, Prediction: Portuguese Wikipedia, Actual: Czech Wikipedia, Last-264 Accuracy: 0.568"
       ]
      },
      {
       "output_type": "stream",
       "stream": "stdout",
       "text": [
        "\n",
        "Trained: 114, Tested: 268, Prediction: Spanish Wikipedia, Actual: Swedish Wikipedia, Last-268 Accuracy: 0.571"
       ]
      },
      {
       "output_type": "stream",
       "stream": "stdout",
       "text": [
        "\n",
        "Trained: 115, Tested: 270, Prediction: Portuguese Wikipedia, Actual: Spanish Wikipedia, Last-270 Accuracy: 0.570"
       ]
      },
      {
       "output_type": "stream",
       "stream": "stdout",
       "text": [
        "\n",
        "Trained: 116, Tested: 276, Prediction: Spanish Wikipedia, Actual: Hungarian Wikipedia, Last-276 Accuracy: 0.576"
       ]
      },
      {
       "output_type": "stream",
       "stream": "stdout",
       "text": [
        "\n",
        "Trained: 117, Tested: 279, Prediction: Spanish Wikipedia, Actual: Hebrew Wikipedia, Last-279 Accuracy: 0.577"
       ]
      },
      {
       "output_type": "stream",
       "stream": "stdout",
       "text": [
        "\n",
        "Trained: 118, Tested: 280, Prediction: French Wikipedia, Actual: Dutch Wikipedia, Last-280 Accuracy: 0.575"
       ]
      },
      {
       "output_type": "stream",
       "stream": "stdout",
       "text": [
        "\n",
        "Trained: 119, Tested: 282, Prediction: Spanish Wikipedia, Actual: French Wikipedia, Last-282 Accuracy: 0.574"
       ]
      },
      {
       "output_type": "stream",
       "stream": "stdout",
       "text": [
        "\n",
        "Trained: 120, Tested: 285, Prediction: Spanish Wikipedia, Actual: Norwegian Wikipedia, Last-285 Accuracy: 0.575"
       ]
      },
      {
       "output_type": "stream",
       "stream": "stdout",
       "text": [
        "\n",
        "Trained: 121, Tested: 287, Prediction: Spanish Wikipedia, Actual: Swedish Wikipedia, Last-287 Accuracy: 0.575"
       ]
      },
      {
       "output_type": "stream",
       "stream": "stdout",
       "text": [
        "\n",
        "Trained: 122, Tested: 289, Prediction: Spanish Wikipedia, Actual: Portuguese Wikipedia, Last-289 Accuracy: 0.574"
       ]
      },
      {
       "output_type": "stream",
       "stream": "stdout",
       "text": [
        "\n",
        "Trained: 123, Tested: 292, Prediction: Farsi Wikipedia, Actual: Arabic Wikipedia, Last-292 Accuracy: 0.575"
       ]
      },
      {
       "output_type": "stream",
       "stream": "stdout",
       "text": [
        "\n",
        "Trained: 124, Tested: 293, Prediction: Spanish Wikipedia, Actual: French Wikipedia, Last-293 Accuracy: 0.573"
       ]
      },
      {
       "output_type": "stream",
       "stream": "stdout",
       "text": [
        "\n",
        "Trained: 125, Tested: 294, Prediction: Swedish Wikipedia, Actual: Norwegian Wikipedia, Last-294 Accuracy: 0.571"
       ]
      },
      {
       "output_type": "stream",
       "stream": "stdout",
       "text": [
        "\n",
        "Trained: 126, Tested: 300, Prediction: French Wikipedia, Actual: Polish Wikipedia, Last-300 Accuracy: 0.577"
       ]
      },
      {
       "output_type": "stream",
       "stream": "stdout",
       "text": [
        "\n",
        "Trained: 127, Tested: 306, Prediction: French Wikipedia, Actual: German Wikipedia, Last-306 Accuracy: 0.582"
       ]
      },
      {
       "output_type": "stream",
       "stream": "stdout",
       "text": [
        "\n",
        "Trained: 128, Tested: 307, Prediction: German Wikipedia, Actual: Russian Wikipedia, Last-307 Accuracy: 0.580"
       ]
      },
      {
       "output_type": "stream",
       "stream": "stdout",
       "text": [
        "\n",
        "Trained: 129, Tested: 308, Prediction: Spanish Wikipedia, Actual: German Wikipedia, Last-308 Accuracy: 0.578"
       ]
      },
      {
       "output_type": "stream",
       "stream": "stdout",
       "text": [
        "\n",
        "Trained: 130, Tested: 309, Prediction: Portuguese Wikipedia, Actual: Spanish Wikipedia, Last-309 Accuracy: 0.576\n",
        "Trained: 131, Tested: 310, Prediction: French Wikipedia, Actual: Dutch Wikipedia, Last-310 Accuracy: 0.574"
       ]
      },
      {
       "output_type": "stream",
       "stream": "stdout",
       "text": [
        "\n",
        "Trained: 132, Tested: 313, Prediction: French Wikipedia, Actual: Italian Wikipedia, Last-313 Accuracy: 0.575"
       ]
      },
      {
       "output_type": "stream",
       "stream": "stdout",
       "text": [
        "\n",
        "Trained: 133, Tested: 315, Prediction: Portuguese Wikipedia, Actual: Farsi Wikipedia, Last-315 Accuracy: 0.575"
       ]
      },
      {
       "output_type": "stream",
       "stream": "stdout",
       "text": [
        "\n",
        "Trained: 134, Tested: 335, Prediction: Spanish Wikipedia, Actual: Hungarian Wikipedia, Last-335 Accuracy: 0.597"
       ]
      },
      {
       "output_type": "stream",
       "stream": "stdout",
       "text": [
        "\n",
        "Trained: 135, Tested: 337, Prediction: Hungarian Wikipedia, Actual: Italian Wikipedia, Last-337 Accuracy: 0.596"
       ]
      },
      {
       "output_type": "stream",
       "stream": "stdout",
       "text": [
        "\n",
        "Trained: 136, Tested: 338, Prediction: Italian Wikipedia, Actual: German Wikipedia, Last-338 Accuracy: 0.595"
       ]
      },
      {
       "output_type": "stream",
       "stream": "stdout",
       "text": [
        "\n",
        "Trained: 137, Tested: 346, Prediction: Spanish Wikipedia, Actual: Portuguese Wikipedia, Last-346 Accuracy: 0.601"
       ]
      },
      {
       "output_type": "stream",
       "stream": "stdout",
       "text": [
        "\n",
        "Trained: 138, Tested: 348, Prediction: Portuguese Wikipedia, Actual: Arabic Wikipedia, Last-348 Accuracy: 0.601"
       ]
      },
      {
       "output_type": "stream",
       "stream": "stdout",
       "text": [
        "\n",
        "Trained: 139, Tested: 350, Prediction: Spanish Wikipedia, Actual: Ukrainian Wikipedia, Last-350 Accuracy: 0.600"
       ]
      },
      {
       "output_type": "stream",
       "stream": "stdout",
       "text": [
        "\n",
        "Trained: 140, Tested: 357, Prediction: French Wikipedia, Actual: Italian Wikipedia, Last-357 Accuracy: 0.605"
       ]
      },
      {
       "output_type": "stream",
       "stream": "stdout",
       "text": [
        "\n",
        "Trained: 141, Tested: 359, Prediction: Italian Wikipedia, Actual: French Wikipedia, Last-359 Accuracy: 0.604"
       ]
      },
      {
       "output_type": "stream",
       "stream": "stdout",
       "text": [
        "\n",
        "Trained: 142, Tested: 360, Prediction: French Wikipedia, Actual: German Wikipedia, Last-360 Accuracy: 0.603"
       ]
      },
      {
       "output_type": "stream",
       "stream": "stdout",
       "text": [
        "\n",
        "Trained: 143, Tested: 361, Prediction: Portuguese Wikipedia, Actual: Swedish Wikipedia, Last-361 Accuracy: 0.601"
       ]
      },
      {
       "output_type": "stream",
       "stream": "stdout",
       "text": [
        "\n",
        "Trained: 144, Tested: 367, Prediction: French Wikipedia, Actual: Dutch Wikipedia, Last-367 Accuracy: 0.605"
       ]
      },
      {
       "output_type": "stream",
       "stream": "stdout",
       "text": [
        "\n",
        "Trained: 145, Tested: 369, Prediction: German Wikipedia, Actual: Chinese Wikipedia, Last-369 Accuracy: 0.604"
       ]
      },
      {
       "output_type": "stream",
       "stream": "stdout",
       "text": [
        "\n",
        "Trained: 146, Tested: 373, Prediction: Italian Wikipedia, Actual: German Wikipedia, Last-373 Accuracy: 0.606"
       ]
      },
      {
       "output_type": "stream",
       "stream": "stdout",
       "text": [
        "\n",
        "Trained: 147, Tested: 383, Prediction: Spanish Wikipedia, Actual: Japanese Wikipedia, Last-383 Accuracy: 0.614"
       ]
      },
      {
       "output_type": "stream",
       "stream": "stdout",
       "text": [
        "\n",
        "Trained: 148, Tested: 384, Prediction: Spanish Wikipedia, Actual: French Wikipedia, Last-384 Accuracy: 0.612"
       ]
      },
      {
       "output_type": "stream",
       "stream": "stdout",
       "text": [
        "\n",
        "Trained: 149, Tested: 387, Prediction: French Wikipedia, Actual: Italian Wikipedia, Last-387 Accuracy: 0.612"
       ]
      },
      {
       "output_type": "stream",
       "stream": "stdout",
       "text": [
        "\n",
        "Trained: 150, Tested: 388, Prediction: Spanish Wikipedia, Actual: Portuguese Wikipedia, Last-388 Accuracy: 0.611"
       ]
      },
      {
       "output_type": "stream",
       "stream": "stdout",
       "text": [
        "\n",
        "Trained: 151, Tested: 392, Prediction: Portuguese Wikipedia, Actual: Spanish Wikipedia, Last-392 Accuracy: 0.612"
       ]
      },
      {
       "output_type": "stream",
       "stream": "stdout",
       "text": [
        "\n",
        "Trained: 152, Tested: 393, Prediction: German Wikipedia, Actual: Turkish Wikipedia, Last-393 Accuracy: 0.611"
       ]
      },
      {
       "output_type": "stream",
       "stream": "stdout",
       "text": [
        "\n",
        "Trained: 153, Tested: 395, Prediction: Spanish Wikipedia, Actual: Norwegian Wikipedia, Last-395 Accuracy: 0.610"
       ]
      },
      {
       "output_type": "stream",
       "stream": "stdout",
       "text": [
        "\n",
        "Trained: 154, Tested: 400, Prediction: Spanish Wikipedia, Actual: French Wikipedia, Last-400 Accuracy: 0.613"
       ]
      },
      {
       "output_type": "stream",
       "stream": "stdout",
       "text": [
        "\n",
        "Trained: 155, Tested: 402, Prediction: German Wikipedia, Actual: Turkish Wikipedia, Last-402 Accuracy: 0.612"
       ]
      },
      {
       "output_type": "stream",
       "stream": "stdout",
       "text": [
        "\n",
        "Trained: 156, Tested: 407, Prediction: German Wikipedia, Actual: Russian Wikipedia, Last-407 Accuracy: 0.614"
       ]
      },
      {
       "output_type": "stream",
       "stream": "stdout",
       "text": [
        "\n",
        "Trained: 157, Tested: 409, Prediction: Swedish Wikipedia, Actual: German Wikipedia, Last-409 Accuracy: 0.614"
       ]
      },
      {
       "output_type": "stream",
       "stream": "stdout",
       "text": [
        "\n",
        "Trained: 158, Tested: 418, Prediction: German Wikipedia, Actual: Swedish Wikipedia, Last-418 Accuracy: 0.620"
       ]
      },
      {
       "output_type": "stream",
       "stream": "stdout",
       "text": [
        "\n",
        "Trained: 159, Tested: 419, Prediction: German Wikipedia, Actual: Hungarian Wikipedia, Last-419 Accuracy: 0.618"
       ]
      },
      {
       "output_type": "stream",
       "stream": "stdout",
       "text": [
        "\n",
        "Trained: 160, Tested: 423, Prediction: Dutch Wikipedia, Actual: Greek Wikipedia, Last-423 Accuracy: 0.619"
       ]
      },
      {
       "output_type": "stream",
       "stream": "stdout",
       "text": [
        "\n",
        "Trained: 161, Tested: 431, Prediction: French Wikipedia, Actual: Italian Wikipedia, Last-431 Accuracy: 0.624"
       ]
      },
      {
       "output_type": "stream",
       "stream": "stdout",
       "text": [
        "\n",
        "Trained: 162, Tested: 432, Prediction: Italian Wikipedia, Actual: German Wikipedia, Last-432 Accuracy: 0.623"
       ]
      },
      {
       "output_type": "stream",
       "stream": "stdout",
       "text": [
        "\n",
        "Trained: 163, Tested: 433, Prediction: Spanish Wikipedia, Actual: Catalan Wikipedia, Last-433 Accuracy: 0.621"
       ]
      },
      {
       "output_type": "stream",
       "stream": "stdout",
       "text": [
        "\n",
        "Trained: 164, Tested: 435, Prediction: Italian Wikipedia, Actual: French Wikipedia, Last-435 Accuracy: 0.621"
       ]
      },
      {
       "output_type": "stream",
       "stream": "stdout",
       "text": [
        "\n",
        "Trained: 165, Tested: 437, Prediction: Arabic Wikipedia, Actual: Farsi Wikipedia, Last-437 Accuracy: 0.620"
       ]
      },
      {
       "output_type": "stream",
       "stream": "stdout",
       "text": [
        "\n",
        "Trained: 166, Tested: 446, Prediction: German Wikipedia, Actual: Turkish Wikipedia, Last-446 Accuracy: 0.626"
       ]
      },
      {
       "output_type": "stream",
       "stream": "stdout",
       "text": [
        "\n",
        "Trained: 167, Tested: 449, Prediction: Spanish Wikipedia, Actual: Portuguese Wikipedia, Last-449 Accuracy: 0.626"
       ]
      },
      {
       "output_type": "stream",
       "stream": "stdout",
       "text": [
        "\n",
        "Trained: 168, Tested: 453, Prediction: Italian Wikipedia, Actual: German Wikipedia, Last-453 Accuracy: 0.627"
       ]
      },
      {
       "output_type": "stream",
       "stream": "stdout",
       "text": [
        "\n",
        "Trained: 169, Tested: 461, Prediction: Portuguese Wikipedia, Actual: Polish Wikipedia, Last-461 Accuracy: 0.631"
       ]
      },
      {
       "output_type": "stream",
       "stream": "stdout",
       "text": [
        "\n",
        "Trained: 170, Tested: 473, Prediction: Italian Wikipedia, Actual: Spanish Wikipedia, Last-473 Accuracy: 0.638"
       ]
      },
      {
       "output_type": "stream",
       "stream": "stdout",
       "text": [
        "\n",
        "Trained: 171, Tested: 474, Prediction: French Wikipedia, Actual: Spanish Wikipedia, Last-474 Accuracy: 0.637\n",
        "Trained: 172, Tested: 477, Prediction: Portuguese Wikipedia, Actual: Spanish Wikipedia, Last-477 Accuracy: 0.637"
       ]
      },
      {
       "output_type": "stream",
       "stream": "stdout",
       "text": [
        "\n",
        "Trained: 173, Tested: 484, Prediction: Spanish Wikipedia, Actual: Portuguese Wikipedia, Last-484 Accuracy: 0.640"
       ]
      },
      {
       "output_type": "stream",
       "stream": "stdout",
       "text": [
        "\n",
        "Trained: 174, Tested: 489, Prediction: German Wikipedia, Actual: Polish Wikipedia, Last-489 Accuracy: 0.642"
       ]
      },
      {
       "output_type": "stream",
       "stream": "stdout",
       "text": [
        "\n",
        "Trained: 175, Tested: 492, Prediction: Spanish Wikipedia, Actual: Indonesian Wikipedia, Last-492 Accuracy: 0.642"
       ]
      },
      {
       "output_type": "stream",
       "stream": "stdout",
       "text": [
        "\n",
        "Trained: 176, Tested: 494, Prediction: Spanish Wikipedia, Actual: German Wikipedia, Last-494 Accuracy: 0.642"
       ]
      },
      {
       "output_type": "stream",
       "stream": "stdout",
       "text": [
        "\n",
        "Trained: 177, Tested: 496, Prediction: Spanish Wikipedia, Actual: Portuguese Wikipedia, Last-496 Accuracy: 0.641"
       ]
      },
      {
       "output_type": "stream",
       "stream": "stdout",
       "text": [
        "\n",
        "Trained: 178, Tested: 498, Prediction: German Wikipedia, Actual: Russian Wikipedia, Last-498 Accuracy: 0.641"
       ]
      },
      {
       "output_type": "stream",
       "stream": "stdout",
       "text": [
        "\n",
        "Trained: 179, Tested: 500, Prediction: German Wikipedia, Actual: French Wikipedia, Last-500 Accuracy: 0.656"
       ]
      },
      {
       "output_type": "stream",
       "stream": "stdout",
       "text": [
        "\n",
        "Trained: 180, Tested: 500, Prediction: Portuguese Wikipedia, Actual: Spanish Wikipedia, Last-500 Accuracy: 0.660"
       ]
      },
      {
       "output_type": "stream",
       "stream": "stdout",
       "text": [
        "\n",
        "Trained: 181, Tested: 500, Prediction: French Wikipedia, Actual: Catalan Wikipedia, Last-500 Accuracy: 0.660"
       ]
      },
      {
       "output_type": "stream",
       "stream": "stdout",
       "text": [
        "\n",
        "Trained: 182, Tested: 500, Prediction: German Wikipedia, Actual: Turkish Wikipedia, Last-500 Accuracy: 0.658"
       ]
      },
      {
       "output_type": "stream",
       "stream": "stdout",
       "text": [
        "\n",
        "Trained: 183, Tested: 500, Prediction: Polish Wikipedia, Actual: Esperanto Wikipedia, Last-500 Accuracy: 0.662"
       ]
      },
      {
       "output_type": "stream",
       "stream": "stdout",
       "text": [
        "\n",
        "Trained: 184, Tested: 500, Prediction: Spanish Wikipedia, Actual: Portuguese Wikipedia, Last-500 Accuracy: 0.668"
       ]
      },
      {
       "output_type": "stream",
       "stream": "stdout",
       "text": [
        "\n",
        "Trained: 185, Tested: 500, Prediction: Portuguese Wikipedia, Actual: Swedish Wikipedia, Last-500 Accuracy: 0.678"
       ]
      },
      {
       "output_type": "stream",
       "stream": "stdout",
       "text": [
        "\n",
        "Trained: 186, Tested: 500, Prediction: Spanish Wikipedia, Actual: German Wikipedia, Last-500 Accuracy: 0.688"
       ]
      },
      {
       "output_type": "stream",
       "stream": "stdout",
       "text": [
        "\n",
        "Trained: 187, Tested: 500, Prediction: Swedish Wikipedia, Actual: French Wikipedia, Last-500 Accuracy: 0.690"
       ]
      },
      {
       "output_type": "stream",
       "stream": "stdout",
       "text": [
        "\n",
        "Trained: 188, Tested: 500, Prediction: German Wikipedia, Actual: Vietnamese Wikipedia, Last-500 Accuracy: 0.694"
       ]
      },
      {
       "output_type": "stream",
       "stream": "stdout",
       "text": [
        "\n",
        "Trained: 189, Tested: 500, Prediction: German Wikipedia, Actual: Turkish Wikipedia, Last-500 Accuracy: 0.698"
       ]
      },
      {
       "output_type": "stream",
       "stream": "stdout",
       "text": [
        "\n",
        "Trained: 190, Tested: 500, Prediction: German Wikipedia, Actual: Romanian Wikipedia, Last-500 Accuracy: 0.698"
       ]
      },
      {
       "output_type": "stream",
       "stream": "stdout",
       "text": [
        "\n",
        "Trained: 191, Tested: 500, Prediction: Russian Wikipedia, Actual: Ukrainian Wikipedia, Last-500 Accuracy: 0.700"
       ]
      },
      {
       "output_type": "stream",
       "stream": "stdout",
       "text": [
        "\n",
        "Trained: 192, Tested: 500, Prediction: Russian Wikipedia, Actual: Ukrainian Wikipedia, Last-500 Accuracy: 0.700"
       ]
      },
      {
       "output_type": "stream",
       "stream": "stdout",
       "text": [
        "\n",
        "Trained: 193, Tested: 500, Prediction: French Wikipedia, Actual: Swedish Wikipedia, Last-500 Accuracy: 0.698"
       ]
      },
      {
       "output_type": "stream",
       "stream": "stdout",
       "text": [
        "\n",
        "Trained: 194, Tested: 500, Prediction: Ukrainian Wikipedia, Actual: Russian Wikipedia, Last-500 Accuracy: 0.698"
       ]
      },
      {
       "output_type": "stream",
       "stream": "stdout",
       "text": [
        "\n",
        "Trained: 195, Tested: 500, Prediction: French Wikipedia, Actual: Spanish Wikipedia, Last-500 Accuracy: 0.702"
       ]
      },
      {
       "output_type": "stream",
       "stream": "stdout",
       "text": [
        "\n",
        "Trained: 196, Tested: 500, Prediction: Spanish Wikipedia, Actual: Norwegian Wikipedia, Last-500 Accuracy: 0.702"
       ]
      },
      {
       "output_type": "stream",
       "stream": "stdout",
       "text": [
        "\n",
        "Trained: 197, Tested: 500, Prediction: German Wikipedia, Actual: Portuguese Wikipedia, Last-500 Accuracy: 0.706"
       ]
      },
      {
       "output_type": "stream",
       "stream": "stdout",
       "text": [
        "\n",
        "Trained: 198, Tested: 500, Prediction: Ukrainian Wikipedia, Actual: Russian Wikipedia, Last-500 Accuracy: 0.706"
       ]
      },
      {
       "output_type": "stream",
       "stream": "stdout",
       "text": [
        "\n",
        "Trained: 199, Tested: 500, Prediction: Portuguese Wikipedia, Actual: Polish Wikipedia, Last-500 Accuracy: 0.706"
       ]
      },
      {
       "output_type": "stream",
       "stream": "stdout",
       "text": [
        "\n",
        "Trained: 200, Tested: 500, Prediction: Portuguese Wikipedia, Actual: Spanish Wikipedia, Last-500 Accuracy: 0.708"
       ]
      },
      {
       "output_type": "stream",
       "stream": "stdout",
       "text": [
        "\n"
       ]
      },
      {
       "ename": "KeyboardInterrupt",
       "evalue": "",
       "output_type": "pyerr",
       "traceback": [
        "\u001b[1;31m---------------------------------------------------------------------------\u001b[0m\n\u001b[1;31mKeyboardInterrupt\u001b[0m                         Traceback (most recent call last)",
        "\u001b[1;32m<ipython-input-30-97f8dea525f2>\u001b[0m in \u001b[0;36m<module>\u001b[1;34m()\u001b[0m\n\u001b[0;32m     74\u001b[0m \u001b[0mprint\u001b[0m\u001b[1;33m(\u001b[0m\u001b[0mvw\u001b[0m\u001b[1;33m.\u001b[0m\u001b[0mcommand\u001b[0m\u001b[1;33m)\u001b[0m\u001b[1;33m\u001b[0m\u001b[0m\n\u001b[0;32m     75\u001b[0m \u001b[1;33m\u001b[0m\u001b[0m\n\u001b[1;32m---> 76\u001b[1;33m \u001b[0mwikipedia_updates\u001b[0m\u001b[1;33m(\u001b[0m\u001b[0mvw_callback\u001b[0m\u001b[1;33m)\u001b[0m\u001b[1;33m\u001b[0m\u001b[0m\n\u001b[0m",
        "\u001b[1;32m<ipython-input-2-00367d5650c7>\u001b[0m in \u001b[0;36mwikipedia_updates\u001b[1;34m(callback)\u001b[0m\n\u001b[0;32m      6\u001b[0m     \u001b[1;32mwhile\u001b[0m \u001b[1;32mTrue\u001b[0m\u001b[1;33m:\u001b[0m\u001b[1;33m\u001b[0m\u001b[0m\n\u001b[0;32m      7\u001b[0m         \u001b[0mt\u001b[0m \u001b[1;33m=\u001b[0m \u001b[0mtime\u001b[0m\u001b[1;33m.\u001b[0m\u001b[0mtime\u001b[0m\u001b[1;33m(\u001b[0m\u001b[1;33m)\u001b[0m \u001b[1;33m*\u001b[0m \u001b[1;36m1000000\u001b[0m\u001b[1;33m\u001b[0m\u001b[0m\n\u001b[1;32m----> 8\u001b[1;33m         \u001b[0mresponse\u001b[0m \u001b[1;33m=\u001b[0m \u001b[0mget\u001b[0m\u001b[1;33m(\u001b[0m\u001b[0mxhr_endpoint\u001b[0m\u001b[1;33m,\u001b[0m \u001b[0mparams\u001b[0m\u001b[1;33m=\u001b[0m\u001b[1;33m{\u001b[0m\u001b[1;34m't'\u001b[0m\u001b[1;33m:\u001b[0m \u001b[0mt\u001b[0m\u001b[1;33m}\u001b[0m\u001b[1;33m)\u001b[0m\u001b[1;33m.\u001b[0m\u001b[0mcontent\u001b[0m\u001b[1;33m.\u001b[0m\u001b[0mdecode\u001b[0m\u001b[1;33m(\u001b[0m\u001b[1;34m'utf-8'\u001b[0m\u001b[1;33m)\u001b[0m\u001b[1;33m\u001b[0m\u001b[0m\n\u001b[0m\u001b[0;32m      9\u001b[0m \u001b[1;33m\u001b[0m\u001b[0m\n\u001b[0;32m     10\u001b[0m         \u001b[0mchunks\u001b[0m \u001b[1;33m=\u001b[0m \u001b[0mre\u001b[0m\u001b[1;33m.\u001b[0m\u001b[0msplit\u001b[0m\u001b[1;33m(\u001b[0m\u001b[1;34mu'\\ufffd[0-9]+\\ufffd'\u001b[0m\u001b[1;33m,\u001b[0m \u001b[0mresponse\u001b[0m\u001b[1;33m)\u001b[0m\u001b[1;33m\u001b[0m\u001b[0m\n",
        "\u001b[1;32m/usr/local/lib/python3.4/dist-packages/requests/api.py\u001b[0m in \u001b[0;36mget\u001b[1;34m(url, **kwargs)\u001b[0m\n\u001b[0;32m     53\u001b[0m \u001b[1;33m\u001b[0m\u001b[0m\n\u001b[0;32m     54\u001b[0m     \u001b[0mkwargs\u001b[0m\u001b[1;33m.\u001b[0m\u001b[0msetdefault\u001b[0m\u001b[1;33m(\u001b[0m\u001b[1;34m'allow_redirects'\u001b[0m\u001b[1;33m,\u001b[0m \u001b[1;32mTrue\u001b[0m\u001b[1;33m)\u001b[0m\u001b[1;33m\u001b[0m\u001b[0m\n\u001b[1;32m---> 55\u001b[1;33m     \u001b[1;32mreturn\u001b[0m \u001b[0mrequest\u001b[0m\u001b[1;33m(\u001b[0m\u001b[1;34m'get'\u001b[0m\u001b[1;33m,\u001b[0m \u001b[0murl\u001b[0m\u001b[1;33m,\u001b[0m \u001b[1;33m**\u001b[0m\u001b[0mkwargs\u001b[0m\u001b[1;33m)\u001b[0m\u001b[1;33m\u001b[0m\u001b[0m\n\u001b[0m\u001b[0;32m     56\u001b[0m \u001b[1;33m\u001b[0m\u001b[0m\n\u001b[0;32m     57\u001b[0m \u001b[1;33m\u001b[0m\u001b[0m\n",
        "\u001b[1;32m/usr/local/lib/python3.4/dist-packages/requests/api.py\u001b[0m in \u001b[0;36mrequest\u001b[1;34m(method, url, **kwargs)\u001b[0m\n\u001b[0;32m     42\u001b[0m \u001b[1;33m\u001b[0m\u001b[0m\n\u001b[0;32m     43\u001b[0m     \u001b[0msession\u001b[0m \u001b[1;33m=\u001b[0m \u001b[0msessions\u001b[0m\u001b[1;33m.\u001b[0m\u001b[0mSession\u001b[0m\u001b[1;33m(\u001b[0m\u001b[1;33m)\u001b[0m\u001b[1;33m\u001b[0m\u001b[0m\n\u001b[1;32m---> 44\u001b[1;33m     \u001b[1;32mreturn\u001b[0m \u001b[0msession\u001b[0m\u001b[1;33m.\u001b[0m\u001b[0mrequest\u001b[0m\u001b[1;33m(\u001b[0m\u001b[0mmethod\u001b[0m\u001b[1;33m=\u001b[0m\u001b[0mmethod\u001b[0m\u001b[1;33m,\u001b[0m \u001b[0murl\u001b[0m\u001b[1;33m=\u001b[0m\u001b[0murl\u001b[0m\u001b[1;33m,\u001b[0m \u001b[1;33m**\u001b[0m\u001b[0mkwargs\u001b[0m\u001b[1;33m)\u001b[0m\u001b[1;33m\u001b[0m\u001b[0m\n\u001b[0m\u001b[0;32m     45\u001b[0m \u001b[1;33m\u001b[0m\u001b[0m\n\u001b[0;32m     46\u001b[0m \u001b[1;33m\u001b[0m\u001b[0m\n",
        "\u001b[1;32m/usr/local/lib/python3.4/dist-packages/requests/sessions.py\u001b[0m in \u001b[0;36mrequest\u001b[1;34m(self, method, url, params, data, headers, cookies, files, auth, timeout, allow_redirects, proxies, hooks, stream, verify, cert)\u001b[0m\n\u001b[0;32m    454\u001b[0m             \u001b[1;34m'allow_redirects'\u001b[0m\u001b[1;33m:\u001b[0m \u001b[0mallow_redirects\u001b[0m\u001b[1;33m,\u001b[0m\u001b[1;33m\u001b[0m\u001b[0m\n\u001b[0;32m    455\u001b[0m         }\n\u001b[1;32m--> 456\u001b[1;33m         \u001b[0mresp\u001b[0m \u001b[1;33m=\u001b[0m \u001b[0mself\u001b[0m\u001b[1;33m.\u001b[0m\u001b[0msend\u001b[0m\u001b[1;33m(\u001b[0m\u001b[0mprep\u001b[0m\u001b[1;33m,\u001b[0m \u001b[1;33m**\u001b[0m\u001b[0msend_kwargs\u001b[0m\u001b[1;33m)\u001b[0m\u001b[1;33m\u001b[0m\u001b[0m\n\u001b[0m\u001b[0;32m    457\u001b[0m \u001b[1;33m\u001b[0m\u001b[0m\n\u001b[0;32m    458\u001b[0m         \u001b[1;32mreturn\u001b[0m \u001b[0mresp\u001b[0m\u001b[1;33m\u001b[0m\u001b[0m\n",
        "\u001b[1;32m/usr/local/lib/python3.4/dist-packages/requests/sessions.py\u001b[0m in \u001b[0;36msend\u001b[1;34m(self, request, **kwargs)\u001b[0m\n\u001b[0;32m    583\u001b[0m \u001b[1;33m\u001b[0m\u001b[0m\n\u001b[0;32m    584\u001b[0m         \u001b[1;31m# Resolve redirects if allowed.\u001b[0m\u001b[1;33m\u001b[0m\u001b[1;33m\u001b[0m\u001b[0m\n\u001b[1;32m--> 585\u001b[1;33m         \u001b[0mhistory\u001b[0m \u001b[1;33m=\u001b[0m \u001b[1;33m[\u001b[0m\u001b[0mresp\u001b[0m \u001b[1;32mfor\u001b[0m \u001b[0mresp\u001b[0m \u001b[1;32min\u001b[0m \u001b[0mgen\u001b[0m\u001b[1;33m]\u001b[0m \u001b[1;32mif\u001b[0m \u001b[0mallow_redirects\u001b[0m \u001b[1;32melse\u001b[0m \u001b[1;33m[\u001b[0m\u001b[1;33m]\u001b[0m\u001b[1;33m\u001b[0m\u001b[0m\n\u001b[0m\u001b[0;32m    586\u001b[0m \u001b[1;33m\u001b[0m\u001b[0m\n\u001b[0;32m    587\u001b[0m         \u001b[1;31m# Shuffle things around if there's history.\u001b[0m\u001b[1;33m\u001b[0m\u001b[1;33m\u001b[0m\u001b[0m\n",
        "\u001b[1;32m/usr/local/lib/python3.4/dist-packages/requests/sessions.py\u001b[0m in \u001b[0;36m<listcomp>\u001b[1;34m(.0)\u001b[0m\n\u001b[0;32m    583\u001b[0m \u001b[1;33m\u001b[0m\u001b[0m\n\u001b[0;32m    584\u001b[0m         \u001b[1;31m# Resolve redirects if allowed.\u001b[0m\u001b[1;33m\u001b[0m\u001b[1;33m\u001b[0m\u001b[0m\n\u001b[1;32m--> 585\u001b[1;33m         \u001b[0mhistory\u001b[0m \u001b[1;33m=\u001b[0m \u001b[1;33m[\u001b[0m\u001b[0mresp\u001b[0m \u001b[1;32mfor\u001b[0m \u001b[0mresp\u001b[0m \u001b[1;32min\u001b[0m \u001b[0mgen\u001b[0m\u001b[1;33m]\u001b[0m \u001b[1;32mif\u001b[0m \u001b[0mallow_redirects\u001b[0m \u001b[1;32melse\u001b[0m \u001b[1;33m[\u001b[0m\u001b[1;33m]\u001b[0m\u001b[1;33m\u001b[0m\u001b[0m\n\u001b[0m\u001b[0;32m    586\u001b[0m \u001b[1;33m\u001b[0m\u001b[0m\n\u001b[0;32m    587\u001b[0m         \u001b[1;31m# Shuffle things around if there's history.\u001b[0m\u001b[1;33m\u001b[0m\u001b[1;33m\u001b[0m\u001b[0m\n",
        "\u001b[1;32m/usr/local/lib/python3.4/dist-packages/requests/sessions.py\u001b[0m in \u001b[0;36mresolve_redirects\u001b[1;34m(self, resp, req, stream, timeout, verify, cert, proxies)\u001b[0m\n\u001b[0;32m    177\u001b[0m                 \u001b[0mcert\u001b[0m\u001b[1;33m=\u001b[0m\u001b[0mcert\u001b[0m\u001b[1;33m,\u001b[0m\u001b[1;33m\u001b[0m\u001b[0m\n\u001b[0;32m    178\u001b[0m                 \u001b[0mproxies\u001b[0m\u001b[1;33m=\u001b[0m\u001b[0mproxies\u001b[0m\u001b[1;33m,\u001b[0m\u001b[1;33m\u001b[0m\u001b[0m\n\u001b[1;32m--> 179\u001b[1;33m                 \u001b[0mallow_redirects\u001b[0m\u001b[1;33m=\u001b[0m\u001b[1;32mFalse\u001b[0m\u001b[1;33m,\u001b[0m\u001b[1;33m\u001b[0m\u001b[0m\n\u001b[0m\u001b[0;32m    180\u001b[0m             )\n\u001b[0;32m    181\u001b[0m \u001b[1;33m\u001b[0m\u001b[0m\n",
        "\u001b[1;32m/usr/local/lib/python3.4/dist-packages/requests/sessions.py\u001b[0m in \u001b[0;36msend\u001b[1;34m(self, request, **kwargs)\u001b[0m\n\u001b[0;32m    557\u001b[0m \u001b[1;33m\u001b[0m\u001b[0m\n\u001b[0;32m    558\u001b[0m         \u001b[1;31m# Send the request\u001b[0m\u001b[1;33m\u001b[0m\u001b[1;33m\u001b[0m\u001b[0m\n\u001b[1;32m--> 559\u001b[1;33m         \u001b[0mr\u001b[0m \u001b[1;33m=\u001b[0m \u001b[0madapter\u001b[0m\u001b[1;33m.\u001b[0m\u001b[0msend\u001b[0m\u001b[1;33m(\u001b[0m\u001b[0mrequest\u001b[0m\u001b[1;33m,\u001b[0m \u001b[1;33m**\u001b[0m\u001b[0mkwargs\u001b[0m\u001b[1;33m)\u001b[0m\u001b[1;33m\u001b[0m\u001b[0m\n\u001b[0m\u001b[0;32m    560\u001b[0m \u001b[1;33m\u001b[0m\u001b[0m\n\u001b[0;32m    561\u001b[0m         \u001b[1;31m# Total elapsed time of the request (approximately)\u001b[0m\u001b[1;33m\u001b[0m\u001b[1;33m\u001b[0m\u001b[0m\n",
        "\u001b[1;32m/usr/local/lib/python3.4/dist-packages/requests/adapters.py\u001b[0m in \u001b[0;36msend\u001b[1;34m(self, request, stream, timeout, verify, cert, proxies)\u001b[0m\n\u001b[0;32m    325\u001b[0m                     \u001b[0mdecode_content\u001b[0m\u001b[1;33m=\u001b[0m\u001b[1;32mFalse\u001b[0m\u001b[1;33m,\u001b[0m\u001b[1;33m\u001b[0m\u001b[0m\n\u001b[0;32m    326\u001b[0m                     \u001b[0mretries\u001b[0m\u001b[1;33m=\u001b[0m\u001b[0mself\u001b[0m\u001b[1;33m.\u001b[0m\u001b[0mmax_retries\u001b[0m\u001b[1;33m,\u001b[0m\u001b[1;33m\u001b[0m\u001b[0m\n\u001b[1;32m--> 327\u001b[1;33m                     \u001b[0mtimeout\u001b[0m\u001b[1;33m=\u001b[0m\u001b[0mtimeout\u001b[0m\u001b[1;33m\u001b[0m\u001b[0m\n\u001b[0m\u001b[0;32m    328\u001b[0m                 )\n\u001b[0;32m    329\u001b[0m \u001b[1;33m\u001b[0m\u001b[0m\n",
        "\u001b[1;32m/usr/local/lib/python3.4/dist-packages/requests/packages/urllib3/connectionpool.py\u001b[0m in \u001b[0;36murlopen\u001b[1;34m(self, method, url, body, headers, retries, redirect, assert_same_host, timeout, pool_timeout, release_conn, **response_kw)\u001b[0m\n\u001b[0;32m    491\u001b[0m             httplib_response = self._make_request(conn, method, url,\n\u001b[0;32m    492\u001b[0m                                                   \u001b[0mtimeout\u001b[0m\u001b[1;33m=\u001b[0m\u001b[0mtimeout\u001b[0m\u001b[1;33m,\u001b[0m\u001b[1;33m\u001b[0m\u001b[0m\n\u001b[1;32m--> 493\u001b[1;33m                                                   body=body, headers=headers)\n\u001b[0m\u001b[0;32m    494\u001b[0m \u001b[1;33m\u001b[0m\u001b[0m\n\u001b[0;32m    495\u001b[0m             \u001b[1;31m# If we're going to release the connection in ``finally:``, then\u001b[0m\u001b[1;33m\u001b[0m\u001b[1;33m\u001b[0m\u001b[0m\n",
        "\u001b[1;32m/usr/local/lib/python3.4/dist-packages/requests/packages/urllib3/connectionpool.py\u001b[0m in \u001b[0;36m_make_request\u001b[1;34m(self, conn, method, url, timeout, **httplib_request_kw)\u001b[0m\n\u001b[0;32m    289\u001b[0m             \u001b[1;31m# conn.request() calls httplib.*.request, not the method in\u001b[0m\u001b[1;33m\u001b[0m\u001b[1;33m\u001b[0m\u001b[0m\n\u001b[0;32m    290\u001b[0m             \u001b[1;31m# urllib3.request. It also calls makefile (recv) on the socket.\u001b[0m\u001b[1;33m\u001b[0m\u001b[1;33m\u001b[0m\u001b[0m\n\u001b[1;32m--> 291\u001b[1;33m             \u001b[0mconn\u001b[0m\u001b[1;33m.\u001b[0m\u001b[0mrequest\u001b[0m\u001b[1;33m(\u001b[0m\u001b[0mmethod\u001b[0m\u001b[1;33m,\u001b[0m \u001b[0murl\u001b[0m\u001b[1;33m,\u001b[0m \u001b[1;33m**\u001b[0m\u001b[0mhttplib_request_kw\u001b[0m\u001b[1;33m)\u001b[0m\u001b[1;33m\u001b[0m\u001b[0m\n\u001b[0m\u001b[0;32m    292\u001b[0m         \u001b[1;32mexcept\u001b[0m \u001b[0mSocketTimeout\u001b[0m\u001b[1;33m:\u001b[0m\u001b[1;33m\u001b[0m\u001b[0m\n\u001b[0;32m    293\u001b[0m             raise ConnectTimeoutError(\n",
        "\u001b[1;32m/usr/lib/python3.4/http/client.py\u001b[0m in \u001b[0;36mrequest\u001b[1;34m(self, method, url, body, headers)\u001b[0m\n\u001b[0;32m   1088\u001b[0m     \u001b[1;32mdef\u001b[0m \u001b[0mrequest\u001b[0m\u001b[1;33m(\u001b[0m\u001b[0mself\u001b[0m\u001b[1;33m,\u001b[0m \u001b[0mmethod\u001b[0m\u001b[1;33m,\u001b[0m \u001b[0murl\u001b[0m\u001b[1;33m,\u001b[0m \u001b[0mbody\u001b[0m\u001b[1;33m=\u001b[0m\u001b[1;32mNone\u001b[0m\u001b[1;33m,\u001b[0m \u001b[0mheaders\u001b[0m\u001b[1;33m=\u001b[0m\u001b[1;33m{\u001b[0m\u001b[1;33m}\u001b[0m\u001b[1;33m)\u001b[0m\u001b[1;33m:\u001b[0m\u001b[1;33m\u001b[0m\u001b[0m\n\u001b[0;32m   1089\u001b[0m         \u001b[1;34m\"\"\"Send a complete request to the server.\"\"\"\u001b[0m\u001b[1;33m\u001b[0m\u001b[0m\n\u001b[1;32m-> 1090\u001b[1;33m         \u001b[0mself\u001b[0m\u001b[1;33m.\u001b[0m\u001b[0m_send_request\u001b[0m\u001b[1;33m(\u001b[0m\u001b[0mmethod\u001b[0m\u001b[1;33m,\u001b[0m \u001b[0murl\u001b[0m\u001b[1;33m,\u001b[0m \u001b[0mbody\u001b[0m\u001b[1;33m,\u001b[0m \u001b[0mheaders\u001b[0m\u001b[1;33m)\u001b[0m\u001b[1;33m\u001b[0m\u001b[0m\n\u001b[0m\u001b[0;32m   1091\u001b[0m \u001b[1;33m\u001b[0m\u001b[0m\n\u001b[0;32m   1092\u001b[0m     \u001b[1;32mdef\u001b[0m \u001b[0m_set_content_length\u001b[0m\u001b[1;33m(\u001b[0m\u001b[0mself\u001b[0m\u001b[1;33m,\u001b[0m \u001b[0mbody\u001b[0m\u001b[1;33m)\u001b[0m\u001b[1;33m:\u001b[0m\u001b[1;33m\u001b[0m\u001b[0m\n",
        "\u001b[1;32m/usr/lib/python3.4/http/client.py\u001b[0m in \u001b[0;36m_send_request\u001b[1;34m(self, method, url, body, headers)\u001b[0m\n\u001b[0;32m   1126\u001b[0m             \u001b[1;31m# default charset of iso-8859-1.\u001b[0m\u001b[1;33m\u001b[0m\u001b[1;33m\u001b[0m\u001b[0m\n\u001b[0;32m   1127\u001b[0m             \u001b[0mbody\u001b[0m \u001b[1;33m=\u001b[0m \u001b[0mbody\u001b[0m\u001b[1;33m.\u001b[0m\u001b[0mencode\u001b[0m\u001b[1;33m(\u001b[0m\u001b[1;34m'iso-8859-1'\u001b[0m\u001b[1;33m)\u001b[0m\u001b[1;33m\u001b[0m\u001b[0m\n\u001b[1;32m-> 1128\u001b[1;33m         \u001b[0mself\u001b[0m\u001b[1;33m.\u001b[0m\u001b[0mendheaders\u001b[0m\u001b[1;33m(\u001b[0m\u001b[0mbody\u001b[0m\u001b[1;33m)\u001b[0m\u001b[1;33m\u001b[0m\u001b[0m\n\u001b[0m\u001b[0;32m   1129\u001b[0m \u001b[1;33m\u001b[0m\u001b[0m\n\u001b[0;32m   1130\u001b[0m     \u001b[1;32mdef\u001b[0m \u001b[0mgetresponse\u001b[0m\u001b[1;33m(\u001b[0m\u001b[0mself\u001b[0m\u001b[1;33m)\u001b[0m\u001b[1;33m:\u001b[0m\u001b[1;33m\u001b[0m\u001b[0m\n",
        "\u001b[1;32m/usr/lib/python3.4/http/client.py\u001b[0m in \u001b[0;36mendheaders\u001b[1;34m(self, message_body)\u001b[0m\n\u001b[0;32m   1084\u001b[0m         \u001b[1;32melse\u001b[0m\u001b[1;33m:\u001b[0m\u001b[1;33m\u001b[0m\u001b[0m\n\u001b[0;32m   1085\u001b[0m             \u001b[1;32mraise\u001b[0m \u001b[0mCannotSendHeader\u001b[0m\u001b[1;33m(\u001b[0m\u001b[1;33m)\u001b[0m\u001b[1;33m\u001b[0m\u001b[0m\n\u001b[1;32m-> 1086\u001b[1;33m         \u001b[0mself\u001b[0m\u001b[1;33m.\u001b[0m\u001b[0m_send_output\u001b[0m\u001b[1;33m(\u001b[0m\u001b[0mmessage_body\u001b[0m\u001b[1;33m)\u001b[0m\u001b[1;33m\u001b[0m\u001b[0m\n\u001b[0m\u001b[0;32m   1087\u001b[0m \u001b[1;33m\u001b[0m\u001b[0m\n\u001b[0;32m   1088\u001b[0m     \u001b[1;32mdef\u001b[0m \u001b[0mrequest\u001b[0m\u001b[1;33m(\u001b[0m\u001b[0mself\u001b[0m\u001b[1;33m,\u001b[0m \u001b[0mmethod\u001b[0m\u001b[1;33m,\u001b[0m \u001b[0murl\u001b[0m\u001b[1;33m,\u001b[0m \u001b[0mbody\u001b[0m\u001b[1;33m=\u001b[0m\u001b[1;32mNone\u001b[0m\u001b[1;33m,\u001b[0m \u001b[0mheaders\u001b[0m\u001b[1;33m=\u001b[0m\u001b[1;33m{\u001b[0m\u001b[1;33m}\u001b[0m\u001b[1;33m)\u001b[0m\u001b[1;33m:\u001b[0m\u001b[1;33m\u001b[0m\u001b[0m\n",
        "\u001b[1;32m/usr/lib/python3.4/http/client.py\u001b[0m in \u001b[0;36m_send_output\u001b[1;34m(self, message_body)\u001b[0m\n\u001b[0;32m    922\u001b[0m             \u001b[0mmsg\u001b[0m \u001b[1;33m+=\u001b[0m \u001b[0mmessage_body\u001b[0m\u001b[1;33m\u001b[0m\u001b[0m\n\u001b[0;32m    923\u001b[0m             \u001b[0mmessage_body\u001b[0m \u001b[1;33m=\u001b[0m \u001b[1;32mNone\u001b[0m\u001b[1;33m\u001b[0m\u001b[0m\n\u001b[1;32m--> 924\u001b[1;33m         \u001b[0mself\u001b[0m\u001b[1;33m.\u001b[0m\u001b[0msend\u001b[0m\u001b[1;33m(\u001b[0m\u001b[0mmsg\u001b[0m\u001b[1;33m)\u001b[0m\u001b[1;33m\u001b[0m\u001b[0m\n\u001b[0m\u001b[0;32m    925\u001b[0m         \u001b[1;32mif\u001b[0m \u001b[0mmessage_body\u001b[0m \u001b[1;32mis\u001b[0m \u001b[1;32mnot\u001b[0m \u001b[1;32mNone\u001b[0m\u001b[1;33m:\u001b[0m\u001b[1;33m\u001b[0m\u001b[0m\n\u001b[0;32m    926\u001b[0m             \u001b[1;31m# message_body was not a string (i.e. it is a file), and\u001b[0m\u001b[1;33m\u001b[0m\u001b[1;33m\u001b[0m\u001b[0m\n",
        "\u001b[1;32m/usr/lib/python3.4/http/client.py\u001b[0m in \u001b[0;36msend\u001b[1;34m(self, data)\u001b[0m\n\u001b[0;32m    857\u001b[0m         \u001b[1;32mif\u001b[0m \u001b[0mself\u001b[0m\u001b[1;33m.\u001b[0m\u001b[0msock\u001b[0m \u001b[1;32mis\u001b[0m \u001b[1;32mNone\u001b[0m\u001b[1;33m:\u001b[0m\u001b[1;33m\u001b[0m\u001b[0m\n\u001b[0;32m    858\u001b[0m             \u001b[1;32mif\u001b[0m \u001b[0mself\u001b[0m\u001b[1;33m.\u001b[0m\u001b[0mauto_open\u001b[0m\u001b[1;33m:\u001b[0m\u001b[1;33m\u001b[0m\u001b[0m\n\u001b[1;32m--> 859\u001b[1;33m                 \u001b[0mself\u001b[0m\u001b[1;33m.\u001b[0m\u001b[0mconnect\u001b[0m\u001b[1;33m(\u001b[0m\u001b[1;33m)\u001b[0m\u001b[1;33m\u001b[0m\u001b[0m\n\u001b[0m\u001b[0;32m    860\u001b[0m             \u001b[1;32melse\u001b[0m\u001b[1;33m:\u001b[0m\u001b[1;33m\u001b[0m\u001b[0m\n\u001b[0;32m    861\u001b[0m                 \u001b[1;32mraise\u001b[0m \u001b[0mNotConnected\u001b[0m\u001b[1;33m(\u001b[0m\u001b[1;33m)\u001b[0m\u001b[1;33m\u001b[0m\u001b[0m\n",
        "\u001b[1;32m/usr/local/lib/python3.4/dist-packages/requests/packages/urllib3/connection.py\u001b[0m in \u001b[0;36mconnect\u001b[1;34m(self)\u001b[0m\n\u001b[0;32m    104\u001b[0m \u001b[1;33m\u001b[0m\u001b[0m\n\u001b[0;32m    105\u001b[0m     \u001b[1;32mdef\u001b[0m \u001b[0mconnect\u001b[0m\u001b[1;33m(\u001b[0m\u001b[0mself\u001b[0m\u001b[1;33m)\u001b[0m\u001b[1;33m:\u001b[0m\u001b[1;33m\u001b[0m\u001b[0m\n\u001b[1;32m--> 106\u001b[1;33m         \u001b[0mconn\u001b[0m \u001b[1;33m=\u001b[0m \u001b[0mself\u001b[0m\u001b[1;33m.\u001b[0m\u001b[0m_new_conn\u001b[0m\u001b[1;33m(\u001b[0m\u001b[1;33m)\u001b[0m\u001b[1;33m\u001b[0m\u001b[0m\n\u001b[0m\u001b[0;32m    107\u001b[0m         \u001b[0mself\u001b[0m\u001b[1;33m.\u001b[0m\u001b[0m_prepare_conn\u001b[0m\u001b[1;33m(\u001b[0m\u001b[0mconn\u001b[0m\u001b[1;33m)\u001b[0m\u001b[1;33m\u001b[0m\u001b[0m\n\u001b[0;32m    108\u001b[0m \u001b[1;33m\u001b[0m\u001b[0m\n",
        "\u001b[1;32m/usr/local/lib/python3.4/dist-packages/requests/packages/urllib3/connection.py\u001b[0m in \u001b[0;36m_new_conn\u001b[1;34m(self)\u001b[0m\n\u001b[0;32m     88\u001b[0m \u001b[1;33m\u001b[0m\u001b[0m\n\u001b[0;32m     89\u001b[0m         conn = socket.create_connection(\n\u001b[1;32m---> 90\u001b[1;33m             (self.host, self.port), self.timeout, *extra_args)\n\u001b[0m\u001b[0;32m     91\u001b[0m         conn.setsockopt(\n\u001b[0;32m     92\u001b[0m             socket.IPPROTO_TCP, socket.TCP_NODELAY, self.tcp_nodelay)\n",
        "\u001b[1;32m/usr/lib/python3.4/socket.py\u001b[0m in \u001b[0;36mcreate_connection\u001b[1;34m(address, timeout, source_address)\u001b[0m\n\u001b[0;32m    498\u001b[0m             \u001b[1;32mif\u001b[0m \u001b[0msource_address\u001b[0m\u001b[1;33m:\u001b[0m\u001b[1;33m\u001b[0m\u001b[0m\n\u001b[0;32m    499\u001b[0m                 \u001b[0msock\u001b[0m\u001b[1;33m.\u001b[0m\u001b[0mbind\u001b[0m\u001b[1;33m(\u001b[0m\u001b[0msource_address\u001b[0m\u001b[1;33m)\u001b[0m\u001b[1;33m\u001b[0m\u001b[0m\n\u001b[1;32m--> 500\u001b[1;33m             \u001b[0msock\u001b[0m\u001b[1;33m.\u001b[0m\u001b[0mconnect\u001b[0m\u001b[1;33m(\u001b[0m\u001b[0msa\u001b[0m\u001b[1;33m)\u001b[0m\u001b[1;33m\u001b[0m\u001b[0m\n\u001b[0m\u001b[0;32m    501\u001b[0m             \u001b[1;32mreturn\u001b[0m \u001b[0msock\u001b[0m\u001b[1;33m\u001b[0m\u001b[0m\n\u001b[0;32m    502\u001b[0m \u001b[1;33m\u001b[0m\u001b[0m\n",
        "\u001b[1;31mKeyboardInterrupt\u001b[0m: "
       ]
      }
     ],
     "prompt_number": 30
    },
    {
     "cell_type": "markdown",
     "metadata": {},
     "source": [
      "**Reminder:** Shut down the VW server when you're done."
     ]
    },
    {
     "cell_type": "code",
     "collapsed": false,
     "input": [
      "vw.close()"
     ],
     "language": "python",
     "metadata": {},
     "outputs": [],
     "prompt_number": 31
    },
    {
     "cell_type": "markdown",
     "metadata": {},
     "source": [
      "## Visualizing language similarity\n",
      "\n",
      "When the model mispredicts, which wikis is it most likely to get confused?\n",
      "\n",
      "This could give us some measure of the similarity of those languages -- in the limited domain of \"Wikipedia pages\" at least.\n",
      "\n",
      "If we visualize these relationships, do they roughly match what we'd expect from a non-expert idea of language similarity? Or do they reflect noise in the model -- artefacts of VW's feature hashing process?\n",
      "\n",
      "First do some preprocessing to get a dense confusion matrix, sorted so more popular wikis come first."
     ]
    },
    {
     "cell_type": "code",
     "collapsed": false,
     "input": [
      "labels = np.array([s.replace(' Wikipedia', '') for s in labels])\n",
      "confusion = np.zeros((len(labels), len(labels)))\n",
      "for (x, y) in rb:\n",
      "    confusion[x,y] += 1\n",
      "samples_per_wiki = np.asarray(confusion.sum(axis=1))\n",
      "sorted_idxs = np.argsort(samples_per_wiki)[::-1]\n",
      "sorted_confusion = confusion[sorted_idxs,:][:,sorted_idxs]\n",
      "sorted_confusion.shape"
     ],
     "language": "python",
     "metadata": {},
     "outputs": [
      {
       "metadata": {},
       "output_type": "pyout",
       "prompt_number": 32,
       "text": [
        "(30, 30)"
       ]
      }
     ],
     "prompt_number": 32
    },
    {
     "cell_type": "markdown",
     "metadata": {},
     "source": [
      "Visualize the confusion matrix in Matplotlib.\n",
      "\n",
      "The left edge represents the pages' real languages, the bottom edge shows what the model identified them as, at least in its last `k` tests. So, shading along the diagonal represents correct predictions, and shading off the diagonal represents errors.\n",
      "\n",
      "The values are absolute counts, so this shows the relative popularity of each wiki as well as the error distribution."
     ]
    },
    {
     "cell_type": "code",
     "collapsed": false,
     "input": [
      "fig, ax = plt.subplots(1)\n",
      "\n",
      "p = ax.pcolormesh(sorted_confusion, cmap='Reds')\n",
      "fig.colorbar(p)\n",
      "ax.set_yticks(np.arange(sorted_confusion.shape[0])+0.5, minor=False)\n",
      "ax.set_xticks(np.arange(sorted_confusion.shape[1])+0.5, minor=False)\n",
      "ax.set_xticklabels(labels[sorted_idxs], minor=False) \n",
      "ax.set_yticklabels(labels[sorted_idxs], minor=False)\n",
      "plt.xticks(rotation=90)\n",
      "plt.show()"
     ],
     "language": "python",
     "metadata": {},
     "outputs": [
      {
       "metadata": {},
       "output_type": "display_data",
       "png": "[encoded data removed]",
       "text": [
        "<matplotlib.figure.Figure at 0x7faae2125d30>"
       ]
      }
     ],
     "prompt_number": 34
    },
    {
     "cell_type": "markdown",
     "metadata": {},
     "source": [
      "Alternatively, we can turn it into a labelled list of edge weights, write it out to a CSV, and render it in D3.\n",
      "\n",
      "For this visualization, let's normalize by the number of actual occurrences of each wiki in the test set, so the weights indicate the proportion of the samples for each wiki `source` that were mistakenly predicted for `target` instead. Also we'll need to set the diagonal to 0 to remove loops from the visualization.\n",
      "\n",
      "**Mouseover the nodes in the graph to see the wiki name. Drag the nodes to rearrange the graph.**"
     ]
    },
    {
     "cell_type": "code",
     "collapsed": false,
     "input": [
      "normalized = sorted_confusion / sorted_confusion.sum(axis=1)\n",
      "np.fill_diagonal(normalized, 0)\n",
      "edge_weights = pd.DataFrame(data=normalized, index=labels[sorted_idxs], columns=labels[sorted_idxs]).stack()\n",
      "edge_weights.index.names = ('source', 'target')\n",
      "edge_weights.name = 'value'\n",
      "edge_weights.iloc[edge_weights.nonzero()].to_csv('cm.csv', header=True, index=True)\n",
      "from IPython.lib.display import IFrame\n",
      "IFrame('graph.html', 650, 650)"
     ],
     "language": "python",
     "metadata": {},
     "outputs": [
      {
       "html": [
        "\n",
        "        <iframe\n",
        "            width=\"650\"\n",
        "            height=650\"\n",
        "            src=\"graph.html\"\n",
        "            frameborder=\"0\"\n",
        "            allowfullscreen\n",
        "        ></iframe>\n",
        "        "
       ],
       "metadata": {},
       "output_type": "pyout",
       "prompt_number": 35,
       "text": [
        "<IPython.lib.display.IFrame at 0x7faae1dc51d0>"
       ]
      }
     ],
     "prompt_number": 35
    }
   ],
   "metadata": {}
  }
 ]
}