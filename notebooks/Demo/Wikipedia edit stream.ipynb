{
 "metadata": {
  "name": "",
  "signature": "sha256:ae85a00226846955d348205fe7ff572c8947b1ec16d853c03f2c8723b2344162"
 },
 "nbformat": 3,
 "nbformat_minor": 0,
 "worksheets": [
  {
   "cells": [
    {
     "cell_type": "markdown",
     "metadata": {},
     "source": [
      "# Wikipedia edit stream demo\n",
      "\n",
      "Based on the [stream.py](https://github.com/edsu/wikistream/blob/master/stream.py) script provided with [edsu/wikistream](https://github.com/edsu/wikistream).\n",
      "\n",
      "Originally presented at a [PyData London meetup](http://www.meetup.com/PyData-London-Meetup/) in August 2014."
     ]
    },
    {
     "cell_type": "code",
     "collapsed": false,
     "input": [
      "import re\n",
      "import json\n",
      "import time\n",
      "\n",
      "from collections import defaultdict\n",
      "from itertools import chain\n",
      "from requests import post, get\n",
      "\n",
      "from wabbit_wappa import VW\n",
      "\n",
      "import numpy as np\n",
      "\n",
      "import pandas as pd\n",
      "pd.options.display.mpl_style = 'default'\n",
      "\n",
      "import seaborn as sb\n",
      "import matplotlib.pylab as pylab\n",
      "import matplotlib.pyplot as plt\n",
      "pylab.rcParams['figure.figsize'] = (12.0, 8.0)\n",
      "pylab.rcParams['font.family'] = 'Bitstream Vera Sans'"
     ],
     "language": "python",
     "metadata": {},
     "outputs": [],
     "prompt_number": 1
    },
    {
     "cell_type": "markdown",
     "metadata": {},
     "source": [
      "## wikipedia_updates\n",
      "\n",
      "This function talks to the `wikistream` server, which provides push notifications of Wikipedia edits via websockets.\n",
      "\n",
      "Call it with a callback function of your own devising, that takes a single argument. Every time a Wikipedia edit occurs, your callback will be called, with a dict containing the details of the edit, e.g.:\n",
      "\n",
      "```\n",
      "{'flag': '',\n",
      " 'namespace': 'article',\n",
      " 'userUrl': 'http://en.wikipedia.org/wiki/User:137.44.83.167',\n",
      " 'url': 'http://en.wikipedia.org/w/index.php?diff=619400522&oldid=618259633',\n",
      " 'wikipediaLong': 'English Wikipedia',\n",
      " 'wikipediaShort': 'en',\n",
      " 'user': '137.44.83.167',\n",
      " 'comment': '',\n",
      " 'newPage': False,\n",
      " 'pageUrl': 'http://en.wikipedia.org/wiki/Battle_of_Trafalgar',\n",
      " 'unpatrolled': False,\n",
      " 'robot': False,\n",
      " 'anonymous': True,\n",
      " 'delta': 2,\n",
      " 'channel': '#en.wikipedia',\n",
      " 'wikipediaUrl': 'http://en.wikipedia.org',\n",
      " 'wikipedia': 'English Wikipedia',\n",
      " 'page': 'Battle of Trafalgar'}\n",
      "```\n",
      "\n",
      "Your callback should return `True` if it wants to keep receiving edits, or `False` to stop."
     ]
    },
    {
     "cell_type": "code",
     "collapsed": false,
     "input": [
      "def wikipedia_updates(callback):\n",
      "    endpoint = \"http://wikistream.inkdroid.org/socket.io/1\"\n",
      "    session_id = post(endpoint).content.decode('utf-8').split(':')[0]\n",
      "    xhr_endpoint = \"/\".join((endpoint, \"xhr-polling\", session_id))\n",
      "\n",
      "    while True:\n",
      "        t = time.time() * 1000000\n",
      "        response = get(xhr_endpoint, params={'t': t}).content.decode('utf-8')\n",
      "\n",
      "        chunks = re.split(u'\\ufffd[0-9]+\\ufffd', response)\n",
      "        for chunk in chunks:\n",
      "            parts = chunk.split(':', 3)\n",
      "            if len(parts) == 4:\n",
      "                try:\n",
      "                    payload = json.loads(parts[3])['args'][0]\n",
      "                except:\n",
      "                    raise ValueError('Received non-json data: ' + str(parts))\n",
      "                if not callback(payload):\n",
      "                    return"
     ],
     "language": "python",
     "metadata": {},
     "outputs": [],
     "prompt_number": 2
    },
    {
     "cell_type": "markdown",
     "metadata": {},
     "source": [
      "## Watching stream activity in real time\n",
      "\n",
      "This is a callback function that just prints the wiki name, page name and comment. It runs until `max_edits` edits have been received.\n",
      "\n",
      "It also collects the edits into a list called `edits`, for offline analysis later. A `timestamp` field is added to each edit, as they don't have this by default.\n",
      "\n",
      "Run this cell for a demo.\n",
      "\n",
      "### Note\n",
      "\n",
      "If you get an error message about non-json data, wait a few seconds and retry. This seems to be an intermitted problem with the websockets server."
     ]
    },
    {
     "cell_type": "code",
     "collapsed": false,
     "input": [
      "max_edits = 500\n",
      "edits = []\n",
      "\n",
      "reg = re.compile(r'^.*wiki/(.*)')\n",
      "\n",
      "def simple_callback(edit):\n",
      "    wiki_name = edit['wikipediaLong']\n",
      "    page_name = reg.match(edit['pageUrl']).group(1)\n",
      "    comment = edit['comment']\n",
      "    print('\\t'.join((str(len(edits)), wiki_name, page_name, comment)), '\\n', flush=True)\n",
      "    edit['timestamp'] = time.time()\n",
      "    edits.append(edit)\n",
      "    return len(edits) < max_edits\n",
      "\n",
      "wikipedia_updates(simple_callback)"
     ],
     "language": "python",
     "metadata": {},
     "outputs": [
      {
       "output_type": "stream",
       "stream": "stdout",
       "text": [
        "0\tWikimedia Commons\tFile:Gold_statuettes_from_the_Oxus_Treasure_by_Nickmard_Khoey.jpg\tadded [[Category:Archaeology in Tajikistan]] using [[Help:Gadget-HotCat|HotCat]] \n",
        "\n"
       ]
      },
      {
       "output_type": "stream",
       "stream": "stdout",
       "text": [
        "1\tGerman Wikipedia\tHotel_Florhof\t/* Das Hotel */ \n",
        "\n"
       ]
      },
      {
       "output_type": "stream",
       "stream": "stdout",
       "text": [
        "2\tWikidata\tQ2900609\t/* wbmergeitems-from:0||Q6041340 */ \n",
        "\n"
       ]
      },
      {
       "output_type": "stream",
       "stream": "stdout",
       "text": [
        "3\tEnglish Wikipedia\tSpecial:Log/newusers\tnew user account \n",
        "\n"
       ]
      },
      {
       "output_type": "stream",
       "stream": "stdout",
       "text": [
        "4\tWikidata\tQ17484447\t/* wbcreateclaim-create:1| */ [[Property:P21]]: [[Q6581097]] \n",
        "\n"
       ]
      },
      {
       "output_type": "stream",
       "stream": "stdout",
       "text": [
        "5\tEnglish Wikipedia\tWasted_(Margaret_song)\t \n",
        "\n"
       ]
      },
      {
       "output_type": "stream",
       "stream": "stdout",
       "text": [
        "6\tSwedish Wikipedia\tF_5_Ljungbyhed\t+commonscat \n",
        "\n"
       ]
      },
      {
       "output_type": "stream",
       "stream": "stdout",
       "text": [
        "7\tPortuguese Wikipedia\tExposi\u00e7\u00e3o_do_Centen\u00e1rio_da_Farroupilha\t \n",
        "\n"
       ]
      },
      {
       "output_type": "stream",
       "stream": "stdout",
       "text": [
        "8\tWikidata\tQ7744616\t/* wbsetsitelink-add:1|huwiki */ Szentik\u00e9k \u2013 A kis D\u00e1vid kalandjai \n",
        "\n"
       ]
      },
      {
       "output_type": "stream",
       "stream": "stdout",
       "text": [
        "9\tSpanish Wikipedia\tUsuario:Ravave\t \n",
        "\n"
       ]
      },
      {
       "output_type": "stream",
       "stream": "stdout",
       "text": [
        "10\tEnglish Wikipedia\tAsamoah_Gyan\tReverted 2 edits by [[Special:Contributions/GTVM92|GTVM92]] ([[User talk:GTVM92|talk]]): Still unsourced I see. ([[WP:TW|TW]]) \n",
        "\n"
       ]
      },
      {
       "output_type": "stream",
       "stream": "stdout",
       "text": [
        "11\tFarsi Wikipedia\t\u0648\u0631\u06af\u0632\t\u0631\u0628\u0627\u062a \u06af\u0645\u0631:\u0627\u0635\u0644\u0627\u062d \u0648 \u06af\u0632\u0627\u0631\u0634\u200c\u06af\u06cc\u0631\u06cc \u0627\u0632 \u0645\u0642\u0627\u0644\u0627\u062a \n",
        "\n"
       ]
      },
      {
       "output_type": "stream",
       "stream": "stdout",
       "text": [
        "12\tFrench Wikipedia\tSp\u00e9cial:Log/newusers\tNew user account\u00a0: iOS App Account Creation \n",
        "\n"
       ]
      },
      {
       "output_type": "stream",
       "stream": "stdout",
       "text": [
        "13\tGerman Wikipedia\tWikipedia:L\u00f6schkandidaten/6._August_2014\t/* Fabian Hansmann */ \n",
        "\n"
       ]
      },
      {
       "output_type": "stream",
       "stream": "stdout",
       "text": [
        "14\tFrench Wikipedia\tMichel_David_(auteur)\t \n",
        "\n"
       ]
      },
      {
       "output_type": "stream",
       "stream": "stdout",
       "text": [
        "15\tUkrainian Wikipedia\t\u0415\u043b\u0456\u0441\u0435\u043e_\u041c\u0435\u0439\u0444\u0440\u0435\u043d\t \n",
        "\n"
       ]
      },
      {
       "output_type": "stream",
       "stream": "stdout",
       "text": [
        "16\tEnglish Wikipedia\tGriselda_Gambaro\t/* Performance of Griselda Gambaro plays in the English Language */ 'The Camp 'performance in UK in 1981 \n",
        "\n"
       ]
      },
      {
       "output_type": "stream",
       "stream": "stdout",
       "text": [
        "17\tWikidata\tQ10444284\t/* wbsetsitelink-add:1|dewiki */ Wikipedia:WikiProjekt Mikroorganismen \n",
        "\n"
       ]
      },
      {
       "output_type": "stream",
       "stream": "stdout",
       "text": [
        "18\tDutch Wikipedia\tSpeciaal:Log/newusers\tNew user account: iOS App Account Creation \n",
        "\n"
       ]
      },
      {
       "output_type": "stream",
       "stream": "stdout",
       "text": [
        "19\tFrench Wikipedia\tUtilisateur:Dimdle/Brouillon2\t/* Articles connexes */ \n",
        "\n"
       ]
      },
      {
       "output_type": "stream",
       "stream": "stdout",
       "text": [
        "20\tFarsi Wikipedia\t\u0648\u0631\u06af\u0632\u06a9\t\u0631\u0628\u0627\u062a \u06af\u0645\u0631:\u0627\u0635\u0644\u0627\u062d \u0648 \u06af\u0632\u0627\u0631\u0634\u200c\u06af\u06cc\u0631\u06cc \u0627\u0632 \u0645\u0642\u0627\u0644\u0627\u062a \n",
        "\n"
       ]
      },
      {
       "output_type": "stream",
       "stream": "stdout",
       "text": [
        "21\tEnglish Wikipedia\tMemphis_May_Fire\t \n",
        "\n"
       ]
      },
      {
       "output_type": "stream",
       "stream": "stdout",
       "text": [
        "22\tBulgarian Wikipedia\t\u041b\u044a\u0440\u0433\u0430\u043d\t \n",
        "\n"
       ]
      },
      {
       "output_type": "stream",
       "stream": "stdout",
       "text": [
        "23\tWikimedia Commons\tFile:Shah_Jahan_Mosque,_Thatta.JPG\tPlease use [[Commons:Categories#For more appropriate categorization|meaningful categories]]. \n",
        "\n"
       ]
      },
      {
       "output_type": "stream",
       "stream": "stdout",
       "text": [
        "24\tSpanish Wikipedia\tRicky_Martin\t/* Labor social y humanitaria */ \n",
        "\n"
       ]
      },
      {
       "output_type": "stream",
       "stream": "stdout",
       "text": [
        "25\tPortuguese Wikipedia\tAndrus_Veerpalu\tRob\u00f4: Adicionando {{Commonscat}} \n",
        "\n"
       ]
      },
      {
       "output_type": "stream",
       "stream": "stdout",
       "text": [
        "26\tEnglish Wikipedia\tKumkum_(actress)\tadded [[Category:Year of birth missing (living people)]] using [[WP:HC|HotCat]] \n",
        "\n"
       ]
      },
      {
       "output_type": "stream",
       "stream": "stdout",
       "text": [
        "27\tEnglish Wikipedia\tSpecial:Log/patrol\tmarked [[\u000302Kabua\u000310]] patrolled  \n",
        "\n"
       ]
      },
      {
       "output_type": "stream",
       "stream": "stdout",
       "text": [
        "28\tFrench Wikipedia\tHatem_Ben_Arfa\t \n",
        "\n"
       ]
      },
      {
       "output_type": "stream",
       "stream": "stdout",
       "text": [
        "29\tEnglish Wikipedia\tSpecial:Log/newusers\tnew user account: iOS App Account Creation \n",
        "\n"
       ]
      },
      {
       "output_type": "stream",
       "stream": "stdout",
       "text": [
        "30\tEnglish Wikipedia\tJwaundace_Candece\tcategorization/tagging using [[Project:AWB|AWB]] \n",
        "\n"
       ]
      },
      {
       "output_type": "stream",
       "stream": "stdout",
       "text": [
        "31\tFrench Wikipedia\tJean_Loubi\u00e8re\t[[WP:WPC|WPCleaner]] v1.33 - [[P:HOM|Homonymies]] : Correction de 1 lien - [[Gardien de but]] \n",
        "\n"
       ]
      },
      {
       "output_type": "stream",
       "stream": "stdout",
       "text": [
        "32\tWikidata\tQ3175255\t/* wbcreateclaim-create:1| */ [[Property:P21]]: [[Q6581097]] \n",
        "\n"
       ]
      },
      {
       "output_type": "stream",
       "stream": "stdout",
       "text": [
        "33\tWikimedia Commons\tFile:Paris,_Eiffelturm_--_2014_--_1258.jpg\tCat, Ordering \n",
        "\n"
       ]
      },
      {
       "output_type": "stream",
       "stream": "stdout",
       "text": [
        "34\tEnglish Wikipedia\tUser_talk:Vt100\t/* Brenda Wootton */ yes \n",
        "\n"
       ]
      },
      {
       "output_type": "stream",
       "stream": "stdout",
       "text": [
        "35\tSpanish Wikipedia\tCassia\t \n",
        "\n"
       ]
      },
      {
       "output_type": "stream",
       "stream": "stdout",
       "text": [
        "36\tRussian Wikipedia\t\u0414\u043e\u0431\u0440\u0435\u0432,_\u041d\u0438\u043d\u0430\t/* \u0424\u0438\u043b\u044c\u043c\u043e\u0433\u0440\u0430\u0444\u0438\u044f */  \u0414\u043e\u0431\u0430\u0432\u0438\u043b\u0430 \u0440\u043e\u043b\u044c \u041d\u0438\u043d\u044b \u0432 \u0435\u0435 \u043d\u043e\u0432\u043e\u043c \u043f\u0440\u043e\u0435\u043a\u0442\u0435 \"\u0414\u0430\u0432\u0430\u0439 \u0431\u044b\u0442\u044c \u043a\u043e\u043f\u0430\u043c\u0438\"  \u0414\u043e\u0441\u0442\u043e\u0432\u0435\u0440\u043d\u043e\u0441\u0442\u044c \u043c\u043e\u0436\u043d\u043e \u043f\u0440\u043e\u0432\u0435\u0440\u0438\u0442\u044c \u044d\u0442\u0438\u043c \u0432\u0438\u0434\u0435\u043e https://www.youtube.com/watch?v=Xyjt\u2026 \n",
        "\n"
       ]
      },
      {
       "output_type": "stream",
       "stream": "stdout",
       "text": [
        "37\tPolish Wikipedia\tDyskusja:Arlo_Guthrie\t[[Dyskusja:Arlo Guthrie|\u2192]] Robot zg\u0142asza niedost\u0119pny link zewn\u0119trzny \n",
        "\n"
       ]
      },
      {
       "output_type": "stream",
       "stream": "stdout",
       "text": [
        "38\tEnglish Wikipedia\tLisbon\t/* top */ copyedit, the data doesn't seem to indicate largest port \n",
        "\n"
       ]
      },
      {
       "output_type": "stream",
       "stream": "stdout",
       "text": [
        "39\tEnglish Wikipedia\tUnited_Holy_Church_of_America\t/* Miscellaneous information */ \n",
        "\n"
       ]
      },
      {
       "output_type": "stream",
       "stream": "stdout",
       "text": [
        "40\tDutch Wikipedia\tJom_Kipoeroorlog\t/* Isra\u00ebl steekt het Suezkanaal over */ \n",
        "\n"
       ]
      },
      {
       "output_type": "stream",
       "stream": "stdout",
       "text": [
        "41\tFrench Wikipedia\tBurnley_Football_Club\t \n",
        "\n"
       ]
      },
      {
       "output_type": "stream",
       "stream": "stdout",
       "text": [
        "42\tWikidata\tQ13537440\t/* wbsetsitelink-add:1|cswiki */ Nejasn\u00e1 zpr\u00e1va o konci sv\u011bta \n",
        "\n"
       ]
      },
      {
       "output_type": "stream",
       "stream": "stdout",
       "text": [
        "43\tSpanish Wikipedia\tFestival_de_la_Canci\u00f3n_de_Eurovisi\u00f3n_2015\t \n",
        "\n"
       ]
      },
      {
       "output_type": "stream",
       "stream": "stdout",
       "text": [
        "44\tFarsi Wikipedia\t\u0648\u0631\u06af\u0633\t\u0631\u0628\u0627\u062a \u06af\u0645\u0631:\u0627\u0635\u0644\u0627\u062d \u0648 \u06af\u0632\u0627\u0631\u0634\u200c\u06af\u06cc\u0631\u06cc \u0627\u0632 \u0645\u0642\u0627\u0644\u0627\u062a \n",
        "\n"
       ]
      },
      {
       "output_type": "stream",
       "stream": "stdout",
       "text": [
        "45\tJapanese Wikipedia\t\u30a2\u30eb\u30d9\u30a4\u6e7e\t\u8ee2\u9001 \n",
        "\n"
       ]
      },
      {
       "output_type": "stream",
       "stream": "stdout",
       "text": [
        "46\tWikidata\tQ9372004\t/* wbsetclaim-create:2||1 */ [[Property:P180]]: [[Q1149531]] \n",
        "\n"
       ]
      },
      {
       "output_type": "stream",
       "stream": "stdout",
       "text": [
        "47\tFrench Wikipedia\t38e_Groupe-brigade_du_Canada\t/* Annexes */  -s \n",
        "\n"
       ]
      },
      {
       "output_type": "stream",
       "stream": "stdout",
       "text": [
        "48\tEnglish Wikipedia\tUser_talk:Fayenatic_london\t/* here's one of those mysterious edit glitches I think it was you I told about */ fixed \n",
        "\n"
       ]
      },
      {
       "output_type": "stream",
       "stream": "stdout",
       "text": [
        "49\tWikidata\tQ311699\t/* wbcreateclaim-create:1| */ [[Property:P69]]: [[Q52413]] \n",
        "\n"
       ]
      },
      {
       "output_type": "stream",
       "stream": "stdout",
       "text": [
        "50\tEnglish Wikipedia\tNet_investment\tclarifications \n",
        "\n"
       ]
      },
      {
       "output_type": "stream",
       "stream": "stdout",
       "text": [
        "51\tFrench Wikipedia\tCentre_mondial_des_finances_de_Shanghai\t \n",
        "\n"
       ]
      },
      {
       "output_type": "stream",
       "stream": "stdout",
       "text": [
        "52\tPortuguese Wikipedia\tShinegow\t \n",
        "\n"
       ]
      },
      {
       "output_type": "stream",
       "stream": "stdout",
       "text": [
        "53\tPortuguese Wikipedia\tAnexo:Lista_de_epis\u00f3dios_de_El_Chavo_animado\t/* 2\u00aa Temporada (2007-2008) */ \n",
        "\n"
       ]
      },
      {
       "output_type": "stream",
       "stream": "stdout",
       "text": [
        "54\tEnglish Wikipedia\tUser_talk:Juliannahf\t[[WP:Bots|Bot]]: Notice of potential markup breaking \n",
        "\n"
       ]
      },
      {
       "output_type": "stream",
       "stream": "stdout",
       "text": [
        "55\tRussian Wikipedia\t\u041a\u043e\u0441\u0442\u043e\u043c\u0430\u0440\u043e\u0432,_\u041d\u0438\u043a\u043e\u043b\u0430\u0439\t \n",
        "\n"
       ]
      },
      {
       "output_type": "stream",
       "stream": "stdout",
       "text": [
        "56\tEnglish Wikipedia\tOcicat\t/* Temperament */ trim down POV and unsourced vague content \n",
        "\n"
       ]
      },
      {
       "output_type": "stream",
       "stream": "stdout",
       "text": [
        "57\tFrench Wikipedia\tJuin_1963\tBr\u00e8ve allocution = [[pl\u00e9onasme]] (Si c\u2019est long, c\u2019est un discours, pas une allocution \n",
        "\n"
       ]
      },
      {
       "output_type": "stream",
       "stream": "stdout",
       "text": [
        "58\tEnglish Wikipedia\tVegeta\tlets leave it at this \n",
        "\n"
       ]
      },
      {
       "output_type": "stream",
       "stream": "stdout",
       "text": [
        "59\tArabic Wikipedia\t\u0627\u0644\u0645\u062f\u064a\u0629\t \n",
        "\n"
       ]
      },
      {
       "output_type": "stream",
       "stream": "stdout",
       "text": [
        "60\tGerman Wikipedia\tVera_F._Birkenbihl\t/* Weblinks */ erg. \n",
        "\n"
       ]
      },
      {
       "output_type": "stream",
       "stream": "stdout",
       "text": [
        "61\tEnglish Wikipedia\tCharlotte_Perrelli\tFilling in 21 references using [[WP:REFLINKS|Reflinks]] \n",
        "\n"
       ]
      },
      {
       "output_type": "stream",
       "stream": "stdout",
       "text": [
        "62\tWikimedia Commons\tSpecial:Log/abusefilter\tMadaiono triggered [[Special:AbuseFilter/12|filter 12]], performing the action \"edit\" on [[\u000302File:Stacked soparnik pieces 07.jpg\u000310]]. Actions taken: none ([[Special:AbuseLog/541290|details]]) \n",
        "\n"
       ]
      },
      {
       "output_type": "stream",
       "stream": "stdout",
       "text": [
        "63\tWikimedia Commons\tFile:Stacked_soparnik_pieces_07.jpg\tRemoving [[Template:Watermark|{{Watermark}}]] \n",
        "\n"
       ]
      },
      {
       "output_type": "stream",
       "stream": "stdout",
       "text": [
        "64\tEnglish Wikipedia\t2014_Little_League_World_Series_qualification\tAdded links \n",
        "\n"
       ]
      },
      {
       "output_type": "stream",
       "stream": "stdout",
       "text": [
        "65\tFarsi Wikipedia\t\u0648\u0631\u06af\u0633\u060c_\u06a9\u062a\u0644\u0646\u06cc\u0627\t\u0631\u0628\u0627\u062a \u06af\u0645\u0631:\u0627\u0635\u0644\u0627\u062d \u0648 \u06af\u0632\u0627\u0631\u0634\u200c\u06af\u06cc\u0631\u06cc \u0627\u0632 \u0645\u0642\u0627\u0644\u0627\u062a \n",
        "\n"
       ]
      },
      {
       "output_type": "stream",
       "stream": "stdout",
       "text": [
        "66\tEnglish Wikipedia\tNeil_Breslin\tUndid revision 620107010 by [[Special:Contributions/Lincolnite|Lincolnite]] ([[User talk:Lincolnite|talk]]) \n",
        "\n"
       ]
      },
      {
       "output_type": "stream",
       "stream": "stdout",
       "text": [
        "67\tWikimedia Commons\tFile:Wiki_Loves_Monuments_South_Africa_WikiIndaba_2014_presentation.png\tadded [[Category:Wiki Loves Monuments in South Africa]] using [[Help:Gadget-HotCat|HotCat]] \n",
        "\n"
       ]
      },
      {
       "output_type": "stream",
       "stream": "stdout",
       "text": [
        "68\tEnglish Wikipedia\tSpecial:Log/abusefilter\tXmag10 triggered [[Special:AbuseFilter/29|filter 29]], performing the action \"edit\" on [[\u000302X magazine\u000310]]. Actions taken: Tag ([[Special:AbuseLog/10680017|details]]) \n",
        "\n"
       ]
      },
      {
       "output_type": "stream",
       "stream": "stdout",
       "text": [
        "69\tEnglish Wikipedia\tX_magazine\t \n",
        "\n"
       ]
      },
      {
       "output_type": "stream",
       "stream": "stdout",
       "text": [
        "70\tEnglish Wikipedia\tTalk:St_Etheldreda's_Church\t/* Removed unsourced content */ Where the information should probably go \n",
        "\n"
       ]
      },
      {
       "output_type": "stream",
       "stream": "stdout",
       "text": [
        "71\tChinese Wikipedia\tSpecial:Log/newusers\t\u65b0\u7528\u6237 \n",
        "\n"
       ]
      },
      {
       "output_type": "stream",
       "stream": "stdout",
       "text": [
        "72\tGerman Wikipedia\tSpezial:Log/review\tsichtete eine Version von \u201e[[\u000302Clara Fey\u000310]]\u201c \n",
        "\n"
       ]
      },
      {
       "output_type": "stream",
       "stream": "stdout",
       "text": [
        "73\tDanish Wikipedia\tLorenzo_Booker\topdaterer \n",
        "\n"
       ]
      },
      {
       "output_type": "stream",
       "stream": "stdout",
       "text": [
        "74\tEnglish Wikipedia\tModesta_Avila\t \n",
        "\n"
       ]
      },
      {
       "output_type": "stream",
       "stream": "stdout",
       "text": [
        "75\tEnglish Wikipedia\tHamburg_Airport\t/* Airlines and destinations */ event charters that are operated less than once a week are not qualified to be listed here \n",
        "\n"
       ]
      },
      {
       "output_type": "stream",
       "stream": "stdout",
       "text": [
        "76\tRussian Wikipedia\t\u0421\u043f\u0438\u0441\u043e\u043a_\u0443\u043c\u0435\u0440\u0448\u0438\u0445_\u0432_1229_\u0433\u043e\u0434\u0443\t \n",
        "\n"
       ]
      },
      {
       "output_type": "stream",
       "stream": "stdout",
       "text": [
        "77\tRussian Wikipedia\t\u0412\u0438\u043a\u0438\u043f\u0435\u0434\u0438\u044f:\u0424\u043e\u0440\u0443\u043c/\u0422\u0435\u0445\u043d\u0438\u0447\u0435\u0441\u043a\u0438\u0439\t/* \u041f\u043e\u043b\u043e\u043c\u043a\u0430 \u0448\u0430\u0431\u043b\u043e\u043d\u043e\u0432 \u0441\u0432\u044f\u0437\u0438 \u0441 \u0412\u0414? */ \n",
        "\n"
       ]
      },
      {
       "output_type": "stream",
       "stream": "stdout",
       "text": [
        "78\tItalian Wikipedia\tSpeciale:Log/delete\tdeleted \"[[\u000302Categoria:Copa El Bosque 2010\u000310]]\": ([[WP:IMMEDIATA|C6]]) Categoria vuota e/o sostituita: l'unico contributore era '[[Special:Contributions/Matlab1985|Matlab1985]]' \n",
        "\n"
       ]
      },
      {
       "output_type": "stream",
       "stream": "stdout",
       "text": [
        "79\tKorean Wikipedia\t\ud2b9\uc218:Log/newusers\tNew user account: iOS App Account Creation \n",
        "\n"
       ]
      },
      {
       "output_type": "stream",
       "stream": "stdout",
       "text": [
        "80\tFarsi Wikipedia\t\u0648\u0631\u06af\u0633\u060c_\u0645\u06cc\u0646\u0647\u200c\u0633\u0648\u062a\u0627\t\u0631\u0628\u0627\u062a \u06af\u0645\u0631:\u0627\u0635\u0644\u0627\u062d \u0648 \u06af\u0632\u0627\u0631\u0634\u200c\u06af\u06cc\u0631\u06cc \u0627\u0632 \u0645\u0642\u0627\u0644\u0627\u062a \n",
        "\n"
       ]
      },
      {
       "output_type": "stream",
       "stream": "stdout",
       "text": [
        "81\tWikidata\tQ1661831\t/* wbcreateclaim-create:1| */ [[Property:P31]]: [[Q16970]] \n",
        "\n"
       ]
      },
      {
       "output_type": "stream",
       "stream": "stdout",
       "text": [
        "82\tWikidata\tQ13537440\t/* wbsetlabel-add:1|cs */ Nejasn\u00e1 zpr\u00e1va o konci sv\u011bta \n",
        "\n"
       ]
      },
      {
       "output_type": "stream",
       "stream": "stdout",
       "text": [
        "83\tItalian Wikipedia\tSpeciale:Log/newusers\tNew user account \n",
        "\n"
       ]
      },
      {
       "output_type": "stream",
       "stream": "stdout",
       "text": [
        "84\tEnglish Wikipedia\tTemplate:Sciorgsestcat\tfix \n",
        "\n"
       ]
      },
      {
       "output_type": "stream",
       "stream": "stdout",
       "text": [
        "85\tWikidata\tQ192279\t/* wbsetreference-add:2| */ [[Property:P569]]: 29 December 1882 \n",
        "\n"
       ]
      },
      {
       "output_type": "stream",
       "stream": "stdout",
       "text": [
        "86\tGerman Wikipedia\tWikipedia:L\u00f6schkandidaten/27._Juli_2014\t/* Vorlage:GCD */ aw \n",
        "\n"
       ]
      },
      {
       "output_type": "stream",
       "stream": "stdout",
       "text": [
        "87\tWikimedia Commons\tFile:Paul_du_Bois-Dame_assise.jpg\t/* {{int:filedesc}} */ \n",
        "\n"
       ]
      },
      {
       "output_type": "stream",
       "stream": "stdout",
       "text": [
        "88\tWikimedia Commons\tFile:PKO_zblizak_zyrafka.jpg\tadded [[Category:Giraffes in art]] using [[Help:Gadget-HotCat|HotCat]] \n",
        "\n"
       ]
      },
      {
       "output_type": "stream",
       "stream": "stdout",
       "text": [
        "89\tEnglish Wikipedia\tSpecial:Log/newusers\tnew user account: iOS App Account Creation \n",
        "\n"
       ]
      },
      {
       "output_type": "stream",
       "stream": "stdout",
       "text": [
        "90\tEnglish Wikipedia\tAdvanced_metrics\tminoredit \n",
        "\n"
       ]
      },
      {
       "output_type": "stream",
       "stream": "stdout",
       "text": [
        "91\tPolish Wikipedia\tSpecjalna:Log/review\tprzejrzano wersj\u0119 [[\u000302Czy\u017cew\u000310]] \n",
        "\n"
       ]
      },
      {
       "output_type": "stream",
       "stream": "stdout",
       "text": [
        "92\tWikimedia Commons\tCategory:Museums_established_in_1978\t \n",
        "\n"
       ]
      },
      {
       "output_type": "stream",
       "stream": "stdout",
       "text": [
        "93\tFarsi Wikipedia\t\u0648\u0631\u06af\u0633\u060c_\u06cc\u0648\u0631\u0627\t\u0631\u0628\u0627\u062a \u06af\u0645\u0631:\u0627\u0635\u0644\u0627\u062d \u0648 \u06af\u0632\u0627\u0631\u0634\u200c\u06af\u06cc\u0631\u06cc \u0627\u0632 \u0645\u0642\u0627\u0644\u0627\u062a \n",
        "\n"
       ]
      },
      {
       "output_type": "stream",
       "stream": "stdout",
       "text": [
        "94\tChinese Wikipedia\t\u534e\u4eba\u65b0\u6751\t/* \u67d4\u4f5b */ \n",
        "\n"
       ]
      },
      {
       "output_type": "stream",
       "stream": "stdout",
       "text": [
        "95\tFrench Wikipedia\tWikip\u00e9dia:Le_Bistro/6_ao\u00fbt_2014\t/* Utilisateur:Taguelmoust */ joke \n",
        "\n"
       ]
      },
      {
       "output_type": "stream",
       "stream": "stdout",
       "text": [
        "96\tPortuguese Wikipedia\tEspecial:Log/patrol\tmarcou a revision 39707883 da p\u00e1gina [[\u000302Moacyr Franco\u000310]] como verificada  \n",
        "\n"
       ]
      },
      {
       "output_type": "stream",
       "stream": "stdout",
       "text": [
        "97\tNorwegian Wikipedia\tBrukerdiskusjon:Ooo86\t/* Su\u00f0uroy */ + \n",
        "\n"
       ]
      },
      {
       "output_type": "stream",
       "stream": "stdout",
       "text": [
        "98\tSpanish Wikipedia\tAlan_Pulido\t \n",
        "\n"
       ]
      },
      {
       "output_type": "stream",
       "stream": "stdout",
       "text": [
        "99\tEnglish Wikipedia\tUser_talk:JFB80\t/* Edits in the Mehler kernel */ \n",
        "\n"
       ]
      },
      {
       "output_type": "stream",
       "stream": "stdout",
       "text": [
        "100\tPortuguese Wikipedia\tEspecial:Log/abusefilter\t200.150.171.112 acionou o filtro [[Especial:Filtro de abusos/4|filtro 4]], ao executar a a\u00e7\u00e3o \"edit\" no artigo [[\u0003024 de novembro\u000310]]. A\u00e7\u00f5es realizadas: Etiquetar ([[Especial:Registro de abusos/1763823|detalhes]]) \n",
        "\n"
       ]
      },
      {
       "output_type": "stream",
       "stream": "stdout",
       "text": [
        "101\tPortuguese Wikipedia\tEspecial:Log/abusefilter\t200.150.171.112 acionou o filtro [[Especial:Filtro de abusos/18|filtro 18]], ao executar a a\u00e7\u00e3o \"edit\" no artigo [[\u0003024 de novembro\u000310]]. A\u00e7\u00f5es realizadas: N\u00e3o autorizar ([[Especial:Registro de abusos/1763824|detalhes]]) \n",
        "\n"
       ]
      },
      {
       "output_type": "stream",
       "stream": "stdout",
       "text": [
        "102\tItalian Wikipedia\tUtente:Euparkeria/Contollare/Segnalazione\t \n",
        "\n"
       ]
      },
      {
       "output_type": "stream",
       "stream": "stdout",
       "text": [
        "103\tPortuguese Wikipedia\tAlexandre_Moreno_(dublador)\t/* Lista de trabalhos */ \n",
        "\n"
       ]
      },
      {
       "output_type": "stream",
       "stream": "stdout",
       "text": [
        "104\tRussian Wikipedia\t\u0421\u043b\u0443\u0436\u0435\u0431\u043d\u0430\u044f:Log/delete\t\u0443\u0434\u0430\u043b\u0438\u043b \u0421\u0442\u0430\u0440\u043e\u0434\u0443\u0431 \u0412\u0438\u043a\u0442\u043e\u0440: [[\u0412\u041f:\u041a\u0411\u0423#\u04212|\u04212]]: \u043d\u0435 \u043d\u0430 \u0440\u0443\u0441\u0441\u043a\u043e\u043c \u044f\u0437\u044b\u043a\u0435 \u0438\u043b\u0438 \u043c\u0430\u0448\u0438\u043d\u043d\u044b\u0439 \u043f\u0435\u0440\u0435\u0432\u043e\u0434: /*CURRICULUM VITAE                                    Numele \u015fi prenum...*/ (\u0430\u0432\u0442\u043e\u0440 [[Special:Contributions/188.237.75.179|188.237.75.179]]) \n",
        "\n"
       ]
      },
      {
       "output_type": "stream",
       "stream": "stdout",
       "text": [
        "105\tPolish Wikipedia\tDyskusja:Arma-Goddamn-Motherfuckin-Geddon\t[[Dyskusja:Arma-Goddamn-Motherfuckin-Geddon|\u2192]] Robot zg\u0142asza niedost\u0119pny link zewn\u0119trzny \n",
        "\n"
       ]
      },
      {
       "output_type": "stream",
       "stream": "stdout",
       "text": [
        "106\tUkrainian Wikipedia\t\u041c\u043e\u043b\u043e\u0434\u0456\u0436\u043d\u0438\u0439_\u0447\u0435\u043c\u043f\u0456\u043e\u043d\u0430\u0442_\u0441\u0432\u0456\u0442\u0443_\u0437_\u0445\u043e\u043a\u0435\u044e_\u0456\u0437_\u0448\u0430\u0439\u0431\u043e\u044e_2012\t\u0434\u043e\u0434\u0430\u043d\u0430 [[\u041a\u0430\u0442\u0435\u0433\u043e\u0440\u0456\u044f:\u0427\u0435\u043c\u043f\u0456\u043e\u043d\u0430\u0442 \u0441\u0432\u0456\u0442\u0443 \u0437 \u0445\u043e\u043a\u0435\u044e \u0456\u0437 \u0448\u0430\u0439\u0431\u043e\u044e \u0441\u0435\u0440\u0435\u0434 \u043c\u043e\u043b\u043e\u0434\u0456\u0436\u043d\u0438\u0445 \u043a\u043e\u043c\u0430\u043d\u0434]] \u0437 \u0434\u043e\u043f\u043e\u043c\u043e\u0433\u043e\u044e [[\u0412\u041f:HC|HotCat]] \n",
        "\n"
       ]
      },
      {
       "output_type": "stream",
       "stream": "stdout",
       "text": [
        "107\tFarsi Wikipedia\t\u0648\u0631\u06af\u0645_\u0622\u0644\u06af\u0631\t\u0631\u0628\u0627\u062a \u06af\u0645\u0631:\u0627\u0635\u0644\u0627\u062d \u0648 \u06af\u0632\u0627\u0631\u0634\u200c\u06af\u06cc\u0631\u06cc \u0627\u0632 \u0645\u0642\u0627\u0644\u0627\u062a \n",
        "\n"
       ]
      },
      {
       "output_type": "stream",
       "stream": "stdout",
       "text": [
        "108\tEnglish Wikipedia\tNigel_Vinson,_Baron_Vinson\tadded references \n",
        "\n"
       ]
      },
      {
       "output_type": "stream",
       "stream": "stdout",
       "text": [
        "109\tEnglish Wikipedia\tFK_Lofoten\t/* Recent history */ \n",
        "\n"
       ]
      },
      {
       "output_type": "stream",
       "stream": "stdout",
       "text": [
        "110\tFarsi Wikipedia\t\u0642\u0644\u0639\u0647\u200c\u0646\u0648_\u062e\u0631\u0642\u0627\u0646\t\u0648\u06cc\u0631\u0627\u06cc\u0634 [[Special:Contributions/Mohammadsafari73|Mohammadsafari73]] ([[User talk:Mohammadsafari73|\u0628\u062d\u062b]]) \u0628\u0647 \u0622\u062e\u0631\u06cc\u0646 \u062a\u063a\u06cc\u06cc\u0631\u06cc \u06a9\u0647 [[User:Oyakmohsen|Oyakmohsen]] \u0627\u0646\u062c\u0627\u0645 \u062f\u0627\u062f\u0647 \u0628\u0648\u062f \u0648\u0627\u06af\u0631\u062f\u0627\u0646\u062f\u0647 \u0634\u062f \n",
        "\n"
       ]
      },
      {
       "output_type": "stream",
       "stream": "stdout",
       "text": [
        "111\tEnglish Wikipedia\tNeumont_University\t/* Academics */ \n",
        "\n"
       ]
      },
      {
       "output_type": "stream",
       "stream": "stdout",
       "text": [
        "112\tWikimedia Commons\tCategory:VH-LUG_(aircraft)\t[[COM:AES|\u2190]]Created page with '[[Category:Aircraft by registration]] [[Category:Aircraft registered in Australia]] [[Category:Lake Buccaneer]]' \n",
        "\n"
       ]
      },
      {
       "output_type": "stream",
       "stream": "stdout",
       "text": [
        "113\tEnglish Wikipedia\tSLAP_tear\tRepetition removed \n",
        "\n"
       ]
      },
      {
       "output_type": "stream",
       "stream": "stdout",
       "text": [
        "114\tCzech Wikipedia\tWikipedie:Ohlasy_v_m\u00e9di\u00edch\t/* Srpen */ +3 \n",
        "\n"
       ]
      },
      {
       "output_type": "stream",
       "stream": "stdout",
       "text": [
        "115\tFrench Wikipedia\tStatistiques_et_records_de_l'\u00e9quipe_d'Alg\u00e9rie_de_football\t/* Records de l'\u00e9quipe d'Alg\u00e9rie */ \n",
        "\n"
       ]
      },
      {
       "output_type": "stream",
       "stream": "stdout",
       "text": [
        "116\tGreek Wikipedia\t\u0395\u03b9\u03b4\u03b9\u03ba\u03cc:Log/upload\t\u03b1\u03bd\u03ad\u03b2\u03b1\u03c3\u03bc\u03b1 \u03c4\u03bf\u03c5 \"[[\u000302\u0391\u03c1\u03c7\u03b5\u03af\u03bf:Leek Town F.C. logo.png\u000310]]\": {{\u03a0\u03bb\u03b7\u03c1\u03bf\u03c6\u03bf\u03c1\u03af\u03b5\u03c2 \u03b5\u03b9\u03ba\u03cc\u03bd\u03b1\u03c2 |\u03a0\u03b5\u03c1\u03b9\u03b3\u03c1\u03b1\u03c6\u03ae=\u03a4\u03bf \u03ad\u03bc\u03b2\u03bb\u03b7\u03bc\u03b1 \u03c4\u03b7\u03c2 \u039b\u03b9\u03ba \u03a4\u03ac\u03bf\u03c5\u03b2 |\u03a0\u03b7\u03b3\u03ae=[https://en.wikipedia.org/wiki/File:Leek_Town_F.C._logo.png ] |\u0397\u03bc\u03b5\u03c1\u03bf\u03bc\u03b7\u03bd\u03af\u03b1=8 \u0391\u03c5\u03b3\u03bf\u03cd\u03c3\u03c4\u03bf\u03c5 2014 |\u0394\u03b7\u03bc\u03b9\u03bf\u03c5\u03c1\u03b3\u03cc\u03c2=Leek... \n",
        "\n"
       ]
      },
      {
       "output_type": "stream",
       "stream": "stdout",
       "text": [
        "117\tEnglish Wikipedia\tPhillip_Steck\tUndid revision 620107007 by [[Special:Contributions/Lincolnite|Lincolnite]] ([[User talk:Lincolnite|talk]]) \n",
        "\n"
       ]
      },
      {
       "output_type": "stream",
       "stream": "stdout",
       "text": [
        "118\tEnglish Wikipedia\tUser:Altre83/sandbox\t/* Immediate family */ \n",
        "\n"
       ]
      },
      {
       "output_type": "stream",
       "stream": "stdout",
       "text": [
        "119\tEnglish Wikipedia\tPostman_Pat:_The_Movie\t/* Box office */ \n",
        "\n"
       ]
      },
      {
       "output_type": "stream",
       "stream": "stdout",
       "text": [
        "120\tDutch Wikipedia\tJohn_Vereker\t/* Decoraties */ \n",
        "\n"
       ]
      },
      {
       "output_type": "stream",
       "stream": "stdout",
       "text": [
        "121\tFarsi Wikipedia\t\u0648\u0631\u06af\u0645_\u067e\u0642\u0648\u0646\u0627\u060c_\u0631\u06cc\u0648_\u062f\u0648_\u0698\u0627\u0646\u06cc\u0631\u0648\t\u0631\u0628\u0627\u062a \u06af\u0645\u0631:\u0627\u0635\u0644\u0627\u062d \u0648 \u06af\u0632\u0627\u0631\u0634\u200c\u06af\u06cc\u0631\u06cc \u0627\u0632 \u0645\u0642\u0627\u0644\u0627\u062a \n",
        "\n"
       ]
      },
      {
       "output_type": "stream",
       "stream": "stdout",
       "text": [
        "122\tFrench Wikipedia\tMeilleurs_buteurs_du_championnat_d'Italie_de_football\t/* Classement g\u00e9n\u00e9ral */ Ajout \"Les meilleurs buteurs en activit\u00e9\" \n",
        "\n"
       ]
      },
      {
       "output_type": "stream",
       "stream": "stdout",
       "text": [
        "123\tFrench Wikipedia\tCat\u00e9gorie:Tous_les_articles_dont_l'admissibilit\u00e9_est_\u00e0_v\u00e9rifier\t4006 articles) (Bot: Mise \u00e0 jour de la liste des articles r\u00e9cents (+ [[Emetteur du Mont Pin\u00e7on]]; + [[Lionel Barbe]]; + [[K\u014dki Mitani]]) \n",
        "\n"
       ]
      },
      {
       "output_type": "stream",
       "stream": "stdout",
       "text": [
        "124\tWikidata\tQ187672\tUndid revision 147210352 by [[Special:Contributions/GerardM|GerardM]] ([[User talk:GerardM|talk]]) \n",
        "\n"
       ]
      },
      {
       "output_type": "stream",
       "stream": "stdout",
       "text": [
        "125\tGerman Wikipedia\tErmita_de_la_Salut_(El_Papiol)\tErg. \n",
        "\n"
       ]
      },
      {
       "output_type": "stream",
       "stream": "stdout",
       "text": [
        "126\tKorean Wikipedia\t\ud2b9\uc218:Log/newusers\tNew user account: iOS App Account Creation \n",
        "\n"
       ]
      },
      {
       "output_type": "stream",
       "stream": "stdout",
       "text": [
        "127\tEnglish Wikipedia\tLuis_L\u00f3pez_Nieves\tremoving [[WP:PEACOCK|puffery]] \n",
        "\n"
       ]
      },
      {
       "output_type": "stream",
       "stream": "stdout",
       "text": [
        "128\tEnglish Wikipedia\tSpecial:Log/newusers\tcreated new account User:Pkibuddy: Requested account at [[WP:ACC]], request #123980 \n",
        "\n"
       ]
      },
      {
       "output_type": "stream",
       "stream": "stdout",
       "text": [
        "129\tWikimedia Commons\tFile:Nurd_Kamal_Mosque.jpg\t[[Help:Cat-a-lot|Cat-a-lot]]: Removing from [[Category:Blue mosques]] \n",
        "\n"
       ]
      },
      {
       "output_type": "stream",
       "stream": "stdout",
       "text": [
        "130\tSpanish Wikipedia\tWikiproyecto_Discusi\u00f3n:Internet\t \n",
        "\n"
       ]
      },
      {
       "output_type": "stream",
       "stream": "stdout",
       "text": [
        "131\tWikimedia Commons\tFile:Muscat_flickr05.jpg\t[[Help:Cat-a-lot|Cat-a-lot]]: Removing from [[Category:Blue mosques]] \n",
        "\n"
       ]
      },
      {
       "output_type": "stream",
       "stream": "stdout",
       "text": [
        "132\tItalian Wikipedia\tG.R.L._(EP)\t \n",
        "\n"
       ]
      },
      {
       "output_type": "stream",
       "stream": "stdout",
       "text": [
        "133\tEnglish Wikipedia\tSpecial:Log/newusers\tnew user account \n",
        "\n"
       ]
      },
      {
       "output_type": "stream",
       "stream": "stdout",
       "text": [
        "134\tWikimedia Commons\tFile:World_Islamic_Mission_4.jpg\t[[Help:Cat-a-lot|Cat-a-lot]]: Removing from [[Category:Blue mosques]] \n",
        "\n"
       ]
      },
      {
       "output_type": "stream",
       "stream": "stdout",
       "text": [
        "135\tRussian Wikipedia\t\u041c\u0430\u0440\u0442\u0438\u043d\u043e\u0432\u0438\u0447,_\u041c\u0438\u0445\u0430\u0438\u043b_\u0410\u043b\u0435\u043a\u0441\u0435\u0435\u0432\u0438\u0447\t\u0420\u043e\u0431\u043e\u0442: \u0410\u0432\u0442\u043e\u0437\u0430\u043c\u0435\u043d\u0430: \u0438\u0441\u043f\u0440\u0430\u0432\u043b\u0435\u043d\u0438\u0435 \u043f\u0430\u0440\u0430\u043c\u0435\u0442\u0440\u0430 \u043a\u0430\u0440\u0442\u043e\u0447\u043a\u0438 \u0424\u0443\u0442\u0431\u043e\u043b\u0438\u0441\u0442 \n",
        "\n"
       ]
      },
      {
       "output_type": "stream",
       "stream": "stdout",
       "text": [
        "136\tWikimedia Commons\tCategory:Athletics_at_the_2014_Commonwealth_Games\tadded [[Category:2014 in athletics]] using [[Help:Gadget-HotCat|HotCat]] \n",
        "\n"
       ]
      },
      {
       "output_type": "stream",
       "stream": "stdout",
       "text": [
        "137\tWikimedia Commons\tFile:Bunnia_mosque_-_Flickr_-_Al_Jazeera_English.jpg\t[[Help:Cat-a-lot|Cat-a-lot]]: Removing from [[Category:Blue mosques]] \n",
        "\n"
       ]
      },
      {
       "output_type": "stream",
       "stream": "stdout",
       "text": [
        "138\tWikimedia Commons\tCategory:Airline_company_headquarters_in_Norway\tCreated category \n",
        "\n"
       ]
      },
      {
       "output_type": "stream",
       "stream": "stdout",
       "text": [
        "139\tGerman Wikipedia\tWikipedia_Diskussion:Meinungsbilder/Lebensdaten_in_biografischen_Artikeln\t/* Kompliziert/komplex vs. einfach - Teil II */ \n",
        "\n"
       ]
      },
      {
       "output_type": "stream",
       "stream": "stdout",
       "text": [
        "140\tWikidata\tQ514863\t/* wbsetdescription-add:1|fa */ Auto-description for Persian \n",
        "\n"
       ]
      },
      {
       "output_type": "stream",
       "stream": "stdout",
       "text": [
        "141\tEnglish Wikipedia\tUser_talk:MamaVahirua\tNotification: proposed deletion of [[St\u00e9phane Sparagna]]. ([[WP:TW|TW]]) \n",
        "\n"
       ]
      },
      {
       "output_type": "stream",
       "stream": "stdout",
       "text": [
        "142\tEnglish Wikipedia\tSt\u00e9phane_Sparagna\tProposing article for deletion per [[WP:PROD]]. ([[WP:TW|TW]]) \n",
        "\n"
       ]
      },
      {
       "output_type": "stream",
       "stream": "stdout",
       "text": [
        "143\tFrench Wikipedia\tJacob_Spoonley\t[[WP:WPC|WPCleaner]] v1.33 - [[P:HOM|Homonymies]] : Correction de 1 lien - [[Gardien de but]] \n",
        "\n"
       ]
      },
      {
       "output_type": "stream",
       "stream": "stdout",
       "text": [
        "144\tEnglish Wikipedia\tWikipedia_talk:WikiProject_Football\t/* Louis can Gaal */ new section \n",
        "\n"
       ]
      },
      {
       "output_type": "stream",
       "stream": "stdout",
       "text": [
        "145\tEnglish Wikipedia\tTemplate:Liverpool_F.C._squad\tCoady departs \n",
        "\n"
       ]
      },
      {
       "output_type": "stream",
       "stream": "stdout",
       "text": [
        "146\tChinese Wikipedia\tTalk:\u6bdb\u6cfd\u4e1c\t/* \u67e5\u7f3a\u8865\u6f0f */ \n",
        "\n"
       ]
      },
      {
       "output_type": "stream",
       "stream": "stdout",
       "text": [
        "147\tFarsi Wikipedia\t\u0648\u0631\u06af\u0645_\u06af\u0631\u0627\u0646\u062f\u060c_\u0631\u06cc\u0648_\u062f\u0648_\u0698\u0627\u0646\u06cc\u0631\u0648\t\u0631\u0628\u0627\u062a \u06af\u0645\u0631:\u0627\u0635\u0644\u0627\u062d \u0648 \u06af\u0632\u0627\u0631\u0634\u200c\u06af\u06cc\u0631\u06cc \u0627\u0632 \u0645\u0642\u0627\u0644\u0627\u062a \n",
        "\n"
       ]
      },
      {
       "output_type": "stream",
       "stream": "stdout",
       "text": [
        "148\tEnglish Wikipedia\tUser:Richard_Arthur_Norton_(1958-_)/Marguerite_Standish_Cockett\tBorn on August 7, 1878, she graduated from the Women's Medical College of Philadelphia in 1905, interned at New England Hospital from 1905 to 1906 and studied ophthalmology in Paris and London in 1909-1910. \n",
        "\n"
       ]
      },
      {
       "output_type": "stream",
       "stream": "stdout",
       "text": [
        "149\tEnglish Wikipedia\tSpecial:Log/newusers\tnew user account: iOS App Account Creation \n",
        "\n"
       ]
      },
      {
       "output_type": "stream",
       "stream": "stdout",
       "text": [
        "150\tGerman Wikipedia\tNitrosomonas\tkorr. \n",
        "\n"
       ]
      },
      {
       "output_type": "stream",
       "stream": "stdout",
       "text": [
        "151\tEnglish Wikipedia\tTurkey\t \n",
        "\n"
       ]
      },
      {
       "output_type": "stream",
       "stream": "stdout",
       "text": [
        "152\tPortuguese Wikipedia\tAnexo:Lista_de_pa\u00edses_por_\u00cdndice_de_Desenvolvimento_Humano_(2009)\t/* Desenvolvimento humano muito elevado */ \n",
        "\n"
       ]
      },
      {
       "output_type": "stream",
       "stream": "stdout",
       "text": [
        "153\tEnglish Wikipedia\tMetro-Goldwyn-Mayer\t \n",
        "\n"
       ]
      },
      {
       "output_type": "stream",
       "stream": "stdout",
       "text": [
        "154\tEnglish Wikipedia\tOne_Chance_(video_game)\t[[WP:AES|\u2190]]Created page with ''''''One Chance''''' is a Flash video game by AwkwardSilenceGames.  ==Development== Thge game is called \"One Chance\" because the player literally has one chance...' \n",
        "\n"
       ]
      },
      {
       "output_type": "stream",
       "stream": "stdout",
       "text": [
        "155\tPortuguese Wikipedia\tGera\u00e7\u00e3o_Brasil\t \n",
        "\n"
       ]
      },
      {
       "output_type": "stream",
       "stream": "stdout",
       "text": [
        "156\tEnglish Wikipedia\tLevi's_Stadium\t+ Stadium Series \n",
        "\n"
       ]
      },
      {
       "output_type": "stream",
       "stream": "stdout",
       "text": [
        "157\tEnglish Wikipedia\t1st_Picardy\tnew article \n",
        "\n"
       ]
      },
      {
       "output_type": "stream",
       "stream": "stdout",
       "text": [
        "158\tRussian Wikipedia\t\u041e\u0431\u0441\u0443\u0436\u0434\u0435\u043d\u0438\u0435:\u041f\u0440\u044f\u043c\u0430\u044f_\u0441\u0443\u043c\u043c\u0430\t/* \u043f\u0440\u044f\u043c\u0430\u044f \u0441\u0443\u043c\u043c\u0430 \u0442\u0440\u0435\u0445 \u043f\u0440\u044f\u043c\u044b\u0445 */ \n",
        "\n"
       ]
      },
      {
       "output_type": "stream",
       "stream": "stdout",
       "text": [
        "159\tEnglish Wikipedia\tVishnu\t \n",
        "\n"
       ]
      },
      {
       "output_type": "stream",
       "stream": "stdout",
       "text": [
        "160\tEnglish Wikipedia\t2014_West_Africa_Ebola_outbreak\t/* Treatment */ Deleted \"based on plants\". Treatment is monoclonal antibodies manufactured in a plant (as stated below), it is not based on plants. \n",
        "\n"
       ]
      },
      {
       "output_type": "stream",
       "stream": "stdout",
       "text": [
        "161\tEnglish Wikipedia\tList_of_programs_broadcast_by_IBC\tList of programs broadcast by IBC \n",
        "\n"
       ]
      },
      {
       "output_type": "stream",
       "stream": "stdout",
       "text": [
        "162\tWikidata\tQ514866\t/* wbsetdescription-add:1|fa */ Auto-description for Persian \n",
        "\n"
       ]
      },
      {
       "output_type": "stream",
       "stream": "stdout",
       "text": [
        "163\tWikidata\tQ9372004\t/* wbsetclaim-create:2||1 */ [[Property:P180]]: [[Q38774]] \n",
        "\n"
       ]
      },
      {
       "output_type": "stream",
       "stream": "stdout",
       "text": [
        "164\tEnglish Wikipedia\tList_of_Billboard_200_number-one_albums_of_2014\t#1 confirmed, source added \n",
        "\n"
       ]
      },
      {
       "output_type": "stream",
       "stream": "stdout",
       "text": [
        "165\tWikimedia Commons\tFile:Senden,_Dortmund-Ems-Kanal_--_2014_--_3001.jpg\tCat, Ordering \n",
        "\n"
       ]
      },
      {
       "output_type": "stream",
       "stream": "stdout",
       "text": [
        "166\tJapanese Wikipedia\tCategory:\u30cf\u30f3\u30ac\u30ea\u30fc\u306e\u30dd\u30eb\u30ce\u5973\u512a\t \n",
        "\n"
       ]
      },
      {
       "output_type": "stream",
       "stream": "stdout",
       "text": [
        "167\tRussian Wikipedia\t\u0412\u0435\u0441\u0451\u043b\u043e\u0435_\u0441\u043d\u043e\u0432\u0438\u0434\u0435\u043d\u0438\u0435,_\u0438\u043b\u0438_\u0421\u043c\u0435\u0445_\u0438_\u0441\u043b\u0451\u0437\u044b\t/* \u0412 \u044d\u043f\u0438\u0437\u043e\u0434\u0430\u0445 */ \n",
        "\n"
       ]
      },
      {
       "output_type": "stream",
       "stream": "stdout",
       "text": [
        "168\tEnglish Wikipedia\tBritt_Daniel\t/* Spoon */ \n",
        "\n"
       ]
      },
      {
       "output_type": "stream",
       "stream": "stdout",
       "text": [
        "169\tFrench Wikipedia\tDiscussion:Op\u00e9ration_Bordure_protectrice\t/* Sources pro-sionistes \u00e0 \u00e9viter. ARTICLE A NEUTRALISER + Chronologie a remonter a l'accord de r\u00e9conciliation Fatah-Hamas de Avril 2014 */ \n",
        "\n"
       ]
      },
      {
       "output_type": "stream",
       "stream": "stdout",
       "text": [
        "170\tEnglish Wikipedia\tList_of_awards_and_nominations_received_by_Ricky_Martin\t \n",
        "\n"
       ]
      },
      {
       "output_type": "stream",
       "stream": "stdout",
       "text": [
        "171\tEnglish Wikipedia\tCategory:Scientific_organizations_established_in_1951\tnew category \n",
        "\n"
       ]
      },
      {
       "output_type": "stream",
       "stream": "stdout",
       "text": [
        "172\tEnglish Wikipedia\tCheaper_by_the_Dozen_2\t/* The Bakers */ \n",
        "\n"
       ]
      },
      {
       "output_type": "stream",
       "stream": "stdout",
       "text": [
        "173\tWikimedia Commons\tSpecial:Log/upload\tuploaded \"[[\u000302File:Steinenbach Steinen Hauingen.jpg\u000310]]\": {{Information |Description    ={{de|1=Der Steinenbach zwischen Steinen und Hauingen}} |Source         ={{own}} |Author         =[[User:Zieglhar|Zieglhar]] |Date           =2014-08-06 |Permission     = |other_versions = }}  [[Category:Steinen (Baden)]] \n",
        "\n"
       ]
      },
      {
       "output_type": "stream",
       "stream": "stdout",
       "text": [
        "174\tJapanese Wikipedia\tLEE_(\u30ec\u30c8\u30eb\u30c8\u30ab\u30ec\u30fc)\t/* \u5546\u54c1\u30e9\u30a4\u30f3\u30ca\u30c3\u30d7 */ \n",
        "\n"
       ]
      },
      {
       "output_type": "stream",
       "stream": "stdout",
       "text": [
        "175\tRussian Wikipedia\t\u0411\u0443\u043b\u0433\u0430\u043a\u043e\u0432,_\u0410\u043d\u0430\u0442\u043e\u043b\u0438\u0439\t\u0420\u043e\u0431\u043e\u0442: \u0410\u0432\u0442\u043e\u0437\u0430\u043c\u0435\u043d\u0430: \u0438\u0441\u043f\u0440\u0430\u0432\u043b\u0435\u043d\u0438\u0435 \u043f\u0430\u0440\u0430\u043c\u0435\u0442\u0440\u0430 \u043a\u0430\u0440\u0442\u043e\u0447\u043a\u0438 \u0424\u0443\u0442\u0431\u043e\u043b\u0438\u0441\u0442 \n",
        "\n"
       ]
      },
      {
       "output_type": "stream",
       "stream": "stdout",
       "text": [
        "176\tEnglish Wikipedia\tGerard_Deulofeu\t/* External links */ Fixing LINK #1. \n",
        "\n"
       ]
      },
      {
       "output_type": "stream",
       "stream": "stdout",
       "text": [
        "177\tItalian Wikipedia\tGran_Premio_Palio_del_Recioto_2012\tfix \n",
        "\n"
       ]
      },
      {
       "output_type": "stream",
       "stream": "stdout",
       "text": [
        "178\tKorean Wikipedia\t\uc2a4\ud30c\uc774\ub354\ub9e8_2\t \n",
        "\n"
       ]
      },
      {
       "output_type": "stream",
       "stream": "stdout",
       "text": [
        "179\tWikidata\tQ17278692\t/* wbsetsitelink-add:1|enwiki */ H\u00e9ctor Acosta (singer) \n",
        "\n"
       ]
      },
      {
       "output_type": "stream",
       "stream": "stdout",
       "text": [
        "180\tWikidata\tQ383369\t/* wbsetclaim-create:2||1 */ [[Property:P1036]]: 2--44272 \n",
        "\n"
       ]
      },
      {
       "output_type": "stream",
       "stream": "stdout",
       "text": [
        "181\tFarsi Wikipedia\t\u0648\u0631\u06af\u0645\u060c_\u0633\u0627\u0646\u062a\u0627_\u06a9\u062a\u0631\u06cc\u0646\u0627\t\u0631\u0628\u0627\u062a \u06af\u0645\u0631:\u0627\u0635\u0644\u0627\u062d \u0648 \u06af\u0632\u0627\u0631\u0634\u200c\u06af\u06cc\u0631\u06cc \u0627\u0632 \u0645\u0642\u0627\u0644\u0627\u062a \n",
        "\n"
       ]
      },
      {
       "output_type": "stream",
       "stream": "stdout",
       "text": [
        "182\tSpanish Wikipedia\tCita\t \n",
        "\n"
       ]
      },
      {
       "output_type": "stream",
       "stream": "stdout",
       "text": [
        "183\tFrench Wikipedia\tDiscussion_utilisateur:Labouve\tBienvenue ! \n",
        "\n"
       ]
      },
      {
       "output_type": "stream",
       "stream": "stdout",
       "text": [
        "184\tRussian Wikipedia\t\u041e\u0440\u0451\u043b_\u0438_\u0440\u0435\u0448\u043a\u0430_(\u0442\u0435\u043b\u0435\u043f\u0435\u0440\u0435\u0434\u0430\u0447\u0430)\t/* 8 \u0441\u0435\u0437\u043e\u043d \u00ab\u041d\u0430 \u043a\u0440\u0430\u044e \u0441\u0432\u0435\u0442\u0430\u00bb */ \n",
        "\n"
       ]
      },
      {
       "output_type": "stream",
       "stream": "stdout",
       "text": [
        "185\tEnglish Wikipedia\tKathryn_Bernardo\t \n",
        "\n"
       ]
      },
      {
       "output_type": "stream",
       "stream": "stdout",
       "text": [
        "186\tWikimedia Commons\tFile:Plantagen-Schokoladen_von_Rausch.png\tNominating for deletion \n",
        "\n"
       ]
      },
      {
       "output_type": "stream",
       "stream": "stdout",
       "text": [
        "187\tPolish Wikipedia\tDyskusja:Arma-Goddamn-Motherfuckin-Geddon\t[[Dyskusja:Arma-Goddamn-Motherfuckin-Geddon|\u2192]] Robot zg\u0142asza niedost\u0119pny link zewn\u0119trzny \n",
        "\n"
       ]
      },
      {
       "output_type": "stream",
       "stream": "stdout",
       "text": [
        "188\tEnglish Wikipedia\tMemphis_May_Fire\t/* Current */ \n",
        "\n"
       ]
      },
      {
       "output_type": "stream",
       "stream": "stdout",
       "text": [
        "189\tWikimedia Commons\tCommons:Deletion_requests/File:Plantagen-Schokoladen_von_Rausch.png\tStarting deletion request \n",
        "\n"
       ]
      },
      {
       "output_type": "stream",
       "stream": "stdout",
       "text": [
        "190\tEnglish Wikipedia\tNJPW_Destruction\t \n",
        "\n"
       ]
      },
      {
       "output_type": "stream",
       "stream": "stdout",
       "text": [
        "191\tWikimedia Commons\tCategory:G-EZAS_(aircraft)\t \n",
        "\n"
       ]
      },
      {
       "output_type": "stream",
       "stream": "stdout",
       "text": [
        "192\tGerman Wikipedia\tWikipedia:Auskunft\tNeuer Abschnitt /* warum muss im blumenkasten schotter rein */ \n",
        "\n"
       ]
      },
      {
       "output_type": "stream",
       "stream": "stdout",
       "text": [
        "193\tEnglish Wikipedia\tWikipedia:Articles_for_deletion/Gerry_Hutch\tKeep \n",
        "\n"
       ]
      },
      {
       "output_type": "stream",
       "stream": "stdout",
       "text": [
        "194\tEnglish Wikipedia\tSpecial:Log/abusefilter\tRohun123 triggered [[Special:AbuseFilter/527|filter 527]], performing the action \"createaccount\" on [[\u000302Special:UserLogin\u000310]]. Actions taken: none ([[Special:AbuseLog/10680018|details]]) \n",
        "\n"
       ]
      },
      {
       "output_type": "stream",
       "stream": "stdout",
       "text": [
        "195\tRomanian Wikipedia\tOsman_al_II-lea\t \n",
        "\n"
       ]
      },
      {
       "output_type": "stream",
       "stream": "stdout",
       "text": [
        "196\tGerman Wikipedia\tBig_Country\tInhalt hinzugef\u00fcgt (neues Album) \n",
        "\n"
       ]
      },
      {
       "output_type": "stream",
       "stream": "stdout",
       "text": [
        "197\tEnglish Wikipedia\tSpecial:Log/newusers\tnew user account \n",
        "\n"
       ]
      },
      {
       "output_type": "stream",
       "stream": "stdout",
       "text": [
        "198\tFarsi Wikipedia\t\u0648\u0631\u06af\u0645\u0644\u06cc\t\u0631\u0628\u0627\u062a \u06af\u0645\u0631:\u0627\u0635\u0644\u0627\u062d \u0648 \u06af\u0632\u0627\u0631\u0634\u200c\u06af\u06cc\u0631\u06cc \u0627\u0632 \u0645\u0642\u0627\u0644\u0627\u062a \n",
        "\n"
       ]
      },
      {
       "output_type": "stream",
       "stream": "stdout",
       "text": [
        "199\tItalian Wikipedia\tSpeciale:Log/delete\tdeleted \"[[\u000302Categoria:Copa El Bosque 2011\u000310]]\": ([[WP:IMMEDIATA|C6]]) Categoria vuota e/o sostituita:   \n",
        "\n"
       ]
      },
      {
       "output_type": "stream",
       "stream": "stdout",
       "text": [
        "200\tEnglish Wikipedia\t1931_in_the_United_Kingdom\t/* Births */ \n",
        "\n"
       ]
      },
      {
       "output_type": "stream",
       "stream": "stdout",
       "text": [
        "201\tEnglish Wikipedia\tSpecial:Log/newusers\tnew user account \n",
        "\n"
       ]
      },
      {
       "output_type": "stream",
       "stream": "stdout",
       "text": [
        "202\tEnglish Wikipedia\tTotal_Drama\t/* Characters */ updating for Season 5 \n",
        "\n"
       ]
      },
      {
       "output_type": "stream",
       "stream": "stdout",
       "text": [
        "203\tFrench Wikipedia\tDiscussion_utilisateur:Wolf1731\tBienvenue ! \n",
        "\n"
       ]
      },
      {
       "output_type": "stream",
       "stream": "stdout",
       "text": [
        "204\tWikidata\tQ13537440\t/* wbsetdescription-add:1|cs */ film Juraje Jakubiska \n",
        "\n"
       ]
      },
      {
       "output_type": "stream",
       "stream": "stdout",
       "text": [
        "205\tEnglish Wikipedia\tKandy_Wong\tcategorization/tagging using [[Project:AWB|AWB]] \n",
        "\n"
       ]
      },
      {
       "output_type": "stream",
       "stream": "stdout",
       "text": [
        "206\tEnglish Wikipedia\tBegging_the_question\t/* Modern usage */ an prescriptive authority in English? Really? \n",
        "\n"
       ]
      },
      {
       "output_type": "stream",
       "stream": "stdout",
       "text": [
        "207\tRussian Wikipedia\t\u0421\u043b\u0443\u0436\u0435\u0431\u043d\u0430\u044f:Log/delete\t\u0443\u0434\u0430\u043b\u0438\u043b \u0421\u0442\u0430\u0440\u043e\u0434\u0443\u0431 \u0412\u0438\u043a\u0442\u043e\u0440 \u0421\u0435\u0440\u0433\u0435\u0439: [[\u0412\u041f:\u041a\u0411\u0423#\u04212|\u04212]]: \u043d\u0435 \u043d\u0430 \u0440\u0443\u0441\u0441\u043a\u043e\u043c \u044f\u0437\u044b\u043a\u0435 \u0438\u043b\u0438 \u043c\u0430\u0448\u0438\u043d\u043d\u044b\u0439 \u043f\u0435\u0440\u0435\u0432\u043e\u0434: /*{{\u0443\u0434-\u0438\u043d\u043e\u0441\u0442\u0440}}* Numele \u015fi prenumele: STARODUB VICTOR * Data na\u015fterii: 06 august 1945 * Cet\u0103\u0163enia: moldovean * Adresa, telefoane...*/  \n",
        "\n"
       ]
      },
      {
       "output_type": "stream",
       "stream": "stdout",
       "text": [
        "208\tEnglish Wikipedia\tEurovision_Song_Contest_2015\t \n",
        "\n"
       ]
      },
      {
       "output_type": "stream",
       "stream": "stdout",
       "text": [
        "209\tHebrew Wikipedia\t\u05de\u05d9\u05d9\u05dc\u05e1_\u05e7\u05d9\u05d9\u05df\t/* \u05d3\u05d9\u05e1\u05e7\u05d5\u05d2\u05e8\u05e4\u05d9\u05d4 */ \u05d0\u05d5\u05de\u05e5 \u05e2\u05dc \u05d9\u05d3\u05d9 \u05d0\u05dc\u05db\u05e1 \u05d8\u05e8\u05e0\u05e8 \n",
        "\n"
       ]
      },
      {
       "output_type": "stream",
       "stream": "stdout",
       "text": [
        "210\tEnglish Wikipedia\tTalk:2015_NHL_Stadium_Series\tAdding WikiProject \n",
        "\n"
       ]
      },
      {
       "output_type": "stream",
       "stream": "stdout",
       "text": [
        "211\tWikidata\tQ514889\t/* wbsetdescription-add:1|fa */ Auto-description for Persian \n",
        "\n"
       ]
      },
      {
       "output_type": "stream",
       "stream": "stdout",
       "text": [
        "212\tWikimedia Commons\tCategory:SVG_smilies_-_green_alien_(by_LadyofHats)\t+sort \n",
        "\n"
       ]
      },
      {
       "output_type": "stream",
       "stream": "stdout",
       "text": [
        "213\tEnglish Wikipedia\tDarna_(2014_film)\t/* Supporting cast */ \n",
        "\n"
       ]
      },
      {
       "output_type": "stream",
       "stream": "stdout",
       "text": [
        "214\tRussian Wikipedia\t\u041a\u0443\u0440\u0441\u043a\t/* \u0422\u043e\u0440\u0433\u043e\u0432\u044b\u0435 \u0446\u0435\u043d\u0442\u0440\u044b */ \n",
        "\n"
       ]
      },
      {
       "output_type": "stream",
       "stream": "stdout",
       "text": [
        "215\tFarsi Wikipedia\t\u0648\u0631\u06af\u0646\t\u0631\u0628\u0627\u062a \u06af\u0645\u0631:\u0627\u0635\u0644\u0627\u062d \u0648 \u06af\u0632\u0627\u0631\u0634\u200c\u06af\u06cc\u0631\u06cc \u0627\u0632 \u0645\u0642\u0627\u0644\u0627\u062a \n",
        "\n"
       ]
      },
      {
       "output_type": "stream",
       "stream": "stdout",
       "text": [
        "216\tWikimedia Commons\tCommons:Deletion_requests/2014/08/06\tListing [[Commons:Deletion requests/File:Plantagen-Schokoladen von Rausch.png]] \n",
        "\n"
       ]
      },
      {
       "output_type": "stream",
       "stream": "stdout",
       "text": [
        "217\tFrench Wikipedia\tUtilisateur:Noelbabar/Outils\t/* Texte int\u00e9gral */ \n",
        "\n"
       ]
      },
      {
       "output_type": "stream",
       "stream": "stdout",
       "text": [
        "218\tSpanish Wikipedia\tEspecial:Log/newusers\tNew user account: iOS App Account Creation \n",
        "\n"
       ]
      },
      {
       "output_type": "stream",
       "stream": "stdout",
       "text": [
        "219\tDutch Wikipedia\tOverleg_gebruiker:Jelle_Gouw\t/* Melkomedae-stelsel */ \n",
        "\n"
       ]
      },
      {
       "output_type": "stream",
       "stream": "stdout",
       "text": [
        "220\tFrench Wikipedia\tDiscussion_utilisateur:Dorissaint\tBienvenue ! \n",
        "\n"
       ]
      },
      {
       "output_type": "stream",
       "stream": "stdout",
       "text": [
        "221\tEnglish Wikipedia\t1882_Chicago_White_Stockings_season\t+lead \n",
        "\n"
       ]
      },
      {
       "output_type": "stream",
       "stream": "stdout",
       "text": [
        "222\tWikidata\tQ4236635\t/* wbcreateclaim-create:1| */ [[Property:P27]]: [[Q399]] \n",
        "\n"
       ]
      },
      {
       "output_type": "stream",
       "stream": "stdout",
       "text": [
        "223\tSpanish Wikipedia\tUsuario_discusi\u00f3n:Todossomosfelices\t \n",
        "\n"
       ]
      },
      {
       "output_type": "stream",
       "stream": "stdout",
       "text": [
        "224\tRussian Wikipedia\t\u0421\u0430\u043b\u044c\u043a\u043e\u0432,_\u0412\u043b\u0430\u0434\u0438\u043c\u0438\u0440_\u041c\u0430\u043a\u0441\u0438\u043c\u043e\u0432\u0438\u0447\t\u0420\u043e\u0431\u043e\u0442: \u0410\u0432\u0442\u043e\u0437\u0430\u043c\u0435\u043d\u0430: \u0438\u0441\u043f\u0440\u0430\u0432\u043b\u0435\u043d\u0438\u0435 \u043f\u0430\u0440\u0430\u043c\u0435\u0442\u0440\u0430 \u043a\u0430\u0440\u0442\u043e\u0447\u043a\u0438 \u0424\u0443\u0442\u0431\u043e\u043b\u0438\u0441\u0442 \n",
        "\n"
       ]
      },
      {
       "output_type": "stream",
       "stream": "stdout",
       "text": [
        "225\tWikidata\tQ17487526\t/* wbeditentity-create:2|de */ Decalobanthus \n",
        "\n"
       ]
      },
      {
       "output_type": "stream",
       "stream": "stdout",
       "text": [
        "226\tWikimedia Commons\tFile:Gold_vessels_from_the_Oxus_treasure_by_Nickmard_Khoey.jpg\tadded [[Category:Archaeology in Tajikistan]] using [[Help:Gadget-HotCat|HotCat]] \n",
        "\n"
       ]
      },
      {
       "output_type": "stream",
       "stream": "stdout",
       "text": [
        "227\tEnglish Wikipedia\tSpecial:Log/newusers\tnew user account \n",
        "\n"
       ]
      },
      {
       "output_type": "stream",
       "stream": "stdout",
       "text": [
        "228\tWikimedia Commons\tUser_talk:Kenniwik\t[[:File:Plantagen-Schokoladen von Rausch.png]] has been nominated for deletion \n",
        "\n"
       ]
      },
      {
       "output_type": "stream",
       "stream": "stdout",
       "text": [
        "229\tSpanish Wikipedia\tIsabelle_Fuhrman\t \n",
        "\n"
       ]
      },
      {
       "output_type": "stream",
       "stream": "stdout",
       "text": [
        "230\tWikidata\tQ9372004\t/* wbsetclaim-create:2||1 */ [[Property:P180]]: [[Q8441013]] \n",
        "\n"
       ]
      },
      {
       "output_type": "stream",
       "stream": "stdout",
       "text": [
        "231\tSlovak Wikipedia\tAvril_Lavigne\t/* Charita */ \n",
        "\n"
       ]
      },
      {
       "output_type": "stream",
       "stream": "stdout",
       "text": [
        "232\tHebrew Wikipedia\t\u05d0\u05dc\u05d9\u05e4\u05d5\u05ea_\u05d5\u05d9\u05de\u05d1\u05dc\u05d3\u05d5\u05df_1961\t/* \u05ea\u05d7\u05e8\u05d5\u05ea \u05d4\u05d2\u05d1\u05e8\u05d9\u05dd */ \n",
        "\n"
       ]
      },
      {
       "output_type": "stream",
       "stream": "stdout",
       "text": [
        "233\tFarsi Wikipedia\t\u0648\u0631\u06af\u0646\u0633\t\u0631\u0628\u0627\u062a \u06af\u0645\u0631:\u0627\u0635\u0644\u0627\u062d \u0648 \u06af\u0632\u0627\u0631\u0634\u200c\u06af\u06cc\u0631\u06cc \u0627\u0632 \u0645\u0642\u0627\u0644\u0627\u062a \n",
        "\n"
       ]
      },
      {
       "output_type": "stream",
       "stream": "stdout",
       "text": [
        "234\tItalian Wikipedia\tPietra_di_Palermo\t/* Storia */ integrazione, nota \n",
        "\n"
       ]
      },
      {
       "output_type": "stream",
       "stream": "stdout",
       "text": [
        "235\tEnglish Wikipedia\tChrysler_New_Yorker\t/* LHS */ \n",
        "\n"
       ]
      },
      {
       "output_type": "stream",
       "stream": "stdout",
       "text": [
        "236\tRussian Wikipedia\t\u0425\u0430\u0442\u0444\u0438\u043b\u0434_(\u0425\u0430\u0440\u0442\u0444\u043e\u0440\u0434\u0448\u0438\u0440)\t\u0421\u043e\u0437\u0434\u0430\u043d\u0438\u0435 \u043f\u043e [[:en:Hatfield, Hertfordshire]] \n",
        "\n"
       ]
      },
      {
       "output_type": "stream",
       "stream": "stdout",
       "text": [
        "237\tArabic Wikipedia\t\u062e\u0627\u0635:Log/review\t\u0631\u0627\u062c\u0639 \u0646\u0633\u062e\u0629 \u0645\u0646 [[\u000302\u0648\u0644\u0627\u064a\u0629 \u0648\u0631\u0642\u0644\u0629\u000310]]: [\u0627\u0644\u062f\u0642\u0629: \u0645\u0646\u0638\u0648\u0631\u0629] \n",
        "\n"
       ]
      },
      {
       "output_type": "stream",
       "stream": "stdout",
       "text": [
        "238\tSpanish Wikipedia\tUsuario_Discusi\u00f3n:Egis57\t/* Ka guerra de los mil dias siglo xx */ \n",
        "\n"
       ]
      },
      {
       "output_type": "stream",
       "stream": "stdout",
       "text": [
        "239\tEnglish Wikipedia\t2014_ATP_Challenger_Tour\t/* August */ \n",
        "\n"
       ]
      },
      {
       "output_type": "stream",
       "stream": "stdout",
       "text": [
        "240\tFrench Wikipedia\tDiscussion_utilisateur:Antoinelaf\tBienvenue ! \n",
        "\n"
       ]
      },
      {
       "output_type": "stream",
       "stream": "stdout",
       "text": [
        "241\tEnglish Wikipedia\tKhalifa_Haftar\t/* Early years in the Gaddafi government */ \n",
        "\n"
       ]
      },
      {
       "output_type": "stream",
       "stream": "stdout",
       "text": [
        "242\tEnglish Wikipedia\tUser_talk:Apparition11\t/* My recent posts have been deleted */re \n",
        "\n"
       ]
      },
      {
       "output_type": "stream",
       "stream": "stdout",
       "text": [
        "243\tEnglish Wikipedia\tThe_Exodus\trv. [[WP:OR]] \n",
        "\n"
       ]
      },
      {
       "output_type": "stream",
       "stream": "stdout",
       "text": [
        "244\tWikidata\tQ514890\t/* wbsetdescription-add:1|fa */ Auto-description for Persian \n",
        "\n"
       ]
      },
      {
       "output_type": "stream",
       "stream": "stdout",
       "text": [
        "245\tRussian Wikipedia\t\u041f\u044b\u0432\u0438\u043d,_\u0418\u0433\u043e\u0440\u044c_\u0412\u044f\u0447\u0435\u0441\u043b\u0430\u0432\u043e\u0432\u0438\u0447\t\u0420\u043e\u0431\u043e\u0442: \u0410\u0432\u0442\u043e\u0437\u0430\u043c\u0435\u043d\u0430: \u0438\u0441\u043f\u0440\u0430\u0432\u043b\u0435\u043d\u0438\u0435 \u043f\u0430\u0440\u0430\u043c\u0435\u0442\u0440\u0430 \u043a\u0430\u0440\u0442\u043e\u0447\u043a\u0438 \u0424\u0443\u0442\u0431\u043e\u043b\u0438\u0441\u0442 \n",
        "\n"
       ]
      },
      {
       "output_type": "stream",
       "stream": "stdout",
       "text": [
        "246\tFrench Wikipedia\tWikip\u00e9dia:Bulletin_des_administrateurs/2014/Semaine_32\t \n",
        "\n"
       ]
      },
      {
       "output_type": "stream",
       "stream": "stdout",
       "text": [
        "247\tWikidata\tQ1776425\t/* wbcreateclaim-create:1| */ [[Property:P31]]: [[Q16970]] \n",
        "\n"
       ]
      },
      {
       "output_type": "stream",
       "stream": "stdout",
       "text": [
        "248\tEnglish Wikipedia\tYogi_Berra\t/* Managing career */ \n",
        "\n"
       ]
      },
      {
       "output_type": "stream",
       "stream": "stdout",
       "text": [
        "249\tHebrew Wikipedia\t\u05e9\u05d9\u05d7\u05ea_\u05ea\u05d1\u05e0\u05d9\u05ea:\u05e0\u05d1\u05d9\u05d0_\u05d9\u05d4\u05d5\u05d3\u05d9\t \n",
        "\n"
       ]
      },
      {
       "output_type": "stream",
       "stream": "stdout",
       "text": [
        "250\tFarsi Wikipedia\t\u0648\u0631\u06af\u0646\u0633_\u062a\u0648\u0646\u0634\u06cc\u067e\u060c_\u0645\u06cc\u0634\u06cc\u06af\u0627\u0646\t\u0631\u0628\u0627\u062a \u06af\u0645\u0631:\u0627\u0635\u0644\u0627\u062d \u0648 \u06af\u0632\u0627\u0631\u0634\u200c\u06af\u06cc\u0631\u06cc \u0627\u0632 \u0645\u0642\u0627\u0644\u0627\u062a \n",
        "\n"
       ]
      },
      {
       "output_type": "stream",
       "stream": "stdout",
       "text": [
        "251\tFrench Wikipedia\tJacques_Dhur\t[[WP:WPC|WPCleaner]] v1.33 - [[P:HOM|Homonymies]] : Correction de 1 lien - [[Gardien de but]] \n",
        "\n"
       ]
      },
      {
       "output_type": "stream",
       "stream": "stdout",
       "text": [
        "252\tWikimedia Commons\tFile:Colonel_Samuel_Selden_Homestead,_Selden's_Neck,_Hadlyme,_New_London_County,_CT_HABS_CONN,6-HADLY,2-_(sheet_8_of_22).tif\tAdd precision to geolocation \n",
        "\n"
       ]
      },
      {
       "output_type": "stream",
       "stream": "stdout",
       "text": [
        "253\tEnglish Wikipedia\tUser:Julie_Saeger_Nierenberg/Macy_Catheter\t/* Common Clinical Use Scenarios */ \n",
        "\n"
       ]
      },
      {
       "output_type": "stream",
       "stream": "stdout",
       "text": [
        "254\tEnglish Wikipedia\tDarr\t \n",
        "\n"
       ]
      },
      {
       "output_type": "stream",
       "stream": "stdout",
       "text": [
        "255\tGerman Wikipedia\tSpezial:Log/delete\tdeleted \"[[\u000302B\u0142otnia (Tr\u0105bki Wielkie)\u000310]]\": Unerw\u00fcnschte [[WP:WL|Weiterleitung]]: {{L\u00f6schen|1=Nicht mehr ben\u00f6tigt. [[Benutzer:St\u00f6rtebeker007|St\u00f6rtebeker007]] ([[Benutzer Diskussion:St\u00f6rtebeker007|Diskussion]]) 17:39, 6. Aug. 2014 (CEST)}} \n",
        "\n"
       ]
      },
      {
       "output_type": "stream",
       "stream": "stdout",
       "text": [
        "256\tEnglish Wikipedia\tBaker_College_Prep\t \n",
        "\n"
       ]
      },
      {
       "output_type": "stream",
       "stream": "stdout",
       "text": [
        "257\tEnglish Wikipedia\tSpecial:Log/newusers\tnew user account \n",
        "\n"
       ]
      },
      {
       "output_type": "stream",
       "stream": "stdout",
       "text": [
        "258\tEnglish Wikipedia\tSpecial:Log/newusers\tnew user account \n",
        "\n"
       ]
      },
      {
       "output_type": "stream",
       "stream": "stdout",
       "text": [
        "259\tFrench Wikipedia\tDiscussion_utilisateur:G\u00e9bur\tBienvenue ! \n",
        "\n"
       ]
      },
      {
       "output_type": "stream",
       "stream": "stdout",
       "text": [
        "260\tEnglish Wikipedia\tMineir\u00e3o\tAdded public document as a source. \n",
        "\n"
       ]
      },
      {
       "output_type": "stream",
       "stream": "stdout",
       "text": [
        "261\tEnglish Wikipedia\tSpecial:Log/newusers\tnew user account \n",
        "\n"
       ]
      },
      {
       "output_type": "stream",
       "stream": "stdout",
       "text": [
        "262\tEnglish Wikipedia\tList_of_YouTube_personalities\t/* By subscribers */ updated rankings \n",
        "\n"
       ]
      },
      {
       "output_type": "stream",
       "stream": "stdout",
       "text": [
        "263\tPolish Wikipedia\tDyskusja:Armada_de_Chile\t[[Dyskusja:Armada de Chile|\u2192]] Robot zg\u0142asza niedost\u0119pny link zewn\u0119trzny \n",
        "\n"
       ]
      },
      {
       "output_type": "stream",
       "stream": "stdout",
       "text": [
        "264\tRussian Wikipedia\t\u0412\u0438\u043a\u0438\u043f\u0435\u0434\u0438\u044f:\u041a\u0430\u043d\u0434\u0438\u0434\u0430\u0442\u044b_\u0432_\u0445\u043e\u0440\u043e\u0448\u0438\u0435_\u0441\u0442\u0430\u0442\u044c\u0438/29_\u0438\u044e\u043b\u044f_2014\t/* \u041a\u043e\u043c\u043c\u0435\u043d\u0442\u0430\u0440\u0438\u0438 */ \n",
        "\n"
       ]
      },
      {
       "output_type": "stream",
       "stream": "stdout",
       "text": [
        "265\tPortuguese Wikipedia\tS\u00e3o_Bento_(desambigua\u00e7\u00e3o)\tformat [[WP:DES]] \n",
        "\n"
       ]
      },
      {
       "output_type": "stream",
       "stream": "stdout",
       "text": [
        "266\tRussian Wikipedia\t\u041f\u0435\u0434\u0440\u043e_\u0434\u0430_\u0421\u0438\u043b\u0432\u0430_\u041e\u0434\u0430\u0438\u0440_\u0416\u0443\u043d\u0438\u043e\u0440\t\u0420\u043e\u0431\u043e\u0442: \u0410\u0432\u0442\u043e\u0437\u0430\u043c\u0435\u043d\u0430: \u0438\u0441\u043f\u0440\u0430\u0432\u043b\u0435\u043d\u0438\u0435 \u043f\u0430\u0440\u0430\u043c\u0435\u0442\u0440\u0430 \u043a\u0430\u0440\u0442\u043e\u0447\u043a\u0438 \u0424\u0443\u0442\u0431\u043e\u043b\u0438\u0441\u0442 \n",
        "\n"
       ]
      },
      {
       "output_type": "stream",
       "stream": "stdout",
       "text": [
        "267\tEnglish Wikipedia\tTalk:NHL_Stadium_Series\tAdding WikiProject \n",
        "\n"
       ]
      },
      {
       "output_type": "stream",
       "stream": "stdout",
       "text": [
        "268\tGerman Wikipedia\tDiskussion:Menschenrechtssituation_in_Kuba\t/* Guantanamo Bay Gefangenenlager */ \n",
        "\n"
       ]
      },
      {
       "output_type": "stream",
       "stream": "stdout",
       "text": [
        "269\tEnglish Wikipedia\tClosing_milestones_of_the_Dow_Jones_Industrial_Average\tRevert to revision 617324210 dated 2014-07-17 15:07:35 by King1257 using [[:en:Wikipedia:Tools/Navigation_popups|popups]] \n",
        "\n"
       ]
      },
      {
       "output_type": "stream",
       "stream": "stdout",
       "text": [
        "270\tWikimedia Commons\tFile:PM_Logo.jpg\tMissing permission \n",
        "\n"
       ]
      },
      {
       "output_type": "stream",
       "stream": "stdout",
       "text": [
        "271\tFarsi Wikipedia\t\u0648\u0631\u06af\u0646\u0633\u060c_\u0648\u0631\u0645\u0627\u0646\u062a\t\u0631\u0628\u0627\u062a \u06af\u0645\u0631:\u0627\u0635\u0644\u0627\u062d \u0648 \u06af\u0632\u0627\u0631\u0634\u200c\u06af\u06cc\u0631\u06cc \u0627\u0632 \u0645\u0642\u0627\u0644\u0627\u062a \n",
        "\n"
       ]
      },
      {
       "output_type": "stream",
       "stream": "stdout",
       "text": [
        "272\tRussian Wikipedia\t\u041b\u0443\u0433\u0430\t/* \u041b\u0443\u0436\u0441\u043a\u0438\u0439 \u043e\u0431\u043e\u0440\u043e\u043d\u0438\u0442\u0435\u043b\u044c\u043d\u044b\u0439 \u0440\u0443\u0431\u0435\u0436 */ \u0438\u043b\u043b\u044e\u0441\u0442\u0440\u0430\u0446\u0438\u044f \n",
        "\n"
       ]
      },
      {
       "output_type": "stream",
       "stream": "stdout",
       "text": [
        "273\tSlovak Wikipedia\tRedaktor:Ditinili/pieskovisko\t/* Prevzatie \u00fazemia */ aaa \n",
        "\n"
       ]
      },
      {
       "output_type": "stream",
       "stream": "stdout",
       "text": [
        "274\tFrench Wikipedia\tSp\u00e9cial:Log/newusers\tNew user account \n",
        "\n"
       ]
      },
      {
       "output_type": "stream",
       "stream": "stdout",
       "text": [
        "275\tWikidata\tQ4332025\t/* wbsetsitelink-add:1|cewiki */ \u041e\u0437\u0435\u0440\u043a\u0438 (\u041f\u0435\u0440\u0432\u043e\u043c\u0430\u0439\u0441\u043a\u0430\u043d \u044e\u044c\u0440\u0442\u0430\u043d \u043c\u0435\u0442\u0442\u0438\u0433) \n",
        "\n"
       ]
      },
      {
       "output_type": "stream",
       "stream": "stdout",
       "text": [
        "276\tPolish Wikipedia\tSpecjalna:Log/review\tprzejrzano wersj\u0119 [[\u000302Powiat szczuczy\u0144ski (podlaski)\u000310]] \n",
        "\n"
       ]
      },
      {
       "output_type": "stream",
       "stream": "stdout",
       "text": [
        "277\tFrench Wikipedia\tDiscussion_utilisateur:Janospet\tBienvenue ! \n",
        "\n"
       ]
      },
      {
       "output_type": "stream",
       "stream": "stdout",
       "text": [
        "278\tEnglish Wikipedia\tSynod_of_Maynooth(1975)\t \n",
        "\n"
       ]
      },
      {
       "output_type": "stream",
       "stream": "stdout",
       "text": [
        "279\tWikidata\tQ514898\t/* wbsetdescription-add:1|fa */ Auto-description for Persian \n",
        "\n"
       ]
      },
      {
       "output_type": "stream",
       "stream": "stdout",
       "text": [
        "280\tWikimedia Commons\tFile:SPIDER._(FROM_THE_SITES_EXHIBITION._FOR_OTHER_IMAGES_IN_THIS_ASSIGNMENT,_SEE_FICHE_NUMBERS_34,_35,_36,_37.)_-_NARA_-_553874.jpg\t \n",
        "\n"
       ]
      },
      {
       "output_type": "stream",
       "stream": "stdout",
       "text": [
        "281\tHungarian Wikipedia\tBernina-vas\u00fat\t/* K\u00e9pek */ \n",
        "\n"
       ]
      },
      {
       "output_type": "stream",
       "stream": "stdout",
       "text": [
        "282\tWikimedia Commons\tUser_talk:Vheld\tPlease send permission for [[:File:PM Logo.jpg]] to [[COM:OTRS|OTRS]] \n",
        "\n"
       ]
      },
      {
       "output_type": "stream",
       "stream": "stdout",
       "text": [
        "283\tEnglish Wikipedia\tSpecial:Log/newusers\tnew user account \n",
        "\n"
       ]
      },
      {
       "output_type": "stream",
       "stream": "stdout",
       "text": [
        "284\tFrench Wikipedia\tGr\u00e9goire_de_Nazianze\t/* Philosophie de Dieu */correction d'une coquille ; suppression de param\u00e8tres vides dans le Mod\u00e8le Ouvrage \n",
        "\n"
       ]
      },
      {
       "output_type": "stream",
       "stream": "stdout",
       "text": [
        "285\tFarsi Wikipedia\t\u0648\u0631\u06af\u0646\u0642\u0626\u0648\u0646\t\u0631\u0628\u0627\u062a \u06af\u0645\u0631:\u0627\u0635\u0644\u0627\u062d \u0648 \u06af\u0632\u0627\u0631\u0634\u200c\u06af\u06cc\u0631\u06cc \u0627\u0632 \u0645\u0642\u0627\u0644\u0627\u062a \n",
        "\n"
       ]
      },
      {
       "output_type": "stream",
       "stream": "stdout",
       "text": [
        "286\tWikimedia Commons\tSpecial:Log/upload\tuploaded \"[[\u000302File:Suizide Queenz - Mowhie \u2013 Langeln Open Air 2014 07.jpg\u000310]]\": == {{int:filedesc}} == {{Information |Description={{de|1= '''Suizide Queenz''' beim Langeln Open Air 2014 }} |Source={{own}} |Author=[[User:Huhu Uet|Frank Schwichtenberg]] |Date=2014-07-19 |Permission= |other_versions= }}  == {{int:license-header}} ==... \n",
        "\n"
       ]
      },
      {
       "output_type": "stream",
       "stream": "stdout",
       "text": [
        "287\tFrench Wikipedia\tDaniel_De_Leon\t \n",
        "\n"
       ]
      },
      {
       "output_type": "stream",
       "stream": "stdout",
       "text": [
        "288\tTurkish Wikipedia\tAimo_Cajander\t \n",
        "\n"
       ]
      },
      {
       "output_type": "stream",
       "stream": "stdout",
       "text": [
        "289\tWikidata\tQ13537440\t/* wbsetlabel-set:1|sk */ Nejasn\u00e1 spr\u00e1va o konci sv\u011bta \n",
        "\n"
       ]
      },
      {
       "output_type": "stream",
       "stream": "stdout",
       "text": [
        "290\tGerman Wikipedia\tArmgard_von_Cramm\tcorr. \n",
        "\n"
       ]
      },
      {
       "output_type": "stream",
       "stream": "stdout",
       "text": [
        "291\tItalian Wikipedia\tSpeciale:Log/delete\tdeleted \"[[\u000302Categoria:Copa El Bosque 2012\u000310]]\": ([[WP:IMMEDIATA|C6]]) Categoria vuota e/o sostituita: l'unico contributore era '[[Special:Contributions/Matlab1985|Matlab1985]]' \n",
        "\n"
       ]
      },
      {
       "output_type": "stream",
       "stream": "stdout",
       "text": [
        "292\tEnglish Wikipedia\tBanda_della_Comasina\t \n",
        "\n"
       ]
      },
      {
       "output_type": "stream",
       "stream": "stdout",
       "text": [
        "293\tItalian Wikipedia\tStazione_di_Solarolo\t[[WP:OA|\u2190]]Nuova pagina: {{coord|display=title|44.356483|N|11.849071|E|format=dms|region:IT_type:railwaystation}} {{Infobox stazione ferroviaria |nome = Solarolo |nome originale = |immagine = |... \n",
        "\n"
       ]
      },
      {
       "output_type": "stream",
       "stream": "stdout",
       "text": [
        "294\tSpanish Wikipedia\tWikiproyecto_Discusi\u00f3n:Internet\t \n",
        "\n"
       ]
      },
      {
       "output_type": "stream",
       "stream": "stdout",
       "text": [
        "295\tArabic Wikipedia\t\u0628\u0648\u0627\u0628\u0629:\u0627\u0644\u0633\u0639\u0648\u062f\u064a\u0629\t \n",
        "\n"
       ]
      },
      {
       "output_type": "stream",
       "stream": "stdout",
       "text": [
        "296\tRussian Wikipedia\t\u0412\u0438\u043a\u0438\u043f\u0435\u0434\u0438\u044f:\u041a_\u043f\u0435\u0440\u0435\u0438\u043c\u0435\u043d\u043e\u0432\u0430\u043d\u0438\u044e/6_\u0430\u0432\u0433\u0443\u0441\u0442\u0430_2014\t \n",
        "\n"
       ]
      },
      {
       "output_type": "stream",
       "stream": "stdout",
       "text": [
        "297\tFarsi Wikipedia\t\u0648\u0631\u06af\u0646\u06a9\u06cc\t\u0631\u0628\u0627\u062a \u06af\u0645\u0631:\u0627\u0635\u0644\u0627\u062d \u0648 \u06af\u0632\u0627\u0631\u0634\u200c\u06af\u06cc\u0631\u06cc \u0627\u0632 \u0645\u0642\u0627\u0644\u0627\u062a \n",
        "\n"
       ]
      },
      {
       "output_type": "stream",
       "stream": "stdout",
       "text": [
        "298\tGerman Wikipedia\tSchierke\t/* Geschichte */ erg. \n",
        "\n"
       ]
      },
      {
       "output_type": "stream",
       "stream": "stdout",
       "text": [
        "299\tArabic Wikipedia\t\u062e\u0627\u0635:Log/newusers\tNew user account: iOS App Account Creation \n",
        "\n"
       ]
      },
      {
       "output_type": "stream",
       "stream": "stdout",
       "text": [
        "300\tEnglish Wikipedia\tUser:Tommieboi/Centenarian_and_Nonagenarian\tChapman Pincher 03.29.1914 - 08.05.2014 \n",
        "\n"
       ]
      },
      {
       "output_type": "stream",
       "stream": "stdout",
       "text": [
        "301\tEnglish Wikipedia\tSwoope_(rapper)\t \n",
        "\n"
       ]
      },
      {
       "output_type": "stream",
       "stream": "stdout",
       "text": [
        "302\tFrench Wikipedia\tSynagogue_de_Mulhouse\t/* Liens externes */ \n",
        "\n"
       ]
      },
      {
       "output_type": "stream",
       "stream": "stdout",
       "text": [
        "303\tWikidata\tQ17487526\t/* wbsetclaim-create:2||1 */ [[Property:P225]]: Decalobanthus \n",
        "\n"
       ]
      },
      {
       "output_type": "stream",
       "stream": "stdout",
       "text": [
        "304\tEnglish Wikipedia\tList_of_redheads\tDisambiguated: [[Kate Walsh]] \u2192 [[Kate Walsh (actress)]] \n",
        "\n"
       ]
      },
      {
       "output_type": "stream",
       "stream": "stdout",
       "text": [
        "305\tPortuguese Wikipedia\tArmillaria_solidipes\t \n",
        "\n"
       ]
      },
      {
       "output_type": "stream",
       "stream": "stdout",
       "text": [
        "306\tNorwegian Wikipedia\tSpesial:Log/move\tmoved [[\u000302Sjakk-OL 2006\u000310]] to [[Sjakkolympiaden 2006]] \n",
        "\n"
       ]
      },
      {
       "output_type": "stream",
       "stream": "stdout",
       "text": [
        "307\tWikimedia Commons\tFile:Chantal_Raymond-Coronation.jpg\tMarking as possible copyvio because METADATA: Copyright holder is Fern Elise Foster \n",
        "\n"
       ]
      },
      {
       "output_type": "stream",
       "stream": "stdout",
       "text": [
        "308\tEnglish Wikipedia\tTokio_Hotel\t/* Other ventures */ \n",
        "\n"
       ]
      },
      {
       "output_type": "stream",
       "stream": "stdout",
       "text": [
        "309\tWikimedia Commons\tSpecial:Log/move\tmoved [[\u000302File:- Parsons-Lounsbury House, Boston Post Road, Rye, Westchester County, NY HABS NY,60-RY,1-4.tif\u000310]] to [[File:Parsons-Lounsbury House, Boston Post Road, Rye, Westchester County, NY HABS NY,60-RY,1-4.tif]]: more meaningful name -  ->  \n",
        "\n"
       ]
      },
      {
       "output_type": "stream",
       "stream": "stdout",
       "text": [
        "310\tSpanish Wikipedia\tPlantilla:P\u00e1ginas_de_contenido_m\u00e1s_activas\tBot: Actualizando p\u00e1gs. de cont. m\u00e1s activas \n",
        "\n"
       ]
      },
      {
       "output_type": "stream",
       "stream": "stdout",
       "text": [
        "311\tFarsi Wikipedia\t\u0648\u0631\u06af\u0648\t\u0631\u0628\u0627\u062a \u06af\u0645\u0631:\u0627\u0635\u0644\u0627\u062d \u0648 \u06af\u0632\u0627\u0631\u0634\u200c\u06af\u06cc\u0631\u06cc \u0627\u0632 \u0645\u0642\u0627\u0644\u0627\u062a \n",
        "\n"
       ]
      },
      {
       "output_type": "stream",
       "stream": "stdout",
       "text": [
        "312\tEnglish Wikipedia\tKick_(2014_film)\t \n",
        "\n"
       ]
      },
      {
       "output_type": "stream",
       "stream": "stdout",
       "text": [
        "313\tWikidata\tQ514915\t/* wbsetdescription-add:1|fa */ Auto-description for Persian \n",
        "\n"
       ]
      },
      {
       "output_type": "stream",
       "stream": "stdout",
       "text": [
        "314\tWikimedia Commons\tSpecial:Log/rights\tchanged group membership for User:MiguelHermoso from (none) to autopatrolled: No need to patrol \n",
        "\n"
       ]
      },
      {
       "output_type": "stream",
       "stream": "stdout",
       "text": [
        "315\tItalian Wikipedia\tRyan_Lamb\t[[WP:OA|\u2190]]Nuova pagina: {{Infobox sportivo rugby a 15 |nome = Ryan Lamb |nome completo =  |fotografia = Ryan_lamb_(4319558619).jpg |dimensioni foto =  |didascalia =  |sesso = M |GiornoMeseNasc... \n",
        "\n"
       ]
      },
      {
       "output_type": "stream",
       "stream": "stdout",
       "text": [
        "316\tSpanish Wikipedia\tEspecial:Log/delete\tborr\u00f3 \u00abLoewia (planta)\u00bb: [[WP:BR#R4|Redirecci\u00f3n incorrecta o innecesaria]]: los historiales ya han sido fusionados. \n",
        "\n"
       ]
      },
      {
       "output_type": "stream",
       "stream": "stdout",
       "text": [
        "317\tEnglish Wikipedia\tMuslim_world\t/* Colonialism */ \n",
        "\n"
       ]
      },
      {
       "output_type": "stream",
       "stream": "stdout",
       "text": [
        "318\tWikidata\tQ9372004\t/* wbsetclaim-create:2||1 */ [[Property:P180]]: [[Q3039121]] \n",
        "\n"
       ]
      },
      {
       "output_type": "stream",
       "stream": "stdout",
       "text": [
        "319\tWikidata\tQ709479\t/* wbsetsitelink-add:1|zh_min_nanwiki */ B\u0101ng Chhun-hong \n",
        "\n"
       ]
      },
      {
       "output_type": "stream",
       "stream": "stdout",
       "text": [
        "320\tEnglish Wikipedia\tMarija_Frantar\t/* Marija Frantar, Slovenian alpine climber,  1956, \u2020 1991 */ \n",
        "\n"
       ]
      },
      {
       "output_type": "stream",
       "stream": "stdout",
       "text": [
        "321\tEnglish Wikipedia\tUser_talk:SuzIXiiV\t/* Ney Pimentel */ \n",
        "\n"
       ]
      },
      {
       "output_type": "stream",
       "stream": "stdout",
       "text": [
        "322\tWikimedia Commons\tFile:Ehrenmal_der_Barmer_Sport-_und_Spielvereinigung05.jpg\t \n",
        "\n"
       ]
      },
      {
       "output_type": "stream",
       "stream": "stdout",
       "text": [
        "323\tChinese Wikipedia\t\u00bd\u738b\u5b50\t \n",
        "\n"
       ]
      },
      {
       "output_type": "stream",
       "stream": "stdout",
       "text": [
        "324\tWikidata\tQ203586\tUndid revision 147226598 by [[Special:Contributions/GerardM|GerardM]] ([[User talk:GerardM|talk]]) \n",
        "\n"
       ]
      },
      {
       "output_type": "stream",
       "stream": "stdout",
       "text": [
        "325\tBulgarian Wikipedia\t\u041b\u044a\u0440\u0433\u0430\u043d\t/* \u0421\u043f\u043e\u0440\u0442 */ \n",
        "\n"
       ]
      },
      {
       "output_type": "stream",
       "stream": "stdout",
       "text": [
        "326\tWikimedia Commons\tUser_talk:Lankybiz\tNotification of possible copyright violation for [[:File:Chantal Raymond-Coronation.jpg]] \n",
        "\n"
       ]
      },
      {
       "output_type": "stream",
       "stream": "stdout",
       "text": [
        "327\tEnglish Wikipedia\tKidzMondo\t/* References */categorization/tagging using [[Project:AWB|AWB]] \n",
        "\n"
       ]
      },
      {
       "output_type": "stream",
       "stream": "stdout",
       "text": [
        "328\tWikimedia Commons\tSpecial:Log/upload\tuploaded a new version of File:SVG Test TextAlign.svg: Reverted to version as of 21:09, 8 April 2013; the switch statements are important to the SVG \n",
        "\n"
       ]
      },
      {
       "output_type": "stream",
       "stream": "stdout",
       "text": [
        "329\tPolish Wikipedia\tDyskusja:Armageddon's_Evolution\t[[Dyskusja:Armageddon's Evolution|\u2192]] Robot zg\u0142asza niedost\u0119pny link zewn\u0119trzny \n",
        "\n"
       ]
      },
      {
       "output_type": "stream",
       "stream": "stdout",
       "text": [
        "330\tWikidata\tQ1701126\t/* wbcreateclaim-create:1| */ [[Property:P31]]: [[Q16970]] \n",
        "\n"
       ]
      },
      {
       "output_type": "stream",
       "stream": "stdout",
       "text": [
        "331\tEnglish Wikipedia\tUser_talk:FeydHuxtable\t \n",
        "\n"
       ]
      },
      {
       "output_type": "stream",
       "stream": "stdout",
       "text": [
        "332\tHungarian Wikipedia\tSzentik\u00e9k_\u2013_A_kis_D\u00e1vid_kalandjai\t \n",
        "\n"
       ]
      },
      {
       "output_type": "stream",
       "stream": "stdout",
       "text": [
        "333\tEnglish Wikipedia\tWikipedia:Edit_filter/False_positives/Reports\t/* 62.107.210.106 */ specification to my comment, as previous perhaps wasn't entirely clear \n",
        "\n"
       ]
      },
      {
       "output_type": "stream",
       "stream": "stdout",
       "text": [
        "334\tWikimedia Commons\tCategory:Corporate_headquarters_in_Norway\tCreated category \n",
        "\n"
       ]
      },
      {
       "output_type": "stream",
       "stream": "stdout",
       "text": [
        "335\tGerman Wikipedia\tKarl_Klein_(Theologe)\t1 Weblink ge\u00e4ndert (1 Toter Link) \n",
        "\n"
       ]
      },
      {
       "output_type": "stream",
       "stream": "stdout",
       "text": [
        "336\tGerman Wikipedia\tBenutzer:Diego_de_Tenerife/Autorenschaft_der_Werke_von_Moli\u00e8re\t/* Fu\u00dfnoten */ \n",
        "\n"
       ]
      },
      {
       "output_type": "stream",
       "stream": "stdout",
       "text": [
        "337\tJapanese Wikipedia\tCategory:\u30d5\u30a3\u30ea\u30d4\u30f3\u306e\u30dd\u30eb\u30ce\u5973\u512a\t \n",
        "\n"
       ]
      },
      {
       "output_type": "stream",
       "stream": "stdout",
       "text": [
        "338\tEnglish Wikipedia\tSpecial:Log/newusers\tnew user account \n",
        "\n"
       ]
      },
      {
       "output_type": "stream",
       "stream": "stdout",
       "text": [
        "339\tRussian Wikipedia\t\u0412\u0438\u043a\u0438\u043f\u0435\u0434\u0438\u044f:\u041e\u0441\u043f\u0430\u0440\u0438\u0432\u0430\u043d\u0438\u0435_\u0430\u0434\u043c\u0438\u043d\u0438\u0441\u0442\u0440\u0430\u0442\u0438\u0432\u043d\u044b\u0445_\u0434\u0435\u0439\u0441\u0442\u0432\u0438\u0439\t/* \u041e\u0441\u043f\u0430\u0440\u0438\u0432\u0430\u043d\u0438\u0435 \u0431\u043b\u043e\u043a\u0438\u0440\u043e\u0432\u043a\u0438 */ \u0434\u043e\u043f\u043e\u043b\u043d\u0435\u043d\u0438\u0435 \n",
        "\n"
       ]
      },
      {
       "output_type": "stream",
       "stream": "stdout",
       "text": [
        "340\tSpanish Wikipedia\tPlantilla:DiscusionesActivas\tBot: Actualizando discusiones m\u00e1s activas \n",
        "\n"
       ]
      },
      {
       "output_type": "stream",
       "stream": "stdout",
       "text": [
        "341\tEnglish Wikipedia\tCornel_West\t/* External links */  restore [[Category:Christian philosophers]] \n",
        "\n"
       ]
      },
      {
       "output_type": "stream",
       "stream": "stdout",
       "text": [
        "342\tWikidata\tQ514919\t/* wbsetdescription-add:1|fa */ Auto-description for Persian \n",
        "\n"
       ]
      },
      {
       "output_type": "stream",
       "stream": "stdout",
       "text": [
        "343\tItalian Wikipedia\tFansub\tAggiunto collegamento al sito citato. \n",
        "\n"
       ]
      },
      {
       "output_type": "stream",
       "stream": "stdout",
       "text": [
        "344\tNorwegian Wikipedia\tSpesial:Log/move\tmoved [[\u000302Sjakk-OL 1928\u000310]] to [[Sjakkolympiaden 1928]] \n",
        "\n"
       ]
      },
      {
       "output_type": "stream",
       "stream": "stdout",
       "text": [
        "345\tEnglish Wikipedia\tElectronic_common_technical_document\t/* External links */ \n",
        "\n"
       ]
      },
      {
       "output_type": "stream",
       "stream": "stdout",
       "text": [
        "346\tEnglish Wikipedia\tJustin_Trudeau\t \n",
        "\n"
       ]
      },
      {
       "output_type": "stream",
       "stream": "stdout",
       "text": [
        "347\tChinese Wikipedia\t\u9673\u5fd7\u5f37_(\u914d\u97f3\u54e1)\t/* \u914d\u97f3\u4f5c\u54c1 */ \n",
        "\n"
       ]
      },
      {
       "output_type": "stream",
       "stream": "stdout",
       "text": [
        "348\tCzech Wikipedia\tInternational_German_Open_2014\t+N \n",
        "\n"
       ]
      },
      {
       "output_type": "stream",
       "stream": "stdout",
       "text": [
        "349\tEnglish Wikipedia\tTaliesin_(studio)\t/* Restoration */ \n",
        "\n"
       ]
      },
      {
       "output_type": "stream",
       "stream": "stdout",
       "text": [
        "350\tGerman Wikipedia\tMercedes-Benz_G-Klasse\t/* Fahrzeuge auf Basis der G-Klasse */ \n",
        "\n"
       ]
      },
      {
       "output_type": "stream",
       "stream": "stdout",
       "text": [
        "351\tFarsi Wikipedia\t\u0633\u0648\u0631\u0647\u200c\u0634\u0646\u0627\u0633\u06cc\t\u0648\u06cc\u0631\u0627\u06cc\u0634 [[Special:Contributions/Iranair157|Iranair157]] ([[User talk:Iranair157|\u0628\u062d\u062b]]) \u0628\u0647 \u0622\u062e\u0631\u06cc\u0646 \u062a\u063a\u06cc\u06cc\u0631\u06cc \u06a9\u0647 [[User:Ydehghanif|Ydehghanif]] \u0627\u0646\u062c\u0627\u0645 \u062f\u0627\u062f\u0647 \u0628\u0648\u062f \u0648\u0627\u06af\u0631\u062f\u0627\u0646\u062f\u0647 \u0634\u062f \n",
        "\n"
       ]
      },
      {
       "output_type": "stream",
       "stream": "stdout",
       "text": [
        "352\tRussian Wikipedia\t\u0421\u043b\u0443\u0436\u0435\u0431\u043d\u0430\u044f:Log/newusers\t\u043d\u043e\u0432\u044b\u0439 \u0443\u0447\u0430\u0441\u0442\u043d\u0438\u043a \n",
        "\n"
       ]
      },
      {
       "output_type": "stream",
       "stream": "stdout",
       "text": [
        "353\tWikimedia Commons\tSpecial:Log/newusers\tNew user account \n",
        "\n"
       ]
      },
      {
       "output_type": "stream",
       "stream": "stdout",
       "text": [
        "354\tGerman Wikipedia\tBenutzer_Diskussion:32X\t/* Etzdorf */ Antwort \n",
        "\n"
       ]
      },
      {
       "output_type": "stream",
       "stream": "stdout",
       "text": [
        "355\tEnglish Wikipedia\tList_of_serial_killers_before_1900\t/* After 1850 */ \n",
        "\n"
       ]
      },
      {
       "output_type": "stream",
       "stream": "stdout",
       "text": [
        "356\tWikimedia Commons\tFile:SPIDER._(FROM_THE_SITES_EXHIBITION._FOR_OTHER_IMAGES_IN_THIS_ASSIGNMENT,_SEE_FICHE_NUMBERS_34,_35,_36,_37.)_-_NARA_-_553874.tif\t \n",
        "\n"
       ]
      },
      {
       "output_type": "stream",
       "stream": "stdout",
       "text": [
        "357\tTurkish Wikipedia\t\u00d6zel:Log/newusers\tNew user account: iOS App Account Creation \n",
        "\n"
       ]
      },
      {
       "output_type": "stream",
       "stream": "stdout",
       "text": [
        "358\tPolish Wikipedia\tKhalid_Al-Muwallid\tdrobne redakcyjne \n",
        "\n"
       ]
      },
      {
       "output_type": "stream",
       "stream": "stdout",
       "text": [
        "359\tEnglish Wikipedia\tOptical_fiber_cable\tAdded information about optical cable innerduct. \n",
        "\n"
       ]
      },
      {
       "output_type": "stream",
       "stream": "stdout",
       "text": [
        "360\tWikidata\tQ13537440\t/* wbsetclaim-create:2||1 */ [[Property:P31]]: [[Q11424]] \n",
        "\n"
       ]
      },
      {
       "output_type": "stream",
       "stream": "stdout",
       "text": [
        "361\tEnglish Wikipedia\tNIC_Bank\t/* History */ copy edit. clean-up \n",
        "\n"
       ]
      },
      {
       "output_type": "stream",
       "stream": "stdout",
       "text": [
        "362\tEnglish Wikipedia\tSpecial:Log/newusers\tnew user account \n",
        "\n"
       ]
      },
      {
       "output_type": "stream",
       "stream": "stdout",
       "text": [
        "363\tGerman Wikipedia\tListe_der_Ortschaften_in_Wisconsin\tetwas erg\u00e4nzt \n",
        "\n"
       ]
      },
      {
       "output_type": "stream",
       "stream": "stdout",
       "text": [
        "364\tGerman Wikipedia\tLaFee\tkat \n",
        "\n"
       ]
      },
      {
       "output_type": "stream",
       "stream": "stdout",
       "text": [
        "365\tEnglish Wikipedia\tJack_Wilshere\tUndid revision 620106734 by [[Special:Contributions/Raudys|Raudys]] ([[User talk:Raudys|talk]]) No reason for photo change. \n",
        "\n"
       ]
      },
      {
       "output_type": "stream",
       "stream": "stdout",
       "text": [
        "366\tFarsi Wikipedia\t\u0648\u0631\u06af\u0648\u0627\u0633_\u067e\u0631\u0648\u06cc\u0646\u06a9\t\u0631\u0628\u0627\u062a \u06af\u0645\u0631:\u0627\u0635\u0644\u0627\u062d \u0648 \u06af\u0632\u0627\u0631\u0634\u200c\u06af\u06cc\u0631\u06cc \u0627\u0632 \u0645\u0642\u0627\u0644\u0627\u062a \n",
        "\n"
       ]
      },
      {
       "output_type": "stream",
       "stream": "stdout",
       "text": [
        "367\tArabic Wikipedia\t\u0645\u0633\u062a\u062e\u062f\u0645:Salah-_56789/\u0645\u0644\u0639\u0628\t \n",
        "\n"
       ]
      },
      {
       "output_type": "stream",
       "stream": "stdout",
       "text": [
        "368\tItalian Wikipedia\tSpeciale:Log/delete\tdeleted \"[[\u000302Categoria:Copa El Bosque 2013\u000310]]\": ([[WP:IMMEDIATA|C6]]) Categoria vuota e/o sostituita: l'unico contributore era '[[Special:Contributions/Matlab1985|Matlab1985]]' \n",
        "\n"
       ]
      },
      {
       "output_type": "stream",
       "stream": "stdout",
       "text": [
        "369\tSpanish Wikipedia\tEspecial:Log/newusers\tNew user account \n",
        "\n"
       ]
      },
      {
       "output_type": "stream",
       "stream": "stdout",
       "text": [
        "370\tWikimedia Commons\tFile:PPTlogo.jpg\tMissing permission \n",
        "\n"
       ]
      },
      {
       "output_type": "stream",
       "stream": "stdout",
       "text": [
        "371\tEnglish Wikipedia\tNeumont_University\t/* Academics */ \n",
        "\n"
       ]
      },
      {
       "output_type": "stream",
       "stream": "stdout",
       "text": [
        "372\tWikidata\tQ9372004\t/* wbsetclaim-create:2||1 */ [[Property:P180]]: [[Q5011]] \n",
        "\n"
       ]
      },
      {
       "output_type": "stream",
       "stream": "stdout",
       "text": [
        "373\tEnglish Wikipedia\t2010_Tonight_Show_conflict\t \n",
        "\n"
       ]
      },
      {
       "output_type": "stream",
       "stream": "stdout",
       "text": [
        "374\tWikidata\tQ935706\t/* wbcreateclaim-create:1| */ [[Property:P69]]: [[Q52413]] \n",
        "\n"
       ]
      },
      {
       "output_type": "stream",
       "stream": "stdout",
       "text": [
        "375\tFinnish Wikipedia\tToiminnot:Log/newusers\tNew user account: iOS App Account Creation \n",
        "\n"
       ]
      },
      {
       "output_type": "stream",
       "stream": "stdout",
       "text": [
        "376\tItalian Wikipedia\tAleksandr_Porfir'evi\u010d_Borodin\t \n",
        "\n"
       ]
      },
      {
       "output_type": "stream",
       "stream": "stdout",
       "text": [
        "377\tWikidata\tQ514928\t/* wbsetdescription-add:1|fa */ Auto-description for Persian \n",
        "\n"
       ]
      },
      {
       "output_type": "stream",
       "stream": "stdout",
       "text": [
        "378\tSpanish Wikipedia\tMichael_Abrash\t/* Programador de Videojuegos */ \n",
        "\n"
       ]
      },
      {
       "output_type": "stream",
       "stream": "stdout",
       "text": [
        "379\tEnglish Wikipedia\tUser_talk:001Jrm\t/* Darren Espanto */  I forgot to say something. I'm really sleepy sorry again. \n",
        "\n"
       ]
      },
      {
       "output_type": "stream",
       "stream": "stdout",
       "text": [
        "380\tPolish Wikipedia\tPaleolit_\u015brodkowy\tlit. \n",
        "\n"
       ]
      },
      {
       "output_type": "stream",
       "stream": "stdout",
       "text": [
        "381\tSwedish Wikipedia\tAnv\u00e4ndare:Boberger/Arbetsb\u00e4nk_100\t \n",
        "\n"
       ]
      },
      {
       "output_type": "stream",
       "stream": "stdout",
       "text": [
        "382\tHebrew Wikipedia\t\u05d0\u05dc\u05d9\u05e4\u05d5\u05ea_\u05d5\u05d9\u05de\u05d1\u05dc\u05d3\u05d5\u05df_1960\t/* \u05ea\u05d7\u05e8\u05d5\u05ea \u05d4\u05d2\u05d1\u05e8\u05d9\u05dd */ \n",
        "\n"
       ]
      },
      {
       "output_type": "stream",
       "stream": "stdout",
       "text": [
        "383\tRussian Wikipedia\t\u0411\u0430\u0441\u0442\u0430/\u0413\u0443\u0444\t \n",
        "\n"
       ]
      },
      {
       "output_type": "stream",
       "stream": "stdout",
       "text": [
        "384\tEnglish Wikipedia\tWikipedia:Articles_for_deletion/Hadar_Goldin\t \n",
        "\n"
       ]
      },
      {
       "output_type": "stream",
       "stream": "stdout",
       "text": [
        "385\tFrench Wikipedia\tPortail:Cin\u00e9ma_am\u00e9ricain/Articles_r\u00e9cents\t26934 articles) (Bot: Mise \u00e0 jour de la liste des articles r\u00e9cents (+ [[My Name Is Modesty]]) \n",
        "\n"
       ]
      },
      {
       "output_type": "stream",
       "stream": "stdout",
       "text": [
        "386\tWikidata\tQ383369\t/* wbsetclaim-create:2||1 */ [[Property:P190]]: [[Q5628]] \n",
        "\n"
       ]
      },
      {
       "output_type": "stream",
       "stream": "stdout",
       "text": [
        "387\tSpanish Wikipedia\tSomers_(Wisconsin)\tBot: Retirando coordenadas trasladadas a Wikidata \n",
        "\n"
       ]
      },
      {
       "output_type": "stream",
       "stream": "stdout",
       "text": [
        "388\tWikimedia Commons\tUser_talk:Rashido\tPlease send permission for [[:File:PPTlogo.jpg]] to [[COM:OTRS|OTRS]] \n",
        "\n"
       ]
      },
      {
       "output_type": "stream",
       "stream": "stdout",
       "text": [
        "389\tSpanish Wikipedia\tAlemania_nazi\tortograf\u00eda; mantenimiento \n",
        "\n"
       ]
      },
      {
       "output_type": "stream",
       "stream": "stdout",
       "text": [
        "390\tFarsi Wikipedia\t\u0648\u0631\u06af\u0648\u0644\u06cc\u0633\u0627\t\u0631\u0628\u0627\u062a \u06af\u0645\u0631:\u0627\u0635\u0644\u0627\u062d \u0648 \u06af\u0632\u0627\u0631\u0634\u200c\u06af\u06cc\u0631\u06cc \u0627\u0632 \u0645\u0642\u0627\u0644\u0627\u062a \n",
        "\n"
       ]
      },
      {
       "output_type": "stream",
       "stream": "stdout",
       "text": [
        "391\tPolish Wikipedia\t7_sierpnia\t/* Urodzili si\u0119 */ \n",
        "\n"
       ]
      },
      {
       "output_type": "stream",
       "stream": "stdout",
       "text": [
        "392\tEnglish Wikipedia\tUser:Miwasatoshi/life_list/birds\t/* Accipitridae */ \n",
        "\n"
       ]
      },
      {
       "output_type": "stream",
       "stream": "stdout",
       "text": [
        "393\tPortuguese Wikipedia\tR\u00e1dio_e_Televis\u00e3o_de_Portugal\t/* Diretores de Informa\u00e7\u00e3o de Televis\u00e3o */ \n",
        "\n"
       ]
      },
      {
       "output_type": "stream",
       "stream": "stdout",
       "text": [
        "394\tEnglish Wikipedia\tUser_talk:Brian_Everlasting\t/* EmDrive */ \n",
        "\n"
       ]
      },
      {
       "output_type": "stream",
       "stream": "stdout",
       "text": [
        "395\tGerman Wikipedia\tSpezial:Log/review\tsichtete eine Version von \u201e[[\u000302J\u00fcrgen R\u00e4uschel\u000310]]\u201c \n",
        "\n"
       ]
      },
      {
       "output_type": "stream",
       "stream": "stdout",
       "text": [
        "396\tFrench Wikipedia\tDiscussion_utilisateur:Odiim\tBienvenue ! \n",
        "\n"
       ]
      },
      {
       "output_type": "stream",
       "stream": "stdout",
       "text": [
        "397\tEnglish Wikipedia\tSarah-Jane_Crawford\t/* =Filmography */ \n",
        "\n"
       ]
      },
      {
       "output_type": "stream",
       "stream": "stdout",
       "text": [
        "398\tFarsi Wikipedia\t\u06a9\u0627\u0631\u0628\u0631:Ho3einhajy\t \n",
        "\n"
       ]
      },
      {
       "output_type": "stream",
       "stream": "stdout",
       "text": [
        "399\tEnglish Wikipedia\tGraham_Spanier\t/* Research and publications */ \n",
        "\n"
       ]
      },
      {
       "output_type": "stream",
       "stream": "stdout",
       "text": [
        "400\tChinese Wikipedia\t\u8b58\u5b57\u7387\t\u90e8\u5206\u7ec6\u8282\u4fee\u6539\u3002 \n",
        "\n"
       ]
      },
      {
       "output_type": "stream",
       "stream": "stdout",
       "text": [
        "401\tFrench Wikipedia\tDiscussion:Coll\u00e8ge_communautaire_du_Nouveau-Brunswick\t/* S\u00e9paration des deux coll\u00e8ges CCNB et NBCC */ nouvelle section \n",
        "\n"
       ]
      },
      {
       "output_type": "stream",
       "stream": "stdout",
       "text": [
        "402\tFarsi Wikipedia\t\u0648\u0631\u06af\u0648\u0646\t\u0631\u0628\u0627\u062a \u06af\u0645\u0631:\u0627\u0635\u0644\u0627\u062d \u0648 \u06af\u0632\u0627\u0631\u0634\u200c\u06af\u06cc\u0631\u06cc \u0627\u0632 \u0645\u0642\u0627\u0644\u0627\u062a \n",
        "\n"
       ]
      },
      {
       "output_type": "stream",
       "stream": "stdout",
       "text": [
        "403\tEnglish Wikipedia\tTalk:Ascender_Corporation\t/* Blacklisted Links Found on [[Ascender Corporation]] */ Resolved. ([[en:WP:PEACHY|Peachy 2.0 (alpha 8)]]) \n",
        "\n"
       ]
      },
      {
       "output_type": "stream",
       "stream": "stdout",
       "text": [
        "404\tGerman Wikipedia\tKaupert_(Verlag)\t/* Stra\u00dfenf\u00fchrer */WP:JAhre \n",
        "\n"
       ]
      },
      {
       "output_type": "stream",
       "stream": "stdout",
       "text": [
        "405\tRussian Wikipedia\t\u0412\u0441\u0435\u0440\u043e\u0441\u0441\u0438\u0439\u0441\u043a\u0438\u0439_\u043d\u0430\u0443\u0447\u043d\u043e-\u0438\u0441\u0441\u043b\u0435\u0434\u043e\u0432\u0430\u0442\u0435\u043b\u044c\u0441\u043a\u0438\u0439_\u0438\u043d\u0441\u0442\u0438\u0442\u0443\u0442_\u043e\u0440\u043e\u0448\u0430\u0435\u043c\u043e\u0433\u043e_\u043e\u0432\u043e\u0449\u0435\u0432\u043e\u0434\u0441\u0442\u0432\u0430_\u0438_\u0431\u0430\u0445\u0447\u0435\u0432\u043e\u0434\u0441\u0442\u0432\u0430\t \n",
        "\n"
       ]
      },
      {
       "output_type": "stream",
       "stream": "stdout",
       "text": [
        "406\tEnglish Wikipedia\tSwanton,_E._W.\t#REDIRECT [[E. W. Swanton]] \n",
        "\n"
       ]
      },
      {
       "output_type": "stream",
       "stream": "stdout",
       "text": [
        "407\tWikimedia Commons\tSpecial:Log/move\tmoved [[\u000302File:- Parsons-Lounsbury House, Boston Post Road, Rye, Westchester County, NY HABS NY,60-RY,1-5.tif\u000310]] to [[File:Parsons-Lounsbury House, Boston Post Road, Rye, Westchester County, NY HABS NY,60-RY,1-5.tif]]: more meaningful name -  ->  \n",
        "\n"
       ]
      },
      {
       "output_type": "stream",
       "stream": "stdout",
       "text": [
        "408\tItalian Wikipedia\tClube_Desportivo_Trofense\t \n",
        "\n"
       ]
      },
      {
       "output_type": "stream",
       "stream": "stdout",
       "text": [
        "409\tFrench Wikipedia\tDiscussion_utilisateur:Ryan76el\tBienvenue ! \n",
        "\n"
       ]
      },
      {
       "output_type": "stream",
       "stream": "stdout",
       "text": [
        "410\tWikidata\tQ514935\t/* wbsetdescription-add:1|fa */ Auto-description for Persian \n",
        "\n"
       ]
      },
      {
       "output_type": "stream",
       "stream": "stdout",
       "text": [
        "411\tPolish Wikipedia\tDyskusja:Armagedon_(zesp\u00f3\u0142_muzyczny)\t[[Dyskusja:Armagedon (zesp\u00f3\u0142 muzyczny)|\u2192]] Robot zg\u0142asza niedost\u0119pny link zewn\u0119trzny \n",
        "\n"
       ]
      },
      {
       "output_type": "stream",
       "stream": "stdout",
       "text": [
        "412\tDutch Wikipedia\tX_(album_van_Kylie_Minogue)\t \n",
        "\n"
       ]
      },
      {
       "output_type": "stream",
       "stream": "stdout",
       "text": [
        "413\tFarsi Wikipedia\t\u0648\u0631\u06af\u0648\u06cc\u0644\t\u0631\u0628\u0627\u062a \u06af\u0645\u0631:\u0627\u0635\u0644\u0627\u062d \u0648 \u06af\u0632\u0627\u0631\u0634\u200c\u06af\u06cc\u0631\u06cc \u0627\u0632 \u0645\u0642\u0627\u0644\u0627\u062a \n",
        "\n"
       ]
      },
      {
       "output_type": "stream",
       "stream": "stdout",
       "text": [
        "414\tEnglish Wikipedia\tRobyn_Denholm\t \n",
        "\n"
       ]
      },
      {
       "output_type": "stream",
       "stream": "stdout",
       "text": [
        "415\tWikidata\tQ192279\t/* wbsetreference-add:2| */ [[Property:P570]]: 23 February 1945 \n",
        "\n"
       ]
      },
      {
       "output_type": "stream",
       "stream": "stdout",
       "text": [
        "416\tHungarian Wikipedia\tSpeci\u00e1lis:Log/review\tellen\u0151rizte a(z) [[\u000302Szentik\u00e9k \u2013 A kis D\u00e1vid kalandjai\u000310]] lap egy v\u00e1ltozat\u00e1t: [Pontoss\u00e1g: ellen\u0151rz\u00f6tt] \n",
        "\n"
       ]
      },
      {
       "output_type": "stream",
       "stream": "stdout",
       "text": [
        "417\tChinese Wikipedia\tSpecial:Log/newusers\t\u65b0\u7528\u6237 \n",
        "\n"
       ]
      },
      {
       "output_type": "stream",
       "stream": "stdout",
       "text": [
        "418\tRussian Wikipedia\t\u0421\u043b\u0443\u0436\u0435\u0431\u043d\u0430\u044f:Log/delete\t\u0443\u0434\u0430\u043b\u0438\u043b \u041d\u0430\u0431\u0438 \u0423\u0441\u0438\u043d\u043e\u0432: [[\u0412\u041f:\u041a\u0411\u0423#\u04215|\u04215]]: \u043d\u0435\u0442 \u0434\u043e\u043a\u0430\u0437\u0430\u0442\u0435\u043b\u044c\u0441\u0442\u0432 \u044d\u043d\u0446\u0438\u043a\u043b\u043e\u043f\u0435\u0434\u0438\u0447\u0435\u0441\u043a\u043e\u0439 \u0437\u043d\u0430\u0447\u0438\u043c\u043e\u0441\u0442\u0438: /*\u0423\u0441\u0438\u043d\u043e\u0432 \u041d\u0430\u0431\u0438 1993 \u0433 \u0440\u043e\u0434\u0438\u043b\u0441...*/  \n",
        "\n"
       ]
      },
      {
       "output_type": "stream",
       "stream": "stdout",
       "text": [
        "419\tRussian Wikipedia\t\u0414\u0435\u0433\u043c\u0430\u0439\t\u043c\u0438\u043d\u0443\u0441 \u0441\u043a\u043e\u043f\u0438\u0440\u043e\u0432\u0430\u043d\u043d\u043e\u0435 \u0438\u0437 \u0441\u0442\u0430\u0442\u044c\u0438 [[\u0421\u043e\u0433\u0434\u0438\u0430\u043d\u0430]] \n",
        "\n"
       ]
      },
      {
       "output_type": "stream",
       "stream": "stdout",
       "text": [
        "420\tSpanish Wikipedia\tCer\u00e1mica_de_figuras_rojas\t/* V\u00e9ase tambi\u00e9n */ a\u00f1ado enlaces \n",
        "\n"
       ]
      },
      {
       "output_type": "stream",
       "stream": "stdout",
       "text": [
        "421\tItalian Wikipedia\tAssociazione_Sportiva_Martina_Franca_1947\tsistemo la voce e invito l'utente che mi ha preceduto a non metterci mano dato che se la regola poco \n",
        "\n"
       ]
      },
      {
       "output_type": "stream",
       "stream": "stdout",
       "text": [
        "422\tEnglish Wikipedia\tBanda_della_Comasina\t \n",
        "\n"
       ]
      },
      {
       "output_type": "stream",
       "stream": "stdout",
       "text": [
        "423\tEnglish Wikipedia\tSabaki_languages\t \n",
        "\n"
       ]
      },
      {
       "output_type": "stream",
       "stream": "stdout",
       "text": [
        "424\tFarsi Wikipedia\t\u0648\u0631\u06af\u06cc\t\u0631\u0628\u0627\u062a \u06af\u0645\u0631:\u0627\u0635\u0644\u0627\u062d \u0648 \u06af\u0632\u0627\u0631\u0634\u200c\u06af\u06cc\u0631\u06cc \u0627\u0632 \u0645\u0642\u0627\u0644\u0627\u062a \n",
        "\n"
       ]
      },
      {
       "output_type": "stream",
       "stream": "stdout",
       "text": [
        "425\tFrench Wikipedia\tDiscussion_utilisateur:Bernard_Geller\tBienvenue ! \n",
        "\n"
       ]
      },
      {
       "output_type": "stream",
       "stream": "stdout",
       "text": [
        "426\tWikidata\tQ15080048\t/* wbcreateclaim-create:1| */ [[Property:P21]]: [[Q6581097]] \n",
        "\n"
       ]
      },
      {
       "output_type": "stream",
       "stream": "stdout",
       "text": [
        "427\tArabic Wikipedia\t\u0648\u062c\u062f\u0629\t/* \u062a\u0627\u0631\u064a\u062e */ \n",
        "\n"
       ]
      },
      {
       "output_type": "stream",
       "stream": "stdout",
       "text": [
        "428\tGerman Wikipedia\tDiskussion:Reichsstadt_M\u00fcnster_im_Gregoriental\t[[Hilfe:Zusammenfassung und Quellen#Auto-Zusammenfassung|AZ]]: Die Seite wurde neu angelegt: Die derzeitige Gestaltung von \u201eBibliographie und Quellen\u201c l\u00e4\u00dft den Verdacht aufkommen, da\u00df das\u2026 \n",
        "\n"
       ]
      },
      {
       "output_type": "stream",
       "stream": "stdout",
       "text": [
        "429\tFrench Wikipedia\tJacques_Favre\t[[WP:WPC|WPCleaner]] v1.33 - [[P:HOM|Homonymies]] : Correction de 1 lien - [[Gardien de but]] \n",
        "\n"
       ]
      },
      {
       "output_type": "stream",
       "stream": "stdout",
       "text": [
        "430\tEnglish Wikipedia\tMiguel_de_Cervantes\t/* Legacy */ Corrected unbalanced parentheses \n",
        "\n"
       ]
      },
      {
       "output_type": "stream",
       "stream": "stdout",
       "text": [
        "431\tWikidata\tQ9372004\t/* wbsetclaim-create:2||1 */ [[Property:P180]]: [[Q121973]] \n",
        "\n"
       ]
      },
      {
       "output_type": "stream",
       "stream": "stdout",
       "text": [
        "432\tRussian Wikipedia\t\u0425\u043e\u0434\u0443\u0441,_\u0412\u043b\u0430\u0434\u0438\u043c\u0438\u0440_\u0410\u043b\u0435\u043a\u0441\u0435\u0435\u0432\u0438\u0447\t\u0420\u043e\u0431\u043e\u0442: \u0410\u0432\u0442\u043e\u0437\u0430\u043c\u0435\u043d\u0430: \u0438\u0441\u043f\u0440\u0430\u0432\u043b\u0435\u043d\u0438\u0435 \u043f\u0430\u0440\u0430\u043c\u0435\u0442\u0440\u0430 \u043a\u0430\u0440\u0442\u043e\u0447\u043a\u0438 \u0424\u0443\u0442\u0431\u043e\u043b\u0438\u0441\u0442 \n",
        "\n"
       ]
      },
      {
       "output_type": "stream",
       "stream": "stdout",
       "text": [
        "433\tEnglish Wikipedia\tSpecial:Log/newusers\tnew user account: iOS App Account Creation \n",
        "\n"
       ]
      },
      {
       "output_type": "stream",
       "stream": "stdout",
       "text": [
        "434\tSpanish Wikipedia\tBenavites\t/* Personajes destacados */ \n",
        "\n"
       ]
      },
      {
       "output_type": "stream",
       "stream": "stdout",
       "text": [
        "435\tItalian Wikipedia\tNatuzza_Evolo\t \n",
        "\n"
       ]
      },
      {
       "output_type": "stream",
       "stream": "stdout",
       "text": [
        "436\tKorean Wikipedia\t\uc720\ub85c\ube44\uc804_\uc1a1_\ucf58\ud14c\uc2a4\ud2b8_2015\t/* \ucc38\uac00\uad6d */ \n",
        "\n"
       ]
      },
      {
       "output_type": "stream",
       "stream": "stdout",
       "text": [
        "437\tEnglish Wikipedia\tLa_Via_dei_Monti_Lariani\t/* External links */categorization/tagging using [[Project:AWB|AWB]] \n",
        "\n"
       ]
      },
      {
       "output_type": "stream",
       "stream": "stdout",
       "text": [
        "438\tFarsi Wikipedia\t\u0648\u0631\u06af\u06cc\u062a\t\u0631\u0628\u0627\u062a \u06af\u0645\u0631:\u0627\u0635\u0644\u0627\u062d \u0648 \u06af\u0632\u0627\u0631\u0634\u200c\u06af\u06cc\u0631\u06cc \u0627\u0632 \u0645\u0642\u0627\u0644\u0627\u062a \n",
        "\n"
       ]
      },
      {
       "output_type": "stream",
       "stream": "stdout",
       "text": [
        "439\tRussian Wikipedia\t\u041a\u043e\u0437\u043b\u043e\u0432,_\u0421\u0435\u0440\u0433\u0435\u0439_\u0421\u0435\u0440\u0433\u0435\u0435\u0432\u0438\u0447_(\u043f\u0438\u0441\u0430\u0442\u0435\u043b\u044c)\t/* \u041f\u0440\u043e\u0438\u0437\u0432\u0435\u0434\u0435\u043d\u0438\u044f */ \n",
        "\n"
       ]
      },
      {
       "output_type": "stream",
       "stream": "stdout",
       "text": [
        "440\tWikidata\tQ4317876\t/* wbsetsitelink-add:1|dewiki */ Michail Fjodorowitsch Nesturch \n",
        "\n"
       ]
      },
      {
       "output_type": "stream",
       "stream": "stdout",
       "text": [
        "441\tArabic Wikipedia\t\u0648\u064a\u0643\u064a\u0628\u064a\u062f\u064a\u0627:\u0633\u064a\u0627\u0633\u0629_\u0627\u0644\u062e\u0635\u0648\u0635\u064a\u0629\t\u0627\u0633\u062a\u0631\u062c\u0627\u0639 \u062a\u0639\u062f\u064a\u0644\u0627\u062a [[\u062e\u0627\u0635:\u0645\u0633\u0627\u0647\u0645\u0627\u062a/\u0645\u062d\u0645\u062f\u0627\u0644\u063a\u062f\u064a\u0631|\u0645\u062d\u0645\u062f\u0627\u0644\u063a\u062f\u064a\u0631]] ([[\u0646\u0642\u0627\u0634 \u0627\u0644\u0645\u0633\u062a\u062e\u062f\u0645:\u0645\u062d\u0645\u062f\u0627\u0644\u063a\u062f\u064a\u0631|\u0646\u0642\u0627\u0634]]) \u062d\u062a\u0649 \u0622\u062e\u0631 \u0646\u0633\u062e\u0629 \u0628\u0648\u0627\u0633\u0637\u0629 [[\u0645\u0633\u062a\u062e\u062f\u0645:Ciphers|Ciphers]] \n",
        "\n"
       ]
      },
      {
       "output_type": "stream",
       "stream": "stdout",
       "text": [
        "442\tEnglish Wikipedia\tUnited_States_Senate_election_in_Kansas,_2014\t/* Democratic primary */ \n",
        "\n"
       ]
      },
      {
       "output_type": "stream",
       "stream": "stdout",
       "text": [
        "443\tJapanese Wikipedia\t\u7279\u5225:Log/newusers\tNew user account: iOS App Account Creation \n",
        "\n"
       ]
      },
      {
       "output_type": "stream",
       "stream": "stdout",
       "text": [
        "444\tGreek Wikipedia\t\u039b\u03b9\u03ba_\u03a4\u03ac\u03bf\u03c5\u03bd_\u03a6\u039a\t \n",
        "\n"
       ]
      },
      {
       "output_type": "stream",
       "stream": "stdout",
       "text": [
        "445\tGerman Wikipedia\tLarissa_Fran\u00e7a\t/* 2011 */ wikilink \n",
        "\n"
       ]
      },
      {
       "output_type": "stream",
       "stream": "stdout",
       "text": [
        "446\tFrench Wikipedia\tGabriel_Audran\t \n",
        "\n"
       ]
      },
      {
       "output_type": "stream",
       "stream": "stdout",
       "text": [
        "447\tRussian Wikipedia\t\u041d\u0430\u0442\u0445\u043e,_\u0411\u0438\u0431\u0440\u0430\u0441\t \n",
        "\n"
       ]
      },
      {
       "output_type": "stream",
       "stream": "stdout",
       "text": [
        "448\tGerman Wikipedia\tCha_Jong-hyok\t/* Karriere */ \n",
        "\n"
       ]
      },
      {
       "output_type": "stream",
       "stream": "stdout",
       "text": [
        "449\tJapanese Wikipedia\tRose_(shela\u306e\u66f2)\t/* \u53ce\u9332\u66f2 */ \n",
        "\n"
       ]
      },
      {
       "output_type": "stream",
       "stream": "stdout",
       "text": [
        "450\tWikidata\tQ514947\t/* wbsetdescription-add:1|fa */ Auto-description for Persian \n",
        "\n"
       ]
      },
      {
       "output_type": "stream",
       "stream": "stdout",
       "text": [
        "451\tWikimedia Commons\tFile:Paris,_Schornsteine_--_2014_--_1200.jpg\tremoved [[Category:Quality images of Senden]]; added [[Category:Quality images of Paris]] using [[Help:Gadget-HotCat|HotCat]] \n",
        "\n"
       ]
      },
      {
       "output_type": "stream",
       "stream": "stdout",
       "text": [
        "452\tFarsi Wikipedia\t\u0648\u0631\u06af\u06cc\u0633\t\u0631\u0628\u0627\u062a \u06af\u0645\u0631:\u0627\u0635\u0644\u0627\u062d \u0648 \u06af\u0632\u0627\u0631\u0634\u200c\u06af\u06cc\u0631\u06cc \u0627\u0632 \u0645\u0642\u0627\u0644\u0627\u062a \n",
        "\n"
       ]
      },
      {
       "output_type": "stream",
       "stream": "stdout",
       "text": [
        "453\tVietnamese Wikipedia\t\u0110\u1ed9i_tuy\u1ec3n_b\u00f3ng_chuy\u1ec1n_nam_qu\u1ed1c_gia_Vi\u1ec7t_Nam\t/* Tham kh\u1ea3o */ \n",
        "\n"
       ]
      },
      {
       "output_type": "stream",
       "stream": "stdout",
       "text": [
        "454\tUkrainian Wikipedia\t\u041c\u043e\u043b\u043e\u0434\u0456\u0436\u043d\u0438\u0439_\u0447\u0435\u043c\u043f\u0456\u043e\u043d\u0430\u0442_\u0441\u0432\u0456\u0442\u0443_\u0437_\u0445\u043e\u043a\u0435\u044e_\u0456\u0437_\u0448\u0430\u0439\u0431\u043e\u044e_2010\t\u0434\u043e\u0434\u0430\u043d\u0430 [[\u041a\u0430\u0442\u0435\u0433\u043e\u0440\u0456\u044f:\u0427\u0435\u043c\u043f\u0456\u043e\u043d\u0430\u0442 \u0441\u0432\u0456\u0442\u0443 \u0437 \u0445\u043e\u043a\u0435\u044e \u0456\u0437 \u0448\u0430\u0439\u0431\u043e\u044e \u0441\u0435\u0440\u0435\u0434 \u043c\u043e\u043b\u043e\u0434\u0456\u0436\u043d\u0438\u0445 \u043a\u043e\u043c\u0430\u043d\u0434]] \u0437 \u0434\u043e\u043f\u043e\u043c\u043e\u0433\u043e\u044e [[\u0412\u041f:HC|HotCat]] \n",
        "\n"
       ]
      },
      {
       "output_type": "stream",
       "stream": "stdout",
       "text": [
        "455\tEnglish Wikipedia\tSpecial:Log/abusefilter\t86.22.62.158 triggered [[Special:AbuseFilter/391|filter 391]], performing the action \"edit\" on [[\u000302Junior Moors\u000310]]. Actions taken: Tag ([[Special:AbuseLog/10680019|details]]) \n",
        "\n"
       ]
      },
      {
       "output_type": "stream",
       "stream": "stdout",
       "text": [
        "456\tEnglish Wikipedia\tJunior_Moors\t \n",
        "\n"
       ]
      },
      {
       "output_type": "stream",
       "stream": "stdout",
       "text": [
        "457\tChinese Wikipedia\t\u5973\u738b\u99d5\u5230\t\u4f7f\u7528[[WP:HOTCAT|HotCat]]\u5df2\u6dfb\u52a0[[Category:\u4e2d\u570b\u611b\u60c5\u5287]] \n",
        "\n"
       ]
      },
      {
       "output_type": "stream",
       "stream": "stdout",
       "text": [
        "458\tKorean Wikipedia\t\uac15\uc2e0\uba85_(1964\ub144)\t/* \uc57d\ub825 */ \n",
        "\n"
       ]
      },
      {
       "output_type": "stream",
       "stream": "stdout",
       "text": [
        "459\tWikidata\tQ4236635\t/* wbsetclaim-create:2||1 */ [[Property:P27]]: [[Q15180]] \n",
        "\n"
       ]
      },
      {
       "output_type": "stream",
       "stream": "stdout",
       "text": [
        "460\tChinese Wikipedia\t\u5973\u4eba\u6cea\t\u4f7f\u7528[[WP:HOTCAT|HotCat]]+[[Category:\u751c\u9ede\u5e97\u80cc\u666f\u4f5c\u54c1\u200e]]; +[[Category:\u52f5\u5fd7\u984c\u6750\u96fb\u8996\u5287]] \n",
        "\n"
       ]
      },
      {
       "output_type": "stream",
       "stream": "stdout",
       "text": [
        "461\tFrench Wikipedia\tJames_Siang'a\t[[WP:WPC|WPCleaner]] v1.33 - [[P:HOM|Homonymies]] : Correction de 1 lien - [[Gardien de but]] \n",
        "\n"
       ]
      },
      {
       "output_type": "stream",
       "stream": "stdout",
       "text": [
        "462\tEnglish Wikipedia\tAnn_E._Dunwoody\t/* Logistics */ \n",
        "\n"
       ]
      },
      {
       "output_type": "stream",
       "stream": "stdout",
       "text": [
        "463\tFarsi Wikipedia\t\u0648\u0631\u06af\u06cc\u0633\u0646\t\u0631\u0628\u0627\u062a \u06af\u0645\u0631:\u0627\u0635\u0644\u0627\u062d \u0648 \u06af\u0632\u0627\u0631\u0634\u200c\u06af\u06cc\u0631\u06cc \u0627\u0632 \u0645\u0642\u0627\u0644\u0627\u062a \n",
        "\n"
       ]
      },
      {
       "output_type": "stream",
       "stream": "stdout",
       "text": [
        "464\tSpanish Wikipedia\tSomerset_(condado_de_St._Croix,_Wisconsin)\tBot: Retirando coordenadas trasladadas a Wikidata \n",
        "\n"
       ]
      },
      {
       "output_type": "stream",
       "stream": "stdout",
       "text": [
        "465\tChinese Wikipedia\tSpecial:Log/newusers\t\u65b0\u7528\u6237 \n",
        "\n"
       ]
      },
      {
       "output_type": "stream",
       "stream": "stdout",
       "text": [
        "466\tPolish Wikipedia\tDyskusja:Armallones\t[[Dyskusja:Armallones|\u2192]] Robot zg\u0142asza niedost\u0119pny link zewn\u0119trzny \n",
        "\n"
       ]
      },
      {
       "output_type": "stream",
       "stream": "stdout",
       "text": [
        "467\tEnglish Wikipedia\tItalian_general_election,_2006\t/* Overall result */ \n",
        "\n"
       ]
      },
      {
       "output_type": "stream",
       "stream": "stdout",
       "text": [
        "468\tPortuguese Wikipedia\tPablo_Daniel_Osvaldo\t \n",
        "\n"
       ]
      },
      {
       "output_type": "stream",
       "stream": "stdout",
       "text": [
        "469\tRussian Wikipedia\t\u0411\u0443\u044d\u043d\u043e,_\u041a\u0430\u0440\u043b\u043e\u0441\t\u0420\u043e\u0431\u043e\u0442: \u0410\u0432\u0442\u043e\u0437\u0430\u043c\u0435\u043d\u0430: \u0438\u0441\u043f\u0440\u0430\u0432\u043b\u0435\u043d\u0438\u0435 \u043f\u0430\u0440\u0430\u043c\u0435\u0442\u0440\u0430 \u043a\u0430\u0440\u0442\u043e\u0447\u043a\u0438 \u0424\u0443\u0442\u0431\u043e\u043b\u0438\u0441\u0442 \n",
        "\n"
       ]
      },
      {
       "output_type": "stream",
       "stream": "stdout",
       "text": [
        "470\tEnglish Wikipedia\tGriselda_Gambaro\tBOT--Reverting link addition(s) by [[:en:Special:Contributions/109.144.220.223|109.144.220.223]] to revision 619779969 (http://www.flickr.com/photos/internationalist_theatre_rockas/sets/72157628011069680/ [\\bflickr\\.com\\/photos\\/]) \n",
        "\n"
       ]
      },
      {
       "output_type": "stream",
       "stream": "stdout",
       "text": [
        "471\tItalian Wikipedia\tSolarolo\t/* Infrastrutture e trasporti */ \n",
        "\n"
       ]
      },
      {
       "output_type": "stream",
       "stream": "stdout",
       "text": [
        "472\tEnglish Wikipedia\tOropharyngeal_cancer\t/* Society and culture */ -- Adding details of Ryuichi Sakamoto's diagnosis. \n",
        "\n"
       ]
      },
      {
       "output_type": "stream",
       "stream": "stdout",
       "text": [
        "473\tFrench Wikipedia\tSp\u00e9cial:Log/abusefilter\tOrthomaniaque a d\u00e9clench\u00e9 [[Sp\u00e9cial:Filtre antiabus/227|filtre anti-erreur 227]], en effectuant l'action \"edit\" sur [[\u000302Personnages de Fast and Furious\u000310]]. Actions entreprises: n\u00e9ant ([[Sp\u00e9cial:Journal du filtre antiabus/1136150|d\u00e9tails]]) \n",
        "\n"
       ]
      },
      {
       "output_type": "stream",
       "stream": "stdout",
       "text": [
        "474\tBulgarian Wikipedia\t\u041a\u0440\u0438\u0441_\u0414\u0436\u0435\u0440\u0438\u043a\u043e\t \n",
        "\n"
       ]
      },
      {
       "output_type": "stream",
       "stream": "stdout",
       "text": [
        "475\tFarsi Wikipedia\t\u0648\u0631\u06af\u06cc\u06af\u0646\u0646\t\u0631\u0628\u0627\u062a \u06af\u0645\u0631:\u0627\u0635\u0644\u0627\u062d \u0648 \u06af\u0632\u0627\u0631\u0634\u200c\u06af\u06cc\u0631\u06cc \u0627\u0632 \u0645\u0642\u0627\u0644\u0627\u062a \n",
        "\n"
       ]
      },
      {
       "output_type": "stream",
       "stream": "stdout",
       "text": [
        "476\tWikidata\tQ1776432\t/* wbcreateclaim-create:1| */ [[Property:P31]]: [[Q16970]] \n",
        "\n"
       ]
      },
      {
       "output_type": "stream",
       "stream": "stdout",
       "text": [
        "477\tWikimedia Commons\tFile:Lake_LA-4-200_Buccaneer_AN1805842.jpg\tduplicate \n",
        "\n"
       ]
      },
      {
       "output_type": "stream",
       "stream": "stdout",
       "text": [
        "478\tPortuguese Wikipedia\tOrlando_City_Soccer_Club\t \n",
        "\n"
       ]
      },
      {
       "output_type": "stream",
       "stream": "stdout",
       "text": [
        "479\tEnglish Wikipedia\tEdouard_Izac\t/* Biography */ correction and additional details \n",
        "\n"
       ]
      },
      {
       "output_type": "stream",
       "stream": "stdout",
       "text": [
        "480\tDutch Wikipedia\tCategorie:Wikipedia:IMDb_met_lokaal_zelfde_link_als_op_Wikidata\t[[WP:GS|Nieuwe pagina aangemaakt]] met '{{Hoofding categorie beheer | inhoud= Deze pagina's gebruiken {{tl|Link IMDb}} en hebben lokaal een link, maar op [[:d:|Wikidata]] geen :d:Property:P345...' \n",
        "\n"
       ]
      },
      {
       "output_type": "stream",
       "stream": "stdout",
       "text": [
        "481\tWikidata\tQ7437179\t/* wbcreateclaim-create:1| */ [[Property:P69]]: [[Q52413]] \n",
        "\n"
       ]
      },
      {
       "output_type": "stream",
       "stream": "stdout",
       "text": [
        "482\tWikimedia Commons\tFile:Pendant_with_sprueing.JPG\tadded [[Category:Animal-shaped pendants]] using [[Help:Gadget-HotCat|HotCat]] \n",
        "\n"
       ]
      },
      {
       "output_type": "stream",
       "stream": "stdout",
       "text": [
        "483\tGerman Wikipedia\tSpezial:Log/review\tsichtete eine Version von \u201e[[\u000302Ko\u0142acz (Kuchen)\u000310]]\u201c \n",
        "\n"
       ]
      },
      {
       "output_type": "stream",
       "stream": "stdout",
       "text": [
        "484\tFrench Wikipedia\tJan_Jongbloed\t[[WP:WPC|WPCleaner]] v1.33 - [[P:HOM|Homonymies]] : Correction de 1 lien - [[Gardien de but]] \n",
        "\n"
       ]
      },
      {
       "output_type": "stream",
       "stream": "stdout",
       "text": [
        "485\tDutch Wikipedia\tInstitut_Pertanian_Bogor\t \n",
        "\n"
       ]
      },
      {
       "output_type": "stream",
       "stream": "stdout",
       "text": [
        "486\tWikidata\tQ218613\t/* wbsetclaim-create:2||1 */ [[Property:P31]]: [[Q216107]] \n",
        "\n"
       ]
      },
      {
       "output_type": "stream",
       "stream": "stdout",
       "text": [
        "487\tFrench Wikipedia\tDiscussion:Ahmed_Bey\t/* Commandant Joseph, Khalil (???) */ nouvelle section \n",
        "\n"
       ]
      },
      {
       "output_type": "stream",
       "stream": "stdout",
       "text": [
        "488\tFrench Wikipedia\tApple\tAjout d'une nouvelle concernant la poursuite judiciaire opposant Apple \u00e0 Samsung. \n",
        "\n"
       ]
      },
      {
       "output_type": "stream",
       "stream": "stdout",
       "text": [
        "489\tJapanese Wikipedia\t\u30cb\u30c1\u30ec\u30a4\t/* \u95a2\u9023\u9805\u76ee */ \n",
        "\n"
       ]
      },
      {
       "output_type": "stream",
       "stream": "stdout",
       "text": [
        "490\tFrench Wikipedia\tAdolphe_Tabarant\t/* Bibliographie */ + 1 \n",
        "\n"
       ]
      },
      {
       "output_type": "stream",
       "stream": "stdout",
       "text": [
        "491\tFrench Wikipedia\tPersonnages_de_Fast_and_Furious\tDanger potentiel = [[pl\u00e9onasme]] \n",
        "\n"
       ]
      },
      {
       "output_type": "stream",
       "stream": "stdout",
       "text": [
        "492\tWikidata\tQ19788\t/* wbsetsitelink-add:1|ruwiki */ \u0425\u0430\u0442\u0444\u0438\u043b\u0434 (\u0425\u0430\u0440\u0442\u0444\u043e\u0440\u0434\u0448\u0438\u0440) \n",
        "\n"
       ]
      },
      {
       "output_type": "stream",
       "stream": "stdout",
       "text": [
        "493\tFrench Wikipedia\tConrad_Schnitzler\t \n",
        "\n"
       ]
      },
      {
       "output_type": "stream",
       "stream": "stdout",
       "text": [
        "494\tFarsi Wikipedia\t\u0648\u0631\u06af\u06cc\u06af\u0646\u06cc\t\u0631\u0628\u0627\u062a \u06af\u0645\u0631:\u0627\u0635\u0644\u0627\u062d \u0648 \u06af\u0632\u0627\u0631\u0634\u200c\u06af\u06cc\u0631\u06cc \u0627\u0632 \u0645\u0642\u0627\u0644\u0627\u062a \n",
        "\n"
       ]
      },
      {
       "output_type": "stream",
       "stream": "stdout",
       "text": [
        "495\tEnglish Wikipedia\tLimerick_Museum_and_Archives\t/* References */categorization/tagging using [[Project:AWB|AWB]] \n",
        "\n"
       ]
      },
      {
       "output_type": "stream",
       "stream": "stdout",
       "text": [
        "496\tJapanese Wikipedia\tCategory:\u30d5\u30e9\u30f3\u30b9\u306e\u30dd\u30eb\u30ce\u5973\u512a\t \n",
        "\n"
       ]
      },
      {
       "output_type": "stream",
       "stream": "stdout",
       "text": [
        "497\tWikimedia Commons\tFile:Model_of_a_chariot_from_the_Oxus_Treasure_by_Nickmard_Khoey.jpg\tadded [[Category:Archaeology in Tajikistan]] using [[Help:Gadget-HotCat|HotCat]] \n",
        "\n"
       ]
      },
      {
       "output_type": "stream",
       "stream": "stdout",
       "text": [
        "498\tEnglish Wikipedia\tSerbia_and_Montenegro\t \n",
        "\n"
       ]
      },
      {
       "output_type": "stream",
       "stream": "stdout",
       "text": [
        "499\tRussian Wikipedia\t\u041c\u0438\u043b\u043e\u0441\u0430\u0432\u043b\u0435\u0432\u0438\u0447,_\u0423\u0440\u043e\u0448\t\u0420\u043e\u0431\u043e\u0442: \u0410\u0432\u0442\u043e\u0437\u0430\u043c\u0435\u043d\u0430: \u0438\u0441\u043f\u0440\u0430\u0432\u043b\u0435\u043d\u0438\u0435 \u043f\u0430\u0440\u0430\u043c\u0435\u0442\u0440\u0430 \u043a\u0430\u0440\u0442\u043e\u0447\u043a\u0438 \u0424\u0443\u0442\u0431\u043e\u043b\u0438\u0441\u0442 \n",
        "\n"
       ]
      }
     ],
     "prompt_number": 3
    },
    {
     "cell_type": "code",
     "collapsed": false,
     "input": [
      "# Save this data -- backup in case of problems when giving demo\n",
      "# with open('edits.json', 'w') as f:\n",
      "#    json.dump(edits, f)"
     ],
     "language": "python",
     "metadata": {},
     "outputs": []
    },
    {
     "cell_type": "code",
     "collapsed": false,
     "input": [
      "# Save this data -- backup in case of problems when giving demo\n",
      "#with open('edits.json') as f:\n",
      "#    edits = json.load(f)"
     ],
     "language": "python",
     "metadata": {},
     "outputs": []
    },
    {
     "cell_type": "markdown",
     "metadata": {},
     "source": [
      "## Import into pandas\n",
      "\n",
      "Let's add all these edits into a `DataFrame` to make them easier to work with."
     ]
    },
    {
     "cell_type": "code",
     "collapsed": false,
     "input": [
      "df = pd.DataFrame(edits)\n",
      "df['timestamp'] = pd.to_datetime(df['timestamp'], unit='s')\n",
      "df.head()"
     ],
     "language": "python",
     "metadata": {},
     "outputs": [
      {
       "html": [
        "<div style=\"max-height:1000px;max-width:1500px;overflow:auto;\">\n",
        "<table border=\"1\" class=\"dataframe\">\n",
        "  <thead>\n",
        "    <tr style=\"text-align: right;\">\n",
        "      <th></th>\n",
        "      <th>anonymous</th>\n",
        "      <th>channel</th>\n",
        "      <th>comment</th>\n",
        "      <th>delta</th>\n",
        "      <th>flag</th>\n",
        "      <th>namespace</th>\n",
        "      <th>newPage</th>\n",
        "      <th>page</th>\n",
        "      <th>pageUrl</th>\n",
        "      <th>robot</th>\n",
        "      <th>timestamp</th>\n",
        "      <th>unpatrolled</th>\n",
        "      <th>url</th>\n",
        "      <th>user</th>\n",
        "      <th>userUrl</th>\n",
        "      <th>wikipedia</th>\n",
        "      <th>wikipediaLong</th>\n",
        "      <th>wikipediaShort</th>\n",
        "      <th>wikipediaUrl</th>\n",
        "    </tr>\n",
        "  </thead>\n",
        "  <tbody>\n",
        "    <tr>\n",
        "      <th>0</th>\n",
        "      <td> False</td>\n",
        "      <td>  #commons.wikimedia</td>\n",
        "      <td> added [[Category:Archaeology in Tajikistan]] u...</td>\n",
        "      <td>  39</td>\n",
        "      <td>     !M</td>\n",
        "      <td>    file</td>\n",
        "      <td> False</td>\n",
        "      <td> File:Gold statuettes from the Oxus Treasure by...</td>\n",
        "      <td> http://commons.wikimedia.org/wiki/File:Gold_st...</td>\n",
        "      <td> False</td>\n",
        "      <td>2014-08-06 16:39:18.728382</td>\n",
        "      <td>  True</td>\n",
        "      <td> http://commons.wikimedia.org/w/index.php?diff=...</td>\n",
        "      <td> \u0428\u0443\u0445\u0440\u0430\u0442 \u0421\u0430\u044a\u0434\u0438\u0435\u0432</td>\n",
        "      <td> http://commons.wikimedia.org/wiki/User:\u0428\u0443\u0445\u0440\u0430\u0442 ...</td>\n",
        "      <td> Wikimedia Commons</td>\n",
        "      <td> Wikimedia Commons</td>\n",
        "      <td> co</td>\n",
        "      <td> http://commons.wikimedia.org</td>\n",
        "    </tr>\n",
        "    <tr>\n",
        "      <th>1</th>\n",
        "      <td> False</td>\n",
        "      <td>       #de.wikipedia</td>\n",
        "      <td>                                   /* Das Hotel */</td>\n",
        "      <td> -17</td>\n",
        "      <td>      M</td>\n",
        "      <td> article</td>\n",
        "      <td> False</td>\n",
        "      <td>                                     Hotel Florhof</td>\n",
        "      <td>        http://de.wikipedia.org/wiki/Hotel_Florhof</td>\n",
        "      <td> False</td>\n",
        "      <td>2014-08-06 16:39:18.918858</td>\n",
        "      <td> False</td>\n",
        "      <td> http://de.wikipedia.org/w/index.php?diff=13283...</td>\n",
        "      <td>        Florhof</td>\n",
        "      <td>         http://de.wikipedia.org/wiki/User:Florhof</td>\n",
        "      <td>  German Wikipedia</td>\n",
        "      <td>  German Wikipedia</td>\n",
        "      <td> de</td>\n",
        "      <td>      http://de.wikipedia.org</td>\n",
        "    </tr>\n",
        "    <tr>\n",
        "      <th>2</th>\n",
        "      <td> False</td>\n",
        "      <td> #wikidata.wikipedia</td>\n",
        "      <td>               /* wbmergeitems-from:0||Q6041340 */</td>\n",
        "      <td> 128</td>\n",
        "      <td>       </td>\n",
        "      <td> article</td>\n",
        "      <td> False</td>\n",
        "      <td>                                          Q2900609</td>\n",
        "      <td>                 http://wikidata.org/wiki/Q2900609</td>\n",
        "      <td> False</td>\n",
        "      <td>2014-08-06 16:39:18.919880</td>\n",
        "      <td> False</td>\n",
        "      <td> http://www.wikidata.org/w/index.php?diff=14983...</td>\n",
        "      <td>         Potkal</td>\n",
        "      <td>              http://wikidata.org/wiki/User:Potkal</td>\n",
        "      <td>          Wikidata</td>\n",
        "      <td>          Wikidata</td>\n",
        "      <td> wd</td>\n",
        "      <td>          http://wikidata.org</td>\n",
        "    </tr>\n",
        "    <tr>\n",
        "      <th>3</th>\n",
        "      <td> False</td>\n",
        "      <td>       #en.wikipedia</td>\n",
        "      <td>                                  new user account</td>\n",
        "      <td> NaN</td>\n",
        "      <td> create</td>\n",
        "      <td> special</td>\n",
        "      <td> False</td>\n",
        "      <td>                              Special:Log/newusers</td>\n",
        "      <td> http://en.wikipedia.org/wiki/Special:Log/newusers</td>\n",
        "      <td> False</td>\n",
        "      <td>2014-08-06 16:39:19.102751</td>\n",
        "      <td> False</td>\n",
        "      <td>                                                  </td>\n",
        "      <td>         Dcw679</td>\n",
        "      <td>          http://en.wikipedia.org/wiki/User:Dcw679</td>\n",
        "      <td> English Wikipedia</td>\n",
        "      <td> English Wikipedia</td>\n",
        "      <td> en</td>\n",
        "      <td>      http://en.wikipedia.org</td>\n",
        "    </tr>\n",
        "    <tr>\n",
        "      <th>4</th>\n",
        "      <td> False</td>\n",
        "      <td> #wikidata.wikipedia</td>\n",
        "      <td> /* wbcreateclaim-create:1| */ [[Property:P21]]...</td>\n",
        "      <td> 254</td>\n",
        "      <td>       </td>\n",
        "      <td> article</td>\n",
        "      <td> False</td>\n",
        "      <td>                                         Q17484447</td>\n",
        "      <td>                http://wikidata.org/wiki/Q17484447</td>\n",
        "      <td> False</td>\n",
        "      <td>2014-08-06 16:39:19.103928</td>\n",
        "      <td> False</td>\n",
        "      <td> http://www.wikidata.org/w/index.php?diff=14983...</td>\n",
        "      <td>     Viscontino</td>\n",
        "      <td>          http://wikidata.org/wiki/User:Viscontino</td>\n",
        "      <td>          Wikidata</td>\n",
        "      <td>          Wikidata</td>\n",
        "      <td> wd</td>\n",
        "      <td>          http://wikidata.org</td>\n",
        "    </tr>\n",
        "  </tbody>\n",
        "</table>\n",
        "</div>"
       ],
       "metadata": {},
       "output_type": "pyout",
       "prompt_number": 4,
       "text": [
        "  anonymous              channel  \\\n",
        "0     False   #commons.wikimedia   \n",
        "1     False        #de.wikipedia   \n",
        "2     False  #wikidata.wikipedia   \n",
        "3     False        #en.wikipedia   \n",
        "4     False  #wikidata.wikipedia   \n",
        "\n",
        "                                             comment  delta    flag namespace  \\\n",
        "0  added [[Category:Archaeology in Tajikistan]] u...     39      !M      file   \n",
        "1                                    /* Das Hotel */    -17       M   article   \n",
        "2                /* wbmergeitems-from:0||Q6041340 */    128           article   \n",
        "3                                   new user account    NaN  create   special   \n",
        "4  /* wbcreateclaim-create:1| */ [[Property:P21]]...    254           article   \n",
        "\n",
        "  newPage                                               page  \\\n",
        "0   False  File:Gold statuettes from the Oxus Treasure by...   \n",
        "1   False                                      Hotel Florhof   \n",
        "2   False                                           Q2900609   \n",
        "3   False                               Special:Log/newusers   \n",
        "4   False                                          Q17484447   \n",
        "\n",
        "                                             pageUrl  robot  \\\n",
        "0  http://commons.wikimedia.org/wiki/File:Gold_st...  False   \n",
        "1         http://de.wikipedia.org/wiki/Hotel_Florhof  False   \n",
        "2                  http://wikidata.org/wiki/Q2900609  False   \n",
        "3  http://en.wikipedia.org/wiki/Special:Log/newusers  False   \n",
        "4                 http://wikidata.org/wiki/Q17484447  False   \n",
        "\n",
        "                   timestamp unpatrolled  \\\n",
        "0 2014-08-06 16:39:18.728382        True   \n",
        "1 2014-08-06 16:39:18.918858       False   \n",
        "2 2014-08-06 16:39:18.919880       False   \n",
        "3 2014-08-06 16:39:19.102751       False   \n",
        "4 2014-08-06 16:39:19.103928       False   \n",
        "\n",
        "                                                 url            user  \\\n",
        "0  http://commons.wikimedia.org/w/index.php?diff=...  \u0428\u0443\u0445\u0440\u0430\u0442 \u0421\u0430\u044a\u0434\u0438\u0435\u0432   \n",
        "1  http://de.wikipedia.org/w/index.php?diff=13283...         Florhof   \n",
        "2  http://www.wikidata.org/w/index.php?diff=14983...          Potkal   \n",
        "3                                                             Dcw679   \n",
        "4  http://www.wikidata.org/w/index.php?diff=14983...      Viscontino   \n",
        "\n",
        "                                             userUrl          wikipedia  \\\n",
        "0  http://commons.wikimedia.org/wiki/User:\u0428\u0443\u0445\u0440\u0430\u0442 ...  Wikimedia Commons   \n",
        "1          http://de.wikipedia.org/wiki/User:Florhof   German Wikipedia   \n",
        "2               http://wikidata.org/wiki/User:Potkal           Wikidata   \n",
        "3           http://en.wikipedia.org/wiki/User:Dcw679  English Wikipedia   \n",
        "4           http://wikidata.org/wiki/User:Viscontino           Wikidata   \n",
        "\n",
        "       wikipediaLong wikipediaShort                  wikipediaUrl  \n",
        "0  Wikimedia Commons             co  http://commons.wikimedia.org  \n",
        "1   German Wikipedia             de       http://de.wikipedia.org  \n",
        "2           Wikidata             wd           http://wikidata.org  \n",
        "3  English Wikipedia             en       http://en.wikipedia.org  \n",
        "4           Wikidata             wd           http://wikidata.org  "
       ]
      }
     ],
     "prompt_number": 4
    },
    {
     "cell_type": "markdown",
     "metadata": {},
     "source": [
      "## Visualizing the total number of edits in each wiki\n",
      "\n",
      "This is a one-liner in pandas!"
     ]
    },
    {
     "cell_type": "code",
     "collapsed": false,
     "input": [
      "p = df.wikipedia.value_counts().plot(kind='barh')"
     ],
     "language": "python",
     "metadata": {},
     "outputs": [
      {
       "metadata": {},
       "output_type": "display_data",
       "png": "[encoded data removed]",
       "text": [
        "<matplotlib.figure.Figure at 0x7f5748ced550>"
       ]
      }
     ],
     "prompt_number": 5
    },
    {
     "cell_type": "markdown",
     "metadata": {},
     "source": [
      "## Checking and filtering bot activity\n",
      "\n",
      "Wikidata is very busy -- is it all bots?"
     ]
    },
    {
     "cell_type": "code",
     "collapsed": false,
     "input": [
      "df[df.wikipediaShort=='wd'].robot.value_counts()"
     ],
     "language": "python",
     "metadata": {},
     "outputs": [
      {
       "metadata": {},
       "output_type": "pyout",
       "prompt_number": 7,
       "text": [
        "False    40\n",
        "True     10\n",
        "dtype: int64"
       ]
      }
     ],
     "prompt_number": 7
    },
    {
     "cell_type": "markdown",
     "metadata": {},
     "source": [
      "## Time series analysis\n",
      "\n",
      "To make time series analysis easier, let's turn the raw edits into counts per second.\n",
      "\n",
      "We can use a bit of a trick here. Pivot the dataframe, keeping the timestamp as the index, making the wiki short names the new columns, and the value of the `delta` field for the cells..."
     ]
    },
    {
     "cell_type": "code",
     "collapsed": false,
     "input": [
      "ts = df[['timestamp',\n",
      "         'wikipediaShort',\n",
      "         'delta'\n",
      "         ]].pivot(index='timestamp',\n",
      "                  columns='wikipediaShort',\n",
      "                  values='delta')\n",
      "ts.head()"
     ],
     "language": "python",
     "metadata": {},
     "outputs": [
      {
       "html": [
        "<div style=\"max-height:1000px;max-width:1500px;overflow:auto;\">\n",
        "<table border=\"1\" class=\"dataframe\">\n",
        "  <thead>\n",
        "    <tr style=\"text-align: right;\">\n",
        "      <th>wikipediaShort</th>\n",
        "      <th>ar</th>\n",
        "      <th>bg</th>\n",
        "      <th>co</th>\n",
        "      <th>cs</th>\n",
        "      <th>da</th>\n",
        "      <th>de</th>\n",
        "      <th>el</th>\n",
        "      <th>en</th>\n",
        "      <th>es</th>\n",
        "      <th>fa</th>\n",
        "      <th>...</th>\n",
        "      <th>pt</th>\n",
        "      <th>ro</th>\n",
        "      <th>ru</th>\n",
        "      <th>sk</th>\n",
        "      <th>sv</th>\n",
        "      <th>tr</th>\n",
        "      <th>uk</th>\n",
        "      <th>vi</th>\n",
        "      <th>wd</th>\n",
        "      <th>zh</th>\n",
        "    </tr>\n",
        "    <tr>\n",
        "      <th>timestamp</th>\n",
        "      <th></th>\n",
        "      <th></th>\n",
        "      <th></th>\n",
        "      <th></th>\n",
        "      <th></th>\n",
        "      <th></th>\n",
        "      <th></th>\n",
        "      <th></th>\n",
        "      <th></th>\n",
        "      <th></th>\n",
        "      <th></th>\n",
        "      <th></th>\n",
        "      <th></th>\n",
        "      <th></th>\n",
        "      <th></th>\n",
        "      <th></th>\n",
        "      <th></th>\n",
        "      <th></th>\n",
        "      <th></th>\n",
        "      <th></th>\n",
        "      <th></th>\n",
        "    </tr>\n",
        "  </thead>\n",
        "  <tbody>\n",
        "    <tr>\n",
        "      <th>2014-08-06 16:39:18.728382</th>\n",
        "      <td>NaN</td>\n",
        "      <td>NaN</td>\n",
        "      <td> 39</td>\n",
        "      <td>NaN</td>\n",
        "      <td>NaN</td>\n",
        "      <td>NaN</td>\n",
        "      <td>NaN</td>\n",
        "      <td>NaN</td>\n",
        "      <td>NaN</td>\n",
        "      <td>NaN</td>\n",
        "      <td>...</td>\n",
        "      <td>NaN</td>\n",
        "      <td>NaN</td>\n",
        "      <td>NaN</td>\n",
        "      <td>NaN</td>\n",
        "      <td>NaN</td>\n",
        "      <td>NaN</td>\n",
        "      <td>NaN</td>\n",
        "      <td>NaN</td>\n",
        "      <td> NaN</td>\n",
        "      <td>NaN</td>\n",
        "    </tr>\n",
        "    <tr>\n",
        "      <th>2014-08-06 16:39:18.918858</th>\n",
        "      <td>NaN</td>\n",
        "      <td>NaN</td>\n",
        "      <td>NaN</td>\n",
        "      <td>NaN</td>\n",
        "      <td>NaN</td>\n",
        "      <td>-17</td>\n",
        "      <td>NaN</td>\n",
        "      <td>NaN</td>\n",
        "      <td>NaN</td>\n",
        "      <td>NaN</td>\n",
        "      <td>...</td>\n",
        "      <td>NaN</td>\n",
        "      <td>NaN</td>\n",
        "      <td>NaN</td>\n",
        "      <td>NaN</td>\n",
        "      <td>NaN</td>\n",
        "      <td>NaN</td>\n",
        "      <td>NaN</td>\n",
        "      <td>NaN</td>\n",
        "      <td> NaN</td>\n",
        "      <td>NaN</td>\n",
        "    </tr>\n",
        "    <tr>\n",
        "      <th>2014-08-06 16:39:18.919880</th>\n",
        "      <td>NaN</td>\n",
        "      <td>NaN</td>\n",
        "      <td>NaN</td>\n",
        "      <td>NaN</td>\n",
        "      <td>NaN</td>\n",
        "      <td>NaN</td>\n",
        "      <td>NaN</td>\n",
        "      <td>NaN</td>\n",
        "      <td>NaN</td>\n",
        "      <td>NaN</td>\n",
        "      <td>...</td>\n",
        "      <td>NaN</td>\n",
        "      <td>NaN</td>\n",
        "      <td>NaN</td>\n",
        "      <td>NaN</td>\n",
        "      <td>NaN</td>\n",
        "      <td>NaN</td>\n",
        "      <td>NaN</td>\n",
        "      <td>NaN</td>\n",
        "      <td> 128</td>\n",
        "      <td>NaN</td>\n",
        "    </tr>\n",
        "    <tr>\n",
        "      <th>2014-08-06 16:39:19.102751</th>\n",
        "      <td>NaN</td>\n",
        "      <td>NaN</td>\n",
        "      <td>NaN</td>\n",
        "      <td>NaN</td>\n",
        "      <td>NaN</td>\n",
        "      <td>NaN</td>\n",
        "      <td>NaN</td>\n",
        "      <td>NaN</td>\n",
        "      <td>NaN</td>\n",
        "      <td>NaN</td>\n",
        "      <td>...</td>\n",
        "      <td>NaN</td>\n",
        "      <td>NaN</td>\n",
        "      <td>NaN</td>\n",
        "      <td>NaN</td>\n",
        "      <td>NaN</td>\n",
        "      <td>NaN</td>\n",
        "      <td>NaN</td>\n",
        "      <td>NaN</td>\n",
        "      <td> NaN</td>\n",
        "      <td>NaN</td>\n",
        "    </tr>\n",
        "    <tr>\n",
        "      <th>2014-08-06 16:39:19.103928</th>\n",
        "      <td>NaN</td>\n",
        "      <td>NaN</td>\n",
        "      <td>NaN</td>\n",
        "      <td>NaN</td>\n",
        "      <td>NaN</td>\n",
        "      <td>NaN</td>\n",
        "      <td>NaN</td>\n",
        "      <td>NaN</td>\n",
        "      <td>NaN</td>\n",
        "      <td>NaN</td>\n",
        "      <td>...</td>\n",
        "      <td>NaN</td>\n",
        "      <td>NaN</td>\n",
        "      <td>NaN</td>\n",
        "      <td>NaN</td>\n",
        "      <td>NaN</td>\n",
        "      <td>NaN</td>\n",
        "      <td>NaN</td>\n",
        "      <td>NaN</td>\n",
        "      <td> 254</td>\n",
        "      <td>NaN</td>\n",
        "    </tr>\n",
        "  </tbody>\n",
        "</table>\n",
        "<p>5 rows \u00d7 30 columns</p>\n",
        "</div>"
       ],
       "metadata": {},
       "output_type": "pyout",
       "prompt_number": 9,
       "text": [
        "wikipediaShort              ar  bg  co  cs  da  de  el  en  es  fa ...  pt  \\\n",
        "timestamp                                                          ...       \n",
        "2014-08-06 16:39:18.728382 NaN NaN  39 NaN NaN NaN NaN NaN NaN NaN ... NaN   \n",
        "2014-08-06 16:39:18.918858 NaN NaN NaN NaN NaN -17 NaN NaN NaN NaN ... NaN   \n",
        "2014-08-06 16:39:18.919880 NaN NaN NaN NaN NaN NaN NaN NaN NaN NaN ... NaN   \n",
        "2014-08-06 16:39:19.102751 NaN NaN NaN NaN NaN NaN NaN NaN NaN NaN ... NaN   \n",
        "2014-08-06 16:39:19.103928 NaN NaN NaN NaN NaN NaN NaN NaN NaN NaN ... NaN   \n",
        "\n",
        "wikipediaShort              ro  ru  sk  sv  tr  uk  vi   wd  zh  \n",
        "timestamp                                                        \n",
        "2014-08-06 16:39:18.728382 NaN NaN NaN NaN NaN NaN NaN  NaN NaN  \n",
        "2014-08-06 16:39:18.918858 NaN NaN NaN NaN NaN NaN NaN  NaN NaN  \n",
        "2014-08-06 16:39:18.919880 NaN NaN NaN NaN NaN NaN NaN  128 NaN  \n",
        "2014-08-06 16:39:19.102751 NaN NaN NaN NaN NaN NaN NaN  NaN NaN  \n",
        "2014-08-06 16:39:19.103928 NaN NaN NaN NaN NaN NaN NaN  254 NaN  \n",
        "\n",
        "[5 rows x 30 columns]"
       ]
      }
     ],
     "prompt_number": 9
    },
    {
     "cell_type": "markdown",
     "metadata": {},
     "source": [
      "... not because we care about delta, but because the `resample` method only works on numerics. By resampling to second resolution, and applying the `count` aggregate, we get edits-per-second."
     ]
    },
    {
     "cell_type": "code",
     "collapsed": false,
     "input": [
      "sec_counts = ts.resample('s', how='count')\n",
      "sec_counts.head()"
     ],
     "language": "python",
     "metadata": {},
     "outputs": [
      {
       "html": [
        "<div style=\"max-height:1000px;max-width:1500px;overflow:auto;\">\n",
        "<table border=\"1\" class=\"dataframe\">\n",
        "  <thead>\n",
        "    <tr style=\"text-align: right;\">\n",
        "      <th>wikipediaShort</th>\n",
        "      <th>ar</th>\n",
        "      <th>bg</th>\n",
        "      <th>co</th>\n",
        "      <th>cs</th>\n",
        "      <th>da</th>\n",
        "      <th>de</th>\n",
        "      <th>el</th>\n",
        "      <th>en</th>\n",
        "      <th>es</th>\n",
        "      <th>fa</th>\n",
        "      <th>...</th>\n",
        "      <th>pt</th>\n",
        "      <th>ro</th>\n",
        "      <th>ru</th>\n",
        "      <th>sk</th>\n",
        "      <th>sv</th>\n",
        "      <th>tr</th>\n",
        "      <th>uk</th>\n",
        "      <th>vi</th>\n",
        "      <th>wd</th>\n",
        "      <th>zh</th>\n",
        "    </tr>\n",
        "    <tr>\n",
        "      <th>timestamp</th>\n",
        "      <th></th>\n",
        "      <th></th>\n",
        "      <th></th>\n",
        "      <th></th>\n",
        "      <th></th>\n",
        "      <th></th>\n",
        "      <th></th>\n",
        "      <th></th>\n",
        "      <th></th>\n",
        "      <th></th>\n",
        "      <th></th>\n",
        "      <th></th>\n",
        "      <th></th>\n",
        "      <th></th>\n",
        "      <th></th>\n",
        "      <th></th>\n",
        "      <th></th>\n",
        "      <th></th>\n",
        "      <th></th>\n",
        "      <th></th>\n",
        "      <th></th>\n",
        "    </tr>\n",
        "  </thead>\n",
        "  <tbody>\n",
        "    <tr>\n",
        "      <th>2014-08-06 16:39:18</th>\n",
        "      <td> 0</td>\n",
        "      <td> 0</td>\n",
        "      <td> 1</td>\n",
        "      <td> 0</td>\n",
        "      <td> 0</td>\n",
        "      <td> 1</td>\n",
        "      <td> 0</td>\n",
        "      <td> 0</td>\n",
        "      <td> 0</td>\n",
        "      <td> 0</td>\n",
        "      <td>...</td>\n",
        "      <td> 0</td>\n",
        "      <td> 0</td>\n",
        "      <td> 0</td>\n",
        "      <td> 0</td>\n",
        "      <td> 0</td>\n",
        "      <td> 0</td>\n",
        "      <td> 0</td>\n",
        "      <td> 0</td>\n",
        "      <td> 1</td>\n",
        "      <td> 0</td>\n",
        "    </tr>\n",
        "    <tr>\n",
        "      <th>2014-08-06 16:39:19</th>\n",
        "      <td> 0</td>\n",
        "      <td> 0</td>\n",
        "      <td> 0</td>\n",
        "      <td> 0</td>\n",
        "      <td> 0</td>\n",
        "      <td> 0</td>\n",
        "      <td> 0</td>\n",
        "      <td> 2</td>\n",
        "      <td> 1</td>\n",
        "      <td> 1</td>\n",
        "      <td>...</td>\n",
        "      <td> 1</td>\n",
        "      <td> 0</td>\n",
        "      <td> 0</td>\n",
        "      <td> 0</td>\n",
        "      <td> 1</td>\n",
        "      <td> 0</td>\n",
        "      <td> 0</td>\n",
        "      <td> 0</td>\n",
        "      <td> 2</td>\n",
        "      <td> 0</td>\n",
        "    </tr>\n",
        "    <tr>\n",
        "      <th>2014-08-06 16:39:20</th>\n",
        "      <td> 0</td>\n",
        "      <td> 0</td>\n",
        "      <td> 0</td>\n",
        "      <td> 0</td>\n",
        "      <td> 0</td>\n",
        "      <td> 1</td>\n",
        "      <td> 0</td>\n",
        "      <td> 0</td>\n",
        "      <td> 0</td>\n",
        "      <td> 0</td>\n",
        "      <td>...</td>\n",
        "      <td> 0</td>\n",
        "      <td> 0</td>\n",
        "      <td> 0</td>\n",
        "      <td> 0</td>\n",
        "      <td> 0</td>\n",
        "      <td> 0</td>\n",
        "      <td> 1</td>\n",
        "      <td> 0</td>\n",
        "      <td> 0</td>\n",
        "      <td> 0</td>\n",
        "    </tr>\n",
        "    <tr>\n",
        "      <th>2014-08-06 16:39:21</th>\n",
        "      <td> 0</td>\n",
        "      <td> 0</td>\n",
        "      <td> 0</td>\n",
        "      <td> 0</td>\n",
        "      <td> 0</td>\n",
        "      <td> 0</td>\n",
        "      <td> 0</td>\n",
        "      <td> 1</td>\n",
        "      <td> 0</td>\n",
        "      <td> 0</td>\n",
        "      <td>...</td>\n",
        "      <td> 0</td>\n",
        "      <td> 0</td>\n",
        "      <td> 0</td>\n",
        "      <td> 0</td>\n",
        "      <td> 0</td>\n",
        "      <td> 0</td>\n",
        "      <td> 0</td>\n",
        "      <td> 0</td>\n",
        "      <td> 1</td>\n",
        "      <td> 0</td>\n",
        "    </tr>\n",
        "    <tr>\n",
        "      <th>2014-08-06 16:39:22</th>\n",
        "      <td> 0</td>\n",
        "      <td> 1</td>\n",
        "      <td> 1</td>\n",
        "      <td> 0</td>\n",
        "      <td> 0</td>\n",
        "      <td> 0</td>\n",
        "      <td> 0</td>\n",
        "      <td> 2</td>\n",
        "      <td> 1</td>\n",
        "      <td> 1</td>\n",
        "      <td>...</td>\n",
        "      <td> 1</td>\n",
        "      <td> 0</td>\n",
        "      <td> 0</td>\n",
        "      <td> 0</td>\n",
        "      <td> 0</td>\n",
        "      <td> 0</td>\n",
        "      <td> 0</td>\n",
        "      <td> 0</td>\n",
        "      <td> 0</td>\n",
        "      <td> 0</td>\n",
        "    </tr>\n",
        "  </tbody>\n",
        "</table>\n",
        "<p>5 rows \u00d7 30 columns</p>\n",
        "</div>"
       ],
       "metadata": {},
       "output_type": "pyout",
       "prompt_number": 10,
       "text": [
        "wikipediaShort       ar  bg  co  cs  da  de  el  en  es  fa ...  pt  ro  ru  \\\n",
        "timestamp                                                   ...               \n",
        "2014-08-06 16:39:18   0   0   1   0   0   1   0   0   0   0 ...   0   0   0   \n",
        "2014-08-06 16:39:19   0   0   0   0   0   0   0   2   1   1 ...   1   0   0   \n",
        "2014-08-06 16:39:20   0   0   0   0   0   1   0   0   0   0 ...   0   0   0   \n",
        "2014-08-06 16:39:21   0   0   0   0   0   0   0   1   0   0 ...   0   0   0   \n",
        "2014-08-06 16:39:22   0   1   1   0   0   0   0   2   1   1 ...   1   0   0   \n",
        "\n",
        "wikipediaShort       sk  sv  tr  uk  vi  wd  zh  \n",
        "timestamp                                        \n",
        "2014-08-06 16:39:18   0   0   0   0   0   1   0  \n",
        "2014-08-06 16:39:19   0   1   0   0   0   2   0  \n",
        "2014-08-06 16:39:20   0   0   0   1   0   0   0  \n",
        "2014-08-06 16:39:21   0   0   0   0   0   1   0  \n",
        "2014-08-06 16:39:22   0   0   0   0   0   0   0  \n",
        "\n",
        "[5 rows x 30 columns]"
       ]
      }
     ],
     "prompt_number": 10
    },
    {
     "cell_type": "markdown",
     "metadata": {},
     "source": [
      "## Visualizing activity over time\n",
      "\n",
      "This is easy, now we have the data in the right format."
     ]
    },
    {
     "cell_type": "code",
     "collapsed": false,
     "input": [
      "p = sec_counts.plot()"
     ],
     "language": "python",
     "metadata": {},
     "outputs": [
      {
       "metadata": {},
       "output_type": "display_data",
       "png": "[encoded data removed]",
       "text": [
        "<matplotlib.figure.Figure at 0x7f5733869c88>"
       ]
      }
     ],
     "prompt_number": 11
    },
    {
     "cell_type": "markdown",
     "metadata": {},
     "source": [
      "Not so easy to read!\n",
      "\n",
      "What if we make it a cumulative sum instead, so we can see how activity 'mounts up' over time?"
     ]
    },
    {
     "cell_type": "code",
     "collapsed": false,
     "input": [
      "p = sec_counts.cumsum().plot()"
     ],
     "language": "python",
     "metadata": {},
     "outputs": [
      {
       "metadata": {},
       "output_type": "display_data",
       "png": "[encoded data removed]",
       "text": [
        "<matplotlib.figure.Figure at 0x7f5733e0b278>"
       ]
      }
     ],
     "prompt_number": 12
    },
    {
     "cell_type": "markdown",
     "metadata": {},
     "source": [
      "## Training a model in real time with Vowpal Wabbit\n",
      "\n",
      "Here's the fun bit. We're going to restart the stream, and as the data comes in, we're going to feed it to [Vowpal Wabbit](https://github.com/JohnLangford/vowpal_wabbit) to incrementally train a language recognizer. Or more strictly, a wiki recognizer, as we want to teach it to distinguish e.g. \"French Wikipedia\" articles from \"Polish Wikipedia\" articles -- using only the distribution of characters (and ngrams) in its title.\n",
      "\n",
      "We'll use an adaptive online learning approach: only update the model when we find an example that it can't correctly identify already. VW makes this very efficient and effective.\n",
      "\n",
      "We'll filter out Wikidata edits, as these just have IDs, as well as Commons files, non-article pages like user homepages, and also English Wikipedia (to keep things interesting).\n",
      "\n",
      "But first let's define a helper function to generate character ngrams, for `n` from `k1` to `k2`. That is, if `k1 == 2` and `k2 == 4`, then you'll get bigrams, trigrams and tetragrams (?). It returns an iterator over all the ngrams."
     ]
    },
    {
     "cell_type": "code",
     "collapsed": false,
     "input": [
      "def ngrams(text, k1, k2):\n",
      "    if k1 < 1:\n",
      "        raise ValueError('k1 must be 1 or more')\n",
      "    if k2 < k1:\n",
      "        raise ValueError('k2 must may not be less than k1')\n",
      "    return chain.from_iterable((text[i:i+n] for i in range(len(text)-(n-1))) for n in range(k1, k2+1))\n",
      "\n",
      "print(list(ngrams('the quick brown fox', 1, 2)))"
     ],
     "language": "python",
     "metadata": {},
     "outputs": [
      {
       "output_type": "stream",
       "stream": "stdout",
       "text": [
        "['t', 'h', 'e', ' ', 'q', 'u', 'i', 'c', 'k', ' ', 'b', 'r', 'o', 'w', 'n', ' ', 'f', 'o', 'x', 'th', 'he', 'e ', ' q', 'qu', 'ui', 'ic', 'ck', 'k ', ' b', 'br', 'ro', 'ow', 'wn', 'n ', ' f', 'fo', 'ox']\n"
       ]
      }
     ],
     "prompt_number": 13
    },
    {
     "cell_type": "markdown",
     "metadata": {},
     "source": [
      "The next function contains filtering logic, defining what kinds of edit we are interested in."
     ]
    },
    {
     "cell_type": "code",
     "collapsed": false,
     "input": [
      "# Parse page name, or return False if it's from Wikidata or English Wikipedia,\n",
      "# a file from Commons, a non-article, or a 0- or 1-length name\n",
      "def page_name(edit):\n",
      "    if edit['wikipediaShort'] == 'wd' or \\\n",
      "        edit['wikipediaShort'] == 'en' or \\\n",
      "        edit['wikipediaShort'] == 'co' or \\\n",
      "        edit['namespace'] == 'article':\n",
      "            return False\n",
      "    page_name = reg.match(edit['pageUrl']).group(1).lower()\n",
      "    size = len(page_name)\n",
      "    if size < 2:\n",
      "        return False\n",
      "    return page_name"
     ],
     "language": "python",
     "metadata": {},
     "outputs": [],
     "prompt_number": 14
    },
    {
     "cell_type": "markdown",
     "metadata": {},
     "source": [
      "A couple of convenience functions for dealing with the ringbuffer (see below). They assume the ringbuffer is initialized with -1 in every cell, so these rows can be excluded (they haven't been filled in yet).\n",
      "\n",
      "The first calculates accuracy over the current contents. The second returns the effective length -- the number of values which have been populated."
     ]
    },
    {
     "cell_type": "code",
     "collapsed": false,
     "input": [
      "def accuracy(ringbuffer):\n",
      "    valid = np.sum(ringbuffer, axis=1) >= 0\n",
      "    matched = ringbuffer[:,0] == ringbuffer[:,1]\n",
      "    return np.sum(np.logical_and(valid, matched)) / np.sum(valid)\n",
      "\n",
      "def buffersize(ringbuffer):\n",
      "    return np.sum(np.sum(ringbuffer, axis=1) >= 0)"
     ],
     "language": "python",
     "metadata": {},
     "outputs": [],
     "prompt_number": 15
    },
    {
     "cell_type": "markdown",
     "metadata": {},
     "source": [
      "All the action happens in the next cell.\n",
      "\n",
      "It starts the VW server with the appropriate options. If you get a memory allocation error, reduce the value of `hashbits`, although this may impact accuracy.\n",
      "\n",
      "It also defines and starts a new callback, which breaks the title of each page into character ngrams, and tests them against the current model. If the model predicts correctly, we don't change it, but if it predicts incorrectly, we pass it the current example as a training instance.\n",
      "\n",
      "The reported accuracy might fluctuate to begin with, but then should settle, and gradually rise (not necessarily in a monotonic way) as data comes in.\n",
      "\n",
      "It uses a ringbuffer (a fixed-size array) to keep track of predictions and actual values over the last `k` tests. In this kind of online learning scenario, we don't really worry how much about how the model *was* performing on historical data -- we just want to know that it *is* performing well on current data.\n",
      "\n",
      "You can set a maximum number of training instances to process, or just **interrupt the kernel if you get bored of waiting**..."
     ]
    },
    {
     "cell_type": "code",
     "collapsed": false,
     "input": [
      "# How many classes to allow in the model (must be provided up front)\n",
      "max_expected_classes = 30\n",
      "\n",
      "# When to stop, if not interrupted\n",
      "max_edits = 1000\n",
      "\n",
      "# How many tests to calculate score over\n",
      "k = 500\n",
      "\n",
      "# How many bits in range of VW hash function:\n",
      "# larger = potentially better accuracy but more memory\n",
      "hashbits = 24\n",
      "\n",
      "# How many edits we've processed\n",
      "edits = 0\n",
      "\n",
      "# List of the wiki names we've seen, to be populated as we go along\n",
      "labels = []\n",
      "\n",
      "# Maps each wiki name -> its index in labels list\n",
      "label_to_idx = {}\n",
      "\n",
      "# Regex to capture wiki name\n",
      "reg = re.compile(r'^.*wiki/(.*)')\n",
      "\n",
      "# Last-k confusion matrix, initialized to -1\n",
      "cm = np.zeros((k, 2), dtype=np.int8) - 1\n",
      "\n",
      "def vw_callback(edit):\n",
      "    \n",
      "    name = page_name(edit)\n",
      "    if not name:\n",
      "        return True\n",
      "    \n",
      "    # Set up mappings for this wiki if this is the first time we've seen it\n",
      "    label = edit['wikipedia']\n",
      "    if label in label_to_idx:\n",
      "        idx = label_to_idx[label]\n",
      "    else:\n",
      "        # If we have exhausted our preset class limit, just skip it! Bit kludgey...\n",
      "        if len(labels) == max_expected_classes:\n",
      "            print(\"Ignoring class %d\" % len(labels))\n",
      "            return True\n",
      "        labels.append(label)\n",
      "        idx = len(labels) - 1\n",
      "        label_to_idx[label] = idx\n",
      "\n",
      "    # Generate features -- currently char unigrams and bigrams\n",
      "    features = list(ngrams(name, 1, 2))\n",
      "\n",
      "    # Test example first -- does model get it right? If not, train on it\n",
      "    prediction = int(vw.get_prediction(features=features).prediction) - 1 # NB VW FEATURE LABELS START AT 1\n",
      "    \n",
      "    # Add prediction to bottom of ringbuffer, then roll it forward\n",
      "    global cm\n",
      "    cm[499, :] = (idx, prediction)\n",
      "    cm = np.roll(cm, 1, axis=0)\n",
      "    \n",
      "    # If prediction was wrong, train on this example\n",
      "    if idx != prediction:\n",
      "\n",
      "        global edits\n",
      "        tests_run = buffersize(cm)\n",
      "        print('Trained: %d, Tested: %d, Prediction: %s, Actual: %s, Last-%d Accuracy: %0.3f'\n",
      "              % (edits, tests_run, labels[prediction], labels[idx], tests_run, accuracy(cm)))\n",
      "        \n",
      "        raw_line = vw.make_line(idx+1, features=features) # NB VW FEATURE LABELS START AT 1\n",
      "        vw.send_line(raw_line)\n",
      "        edits += 1\n",
      "\n",
      "        # Stop if we've hit max_edits\n",
      "        return edits < max_edits\n",
      "    \n",
      "    return True\n",
      "\n",
      "# Start up local VW process\n",
      "vw = VW(loss_function='logistic', b=hashbits, ect=max_expected_classes, hash='all')\n",
      "print(vw.command)\n",
      "\n",
      "wikipedia_updates(vw_callback)"
     ],
     "language": "python",
     "metadata": {},
     "outputs": [
      {
       "output_type": "stream",
       "stream": "stdout",
       "text": [
        "vw --save_resume -b 24 --quiet --predictions /dev/stdout --hash all --loss_function logistic --ect 30\n",
        "Trained: 0, Tested: 2, Prediction: Korean Wikipedia, Actual: German Wikipedia, Last-2 Accuracy: 0.500"
       ]
      },
      {
       "output_type": "stream",
       "stream": "stdout",
       "text": [
        "\n",
        "Trained: 1, Tested: 3, Prediction: German Wikipedia, Actual: Spanish Wikipedia, Last-3 Accuracy: 0.333"
       ]
      },
      {
       "output_type": "stream",
       "stream": "stdout",
       "text": [
        "\n",
        "Trained: 2, Tested: 4, Prediction: Spanish Wikipedia, Actual: French Wikipedia, Last-4 Accuracy: 0.250\n",
        "Trained: 3, Tested: 7, Prediction: French Wikipedia, Actual: Russian Wikipedia, Last-7 Accuracy: 0.429"
       ]
      },
      {
       "output_type": "stream",
       "stream": "stdout",
       "text": [
        "\n",
        "Trained: 4, Tested: 8, Prediction: French Wikipedia, Actual: Dutch Wikipedia, Last-8 Accuracy: 0.375"
       ]
      },
      {
       "output_type": "stream",
       "stream": "stdout",
       "text": [
        "\n",
        "Trained: 5, Tested: 9, Prediction: French Wikipedia, Actual: Polish Wikipedia, Last-9 Accuracy: 0.333\n",
        "Trained: 6, Tested: 11, Prediction: French Wikipedia, Actual: Chinese Wikipedia, Last-11 Accuracy: 0.364"
       ]
      },
      {
       "output_type": "stream",
       "stream": "stdout",
       "text": [
        "\n",
        "Trained: 7, Tested: 12, Prediction: Polish Wikipedia, Actual: German Wikipedia, Last-12 Accuracy: 0.333"
       ]
      },
      {
       "output_type": "stream",
       "stream": "stdout",
       "text": [
        "\n",
        "Trained: 8, Tested: 13, Prediction: German Wikipedia, Actual: Italian Wikipedia, Last-13 Accuracy: 0.308"
       ]
      },
      {
       "output_type": "stream",
       "stream": "stdout",
       "text": [
        "\n",
        "Trained: 9, Tested: 14, Prediction: German Wikipedia, Actual: French Wikipedia, Last-14 Accuracy: 0.286"
       ]
      },
      {
       "output_type": "stream",
       "stream": "stdout",
       "text": [
        "\n",
        "Trained: 10, Tested: 15, Prediction: French Wikipedia, Actual: Italian Wikipedia, Last-15 Accuracy: 0.267"
       ]
      },
      {
       "output_type": "stream",
       "stream": "stdout",
       "text": [
        "\n",
        "Trained: 11, Tested: 16, Prediction: Spanish Wikipedia, Actual: Turkish Wikipedia, Last-16 Accuracy: 0.250"
       ]
      },
      {
       "output_type": "stream",
       "stream": "stdout",
       "text": [
        "\n",
        "Trained: 12, Tested: 17, Prediction: Russian Wikipedia, Actual: Greek Wikipedia, Last-17 Accuracy: 0.235"
       ]
      },
      {
       "output_type": "stream",
       "stream": "stdout",
       "text": [
        "\n",
        "Trained: 13, Tested: 18, Prediction: French Wikipedia, Actual: Spanish Wikipedia, Last-18 Accuracy: 0.222"
       ]
      },
      {
       "output_type": "stream",
       "stream": "stdout",
       "text": [
        "\n",
        "Trained: 14, Tested: 20, Prediction: Spanish Wikipedia, Actual: Chinese Wikipedia, Last-20 Accuracy: 0.250"
       ]
      },
      {
       "output_type": "stream",
       "stream": "stdout",
       "text": [
        "\n",
        "Trained: 15, Tested: 22, Prediction: French Wikipedia, Actual: Italian Wikipedia, Last-22 Accuracy: 0.273"
       ]
      },
      {
       "output_type": "stream",
       "stream": "stdout",
       "text": [
        "\n",
        "Trained: 16, Tested: 23, Prediction: Spanish Wikipedia, Actual: Russian Wikipedia, Last-23 Accuracy: 0.261"
       ]
      },
      {
       "output_type": "stream",
       "stream": "stdout",
       "text": [
        "\n",
        "Trained: 17, Tested: 27, Prediction: Spanish Wikipedia, Actual: Vietnamese Wikipedia, Last-27 Accuracy: 0.333"
       ]
      },
      {
       "output_type": "stream",
       "stream": "stdout",
       "text": [
        "\n",
        "Trained: 18, Tested: 28, Prediction: Spanish Wikipedia, Actual: German Wikipedia, Last-28 Accuracy: 0.321"
       ]
      },
      {
       "output_type": "stream",
       "stream": "stdout",
       "text": [
        "\n",
        "Trained: 19, Tested: 31, Prediction: Spanish Wikipedia, Actual: Chinese Wikipedia, Last-31 Accuracy: 0.355"
       ]
      },
      {
       "output_type": "stream",
       "stream": "stdout",
       "text": [
        "\n",
        "Trained: 20, Tested: 32, Prediction: Spanish Wikipedia, Actual: Chinese Wikipedia, Last-32 Accuracy: 0.344"
       ]
      },
      {
       "output_type": "stream",
       "stream": "stdout",
       "text": [
        "\n",
        "Trained: 21, Tested: 33, Prediction: Chinese Wikipedia, Actual: French Wikipedia, Last-33 Accuracy: 0.333"
       ]
      },
      {
       "output_type": "stream",
       "stream": "stdout",
       "text": [
        "\n",
        "Trained: 22, Tested: 34, Prediction: Chinese Wikipedia, Actual: Slovak Wikipedia, Last-34 Accuracy: 0.324"
       ]
      },
      {
       "output_type": "stream",
       "stream": "stdout",
       "text": [
        "\n",
        "Trained: 23, Tested: 36, Prediction: Chinese Wikipedia, Actual: German Wikipedia, Last-36 Accuracy: 0.333"
       ]
      },
      {
       "output_type": "stream",
       "stream": "stdout",
       "text": [
        "\n",
        "Trained: 24, Tested: 37, Prediction: German Wikipedia, Actual: Turkish Wikipedia, Last-37 Accuracy: 0.324"
       ]
      },
      {
       "output_type": "stream",
       "stream": "stdout",
       "text": [
        "\n",
        "Trained: 25, Tested: 38, Prediction: German Wikipedia, Actual: Czech Wikipedia, Last-38 Accuracy: 0.316"
       ]
      },
      {
       "output_type": "stream",
       "stream": "stdout",
       "text": [
        "\n",
        "Trained: 26, Tested: 41, Prediction: Italian Wikipedia, Actual: Spanish Wikipedia, Last-41 Accuracy: 0.341"
       ]
      },
      {
       "output_type": "stream",
       "stream": "stdout",
       "text": [
        "\n",
        "Trained: 27, Tested: 42, Prediction: Italian Wikipedia, Actual: Korean Wikipedia, Last-42 Accuracy: 0.333"
       ]
      },
      {
       "output_type": "stream",
       "stream": "stdout",
       "text": [
        "\n",
        "Trained: 28, Tested: 43, Prediction: French Wikipedia, Actual: Turkish Wikipedia, Last-43 Accuracy: 0.326"
       ]
      },
      {
       "output_type": "stream",
       "stream": "stdout",
       "text": [
        "\n",
        "Trained: 29, Tested: 44, Prediction: Spanish Wikipedia, Actual: French Wikipedia, Last-44 Accuracy: 0.318"
       ]
      },
      {
       "output_type": "stream",
       "stream": "stdout",
       "text": [
        "\n",
        "Trained: 30, Tested: 45, Prediction: French Wikipedia, Actual: Spanish Wikipedia, Last-45 Accuracy: 0.311"
       ]
      },
      {
       "output_type": "stream",
       "stream": "stdout",
       "text": [
        "\n",
        "Trained: 31, Tested: 48, Prediction: Spanish Wikipedia, Actual: Hebrew Wikipedia, Last-48 Accuracy: 0.333"
       ]
      },
      {
       "output_type": "stream",
       "stream": "stdout",
       "text": [
        "\n",
        "Trained: 32, Tested: 49, Prediction: Spanish Wikipedia, Actual: Italian Wikipedia, Last-49 Accuracy: 0.327"
       ]
      },
      {
       "output_type": "stream",
       "stream": "stdout",
       "text": [
        "\n",
        "Trained: 33, Tested: 50, Prediction: Italian Wikipedia, Actual: Dutch Wikipedia, Last-50 Accuracy: 0.320"
       ]
      },
      {
       "output_type": "stream",
       "stream": "stdout",
       "text": [
        "\n",
        "Trained: 34, Tested: 52, Prediction: Spanish Wikipedia, Actual: French Wikipedia, Last-52 Accuracy: 0.327"
       ]
      },
      {
       "output_type": "stream",
       "stream": "stdout",
       "text": [
        "\n",
        "Trained: 35, Tested: 53, Prediction: French Wikipedia, Actual: Farsi Wikipedia, Last-53 Accuracy: 0.321"
       ]
      },
      {
       "output_type": "stream",
       "stream": "stdout",
       "text": [
        "\n",
        "Trained: 36, Tested: 55, Prediction: Spanish Wikipedia, Actual: Dutch Wikipedia, Last-55 Accuracy: 0.327"
       ]
      },
      {
       "output_type": "stream",
       "stream": "stdout",
       "text": [
        "\n",
        "Trained: 37, Tested: 56, Prediction: French Wikipedia, Actual: German Wikipedia, Last-56 Accuracy: 0.321"
       ]
      },
      {
       "output_type": "stream",
       "stream": "stdout",
       "text": [
        "\n",
        "Trained: 38, Tested: 57, Prediction: French Wikipedia, Actual: Hebrew Wikipedia, Last-57 Accuracy: 0.316"
       ]
      },
      {
       "output_type": "stream",
       "stream": "stdout",
       "text": [
        "\n",
        "Trained: 39, Tested: 58, Prediction: French Wikipedia, Actual: Hungarian Wikipedia, Last-58 Accuracy: 0.310"
       ]
      },
      {
       "output_type": "stream",
       "stream": "stdout",
       "text": [
        "\n",
        "Trained: 40, Tested: 59, Prediction: Chinese Wikipedia, Actual: Polish Wikipedia, Last-59 Accuracy: 0.305"
       ]
      },
      {
       "output_type": "stream",
       "stream": "stdout",
       "text": [
        "\n",
        "Trained: 41, Tested: 62, Prediction: Dutch Wikipedia, Actual: Arabic Wikipedia, Last-62 Accuracy: 0.323"
       ]
      },
      {
       "output_type": "stream",
       "stream": "stdout",
       "text": [
        "\n",
        "Trained: 42, Tested: 64, Prediction: French Wikipedia, Actual: Italian Wikipedia, Last-64 Accuracy: 0.328"
       ]
      },
      {
       "output_type": "stream",
       "stream": "stdout",
       "text": [
        "\n",
        "Trained: 43, Tested: 65, Prediction: Dutch Wikipedia, Actual: German Wikipedia, Last-65 Accuracy: 0.323"
       ]
      },
      {
       "output_type": "stream",
       "stream": "stdout",
       "text": [
        "\n",
        "Trained: 44, Tested: 66, Prediction: French Wikipedia, Actual: Italian Wikipedia, Last-66 Accuracy: 0.318"
       ]
      },
      {
       "output_type": "stream",
       "stream": "stdout",
       "text": [
        "\n",
        "Trained: 45, Tested: 67, Prediction: German Wikipedia, Actual: Portuguese Wikipedia, Last-67 Accuracy: 0.313"
       ]
      },
      {
       "output_type": "stream",
       "stream": "stdout",
       "text": [
        "\n",
        "Trained: 46, Tested: 68, Prediction: French Wikipedia, Actual: Portuguese Wikipedia, Last-68 Accuracy: 0.309"
       ]
      },
      {
       "output_type": "stream",
       "stream": "stdout",
       "text": [
        "\n",
        "Trained: 47, Tested: 69, Prediction: Italian Wikipedia, Actual: Farsi Wikipedia, Last-69 Accuracy: 0.304"
       ]
      },
      {
       "output_type": "stream",
       "stream": "stdout",
       "text": [
        "\n",
        "Trained: 48, Tested: 74, Prediction: Italian Wikipedia, Actual: Finnish Wikipedia, Last-74 Accuracy: 0.338"
       ]
      },
      {
       "output_type": "stream",
       "stream": "stdout",
       "text": [
        "\n",
        "Trained: 49, Tested: 76, Prediction: German Wikipedia, Actual: Portuguese Wikipedia, Last-76 Accuracy: 0.342"
       ]
      },
      {
       "output_type": "stream",
       "stream": "stdout",
       "text": [
        "\n",
        "Trained: 50, Tested: 77, Prediction: Italian Wikipedia, Actual: Turkish Wikipedia, Last-77 Accuracy: 0.338"
       ]
      },
      {
       "output_type": "stream",
       "stream": "stdout",
       "text": [
        "\n",
        "Trained: 51, Tested: 78, Prediction: Turkish Wikipedia, Actual: Japanese Wikipedia, Last-78 Accuracy: 0.333"
       ]
      },
      {
       "output_type": "stream",
       "stream": "stdout",
       "text": [
        "\n",
        "Trained: 52, Tested: 81, Prediction: Dutch Wikipedia, Actual: Russian Wikipedia, Last-81 Accuracy: 0.346"
       ]
      },
      {
       "output_type": "stream",
       "stream": "stdout",
       "text": [
        "\n",
        "Trained: 53, Tested: 84, Prediction: German Wikipedia, Actual: Dutch Wikipedia, Last-84 Accuracy: 0.357"
       ]
      },
      {
       "output_type": "stream",
       "stream": "stdout",
       "text": [
        "\n",
        "Trained: 54, Tested: 86, Prediction: German Wikipedia, Actual: Polish Wikipedia, Last-86 Accuracy: 0.360"
       ]
      },
      {
       "output_type": "stream",
       "stream": "stdout",
       "text": [
        "\n",
        "Trained: 55, Tested: 87, Prediction: French Wikipedia, Actual: Turkish Wikipedia, Last-87 Accuracy: 0.356"
       ]
      },
      {
       "output_type": "stream",
       "stream": "stdout",
       "text": [
        "\n",
        "Trained: 56, Tested: 90, Prediction: Spanish Wikipedia, Actual: Portuguese Wikipedia, Last-90 Accuracy: 0.367"
       ]
      },
      {
       "output_type": "stream",
       "stream": "stdout",
       "text": [
        "\n",
        "Trained: 57, Tested: 92, Prediction: Dutch Wikipedia, Actual: Portuguese Wikipedia, Last-92 Accuracy: 0.370"
       ]
      },
      {
       "output_type": "stream",
       "stream": "stdout",
       "text": [
        "\n",
        "Trained: 58, Tested: 94, Prediction: Dutch Wikipedia, Actual: Italian Wikipedia, Last-94 Accuracy: 0.372"
       ]
      },
      {
       "output_type": "stream",
       "stream": "stdout",
       "text": [
        "\n",
        "Trained: 59, Tested: 95, Prediction: Portuguese Wikipedia, Actual: Spanish Wikipedia, Last-95 Accuracy: 0.368"
       ]
      },
      {
       "output_type": "stream",
       "stream": "stdout",
       "text": [
        "\n",
        "Trained: 60, Tested: 96, Prediction: Spanish Wikipedia, Actual: French Wikipedia, Last-96 Accuracy: 0.365"
       ]
      },
      {
       "output_type": "stream",
       "stream": "stdout",
       "text": [
        "\n",
        "Trained: 61, Tested: 100, Prediction: French Wikipedia, Actual: Italian Wikipedia, Last-100 Accuracy: 0.380"
       ]
      },
      {
       "output_type": "stream",
       "stream": "stdout",
       "text": [
        "\n",
        "Trained: 62, Tested: 102, Prediction: German Wikipedia, Actual: Chinese Wikipedia, Last-102 Accuracy: 0.382"
       ]
      },
      {
       "output_type": "stream",
       "stream": "stdout",
       "text": [
        "\n",
        "Trained: 63, Tested: 104, Prediction: French Wikipedia, Actual: Spanish Wikipedia, Last-104 Accuracy: 0.385"
       ]
      },
      {
       "output_type": "stream",
       "stream": "stdout",
       "text": [
        "\n",
        "Trained: 64, Tested: 106, Prediction: Spanish Wikipedia, Actual: Vietnamese Wikipedia, Last-106 Accuracy: 0.387"
       ]
      },
      {
       "output_type": "stream",
       "stream": "stdout",
       "text": [
        "\n",
        "Trained: 65, Tested: 108, Prediction: French Wikipedia, Actual: Italian Wikipedia, Last-108 Accuracy: 0.389"
       ]
      },
      {
       "output_type": "stream",
       "stream": "stdout",
       "text": [
        "\n",
        "Trained: 66, Tested: 109, Prediction: Dutch Wikipedia, Actual: Russian Wikipedia, Last-109 Accuracy: 0.385"
       ]
      },
      {
       "output_type": "stream",
       "stream": "stdout",
       "text": [
        "\n",
        "Trained: 67, Tested: 114, Prediction: Italian Wikipedia, Actual: Romanian Wikipedia, Last-114 Accuracy: 0.404"
       ]
      },
      {
       "output_type": "stream",
       "stream": "stdout",
       "text": [
        "\n",
        "Trained: 68, Tested: 115, Prediction: Italian Wikipedia, Actual: German Wikipedia, Last-115 Accuracy: 0.400"
       ]
      },
      {
       "output_type": "stream",
       "stream": "stdout",
       "text": [
        "\n",
        "Trained: 69, Tested: 116, Prediction: Italian Wikipedia, Actual: Portuguese Wikipedia, Last-116 Accuracy: 0.397"
       ]
      },
      {
       "output_type": "stream",
       "stream": "stdout",
       "text": [
        "\n",
        "Trained: 70, Tested: 120, Prediction: Dutch Wikipedia, Actual: Hungarian Wikipedia, Last-120 Accuracy: 0.408"
       ]
      },
      {
       "output_type": "stream",
       "stream": "stdout",
       "text": [
        "\n",
        "Trained: 71, Tested: 122, Prediction: Spanish Wikipedia, Actual: Arabic Wikipedia, Last-122 Accuracy: 0.410"
       ]
      },
      {
       "output_type": "stream",
       "stream": "stdout",
       "text": [
        "\n",
        "Trained: 72, Tested: 124, Prediction: Turkish Wikipedia, Actual: Farsi Wikipedia, Last-124 Accuracy: 0.411"
       ]
      },
      {
       "output_type": "stream",
       "stream": "stdout",
       "text": [
        "\n",
        "Trained: 73, Tested: 125, Prediction: Spanish Wikipedia, Actual: Chinese Wikipedia, Last-125 Accuracy: 0.408"
       ]
      },
      {
       "output_type": "stream",
       "stream": "stdout",
       "text": [
        "\n",
        "Trained: 74, Tested: 126, Prediction: Portuguese Wikipedia, Actual: French Wikipedia, Last-126 Accuracy: 0.405"
       ]
      },
      {
       "output_type": "stream",
       "stream": "stdout",
       "text": [
        "\n",
        "Trained: 75, Tested: 130, Prediction: Spanish Wikipedia, Actual: Czech Wikipedia, Last-130 Accuracy: 0.415"
       ]
      },
      {
       "output_type": "stream",
       "stream": "stdout",
       "text": [
        "\n",
        "Trained: 76, Tested: 131, Prediction: French Wikipedia, Actual: Norwegian Wikipedia, Last-131 Accuracy: 0.412"
       ]
      },
      {
       "output_type": "stream",
       "stream": "stdout",
       "text": [
        "\n",
        "Trained: 77, Tested: 136, Prediction: Spanish Wikipedia, Actual: Portuguese Wikipedia, Last-136 Accuracy: 0.426"
       ]
      },
      {
       "output_type": "stream",
       "stream": "stdout",
       "text": [
        "\n",
        "Trained: 78, Tested: 137, Prediction: French Wikipedia, Actual: Portuguese Wikipedia, Last-137 Accuracy: 0.423\n",
        "Trained: 79, Tested: 141, Prediction: Portuguese Wikipedia, Actual: Spanish Wikipedia, Last-141 Accuracy: 0.433"
       ]
      },
      {
       "output_type": "stream",
       "stream": "stdout",
       "text": [
        "\n",
        "Trained: 80, Tested: 142, Prediction: French Wikipedia, Actual: German Wikipedia, Last-142 Accuracy: 0.430"
       ]
      },
      {
       "output_type": "stream",
       "stream": "stdout",
       "text": [
        "\n",
        "Trained: 81, Tested: 143, Prediction: Portuguese Wikipedia, Actual: Hungarian Wikipedia, Last-143 Accuracy: 0.427"
       ]
      },
      {
       "output_type": "stream",
       "stream": "stdout",
       "text": [
        "\n",
        "Trained: 82, Tested: 144, Prediction: French Wikipedia, Actual: Portuguese Wikipedia, Last-144 Accuracy: 0.424"
       ]
      },
      {
       "output_type": "stream",
       "stream": "stdout",
       "text": [
        "\n",
        "Trained: 83, Tested: 145, Prediction: Portuguese Wikipedia, Actual: Spanish Wikipedia, Last-145 Accuracy: 0.421"
       ]
      },
      {
       "output_type": "stream",
       "stream": "stdout",
       "text": [
        "\n",
        "Trained: 84, Tested: 147, Prediction: Dutch Wikipedia, Actual: German Wikipedia, Last-147 Accuracy: 0.422"
       ]
      },
      {
       "output_type": "stream",
       "stream": "stdout",
       "text": [
        "\n",
        "Trained: 85, Tested: 150, Prediction: Portuguese Wikipedia, Actual: French Wikipedia, Last-150 Accuracy: 0.427"
       ]
      },
      {
       "output_type": "stream",
       "stream": "stdout",
       "text": [
        "\n",
        "Trained: 86, Tested: 151, Prediction: French Wikipedia, Actual: Polish Wikipedia, Last-151 Accuracy: 0.424"
       ]
      },
      {
       "output_type": "stream",
       "stream": "stdout",
       "text": [
        "\n",
        "Trained: 87, Tested: 152, Prediction: Spanish Wikipedia, Actual: Chinese Wikipedia, Last-152 Accuracy: 0.421"
       ]
      },
      {
       "output_type": "stream",
       "stream": "stdout",
       "text": [
        "\n",
        "Trained: 88, Tested: 157, Prediction: Spanish Wikipedia, Actual: German Wikipedia, Last-157 Accuracy: 0.433"
       ]
      },
      {
       "output_type": "stream",
       "stream": "stdout",
       "text": [
        "\n",
        "Trained: 89, Tested: 158, Prediction: Chinese Wikipedia, Actual: Dutch Wikipedia, Last-158 Accuracy: 0.430"
       ]
      },
      {
       "output_type": "stream",
       "stream": "stdout",
       "text": [
        "\n",
        "Trained: 90, Tested: 163, Prediction: French Wikipedia, Actual: Italian Wikipedia, Last-163 Accuracy: 0.442"
       ]
      },
      {
       "output_type": "stream",
       "stream": "stdout",
       "text": [
        "\n",
        "Trained: 91, Tested: 164, Prediction: German Wikipedia, Actual: Vietnamese Wikipedia, Last-164 Accuracy: 0.439"
       ]
      },
      {
       "output_type": "stream",
       "stream": "stdout",
       "text": [
        "\n",
        "Trained: 92, Tested: 168, Prediction: Portuguese Wikipedia, Actual: Finnish Wikipedia, Last-168 Accuracy: 0.446"
       ]
      },
      {
       "output_type": "stream",
       "stream": "stdout",
       "text": [
        "\n",
        "Trained: 93, Tested: 174, Prediction: French Wikipedia, Actual: Russian Wikipedia, Last-174 Accuracy: 0.460"
       ]
      },
      {
       "output_type": "stream",
       "stream": "stdout",
       "text": [
        "\n",
        "Trained: 94, Tested: 177, Prediction: Russian Wikipedia, Actual: Ukrainian Wikipedia, Last-177 Accuracy: 0.463"
       ]
      },
      {
       "output_type": "stream",
       "stream": "stdout",
       "text": [
        "\n",
        "Trained: 95, Tested: 178, Prediction: Spanish Wikipedia, Actual: Japanese Wikipedia, Last-178 Accuracy: 0.461"
       ]
      },
      {
       "output_type": "stream",
       "stream": "stdout",
       "text": [
        "\n",
        "Trained: 96, Tested: 181, Prediction: Spanish Wikipedia, Actual: French Wikipedia, Last-181 Accuracy: 0.464"
       ]
      },
      {
       "output_type": "stream",
       "stream": "stdout",
       "text": [
        "\n",
        "Trained: 97, Tested: 182, Prediction: French Wikipedia, Actual: Italian Wikipedia, Last-182 Accuracy: 0.462"
       ]
      },
      {
       "output_type": "stream",
       "stream": "stdout",
       "text": [
        "\n",
        "Trained: 98, Tested: 187, Prediction: Italian Wikipedia, Actual: French Wikipedia, Last-187 Accuracy: 0.471"
       ]
      },
      {
       "output_type": "stream",
       "stream": "stdout",
       "text": [
        "\n",
        "Trained: 99, Tested: 189, Prediction: French Wikipedia, Actual: Vietnamese Wikipedia, Last-189 Accuracy: 0.471"
       ]
      },
      {
       "output_type": "stream",
       "stream": "stdout",
       "text": [
        "\n",
        "Trained: 100, Tested: 191, Prediction: French Wikipedia, Actual: Indonesian Wikipedia, Last-191 Accuracy: 0.471"
       ]
      },
      {
       "output_type": "stream",
       "stream": "stdout",
       "text": [
        "\n",
        "Trained: 101, Tested: 197, Prediction: French Wikipedia, Actual: Hebrew Wikipedia, Last-197 Accuracy: 0.482"
       ]
      },
      {
       "output_type": "stream",
       "stream": "stdout",
       "text": [
        "\n",
        "Trained: 102, Tested: 199, Prediction: Italian Wikipedia, Actual: French Wikipedia, Last-199 Accuracy: 0.482"
       ]
      },
      {
       "output_type": "stream",
       "stream": "stdout",
       "text": [
        "\n",
        "Trained: 103, Tested: 203, Prediction: French Wikipedia, Actual: Spanish Wikipedia, Last-203 Accuracy: 0.488"
       ]
      },
      {
       "output_type": "stream",
       "stream": "stdout",
       "text": [
        "\n",
        "Trained: 104, Tested: 206, Prediction: French Wikipedia, Actual: Swedish Wikipedia, Last-206 Accuracy: 0.490"
       ]
      },
      {
       "output_type": "stream",
       "stream": "stdout",
       "text": [
        "\n",
        "Trained: 105, Tested: 207, Prediction: Italian Wikipedia, Actual: Dutch Wikipedia, Last-207 Accuracy: 0.488"
       ]
      },
      {
       "output_type": "stream",
       "stream": "stdout",
       "text": [
        "\n",
        "Trained: 106, Tested: 210, Prediction: French Wikipedia, Actual: German Wikipedia, Last-210 Accuracy: 0.490"
       ]
      },
      {
       "output_type": "stream",
       "stream": "stdout",
       "text": [
        "\n",
        "Trained: 107, Tested: 212, Prediction: French Wikipedia, Actual: Italian Wikipedia, Last-212 Accuracy: 0.491"
       ]
      },
      {
       "output_type": "stream",
       "stream": "stdout",
       "text": [
        "\n",
        "Trained: 108, Tested: 217, Prediction: French Wikipedia, Actual: Portuguese Wikipedia, Last-217 Accuracy: 0.498"
       ]
      },
      {
       "output_type": "stream",
       "stream": "stdout",
       "text": [
        "\n",
        "Trained: 109, Tested: 218, Prediction: French Wikipedia, Actual: Indonesian Wikipedia, Last-218 Accuracy: 0.495"
       ]
      },
      {
       "output_type": "stream",
       "stream": "stdout",
       "text": [
        "\n",
        "Trained: 110, Tested: 229, Prediction: Spanish Wikipedia, Actual: Swedish Wikipedia, Last-229 Accuracy: 0.515"
       ]
      },
      {
       "output_type": "stream",
       "stream": "stdout",
       "text": [
        "\n",
        "Trained: 111, Tested: 236, Prediction: French Wikipedia, Actual: Italian Wikipedia, Last-236 Accuracy: 0.525"
       ]
      },
      {
       "output_type": "stream",
       "stream": "stdout",
       "text": [
        "\n",
        "Trained: 112, Tested: 240, Prediction: Chinese Wikipedia, Actual: Dutch Wikipedia, Last-240 Accuracy: 0.529"
       ]
      },
      {
       "output_type": "stream",
       "stream": "stdout",
       "text": [
        "\n",
        "Trained: 113, Tested: 244, Prediction: Spanish Wikipedia, Actual: Arabic Wikipedia, Last-244 Accuracy: 0.533"
       ]
      },
      {
       "output_type": "stream",
       "stream": "stdout",
       "text": [
        "\n",
        "Trained: 114, Tested: 245, Prediction: Ukrainian Wikipedia, Actual: Russian Wikipedia, Last-245 Accuracy: 0.531"
       ]
      },
      {
       "output_type": "stream",
       "stream": "stdout",
       "text": [
        "\n",
        "Trained: 115, Tested: 248, Prediction: Portuguese Wikipedia, Actual: German Wikipedia, Last-248 Accuracy: 0.532"
       ]
      },
      {
       "output_type": "stream",
       "stream": "stdout",
       "text": [
        "\n",
        "Trained: 116, Tested: 249, Prediction: French Wikipedia, Actual: Korean Wikipedia, Last-249 Accuracy: 0.530"
       ]
      },
      {
       "output_type": "stream",
       "stream": "stdout",
       "text": [
        "\n",
        "Trained: 117, Tested: 251, Prediction: Portuguese Wikipedia, Actual: Spanish Wikipedia, Last-251 Accuracy: 0.530"
       ]
      },
      {
       "output_type": "stream",
       "stream": "stdout",
       "text": [
        "\n",
        "Trained: 118, Tested: 253, Prediction: Spanish Wikipedia, Actual: French Wikipedia, Last-253 Accuracy: 0.530"
       ]
      },
      {
       "output_type": "stream",
       "stream": "stdout",
       "text": [
        "\n",
        "Trained: 119, Tested: 254, Prediction: French Wikipedia, Actual: Russian Wikipedia, Last-254 Accuracy: 0.528"
       ]
      },
      {
       "output_type": "stream",
       "stream": "stdout",
       "text": [
        "\n",
        "Trained: 120, Tested: 255, Prediction: French Wikipedia, Actual: German Wikipedia, Last-255 Accuracy: 0.525"
       ]
      },
      {
       "output_type": "stream",
       "stream": "stdout",
       "text": [
        "\n",
        "Trained: 121, Tested: 261, Prediction: Russian Wikipedia, Actual: Japanese Wikipedia, Last-261 Accuracy: 0.533"
       ]
      },
      {
       "output_type": "stream",
       "stream": "stdout",
       "text": [
        "\n",
        "Trained: 122, Tested: 265, Prediction: French Wikipedia, Actual: Spanish Wikipedia, Last-265 Accuracy: 0.536"
       ]
      },
      {
       "output_type": "stream",
       "stream": "stdout",
       "text": [
        "\n",
        "Trained: 123, Tested: 276, Prediction: German Wikipedia, Actual: Italian Wikipedia, Last-276 Accuracy: 0.551"
       ]
      },
      {
       "output_type": "stream",
       "stream": "stdout",
       "text": [
        "\n",
        "Trained: 124, Tested: 278, Prediction: Spanish Wikipedia, Actual: Italian Wikipedia, Last-278 Accuracy: 0.550"
       ]
      },
      {
       "output_type": "stream",
       "stream": "stdout",
       "text": [
        "\n",
        "Trained: 125, Tested: 281, Prediction: Spanish Wikipedia, Actual: Portuguese Wikipedia, Last-281 Accuracy: 0.552"
       ]
      },
      {
       "output_type": "stream",
       "stream": "stdout",
       "text": [
        "\n",
        "Trained: 126, Tested: 282, Prediction: Dutch Wikipedia, Actual: Swedish Wikipedia, Last-282 Accuracy: 0.550"
       ]
      },
      {
       "output_type": "stream",
       "stream": "stdout",
       "text": [
        "\n",
        "Trained: 127, Tested: 290, Prediction: Spanish Wikipedia, Actual: Chinese Wikipedia, Last-290 Accuracy: 0.559"
       ]
      },
      {
       "output_type": "stream",
       "stream": "stdout",
       "text": [
        "\n",
        "Trained: 128, Tested: 291, Prediction: Italian Wikipedia, Actual: French Wikipedia, Last-291 Accuracy: 0.557"
       ]
      },
      {
       "output_type": "stream",
       "stream": "stdout",
       "text": [
        "\n",
        "Trained: 129, Tested: 293, Prediction: Spanish Wikipedia, Actual: Chinese Wikipedia, Last-293 Accuracy: 0.556"
       ]
      },
      {
       "output_type": "stream",
       "stream": "stdout",
       "text": [
        "\n",
        "Trained: 130, Tested: 296, Prediction: French Wikipedia, Actual: Spanish Wikipedia, Last-296 Accuracy: 0.557"
       ]
      },
      {
       "output_type": "stream",
       "stream": "stdout",
       "text": [
        "\n",
        "Trained: 131, Tested: 297, Prediction: Spanish Wikipedia, Actual: Portuguese Wikipedia, Last-297 Accuracy: 0.556"
       ]
      },
      {
       "output_type": "stream",
       "stream": "stdout",
       "text": [
        "\n",
        "Trained: 132, Tested: 299, Prediction: Portuguese Wikipedia, Actual: French Wikipedia, Last-299 Accuracy: 0.555"
       ]
      },
      {
       "output_type": "stream",
       "stream": "stdout",
       "text": [
        "\n",
        "Trained: 133, Tested: 301, Prediction: Spanish Wikipedia, Actual: Chinese Wikipedia, Last-301 Accuracy: 0.555"
       ]
      },
      {
       "output_type": "stream",
       "stream": "stdout",
       "text": [
        "\n",
        "Trained: 134, Tested: 304, Prediction: Spanish Wikipedia, Actual: French Wikipedia, Last-304 Accuracy: 0.556"
       ]
      },
      {
       "output_type": "stream",
       "stream": "stdout",
       "text": [
        "\n",
        "Trained: 135, Tested: 306, Prediction: Spanish Wikipedia, Actual: Dutch Wikipedia, Last-306 Accuracy: 0.556"
       ]
      },
      {
       "output_type": "stream",
       "stream": "stdout",
       "text": [
        "\n",
        "Trained: 136, Tested: 312, Prediction: Spanish Wikipedia, Actual: Portuguese Wikipedia, Last-312 Accuracy: 0.561"
       ]
      },
      {
       "output_type": "stream",
       "stream": "stdout",
       "text": [
        "\n",
        "Trained: 137, Tested: 316, Prediction: French Wikipedia, Actual: German Wikipedia, Last-316 Accuracy: 0.563"
       ]
      },
      {
       "output_type": "stream",
       "stream": "stdout",
       "text": [
        "\n",
        "Trained: 138, Tested: 318, Prediction: Chinese Wikipedia, Actual: Japanese Wikipedia, Last-318 Accuracy: 0.563"
       ]
      },
      {
       "output_type": "stream",
       "stream": "stdout",
       "text": [
        "\n",
        "Trained: 139, Tested: 319, Prediction: Portuguese Wikipedia, Actual: Hungarian Wikipedia, Last-319 Accuracy: 0.561"
       ]
      },
      {
       "output_type": "stream",
       "stream": "stdout",
       "text": [
        "\n",
        "Trained: 140, Tested: 322, Prediction: French Wikipedia, Actual: Hungarian Wikipedia, Last-322 Accuracy: 0.562"
       ]
      },
      {
       "output_type": "stream",
       "stream": "stdout",
       "text": [
        "\n",
        "Trained: 141, Tested: 323, Prediction: German Wikipedia, Actual: Czech Wikipedia, Last-323 Accuracy: 0.560"
       ]
      },
      {
       "output_type": "stream",
       "stream": "stdout",
       "text": [
        "\n",
        "Trained: 142, Tested: 326, Prediction: Chinese Wikipedia, Actual: Turkish Wikipedia, Last-326 Accuracy: 0.561"
       ]
      },
      {
       "output_type": "stream",
       "stream": "stdout",
       "text": [
        "\n",
        "Trained: 143, Tested: 329, Prediction: Portuguese Wikipedia, Actual: French Wikipedia, Last-329 Accuracy: 0.562"
       ]
      },
      {
       "output_type": "stream",
       "stream": "stdout",
       "text": [
        "\n",
        "Trained: 144, Tested: 343, Prediction: Portuguese Wikipedia, Actual: Spanish Wikipedia, Last-343 Accuracy: 0.577"
       ]
      },
      {
       "output_type": "stream",
       "stream": "stdout",
       "text": [
        "\n",
        "Trained: 145, Tested: 349, Prediction: French Wikipedia, Actual: Romanian Wikipedia, Last-349 Accuracy: 0.582"
       ]
      },
      {
       "output_type": "stream",
       "stream": "stdout",
       "text": [
        "\n",
        "Trained: 146, Tested: 352, Prediction: Spanish Wikipedia, Actual: Italian Wikipedia, Last-352 Accuracy: 0.582"
       ]
      },
      {
       "output_type": "stream",
       "stream": "stdout",
       "text": [
        "\n",
        "Trained: 147, Tested: 358, Prediction: French Wikipedia, Actual: German Wikipedia, Last-358 Accuracy: 0.587"
       ]
      },
      {
       "output_type": "stream",
       "stream": "stdout",
       "text": [
        "\n",
        "Trained: 148, Tested: 372, Prediction: Spanish Wikipedia, Actual: German Wikipedia, Last-372 Accuracy: 0.599"
       ]
      },
      {
       "output_type": "stream",
       "stream": "stdout",
       "text": [
        "\n",
        "Trained: 149, Tested: 374, Prediction: French Wikipedia, Actual: Catalan Wikipedia, Last-374 Accuracy: 0.599"
       ]
      },
      {
       "output_type": "stream",
       "stream": "stdout",
       "text": [
        "\n",
        "Trained: 150, Tested: 378, Prediction: Spanish Wikipedia, Actual: Portuguese Wikipedia, Last-378 Accuracy: 0.601"
       ]
      },
      {
       "output_type": "stream",
       "stream": "stdout",
       "text": [
        "\n",
        "Trained: 151, Tested: 381, Prediction: German Wikipedia, Actual: Dutch Wikipedia, Last-381 Accuracy: 0.601"
       ]
      },
      {
       "output_type": "stream",
       "stream": "stdout",
       "text": [
        "\n",
        "Trained: 152, Tested: 383, Prediction: Spanish Wikipedia, Actual: Italian Wikipedia, Last-383 Accuracy: 0.601"
       ]
      },
      {
       "output_type": "stream",
       "stream": "stdout",
       "text": [
        "\n",
        "Trained: 153, Tested: 387, Prediction: Dutch Wikipedia, Actual: Portuguese Wikipedia, Last-387 Accuracy: 0.602"
       ]
      },
      {
       "output_type": "stream",
       "stream": "stdout",
       "text": [
        "\n",
        "Trained: 154, Tested: 388, Prediction: Spanish Wikipedia, Actual: French Wikipedia, Last-388 Accuracy: 0.601"
       ]
      },
      {
       "output_type": "stream",
       "stream": "stdout",
       "text": [
        "\n",
        "Trained: 155, Tested: 389, Prediction: French Wikipedia, Actual: Catalan Wikipedia, Last-389 Accuracy: 0.599"
       ]
      },
      {
       "output_type": "stream",
       "stream": "stdout",
       "text": [
        "\n",
        "Trained: 156, Tested: 392, Prediction: German Wikipedia, Actual: Czech Wikipedia, Last-392 Accuracy: 0.599"
       ]
      },
      {
       "output_type": "stream",
       "stream": "stdout",
       "text": [
        "\n",
        "Trained: 157, Tested: 394, Prediction: Portuguese Wikipedia, Actual: Spanish Wikipedia, Last-394 Accuracy: 0.599"
       ]
      },
      {
       "output_type": "stream",
       "stream": "stdout",
       "text": [
        "\n",
        "Trained: 158, Tested: 397, Prediction: Spanish Wikipedia, Actual: Chinese Wikipedia, Last-397 Accuracy: 0.599"
       ]
      },
      {
       "output_type": "stream",
       "stream": "stdout",
       "text": [
        "\n",
        "Trained: 159, Tested: 403, Prediction: Spanish Wikipedia, Actual: Portuguese Wikipedia, Last-403 Accuracy: 0.603"
       ]
      },
      {
       "output_type": "stream",
       "stream": "stdout",
       "text": [
        "\n",
        "Trained: 160, Tested: 405, Prediction: French Wikipedia, Actual: Farsi Wikipedia, Last-405 Accuracy: 0.602"
       ]
      },
      {
       "output_type": "stream",
       "stream": "stdout",
       "text": [
        "\n",
        "Trained: 161, Tested: 407, Prediction: Italian Wikipedia, Actual: Hebrew Wikipedia, Last-407 Accuracy: 0.602"
       ]
      },
      {
       "output_type": "stream",
       "stream": "stdout",
       "text": [
        "\n",
        "Trained: 162, Tested: 408, Prediction: French Wikipedia, Actual: Polish Wikipedia, Last-408 Accuracy: 0.600"
       ]
      },
      {
       "output_type": "stream",
       "stream": "stdout",
       "text": [
        "\n",
        "Trained: 163, Tested: 411, Prediction: Czech Wikipedia, Actual: Hungarian Wikipedia, Last-411 Accuracy: 0.601"
       ]
      },
      {
       "output_type": "stream",
       "stream": "stdout",
       "text": [
        "\n",
        "Trained: 164, Tested: 415, Prediction: Portuguese Wikipedia, Actual: Hungarian Wikipedia, Last-415 Accuracy: 0.602"
       ]
      },
      {
       "output_type": "stream",
       "stream": "stdout",
       "text": [
        "\n",
        "Trained: 165, Tested: 423, Prediction: Portuguese Wikipedia, Actual: Spanish Wikipedia, Last-423 Accuracy: 0.608"
       ]
      },
      {
       "output_type": "stream",
       "stream": "stdout",
       "text": [
        "\n",
        "Trained: 166, Tested: 427, Prediction: Spanish Wikipedia, Actual: Turkish Wikipedia, Last-427 Accuracy: 0.609"
       ]
      },
      {
       "output_type": "stream",
       "stream": "stdout",
       "text": [
        "\n",
        "Trained: 167, Tested: 429, Prediction: Spanish Wikipedia, Actual: Portuguese Wikipedia, Last-429 Accuracy: 0.608"
       ]
      },
      {
       "output_type": "stream",
       "stream": "stdout",
       "text": [
        "\n",
        "Trained: 168, Tested: 431, Prediction: Spanish Wikipedia, Actual: Dutch Wikipedia, Last-431 Accuracy: 0.608"
       ]
      },
      {
       "output_type": "stream",
       "stream": "stdout",
       "text": [
        "\n",
        "Trained: 169, Tested: 433, Prediction: Italian Wikipedia, Actual: Czech Wikipedia, Last-433 Accuracy: 0.607"
       ]
      },
      {
       "output_type": "stream",
       "stream": "stdout",
       "text": [
        "\n",
        "Trained: 170, Tested: 435, Prediction: Spanish Wikipedia, Actual: Portuguese Wikipedia, Last-435 Accuracy: 0.607"
       ]
      },
      {
       "output_type": "stream",
       "stream": "stdout",
       "text": [
        "\n",
        "Trained: 171, Tested: 441, Prediction: Spanish Wikipedia, Actual: Catalan Wikipedia, Last-441 Accuracy: 0.610"
       ]
      },
      {
       "output_type": "stream",
       "stream": "stdout",
       "text": [
        "\n",
        "Trained: 172, Tested: 442, Prediction: Spanish Wikipedia, Actual: Norwegian Wikipedia, Last-442 Accuracy: 0.609"
       ]
      },
      {
       "output_type": "stream",
       "stream": "stdout",
       "text": [
        "\n",
        "Trained: 173, Tested: 445, Prediction: Portuguese Wikipedia, Actual: Spanish Wikipedia, Last-445 Accuracy: 0.609"
       ]
      },
      {
       "output_type": "stream",
       "stream": "stdout",
       "text": [
        "\n",
        "Trained: 174, Tested: 449, Prediction: French Wikipedia, Actual: Norwegian Wikipedia, Last-449 Accuracy: 0.610"
       ]
      },
      {
       "output_type": "stream",
       "stream": "stdout",
       "text": [
        "\n",
        "Trained: 175, Tested: 451, Prediction: Spanish Wikipedia, Actual: Portuguese Wikipedia, Last-451 Accuracy: 0.610"
       ]
      },
      {
       "output_type": "stream",
       "stream": "stdout",
       "text": [
        "\n",
        "Trained: 176, Tested: 454, Prediction: Portuguese Wikipedia, Actual: Norwegian Wikipedia, Last-454 Accuracy: 0.610"
       ]
      },
      {
       "output_type": "stream",
       "stream": "stdout",
       "text": [
        "\n",
        "Trained: 177, Tested: 458, Prediction: Russian Wikipedia, Actual: Ukrainian Wikipedia, Last-458 Accuracy: 0.611"
       ]
      },
      {
       "output_type": "stream",
       "stream": "stdout",
       "text": [
        "\n",
        "Trained: 178, Tested: 459, Prediction: Spanish Wikipedia, Actual: Polish Wikipedia, Last-459 Accuracy: 0.610"
       ]
      },
      {
       "output_type": "stream",
       "stream": "stdout",
       "text": [
        "\n",
        "Trained: 179, Tested: 460, Prediction: French Wikipedia, Actual: Spanish Wikipedia, Last-460 Accuracy: 0.609"
       ]
      },
      {
       "output_type": "stream",
       "stream": "stdout",
       "text": [
        "\n",
        "Trained: 180, Tested: 461, Prediction: Spanish Wikipedia, Actual: French Wikipedia, Last-461 Accuracy: 0.607"
       ]
      },
      {
       "output_type": "stream",
       "stream": "stdout",
       "text": [
        "\n",
        "Trained: 181, Tested: 472, Prediction: Spanish Wikipedia, Actual: German Wikipedia, Last-472 Accuracy: 0.614"
       ]
      },
      {
       "output_type": "stream",
       "stream": "stdout",
       "text": [
        "\n",
        "Trained: 182, Tested: 473, Prediction: Dutch Wikipedia, Actual: German Wikipedia, Last-473 Accuracy: 0.613"
       ]
      },
      {
       "output_type": "stream",
       "stream": "stdout",
       "text": [
        "\n",
        "Trained: 183, Tested: 475, Prediction: Dutch Wikipedia, Actual: Russian Wikipedia, Last-475 Accuracy: 0.613"
       ]
      },
      {
       "output_type": "stream",
       "stream": "stdout",
       "text": [
        "\n",
        "Trained: 184, Tested: 477, Prediction: Dutch Wikipedia, Actual: Spanish Wikipedia, Last-477 Accuracy: 0.612"
       ]
      },
      {
       "output_type": "stream",
       "stream": "stdout",
       "text": [
        "\n",
        "Trained: 185, Tested: 482, Prediction: Spanish Wikipedia, Actual: Dutch Wikipedia, Last-482 Accuracy: 0.614"
       ]
      },
      {
       "output_type": "stream",
       "stream": "stdout",
       "text": [
        "\n",
        "Trained: 186, Tested: 484, Prediction: Spanish Wikipedia, Actual: Portuguese Wikipedia, Last-484 Accuracy: 0.614"
       ]
      },
      {
       "output_type": "stream",
       "stream": "stdout",
       "text": [
        "\n",
        "Trained: 187, Tested: 485, Prediction: Dutch Wikipedia, Actual: German Wikipedia, Last-485 Accuracy: 0.612"
       ]
      },
      {
       "output_type": "stream",
       "stream": "stdout",
       "text": [
        "\n",
        "Trained: 188, Tested: 489, Prediction: Dutch Wikipedia, Actual: Polish Wikipedia, Last-489 Accuracy: 0.613"
       ]
      },
      {
       "output_type": "stream",
       "stream": "stdout",
       "text": [
        "\n",
        "Trained: 189, Tested: 495, Prediction: Spanish Wikipedia, Actual: French Wikipedia, Last-495 Accuracy: 0.616"
       ]
      },
      {
       "output_type": "stream",
       "stream": "stdout",
       "text": [
        "\n",
        "Trained: 190, Tested: 496, Prediction: Spanish Wikipedia, Actual: Polish Wikipedia, Last-496 Accuracy: 0.615"
       ]
      },
      {
       "output_type": "stream",
       "stream": "stdout",
       "text": [
        "\n",
        "Trained: 191, Tested: 498, Prediction: Spanish Wikipedia, Actual: Greek Wikipedia, Last-498 Accuracy: 0.614"
       ]
      },
      {
       "output_type": "stream",
       "stream": "stdout",
       "text": [
        "\n",
        "Trained: 192, Tested: 500, Prediction: Dutch Wikipedia, Actual: Italian Wikipedia, Last-500 Accuracy: 0.614"
       ]
      },
      {
       "output_type": "stream",
       "stream": "stdout",
       "text": [
        "\n",
        "Trained: 193, Tested: 500, Prediction: Spanish Wikipedia, Actual: Danish Wikipedia, Last-500 Accuracy: 0.614"
       ]
      },
      {
       "output_type": "stream",
       "stream": "stdout",
       "text": [
        "\n",
        "Trained: 194, Tested: 500, Prediction: Spanish Wikipedia, Actual: Italian Wikipedia, Last-500 Accuracy: 0.618"
       ]
      },
      {
       "output_type": "stream",
       "stream": "stdout",
       "text": [
        "\n",
        "Trained: 195, Tested: 500, Prediction: Polish Wikipedia, Actual: Chinese Wikipedia, Last-500 Accuracy: 0.628"
       ]
      },
      {
       "output_type": "stream",
       "stream": "stdout",
       "text": [
        "\n",
        "Trained: 196, Tested: 500, Prediction: Portuguese Wikipedia, Actual: Hungarian Wikipedia, Last-500 Accuracy: 0.634"
       ]
      },
      {
       "output_type": "stream",
       "stream": "stdout",
       "text": [
        "\n",
        "Trained: 197, Tested: 500, Prediction: French Wikipedia, Actual: Swedish Wikipedia, Last-500 Accuracy: 0.634"
       ]
      },
      {
       "output_type": "stream",
       "stream": "stdout",
       "text": [
        "\n",
        "Trained: 198, Tested: 500, Prediction: Portuguese Wikipedia, Actual: Chinese Wikipedia, Last-500 Accuracy: 0.634"
       ]
      },
      {
       "output_type": "stream",
       "stream": "stdout",
       "text": [
        "\n",
        "Trained: 199, Tested: 500, Prediction: Chinese Wikipedia, Actual: Spanish Wikipedia, Last-500 Accuracy: 0.634\n",
        "Trained: 200, Tested: 500, Prediction: Spanish Wikipedia, Actual: Chinese Wikipedia, Last-500 Accuracy: 0.632"
       ]
      },
      {
       "output_type": "stream",
       "stream": "stdout",
       "text": [
        "\n",
        "Trained: 201, Tested: 500, Prediction: Polish Wikipedia, Actual: Vietnamese Wikipedia, Last-500 Accuracy: 0.634"
       ]
      },
      {
       "output_type": "stream",
       "stream": "stdout",
       "text": [
        "\n",
        "Trained: 202, Tested: 500, Prediction: French Wikipedia, Actual: German Wikipedia, Last-500 Accuracy: 0.632"
       ]
      },
      {
       "output_type": "stream",
       "stream": "stdout",
       "text": [
        "\n",
        "Trained: 203, Tested: 500, Prediction: Polish Wikipedia, Actual: German Wikipedia, Last-500 Accuracy: 0.636"
       ]
      },
      {
       "output_type": "stream",
       "stream": "stdout",
       "text": [
        "\n",
        "Trained: 204, Tested: 500, Prediction: Chinese Wikipedia, Actual: Dutch Wikipedia, Last-500 Accuracy: 0.636"
       ]
      },
      {
       "output_type": "stream",
       "stream": "stdout",
       "text": [
        "\n",
        "Trained: 205, Tested: 500, Prediction: Russian Wikipedia, Actual: Japanese Wikipedia, Last-500 Accuracy: 0.634"
       ]
      },
      {
       "output_type": "stream",
       "stream": "stdout",
       "text": [
        "\n",
        "Trained: 206, Tested: 500, Prediction: Hungarian Wikipedia, Actual: Arabic Wikipedia, Last-500 Accuracy: 0.638"
       ]
      },
      {
       "output_type": "stream",
       "stream": "stdout",
       "text": [
        "\n",
        "Trained: 207, Tested: 500, Prediction: French Wikipedia, Actual: Dutch Wikipedia, Last-500 Accuracy: 0.638"
       ]
      },
      {
       "output_type": "stream",
       "stream": "stdout",
       "text": [
        "\n"
       ]
      },
      {
       "ename": "KeyboardInterrupt",
       "evalue": "",
       "output_type": "pyerr",
       "traceback": [
        "\u001b[1;31m---------------------------------------------------------------------------\u001b[0m\n\u001b[1;31mKeyboardInterrupt\u001b[0m                         Traceback (most recent call last)",
        "\u001b[1;32m<ipython-input-22-a8aca2bf0277>\u001b[0m in \u001b[0;36m<module>\u001b[1;34m()\u001b[0m\n\u001b[0;32m     77\u001b[0m \u001b[0mprint\u001b[0m\u001b[1;33m(\u001b[0m\u001b[0mvw\u001b[0m\u001b[1;33m.\u001b[0m\u001b[0mcommand\u001b[0m\u001b[1;33m)\u001b[0m\u001b[1;33m\u001b[0m\u001b[0m\n\u001b[0;32m     78\u001b[0m \u001b[1;33m\u001b[0m\u001b[0m\n\u001b[1;32m---> 79\u001b[1;33m \u001b[0mwikipedia_updates\u001b[0m\u001b[1;33m(\u001b[0m\u001b[0mvw_callback\u001b[0m\u001b[1;33m)\u001b[0m\u001b[1;33m\u001b[0m\u001b[0m\n\u001b[0m",
        "\u001b[1;32m<ipython-input-2-00367d5650c7>\u001b[0m in \u001b[0;36mwikipedia_updates\u001b[1;34m(callback)\u001b[0m\n\u001b[0;32m      6\u001b[0m     \u001b[1;32mwhile\u001b[0m \u001b[1;32mTrue\u001b[0m\u001b[1;33m:\u001b[0m\u001b[1;33m\u001b[0m\u001b[0m\n\u001b[0;32m      7\u001b[0m         \u001b[0mt\u001b[0m \u001b[1;33m=\u001b[0m \u001b[0mtime\u001b[0m\u001b[1;33m.\u001b[0m\u001b[0mtime\u001b[0m\u001b[1;33m(\u001b[0m\u001b[1;33m)\u001b[0m \u001b[1;33m*\u001b[0m \u001b[1;36m1000000\u001b[0m\u001b[1;33m\u001b[0m\u001b[0m\n\u001b[1;32m----> 8\u001b[1;33m         \u001b[0mresponse\u001b[0m \u001b[1;33m=\u001b[0m \u001b[0mget\u001b[0m\u001b[1;33m(\u001b[0m\u001b[0mxhr_endpoint\u001b[0m\u001b[1;33m,\u001b[0m \u001b[0mparams\u001b[0m\u001b[1;33m=\u001b[0m\u001b[1;33m{\u001b[0m\u001b[1;34m't'\u001b[0m\u001b[1;33m:\u001b[0m \u001b[0mt\u001b[0m\u001b[1;33m}\u001b[0m\u001b[1;33m)\u001b[0m\u001b[1;33m.\u001b[0m\u001b[0mcontent\u001b[0m\u001b[1;33m.\u001b[0m\u001b[0mdecode\u001b[0m\u001b[1;33m(\u001b[0m\u001b[1;34m'utf-8'\u001b[0m\u001b[1;33m)\u001b[0m\u001b[1;33m\u001b[0m\u001b[0m\n\u001b[0m\u001b[0;32m      9\u001b[0m \u001b[1;33m\u001b[0m\u001b[0m\n\u001b[0;32m     10\u001b[0m         \u001b[0mchunks\u001b[0m \u001b[1;33m=\u001b[0m \u001b[0mre\u001b[0m\u001b[1;33m.\u001b[0m\u001b[0msplit\u001b[0m\u001b[1;33m(\u001b[0m\u001b[1;34mu'\\ufffd[0-9]+\\ufffd'\u001b[0m\u001b[1;33m,\u001b[0m \u001b[0mresponse\u001b[0m\u001b[1;33m)\u001b[0m\u001b[1;33m\u001b[0m\u001b[0m\n",
        "\u001b[1;32m/usr/local/lib/python3.4/dist-packages/requests/api.py\u001b[0m in \u001b[0;36mget\u001b[1;34m(url, **kwargs)\u001b[0m\n\u001b[0;32m     53\u001b[0m \u001b[1;33m\u001b[0m\u001b[0m\n\u001b[0;32m     54\u001b[0m     \u001b[0mkwargs\u001b[0m\u001b[1;33m.\u001b[0m\u001b[0msetdefault\u001b[0m\u001b[1;33m(\u001b[0m\u001b[1;34m'allow_redirects'\u001b[0m\u001b[1;33m,\u001b[0m \u001b[1;32mTrue\u001b[0m\u001b[1;33m)\u001b[0m\u001b[1;33m\u001b[0m\u001b[0m\n\u001b[1;32m---> 55\u001b[1;33m     \u001b[1;32mreturn\u001b[0m \u001b[0mrequest\u001b[0m\u001b[1;33m(\u001b[0m\u001b[1;34m'get'\u001b[0m\u001b[1;33m,\u001b[0m \u001b[0murl\u001b[0m\u001b[1;33m,\u001b[0m \u001b[1;33m**\u001b[0m\u001b[0mkwargs\u001b[0m\u001b[1;33m)\u001b[0m\u001b[1;33m\u001b[0m\u001b[0m\n\u001b[0m\u001b[0;32m     56\u001b[0m \u001b[1;33m\u001b[0m\u001b[0m\n\u001b[0;32m     57\u001b[0m \u001b[1;33m\u001b[0m\u001b[0m\n",
        "\u001b[1;32m/usr/local/lib/python3.4/dist-packages/requests/api.py\u001b[0m in \u001b[0;36mrequest\u001b[1;34m(method, url, **kwargs)\u001b[0m\n\u001b[0;32m     42\u001b[0m \u001b[1;33m\u001b[0m\u001b[0m\n\u001b[0;32m     43\u001b[0m     \u001b[0msession\u001b[0m \u001b[1;33m=\u001b[0m \u001b[0msessions\u001b[0m\u001b[1;33m.\u001b[0m\u001b[0mSession\u001b[0m\u001b[1;33m(\u001b[0m\u001b[1;33m)\u001b[0m\u001b[1;33m\u001b[0m\u001b[0m\n\u001b[1;32m---> 44\u001b[1;33m     \u001b[1;32mreturn\u001b[0m \u001b[0msession\u001b[0m\u001b[1;33m.\u001b[0m\u001b[0mrequest\u001b[0m\u001b[1;33m(\u001b[0m\u001b[0mmethod\u001b[0m\u001b[1;33m=\u001b[0m\u001b[0mmethod\u001b[0m\u001b[1;33m,\u001b[0m \u001b[0murl\u001b[0m\u001b[1;33m=\u001b[0m\u001b[0murl\u001b[0m\u001b[1;33m,\u001b[0m \u001b[1;33m**\u001b[0m\u001b[0mkwargs\u001b[0m\u001b[1;33m)\u001b[0m\u001b[1;33m\u001b[0m\u001b[0m\n\u001b[0m\u001b[0;32m     45\u001b[0m \u001b[1;33m\u001b[0m\u001b[0m\n\u001b[0;32m     46\u001b[0m \u001b[1;33m\u001b[0m\u001b[0m\n",
        "\u001b[1;32m/usr/local/lib/python3.4/dist-packages/requests/sessions.py\u001b[0m in \u001b[0;36mrequest\u001b[1;34m(self, method, url, params, data, headers, cookies, files, auth, timeout, allow_redirects, proxies, hooks, stream, verify, cert)\u001b[0m\n\u001b[0;32m    454\u001b[0m             \u001b[1;34m'allow_redirects'\u001b[0m\u001b[1;33m:\u001b[0m \u001b[0mallow_redirects\u001b[0m\u001b[1;33m,\u001b[0m\u001b[1;33m\u001b[0m\u001b[0m\n\u001b[0;32m    455\u001b[0m         }\n\u001b[1;32m--> 456\u001b[1;33m         \u001b[0mresp\u001b[0m \u001b[1;33m=\u001b[0m \u001b[0mself\u001b[0m\u001b[1;33m.\u001b[0m\u001b[0msend\u001b[0m\u001b[1;33m(\u001b[0m\u001b[0mprep\u001b[0m\u001b[1;33m,\u001b[0m \u001b[1;33m**\u001b[0m\u001b[0msend_kwargs\u001b[0m\u001b[1;33m)\u001b[0m\u001b[1;33m\u001b[0m\u001b[0m\n\u001b[0m\u001b[0;32m    457\u001b[0m \u001b[1;33m\u001b[0m\u001b[0m\n\u001b[0;32m    458\u001b[0m         \u001b[1;32mreturn\u001b[0m \u001b[0mresp\u001b[0m\u001b[1;33m\u001b[0m\u001b[0m\n",
        "\u001b[1;32m/usr/local/lib/python3.4/dist-packages/requests/sessions.py\u001b[0m in \u001b[0;36msend\u001b[1;34m(self, request, **kwargs)\u001b[0m\n\u001b[0;32m    583\u001b[0m \u001b[1;33m\u001b[0m\u001b[0m\n\u001b[0;32m    584\u001b[0m         \u001b[1;31m# Resolve redirects if allowed.\u001b[0m\u001b[1;33m\u001b[0m\u001b[1;33m\u001b[0m\u001b[0m\n\u001b[1;32m--> 585\u001b[1;33m         \u001b[0mhistory\u001b[0m \u001b[1;33m=\u001b[0m \u001b[1;33m[\u001b[0m\u001b[0mresp\u001b[0m \u001b[1;32mfor\u001b[0m \u001b[0mresp\u001b[0m \u001b[1;32min\u001b[0m \u001b[0mgen\u001b[0m\u001b[1;33m]\u001b[0m \u001b[1;32mif\u001b[0m \u001b[0mallow_redirects\u001b[0m \u001b[1;32melse\u001b[0m \u001b[1;33m[\u001b[0m\u001b[1;33m]\u001b[0m\u001b[1;33m\u001b[0m\u001b[0m\n\u001b[0m\u001b[0;32m    586\u001b[0m \u001b[1;33m\u001b[0m\u001b[0m\n\u001b[0;32m    587\u001b[0m         \u001b[1;31m# Shuffle things around if there's history.\u001b[0m\u001b[1;33m\u001b[0m\u001b[1;33m\u001b[0m\u001b[0m\n",
        "\u001b[1;32m/usr/local/lib/python3.4/dist-packages/requests/sessions.py\u001b[0m in \u001b[0;36m<listcomp>\u001b[1;34m(.0)\u001b[0m\n\u001b[0;32m    583\u001b[0m \u001b[1;33m\u001b[0m\u001b[0m\n\u001b[0;32m    584\u001b[0m         \u001b[1;31m# Resolve redirects if allowed.\u001b[0m\u001b[1;33m\u001b[0m\u001b[1;33m\u001b[0m\u001b[0m\n\u001b[1;32m--> 585\u001b[1;33m         \u001b[0mhistory\u001b[0m \u001b[1;33m=\u001b[0m \u001b[1;33m[\u001b[0m\u001b[0mresp\u001b[0m \u001b[1;32mfor\u001b[0m \u001b[0mresp\u001b[0m \u001b[1;32min\u001b[0m \u001b[0mgen\u001b[0m\u001b[1;33m]\u001b[0m \u001b[1;32mif\u001b[0m \u001b[0mallow_redirects\u001b[0m \u001b[1;32melse\u001b[0m \u001b[1;33m[\u001b[0m\u001b[1;33m]\u001b[0m\u001b[1;33m\u001b[0m\u001b[0m\n\u001b[0m\u001b[0;32m    586\u001b[0m \u001b[1;33m\u001b[0m\u001b[0m\n\u001b[0;32m    587\u001b[0m         \u001b[1;31m# Shuffle things around if there's history.\u001b[0m\u001b[1;33m\u001b[0m\u001b[1;33m\u001b[0m\u001b[0m\n",
        "\u001b[1;32m/usr/local/lib/python3.4/dist-packages/requests/sessions.py\u001b[0m in \u001b[0;36mresolve_redirects\u001b[1;34m(self, resp, req, stream, timeout, verify, cert, proxies)\u001b[0m\n\u001b[0;32m    177\u001b[0m                 \u001b[0mcert\u001b[0m\u001b[1;33m=\u001b[0m\u001b[0mcert\u001b[0m\u001b[1;33m,\u001b[0m\u001b[1;33m\u001b[0m\u001b[0m\n\u001b[0;32m    178\u001b[0m                 \u001b[0mproxies\u001b[0m\u001b[1;33m=\u001b[0m\u001b[0mproxies\u001b[0m\u001b[1;33m,\u001b[0m\u001b[1;33m\u001b[0m\u001b[0m\n\u001b[1;32m--> 179\u001b[1;33m                 \u001b[0mallow_redirects\u001b[0m\u001b[1;33m=\u001b[0m\u001b[1;32mFalse\u001b[0m\u001b[1;33m,\u001b[0m\u001b[1;33m\u001b[0m\u001b[0m\n\u001b[0m\u001b[0;32m    180\u001b[0m             )\n\u001b[0;32m    181\u001b[0m \u001b[1;33m\u001b[0m\u001b[0m\n",
        "\u001b[1;32m/usr/local/lib/python3.4/dist-packages/requests/sessions.py\u001b[0m in \u001b[0;36msend\u001b[1;34m(self, request, **kwargs)\u001b[0m\n\u001b[0;32m    557\u001b[0m \u001b[1;33m\u001b[0m\u001b[0m\n\u001b[0;32m    558\u001b[0m         \u001b[1;31m# Send the request\u001b[0m\u001b[1;33m\u001b[0m\u001b[1;33m\u001b[0m\u001b[0m\n\u001b[1;32m--> 559\u001b[1;33m         \u001b[0mr\u001b[0m \u001b[1;33m=\u001b[0m \u001b[0madapter\u001b[0m\u001b[1;33m.\u001b[0m\u001b[0msend\u001b[0m\u001b[1;33m(\u001b[0m\u001b[0mrequest\u001b[0m\u001b[1;33m,\u001b[0m \u001b[1;33m**\u001b[0m\u001b[0mkwargs\u001b[0m\u001b[1;33m)\u001b[0m\u001b[1;33m\u001b[0m\u001b[0m\n\u001b[0m\u001b[0;32m    560\u001b[0m \u001b[1;33m\u001b[0m\u001b[0m\n\u001b[0;32m    561\u001b[0m         \u001b[1;31m# Total elapsed time of the request (approximately)\u001b[0m\u001b[1;33m\u001b[0m\u001b[1;33m\u001b[0m\u001b[0m\n",
        "\u001b[1;32m/usr/local/lib/python3.4/dist-packages/requests/adapters.py\u001b[0m in \u001b[0;36msend\u001b[1;34m(self, request, stream, timeout, verify, cert, proxies)\u001b[0m\n\u001b[0;32m    325\u001b[0m                     \u001b[0mdecode_content\u001b[0m\u001b[1;33m=\u001b[0m\u001b[1;32mFalse\u001b[0m\u001b[1;33m,\u001b[0m\u001b[1;33m\u001b[0m\u001b[0m\n\u001b[0;32m    326\u001b[0m                     \u001b[0mretries\u001b[0m\u001b[1;33m=\u001b[0m\u001b[0mself\u001b[0m\u001b[1;33m.\u001b[0m\u001b[0mmax_retries\u001b[0m\u001b[1;33m,\u001b[0m\u001b[1;33m\u001b[0m\u001b[0m\n\u001b[1;32m--> 327\u001b[1;33m                     \u001b[0mtimeout\u001b[0m\u001b[1;33m=\u001b[0m\u001b[0mtimeout\u001b[0m\u001b[1;33m\u001b[0m\u001b[0m\n\u001b[0m\u001b[0;32m    328\u001b[0m                 )\n\u001b[0;32m    329\u001b[0m \u001b[1;33m\u001b[0m\u001b[0m\n",
        "\u001b[1;32m/usr/local/lib/python3.4/dist-packages/requests/packages/urllib3/connectionpool.py\u001b[0m in \u001b[0;36murlopen\u001b[1;34m(self, method, url, body, headers, retries, redirect, assert_same_host, timeout, pool_timeout, release_conn, **response_kw)\u001b[0m\n\u001b[0;32m    491\u001b[0m             httplib_response = self._make_request(conn, method, url,\n\u001b[0;32m    492\u001b[0m                                                   \u001b[0mtimeout\u001b[0m\u001b[1;33m=\u001b[0m\u001b[0mtimeout\u001b[0m\u001b[1;33m,\u001b[0m\u001b[1;33m\u001b[0m\u001b[0m\n\u001b[1;32m--> 493\u001b[1;33m                                                   body=body, headers=headers)\n\u001b[0m\u001b[0;32m    494\u001b[0m \u001b[1;33m\u001b[0m\u001b[0m\n\u001b[0;32m    495\u001b[0m             \u001b[1;31m# If we're going to release the connection in ``finally:``, then\u001b[0m\u001b[1;33m\u001b[0m\u001b[1;33m\u001b[0m\u001b[0m\n",
        "\u001b[1;32m/usr/local/lib/python3.4/dist-packages/requests/packages/urllib3/connectionpool.py\u001b[0m in \u001b[0;36m_make_request\u001b[1;34m(self, conn, method, url, timeout, **httplib_request_kw)\u001b[0m\n\u001b[0;32m    319\u001b[0m                 \u001b[0mhttplib_response\u001b[0m \u001b[1;33m=\u001b[0m \u001b[0mconn\u001b[0m\u001b[1;33m.\u001b[0m\u001b[0mgetresponse\u001b[0m\u001b[1;33m(\u001b[0m\u001b[0mbuffering\u001b[0m\u001b[1;33m=\u001b[0m\u001b[1;32mTrue\u001b[0m\u001b[1;33m)\u001b[0m\u001b[1;33m\u001b[0m\u001b[0m\n\u001b[0;32m    320\u001b[0m             \u001b[1;32mexcept\u001b[0m \u001b[0mTypeError\u001b[0m\u001b[1;33m:\u001b[0m \u001b[1;31m# Python 2.6 and older\u001b[0m\u001b[1;33m\u001b[0m\u001b[0m\n\u001b[1;32m--> 321\u001b[1;33m                 \u001b[0mhttplib_response\u001b[0m \u001b[1;33m=\u001b[0m \u001b[0mconn\u001b[0m\u001b[1;33m.\u001b[0m\u001b[0mgetresponse\u001b[0m\u001b[1;33m(\u001b[0m\u001b[1;33m)\u001b[0m\u001b[1;33m\u001b[0m\u001b[0m\n\u001b[0m\u001b[0;32m    322\u001b[0m         \u001b[1;32mexcept\u001b[0m \u001b[0mSocketTimeout\u001b[0m\u001b[1;33m:\u001b[0m\u001b[1;33m\u001b[0m\u001b[0m\n\u001b[0;32m    323\u001b[0m             raise ReadTimeoutError(\n",
        "\u001b[1;32m/usr/lib/python3.4/http/client.py\u001b[0m in \u001b[0;36mgetresponse\u001b[1;34m(self)\u001b[0m\n\u001b[0;32m   1170\u001b[0m             \u001b[0mresponse\u001b[0m \u001b[1;33m=\u001b[0m \u001b[0mself\u001b[0m\u001b[1;33m.\u001b[0m\u001b[0mresponse_class\u001b[0m\u001b[1;33m(\u001b[0m\u001b[0mself\u001b[0m\u001b[1;33m.\u001b[0m\u001b[0msock\u001b[0m\u001b[1;33m,\u001b[0m \u001b[0mmethod\u001b[0m\u001b[1;33m=\u001b[0m\u001b[0mself\u001b[0m\u001b[1;33m.\u001b[0m\u001b[0m_method\u001b[0m\u001b[1;33m)\u001b[0m\u001b[1;33m\u001b[0m\u001b[0m\n\u001b[0;32m   1171\u001b[0m \u001b[1;33m\u001b[0m\u001b[0m\n\u001b[1;32m-> 1172\u001b[1;33m         \u001b[0mresponse\u001b[0m\u001b[1;33m.\u001b[0m\u001b[0mbegin\u001b[0m\u001b[1;33m(\u001b[0m\u001b[1;33m)\u001b[0m\u001b[1;33m\u001b[0m\u001b[0m\n\u001b[0m\u001b[0;32m   1173\u001b[0m         \u001b[1;32massert\u001b[0m \u001b[0mresponse\u001b[0m\u001b[1;33m.\u001b[0m\u001b[0mwill_close\u001b[0m \u001b[1;33m!=\u001b[0m \u001b[0m_UNKNOWN\u001b[0m\u001b[1;33m\u001b[0m\u001b[0m\n\u001b[0;32m   1174\u001b[0m         \u001b[0mself\u001b[0m\u001b[1;33m.\u001b[0m\u001b[0m__state\u001b[0m \u001b[1;33m=\u001b[0m \u001b[0m_CS_IDLE\u001b[0m\u001b[1;33m\u001b[0m\u001b[0m\n",
        "\u001b[1;32m/usr/lib/python3.4/http/client.py\u001b[0m in \u001b[0;36mbegin\u001b[1;34m(self)\u001b[0m\n\u001b[0;32m    349\u001b[0m         \u001b[1;31m# read until we get a non-100 response\u001b[0m\u001b[1;33m\u001b[0m\u001b[1;33m\u001b[0m\u001b[0m\n\u001b[0;32m    350\u001b[0m         \u001b[1;32mwhile\u001b[0m \u001b[1;32mTrue\u001b[0m\u001b[1;33m:\u001b[0m\u001b[1;33m\u001b[0m\u001b[0m\n\u001b[1;32m--> 351\u001b[1;33m             \u001b[0mversion\u001b[0m\u001b[1;33m,\u001b[0m \u001b[0mstatus\u001b[0m\u001b[1;33m,\u001b[0m \u001b[0mreason\u001b[0m \u001b[1;33m=\u001b[0m \u001b[0mself\u001b[0m\u001b[1;33m.\u001b[0m\u001b[0m_read_status\u001b[0m\u001b[1;33m(\u001b[0m\u001b[1;33m)\u001b[0m\u001b[1;33m\u001b[0m\u001b[0m\n\u001b[0m\u001b[0;32m    352\u001b[0m             \u001b[1;32mif\u001b[0m \u001b[0mstatus\u001b[0m \u001b[1;33m!=\u001b[0m \u001b[0mCONTINUE\u001b[0m\u001b[1;33m:\u001b[0m\u001b[1;33m\u001b[0m\u001b[0m\n\u001b[0;32m    353\u001b[0m                 \u001b[1;32mbreak\u001b[0m\u001b[1;33m\u001b[0m\u001b[0m\n",
        "\u001b[1;32m/usr/lib/python3.4/http/client.py\u001b[0m in \u001b[0;36m_read_status\u001b[1;34m(self)\u001b[0m\n\u001b[0;32m    311\u001b[0m \u001b[1;33m\u001b[0m\u001b[0m\n\u001b[0;32m    312\u001b[0m     \u001b[1;32mdef\u001b[0m \u001b[0m_read_status\u001b[0m\u001b[1;33m(\u001b[0m\u001b[0mself\u001b[0m\u001b[1;33m)\u001b[0m\u001b[1;33m:\u001b[0m\u001b[1;33m\u001b[0m\u001b[0m\n\u001b[1;32m--> 313\u001b[1;33m         \u001b[0mline\u001b[0m \u001b[1;33m=\u001b[0m \u001b[0mstr\u001b[0m\u001b[1;33m(\u001b[0m\u001b[0mself\u001b[0m\u001b[1;33m.\u001b[0m\u001b[0mfp\u001b[0m\u001b[1;33m.\u001b[0m\u001b[0mreadline\u001b[0m\u001b[1;33m(\u001b[0m\u001b[0m_MAXLINE\u001b[0m \u001b[1;33m+\u001b[0m \u001b[1;36m1\u001b[0m\u001b[1;33m)\u001b[0m\u001b[1;33m,\u001b[0m \u001b[1;34m\"iso-8859-1\"\u001b[0m\u001b[1;33m)\u001b[0m\u001b[1;33m\u001b[0m\u001b[0m\n\u001b[0m\u001b[0;32m    314\u001b[0m         \u001b[1;32mif\u001b[0m \u001b[0mlen\u001b[0m\u001b[1;33m(\u001b[0m\u001b[0mline\u001b[0m\u001b[1;33m)\u001b[0m \u001b[1;33m>\u001b[0m \u001b[0m_MAXLINE\u001b[0m\u001b[1;33m:\u001b[0m\u001b[1;33m\u001b[0m\u001b[0m\n\u001b[0;32m    315\u001b[0m             \u001b[1;32mraise\u001b[0m \u001b[0mLineTooLong\u001b[0m\u001b[1;33m(\u001b[0m\u001b[1;34m\"status line\"\u001b[0m\u001b[1;33m)\u001b[0m\u001b[1;33m\u001b[0m\u001b[0m\n",
        "\u001b[1;32m/usr/lib/python3.4/socket.py\u001b[0m in \u001b[0;36mreadinto\u001b[1;34m(self, b)\u001b[0m\n\u001b[0;32m    369\u001b[0m         \u001b[1;32mwhile\u001b[0m \u001b[1;32mTrue\u001b[0m\u001b[1;33m:\u001b[0m\u001b[1;33m\u001b[0m\u001b[0m\n\u001b[0;32m    370\u001b[0m             \u001b[1;32mtry\u001b[0m\u001b[1;33m:\u001b[0m\u001b[1;33m\u001b[0m\u001b[0m\n\u001b[1;32m--> 371\u001b[1;33m                 \u001b[1;32mreturn\u001b[0m \u001b[0mself\u001b[0m\u001b[1;33m.\u001b[0m\u001b[0m_sock\u001b[0m\u001b[1;33m.\u001b[0m\u001b[0mrecv_into\u001b[0m\u001b[1;33m(\u001b[0m\u001b[0mb\u001b[0m\u001b[1;33m)\u001b[0m\u001b[1;33m\u001b[0m\u001b[0m\n\u001b[0m\u001b[0;32m    372\u001b[0m             \u001b[1;32mexcept\u001b[0m \u001b[0mtimeout\u001b[0m\u001b[1;33m:\u001b[0m\u001b[1;33m\u001b[0m\u001b[0m\n\u001b[0;32m    373\u001b[0m                 \u001b[0mself\u001b[0m\u001b[1;33m.\u001b[0m\u001b[0m_timeout_occurred\u001b[0m \u001b[1;33m=\u001b[0m \u001b[1;32mTrue\u001b[0m\u001b[1;33m\u001b[0m\u001b[0m\n",
        "\u001b[1;31mKeyboardInterrupt\u001b[0m: "
       ]
      }
     ],
     "prompt_number": 22
    },
    {
     "cell_type": "code",
     "collapsed": false,
     "input": [
      "vw.close()"
     ],
     "language": "python",
     "metadata": {},
     "outputs": [],
     "prompt_number": 23
    },
    {
     "cell_type": "markdown",
     "metadata": {},
     "source": [
      "## Visualizing language similarity\n",
      "\n",
      "When the model mispredicts, which wikis is it most likely to get confused?\n",
      "\n",
      "This could give us some measure of the similarity of those languages -- in the limited domain of \"Wikipedia pages\" at least.\n",
      "\n",
      "If we visualize these relationships, do they roughly match what we'd expect from a non-expert idea of language similarity? Or do they reflect noise in the model -- artefacts of VW's feature hashing process?\n",
      "\n",
      "First do some preprocessing to get a dense confusion matrix, sorted so more popular wikis come first."
     ]
    },
    {
     "cell_type": "code",
     "collapsed": false,
     "input": [
      "labels = np.array([s.replace(' Wikipedia', '') for s in labels])\n",
      "confusion = np.zeros((len(labels), len(labels)))\n",
      "for (x, y) in cm:\n",
      "    confusion[x,y] += 1\n",
      "samples_per_wiki = np.asarray(confusion.sum(axis=1))\n",
      "sorted_idxs = np.argsort(samples_per_wiki)[::-1]\n",
      "sorted_confusion = confusion[sorted_idxs,:][:,sorted_idxs]\n",
      "sorted_confusion.shape"
     ],
     "language": "python",
     "metadata": {},
     "outputs": [
      {
       "metadata": {},
       "output_type": "pyout",
       "prompt_number": 25,
       "text": [
        "(28, 28)"
       ]
      }
     ],
     "prompt_number": 25
    },
    {
     "cell_type": "markdown",
     "metadata": {},
     "source": [
      "Visualize the confusion matrix in Matplotlib.\n",
      "\n",
      "The left edge represents real pages' languages, the bottom edge shows what the model identified them as, at least in its last `k` tests. So, shading along the diagonal represents correct predictions, and shading off the diagonal represents errors.\n",
      "\n",
      "The values are absolute counts, so this shows the relative popularity of each wiki as well as the error distribution."
     ]
    },
    {
     "cell_type": "code",
     "collapsed": false,
     "input": [
      "fig, ax = plt.subplots(1)\n",
      "\n",
      "p = ax.pcolormesh(sorted_confusion, cmap='Reds')\n",
      "fig.colorbar(p)\n",
      "ax.set_yticks(np.arange(sorted_confusion.shape[0])+0.5, minor=False)\n",
      "ax.set_xticks(np.arange(sorted_confusion.shape[1])+0.5, minor=False)\n",
      "ax.set_xticklabels(labels[sorted_idxs], minor=False) \n",
      "ax.set_yticklabels(labels[sorted_idxs], minor=False)\n",
      "plt.xticks(rotation=90)\n",
      "plt.show()"
     ],
     "language": "python",
     "metadata": {},
     "outputs": [
      {
       "metadata": {},
       "output_type": "display_data",
       "png": "[encoded data removed]",
       "text": [
        "<matplotlib.figure.Figure at 0x7f5733995f60>"
       ]
      }
     ],
     "prompt_number": 26
    },
    {
     "cell_type": "markdown",
     "metadata": {},
     "source": [
      "Alternatively, we can turn it into a labelled list of edge weights, write it out to a CSV, and render it in D3.\n",
      "\n",
      "For this visualization, let's normalize by the number of actual occurrences of each wiki in the test set, so the weights indicate the proportion of the samples for each wiki `source` that were mistakenly predicted for `target` instead. Also we'll need to set the diagonal to 0 to remove loops from the visualization.\n",
      "\n",
      "**Mouseover the nodes in the graph to see the wiki name.**"
     ]
    },
    {
     "cell_type": "code",
     "collapsed": false,
     "input": [
      "normalized = sorted_confusion / sorted_confusion.sum(axis=1)\n",
      "np.fill_diagonal(normalized, 0)\n",
      "edge_weights = pd.DataFrame(data=normalized, index=labels[sorted_idxs], columns=labels[sorted_idxs]).stack()\n",
      "edge_weights.index.names = ('source', 'target')\n",
      "edge_weights.name = 'value'\n",
      "edge_weights.iloc[edge_weights.nonzero()].to_csv('cm.csv', header=True, index=True)\n",
      "from IPython.lib.display import IFrame\n",
      "IFrame('graph.html', 650, 650)"
     ],
     "language": "python",
     "metadata": {},
     "outputs": [
      {
       "html": [
        "\n",
        "        <iframe\n",
        "            width=\"650\"\n",
        "            height=650\"\n",
        "            src=\"graph.html\"\n",
        "            frameborder=\"0\"\n",
        "            allowfullscreen\n",
        "        ></iframe>\n",
        "        "
       ],
       "metadata": {},
       "output_type": "pyout",
       "prompt_number": 27,
       "text": [
        "<IPython.lib.display.IFrame at 0x7f57337913c8>"
       ]
      }
     ],
     "prompt_number": 27
    }
   ],
   "metadata": {}
  }
 ]
}