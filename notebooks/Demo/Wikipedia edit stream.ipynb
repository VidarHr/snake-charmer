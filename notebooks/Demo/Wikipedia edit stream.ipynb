{
 "metadata": {
  "name": "",
  "signature": "sha256:74774ca4d7c9c256ce01240ca35bbb23ade60fe4e6d4c52283eae45e3ffc124b"
 },
 "nbformat": 3,
 "nbformat_minor": 0,
 "worksheets": [
  {
   "cells": [
    {
     "cell_type": "markdown",
     "metadata": {},
     "source": [
      "# Wikipedia edit stream demo\n",
      "\n",
      "A demo of [Snake Charmer](https://github.com/snake-charmer-devs/snake-charmer), originally presented at a [PyData London meetup](http://www.meetup.com/PyData-London-Meetup/) in August 2014, showing:\n",
      "\n",
      "* Reading data from a [WebSockets](https://www.websocket.org/) stream in real time\n",
      "* Pulling this data into [Pandas](http://pandas.pydata.org/) for analysis and visualization\n",
      "* Training a [Vowpal Wabbit](https://github.com/JohnLangford/vowpal_wabbit) language classifier in real time\n",
      "* Visualizing the classifier's behaviour using [Matplotlib](http://matplotlib.org/) and [D3](http://d3js.org/)\n",
      "\n",
      "The demo is designed to be run using Snake Charmer [release a18945d](https://github.com/snake-charmer-devs/snake-charmer/tree/b86184ecd92cd785b443163f6ecef4366548f591) or later.\n",
      "\n",
      "Wikipedia streaming is based on the [stream.py](https://github.com/edsu/wikistream/blob/master/stream.py) script provided with [edsu/wikistream](https://github.com/edsu/wikistream)."
     ]
    },
    {
     "cell_type": "code",
     "collapsed": false,
     "input": [
      "import re\n",
      "import json\n",
      "import time\n",
      "\n",
      "from collections import defaultdict\n",
      "from itertools import chain\n",
      "from requests import post, get\n",
      "\n",
      "from wabbit_wappa import VW\n",
      "\n",
      "import numpy as np\n",
      "\n",
      "import pandas as pd\n",
      "pd.options.display.mpl_style = 'default'\n",
      "\n",
      "import seaborn as sb\n",
      "import matplotlib.pylab as pylab\n",
      "import matplotlib.pyplot as plt\n",
      "pylab.rcParams['figure.figsize'] = (12.0, 8.0)\n",
      "pylab.rcParams['font.family'] = 'Bitstream Vera Sans'"
     ],
     "language": "python",
     "metadata": {},
     "outputs": [],
     "prompt_number": 1
    },
    {
     "cell_type": "markdown",
     "metadata": {},
     "source": [
      "## wikipedia_updates\n",
      "\n",
      "This function talks to the `wikistream` server, which provides push notifications of Wikipedia edits via websockets.\n",
      "\n",
      "Call it with a callback function of your own devising, that takes a single argument. Every time a Wikipedia edit occurs, your callback will be called, with a dict containing the details of the edit, e.g.:\n",
      "\n",
      "```\n",
      "{'flag': '',\n",
      " 'namespace': 'article',\n",
      " 'userUrl': 'http://en.wikipedia.org/wiki/User:137.44.83.167',\n",
      " 'url': 'http://en.wikipedia.org/w/index.php?diff=619400522&oldid=618259633',\n",
      " 'wikipediaLong': 'English Wikipedia',\n",
      " 'wikipediaShort': 'en',\n",
      " 'user': '137.44.83.167',\n",
      " 'comment': '',\n",
      " 'newPage': False,\n",
      " 'pageUrl': 'http://en.wikipedia.org/wiki/Battle_of_Trafalgar',\n",
      " 'unpatrolled': False,\n",
      " 'robot': False,\n",
      " 'anonymous': True,\n",
      " 'delta': 2,\n",
      " 'channel': '#en.wikipedia',\n",
      " 'wikipediaUrl': 'http://en.wikipedia.org',\n",
      " 'wikipedia': 'English Wikipedia',\n",
      " 'page': 'Battle of Trafalgar'}\n",
      "```\n",
      "\n",
      "Your callback should return `True` if it wants to keep receiving edits, or `False` to stop."
     ]
    },
    {
     "cell_type": "code",
     "collapsed": false,
     "input": [
      "def wikipedia_updates(callback):\n",
      "    endpoint = \"http://wikistream.inkdroid.org/socket.io/1\"\n",
      "    session_id = post(endpoint).content.decode('utf-8').split(':')[0]\n",
      "    xhr_endpoint = \"/\".join((endpoint, \"xhr-polling\", session_id))\n",
      "\n",
      "    while True:\n",
      "        t = time.time() * 1000000\n",
      "        response = get(xhr_endpoint, params={'t': t}).content.decode('utf-8')\n",
      "\n",
      "        chunks = re.split(u'\\ufffd[0-9]+\\ufffd', response)\n",
      "        for chunk in chunks:\n",
      "            parts = chunk.split(':', 3)\n",
      "            if len(parts) == 4:\n",
      "                try:\n",
      "                    payload = json.loads(parts[3])['args'][0]\n",
      "                except:\n",
      "                    raise ValueError('Received non-json data: ' + str(parts))\n",
      "                if not callback(payload):\n",
      "                    return"
     ],
     "language": "python",
     "metadata": {},
     "outputs": [],
     "prompt_number": 2
    },
    {
     "cell_type": "markdown",
     "metadata": {},
     "source": [
      "## Watching stream activity in real time\n",
      "\n",
      "This is a callback function that just prints the wiki name, page name and comment. It runs until `max_edits` edits have been received.\n",
      "\n",
      "It also collects the edits into a list called `edits`, for offline analysis later. A `timestamp` field is added to each edit, as they don't have this by default.\n",
      "\n",
      "Run this cell for a demo.\n",
      "\n",
      "### Note\n",
      "\n",
      "If you get an error message about non-json data, wait a few seconds and retry. This seems to be an intermitted problem with the websockets server."
     ]
    },
    {
     "cell_type": "code",
     "collapsed": false,
     "input": [
      "max_edits = 500\n",
      "edits = []\n",
      "\n",
      "reg = re.compile(r'^.*wiki/(.*)')\n",
      "\n",
      "def simple_callback(edit):\n",
      "    wiki_name = edit['wikipediaLong']\n",
      "    page_name = reg.match(edit['pageUrl']).group(1)\n",
      "    comment = edit['comment']\n",
      "    print('\\t'.join((str(len(edits)), wiki_name, page_name, comment)), '\\n', flush=True)\n",
      "    edit['timestamp'] = time.time()\n",
      "    edits.append(edit)\n",
      "    return len(edits) < max_edits\n",
      "\n",
      "wikipedia_updates(simple_callback)"
     ],
     "language": "python",
     "metadata": {},
     "outputs": [
      {
       "output_type": "stream",
       "stream": "stdout",
       "text": [
        "0\tWikidata\tQ17494715\t/* wbcreateclaim-create:1| */ [[Property:P186]]: [[Q4259259]] \n",
        "\n"
       ]
      },
      {
       "output_type": "stream",
       "stream": "stdout",
       "text": [
        "1\tWikidata\tQ17341884\t/* wbsetdescription-add:1|es */ categor\u00eda de Wikimedia \n",
        "\n"
       ]
      },
      {
       "output_type": "stream",
       "stream": "stdout",
       "text": [
        "2\tEnglish Wikipedia\tRaccoon\t/* Health */ \n",
        "\n"
       ]
      },
      {
       "output_type": "stream",
       "stream": "stdout",
       "text": [
        "3\tWikidata\tQ17341884\t/* wbsetdescription-add:1|fr */ page de cat\u00e9gorie d'un projet Wikimedia \n",
        "\n"
       ]
      },
      {
       "output_type": "stream",
       "stream": "stdout",
       "text": [
        "4\tWikimedia Commons\tUser_talk:Nickniola\t[[:File:\u0421\u043d\u0438\u043c\u043e\u043a \u044d\u043a\u0440\u0430\u043d\u0430 2014-05-15 \u0432 0.24.58.png]] has been nominated for deletion \n",
        "\n"
       ]
      },
      {
       "output_type": "stream",
       "stream": "stdout",
       "text": [
        "5\tWikidata\tQ17494715\t/* wbsetqualifier-add:1| */ [[Property:P518]]: [[Q861259]] \n",
        "\n"
       ]
      },
      {
       "output_type": "stream",
       "stream": "stdout",
       "text": [
        "6\tWikidata\tQ17341884\t/* wbsetdescription-add:1|it */ categoria di un progetto Wikimedia \n",
        "\n"
       ]
      },
      {
       "output_type": "stream",
       "stream": "stdout",
       "text": [
        "7\tGerman Wikipedia\tHaiming_(Tirol)\t+Wappen; +Verkehr \n",
        "\n"
       ]
      },
      {
       "output_type": "stream",
       "stream": "stdout",
       "text": [
        "8\tWikimedia Commons\tFile:Cynosurus_echinatus_Inflorescence_DehesaBoyaldePuertollano.jpg\tBot: [[Com:IntRegex|Internationalisation]]. \n",
        "\n"
       ]
      },
      {
       "output_type": "stream",
       "stream": "stdout",
       "text": [
        "9\tWikidata\tQ3097882\t/* wbsetlabel-add:1|nl */ station Tolga \n",
        "\n"
       ]
      },
      {
       "output_type": "stream",
       "stream": "stdout",
       "text": [
        "10\tWikimedia Commons\tCategory:Detroit_Masonic_Temple\tredundant category deleted \n",
        "\n"
       ]
      },
      {
       "output_type": "stream",
       "stream": "stdout",
       "text": [
        "11\tWikidata\tQ17341884\t/* wbsetdescription-add:1|pt */ categoria de um projeto da Wikimedia \n",
        "\n"
       ]
      },
      {
       "output_type": "stream",
       "stream": "stdout",
       "text": [
        "12\tFrench Wikipedia\tProjet:Monde_germanique/\u00c9valuation/Historique\tMise \u00e0 jour de l'historique des \u00e9valuations du projet [[Projet:Monde germanique/\u00c9valuation|Monde germanique]] \n",
        "\n"
       ]
      },
      {
       "output_type": "stream",
       "stream": "stdout",
       "text": [
        "13\tArabic Wikipedia\t\u0631\u0645\u0627\u0646\u0629_(\u0645\u0645\u062b\u0644\u0629)\t\u0623\u0646\u0634\u0623 \u0627\u0644\u0635\u0641\u062d\u0629 \u0628'{{\u0645\u0639\u0644\u0648\u0645\u0627\u062a \u0645\u0645\u062b\u0644 \u0639\u0631\u0628\u064a | \u0627\u0644\u0627\u0633\u0645              = \u0631\u0645\u0627\u0646\u0629 | \u0635\u0648\u0631\u0629              =  | \u0627\u0633\u0645 \u0627\u0644\u0648\u0644\u0627\u062f\u0629        = \u0633\u0644\u064a\u0645\u0629 \u0646\u0627\u062c\u064a \u0641\u062a\u062d\u064a | \u0627\u0644...' \n",
        "\n"
       ]
      },
      {
       "output_type": "stream",
       "stream": "stdout",
       "text": [
        "14\tEnglish Wikipedia\tStagecoach_bus_route_555\t/* Route */ \n",
        "\n"
       ]
      },
      {
       "output_type": "stream",
       "stream": "stdout",
       "text": [
        "15\tRomanian Wikipedia\tSpecial:Log/thanks\tXXN i-a mul\u021bumit utilizatorului Angelovlad \n",
        "\n"
       ]
      },
      {
       "output_type": "stream",
       "stream": "stdout",
       "text": [
        "16\tWikidata\tQ2852862\t/* wbsetdescription-add:1|fa */ Auto-description for Persian \n",
        "\n"
       ]
      },
      {
       "output_type": "stream",
       "stream": "stdout",
       "text": [
        "17\tWikidata\tQ17494718\t/* wbcreateclaim-create:1| */ [[Property:P186]]: [[Q296955]] \n",
        "\n"
       ]
      },
      {
       "output_type": "stream",
       "stream": "stdout",
       "text": [
        "18\tEnglish Wikipedia\tSpecial:Log/newusers\tnew user account \n",
        "\n"
       ]
      },
      {
       "output_type": "stream",
       "stream": "stdout",
       "text": [
        "19\tWikidata\tQ17341884\t/* wbsetdescription-add:1|ru */ \u043a\u0430\u0442\u0435\u0433\u043e\u0440\u0438\u044f \u0432 \u043f\u0440\u043e\u0435\u043a\u0442\u0435 \u0412\u0438\u043a\u0438\u043c\u0435\u0434\u0438\u0430 \n",
        "\n"
       ]
      },
      {
       "output_type": "stream",
       "stream": "stdout",
       "text": [
        "20\tSpanish Wikipedia\tYoshie_Takeshita\tautotrad \n",
        "\n"
       ]
      },
      {
       "output_type": "stream",
       "stream": "stdout",
       "text": [
        "21\tWikimedia Commons\tCategory:Weapons_in_C\u00f3rdoba,_Spain\tadded [[Category:Objects in C\u00f3rdoba, Spain]] using [[Help:Gadget-HotCat|HotCat]] \n",
        "\n"
       ]
      },
      {
       "output_type": "stream",
       "stream": "stdout",
       "text": [
        "22\tEnglish Wikipedia\tShaynna_Blaze\tcaption \n",
        "\n"
       ]
      },
      {
       "output_type": "stream",
       "stream": "stdout",
       "text": [
        "23\tEnglish Wikipedia\tList_of_Big_Brother_15_housemates_(UK)\t \n",
        "\n"
       ]
      },
      {
       "output_type": "stream",
       "stream": "stdout",
       "text": [
        "24\tFrench Wikipedia\tChampionnat_d'Alg\u00e9rie_de_handball\t \n",
        "\n"
       ]
      },
      {
       "output_type": "stream",
       "stream": "stdout",
       "text": [
        "25\tEnglish Wikipedia\tUser:Shield187/sandbox\t/* 2000 */ \n",
        "\n"
       ]
      },
      {
       "output_type": "stream",
       "stream": "stdout",
       "text": [
        "26\tArabic Wikipedia\t\u0627\u0644\u062f\u0648\u0645_\u0643\u0644\u0648\u062f_\u0641\u0631\u0648\u0644\u0648\t\u0631\u0628\u0648\u062a [[\u0645\u0633\u062a\u062e\u062f\u0645:Elph/\u0627\u0644\u062a\u0635\u0627\u0646\u06cc\u0641 \u0627\u0644\u0645\u0639\u0627\u062f\u0644\u0629#\u0662\u0665|\u0627\u0644\u062a\u0635\u0627\u0646\u064a\u0641 \u0627\u0644\u0645\u0639\u0627\u062f\u0644\u0629 (\u0662\u0665)]] +\u062a\u0631\u062a\u064a\u0628 (\u06f8.\u06f6): + [[\u062a\u0635\u0646\u064a\u0641:\u0627\u062e\u062a\u0631\u0627\u0639\u0627\u062a 1996]]+[[\u062a\u0635\u0646\u064a\u0641:\u0634\u062e\u0635\u064a\u0627\u062a \u062e\u064a\u0627\u0644\u064a\u0629 \u0638\u0647\u0631\u062a \u0641\u064a 1996]] \n",
        "\n"
       ]
      },
      {
       "output_type": "stream",
       "stream": "stdout",
       "text": [
        "27\tWikimedia Commons\tFile:Yak-18t_RA-1411K_(5758261026).jpg\tremoved [[Category:Unidentified aircraft]]; added [[Category:Yakovlev Yak-18T]] using [[Help:Gadget-HotCat|HotCat]] \n",
        "\n"
       ]
      },
      {
       "output_type": "stream",
       "stream": "stdout",
       "text": [
        "28\tItalian Wikipedia\tBoston_Consulting_Group\tUsiamo l'aggettivo di nazionalit\u00e0 corretto... \n",
        "\n"
       ]
      },
      {
       "output_type": "stream",
       "stream": "stdout",
       "text": [
        "29\tPortuguese Wikipedia\tEspecial:Log/patrol\tmarcou a revision 39781185 da p\u00e1gina [[\u000302Stylommatophora\u000310]] como verificada  \n",
        "\n"
       ]
      },
      {
       "output_type": "stream",
       "stream": "stdout",
       "text": [
        "30\tWikidata\tQ17341882\t/* wbcreateclaim-create:1| */ [[Property:P31]]: [[Q4167836]] \n",
        "\n"
       ]
      },
      {
       "output_type": "stream",
       "stream": "stdout",
       "text": [
        "31\tHebrew Wikipedia\t\u05e9\u05d9\u05d7\u05ea_\u05de\u05e9\u05ea\u05de\u05e9:\u05d2\u05d0\u05e8\u05e4\u05d9\u05dc\u05d3\t/* \u05de\u05dc\u05da \u05d4\u05d0\u05e8\u05d9\u05d5\u05ea */ \n",
        "\n"
       ]
      },
      {
       "output_type": "stream",
       "stream": "stdout",
       "text": [
        "32\tWikidata\tQ17494718\t/* wbcreateclaim-create:1| */ [[Property:P186]]: [[Q4259259]] \n",
        "\n"
       ]
      },
      {
       "output_type": "stream",
       "stream": "stdout",
       "text": [
        "33\tRussian Wikipedia\tOvosoma\t\u043e\u0440\u0444\u043e\u0433\u0440\u0430\u0444\u0438\u044f \n",
        "\n"
       ]
      },
      {
       "output_type": "stream",
       "stream": "stdout",
       "text": [
        "34\tSpanish Wikipedia\tSupercopa_de_Europa_2014\t \n",
        "\n"
       ]
      },
      {
       "output_type": "stream",
       "stream": "stdout",
       "text": [
        "35\tEnglish Wikipedia\tSykehouse\tadd material which had been added to [[Agricultural shows]] where it wasn't appropriate to have so much info - see copied template on talk page \n",
        "\n"
       ]
      },
      {
       "output_type": "stream",
       "stream": "stdout",
       "text": [
        "36\tNorwegian Wikipedia\tShaqlawa\tNy side: [[Fil:A (490).JPG|thumb|250px|Shaqlawa]] '''Shaqlawa''' ([[kurdisk]]: \u015eeqlawe, \u0634\u06d5\u0642\u06b5\u0627\u0648\u06d5 , [[syrisk]]: <big><big>\u072b\u0729\u0720\u0712\u0715</big></big>, [[arabisk]]: \u0634\u0642\u0644\u0627\u0648\u0629 ) er en stad i gu... \n",
        "\n"
       ]
      },
      {
       "output_type": "stream",
       "stream": "stdout",
       "text": [
        "37\tEnglish Wikipedia\tOrthogonius_baumi\t/* References */clean up, change cat using [[Project:AWB|AWB]] \n",
        "\n"
       ]
      },
      {
       "output_type": "stream",
       "stream": "stdout",
       "text": [
        "38\tWikidata\tQ58021\t/* wbcreateclaim-create:1| */ [[Property:P106]]: [[Q13382519]] \n",
        "\n"
       ]
      },
      {
       "output_type": "stream",
       "stream": "stdout",
       "text": [
        "39\tWikimedia Commons\tFile:Cynosurus_echinatus_N.jpg\tBot: [[Com:IntRegex|Internationalisation]]. Grouping categories at the bottom. \n",
        "\n"
       ]
      },
      {
       "output_type": "stream",
       "stream": "stdout",
       "text": [
        "40\tWikimedia Commons\tSpecial:Log/move\tmoved [[\u000302File:- Woodside Hall, Main Street, Middlefield Township, Cooperstown, Otsego County, NY HABS NY,39-COOP,11-2.tif\u000310]] to [[File:Woodside Hall, Main Street, Middlefield Township, Cooperstown, Otsego County, NY HABS NY,39-COOP,11-2.tif]]: more meaningful name -  ->  \n",
        "\n"
       ]
      },
      {
       "output_type": "stream",
       "stream": "stdout",
       "text": [
        "41\tWikidata\tQ17341882\t/* wbsetdescription-add:1|de */ Wikimedia-Kategorie \n",
        "\n"
       ]
      },
      {
       "output_type": "stream",
       "stream": "stdout",
       "text": [
        "42\tWikidata\tQ17494718\t/* wbsetqualifier-add:1| */ [[Property:P518]]: [[Q861259]] \n",
        "\n"
       ]
      },
      {
       "output_type": "stream",
       "stream": "stdout",
       "text": [
        "43\tGerman Wikipedia\tAngus_T._Jones\t \n",
        "\n"
       ]
      },
      {
       "output_type": "stream",
       "stream": "stdout",
       "text": [
        "44\tEnglish Wikipedia\tSpecial:Log/newusers\tnew user account \n",
        "\n"
       ]
      },
      {
       "output_type": "stream",
       "stream": "stdout",
       "text": [
        "45\tEnglish Wikipedia\tSpecial:Log/delete\tdeleted \"[[\u000302Brick Casey\u000310]]\": [[WP:CSD#G4|G4]]: Recreation of a page that was [[WP:DEL|deleted]] per a [[WP:XFD|deletion discussion]] \n",
        "\n"
       ]
      },
      {
       "output_type": "stream",
       "stream": "stdout",
       "text": [
        "46\tEnglish Wikipedia\tUser_talk:\u0622\u0630\u0631_\u0641\u0631\u0646\u0628\u063a\tWelcome to Wikipedia! ([[WP:TW|TW]]) \n",
        "\n"
       ]
      },
      {
       "output_type": "stream",
       "stream": "stdout",
       "text": [
        "47\tEnglish Wikipedia\tCancer\t/* Dietary */ Hyphenated \"meta-analysis\" \n",
        "\n"
       ]
      },
      {
       "output_type": "stream",
       "stream": "stdout",
       "text": [
        "48\tWikidata\tQ17341882\t/* wbsetdescription-add:1|en */ Wikimedia category page \n",
        "\n"
       ]
      },
      {
       "output_type": "stream",
       "stream": "stdout",
       "text": [
        "49\tEnglish Wikipedia\tWilliam_Joyce\t/* Lord Haw-Haw */ df \n",
        "\n"
       ]
      },
      {
       "output_type": "stream",
       "stream": "stdout",
       "text": [
        "50\tFrench Wikipedia\tMod\u00e8le:R\u00e9f\u00e9rences/Documentation\t/* En cas d'utilisations multiples du mod\u00e8le */ [[Discussion mod\u00e8le:R\u00e9f\u00e9rences#Am\u00e9lioration \u00e0 venir|obsol\u00e8te]] \n",
        "\n"
       ]
      },
      {
       "output_type": "stream",
       "stream": "stdout",
       "text": [
        "51\tPolish Wikipedia\tPortal:Tenis_ziemny/Reprezentanci_Polski\tdrobne techniczne \n",
        "\n"
       ]
      },
      {
       "output_type": "stream",
       "stream": "stdout",
       "text": [
        "52\tWikimedia Commons\tSpecial:Log/upload\tuploaded \"[[\u000302File:Parla 09.jpg\u000310]]\": User created page with UploadWizard \n",
        "\n"
       ]
      },
      {
       "output_type": "stream",
       "stream": "stdout",
       "text": [
        "53\tWikidata\tQ17494720\t/* wbcreateclaim-create:1| */ [[Property:P186]]: [[Q296955]] \n",
        "\n"
       ]
      },
      {
       "output_type": "stream",
       "stream": "stdout",
       "text": [
        "54\tWikimedia Commons\tSpecial:Log/upload\tuploaded \"[[\u000302File:Parla 07.jpg\u000310]]\": User created page with UploadWizard \n",
        "\n"
       ]
      },
      {
       "output_type": "stream",
       "stream": "stdout",
       "text": [
        "55\tWikimedia Commons\tSpecial:Log/upload\tuploaded \"[[\u000302File:Parla 08.jpg\u000310]]\": User created page with UploadWizard \n",
        "\n"
       ]
      },
      {
       "output_type": "stream",
       "stream": "stdout",
       "text": [
        "56\tPolish Wikipedia\tNied\u017awiedzice_(Bia\u0142oru\u015b)\tkat., drobne redakcyjne, drobne merytoryczne, linki zewn\u0119trzne \n",
        "\n"
       ]
      },
      {
       "output_type": "stream",
       "stream": "stdout",
       "text": [
        "57\tWikidata\tQ17341882\t/* wbsetdescription-add:1|es */ categor\u00eda de Wikimedia \n",
        "\n"
       ]
      },
      {
       "output_type": "stream",
       "stream": "stdout",
       "text": [
        "58\tEnglish Wikipedia\tWikipedia_talk:PAGENAME\tadd {{Old RFD}} \n",
        "\n"
       ]
      },
      {
       "output_type": "stream",
       "stream": "stdout",
       "text": [
        "59\tGerman Wikipedia\tPascal_Ojigwe\tlf \n",
        "\n"
       ]
      },
      {
       "output_type": "stream",
       "stream": "stdout",
       "text": [
        "60\tWikidata\tQ2852866\t/* wbsetdescription-add:1|fa */ Auto-description for Persian \n",
        "\n"
       ]
      },
      {
       "output_type": "stream",
       "stream": "stdout",
       "text": [
        "61\tSpanish Wikipedia\tRyan_Sheckler\t \n",
        "\n"
       ]
      },
      {
       "output_type": "stream",
       "stream": "stdout",
       "text": [
        "62\tTurkish Wikipedia\t\u015eablon:Boston_Celtics_mevcut_kadrosu\t \n",
        "\n"
       ]
      },
      {
       "output_type": "stream",
       "stream": "stdout",
       "text": [
        "63\tWikidata\tQ17341882\t/* wbsetdescription-add:1|fr */ page de cat\u00e9gorie d'un projet Wikimedia \n",
        "\n"
       ]
      },
      {
       "output_type": "stream",
       "stream": "stdout",
       "text": [
        "64\tPortuguese Wikipedia\tEspecial:Log/patrol\tmarcou a revision 39781176 da p\u00e1gina [[\u000302Papiro 89\u000310]] como verificada  \n",
        "\n"
       ]
      },
      {
       "output_type": "stream",
       "stream": "stdout",
       "text": [
        "65\tWikidata\tQ17494720\t/* wbcreateclaim-create:1| */ [[Property:P186]]: [[Q4259259]] \n",
        "\n"
       ]
      },
      {
       "output_type": "stream",
       "stream": "stdout",
       "text": [
        "66\tWikidata\tQ17341882\t/* wbsetdescription-add:1|it */ categoria di un progetto Wikimedia \n",
        "\n"
       ]
      },
      {
       "output_type": "stream",
       "stream": "stdout",
       "text": [
        "67\tWikimedia Commons\tSpecial:Log/upload\tuploaded \"[[\u000302File:Parla 12.jpg\u000310]]\": User created page with UploadWizard \n",
        "\n"
       ]
      },
      {
       "output_type": "stream",
       "stream": "stdout",
       "text": [
        "68\tGerman Wikipedia\tAnna_Halasz\tneue Seite \n",
        "\n"
       ]
      },
      {
       "output_type": "stream",
       "stream": "stdout",
       "text": [
        "69\tEnglish Wikipedia\tRicoh_Arena\tNew tennants \n",
        "\n"
       ]
      },
      {
       "output_type": "stream",
       "stream": "stdout",
       "text": [
        "70\tEnglish Wikipedia\tHomburg,_Saarland\t \n",
        "\n"
       ]
      },
      {
       "output_type": "stream",
       "stream": "stdout",
       "text": [
        "71\tEnglish Wikipedia\tPiezoelectricity\tcomment on PbTiO3 occurring in nature but being used as synthetic material \n",
        "\n"
       ]
      },
      {
       "output_type": "stream",
       "stream": "stdout",
       "text": [
        "72\tSpanish Wikipedia\tCebreros\t \n",
        "\n"
       ]
      },
      {
       "output_type": "stream",
       "stream": "stdout",
       "text": [
        "73\tWikimedia Commons\tSpecial:Log/upload\tuploaded \"[[\u000302File:Parla 10.jpg\u000310]]\": User created page with UploadWizard \n",
        "\n"
       ]
      },
      {
       "output_type": "stream",
       "stream": "stdout",
       "text": [
        "74\tEnglish Wikipedia\tSalsa_music\t \n",
        "\n"
       ]
      },
      {
       "output_type": "stream",
       "stream": "stdout",
       "text": [
        "75\tEnglish Wikipedia\tKOLO-TV\t \n",
        "\n"
       ]
      },
      {
       "output_type": "stream",
       "stream": "stdout",
       "text": [
        "76\tWikidata\tQ17494720\t/* wbsetqualifier-add:1| */ [[Property:P518]]: [[Q861259]] \n",
        "\n"
       ]
      },
      {
       "output_type": "stream",
       "stream": "stdout",
       "text": [
        "77\tGerman Wikipedia\tBenutzer_Diskussion:JonnyBrazil\tNeuer Abschnitt /* Ausrufer \u2013 33. Woche */ \n",
        "\n"
       ]
      },
      {
       "output_type": "stream",
       "stream": "stdout",
       "text": [
        "78\tBulgarian Wikipedia\t\u0413\u0415\u0420\u0411\t\u0434\u043e\u0443\u043f\u0440\u0430\u0432\u044f\u043d\u0435 \n",
        "\n"
       ]
      },
      {
       "output_type": "stream",
       "stream": "stdout",
       "text": [
        "79\tWikimedia Commons\tSpecial:Log/upload\tuploaded \"[[\u000302File:Parla 11.jpg\u000310]]\": User created page with UploadWizard \n",
        "\n"
       ]
      },
      {
       "output_type": "stream",
       "stream": "stdout",
       "text": [
        "80\tWikidata\tQ17341882\t/* wbsetdescription-add:1|pt */ categoria de um projeto da Wikimedia \n",
        "\n"
       ]
      },
      {
       "output_type": "stream",
       "stream": "stdout",
       "text": [
        "81\tEnglish Wikipedia\t2014_ABL_season\tUpdated standings and results through Aug 10 \n",
        "\n"
       ]
      },
      {
       "output_type": "stream",
       "stream": "stdout",
       "text": [
        "82\tEnglish Wikipedia\tWonder_Where_Stakes\t/* Winners */ \n",
        "\n"
       ]
      },
      {
       "output_type": "stream",
       "stream": "stdout",
       "text": [
        "83\tEnglish Wikipedia\tA._J._Allmendinger\t/* 2014 */ \n",
        "\n"
       ]
      },
      {
       "output_type": "stream",
       "stream": "stdout",
       "text": [
        "84\tEnglish Wikipedia\tWikipedia:Articles_for_deletion/Log/2014_August_10\tRelisting [[Wikipedia:Articles for deletion/Mikkel Hess]] \n",
        "\n"
       ]
      },
      {
       "output_type": "stream",
       "stream": "stdout",
       "text": [
        "85\tEnglish Wikipedia\tSyrian_Civil_War\t/* Renewed Government Offensive */ \n",
        "\n"
       ]
      },
      {
       "output_type": "stream",
       "stream": "stdout",
       "text": [
        "86\tWikimedia Commons\tFile:Special_participant_on_CIAF_2010_in_Hradec_Kralove.jpg\tremoved [[Category:Hradec Kr\u00e1lov\u00e9]]; added [[Category:Hradec Kr\u00e1lov\u00e9 airport]] using [[Help:Gadget-HotCat|HotCat]] \n",
        "\n"
       ]
      },
      {
       "output_type": "stream",
       "stream": "stdout",
       "text": [
        "87\tEnglish Wikipedia\tYannick_Ferreira_Carrasco\t \n",
        "\n"
       ]
      },
      {
       "output_type": "stream",
       "stream": "stdout",
       "text": [
        "88\tWikidata\tQ17341882\t/* wbsetdescription-add:1|ru */ \u043a\u0430\u0442\u0435\u0433\u043e\u0440\u0438\u044f \u0432 \u043f\u0440\u043e\u0435\u043a\u0442\u0435 \u0412\u0438\u043a\u0438\u043c\u0435\u0434\u0438\u0430 \n",
        "\n"
       ]
      },
      {
       "output_type": "stream",
       "stream": "stdout",
       "text": [
        "89\tWikidata\tQ17494721\t/* wbcreateclaim-create:1| */ [[Property:P186]]: [[Q296955]] \n",
        "\n"
       ]
      },
      {
       "output_type": "stream",
       "stream": "stdout",
       "text": [
        "90\tEnglish Wikipedia\tHarry_Bailey_House\tFormatting, wiki links \n",
        "\n"
       ]
      },
      {
       "output_type": "stream",
       "stream": "stdout",
       "text": [
        "91\tEnglish Wikipedia\tList_of_public_art_in_Copenhagen\t/* City Centre */ \n",
        "\n"
       ]
      },
      {
       "output_type": "stream",
       "stream": "stdout",
       "text": [
        "92\tWikimedia Commons\tFile:Cynosurusechinatus.jpg\tBot: [[Com:IntRegex|Internationalisation]]. \n",
        "\n"
       ]
      },
      {
       "output_type": "stream",
       "stream": "stdout",
       "text": [
        "93\tEnglish Wikipedia\tMid-Atlantic_Women's_Hockey_League\tsp, caps, date fmt \n",
        "\n"
       ]
      },
      {
       "output_type": "stream",
       "stream": "stdout",
       "text": [
        "94\tWikimedia Commons\tSpecial:Log/upload\tuploaded \"[[\u000302File:Jeungpyeong Bus Terminal.JPG\u000310]]\": {{Information |Description    ={{ko|1=\ucda9\uccad\ubd81\ub3c4 \uc99d\ud3c9\uad70\uc5d0 \uc788\ub294 \uc99d\ud3c9\ubc84\uc2a4\ud130\ubbf8\ub110}} {{ja|1=\u5fe0\u6e05\u5317\u9053\u66fd\u576a\u90e1\u306b\u3042\u308b\u66fd\u576a\u30d0\u30b9\u30bf\u30fc\u30df\u30ca\u30eb}} |Source         ={{own}} |Author         =[[User:Hyolee2|hyolee2]] |Date           = |Perm... \n",
        "\n"
       ]
      },
      {
       "output_type": "stream",
       "stream": "stdout",
       "text": [
        "95\tEnglish Wikipedia\tWikipedia:Articles_for_deletion/Pembe_Candaner\tRelisting debate \n",
        "\n"
       ]
      },
      {
       "output_type": "stream",
       "stream": "stdout",
       "text": [
        "96\tSpanish Wikipedia\tManuel_Rodr\u00edguez_(telenovela)\t \n",
        "\n"
       ]
      },
      {
       "output_type": "stream",
       "stream": "stdout",
       "text": [
        "97\tWikimedia Commons\tSpecial:Log/upload\tuploaded \"[[\u000302File:Parla 13.jpg\u000310]]\": User created page with UploadWizard \n",
        "\n"
       ]
      },
      {
       "output_type": "stream",
       "stream": "stdout",
       "text": [
        "98\tWikidata\tQ17494721\t/* wbcreateclaim-create:1| */ [[Property:P186]]: [[Q389782]] \n",
        "\n"
       ]
      },
      {
       "output_type": "stream",
       "stream": "stdout",
       "text": [
        "99\tWikidata\tQ2852880\t/* wbsetdescription-add:1|fa */ Auto-description for Persian \n",
        "\n"
       ]
      },
      {
       "output_type": "stream",
       "stream": "stdout",
       "text": [
        "100\tWikidata\tQ17341881\t/* wbcreateclaim-create:1| */ [[Property:P31]]: [[Q4167836]] \n",
        "\n"
       ]
      },
      {
       "output_type": "stream",
       "stream": "stdout",
       "text": [
        "101\tEnglish Wikipedia\tTalk:Podemos_(Spanish_political_party)\t/* label */ \n",
        "\n"
       ]
      },
      {
       "output_type": "stream",
       "stream": "stdout",
       "text": [
        "102\tWikimedia Commons\tSpecial:Log/upload\tuploaded \"[[\u000302File:Parla 15.jpg\u000310]]\": User created page with UploadWizard \n",
        "\n"
       ]
      },
      {
       "output_type": "stream",
       "stream": "stdout",
       "text": [
        "103\tWikimedia Commons\tSpecial:Log/upload\tuploaded \"[[\u000302File:Parla 14.jpg\u000310]]\": User created page with UploadWizard \n",
        "\n"
       ]
      },
      {
       "output_type": "stream",
       "stream": "stdout",
       "text": [
        "104\tEnglish Wikipedia\tRobert_Vaughn\t/* Television */ Added credit. \n",
        "\n"
       ]
      },
      {
       "output_type": "stream",
       "stream": "stdout",
       "text": [
        "105\tFrench Wikipedia\tGary_M._Heidnik\t/* \u00c2ge adulte */ \n",
        "\n"
       ]
      },
      {
       "output_type": "stream",
       "stream": "stdout",
       "text": [
        "106\tEnglish Wikipedia\tWikipedia:Articles_for_deletion/Log/2014_August_3\tRelisting [[Wikipedia:Articles for deletion/Mikkel Hess]] \n",
        "\n"
       ]
      },
      {
       "output_type": "stream",
       "stream": "stdout",
       "text": [
        "107\tWikidata\tQ17494721\t/* wbsetqualifier-add:1| */ [[Property:P518]]: [[Q861259]] \n",
        "\n"
       ]
      },
      {
       "output_type": "stream",
       "stream": "stdout",
       "text": [
        "108\tEnglish Wikipedia\tDave_Melton\tadded [[Category:People from Pampa, Texas]] using [[WP:HC|HotCat]] \n",
        "\n"
       ]
      },
      {
       "output_type": "stream",
       "stream": "stdout",
       "text": [
        "109\tPortuguese Wikipedia\tEspecial:Log/patrol\tmarcou a revision 39781174 da p\u00e1gina [[\u000302Panzerschreck\u000310]] como verificada  \n",
        "\n"
       ]
      },
      {
       "output_type": "stream",
       "stream": "stdout",
       "text": [
        "110\tWikidata\tQ17341881\t/* wbsetdescription-add:1|de */ Wikimedia-Kategorie \n",
        "\n"
       ]
      },
      {
       "output_type": "stream",
       "stream": "stdout",
       "text": [
        "111\tEnglish Wikipedia\tAleksander_Waleria\u0144czyk\t \n",
        "\n"
       ]
      },
      {
       "output_type": "stream",
       "stream": "stdout",
       "text": [
        "112\tFrench Wikipedia\tInt\u00e9gration_de_la_R\u00e9publique_d\u00e9mocratique_allemande_dans_la_Communaut\u00e9_\u00e9conomique_europ\u00e9enne\t/* R\u00f4le de la CEE dans la r\u00e9unification */ \n",
        "\n"
       ]
      },
      {
       "output_type": "stream",
       "stream": "stdout",
       "text": [
        "113\tEnglish Wikipedia\tUser:Wozza20/sandbox\t/* Chaka Khan */ \n",
        "\n"
       ]
      },
      {
       "output_type": "stream",
       "stream": "stdout",
       "text": [
        "114\tWikidata\tQ17341881\t/* wbsetdescription-add:1|en */ Wikimedia category page \n",
        "\n"
       ]
      },
      {
       "output_type": "stream",
       "stream": "stdout",
       "text": [
        "115\tEnglish Wikipedia\tWikipedia:Department_of_Fun/Word_Association/Disassociation\t/* Branch word: \"Monty Python's Flying Circus\" */ [[Neurodegeneration]] \n",
        "\n"
       ]
      },
      {
       "output_type": "stream",
       "stream": "stdout",
       "text": [
        "116\tWikidata\tQ17494723\t/* wbcreateclaim-create:1| */ [[Property:P186]]: [[Q296955]] \n",
        "\n"
       ]
      },
      {
       "output_type": "stream",
       "stream": "stdout",
       "text": [
        "117\tKorean Wikipedia\t\uc8e0_\uce7c\uc790\uac8c\t[[\uc870 \uce7c\uc790\uac8c]] \ubb38\uc11c\ub85c \ub118\uaca8\uc8fc\uae30 \n",
        "\n"
       ]
      },
      {
       "output_type": "stream",
       "stream": "stdout",
       "text": [
        "118\tWikimedia Commons\tSpecial:Log/upload\tuploaded \"[[\u000302File:Parla 16.jpg\u000310]]\": User created page with UploadWizard \n",
        "\n"
       ]
      },
      {
       "output_type": "stream",
       "stream": "stdout",
       "text": [
        "119\tJapanese Wikipedia\t\u30a2\u30c6\u30cd\u30aa\u30ea\u30f3\u30d4\u30c3\u30af\u91ce\u7403\u65e5\u672c\u4ee3\u8868\t/* \u58ee\u884c\u8a66\u5408\u30e1\u30f3\u30d0\u30fc */ \u793e\u4f1a\u4eba\u9078\u624b\u6240\u5c5e\u5148\u30922004\u5e74\u6642\u70b9\u306e\u3082\u306e\u306b\u4fee\u6b63 \n",
        "\n"
       ]
      },
      {
       "output_type": "stream",
       "stream": "stdout",
       "text": [
        "120\tWikidata\tQ17341881\t/* wbsetdescription-add:1|es */ categor\u00eda de Wikimedia \n",
        "\n"
       ]
      },
      {
       "output_type": "stream",
       "stream": "stdout",
       "text": [
        "121\tEnglish Wikipedia\tUser_talk:Helenwoodsageis34\t/* August 2014 */ \n",
        "\n"
       ]
      },
      {
       "output_type": "stream",
       "stream": "stdout",
       "text": [
        "122\tEnglish Wikipedia\tOxycoleus_brasiliensis\t/* References */clean up, change cat using [[Project:AWB|AWB]] \n",
        "\n"
       ]
      },
      {
       "output_type": "stream",
       "stream": "stdout",
       "text": [
        "123\tHebrew Wikipedia\t\u05e9\u05d9\u05d7\u05ea_\u05de\u05e9\u05ea\u05de\u05e9:\u05d0\u05d3\u05dd_\u05de\u05d4\t/* \u05e1\u05d8\u05d8\u05d9\u05e1\u05d8\u05d9\u05e7\u05d4 */ \n",
        "\n"
       ]
      },
      {
       "output_type": "stream",
       "stream": "stdout",
       "text": [
        "124\tWikidata\tQ17494723\t/* wbcreateclaim-create:1| */ [[Property:P186]]: [[Q4259259]] \n",
        "\n"
       ]
      },
      {
       "output_type": "stream",
       "stream": "stdout",
       "text": [
        "125\tWikimedia Commons\tSpecial:Log/upload\tuploaded \"[[\u000302File:Parla 17.jpg\u000310]]\": User created page with UploadWizard \n",
        "\n"
       ]
      },
      {
       "output_type": "stream",
       "stream": "stdout",
       "text": [
        "126\tPolish Wikipedia\tNGC_7689\t[[WP:SK]], koordynaty, drobne redakcyjne \n",
        "\n"
       ]
      },
      {
       "output_type": "stream",
       "stream": "stdout",
       "text": [
        "127\tFrench Wikipedia\tProjet:Monde_germanique/\u00c9valuation/Index/9\tMise \u00e0 jour de la liste des articles \u00e9valu\u00e9s du projet [[Projet:Monde germanique/\u00c9valuation|Monde germanique]] \n",
        "\n"
       ]
      },
      {
       "output_type": "stream",
       "stream": "stdout",
       "text": [
        "128\tWikidata\tQ17341881\t/* wbsetdescription-add:1|fr */ page de cat\u00e9gorie d'un projet Wikimedia \n",
        "\n"
       ]
      },
      {
       "output_type": "stream",
       "stream": "stdout",
       "text": [
        "129\tWikidata\tQ242496\t/* wbcreateclaim-create:1| */ [[Property:P106]]: [[Q13382519]] \n",
        "\n"
       ]
      },
      {
       "output_type": "stream",
       "stream": "stdout",
       "text": [
        "130\tWikidata\tQ2852881\t/* wbsetdescription-add:1|fa */ Auto-description for Persian \n",
        "\n"
       ]
      },
      {
       "output_type": "stream",
       "stream": "stdout",
       "text": [
        "131\tEnglish Wikipedia\tMinor_characters_on_Frasier\t/* Candi Mosses */ \n",
        "\n"
       ]
      },
      {
       "output_type": "stream",
       "stream": "stdout",
       "text": [
        "132\tSpanish Wikipedia\tAnexo:Episodios_de_Los_Pitufos\t/* Tercera Temporada */ \n",
        "\n"
       ]
      },
      {
       "output_type": "stream",
       "stream": "stdout",
       "text": [
        "133\tEnglish Wikipedia\tList_of_Big_Brother_15_housemates_(UK)\tReverted edits by [[Special:Contribs/Helenwoodsageis34|Helenwoodsageis34]] ([[User talk:Helenwoodsageis34|talk]]) to last version by C.Fred \n",
        "\n"
       ]
      },
      {
       "output_type": "stream",
       "stream": "stdout",
       "text": [
        "134\tWikidata\tQ17341881\t/* wbsetdescription-add:1|it */ categoria di un progetto Wikimedia \n",
        "\n"
       ]
      },
      {
       "output_type": "stream",
       "stream": "stdout",
       "text": [
        "135\tWikidata\tQ17494723\t/* wbsetqualifier-add:1| */ [[Property:P518]]: [[Q861259]] \n",
        "\n"
       ]
      },
      {
       "output_type": "stream",
       "stream": "stdout",
       "text": [
        "136\tPortuguese Wikipedia\tEspecial:Log/patrol\tmarcou a revision 39781171 da p\u00e1gina [[\u000302Paleogen\u00e9tica\u000310]] como verificada  \n",
        "\n"
       ]
      },
      {
       "output_type": "stream",
       "stream": "stdout",
       "text": [
        "137\tWikidata\tQ17341881\t/* wbsetdescription-add:1|pt */ categoria de um projeto da Wikimedia \n",
        "\n"
       ]
      },
      {
       "output_type": "stream",
       "stream": "stdout",
       "text": [
        "138\tCatalan Wikipedia\tTemporada_2000-2001_de_l'EC_Granollers\t/* Plantilla */ \n",
        "\n"
       ]
      },
      {
       "output_type": "stream",
       "stream": "stdout",
       "text": [
        "139\tGerman Wikipedia\t\u00dcberfall_auf_Sundsvall\t/* Die Folgen */ \n",
        "\n"
       ]
      },
      {
       "output_type": "stream",
       "stream": "stdout",
       "text": [
        "140\tEnglish Wikipedia\tMyrtle_Beach,_South_Carolina\t/* Tourism */ Added recent images [[:File:Myrtle-Beach-SC-0799.jpg]] and [[:File:Myrtle-Beach-SC-0836.jpg]] \n",
        "\n"
       ]
      },
      {
       "output_type": "stream",
       "stream": "stdout",
       "text": [
        "141\tFrench Wikipedia\tMassif_du_Montaiguet\tlocalisation sur carte \n",
        "\n"
       ]
      },
      {
       "output_type": "stream",
       "stream": "stdout",
       "text": [
        "142\tWikidata\tQ17341881\t/* wbsetdescription-add:1|ru */ \u043a\u0430\u0442\u0435\u0433\u043e\u0440\u0438\u044f \u0432 \u043f\u0440\u043e\u0435\u043a\u0442\u0435 \u0412\u0438\u043a\u0438\u043c\u0435\u0434\u0438\u0430 \n",
        "\n"
       ]
      },
      {
       "output_type": "stream",
       "stream": "stdout",
       "text": [
        "143\tEnglish Wikipedia\tSpecial:Log/newusers\tnew user account: iOS App Account Creation \n",
        "\n"
       ]
      },
      {
       "output_type": "stream",
       "stream": "stdout",
       "text": [
        "144\tWikidata\tQ17494725\t/* wbcreateclaim-create:1| */ [[Property:P186]]: [[Q296955]] \n",
        "\n"
       ]
      },
      {
       "output_type": "stream",
       "stream": "stdout",
       "text": [
        "145\tEnglish Wikipedia\tHoles_(film)\t/* Cast Background */ \n",
        "\n"
       ]
      },
      {
       "output_type": "stream",
       "stream": "stdout",
       "text": [
        "146\tEnglish Wikipedia\tAhmed_Ben_Bella\tadd images \n",
        "\n"
       ]
      },
      {
       "output_type": "stream",
       "stream": "stdout",
       "text": [
        "147\tRussian Wikipedia\t\u041c\u0435\u0442\u0430\u043b\u043b\u0443\u0440\u0433_(\u0444\u0443\u0442\u0431\u043e\u043b\u044c\u043d\u044b\u0439_\u043a\u043b\u0443\u0431,_\u0411\u0435\u043a\u0430\u0431\u0430\u0434)\t/* \u0414\u043e\u0441\u0442\u0438\u0436\u0435\u043d\u0438\u044f */ \n",
        "\n"
       ]
      },
      {
       "output_type": "stream",
       "stream": "stdout",
       "text": [
        "148\tWikimedia Commons\tFile_talk:East_Ukraine_conflict.png\t \n",
        "\n"
       ]
      },
      {
       "output_type": "stream",
       "stream": "stdout",
       "text": [
        "149\tItalian Wikipedia\tUtente:Ago76/sandbox1\t \n",
        "\n"
       ]
      },
      {
       "output_type": "stream",
       "stream": "stdout",
       "text": [
        "150\tItalian Wikipedia\tVirgil_Solis\t* \n",
        "\n"
       ]
      },
      {
       "output_type": "stream",
       "stream": "stdout",
       "text": [
        "151\tEnglish Wikipedia\t2014_Pelita_Bandung_Raya_season\t/* Squad, appearances and goals scored */ \n",
        "\n"
       ]
      },
      {
       "output_type": "stream",
       "stream": "stdout",
       "text": [
        "152\tWikidata\tQ17494725\t/* wbcreateclaim-create:1| */ [[Property:P186]]: [[Q389782]] \n",
        "\n"
       ]
      },
      {
       "output_type": "stream",
       "stream": "stdout",
       "text": [
        "153\tWikimedia Commons\tFile:Cynowy_Danzig_ubt.jpeg\tBot: [[Com:Regex#Categories|Category-cleanup]]. \n",
        "\n"
       ]
      },
      {
       "output_type": "stream",
       "stream": "stdout",
       "text": [
        "154\tSpanish Wikipedia\tEspecial:Log/newusers\tNew user account \n",
        "\n"
       ]
      },
      {
       "output_type": "stream",
       "stream": "stdout",
       "text": [
        "155\tEnglish Wikipedia\tSpecial:Log/newusers\tnew user account: iOS App Account Creation \n",
        "\n"
       ]
      },
      {
       "output_type": "stream",
       "stream": "stdout",
       "text": [
        "156\tWikidata\tQ17341877\t/* wbcreateclaim-create:1| */ [[Property:P31]]: [[Q4167836]] \n",
        "\n"
       ]
      },
      {
       "output_type": "stream",
       "stream": "stdout",
       "text": [
        "157\tChinese Wikipedia\tWikipedia:\u65b0\u6761\u76ee\u63a8\u8350/\u5019\u9009\t/* 8\u670810\u65e5 */ \n",
        "\n"
       ]
      },
      {
       "output_type": "stream",
       "stream": "stdout",
       "text": [
        "158\tEnglish Wikipedia\tFreedb\tAdded fre:ac to list of client software. \n",
        "\n"
       ]
      },
      {
       "output_type": "stream",
       "stream": "stdout",
       "text": [
        "159\tEnglish Wikipedia\tUser:Gerda_Arendt\t/* 2014 */ \n",
        "\n"
       ]
      },
      {
       "output_type": "stream",
       "stream": "stdout",
       "text": [
        "160\tEnglish Wikipedia\tWikipedia:Articles_for_deletion/Log/2014_August_1\tRelisting [[Wikipedia:Articles for deletion/Pembe Candaner]] \n",
        "\n"
       ]
      },
      {
       "output_type": "stream",
       "stream": "stdout",
       "text": [
        "161\tEnglish Wikipedia\tPierre_Lavenant\t/* Club */ \n",
        "\n"
       ]
      },
      {
       "output_type": "stream",
       "stream": "stdout",
       "text": [
        "162\tWikidata\tQ17341877\t/* wbsetdescription-add:1|de */ Wikimedia-Kategorie \n",
        "\n"
       ]
      },
      {
       "output_type": "stream",
       "stream": "stdout",
       "text": [
        "163\tWikidata\tQ2852887\t/* wbsetdescription-add:1|fa */ Auto-description for Persian \n",
        "\n"
       ]
      },
      {
       "output_type": "stream",
       "stream": "stdout",
       "text": [
        "164\tWikimedia Commons\tFile:350_005_Prag.jpg\tnew key for [[Category:ZSSK Class 350]]: \"005\" using [[Help:Gadget-HotCat|HotCat]] \n",
        "\n"
       ]
      },
      {
       "output_type": "stream",
       "stream": "stdout",
       "text": [
        "165\tGerman Wikipedia\tWikipedia:Adminkandidaturen/Leithian_(Wiederwahl_II)\t/* Pro Leithian */ \n",
        "\n"
       ]
      },
      {
       "output_type": "stream",
       "stream": "stdout",
       "text": [
        "166\tWikidata\tQ17494725\t/* wbcreateclaim-create:1| */ [[Property:P186]]: [[Q4259259]] \n",
        "\n"
       ]
      },
      {
       "output_type": "stream",
       "stream": "stdout",
       "text": [
        "167\tItalian Wikipedia\tSpeciale:Log/newusers\tNew user account: iOS App Account Creation \n",
        "\n"
       ]
      },
      {
       "output_type": "stream",
       "stream": "stdout",
       "text": [
        "168\tPortuguese Wikipedia\tEspecial:Log/newusers\tNew user account: iOS App Account Creation \n",
        "\n"
       ]
      },
      {
       "output_type": "stream",
       "stream": "stdout",
       "text": [
        "169\tWikidata\tQ17341877\t/* wbsetdescription-add:1|en */ Wikimedia category page \n",
        "\n"
       ]
      },
      {
       "output_type": "stream",
       "stream": "stdout",
       "text": [
        "170\tEnglish Wikipedia\tWheeler\u2013Feynman_absorber_theory\t/* Conclusions */ \n",
        "\n"
       ]
      },
      {
       "output_type": "stream",
       "stream": "stdout",
       "text": [
        "171\tWikidata\tQ17494725\t/* wbsetqualifier-add:1| */ [[Property:P518]]: [[Q861259]] \n",
        "\n"
       ]
      },
      {
       "output_type": "stream",
       "stream": "stdout",
       "text": [
        "172\tFrench Wikipedia\t\u00c9toile_de_type_AV\tPage redirig\u00e9e vers [[\u00c9toile blanche de la s\u00e9quence principale]] \n",
        "\n"
       ]
      },
      {
       "output_type": "stream",
       "stream": "stdout",
       "text": [
        "173\tWikidata\tQ256875\t/* wbsetsitelink-add:1|dawiki */ Kevin Phillips \n",
        "\n"
       ]
      },
      {
       "output_type": "stream",
       "stream": "stdout",
       "text": [
        "174\tUkrainian Wikipedia\t\u0412\u0456\u043a\u0456\u043f\u0435\u0434\u0456\u044f:\u0421\u0442\u0430\u0442\u0442\u0456-\u043a\u0430\u043d\u0434\u0438\u0434\u0430\u0442\u0438_\u043d\u0430_\u0432\u0438\u043b\u0443\u0447\u0435\u043d\u043d\u044f/10_\u0441\u0435\u0440\u043f\u043d\u044f_2014\t\u0437\u0430\u043a\u0440\u0435\u0441\u043b\u0435\u043d\u043d\u044f \u0437\u0430\u0433\u043e\u043b\u043e\u0432\u043a\u0456\u0432, \u043f\u0456\u0434\u0431\u0438\u0442\u0442\u044f \u043f\u0456\u0434\u0441\u0443\u043c\u043a\u0456\u0432 \n",
        "\n"
       ]
      },
      {
       "output_type": "stream",
       "stream": "stdout",
       "text": [
        "175\tWikimedia Commons\tCategory:Weapons_in_C\u00f3rdoba,_Spain\tadded [[Category:Weapons of Spain]] using [[Help:Gadget-HotCat|HotCat]] \n",
        "\n"
       ]
      },
      {
       "output_type": "stream",
       "stream": "stdout",
       "text": [
        "176\tTurkish Wikipedia\tKars_(il)\t \n",
        "\n"
       ]
      },
      {
       "output_type": "stream",
       "stream": "stdout",
       "text": [
        "177\tWikidata\tQ17341877\t/* wbsetdescription-add:1|es */ categor\u00eda de Wikimedia \n",
        "\n"
       ]
      },
      {
       "output_type": "stream",
       "stream": "stdout",
       "text": [
        "178\tGerman Wikipedia\tBenutzer_Diskussion:Jossi2\tNeuer Abschnitt /* Ausrufer \u2013 33. Woche */ \n",
        "\n"
       ]
      },
      {
       "output_type": "stream",
       "stream": "stdout",
       "text": [
        "179\tWikidata\tQ17494727\t/* wbcreateclaim-create:1| */ [[Property:P186]]: [[Q296955]] \n",
        "\n"
       ]
      },
      {
       "output_type": "stream",
       "stream": "stdout",
       "text": [
        "180\tWikidata\tQ17341877\t/* wbsetdescription-add:1|fr */ page de cat\u00e9gorie d'un projet Wikimedia \n",
        "\n"
       ]
      },
      {
       "output_type": "stream",
       "stream": "stdout",
       "text": [
        "181\tWikidata\tQ2734030\t/* wbcreateclaim-create:1| */ [[Property:P31]]: [[Q13406463]] \n",
        "\n"
       ]
      },
      {
       "output_type": "stream",
       "stream": "stdout",
       "text": [
        "182\tEnglish Wikipedia\tTemplate:United_Nations\t \n",
        "\n"
       ]
      },
      {
       "output_type": "stream",
       "stream": "stdout",
       "text": [
        "183\tWikimedia Commons\tFile:Cyntha_Khan_by_Santxe.JPG\tBot: [[Com:IntRegex|Internationalisation]]. \n",
        "\n"
       ]
      },
      {
       "output_type": "stream",
       "stream": "stdout",
       "text": [
        "184\tEnglish Wikipedia\tWikipedia_talk:PAGENAME\terk \n",
        "\n"
       ]
      },
      {
       "output_type": "stream",
       "stream": "stdout",
       "text": [
        "185\tWikidata\tQ17341877\t/* wbsetdescription-add:1|it */ categoria di un progetto Wikimedia \n",
        "\n"
       ]
      },
      {
       "output_type": "stream",
       "stream": "stdout",
       "text": [
        "186\tEnglish Wikipedia\tSuperta\u00e7a_C\u00e2ndido_de_Oliveira\t/* SuperCup finals */ \n",
        "\n"
       ]
      },
      {
       "output_type": "stream",
       "stream": "stdout",
       "text": [
        "187\tWikidata\tQ17494727\t/* wbcreateclaim-create:1| */ [[Property:P186]]: [[Q4259259]] \n",
        "\n"
       ]
      },
      {
       "output_type": "stream",
       "stream": "stdout",
       "text": [
        "188\tUkrainian Wikipedia\t\u0410\u043d\u0434\u0440\u0456\u0439\u0447\u0435\u043d\u043a\u043e_\u041d\u0430\u0442\u0430\u043b\u0456\u044f_\u0413\u0435\u043e\u0440\u0433\u0456\u0457\u0432\u043d\u0430\t\u0437\u043e\u0432\u043d\u0456\u0448\u043d\u0456 \u043f\u043e\u0441\u0438\u043b\u0430\u043d\u043d\u044f \n",
        "\n"
       ]
      },
      {
       "output_type": "stream",
       "stream": "stdout",
       "text": [
        "189\tEnglish Wikipedia\tJohn_Duffey_(soldier)\t \n",
        "\n"
       ]
      },
      {
       "output_type": "stream",
       "stream": "stdout",
       "text": [
        "190\tWikimedia Commons\tSpecial:Log/upload\tuploaded \"[[\u000302File:Castillo de San Cristobal, Santa Teresa Battery, San Juan, San Juan Municipio, PR HABS PR,7-SAJU,53- (sheet 4 of 11).png \n",
        "\n"
       ]
      },
      {
       "output_type": "stream",
       "stream": "stdout",
       "text": [
        "191\tWikidata\tQ17341877\t/* wbsetdescription-add:1|pt */ categoria de um projeto da Wikimedia \n",
        "\n"
       ]
      },
      {
       "output_type": "stream",
       "stream": "stdout",
       "text": [
        "192\tWikimedia Commons\tCategory:Hank_Green\t-[[Category:Bloggers]]; -[[Category:Video bloggers]]; +[[Category:Vlogbrothers]] using [[Help:Gadget-HotCat|HotCat]] \n",
        "\n"
       ]
      },
      {
       "output_type": "stream",
       "stream": "stdout",
       "text": [
        "193\tGerman Wikipedia\tHamburg\tlinkfix, Typographie korrigiert. \n",
        "\n"
       ]
      },
      {
       "output_type": "stream",
       "stream": "stdout",
       "text": [
        "194\tRussian Wikipedia\tOvostoma\t\u043e\u0440\u0444\u043e\u0433\u0440\u0430\u0444\u0438\u044f \n",
        "\n"
       ]
      },
      {
       "output_type": "stream",
       "stream": "stdout",
       "text": [
        "195\tGerman Wikipedia\tHans_Svedberg\t\u201ewar\u201c reicht \n",
        "\n"
       ]
      },
      {
       "output_type": "stream",
       "stream": "stdout",
       "text": [
        "196\tEnglish Wikipedia\tTalk:All_Hands_to_the_Pumps\tcartoon \n",
        "\n"
       ]
      },
      {
       "output_type": "stream",
       "stream": "stdout",
       "text": [
        "197\tWikidata\tQ17494727\t/* wbsetqualifier-add:1| */ [[Property:P518]]: [[Q861259]] \n",
        "\n"
       ]
      },
      {
       "output_type": "stream",
       "stream": "stdout",
       "text": [
        "198\tWikidata\tQ2231235\t/* wbsetsitelink-add:1|nowiki */ Shaqlawa \n",
        "\n"
       ]
      },
      {
       "output_type": "stream",
       "stream": "stdout",
       "text": [
        "199\tWikidata\tQ17341877\t/* wbsetdescription-add:1|ru */ \u043a\u0430\u0442\u0435\u0433\u043e\u0440\u0438\u044f \u0432 \u043f\u0440\u043e\u0435\u043a\u0442\u0435 \u0412\u0438\u043a\u0438\u043c\u0435\u0434\u0438\u0430 \n",
        "\n"
       ]
      },
      {
       "output_type": "stream",
       "stream": "stdout",
       "text": [
        "200\tWikidata\tQ2852894\t/* wbsetdescription-add:1|fa */ Auto-description for Persian \n",
        "\n"
       ]
      },
      {
       "output_type": "stream",
       "stream": "stdout",
       "text": [
        "201\tWikidata\tQ17497130\t/* wbeditentity-create:0| */ \n",
        "\n"
       ]
      },
      {
       "output_type": "stream",
       "stream": "stdout",
       "text": [
        "202\tPortuguese Wikipedia\tSharur\t \n",
        "\n"
       ]
      },
      {
       "output_type": "stream",
       "stream": "stdout",
       "text": [
        "203\tEnglish Wikipedia\tTalk:New-age_music\t/* Possible move */ \n",
        "\n"
       ]
      },
      {
       "output_type": "stream",
       "stream": "stdout",
       "text": [
        "204\tJapanese Wikipedia\t\u7279\u5225:Log/newusers\tNew user account: iOS App Account Creation \n",
        "\n"
       ]
      },
      {
       "output_type": "stream",
       "stream": "stdout",
       "text": [
        "205\tWikimedia Commons\tFile:Social_Flycatcher_(8257680511).jpg\t[[Help:Cat-a-lot|Cat-a-lot]]: Moving from [[Category:Files uploaded by Josve05a (cleanup)]] to [[Category:Myiozetetes similis]] \n",
        "\n"
       ]
      },
      {
       "output_type": "stream",
       "stream": "stdout",
       "text": [
        "206\tEnglish Wikipedia\tPortencross\t/* See also */ ce \n",
        "\n"
       ]
      },
      {
       "output_type": "stream",
       "stream": "stdout",
       "text": [
        "207\tFrench Wikipedia\tProjet:Monde_germanique/\u00c9valuation/Index/10\tMise \u00e0 jour de la liste des articles \u00e9valu\u00e9s du projet [[Projet:Monde germanique/\u00c9valuation|Monde germanique]] \n",
        "\n"
       ]
      },
      {
       "output_type": "stream",
       "stream": "stdout",
       "text": [
        "208\tEnglish Wikipedia\tParaleptidea_longitarsis\t/* References */clean up, change cat using [[Project:AWB|AWB]] \n",
        "\n"
       ]
      },
      {
       "output_type": "stream",
       "stream": "stdout",
       "text": [
        "209\tWikidata\tQ17494729\t/* wbcreateclaim-create:1| */ [[Property:P186]]: [[Q296955]] \n",
        "\n"
       ]
      },
      {
       "output_type": "stream",
       "stream": "stdout",
       "text": [
        "210\tSpanish Wikipedia\tIgnacio_Malcorra\t/* Estad\u00edsticas */ \n",
        "\n"
       ]
      },
      {
       "output_type": "stream",
       "stream": "stdout",
       "text": [
        "211\tWikidata\tQ17341874\t/* wbcreateclaim-create:1| */ [[Property:P31]]: [[Q4167836]] \n",
        "\n"
       ]
      },
      {
       "output_type": "stream",
       "stream": "stdout",
       "text": [
        "212\tWikimedia Commons\tFile:Castillo_de_San_Cristobal,_Santa_Teresa_Battery,_San_Juan,_San_Juan_Municipio,_PR_HABS_PR,7-SAJU,53-_(sheet_4_of_11).tif\tPNG created from TIFF \n",
        "\n"
       ]
      },
      {
       "output_type": "stream",
       "stream": "stdout",
       "text": [
        "213\tSpanish Wikipedia\tTorneo_Apertura_2014_(Venezuela)\t/* Resultados */ \n",
        "\n"
       ]
      },
      {
       "output_type": "stream",
       "stream": "stdout",
       "text": [
        "214\tWikimedia Commons\tFile:Macaca_nigra_self-portrait_full_body.jpg\treverting to what is actually considered to be established about the image; the level of input from Slater is not clear at the moment \n",
        "\n"
       ]
      },
      {
       "output_type": "stream",
       "stream": "stdout",
       "text": [
        "215\tPortuguese Wikipedia\tIgreja_da_Noruega\tremoveu [[Categoria:Igrejas luteranas]]; adicionou [[Categoria:Igreja da Noruega]] usando [[Wikip\u00e9dia:Scripts/HotCat|HotCat]] \n",
        "\n"
       ]
      },
      {
       "output_type": "stream",
       "stream": "stdout",
       "text": [
        "216\tWikidata\tQ17494729\t/* wbcreateclaim-create:1| */ [[Property:P186]]: [[Q4259259]] \n",
        "\n"
       ]
      },
      {
       "output_type": "stream",
       "stream": "stdout",
       "text": [
        "217\tWikidata\tQ345883\t/* wbcreateclaim-create:1| */ [[Property:P106]]: [[Q13382519]] \n",
        "\n"
       ]
      },
      {
       "output_type": "stream",
       "stream": "stdout",
       "text": [
        "218\tWikimedia Commons\tFile:Yak-18t_RA-1411K_(5757896817).jpg\tremoved [[Category:Unidentified aircraft]]; added [[Category:Yakovlev Yak-18T]] using [[Help:Gadget-HotCat|HotCat]] \n",
        "\n"
       ]
      },
      {
       "output_type": "stream",
       "stream": "stdout",
       "text": [
        "219\tWikimedia Commons\tFile:Cynthia-couch.jpg\tBot: [[Com:IntRegex|Internationalisation]]. \n",
        "\n"
       ]
      },
      {
       "output_type": "stream",
       "stream": "stdout",
       "text": [
        "220\tWikidata\tQ17341874\t/* wbsetdescription-add:1|de */ Wikimedia-Kategorie \n",
        "\n"
       ]
      },
      {
       "output_type": "stream",
       "stream": "stdout",
       "text": [
        "221\tWikidata\tQ2916113\t/* wbsetsitelink-set:1|enwiki */ Updated: [[en:1971 Bangladesh Genocide]] -> [[en:1971 Bangladesh genocide]] \n",
        "\n"
       ]
      },
      {
       "output_type": "stream",
       "stream": "stdout",
       "text": [
        "222\tRussian Wikipedia\t\u0428\u0430\u0431\u043b\u043e\u043d:\u0410\u0440\u0437\u0430\u043c\u0430\u0441\u0441\u043a\u0438\u0439_\u0440\u0430\u0439\u043e\u043d_\u041d\u0438\u0436\u0435\u0433\u043e\u0440\u043e\u0434\u0441\u043a\u043e\u0439_\u043e\u0431\u043b\u0430\u0441\u0442\u0438\t\u0432\u0438\u043a\u0438\u0444\u0438\u043a\u0430\u0446\u0438\u044f \n",
        "\n"
       ]
      },
      {
       "output_type": "stream",
       "stream": "stdout",
       "text": [
        "223\tUkrainian Wikipedia\t\u0421\u043f\u0435\u0446\u0456\u0430\u043b\u044c\u043d\u0430:Log/delete\tdeleted \"[[\u000302\u041f\u043e\u043b\u044c\u0441\u044c\u043a\u0456 \u043b\u0435\u0433\u0456\u043e\u043d\u0438 \u0443 \u041d\u0430\u043f\u043e\u043b\u0435\u043e\u043d\u0456\u0432\u0441\u044c\u043a\u0438\u0445 \u0432\u0456\u0439\u043d\u0430\u0445\u000310]]\": \u043d\u0435 \u0434\u043e\u043e\u043f\u0440\u0430\u0446\u044c\u043e\u0432\u0430\u043d\u0430 \u043f\u0456\u0441\u043b\u044f \u0442\u0440\u044c\u043e\u0445 \u0434\u043d\u0456\u0432 \n",
        "\n"
       ]
      },
      {
       "output_type": "stream",
       "stream": "stdout",
       "text": [
        "224\tSpanish Wikipedia\tLiga_Sudamericana_de_Clubes_2014\t/* Equipos participantes */ \n",
        "\n"
       ]
      },
      {
       "output_type": "stream",
       "stream": "stdout",
       "text": [
        "225\tFrench Wikipedia\tSp\u00e9cial:Log/newusers\tNew user account \n",
        "\n"
       ]
      },
      {
       "output_type": "stream",
       "stream": "stdout",
       "text": [
        "226\tWikidata\tQ17341874\t/* wbsetdescription-add:1|en */ Wikimedia category page \n",
        "\n"
       ]
      },
      {
       "output_type": "stream",
       "stream": "stdout",
       "text": [
        "227\tSpanish Wikipedia\tHans_Mart\u00ednez\t/* Estad\u00edsticas */ \n",
        "\n"
       ]
      },
      {
       "output_type": "stream",
       "stream": "stdout",
       "text": [
        "228\tWikidata\tQ17494729\t/* wbsetqualifier-add:1| */ [[Property:P518]]: [[Q861259]] \n",
        "\n"
       ]
      },
      {
       "output_type": "stream",
       "stream": "stdout",
       "text": [
        "229\tSpanish Wikipedia\tJo-Wilfried_Tsonga\t/* Ganados (1) */ \n",
        "\n"
       ]
      },
      {
       "output_type": "stream",
       "stream": "stdout",
       "text": [
        "230\tEnglish Wikipedia\tOakland_Fire_Department\t \n",
        "\n"
       ]
      },
      {
       "output_type": "stream",
       "stream": "stdout",
       "text": [
        "231\tEnglish Wikipedia\tTemplate:Did_you_know_nominations/The_Bread-Winners\t \n",
        "\n"
       ]
      },
      {
       "output_type": "stream",
       "stream": "stdout",
       "text": [
        "232\tWikidata\tQ17341874\t/* wbsetdescription-add:1|es */ categor\u00eda de Wikimedia \n",
        "\n"
       ]
      },
      {
       "output_type": "stream",
       "stream": "stdout",
       "text": [
        "233\tEnglish Wikipedia\tWikipedia:WikiProject_Cheshire\tupdating recognized content \n",
        "\n"
       ]
      },
      {
       "output_type": "stream",
       "stream": "stdout",
       "text": [
        "234\tEnglish Wikipedia\tDraft:Bo$$_(Fifth_Harmony_song)\t \n",
        "\n"
       ]
      },
      {
       "output_type": "stream",
       "stream": "stdout",
       "text": [
        "235\tEnglish Wikipedia\tUser:Pigman/Sandbox\ttemp dump of rant that might be a personal essay. Or something. \n",
        "\n"
       ]
      },
      {
       "output_type": "stream",
       "stream": "stdout",
       "text": [
        "236\tWikidata\tQ17341874\t/* wbsetdescription-add:1|fr */ page de cat\u00e9gorie d'un projet Wikimedia \n",
        "\n"
       ]
      },
      {
       "output_type": "stream",
       "stream": "stdout",
       "text": [
        "237\tWikidata\tQ17494731\t/* wbcreateclaim-create:1| */ [[Property:P186]]: [[Q296955]] \n",
        "\n"
       ]
      },
      {
       "output_type": "stream",
       "stream": "stdout",
       "text": [
        "238\tEnglish Wikipedia\tTimeline_of_Cheshire_history\tclean up, straight quotes, ISBN format using [[Project:AWB|AWB]] \n",
        "\n"
       ]
      },
      {
       "output_type": "stream",
       "stream": "stdout",
       "text": [
        "239\tEnglish Wikipedia\tUser_talk:Thetruthtellers123\tNotice: Wikipedia is not a social network on [[Big One (roller coaster)]]. ([[WP:TW|TW]]) \n",
        "\n"
       ]
      },
      {
       "output_type": "stream",
       "stream": "stdout",
       "text": [
        "240\tFrench Wikipedia\tShrek\tRetrait liens non-encyclo. \n",
        "\n"
       ]
      },
      {
       "output_type": "stream",
       "stream": "stdout",
       "text": [
        "241\tEnglish Wikipedia\tSpecial:Log/block\tblocked User:Helenwoodsageis34 (account creation blocked) with an expiry time of 1 day and 3 hours: [[WP:Disruptive editing|Disruptive editing]] \n",
        "\n"
       ]
      },
      {
       "output_type": "stream",
       "stream": "stdout",
       "text": [
        "242\tWikimedia Commons\tCategory:Isaac_Herzog\tadded [[Category:Male politicians of Israel]] using [[Help:Gadget-HotCat|HotCat]] \n",
        "\n"
       ]
      },
      {
       "output_type": "stream",
       "stream": "stdout",
       "text": [
        "243\tWikidata\tQ2852896\t/* wbsetdescription-add:1|fa */ Auto-description for Persian \n",
        "\n"
       ]
      },
      {
       "output_type": "stream",
       "stream": "stdout",
       "text": [
        "244\tJapanese Wikipedia\t\u5229\u7528\u8005\u2010\u4f1a\u8a71:118.243.143.141\t \n",
        "\n"
       ]
      },
      {
       "output_type": "stream",
       "stream": "stdout",
       "text": [
        "245\tWikidata\tQ17341874\t/* wbsetdescription-add:1|it */ categoria di un progetto Wikimedia \n",
        "\n"
       ]
      },
      {
       "output_type": "stream",
       "stream": "stdout",
       "text": [
        "246\tFrench Wikipedia\tPlace_de_la_R\u00e9publique\t/* France */ \n",
        "\n"
       ]
      },
      {
       "output_type": "stream",
       "stream": "stdout",
       "text": [
        "247\tWikidata\tQ17494731\t/* wbcreateclaim-create:1| */ [[Property:P186]]: [[Q4259259]] \n",
        "\n"
       ]
      },
      {
       "output_type": "stream",
       "stream": "stdout",
       "text": [
        "248\tEnglish Wikipedia\tList_of_Grand_Prix_motorcycle_racing_winners\t \n",
        "\n"
       ]
      },
      {
       "output_type": "stream",
       "stream": "stdout",
       "text": [
        "249\tWikidata\tQ17341874\t/* wbsetdescription-add:1|pt */ categoria de um projeto da Wikimedia \n",
        "\n"
       ]
      },
      {
       "output_type": "stream",
       "stream": "stdout",
       "text": [
        "250\tWikidata\tQ5108688\t/* wbremoveclaims-remove:1| */ [[Property:P107]]: [[Q618123]] \n",
        "\n"
       ]
      },
      {
       "output_type": "stream",
       "stream": "stdout",
       "text": [
        "251\tWikimedia Commons\tFile:350_Csorba.jpg\tnew key for [[Category:ZSSK Class 350]]: \"005\" using [[Help:Gadget-HotCat|HotCat]] \n",
        "\n"
       ]
      },
      {
       "output_type": "stream",
       "stream": "stdout",
       "text": [
        "252\tWikimedia Commons\tFile:Lublin,_Lubartowska_35_-_fotopolska.eu_(337510).jpg\t+[[Category:Zebra crossings in Lublin]]; +[[Category:Directional road signs in Lublin]] using [[Help:Gadget-HotCat|HotCat]] \n",
        "\n"
       ]
      },
      {
       "output_type": "stream",
       "stream": "stdout",
       "text": [
        "253\tGerman Wikipedia\tTransiturus_de_hoc_mundo\t/* Ursprung */ \n",
        "\n"
       ]
      },
      {
       "output_type": "stream",
       "stream": "stdout",
       "text": [
        "254\tItalian Wikipedia\tDiscussioni_utente:Lepido\tAnnullate le modifiche di [[Special:Contributions/93.33.133.3|93.33.133.3]] ([[User talk:93.33.133.3|discussione]]), riportata alla versione precedente di [[User:DuilioJapanlove|DuilioJapanlove]] \n",
        "\n"
       ]
      },
      {
       "output_type": "stream",
       "stream": "stdout",
       "text": [
        "255\tWikidata\tQ17341874\t/* wbsetdescription-add:1|ru */ \u043a\u0430\u0442\u0435\u0433\u043e\u0440\u0438\u044f \u0432 \u043f\u0440\u043e\u0435\u043a\u0442\u0435 \u0412\u0438\u043a\u0438\u043c\u0435\u0434\u0438\u0430 \n",
        "\n"
       ]
      },
      {
       "output_type": "stream",
       "stream": "stdout",
       "text": [
        "256\tWikimedia Commons\tFile:Cynthia.jpg\tBot: [[Com:IntRegex|Internationalisation]]. [[Com:Regex#Dates|Standardizing dates]]. \n",
        "\n"
       ]
      },
      {
       "output_type": "stream",
       "stream": "stdout",
       "text": [
        "257\tHebrew Wikipedia\t\u05e9\u05d9\u05d7\u05ea_\u05de\u05e9\u05ea\u05de\u05e9:\u05d0\u05d3\u05dd_\u05de\u05d4\t/* \u05e1\u05d8\u05d8\u05d9\u05e1\u05d8\u05d9\u05e7\u05d4 */ \n",
        "\n"
       ]
      },
      {
       "output_type": "stream",
       "stream": "stdout",
       "text": [
        "258\tWikidata\tQ17494731\t/* wbsetqualifier-add:1| */ [[Property:P518]]: [[Q861259]] \n",
        "\n"
       ]
      },
      {
       "output_type": "stream",
       "stream": "stdout",
       "text": [
        "259\tEnglish Wikipedia\tMcAllen,_Texas\t \n",
        "\n"
       ]
      },
      {
       "output_type": "stream",
       "stream": "stdout",
       "text": [
        "260\tKorean Wikipedia\t\uc5c4\ud0dc\uc6c5\t/* \ucd9c\uc5f0\uc791 */ \n",
        "\n"
       ]
      },
      {
       "output_type": "stream",
       "stream": "stdout",
       "text": [
        "261\tEnglish Wikipedia\tClub_Atl\u00e9tico_Atlanta\t \n",
        "\n"
       ]
      },
      {
       "output_type": "stream",
       "stream": "stdout",
       "text": [
        "262\tEnglish Wikipedia\tTalk:Lake_Guerin_East_Shelter_Cabin\trefine reqphoto \n",
        "\n"
       ]
      },
      {
       "output_type": "stream",
       "stream": "stdout",
       "text": [
        "263\tWikidata\tQ17341414\t/* wbcreateclaim-create:1| */ [[Property:P31]]: [[Q4167836]] \n",
        "\n"
       ]
      },
      {
       "output_type": "stream",
       "stream": "stdout",
       "text": [
        "264\tEnglish Wikipedia\tIss_Pyaar_Ko_Kya_Naam_Doon?...Ek_Baar_Phir\tRemoved bogus category \n",
        "\n"
       ]
      },
      {
       "output_type": "stream",
       "stream": "stdout",
       "text": [
        "265\tWikidata\tQ3097882\t/* wbsetlabel-set:1|nl */ Station Tolga \n",
        "\n"
       ]
      },
      {
       "output_type": "stream",
       "stream": "stdout",
       "text": [
        "266\tWikidata\tQ17494733\t/* wbcreateclaim-create:1| */ [[Property:P186]]: [[Q296955]] \n",
        "\n"
       ]
      },
      {
       "output_type": "stream",
       "stream": "stdout",
       "text": [
        "267\tHebrew Wikipedia\t\u05e9\u05d9\u05d7\u05ea_\u05de\u05e9\u05ea\u05de\u05e9:Eladk\t \n",
        "\n"
       ]
      },
      {
       "output_type": "stream",
       "stream": "stdout",
       "text": [
        "268\tEnglish Wikipedia\tSense\t/* Touch */ \n",
        "\n"
       ]
      },
      {
       "output_type": "stream",
       "stream": "stdout",
       "text": [
        "269\tArabic Wikipedia\t40_(\u0639\u062f\u062f)\t \n",
        "\n"
       ]
      },
      {
       "output_type": "stream",
       "stream": "stdout",
       "text": [
        "270\tEnglish Wikipedia\tEconomic_history_of_the_United_States\t/* Mechanized textile manufacturing */ Early mills \n",
        "\n"
       ]
      },
      {
       "output_type": "stream",
       "stream": "stdout",
       "text": [
        "271\tTurkish Wikipedia\tSMART_Metodu\t \n",
        "\n"
       ]
      },
      {
       "output_type": "stream",
       "stream": "stdout",
       "text": [
        "272\tWikimedia Commons\tSpecial:Log/move\tmoved [[\u000302File:- Woodside Hall, Main Street, Middlefield Township, Cooperstown, Otsego County, NY HABS NY,39-COOP,11-3.tif\u000310]] to [[File:Woodside Hall, Main Street, Middlefield Township, Cooperstown, Otsego County, NY HABS NY,39-COOP,11-3.tif]]: more meaningful name -  ->  \n",
        "\n"
       ]
      },
      {
       "output_type": "stream",
       "stream": "stdout",
       "text": [
        "273\tEnglish Wikipedia\tAdolfo_Celi\t \n",
        "\n"
       ]
      },
      {
       "output_type": "stream",
       "stream": "stdout",
       "text": [
        "274\tWikidata\tQ15876691\t/* wbcreateclaim-create:1| */ [[Property:P31]]: [[Q13406463]] \n",
        "\n"
       ]
      },
      {
       "output_type": "stream",
       "stream": "stdout",
       "text": [
        "275\tWikidata\tQ17341414\t/* wbsetdescription-add:1|de */ Wikimedia-Kategorie \n",
        "\n"
       ]
      },
      {
       "output_type": "stream",
       "stream": "stdout",
       "text": [
        "276\tHebrew Wikipedia\t\u05d1\u05d1\u05d5\u05df_\u05de\u05e6\u05e8\u05d9\u05dd\t \n",
        "\n"
       ]
      },
      {
       "output_type": "stream",
       "stream": "stdout",
       "text": [
        "277\tEnglish Wikipedia\tParastenomordella_flavolongevittata\tclean up, change cat using [[Project:AWB|AWB]] \n",
        "\n"
       ]
      },
      {
       "output_type": "stream",
       "stream": "stdout",
       "text": [
        "278\tFrench Wikipedia\tArchitecture_orient\u00e9e_agents\t/* Voir aussi */ \n",
        "\n"
       ]
      },
      {
       "output_type": "stream",
       "stream": "stdout",
       "text": [
        "279\tArabic Wikipedia\t\u0645\u062d\u0645\u062f_\u0645\u062d\u0633\u0646_\u0627\u0644\u0637\u0647\u0631\u0627\u0646\u064a\t\u0625\u0636\u0627\u0641\u0629 \u0645\u062d\u062a\u0648\u0649 \u062c\u062f\u064a\u062f: \u0643\u062a\u0627\u0628 \u062c\u062f\u064a\u062f \u0645\u0646 \u0645\u0624\u0644\u0641\u0627\u062a \u0627\u0644\u0645\u062a\u0631\u062c\u0645 \u0644\u0647. \n",
        "\n"
       ]
      },
      {
       "output_type": "stream",
       "stream": "stdout",
       "text": [
        "280\tWikidata\tQ2852936\t/* wbsetdescription-add:1|fa */ Auto-description for Persian \n",
        "\n"
       ]
      },
      {
       "output_type": "stream",
       "stream": "stdout",
       "text": [
        "281\tWikidata\tQ17494733\t/* wbcreateclaim-create:1| */ [[Property:P186]]: [[Q389782]] \n",
        "\n"
       ]
      },
      {
       "output_type": "stream",
       "stream": "stdout",
       "text": [
        "282\tJapanese Wikipedia\t\u92ad\u5f62\u5e73\u6b21_(\u98a8\u9593\u675c\u592b)\t \n",
        "\n"
       ]
      },
      {
       "output_type": "stream",
       "stream": "stdout",
       "text": [
        "283\tWikimedia Commons\tSpecial:Log/abusefilter\tMike Peel triggered [[Special:AbuseFilter/132|filter 132]], performing the action \"edit\" on [[\u000302File:Macaca nigra self-portrait full body.jpg\u000310]]. Actions taken: Warn ([[Special:AbuseLog/542801|details]]) \n",
        "\n"
       ]
      },
      {
       "output_type": "stream",
       "stream": "stdout",
       "text": [
        "284\tFrench Wikipedia\tDidier_Gosuin\tlogo Bruxelles \n",
        "\n"
       ]
      },
      {
       "output_type": "stream",
       "stream": "stdout",
       "text": [
        "285\tWikidata\tQ17341414\t/* wbsetdescription-add:1|en */ Wikimedia category page \n",
        "\n"
       ]
      },
      {
       "output_type": "stream",
       "stream": "stdout",
       "text": [
        "286\tJapanese Wikipedia\t\u30aa\u30ab\u30c0\u30fb\u30ab\u30ba\u30c1\u30ab\t/* 2013\u5e74\u4ee5\u964d */ \u51fa\u5178\u3064\u3051\u3066\u66f8\u3044\u3066\u307b\u3057\u3044\u3001\u3068\u3044\u3046\u304b\u305f\u3060\u306e\u901f\u5831\u306f\u6b62\u3081\u3066\u4e0b\u3055\u3044\u3002 \n",
        "\n"
       ]
      },
      {
       "output_type": "stream",
       "stream": "stdout",
       "text": [
        "287\tWikimedia Commons\tFile:Cynthia.png\tBot: [[Com:Regex#Dates|Standardizing dates]]. Grouping categories at the bottom. \n",
        "\n"
       ]
      },
      {
       "output_type": "stream",
       "stream": "stdout",
       "text": [
        "288\tGerman Wikipedia\tBenutzer_Diskussion:Justus_Nussbaum\tNeuer Abschnitt /* Ausrufer \u2013 33. Woche */ \n",
        "\n"
       ]
      },
      {
       "output_type": "stream",
       "stream": "stdout",
       "text": [
        "289\tHebrew Wikipedia\t\u05de\u05d9\u05d5\u05d7\u05d3:Log/patrol\tmarked revision 15821273 of [[\u000302\u05de\u05e8\u05d9\u05d5 \u05d9\u05e4\u05e1\u000310]] patrolled  \n",
        "\n"
       ]
      },
      {
       "output_type": "stream",
       "stream": "stdout",
       "text": [
        "290\tWikidata\tQ17341414\t/* wbsetdescription-add:1|es */ categor\u00eda de Wikimedia \n",
        "\n"
       ]
      },
      {
       "output_type": "stream",
       "stream": "stdout",
       "text": [
        "291\tFrench Wikipedia\tChampionnat_de_Belgique_de_football_D3_1960-1961\t/* R\u00e9c\u00e9pitulatif  la saison */ \n",
        "\n"
       ]
      },
      {
       "output_type": "stream",
       "stream": "stdout",
       "text": [
        "292\tFrench Wikipedia\tProjet:Monde_germanique/\u00c9valuation/Index/24\tMise \u00e0 jour de la liste des articles \u00e9valu\u00e9s du projet [[Projet:Monde germanique/\u00c9valuation|Monde germanique]] \n",
        "\n"
       ]
      },
      {
       "output_type": "stream",
       "stream": "stdout",
       "text": [
        "293\tEnglish Wikipedia\tPeninsula_Barracks,_Warrington\texp \n",
        "\n"
       ]
      },
      {
       "output_type": "stream",
       "stream": "stdout",
       "text": [
        "294\tWikidata\tQ17494733\t/* wbsetqualifier-add:1| */ [[Property:P518]]: [[Q861259]] \n",
        "\n"
       ]
      },
      {
       "output_type": "stream",
       "stream": "stdout",
       "text": [
        "295\tNorwegian Wikipedia\tSpesial:Log/thanks\tHafspajen takket Bj\u00f8rn som tegner \n",
        "\n"
       ]
      },
      {
       "output_type": "stream",
       "stream": "stdout",
       "text": [
        "296\tRussian Wikipedia\t\u041a\u0430\u0442\u0435\u0433\u043e\u0440\u0438\u044f:\u041f\u043e\u0445\u043e\u0440\u043e\u043d\u0435\u043d\u043d\u044b\u0435_\u0432_\u0420\u043e\u0442\u0442\u0435\u0440\u0434\u0430\u043c\u0435\t[[\u0412\u041f:\u2190|\u2190]] \u041d\u043e\u0432\u0430\u044f \u0441\u0442\u0440\u0430\u043d\u0438\u0446\u0430: \u00ab[[\u041a\u0430\u0442\u0435\u0433\u043e\u0440\u0438\u044f:\u041f\u043e\u0445\u043e\u0440\u043e\u043d\u0435\u043d\u043d\u044b\u0435 \u043f\u043e \u0433\u043e\u0440\u043e\u0434\u0430\u043c|\u0420\u043e\u0442\u0442\u0435\u0440\u0434\u0430\u043c]] \u041a\u0430\u0442\u0435\u0433\u043e\u0440\u0438\u044f:\u041f\u043e\u0445\u043e\u0440\u043e\u043d\u0435\u043d\u043d\u044b\u0435 \u0432 \u041d\u0438\u0434\u0435\u2026\u00bb \n",
        "\n"
       ]
      },
      {
       "output_type": "stream",
       "stream": "stdout",
       "text": [
        "297\tEnglish Wikipedia\tList_of_Huddersfield_Town_F.C._managers\t \n",
        "\n"
       ]
      },
      {
       "output_type": "stream",
       "stream": "stdout",
       "text": [
        "298\tWikimedia Commons\tCategory:Executioners_in_heraldry\tadded [[Category:Death in heraldry]] using [[Help:Gadget-HotCat|HotCat]] \n",
        "\n"
       ]
      },
      {
       "output_type": "stream",
       "stream": "stdout",
       "text": [
        "299\tWikidata\tQ17341414\t/* wbsetdescription-add:1|fr */ page de cat\u00e9gorie d'un projet Wikimedia \n",
        "\n"
       ]
      },
      {
       "output_type": "stream",
       "stream": "stdout",
       "text": [
        "300\tWikidata\tQ17341414\t/* wbsetdescription-add:1|it */ categoria di un progetto Wikimedia \n",
        "\n"
       ]
      },
      {
       "output_type": "stream",
       "stream": "stdout",
       "text": [
        "301\tEnglish Wikipedia\tBicolored_antbird\tupdated AOU NACC/SACC 2014 \n",
        "\n"
       ]
      },
      {
       "output_type": "stream",
       "stream": "stdout",
       "text": [
        "302\tEnglish Wikipedia\tOil_by_country\trevert uncited data \n",
        "\n"
       ]
      },
      {
       "output_type": "stream",
       "stream": "stdout",
       "text": [
        "303\tWikidata\tQ17494735\t/* wbcreateclaim-create:1| */ [[Property:P186]]: [[Q296955]] \n",
        "\n"
       ]
      },
      {
       "output_type": "stream",
       "stream": "stdout",
       "text": [
        "304\tPolish Wikipedia\tAchinger_II\tkolejno\u015b\u0107 sekcji, drobne redakcyjne, naprawa i usuni\u0119cie linku \n",
        "\n"
       ]
      },
      {
       "output_type": "stream",
       "stream": "stdout",
       "text": [
        "305\tSpanish Wikipedia\tManuel_Rodr\u00edguez_(telenovela)\t \n",
        "\n"
       ]
      },
      {
       "output_type": "stream",
       "stream": "stdout",
       "text": [
        "306\tFrench Wikipedia\tSex-symbol\t/* Ann\u00e9es 2010 */ \n",
        "\n"
       ]
      },
      {
       "output_type": "stream",
       "stream": "stdout",
       "text": [
        "307\tWikidata\tQ2191751\t/* wbcreateclaim-create:1| */ [[Property:P106]]: [[Q13382519]] \n",
        "\n"
       ]
      },
      {
       "output_type": "stream",
       "stream": "stdout",
       "text": [
        "308\tWikidata\tQ17341414\t/* wbsetdescription-add:1|pt */ categoria de um projeto da Wikimedia \n",
        "\n"
       ]
      },
      {
       "output_type": "stream",
       "stream": "stdout",
       "text": [
        "309\tWikimedia Commons\tCategory:Lokalbahn_Frankenthal\u2013Gro\u00dfkarlbach.png\t \n",
        "\n"
       ]
      },
      {
       "output_type": "stream",
       "stream": "stdout",
       "text": [
        "310\tPolish Wikipedia\tPytanie_na_\u015bniadanie\tredakcyjne \n",
        "\n"
       ]
      },
      {
       "output_type": "stream",
       "stream": "stdout",
       "text": [
        "311\tEnglish Wikipedia\tStagecoach_bus_route_555\t/* Current Route */ \n",
        "\n"
       ]
      },
      {
       "output_type": "stream",
       "stream": "stdout",
       "text": [
        "312\tWikimedia Commons\tFile:CynthiaErotaDSF_355_1.jpg\tBot: [[Com:Regex#Categories|Category-cleanup]]. \n",
        "\n"
       ]
      },
      {
       "output_type": "stream",
       "stream": "stdout",
       "text": [
        "313\tWikidata\tQ17494735\t/* wbcreateclaim-create:1| */ [[Property:P186]]: [[Q389782]] \n",
        "\n"
       ]
      },
      {
       "output_type": "stream",
       "stream": "stdout",
       "text": [
        "314\tWikimedia Commons\tFile:350002praha_hlavni1992-9-9.jpg\tnew key for [[Category:ZSSK Class 350]]: \"002\" using [[Help:Gadget-HotCat|HotCat]] \n",
        "\n"
       ]
      },
      {
       "output_type": "stream",
       "stream": "stdout",
       "text": [
        "315\tWikidata\tQ17341414\t/* wbsetdescription-add:1|ru */ \u043a\u0430\u0442\u0435\u0433\u043e\u0440\u0438\u044f \u0432 \u043f\u0440\u043e\u0435\u043a\u0442\u0435 \u0412\u0438\u043a\u0438\u043c\u0435\u0434\u0438\u0430 \n",
        "\n"
       ]
      },
      {
       "output_type": "stream",
       "stream": "stdout",
       "text": [
        "316\tWikidata\tQ2852954\t/* wbsetdescription-add:1|fa */ Auto-description for Persian \n",
        "\n"
       ]
      },
      {
       "output_type": "stream",
       "stream": "stdout",
       "text": [
        "317\tWikidata\tQ17494735\t/* wbcreateclaim-create:1| */ [[Property:P186]]: [[Q11472]] \n",
        "\n"
       ]
      },
      {
       "output_type": "stream",
       "stream": "stdout",
       "text": [
        "318\tPortuguese Wikipedia\tCol\u00e9gio_Koelle\t \n",
        "\n"
       ]
      },
      {
       "output_type": "stream",
       "stream": "stdout",
       "text": [
        "319\tWikidata\tQ17341354\t/* wbcreateclaim-create:1| */ [[Property:P31]]: [[Q4167836]] \n",
        "\n"
       ]
      },
      {
       "output_type": "stream",
       "stream": "stdout",
       "text": [
        "320\tFrench Wikipedia\t\u00c9toile_de_type_OV\tPage redirig\u00e9e vers [[\u00c9toile bleue de la s\u00e9quence principale]] \n",
        "\n"
       ]
      },
      {
       "output_type": "stream",
       "stream": "stdout",
       "text": [
        "321\tEnglish Wikipedia\tSociedad_Qu\u00edmica_y_Minera\tremove ticker from the lead per [[WP:TICKER]] \n",
        "\n"
       ]
      },
      {
       "output_type": "stream",
       "stream": "stdout",
       "text": [
        "322\tEnglish Wikipedia\tShock\t/* Medicine */ lc \n",
        "\n"
       ]
      },
      {
       "output_type": "stream",
       "stream": "stdout",
       "text": [
        "323\tItalian Wikipedia\tSpeciale:Log/protect\tha protetto \"[[Wikipedia:Vetrina/Segnalazioni/Concerti per clavicembalo di Johann Sebastian Bach \u200e[edit=sysop] (infinito)\u200e[move=sysop] (infinito)]]\": segnalazione chiusa e archiviata \n",
        "\n"
       ]
      },
      {
       "output_type": "stream",
       "stream": "stdout",
       "text": [
        "324\tPortuguese Wikipedia\tNiels_Jerne\tAjustes \n",
        "\n"
       ]
      },
      {
       "output_type": "stream",
       "stream": "stdout",
       "text": [
        "325\tRussian Wikipedia\t\u041f\u043e\u0434\u043c\u044b\u0448\u043d\u0438\u043a\u0438\t/* \u041f\u0440\u0438\u043c\u0435\u0447\u0430\u043d\u0438\u044f */ \u0434\u043e\u043f\u043e\u043b\u043d\u0435\u043d\u0438\u0435 \n",
        "\n"
       ]
      },
      {
       "output_type": "stream",
       "stream": "stdout",
       "text": [
        "326\tWikidata\tQ17341354\t/* wbsetdescription-add:1|de */ Wikimedia-Kategorie \n",
        "\n"
       ]
      },
      {
       "output_type": "stream",
       "stream": "stdout",
       "text": [
        "327\tWikimedia Commons\tSpecial:Log/upload\tuploaded \"[[\u000302File:Hannah Ballou 8104024.JPG\u000310]]\" \n",
        "\n"
       ]
      },
      {
       "output_type": "stream",
       "stream": "stdout",
       "text": [
        "328\tWikidata\tQ17494735\t/* wbsetqualifier-add:1| */ [[Property:P518]]: [[Q861259]] \n",
        "\n"
       ]
      },
      {
       "output_type": "stream",
       "stream": "stdout",
       "text": [
        "329\tEnglish Wikipedia\tTalk:Tony_Stewart\t/* Death of Kevin Ward, Jr. */ moving to proper sequence \n",
        "\n"
       ]
      },
      {
       "output_type": "stream",
       "stream": "stdout",
       "text": [
        "330\tWikidata\tQ5108700\t/* wbcreateclaim-create:1| */ [[Property:P31]]: [[Q16970]] \n",
        "\n"
       ]
      },
      {
       "output_type": "stream",
       "stream": "stdout",
       "text": [
        "331\tWikidata\tQ17341354\t/* wbsetdescription-add:1|en */ Wikimedia category page \n",
        "\n"
       ]
      },
      {
       "output_type": "stream",
       "stream": "stdout",
       "text": [
        "332\tEnglish Wikipedia\tWikipedia:Reference_desk/Humanities\t/* Related question */ \n",
        "\n"
       ]
      },
      {
       "output_type": "stream",
       "stream": "stdout",
       "text": [
        "333\tWikimedia Commons\tFile:CynthiaErota_354_1.jpg\tBot: [[Com:Regex#Categories|Category-cleanup]]. \n",
        "\n"
       ]
      },
      {
       "output_type": "stream",
       "stream": "stdout",
       "text": [
        "334\tEnglish Wikipedia\tFelipe_Carde\u00f1a\t[[WP:AWB/T|typo(s) fixed]]: differents \u2192 different using [[Project:AWB|AWB]] \n",
        "\n"
       ]
      },
      {
       "output_type": "stream",
       "stream": "stdout",
       "text": [
        "335\tPortuguese Wikipedia\tEspecial:Log/abusefilter\tRenato de carvalho ferreira acionou o filtro [[Especial:Filtro de abusos/124|filtro 124]], ao executar a a\u00e7\u00e3o \"edit\" no artigo [[\u000302Jo\u00e3o (c\u00f4nsul)\u000310]]. A\u00e7\u00f5es realizadas: nenhuma ([[Especial:Registro de abusos/1769698|detalhes]]) \n",
        "\n"
       ]
      },
      {
       "output_type": "stream",
       "stream": "stdout",
       "text": [
        "336\tEnglish Wikipedia\tPericyte\twhite space \n",
        "\n"
       ]
      },
      {
       "output_type": "stream",
       "stream": "stdout",
       "text": [
        "337\tWikidata\tQ17341354\t/* wbsetdescription-add:1|es */ categor\u00eda de Wikimedia \n",
        "\n"
       ]
      },
      {
       "output_type": "stream",
       "stream": "stdout",
       "text": [
        "338\tWikidata\tQ17494738\t/* wbcreateclaim-create:1| */ [[Property:P186]]: [[Q296955]] \n",
        "\n"
       ]
      },
      {
       "output_type": "stream",
       "stream": "stdout",
       "text": [
        "339\tWikimedia Commons\tSpecial:Log/abusefilter\tMike Peel triggered [[Special:AbuseFilter/132|filter 132]], performing the action \"edit\" on [[\u000302File:Macaca nigra self-portrait full body.jpg\u000310]]. Actions taken: none ([[Special:AbuseLog/542802|details]]) \n",
        "\n"
       ]
      },
      {
       "output_type": "stream",
       "stream": "stdout",
       "text": [
        "340\tPortuguese Wikipedia\tShakhbuz\t \n",
        "\n"
       ]
      },
      {
       "output_type": "stream",
       "stream": "stdout",
       "text": [
        "341\tSpanish Wikipedia\tEspecial:Log/newusers\tNew user account \n",
        "\n"
       ]
      },
      {
       "output_type": "stream",
       "stream": "stdout",
       "text": [
        "342\tWikimedia Commons\tCategory:Vlogbrothers\t[[COM:AES|\u2190]]Created page with '[[Category:Bloggers]][[Category:Video bloggers]]' \n",
        "\n"
       ]
      },
      {
       "output_type": "stream",
       "stream": "stdout",
       "text": [
        "343\tEnglish Wikipedia\tPenn_State_Nittany_Lions_women's_ice_hockey\t/* ACHA years */  Added Andrea Lavelle photo \n",
        "\n"
       ]
      },
      {
       "output_type": "stream",
       "stream": "stdout",
       "text": [
        "344\tWikidata\tQ17341354\t/* wbsetdescription-add:1|fr */ page de cat\u00e9gorie d'un projet Wikimedia \n",
        "\n"
       ]
      },
      {
       "output_type": "stream",
       "stream": "stdout",
       "text": [
        "345\tPortuguese Wikipedia\tJo\u00e3o_(c\u00f4nsul)\tnova p\u00e1gina: {{Info/Biografia |nome            = Constantiolo |nascimento_data = |nacionalidade   = {{IB}} |morte_data      = |c\u00f4njuge         = |filhos          = |religi\u00e3o        = |ocupa\u00e7... \n",
        "\n"
       ]
      },
      {
       "output_type": "stream",
       "stream": "stdout",
       "text": [
        "346\tEnglish Wikipedia\tUser_talk:Technophant/Al_Furqan_Media\tstart talk page \n",
        "\n"
       ]
      },
      {
       "output_type": "stream",
       "stream": "stdout",
       "text": [
        "347\tWikidata\tQ17494738\t/* wbcreateclaim-create:1| */ [[Property:P186]]: [[Q4259259]] \n",
        "\n"
       ]
      },
      {
       "output_type": "stream",
       "stream": "stdout",
       "text": [
        "348\tFrench Wikipedia\tBrian_St._Pierre\t/* Steelers de Pittsburgh (2003-2005) : Acqu\u00e9rir de l'exp\u00e9rience */ \n",
        "\n"
       ]
      },
      {
       "output_type": "stream",
       "stream": "stdout",
       "text": [
        "349\tWikidata\tQ2852955\t/* wbsetdescription-add:1|fa */ Auto-description for Persian \n",
        "\n"
       ]
      },
      {
       "output_type": "stream",
       "stream": "stdout",
       "text": [
        "350\tJapanese Wikipedia\tCategory:\u897f\u65b0\u5bbf\u3092\u821e\u53f0\u3068\u3057\u305f\u4f5c\u54c1\t[[WP:AES|\u2190]]\u65b0\u3057\u3044\u30da\u30fc\u30b8: '{{DEFAULTSORT:\u306b\u3057\u3057\u3093\u3057\u3086\u304f\u3092\u3075\u305f\u3044\u3068\u3057\u305f\u3055\u304f\u3072\u3093}} [[Category:\u65b0\u5bbf\u3092\u821e\u53f0\u3068\u3057\u305f\u4f5c\u54c1]] Category:\u6771\u4eac\u3092\u821e\u53f0\u3068\u3057\u305f\u4f5c\u54c1 (...' \n",
        "\n"
       ]
      },
      {
       "output_type": "stream",
       "stream": "stdout",
       "text": [
        "351\tWikidata\tQ17341354\t/* wbsetdescription-add:1|it */ categoria di un progetto Wikimedia \n",
        "\n"
       ]
      },
      {
       "output_type": "stream",
       "stream": "stdout",
       "text": [
        "352\tEnglish Wikipedia\tHuey_Lewis_and_the_News\t/* \"Ghostbusters\" song lawsuit */ last name \n",
        "\n"
       ]
      },
      {
       "output_type": "stream",
       "stream": "stdout",
       "text": [
        "353\tWikimedia Commons\tCategory:Detroit_Orchestra_Hall\tconsolidated categories \n",
        "\n"
       ]
      },
      {
       "output_type": "stream",
       "stream": "stdout",
       "text": [
        "354\tPortuguese Wikipedia\tEspecial:Log/newusers\tNew user account \n",
        "\n"
       ]
      },
      {
       "output_type": "stream",
       "stream": "stdout",
       "text": [
        "355\tGerman Wikipedia\tAenne-Biermann-Preis\t[[WP:HC|HC]]: +[[Kategorie:Kulturpreis nach Namensgeber]]; +[[Kategorie:Kulturpreis (Deutschland)]]; +[[Kategorie:Auszeichnung (Th\u00fcringen)]] \n",
        "\n"
       ]
      },
      {
       "output_type": "stream",
       "stream": "stdout",
       "text": [
        "356\tEnglish Wikipedia\tParatomoxia_auroscutellata\t/* External links */clean up, change cat using [[Project:AWB|AWB]] \n",
        "\n"
       ]
      },
      {
       "output_type": "stream",
       "stream": "stdout",
       "text": [
        "357\tEnglish Wikipedia\tKidnapping_and_murder_of_Mohammed_Abu_Khdeir\t/* Background */ \n",
        "\n"
       ]
      },
      {
       "output_type": "stream",
       "stream": "stdout",
       "text": [
        "358\tWikidata\tQ17494738\t/* wbsetqualifier-add:1| */ [[Property:P518]]: [[Q861259]] \n",
        "\n"
       ]
      },
      {
       "output_type": "stream",
       "stream": "stdout",
       "text": [
        "359\tWikidata\tQ16069944\t/* wbcreateclaim-create:1| */ [[Property:P31]]: [[Q13406463]] \n",
        "\n"
       ]
      },
      {
       "output_type": "stream",
       "stream": "stdout",
       "text": [
        "360\tWikidata\tQ17341354\t/* wbsetdescription-add:1|pt */ categoria de um projeto da Wikimedia \n",
        "\n"
       ]
      },
      {
       "output_type": "stream",
       "stream": "stdout",
       "text": [
        "361\tPolish Wikipedia\tDyskusja:Blizzard_Entertainment\tlink poprawiony \n",
        "\n"
       ]
      },
      {
       "output_type": "stream",
       "stream": "stdout",
       "text": [
        "362\tEnglish Wikipedia\tHighways_in_Croatia\t/* Motorways */ moved history from [[Transport in Croatia]] \n",
        "\n"
       ]
      },
      {
       "output_type": "stream",
       "stream": "stdout",
       "text": [
        "363\tWikimedia Commons\tCategory:Executioners_in_heraldry\tadded [[Category:Executioners]] using [[Help:Gadget-HotCat|HotCat]] \n",
        "\n"
       ]
      },
      {
       "output_type": "stream",
       "stream": "stdout",
       "text": [
        "364\tWikimedia Commons\tFile:CynthiaKelleyRodneyKingApr2012.jpg\tBot: [[Com:Regex#Categories|Category-cleanup]]. \n",
        "\n"
       ]
      },
      {
       "output_type": "stream",
       "stream": "stdout",
       "text": [
        "365\tWikidata\tQ17341354\t/* wbsetdescription-add:1|ru */ \u043a\u0430\u0442\u0435\u0433\u043e\u0440\u0438\u044f \u0432 \u043f\u0440\u043e\u0435\u043a\u0442\u0435 \u0412\u0438\u043a\u0438\u043c\u0435\u0434\u0438\u0430 \n",
        "\n"
       ]
      },
      {
       "output_type": "stream",
       "stream": "stdout",
       "text": [
        "366\tFrench Wikipedia\tProjet:Monde_germanique/\u00c9valuation/Index/35\tMise \u00e0 jour de la liste des articles \u00e9valu\u00e9s du projet [[Projet:Monde germanique/\u00c9valuation|Monde germanique]] \n",
        "\n"
       ]
      },
      {
       "output_type": "stream",
       "stream": "stdout",
       "text": [
        "367\tFrench Wikipedia\tInt\u00e9gration_de_la_R\u00e9publique_d\u00e9mocratique_allemande_dans_la_Communaut\u00e9_\u00e9conomique_europ\u00e9enne\t/* Bibliographie */ \n",
        "\n"
       ]
      },
      {
       "output_type": "stream",
       "stream": "stdout",
       "text": [
        "368\tSpanish Wikipedia\tEmiliano_Alfaro\t/* Trayectoria = */ \n",
        "\n"
       ]
      },
      {
       "output_type": "stream",
       "stream": "stdout",
       "text": [
        "369\tFrench Wikipedia\tA\u00e9roport_international_Luis-Mu\u00f1oz-Mar\u00edn\toubli de la source, d\u00e9sol\u00e9 \n",
        "\n"
       ]
      },
      {
       "output_type": "stream",
       "stream": "stdout",
       "text": [
        "370\tGerman Wikipedia\tDiskussion:Cruise_Days\t/* Version vom 9. August */ \n",
        "\n"
       ]
      },
      {
       "output_type": "stream",
       "stream": "stdout",
       "text": [
        "371\tWikidata\tQ17494740\t/* wbcreateclaim-create:1| */ [[Property:P186]]: [[Q296955]] \n",
        "\n"
       ]
      },
      {
       "output_type": "stream",
       "stream": "stdout",
       "text": [
        "372\tWikidata\tQ17340953\t/* wbcreateclaim-create:1| */ [[Property:P31]]: [[Q4167836]] \n",
        "\n"
       ]
      },
      {
       "output_type": "stream",
       "stream": "stdout",
       "text": [
        "373\tEnglish Wikipedia\tFredrik_Midtsj\u00f8\t \n",
        "\n"
       ]
      },
      {
       "output_type": "stream",
       "stream": "stdout",
       "text": [
        "374\tWikimedia Commons\tFile:Brno_hl.n._350.003.jpg\tnew key for [[Category:ZSSK Class 350]]: \"003\" using [[Help:Gadget-HotCat|HotCat]] \n",
        "\n"
       ]
      },
      {
       "output_type": "stream",
       "stream": "stdout",
       "text": [
        "375\tEnglish Wikipedia\tTimeline_of_Edinburgh_history\t/* Seventeenth century */  accuracy tweak \n",
        "\n"
       ]
      },
      {
       "output_type": "stream",
       "stream": "stdout",
       "text": [
        "376\tWikimedia Commons\tSpecial:Log/upload\tuploaded a new version of File:East Ukraine conflict.png: Ivanivka, Krasny Yar, Fashchivka - doing a three way operation towards Krasny Luch from the W, NE, S. See the discussion page. \n",
        "\n"
       ]
      },
      {
       "output_type": "stream",
       "stream": "stdout",
       "text": [
        "377\tGerman Wikipedia\tBenutzer_Diskussion:J\u00fcrgen_Engel\tNeuer Abschnitt /* Ausrufer \u2013 33. Woche */ \n",
        "\n"
       ]
      },
      {
       "output_type": "stream",
       "stream": "stdout",
       "text": [
        "378\tWikidata\tQ2852965\t/* wbsetdescription-add:1|fa */ Auto-description for Persian \n",
        "\n"
       ]
      },
      {
       "output_type": "stream",
       "stream": "stdout",
       "text": [
        "379\tWikidata\tQ17340953\t/* wbsetdescription-add:1|de */ Wikimedia-Kategorie \n",
        "\n"
       ]
      },
      {
       "output_type": "stream",
       "stream": "stdout",
       "text": [
        "380\tWikidata\tQ17494740\t/* wbcreateclaim-create:1| */ [[Property:P186]]: [[Q4259259]] \n",
        "\n"
       ]
      },
      {
       "output_type": "stream",
       "stream": "stdout",
       "text": [
        "381\tWikimedia Commons\tCategory:16th-century_oil_paintings_of_sitting_women_at_full_length\t \n",
        "\n"
       ]
      },
      {
       "output_type": "stream",
       "stream": "stdout",
       "text": [
        "382\tJapanese Wikipedia\t\u3061\u3089\u3057\u5bff\u53f8\t \n",
        "\n"
       ]
      },
      {
       "output_type": "stream",
       "stream": "stdout",
       "text": [
        "383\tWikidata\tQ1284881\t/* wbcreateclaim-create:1| */ [[Property:P106]]: [[Q13382519]] \n",
        "\n"
       ]
      },
      {
       "output_type": "stream",
       "stream": "stdout",
       "text": [
        "384\tRussian Wikipedia\t\u041e\u0437\u0438\u043c\u0430\u043d\u0434\u0438\u044f_(\u0425\u0440\u0430\u043d\u0438\u0442\u0435\u043b\u0438)\t/* \u041b\u0438\u0447\u043d\u043e\u0441\u0442\u044c */ \n",
        "\n"
       ]
      },
      {
       "output_type": "stream",
       "stream": "stdout",
       "text": [
        "385\tWikidata\tQ17340953\t/* wbsetdescription-add:1|en */ Wikimedia category page \n",
        "\n"
       ]
      },
      {
       "output_type": "stream",
       "stream": "stdout",
       "text": [
        "386\tWikidata\tQ17494740\t/* wbsetqualifier-add:1| */ [[Property:P518]]: [[Q861259]] \n",
        "\n"
       ]
      },
      {
       "output_type": "stream",
       "stream": "stdout",
       "text": [
        "387\tCzech Wikipedia\tTich\u00fd_Potok\twikifikace (syntaxe <br />) \n",
        "\n"
       ]
      },
      {
       "output_type": "stream",
       "stream": "stdout",
       "text": [
        "388\tEnglish Wikipedia\tPierre_Lavenant\t/* International career */ \n",
        "\n"
       ]
      },
      {
       "output_type": "stream",
       "stream": "stdout",
       "text": [
        "389\tSpanish Wikipedia\tEspecial:Log/abusefilter\tRoberto Malla urresta dispar\u00f3 [[Especial:FiltroAntiAbusos/17|filtro 17]], realizando la acci\u00f3n \"edit\" en [[\u000302Usuario:Roberto Malla urresta\u000310]]. Medidas adoptadas: No permitir ([[Especial:RegistroAbusos/3515238|detalles]]) \n",
        "\n"
       ]
      },
      {
       "output_type": "stream",
       "stream": "stdout",
       "text": [
        "390\tEnglish Wikipedia\tMultilayered_Mapping_of_the_Cap-Vert\t[[WP:AWB/T|typo(s) fixed]]: differents \u2192 different using [[Project:AWB|AWB]] \n",
        "\n"
       ]
      },
      {
       "output_type": "stream",
       "stream": "stdout",
       "text": [
        "391\tPortuguese Wikipedia\tOrdubad\t \n",
        "\n"
       ]
      },
      {
       "output_type": "stream",
       "stream": "stdout",
       "text": [
        "392\tGerman Wikipedia\tBenutzer:Giacomo1970\t+ Anna Halasz \n",
        "\n"
       ]
      },
      {
       "output_type": "stream",
       "stream": "stdout",
       "text": [
        "393\tEnglish Wikipedia\tWikipedia:Reference_desk/Language\t/* Latin translation */ \n",
        "\n"
       ]
      },
      {
       "output_type": "stream",
       "stream": "stdout",
       "text": [
        "394\tWikidata\tQ17340953\t/* wbsetdescription-add:1|es */ categor\u00eda de Wikimedia \n",
        "\n"
       ]
      },
      {
       "output_type": "stream",
       "stream": "stdout",
       "text": [
        "395\tFrench Wikipedia\tSp\u00e9cial:Log/newusers\tNew user account \n",
        "\n"
       ]
      },
      {
       "output_type": "stream",
       "stream": "stdout",
       "text": [
        "396\tWikimedia Commons\tFile:CynthiaLummis.jpg\tBot: [[Com:IntRegex|Internationalisation]]. Grouping categories at the bottom. \n",
        "\n"
       ]
      },
      {
       "output_type": "stream",
       "stream": "stdout",
       "text": [
        "397\tCzech Wikipedia\tSladk\u00fd_\u017eivot_na_mo\u0159i_II\tnap\u0159\u00edmen\u00ed p\u0159esm\u011brov\u00e1n\u00ed \n",
        "\n"
       ]
      },
      {
       "output_type": "stream",
       "stream": "stdout",
       "text": [
        "398\tWikidata\tQ17340953\t/* wbsetdescription-add:1|fr */ page de cat\u00e9gorie d'un projet Wikimedia \n",
        "\n"
       ]
      },
      {
       "output_type": "stream",
       "stream": "stdout",
       "text": [
        "399\tWikidata\tQ17494742\t/* wbcreateclaim-create:1| */ [[Property:P186]]: [[Q296955]] \n",
        "\n"
       ]
      },
      {
       "output_type": "stream",
       "stream": "stdout",
       "text": [
        "400\tWikimedia Commons\tFile:Special_participant_on_CIAF_2010_in_Hradec_Kralove.jpg\tadded [[Category:Boeing 737-400 (Holidays Czech Airlines)]] using [[Help:Gadget-HotCat|HotCat]] \n",
        "\n"
       ]
      },
      {
       "output_type": "stream",
       "stream": "stdout",
       "text": [
        "401\tSpanish Wikipedia\tEspecial:Log/newusers\tNew user account \n",
        "\n"
       ]
      },
      {
       "output_type": "stream",
       "stream": "stdout",
       "text": [
        "402\tWikidata\tQ17340953\t/* wbsetdescription-add:1|it */ categoria di un progetto Wikimedia \n",
        "\n"
       ]
      },
      {
       "output_type": "stream",
       "stream": "stdout",
       "text": [
        "403\tGerman Wikipedia\tWikipedia:Kurier/Wikimania_2014\tkommt noch \u00fcberarbeitung \n",
        "\n"
       ]
      },
      {
       "output_type": "stream",
       "stream": "stdout",
       "text": [
        "404\tEnglish Wikipedia\tSpecial:Log/abusefilter\t76.170.88.72 triggered [[Special:AbuseFilter/172|filter 172]], performing the action \"edit\" on [[\u000302The Wizard of Oz (1939 film)\u000310]]. Actions taken: Tag ([[Special:AbuseLog/10691724|details]]) \n",
        "\n"
       ]
      },
      {
       "output_type": "stream",
       "stream": "stdout",
       "text": [
        "405\tWikidata\tQ17494742\t/* wbcreateclaim-create:1| */ [[Property:P186]]: [[Q4259259]] \n",
        "\n"
       ]
      },
      {
       "output_type": "stream",
       "stream": "stdout",
       "text": [
        "406\tEnglish Wikipedia\tThe_Wizard_of_Oz_(1939_film)\t/* Plot */ test \n",
        "\n"
       ]
      },
      {
       "output_type": "stream",
       "stream": "stdout",
       "text": [
        "407\tWikidata\tQ17340953\t/* wbsetdescription-add:1|pt */ categoria de um projeto da Wikimedia \n",
        "\n"
       ]
      },
      {
       "output_type": "stream",
       "stream": "stdout",
       "text": [
        "408\tRussian Wikipedia\t\u0421\u043b\u0443\u0436\u0435\u0431\u043d\u0430\u044f:Log/review\t\u043f\u0440\u043e\u0432\u0435\u0440\u0438\u043b \u0432\u0435\u0440\u0441\u0438\u044e [[\u000302\u0420\u0435\u0431\u0435\u043a\u043a\u0430 (\u0440\u043e\u043c\u0430\u043d)\u000310]]: [\u0421\u043e\u0441\u0442\u043e\u044f\u043d\u0438\u0435: \u043e\u0442\u043f\u0430\u0442\u0440\u0443\u043b\u0438\u0440\u043e\u0432\u0430\u043d\u0430] \n",
        "\n"
       ]
      },
      {
       "output_type": "stream",
       "stream": "stdout",
       "text": [
        "409\tRussian Wikipedia\t\u0421\u043b\u0443\u0436\u0435\u0431\u043d\u0430\u044f:Log/newusers\t\u043d\u043e\u0432\u044b\u0439 \u0443\u0447\u0430\u0441\u0442\u043d\u0438\u043a \n",
        "\n"
       ]
      },
      {
       "output_type": "stream",
       "stream": "stdout",
       "text": [
        "410\tEnglish Wikipedia\tThe_Ibsen_Cycle\t \n",
        "\n"
       ]
      },
      {
       "output_type": "stream",
       "stream": "stdout",
       "text": [
        "411\tGerman Wikipedia\tLandessch\u00fclervertretung_Hessen\t \n",
        "\n"
       ]
      },
      {
       "output_type": "stream",
       "stream": "stdout",
       "text": [
        "412\tWikidata\tQ2852984\t/* wbsetdescription-add:1|fa */ Auto-description for Persian \n",
        "\n"
       ]
      },
      {
       "output_type": "stream",
       "stream": "stdout",
       "text": [
        "413\tWikidata\tQ17340953\t/* wbsetdescription-add:1|ru */ \u043a\u0430\u0442\u0435\u0433\u043e\u0440\u0438\u044f \u0432 \u043f\u0440\u043e\u0435\u043a\u0442\u0435 \u0412\u0438\u043a\u0438\u043c\u0435\u0434\u0438\u0430 \n",
        "\n"
       ]
      },
      {
       "output_type": "stream",
       "stream": "stdout",
       "text": [
        "414\tEnglish Wikipedia\tThe_Three_Musketeers_(1961_film)\tUngrammatical \n",
        "\n"
       ]
      },
      {
       "output_type": "stream",
       "stream": "stdout",
       "text": [
        "415\tWikidata\tQ17494742\t/* wbsetqualifier-add:1| */ [[Property:P518]]: [[Q861259]] \n",
        "\n"
       ]
      },
      {
       "output_type": "stream",
       "stream": "stdout",
       "text": [
        "416\tWikimedia Commons\tFile:Museo_de_la_Inquisici\u00f3n_-_Ballesta.jpg\tadded [[Category:Weapons in C\u00f3rdoba, Spain]] using [[Help:Gadget-HotCat|HotCat]] \n",
        "\n"
       ]
      },
      {
       "output_type": "stream",
       "stream": "stdout",
       "text": [
        "417\tEnglish Wikipedia\tAdam_Thomas\t \n",
        "\n"
       ]
      },
      {
       "output_type": "stream",
       "stream": "stdout",
       "text": [
        "418\tEnglish Wikipedia\tWikipedia_talk:Verifiability\t/* Sources */ re \n",
        "\n"
       ]
      },
      {
       "output_type": "stream",
       "stream": "stdout",
       "text": [
        "419\tItalian Wikipedia\tKerr_Smith\t/* Filmografia */ \n",
        "\n"
       ]
      },
      {
       "output_type": "stream",
       "stream": "stdout",
       "text": [
        "420\tEnglish Wikipedia\tUser:Nk3play2/sandbox/13\t \n",
        "\n"
       ]
      },
      {
       "output_type": "stream",
       "stream": "stdout",
       "text": [
        "421\tItalian Wikipedia\tMugnano_di_Napoli\t \n",
        "\n"
       ]
      },
      {
       "output_type": "stream",
       "stream": "stdout",
       "text": [
        "422\tWikidata\tQ17494745\t/* wbcreateclaim-create:1| */ [[Property:P186]]: [[Q296955]] \n",
        "\n"
       ]
      },
      {
       "output_type": "stream",
       "stream": "stdout",
       "text": [
        "423\tWikidata\tQ17340904\t/* wbcreateclaim-create:1| */ [[Property:P31]]: [[Q4167836]] \n",
        "\n"
       ]
      },
      {
       "output_type": "stream",
       "stream": "stdout",
       "text": [
        "424\tWikimedia Commons\tFile:CynthiaMuvirimi_0191.JPG\tBot: [[Com:IntRegex|Internationalisation]]. \n",
        "\n"
       ]
      },
      {
       "output_type": "stream",
       "stream": "stdout",
       "text": [
        "425\tWikidata\tQ17494745\t/* wbcreateclaim-create:1| */ [[Property:P186]]: [[Q4259259]] \n",
        "\n"
       ]
      },
      {
       "output_type": "stream",
       "stream": "stdout",
       "text": [
        "426\tEnglish Wikipedia\tWikipedia_talk:WikiProject_Medicine\t/* Interesting image */ likely many more where that came from \n",
        "\n"
       ]
      },
      {
       "output_type": "stream",
       "stream": "stdout",
       "text": [
        "427\tWikidata\tQ17340904\t/* wbsetdescription-add:1|de */ Wikimedia-Kategorie \n",
        "\n"
       ]
      },
      {
       "output_type": "stream",
       "stream": "stdout",
       "text": [
        "428\tEnglish Wikipedia\tParatomoxia_hieroglyphica\t/* External links */clean up, change cat using [[Project:AWB|AWB]] \n",
        "\n"
       ]
      },
      {
       "output_type": "stream",
       "stream": "stdout",
       "text": [
        "429\tEnglish Wikipedia\tAdam_Smith_(footballer,_born_February_1985)\tupdating stats match played 9 August 2014 \n",
        "\n"
       ]
      },
      {
       "output_type": "stream",
       "stream": "stdout",
       "text": [
        "430\tEnglish Wikipedia\tTalk:African_admixture_in_Europe\tSigning comment by [[Special:Contributions/46.189.202.30|46.189.202.30]] - \"/* POV dispute (December 2013) */\" \n",
        "\n"
       ]
      },
      {
       "output_type": "stream",
       "stream": "stdout",
       "text": [
        "431\tSwedish Wikipedia\tAnv\u00e4ndardiskussion:Fagaro\t[[Wikipedia:Automatisk sammanfattning|\u2190]]Skapade sidan med 'Aubot the real Emmely Rose!!! -------------------------------------------- Detta \u00e4r en v\u00e4rklighet, en av l\u00e4karna sa ett sant ord,...' \n",
        "\n"
       ]
      },
      {
       "output_type": "stream",
       "stream": "stdout",
       "text": [
        "432\tEnglish Wikipedia\tSpecial:Log/abusefilter\tAzmartial triggered [[Special:AbuseFilter/29|filter 29]], performing the action \"edit\" on [[\u000302Vusal Abdullazade\u000310]]. Actions taken: Tag ([[Special:AbuseLog/10691725|details]]) \n",
        "\n"
       ]
      },
      {
       "output_type": "stream",
       "stream": "stdout",
       "text": [
        "433\tEnglish Wikipedia\tThomas_de_Maizi\u00e8re\t \n",
        "\n"
       ]
      },
      {
       "output_type": "stream",
       "stream": "stdout",
       "text": [
        "434\tEnglish Wikipedia\tVusal_Abdullazade\t \n",
        "\n"
       ]
      },
      {
       "output_type": "stream",
       "stream": "stdout",
       "text": [
        "435\tGerman Wikipedia\tBenutzer:Unendlicheweiten\t/* Wirken */ 1. selbst erstellter Artikel \n",
        "\n"
       ]
      },
      {
       "output_type": "stream",
       "stream": "stdout",
       "text": [
        "436\tWikidata\tQ17340904\t/* wbsetdescription-add:1|en */ Wikimedia category page \n",
        "\n"
       ]
      },
      {
       "output_type": "stream",
       "stream": "stdout",
       "text": [
        "437\tWikidata\tQ2254816\t/* wbcreateclaim-create:1| */ [[Property:P31]]: [[Q13406463]] \n",
        "\n"
       ]
      },
      {
       "output_type": "stream",
       "stream": "stdout",
       "text": [
        "438\tGerman Wikipedia\tHarald_Hedjerson\t\u201ewar\u201c reicht \n",
        "\n"
       ]
      },
      {
       "output_type": "stream",
       "stream": "stdout",
       "text": [
        "439\tWikidata\tQ17494745\t/* wbsetqualifier-add:1| */ [[Property:P518]]: [[Q861259]] \n",
        "\n"
       ]
      },
      {
       "output_type": "stream",
       "stream": "stdout",
       "text": [
        "440\tWikidata\tQ17340904\t/* wbsetdescription-add:1|es */ categor\u00eda de Wikimedia \n",
        "\n"
       ]
      },
      {
       "output_type": "stream",
       "stream": "stdout",
       "text": [
        "441\tEnglish Wikipedia\tBrendon_Todd\t \n",
        "\n"
       ]
      },
      {
       "output_type": "stream",
       "stream": "stdout",
       "text": [
        "442\tWikimedia Commons\tFile:Museo_de_la_Inquisici\u00f3n_04.jpg\tadded [[Category:Weapons in C\u00f3rdoba, Spain]] using [[Help:Gadget-HotCat|HotCat]] \n",
        "\n"
       ]
      },
      {
       "output_type": "stream",
       "stream": "stdout",
       "text": [
        "443\tWikidata\tQ2853317\t/* wbsetdescription-add:1|fa */ Auto-description for Persian \n",
        "\n"
       ]
      },
      {
       "output_type": "stream",
       "stream": "stdout",
       "text": [
        "444\tFrench Wikipedia\tProjet:Monde_germanique/\u00c9valuation/Index/40\tMise \u00e0 jour de la liste des articles \u00e9valu\u00e9s du projet [[Projet:Monde germanique/\u00c9valuation|Monde germanique]] \n",
        "\n"
       ]
      },
      {
       "output_type": "stream",
       "stream": "stdout",
       "text": [
        "445\tWikidata\tQ17340904\t/* wbsetdescription-add:1|fr */ page de cat\u00e9gorie d'un projet Wikimedia \n",
        "\n"
       ]
      },
      {
       "output_type": "stream",
       "stream": "stdout",
       "text": [
        "446\tWikidata\tQ17494748\t/* wbcreateclaim-create:1| */ [[Property:P186]]: [[Q296955]] \n",
        "\n"
       ]
      },
      {
       "output_type": "stream",
       "stream": "stdout",
       "text": [
        "447\tEnglish Wikipedia\tLogarithm\t/* From Napier to Euler */ Edited footnote:  added reference (Sarasa, 1649) with external link to ref., quote, & translation of quote \n",
        "\n"
       ]
      },
      {
       "output_type": "stream",
       "stream": "stdout",
       "text": [
        "448\tSpanish Wikipedia\tRyan_Sheckler\tRevertidos los cambios de [[Special:Contributions/79.148.209.209|79.148.209.209]] ([[User talk:79.148.209.209|disc.]]) a la \u00faltima edici\u00f3n de Tarawa1943 \n",
        "\n"
       ]
      },
      {
       "output_type": "stream",
       "stream": "stdout",
       "text": [
        "449\tWikidata\tQ17340904\t/* wbsetdescription-add:1|it */ categoria di un progetto Wikimedia \n",
        "\n"
       ]
      },
      {
       "output_type": "stream",
       "stream": "stdout",
       "text": [
        "450\tWikimedia Commons\tFile:CynthiaSalomaWSF_356.jpg\tBot: [[Com:IntRegex|Internationalisation]]. \n",
        "\n"
       ]
      },
      {
       "output_type": "stream",
       "stream": "stdout",
       "text": [
        "451\tFrench Wikipedia\tUtilisateur:Jpjanuel/brouillon3\t \n",
        "\n"
       ]
      },
      {
       "output_type": "stream",
       "stream": "stdout",
       "text": [
        "452\tEnglish Wikipedia\tSpider-Man_2\t/* Critical reception */ \n",
        "\n"
       ]
      },
      {
       "output_type": "stream",
       "stream": "stdout",
       "text": [
        "453\tWikidata\tQ17340904\t/* wbsetdescription-add:1|pt */ categoria de um projeto da Wikimedia \n",
        "\n"
       ]
      },
      {
       "output_type": "stream",
       "stream": "stdout",
       "text": [
        "454\tEnglish Wikipedia\tIan_Bohen\t/* Filmography */ \n",
        "\n"
       ]
      },
      {
       "output_type": "stream",
       "stream": "stdout",
       "text": [
        "455\tEnglish Wikipedia\tPeninsula_Barracks,_Warrington\t/* History */ exp \n",
        "\n"
       ]
      },
      {
       "output_type": "stream",
       "stream": "stdout",
       "text": [
        "456\tWikidata\tQ17494748\t/* wbcreateclaim-create:1| */ [[Property:P186]]: [[Q4259259]] \n",
        "\n"
       ]
      },
      {
       "output_type": "stream",
       "stream": "stdout",
       "text": [
        "457\tEnglish Wikipedia\tSecurities_and_Exchange_Commission_(Bangladesh)\tupdate logo \n",
        "\n"
       ]
      },
      {
       "output_type": "stream",
       "stream": "stdout",
       "text": [
        "458\tFrench Wikipedia\tThe_Algerian\t \n",
        "\n"
       ]
      },
      {
       "output_type": "stream",
       "stream": "stdout",
       "text": [
        "459\tCatalan Wikipedia\tTrial_de_Sant_Lloren\u00e7_1993\tP\u00e0gina nova, amb el contingut: \u00ab{{Trial de Sant Lloren\u00e7 | edicio = XXVII | intro_edicio = 27 | Actual = 1993 | Anterior = SI | Posterior = SI | club = Motor Club Terrassa | indret = a Vie...\u00bb. \n",
        "\n"
       ]
      },
      {
       "output_type": "stream",
       "stream": "stdout",
       "text": [
        "460\tWikimedia Commons\tFile:Brno,_doln\u00ed_n\u00e1dra\u017e\u00ed,_vlak_s_lokomotivou_350.018_(2013-08-09;_01).jpg\tnew key for [[Category:ZSSK Class 350]]: \"018\" using [[Help:Gadget-HotCat|HotCat]] \n",
        "\n"
       ]
      },
      {
       "output_type": "stream",
       "stream": "stdout",
       "text": [
        "461\tWikidata\tQ17340904\t/* wbsetdescription-add:1|ru */ \u043a\u0430\u0442\u0435\u0433\u043e\u0440\u0438\u044f \u0432 \u043f\u0440\u043e\u0435\u043a\u0442\u0435 \u0412\u0438\u043a\u0438\u043c\u0435\u0434\u0438\u0430 \n",
        "\n"
       ]
      },
      {
       "output_type": "stream",
       "stream": "stdout",
       "text": [
        "462\tWikidata\tQ441050\t/* wbcreateclaim-create:1| */ [[Property:P106]]: [[Q13382519]] \n",
        "\n"
       ]
      },
      {
       "output_type": "stream",
       "stream": "stdout",
       "text": [
        "463\tGerman Wikipedia\tBenutzer_Diskussion:Kghbln\tNeuer Abschnitt /* Ausrufer \u2013 33. Woche */ \n",
        "\n"
       ]
      },
      {
       "output_type": "stream",
       "stream": "stdout",
       "text": [
        "464\tWikidata\tQ17494748\t/* wbsetqualifier-add:1| */ [[Property:P518]]: [[Q861259]] \n",
        "\n"
       ]
      },
      {
       "output_type": "stream",
       "stream": "stdout",
       "text": [
        "465\tEnglish Wikipedia\tHito_Steyerl\t/* Solo exhibitions */ I added her 2014 exhibit at the ICA, with a citation \n",
        "\n"
       ]
      },
      {
       "output_type": "stream",
       "stream": "stdout",
       "text": [
        "466\tPortuguese Wikipedia\tKangarli\t \n",
        "\n"
       ]
      },
      {
       "output_type": "stream",
       "stream": "stdout",
       "text": [
        "467\tFrench Wikipedia\tRafael_Nadal\t/* 2014\u00a0: finale \u00e0 Melbourne, neuvi\u00e8me titre \u00e0 Roland-Garros et nouvel \u00e9chec \u00e0 Wimbledon */ \n",
        "\n"
       ]
      },
      {
       "output_type": "stream",
       "stream": "stdout",
       "text": [
        "468\tEnglish Wikipedia\tFirst_Battle_of_the_Marne\t/* Casualties */ summing up casualties \n",
        "\n"
       ]
      },
      {
       "output_type": "stream",
       "stream": "stdout",
       "text": [
        "469\tWikidata\tQ17340373\t/* wbcreateclaim-create:1| */ [[Property:P31]]: [[Q4167836]] \n",
        "\n"
       ]
      },
      {
       "output_type": "stream",
       "stream": "stdout",
       "text": [
        "470\tWikimedia Commons\tSpecial:Log/move\tmoved [[\u000302File:- Woodside Hall, Main Street, Middlefield Township, Cooperstown, Otsego County, NY HABS NY,39-COOP,11-4.tif\u000310]] to [[File:Woodside Hall, Main Street, Middlefield Township, Cooperstown, Otsego County, NY HABS NY,39-COOP,11-4.tif]]: more meaningful name -  ->  \n",
        "\n"
       ]
      },
      {
       "output_type": "stream",
       "stream": "stdout",
       "text": [
        "471\tEnglish Wikipedia\tSpecial:Log/newusers\tnew user account \n",
        "\n"
       ]
      },
      {
       "output_type": "stream",
       "stream": "stdout",
       "text": [
        "472\tWikidata\tQ17494750\t/* wbcreateclaim-create:1| */ [[Property:P186]]: [[Q296955]] \n",
        "\n"
       ]
      },
      {
       "output_type": "stream",
       "stream": "stdout",
       "text": [
        "473\tWikidata\tQ2853438\t/* wbsetdescription-add:1|fa */ Auto-description for Persian \n",
        "\n"
       ]
      },
      {
       "output_type": "stream",
       "stream": "stdout",
       "text": [
        "474\tEnglish Wikipedia\tUser:Bertaut/sandbox4\t/* Plot */ \n",
        "\n"
       ]
      },
      {
       "output_type": "stream",
       "stream": "stdout",
       "text": [
        "475\tSpanish Wikipedia\tEspecial:Log/newusers\tNew user account \n",
        "\n"
       ]
      },
      {
       "output_type": "stream",
       "stream": "stdout",
       "text": [
        "476\tWikimedia Commons\tFile:CynthiaSaloma_357.jpg\tBot: [[Com:Regex#Categories|Category-cleanup]]. \n",
        "\n"
       ]
      },
      {
       "output_type": "stream",
       "stream": "stdout",
       "text": [
        "477\tEnglish Wikipedia\tSense\t/* Touch */ \n",
        "\n"
       ]
      },
      {
       "output_type": "stream",
       "stream": "stdout",
       "text": [
        "478\tEnglish Wikipedia\tSequoyah_High_School_(Georgia)\t/* Administration */ \n",
        "\n"
       ]
      },
      {
       "output_type": "stream",
       "stream": "stdout",
       "text": [
        "479\tSpanish Wikipedia\tManuel_Rodr\u00edguez_(telenovela)\t \n",
        "\n"
       ]
      },
      {
       "output_type": "stream",
       "stream": "stdout",
       "text": [
        "480\tEnglish Wikipedia\t2014\u201315_East_Midlands_Counties_Football_League\t[[WP:AES|\u2190]]Created page with '{{Infobox football league season |competition = [[East Midlands Counties Football League]] |season=2014\u201315 |winners= |relegated= |league topscorer= |biggest ho...' \n",
        "\n"
       ]
      },
      {
       "output_type": "stream",
       "stream": "stdout",
       "text": [
        "481\tEnglish Wikipedia\tMayanism\tUndid revision 620686823 by [[Special:Contributions/Thibaud Ochem|Thibaud Ochem]] ([[User talk:Thibaud Ochem|talk]]) It is not appropriate to expunge references on the basis of subjective opinion. Osmanagic's work is an example of Mayanism. \n",
        "\n"
       ]
      },
      {
       "output_type": "stream",
       "stream": "stdout",
       "text": [
        "482\tWikidata\tQ17340373\t/* wbsetdescription-add:1|de */ Wikimedia-Kategorie \n",
        "\n"
       ]
      },
      {
       "output_type": "stream",
       "stream": "stdout",
       "text": [
        "483\tEnglish Wikipedia\tCoventry_City_L.F.C.\t/* History */ Grammar \n",
        "\n"
       ]
      },
      {
       "output_type": "stream",
       "stream": "stdout",
       "text": [
        "484\tUkrainian Wikipedia\t\u0420\u0438\u0431\u0430\u043a_\u0412\u043e\u043b\u043e\u0434\u0438\u043c\u0438\u0440_\u0406\u0432\u0430\u043d\u043e\u0432\u0438\u0447\t\u0434\u043e\u0434\u0430\u043d\u0430 [[\u041a\u0430\u0442\u0435\u0433\u043e\u0440\u0456\u044f:\u041f\u043e\u043c\u0435\u0440\u043b\u0438 \u0432 \u0413\u043e\u0440\u043b\u0456\u0432\u0446\u0456]] \u0437 \u0434\u043e\u043f\u043e\u043c\u043e\u0433\u043e\u044e [[\u0412\u041f:HC|HotCat]] \n",
        "\n"
       ]
      },
      {
       "output_type": "stream",
       "stream": "stdout",
       "text": [
        "485\tGerman Wikipedia\tDiskussion:Schurzerlegung\t/* Las Lemma hei\u00dft momentan \"Schurzerlegung\" */ \n",
        "\n"
       ]
      },
      {
       "output_type": "stream",
       "stream": "stdout",
       "text": [
        "486\tGerman Wikipedia\tMicrosoft_Windows_2000\t \n",
        "\n"
       ]
      },
      {
       "output_type": "stream",
       "stream": "stdout",
       "text": [
        "487\tGerman Wikipedia\tYusuf_Otubanjo\tlf \n",
        "\n"
       ]
      },
      {
       "output_type": "stream",
       "stream": "stdout",
       "text": [
        "488\tWikidata\tQ17494750\t/* wbcreateclaim-create:1| */ [[Property:P186]]: [[Q389782]] \n",
        "\n"
       ]
      },
      {
       "output_type": "stream",
       "stream": "stdout",
       "text": [
        "489\tItalian Wikipedia\tJ\u00e9r\u00f4me_Mo\u00efso\t \n",
        "\n"
       ]
      },
      {
       "output_type": "stream",
       "stream": "stdout",
       "text": [
        "490\tEnglish Wikipedia\tTalk:Negative_feedback\t/* Source */ So the situation is? \n",
        "\n"
       ]
      },
      {
       "output_type": "stream",
       "stream": "stdout",
       "text": [
        "491\tSpanish Wikipedia\tWikipedia:Informes_de_error\t/* Yoshie Takeshita */ \n",
        "\n"
       ]
      },
      {
       "output_type": "stream",
       "stream": "stdout",
       "text": [
        "492\tWikimedia Commons\tSpecial:Log/upload\tuploaded \"[[\u000302File:Zitzschewig Zechstein Born3.jpg\u000310]]\": Bot Move: Original uploader of this revision (#1) was [[:de:User:Jbergner|Jbergner]] at de.wikipedia \n",
        "\n"
       ]
      },
      {
       "output_type": "stream",
       "stream": "stdout",
       "text": [
        "493\tEnglish Wikipedia\tUser_talk:Smalljim\tReverted to revision 620652143 by [[Special:Contributions/Smalljim|Smalljim]] ([[User talk:Smalljim|talk]]): User messaged on his/her talk page. ([[WP:TW|TW]]) \n",
        "\n"
       ]
      },
      {
       "output_type": "stream",
       "stream": "stdout",
       "text": [
        "494\tWikidata\tQ17340373\t/* wbsetdescription-add:1|en */ Wikimedia category page \n",
        "\n"
       ]
      },
      {
       "output_type": "stream",
       "stream": "stdout",
       "text": [
        "495\tHebrew Wikipedia\t\u05e9\u05d9\u05d7\u05ea_\u05de\u05e9\u05ea\u05de\u05e9:Ldorfman\t \n",
        "\n"
       ]
      },
      {
       "output_type": "stream",
       "stream": "stdout",
       "text": [
        "496\tUkrainian Wikipedia\t\u0421\u043e\u044e\u0437\u043d\u0435_\u041a\u043e\u043c\u0430\u043d\u0434\u0443\u0432\u0430\u043d\u043d\u044f_\u0437_\u043f\u0438\u0442\u0430\u043d\u044c_\u0422\u0440\u0430\u043d\u0441\u0444\u043e\u0440\u043c\u0430\u0446\u0456\u0457\t/* \u041f\u043e\u0441\u0438\u043b\u0430\u043d\u043d\u044f */ \n",
        "\n"
       ]
      },
      {
       "output_type": "stream",
       "stream": "stdout",
       "text": [
        "497\tEnglish Wikipedia\tParatomoxia_straeleni\t/* External links */clean up, change cat using [[Project:AWB|AWB]] \n",
        "\n"
       ]
      },
      {
       "output_type": "stream",
       "stream": "stdout",
       "text": [
        "498\tWikidata\tQ17494750\t/* wbsetqualifier-add:1| */ [[Property:P518]]: [[Q861259]] \n",
        "\n"
       ]
      },
      {
       "output_type": "stream",
       "stream": "stdout",
       "text": [
        "499\tEnglish Wikipedia\tTomislav\t \n",
        "\n"
       ]
      }
     ],
     "prompt_number": 11
    },
    {
     "cell_type": "code",
     "collapsed": false,
     "input": [
      "# Save this data -- backup in case of problems when giving demo\n",
      "# with open('edits.json', 'w') as f:\n",
      "#    json.dump(edits, f)"
     ],
     "language": "python",
     "metadata": {},
     "outputs": []
    },
    {
     "cell_type": "code",
     "collapsed": false,
     "input": [
      "# Save this data -- backup in case of problems when giving demo\n",
      "#with open('edits.json') as f:\n",
      "#    edits = json.load(f)"
     ],
     "language": "python",
     "metadata": {},
     "outputs": []
    },
    {
     "cell_type": "markdown",
     "metadata": {},
     "source": [
      "## Import into pandas\n",
      "\n",
      "Let's add all these edits into a `DataFrame` to make them easier to work with."
     ]
    },
    {
     "cell_type": "code",
     "collapsed": false,
     "input": [
      "df = pd.DataFrame(edits)\n",
      "df['timestamp'] = pd.to_datetime(df['timestamp'], unit='s')\n",
      "df.head()"
     ],
     "language": "python",
     "metadata": {},
     "outputs": [
      {
       "html": [
        "<div style=\"max-height:1000px;max-width:1500px;overflow:auto;\">\n",
        "<table border=\"1\" class=\"dataframe\">\n",
        "  <thead>\n",
        "    <tr style=\"text-align: right;\">\n",
        "      <th></th>\n",
        "      <th>anonymous</th>\n",
        "      <th>channel</th>\n",
        "      <th>comment</th>\n",
        "      <th>delta</th>\n",
        "      <th>flag</th>\n",
        "      <th>namespace</th>\n",
        "      <th>newPage</th>\n",
        "      <th>page</th>\n",
        "      <th>pageUrl</th>\n",
        "      <th>robot</th>\n",
        "      <th>timestamp</th>\n",
        "      <th>unpatrolled</th>\n",
        "      <th>url</th>\n",
        "      <th>user</th>\n",
        "      <th>userUrl</th>\n",
        "      <th>wikipedia</th>\n",
        "      <th>wikipediaLong</th>\n",
        "      <th>wikipediaShort</th>\n",
        "      <th>wikipediaUrl</th>\n",
        "    </tr>\n",
        "  </thead>\n",
        "  <tbody>\n",
        "    <tr>\n",
        "      <th>0</th>\n",
        "      <td> False</td>\n",
        "      <td> #wikidata.wikipedia</td>\n",
        "      <td> /* wbcreateclaim-create:1| */ [[Property:P186]...</td>\n",
        "      <td> 255</td>\n",
        "      <td> B</td>\n",
        "      <td>   article</td>\n",
        "      <td> False</td>\n",
        "      <td>           Q17494715</td>\n",
        "      <td>                http://wikidata.org/wiki/Q17494715</td>\n",
        "      <td>  True</td>\n",
        "      <td>2014-08-10 22:36:21.116349</td>\n",
        "      <td> False</td>\n",
        "      <td> http://www.wikidata.org/w/index.php?diff=15032...</td>\n",
        "      <td> PoulpyBot</td>\n",
        "      <td>        http://wikidata.org/wiki/User:PoulpyBot</td>\n",
        "      <td>          Wikidata</td>\n",
        "      <td>          Wikidata</td>\n",
        "      <td> wd</td>\n",
        "      <td>          http://wikidata.org</td>\n",
        "    </tr>\n",
        "    <tr>\n",
        "      <th>1</th>\n",
        "      <td> False</td>\n",
        "      <td> #wikidata.wikipedia</td>\n",
        "      <td> /* wbsetdescription-add:1|es */ categor\u00eda de W...</td>\n",
        "      <td>  40</td>\n",
        "      <td> B</td>\n",
        "      <td>   article</td>\n",
        "      <td> False</td>\n",
        "      <td>           Q17341884</td>\n",
        "      <td>                http://wikidata.org/wiki/Q17341884</td>\n",
        "      <td>  True</td>\n",
        "      <td>2014-08-10 22:36:21.346575</td>\n",
        "      <td> False</td>\n",
        "      <td> http://www.wikidata.org/w/index.php?diff=15032...</td>\n",
        "      <td>     KrBot</td>\n",
        "      <td>            http://wikidata.org/wiki/User:KrBot</td>\n",
        "      <td>          Wikidata</td>\n",
        "      <td>          Wikidata</td>\n",
        "      <td> wd</td>\n",
        "      <td>          http://wikidata.org</td>\n",
        "    </tr>\n",
        "    <tr>\n",
        "      <th>2</th>\n",
        "      <td> False</td>\n",
        "      <td>       #en.wikipedia</td>\n",
        "      <td>                                      /* Health */</td>\n",
        "      <td>   0</td>\n",
        "      <td>  </td>\n",
        "      <td>   article</td>\n",
        "      <td> False</td>\n",
        "      <td>             Raccoon</td>\n",
        "      <td>              http://en.wikipedia.org/wiki/Raccoon</td>\n",
        "      <td> False</td>\n",
        "      <td>2014-08-10 22:36:21.588181</td>\n",
        "      <td> False</td>\n",
        "      <td> http://en.wikipedia.org/w/index.php?diff=62069...</td>\n",
        "      <td>   Tapered</td>\n",
        "      <td>      http://en.wikipedia.org/wiki/User:Tapered</td>\n",
        "      <td> English Wikipedia</td>\n",
        "      <td> English Wikipedia</td>\n",
        "      <td> en</td>\n",
        "      <td>      http://en.wikipedia.org</td>\n",
        "    </tr>\n",
        "    <tr>\n",
        "      <th>3</th>\n",
        "      <td> False</td>\n",
        "      <td> #wikidata.wikipedia</td>\n",
        "      <td> /* wbsetdescription-add:1|fr */ page de cat\u00e9go...</td>\n",
        "      <td>  57</td>\n",
        "      <td> B</td>\n",
        "      <td>   article</td>\n",
        "      <td> False</td>\n",
        "      <td>           Q17341884</td>\n",
        "      <td>                http://wikidata.org/wiki/Q17341884</td>\n",
        "      <td>  True</td>\n",
        "      <td>2014-08-10 22:36:22.363436</td>\n",
        "      <td> False</td>\n",
        "      <td> http://www.wikidata.org/w/index.php?diff=15032...</td>\n",
        "      <td>     KrBot</td>\n",
        "      <td>            http://wikidata.org/wiki/User:KrBot</td>\n",
        "      <td>          Wikidata</td>\n",
        "      <td>          Wikidata</td>\n",
        "      <td> wd</td>\n",
        "      <td>          http://wikidata.org</td>\n",
        "    </tr>\n",
        "    <tr>\n",
        "      <th>4</th>\n",
        "      <td> False</td>\n",
        "      <td>  #commons.wikimedia</td>\n",
        "      <td> [[:File:\u0421\u043d\u0438\u043c\u043e\u043a \u044d\u043a\u0440\u0430\u043d\u0430 2014-05-15 \u0432 0.24.58.png...</td>\n",
        "      <td> 299</td>\n",
        "      <td>  </td>\n",
        "      <td> user talk</td>\n",
        "      <td> False</td>\n",
        "      <td> User talk:Nickniola</td>\n",
        "      <td> http://commons.wikimedia.org/wiki/User_talk:Ni...</td>\n",
        "      <td> False</td>\n",
        "      <td>2014-08-10 22:36:22.613022</td>\n",
        "      <td> False</td>\n",
        "      <td> http://commons.wikimedia.org/w/index.php?diff=...</td>\n",
        "      <td>   Dogad75</td>\n",
        "      <td> http://commons.wikimedia.org/wiki/User:Dogad75</td>\n",
        "      <td> Wikimedia Commons</td>\n",
        "      <td> Wikimedia Commons</td>\n",
        "      <td> co</td>\n",
        "      <td> http://commons.wikimedia.org</td>\n",
        "    </tr>\n",
        "  </tbody>\n",
        "</table>\n",
        "</div>"
       ],
       "metadata": {},
       "output_type": "pyout",
       "prompt_number": 12,
       "text": [
        "  anonymous              channel  \\\n",
        "0     False  #wikidata.wikipedia   \n",
        "1     False  #wikidata.wikipedia   \n",
        "2     False        #en.wikipedia   \n",
        "3     False  #wikidata.wikipedia   \n",
        "4     False   #commons.wikimedia   \n",
        "\n",
        "                                             comment  delta flag  namespace  \\\n",
        "0  /* wbcreateclaim-create:1| */ [[Property:P186]...    255    B    article   \n",
        "1  /* wbsetdescription-add:1|es */ categor\u00eda de W...     40    B    article   \n",
        "2                                       /* Health */      0         article   \n",
        "3  /* wbsetdescription-add:1|fr */ page de cat\u00e9go...     57    B    article   \n",
        "4  [[:File:\u0421\u043d\u0438\u043c\u043e\u043a \u044d\u043a\u0440\u0430\u043d\u0430 2014-05-15 \u0432 0.24.58.png...    299       user talk   \n",
        "\n",
        "  newPage                 page  \\\n",
        "0   False            Q17494715   \n",
        "1   False            Q17341884   \n",
        "2   False              Raccoon   \n",
        "3   False            Q17341884   \n",
        "4   False  User talk:Nickniola   \n",
        "\n",
        "                                             pageUrl  robot  \\\n",
        "0                 http://wikidata.org/wiki/Q17494715   True   \n",
        "1                 http://wikidata.org/wiki/Q17341884   True   \n",
        "2               http://en.wikipedia.org/wiki/Raccoon  False   \n",
        "3                 http://wikidata.org/wiki/Q17341884   True   \n",
        "4  http://commons.wikimedia.org/wiki/User_talk:Ni...  False   \n",
        "\n",
        "                   timestamp unpatrolled  \\\n",
        "0 2014-08-10 22:36:21.116349       False   \n",
        "1 2014-08-10 22:36:21.346575       False   \n",
        "2 2014-08-10 22:36:21.588181       False   \n",
        "3 2014-08-10 22:36:22.363436       False   \n",
        "4 2014-08-10 22:36:22.613022       False   \n",
        "\n",
        "                                                 url       user  \\\n",
        "0  http://www.wikidata.org/w/index.php?diff=15032...  PoulpyBot   \n",
        "1  http://www.wikidata.org/w/index.php?diff=15032...      KrBot   \n",
        "2  http://en.wikipedia.org/w/index.php?diff=62069...    Tapered   \n",
        "3  http://www.wikidata.org/w/index.php?diff=15032...      KrBot   \n",
        "4  http://commons.wikimedia.org/w/index.php?diff=...    Dogad75   \n",
        "\n",
        "                                          userUrl          wikipedia  \\\n",
        "0         http://wikidata.org/wiki/User:PoulpyBot           Wikidata   \n",
        "1             http://wikidata.org/wiki/User:KrBot           Wikidata   \n",
        "2       http://en.wikipedia.org/wiki/User:Tapered  English Wikipedia   \n",
        "3             http://wikidata.org/wiki/User:KrBot           Wikidata   \n",
        "4  http://commons.wikimedia.org/wiki/User:Dogad75  Wikimedia Commons   \n",
        "\n",
        "       wikipediaLong wikipediaShort                  wikipediaUrl  \n",
        "0           Wikidata             wd           http://wikidata.org  \n",
        "1           Wikidata             wd           http://wikidata.org  \n",
        "2  English Wikipedia             en       http://en.wikipedia.org  \n",
        "3           Wikidata             wd           http://wikidata.org  \n",
        "4  Wikimedia Commons             co  http://commons.wikimedia.org  "
       ]
      }
     ],
     "prompt_number": 12
    },
    {
     "cell_type": "markdown",
     "metadata": {},
     "source": [
      "## Visualizing the total number of edits in each wiki\n",
      "\n",
      "This is a one-liner in pandas!"
     ]
    },
    {
     "cell_type": "code",
     "collapsed": false,
     "input": [
      "p = df.wikipedia.value_counts().plot(kind='barh')"
     ],
     "language": "python",
     "metadata": {},
     "outputs": [
      {
       "metadata": {},
       "output_type": "display_data",
       "png": "[encoded data removed]",
       "text": [
        "<matplotlib.figure.Figure at 0x7fe5052b5be0>"
       ]
      }
     ],
     "prompt_number": 13
    },
    {
     "cell_type": "markdown",
     "metadata": {},
     "source": [
      "## Checking and filtering bot activity\n",
      "\n",
      "Wikidata is very busy -- is it all bots?"
     ]
    },
    {
     "cell_type": "code",
     "collapsed": false,
     "input": [
      "df[df.wikipediaShort=='wd'].robot.value_counts()"
     ],
     "language": "python",
     "metadata": {},
     "outputs": [
      {
       "metadata": {},
       "output_type": "pyout",
       "prompt_number": 14,
       "text": [
        "True     139\n",
        "False     17\n",
        "dtype: int64"
       ]
      }
     ],
     "prompt_number": 14
    },
    {
     "cell_type": "markdown",
     "metadata": {},
     "source": [
      "## Time series analysis\n",
      "\n",
      "To make time series analysis easier, let's turn the raw edits into counts per second.\n",
      "\n",
      "We can use a bit of a trick here. Pivot the dataframe, keeping the timestamp as the index, making the wiki short names the new columns, and the value of the `delta` field for the cells..."
     ]
    },
    {
     "cell_type": "code",
     "collapsed": false,
     "input": [
      "ts = df[['timestamp',\n",
      "         'wikipediaShort',\n",
      "         'delta'\n",
      "         ]].pivot(index='timestamp',\n",
      "                  columns='wikipediaShort',\n",
      "                  values='delta')\n",
      "ts.head()"
     ],
     "language": "python",
     "metadata": {},
     "outputs": [
      {
       "html": [
        "<div style=\"max-height:1000px;max-width:1500px;overflow:auto;\">\n",
        "<table border=\"1\" class=\"dataframe\">\n",
        "  <thead>\n",
        "    <tr style=\"text-align: right;\">\n",
        "      <th>wikipediaShort</th>\n",
        "      <th>ar</th>\n",
        "      <th>bg</th>\n",
        "      <th>ca</th>\n",
        "      <th>co</th>\n",
        "      <th>cs</th>\n",
        "      <th>de</th>\n",
        "      <th>en</th>\n",
        "      <th>es</th>\n",
        "      <th>fr</th>\n",
        "      <th>he</th>\n",
        "      <th>...</th>\n",
        "      <th>no</th>\n",
        "      <th>pl</th>\n",
        "      <th>pt</th>\n",
        "      <th>ro</th>\n",
        "      <th>ru</th>\n",
        "      <th>sv</th>\n",
        "      <th>tr</th>\n",
        "      <th>uk</th>\n",
        "      <th>wd</th>\n",
        "      <th>zh</th>\n",
        "    </tr>\n",
        "    <tr>\n",
        "      <th>timestamp</th>\n",
        "      <th></th>\n",
        "      <th></th>\n",
        "      <th></th>\n",
        "      <th></th>\n",
        "      <th></th>\n",
        "      <th></th>\n",
        "      <th></th>\n",
        "      <th></th>\n",
        "      <th></th>\n",
        "      <th></th>\n",
        "      <th></th>\n",
        "      <th></th>\n",
        "      <th></th>\n",
        "      <th></th>\n",
        "      <th></th>\n",
        "      <th></th>\n",
        "      <th></th>\n",
        "      <th></th>\n",
        "      <th></th>\n",
        "      <th></th>\n",
        "      <th></th>\n",
        "    </tr>\n",
        "  </thead>\n",
        "  <tbody>\n",
        "    <tr>\n",
        "      <th>2014-08-10 22:36:21.116349</th>\n",
        "      <td>NaN</td>\n",
        "      <td>NaN</td>\n",
        "      <td>NaN</td>\n",
        "      <td> NaN</td>\n",
        "      <td>NaN</td>\n",
        "      <td>NaN</td>\n",
        "      <td>NaN</td>\n",
        "      <td>NaN</td>\n",
        "      <td>NaN</td>\n",
        "      <td>NaN</td>\n",
        "      <td>...</td>\n",
        "      <td>NaN</td>\n",
        "      <td>NaN</td>\n",
        "      <td>NaN</td>\n",
        "      <td>NaN</td>\n",
        "      <td>NaN</td>\n",
        "      <td>NaN</td>\n",
        "      <td>NaN</td>\n",
        "      <td>NaN</td>\n",
        "      <td> 255</td>\n",
        "      <td>NaN</td>\n",
        "    </tr>\n",
        "    <tr>\n",
        "      <th>2014-08-10 22:36:21.346575</th>\n",
        "      <td>NaN</td>\n",
        "      <td>NaN</td>\n",
        "      <td>NaN</td>\n",
        "      <td> NaN</td>\n",
        "      <td>NaN</td>\n",
        "      <td>NaN</td>\n",
        "      <td>NaN</td>\n",
        "      <td>NaN</td>\n",
        "      <td>NaN</td>\n",
        "      <td>NaN</td>\n",
        "      <td>...</td>\n",
        "      <td>NaN</td>\n",
        "      <td>NaN</td>\n",
        "      <td>NaN</td>\n",
        "      <td>NaN</td>\n",
        "      <td>NaN</td>\n",
        "      <td>NaN</td>\n",
        "      <td>NaN</td>\n",
        "      <td>NaN</td>\n",
        "      <td>  40</td>\n",
        "      <td>NaN</td>\n",
        "    </tr>\n",
        "    <tr>\n",
        "      <th>2014-08-10 22:36:21.588181</th>\n",
        "      <td>NaN</td>\n",
        "      <td>NaN</td>\n",
        "      <td>NaN</td>\n",
        "      <td> NaN</td>\n",
        "      <td>NaN</td>\n",
        "      <td>NaN</td>\n",
        "      <td>  0</td>\n",
        "      <td>NaN</td>\n",
        "      <td>NaN</td>\n",
        "      <td>NaN</td>\n",
        "      <td>...</td>\n",
        "      <td>NaN</td>\n",
        "      <td>NaN</td>\n",
        "      <td>NaN</td>\n",
        "      <td>NaN</td>\n",
        "      <td>NaN</td>\n",
        "      <td>NaN</td>\n",
        "      <td>NaN</td>\n",
        "      <td>NaN</td>\n",
        "      <td> NaN</td>\n",
        "      <td>NaN</td>\n",
        "    </tr>\n",
        "    <tr>\n",
        "      <th>2014-08-10 22:36:22.363436</th>\n",
        "      <td>NaN</td>\n",
        "      <td>NaN</td>\n",
        "      <td>NaN</td>\n",
        "      <td> NaN</td>\n",
        "      <td>NaN</td>\n",
        "      <td>NaN</td>\n",
        "      <td>NaN</td>\n",
        "      <td>NaN</td>\n",
        "      <td>NaN</td>\n",
        "      <td>NaN</td>\n",
        "      <td>...</td>\n",
        "      <td>NaN</td>\n",
        "      <td>NaN</td>\n",
        "      <td>NaN</td>\n",
        "      <td>NaN</td>\n",
        "      <td>NaN</td>\n",
        "      <td>NaN</td>\n",
        "      <td>NaN</td>\n",
        "      <td>NaN</td>\n",
        "      <td>  57</td>\n",
        "      <td>NaN</td>\n",
        "    </tr>\n",
        "    <tr>\n",
        "      <th>2014-08-10 22:36:22.613022</th>\n",
        "      <td>NaN</td>\n",
        "      <td>NaN</td>\n",
        "      <td>NaN</td>\n",
        "      <td> 299</td>\n",
        "      <td>NaN</td>\n",
        "      <td>NaN</td>\n",
        "      <td>NaN</td>\n",
        "      <td>NaN</td>\n",
        "      <td>NaN</td>\n",
        "      <td>NaN</td>\n",
        "      <td>...</td>\n",
        "      <td>NaN</td>\n",
        "      <td>NaN</td>\n",
        "      <td>NaN</td>\n",
        "      <td>NaN</td>\n",
        "      <td>NaN</td>\n",
        "      <td>NaN</td>\n",
        "      <td>NaN</td>\n",
        "      <td>NaN</td>\n",
        "      <td> NaN</td>\n",
        "      <td>NaN</td>\n",
        "    </tr>\n",
        "  </tbody>\n",
        "</table>\n",
        "<p>5 rows \u00d7 23 columns</p>\n",
        "</div>"
       ],
       "metadata": {},
       "output_type": "pyout",
       "prompt_number": 15,
       "text": [
        "wikipediaShort              ar  bg  ca   co  cs  de  en  es  fr  he ...  no  \\\n",
        "timestamp                                                           ...       \n",
        "2014-08-10 22:36:21.116349 NaN NaN NaN  NaN NaN NaN NaN NaN NaN NaN ... NaN   \n",
        "2014-08-10 22:36:21.346575 NaN NaN NaN  NaN NaN NaN NaN NaN NaN NaN ... NaN   \n",
        "2014-08-10 22:36:21.588181 NaN NaN NaN  NaN NaN NaN   0 NaN NaN NaN ... NaN   \n",
        "2014-08-10 22:36:22.363436 NaN NaN NaN  NaN NaN NaN NaN NaN NaN NaN ... NaN   \n",
        "2014-08-10 22:36:22.613022 NaN NaN NaN  299 NaN NaN NaN NaN NaN NaN ... NaN   \n",
        "\n",
        "wikipediaShort              pl  pt  ro  ru  sv  tr  uk   wd  zh  \n",
        "timestamp                                                        \n",
        "2014-08-10 22:36:21.116349 NaN NaN NaN NaN NaN NaN NaN  255 NaN  \n",
        "2014-08-10 22:36:21.346575 NaN NaN NaN NaN NaN NaN NaN   40 NaN  \n",
        "2014-08-10 22:36:21.588181 NaN NaN NaN NaN NaN NaN NaN  NaN NaN  \n",
        "2014-08-10 22:36:22.363436 NaN NaN NaN NaN NaN NaN NaN   57 NaN  \n",
        "2014-08-10 22:36:22.613022 NaN NaN NaN NaN NaN NaN NaN  NaN NaN  \n",
        "\n",
        "[5 rows x 23 columns]"
       ]
      }
     ],
     "prompt_number": 15
    },
    {
     "cell_type": "markdown",
     "metadata": {},
     "source": [
      "... not because we care about delta, but because the `resample` method only works on numerics. By resampling to second resolution, and applying the `count` aggregate, we get edits-per-second."
     ]
    },
    {
     "cell_type": "code",
     "collapsed": false,
     "input": [
      "sec_counts = ts.resample('s', how='count')\n",
      "sec_counts.head()"
     ],
     "language": "python",
     "metadata": {},
     "outputs": [
      {
       "html": [
        "<div style=\"max-height:1000px;max-width:1500px;overflow:auto;\">\n",
        "<table border=\"1\" class=\"dataframe\">\n",
        "  <thead>\n",
        "    <tr style=\"text-align: right;\">\n",
        "      <th>wikipediaShort</th>\n",
        "      <th>ar</th>\n",
        "      <th>bg</th>\n",
        "      <th>ca</th>\n",
        "      <th>co</th>\n",
        "      <th>cs</th>\n",
        "      <th>de</th>\n",
        "      <th>en</th>\n",
        "      <th>es</th>\n",
        "      <th>fr</th>\n",
        "      <th>he</th>\n",
        "      <th>...</th>\n",
        "      <th>no</th>\n",
        "      <th>pl</th>\n",
        "      <th>pt</th>\n",
        "      <th>ro</th>\n",
        "      <th>ru</th>\n",
        "      <th>sv</th>\n",
        "      <th>tr</th>\n",
        "      <th>uk</th>\n",
        "      <th>wd</th>\n",
        "      <th>zh</th>\n",
        "    </tr>\n",
        "    <tr>\n",
        "      <th>timestamp</th>\n",
        "      <th></th>\n",
        "      <th></th>\n",
        "      <th></th>\n",
        "      <th></th>\n",
        "      <th></th>\n",
        "      <th></th>\n",
        "      <th></th>\n",
        "      <th></th>\n",
        "      <th></th>\n",
        "      <th></th>\n",
        "      <th></th>\n",
        "      <th></th>\n",
        "      <th></th>\n",
        "      <th></th>\n",
        "      <th></th>\n",
        "      <th></th>\n",
        "      <th></th>\n",
        "      <th></th>\n",
        "      <th></th>\n",
        "      <th></th>\n",
        "      <th></th>\n",
        "    </tr>\n",
        "  </thead>\n",
        "  <tbody>\n",
        "    <tr>\n",
        "      <th>2014-08-10 22:36:21</th>\n",
        "      <td> 0</td>\n",
        "      <td> 0</td>\n",
        "      <td> 0</td>\n",
        "      <td> 0</td>\n",
        "      <td> 0</td>\n",
        "      <td> 0</td>\n",
        "      <td> 1</td>\n",
        "      <td> 0</td>\n",
        "      <td> 0</td>\n",
        "      <td> 0</td>\n",
        "      <td>...</td>\n",
        "      <td> 0</td>\n",
        "      <td> 0</td>\n",
        "      <td> 0</td>\n",
        "      <td> 0</td>\n",
        "      <td> 0</td>\n",
        "      <td> 0</td>\n",
        "      <td> 0</td>\n",
        "      <td> 0</td>\n",
        "      <td> 2</td>\n",
        "      <td> 0</td>\n",
        "    </tr>\n",
        "    <tr>\n",
        "      <th>2014-08-10 22:36:22</th>\n",
        "      <td> 0</td>\n",
        "      <td> 0</td>\n",
        "      <td> 0</td>\n",
        "      <td> 1</td>\n",
        "      <td> 0</td>\n",
        "      <td> 0</td>\n",
        "      <td> 0</td>\n",
        "      <td> 0</td>\n",
        "      <td> 0</td>\n",
        "      <td> 0</td>\n",
        "      <td>...</td>\n",
        "      <td> 0</td>\n",
        "      <td> 0</td>\n",
        "      <td> 0</td>\n",
        "      <td> 0</td>\n",
        "      <td> 0</td>\n",
        "      <td> 0</td>\n",
        "      <td> 0</td>\n",
        "      <td> 0</td>\n",
        "      <td> 2</td>\n",
        "      <td> 0</td>\n",
        "    </tr>\n",
        "    <tr>\n",
        "      <th>2014-08-10 22:36:23</th>\n",
        "      <td> 0</td>\n",
        "      <td> 0</td>\n",
        "      <td> 0</td>\n",
        "      <td> 1</td>\n",
        "      <td> 0</td>\n",
        "      <td> 1</td>\n",
        "      <td> 0</td>\n",
        "      <td> 0</td>\n",
        "      <td> 0</td>\n",
        "      <td> 0</td>\n",
        "      <td>...</td>\n",
        "      <td> 0</td>\n",
        "      <td> 0</td>\n",
        "      <td> 0</td>\n",
        "      <td> 0</td>\n",
        "      <td> 0</td>\n",
        "      <td> 0</td>\n",
        "      <td> 0</td>\n",
        "      <td> 0</td>\n",
        "      <td> 2</td>\n",
        "      <td> 0</td>\n",
        "    </tr>\n",
        "    <tr>\n",
        "      <th>2014-08-10 22:36:24</th>\n",
        "      <td> 1</td>\n",
        "      <td> 0</td>\n",
        "      <td> 0</td>\n",
        "      <td> 1</td>\n",
        "      <td> 0</td>\n",
        "      <td> 0</td>\n",
        "      <td> 1</td>\n",
        "      <td> 0</td>\n",
        "      <td> 1</td>\n",
        "      <td> 0</td>\n",
        "      <td>...</td>\n",
        "      <td> 0</td>\n",
        "      <td> 0</td>\n",
        "      <td> 0</td>\n",
        "      <td> 0</td>\n",
        "      <td> 0</td>\n",
        "      <td> 0</td>\n",
        "      <td> 0</td>\n",
        "      <td> 0</td>\n",
        "      <td> 4</td>\n",
        "      <td> 0</td>\n",
        "    </tr>\n",
        "    <tr>\n",
        "      <th>2014-08-10 22:36:25</th>\n",
        "      <td> 0</td>\n",
        "      <td> 0</td>\n",
        "      <td> 0</td>\n",
        "      <td> 1</td>\n",
        "      <td> 0</td>\n",
        "      <td> 0</td>\n",
        "      <td> 3</td>\n",
        "      <td> 1</td>\n",
        "      <td> 1</td>\n",
        "      <td> 0</td>\n",
        "      <td>...</td>\n",
        "      <td> 0</td>\n",
        "      <td> 0</td>\n",
        "      <td> 0</td>\n",
        "      <td> 0</td>\n",
        "      <td> 0</td>\n",
        "      <td> 0</td>\n",
        "      <td> 0</td>\n",
        "      <td> 0</td>\n",
        "      <td> 0</td>\n",
        "      <td> 0</td>\n",
        "    </tr>\n",
        "  </tbody>\n",
        "</table>\n",
        "<p>5 rows \u00d7 23 columns</p>\n",
        "</div>"
       ],
       "metadata": {},
       "output_type": "pyout",
       "prompt_number": 16,
       "text": [
        "wikipediaShort       ar  bg  ca  co  cs  de  en  es  fr  he ...  no  pl  pt  \\\n",
        "timestamp                                                   ...               \n",
        "2014-08-10 22:36:21   0   0   0   0   0   0   1   0   0   0 ...   0   0   0   \n",
        "2014-08-10 22:36:22   0   0   0   1   0   0   0   0   0   0 ...   0   0   0   \n",
        "2014-08-10 22:36:23   0   0   0   1   0   1   0   0   0   0 ...   0   0   0   \n",
        "2014-08-10 22:36:24   1   0   0   1   0   0   1   0   1   0 ...   0   0   0   \n",
        "2014-08-10 22:36:25   0   0   0   1   0   0   3   1   1   0 ...   0   0   0   \n",
        "\n",
        "wikipediaShort       ro  ru  sv  tr  uk  wd  zh  \n",
        "timestamp                                        \n",
        "2014-08-10 22:36:21   0   0   0   0   0   2   0  \n",
        "2014-08-10 22:36:22   0   0   0   0   0   2   0  \n",
        "2014-08-10 22:36:23   0   0   0   0   0   2   0  \n",
        "2014-08-10 22:36:24   0   0   0   0   0   4   0  \n",
        "2014-08-10 22:36:25   0   0   0   0   0   0   0  \n",
        "\n",
        "[5 rows x 23 columns]"
       ]
      }
     ],
     "prompt_number": 16
    },
    {
     "cell_type": "markdown",
     "metadata": {},
     "source": [
      "## Visualizing activity over time\n",
      "\n",
      "This is easy, now we have the data in the right format."
     ]
    },
    {
     "cell_type": "code",
     "collapsed": false,
     "input": [
      "p = sec_counts.plot()"
     ],
     "language": "python",
     "metadata": {},
     "outputs": [
      {
       "metadata": {},
       "output_type": "display_data",
       "png": "[encoded data removed]",
       "text": [
        "<matplotlib.figure.Figure at 0x7fe50758dcf8>"
       ]
      }
     ],
     "prompt_number": 17
    },
    {
     "cell_type": "markdown",
     "metadata": {},
     "source": [
      "Not so easy to read!\n",
      "\n",
      "What if we make it a cumulative sum instead, so we can see how activity 'mounts up' over time?"
     ]
    },
    {
     "cell_type": "code",
     "collapsed": false,
     "input": [
      "p = sec_counts.cumsum().plot()"
     ],
     "language": "python",
     "metadata": {},
     "outputs": [
      {
       "metadata": {},
       "output_type": "display_data",
       "png": "[encoded data removed]",
       "text": [
        "<matplotlib.figure.Figure at 0x7fe5073ffe48>"
       ]
      }
     ],
     "prompt_number": 18
    },
    {
     "cell_type": "markdown",
     "metadata": {},
     "source": [
      "## Training a model in real time with Vowpal Wabbit\n",
      "\n",
      "Here's the fun bit. We're going to restart the stream, and as the data comes in, we're going to feed it to [Vowpal Wabbit](https://github.com/JohnLangford/vowpal_wabbit) to incrementally train a language recognizer. Or more strictly, a wiki recognizer, as we want to teach it to distinguish e.g. \"French Wikipedia\" articles from \"Polish Wikipedia\" articles -- using only the distribution of characters (and ngrams) in its title.\n",
      "\n",
      "We'll use an adaptive online learning approach: only update the model when we find an example that it can't correctly identify already. VW makes this very efficient and effective.\n",
      "\n",
      "We'll filter out Wikidata edits, as these just have IDs, as well as Commons files, non-article pages like user homepages, and also English Wikipedia (to keep things interesting).\n",
      "\n",
      "But first let's define a helper function to generate character ngrams, for `n` from `k1` to `k2`. That is, if `k1 == 2` and `k2 == 4`, then you'll get bigrams, trigrams and tetragrams (?). It returns an iterator over all the ngrams."
     ]
    },
    {
     "cell_type": "code",
     "collapsed": false,
     "input": [
      "def ngrams(text, k1, k2):\n",
      "    if k1 < 1:\n",
      "        raise ValueError('k1 must be 1 or more')\n",
      "    if k2 < k1:\n",
      "        raise ValueError('k2 must may not be less than k1')\n",
      "    return chain.from_iterable((text[i:i+n] for i in range(len(text)-(n-1))) for n in range(k1, k2+1))\n",
      "\n",
      "print(list(ngrams('the quick brown fox', 1, 2)))"
     ],
     "language": "python",
     "metadata": {},
     "outputs": [
      {
       "output_type": "stream",
       "stream": "stdout",
       "text": [
        "['t', 'h', 'e', ' ', 'q', 'u', 'i', 'c', 'k', ' ', 'b', 'r', 'o', 'w', 'n', ' ', 'f', 'o', 'x', 'th', 'he', 'e ', ' q', 'qu', 'ui', 'ic', 'ck', 'k ', ' b', 'br', 'ro', 'ow', 'wn', 'n ', ' f', 'fo', 'ox']\n"
       ]
      }
     ],
     "prompt_number": 19
    },
    {
     "cell_type": "markdown",
     "metadata": {},
     "source": [
      "The next function contains filtering logic, defining what kinds of edit we are interested in."
     ]
    },
    {
     "cell_type": "code",
     "collapsed": false,
     "input": [
      "# Parse page name, or return False if it's from Wikidata or English Wikipedia,\n",
      "# a file from Commons, a non-article, or a 0- or 1-length name\n",
      "def page_name(edit):\n",
      "    if edit['wikipediaShort'] == 'wd' or \\\n",
      "        edit['wikipediaShort'] == 'en' or \\\n",
      "        edit['wikipediaShort'] == 'co' or \\\n",
      "        edit['namespace'] == 'article':\n",
      "            return False\n",
      "    page_name = reg.match(edit['pageUrl']).group(1).lower()\n",
      "    size = len(page_name)\n",
      "    if size < 2:\n",
      "        return False\n",
      "    return page_name"
     ],
     "language": "python",
     "metadata": {},
     "outputs": [],
     "prompt_number": 20
    },
    {
     "cell_type": "markdown",
     "metadata": {},
     "source": [
      "A couple of convenience functions for dealing with the ringbuffer (see below). They assume the ringbuffer is initialized with -1 in every cell, so these rows can be excluded (they haven't been filled in yet).\n",
      "\n",
      "The first calculates accuracy over the current contents. The second returns the effective length -- the number of values which have been populated."
     ]
    },
    {
     "cell_type": "code",
     "collapsed": false,
     "input": [
      "def accuracy(ringbuffer):\n",
      "    valid = np.sum(ringbuffer, axis=1) >= 0\n",
      "    matched = ringbuffer[:,0] == ringbuffer[:,1]\n",
      "    return np.sum(np.logical_and(valid, matched)) / np.sum(valid)\n",
      "\n",
      "def buffersize(ringbuffer):\n",
      "    return np.sum(np.sum(ringbuffer, axis=1) >= 0)"
     ],
     "language": "python",
     "metadata": {},
     "outputs": [],
     "prompt_number": 21
    },
    {
     "cell_type": "markdown",
     "metadata": {},
     "source": [
      "All the action happens in the next cell.\n",
      "\n",
      "It starts the VW server with the appropriate options. If you get a memory allocation error, reduce the value of `hashbits`, although this may impact accuracy.\n",
      "\n",
      "It also defines and starts a new callback, which breaks the title of each page into character ngrams, and tests them against the current model. If the model predicts correctly, we don't change it, but if it predicts incorrectly, we pass it the current example as a training instance.\n",
      "\n",
      "The reported accuracy might fluctuate to begin with, but then should settle, and gradually rise (not necessarily in a monotonic way) as data comes in.\n",
      "\n",
      "It uses a ringbuffer (a fixed-size array) to keep track of predictions and actual values over the last `k` tests. In this kind of online learning scenario, we don't really worry how much about how the model *was* performing on historical data -- we just want to know that it *is* performing well on current data.\n",
      "\n",
      "*This may be an over-estimate of accuracy if multiple edits to the same page appear within the last `k` edits. For a more conservative estimate, we should filter out duplicates. But this is just a demo...*\n",
      "\n",
      "You can set a maximum number of training instances to process, or just **interrupt the kernel if you get bored of waiting**..."
     ]
    },
    {
     "cell_type": "code",
     "collapsed": false,
     "input": [
      "# How many classes to allow in the model (must be provided up front)\n",
      "max_expected_classes = 30\n",
      "\n",
      "# When to stop, if not interrupted\n",
      "max_edits = 1000\n",
      "\n",
      "# How many tests to calculate score over\n",
      "k = 500\n",
      "\n",
      "# How many bits in range of VW hash function:\n",
      "# larger = potentially better accuracy but more memory\n",
      "hashbits = 24\n",
      "\n",
      "# How many edits we've processed\n",
      "edits = 0\n",
      "\n",
      "# List of the wiki names we've seen, to be populated as we go along\n",
      "labels = []\n",
      "\n",
      "# Maps each wiki name -> its index in labels list\n",
      "label_to_idx = {}\n",
      "\n",
      "# Regex to capture wiki name\n",
      "reg = re.compile(r'^.*wiki/(.*)')\n",
      "\n",
      "# Last-k confusion matrix, initialized to -1\n",
      "cm = np.zeros((k, 2), dtype=np.int8) - 1\n",
      "\n",
      "def vw_callback(edit):\n",
      "    \n",
      "    name = page_name(edit)\n",
      "    if not name:\n",
      "        return True\n",
      "    \n",
      "    # Set up mappings for this wiki if this is the first time we've seen it\n",
      "    label = edit['wikipedia']\n",
      "    if label in label_to_idx:\n",
      "        idx = label_to_idx[label]\n",
      "    else:\n",
      "        # If we have exhausted our preset class limit, just skip it! Bit kludgey...\n",
      "        if len(labels) == max_expected_classes:\n",
      "            print(\"Ignoring class %d\" % len(labels))\n",
      "            return True\n",
      "        labels.append(label)\n",
      "        idx = len(labels) - 1\n",
      "        label_to_idx[label] = idx\n",
      "\n",
      "    # Generate features -- currently char unigrams and bigrams\n",
      "    features = list(ngrams(name, 1, 2))\n",
      "\n",
      "    # Test example first -- does model get it right? If not, train on it\n",
      "    prediction = int(vw.get_prediction(features=features).prediction) - 1 # NB VW FEATURE LABELS START AT 1\n",
      "    \n",
      "    # Add prediction to bottom of ringbuffer, then roll it forward\n",
      "    global cm\n",
      "    cm[499, :] = (idx, prediction)\n",
      "    cm = np.roll(cm, 1, axis=0)\n",
      "    \n",
      "    # If prediction was wrong, train on this example\n",
      "    if idx != prediction:\n",
      "\n",
      "        global edits\n",
      "        tests_run = buffersize(cm)\n",
      "        print('Trained: %d, Tested: %d, Prediction: %s, Actual: %s, Last-%d Accuracy: %0.3f'\n",
      "              % (edits, tests_run, labels[prediction], labels[idx], tests_run, accuracy(cm)))\n",
      "        \n",
      "        raw_line = vw.make_line(idx+1, features=features) # NB VW FEATURE LABELS START AT 1\n",
      "        vw.send_line(raw_line)\n",
      "        edits += 1\n",
      "\n",
      "        # Stop if we've hit max_edits\n",
      "        return edits < max_edits\n",
      "    \n",
      "    return True\n",
      "\n",
      "# Start up local VW process\n",
      "vw = VW(loss_function='logistic', b=hashbits, ect=max_expected_classes, hash='all')\n",
      "print(vw.command)\n",
      "\n",
      "wikipedia_updates(vw_callback)"
     ],
     "language": "python",
     "metadata": {},
     "outputs": [
      {
       "output_type": "stream",
       "stream": "stdout",
       "text": [
        "vw -b 24 --hash all --ect 30 --loss_function logistic --quiet --predictions /dev/stdout --save_resume\n",
        "Trained: 0, Tested: 2, Prediction: German Wikipedia, Actual: Spanish Wikipedia, Last-2 Accuracy: 0.500"
       ]
      },
      {
       "output_type": "stream",
       "stream": "stdout",
       "text": [
        "\n",
        "Trained: 1, Tested: 4, Prediction: Spanish Wikipedia, Actual: Dutch Wikipedia, Last-4 Accuracy: 0.500"
       ]
      },
      {
       "output_type": "stream",
       "stream": "stdout",
       "text": [
        "\n",
        "Trained: 2, Tested: 6, Prediction: Spanish Wikipedia, Actual: French Wikipedia, Last-6 Accuracy: 0.500"
       ]
      },
      {
       "output_type": "stream",
       "stream": "stdout",
       "text": [
        "\n",
        "Trained: 3, Tested: 7, Prediction: French Wikipedia, Actual: German Wikipedia, Last-7 Accuracy: 0.429"
       ]
      },
      {
       "output_type": "stream",
       "stream": "stdout",
       "text": [
        "\n",
        "Trained: 4, Tested: 8, Prediction: French Wikipedia, Actual: Ukrainian Wikipedia, Last-8 Accuracy: 0.375"
       ]
      },
      {
       "output_type": "stream",
       "stream": "stdout",
       "text": [
        "\n",
        "Trained: 5, Tested: 9, Prediction: Spanish Wikipedia, Actual: French Wikipedia, Last-9 Accuracy: 0.333"
       ]
      },
      {
       "output_type": "stream",
       "stream": "stdout",
       "text": [
        "\n",
        "Trained: 6, Tested: 10, Prediction: French Wikipedia, Actual: Portuguese Wikipedia, Last-10 Accuracy: 0.300"
       ]
      },
      {
       "output_type": "stream",
       "stream": "stdout",
       "text": [
        "\n",
        "Trained: 7, Tested: 11, Prediction: French Wikipedia, Actual: German Wikipedia, Last-11 Accuracy: 0.273"
       ]
      },
      {
       "output_type": "stream",
       "stream": "stdout",
       "text": [
        "\n",
        "Trained: 8, Tested: 14, Prediction: German Wikipedia, Actual: French Wikipedia, Last-14 Accuracy: 0.357"
       ]
      },
      {
       "output_type": "stream",
       "stream": "stdout",
       "text": [
        "\n",
        "Trained: 9, Tested: 16, Prediction: French Wikipedia, Actual: Spanish Wikipedia, Last-16 Accuracy: 0.375"
       ]
      },
      {
       "output_type": "stream",
       "stream": "stdout",
       "text": [
        "\n",
        "Trained: 10, Tested: 19, Prediction: Dutch Wikipedia, Actual: Portuguese Wikipedia, Last-19 Accuracy: 0.421"
       ]
      },
      {
       "output_type": "stream",
       "stream": "stdout",
       "text": [
        "\n",
        "Trained: 11, Tested: 20, Prediction: French Wikipedia, Actual: Spanish Wikipedia, Last-20 Accuracy: 0.400"
       ]
      },
      {
       "output_type": "stream",
       "stream": "stdout",
       "text": [
        "\n",
        "Trained: 12, Tested: 22, Prediction: Dutch Wikipedia, Actual: Portuguese Wikipedia, Last-22 Accuracy: 0.409"
       ]
      },
      {
       "output_type": "stream",
       "stream": "stdout",
       "text": [
        "\n",
        "Trained: 13, Tested: 24, Prediction: Spanish Wikipedia, Actual: German Wikipedia, Last-24 Accuracy: 0.417"
       ]
      },
      {
       "output_type": "stream",
       "stream": "stdout",
       "text": [
        "\n",
        "Trained: 14, Tested: 25, Prediction: Spanish Wikipedia, Actual: Norwegian Wikipedia, Last-25 Accuracy: 0.400"
       ]
      },
      {
       "output_type": "stream",
       "stream": "stdout",
       "text": [
        "\n",
        "Trained: 15, Tested: 26, Prediction: Spanish Wikipedia, Actual: Polish Wikipedia, Last-26 Accuracy: 0.385"
       ]
      },
      {
       "output_type": "stream",
       "stream": "stdout",
       "text": [
        "\n",
        "Trained: 16, Tested: 27, Prediction: German Wikipedia, Actual: Spanish Wikipedia, Last-27 Accuracy: 0.370"
       ]
      },
      {
       "output_type": "stream",
       "stream": "stdout",
       "text": [
        "\n",
        "Trained: 17, Tested: 28, Prediction: Portuguese Wikipedia, Actual: Farsi Wikipedia, Last-28 Accuracy: 0.357"
       ]
      },
      {
       "output_type": "stream",
       "stream": "stdout",
       "text": [
        "\n",
        "Trained: 18, Tested: 29, Prediction: Spanish Wikipedia, Actual: Portuguese Wikipedia, Last-29 Accuracy: 0.345"
       ]
      },
      {
       "output_type": "stream",
       "stream": "stdout",
       "text": [
        "\n",
        "Trained: 19, Tested: 30, Prediction: Portuguese Wikipedia, Actual: Spanish Wikipedia, Last-30 Accuracy: 0.333"
       ]
      },
      {
       "output_type": "stream",
       "stream": "stdout",
       "text": [
        "\n",
        "Trained: 20, Tested: 31, Prediction: Spanish Wikipedia, Actual: French Wikipedia, Last-31 Accuracy: 0.323"
       ]
      },
      {
       "output_type": "stream",
       "stream": "stdout",
       "text": [
        "\n",
        "Trained: 21, Tested: 32, Prediction: Spanish Wikipedia, Actual: Portuguese Wikipedia, Last-32 Accuracy: 0.312"
       ]
      },
      {
       "output_type": "stream",
       "stream": "stdout",
       "text": [
        "\n",
        "Trained: 22, Tested: 34, Prediction: Spanish Wikipedia, Actual: French Wikipedia, Last-34 Accuracy: 0.324"
       ]
      },
      {
       "output_type": "stream",
       "stream": "stdout",
       "text": [
        "\n",
        "Trained: 23, Tested: 35, Prediction: French Wikipedia, Actual: German Wikipedia, Last-35 Accuracy: 0.314\n",
        "Trained: 24, Tested: 36, Prediction: Spanish Wikipedia, Actual: German Wikipedia, Last-36 Accuracy: 0.306"
       ]
      },
      {
       "output_type": "stream",
       "stream": "stdout",
       "text": [
        "\n",
        "Trained: 25, Tested: 37, Prediction: German Wikipedia, Actual: Catalan Wikipedia, Last-37 Accuracy: 0.297"
       ]
      },
      {
       "output_type": "stream",
       "stream": "stdout",
       "text": [
        "\n",
        "Trained: 26, Tested: 39, Prediction: German Wikipedia, Actual: French Wikipedia, Last-39 Accuracy: 0.308"
       ]
      },
      {
       "output_type": "stream",
       "stream": "stdout",
       "text": [
        "\n",
        "Trained: 27, Tested: 40, Prediction: Portuguese Wikipedia, Actual: Russian Wikipedia, Last-40 Accuracy: 0.300"
       ]
      },
      {
       "output_type": "stream",
       "stream": "stdout",
       "text": [
        "\n",
        "Trained: 28, Tested: 42, Prediction: Portuguese Wikipedia, Actual: German Wikipedia, Last-42 Accuracy: 0.310"
       ]
      },
      {
       "output_type": "stream",
       "stream": "stdout",
       "text": [
        "\n",
        "Trained: 29, Tested: 47, Prediction: German Wikipedia, Actual: French Wikipedia, Last-47 Accuracy: 0.362"
       ]
      },
      {
       "output_type": "stream",
       "stream": "stdout",
       "text": [
        "\n",
        "Trained: 30, Tested: 51, Prediction: Ukrainian Wikipedia, Actual: Russian Wikipedia, Last-51 Accuracy: 0.392"
       ]
      },
      {
       "output_type": "stream",
       "stream": "stdout",
       "text": [
        "\n",
        "Trained: 31, Tested: 52, Prediction: French Wikipedia, Actual: Hebrew Wikipedia, Last-52 Accuracy: 0.385"
       ]
      },
      {
       "output_type": "stream",
       "stream": "stdout",
       "text": [
        "\n",
        "Trained: 32, Tested: 55, Prediction: French Wikipedia, Actual: Japanese Wikipedia, Last-55 Accuracy: 0.400"
       ]
      },
      {
       "output_type": "stream",
       "stream": "stdout",
       "text": [
        "\n",
        "Trained: 33, Tested: 56, Prediction: Spanish Wikipedia, Actual: Portuguese Wikipedia, Last-56 Accuracy: 0.393"
       ]
      },
      {
       "output_type": "stream",
       "stream": "stdout",
       "text": [
        "\n",
        "Trained: 34, Tested: 57, Prediction: German Wikipedia, Actual: French Wikipedia, Last-57 Accuracy: 0.386"
       ]
      },
      {
       "output_type": "stream",
       "stream": "stdout",
       "text": [
        "\n",
        "Trained: 35, Tested: 58, Prediction: French Wikipedia, Actual: Portuguese Wikipedia, Last-58 Accuracy: 0.379"
       ]
      },
      {
       "output_type": "stream",
       "stream": "stdout",
       "text": [
        "\n",
        "Trained: 36, Tested: 60, Prediction: Spanish Wikipedia, Actual: Dutch Wikipedia, Last-60 Accuracy: 0.383"
       ]
      },
      {
       "output_type": "stream",
       "stream": "stdout",
       "text": [
        "\n",
        "Trained: 37, Tested: 64, Prediction: Dutch Wikipedia, Actual: Portuguese Wikipedia, Last-64 Accuracy: 0.406"
       ]
      },
      {
       "output_type": "stream",
       "stream": "stdout",
       "text": [
        "\n",
        "Trained: 38, Tested: 65, Prediction: French Wikipedia, Actual: Portuguese Wikipedia, Last-65 Accuracy: 0.400"
       ]
      },
      {
       "output_type": "stream",
       "stream": "stdout",
       "text": [
        "\n",
        "Trained: 39, Tested: 66, Prediction: Portuguese Wikipedia, Actual: Spanish Wikipedia, Last-66 Accuracy: 0.394"
       ]
      },
      {
       "output_type": "stream",
       "stream": "stdout",
       "text": [
        "\n",
        "Trained: 40, Tested: 69, Prediction: Portuguese Wikipedia, Actual: Italian Wikipedia, Last-69 Accuracy: 0.406"
       ]
      },
      {
       "output_type": "stream",
       "stream": "stdout",
       "text": [
        "\n",
        "Trained: 41, Tested: 72, Prediction: French Wikipedia, Actual: Portuguese Wikipedia, Last-72 Accuracy: 0.417"
       ]
      },
      {
       "output_type": "stream",
       "stream": "stdout",
       "text": [
        "\n",
        "Trained: 42, Tested: 73, Prediction: Portuguese Wikipedia, Actual: French Wikipedia, Last-73 Accuracy: 0.411"
       ]
      },
      {
       "output_type": "stream",
       "stream": "stdout",
       "text": [
        "\n",
        "Trained: 43, Tested: 74, Prediction: Portuguese Wikipedia, Actual: Chinese Wikipedia, Last-74 Accuracy: 0.405"
       ]
      },
      {
       "output_type": "stream",
       "stream": "stdout",
       "text": [
        "\n",
        "Trained: 44, Tested: 75, Prediction: French Wikipedia, Actual: German Wikipedia, Last-75 Accuracy: 0.400\n",
        "Trained: 45, Tested: 77, Prediction: French Wikipedia, Actual: Portuguese Wikipedia, Last-77 Accuracy: 0.403"
       ]
      },
      {
       "output_type": "stream",
       "stream": "stdout",
       "text": [
        "\n",
        "Trained: 46, Tested: 80, Prediction: Spanish Wikipedia, Actual: Portuguese Wikipedia, Last-80 Accuracy: 0.412"
       ]
      },
      {
       "output_type": "stream",
       "stream": "stdout",
       "text": [
        "\n",
        "Trained: 47, Tested: 83, Prediction: Portuguese Wikipedia, Actual: Japanese Wikipedia, Last-83 Accuracy: 0.422"
       ]
      },
      {
       "output_type": "stream",
       "stream": "stdout",
       "text": [
        "\n",
        "Trained: 48, Tested: 85, Prediction: Norwegian Wikipedia, Actual: Japanese Wikipedia, Last-85 Accuracy: 0.424"
       ]
      },
      {
       "output_type": "stream",
       "stream": "stdout",
       "text": [
        "\n",
        "Trained: 49, Tested: 87, Prediction: French Wikipedia, Actual: Italian Wikipedia, Last-87 Accuracy: 0.425"
       ]
      },
      {
       "output_type": "stream",
       "stream": "stdout",
       "text": [
        "\n",
        "Trained: 50, Tested: 90, Prediction: Spanish Wikipedia, Actual: French Wikipedia, Last-90 Accuracy: 0.433"
       ]
      },
      {
       "output_type": "stream",
       "stream": "stdout",
       "text": [
        "\n",
        "Trained: 51, Tested: 91, Prediction: Russian Wikipedia, Actual: Ukrainian Wikipedia, Last-91 Accuracy: 0.429"
       ]
      },
      {
       "output_type": "stream",
       "stream": "stdout",
       "text": [
        "\n",
        "Trained: 52, Tested: 93, Prediction: French Wikipedia, Actual: Spanish Wikipedia, Last-93 Accuracy: 0.430"
       ]
      },
      {
       "output_type": "stream",
       "stream": "stdout",
       "text": [
        "\n",
        "Trained: 53, Tested: 94, Prediction: French Wikipedia, Actual: Italian Wikipedia, Last-94 Accuracy: 0.426"
       ]
      },
      {
       "output_type": "stream",
       "stream": "stdout",
       "text": [
        "\n",
        "Trained: 54, Tested: 95, Prediction: German Wikipedia, Actual: Chinese Wikipedia, Last-95 Accuracy: 0.421"
       ]
      },
      {
       "output_type": "stream",
       "stream": "stdout",
       "text": [
        "\n",
        "Trained: 55, Tested: 96, Prediction: French Wikipedia, Actual: Romanian Wikipedia, Last-96 Accuracy: 0.417"
       ]
      },
      {
       "output_type": "stream",
       "stream": "stdout",
       "text": [
        "\n",
        "Trained: 56, Tested: 98, Prediction: Portuguese Wikipedia, Actual: Spanish Wikipedia, Last-98 Accuracy: 0.418"
       ]
      },
      {
       "output_type": "stream",
       "stream": "stdout",
       "text": [
        "\n",
        "Trained: 57, Tested: 106, Prediction: Portuguese Wikipedia, Actual: Chinese Wikipedia, Last-106 Accuracy: 0.453"
       ]
      },
      {
       "output_type": "stream",
       "stream": "stdout",
       "text": [
        "\n",
        "Trained: 58, Tested: 107, Prediction: Chinese Wikipedia, Actual: Italian Wikipedia, Last-107 Accuracy: 0.449"
       ]
      },
      {
       "output_type": "stream",
       "stream": "stdout",
       "text": [
        "\n",
        "Trained: 59, Tested: 108, Prediction: Italian Wikipedia, Actual: Portuguese Wikipedia, Last-108 Accuracy: 0.444"
       ]
      },
      {
       "output_type": "stream",
       "stream": "stdout",
       "text": [
        "\n",
        "Trained: 60, Tested: 111, Prediction: German Wikipedia, Actual: Italian Wikipedia, Last-111 Accuracy: 0.450"
       ]
      },
      {
       "output_type": "stream",
       "stream": "stdout",
       "text": [
        "\n",
        "Trained: 61, Tested: 112, Prediction: Spanish Wikipedia, Actual: Hungarian Wikipedia, Last-112 Accuracy: 0.446"
       ]
      },
      {
       "output_type": "stream",
       "stream": "stdout",
       "text": [
        "\n",
        "Trained: 62, Tested: 114, Prediction: Italian Wikipedia, Actual: French Wikipedia, Last-114 Accuracy: 0.447"
       ]
      },
      {
       "output_type": "stream",
       "stream": "stdout",
       "text": [
        "\n",
        "Trained: 63, Tested: 116, Prediction: Italian Wikipedia, Actual: French Wikipedia, Last-116 Accuracy: 0.448"
       ]
      },
      {
       "output_type": "stream",
       "stream": "stdout",
       "text": [
        "\n",
        "Trained: 64, Tested: 121, Prediction: French Wikipedia, Actual: Romanian Wikipedia, Last-121 Accuracy: 0.463"
       ]
      },
      {
       "output_type": "stream",
       "stream": "stdout",
       "text": [
        "\n",
        "Trained: 65, Tested: 124, Prediction: Italian Wikipedia, Actual: German Wikipedia, Last-124 Accuracy: 0.468"
       ]
      },
      {
       "output_type": "stream",
       "stream": "stdout",
       "text": [
        "\n",
        "Trained: 66, Tested: 127, Prediction: Portuguese Wikipedia, Actual: Spanish Wikipedia, Last-127 Accuracy: 0.472"
       ]
      },
      {
       "output_type": "stream",
       "stream": "stdout",
       "text": [
        "\n",
        "Trained: 67, Tested: 130, Prediction: German Wikipedia, Actual: Hungarian Wikipedia, Last-130 Accuracy: 0.477"
       ]
      },
      {
       "output_type": "stream",
       "stream": "stdout",
       "text": [
        "\n",
        "Trained: 68, Tested: 132, Prediction: Spanish Wikipedia, Actual: Chinese Wikipedia, Last-132 Accuracy: 0.477"
       ]
      },
      {
       "output_type": "stream",
       "stream": "stdout",
       "text": [
        "\n",
        "Trained: 69, Tested: 136, Prediction: Chinese Wikipedia, Actual: German Wikipedia, Last-136 Accuracy: 0.485"
       ]
      },
      {
       "output_type": "stream",
       "stream": "stdout",
       "text": [
        "\n",
        "Trained: 70, Tested: 138, Prediction: German Wikipedia, Actual: Hungarian Wikipedia, Last-138 Accuracy: 0.486"
       ]
      },
      {
       "output_type": "stream",
       "stream": "stdout",
       "text": [
        "\n",
        "Trained: 71, Tested: 147, Prediction: Spanish Wikipedia, Actual: Italian Wikipedia, Last-147 Accuracy: 0.510"
       ]
      },
      {
       "output_type": "stream",
       "stream": "stdout",
       "text": [
        "\n",
        "Trained: 72, Tested: 148, Prediction: Italian Wikipedia, Actual: French Wikipedia, Last-148 Accuracy: 0.507"
       ]
      },
      {
       "output_type": "stream",
       "stream": "stdout",
       "text": [
        "\n",
        "Trained: 73, Tested: 150, Prediction: Chinese Wikipedia, Actual: Portuguese Wikipedia, Last-150 Accuracy: 0.507"
       ]
      },
      {
       "output_type": "stream",
       "stream": "stdout",
       "text": [
        "\n",
        "Trained: 74, Tested: 152, Prediction: Spanish Wikipedia, Actual: Portuguese Wikipedia, Last-152 Accuracy: 0.507"
       ]
      },
      {
       "output_type": "stream",
       "stream": "stdout",
       "text": [
        "\n",
        "Trained: 75, Tested: 154, Prediction: Italian Wikipedia, Actual: Farsi Wikipedia, Last-154 Accuracy: 0.506"
       ]
      },
      {
       "output_type": "stream",
       "stream": "stdout",
       "text": [
        "\n",
        "Trained: 76, Tested: 157, Prediction: Spanish Wikipedia, Actual: French Wikipedia, Last-157 Accuracy: 0.510"
       ]
      },
      {
       "output_type": "stream",
       "stream": "stdout",
       "text": [
        "\n",
        "Trained: 77, Tested: 169, Prediction: Portuguese Wikipedia, Actual: Spanish Wikipedia, Last-169 Accuracy: 0.538"
       ]
      },
      {
       "output_type": "stream",
       "stream": "stdout",
       "text": [
        "\n",
        "Trained: 78, Tested: 175, Prediction: Chinese Wikipedia, Actual: Arabic Wikipedia, Last-175 Accuracy: 0.549"
       ]
      },
      {
       "output_type": "stream",
       "stream": "stdout",
       "text": [
        "\n",
        "Trained: 79, Tested: 177, Prediction: Spanish Wikipedia, Actual: Japanese Wikipedia, Last-177 Accuracy: 0.548"
       ]
      },
      {
       "output_type": "stream",
       "stream": "stdout",
       "text": [
        "\n",
        "Trained: 80, Tested: 179, Prediction: Italian Wikipedia, Actual: Dutch Wikipedia, Last-179 Accuracy: 0.547"
       ]
      },
      {
       "output_type": "stream",
       "stream": "stdout",
       "text": [
        "\n",
        "Trained: 81, Tested: 180, Prediction: Portuguese Wikipedia, Actual: Italian Wikipedia, Last-180 Accuracy: 0.544"
       ]
      },
      {
       "output_type": "stream",
       "stream": "stdout",
       "text": [
        "\n",
        "Trained: 82, Tested: 181, Prediction: French Wikipedia, Actual: Portuguese Wikipedia, Last-181 Accuracy: 0.541"
       ]
      },
      {
       "output_type": "stream",
       "stream": "stdout",
       "text": [
        "\n",
        "Trained: 83, Tested: 183, Prediction: French Wikipedia, Actual: Chinese Wikipedia, Last-183 Accuracy: 0.541"
       ]
      },
      {
       "output_type": "stream",
       "stream": "stdout",
       "text": [
        "\n",
        "Trained: 84, Tested: 186, Prediction: French Wikipedia, Actual: Spanish Wikipedia, Last-186 Accuracy: 0.543"
       ]
      },
      {
       "output_type": "stream",
       "stream": "stdout",
       "text": [
        "\n",
        "Trained: 85, Tested: 187, Prediction: French Wikipedia, Actual: Spanish Wikipedia, Last-187 Accuracy: 0.540\n",
        "Trained: 86, Tested: 194, Prediction: French Wikipedia, Actual: Portuguese Wikipedia, Last-194 Accuracy: 0.552"
       ]
      },
      {
       "output_type": "stream",
       "stream": "stdout",
       "text": [
        "\n",
        "Trained: 87, Tested: 195, Prediction: Portuguese Wikipedia, Actual: Italian Wikipedia, Last-195 Accuracy: 0.549\n",
        "Trained: 88, Tested: 202, Prediction: Portuguese Wikipedia, Actual: Norwegian Wikipedia, Last-202 Accuracy: 0.559"
       ]
      },
      {
       "output_type": "stream",
       "stream": "stdout",
       "text": [
        "\n",
        "Trained: 89, Tested: 204, Prediction: Spanish Wikipedia, Actual: Portuguese Wikipedia, Last-204 Accuracy: 0.559\n",
        "Trained: 90, Tested: 207, Prediction: Spanish Wikipedia, Actual: Portuguese Wikipedia, Last-207 Accuracy: 0.560"
       ]
      },
      {
       "output_type": "stream",
       "stream": "stdout",
       "text": [
        "\n",
        "Trained: 91, Tested: 209, Prediction: Portuguese Wikipedia, Actual: Catalan Wikipedia, Last-209 Accuracy: 0.560"
       ]
      },
      {
       "output_type": "stream",
       "stream": "stdout",
       "text": [
        "\n",
        "Trained: 92, Tested: 210, Prediction: Italian Wikipedia, Actual: Portuguese Wikipedia, Last-210 Accuracy: 0.557"
       ]
      },
      {
       "output_type": "stream",
       "stream": "stdout",
       "text": [
        "\n",
        "Trained: 93, Tested: 214, Prediction: Catalan Wikipedia, Actual: Arabic Wikipedia, Last-214 Accuracy: 0.561"
       ]
      },
      {
       "output_type": "stream",
       "stream": "stdout",
       "text": [
        "\n",
        "Trained: 94, Tested: 216, Prediction: Portuguese Wikipedia, Actual: French Wikipedia, Last-216 Accuracy: 0.560"
       ]
      },
      {
       "output_type": "stream",
       "stream": "stdout",
       "text": [
        "\n",
        "Trained: 95, Tested: 219, Prediction: French Wikipedia, Actual: Italian Wikipedia, Last-219 Accuracy: 0.562"
       ]
      },
      {
       "output_type": "stream",
       "stream": "stdout",
       "text": [
        "\n",
        "Trained: 96, Tested: 220, Prediction: Spanish Wikipedia, Actual: Vietnamese Wikipedia, Last-220 Accuracy: 0.559"
       ]
      },
      {
       "output_type": "stream",
       "stream": "stdout",
       "text": [
        "\n",
        "Trained: 97, Tested: 244, Prediction: Italian Wikipedia, Actual: French Wikipedia, Last-244 Accuracy: 0.598"
       ]
      },
      {
       "output_type": "stream",
       "stream": "stdout",
       "text": [
        "\n",
        "Trained: 98, Tested: 247, Prediction: Italian Wikipedia, Actual: Hebrew Wikipedia, Last-247 Accuracy: 0.599"
       ]
      },
      {
       "output_type": "stream",
       "stream": "stdout",
       "text": [
        "\n",
        "Trained: 99, Tested: 250, Prediction: Italian Wikipedia, Actual: Japanese Wikipedia, Last-250 Accuracy: 0.600"
       ]
      },
      {
       "output_type": "stream",
       "stream": "stdout",
       "text": [
        "\n",
        "Trained: 100, Tested: 252, Prediction: French Wikipedia, Actual: German Wikipedia, Last-252 Accuracy: 0.599"
       ]
      },
      {
       "output_type": "stream",
       "stream": "stdout",
       "text": [
        "\n",
        "Trained: 101, Tested: 253, Prediction: Catalan Wikipedia, Actual: Korean Wikipedia, Last-253 Accuracy: 0.597"
       ]
      },
      {
       "output_type": "stream",
       "stream": "stdout",
       "text": [
        "\n",
        "Trained: 102, Tested: 256, Prediction: French Wikipedia, Actual: Slovak Wikipedia, Last-256 Accuracy: 0.598"
       ]
      },
      {
       "output_type": "stream",
       "stream": "stdout",
       "text": [
        "\n",
        "Trained: 103, Tested: 258, Prediction: French Wikipedia, Actual: German Wikipedia, Last-258 Accuracy: 0.597"
       ]
      },
      {
       "output_type": "stream",
       "stream": "stdout",
       "text": [
        "\n",
        "Trained: 104, Tested: 264, Prediction: Ukrainian Wikipedia, Actual: Russian Wikipedia, Last-264 Accuracy: 0.602"
       ]
      },
      {
       "output_type": "stream",
       "stream": "stdout",
       "text": [
        "\n",
        "Trained: 105, Tested: 267, Prediction: Italian Wikipedia, Actual: Indonesian Wikipedia, Last-267 Accuracy: 0.603"
       ]
      },
      {
       "output_type": "stream",
       "stream": "stdout",
       "text": [
        "\n",
        "Trained: 106, Tested: 268, Prediction: Portuguese Wikipedia, Actual: Spanish Wikipedia, Last-268 Accuracy: 0.601\n",
        "Trained: 107, Tested: 274, Prediction: German Wikipedia, Actual: Korean Wikipedia, Last-274 Accuracy: 0.606"
       ]
      },
      {
       "output_type": "stream",
       "stream": "stdout",
       "text": [
        "\n",
        "Trained: 108, Tested: 276, Prediction: Italian Wikipedia, Actual: Hungarian Wikipedia, Last-276 Accuracy: 0.605"
       ]
      },
      {
       "output_type": "stream",
       "stream": "stdout",
       "text": [
        "\n",
        "Trained: 109, Tested: 283, Prediction: Spanish Wikipedia, Actual: Indonesian Wikipedia, Last-283 Accuracy: 0.611"
       ]
      },
      {
       "output_type": "stream",
       "stream": "stdout",
       "text": [
        "\n",
        "Trained: 110, Tested: 291, Prediction: Spanish Wikipedia, Actual: French Wikipedia, Last-291 Accuracy: 0.619"
       ]
      },
      {
       "output_type": "stream",
       "stream": "stdout",
       "text": [
        "\n",
        "Trained: 111, Tested: 294, Prediction: Hungarian Wikipedia, Actual: Czech Wikipedia, Last-294 Accuracy: 0.619"
       ]
      },
      {
       "output_type": "stream",
       "stream": "stdout",
       "text": [
        "\n",
        "Trained: 112, Tested: 295, Prediction: Indonesian Wikipedia, Actual: Arabic Wikipedia, Last-295 Accuracy: 0.617"
       ]
      },
      {
       "output_type": "stream",
       "stream": "stdout",
       "text": [
        "\n",
        "Trained: 113, Tested: 297, Prediction: Spanish Wikipedia, Actual: German Wikipedia, Last-297 Accuracy: 0.616"
       ]
      },
      {
       "output_type": "stream",
       "stream": "stdout",
       "text": [
        "\n",
        "Trained: 114, Tested: 304, Prediction: Hungarian Wikipedia, Actual: German Wikipedia, Last-304 Accuracy: 0.622"
       ]
      },
      {
       "output_type": "stream",
       "stream": "stdout",
       "text": [
        "\n",
        "Trained: 115, Tested: 305, Prediction: Spanish Wikipedia, Actual: Portuguese Wikipedia, Last-305 Accuracy: 0.620"
       ]
      },
      {
       "output_type": "stream",
       "stream": "stdout",
       "text": [
        "\n",
        "Trained: 116, Tested: 309, Prediction: Russian Wikipedia, Actual: Bulgarian Wikipedia, Last-309 Accuracy: 0.621"
       ]
      },
      {
       "output_type": "stream",
       "stream": "stdout",
       "text": [
        "\n",
        "Trained: 117, Tested: 316, Prediction: Spanish Wikipedia, Actual: Portuguese Wikipedia, Last-316 Accuracy: 0.627"
       ]
      },
      {
       "output_type": "stream",
       "stream": "stdout",
       "text": [
        "\n",
        "Trained: 118, Tested: 339, Prediction: German Wikipedia, Actual: Japanese Wikipedia, Last-339 Accuracy: 0.649"
       ]
      },
      {
       "output_type": "stream",
       "stream": "stdout",
       "text": [
        "\n",
        "Trained: 119, Tested: 344, Prediction: Portuguese Wikipedia, Actual: Spanish Wikipedia, Last-344 Accuracy: 0.651"
       ]
      },
      {
       "output_type": "stream",
       "stream": "stdout",
       "text": [
        "\n",
        "Trained: 120, Tested: 348, Prediction: Italian Wikipedia, Actual: Slovak Wikipedia, Last-348 Accuracy: 0.652"
       ]
      },
      {
       "output_type": "stream",
       "stream": "stdout",
       "text": [
        "\n",
        "Trained: 121, Tested: 351, Prediction: German Wikipedia, Actual: Italian Wikipedia, Last-351 Accuracy: 0.652"
       ]
      },
      {
       "output_type": "stream",
       "stream": "stdout",
       "text": [
        "\n",
        "Trained: 122, Tested: 358, Prediction: Spanish Wikipedia, Actual: Chinese Wikipedia, Last-358 Accuracy: 0.656"
       ]
      },
      {
       "output_type": "stream",
       "stream": "stdout",
       "text": [
        "\n",
        "Trained: 123, Tested: 366, Prediction: French Wikipedia, Actual: Japanese Wikipedia, Last-366 Accuracy: 0.661"
       ]
      },
      {
       "output_type": "stream",
       "stream": "stdout",
       "text": [
        "\n",
        "Trained: 124, Tested: 368, Prediction: Spanish Wikipedia, Actual: Portuguese Wikipedia, Last-368 Accuracy: 0.660"
       ]
      },
      {
       "output_type": "stream",
       "stream": "stdout",
       "text": [
        "\n",
        "Trained: 125, Tested: 371, Prediction: Portuguese Wikipedia, Actual: Spanish Wikipedia, Last-371 Accuracy: 0.660"
       ]
      },
      {
       "output_type": "stream",
       "stream": "stdout",
       "text": [
        "\n",
        "Trained: 126, Tested: 390, Prediction: German Wikipedia, Actual: French Wikipedia, Last-390 Accuracy: 0.674"
       ]
      },
      {
       "output_type": "stream",
       "stream": "stdout",
       "text": [
        "\n",
        "Trained: 127, Tested: 393, Prediction: Portuguese Wikipedia, Actual: Danish Wikipedia, Last-393 Accuracy: 0.674"
       ]
      },
      {
       "output_type": "stream",
       "stream": "stdout",
       "text": [
        "\n",
        "Trained: 128, Tested: 400, Prediction: Spanish Wikipedia, Actual: Chinese Wikipedia, Last-400 Accuracy: 0.677"
       ]
      },
      {
       "output_type": "stream",
       "stream": "stdout",
       "text": [
        "\n",
        "Trained: 129, Tested: 402, Prediction: Portuguese Wikipedia, Actual: Danish Wikipedia, Last-402 Accuracy: 0.677"
       ]
      },
      {
       "output_type": "stream",
       "stream": "stdout",
       "text": [
        "\n",
        "Trained: 130, Tested: 403, Prediction: Portuguese Wikipedia, Actual: Spanish Wikipedia, Last-403 Accuracy: 0.675"
       ]
      },
      {
       "output_type": "stream",
       "stream": "stdout",
       "text": [
        "\n",
        "Trained: 131, Tested: 409, Prediction: Portuguese Wikipedia, Actual: Danish Wikipedia, Last-409 Accuracy: 0.677"
       ]
      },
      {
       "output_type": "stream",
       "stream": "stdout",
       "text": [
        "\n",
        "Trained: 132, Tested: 419, Prediction: Portuguese Wikipedia, Actual: Danish Wikipedia, Last-419 Accuracy: 0.683"
       ]
      },
      {
       "output_type": "stream",
       "stream": "stdout",
       "text": [
        "\n",
        "Trained: 133, Tested: 429, Prediction: Spanish Wikipedia, Actual: Catalan Wikipedia, Last-429 Accuracy: 0.688"
       ]
      },
      {
       "output_type": "stream",
       "stream": "stdout",
       "text": [
        "\n",
        "Trained: 134, Tested: 430, Prediction: Portuguese Wikipedia, Actual: Spanish Wikipedia, Last-430 Accuracy: 0.686\n",
        "Trained: 135, Tested: 434, Prediction: Spanish Wikipedia, Actual: Portuguese Wikipedia, Last-434 Accuracy: 0.687"
       ]
      },
      {
       "output_type": "stream",
       "stream": "stdout",
       "text": [
        "\n",
        "Trained: 136, Tested: 460, Prediction: Spanish Wikipedia, Actual: German Wikipedia, Last-460 Accuracy: 0.702"
       ]
      },
      {
       "output_type": "stream",
       "stream": "stdout",
       "text": [
        "\n",
        "Trained: 137, Tested: 462, Prediction: Italian Wikipedia, Actual: Turkish Wikipedia, Last-462 Accuracy: 0.701"
       ]
      },
      {
       "output_type": "stream",
       "stream": "stdout",
       "text": [
        "\n",
        "Trained: 138, Tested: 463, Prediction: German Wikipedia, Actual: French Wikipedia, Last-463 Accuracy: 0.700"
       ]
      },
      {
       "output_type": "stream",
       "stream": "stdout",
       "text": [
        "\n",
        "Trained: 139, Tested: 465, Prediction: Arabic Wikipedia, Actual: Farsi Wikipedia, Last-465 Accuracy: 0.699"
       ]
      },
      {
       "output_type": "stream",
       "stream": "stdout",
       "text": [
        "\n",
        "Trained: 140, Tested: 476, Prediction: Spanish Wikipedia, Actual: Portuguese Wikipedia, Last-476 Accuracy: 0.704"
       ]
      },
      {
       "output_type": "stream",
       "stream": "stdout",
       "text": [
        "\n",
        "Trained: 141, Tested: 481, Prediction: Spanish Wikipedia, Actual: French Wikipedia, Last-481 Accuracy: 0.705"
       ]
      },
      {
       "output_type": "stream",
       "stream": "stdout",
       "text": [
        "\n",
        "Trained: 142, Tested: 483, Prediction: Spanish Wikipedia, Actual: Japanese Wikipedia, Last-483 Accuracy: 0.704"
       ]
      },
      {
       "output_type": "stream",
       "stream": "stdout",
       "text": [
        "\n",
        "Trained: 143, Tested: 486, Prediction: Spanish Wikipedia, Actual: Dutch Wikipedia, Last-486 Accuracy: 0.704"
       ]
      },
      {
       "output_type": "stream",
       "stream": "stdout",
       "text": [
        "\n",
        "Trained: 144, Tested: 489, Prediction: Slovak Wikipedia, Actual: Japanese Wikipedia, Last-489 Accuracy: 0.703"
       ]
      },
      {
       "output_type": "stream",
       "stream": "stdout",
       "text": [
        "\n",
        "Trained: 145, Tested: 500, Prediction: Spanish Wikipedia, Actual: German Wikipedia, Last-500 Accuracy: 0.708"
       ]
      },
      {
       "output_type": "stream",
       "stream": "stdout",
       "text": [
        "\n",
        "Trained: 146, Tested: 500, Prediction: Spanish Wikipedia, Actual: Italian Wikipedia, Last-500 Accuracy: 0.712"
       ]
      },
      {
       "output_type": "stream",
       "stream": "stdout",
       "text": [
        "\n",
        "Trained: 147, Tested: 500, Prediction: Spanish Wikipedia, Actual: Portuguese Wikipedia, Last-500 Accuracy: 0.712"
       ]
      },
      {
       "output_type": "stream",
       "stream": "stdout",
       "text": [
        "\n",
        "Trained: 148, Tested: 500, Prediction: Portuguese Wikipedia, Actual: Spanish Wikipedia, Last-500 Accuracy: 0.714"
       ]
      },
      {
       "output_type": "stream",
       "stream": "stdout",
       "text": [
        "\n",
        "Trained: 149, Tested: 500, Prediction: French Wikipedia, Actual: Portuguese Wikipedia, Last-500 Accuracy: 0.716"
       ]
      },
      {
       "output_type": "stream",
       "stream": "stdout",
       "text": [
        "\n",
        "Trained: 150, Tested: 500, Prediction: Portuguese Wikipedia, Actual: Spanish Wikipedia, Last-500 Accuracy: 0.718"
       ]
      },
      {
       "output_type": "stream",
       "stream": "stdout",
       "text": [
        "\n",
        "Trained: 151, Tested: 500, Prediction: Spanish Wikipedia, Actual: Hungarian Wikipedia, Last-500 Accuracy: 0.720"
       ]
      },
      {
       "output_type": "stream",
       "stream": "stdout",
       "text": [
        "\n",
        "Trained: 152, Tested: 500, Prediction: Spanish Wikipedia, Actual: Portuguese Wikipedia, Last-500 Accuracy: 0.740"
       ]
      },
      {
       "output_type": "stream",
       "stream": "stdout",
       "text": [
        "\n",
        "Trained: 153, Tested: 500, Prediction: Portuguese Wikipedia, Actual: Spanish Wikipedia, Last-500 Accuracy: 0.740"
       ]
      },
      {
       "output_type": "stream",
       "stream": "stdout",
       "text": [
        "\n",
        "Trained: 154, Tested: 500, Prediction: Italian Wikipedia, Actual: Turkish Wikipedia, Last-500 Accuracy: 0.748"
       ]
      },
      {
       "output_type": "stream",
       "stream": "stdout",
       "text": [
        "\n",
        "Trained: 155, Tested: 500, Prediction: Spanish Wikipedia, Actual: Portuguese Wikipedia, Last-500 Accuracy: 0.752"
       ]
      },
      {
       "output_type": "stream",
       "stream": "stdout",
       "text": [
        "\n",
        "Trained: 156, Tested: 500, Prediction: Spanish Wikipedia, Actual: Russian Wikipedia, Last-500 Accuracy: 0.754"
       ]
      },
      {
       "output_type": "stream",
       "stream": "stdout",
       "text": [
        "\n",
        "Trained: 157, Tested: 500, Prediction: Spanish Wikipedia, Actual: Portuguese Wikipedia, Last-500 Accuracy: 0.764"
       ]
      },
      {
       "output_type": "stream",
       "stream": "stdout",
       "text": [
        "\n",
        "Trained: 158, Tested: 500, Prediction: Spanish Wikipedia, Actual: Portuguese Wikipedia, Last-500 Accuracy: 0.764"
       ]
      },
      {
       "output_type": "stream",
       "stream": "stdout",
       "text": [
        "\n",
        "Trained: 159, Tested: 500, Prediction: Italian Wikipedia, Actual: German Wikipedia, Last-500 Accuracy: 0.770"
       ]
      },
      {
       "output_type": "stream",
       "stream": "stdout",
       "text": [
        "\n",
        "Trained: 160, Tested: 500, Prediction: Portuguese Wikipedia, Actual: Italian Wikipedia, Last-500 Accuracy: 0.770\n",
        "Trained: 161, Tested: 500, Prediction: Portuguese Wikipedia, Actual: Arabic Wikipedia, Last-500 Accuracy: 0.772"
       ]
      },
      {
       "output_type": "stream",
       "stream": "stdout",
       "text": [
        "\n",
        "Trained: 162, Tested: 500, Prediction: Portuguese Wikipedia, Actual: Catalan Wikipedia, Last-500 Accuracy: 0.772"
       ]
      },
      {
       "output_type": "stream",
       "stream": "stdout",
       "text": [
        "\n",
        "Trained: 163, Tested: 500, Prediction: Spanish Wikipedia, Actual: French Wikipedia, Last-500 Accuracy: 0.780"
       ]
      },
      {
       "output_type": "stream",
       "stream": "stdout",
       "text": [
        "\n",
        "Trained: 164, Tested: 500, Prediction: Portuguese Wikipedia, Actual: Polish Wikipedia, Last-500 Accuracy: 0.784"
       ]
      },
      {
       "output_type": "stream",
       "stream": "stdout",
       "text": [
        "\n",
        "Trained: 165, Tested: 500, Prediction: Portuguese Wikipedia, Actual: Hungarian Wikipedia, Last-500 Accuracy: 0.782"
       ]
      },
      {
       "output_type": "stream",
       "stream": "stdout",
       "text": [
        "\n",
        "Trained: 166, Tested: 500, Prediction: Portuguese Wikipedia, Actual: Spanish Wikipedia, Last-500 Accuracy: 0.792"
       ]
      },
      {
       "output_type": "stream",
       "stream": "stdout",
       "text": [
        "\n",
        "Trained: 167, Tested: 500, Prediction: German Wikipedia, Actual: Dutch Wikipedia, Last-500 Accuracy: 0.794"
       ]
      },
      {
       "output_type": "stream",
       "stream": "stdout",
       "text": [
        "\n",
        "Trained: 168, Tested: 500, Prediction: French Wikipedia, Actual: Spanish Wikipedia, Last-500 Accuracy: 0.802"
       ]
      },
      {
       "output_type": "stream",
       "stream": "stdout",
       "text": [
        "\n",
        "Trained: 169, Tested: 500, Prediction: Spanish Wikipedia, Actual: Portuguese Wikipedia, Last-500 Accuracy: 0.802"
       ]
      },
      {
       "output_type": "stream",
       "stream": "stdout",
       "text": [
        "\n",
        "Trained: 170, Tested: 500, Prediction: Spanish Wikipedia, Actual: French Wikipedia, Last-500 Accuracy: 0.808"
       ]
      },
      {
       "output_type": "stream",
       "stream": "stdout",
       "text": [
        "\n",
        "Trained: 171, Tested: 500, Prediction: Portuguese Wikipedia, Actual: Spanish Wikipedia, Last-500 Accuracy: 0.806\n",
        "Trained: 172, Tested: 500, Prediction: Spanish Wikipedia, Actual: Swedish Wikipedia, Last-500 Accuracy: 0.808"
       ]
      },
      {
       "output_type": "stream",
       "stream": "stdout",
       "text": [
        "\n",
        "Trained: 173, Tested: 500, Prediction: Spanish Wikipedia, Actual: German Wikipedia, Last-500 Accuracy: 0.806"
       ]
      },
      {
       "output_type": "stream",
       "stream": "stdout",
       "text": [
        "\n",
        "Trained: 174, Tested: 500, Prediction: Portuguese Wikipedia, Actual: Italian Wikipedia, Last-500 Accuracy: 0.804\n",
        "Trained: 175, Tested: 500, Prediction: French Wikipedia, Actual: Portuguese Wikipedia, Last-500 Accuracy: 0.802"
       ]
      },
      {
       "output_type": "stream",
       "stream": "stdout",
       "text": [
        "\n",
        "Trained: 176, Tested: 500, Prediction: Spanish Wikipedia, Actual: Portuguese Wikipedia, Last-500 Accuracy: 0.800"
       ]
      },
      {
       "output_type": "stream",
       "stream": "stdout",
       "text": [
        "\n",
        "Trained: 177, Tested: 500, Prediction: Spanish Wikipedia, Actual: Italian Wikipedia, Last-500 Accuracy: 0.812"
       ]
      },
      {
       "output_type": "stream",
       "stream": "stdout",
       "text": [
        "\n",
        "Trained: 178, Tested: 500, Prediction: French Wikipedia, Actual: Spanish Wikipedia, Last-500 Accuracy: 0.818"
       ]
      },
      {
       "output_type": "stream",
       "stream": "stdout",
       "text": [
        "\n",
        "Trained: 179, Tested: 500, Prediction: Spanish Wikipedia, Actual: Chinese Wikipedia, Last-500 Accuracy: 0.826"
       ]
      },
      {
       "output_type": "stream",
       "stream": "stdout",
       "text": [
        "\n",
        "Trained: 180, Tested: 500, Prediction: Portuguese Wikipedia, Actual: Spanish Wikipedia, Last-500 Accuracy: 0.824"
       ]
      },
      {
       "output_type": "stream",
       "stream": "stdout",
       "text": [
        "\n",
        "Trained: 181, Tested: 500, Prediction: Russian Wikipedia, Actual: Ukrainian Wikipedia, Last-500 Accuracy: 0.824"
       ]
      },
      {
       "output_type": "stream",
       "stream": "stdout",
       "text": [
        "\n",
        "Trained: 182, Tested: 500, Prediction: Spanish Wikipedia, Actual: French Wikipedia, Last-500 Accuracy: 0.824"
       ]
      },
      {
       "output_type": "stream",
       "stream": "stdout",
       "text": [
        "\n",
        "Trained: 183, Tested: 500, Prediction: Portuguese Wikipedia, Actual: Norwegian Wikipedia, Last-500 Accuracy: 0.826"
       ]
      },
      {
       "output_type": "stream",
       "stream": "stdout",
       "text": [
        "\n",
        "Trained: 184, Tested: 500, Prediction: Spanish Wikipedia, Actual: Italian Wikipedia, Last-500 Accuracy: 0.824"
       ]
      },
      {
       "output_type": "stream",
       "stream": "stdout",
       "text": [
        "\n",
        "Trained: 185, Tested: 500, Prediction: French Wikipedia, Actual: Italian Wikipedia, Last-500 Accuracy: 0.828"
       ]
      },
      {
       "output_type": "stream",
       "stream": "stdout",
       "text": [
        "\n",
        "Trained: 186, Tested: 500, Prediction: Italian Wikipedia, Actual: Dutch Wikipedia, Last-500 Accuracy: 0.828"
       ]
      },
      {
       "output_type": "stream",
       "stream": "stdout",
       "text": [
        "\n",
        "Trained: 187, Tested: 500, Prediction: Spanish Wikipedia, Actual: Portuguese Wikipedia, Last-500 Accuracy: 0.830"
       ]
      },
      {
       "output_type": "stream",
       "stream": "stdout",
       "text": [
        "\n",
        "Trained: 188, Tested: 500, Prediction: French Wikipedia, Actual: Spanish Wikipedia, Last-500 Accuracy: 0.828"
       ]
      },
      {
       "output_type": "stream",
       "stream": "stdout",
       "text": [
        "\n",
        "Trained: 189, Tested: 500, Prediction: Portuguese Wikipedia, Actual: Norwegian Wikipedia, Last-500 Accuracy: 0.828"
       ]
      },
      {
       "output_type": "stream",
       "stream": "stdout",
       "text": [
        "\n",
        "Trained: 190, Tested: 500, Prediction: French Wikipedia, Actual: Portuguese Wikipedia, Last-500 Accuracy: 0.842"
       ]
      },
      {
       "output_type": "stream",
       "stream": "stdout",
       "text": [
        "\n",
        "Trained: 191, Tested: 500, Prediction: Portuguese Wikipedia, Actual: Finnish Wikipedia, Last-500 Accuracy: 0.844"
       ]
      },
      {
       "output_type": "stream",
       "stream": "stdout",
       "text": [
        "\n",
        "Trained: 192, Tested: 500, Prediction: Spanish Wikipedia, Actual: Turkish Wikipedia, Last-500 Accuracy: 0.846"
       ]
      },
      {
       "output_type": "stream",
       "stream": "stdout",
       "text": [
        "\n",
        "Trained: 193, Tested: 500, Prediction: Spanish Wikipedia, Actual: German Wikipedia, Last-500 Accuracy: 0.848"
       ]
      },
      {
       "output_type": "stream",
       "stream": "stdout",
       "text": [
        "\n",
        "Trained: 194, Tested: 500, Prediction: French Wikipedia, Actual: German Wikipedia, Last-500 Accuracy: 0.848"
       ]
      },
      {
       "output_type": "stream",
       "stream": "stdout",
       "text": [
        "\n",
        "Trained: 195, Tested: 500, Prediction: Spanish Wikipedia, Actual: French Wikipedia, Last-500 Accuracy: 0.846"
       ]
      },
      {
       "output_type": "stream",
       "stream": "stdout",
       "text": [
        "\n",
        "Trained: 196, Tested: 500, Prediction: Spanish Wikipedia, Actual: Chinese Wikipedia, Last-500 Accuracy: 0.856"
       ]
      },
      {
       "output_type": "stream",
       "stream": "stdout",
       "text": [
        "\n",
        "Trained: 197, Tested: 500, Prediction: German Wikipedia, Actual: Chinese Wikipedia, Last-500 Accuracy: 0.854\n",
        "Trained: 198, Tested: 500, Prediction: Spanish Wikipedia, Actual: Chinese Wikipedia, Last-500 Accuracy: 0.854"
       ]
      },
      {
       "output_type": "stream",
       "stream": "stdout",
       "text": [
        "\n",
        "Trained: 199, Tested: 500, Prediction: Ukrainian Wikipedia, Actual: Russian Wikipedia, Last-500 Accuracy: 0.852"
       ]
      },
      {
       "output_type": "stream",
       "stream": "stdout",
       "text": [
        "\n",
        "Trained: 200, Tested: 500, Prediction: Spanish Wikipedia, Actual: Chinese Wikipedia, Last-500 Accuracy: 0.850"
       ]
      },
      {
       "output_type": "stream",
       "stream": "stdout",
       "text": [
        "\n",
        "Trained: 201, Tested: 500, Prediction: French Wikipedia, Actual: Portuguese Wikipedia, Last-500 Accuracy: 0.848"
       ]
      },
      {
       "output_type": "stream",
       "stream": "stdout",
       "text": [
        "\n",
        "Trained: 202, Tested: 500, Prediction: Spanish Wikipedia, Actual: Turkish Wikipedia, Last-500 Accuracy: 0.846"
       ]
      },
      {
       "output_type": "stream",
       "stream": "stdout",
       "text": [
        "\n",
        "Trained: 203, Tested: 500, Prediction: Chinese Wikipedia, Actual: Japanese Wikipedia, Last-500 Accuracy: 0.848"
       ]
      },
      {
       "output_type": "stream",
       "stream": "stdout",
       "text": [
        "\n",
        "Trained: 204, Tested: 500, Prediction: Chinese Wikipedia, Actual: Spanish Wikipedia, Last-500 Accuracy: 0.846\n",
        "Trained: 205, Tested: 500, Prediction: Spanish Wikipedia, Actual: Portuguese Wikipedia, Last-500 Accuracy: 0.846"
       ]
      },
      {
       "output_type": "stream",
       "stream": "stdout",
       "text": [
        "\n",
        "Trained: 206, Tested: 500, Prediction: Spanish Wikipedia, Actual: Portuguese Wikipedia, Last-500 Accuracy: 0.850"
       ]
      },
      {
       "output_type": "stream",
       "stream": "stdout",
       "text": [
        "\n",
        "Trained: 207, Tested: 500, Prediction: Portuguese Wikipedia, Actual: Turkish Wikipedia, Last-500 Accuracy: 0.848"
       ]
      },
      {
       "output_type": "stream",
       "stream": "stdout",
       "text": [
        "\n",
        "Trained: 208, Tested: 500, Prediction: German Wikipedia, Actual: Danish Wikipedia, Last-500 Accuracy: 0.848"
       ]
      },
      {
       "output_type": "stream",
       "stream": "stdout",
       "text": [
        "\n",
        "Trained: 209, Tested: 500, Prediction: Italian Wikipedia, Actual: Finnish Wikipedia, Last-500 Accuracy: 0.846"
       ]
      },
      {
       "output_type": "stream",
       "stream": "stdout",
       "text": [
        "\n",
        "Trained: 210, Tested: 500, Prediction: Turkish Wikipedia, Actual: Finnish Wikipedia, Last-500 Accuracy: 0.848"
       ]
      },
      {
       "output_type": "stream",
       "stream": "stdout",
       "text": [
        "\n",
        "Trained: 211, Tested: 500, Prediction: German Wikipedia, Actual: Spanish Wikipedia, Last-500 Accuracy: 0.848"
       ]
      },
      {
       "output_type": "stream",
       "stream": "stdout",
       "text": [
        "\n",
        "Trained: 212, Tested: 500, Prediction: Spanish Wikipedia, Actual: Portuguese Wikipedia, Last-500 Accuracy: 0.848"
       ]
      },
      {
       "output_type": "stream",
       "stream": "stdout",
       "text": [
        "\n",
        "Trained: 213, Tested: 500, Prediction: Portuguese Wikipedia, Actual: Chinese Wikipedia, Last-500 Accuracy: 0.852"
       ]
      },
      {
       "output_type": "stream",
       "stream": "stdout",
       "text": [
        "\n",
        "Trained: 214, Tested: 500, Prediction: Portuguese Wikipedia, Actual: Spanish Wikipedia, Last-500 Accuracy: 0.850"
       ]
      },
      {
       "output_type": "stream",
       "stream": "stdout",
       "text": [
        "\n",
        "Trained: 215, Tested: 500, Prediction: Chinese Wikipedia, Actual: Ukrainian Wikipedia, Last-500 Accuracy: 0.850"
       ]
      },
      {
       "output_type": "stream",
       "stream": "stdout",
       "text": [
        "\n",
        "Trained: 216, Tested: 500, Prediction: Chinese Wikipedia, Actual: Dutch Wikipedia, Last-500 Accuracy: 0.854"
       ]
      },
      {
       "output_type": "stream",
       "stream": "stdout",
       "text": [
        "\n",
        "Trained: 217, Tested: 500, Prediction: Portuguese Wikipedia, Actual: Spanish Wikipedia, Last-500 Accuracy: 0.854"
       ]
      },
      {
       "output_type": "stream",
       "stream": "stdout",
       "text": [
        "\n",
        "Trained: 218, Tested: 500, Prediction: Italian Wikipedia, Actual: Japanese Wikipedia, Last-500 Accuracy: 0.852"
       ]
      },
      {
       "output_type": "stream",
       "stream": "stdout",
       "text": [
        "\n",
        "Trained: 219, Tested: 500, Prediction: Spanish Wikipedia, Actual: Portuguese Wikipedia, Last-500 Accuracy: 0.850"
       ]
      },
      {
       "output_type": "stream",
       "stream": "stdout",
       "text": [
        "\n",
        "Trained: 220, Tested: 500, Prediction: Portuguese Wikipedia, Actual: Dutch Wikipedia, Last-500 Accuracy: 0.848"
       ]
      },
      {
       "output_type": "stream",
       "stream": "stdout",
       "text": [
        "\n",
        "Trained: 221, Tested: 500, Prediction: Spanish Wikipedia, Actual: French Wikipedia, Last-500 Accuracy: 0.848"
       ]
      },
      {
       "output_type": "stream",
       "stream": "stdout",
       "text": [
        "\n",
        "Trained: 222, Tested: 500, Prediction: Spanish Wikipedia, Actual: German Wikipedia, Last-500 Accuracy: 0.854"
       ]
      },
      {
       "output_type": "stream",
       "stream": "stdout",
       "text": [
        "\n",
        "Trained: 223, Tested: 500, Prediction: German Wikipedia, Actual: Polish Wikipedia, Last-500 Accuracy: 0.852"
       ]
      },
      {
       "output_type": "stream",
       "stream": "stdout",
       "text": [
        "\n",
        "Trained: 224, Tested: 500, Prediction: Spanish Wikipedia, Actual: Chinese Wikipedia, Last-500 Accuracy: 0.854"
       ]
      },
      {
       "output_type": "stream",
       "stream": "stdout",
       "text": [
        "\n",
        "Trained: 225, Tested: 500, Prediction: German Wikipedia, Actual: Chinese Wikipedia, Last-500 Accuracy: 0.854"
       ]
      },
      {
       "output_type": "stream",
       "stream": "stdout",
       "text": [
        "\n",
        "Trained: 226, Tested: 500, Prediction: German Wikipedia, Actual: Swedish Wikipedia, Last-500 Accuracy: 0.854"
       ]
      },
      {
       "output_type": "stream",
       "stream": "stdout",
       "text": [
        "\n",
        "Trained: 227, Tested: 500, Prediction: Portuguese Wikipedia, Actual: Spanish Wikipedia, Last-500 Accuracy: 0.856"
       ]
      },
      {
       "output_type": "stream",
       "stream": "stdout",
       "text": [
        "\n",
        "Trained: 228, Tested: 500, Prediction: Spanish Wikipedia, Actual: Portuguese Wikipedia, Last-500 Accuracy: 0.856"
       ]
      },
      {
       "output_type": "stream",
       "stream": "stdout",
       "text": [
        "\n",
        "Trained: 229, Tested: 500, Prediction: Spanish Wikipedia, Actual: Portuguese Wikipedia, Last-500 Accuracy: 0.854\n",
        "Trained: 230, Tested: 500, Prediction: Danish Wikipedia, Actual: Hungarian Wikipedia, Last-500 Accuracy: 0.852"
       ]
      },
      {
       "output_type": "stream",
       "stream": "stdout",
       "text": [
        "\n",
        "Trained: 231, Tested: 500, Prediction: Portuguese Wikipedia, Actual: Spanish Wikipedia, Last-500 Accuracy: 0.854"
       ]
      },
      {
       "output_type": "stream",
       "stream": "stdout",
       "text": [
        "\n",
        "Trained: 232, Tested: 500, Prediction: Spanish Wikipedia, Actual: Chinese Wikipedia, Last-500 Accuracy: 0.856"
       ]
      },
      {
       "output_type": "stream",
       "stream": "stdout",
       "text": [
        "\n",
        "Trained: 233, Tested: 500, Prediction: Finnish Wikipedia, Actual: German Wikipedia, Last-500 Accuracy: 0.858"
       ]
      },
      {
       "output_type": "stream",
       "stream": "stdout",
       "text": [
        "\n",
        "Trained: 234, Tested: 500, Prediction: Chinese Wikipedia, Actual: Italian Wikipedia, Last-500 Accuracy: 0.860"
       ]
      },
      {
       "output_type": "stream",
       "stream": "stdout",
       "text": [
        "\n",
        "Trained: 235, Tested: 500, Prediction: Spanish Wikipedia, Actual: Italian Wikipedia, Last-500 Accuracy: 0.860"
       ]
      },
      {
       "output_type": "stream",
       "stream": "stdout",
       "text": [
        "\n",
        "Trained: 236, Tested: 500, Prediction: Spanish Wikipedia, Actual: Portuguese Wikipedia, Last-500 Accuracy: 0.858"
       ]
      },
      {
       "output_type": "stream",
       "stream": "stdout",
       "text": [
        "\n",
        "Trained: 237, Tested: 500, Prediction: Portuguese Wikipedia, Actual: Spanish Wikipedia, Last-500 Accuracy: 0.856"
       ]
      },
      {
       "output_type": "stream",
       "stream": "stdout",
       "text": [
        "\n",
        "Trained: 238, Tested: 500, Prediction: Spanish Wikipedia, Actual: French Wikipedia, Last-500 Accuracy: 0.854"
       ]
      },
      {
       "output_type": "stream",
       "stream": "stdout",
       "text": [
        "\n",
        "Trained: 239, Tested: 500, Prediction: Spanish Wikipedia, Actual: Portuguese Wikipedia, Last-500 Accuracy: 0.854"
       ]
      },
      {
       "output_type": "stream",
       "stream": "stdout",
       "text": [
        "\n",
        "Trained: 240, Tested: 500, Prediction: Italian Wikipedia, Actual: French Wikipedia, Last-500 Accuracy: 0.852\n",
        "Trained: 241, Tested: 500, Prediction: Spanish Wikipedia, Actual: Portuguese Wikipedia, Last-500 Accuracy: 0.852"
       ]
      },
      {
       "output_type": "stream",
       "stream": "stdout",
       "text": [
        "\n",
        "Trained: 242, Tested: 500, Prediction: Finnish Wikipedia, Actual: Hungarian Wikipedia, Last-500 Accuracy: 0.850"
       ]
      },
      {
       "output_type": "stream",
       "stream": "stdout",
       "text": [
        "\n",
        "Trained: 243, Tested: 500, Prediction: Spanish Wikipedia, Actual: French Wikipedia, Last-500 Accuracy: 0.852"
       ]
      },
      {
       "output_type": "stream",
       "stream": "stdout",
       "text": [
        "\n",
        "Trained: 244, Tested: 500, Prediction: Spanish Wikipedia, Actual: German Wikipedia, Last-500 Accuracy: 0.850\n",
        "Trained: 245, Tested: 500, Prediction: French Wikipedia, Actual: Spanish Wikipedia, Last-500 Accuracy: 0.852"
       ]
      },
      {
       "output_type": "stream",
       "stream": "stdout",
       "text": [
        "\n",
        "Trained: 246, Tested: 500, Prediction: Spanish Wikipedia, Actual: Portuguese Wikipedia, Last-500 Accuracy: 0.850"
       ]
      },
      {
       "output_type": "stream",
       "stream": "stdout",
       "text": [
        "\n",
        "Trained: 247, Tested: 500, Prediction: Spanish Wikipedia, Actual: Finnish Wikipedia, Last-500 Accuracy: 0.848"
       ]
      },
      {
       "output_type": "stream",
       "stream": "stdout",
       "text": [
        "\n",
        "Trained: 248, Tested: 500, Prediction: Portuguese Wikipedia, Actual: Swedish Wikipedia, Last-500 Accuracy: 0.848"
       ]
      },
      {
       "output_type": "stream",
       "stream": "stdout",
       "text": [
        "\n",
        "Trained: 249, Tested: 500, Prediction: Portuguese Wikipedia, Actual: Dutch Wikipedia, Last-500 Accuracy: 0.854"
       ]
      },
      {
       "output_type": "stream",
       "stream": "stdout",
       "text": [
        "\n",
        "Trained: 250, Tested: 500, Prediction: Spanish Wikipedia, Actual: Portuguese Wikipedia, Last-500 Accuracy: 0.852"
       ]
      },
      {
       "output_type": "stream",
       "stream": "stdout",
       "text": [
        "\n",
        "Trained: 251, Tested: 500, Prediction: Spanish Wikipedia, Actual: Polish Wikipedia, Last-500 Accuracy: 0.852"
       ]
      },
      {
       "output_type": "stream",
       "stream": "stdout",
       "text": [
        "\n",
        "Trained: 252, Tested: 500, Prediction: Finnish Wikipedia, Actual: German Wikipedia, Last-500 Accuracy: 0.850"
       ]
      },
      {
       "output_type": "stream",
       "stream": "stdout",
       "text": [
        "\n",
        "Trained: 253, Tested: 500, Prediction: Portuguese Wikipedia, Actual: Spanish Wikipedia, Last-500 Accuracy: 0.850"
       ]
      },
      {
       "output_type": "stream",
       "stream": "stdout",
       "text": [
        "\n",
        "Trained: 254, Tested: 500, Prediction: Spanish Wikipedia, Actual: Italian Wikipedia, Last-500 Accuracy: 0.848"
       ]
      },
      {
       "output_type": "stream",
       "stream": "stdout",
       "text": [
        "\n",
        "Trained: 255, Tested: 500, Prediction: Spanish Wikipedia, Actual: French Wikipedia, Last-500 Accuracy: 0.850"
       ]
      },
      {
       "output_type": "stream",
       "stream": "stdout",
       "text": [
        "\n",
        "Trained: 256, Tested: 500, Prediction: Portuguese Wikipedia, Actual: Spanish Wikipedia, Last-500 Accuracy: 0.856"
       ]
      },
      {
       "output_type": "stream",
       "stream": "stdout",
       "text": [
        "\n",
        "Trained: 257, Tested: 500, Prediction: German Wikipedia, Actual: Dutch Wikipedia, Last-500 Accuracy: 0.856"
       ]
      },
      {
       "output_type": "stream",
       "stream": "stdout",
       "text": [
        "\n",
        "Trained: 258, Tested: 500, Prediction: Spanish Wikipedia, Actual: Korean Wikipedia, Last-500 Accuracy: 0.862"
       ]
      },
      {
       "output_type": "stream",
       "stream": "stdout",
       "text": [
        "\n",
        "Trained: 259, Tested: 500, Prediction: Spanish Wikipedia, Actual: Portuguese Wikipedia, Last-500 Accuracy: 0.860"
       ]
      },
      {
       "output_type": "stream",
       "stream": "stdout",
       "text": [
        "\n",
        "Trained: 260, Tested: 500, Prediction: Spanish Wikipedia, Actual: Dutch Wikipedia, Last-500 Accuracy: 0.858"
       ]
      },
      {
       "output_type": "stream",
       "stream": "stdout",
       "text": [
        "\n",
        "Trained: 261, Tested: 500, Prediction: Spanish Wikipedia, Actual: Chinese Wikipedia, Last-500 Accuracy: 0.856"
       ]
      },
      {
       "output_type": "stream",
       "stream": "stdout",
       "text": [
        "\n",
        "Trained: 262, Tested: 500, Prediction: Spanish Wikipedia, Actual: Italian Wikipedia, Last-500 Accuracy: 0.854"
       ]
      },
      {
       "output_type": "stream",
       "stream": "stdout",
       "text": [
        "\n",
        "Trained: 263, Tested: 500, Prediction: Spanish Wikipedia, Actual: Chinese Wikipedia, Last-500 Accuracy: 0.852"
       ]
      },
      {
       "output_type": "stream",
       "stream": "stdout",
       "text": [
        "\n",
        "Trained: 264, Tested: 500, Prediction: Italian Wikipedia, Actual: Japanese Wikipedia, Last-500 Accuracy: 0.856"
       ]
      },
      {
       "output_type": "stream",
       "stream": "stdout",
       "text": [
        "\n",
        "Trained: 265, Tested: 500, Prediction: Dutch Wikipedia, Actual: Portuguese Wikipedia, Last-500 Accuracy: 0.854\n",
        "Trained: 266, Tested: 500, Prediction: French Wikipedia, Actual: Polish Wikipedia, Last-500 Accuracy: 0.854"
       ]
      },
      {
       "output_type": "stream",
       "stream": "stdout",
       "text": [
        "\n"
       ]
      },
      {
       "ename": "KeyboardInterrupt",
       "evalue": "",
       "output_type": "pyerr",
       "traceback": [
        "\u001b[1;31m---------------------------------------------------------------------------\u001b[0m\n\u001b[1;31mKeyboardInterrupt\u001b[0m                         Traceback (most recent call last)",
        "\u001b[1;32m<ipython-input-22-a1089d2fe0b0>\u001b[0m in \u001b[0;36m<module>\u001b[1;34m()\u001b[0m\n\u001b[0;32m     78\u001b[0m \u001b[0mprint\u001b[0m\u001b[1;33m(\u001b[0m\u001b[0mvw\u001b[0m\u001b[1;33m.\u001b[0m\u001b[0mcommand\u001b[0m\u001b[1;33m)\u001b[0m\u001b[1;33m\u001b[0m\u001b[0m\n\u001b[0;32m     79\u001b[0m \u001b[1;33m\u001b[0m\u001b[0m\n\u001b[1;32m---> 80\u001b[1;33m \u001b[0mwikipedia_updates\u001b[0m\u001b[1;33m(\u001b[0m\u001b[0mvw_callback\u001b[0m\u001b[1;33m)\u001b[0m\u001b[1;33m\u001b[0m\u001b[0m\n\u001b[0m",
        "\u001b[1;32m<ipython-input-2-00367d5650c7>\u001b[0m in \u001b[0;36mwikipedia_updates\u001b[1;34m(callback)\u001b[0m\n\u001b[0;32m      6\u001b[0m     \u001b[1;32mwhile\u001b[0m \u001b[1;32mTrue\u001b[0m\u001b[1;33m:\u001b[0m\u001b[1;33m\u001b[0m\u001b[0m\n\u001b[0;32m      7\u001b[0m         \u001b[0mt\u001b[0m \u001b[1;33m=\u001b[0m \u001b[0mtime\u001b[0m\u001b[1;33m.\u001b[0m\u001b[0mtime\u001b[0m\u001b[1;33m(\u001b[0m\u001b[1;33m)\u001b[0m \u001b[1;33m*\u001b[0m \u001b[1;36m1000000\u001b[0m\u001b[1;33m\u001b[0m\u001b[0m\n\u001b[1;32m----> 8\u001b[1;33m         \u001b[0mresponse\u001b[0m \u001b[1;33m=\u001b[0m \u001b[0mget\u001b[0m\u001b[1;33m(\u001b[0m\u001b[0mxhr_endpoint\u001b[0m\u001b[1;33m,\u001b[0m \u001b[0mparams\u001b[0m\u001b[1;33m=\u001b[0m\u001b[1;33m{\u001b[0m\u001b[1;34m't'\u001b[0m\u001b[1;33m:\u001b[0m \u001b[0mt\u001b[0m\u001b[1;33m}\u001b[0m\u001b[1;33m)\u001b[0m\u001b[1;33m.\u001b[0m\u001b[0mcontent\u001b[0m\u001b[1;33m.\u001b[0m\u001b[0mdecode\u001b[0m\u001b[1;33m(\u001b[0m\u001b[1;34m'utf-8'\u001b[0m\u001b[1;33m)\u001b[0m\u001b[1;33m\u001b[0m\u001b[0m\n\u001b[0m\u001b[0;32m      9\u001b[0m \u001b[1;33m\u001b[0m\u001b[0m\n\u001b[0;32m     10\u001b[0m         \u001b[0mchunks\u001b[0m \u001b[1;33m=\u001b[0m \u001b[0mre\u001b[0m\u001b[1;33m.\u001b[0m\u001b[0msplit\u001b[0m\u001b[1;33m(\u001b[0m\u001b[1;34mu'\\ufffd[0-9]+\\ufffd'\u001b[0m\u001b[1;33m,\u001b[0m \u001b[0mresponse\u001b[0m\u001b[1;33m)\u001b[0m\u001b[1;33m\u001b[0m\u001b[0m\n",
        "\u001b[1;32m/usr/local/lib/python3.4/dist-packages/requests/api.py\u001b[0m in \u001b[0;36mget\u001b[1;34m(url, **kwargs)\u001b[0m\n\u001b[0;32m     53\u001b[0m \u001b[1;33m\u001b[0m\u001b[0m\n\u001b[0;32m     54\u001b[0m     \u001b[0mkwargs\u001b[0m\u001b[1;33m.\u001b[0m\u001b[0msetdefault\u001b[0m\u001b[1;33m(\u001b[0m\u001b[1;34m'allow_redirects'\u001b[0m\u001b[1;33m,\u001b[0m \u001b[1;32mTrue\u001b[0m\u001b[1;33m)\u001b[0m\u001b[1;33m\u001b[0m\u001b[0m\n\u001b[1;32m---> 55\u001b[1;33m     \u001b[1;32mreturn\u001b[0m \u001b[0mrequest\u001b[0m\u001b[1;33m(\u001b[0m\u001b[1;34m'get'\u001b[0m\u001b[1;33m,\u001b[0m \u001b[0murl\u001b[0m\u001b[1;33m,\u001b[0m \u001b[1;33m**\u001b[0m\u001b[0mkwargs\u001b[0m\u001b[1;33m)\u001b[0m\u001b[1;33m\u001b[0m\u001b[0m\n\u001b[0m\u001b[0;32m     56\u001b[0m \u001b[1;33m\u001b[0m\u001b[0m\n\u001b[0;32m     57\u001b[0m \u001b[1;33m\u001b[0m\u001b[0m\n",
        "\u001b[1;32m/usr/local/lib/python3.4/dist-packages/requests/api.py\u001b[0m in \u001b[0;36mrequest\u001b[1;34m(method, url, **kwargs)\u001b[0m\n\u001b[0;32m     42\u001b[0m \u001b[1;33m\u001b[0m\u001b[0m\n\u001b[0;32m     43\u001b[0m     \u001b[0msession\u001b[0m \u001b[1;33m=\u001b[0m \u001b[0msessions\u001b[0m\u001b[1;33m.\u001b[0m\u001b[0mSession\u001b[0m\u001b[1;33m(\u001b[0m\u001b[1;33m)\u001b[0m\u001b[1;33m\u001b[0m\u001b[0m\n\u001b[1;32m---> 44\u001b[1;33m     \u001b[1;32mreturn\u001b[0m \u001b[0msession\u001b[0m\u001b[1;33m.\u001b[0m\u001b[0mrequest\u001b[0m\u001b[1;33m(\u001b[0m\u001b[0mmethod\u001b[0m\u001b[1;33m=\u001b[0m\u001b[0mmethod\u001b[0m\u001b[1;33m,\u001b[0m \u001b[0murl\u001b[0m\u001b[1;33m=\u001b[0m\u001b[0murl\u001b[0m\u001b[1;33m,\u001b[0m \u001b[1;33m**\u001b[0m\u001b[0mkwargs\u001b[0m\u001b[1;33m)\u001b[0m\u001b[1;33m\u001b[0m\u001b[0m\n\u001b[0m\u001b[0;32m     45\u001b[0m \u001b[1;33m\u001b[0m\u001b[0m\n\u001b[0;32m     46\u001b[0m \u001b[1;33m\u001b[0m\u001b[0m\n",
        "\u001b[1;32m/usr/local/lib/python3.4/dist-packages/requests/sessions.py\u001b[0m in \u001b[0;36mrequest\u001b[1;34m(self, method, url, params, data, headers, cookies, files, auth, timeout, allow_redirects, proxies, hooks, stream, verify, cert)\u001b[0m\n\u001b[0;32m    454\u001b[0m             \u001b[1;34m'allow_redirects'\u001b[0m\u001b[1;33m:\u001b[0m \u001b[0mallow_redirects\u001b[0m\u001b[1;33m,\u001b[0m\u001b[1;33m\u001b[0m\u001b[0m\n\u001b[0;32m    455\u001b[0m         }\n\u001b[1;32m--> 456\u001b[1;33m         \u001b[0mresp\u001b[0m \u001b[1;33m=\u001b[0m \u001b[0mself\u001b[0m\u001b[1;33m.\u001b[0m\u001b[0msend\u001b[0m\u001b[1;33m(\u001b[0m\u001b[0mprep\u001b[0m\u001b[1;33m,\u001b[0m \u001b[1;33m**\u001b[0m\u001b[0msend_kwargs\u001b[0m\u001b[1;33m)\u001b[0m\u001b[1;33m\u001b[0m\u001b[0m\n\u001b[0m\u001b[0;32m    457\u001b[0m \u001b[1;33m\u001b[0m\u001b[0m\n\u001b[0;32m    458\u001b[0m         \u001b[1;32mreturn\u001b[0m \u001b[0mresp\u001b[0m\u001b[1;33m\u001b[0m\u001b[0m\n",
        "\u001b[1;32m/usr/local/lib/python3.4/dist-packages/requests/sessions.py\u001b[0m in \u001b[0;36msend\u001b[1;34m(self, request, **kwargs)\u001b[0m\n\u001b[0;32m    583\u001b[0m \u001b[1;33m\u001b[0m\u001b[0m\n\u001b[0;32m    584\u001b[0m         \u001b[1;31m# Resolve redirects if allowed.\u001b[0m\u001b[1;33m\u001b[0m\u001b[1;33m\u001b[0m\u001b[0m\n\u001b[1;32m--> 585\u001b[1;33m         \u001b[0mhistory\u001b[0m \u001b[1;33m=\u001b[0m \u001b[1;33m[\u001b[0m\u001b[0mresp\u001b[0m \u001b[1;32mfor\u001b[0m \u001b[0mresp\u001b[0m \u001b[1;32min\u001b[0m \u001b[0mgen\u001b[0m\u001b[1;33m]\u001b[0m \u001b[1;32mif\u001b[0m \u001b[0mallow_redirects\u001b[0m \u001b[1;32melse\u001b[0m \u001b[1;33m[\u001b[0m\u001b[1;33m]\u001b[0m\u001b[1;33m\u001b[0m\u001b[0m\n\u001b[0m\u001b[0;32m    586\u001b[0m \u001b[1;33m\u001b[0m\u001b[0m\n\u001b[0;32m    587\u001b[0m         \u001b[1;31m# Shuffle things around if there's history.\u001b[0m\u001b[1;33m\u001b[0m\u001b[1;33m\u001b[0m\u001b[0m\n",
        "\u001b[1;32m/usr/local/lib/python3.4/dist-packages/requests/sessions.py\u001b[0m in \u001b[0;36m<listcomp>\u001b[1;34m(.0)\u001b[0m\n\u001b[0;32m    583\u001b[0m \u001b[1;33m\u001b[0m\u001b[0m\n\u001b[0;32m    584\u001b[0m         \u001b[1;31m# Resolve redirects if allowed.\u001b[0m\u001b[1;33m\u001b[0m\u001b[1;33m\u001b[0m\u001b[0m\n\u001b[1;32m--> 585\u001b[1;33m         \u001b[0mhistory\u001b[0m \u001b[1;33m=\u001b[0m \u001b[1;33m[\u001b[0m\u001b[0mresp\u001b[0m \u001b[1;32mfor\u001b[0m \u001b[0mresp\u001b[0m \u001b[1;32min\u001b[0m \u001b[0mgen\u001b[0m\u001b[1;33m]\u001b[0m \u001b[1;32mif\u001b[0m \u001b[0mallow_redirects\u001b[0m \u001b[1;32melse\u001b[0m \u001b[1;33m[\u001b[0m\u001b[1;33m]\u001b[0m\u001b[1;33m\u001b[0m\u001b[0m\n\u001b[0m\u001b[0;32m    586\u001b[0m \u001b[1;33m\u001b[0m\u001b[0m\n\u001b[0;32m    587\u001b[0m         \u001b[1;31m# Shuffle things around if there's history.\u001b[0m\u001b[1;33m\u001b[0m\u001b[1;33m\u001b[0m\u001b[0m\n",
        "\u001b[1;32m/usr/local/lib/python3.4/dist-packages/requests/sessions.py\u001b[0m in \u001b[0;36mresolve_redirects\u001b[1;34m(self, resp, req, stream, timeout, verify, cert, proxies)\u001b[0m\n\u001b[0;32m    177\u001b[0m                 \u001b[0mcert\u001b[0m\u001b[1;33m=\u001b[0m\u001b[0mcert\u001b[0m\u001b[1;33m,\u001b[0m\u001b[1;33m\u001b[0m\u001b[0m\n\u001b[0;32m    178\u001b[0m                 \u001b[0mproxies\u001b[0m\u001b[1;33m=\u001b[0m\u001b[0mproxies\u001b[0m\u001b[1;33m,\u001b[0m\u001b[1;33m\u001b[0m\u001b[0m\n\u001b[1;32m--> 179\u001b[1;33m                 \u001b[0mallow_redirects\u001b[0m\u001b[1;33m=\u001b[0m\u001b[1;32mFalse\u001b[0m\u001b[1;33m,\u001b[0m\u001b[1;33m\u001b[0m\u001b[0m\n\u001b[0m\u001b[0;32m    180\u001b[0m             )\n\u001b[0;32m    181\u001b[0m \u001b[1;33m\u001b[0m\u001b[0m\n",
        "\u001b[1;32m/usr/local/lib/python3.4/dist-packages/requests/sessions.py\u001b[0m in \u001b[0;36msend\u001b[1;34m(self, request, **kwargs)\u001b[0m\n\u001b[0;32m    557\u001b[0m \u001b[1;33m\u001b[0m\u001b[0m\n\u001b[0;32m    558\u001b[0m         \u001b[1;31m# Send the request\u001b[0m\u001b[1;33m\u001b[0m\u001b[1;33m\u001b[0m\u001b[0m\n\u001b[1;32m--> 559\u001b[1;33m         \u001b[0mr\u001b[0m \u001b[1;33m=\u001b[0m \u001b[0madapter\u001b[0m\u001b[1;33m.\u001b[0m\u001b[0msend\u001b[0m\u001b[1;33m(\u001b[0m\u001b[0mrequest\u001b[0m\u001b[1;33m,\u001b[0m \u001b[1;33m**\u001b[0m\u001b[0mkwargs\u001b[0m\u001b[1;33m)\u001b[0m\u001b[1;33m\u001b[0m\u001b[0m\n\u001b[0m\u001b[0;32m    560\u001b[0m \u001b[1;33m\u001b[0m\u001b[0m\n\u001b[0;32m    561\u001b[0m         \u001b[1;31m# Total elapsed time of the request (approximately)\u001b[0m\u001b[1;33m\u001b[0m\u001b[1;33m\u001b[0m\u001b[0m\n",
        "\u001b[1;32m/usr/local/lib/python3.4/dist-packages/requests/adapters.py\u001b[0m in \u001b[0;36msend\u001b[1;34m(self, request, stream, timeout, verify, cert, proxies)\u001b[0m\n\u001b[0;32m    325\u001b[0m                     \u001b[0mdecode_content\u001b[0m\u001b[1;33m=\u001b[0m\u001b[1;32mFalse\u001b[0m\u001b[1;33m,\u001b[0m\u001b[1;33m\u001b[0m\u001b[0m\n\u001b[0;32m    326\u001b[0m                     \u001b[0mretries\u001b[0m\u001b[1;33m=\u001b[0m\u001b[0mself\u001b[0m\u001b[1;33m.\u001b[0m\u001b[0mmax_retries\u001b[0m\u001b[1;33m,\u001b[0m\u001b[1;33m\u001b[0m\u001b[0m\n\u001b[1;32m--> 327\u001b[1;33m                     \u001b[0mtimeout\u001b[0m\u001b[1;33m=\u001b[0m\u001b[0mtimeout\u001b[0m\u001b[1;33m\u001b[0m\u001b[0m\n\u001b[0m\u001b[0;32m    328\u001b[0m                 )\n\u001b[0;32m    329\u001b[0m \u001b[1;33m\u001b[0m\u001b[0m\n",
        "\u001b[1;32m/usr/local/lib/python3.4/dist-packages/requests/packages/urllib3/connectionpool.py\u001b[0m in \u001b[0;36murlopen\u001b[1;34m(self, method, url, body, headers, retries, redirect, assert_same_host, timeout, pool_timeout, release_conn, **response_kw)\u001b[0m\n\u001b[0;32m    491\u001b[0m             httplib_response = self._make_request(conn, method, url,\n\u001b[0;32m    492\u001b[0m                                                   \u001b[0mtimeout\u001b[0m\u001b[1;33m=\u001b[0m\u001b[0mtimeout\u001b[0m\u001b[1;33m,\u001b[0m\u001b[1;33m\u001b[0m\u001b[0m\n\u001b[1;32m--> 493\u001b[1;33m                                                   body=body, headers=headers)\n\u001b[0m\u001b[0;32m    494\u001b[0m \u001b[1;33m\u001b[0m\u001b[0m\n\u001b[0;32m    495\u001b[0m             \u001b[1;31m# If we're going to release the connection in ``finally:``, then\u001b[0m\u001b[1;33m\u001b[0m\u001b[1;33m\u001b[0m\u001b[0m\n",
        "\u001b[1;32m/usr/local/lib/python3.4/dist-packages/requests/packages/urllib3/connectionpool.py\u001b[0m in \u001b[0;36m_make_request\u001b[1;34m(self, conn, method, url, timeout, **httplib_request_kw)\u001b[0m\n\u001b[0;32m    348\u001b[0m         log.debug(\"\\\"%s %s %s\\\" %s %s\" % (method, url, http_version,\n\u001b[0;32m    349\u001b[0m                                           \u001b[0mhttplib_response\u001b[0m\u001b[1;33m.\u001b[0m\u001b[0mstatus\u001b[0m\u001b[1;33m,\u001b[0m\u001b[1;33m\u001b[0m\u001b[0m\n\u001b[1;32m--> 350\u001b[1;33m                                           httplib_response.length))\n\u001b[0m\u001b[0;32m    351\u001b[0m         \u001b[1;32mreturn\u001b[0m \u001b[0mhttplib_response\u001b[0m\u001b[1;33m\u001b[0m\u001b[0m\n\u001b[0;32m    352\u001b[0m \u001b[1;33m\u001b[0m\u001b[0m\n",
        "\u001b[1;31mKeyboardInterrupt\u001b[0m: "
       ]
      }
     ],
     "prompt_number": 22
    },
    {
     "cell_type": "code",
     "collapsed": false,
     "input": [
      "vw.close()"
     ],
     "language": "python",
     "metadata": {},
     "outputs": [],
     "prompt_number": 23
    },
    {
     "cell_type": "markdown",
     "metadata": {},
     "source": [
      "## Visualizing language similarity\n",
      "\n",
      "When the model mispredicts, which wikis is it most likely to get confused?\n",
      "\n",
      "This could give us some measure of the similarity of those languages -- in the limited domain of \"Wikipedia pages\" at least.\n",
      "\n",
      "If we visualize these relationships, do they roughly match what we'd expect from a non-expert idea of language similarity? Or do they reflect noise in the model -- artefacts of VW's feature hashing process?\n",
      "\n",
      "First do some preprocessing to get a dense confusion matrix, sorted so more popular wikis come first."
     ]
    },
    {
     "cell_type": "code",
     "collapsed": false,
     "input": [
      "labels = np.array([s.replace(' Wikipedia', '') for s in labels])\n",
      "confusion = np.zeros((len(labels), len(labels)))\n",
      "for (x, y) in cm:\n",
      "    confusion[x,y] += 1\n",
      "samples_per_wiki = np.asarray(confusion.sum(axis=1))\n",
      "sorted_idxs = np.argsort(samples_per_wiki)[::-1]\n",
      "sorted_confusion = confusion[sorted_idxs,:][:,sorted_idxs]\n",
      "sorted_confusion.shape"
     ],
     "language": "python",
     "metadata": {},
     "outputs": [
      {
       "metadata": {},
       "output_type": "pyout",
       "prompt_number": 24,
       "text": [
        "(28, 28)"
       ]
      }
     ],
     "prompt_number": 24
    },
    {
     "cell_type": "markdown",
     "metadata": {},
     "source": [
      "Visualize the confusion matrix in Matplotlib.\n",
      "\n",
      "The left edge represents real pages' languages, the bottom edge shows what the model identified them as, at least in its last `k` tests. So, shading along the diagonal represents correct predictions, and shading off the diagonal represents errors.\n",
      "\n",
      "The values are absolute counts, so this shows the relative popularity of each wiki as well as the error distribution."
     ]
    },
    {
     "cell_type": "code",
     "collapsed": false,
     "input": [
      "fig, ax = plt.subplots(1)\n",
      "\n",
      "p = ax.pcolormesh(sorted_confusion, cmap='Reds')\n",
      "fig.colorbar(p)\n",
      "ax.set_yticks(np.arange(sorted_confusion.shape[0])+0.5, minor=False)\n",
      "ax.set_xticks(np.arange(sorted_confusion.shape[1])+0.5, minor=False)\n",
      "ax.set_xticklabels(labels[sorted_idxs], minor=False) \n",
      "ax.set_yticklabels(labels[sorted_idxs], minor=False)\n",
      "plt.xticks(rotation=90)\n",
      "plt.show()"
     ],
     "language": "python",
     "metadata": {},
     "outputs": [
      {
       "metadata": {},
       "output_type": "display_data",
       "png": "[encoded data removed]",
       "text": [
        "<matplotlib.figure.Figure at 0x7fe5075fb2b0>"
       ]
      }
     ],
     "prompt_number": 25
    },
    {
     "cell_type": "markdown",
     "metadata": {},
     "source": [
      "Alternatively, we can turn it into a labelled list of edge weights, write it out to a CSV, and render it in D3.\n",
      "\n",
      "For this visualization, let's normalize by the number of actual occurrences of each wiki in the test set, so the weights indicate the proportion of the samples for each wiki `source` that were mistakenly predicted for `target` instead. Also we'll need to set the diagonal to 0 to remove loops from the visualization.\n",
      "\n",
      "**Mouseover the nodes in the graph to see the wiki name.**\n",
      "\n",
      "*Note: If you are viewing this using the IPython Notebook Viewer (nbviewer), you won't see the output of this cell. Shame, as it's really nice :-)*\n",
      "\n",
      "*Re-run the demo in Snake Charmer to see the output.*"
     ]
    },
    {
     "cell_type": "code",
     "collapsed": false,
     "input": [
      "normalized = sorted_confusion / sorted_confusion.sum(axis=1)\n",
      "np.fill_diagonal(normalized, 0)\n",
      "edge_weights = pd.DataFrame(data=normalized, index=labels[sorted_idxs], columns=labels[sorted_idxs]).stack()\n",
      "edge_weights.index.names = ('source', 'target')\n",
      "edge_weights.name = 'value'\n",
      "edge_weights.iloc[edge_weights.nonzero()].to_csv('cm.csv', header=True, index=True)\n",
      "from IPython.lib.display import IFrame\n",
      "IFrame('graph.html', 650, 650)"
     ],
     "language": "python",
     "metadata": {},
     "outputs": [
      {
       "html": [
        "\n",
        "        <iframe\n",
        "            width=\"650\"\n",
        "            height=650\"\n",
        "            src=\"graph.html\"\n",
        "            frameborder=\"0\"\n",
        "            allowfullscreen\n",
        "        ></iframe>\n",
        "        "
       ],
       "metadata": {},
       "output_type": "pyout",
       "prompt_number": 26,
       "text": [
        "<IPython.lib.display.IFrame at 0x7fe507544278>"
       ]
      }
     ],
     "prompt_number": 26
    }
   ],
   "metadata": {}
  }
 ]
}