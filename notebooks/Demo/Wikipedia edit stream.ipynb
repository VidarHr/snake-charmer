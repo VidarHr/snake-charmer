{
 "metadata": {
  "name": "",
  "signature": "sha256:fe8161d2852c374ba2f1a9f341cc81d5282e1edb2e274337858d10a189f4e696"
 },
 "nbformat": 3,
 "nbformat_minor": 0,
 "worksheets": [
  {
   "cells": [
    {
     "cell_type": "markdown",
     "metadata": {},
     "source": [
      "# Wikipedia edit stream demo\n",
      "\n",
      "A demo of [Snake Charmer](https://github.com/snake-charmer-devs/snake-charmer), originally presented at a [PyData London meetup](http://www.meetup.com/PyData-London-Meetup/) in August 2014, showing:\n",
      "\n",
      "* Reading data from a [WebSockets](https://www.websocket.org/) stream in real time, in a background thread\n",
      "* Pulling this data into [Pandas](http://pandas.pydata.org/) for analysis and visualization\n",
      "* Training a [Vowpal Wabbit](https://github.com/JohnLangford/vowpal_wabbit) language classifier on this stream, in real time\n",
      "* Visualizing the classifier's behaviour using [Matplotlib](http://matplotlib.org/) and [D3](http://d3js.org/)\n",
      "\n",
      "The demo is designed to be run using Snake Charmer [release a18945d](https://github.com/snake-charmer-devs/snake-charmer/tree/b86184ecd92cd785b443163f6ecef4366548f591) or later.\n",
      "\n",
      "Wikipedia streaming is based on the [stream.py](https://github.com/edsu/wikistream/blob/master/stream.py) script provided with [edsu/wikistream](https://github.com/edsu/wikistream)."
     ]
    },
    {
     "cell_type": "code",
     "collapsed": false,
     "input": [
      "import re\n",
      "import json\n",
      "import time\n",
      "import threading\n",
      "\n",
      "from collections import defaultdict\n",
      "from itertools import chain\n",
      "from requests import post, get\n",
      "\n",
      "from wabbit_wappa import VW\n",
      "\n",
      "import numpy as np\n",
      "\n",
      "import pandas as pd\n",
      "pd.options.display.mpl_style = 'default'\n",
      "\n",
      "import seaborn as sb\n",
      "import matplotlib.pylab as pylab\n",
      "import matplotlib.pyplot as plt\n",
      "pylab.rcParams['figure.figsize'] = (12.0, 8.0)\n",
      "pylab.rcParams['font.family'] = 'Bitstream Vera Sans'"
     ],
     "language": "python",
     "metadata": {},
     "outputs": [],
     "prompt_number": 28
    },
    {
     "cell_type": "markdown",
     "metadata": {},
     "source": [
      "## wikipedia_updates\n",
      "\n",
      "This function talks to the `wikistream` server, which provides push notifications of Wikipedia edits via websockets.\n",
      "\n",
      "Call it with a callback function of your own devising, that takes a single argument. Every time a Wikipedia edit occurs, your callback will be called, with a dict containing the details of the edit, e.g.:\n",
      "\n",
      "```\n",
      "{'flag': '',\n",
      " 'namespace': 'article',\n",
      " 'userUrl': 'http://en.wikipedia.org/wiki/User:137.44.83.167',\n",
      " 'url': 'http://en.wikipedia.org/w/index.php?diff=619400522&oldid=618259633',\n",
      " 'wikipediaLong': 'English Wikipedia',\n",
      " 'wikipediaShort': 'en',\n",
      " 'user': '137.44.83.167',\n",
      " 'comment': '',\n",
      " 'newPage': False,\n",
      " 'pageUrl': 'http://en.wikipedia.org/wiki/Battle_of_Trafalgar',\n",
      " 'unpatrolled': False,\n",
      " 'robot': False,\n",
      " 'anonymous': True,\n",
      " 'delta': 2,\n",
      " 'channel': '#en.wikipedia',\n",
      " 'wikipediaUrl': 'http://en.wikipedia.org',\n",
      " 'wikipedia': 'English Wikipedia',\n",
      " 'page': 'Battle of Trafalgar'}\n",
      "```\n",
      "\n",
      "Your callback should return `True` if it wants to keep receiving edits, or `False` to stop."
     ]
    },
    {
     "cell_type": "code",
     "collapsed": false,
     "input": [
      "def wikipedia_updates(callback):\n",
      "    endpoint = \"http://wikistream.inkdroid.org/socket.io/1\"\n",
      "    session_id = post(endpoint).content.decode('utf-8').split(':')[0]\n",
      "    xhr_endpoint = \"/\".join((endpoint, \"xhr-polling\", session_id))\n",
      "\n",
      "    while True:\n",
      "        t = time.time() * 1000000\n",
      "        response = get(xhr_endpoint, params={'t': t}).content.decode('utf-8')\n",
      "\n",
      "        chunks = re.split(u'\\ufffd[0-9]+\\ufffd', response)\n",
      "        for chunk in chunks:\n",
      "            parts = chunk.split(':', 3)\n",
      "            if len(parts) == 4:\n",
      "                try:\n",
      "                    payload = json.loads(parts[3])['args'][0]\n",
      "                except:\n",
      "                    raise ValueError('Received non-json data: ' + str(parts))\n",
      "                if not callback(payload):\n",
      "                    return"
     ],
     "language": "python",
     "metadata": {},
     "outputs": [],
     "prompt_number": 29
    },
    {
     "cell_type": "markdown",
     "metadata": {},
     "source": [
      "## Watching stream activity in real time\n",
      "\n",
      "This is a callback function that collects the edits into a list called `edits`, for offline analysis later. It runs until `max_edits` edits have been received.\n",
      "\n",
      "A `timestamp` field is added to each edit, as they don't have this by default.\n",
      "\n",
      "Run this cell to start gathering the data in the background.\n",
      "\n",
      "### Note\n",
      "\n",
      "If at any point you get an error message about non-json data, wait a few seconds, then restart the IPython kernel and retry from the first cell. This seems to be an intermittent problem with the websockets server."
     ]
    },
    {
     "cell_type": "code",
     "collapsed": false,
     "input": [
      "max_edits = 500\n",
      "edits = []\n",
      "\n",
      "reg = re.compile(r'^.*wiki/(.*)')\n",
      "\n",
      "def simple_callback(edit):\n",
      "    edit['timestamp'] = time.time()\n",
      "    edits.append(edit)\n",
      "    return len(edits) < max_edits\n",
      "\n",
      "thr = threading.Thread(target=wikipedia_updates, args=(simple_callback,))\n",
      "thr.start()"
     ],
     "language": "python",
     "metadata": {},
     "outputs": [],
     "prompt_number": 39
    },
    {
     "cell_type": "markdown",
     "metadata": {},
     "source": [
      "We can watch the data as it arrives. Run the following cell repeatedly, until it tells you it has finished."
     ]
    },
    {
     "cell_type": "code",
     "collapsed": false,
     "input": [
      "c = len(edits)\n",
      "n = min(5, c)\n",
      "print('Last %d of %d edits...\\n' % (n, c))\n",
      "for edit in edits[-n:]:\n",
      "    wiki_name = edit['wikipediaLong']\n",
      "    page_name = reg.match(edit['pageUrl']).group(1)\n",
      "    comment = edit['comment']\n",
      "    print('\\t'.join((wiki_name, page_name, comment)), '\\n', flush=True)\n",
      "if c == max_edits:\n",
      "    print('Done.\\n')\n",
      "else:\n",
      "    print('Still streaming.\\n')"
     ],
     "language": "python",
     "metadata": {},
     "outputs": [
      {
       "output_type": "stream",
       "stream": "stdout",
       "text": [
        "Last 5 of 500 edits...\n",
        "\n",
        "Spanish Wikipedia\tAeropuerto_Internacional_Presidente_Carlos_Ib\u00e1\u00f1ez_del_Campo\t/* Nacionales */ \n",
        "\n"
       ]
      },
      {
       "output_type": "stream",
       "stream": "stdout",
       "text": [
        "English Wikipedia\tMuppets_Most_Wanted\t \n",
        "\n"
       ]
      },
      {
       "output_type": "stream",
       "stream": "stdout",
       "text": [
        "Wikidata\tQ17495404\t/* wbsetqualifier-add:1| */ [[Property:P518]]: [[Q861259]] \n",
        "\n"
       ]
      },
      {
       "output_type": "stream",
       "stream": "stdout",
       "text": [
        "English Wikipedia\tZorro_(1957_TV_series)\tCleaned up using [[WP:AutoEd|AutoEd]] \n",
        "\n"
       ]
      },
      {
       "output_type": "stream",
       "stream": "stdout",
       "text": [
        "Spanish Wikipedia\tEspecial:Log/newusers\tNew user account \n",
        "\n"
       ]
      },
      {
       "output_type": "stream",
       "stream": "stdout",
       "text": [
        "Done.\n",
        "\n"
       ]
      }
     ],
     "prompt_number": 49
    },
    {
     "cell_type": "code",
     "collapsed": false,
     "input": [
      "# Save this data -- backup in case of problems when giving demo\n",
      "# with open('edits.json', 'w') as f:\n",
      "#    json.dump(edits, f)"
     ],
     "language": "python",
     "metadata": {},
     "outputs": []
    },
    {
     "cell_type": "code",
     "collapsed": false,
     "input": [
      "# Save this data -- backup in case of problems when giving demo\n",
      "#with open('edits.json') as f:\n",
      "#    edits = json.load(f)"
     ],
     "language": "python",
     "metadata": {},
     "outputs": []
    },
    {
     "cell_type": "markdown",
     "metadata": {},
     "source": [
      "## Import into pandas\n",
      "\n",
      "Let's add all these edits into a `DataFrame` to make them easier to work with."
     ]
    },
    {
     "cell_type": "code",
     "collapsed": false,
     "input": [
      "df = pd.DataFrame(edits)\n",
      "df['timestamp'] = pd.to_datetime(df['timestamp'], unit='s')\n",
      "df.head()"
     ],
     "language": "python",
     "metadata": {},
     "outputs": [
      {
       "html": [
        "<div style=\"max-height:1000px;max-width:1500px;overflow:auto;\">\n",
        "<table border=\"1\" class=\"dataframe\">\n",
        "  <thead>\n",
        "    <tr style=\"text-align: right;\">\n",
        "      <th></th>\n",
        "      <th>anonymous</th>\n",
        "      <th>channel</th>\n",
        "      <th>comment</th>\n",
        "      <th>delta</th>\n",
        "      <th>flag</th>\n",
        "      <th>namespace</th>\n",
        "      <th>newPage</th>\n",
        "      <th>page</th>\n",
        "      <th>pageUrl</th>\n",
        "      <th>robot</th>\n",
        "      <th>timestamp</th>\n",
        "      <th>unpatrolled</th>\n",
        "      <th>url</th>\n",
        "      <th>user</th>\n",
        "      <th>userUrl</th>\n",
        "      <th>wikipedia</th>\n",
        "      <th>wikipediaLong</th>\n",
        "      <th>wikipediaShort</th>\n",
        "      <th>wikipediaUrl</th>\n",
        "    </tr>\n",
        "  </thead>\n",
        "  <tbody>\n",
        "    <tr>\n",
        "      <th>0</th>\n",
        "      <td> False</td>\n",
        "      <td> #wikidata.wikipedia</td>\n",
        "      <td> /* wbsetqualifier-add:1| */ [[Property:P518]]:...</td>\n",
        "      <td> 132</td>\n",
        "      <td>  B</td>\n",
        "      <td> article</td>\n",
        "      <td> False</td>\n",
        "      <td>                       Q17495380</td>\n",
        "      <td>                http://wikidata.org/wiki/Q17495380</td>\n",
        "      <td>  True</td>\n",
        "      <td>2014-08-10 23:15:54.188322</td>\n",
        "      <td> False</td>\n",
        "      <td> http://www.wikidata.org/w/index.php?diff=15033...</td>\n",
        "      <td> PoulpyBot</td>\n",
        "      <td>     http://wikidata.org/wiki/User:PoulpyBot</td>\n",
        "      <td>            Wikidata</td>\n",
        "      <td>            Wikidata</td>\n",
        "      <td> wd</td>\n",
        "      <td>     http://wikidata.org</td>\n",
        "    </tr>\n",
        "    <tr>\n",
        "      <th>1</th>\n",
        "      <td> False</td>\n",
        "      <td> #wikidata.wikipedia</td>\n",
        "      <td> /* clientsitelink-update:0|enwiki|enwiki:Escon...</td>\n",
        "      <td>   6</td>\n",
        "      <td>   </td>\n",
        "      <td> article</td>\n",
        "      <td> False</td>\n",
        "      <td>                        Q5397376</td>\n",
        "      <td>                 http://wikidata.org/wiki/Q5397376</td>\n",
        "      <td> False</td>\n",
        "      <td>2014-08-10 23:15:54.188392</td>\n",
        "      <td> False</td>\n",
        "      <td> http://www.wikidata.org/w/index.php?diff=15033...</td>\n",
        "      <td>   CEM-air</td>\n",
        "      <td>       http://wikidata.org/wiki/User:CEM-air</td>\n",
        "      <td>            Wikidata</td>\n",
        "      <td>            Wikidata</td>\n",
        "      <td> wd</td>\n",
        "      <td>     http://wikidata.org</td>\n",
        "    </tr>\n",
        "    <tr>\n",
        "      <th>2</th>\n",
        "      <td> False</td>\n",
        "      <td>       #uk.wikipedia</td>\n",
        "      <td>                                     \u043a\u0430\u0442\u0435\u0433\u043e\u0440\u0438\u0437\u0430\u0446\u0456\u044f</td>\n",
        "      <td>  62</td>\n",
        "      <td>   </td>\n",
        "      <td> article</td>\n",
        "      <td> False</td>\n",
        "      <td>                       \u0420\u0430\u0439.\u0426\u0435\u043d\u0442\u0440</td>\n",
        "      <td>            http://uk.wikipedia.org/wiki/\u0420\u0430\u0439.\u0426\u0435\u043d\u0442\u0440</td>\n",
        "      <td> False</td>\n",
        "      <td>2014-08-10 23:15:54.188452</td>\n",
        "      <td> False</td>\n",
        "      <td> http://uk.wikipedia.org/w/index.php?diff=14650...</td>\n",
        "      <td> Silin2005</td>\n",
        "      <td> http://uk.wikipedia.org/wiki/User:Silin2005</td>\n",
        "      <td> Ukrainian Wikipedia</td>\n",
        "      <td> Ukrainian Wikipedia</td>\n",
        "      <td> uk</td>\n",
        "      <td> http://uk.wikipedia.org</td>\n",
        "    </tr>\n",
        "    <tr>\n",
        "      <th>3</th>\n",
        "      <td> False</td>\n",
        "      <td>       #ru.wikipedia</td>\n",
        "      <td>                /* 25th Anniversary */ \u0432\u0438\u043a\u0438\u0444\u0438\u043a\u0430\u0446\u0438\u044f</td>\n",
        "      <td>-359</td>\n",
        "      <td>   </td>\n",
        "      <td> article</td>\n",
        "      <td> False</td>\n",
        "      <td>               Roadrunner United</td>\n",
        "      <td>    http://ru.wikipedia.org/wiki/Roadrunner_United</td>\n",
        "      <td> False</td>\n",
        "      <td>2014-08-10 23:15:54.188494</td>\n",
        "      <td> False</td>\n",
        "      <td> http://ru.wikipedia.org/w/index.php?diff=64729...</td>\n",
        "      <td> Deltahead</td>\n",
        "      <td> http://ru.wikipedia.org/wiki/User:Deltahead</td>\n",
        "      <td>   Russian Wikipedia</td>\n",
        "      <td>   Russian Wikipedia</td>\n",
        "      <td> ru</td>\n",
        "      <td> http://ru.wikipedia.org</td>\n",
        "    </tr>\n",
        "    <tr>\n",
        "      <th>4</th>\n",
        "      <td> False</td>\n",
        "      <td>       #en.wikipedia</td>\n",
        "      <td> Bot: Fixing double redirect to [[Talk:1971 Ban...</td>\n",
        "      <td>   0</td>\n",
        "      <td> MB</td>\n",
        "      <td>    talk</td>\n",
        "      <td> False</td>\n",
        "      <td> Talk:1971 Bangladesh atrocities</td>\n",
        "      <td> http://en.wikipedia.org/wiki/Talk:1971_Banglad...</td>\n",
        "      <td>  True</td>\n",
        "      <td>2014-08-10 23:15:54.435296</td>\n",
        "      <td> False</td>\n",
        "      <td> http://en.wikipedia.org/w/index.php?diff=62069...</td>\n",
        "      <td>     Xqbot</td>\n",
        "      <td>     http://en.wikipedia.org/wiki/User:Xqbot</td>\n",
        "      <td>   English Wikipedia</td>\n",
        "      <td>   English Wikipedia</td>\n",
        "      <td> en</td>\n",
        "      <td> http://en.wikipedia.org</td>\n",
        "    </tr>\n",
        "  </tbody>\n",
        "</table>\n",
        "</div>"
       ],
       "metadata": {},
       "output_type": "pyout",
       "prompt_number": 50,
       "text": [
        "  anonymous              channel  \\\n",
        "0     False  #wikidata.wikipedia   \n",
        "1     False  #wikidata.wikipedia   \n",
        "2     False        #uk.wikipedia   \n",
        "3     False        #ru.wikipedia   \n",
        "4     False        #en.wikipedia   \n",
        "\n",
        "                                             comment  delta flag namespace  \\\n",
        "0  /* wbsetqualifier-add:1| */ [[Property:P518]]:...    132    B   article   \n",
        "1  /* clientsitelink-update:0|enwiki|enwiki:Escon...      6        article   \n",
        "2                                      \u043a\u0430\u0442\u0435\u0433\u043e\u0440\u0438\u0437\u0430\u0446\u0456\u044f     62        article   \n",
        "3                 /* 25th Anniversary */ \u0432\u0438\u043a\u0438\u0444\u0438\u043a\u0430\u0446\u0438\u044f   -359        article   \n",
        "4  Bot: Fixing double redirect to [[Talk:1971 Ban...      0   MB      talk   \n",
        "\n",
        "  newPage                             page  \\\n",
        "0   False                        Q17495380   \n",
        "1   False                         Q5397376   \n",
        "2   False                        \u0420\u0430\u0439.\u0426\u0435\u043d\u0442\u0440   \n",
        "3   False                Roadrunner United   \n",
        "4   False  Talk:1971 Bangladesh atrocities   \n",
        "\n",
        "                                             pageUrl  robot  \\\n",
        "0                 http://wikidata.org/wiki/Q17495380   True   \n",
        "1                  http://wikidata.org/wiki/Q5397376  False   \n",
        "2             http://uk.wikipedia.org/wiki/\u0420\u0430\u0439.\u0426\u0435\u043d\u0442\u0440  False   \n",
        "3     http://ru.wikipedia.org/wiki/Roadrunner_United  False   \n",
        "4  http://en.wikipedia.org/wiki/Talk:1971_Banglad...   True   \n",
        "\n",
        "                   timestamp unpatrolled  \\\n",
        "0 2014-08-10 23:15:54.188322       False   \n",
        "1 2014-08-10 23:15:54.188392       False   \n",
        "2 2014-08-10 23:15:54.188452       False   \n",
        "3 2014-08-10 23:15:54.188494       False   \n",
        "4 2014-08-10 23:15:54.435296       False   \n",
        "\n",
        "                                                 url       user  \\\n",
        "0  http://www.wikidata.org/w/index.php?diff=15033...  PoulpyBot   \n",
        "1  http://www.wikidata.org/w/index.php?diff=15033...    CEM-air   \n",
        "2  http://uk.wikipedia.org/w/index.php?diff=14650...  Silin2005   \n",
        "3  http://ru.wikipedia.org/w/index.php?diff=64729...  Deltahead   \n",
        "4  http://en.wikipedia.org/w/index.php?diff=62069...      Xqbot   \n",
        "\n",
        "                                       userUrl            wikipedia  \\\n",
        "0      http://wikidata.org/wiki/User:PoulpyBot             Wikidata   \n",
        "1        http://wikidata.org/wiki/User:CEM-air             Wikidata   \n",
        "2  http://uk.wikipedia.org/wiki/User:Silin2005  Ukrainian Wikipedia   \n",
        "3  http://ru.wikipedia.org/wiki/User:Deltahead    Russian Wikipedia   \n",
        "4      http://en.wikipedia.org/wiki/User:Xqbot    English Wikipedia   \n",
        "\n",
        "         wikipediaLong wikipediaShort             wikipediaUrl  \n",
        "0             Wikidata             wd      http://wikidata.org  \n",
        "1             Wikidata             wd      http://wikidata.org  \n",
        "2  Ukrainian Wikipedia             uk  http://uk.wikipedia.org  \n",
        "3    Russian Wikipedia             ru  http://ru.wikipedia.org  \n",
        "4    English Wikipedia             en  http://en.wikipedia.org  "
       ]
      }
     ],
     "prompt_number": 50
    },
    {
     "cell_type": "markdown",
     "metadata": {},
     "source": [
      "## Visualizing the total number of edits in each wiki\n",
      "\n",
      "This is a one-liner in pandas!"
     ]
    },
    {
     "cell_type": "code",
     "collapsed": false,
     "input": [
      "p = df.wikipedia.value_counts().plot(kind='barh')"
     ],
     "language": "python",
     "metadata": {},
     "outputs": [
      {
       "metadata": {},
       "output_type": "display_data",
       "png": "[encoded data removed]",
       "text": [
        "<matplotlib.figure.Figure at 0x7fe507496208>"
       ]
      }
     ],
     "prompt_number": 51
    },
    {
     "cell_type": "markdown",
     "metadata": {},
     "source": [
      "## Checking and filtering bot activity\n",
      "\n",
      "Wikidata is very busy -- is it all bots?"
     ]
    },
    {
     "cell_type": "code",
     "collapsed": false,
     "input": [
      "df[df.wikipediaShort=='wd'].robot.value_counts()"
     ],
     "language": "python",
     "metadata": {},
     "outputs": [
      {
       "metadata": {},
       "output_type": "pyout",
       "prompt_number": 52,
       "text": [
        "True     79\n",
        "False    45\n",
        "dtype: int64"
       ]
      }
     ],
     "prompt_number": 52
    },
    {
     "cell_type": "markdown",
     "metadata": {},
     "source": [
      "## Time series analysis\n",
      "\n",
      "To make time series analysis easier, let's turn the raw edits into counts per second.\n",
      "\n",
      "We can use a bit of a trick here. Pivot the dataframe, keeping the timestamp as the index, making the wiki short names the new columns, and the value of the `delta` field for the cells..."
     ]
    },
    {
     "cell_type": "code",
     "collapsed": false,
     "input": [
      "ts = df[['timestamp',\n",
      "         'wikipediaShort',\n",
      "         'delta'\n",
      "         ]].pivot(index='timestamp',\n",
      "                  columns='wikipediaShort',\n",
      "                  values='delta')\n",
      "ts.head()"
     ],
     "language": "python",
     "metadata": {},
     "outputs": [
      {
       "html": [
        "<div style=\"max-height:1000px;max-width:1500px;overflow:auto;\">\n",
        "<table border=\"1\" class=\"dataframe\">\n",
        "  <thead>\n",
        "    <tr style=\"text-align: right;\">\n",
        "      <th>wikipediaShort</th>\n",
        "      <th>ar</th>\n",
        "      <th>co</th>\n",
        "      <th>cs</th>\n",
        "      <th>de</th>\n",
        "      <th>en</th>\n",
        "      <th>es</th>\n",
        "      <th>fa</th>\n",
        "      <th>fi</th>\n",
        "      <th>fr</th>\n",
        "      <th>he</th>\n",
        "      <th>...</th>\n",
        "      <th>no</th>\n",
        "      <th>pl</th>\n",
        "      <th>pt</th>\n",
        "      <th>ro</th>\n",
        "      <th>ru</th>\n",
        "      <th>sv</th>\n",
        "      <th>tr</th>\n",
        "      <th>uk</th>\n",
        "      <th>wd</th>\n",
        "      <th>zh</th>\n",
        "    </tr>\n",
        "    <tr>\n",
        "      <th>timestamp</th>\n",
        "      <th></th>\n",
        "      <th></th>\n",
        "      <th></th>\n",
        "      <th></th>\n",
        "      <th></th>\n",
        "      <th></th>\n",
        "      <th></th>\n",
        "      <th></th>\n",
        "      <th></th>\n",
        "      <th></th>\n",
        "      <th></th>\n",
        "      <th></th>\n",
        "      <th></th>\n",
        "      <th></th>\n",
        "      <th></th>\n",
        "      <th></th>\n",
        "      <th></th>\n",
        "      <th></th>\n",
        "      <th></th>\n",
        "      <th></th>\n",
        "      <th></th>\n",
        "    </tr>\n",
        "  </thead>\n",
        "  <tbody>\n",
        "    <tr>\n",
        "      <th>2014-08-10 23:15:54.188322</th>\n",
        "      <td>NaN</td>\n",
        "      <td>NaN</td>\n",
        "      <td>NaN</td>\n",
        "      <td>NaN</td>\n",
        "      <td>NaN</td>\n",
        "      <td>NaN</td>\n",
        "      <td>NaN</td>\n",
        "      <td>NaN</td>\n",
        "      <td>NaN</td>\n",
        "      <td>NaN</td>\n",
        "      <td>...</td>\n",
        "      <td>NaN</td>\n",
        "      <td>NaN</td>\n",
        "      <td>NaN</td>\n",
        "      <td>NaN</td>\n",
        "      <td> NaN</td>\n",
        "      <td>NaN</td>\n",
        "      <td>NaN</td>\n",
        "      <td>NaN</td>\n",
        "      <td> 132</td>\n",
        "      <td>NaN</td>\n",
        "    </tr>\n",
        "    <tr>\n",
        "      <th>2014-08-10 23:15:54.188392</th>\n",
        "      <td>NaN</td>\n",
        "      <td>NaN</td>\n",
        "      <td>NaN</td>\n",
        "      <td>NaN</td>\n",
        "      <td>NaN</td>\n",
        "      <td>NaN</td>\n",
        "      <td>NaN</td>\n",
        "      <td>NaN</td>\n",
        "      <td>NaN</td>\n",
        "      <td>NaN</td>\n",
        "      <td>...</td>\n",
        "      <td>NaN</td>\n",
        "      <td>NaN</td>\n",
        "      <td>NaN</td>\n",
        "      <td>NaN</td>\n",
        "      <td> NaN</td>\n",
        "      <td>NaN</td>\n",
        "      <td>NaN</td>\n",
        "      <td>NaN</td>\n",
        "      <td>   6</td>\n",
        "      <td>NaN</td>\n",
        "    </tr>\n",
        "    <tr>\n",
        "      <th>2014-08-10 23:15:54.188452</th>\n",
        "      <td>NaN</td>\n",
        "      <td>NaN</td>\n",
        "      <td>NaN</td>\n",
        "      <td>NaN</td>\n",
        "      <td>NaN</td>\n",
        "      <td>NaN</td>\n",
        "      <td>NaN</td>\n",
        "      <td>NaN</td>\n",
        "      <td>NaN</td>\n",
        "      <td>NaN</td>\n",
        "      <td>...</td>\n",
        "      <td>NaN</td>\n",
        "      <td>NaN</td>\n",
        "      <td>NaN</td>\n",
        "      <td>NaN</td>\n",
        "      <td> NaN</td>\n",
        "      <td>NaN</td>\n",
        "      <td>NaN</td>\n",
        "      <td> 62</td>\n",
        "      <td> NaN</td>\n",
        "      <td>NaN</td>\n",
        "    </tr>\n",
        "    <tr>\n",
        "      <th>2014-08-10 23:15:54.188494</th>\n",
        "      <td>NaN</td>\n",
        "      <td>NaN</td>\n",
        "      <td>NaN</td>\n",
        "      <td>NaN</td>\n",
        "      <td>NaN</td>\n",
        "      <td>NaN</td>\n",
        "      <td>NaN</td>\n",
        "      <td>NaN</td>\n",
        "      <td>NaN</td>\n",
        "      <td>NaN</td>\n",
        "      <td>...</td>\n",
        "      <td>NaN</td>\n",
        "      <td>NaN</td>\n",
        "      <td>NaN</td>\n",
        "      <td>NaN</td>\n",
        "      <td>-359</td>\n",
        "      <td>NaN</td>\n",
        "      <td>NaN</td>\n",
        "      <td>NaN</td>\n",
        "      <td> NaN</td>\n",
        "      <td>NaN</td>\n",
        "    </tr>\n",
        "    <tr>\n",
        "      <th>2014-08-10 23:15:54.435296</th>\n",
        "      <td>NaN</td>\n",
        "      <td>NaN</td>\n",
        "      <td>NaN</td>\n",
        "      <td>NaN</td>\n",
        "      <td>  0</td>\n",
        "      <td>NaN</td>\n",
        "      <td>NaN</td>\n",
        "      <td>NaN</td>\n",
        "      <td>NaN</td>\n",
        "      <td>NaN</td>\n",
        "      <td>...</td>\n",
        "      <td>NaN</td>\n",
        "      <td>NaN</td>\n",
        "      <td>NaN</td>\n",
        "      <td>NaN</td>\n",
        "      <td> NaN</td>\n",
        "      <td>NaN</td>\n",
        "      <td>NaN</td>\n",
        "      <td>NaN</td>\n",
        "      <td> NaN</td>\n",
        "      <td>NaN</td>\n",
        "    </tr>\n",
        "  </tbody>\n",
        "</table>\n",
        "<p>5 rows \u00d7 26 columns</p>\n",
        "</div>"
       ],
       "metadata": {},
       "output_type": "pyout",
       "prompt_number": 53,
       "text": [
        "wikipediaShort              ar  co  cs  de  en  es  fa  fi  fr  he ...  no  \\\n",
        "timestamp                                                          ...       \n",
        "2014-08-10 23:15:54.188322 NaN NaN NaN NaN NaN NaN NaN NaN NaN NaN ... NaN   \n",
        "2014-08-10 23:15:54.188392 NaN NaN NaN NaN NaN NaN NaN NaN NaN NaN ... NaN   \n",
        "2014-08-10 23:15:54.188452 NaN NaN NaN NaN NaN NaN NaN NaN NaN NaN ... NaN   \n",
        "2014-08-10 23:15:54.188494 NaN NaN NaN NaN NaN NaN NaN NaN NaN NaN ... NaN   \n",
        "2014-08-10 23:15:54.435296 NaN NaN NaN NaN   0 NaN NaN NaN NaN NaN ... NaN   \n",
        "\n",
        "wikipediaShort              pl  pt  ro   ru  sv  tr  uk   wd  zh  \n",
        "timestamp                                                         \n",
        "2014-08-10 23:15:54.188322 NaN NaN NaN  NaN NaN NaN NaN  132 NaN  \n",
        "2014-08-10 23:15:54.188392 NaN NaN NaN  NaN NaN NaN NaN    6 NaN  \n",
        "2014-08-10 23:15:54.188452 NaN NaN NaN  NaN NaN NaN  62  NaN NaN  \n",
        "2014-08-10 23:15:54.188494 NaN NaN NaN -359 NaN NaN NaN  NaN NaN  \n",
        "2014-08-10 23:15:54.435296 NaN NaN NaN  NaN NaN NaN NaN  NaN NaN  \n",
        "\n",
        "[5 rows x 26 columns]"
       ]
      }
     ],
     "prompt_number": 53
    },
    {
     "cell_type": "markdown",
     "metadata": {},
     "source": [
      "... not because we care about delta, but because the `resample` method only works on numerics. By resampling to second resolution, and applying the `count` aggregate, we get edits-per-second."
     ]
    },
    {
     "cell_type": "code",
     "collapsed": false,
     "input": [
      "sec_counts = ts.resample('s', how='count')\n",
      "sec_counts.head()"
     ],
     "language": "python",
     "metadata": {},
     "outputs": [
      {
       "html": [
        "<div style=\"max-height:1000px;max-width:1500px;overflow:auto;\">\n",
        "<table border=\"1\" class=\"dataframe\">\n",
        "  <thead>\n",
        "    <tr style=\"text-align: right;\">\n",
        "      <th>wikipediaShort</th>\n",
        "      <th>ar</th>\n",
        "      <th>co</th>\n",
        "      <th>cs</th>\n",
        "      <th>de</th>\n",
        "      <th>en</th>\n",
        "      <th>es</th>\n",
        "      <th>fa</th>\n",
        "      <th>fi</th>\n",
        "      <th>fr</th>\n",
        "      <th>he</th>\n",
        "      <th>...</th>\n",
        "      <th>no</th>\n",
        "      <th>pl</th>\n",
        "      <th>pt</th>\n",
        "      <th>ro</th>\n",
        "      <th>ru</th>\n",
        "      <th>sv</th>\n",
        "      <th>tr</th>\n",
        "      <th>uk</th>\n",
        "      <th>wd</th>\n",
        "      <th>zh</th>\n",
        "    </tr>\n",
        "    <tr>\n",
        "      <th>timestamp</th>\n",
        "      <th></th>\n",
        "      <th></th>\n",
        "      <th></th>\n",
        "      <th></th>\n",
        "      <th></th>\n",
        "      <th></th>\n",
        "      <th></th>\n",
        "      <th></th>\n",
        "      <th></th>\n",
        "      <th></th>\n",
        "      <th></th>\n",
        "      <th></th>\n",
        "      <th></th>\n",
        "      <th></th>\n",
        "      <th></th>\n",
        "      <th></th>\n",
        "      <th></th>\n",
        "      <th></th>\n",
        "      <th></th>\n",
        "      <th></th>\n",
        "      <th></th>\n",
        "    </tr>\n",
        "  </thead>\n",
        "  <tbody>\n",
        "    <tr>\n",
        "      <th>2014-08-10 23:15:54</th>\n",
        "      <td> 0</td>\n",
        "      <td> 0</td>\n",
        "      <td> 0</td>\n",
        "      <td> 0</td>\n",
        "      <td> 1</td>\n",
        "      <td> 1</td>\n",
        "      <td> 0</td>\n",
        "      <td> 0</td>\n",
        "      <td> 0</td>\n",
        "      <td> 0</td>\n",
        "      <td>...</td>\n",
        "      <td> 0</td>\n",
        "      <td> 0</td>\n",
        "      <td> 1</td>\n",
        "      <td> 0</td>\n",
        "      <td> 1</td>\n",
        "      <td> 0</td>\n",
        "      <td> 0</td>\n",
        "      <td> 1</td>\n",
        "      <td> 2</td>\n",
        "      <td> 0</td>\n",
        "    </tr>\n",
        "    <tr>\n",
        "      <th>2014-08-10 23:15:55</th>\n",
        "      <td> 0</td>\n",
        "      <td> 0</td>\n",
        "      <td> 0</td>\n",
        "      <td> 0</td>\n",
        "      <td> 0</td>\n",
        "      <td> 0</td>\n",
        "      <td> 0</td>\n",
        "      <td> 0</td>\n",
        "      <td> 1</td>\n",
        "      <td> 0</td>\n",
        "      <td>...</td>\n",
        "      <td> 0</td>\n",
        "      <td> 0</td>\n",
        "      <td> 0</td>\n",
        "      <td> 0</td>\n",
        "      <td> 0</td>\n",
        "      <td> 0</td>\n",
        "      <td> 0</td>\n",
        "      <td> 0</td>\n",
        "      <td> 1</td>\n",
        "      <td> 0</td>\n",
        "    </tr>\n",
        "    <tr>\n",
        "      <th>2014-08-10 23:15:56</th>\n",
        "      <td> 1</td>\n",
        "      <td> 0</td>\n",
        "      <td> 0</td>\n",
        "      <td> 0</td>\n",
        "      <td> 0</td>\n",
        "      <td> 0</td>\n",
        "      <td> 0</td>\n",
        "      <td> 0</td>\n",
        "      <td> 0</td>\n",
        "      <td> 0</td>\n",
        "      <td>...</td>\n",
        "      <td> 0</td>\n",
        "      <td> 0</td>\n",
        "      <td> 0</td>\n",
        "      <td> 0</td>\n",
        "      <td> 0</td>\n",
        "      <td> 0</td>\n",
        "      <td> 0</td>\n",
        "      <td> 0</td>\n",
        "      <td> 0</td>\n",
        "      <td> 0</td>\n",
        "    </tr>\n",
        "    <tr>\n",
        "      <th>2014-08-10 23:15:57</th>\n",
        "      <td> 0</td>\n",
        "      <td> 1</td>\n",
        "      <td> 0</td>\n",
        "      <td> 1</td>\n",
        "      <td> 2</td>\n",
        "      <td> 2</td>\n",
        "      <td> 0</td>\n",
        "      <td> 0</td>\n",
        "      <td> 0</td>\n",
        "      <td> 0</td>\n",
        "      <td>...</td>\n",
        "      <td> 0</td>\n",
        "      <td> 0</td>\n",
        "      <td> 0</td>\n",
        "      <td> 0</td>\n",
        "      <td> 0</td>\n",
        "      <td> 0</td>\n",
        "      <td> 0</td>\n",
        "      <td> 0</td>\n",
        "      <td> 2</td>\n",
        "      <td> 0</td>\n",
        "    </tr>\n",
        "    <tr>\n",
        "      <th>2014-08-10 23:15:58</th>\n",
        "      <td> 0</td>\n",
        "      <td> 0</td>\n",
        "      <td> 0</td>\n",
        "      <td> 0</td>\n",
        "      <td> 0</td>\n",
        "      <td> 0</td>\n",
        "      <td> 0</td>\n",
        "      <td> 0</td>\n",
        "      <td> 0</td>\n",
        "      <td> 0</td>\n",
        "      <td>...</td>\n",
        "      <td> 0</td>\n",
        "      <td> 1</td>\n",
        "      <td> 0</td>\n",
        "      <td> 0</td>\n",
        "      <td> 0</td>\n",
        "      <td> 0</td>\n",
        "      <td> 0</td>\n",
        "      <td> 0</td>\n",
        "      <td> 1</td>\n",
        "      <td> 0</td>\n",
        "    </tr>\n",
        "  </tbody>\n",
        "</table>\n",
        "<p>5 rows \u00d7 26 columns</p>\n",
        "</div>"
       ],
       "metadata": {},
       "output_type": "pyout",
       "prompt_number": 54,
       "text": [
        "wikipediaShort       ar  co  cs  de  en  es  fa  fi  fr  he ...  no  pl  pt  \\\n",
        "timestamp                                                   ...               \n",
        "2014-08-10 23:15:54   0   0   0   0   1   1   0   0   0   0 ...   0   0   1   \n",
        "2014-08-10 23:15:55   0   0   0   0   0   0   0   0   1   0 ...   0   0   0   \n",
        "2014-08-10 23:15:56   1   0   0   0   0   0   0   0   0   0 ...   0   0   0   \n",
        "2014-08-10 23:15:57   0   1   0   1   2   2   0   0   0   0 ...   0   0   0   \n",
        "2014-08-10 23:15:58   0   0   0   0   0   0   0   0   0   0 ...   0   1   0   \n",
        "\n",
        "wikipediaShort       ro  ru  sv  tr  uk  wd  zh  \n",
        "timestamp                                        \n",
        "2014-08-10 23:15:54   0   1   0   0   1   2   0  \n",
        "2014-08-10 23:15:55   0   0   0   0   0   1   0  \n",
        "2014-08-10 23:15:56   0   0   0   0   0   0   0  \n",
        "2014-08-10 23:15:57   0   0   0   0   0   2   0  \n",
        "2014-08-10 23:15:58   0   0   0   0   0   1   0  \n",
        "\n",
        "[5 rows x 26 columns]"
       ]
      }
     ],
     "prompt_number": 54
    },
    {
     "cell_type": "markdown",
     "metadata": {},
     "source": [
      "## Visualizing activity over time\n",
      "\n",
      "This is easy, now we have the data in the right format."
     ]
    },
    {
     "cell_type": "code",
     "collapsed": false,
     "input": [
      "p = sec_counts.plot()"
     ],
     "language": "python",
     "metadata": {},
     "outputs": [
      {
       "metadata": {},
       "output_type": "display_data",
       "png": "[encoded data removed]",
       "text": [
        "<matplotlib.figure.Figure at 0x7fe4fe7aee10>"
       ]
      }
     ],
     "prompt_number": 55
    },
    {
     "cell_type": "markdown",
     "metadata": {},
     "source": [
      "Not so easy to read!\n",
      "\n",
      "What if we make it a cumulative sum instead, so we can see how activity 'mounts up' over time?"
     ]
    },
    {
     "cell_type": "code",
     "collapsed": false,
     "input": [
      "p = sec_counts.cumsum().plot()"
     ],
     "language": "python",
     "metadata": {},
     "outputs": [
      {
       "metadata": {},
       "output_type": "display_data",
       "png": "[encoded data removed]",
       "text": [
        "<matplotlib.figure.Figure at 0x7fe5074ac358>"
       ]
      }
     ],
     "prompt_number": 56
    },
    {
     "cell_type": "markdown",
     "metadata": {},
     "source": [
      "## Training a model in real time with Vowpal Wabbit\n",
      "\n",
      "Here's the fun bit. We're going to restart the stream, and as the data comes in, we're going to feed it to [Vowpal Wabbit](https://github.com/JohnLangford/vowpal_wabbit) to incrementally train a language recognizer. Or more strictly, a wiki recognizer, as we want to teach it to distinguish e.g. \"French Wikipedia\" articles from \"Polish Wikipedia\" articles -- using only the distribution of characters (and ngrams) in its title.\n",
      "\n",
      "We'll use an adaptive online learning approach: only update the model when we find an example that it can't correctly identify already. VW makes this very efficient and effective.\n",
      "\n",
      "We'll filter out Wikidata edits, as these just have IDs, as well as Commons files, non-article pages like user homepages, and also English Wikipedia (to keep things interesting).\n",
      "\n",
      "But first let's define a helper function to generate character ngrams, for `n` from `k1` to `k2`. That is, if `k1 == 2` and `k2 == 4`, then you'll get bigrams, trigrams and tetragrams (?). It returns an iterator over all the ngrams."
     ]
    },
    {
     "cell_type": "code",
     "collapsed": false,
     "input": [
      "def ngrams(text, k1, k2):\n",
      "    if k1 < 1:\n",
      "        raise ValueError('k1 must be 1 or more')\n",
      "    if k2 < k1:\n",
      "        raise ValueError('k2 must may not be less than k1')\n",
      "    return chain.from_iterable((text[i:i+n] for i in range(len(text)-(n-1))) for n in range(k1, k2+1))\n",
      "\n",
      "print(list(ngrams('the quick brown fox', 1, 2)))"
     ],
     "language": "python",
     "metadata": {},
     "outputs": [
      {
       "output_type": "stream",
       "stream": "stdout",
       "text": [
        "['t', 'h', 'e', ' ', 'q', 'u', 'i', 'c', 'k', ' ', 'b', 'r', 'o', 'w', 'n', ' ', 'f', 'o', 'x', 'th', 'he', 'e ', ' q', 'qu', 'ui', 'ic', 'ck', 'k ', ' b', 'br', 'ro', 'ow', 'wn', 'n ', ' f', 'fo', 'ox']\n"
       ]
      }
     ],
     "prompt_number": 19
    },
    {
     "cell_type": "markdown",
     "metadata": {},
     "source": [
      "The next function contains filtering logic, defining what kinds of edit we are interested in."
     ]
    },
    {
     "cell_type": "code",
     "collapsed": false,
     "input": [
      "# Parse page name, or return False if it's from Wikidata or English Wikipedia,\n",
      "# a file from Commons, a non-article, or a 0- or 1-length name\n",
      "def page_name(edit):\n",
      "    if edit['wikipediaShort'] == 'wd' or \\\n",
      "        edit['wikipediaShort'] == 'en' or \\\n",
      "        edit['wikipediaShort'] == 'co' or \\\n",
      "        edit['namespace'] == 'article':\n",
      "            return False\n",
      "    page_name = reg.match(edit['pageUrl']).group(1).lower()\n",
      "    size = len(page_name)\n",
      "    if size < 2:\n",
      "        return False\n",
      "    return page_name"
     ],
     "language": "python",
     "metadata": {},
     "outputs": [],
     "prompt_number": 20
    },
    {
     "cell_type": "markdown",
     "metadata": {},
     "source": [
      "A couple of convenience functions for dealing with the ringbuffer (see below). They assume the ringbuffer is initialized with -1 in every cell, so these rows can be excluded (they haven't been filled in yet).\n",
      "\n",
      "The first calculates accuracy over the current contents. The second returns the effective length -- the number of values which have been populated."
     ]
    },
    {
     "cell_type": "code",
     "collapsed": false,
     "input": [
      "def accuracy(ringbuffer):\n",
      "    valid = np.sum(ringbuffer, axis=1) >= 0\n",
      "    matched = ringbuffer[:,0] == ringbuffer[:,1]\n",
      "    return np.sum(np.logical_and(valid, matched)) / np.sum(valid)\n",
      "\n",
      "def buffersize(ringbuffer):\n",
      "    return np.sum(np.sum(ringbuffer, axis=1) >= 0)"
     ],
     "language": "python",
     "metadata": {},
     "outputs": [],
     "prompt_number": 21
    },
    {
     "cell_type": "markdown",
     "metadata": {},
     "source": [
      "All the action happens in the next cell.\n",
      "\n",
      "It starts the VW server with the appropriate options. If you get a memory allocation error, reduce the value of `hashbits`, although this may impact accuracy.\n",
      "\n",
      "It also defines and starts a new callback, which breaks the title of each page into character ngrams, and tests them against the current model. If the model predicts correctly, we don't change it, but if it predicts incorrectly, we pass it the current example as a training instance.\n",
      "\n",
      "The reported accuracy might fluctuate to begin with, but then should settle, and gradually rise (not necessarily in a monotonic way) as data comes in.\n",
      "\n",
      "It uses a ringbuffer (a fixed-size array) to keep track of predictions and actual values over the last `k` tests. In this kind of online learning scenario, we don't really worry how much about how the model *was* performing on historical data -- we just want to know that it *is* performing well on current data.\n",
      "\n",
      "*This may be an over-estimate of accuracy if multiple edits to the same page appear within the last `k` edits. For a more conservative estimate, we should filter out duplicates. But this is just a demo...*\n",
      "\n",
      "You can set a maximum number of training instances to process, or just **interrupt the kernel if you get bored of waiting**..."
     ]
    },
    {
     "cell_type": "code",
     "collapsed": false,
     "input": [
      "# How many classes to allow in the model (must be provided up front)\n",
      "max_expected_classes = 30\n",
      "\n",
      "# When to stop, if not interrupted\n",
      "max_edits = 1000\n",
      "\n",
      "# How many tests to calculate score over\n",
      "k = 500\n",
      "\n",
      "# How many bits in range of VW hash function:\n",
      "# larger = potentially better accuracy but more memory\n",
      "hashbits = 24\n",
      "\n",
      "# How many edits we've processed\n",
      "edits = 0\n",
      "\n",
      "# List of the wiki names we've seen, to be populated as we go along\n",
      "labels = []\n",
      "\n",
      "# Maps each wiki name -> its index in labels list\n",
      "label_to_idx = {}\n",
      "\n",
      "# Regex to capture wiki name\n",
      "reg = re.compile(r'^.*wiki/(.*)')\n",
      "\n",
      "# Last-k confusion matrix, initialized to -1\n",
      "cm = np.zeros((k, 2), dtype=np.int8) - 1\n",
      "\n",
      "def vw_callback(edit):\n",
      "    \n",
      "    name = page_name(edit)\n",
      "    if not name:\n",
      "        return True\n",
      "    \n",
      "    # Set up mappings for this wiki if this is the first time we've seen it\n",
      "    label = edit['wikipedia']\n",
      "    if label in label_to_idx:\n",
      "        idx = label_to_idx[label]\n",
      "    else:\n",
      "        # If we have exhausted our preset class limit, just skip it! Bit kludgey...\n",
      "        if len(labels) == max_expected_classes:\n",
      "            print(\"Ignoring class %d\" % len(labels))\n",
      "            return True\n",
      "        labels.append(label)\n",
      "        idx = len(labels) - 1\n",
      "        label_to_idx[label] = idx\n",
      "\n",
      "    # Generate features -- currently char unigrams and bigrams\n",
      "    features = list(ngrams(name, 1, 2))\n",
      "\n",
      "    # Test example first -- does model get it right? If not, train on it\n",
      "    prediction = int(vw.get_prediction(features=features).prediction) - 1 # NB VW FEATURE LABELS START AT 1\n",
      "    \n",
      "    # Add prediction to bottom of ringbuffer, then roll it forward\n",
      "    global cm\n",
      "    cm[499, :] = (idx, prediction)\n",
      "    cm = np.roll(cm, 1, axis=0)\n",
      "    \n",
      "    # If prediction was wrong, train on this example\n",
      "    if idx != prediction:\n",
      "\n",
      "        global edits\n",
      "        tests_run = buffersize(cm)\n",
      "        print('Trained: %d, Tested: %d, Prediction: %s, Actual: %s, Last-%d Accuracy: %0.3f'\n",
      "              % (edits, tests_run, labels[prediction], labels[idx], tests_run, accuracy(cm)))\n",
      "        \n",
      "        raw_line = vw.make_line(idx+1, features=features) # NB VW FEATURE LABELS START AT 1\n",
      "        vw.send_line(raw_line)\n",
      "        edits += 1\n",
      "\n",
      "        # Stop if we've hit max_edits\n",
      "        return edits < max_edits\n",
      "    \n",
      "    return True\n",
      "\n",
      "# Start up local VW process\n",
      "vw = VW(loss_function='logistic', b=hashbits, ect=max_expected_classes, hash='all')\n",
      "print(vw.command)\n",
      "\n",
      "wikipedia_updates(vw_callback)"
     ],
     "language": "python",
     "metadata": {},
     "outputs": [
      {
       "output_type": "stream",
       "stream": "stdout",
       "text": [
        "vw -b 24 --hash all --ect 30 --loss_function logistic --quiet --predictions /dev/stdout --save_resume\n",
        "Trained: 0, Tested: 2, Prediction: German Wikipedia, Actual: Spanish Wikipedia, Last-2 Accuracy: 0.500"
       ]
      },
      {
       "output_type": "stream",
       "stream": "stdout",
       "text": [
        "\n",
        "Trained: 1, Tested: 4, Prediction: Spanish Wikipedia, Actual: Dutch Wikipedia, Last-4 Accuracy: 0.500"
       ]
      },
      {
       "output_type": "stream",
       "stream": "stdout",
       "text": [
        "\n",
        "Trained: 2, Tested: 6, Prediction: Spanish Wikipedia, Actual: French Wikipedia, Last-6 Accuracy: 0.500"
       ]
      },
      {
       "output_type": "stream",
       "stream": "stdout",
       "text": [
        "\n",
        "Trained: 3, Tested: 7, Prediction: French Wikipedia, Actual: German Wikipedia, Last-7 Accuracy: 0.429"
       ]
      },
      {
       "output_type": "stream",
       "stream": "stdout",
       "text": [
        "\n",
        "Trained: 4, Tested: 8, Prediction: French Wikipedia, Actual: Ukrainian Wikipedia, Last-8 Accuracy: 0.375"
       ]
      },
      {
       "output_type": "stream",
       "stream": "stdout",
       "text": [
        "\n",
        "Trained: 5, Tested: 9, Prediction: Spanish Wikipedia, Actual: French Wikipedia, Last-9 Accuracy: 0.333"
       ]
      },
      {
       "output_type": "stream",
       "stream": "stdout",
       "text": [
        "\n",
        "Trained: 6, Tested: 10, Prediction: French Wikipedia, Actual: Portuguese Wikipedia, Last-10 Accuracy: 0.300"
       ]
      },
      {
       "output_type": "stream",
       "stream": "stdout",
       "text": [
        "\n",
        "Trained: 7, Tested: 11, Prediction: French Wikipedia, Actual: German Wikipedia, Last-11 Accuracy: 0.273"
       ]
      },
      {
       "output_type": "stream",
       "stream": "stdout",
       "text": [
        "\n",
        "Trained: 8, Tested: 14, Prediction: German Wikipedia, Actual: French Wikipedia, Last-14 Accuracy: 0.357"
       ]
      },
      {
       "output_type": "stream",
       "stream": "stdout",
       "text": [
        "\n",
        "Trained: 9, Tested: 16, Prediction: French Wikipedia, Actual: Spanish Wikipedia, Last-16 Accuracy: 0.375"
       ]
      },
      {
       "output_type": "stream",
       "stream": "stdout",
       "text": [
        "\n",
        "Trained: 10, Tested: 19, Prediction: Dutch Wikipedia, Actual: Portuguese Wikipedia, Last-19 Accuracy: 0.421"
       ]
      },
      {
       "output_type": "stream",
       "stream": "stdout",
       "text": [
        "\n",
        "Trained: 11, Tested: 20, Prediction: French Wikipedia, Actual: Spanish Wikipedia, Last-20 Accuracy: 0.400"
       ]
      },
      {
       "output_type": "stream",
       "stream": "stdout",
       "text": [
        "\n",
        "Trained: 12, Tested: 22, Prediction: Dutch Wikipedia, Actual: Portuguese Wikipedia, Last-22 Accuracy: 0.409"
       ]
      },
      {
       "output_type": "stream",
       "stream": "stdout",
       "text": [
        "\n",
        "Trained: 13, Tested: 24, Prediction: Spanish Wikipedia, Actual: German Wikipedia, Last-24 Accuracy: 0.417"
       ]
      },
      {
       "output_type": "stream",
       "stream": "stdout",
       "text": [
        "\n",
        "Trained: 14, Tested: 25, Prediction: Spanish Wikipedia, Actual: Norwegian Wikipedia, Last-25 Accuracy: 0.400"
       ]
      },
      {
       "output_type": "stream",
       "stream": "stdout",
       "text": [
        "\n",
        "Trained: 15, Tested: 26, Prediction: Spanish Wikipedia, Actual: Polish Wikipedia, Last-26 Accuracy: 0.385"
       ]
      },
      {
       "output_type": "stream",
       "stream": "stdout",
       "text": [
        "\n",
        "Trained: 16, Tested: 27, Prediction: German Wikipedia, Actual: Spanish Wikipedia, Last-27 Accuracy: 0.370"
       ]
      },
      {
       "output_type": "stream",
       "stream": "stdout",
       "text": [
        "\n",
        "Trained: 17, Tested: 28, Prediction: Portuguese Wikipedia, Actual: Farsi Wikipedia, Last-28 Accuracy: 0.357"
       ]
      },
      {
       "output_type": "stream",
       "stream": "stdout",
       "text": [
        "\n",
        "Trained: 18, Tested: 29, Prediction: Spanish Wikipedia, Actual: Portuguese Wikipedia, Last-29 Accuracy: 0.345"
       ]
      },
      {
       "output_type": "stream",
       "stream": "stdout",
       "text": [
        "\n",
        "Trained: 19, Tested: 30, Prediction: Portuguese Wikipedia, Actual: Spanish Wikipedia, Last-30 Accuracy: 0.333"
       ]
      },
      {
       "output_type": "stream",
       "stream": "stdout",
       "text": [
        "\n",
        "Trained: 20, Tested: 31, Prediction: Spanish Wikipedia, Actual: French Wikipedia, Last-31 Accuracy: 0.323"
       ]
      },
      {
       "output_type": "stream",
       "stream": "stdout",
       "text": [
        "\n",
        "Trained: 21, Tested: 32, Prediction: Spanish Wikipedia, Actual: Portuguese Wikipedia, Last-32 Accuracy: 0.312"
       ]
      },
      {
       "output_type": "stream",
       "stream": "stdout",
       "text": [
        "\n",
        "Trained: 22, Tested: 34, Prediction: Spanish Wikipedia, Actual: French Wikipedia, Last-34 Accuracy: 0.324"
       ]
      },
      {
       "output_type": "stream",
       "stream": "stdout",
       "text": [
        "\n",
        "Trained: 23, Tested: 35, Prediction: French Wikipedia, Actual: German Wikipedia, Last-35 Accuracy: 0.314\n",
        "Trained: 24, Tested: 36, Prediction: Spanish Wikipedia, Actual: German Wikipedia, Last-36 Accuracy: 0.306"
       ]
      },
      {
       "output_type": "stream",
       "stream": "stdout",
       "text": [
        "\n",
        "Trained: 25, Tested: 37, Prediction: German Wikipedia, Actual: Catalan Wikipedia, Last-37 Accuracy: 0.297"
       ]
      },
      {
       "output_type": "stream",
       "stream": "stdout",
       "text": [
        "\n",
        "Trained: 26, Tested: 39, Prediction: German Wikipedia, Actual: French Wikipedia, Last-39 Accuracy: 0.308"
       ]
      },
      {
       "output_type": "stream",
       "stream": "stdout",
       "text": [
        "\n",
        "Trained: 27, Tested: 40, Prediction: Portuguese Wikipedia, Actual: Russian Wikipedia, Last-40 Accuracy: 0.300"
       ]
      },
      {
       "output_type": "stream",
       "stream": "stdout",
       "text": [
        "\n",
        "Trained: 28, Tested: 42, Prediction: Portuguese Wikipedia, Actual: German Wikipedia, Last-42 Accuracy: 0.310"
       ]
      },
      {
       "output_type": "stream",
       "stream": "stdout",
       "text": [
        "\n",
        "Trained: 29, Tested: 47, Prediction: German Wikipedia, Actual: French Wikipedia, Last-47 Accuracy: 0.362"
       ]
      },
      {
       "output_type": "stream",
       "stream": "stdout",
       "text": [
        "\n",
        "Trained: 30, Tested: 51, Prediction: Ukrainian Wikipedia, Actual: Russian Wikipedia, Last-51 Accuracy: 0.392"
       ]
      },
      {
       "output_type": "stream",
       "stream": "stdout",
       "text": [
        "\n",
        "Trained: 31, Tested: 52, Prediction: French Wikipedia, Actual: Hebrew Wikipedia, Last-52 Accuracy: 0.385"
       ]
      },
      {
       "output_type": "stream",
       "stream": "stdout",
       "text": [
        "\n",
        "Trained: 32, Tested: 55, Prediction: French Wikipedia, Actual: Japanese Wikipedia, Last-55 Accuracy: 0.400"
       ]
      },
      {
       "output_type": "stream",
       "stream": "stdout",
       "text": [
        "\n",
        "Trained: 33, Tested: 56, Prediction: Spanish Wikipedia, Actual: Portuguese Wikipedia, Last-56 Accuracy: 0.393"
       ]
      },
      {
       "output_type": "stream",
       "stream": "stdout",
       "text": [
        "\n",
        "Trained: 34, Tested: 57, Prediction: German Wikipedia, Actual: French Wikipedia, Last-57 Accuracy: 0.386"
       ]
      },
      {
       "output_type": "stream",
       "stream": "stdout",
       "text": [
        "\n",
        "Trained: 35, Tested: 58, Prediction: French Wikipedia, Actual: Portuguese Wikipedia, Last-58 Accuracy: 0.379"
       ]
      },
      {
       "output_type": "stream",
       "stream": "stdout",
       "text": [
        "\n",
        "Trained: 36, Tested: 60, Prediction: Spanish Wikipedia, Actual: Dutch Wikipedia, Last-60 Accuracy: 0.383"
       ]
      },
      {
       "output_type": "stream",
       "stream": "stdout",
       "text": [
        "\n",
        "Trained: 37, Tested: 64, Prediction: Dutch Wikipedia, Actual: Portuguese Wikipedia, Last-64 Accuracy: 0.406"
       ]
      },
      {
       "output_type": "stream",
       "stream": "stdout",
       "text": [
        "\n",
        "Trained: 38, Tested: 65, Prediction: French Wikipedia, Actual: Portuguese Wikipedia, Last-65 Accuracy: 0.400"
       ]
      },
      {
       "output_type": "stream",
       "stream": "stdout",
       "text": [
        "\n",
        "Trained: 39, Tested: 66, Prediction: Portuguese Wikipedia, Actual: Spanish Wikipedia, Last-66 Accuracy: 0.394"
       ]
      },
      {
       "output_type": "stream",
       "stream": "stdout",
       "text": [
        "\n",
        "Trained: 40, Tested: 69, Prediction: Portuguese Wikipedia, Actual: Italian Wikipedia, Last-69 Accuracy: 0.406"
       ]
      },
      {
       "output_type": "stream",
       "stream": "stdout",
       "text": [
        "\n",
        "Trained: 41, Tested: 72, Prediction: French Wikipedia, Actual: Portuguese Wikipedia, Last-72 Accuracy: 0.417"
       ]
      },
      {
       "output_type": "stream",
       "stream": "stdout",
       "text": [
        "\n",
        "Trained: 42, Tested: 73, Prediction: Portuguese Wikipedia, Actual: French Wikipedia, Last-73 Accuracy: 0.411"
       ]
      },
      {
       "output_type": "stream",
       "stream": "stdout",
       "text": [
        "\n",
        "Trained: 43, Tested: 74, Prediction: Portuguese Wikipedia, Actual: Chinese Wikipedia, Last-74 Accuracy: 0.405"
       ]
      },
      {
       "output_type": "stream",
       "stream": "stdout",
       "text": [
        "\n",
        "Trained: 44, Tested: 75, Prediction: French Wikipedia, Actual: German Wikipedia, Last-75 Accuracy: 0.400\n",
        "Trained: 45, Tested: 77, Prediction: French Wikipedia, Actual: Portuguese Wikipedia, Last-77 Accuracy: 0.403"
       ]
      },
      {
       "output_type": "stream",
       "stream": "stdout",
       "text": [
        "\n",
        "Trained: 46, Tested: 80, Prediction: Spanish Wikipedia, Actual: Portuguese Wikipedia, Last-80 Accuracy: 0.412"
       ]
      },
      {
       "output_type": "stream",
       "stream": "stdout",
       "text": [
        "\n",
        "Trained: 47, Tested: 83, Prediction: Portuguese Wikipedia, Actual: Japanese Wikipedia, Last-83 Accuracy: 0.422"
       ]
      },
      {
       "output_type": "stream",
       "stream": "stdout",
       "text": [
        "\n",
        "Trained: 48, Tested: 85, Prediction: Norwegian Wikipedia, Actual: Japanese Wikipedia, Last-85 Accuracy: 0.424"
       ]
      },
      {
       "output_type": "stream",
       "stream": "stdout",
       "text": [
        "\n",
        "Trained: 49, Tested: 87, Prediction: French Wikipedia, Actual: Italian Wikipedia, Last-87 Accuracy: 0.425"
       ]
      },
      {
       "output_type": "stream",
       "stream": "stdout",
       "text": [
        "\n",
        "Trained: 50, Tested: 90, Prediction: Spanish Wikipedia, Actual: French Wikipedia, Last-90 Accuracy: 0.433"
       ]
      },
      {
       "output_type": "stream",
       "stream": "stdout",
       "text": [
        "\n",
        "Trained: 51, Tested: 91, Prediction: Russian Wikipedia, Actual: Ukrainian Wikipedia, Last-91 Accuracy: 0.429"
       ]
      },
      {
       "output_type": "stream",
       "stream": "stdout",
       "text": [
        "\n",
        "Trained: 52, Tested: 93, Prediction: French Wikipedia, Actual: Spanish Wikipedia, Last-93 Accuracy: 0.430"
       ]
      },
      {
       "output_type": "stream",
       "stream": "stdout",
       "text": [
        "\n",
        "Trained: 53, Tested: 94, Prediction: French Wikipedia, Actual: Italian Wikipedia, Last-94 Accuracy: 0.426"
       ]
      },
      {
       "output_type": "stream",
       "stream": "stdout",
       "text": [
        "\n",
        "Trained: 54, Tested: 95, Prediction: German Wikipedia, Actual: Chinese Wikipedia, Last-95 Accuracy: 0.421"
       ]
      },
      {
       "output_type": "stream",
       "stream": "stdout",
       "text": [
        "\n",
        "Trained: 55, Tested: 96, Prediction: French Wikipedia, Actual: Romanian Wikipedia, Last-96 Accuracy: 0.417"
       ]
      },
      {
       "output_type": "stream",
       "stream": "stdout",
       "text": [
        "\n",
        "Trained: 56, Tested: 98, Prediction: Portuguese Wikipedia, Actual: Spanish Wikipedia, Last-98 Accuracy: 0.418"
       ]
      },
      {
       "output_type": "stream",
       "stream": "stdout",
       "text": [
        "\n",
        "Trained: 57, Tested: 106, Prediction: Portuguese Wikipedia, Actual: Chinese Wikipedia, Last-106 Accuracy: 0.453"
       ]
      },
      {
       "output_type": "stream",
       "stream": "stdout",
       "text": [
        "\n",
        "Trained: 58, Tested: 107, Prediction: Chinese Wikipedia, Actual: Italian Wikipedia, Last-107 Accuracy: 0.449"
       ]
      },
      {
       "output_type": "stream",
       "stream": "stdout",
       "text": [
        "\n",
        "Trained: 59, Tested: 108, Prediction: Italian Wikipedia, Actual: Portuguese Wikipedia, Last-108 Accuracy: 0.444"
       ]
      },
      {
       "output_type": "stream",
       "stream": "stdout",
       "text": [
        "\n",
        "Trained: 60, Tested: 111, Prediction: German Wikipedia, Actual: Italian Wikipedia, Last-111 Accuracy: 0.450"
       ]
      },
      {
       "output_type": "stream",
       "stream": "stdout",
       "text": [
        "\n",
        "Trained: 61, Tested: 112, Prediction: Spanish Wikipedia, Actual: Hungarian Wikipedia, Last-112 Accuracy: 0.446"
       ]
      },
      {
       "output_type": "stream",
       "stream": "stdout",
       "text": [
        "\n",
        "Trained: 62, Tested: 114, Prediction: Italian Wikipedia, Actual: French Wikipedia, Last-114 Accuracy: 0.447"
       ]
      },
      {
       "output_type": "stream",
       "stream": "stdout",
       "text": [
        "\n",
        "Trained: 63, Tested: 116, Prediction: Italian Wikipedia, Actual: French Wikipedia, Last-116 Accuracy: 0.448"
       ]
      },
      {
       "output_type": "stream",
       "stream": "stdout",
       "text": [
        "\n",
        "Trained: 64, Tested: 121, Prediction: French Wikipedia, Actual: Romanian Wikipedia, Last-121 Accuracy: 0.463"
       ]
      },
      {
       "output_type": "stream",
       "stream": "stdout",
       "text": [
        "\n",
        "Trained: 65, Tested: 124, Prediction: Italian Wikipedia, Actual: German Wikipedia, Last-124 Accuracy: 0.468"
       ]
      },
      {
       "output_type": "stream",
       "stream": "stdout",
       "text": [
        "\n",
        "Trained: 66, Tested: 127, Prediction: Portuguese Wikipedia, Actual: Spanish Wikipedia, Last-127 Accuracy: 0.472"
       ]
      },
      {
       "output_type": "stream",
       "stream": "stdout",
       "text": [
        "\n",
        "Trained: 67, Tested: 130, Prediction: German Wikipedia, Actual: Hungarian Wikipedia, Last-130 Accuracy: 0.477"
       ]
      },
      {
       "output_type": "stream",
       "stream": "stdout",
       "text": [
        "\n",
        "Trained: 68, Tested: 132, Prediction: Spanish Wikipedia, Actual: Chinese Wikipedia, Last-132 Accuracy: 0.477"
       ]
      },
      {
       "output_type": "stream",
       "stream": "stdout",
       "text": [
        "\n",
        "Trained: 69, Tested: 136, Prediction: Chinese Wikipedia, Actual: German Wikipedia, Last-136 Accuracy: 0.485"
       ]
      },
      {
       "output_type": "stream",
       "stream": "stdout",
       "text": [
        "\n",
        "Trained: 70, Tested: 138, Prediction: German Wikipedia, Actual: Hungarian Wikipedia, Last-138 Accuracy: 0.486"
       ]
      },
      {
       "output_type": "stream",
       "stream": "stdout",
       "text": [
        "\n",
        "Trained: 71, Tested: 147, Prediction: Spanish Wikipedia, Actual: Italian Wikipedia, Last-147 Accuracy: 0.510"
       ]
      },
      {
       "output_type": "stream",
       "stream": "stdout",
       "text": [
        "\n",
        "Trained: 72, Tested: 148, Prediction: Italian Wikipedia, Actual: French Wikipedia, Last-148 Accuracy: 0.507"
       ]
      },
      {
       "output_type": "stream",
       "stream": "stdout",
       "text": [
        "\n",
        "Trained: 73, Tested: 150, Prediction: Chinese Wikipedia, Actual: Portuguese Wikipedia, Last-150 Accuracy: 0.507"
       ]
      },
      {
       "output_type": "stream",
       "stream": "stdout",
       "text": [
        "\n",
        "Trained: 74, Tested: 152, Prediction: Spanish Wikipedia, Actual: Portuguese Wikipedia, Last-152 Accuracy: 0.507"
       ]
      },
      {
       "output_type": "stream",
       "stream": "stdout",
       "text": [
        "\n",
        "Trained: 75, Tested: 154, Prediction: Italian Wikipedia, Actual: Farsi Wikipedia, Last-154 Accuracy: 0.506"
       ]
      },
      {
       "output_type": "stream",
       "stream": "stdout",
       "text": [
        "\n",
        "Trained: 76, Tested: 157, Prediction: Spanish Wikipedia, Actual: French Wikipedia, Last-157 Accuracy: 0.510"
       ]
      },
      {
       "output_type": "stream",
       "stream": "stdout",
       "text": [
        "\n",
        "Trained: 77, Tested: 169, Prediction: Portuguese Wikipedia, Actual: Spanish Wikipedia, Last-169 Accuracy: 0.538"
       ]
      },
      {
       "output_type": "stream",
       "stream": "stdout",
       "text": [
        "\n",
        "Trained: 78, Tested: 175, Prediction: Chinese Wikipedia, Actual: Arabic Wikipedia, Last-175 Accuracy: 0.549"
       ]
      },
      {
       "output_type": "stream",
       "stream": "stdout",
       "text": [
        "\n",
        "Trained: 79, Tested: 177, Prediction: Spanish Wikipedia, Actual: Japanese Wikipedia, Last-177 Accuracy: 0.548"
       ]
      },
      {
       "output_type": "stream",
       "stream": "stdout",
       "text": [
        "\n",
        "Trained: 80, Tested: 179, Prediction: Italian Wikipedia, Actual: Dutch Wikipedia, Last-179 Accuracy: 0.547"
       ]
      },
      {
       "output_type": "stream",
       "stream": "stdout",
       "text": [
        "\n",
        "Trained: 81, Tested: 180, Prediction: Portuguese Wikipedia, Actual: Italian Wikipedia, Last-180 Accuracy: 0.544"
       ]
      },
      {
       "output_type": "stream",
       "stream": "stdout",
       "text": [
        "\n",
        "Trained: 82, Tested: 181, Prediction: French Wikipedia, Actual: Portuguese Wikipedia, Last-181 Accuracy: 0.541"
       ]
      },
      {
       "output_type": "stream",
       "stream": "stdout",
       "text": [
        "\n",
        "Trained: 83, Tested: 183, Prediction: French Wikipedia, Actual: Chinese Wikipedia, Last-183 Accuracy: 0.541"
       ]
      },
      {
       "output_type": "stream",
       "stream": "stdout",
       "text": [
        "\n",
        "Trained: 84, Tested: 186, Prediction: French Wikipedia, Actual: Spanish Wikipedia, Last-186 Accuracy: 0.543"
       ]
      },
      {
       "output_type": "stream",
       "stream": "stdout",
       "text": [
        "\n",
        "Trained: 85, Tested: 187, Prediction: French Wikipedia, Actual: Spanish Wikipedia, Last-187 Accuracy: 0.540\n",
        "Trained: 86, Tested: 194, Prediction: French Wikipedia, Actual: Portuguese Wikipedia, Last-194 Accuracy: 0.552"
       ]
      },
      {
       "output_type": "stream",
       "stream": "stdout",
       "text": [
        "\n",
        "Trained: 87, Tested: 195, Prediction: Portuguese Wikipedia, Actual: Italian Wikipedia, Last-195 Accuracy: 0.549\n",
        "Trained: 88, Tested: 202, Prediction: Portuguese Wikipedia, Actual: Norwegian Wikipedia, Last-202 Accuracy: 0.559"
       ]
      },
      {
       "output_type": "stream",
       "stream": "stdout",
       "text": [
        "\n",
        "Trained: 89, Tested: 204, Prediction: Spanish Wikipedia, Actual: Portuguese Wikipedia, Last-204 Accuracy: 0.559\n",
        "Trained: 90, Tested: 207, Prediction: Spanish Wikipedia, Actual: Portuguese Wikipedia, Last-207 Accuracy: 0.560"
       ]
      },
      {
       "output_type": "stream",
       "stream": "stdout",
       "text": [
        "\n",
        "Trained: 91, Tested: 209, Prediction: Portuguese Wikipedia, Actual: Catalan Wikipedia, Last-209 Accuracy: 0.560"
       ]
      },
      {
       "output_type": "stream",
       "stream": "stdout",
       "text": [
        "\n",
        "Trained: 92, Tested: 210, Prediction: Italian Wikipedia, Actual: Portuguese Wikipedia, Last-210 Accuracy: 0.557"
       ]
      },
      {
       "output_type": "stream",
       "stream": "stdout",
       "text": [
        "\n",
        "Trained: 93, Tested: 214, Prediction: Catalan Wikipedia, Actual: Arabic Wikipedia, Last-214 Accuracy: 0.561"
       ]
      },
      {
       "output_type": "stream",
       "stream": "stdout",
       "text": [
        "\n",
        "Trained: 94, Tested: 216, Prediction: Portuguese Wikipedia, Actual: French Wikipedia, Last-216 Accuracy: 0.560"
       ]
      },
      {
       "output_type": "stream",
       "stream": "stdout",
       "text": [
        "\n",
        "Trained: 95, Tested: 219, Prediction: French Wikipedia, Actual: Italian Wikipedia, Last-219 Accuracy: 0.562"
       ]
      },
      {
       "output_type": "stream",
       "stream": "stdout",
       "text": [
        "\n",
        "Trained: 96, Tested: 220, Prediction: Spanish Wikipedia, Actual: Vietnamese Wikipedia, Last-220 Accuracy: 0.559"
       ]
      },
      {
       "output_type": "stream",
       "stream": "stdout",
       "text": [
        "\n",
        "Trained: 97, Tested: 244, Prediction: Italian Wikipedia, Actual: French Wikipedia, Last-244 Accuracy: 0.598"
       ]
      },
      {
       "output_type": "stream",
       "stream": "stdout",
       "text": [
        "\n",
        "Trained: 98, Tested: 247, Prediction: Italian Wikipedia, Actual: Hebrew Wikipedia, Last-247 Accuracy: 0.599"
       ]
      },
      {
       "output_type": "stream",
       "stream": "stdout",
       "text": [
        "\n",
        "Trained: 99, Tested: 250, Prediction: Italian Wikipedia, Actual: Japanese Wikipedia, Last-250 Accuracy: 0.600"
       ]
      },
      {
       "output_type": "stream",
       "stream": "stdout",
       "text": [
        "\n",
        "Trained: 100, Tested: 252, Prediction: French Wikipedia, Actual: German Wikipedia, Last-252 Accuracy: 0.599"
       ]
      },
      {
       "output_type": "stream",
       "stream": "stdout",
       "text": [
        "\n",
        "Trained: 101, Tested: 253, Prediction: Catalan Wikipedia, Actual: Korean Wikipedia, Last-253 Accuracy: 0.597"
       ]
      },
      {
       "output_type": "stream",
       "stream": "stdout",
       "text": [
        "\n",
        "Trained: 102, Tested: 256, Prediction: French Wikipedia, Actual: Slovak Wikipedia, Last-256 Accuracy: 0.598"
       ]
      },
      {
       "output_type": "stream",
       "stream": "stdout",
       "text": [
        "\n",
        "Trained: 103, Tested: 258, Prediction: French Wikipedia, Actual: German Wikipedia, Last-258 Accuracy: 0.597"
       ]
      },
      {
       "output_type": "stream",
       "stream": "stdout",
       "text": [
        "\n",
        "Trained: 104, Tested: 264, Prediction: Ukrainian Wikipedia, Actual: Russian Wikipedia, Last-264 Accuracy: 0.602"
       ]
      },
      {
       "output_type": "stream",
       "stream": "stdout",
       "text": [
        "\n",
        "Trained: 105, Tested: 267, Prediction: Italian Wikipedia, Actual: Indonesian Wikipedia, Last-267 Accuracy: 0.603"
       ]
      },
      {
       "output_type": "stream",
       "stream": "stdout",
       "text": [
        "\n",
        "Trained: 106, Tested: 268, Prediction: Portuguese Wikipedia, Actual: Spanish Wikipedia, Last-268 Accuracy: 0.601\n",
        "Trained: 107, Tested: 274, Prediction: German Wikipedia, Actual: Korean Wikipedia, Last-274 Accuracy: 0.606"
       ]
      },
      {
       "output_type": "stream",
       "stream": "stdout",
       "text": [
        "\n",
        "Trained: 108, Tested: 276, Prediction: Italian Wikipedia, Actual: Hungarian Wikipedia, Last-276 Accuracy: 0.605"
       ]
      },
      {
       "output_type": "stream",
       "stream": "stdout",
       "text": [
        "\n",
        "Trained: 109, Tested: 283, Prediction: Spanish Wikipedia, Actual: Indonesian Wikipedia, Last-283 Accuracy: 0.611"
       ]
      },
      {
       "output_type": "stream",
       "stream": "stdout",
       "text": [
        "\n",
        "Trained: 110, Tested: 291, Prediction: Spanish Wikipedia, Actual: French Wikipedia, Last-291 Accuracy: 0.619"
       ]
      },
      {
       "output_type": "stream",
       "stream": "stdout",
       "text": [
        "\n",
        "Trained: 111, Tested: 294, Prediction: Hungarian Wikipedia, Actual: Czech Wikipedia, Last-294 Accuracy: 0.619"
       ]
      },
      {
       "output_type": "stream",
       "stream": "stdout",
       "text": [
        "\n",
        "Trained: 112, Tested: 295, Prediction: Indonesian Wikipedia, Actual: Arabic Wikipedia, Last-295 Accuracy: 0.617"
       ]
      },
      {
       "output_type": "stream",
       "stream": "stdout",
       "text": [
        "\n",
        "Trained: 113, Tested: 297, Prediction: Spanish Wikipedia, Actual: German Wikipedia, Last-297 Accuracy: 0.616"
       ]
      },
      {
       "output_type": "stream",
       "stream": "stdout",
       "text": [
        "\n",
        "Trained: 114, Tested: 304, Prediction: Hungarian Wikipedia, Actual: German Wikipedia, Last-304 Accuracy: 0.622"
       ]
      },
      {
       "output_type": "stream",
       "stream": "stdout",
       "text": [
        "\n",
        "Trained: 115, Tested: 305, Prediction: Spanish Wikipedia, Actual: Portuguese Wikipedia, Last-305 Accuracy: 0.620"
       ]
      },
      {
       "output_type": "stream",
       "stream": "stdout",
       "text": [
        "\n",
        "Trained: 116, Tested: 309, Prediction: Russian Wikipedia, Actual: Bulgarian Wikipedia, Last-309 Accuracy: 0.621"
       ]
      },
      {
       "output_type": "stream",
       "stream": "stdout",
       "text": [
        "\n",
        "Trained: 117, Tested: 316, Prediction: Spanish Wikipedia, Actual: Portuguese Wikipedia, Last-316 Accuracy: 0.627"
       ]
      },
      {
       "output_type": "stream",
       "stream": "stdout",
       "text": [
        "\n",
        "Trained: 118, Tested: 339, Prediction: German Wikipedia, Actual: Japanese Wikipedia, Last-339 Accuracy: 0.649"
       ]
      },
      {
       "output_type": "stream",
       "stream": "stdout",
       "text": [
        "\n",
        "Trained: 119, Tested: 344, Prediction: Portuguese Wikipedia, Actual: Spanish Wikipedia, Last-344 Accuracy: 0.651"
       ]
      },
      {
       "output_type": "stream",
       "stream": "stdout",
       "text": [
        "\n",
        "Trained: 120, Tested: 348, Prediction: Italian Wikipedia, Actual: Slovak Wikipedia, Last-348 Accuracy: 0.652"
       ]
      },
      {
       "output_type": "stream",
       "stream": "stdout",
       "text": [
        "\n",
        "Trained: 121, Tested: 351, Prediction: German Wikipedia, Actual: Italian Wikipedia, Last-351 Accuracy: 0.652"
       ]
      },
      {
       "output_type": "stream",
       "stream": "stdout",
       "text": [
        "\n",
        "Trained: 122, Tested: 358, Prediction: Spanish Wikipedia, Actual: Chinese Wikipedia, Last-358 Accuracy: 0.656"
       ]
      },
      {
       "output_type": "stream",
       "stream": "stdout",
       "text": [
        "\n",
        "Trained: 123, Tested: 366, Prediction: French Wikipedia, Actual: Japanese Wikipedia, Last-366 Accuracy: 0.661"
       ]
      },
      {
       "output_type": "stream",
       "stream": "stdout",
       "text": [
        "\n",
        "Trained: 124, Tested: 368, Prediction: Spanish Wikipedia, Actual: Portuguese Wikipedia, Last-368 Accuracy: 0.660"
       ]
      },
      {
       "output_type": "stream",
       "stream": "stdout",
       "text": [
        "\n",
        "Trained: 125, Tested: 371, Prediction: Portuguese Wikipedia, Actual: Spanish Wikipedia, Last-371 Accuracy: 0.660"
       ]
      },
      {
       "output_type": "stream",
       "stream": "stdout",
       "text": [
        "\n",
        "Trained: 126, Tested: 390, Prediction: German Wikipedia, Actual: French Wikipedia, Last-390 Accuracy: 0.674"
       ]
      },
      {
       "output_type": "stream",
       "stream": "stdout",
       "text": [
        "\n",
        "Trained: 127, Tested: 393, Prediction: Portuguese Wikipedia, Actual: Danish Wikipedia, Last-393 Accuracy: 0.674"
       ]
      },
      {
       "output_type": "stream",
       "stream": "stdout",
       "text": [
        "\n",
        "Trained: 128, Tested: 400, Prediction: Spanish Wikipedia, Actual: Chinese Wikipedia, Last-400 Accuracy: 0.677"
       ]
      },
      {
       "output_type": "stream",
       "stream": "stdout",
       "text": [
        "\n",
        "Trained: 129, Tested: 402, Prediction: Portuguese Wikipedia, Actual: Danish Wikipedia, Last-402 Accuracy: 0.677"
       ]
      },
      {
       "output_type": "stream",
       "stream": "stdout",
       "text": [
        "\n",
        "Trained: 130, Tested: 403, Prediction: Portuguese Wikipedia, Actual: Spanish Wikipedia, Last-403 Accuracy: 0.675"
       ]
      },
      {
       "output_type": "stream",
       "stream": "stdout",
       "text": [
        "\n",
        "Trained: 131, Tested: 409, Prediction: Portuguese Wikipedia, Actual: Danish Wikipedia, Last-409 Accuracy: 0.677"
       ]
      },
      {
       "output_type": "stream",
       "stream": "stdout",
       "text": [
        "\n",
        "Trained: 132, Tested: 419, Prediction: Portuguese Wikipedia, Actual: Danish Wikipedia, Last-419 Accuracy: 0.683"
       ]
      },
      {
       "output_type": "stream",
       "stream": "stdout",
       "text": [
        "\n",
        "Trained: 133, Tested: 429, Prediction: Spanish Wikipedia, Actual: Catalan Wikipedia, Last-429 Accuracy: 0.688"
       ]
      },
      {
       "output_type": "stream",
       "stream": "stdout",
       "text": [
        "\n",
        "Trained: 134, Tested: 430, Prediction: Portuguese Wikipedia, Actual: Spanish Wikipedia, Last-430 Accuracy: 0.686\n",
        "Trained: 135, Tested: 434, Prediction: Spanish Wikipedia, Actual: Portuguese Wikipedia, Last-434 Accuracy: 0.687"
       ]
      },
      {
       "output_type": "stream",
       "stream": "stdout",
       "text": [
        "\n",
        "Trained: 136, Tested: 460, Prediction: Spanish Wikipedia, Actual: German Wikipedia, Last-460 Accuracy: 0.702"
       ]
      },
      {
       "output_type": "stream",
       "stream": "stdout",
       "text": [
        "\n",
        "Trained: 137, Tested: 462, Prediction: Italian Wikipedia, Actual: Turkish Wikipedia, Last-462 Accuracy: 0.701"
       ]
      },
      {
       "output_type": "stream",
       "stream": "stdout",
       "text": [
        "\n",
        "Trained: 138, Tested: 463, Prediction: German Wikipedia, Actual: French Wikipedia, Last-463 Accuracy: 0.700"
       ]
      },
      {
       "output_type": "stream",
       "stream": "stdout",
       "text": [
        "\n",
        "Trained: 139, Tested: 465, Prediction: Arabic Wikipedia, Actual: Farsi Wikipedia, Last-465 Accuracy: 0.699"
       ]
      },
      {
       "output_type": "stream",
       "stream": "stdout",
       "text": [
        "\n",
        "Trained: 140, Tested: 476, Prediction: Spanish Wikipedia, Actual: Portuguese Wikipedia, Last-476 Accuracy: 0.704"
       ]
      },
      {
       "output_type": "stream",
       "stream": "stdout",
       "text": [
        "\n",
        "Trained: 141, Tested: 481, Prediction: Spanish Wikipedia, Actual: French Wikipedia, Last-481 Accuracy: 0.705"
       ]
      },
      {
       "output_type": "stream",
       "stream": "stdout",
       "text": [
        "\n",
        "Trained: 142, Tested: 483, Prediction: Spanish Wikipedia, Actual: Japanese Wikipedia, Last-483 Accuracy: 0.704"
       ]
      },
      {
       "output_type": "stream",
       "stream": "stdout",
       "text": [
        "\n",
        "Trained: 143, Tested: 486, Prediction: Spanish Wikipedia, Actual: Dutch Wikipedia, Last-486 Accuracy: 0.704"
       ]
      },
      {
       "output_type": "stream",
       "stream": "stdout",
       "text": [
        "\n",
        "Trained: 144, Tested: 489, Prediction: Slovak Wikipedia, Actual: Japanese Wikipedia, Last-489 Accuracy: 0.703"
       ]
      },
      {
       "output_type": "stream",
       "stream": "stdout",
       "text": [
        "\n",
        "Trained: 145, Tested: 500, Prediction: Spanish Wikipedia, Actual: German Wikipedia, Last-500 Accuracy: 0.708"
       ]
      },
      {
       "output_type": "stream",
       "stream": "stdout",
       "text": [
        "\n",
        "Trained: 146, Tested: 500, Prediction: Spanish Wikipedia, Actual: Italian Wikipedia, Last-500 Accuracy: 0.712"
       ]
      },
      {
       "output_type": "stream",
       "stream": "stdout",
       "text": [
        "\n",
        "Trained: 147, Tested: 500, Prediction: Spanish Wikipedia, Actual: Portuguese Wikipedia, Last-500 Accuracy: 0.712"
       ]
      },
      {
       "output_type": "stream",
       "stream": "stdout",
       "text": [
        "\n",
        "Trained: 148, Tested: 500, Prediction: Portuguese Wikipedia, Actual: Spanish Wikipedia, Last-500 Accuracy: 0.714"
       ]
      },
      {
       "output_type": "stream",
       "stream": "stdout",
       "text": [
        "\n",
        "Trained: 149, Tested: 500, Prediction: French Wikipedia, Actual: Portuguese Wikipedia, Last-500 Accuracy: 0.716"
       ]
      },
      {
       "output_type": "stream",
       "stream": "stdout",
       "text": [
        "\n",
        "Trained: 150, Tested: 500, Prediction: Portuguese Wikipedia, Actual: Spanish Wikipedia, Last-500 Accuracy: 0.718"
       ]
      },
      {
       "output_type": "stream",
       "stream": "stdout",
       "text": [
        "\n",
        "Trained: 151, Tested: 500, Prediction: Spanish Wikipedia, Actual: Hungarian Wikipedia, Last-500 Accuracy: 0.720"
       ]
      },
      {
       "output_type": "stream",
       "stream": "stdout",
       "text": [
        "\n",
        "Trained: 152, Tested: 500, Prediction: Spanish Wikipedia, Actual: Portuguese Wikipedia, Last-500 Accuracy: 0.740"
       ]
      },
      {
       "output_type": "stream",
       "stream": "stdout",
       "text": [
        "\n",
        "Trained: 153, Tested: 500, Prediction: Portuguese Wikipedia, Actual: Spanish Wikipedia, Last-500 Accuracy: 0.740"
       ]
      },
      {
       "output_type": "stream",
       "stream": "stdout",
       "text": [
        "\n",
        "Trained: 154, Tested: 500, Prediction: Italian Wikipedia, Actual: Turkish Wikipedia, Last-500 Accuracy: 0.748"
       ]
      },
      {
       "output_type": "stream",
       "stream": "stdout",
       "text": [
        "\n",
        "Trained: 155, Tested: 500, Prediction: Spanish Wikipedia, Actual: Portuguese Wikipedia, Last-500 Accuracy: 0.752"
       ]
      },
      {
       "output_type": "stream",
       "stream": "stdout",
       "text": [
        "\n",
        "Trained: 156, Tested: 500, Prediction: Spanish Wikipedia, Actual: Russian Wikipedia, Last-500 Accuracy: 0.754"
       ]
      },
      {
       "output_type": "stream",
       "stream": "stdout",
       "text": [
        "\n",
        "Trained: 157, Tested: 500, Prediction: Spanish Wikipedia, Actual: Portuguese Wikipedia, Last-500 Accuracy: 0.764"
       ]
      },
      {
       "output_type": "stream",
       "stream": "stdout",
       "text": [
        "\n",
        "Trained: 158, Tested: 500, Prediction: Spanish Wikipedia, Actual: Portuguese Wikipedia, Last-500 Accuracy: 0.764"
       ]
      },
      {
       "output_type": "stream",
       "stream": "stdout",
       "text": [
        "\n",
        "Trained: 159, Tested: 500, Prediction: Italian Wikipedia, Actual: German Wikipedia, Last-500 Accuracy: 0.770"
       ]
      },
      {
       "output_type": "stream",
       "stream": "stdout",
       "text": [
        "\n",
        "Trained: 160, Tested: 500, Prediction: Portuguese Wikipedia, Actual: Italian Wikipedia, Last-500 Accuracy: 0.770\n",
        "Trained: 161, Tested: 500, Prediction: Portuguese Wikipedia, Actual: Arabic Wikipedia, Last-500 Accuracy: 0.772"
       ]
      },
      {
       "output_type": "stream",
       "stream": "stdout",
       "text": [
        "\n",
        "Trained: 162, Tested: 500, Prediction: Portuguese Wikipedia, Actual: Catalan Wikipedia, Last-500 Accuracy: 0.772"
       ]
      },
      {
       "output_type": "stream",
       "stream": "stdout",
       "text": [
        "\n",
        "Trained: 163, Tested: 500, Prediction: Spanish Wikipedia, Actual: French Wikipedia, Last-500 Accuracy: 0.780"
       ]
      },
      {
       "output_type": "stream",
       "stream": "stdout",
       "text": [
        "\n",
        "Trained: 164, Tested: 500, Prediction: Portuguese Wikipedia, Actual: Polish Wikipedia, Last-500 Accuracy: 0.784"
       ]
      },
      {
       "output_type": "stream",
       "stream": "stdout",
       "text": [
        "\n",
        "Trained: 165, Tested: 500, Prediction: Portuguese Wikipedia, Actual: Hungarian Wikipedia, Last-500 Accuracy: 0.782"
       ]
      },
      {
       "output_type": "stream",
       "stream": "stdout",
       "text": [
        "\n",
        "Trained: 166, Tested: 500, Prediction: Portuguese Wikipedia, Actual: Spanish Wikipedia, Last-500 Accuracy: 0.792"
       ]
      },
      {
       "output_type": "stream",
       "stream": "stdout",
       "text": [
        "\n",
        "Trained: 167, Tested: 500, Prediction: German Wikipedia, Actual: Dutch Wikipedia, Last-500 Accuracy: 0.794"
       ]
      },
      {
       "output_type": "stream",
       "stream": "stdout",
       "text": [
        "\n",
        "Trained: 168, Tested: 500, Prediction: French Wikipedia, Actual: Spanish Wikipedia, Last-500 Accuracy: 0.802"
       ]
      },
      {
       "output_type": "stream",
       "stream": "stdout",
       "text": [
        "\n",
        "Trained: 169, Tested: 500, Prediction: Spanish Wikipedia, Actual: Portuguese Wikipedia, Last-500 Accuracy: 0.802"
       ]
      },
      {
       "output_type": "stream",
       "stream": "stdout",
       "text": [
        "\n",
        "Trained: 170, Tested: 500, Prediction: Spanish Wikipedia, Actual: French Wikipedia, Last-500 Accuracy: 0.808"
       ]
      },
      {
       "output_type": "stream",
       "stream": "stdout",
       "text": [
        "\n",
        "Trained: 171, Tested: 500, Prediction: Portuguese Wikipedia, Actual: Spanish Wikipedia, Last-500 Accuracy: 0.806\n",
        "Trained: 172, Tested: 500, Prediction: Spanish Wikipedia, Actual: Swedish Wikipedia, Last-500 Accuracy: 0.808"
       ]
      },
      {
       "output_type": "stream",
       "stream": "stdout",
       "text": [
        "\n",
        "Trained: 173, Tested: 500, Prediction: Spanish Wikipedia, Actual: German Wikipedia, Last-500 Accuracy: 0.806"
       ]
      },
      {
       "output_type": "stream",
       "stream": "stdout",
       "text": [
        "\n",
        "Trained: 174, Tested: 500, Prediction: Portuguese Wikipedia, Actual: Italian Wikipedia, Last-500 Accuracy: 0.804\n",
        "Trained: 175, Tested: 500, Prediction: French Wikipedia, Actual: Portuguese Wikipedia, Last-500 Accuracy: 0.802"
       ]
      },
      {
       "output_type": "stream",
       "stream": "stdout",
       "text": [
        "\n",
        "Trained: 176, Tested: 500, Prediction: Spanish Wikipedia, Actual: Portuguese Wikipedia, Last-500 Accuracy: 0.800"
       ]
      },
      {
       "output_type": "stream",
       "stream": "stdout",
       "text": [
        "\n",
        "Trained: 177, Tested: 500, Prediction: Spanish Wikipedia, Actual: Italian Wikipedia, Last-500 Accuracy: 0.812"
       ]
      },
      {
       "output_type": "stream",
       "stream": "stdout",
       "text": [
        "\n",
        "Trained: 178, Tested: 500, Prediction: French Wikipedia, Actual: Spanish Wikipedia, Last-500 Accuracy: 0.818"
       ]
      },
      {
       "output_type": "stream",
       "stream": "stdout",
       "text": [
        "\n",
        "Trained: 179, Tested: 500, Prediction: Spanish Wikipedia, Actual: Chinese Wikipedia, Last-500 Accuracy: 0.826"
       ]
      },
      {
       "output_type": "stream",
       "stream": "stdout",
       "text": [
        "\n",
        "Trained: 180, Tested: 500, Prediction: Portuguese Wikipedia, Actual: Spanish Wikipedia, Last-500 Accuracy: 0.824"
       ]
      },
      {
       "output_type": "stream",
       "stream": "stdout",
       "text": [
        "\n",
        "Trained: 181, Tested: 500, Prediction: Russian Wikipedia, Actual: Ukrainian Wikipedia, Last-500 Accuracy: 0.824"
       ]
      },
      {
       "output_type": "stream",
       "stream": "stdout",
       "text": [
        "\n",
        "Trained: 182, Tested: 500, Prediction: Spanish Wikipedia, Actual: French Wikipedia, Last-500 Accuracy: 0.824"
       ]
      },
      {
       "output_type": "stream",
       "stream": "stdout",
       "text": [
        "\n",
        "Trained: 183, Tested: 500, Prediction: Portuguese Wikipedia, Actual: Norwegian Wikipedia, Last-500 Accuracy: 0.826"
       ]
      },
      {
       "output_type": "stream",
       "stream": "stdout",
       "text": [
        "\n",
        "Trained: 184, Tested: 500, Prediction: Spanish Wikipedia, Actual: Italian Wikipedia, Last-500 Accuracy: 0.824"
       ]
      },
      {
       "output_type": "stream",
       "stream": "stdout",
       "text": [
        "\n",
        "Trained: 185, Tested: 500, Prediction: French Wikipedia, Actual: Italian Wikipedia, Last-500 Accuracy: 0.828"
       ]
      },
      {
       "output_type": "stream",
       "stream": "stdout",
       "text": [
        "\n",
        "Trained: 186, Tested: 500, Prediction: Italian Wikipedia, Actual: Dutch Wikipedia, Last-500 Accuracy: 0.828"
       ]
      },
      {
       "output_type": "stream",
       "stream": "stdout",
       "text": [
        "\n",
        "Trained: 187, Tested: 500, Prediction: Spanish Wikipedia, Actual: Portuguese Wikipedia, Last-500 Accuracy: 0.830"
       ]
      },
      {
       "output_type": "stream",
       "stream": "stdout",
       "text": [
        "\n",
        "Trained: 188, Tested: 500, Prediction: French Wikipedia, Actual: Spanish Wikipedia, Last-500 Accuracy: 0.828"
       ]
      },
      {
       "output_type": "stream",
       "stream": "stdout",
       "text": [
        "\n",
        "Trained: 189, Tested: 500, Prediction: Portuguese Wikipedia, Actual: Norwegian Wikipedia, Last-500 Accuracy: 0.828"
       ]
      },
      {
       "output_type": "stream",
       "stream": "stdout",
       "text": [
        "\n",
        "Trained: 190, Tested: 500, Prediction: French Wikipedia, Actual: Portuguese Wikipedia, Last-500 Accuracy: 0.842"
       ]
      },
      {
       "output_type": "stream",
       "stream": "stdout",
       "text": [
        "\n",
        "Trained: 191, Tested: 500, Prediction: Portuguese Wikipedia, Actual: Finnish Wikipedia, Last-500 Accuracy: 0.844"
       ]
      },
      {
       "output_type": "stream",
       "stream": "stdout",
       "text": [
        "\n",
        "Trained: 192, Tested: 500, Prediction: Spanish Wikipedia, Actual: Turkish Wikipedia, Last-500 Accuracy: 0.846"
       ]
      },
      {
       "output_type": "stream",
       "stream": "stdout",
       "text": [
        "\n",
        "Trained: 193, Tested: 500, Prediction: Spanish Wikipedia, Actual: German Wikipedia, Last-500 Accuracy: 0.848"
       ]
      },
      {
       "output_type": "stream",
       "stream": "stdout",
       "text": [
        "\n",
        "Trained: 194, Tested: 500, Prediction: French Wikipedia, Actual: German Wikipedia, Last-500 Accuracy: 0.848"
       ]
      },
      {
       "output_type": "stream",
       "stream": "stdout",
       "text": [
        "\n",
        "Trained: 195, Tested: 500, Prediction: Spanish Wikipedia, Actual: French Wikipedia, Last-500 Accuracy: 0.846"
       ]
      },
      {
       "output_type": "stream",
       "stream": "stdout",
       "text": [
        "\n",
        "Trained: 196, Tested: 500, Prediction: Spanish Wikipedia, Actual: Chinese Wikipedia, Last-500 Accuracy: 0.856"
       ]
      },
      {
       "output_type": "stream",
       "stream": "stdout",
       "text": [
        "\n",
        "Trained: 197, Tested: 500, Prediction: German Wikipedia, Actual: Chinese Wikipedia, Last-500 Accuracy: 0.854\n",
        "Trained: 198, Tested: 500, Prediction: Spanish Wikipedia, Actual: Chinese Wikipedia, Last-500 Accuracy: 0.854"
       ]
      },
      {
       "output_type": "stream",
       "stream": "stdout",
       "text": [
        "\n",
        "Trained: 199, Tested: 500, Prediction: Ukrainian Wikipedia, Actual: Russian Wikipedia, Last-500 Accuracy: 0.852"
       ]
      },
      {
       "output_type": "stream",
       "stream": "stdout",
       "text": [
        "\n",
        "Trained: 200, Tested: 500, Prediction: Spanish Wikipedia, Actual: Chinese Wikipedia, Last-500 Accuracy: 0.850"
       ]
      },
      {
       "output_type": "stream",
       "stream": "stdout",
       "text": [
        "\n",
        "Trained: 201, Tested: 500, Prediction: French Wikipedia, Actual: Portuguese Wikipedia, Last-500 Accuracy: 0.848"
       ]
      },
      {
       "output_type": "stream",
       "stream": "stdout",
       "text": [
        "\n",
        "Trained: 202, Tested: 500, Prediction: Spanish Wikipedia, Actual: Turkish Wikipedia, Last-500 Accuracy: 0.846"
       ]
      },
      {
       "output_type": "stream",
       "stream": "stdout",
       "text": [
        "\n",
        "Trained: 203, Tested: 500, Prediction: Chinese Wikipedia, Actual: Japanese Wikipedia, Last-500 Accuracy: 0.848"
       ]
      },
      {
       "output_type": "stream",
       "stream": "stdout",
       "text": [
        "\n",
        "Trained: 204, Tested: 500, Prediction: Chinese Wikipedia, Actual: Spanish Wikipedia, Last-500 Accuracy: 0.846\n",
        "Trained: 205, Tested: 500, Prediction: Spanish Wikipedia, Actual: Portuguese Wikipedia, Last-500 Accuracy: 0.846"
       ]
      },
      {
       "output_type": "stream",
       "stream": "stdout",
       "text": [
        "\n",
        "Trained: 206, Tested: 500, Prediction: Spanish Wikipedia, Actual: Portuguese Wikipedia, Last-500 Accuracy: 0.850"
       ]
      },
      {
       "output_type": "stream",
       "stream": "stdout",
       "text": [
        "\n",
        "Trained: 207, Tested: 500, Prediction: Portuguese Wikipedia, Actual: Turkish Wikipedia, Last-500 Accuracy: 0.848"
       ]
      },
      {
       "output_type": "stream",
       "stream": "stdout",
       "text": [
        "\n",
        "Trained: 208, Tested: 500, Prediction: German Wikipedia, Actual: Danish Wikipedia, Last-500 Accuracy: 0.848"
       ]
      },
      {
       "output_type": "stream",
       "stream": "stdout",
       "text": [
        "\n",
        "Trained: 209, Tested: 500, Prediction: Italian Wikipedia, Actual: Finnish Wikipedia, Last-500 Accuracy: 0.846"
       ]
      },
      {
       "output_type": "stream",
       "stream": "stdout",
       "text": [
        "\n",
        "Trained: 210, Tested: 500, Prediction: Turkish Wikipedia, Actual: Finnish Wikipedia, Last-500 Accuracy: 0.848"
       ]
      },
      {
       "output_type": "stream",
       "stream": "stdout",
       "text": [
        "\n",
        "Trained: 211, Tested: 500, Prediction: German Wikipedia, Actual: Spanish Wikipedia, Last-500 Accuracy: 0.848"
       ]
      },
      {
       "output_type": "stream",
       "stream": "stdout",
       "text": [
        "\n",
        "Trained: 212, Tested: 500, Prediction: Spanish Wikipedia, Actual: Portuguese Wikipedia, Last-500 Accuracy: 0.848"
       ]
      },
      {
       "output_type": "stream",
       "stream": "stdout",
       "text": [
        "\n",
        "Trained: 213, Tested: 500, Prediction: Portuguese Wikipedia, Actual: Chinese Wikipedia, Last-500 Accuracy: 0.852"
       ]
      },
      {
       "output_type": "stream",
       "stream": "stdout",
       "text": [
        "\n",
        "Trained: 214, Tested: 500, Prediction: Portuguese Wikipedia, Actual: Spanish Wikipedia, Last-500 Accuracy: 0.850"
       ]
      },
      {
       "output_type": "stream",
       "stream": "stdout",
       "text": [
        "\n",
        "Trained: 215, Tested: 500, Prediction: Chinese Wikipedia, Actual: Ukrainian Wikipedia, Last-500 Accuracy: 0.850"
       ]
      },
      {
       "output_type": "stream",
       "stream": "stdout",
       "text": [
        "\n",
        "Trained: 216, Tested: 500, Prediction: Chinese Wikipedia, Actual: Dutch Wikipedia, Last-500 Accuracy: 0.854"
       ]
      },
      {
       "output_type": "stream",
       "stream": "stdout",
       "text": [
        "\n",
        "Trained: 217, Tested: 500, Prediction: Portuguese Wikipedia, Actual: Spanish Wikipedia, Last-500 Accuracy: 0.854"
       ]
      },
      {
       "output_type": "stream",
       "stream": "stdout",
       "text": [
        "\n",
        "Trained: 218, Tested: 500, Prediction: Italian Wikipedia, Actual: Japanese Wikipedia, Last-500 Accuracy: 0.852"
       ]
      },
      {
       "output_type": "stream",
       "stream": "stdout",
       "text": [
        "\n",
        "Trained: 219, Tested: 500, Prediction: Spanish Wikipedia, Actual: Portuguese Wikipedia, Last-500 Accuracy: 0.850"
       ]
      },
      {
       "output_type": "stream",
       "stream": "stdout",
       "text": [
        "\n",
        "Trained: 220, Tested: 500, Prediction: Portuguese Wikipedia, Actual: Dutch Wikipedia, Last-500 Accuracy: 0.848"
       ]
      },
      {
       "output_type": "stream",
       "stream": "stdout",
       "text": [
        "\n",
        "Trained: 221, Tested: 500, Prediction: Spanish Wikipedia, Actual: French Wikipedia, Last-500 Accuracy: 0.848"
       ]
      },
      {
       "output_type": "stream",
       "stream": "stdout",
       "text": [
        "\n",
        "Trained: 222, Tested: 500, Prediction: Spanish Wikipedia, Actual: German Wikipedia, Last-500 Accuracy: 0.854"
       ]
      },
      {
       "output_type": "stream",
       "stream": "stdout",
       "text": [
        "\n",
        "Trained: 223, Tested: 500, Prediction: German Wikipedia, Actual: Polish Wikipedia, Last-500 Accuracy: 0.852"
       ]
      },
      {
       "output_type": "stream",
       "stream": "stdout",
       "text": [
        "\n",
        "Trained: 224, Tested: 500, Prediction: Spanish Wikipedia, Actual: Chinese Wikipedia, Last-500 Accuracy: 0.854"
       ]
      },
      {
       "output_type": "stream",
       "stream": "stdout",
       "text": [
        "\n",
        "Trained: 225, Tested: 500, Prediction: German Wikipedia, Actual: Chinese Wikipedia, Last-500 Accuracy: 0.854"
       ]
      },
      {
       "output_type": "stream",
       "stream": "stdout",
       "text": [
        "\n",
        "Trained: 226, Tested: 500, Prediction: German Wikipedia, Actual: Swedish Wikipedia, Last-500 Accuracy: 0.854"
       ]
      },
      {
       "output_type": "stream",
       "stream": "stdout",
       "text": [
        "\n",
        "Trained: 227, Tested: 500, Prediction: Portuguese Wikipedia, Actual: Spanish Wikipedia, Last-500 Accuracy: 0.856"
       ]
      },
      {
       "output_type": "stream",
       "stream": "stdout",
       "text": [
        "\n",
        "Trained: 228, Tested: 500, Prediction: Spanish Wikipedia, Actual: Portuguese Wikipedia, Last-500 Accuracy: 0.856"
       ]
      },
      {
       "output_type": "stream",
       "stream": "stdout",
       "text": [
        "\n",
        "Trained: 229, Tested: 500, Prediction: Spanish Wikipedia, Actual: Portuguese Wikipedia, Last-500 Accuracy: 0.854\n",
        "Trained: 230, Tested: 500, Prediction: Danish Wikipedia, Actual: Hungarian Wikipedia, Last-500 Accuracy: 0.852"
       ]
      },
      {
       "output_type": "stream",
       "stream": "stdout",
       "text": [
        "\n",
        "Trained: 231, Tested: 500, Prediction: Portuguese Wikipedia, Actual: Spanish Wikipedia, Last-500 Accuracy: 0.854"
       ]
      },
      {
       "output_type": "stream",
       "stream": "stdout",
       "text": [
        "\n",
        "Trained: 232, Tested: 500, Prediction: Spanish Wikipedia, Actual: Chinese Wikipedia, Last-500 Accuracy: 0.856"
       ]
      },
      {
       "output_type": "stream",
       "stream": "stdout",
       "text": [
        "\n",
        "Trained: 233, Tested: 500, Prediction: Finnish Wikipedia, Actual: German Wikipedia, Last-500 Accuracy: 0.858"
       ]
      },
      {
       "output_type": "stream",
       "stream": "stdout",
       "text": [
        "\n",
        "Trained: 234, Tested: 500, Prediction: Chinese Wikipedia, Actual: Italian Wikipedia, Last-500 Accuracy: 0.860"
       ]
      },
      {
       "output_type": "stream",
       "stream": "stdout",
       "text": [
        "\n",
        "Trained: 235, Tested: 500, Prediction: Spanish Wikipedia, Actual: Italian Wikipedia, Last-500 Accuracy: 0.860"
       ]
      },
      {
       "output_type": "stream",
       "stream": "stdout",
       "text": [
        "\n",
        "Trained: 236, Tested: 500, Prediction: Spanish Wikipedia, Actual: Portuguese Wikipedia, Last-500 Accuracy: 0.858"
       ]
      },
      {
       "output_type": "stream",
       "stream": "stdout",
       "text": [
        "\n",
        "Trained: 237, Tested: 500, Prediction: Portuguese Wikipedia, Actual: Spanish Wikipedia, Last-500 Accuracy: 0.856"
       ]
      },
      {
       "output_type": "stream",
       "stream": "stdout",
       "text": [
        "\n",
        "Trained: 238, Tested: 500, Prediction: Spanish Wikipedia, Actual: French Wikipedia, Last-500 Accuracy: 0.854"
       ]
      },
      {
       "output_type": "stream",
       "stream": "stdout",
       "text": [
        "\n",
        "Trained: 239, Tested: 500, Prediction: Spanish Wikipedia, Actual: Portuguese Wikipedia, Last-500 Accuracy: 0.854"
       ]
      },
      {
       "output_type": "stream",
       "stream": "stdout",
       "text": [
        "\n",
        "Trained: 240, Tested: 500, Prediction: Italian Wikipedia, Actual: French Wikipedia, Last-500 Accuracy: 0.852\n",
        "Trained: 241, Tested: 500, Prediction: Spanish Wikipedia, Actual: Portuguese Wikipedia, Last-500 Accuracy: 0.852"
       ]
      },
      {
       "output_type": "stream",
       "stream": "stdout",
       "text": [
        "\n",
        "Trained: 242, Tested: 500, Prediction: Finnish Wikipedia, Actual: Hungarian Wikipedia, Last-500 Accuracy: 0.850"
       ]
      },
      {
       "output_type": "stream",
       "stream": "stdout",
       "text": [
        "\n",
        "Trained: 243, Tested: 500, Prediction: Spanish Wikipedia, Actual: French Wikipedia, Last-500 Accuracy: 0.852"
       ]
      },
      {
       "output_type": "stream",
       "stream": "stdout",
       "text": [
        "\n",
        "Trained: 244, Tested: 500, Prediction: Spanish Wikipedia, Actual: German Wikipedia, Last-500 Accuracy: 0.850\n",
        "Trained: 245, Tested: 500, Prediction: French Wikipedia, Actual: Spanish Wikipedia, Last-500 Accuracy: 0.852"
       ]
      },
      {
       "output_type": "stream",
       "stream": "stdout",
       "text": [
        "\n",
        "Trained: 246, Tested: 500, Prediction: Spanish Wikipedia, Actual: Portuguese Wikipedia, Last-500 Accuracy: 0.850"
       ]
      },
      {
       "output_type": "stream",
       "stream": "stdout",
       "text": [
        "\n",
        "Trained: 247, Tested: 500, Prediction: Spanish Wikipedia, Actual: Finnish Wikipedia, Last-500 Accuracy: 0.848"
       ]
      },
      {
       "output_type": "stream",
       "stream": "stdout",
       "text": [
        "\n",
        "Trained: 248, Tested: 500, Prediction: Portuguese Wikipedia, Actual: Swedish Wikipedia, Last-500 Accuracy: 0.848"
       ]
      },
      {
       "output_type": "stream",
       "stream": "stdout",
       "text": [
        "\n",
        "Trained: 249, Tested: 500, Prediction: Portuguese Wikipedia, Actual: Dutch Wikipedia, Last-500 Accuracy: 0.854"
       ]
      },
      {
       "output_type": "stream",
       "stream": "stdout",
       "text": [
        "\n",
        "Trained: 250, Tested: 500, Prediction: Spanish Wikipedia, Actual: Portuguese Wikipedia, Last-500 Accuracy: 0.852"
       ]
      },
      {
       "output_type": "stream",
       "stream": "stdout",
       "text": [
        "\n",
        "Trained: 251, Tested: 500, Prediction: Spanish Wikipedia, Actual: Polish Wikipedia, Last-500 Accuracy: 0.852"
       ]
      },
      {
       "output_type": "stream",
       "stream": "stdout",
       "text": [
        "\n",
        "Trained: 252, Tested: 500, Prediction: Finnish Wikipedia, Actual: German Wikipedia, Last-500 Accuracy: 0.850"
       ]
      },
      {
       "output_type": "stream",
       "stream": "stdout",
       "text": [
        "\n",
        "Trained: 253, Tested: 500, Prediction: Portuguese Wikipedia, Actual: Spanish Wikipedia, Last-500 Accuracy: 0.850"
       ]
      },
      {
       "output_type": "stream",
       "stream": "stdout",
       "text": [
        "\n",
        "Trained: 254, Tested: 500, Prediction: Spanish Wikipedia, Actual: Italian Wikipedia, Last-500 Accuracy: 0.848"
       ]
      },
      {
       "output_type": "stream",
       "stream": "stdout",
       "text": [
        "\n",
        "Trained: 255, Tested: 500, Prediction: Spanish Wikipedia, Actual: French Wikipedia, Last-500 Accuracy: 0.850"
       ]
      },
      {
       "output_type": "stream",
       "stream": "stdout",
       "text": [
        "\n",
        "Trained: 256, Tested: 500, Prediction: Portuguese Wikipedia, Actual: Spanish Wikipedia, Last-500 Accuracy: 0.856"
       ]
      },
      {
       "output_type": "stream",
       "stream": "stdout",
       "text": [
        "\n",
        "Trained: 257, Tested: 500, Prediction: German Wikipedia, Actual: Dutch Wikipedia, Last-500 Accuracy: 0.856"
       ]
      },
      {
       "output_type": "stream",
       "stream": "stdout",
       "text": [
        "\n",
        "Trained: 258, Tested: 500, Prediction: Spanish Wikipedia, Actual: Korean Wikipedia, Last-500 Accuracy: 0.862"
       ]
      },
      {
       "output_type": "stream",
       "stream": "stdout",
       "text": [
        "\n",
        "Trained: 259, Tested: 500, Prediction: Spanish Wikipedia, Actual: Portuguese Wikipedia, Last-500 Accuracy: 0.860"
       ]
      },
      {
       "output_type": "stream",
       "stream": "stdout",
       "text": [
        "\n",
        "Trained: 260, Tested: 500, Prediction: Spanish Wikipedia, Actual: Dutch Wikipedia, Last-500 Accuracy: 0.858"
       ]
      },
      {
       "output_type": "stream",
       "stream": "stdout",
       "text": [
        "\n",
        "Trained: 261, Tested: 500, Prediction: Spanish Wikipedia, Actual: Chinese Wikipedia, Last-500 Accuracy: 0.856"
       ]
      },
      {
       "output_type": "stream",
       "stream": "stdout",
       "text": [
        "\n",
        "Trained: 262, Tested: 500, Prediction: Spanish Wikipedia, Actual: Italian Wikipedia, Last-500 Accuracy: 0.854"
       ]
      },
      {
       "output_type": "stream",
       "stream": "stdout",
       "text": [
        "\n",
        "Trained: 263, Tested: 500, Prediction: Spanish Wikipedia, Actual: Chinese Wikipedia, Last-500 Accuracy: 0.852"
       ]
      },
      {
       "output_type": "stream",
       "stream": "stdout",
       "text": [
        "\n",
        "Trained: 264, Tested: 500, Prediction: Italian Wikipedia, Actual: Japanese Wikipedia, Last-500 Accuracy: 0.856"
       ]
      },
      {
       "output_type": "stream",
       "stream": "stdout",
       "text": [
        "\n",
        "Trained: 265, Tested: 500, Prediction: Dutch Wikipedia, Actual: Portuguese Wikipedia, Last-500 Accuracy: 0.854\n",
        "Trained: 266, Tested: 500, Prediction: French Wikipedia, Actual: Polish Wikipedia, Last-500 Accuracy: 0.854"
       ]
      },
      {
       "output_type": "stream",
       "stream": "stdout",
       "text": [
        "\n"
       ]
      },
      {
       "ename": "KeyboardInterrupt",
       "evalue": "",
       "output_type": "pyerr",
       "traceback": [
        "\u001b[1;31m---------------------------------------------------------------------------\u001b[0m\n\u001b[1;31mKeyboardInterrupt\u001b[0m                         Traceback (most recent call last)",
        "\u001b[1;32m<ipython-input-22-a1089d2fe0b0>\u001b[0m in \u001b[0;36m<module>\u001b[1;34m()\u001b[0m\n\u001b[0;32m     78\u001b[0m \u001b[0mprint\u001b[0m\u001b[1;33m(\u001b[0m\u001b[0mvw\u001b[0m\u001b[1;33m.\u001b[0m\u001b[0mcommand\u001b[0m\u001b[1;33m)\u001b[0m\u001b[1;33m\u001b[0m\u001b[0m\n\u001b[0;32m     79\u001b[0m \u001b[1;33m\u001b[0m\u001b[0m\n\u001b[1;32m---> 80\u001b[1;33m \u001b[0mwikipedia_updates\u001b[0m\u001b[1;33m(\u001b[0m\u001b[0mvw_callback\u001b[0m\u001b[1;33m)\u001b[0m\u001b[1;33m\u001b[0m\u001b[0m\n\u001b[0m",
        "\u001b[1;32m<ipython-input-2-00367d5650c7>\u001b[0m in \u001b[0;36mwikipedia_updates\u001b[1;34m(callback)\u001b[0m\n\u001b[0;32m      6\u001b[0m     \u001b[1;32mwhile\u001b[0m \u001b[1;32mTrue\u001b[0m\u001b[1;33m:\u001b[0m\u001b[1;33m\u001b[0m\u001b[0m\n\u001b[0;32m      7\u001b[0m         \u001b[0mt\u001b[0m \u001b[1;33m=\u001b[0m \u001b[0mtime\u001b[0m\u001b[1;33m.\u001b[0m\u001b[0mtime\u001b[0m\u001b[1;33m(\u001b[0m\u001b[1;33m)\u001b[0m \u001b[1;33m*\u001b[0m \u001b[1;36m1000000\u001b[0m\u001b[1;33m\u001b[0m\u001b[0m\n\u001b[1;32m----> 8\u001b[1;33m         \u001b[0mresponse\u001b[0m \u001b[1;33m=\u001b[0m \u001b[0mget\u001b[0m\u001b[1;33m(\u001b[0m\u001b[0mxhr_endpoint\u001b[0m\u001b[1;33m,\u001b[0m \u001b[0mparams\u001b[0m\u001b[1;33m=\u001b[0m\u001b[1;33m{\u001b[0m\u001b[1;34m't'\u001b[0m\u001b[1;33m:\u001b[0m \u001b[0mt\u001b[0m\u001b[1;33m}\u001b[0m\u001b[1;33m)\u001b[0m\u001b[1;33m.\u001b[0m\u001b[0mcontent\u001b[0m\u001b[1;33m.\u001b[0m\u001b[0mdecode\u001b[0m\u001b[1;33m(\u001b[0m\u001b[1;34m'utf-8'\u001b[0m\u001b[1;33m)\u001b[0m\u001b[1;33m\u001b[0m\u001b[0m\n\u001b[0m\u001b[0;32m      9\u001b[0m \u001b[1;33m\u001b[0m\u001b[0m\n\u001b[0;32m     10\u001b[0m         \u001b[0mchunks\u001b[0m \u001b[1;33m=\u001b[0m \u001b[0mre\u001b[0m\u001b[1;33m.\u001b[0m\u001b[0msplit\u001b[0m\u001b[1;33m(\u001b[0m\u001b[1;34mu'\\ufffd[0-9]+\\ufffd'\u001b[0m\u001b[1;33m,\u001b[0m \u001b[0mresponse\u001b[0m\u001b[1;33m)\u001b[0m\u001b[1;33m\u001b[0m\u001b[0m\n",
        "\u001b[1;32m/usr/local/lib/python3.4/dist-packages/requests/api.py\u001b[0m in \u001b[0;36mget\u001b[1;34m(url, **kwargs)\u001b[0m\n\u001b[0;32m     53\u001b[0m \u001b[1;33m\u001b[0m\u001b[0m\n\u001b[0;32m     54\u001b[0m     \u001b[0mkwargs\u001b[0m\u001b[1;33m.\u001b[0m\u001b[0msetdefault\u001b[0m\u001b[1;33m(\u001b[0m\u001b[1;34m'allow_redirects'\u001b[0m\u001b[1;33m,\u001b[0m \u001b[1;32mTrue\u001b[0m\u001b[1;33m)\u001b[0m\u001b[1;33m\u001b[0m\u001b[0m\n\u001b[1;32m---> 55\u001b[1;33m     \u001b[1;32mreturn\u001b[0m \u001b[0mrequest\u001b[0m\u001b[1;33m(\u001b[0m\u001b[1;34m'get'\u001b[0m\u001b[1;33m,\u001b[0m \u001b[0murl\u001b[0m\u001b[1;33m,\u001b[0m \u001b[1;33m**\u001b[0m\u001b[0mkwargs\u001b[0m\u001b[1;33m)\u001b[0m\u001b[1;33m\u001b[0m\u001b[0m\n\u001b[0m\u001b[0;32m     56\u001b[0m \u001b[1;33m\u001b[0m\u001b[0m\n\u001b[0;32m     57\u001b[0m \u001b[1;33m\u001b[0m\u001b[0m\n",
        "\u001b[1;32m/usr/local/lib/python3.4/dist-packages/requests/api.py\u001b[0m in \u001b[0;36mrequest\u001b[1;34m(method, url, **kwargs)\u001b[0m\n\u001b[0;32m     42\u001b[0m \u001b[1;33m\u001b[0m\u001b[0m\n\u001b[0;32m     43\u001b[0m     \u001b[0msession\u001b[0m \u001b[1;33m=\u001b[0m \u001b[0msessions\u001b[0m\u001b[1;33m.\u001b[0m\u001b[0mSession\u001b[0m\u001b[1;33m(\u001b[0m\u001b[1;33m)\u001b[0m\u001b[1;33m\u001b[0m\u001b[0m\n\u001b[1;32m---> 44\u001b[1;33m     \u001b[1;32mreturn\u001b[0m \u001b[0msession\u001b[0m\u001b[1;33m.\u001b[0m\u001b[0mrequest\u001b[0m\u001b[1;33m(\u001b[0m\u001b[0mmethod\u001b[0m\u001b[1;33m=\u001b[0m\u001b[0mmethod\u001b[0m\u001b[1;33m,\u001b[0m \u001b[0murl\u001b[0m\u001b[1;33m=\u001b[0m\u001b[0murl\u001b[0m\u001b[1;33m,\u001b[0m \u001b[1;33m**\u001b[0m\u001b[0mkwargs\u001b[0m\u001b[1;33m)\u001b[0m\u001b[1;33m\u001b[0m\u001b[0m\n\u001b[0m\u001b[0;32m     45\u001b[0m \u001b[1;33m\u001b[0m\u001b[0m\n\u001b[0;32m     46\u001b[0m \u001b[1;33m\u001b[0m\u001b[0m\n",
        "\u001b[1;32m/usr/local/lib/python3.4/dist-packages/requests/sessions.py\u001b[0m in \u001b[0;36mrequest\u001b[1;34m(self, method, url, params, data, headers, cookies, files, auth, timeout, allow_redirects, proxies, hooks, stream, verify, cert)\u001b[0m\n\u001b[0;32m    454\u001b[0m             \u001b[1;34m'allow_redirects'\u001b[0m\u001b[1;33m:\u001b[0m \u001b[0mallow_redirects\u001b[0m\u001b[1;33m,\u001b[0m\u001b[1;33m\u001b[0m\u001b[0m\n\u001b[0;32m    455\u001b[0m         }\n\u001b[1;32m--> 456\u001b[1;33m         \u001b[0mresp\u001b[0m \u001b[1;33m=\u001b[0m \u001b[0mself\u001b[0m\u001b[1;33m.\u001b[0m\u001b[0msend\u001b[0m\u001b[1;33m(\u001b[0m\u001b[0mprep\u001b[0m\u001b[1;33m,\u001b[0m \u001b[1;33m**\u001b[0m\u001b[0msend_kwargs\u001b[0m\u001b[1;33m)\u001b[0m\u001b[1;33m\u001b[0m\u001b[0m\n\u001b[0m\u001b[0;32m    457\u001b[0m \u001b[1;33m\u001b[0m\u001b[0m\n\u001b[0;32m    458\u001b[0m         \u001b[1;32mreturn\u001b[0m \u001b[0mresp\u001b[0m\u001b[1;33m\u001b[0m\u001b[0m\n",
        "\u001b[1;32m/usr/local/lib/python3.4/dist-packages/requests/sessions.py\u001b[0m in \u001b[0;36msend\u001b[1;34m(self, request, **kwargs)\u001b[0m\n\u001b[0;32m    583\u001b[0m \u001b[1;33m\u001b[0m\u001b[0m\n\u001b[0;32m    584\u001b[0m         \u001b[1;31m# Resolve redirects if allowed.\u001b[0m\u001b[1;33m\u001b[0m\u001b[1;33m\u001b[0m\u001b[0m\n\u001b[1;32m--> 585\u001b[1;33m         \u001b[0mhistory\u001b[0m \u001b[1;33m=\u001b[0m \u001b[1;33m[\u001b[0m\u001b[0mresp\u001b[0m \u001b[1;32mfor\u001b[0m \u001b[0mresp\u001b[0m \u001b[1;32min\u001b[0m \u001b[0mgen\u001b[0m\u001b[1;33m]\u001b[0m \u001b[1;32mif\u001b[0m \u001b[0mallow_redirects\u001b[0m \u001b[1;32melse\u001b[0m \u001b[1;33m[\u001b[0m\u001b[1;33m]\u001b[0m\u001b[1;33m\u001b[0m\u001b[0m\n\u001b[0m\u001b[0;32m    586\u001b[0m \u001b[1;33m\u001b[0m\u001b[0m\n\u001b[0;32m    587\u001b[0m         \u001b[1;31m# Shuffle things around if there's history.\u001b[0m\u001b[1;33m\u001b[0m\u001b[1;33m\u001b[0m\u001b[0m\n",
        "\u001b[1;32m/usr/local/lib/python3.4/dist-packages/requests/sessions.py\u001b[0m in \u001b[0;36m<listcomp>\u001b[1;34m(.0)\u001b[0m\n\u001b[0;32m    583\u001b[0m \u001b[1;33m\u001b[0m\u001b[0m\n\u001b[0;32m    584\u001b[0m         \u001b[1;31m# Resolve redirects if allowed.\u001b[0m\u001b[1;33m\u001b[0m\u001b[1;33m\u001b[0m\u001b[0m\n\u001b[1;32m--> 585\u001b[1;33m         \u001b[0mhistory\u001b[0m \u001b[1;33m=\u001b[0m \u001b[1;33m[\u001b[0m\u001b[0mresp\u001b[0m \u001b[1;32mfor\u001b[0m \u001b[0mresp\u001b[0m \u001b[1;32min\u001b[0m \u001b[0mgen\u001b[0m\u001b[1;33m]\u001b[0m \u001b[1;32mif\u001b[0m \u001b[0mallow_redirects\u001b[0m \u001b[1;32melse\u001b[0m \u001b[1;33m[\u001b[0m\u001b[1;33m]\u001b[0m\u001b[1;33m\u001b[0m\u001b[0m\n\u001b[0m\u001b[0;32m    586\u001b[0m \u001b[1;33m\u001b[0m\u001b[0m\n\u001b[0;32m    587\u001b[0m         \u001b[1;31m# Shuffle things around if there's history.\u001b[0m\u001b[1;33m\u001b[0m\u001b[1;33m\u001b[0m\u001b[0m\n",
        "\u001b[1;32m/usr/local/lib/python3.4/dist-packages/requests/sessions.py\u001b[0m in \u001b[0;36mresolve_redirects\u001b[1;34m(self, resp, req, stream, timeout, verify, cert, proxies)\u001b[0m\n\u001b[0;32m    177\u001b[0m                 \u001b[0mcert\u001b[0m\u001b[1;33m=\u001b[0m\u001b[0mcert\u001b[0m\u001b[1;33m,\u001b[0m\u001b[1;33m\u001b[0m\u001b[0m\n\u001b[0;32m    178\u001b[0m                 \u001b[0mproxies\u001b[0m\u001b[1;33m=\u001b[0m\u001b[0mproxies\u001b[0m\u001b[1;33m,\u001b[0m\u001b[1;33m\u001b[0m\u001b[0m\n\u001b[1;32m--> 179\u001b[1;33m                 \u001b[0mallow_redirects\u001b[0m\u001b[1;33m=\u001b[0m\u001b[1;32mFalse\u001b[0m\u001b[1;33m,\u001b[0m\u001b[1;33m\u001b[0m\u001b[0m\n\u001b[0m\u001b[0;32m    180\u001b[0m             )\n\u001b[0;32m    181\u001b[0m \u001b[1;33m\u001b[0m\u001b[0m\n",
        "\u001b[1;32m/usr/local/lib/python3.4/dist-packages/requests/sessions.py\u001b[0m in \u001b[0;36msend\u001b[1;34m(self, request, **kwargs)\u001b[0m\n\u001b[0;32m    557\u001b[0m \u001b[1;33m\u001b[0m\u001b[0m\n\u001b[0;32m    558\u001b[0m         \u001b[1;31m# Send the request\u001b[0m\u001b[1;33m\u001b[0m\u001b[1;33m\u001b[0m\u001b[0m\n\u001b[1;32m--> 559\u001b[1;33m         \u001b[0mr\u001b[0m \u001b[1;33m=\u001b[0m \u001b[0madapter\u001b[0m\u001b[1;33m.\u001b[0m\u001b[0msend\u001b[0m\u001b[1;33m(\u001b[0m\u001b[0mrequest\u001b[0m\u001b[1;33m,\u001b[0m \u001b[1;33m**\u001b[0m\u001b[0mkwargs\u001b[0m\u001b[1;33m)\u001b[0m\u001b[1;33m\u001b[0m\u001b[0m\n\u001b[0m\u001b[0;32m    560\u001b[0m \u001b[1;33m\u001b[0m\u001b[0m\n\u001b[0;32m    561\u001b[0m         \u001b[1;31m# Total elapsed time of the request (approximately)\u001b[0m\u001b[1;33m\u001b[0m\u001b[1;33m\u001b[0m\u001b[0m\n",
        "\u001b[1;32m/usr/local/lib/python3.4/dist-packages/requests/adapters.py\u001b[0m in \u001b[0;36msend\u001b[1;34m(self, request, stream, timeout, verify, cert, proxies)\u001b[0m\n\u001b[0;32m    325\u001b[0m                     \u001b[0mdecode_content\u001b[0m\u001b[1;33m=\u001b[0m\u001b[1;32mFalse\u001b[0m\u001b[1;33m,\u001b[0m\u001b[1;33m\u001b[0m\u001b[0m\n\u001b[0;32m    326\u001b[0m                     \u001b[0mretries\u001b[0m\u001b[1;33m=\u001b[0m\u001b[0mself\u001b[0m\u001b[1;33m.\u001b[0m\u001b[0mmax_retries\u001b[0m\u001b[1;33m,\u001b[0m\u001b[1;33m\u001b[0m\u001b[0m\n\u001b[1;32m--> 327\u001b[1;33m                     \u001b[0mtimeout\u001b[0m\u001b[1;33m=\u001b[0m\u001b[0mtimeout\u001b[0m\u001b[1;33m\u001b[0m\u001b[0m\n\u001b[0m\u001b[0;32m    328\u001b[0m                 )\n\u001b[0;32m    329\u001b[0m \u001b[1;33m\u001b[0m\u001b[0m\n",
        "\u001b[1;32m/usr/local/lib/python3.4/dist-packages/requests/packages/urllib3/connectionpool.py\u001b[0m in \u001b[0;36murlopen\u001b[1;34m(self, method, url, body, headers, retries, redirect, assert_same_host, timeout, pool_timeout, release_conn, **response_kw)\u001b[0m\n\u001b[0;32m    491\u001b[0m             httplib_response = self._make_request(conn, method, url,\n\u001b[0;32m    492\u001b[0m                                                   \u001b[0mtimeout\u001b[0m\u001b[1;33m=\u001b[0m\u001b[0mtimeout\u001b[0m\u001b[1;33m,\u001b[0m\u001b[1;33m\u001b[0m\u001b[0m\n\u001b[1;32m--> 493\u001b[1;33m                                                   body=body, headers=headers)\n\u001b[0m\u001b[0;32m    494\u001b[0m \u001b[1;33m\u001b[0m\u001b[0m\n\u001b[0;32m    495\u001b[0m             \u001b[1;31m# If we're going to release the connection in ``finally:``, then\u001b[0m\u001b[1;33m\u001b[0m\u001b[1;33m\u001b[0m\u001b[0m\n",
        "\u001b[1;32m/usr/local/lib/python3.4/dist-packages/requests/packages/urllib3/connectionpool.py\u001b[0m in \u001b[0;36m_make_request\u001b[1;34m(self, conn, method, url, timeout, **httplib_request_kw)\u001b[0m\n\u001b[0;32m    348\u001b[0m         log.debug(\"\\\"%s %s %s\\\" %s %s\" % (method, url, http_version,\n\u001b[0;32m    349\u001b[0m                                           \u001b[0mhttplib_response\u001b[0m\u001b[1;33m.\u001b[0m\u001b[0mstatus\u001b[0m\u001b[1;33m,\u001b[0m\u001b[1;33m\u001b[0m\u001b[0m\n\u001b[1;32m--> 350\u001b[1;33m                                           httplib_response.length))\n\u001b[0m\u001b[0;32m    351\u001b[0m         \u001b[1;32mreturn\u001b[0m \u001b[0mhttplib_response\u001b[0m\u001b[1;33m\u001b[0m\u001b[0m\n\u001b[0;32m    352\u001b[0m \u001b[1;33m\u001b[0m\u001b[0m\n",
        "\u001b[1;31mKeyboardInterrupt\u001b[0m: "
       ]
      }
     ],
     "prompt_number": 22
    },
    {
     "cell_type": "code",
     "collapsed": false,
     "input": [
      "vw.close()"
     ],
     "language": "python",
     "metadata": {},
     "outputs": [],
     "prompt_number": 23
    },
    {
     "cell_type": "markdown",
     "metadata": {},
     "source": [
      "## Visualizing language similarity\n",
      "\n",
      "When the model mispredicts, which wikis is it most likely to get confused?\n",
      "\n",
      "This could give us some measure of the similarity of those languages -- in the limited domain of \"Wikipedia pages\" at least.\n",
      "\n",
      "If we visualize these relationships, do they roughly match what we'd expect from a non-expert idea of language similarity? Or do they reflect noise in the model -- artefacts of VW's feature hashing process?\n",
      "\n",
      "First do some preprocessing to get a dense confusion matrix, sorted so more popular wikis come first."
     ]
    },
    {
     "cell_type": "code",
     "collapsed": false,
     "input": [
      "labels = np.array([s.replace(' Wikipedia', '') for s in labels])\n",
      "confusion = np.zeros((len(labels), len(labels)))\n",
      "for (x, y) in cm:\n",
      "    confusion[x,y] += 1\n",
      "samples_per_wiki = np.asarray(confusion.sum(axis=1))\n",
      "sorted_idxs = np.argsort(samples_per_wiki)[::-1]\n",
      "sorted_confusion = confusion[sorted_idxs,:][:,sorted_idxs]\n",
      "sorted_confusion.shape"
     ],
     "language": "python",
     "metadata": {},
     "outputs": [
      {
       "metadata": {},
       "output_type": "pyout",
       "prompt_number": 24,
       "text": [
        "(28, 28)"
       ]
      }
     ],
     "prompt_number": 24
    },
    {
     "cell_type": "markdown",
     "metadata": {},
     "source": [
      "Visualize the confusion matrix in Matplotlib.\n",
      "\n",
      "The left edge represents real pages' languages, the bottom edge shows what the model identified them as, at least in its last `k` tests. So, shading along the diagonal represents correct predictions, and shading off the diagonal represents errors.\n",
      "\n",
      "The values are absolute counts, so this shows the relative popularity of each wiki as well as the error distribution."
     ]
    },
    {
     "cell_type": "code",
     "collapsed": false,
     "input": [
      "fig, ax = plt.subplots(1)\n",
      "\n",
      "p = ax.pcolormesh(sorted_confusion, cmap='Reds')\n",
      "fig.colorbar(p)\n",
      "ax.set_yticks(np.arange(sorted_confusion.shape[0])+0.5, minor=False)\n",
      "ax.set_xticks(np.arange(sorted_confusion.shape[1])+0.5, minor=False)\n",
      "ax.set_xticklabels(labels[sorted_idxs], minor=False) \n",
      "ax.set_yticklabels(labels[sorted_idxs], minor=False)\n",
      "plt.xticks(rotation=90)\n",
      "plt.show()"
     ],
     "language": "python",
     "metadata": {},
     "outputs": [
      {
       "metadata": {},
       "output_type": "display_data",
       "png": "[encoded data removed]",
       "text": [
        "<matplotlib.figure.Figure at 0x7fe5075fb2b0>"
       ]
      }
     ],
     "prompt_number": 25
    },
    {
     "cell_type": "markdown",
     "metadata": {},
     "source": [
      "Alternatively, we can turn it into a labelled list of edge weights, write it out to a CSV, and render it in D3.\n",
      "\n",
      "For this visualization, let's normalize by the number of actual occurrences of each wiki in the test set, so the weights indicate the proportion of the samples for each wiki `source` that were mistakenly predicted for `target` instead. Also we'll need to set the diagonal to 0 to remove loops from the visualization.\n",
      "\n",
      "**Mouseover the nodes in the graph to see the wiki name. Drag the nodes to rearrange the graph.**"
     ]
    },
    {
     "cell_type": "code",
     "collapsed": false,
     "input": [
      "normalized = sorted_confusion / sorted_confusion.sum(axis=1)\n",
      "np.fill_diagonal(normalized, 0)\n",
      "edge_weights = pd.DataFrame(data=normalized, index=labels[sorted_idxs], columns=labels[sorted_idxs]).stack()\n",
      "edge_weights.index.names = ('source', 'target')\n",
      "edge_weights.name = 'value'\n",
      "edge_weights.iloc[edge_weights.nonzero()].to_csv('cm.csv', header=True, index=True)\n",
      "from IPython.lib.display import IFrame\n",
      "IFrame('graph.html', 650, 650)"
     ],
     "language": "python",
     "metadata": {},
     "outputs": [
      {
       "html": [
        "\n",
        "        <iframe\n",
        "            width=\"650\"\n",
        "            height=650\"\n",
        "            src=\"graph.html\"\n",
        "            frameborder=\"0\"\n",
        "            allowfullscreen\n",
        "        ></iframe>\n",
        "        "
       ],
       "metadata": {},
       "output_type": "pyout",
       "prompt_number": 26,
       "text": [
        "<IPython.lib.display.IFrame at 0x7fe507544278>"
       ]
      }
     ],
     "prompt_number": 26
    }
   ],
   "metadata": {}
  }
 ]
}